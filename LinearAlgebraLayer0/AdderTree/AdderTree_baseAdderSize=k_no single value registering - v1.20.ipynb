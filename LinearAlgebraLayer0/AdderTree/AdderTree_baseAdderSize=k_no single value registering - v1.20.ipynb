{
 "cells": [
  {
   "cell_type": "code",
   "execution_count": 1,
   "metadata": {
    "collapsed": true
   },
   "outputs": [],
   "source": [
    "#uses Registered#Nto1Adder_NIR\n",
    "#registerings implemented based on the assumption that delay of all Registered#Nto1Adder_NIR is 1 clk"
   ]
  },
  {
   "cell_type": "code",
   "execution_count": 2,
   "metadata": {
    "collapsed": false
   },
   "outputs": [],
   "source": [
    "import sys\n",
    "import math\n",
    "import io"
   ]
  },
  {
   "cell_type": "code",
   "execution_count": 3,
   "metadata": {
    "collapsed": false
   },
   "outputs": [
    {
     "name": "stdout",
     "output_type": "stream",
     "text": [
      "Enter N: 14\n"
     ]
    }
   ],
   "source": [
    "#N>=2\n",
    "N = input('Enter N: ')"
   ]
  },
  {
   "cell_type": "code",
   "execution_count": 4,
   "metadata": {
    "collapsed": false
   },
   "outputs": [
    {
     "name": "stdout",
     "output_type": "stream",
     "text": [
      "Enter IN_WIDTH default value (empty for 10): \n"
     ]
    }
   ],
   "source": [
    "#IN_WIDTH>=1\n",
    "IN_WIDTH = input('Enter IN_WIDTH default value (empty for 10): ')"
   ]
  },
  {
   "cell_type": "code",
   "execution_count": 5,
   "metadata": {
    "collapsed": false
   },
   "outputs": [
    {
     "name": "stdout",
     "output_type": "stream",
     "text": [
      "Enter maximum size allowed for adders(empty for 2): 4\n"
     ]
    }
   ],
   "source": [
    "#AdderSize>=2\n",
    "AdderSize = input('Enter maximum size allowed for base adders (empty for 2): ')"
   ]
  },
  {
   "cell_type": "code",
   "execution_count": 6,
   "metadata": {
    "collapsed": false
   },
   "outputs": [],
   "source": [
    "N = int(N)\n",
    "if N<2:\n",
    "    N=2\n",
    "if not IN_WIDTH:\n",
    "    IN_WIDTH=10\n",
    "else:\n",
    "    IN_WIDTH = int(IN_WIDTH)\n",
    "    if IN_WIDTH<1:\n",
    "        IN_WIDTH=1\n",
    "if not AdderSize:\n",
    "    AdderSize=2\n",
    "else:\n",
    "    AdderSize = int(AdderSize)\n",
    "    if AdderSize<2:\n",
    "        AdderSize=2"
   ]
  },
  {
   "cell_type": "code",
   "execution_count": 7,
   "metadata": {
    "collapsed": true
   },
   "outputs": [],
   "source": [
    "__Print_To_File = 0\n",
    "\n",
    "if __Print_To_File<=0:\n",
    "    of=sys.stdout\n",
    "else:\n",
    "    of=open(\"./AdderTree_{}_A{}.v\".format(N, AdderSize), 'w+')"
   ]
  },
  {
   "cell_type": "code",
   "execution_count": 8,
   "metadata": {
    "collapsed": false
   },
   "outputs": [
    {
     "name": "stdout",
     "output_type": "stream",
     "text": [
      "`timescale 1ns / 1ps\n",
      "\n",
      "module AdderTree_14_4\n",
      "#(\n",
      "parameter IN_WIDTH = 10\n",
      ")(\n",
      "input clk, reset, enable,\n",
      "input inReady,\n",
      "input signed [IN_WIDTH-1:0] A0, A1, A2, A3, A4, A5, A6, A7, A8, A9, A10, A11, A12, A13, \n",
      "output outReady,\n",
      "output signed [IN_WIDTH+3:0] out,\n",
      "output earlyOutReady\n",
      ");\n",
      "\n"
     ]
    }
   ],
   "source": [
    "print(\"`timescale 1ns / 1ps\\n\", file=of)\n",
    "print(\"module AdderTree_{}_A{}\".format(N, AdderSize), file=of)\n",
    "print(\"#(\", file=of)\n",
    "print(\"parameter IN_WIDTH = {}\".format(IN_WIDTH), file=of)\n",
    "print(\")(\", file=of)\n",
    "print(\"input clk, reset, enable,\", file=of)\n",
    "print(\"input inReady,\", file=of)\n",
    "print(\"input signed [IN_WIDTH-1:0] \", end='', file=of)\n",
    "for i in range(N):\n",
    "    print(\"A{}, \".format(i), end='', file=of)\n",
    "print(file=of)\n",
    "print(\"output outReady,\", file=of)\n",
    "lgn=math.ceil(math.log(N,2))\n",
    "al=-1+lgn\n",
    "if al==0:\n",
    "    print(\"output signed [IN_WIDTH:0] out,\", file=of)\n",
    "else:\n",
    "    print(\"output signed [IN_WIDTH+{}:0] out,\".format(al), file=of)\n",
    "print(\"output earlyOutReady\", file=of)\n",
    "print(\");\\n\", file=of)"
   ]
  },
  {
   "cell_type": "code",
   "execution_count": 9,
   "metadata": {
    "collapsed": false
   },
   "outputs": [],
   "source": [
    "AIBuf=io.StringIO()\n",
    "\n",
    "level=0\n",
    "\n",
    "nextElememtNo=N #remained\n",
    "sizeList=[]\n",
    "for i in range(N):\n",
    "    sizeList.append(1)\n",
    "\n",
    "RootList=[]\n",
    "for i in range(N):\n",
    "    RootList.append(i)\n",
    "AdditionalRegList=[]\n",
    "for i in range(N):\n",
    "    AdditionalRegList.append(0)\n",
    "\n",
    "i=0\n",
    "new = N\n",
    "\n",
    "while 1:\n",
    "    #print(\"StartNextElememtNo = {}\".format(nextElememtNo))\n",
    "    if nextElememtNo==1:\n",
    "        break\n",
    "    if nextElememtNo<=AdderSize:\n",
    "        lastLevel=True\n",
    "    else:\n",
    "        lastLevel=False        \n",
    "    currentElememtNo = nextElememtNo\n",
    "    nextElememtNo=0\n",
    "    ORimp=False\n",
    "    while currentElememtNo>0:\n",
    "        if currentElememtNo >= AdderSize:\n",
    "            CurrentAdderSize = AdderSize\n",
    "            currentElememtNo -= AdderSize\n",
    "        else:\n",
    "            if not lastLevel:\n",
    "                CurrentAdderSize = 1\n",
    "                currentElememtNo -= 1\n",
    "            else:\n",
    "                CurrentAdderSize = currentElememtNo\n",
    "                currentElememtNo = 0\n",
    "        nextElememtNo=nextElememtNo+1\n",
    "        #print(\"nextElememtNo = {}\".format(nextElememtNo))\n",
    "        outSize=0\n",
    "        for k in range (i, i+CurrentAdderSize):\n",
    "            outSize+=sizeList[k]\n",
    "        sizeList.append(outSize)\n",
    "        if CurrentAdderSize==1: #just reg\n",
    "            root=RootList[i]\n",
    "            if root != -1:\n",
    "                RootList.append(i)\n",
    "                #print(root)\n",
    "                while root>=N:\n",
    "                    root=RootList[root]\n",
    "                    #print(root)\n",
    "                AdditionalRegList[root]+=1\n",
    "            else:\n",
    "                RootList.append(-1)\n",
    "            i+=1\n",
    "        else: #Generate a AdderSize Adder (maybe less size for last stage)\n",
    "            RootList.append(-1)\n",
    "            if not lastLevel:\n",
    "                if outSize==2: #outSize>=2\n",
    "                    AIBuf.write(\"wire signed [IN_WIDTH:0] M{};\\n\".format(new))\n",
    "                else:\n",
    "                    AIBuf.write(\"wire signed [IN_WIDTH+{}:0] M{};\\n\".format(math.ceil(math.log(outSize,2))-1, new))\n",
    "            inSizeL = math.ceil(math.log(sizeList[i],2))\n",
    "            #print(\"inSize = {}\".format(inSize))\n",
    "            rE = i+CurrentAdderSize\n",
    "            eSizeList=[]\n",
    "            finalRootList=[]\n",
    "            for k in range (i, rE):\n",
    "                curSizeL=math.ceil(math.log(sizeList[k],2))\n",
    "                eSizeL=inSizeL-curSizeL\n",
    "                eSizeList.append(eSizeL)\n",
    "                #print(\"esize = {}\".format(eSizeL))\n",
    "                root=RootList[k]\n",
    "                if root != -1:\n",
    "                    while root>=N:\n",
    "                        root=RootList[root]\n",
    "                else:\n",
    "                    root=k\n",
    "                finalRootList.append(root)\n",
    "                if eSizeL!=0:\n",
    "                    AIBuf.write(\"wire signed [2*IN_WIDTH\")\n",
    "                    if inSizeL!=1:\n",
    "                         AIBuf.write(\"+{}\".format(inSizeL-1, k))\n",
    "                    if(root<N):\n",
    "                        AIBuf.write(\":0] A{}e = \".format(root))\n",
    "                    else:\n",
    "                        AIBuf.write(\":0] M{}e = \".format(root))\n",
    "                    AIBuf.write(\"{{\")\n",
    "                    AIBuf.write(\"{}\".format(eSizeL))\n",
    "                    AIBuf.write(\"{\")\n",
    "                    if(root<N):\n",
    "                        AIBuf.write(\"A{}\".format(root))\n",
    "                    else:\n",
    "                        AIBuf.write(\"M{}\".format(root))\n",
    "                    AIBuf.write(\"[2*IN_WIDTH\".format(k))\n",
    "                    if curSizeL==0:\n",
    "                        AIBuf.write(\"-1\")\n",
    "                    elif curSizeL>1:\n",
    "                        AIBuf.write(\"+{}\".format(curSizeL-1))\n",
    "                    AIBuf.write(\"]}},\")\n",
    "                    if(root<N):\n",
    "                        AIBuf.write(\"A{}\".format(root))\n",
    "                    else:\n",
    "                        AIBuf.write(\"M{}\".format(root))\n",
    "                    AIBuf.write(\"};\\n\")\n",
    "            AIBuf.write(\"Registered{}to1Adder_NIR #(.IN_WIDTH(IN_WIDTH\".format(CurrentAdderSize))\n",
    "            curSizeL=math.ceil(math.log(sizeList[i],2))\n",
    "            if inSizeL>0:\n",
    "                AIBuf.write(\"+{}\".format(inSizeL))\n",
    "            AIBuf.write(\"))\\nAdd{}(\\nclk, reset, enable, \\n\".format(new))\n",
    "            if level==0:\n",
    "                AIBuf.write(\"inReady,\\n\")\n",
    "            else:\n",
    "                AIBuf.write(\"OR[{}],\\n\".format(level-1))\n",
    "            for k in range (i, rE):\n",
    "                if(finalRootList[k-i]<N):\n",
    "                    AIBuf.write(\"A{}\".format(finalRootList[k-i]))\n",
    "                else:\n",
    "                    AIBuf.write(\"M{}\".format(finalRootList[k-i]))\n",
    "                if(eSizeList[k-i]!=0):\n",
    "                    AIBuf.write(\"e\");\n",
    "                AIBuf.write(\", \")\n",
    "            AIBuf.write(\"\\n\")\n",
    "            if lastLevel:\n",
    "                AIBuf.write(\"outReady,\\n\")\n",
    "            else:\n",
    "                if ORimp==False:\n",
    "                    AIBuf.write(\"OR[{}],\\n\".format(level))\n",
    "                    ORimp=True\n",
    "                else:\n",
    "                    AIBuf.write(\"ORa{}, //not used\\n\".format(new))\n",
    "            if lastLevel:\n",
    "                AIBuf.write(\"out,\\n\".format(new))\n",
    "            else:\n",
    "                AIBuf.write(\"M{},\\n\".format(new))\n",
    "            if lastLevel:\n",
    "                AIBuf.write(\"earlyOutReady);\\n\\n\")        \n",
    "            else :\n",
    "                AIBuf.write(\"aeor{}); //not used\\n\\n\".format(new))\n",
    "            i+=CurrentAdderSize\n",
    "        new+=1\n",
    "    level+=1"
   ]
  },
  {
   "cell_type": "code",
   "execution_count": 10,
   "metadata": {
    "collapsed": false
   },
   "outputs": [
    {
     "name": "stdout",
     "output_type": "stream",
     "text": [
      "[0, 1, 2, 3, 4, 5, 6, 7, 8, 9, 10, 11, 12, 13, -1, -1, -1, 12, 13, -1, 18, -1]\n",
      "[0, 0, 0, 0, 0, 0, 0, 0, 0, 0, 0, 0, 1, 2]\n"
     ]
    }
   ],
   "source": [
    "print(RootList)\n",
    "print(AdditionalRegList)"
   ]
  },
  {
   "cell_type": "code",
   "execution_count": 11,
   "metadata": {
    "collapsed": false
   },
   "outputs": [
    {
     "name": "stdout",
     "output_type": "stream",
     "text": [
      "wire [0:1] OR;\n",
      "\n",
      "wire signed [IN_WIDTH+1:0] M14;\n",
      "Registered4to1Adder_NIR #(.IN_WIDTH(IN_WIDTH))\n",
      "Add14(\n",
      "clk, reset, enable, \n",
      "inReady,\n",
      "A0, A1, A2, A3, \n",
      "OR[0],\n",
      "M14,\n",
      "aeor14); //not used\n",
      "\n",
      "wire signed [IN_WIDTH+1:0] M15;\n",
      "Registered4to1Adder_NIR #(.IN_WIDTH(IN_WIDTH))\n",
      "Add15(\n",
      "clk, reset, enable, \n",
      "inReady,\n",
      "A4, A5, A6, A7, \n",
      "ORa15, //not used\n",
      "M15,\n",
      "aeor15); //not used\n",
      "\n",
      "wire signed [IN_WIDTH+1:0] M16;\n",
      "Registered4to1Adder_NIR #(.IN_WIDTH(IN_WIDTH))\n",
      "Add16(\n",
      "clk, reset, enable, \n",
      "inReady,\n",
      "A8, A9, A10, A11, \n",
      "ORa16, //not used\n",
      "M16,\n",
      "aeor16); //not used\n",
      "\n",
      "wire signed [IN_WIDTH+3:0] M19;\n",
      "wire signed [2*IN_WIDTH+1:0] A12e = {{2{A12[2*IN_WIDTH-1]}},A12};\n",
      "Registered4to1Adder_NIR #(.IN_WIDTH(IN_WIDTH+2))\n",
      "Add19(\n",
      "clk, reset, enable, \n",
      "OR[0],\n",
      "M14, M15, M16, A12e, \n",
      "OR[1],\n",
      "M19,\n",
      "aeor19); //not used\n",
      "\n",
      "wire signed [2*IN_WIDTH+3:0] A13e = {{4{A13[2*IN_WIDTH-1]}},A13};\n",
      "Registered2to1Adder_NIR #(.IN_WIDTH(IN_WIDTH+4))\n",
      "Add21(\n",
      "clk, reset, enable, \n",
      "OR[1],\n",
      "M19, A13e, \n",
      "outReady,\n",
      "out,\n",
      "earlyOutReady);\n",
      "\n",
      "endmodule\n"
     ]
    }
   ],
   "source": [
    "if level>1:\n",
    "    print(\"wire [0:{}] OR;\\n\".format(level-2), file=of)\n",
    "    \n",
    "print(AIBuf.getvalue(), end='',file=of)\n",
    "\n",
    "print(\"endmodule\", file=of)"
   ]
  },
  {
   "cell_type": "code",
   "execution_count": 12,
   "metadata": {
    "collapsed": true
   },
   "outputs": [],
   "source": [
    "if __Print_To_File>0:\n",
    "    of.close()"
   ]
  }
 ],
 "metadata": {
  "kernelspec": {
   "display_name": "Python 3",
   "language": "python",
   "name": "python3"
  },
  "language_info": {
   "codemirror_mode": {
    "name": "ipython",
    "version": 3
   },
   "file_extension": ".py",
   "mimetype": "text/x-python",
   "name": "python",
   "nbconvert_exporter": "python",
   "pygments_lexer": "ipython3",
   "version": "3.5.1"
  }
 },
 "nbformat": 4,
 "nbformat_minor": 0
}
