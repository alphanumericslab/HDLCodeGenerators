{
 "cells": [
  {
   "cell_type": "code",
   "execution_count": 16,
   "metadata": {
    "collapsed": false
   },
   "outputs": [],
   "source": [
    "import sys\n",
    "import math"
   ]
  },
  {
   "cell_type": "code",
   "execution_count": 17,
   "metadata": {
    "collapsed": false
   },
   "outputs": [
    {
     "name": "stdout",
     "output_type": "stream",
     "text": [
      "Enter N: 3\n"
     ]
    }
   ],
   "source": [
    "#N>=2\n",
    "N = input('Enter N: ')"
   ]
  },
  {
   "cell_type": "code",
   "execution_count": 18,
   "metadata": {
    "collapsed": false
   },
   "outputs": [
    {
     "name": "stdout",
     "output_type": "stream",
     "text": [
      "Enable Input Registers? (empty or 0 to disable, 1 to enable): \n"
     ]
    }
   ],
   "source": [
    "Enable_Input_Regs = input('Enable Input Registers? (empty or 0 to disable, 1 to enable): ')"
   ]
  },
  {
   "cell_type": "code",
   "execution_count": 19,
   "metadata": {
    "collapsed": false
   },
   "outputs": [
    {
     "name": "stdout",
     "output_type": "stream",
     "text": [
      "Enter IN_WIDTH default value (empty for 10): \n"
     ]
    }
   ],
   "source": [
    "#IN_WIDTH>=1\n",
    "IN_WIDTH = input('Enter IN_WIDTH default value (empty for 10): ')"
   ]
  },
  {
   "cell_type": "code",
   "execution_count": 20,
   "metadata": {
    "collapsed": false
   },
   "outputs": [],
   "source": [
    "N = int(N)\n",
    "if N<2:\n",
    "    N=2\n",
    "\n",
    "if not Enable_Input_Regs:\n",
    "    Enable_Input_Regs=0\n",
    "else:\n",
    "    Enable_Input_Regs = int(Enable_Input_Regs)\n",
    "    \n",
    "if not IN_WIDTH:\n",
    "    IN_WIDTH=10\n",
    "else:\n",
    "    IN_WIDTH = int(IN_WIDTH)\n",
    "    if IN_WIDTH<1:\n",
    "        IN_WIDTH=1"
   ]
  },
  {
   "cell_type": "code",
   "execution_count": 21,
   "metadata": {
    "collapsed": true
   },
   "outputs": [],
   "source": [
    "ModuleName=\"Registered{}to1Adder_\".format(N)\n",
    "if Enable_Input_Regs<=0:\n",
    "    ModuleName+=\"N\"\n",
    "ModuleName+=\"IR\"\n"
   ]
  },
  {
   "cell_type": "code",
   "execution_count": 22,
   "metadata": {
    "collapsed": true
   },
   "outputs": [],
   "source": [
    "__Print_To_File = 0\n",
    "\n",
    "if __Print_To_File<=0:\n",
    "    of=sys.stdout\n",
    "else:\n",
    "    of=open(\"./\"+ModuleName+\".v\", 'w+')"
   ]
  },
  {
   "cell_type": "code",
   "execution_count": 23,
   "metadata": {
    "collapsed": false
   },
   "outputs": [
    {
     "name": "stdout",
     "output_type": "stream",
     "text": [
      "`timescale 1ns / 1ps\n",
      "\n",
      "module Registered3to1Adder_NIR\n",
      "#(\n",
      "parameter IN_WIDTH = 10\n",
      ")(\n",
      "input clk, reset, enable,\n",
      "input inReady,\n",
      "input signed [IN_WIDTH-1:0] I0, I1, I2, \n",
      "output reg outReady = 0,\n",
      "output signed [IN_WIDTH+1:0] out,\n",
      "output earlyOutReady\n",
      ");\n",
      "\n"
     ]
    }
   ],
   "source": [
    "print(\"`timescale 1ns / 1ps\\n\", file=of)\n",
    "print(\"module \"+ModuleName, file=of)\n",
    "print(\"#(\", file=of)\n",
    "print(\"parameter IN_WIDTH = {}\".format(IN_WIDTH), file=of)\n",
    "print(\")(\", file=of)\n",
    "print(\"input clk, reset, enable,\", file=of)\n",
    "print(\"input inReady,\", file=of)\n",
    "print(\"input signed [IN_WIDTH-1:0] \", end='', file=of)\n",
    "for i in range(N):\n",
    "    print(\"I{}, \".format(i), end='', file=of)\n",
    "print(file=of)\n",
    "print(\"output reg outReady = 0,\", file=of)\n",
    "lgn=math.ceil(math.log(N,2))\n",
    "al=-1+lgn\n",
    "if al==0:\n",
    "    print(\"output reg signed [IN_WIDTH:0] out,\", file=of)\n",
    "else:\n",
    "    print(\"output reg signed [IN_WIDTH+{}:0] out,\".format(al), file=of)\n",
    "print(\"output \", end='', file=of)\n",
    "if Enable_Input_Regs>0:\n",
    "    print(\"reg \", end='', file=of)\n",
    "print(\"earlyOutReady\", end='', file=of)\n",
    "if Enable_Input_Regs>0:\n",
    "    print(\" = 0\", file=of)\n",
    "else:\n",
    "    print(file=of)\n",
    "print(\");\\n\", file=of)"
   ]
  },
  {
   "cell_type": "code",
   "execution_count": 24,
   "metadata": {
    "collapsed": false
   },
   "outputs": [],
   "source": [
    "if Enable_Input_Regs>0:\n",
    "    print(\"reg signed [IN_WIDTH-1:0] \", end='', file=of)\n",
    "    for i in range(N-1):\n",
    "        print(\"I{}R, \".format(i), end='', file=of)\n",
    "    print(\"I{}R;\".format(N-1), file=of)"
   ]
  },
  {
   "cell_type": "code",
   "execution_count": 25,
   "metadata": {
    "collapsed": false
   },
   "outputs": [
    {
     "name": "stdout",
     "output_type": "stream",
     "text": [
      "always @(posedge clk) begin\n",
      "\tif(reset) begin\n",
      "\t\toutReady <= 0;\n",
      "\tend\n",
      "\telse if(enable) begin\n",
      "\t\toutReady <= inReady;\n",
      "\t\tif(inReady) begin\n",
      "\t\t\tout <= I0+I1+I3;\n",
      "\t\tend\n",
      "\tend\n",
      "end\n",
      "\n"
     ]
    }
   ],
   "source": [
    "print(\"always @(posedge clk) begin\", file=of)\n",
    "print(\"\\tif(reset) begin\", file=of)\n",
    "if Enable_Input_Regs>0:\n",
    "    print(\"\\t\\tearlyOutReady <= 0;\", file=of)\n",
    "print(\"\\t\\toutReady <= 0;\", file=of)\n",
    "print(\"\\tend\", file=of)\n",
    "print(\"\\telse if(enable) begin\", file=of)\n",
    "if Enable_Input_Regs>0:\n",
    "    print(\"\\t\\tearlyOutReady <= inReady;\", file=of)\n",
    "    print(\"\\t\\toutReady <= earlyOutReady;\", file=of)\n",
    "    print(\"\\t\\tif(inReady) begin\", file=of)\n",
    "    for i in range(N):\n",
    "        print(\"\\t\\t\\tI{}R <= I{};\".format(i, i), file=of)\n",
    "    print(\"\\t\\tend\", file=of)\n",
    "else:\n",
    "    print(\"\\t\\toutReady <= inReady;\", file=of)\n",
    "if Enable_Input_Regs>0:\n",
    "    print(\"\\t\\tif(earlyOutReady) begin\", file=of)\n",
    "else:\n",
    "    print(\"\\t\\tif(inReady) begin\", file=of)\n",
    "print(\"\\t\\t\\tout <= \", end='', file=of)\n",
    "for i in range(N-1):\n",
    "    print(\"I{}\".format(i), end='', file=of)\n",
    "    if Enable_Input_Regs>0:\n",
    "        print(\"R+\", end='', file=of)\n",
    "    else:\n",
    "        print(\"+\", end='', file=of)\n",
    "print(\"I{}\".format(N-1), end='', file=of)\n",
    "if Enable_Input_Regs>0:\n",
    "    print(\"R;\", file=of)\n",
    "else:\n",
    "    print(\";\", file=of)\n",
    "print(\"\\t\\tend\", file=of)\n",
    "print(\"\\tend\", file=of)\n",
    "print(\"end\\n\", file=of)"
   ]
  },
  {
   "cell_type": "code",
   "execution_count": 29,
   "metadata": {
    "collapsed": false
   },
   "outputs": [
    {
     "name": "stdout",
     "output_type": "stream",
     "text": [
      "assign earlyOutReady = inReady;\n",
      "\n"
     ]
    }
   ],
   "source": [
    "if Enable_Input_Regs<=0:\n",
    "    print(\"assign earlyOutReady = inReady;\\n\", file=of)"
   ]
  },
  {
   "cell_type": "code",
   "execution_count": 26,
   "metadata": {
    "collapsed": false
   },
   "outputs": [
    {
     "name": "stdout",
     "output_type": "stream",
     "text": [
      "endmodule\n"
     ]
    }
   ],
   "source": [
    "print(\"endmodule\", file=of)"
   ]
  },
  {
   "cell_type": "code",
   "execution_count": 27,
   "metadata": {
    "collapsed": true
   },
   "outputs": [],
   "source": [
    "if __Print_To_File>0:\n",
    "    of.close()"
   ]
  }
 ],
 "metadata": {
  "kernelspec": {
   "display_name": "Python 3",
   "language": "python",
   "name": "python3"
  },
  "language_info": {
   "codemirror_mode": {
    "name": "ipython",
    "version": 3
   },
   "file_extension": ".py",
   "mimetype": "text/x-python",
   "name": "python",
   "nbconvert_exporter": "python",
   "pygments_lexer": "ipython3",
   "version": "3.5.1"
  }
 },
 "nbformat": 4,
 "nbformat_minor": 0
}
