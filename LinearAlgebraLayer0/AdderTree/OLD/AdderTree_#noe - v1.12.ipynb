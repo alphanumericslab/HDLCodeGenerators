{
 "cells": [
  {
   "cell_type": "code",
   "execution_count": 1,
   "metadata": {
    "collapsed": true
   },
   "outputs": [],
   "source": [
    "#uses Registered2to1Adder_NIR - v1.1\n",
    "#registerings implemented based on the assumption that delay of Registered2to1Adder_NIR - v1.1 is 1 clk"
   ]
  },
  {
   "cell_type": "code",
   "execution_count": 2,
   "metadata": {
    "collapsed": false
   },
   "outputs": [],
   "source": [
    "import sys\n",
    "import math\n",
    "import io"
   ]
  },
  {
   "cell_type": "code",
   "execution_count": 3,
   "metadata": {
    "collapsed": false
   },
   "outputs": [
    {
     "name": "stdout",
     "output_type": "stream",
     "text": [
      "Enter N: 8\n"
     ]
    }
   ],
   "source": [
    "#N>=2\n",
    "N = input('Enter N: ')"
   ]
  },
  {
   "cell_type": "code",
   "execution_count": 4,
   "metadata": {
    "collapsed": false
   },
   "outputs": [
    {
     "name": "stdout",
     "output_type": "stream",
     "text": [
      "Enter IN_WIDTH default value (empty for 10): 36\n"
     ]
    }
   ],
   "source": [
    "#IN_WIDTH>=1\n",
    "IN_WIDTH = input('Enter IN_WIDTH default value (empty for 10): ')"
   ]
  },
  {
   "cell_type": "code",
   "execution_count": 5,
   "metadata": {
    "collapsed": false
   },
   "outputs": [],
   "source": [
    "N = int(N)\n",
    "if N<2:\n",
    "    N=2\n",
    "if not IN_WIDTH:\n",
    "    IN_WIDTH=10\n",
    "else:\n",
    "    IN_WIDTH = int(IN_WIDTH)\n",
    "    if IN_WIDTH<1:\n",
    "        IN_WIDTH=1"
   ]
  },
  {
   "cell_type": "code",
   "execution_count": 6,
   "metadata": {
    "collapsed": true
   },
   "outputs": [],
   "source": [
    "__Print_To_File = 0\n",
    "\n",
    "if __Print_To_File<=0:\n",
    "    of=sys.stdout\n",
    "else:\n",
    "    of=open(\"./AdderTree_{}.v\".format(N), 'w+')"
   ]
  },
  {
   "cell_type": "code",
   "execution_count": 7,
   "metadata": {
    "collapsed": false
   },
   "outputs": [
    {
     "name": "stdout",
     "output_type": "stream",
     "text": [
      "`timescale 1ns / 1ps\n",
      "\n",
      "module AdderTree_8\n",
      "#(\n",
      "parameter IN_WIDTH = 36\n",
      ")(\n",
      "input clk, reset, enable,\n",
      "input inReady,\n",
      "input signed [IN_WIDTH-1:0] A0, A1, A2, A3, A4, A5, A6, A7, \n",
      "output outReady,\n",
      "output signed [IN_WIDTH+2:0] Out,\n",
      "output earlyOutReady\n",
      ");\n",
      "\n"
     ]
    }
   ],
   "source": [
    "print(\"`timescale 1ns / 1ps\\n\", file=of)\n",
    "print(\"module AdderTree_{}\".format(N), file=of)\n",
    "print(\"#(\", file=of)\n",
    "print(\"parameter IN_WIDTH = {}\".format(IN_WIDTH), file=of)\n",
    "print(\")(\", file=of)\n",
    "print(\"input clk, reset, enable,\", file=of)\n",
    "print(\"input inReady,\", file=of)\n",
    "print(\"input signed [IN_WIDTH-1:0] \", end='', file=of)\n",
    "for i in range(N):\n",
    "    print(\"A{}, \".format(i), end='', file=of)\n",
    "print(file=of)\n",
    "print(\"output outReady,\", file=of)\n",
    "lgn=math.ceil(math.log(N,2))\n",
    "al=-1+lgn\n",
    "if al==0:\n",
    "    print(\"output signed [IN_WIDTH:0] Out,\", file=of)\n",
    "else:\n",
    "    print(\"output signed [IN_WIDTH+{}:0] Out,\".format(al), file=of)\n",
    "print(\"output earlyOutReady\", file=of)\n",
    "print(\");\\n\", file=of)"
   ]
  },
  {
   "cell_type": "code",
   "execution_count": 8,
   "metadata": {
    "collapsed": false
   },
   "outputs": [],
   "source": [
    "regsBuf=io.StringIO()\n",
    "AIBuf=io.StringIO()\n",
    "\n",
    "lgN=math.ceil(math.log2(N))\n",
    "maxLevel=lgN+1\n",
    "sizeA=[]\n",
    "for j in range(N):\n",
    "    sizeA.append(0)\n",
    "i=0\n",
    "level=1\n",
    "maxn=N-1\n",
    "new=maxn\n",
    "ORimp=False\n",
    "REGimp=False\n",
    "while 1 :\n",
    "    if level==maxLevel :\n",
    "        break\n",
    "    if i<maxn :\n",
    "        new=new+1\n",
    "        sizeA.append(sizeA[i]+1)\n",
    "        if sizeA[i]==0:\n",
    "            AIBuf.write(\"wire signed [IN_WIDTH:0] M{};\\n\".format(new))\n",
    "            AIBuf.write(\"Registered2to1Adder_NIR #(.IN_WIDTH(IN_WIDTH))\\nAdd{}(\\nclk, reset, enable, \\n\".format(new))\n",
    "            AIBuf.write(\"inReady,\\nA{}, A{},\\n\".format(i, i+1))\n",
    "        else:\n",
    "            AIBuf.write(\"wire signed [IN_WIDTH+{}:0] M{};\\n\".format(sizeA[i], new))\n",
    "            esize=sizeA[i]-sizeA[i+1]\n",
    "            if(esize!=0):\n",
    "                if sizeA[i]==1:\n",
    "                     AIBuf.write(\"wire signed [IN_WIDTH:0] M{}e=\".format(i+1))\n",
    "                else:\n",
    "                     AIBuf.write(\"wire signed [IN_WIDTH+{}:0] M{}e=\".format(sizeA[i]-1, i+1))\n",
    "                AIBuf.write(\"{{\")\n",
    "                AIBuf.write(\"{}\".format(esize))\n",
    "                AIBuf.write(\"{\")\n",
    "                AIBuf.write(\"M{}[IN_WIDTH\".format(i+1))\n",
    "                if sizeA[i+1]==0:\n",
    "                    AIBuf.write(\"-1\")\n",
    "                elif sizeA[i+1]>1:\n",
    "                    AIBuf.write(\"+{}\".format(sizeA[i+1]-1))\n",
    "                AIBuf.write(\"]}},\")\n",
    "                AIBuf.write(\"M{}\".format(i+1))\n",
    "                AIBuf.write(\"};\\n\")\n",
    "            AIBuf.write(\"Registered2to1Adder_NIR #(.IN_WIDTH(IN_WIDTH+{}))\\nAdd{}(\\nclk, reset, enable, \\n\".format(sizeA[i], new))\n",
    "            AIBuf.write(\"OR[{}],\\nM{}, M{}\".format(level-2, i, i+1))\n",
    "            if(sizeA[i+1]!=sizeA[i]):\n",
    "                AIBuf.write(\"e\");\n",
    "            AIBuf.write(\",\\n\");\n",
    "        if not ORimp:\n",
    "            AIBuf.write(\"OR[{}],\\n\".format(level-1))\n",
    "            ORimp=True\n",
    "        else:\n",
    "            AIBuf.write(\"ORa{}, //not used\\n\".format(new))\n",
    "        AIBuf.write(\"M{},\\n\".format(new))\n",
    "        if level==maxLevel-1:\n",
    "            AIBuf.write(\"earlyOutReady);\\n\\n\".format(new, new))        \n",
    "        else :\n",
    "            AIBuf.write(\"aeor{}); //not used\\n\\n\".format(new, new))\n",
    "        if (i+1)==maxn :\n",
    "            maxn=new\n",
    "            level=level+1\n",
    "            ORimp=False\n",
    "        i=i+2\n",
    "    else:\n",
    "        new=new+1\n",
    "        sizeA.append(sizeA[i])\n",
    "        if sizeA[new]==0:\n",
    "            print(\"reg signed [IN_WIDTH-1:0] M{};\".format(new), file=of)\n",
    "        elif sizeA[new]==1:\n",
    "            print(\"reg signed [IN_WIDTH:0] M{};\".format(new), file=of)\n",
    "        else:\n",
    "            print(\"reg signed [IN_WIDTH+{}:0] M{};\".format(sizeA[new]-1, new), file=of)\n",
    "        if level==1:\n",
    "            regsBuf.write(\"\\t\\tif(inReady) begin\\n\")\n",
    "            regsBuf.write(\"\\t\\t\\tM{} <= A{};\\n\".format(new, i))\n",
    "            regsBuf.write(\"\\t\\tend\\n\")\n",
    "        else:\n",
    "            regsBuf.write(\"\\t\\tif(OR[{}]) begin\\n\".format(level-2))\n",
    "            regsBuf.write(\"\\t\\t\\tM{} <= M{};\\n\".format(new, i))      \n",
    "            regsBuf.write(\"\\t\\tend\\n\")\n",
    "        i=i+1\n",
    "        maxn=new\n",
    "        level=level+1\n",
    "        ORimp=False\n",
    "        REGimp=True"
   ]
  },
  {
   "cell_type": "code",
   "execution_count": 9,
   "metadata": {
    "collapsed": false
   },
   "outputs": [
    {
     "name": "stdout",
     "output_type": "stream",
     "text": [
      "wire [0:2] OR;\n",
      "\n"
     ]
    }
   ],
   "source": [
    "print(\"wire [0:{}] OR;\\n\".format(lgN-1), file=of)\n",
    "if REGimp:\n",
    "    print(\"always @(posedge clk) begin\", file=of)\n",
    "    print(\"\\tif(reset) begin\", file=of)\n",
    "    print(\"\\t\\t//do nothing\", file=of)\n",
    "    print(\"\\tend\", file=of)\n",
    "    print(\"\\telse if(enable) begin\", file=of)\n",
    "    print(regsBuf.getvalue(), end='',file=of)\n",
    "    print(\"\\tend\", file=of)\n",
    "    print(\"end\\n\", file=of)"
   ]
  },
  {
   "cell_type": "code",
   "execution_count": 10,
   "metadata": {
    "collapsed": false
   },
   "outputs": [
    {
     "name": "stdout",
     "output_type": "stream",
     "text": [
      "wire signed [IN_WIDTH:0] M8;\n",
      "Registered2to1Adder_NIR #(.IN_WIDTH(IN_WIDTH))\n",
      "Add8(\n",
      "clk, reset, enable, \n",
      "inReady,\n",
      "A0, A1,\n",
      "OR[0],\n",
      "M8,\n",
      "aeor8); //not used\n",
      "\n",
      "wire signed [IN_WIDTH:0] M9;\n",
      "Registered2to1Adder_NIR #(.IN_WIDTH(IN_WIDTH))\n",
      "Add9(\n",
      "clk, reset, enable, \n",
      "inReady,\n",
      "A2, A3,\n",
      "ORa9, //not used\n",
      "M9,\n",
      "aeor9); //not used\n",
      "\n",
      "wire signed [IN_WIDTH:0] M10;\n",
      "Registered2to1Adder_NIR #(.IN_WIDTH(IN_WIDTH))\n",
      "Add10(\n",
      "clk, reset, enable, \n",
      "inReady,\n",
      "A4, A5,\n",
      "ORa10, //not used\n",
      "M10,\n",
      "aeor10); //not used\n",
      "\n",
      "wire signed [IN_WIDTH:0] M11;\n",
      "Registered2to1Adder_NIR #(.IN_WIDTH(IN_WIDTH))\n",
      "Add11(\n",
      "clk, reset, enable, \n",
      "inReady,\n",
      "A6, A7,\n",
      "ORa11, //not used\n",
      "M11,\n",
      "aeor11); //not used\n",
      "\n",
      "wire signed [IN_WIDTH+1:0] M12;\n",
      "Registered2to1Adder_NIR #(.IN_WIDTH(IN_WIDTH+1))\n",
      "Add12(\n",
      "clk, reset, enable, \n",
      "OR[0],\n",
      "M8, M9,\n",
      "OR[1],\n",
      "M12,\n",
      "aeor12); //not used\n",
      "\n",
      "wire signed [IN_WIDTH+1:0] M13;\n",
      "Registered2to1Adder_NIR #(.IN_WIDTH(IN_WIDTH+1))\n",
      "Add13(\n",
      "clk, reset, enable, \n",
      "OR[0],\n",
      "M10, M11,\n",
      "ORa13, //not used\n",
      "M13,\n",
      "aeor13); //not used\n",
      "\n",
      "wire signed [IN_WIDTH+2:0] M14;\n",
      "Registered2to1Adder_NIR #(.IN_WIDTH(IN_WIDTH+2))\n",
      "Add14(\n",
      "clk, reset, enable, \n",
      "OR[1],\n",
      "M12, M13,\n",
      "OR[2],\n",
      "M14,\n",
      "earlyOutReady);\n",
      "\n",
      "assign Out = M14;\n",
      "assign outReady = OR[2];\n"
     ]
    }
   ],
   "source": [
    "print(AIBuf.getvalue(), end='',file=of)\n",
    "print(\"assign Out = M{};\".format(new), file=of)\n",
    "print(\"assign outReady = OR[{}];\".format(lgN-1), file=of)"
   ]
  },
  {
   "cell_type": "code",
   "execution_count": 11,
   "metadata": {
    "collapsed": false
   },
   "outputs": [
    {
     "name": "stdout",
     "output_type": "stream",
     "text": [
      "endmodule\n"
     ]
    }
   ],
   "source": [
    "print(\"endmodule\", file=of)"
   ]
  },
  {
   "cell_type": "code",
   "execution_count": 12,
   "metadata": {
    "collapsed": true
   },
   "outputs": [],
   "source": [
    "if __Print_To_File>0:\n",
    "    of.close()"
   ]
  }
 ],
 "metadata": {
  "kernelspec": {
   "display_name": "Python 3",
   "language": "python",
   "name": "python3"
  },
  "language_info": {
   "codemirror_mode": {
    "name": "ipython",
    "version": 3
   },
   "file_extension": ".py",
   "mimetype": "text/x-python",
   "name": "python",
   "nbconvert_exporter": "python",
   "pygments_lexer": "ipython3",
   "version": "3.5.1"
  }
 },
 "nbformat": 4,
 "nbformat_minor": 0
}
