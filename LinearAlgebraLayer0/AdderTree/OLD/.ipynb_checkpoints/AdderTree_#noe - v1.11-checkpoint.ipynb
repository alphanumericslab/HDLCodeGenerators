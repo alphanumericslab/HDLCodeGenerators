{
 "cells": [
  {
   "cell_type": "code",
   "execution_count": null,
   "metadata": {
    "collapsed": true
   },
   "outputs": [],
   "source": [
    "#uses Registered2to1Adder_NIR - v1.1\n",
    "#OR and registerings implemented based on the assumption that delay of Registered2to1Adder_NIR - v1.1 is 1 clk"
   ]
  },
  {
   "cell_type": "code",
   "execution_count": null,
   "metadata": {
    "collapsed": false
   },
   "outputs": [],
   "source": [
    "import sys\n",
    "import math\n",
    "import io"
   ]
  },
  {
   "cell_type": "code",
   "execution_count": null,
   "metadata": {
    "collapsed": false
   },
   "outputs": [],
   "source": [
    "#N>=2\n",
    "N = input('Enter N: ')"
   ]
  },
  {
   "cell_type": "code",
   "execution_count": null,
   "metadata": {
    "collapsed": false
   },
   "outputs": [],
   "source": [
    "#IN_WIDTH>=1\n",
    "IN_WIDTH = input('Enter IN_WIDTH default value (empty for 10): ')"
   ]
  },
  {
   "cell_type": "code",
   "execution_count": null,
   "metadata": {
    "collapsed": true
   },
   "outputs": [],
   "source": [
    "N = int(N)\n",
    "if N<2:\n",
    "    N=2\n",
    "if not IN_WIDTH:\n",
    "    IN_WIDTH=10\n",
    "else:\n",
    "    IN_WIDTH = int(IN_WIDTH)\n",
    "    if IN_WIDTH<1:\n",
    "        IN_WIDTH=1"
   ]
  },
  {
   "cell_type": "code",
   "execution_count": null,
   "metadata": {
    "collapsed": true
   },
   "outputs": [],
   "source": [
    "__Print_To_File = 0\n",
    "\n",
    "if __Print_To_File<=0:\n",
    "    of=sys.stdout\n",
    "else:\n",
    "    of=open(\"./AdderTree_{}.v\".format(N), 'w+')"
   ]
  },
  {
   "cell_type": "code",
   "execution_count": null,
   "metadata": {
    "collapsed": false
   },
   "outputs": [],
   "source": [
    "print(\"`timescale 1ns / 1ps\\n\", file=of)\n",
    "print(\"module AdderTree_{}\".format(N), file=of)\n",
    "print(\"#(\", file=of)\n",
    "print(\"parameter IN_WIDTH = {}\".format(IN_WIDTH), file=of)\n",
    "print(\")(\", file=of)\n",
    "print(\"input clk, reset, enable,\", file=of)\n",
    "print(\"input inReady,\", file=of)\n",
    "print(\"input signed [IN_WIDTH-1:0] \", end='', file=of)\n",
    "for i in range(N):\n",
    "    print(\"A{}, \".format(i), end='', file=of)\n",
    "print(file=of)\n",
    "print(\"output outReady,\", file=of)\n",
    "lgn=math.ceil(math.log(N,2))\n",
    "al=-1+lgn\n",
    "if al==0:\n",
    "    print(\"output signed [IN_WIDTH:0] Out,\", file=of)\n",
    "else:\n",
    "    print(\"output signed [IN_WIDTH+{}:0] Out,\".format(al), file=of)\n",
    "print(\"output earlyOutReady\", file=of)\n",
    "print(\");\\n\", file=of)"
   ]
  },
  {
   "cell_type": "code",
   "execution_count": null,
   "metadata": {
    "collapsed": false
   },
   "outputs": [],
   "source": [
    "regsBuf=io.StringIO()\n",
    "AIBuf=io.StringIO()\n",
    "\n",
    "lgN=math.ceil(math.log2(N))\n",
    "maxLevel=lgN+1\n",
    "sizeA=[]\n",
    "for j in range(N):\n",
    "    sizeA.append(0)\n",
    "i=0\n",
    "level=1\n",
    "maxn=N-1\n",
    "new=maxn\n",
    "while 1 :\n",
    "    if level==maxLevel :\n",
    "        break\n",
    "    if i<maxn :\n",
    "        new=new+1\n",
    "        sizeA.append(sizeA[i]+1) #will be 1 at least\n",
    "        #if sizeA[new]==0:\n",
    "        #    AIBuf.write(\"wire signed [IN_WIDTH-1:0] M{};\\n\".format(new))\n",
    "        #el\n",
    "        if sizeA[i]==0:\n",
    "            AIBuf.write(\"wire signed [IN_WIDTH:0] M{};\\n\".format(new))\n",
    "            AIBuf.write(\"Registered2to1Adder_NIR #(.IN_WIDTH(IN_WIDTH))\\nAdd{}(\\nclk, reset, enable, \".format(new))\n",
    "            AIBuf.write(\"inReady,\\nA{}, A{}\".format(i, i+1))\n",
    "        else:\n",
    "            AIBuf.write(\"wire signed [IN_WIDTH+{}:0] M{};\\n\".format(sizeA[i], new))\n",
    "            esize=sizeA[i]-sizeA[i+1]\n",
    "            if(esize!=0):\n",
    "                if sizeA[i]==1:\n",
    "                     AIBuf.write(\"wire signed [IN_WIDTH:0] M{}e=\".format(i+1))\n",
    "                else:\n",
    "                     AIBuf.write(\"wire signed [IN_WIDTH+{}:0] M{}e=\".format(sizeA[i]-1, i+1))\n",
    "                AIBuf.write(\"{{\")\n",
    "                AIBuf.write(\"{}\".format(esize))\n",
    "                AIBuf.write(\"{\")\n",
    "                AIBuf.write(\"M{}[IN_WIDTH\".format(i+1))\n",
    "                if sizeA[i+1]==0:\n",
    "                    AIBuf.write(\"-1\")\n",
    "                elif sizeA[i+1]>1:\n",
    "                    AIBuf.write(\"+{}\".format(sizeA[i+1]-1))\n",
    "                AIBuf.write(\"]}},\")\n",
    "                AIBuf.write(\"M{}\".format(i+1))\n",
    "                AIBuf.write(\"};\\n\")\n",
    "            AIBuf.write(\"Registered2to1Adder_NIR #(.IN_WIDTH(IN_WIDTH+{}))\\nAdd{}(\\nclk, reset, enable, \".format(sizeA[i], new))\n",
    "            AIBuf.write(\"OR[{}],\\nM{}, M{}\".format(level-2, i, i+1))\n",
    "            if(sizeA[i+1]!=sizeA[i]):\n",
    "                AIBuf.write(\"e\");\n",
    "        AIBuf.write(\",\\naor{}, //not used\\nM{},\\naeor{}); //not used\\n\\n\".format(new, new, new))\n",
    "        #if level==1:\n",
    "        #else :\n",
    "        if (i+1)==maxn :\n",
    "            maxn=new\n",
    "            level=level+1\n",
    "        i=i+2\n",
    "    else :\n",
    "        new=new+1\n",
    "        sizeA.append(sizeA[i])\n",
    "        if sizeA[new]==0:\n",
    "            print(\"reg signed [IN_WIDTH-1:0] M{};\".format(new), file=of)\n",
    "        elif sizeA[new]==1:\n",
    "            print(\"reg signed [IN_WIDTH:0] M{};\".format(new), file=of)\n",
    "        else:\n",
    "            print(\"reg signed [IN_WIDTH+{}:0] M{};\".format(sizeA[new]-1, new), file=of)\n",
    "        if level==1:\n",
    "            regsBuf.write(\"\\t\\tif(inReady) begin\\n\")\n",
    "            regsBuf.write(\"\\t\\t\\tM{} <= A{};\\n\".format(new, i))\n",
    "            regsBuf.write(\"\\t\\tend\\n\")\n",
    "        else:\n",
    "            regsBuf.write(\"\\t\\tif(OR[{}]) begin\\n\".format(level-2))\n",
    "            regsBuf.write(\"\\t\\t\\tM{} <= M{};\\n\".format(new, i))      \n",
    "            regsBuf.write(\"\\t\\tend\\n\")\n",
    "        i=i+1\n",
    "        maxn=new\n",
    "        level=level+1"
   ]
  },
  {
   "cell_type": "code",
   "execution_count": null,
   "metadata": {
    "collapsed": false
   },
   "outputs": [],
   "source": [
    "print(\"reg [0:{}] OR = 0;\".format(lgN-1), file=of)\n",
    "print(\"integer d;\", file=of)\n",
    "print(\"always @(posedge clk) begin\", file=of)\n",
    "print(\"\\tif(reset) begin\", file=of)\n",
    "print(\"\\t\\tOR <= {}'b0;\".format(lgN), file=of)\n",
    "print(\"\\tend\", file=of)\n",
    "print(\"\\telse if(enable) begin\", file=of)\n",
    "print(\"\\t\\tOR[0] <= inReady;\", file=of)\n",
    "if lgN>1:\n",
    "    print(\"\\t\\tfor(d=0;d<{};d=d+1) begin\".format(lgN-1), file=of)\n",
    "    print(\"\\t\\t\\tOR[d+1] <= OR[d];\", file=of)\n",
    "    print(\"\\t\\tend\", file=of)\n",
    "print(regsBuf.getvalue(), end='',file=of)\n",
    "print(\"\\tend\", file=of)\n",
    "print(\"end\\n\", file=of)"
   ]
  },
  {
   "cell_type": "code",
   "execution_count": null,
   "metadata": {
    "collapsed": false
   },
   "outputs": [],
   "source": [
    "print(AIBuf.getvalue(), end='',file=of)\n",
    "print(\"assign Out = M{};\".format(new), file=of)\n",
    "print(\"assign outReady = OR[{}];\".format(lgN-1), file=of)\n",
    "if N==2:\n",
    "    print(\"assign earlyOutReady = inReady;\", file=of)\n",
    "else:\n",
    "    print(\"assign earlyOutReady = OR[{}];\".format(lgN-2), file=of)\n",
    "print(\"\\nendmodule\", file=of)"
   ]
  },
  {
   "cell_type": "code",
   "execution_count": null,
   "metadata": {
    "collapsed": true
   },
   "outputs": [],
   "source": [
    "if __Print_To_File>0:\n",
    "    of.close()"
   ]
  }
 ],
 "metadata": {
  "kernelspec": {
   "display_name": "Python 3",
   "language": "python",
   "name": "python3"
  },
  "language_info": {
   "codemirror_mode": {
    "name": "ipython",
    "version": 3
   },
   "file_extension": ".py",
   "mimetype": "text/x-python",
   "name": "python",
   "nbconvert_exporter": "python",
   "pygments_lexer": "ipython3",
   "version": "3.5.1"
  }
 },
 "nbformat": 4,
 "nbformat_minor": 0
}
