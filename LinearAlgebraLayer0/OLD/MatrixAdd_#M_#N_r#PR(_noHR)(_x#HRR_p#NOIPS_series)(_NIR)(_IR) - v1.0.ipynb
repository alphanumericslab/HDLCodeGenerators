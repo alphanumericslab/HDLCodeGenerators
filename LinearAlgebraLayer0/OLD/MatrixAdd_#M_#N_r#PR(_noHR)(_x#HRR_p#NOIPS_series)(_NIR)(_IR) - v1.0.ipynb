{
 "cells": [
  {
   "cell_type": "code",
   "execution_count": 21,
   "metadata": {
    "collapsed": true
   },
   "outputs": [],
   "source": [
    "#uses VectorAdd_#N(_noHR)(_HR_x#HRR_p#NOIPS_series)(_NIR)(_IR) - v1.0x"
   ]
  },
  {
   "cell_type": "code",
   "execution_count": 22,
   "metadata": {
    "collapsed": true
   },
   "outputs": [],
   "source": [
    "#inReadyC default to simplified definition"
   ]
  },
  {
   "cell_type": "code",
   "execution_count": 23,
   "metadata": {
    "collapsed": false
   },
   "outputs": [],
   "source": [
    "import sys\n",
    "import math"
   ]
  },
  {
   "cell_type": "code",
   "execution_count": 24,
   "metadata": {
    "collapsed": false
   },
   "outputs": [
    {
     "name": "stdout",
     "output_type": "stream",
     "text": [
      "Enter M: 5\n"
     ]
    }
   ],
   "source": [
    "#M>=1\n",
    "M = input('Enter M: ')"
   ]
  },
  {
   "cell_type": "code",
   "execution_count": 25,
   "metadata": {
    "collapsed": false
   },
   "outputs": [
    {
     "name": "stdout",
     "output_type": "stream",
     "text": [
      "Enter N: 30\n"
     ]
    }
   ],
   "source": [
    "#N>=1\n",
    "N = input('Enter N: ')"
   ]
  },
  {
   "cell_type": "code",
   "execution_count": 26,
   "metadata": {
    "collapsed": false
   },
   "outputs": [
    {
     "name": "stdout",
     "output_type": "stream",
     "text": [
      "Enter No Of Parallel Row (empty for 1) : 2\n"
     ]
    }
   ],
   "source": [
    "#PR>=1\n",
    "PR = input('Enter No Of Parallel Row (empty for 1): ')"
   ]
  },
  {
   "cell_type": "code",
   "execution_count": 27,
   "metadata": {
    "collapsed": false
   },
   "outputs": [
    {
     "name": "stdout",
     "output_type": "stream",
     "text": [
      "Enter HRR (empty or 1 for noHR) : 2\n"
     ]
    }
   ],
   "source": [
    "#HRR>=1\n",
    "HRR = input('Enter HRR (empty or 1 for noHR): ')"
   ]
  },
  {
   "cell_type": "code",
   "execution_count": 28,
   "metadata": {
    "collapsed": false
   },
   "outputs": [],
   "source": [
    "M = int(M)\n",
    "if M<1:\n",
    "    M=1\n",
    "N = int(N)\n",
    "if N<1:\n",
    "    N=1\n",
    "if not PR:\n",
    "    PR=1\n",
    "else:\n",
    "    PR = int(PR)\n",
    "    if PR>M:\n",
    "        PR = M\n",
    "if not HRR:\n",
    "    HRR=1\n",
    "else:\n",
    "    HRR = int(HRR)\n",
    "    if HRR<1:\n",
    "        HRR=1\n",
    "    if HRR>N:\n",
    "        HRR=N\n",
    "if HRR>1:\n",
    "    NOIPSMin = math.ceil(N/HRR)\n",
    "    NOIPSMax = math.ceil(N/(HRR-1))-1\n",
    "    NOIPSMM = (NOIPSMin!=NOIPSMax)"
   ]
  },
  {
   "cell_type": "code",
   "execution_count": 29,
   "metadata": {
    "collapsed": false
   },
   "outputs": [
    {
     "name": "stdout",
     "output_type": "stream",
     "text": [
      "Enter Number of inputs per series (>=15, <=29, empty for 15) : 20\n"
     ]
    }
   ],
   "source": [
    "#>=NOIPSMin, <=NOIPSMax\n",
    "if HRR>1 and NOIPSMM:\n",
    "    NOIPS = input('Enter Number of inputs per series (>={}, <={}, empty for {}): '.format(NOIPSMin, NOIPSMax, NOIPSMin))"
   ]
  },
  {
   "cell_type": "code",
   "execution_count": 30,
   "metadata": {
    "collapsed": false
   },
   "outputs": [
    {
     "name": "stdout",
     "output_type": "stream",
     "text": [
      "Enter IN_WIDTH default value (empty for 10) : \n"
     ]
    }
   ],
   "source": [
    "#IN_WIDTH>=1\n",
    "IN_WIDTH = input('Enter IN_WIDTH default value (empty for 10): ')"
   ]
  },
  {
   "cell_type": "code",
   "execution_count": 80,
   "metadata": {
    "collapsed": false
   },
   "outputs": [
    {
     "name": "stdout",
     "output_type": "stream",
     "text": [
      "Enable Input Registers? (empty or 0 to disable, 1 to enable): 1\n"
     ]
    }
   ],
   "source": [
    "_Enable_Input_Registers = input('Enable Input Registers? (empty or 0 to disable, 1 to enable): ')"
   ]
  },
  {
   "cell_type": "code",
   "execution_count": 81,
   "metadata": {
    "collapsed": true
   },
   "outputs": [],
   "source": [
    "if HRR>1:\n",
    "    if NOIPSMM:\n",
    "        if not NOIPS:\n",
    "            NAdd = NOIPSMin\n",
    "        else:\n",
    "            NOIPS = int(NOIPS)\n",
    "            if NOIPS<NOIPSMin:\n",
    "                NAdd = NOIPSMin\n",
    "            elif NOIPS>NOIPSMax:\n",
    "                NAdd = NOIPSMax\n",
    "            else:\n",
    "                NAdd = NOIPS\n",
    "    else:\n",
    "        NAdd = NOIPSMin\n",
    "else:\n",
    "    NAdd = N\n",
    "if not IN_WIDTH:\n",
    "    IN_WIDTH=10\n",
    "else:\n",
    "    IN_WIDTH = int(IN_WIDTH)\n",
    "    if IN_WIDTH<1:\n",
    "        IN_WIDTH=1\n",
    "if not _Enable_Input_Registers:\n",
    "    _Enable_Input_Registers=0\n",
    "else:\n",
    "    _Enable_Input_Registers = int(_Enable_Input_Registers)"
   ]
  },
  {
   "cell_type": "code",
   "execution_count": 82,
   "metadata": {
    "collapsed": true
   },
   "outputs": [],
   "source": [
    "__Print_To_File = 0\n",
    "\n",
    "if __Print_To_File<=0:\n",
    "    of=sys.stdout\n",
    "else:\n",
    "    if(HRR==1):\n",
    "        if _Enable_Input_Registers>0:\n",
    "            of=open(\"./MatrixAdd_{}_{}_r{}_noHR_IR.v\".format(M, N, PR), 'w+')\n",
    "        else:\n",
    "            of=open(\"./MatrixAdd_{}_{}_r{}_noHR_NIR.v\".format(M, N, PR), 'w+')\n",
    "            \n",
    "    else:\n",
    "        if _Enable_Input_Registers>0:\n",
    "            of=open(\"./MatrixAdd_{}_{}_r{}_HR_x{}_p{}_series_IR.v\".format(M, N, PR, HRR, NAdd), 'w+')\n",
    "        else:\n",
    "            of=open(\"./MatrixAdd_{}_{}_r{}_HR_x{}_p{}_series_NIR.v\".format(M, N, PR, HRR, NAdd), 'w+')            "
   ]
  },
  {
   "cell_type": "code",
   "execution_count": 83,
   "metadata": {
    "collapsed": false
   },
   "outputs": [],
   "source": [
    "print(\"`timescale 1ns / 1ps\\n\", file=of)\n",
    "if HRR==1:\n",
    "    if _Enable_Input_Registers>0:\n",
    "        print(\"module MatrixAdd_{}_{}_r{}_noHR_IR\".format(M, N, PR), file=of)\n",
    "    else:\n",
    "        print(\"module MatrixAdd_{}_{}_r{}_noHR_NIR\".format(M, N, PR), file=of)        \n",
    "else:\n",
    "    if _Enable_Input_Registers>0:\n",
    "        print(\"module MatrixAdd_{}_{}_r{}_HR_x{}_p{}_series_IR\".format(M, N, PR, HRR, NAdd), file=of)\n",
    "    else:\n",
    "        print(\"module MatrixAdd_{}_{}_r{}_HR_x{}_p{}_series_NIR\".format(M, N, PR, HRR, NAdd), file=of)        \n",
    "print(\"#(\", file=of)\n",
    "print(\"parameter IN_WIDTH = {}\".format(IN_WIDTH), file=of)\n",
    "print(\")(\", file=of)\n",
    "print(\"input clk, reset, enable,\", file=of)\n",
    "if HRR>1:\n",
    "    print(\"output readyForNewRowStart,\", file=of)\n",
    "lghrr=math.ceil(math.log2(HRR))\n",
    "if lghrr==1:\n",
    "    print(\"output rowInSeries,\", file=of)\n",
    "elif lghrr>1:\n",
    "    print(\"output [{}:0] rowInSeries,\".format(lghrr-1), file=of)\n",
    "RS=math.ceil(M/PR)\n",
    "lgRS=math.ceil(math.log2(RS))\n",
    "if lgRS<=1:\n",
    "    print(\"output reg columnInSeries = 0,\", file=of)\n",
    "else:\n",
    "    print(\"output reg [{}:0] columnInSeries = 0,\".format(lgRS-1), file=of)\n",
    "print(\"input inReady,\", file=of)\n",
    "print(\"input signed [IN_WIDTH-1:0] \", end='', file=of)\n",
    "for j in range(PR):\n",
    "    for i in range(NAdd):\n",
    "        print(\"A{}r{}, \".format(i, j), end='', file=of)\n",
    "    print(file=of)\n",
    "print(\"input signed [IN_WIDTH-1:0] \", end='', file=of)\n",
    "for j in range(PR):\n",
    "    for i in range(NAdd):\n",
    "        print(\"B{}r{}, \".format(i, j), end='', file=of)\n",
    "    print(file=of)\n",
    "ar=RS*PR-M\n",
    "ME = PR-ar-1\n",
    "if ME==0:\n",
    "    st1=\"C0\"\n",
    "else:\n",
    "    st1=\"C0toC{}\".format(ME)\n",
    "print(\"output \", end='', file=of)\n",
    "if HRR==1:\n",
    "    print(st1, end='', file=of)\n",
    "    print(\"outReady,\", file=of)\n",
    "    NE=NAdd\n",
    "else:\n",
    "    NE = N - NAdd*(HRR-1)\n",
    "    while NE<=0:\n",
    "        NE += NAdd\n",
    "    if NE==1:\n",
    "        print(st1, end='', file=of)\n",
    "        print(\"S0outReady,\", file=of)\n",
    "    else:\n",
    "        print(st1, end='', file=of)\n",
    "        print(\"S0toS{}outReady,\".format(NE-1), file=of)\n",
    "    print(\"output \", end='', file=of)\n",
    "    if NE==NAdd:\n",
    "        print(\"CSNoutReady1, //not used\", file=of)\n",
    "    elif NE==NAdd-1:\n",
    "        print(st1, end='', file=of)\n",
    "        print(\"S{}outReady,\".format(NE), file=of)\n",
    "    else:\n",
    "        print(st1, end='', file=of)\n",
    "        print(\"S{}toS{}outReady,\".format(NE, NAdd-1), file=of)\n",
    "if ar==0:\n",
    "    print(\"output reg CNoutReady1 = 0, //not used\", file=of)\n",
    "    print(\"output reg CNoutReady2 = 0, //not used\", file=of)\n",
    "else:\n",
    "    if ME==(PR-2):\n",
    "        st2=\"C{}\".format(PR-1)\n",
    "    else:\n",
    "        st2=\"C{}toC{}\".format(ME+1, PR-1)\n",
    "    print(\"output \", end='', file=of)\n",
    "    if HRR==1:\n",
    "        print(st2, end='', file=of)\n",
    "        print(\"outReady,\", file=of)\n",
    "    else:\n",
    "        if NE==1:\n",
    "            print(st2, end='', file=of)\n",
    "            print(\"S0outReady,\", file=of)\n",
    "        else:\n",
    "            print(st2, end='', file=of)\n",
    "            print(\"S0toS{}outReady,\".format(NE-1), file=of)\n",
    "        print(\"output \", end='', file=of)\n",
    "        if NE==NAdd:\n",
    "            print(\"CSNoutReady2, //not used\", file=of)\n",
    "        elif NE==NAdd-1:\n",
    "            print(st2, end='', file=of)\n",
    "            print(\"S{}outReady,\".format(NE), file=of)\n",
    "        else:\n",
    "            print(st2, end='', file=of)\n",
    "            print(\"S{}toS{}outReady,\".format(NE, NAdd-1), file=of)\n",
    "if lghrr==1:\n",
    "    print(\"output rowOutSeries,\", file=of)\n",
    "elif lghrr>1:\n",
    "    print(\"output [{}:0] rowOutSeries,\".format(lghrr-1), file=of)\n",
    "if lgRS<=1:\n",
    "    print(\"output reg columnOutSeries = 1,\", file=of)\n",
    "else:\n",
    "    print(\"output reg [{}:0] columnOutSeries = {},\".format(lgRS-1, RS-1), file=of)\n",
    "print(\"output signed [IN_WIDTH:0] \", end='', file=of)\n",
    "for j in range(PR):\n",
    "    for i in range(NAdd):\n",
    "        print(\"S{}r{}, \".format(i, j), end='', file=of)\n",
    "    print(file=of)\n",
    "print(\"output \", end='', file=of)\n",
    "if HRR==1:\n",
    "    print(st1, end='', file=of)\n",
    "    print(\"earlyOutReady,\", file=of)\n",
    "else:\n",
    "    if NE==1:\n",
    "        print(st1, end='', file=of)\n",
    "        print(\"S0earlyOutReady,\", file=of)\n",
    "    else:\n",
    "        print(st1, end='', file=of)\n",
    "        print(\"S0toS{}earlyOutReady,\".format(NE-1), file=of)\n",
    "    print(\"output \", end='', file=of)\n",
    "    if NE==NAdd:\n",
    "        print(\"CSNearlyOutReady1, //not used\", file=of)\n",
    "    elif NE==NAdd-1:\n",
    "        print(st1, end='', file=of)\n",
    "        print(\"S{}earlyOutReady,\".format(NE), file=of)\n",
    "    else:\n",
    "        print(st1, end='', file=of)\n",
    "        print(\"S{}toS{}earlyOutReady,\".format(NE, NAdd-1), file=of)\n",
    "if ar==0:\n",
    "    print(\"output reg CNearlyOutReady1 = 0, //not used\", file=of)\n",
    "    print(\"output reg CNearlyOutReady2 = 0 //not used\", file=of)\n",
    "else:\n",
    "    print(\"output \", end='', file=of)\n",
    "    if HRR==1:\n",
    "        print(st2, end='', file=of)\n",
    "        print(\"earlyOutReady\", file=of)\n",
    "    else:\n",
    "        if NE==1:\n",
    "            print(st2, end='', file=of)\n",
    "            print(\"S0earlyOutReady,\", file=of)\n",
    "        else:\n",
    "            print(st2, end='', file=of)\n",
    "            print(\"S0toS{}earlyOutReady,\".format(NE-1), file=of)\n",
    "        print(\"output \", end='', file=of)\n",
    "        if NE==NAdd:\n",
    "            print(\"CSNearlyOutReady2 //not used\", file=of)\n",
    "        elif NE==NAdd-1:\n",
    "            print(st2, end='', file=of)\n",
    "            print(\"S{}earlyOutReady\".format(NE), file=of)\n",
    "        else:\n",
    "            print(st2, end='', file=of)\n",
    "            print(\"S{}toS{}earlyOutReady\".format(NE, NAdd-1), file=of)\n",
    "print(\");\\n\", file=of)"
   ]
  },
  {
   "cell_type": "code",
   "execution_count": 84,
   "metadata": {
    "collapsed": false
   },
   "outputs": [],
   "source": [
    "if RS!=1:\n",
    "    print(\"always @(posedge clk) begin\", file=of)\n",
    "    print(\"\\tif(reset) begin\", file=of)\n",
    "    print(\"\\t\\tcolumnInSeries <= 0;\", file=of)\n",
    "    print(\"\\tend\", file=of)\n",
    "    print(\"\\telse if(enable) begin\", file=of)\n",
    "    print(\"\\t\\tif(inReady) begin\", file=of)\n",
    "    if(HRR>1):\n",
    "        print(\"\\t\\t\\tif(rowInSeries=={}) begin\".format(HRR-1), file=of)\n",
    "        print(\"\\t\", end='', file=of)\n",
    "    print(\"\\t\\t\\tif(columnInSeries=={}) begin\".format(RS-1), file=of)\n",
    "    if(HRR>1):\n",
    "        print(\"\\t\", end='', file=of)\n",
    "    print(\"\\t\\t\\t\\tcolumnInSeries <= 0;\", file=of)\n",
    "    if(HRR>1):\n",
    "        print(\"\\t\", end='', file=of)\n",
    "    print(\"\\t\\t\\tend\", file=of)\n",
    "    if(HRR>1):\n",
    "        print(\"\\t\", end='', file=of)\n",
    "    print(\"\\t\\t\\telse begin\", file=of)\n",
    "    if(HRR>1):\n",
    "        print(\"\\t\", end='', file=of)\n",
    "    if RS==2:\n",
    "        print(\"\\t\\t\\t\\tcolumnInSeries <= 1;\", file=of)    \n",
    "    else:\n",
    "        print(\"\\t\\t\\t\\tcolumnInSeries <= columnInSeries+1;\", file=of)\n",
    "    if(HRR>1):\n",
    "        print(\"\\t\\t\\t\\tend\", file=of)\n",
    "    print(\"\\t\\t\\tend\", file=of)\n",
    "    print(\"\\t\\tend\", file=of)\n",
    "    print(\"\\tend\", file=of)\n",
    "    print(\"end\", file=of)\n",
    "    print(file=of)"
   ]
  },
  {
   "cell_type": "code",
   "execution_count": 85,
   "metadata": {
    "collapsed": false
   },
   "outputs": [],
   "source": [
    "if ar>0:\n",
    "    print(\"wire inReadyC = (columnInSeries!={}) & inReady;\".format(RS-1), file=of)\n",
    "    print(file=of)"
   ]
  },
  {
   "cell_type": "code",
   "execution_count": 86,
   "metadata": {
    "collapsed": false
   },
   "outputs": [],
   "source": [
    "for i in range (PR):\n",
    "    if(HRR==1):\n",
    "        if _Enable_Input_Registers>0:\n",
    "            print(\"VectorAdd_{}_noHR_IR#( .IN_WIDTH(IN_WIDTH) )\".format(N), file=of)\n",
    "        else:\n",
    "            print(\"VectorAdd_{}_noHR_NIR#( .IN_WIDTH(IN_WIDTH) )\".format(N), file=of)            \n",
    "    else:\n",
    "        if _Enable_Input_Registers>0:\n",
    "            print(\"VectorAdd_{}_x{}_p{}_series_IR#( .IN_WIDTH(IN_WIDTH) )\".format(N, HRR, NAdd), file=of)\n",
    "        else:\n",
    "            print(\"VectorAdd_{}_x{}_p{}_series_NIR#( .IN_WIDTH(IN_WIDTH) )\".format(N, HRR, NAdd), file=of)            \n",
    "    print(\"\\tVA_{}(clk, reset, enable,\".format(i), file=of)\n",
    "    if(HRR>1):\n",
    "        if i==0:\n",
    "            print(\"\\treadyForNewRowStart,\", file=of)\n",
    "            print(\"\\trowInSeries,\".format(i), file=of)\n",
    "        else:\n",
    "            print(\"\\tLLreadyForNewDataSeries{}, //not used\".format(i), file=of)\n",
    "            print(\"\\tLLinSeries{}, //not used\".format(i), file=of)\n",
    "    if(PR-i<=ar):\n",
    "        print(\"\\tinReadyC,\", file=of)\n",
    "    else:\n",
    "        print(\"\\tinReady,\", file=of)\n",
    "    print(\"\\t\", end='', file=of)\n",
    "    for j in range(NAdd):\n",
    "        print(\"A{}r{}, \".format(j, i), end='', file=of)\n",
    "    print(file=of)\n",
    "    print(\"\\t\", end='', file=of)\n",
    "    for j in range(NAdd):\n",
    "        print(\"B{}r{}, \".format(j, i), end='', file=of)\n",
    "    print(file=of)    \n",
    "    print(\"\\t\", end='', file=of)    \n",
    "    if i==0:\n",
    "        if HRR==1:\n",
    "            print(st1, end='', file=of)\n",
    "            print(\"outReady,\", file=of)\n",
    "        else:\n",
    "            if NE==1:\n",
    "                print(st1, end='', file=of)\n",
    "                print(\"S0outReady, \", end='', file=of)\n",
    "            else:\n",
    "                print(st1, end='', file=of)\n",
    "                print(\"S0toS{}outReady, \".format(NE-1), end='', file=of)\n",
    "            if NE==NAdd:\n",
    "                print(\"CSNoutReady1, //not used\", file=of)\n",
    "            elif NE==NAdd-1:\n",
    "                print(st1, end='', file=of)\n",
    "                print(\"S{}outReady,\".format(NE), file=of)\n",
    "            else:\n",
    "                print(st1, end='', file=of)\n",
    "                print(\"S{}toS{}outReady,\".format(NE, NAdd-1), file=of)\n",
    "    elif i==PR-ar:\n",
    "        if HRR==1:\n",
    "            print(st2, end='', file=of)\n",
    "            print(\"outReady,\", file=of)\n",
    "        else:\n",
    "            if NE==1:\n",
    "                print(st2, end='', file=of)\n",
    "                print(\"S0outReady, \", end='', file=of)\n",
    "            else:\n",
    "                print(st2, end='', file=of)\n",
    "                print(\"S0toS{}outReady, \".format(NE-1), end='', file=of)\n",
    "            if NE==NAdd:\n",
    "                print(\"CSNoutReady2, //not used\", file=of)\n",
    "            elif NE==NAdd-1:\n",
    "                print(st2, end='', file=of)\n",
    "                print(\"S{}outReady,\".format(NE), file=of)\n",
    "            else:\n",
    "                print(st2, end='', file=of)\n",
    "                print(\"S{}toS{}outReady,\".format(NE, NAdd-1), file=of)\n",
    "    else:\n",
    "        if HRR==1:\n",
    "            print(\"VA{}OR, //not used\".format(i), file=of)\n",
    "        else:\n",
    "            print(\"VA{}OR1, VA{}OR2, //both not used\".format(i, i), file=of)\n",
    "    if(HRR>1):\n",
    "        if i==0:\n",
    "            print(\"\\trowOutSeries,\".format(i), file=of)\n",
    "        else:\n",
    "            print(\"\\tLLoutSeries{}, //not used\".format(i), file=of)\n",
    "    print(\"\\t\", end='', file=of)\n",
    "    for j in range(NAdd):\n",
    "        print(\"S{}r{}, \".format(j, i), end='', file=of)\n",
    "    print(file=of)\n",
    "    print(\"\\t\", end='', file=of)    \n",
    "    if i==0:\n",
    "        if HRR==1:\n",
    "            print(st1, end='', file=of)\n",
    "            print(\"earlyOutReady\", file=of)\n",
    "        else:\n",
    "            if NE==1:\n",
    "                print(st1, end='', file=of)\n",
    "                print(\"S0earlyOutReady, \", end='', file=of)\n",
    "            else:\n",
    "                print(st1, end='', file=of)\n",
    "                print(\"S0toS{}earlyOutReady, \".format(NE-1), end='', file=of)\n",
    "            if NE==NAdd:\n",
    "                print(\"CSNearlyOutReady1 //not used\", file=of)\n",
    "            elif NE==NAdd-1:\n",
    "                print(st1, end='', file=of)\n",
    "                print(\"S{}earlyOutReady\".format(NE), file=of)\n",
    "            else:\n",
    "                print(st1, end='', file=of)\n",
    "                print(\"S{}toS{}earlyOutReady\".format(NE, NAdd-1), file=of)\n",
    "    elif i==PR-ar:\n",
    "        if HRR==1:\n",
    "            print(st2, end='', file=of)\n",
    "            print(\"earlyOutReady\", file=of)\n",
    "        else:\n",
    "            if NE==1:\n",
    "                print(st2, end='', file=of)\n",
    "                print(\"S0earlyOutReady, \", end='', file=of)\n",
    "            else:\n",
    "                print(st2, end='', file=of)\n",
    "                print(\"S0toS{}earlyOutReady, \".format(NE-1), end='', file=of)\n",
    "            if NE==NAdd:\n",
    "                print(\"CSNearlyOutReady2 //not used\", file=of)\n",
    "            elif NE==NAdd-1:\n",
    "                print(st2, end='', file=of)\n",
    "                print(\"S{}earlyOutReady\".format(NE), file=of)\n",
    "            else:\n",
    "                print(st2, end='', file=of)\n",
    "                print(\"S{}toS{}earlyOutReady\".format(NE, NAdd-1), file=of)\n",
    "    else:\n",
    "        if HRR==1:\n",
    "            print(\"VA{}EOR //not used\".format(i), file=of)\n",
    "        else:\n",
    "            print(\"VA{}EOR1, VA{}EOR2 //both not used\".format(i, i), file=of)\n",
    "    print(\"\\t);\\n\", file=of)"
   ]
  },
  {
   "cell_type": "code",
   "execution_count": 87,
   "metadata": {
    "collapsed": false
   },
   "outputs": [],
   "source": [
    "if RS!=1:\n",
    "    print(\"always @(posedge clk) begin\", file=of)\n",
    "    print(\"\\tif(reset) begin\", file=of)\n",
    "    print(\"\\t\\tcolumnOutSeries <= {};\".format(RS-1), file=of)\n",
    "    print(\"\\tend\", file=of)\n",
    "    print(\"\\telse if(enable) begin\", file=of)\n",
    "    print(\"\\t\\tif(\", end='', file=of)\n",
    "    if HRR==1:\n",
    "        print(st1, end='', file=of)\n",
    "        print(\"earlyOutReady\", end='', file=of)\n",
    "    else:\n",
    "        if NE==1:\n",
    "            print(st1, end='', file=of)\n",
    "            print(\"S0earlyOutReady\", end='', file=of)\n",
    "        else:\n",
    "            print(st1, end='', file=of)\n",
    "            print(\"S0toS{}earlyOutReady\".format(NE-1), end='', file=of)\n",
    "    print(\") begin\", file=of)\n",
    "    if HRR!=1:\n",
    "        print(\"\\t\\t\\tif(rowOutSeries=={}) begin\".format(HRR-1), file=of)\n",
    "        print(\"\\t\", end='', file=of)\n",
    "    print(\"\\t\\t\\tif(columnOutSeries=={}) begin\".format(RS-1), file=of)\n",
    "    if HRR!=1:\n",
    "        print(\"\\t\", end='', file=of)\n",
    "    print(\"\\t\\t\\t\\tcolumnOutSeries <= 0;\", file=of)\n",
    "    if HRR!=1:\n",
    "        print(\"\\t\", end='', file=of)\n",
    "    print(\"\\t\\t\\tend\", file=of)\n",
    "    if HRR!=1:\n",
    "        print(\"\\t\", end='', file=of)\n",
    "    print(\"\\t\\t\\telse begin\", file=of)\n",
    "    if HRR!=1:\n",
    "        print(\"\\t\", end='', file=of)\n",
    "    if RS==2:\n",
    "        print(\"\\t\\t\\t\\tcolumnOutSeries <= 1;\", file=of)\n",
    "    else:\n",
    "        print(\"\\t\\t\\t\\tcolumnOutSeries <= columnOutSeries+1;\", file=of)\n",
    "    if HRR!=1:\n",
    "        print(\"\\t\", end='', file=of)\n",
    "    print(\"\\t\\t\\tend\", file=of)\n",
    "    if HRR!=1:\n",
    "        print(\"\\t\\t\\tend\", file=of)\n",
    "    print(\"\\t\\tend\", file=of)\n",
    "    print(\"\\tend\", file=of)\n",
    "    print(\"end\", file=of)\n",
    "    print(file=of)"
   ]
  },
  {
   "cell_type": "code",
   "execution_count": 88,
   "metadata": {
    "collapsed": false
   },
   "outputs": [],
   "source": [
    "print(\"endmodule\", file=of)"
   ]
  },
  {
   "cell_type": "code",
   "execution_count": 89,
   "metadata": {
    "collapsed": true
   },
   "outputs": [],
   "source": [
    "if __Print_To_File>0:\n",
    "    of.close()"
   ]
  }
 ],
 "metadata": {
  "kernelspec": {
   "display_name": "Python 3",
   "language": "python",
   "name": "python3"
  },
  "language_info": {
   "codemirror_mode": {
    "name": "ipython",
    "version": 3
   },
   "file_extension": ".py",
   "mimetype": "text/x-python",
   "name": "python",
   "nbconvert_exporter": "python",
   "pygments_lexer": "ipython3",
   "version": "3.5.1"
  }
 },
 "nbformat": 4,
 "nbformat_minor": 0
}
