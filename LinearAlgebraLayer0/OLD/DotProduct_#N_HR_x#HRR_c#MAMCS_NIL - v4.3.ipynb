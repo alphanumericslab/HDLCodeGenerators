{
 "cells": [
  {
   "cell_type": "code",
   "execution_count": 1,
   "metadata": {
    "collapsed": true
   },
   "outputs": [],
   "source": [
    "#changed inputs and outputs order\n",
    "#completed and changed output file and module name\n",
    "#changed initial checks\n",
    "#corrected commented state machine\n",
    "#added _Use_Registered_earlyNewOutReady_If_Available\n",
    "#removed sign extension when not needed"
   ]
  },
  {
   "cell_type": "code",
   "execution_count": 2,
   "metadata": {
    "collapsed": true
   },
   "outputs": [],
   "source": [
    "#uses DotProduct_Systolic - v1.0\n",
    "#uses AdderTree - v1.1x"
   ]
  },
  {
   "cell_type": "code",
   "execution_count": 3,
   "metadata": {
    "collapsed": true
   },
   "outputs": [],
   "source": [
    "import sys\n",
    "import math"
   ]
  },
  {
   "cell_type": "code",
   "execution_count": 4,
   "metadata": {
    "collapsed": false
   },
   "outputs": [
    {
     "name": "stdout",
     "output_type": "stream",
     "text": [
      "Enter N: 31\n"
     ]
    }
   ],
   "source": [
    "#N>=1\n",
    "#N better to be >= HRR, if N<HRR, can decrease HRR (to N)\n",
    "N = input('Enter N: ')"
   ]
  },
  {
   "cell_type": "code",
   "execution_count": 5,
   "metadata": {
    "collapsed": false,
    "scrolled": false
   },
   "outputs": [
    {
     "name": "stdout",
     "output_type": "stream",
     "text": [
      "Enter HRR (empty for 2): 3\n"
     ]
    }
   ],
   "source": [
    "#HRR>=2\n",
    "HRR = input('Enter HRR (empty for 2): ')"
   ]
  },
  {
   "cell_type": "code",
   "execution_count": 6,
   "metadata": {
    "collapsed": true
   },
   "outputs": [],
   "source": [
    "N = int(N)\n",
    "if(N<1):\n",
    "    N=1\n",
    "if not HRR:\n",
    "    HRR=2\n",
    "else:\n",
    "    HRR = int(HRR)\n",
    "    if(HRR<2):\n",
    "        HRR=2\n",
    "NMult = math.ceil(N/HRR); #Number of Multipliers Needed"
   ]
  },
  {
   "cell_type": "code",
   "execution_count": 7,
   "metadata": {
    "collapsed": false
   },
   "outputs": [
    {
     "name": "stdout",
     "output_type": "stream",
     "text": [
      "Enter Multiply-Add Max Component Size (empty for 11): 4\n"
     ]
    }
   ],
   "source": [
    "#MAMCS>=1\n",
    "MAMCS = input('Enter Multiply-Add Max Component Size (empty for {}): '.format(NMult))"
   ]
  },
  {
   "cell_type": "code",
   "execution_count": 8,
   "metadata": {
    "collapsed": false
   },
   "outputs": [
    {
     "name": "stdout",
     "output_type": "stream",
     "text": [
      "Enter IN_WIDTH default value (empty for 10): 10\n"
     ]
    }
   ],
   "source": [
    "#IN_WIDTH>=1\n",
    "IN_WIDTH = input('Enter IN_WIDTH default value (empty for 10): ')"
   ]
  },
  {
   "cell_type": "code",
   "execution_count": 9,
   "metadata": {
    "collapsed": false
   },
   "outputs": [
    {
     "name": "stdout",
     "output_type": "stream",
     "text": [
      "Enter INPUT_REG_DEPTH default value (empty for 1): \n"
     ]
    }
   ],
   "source": [
    "#INPUT_REG_DEPTH>=0\n",
    "INPUT_REG_DEPTH = input('Enter INPUT_REG_DEPTH default value (empty for 1): ')"
   ]
  },
  {
   "cell_type": "code",
   "execution_count": 10,
   "metadata": {
    "collapsed": false
   },
   "outputs": [
    {
     "name": "stdout",
     "output_type": "stream",
     "text": [
      "Enter MULT_PIPE_DEPTH default value (empty for 1): \n"
     ]
    }
   ],
   "source": [
    "#MULT_PIPE_DEPTH>=0\n",
    "MULT_PIPE_DEPTH = input('Enter MULT_PIPE_DEPTH default value (empty for 1): ')"
   ]
  },
  {
   "cell_type": "code",
   "execution_count": 11,
   "metadata": {
    "collapsed": false
   },
   "outputs": [
    {
     "name": "stdout",
     "output_type": "stream",
     "text": [
      "Use Registered earlyNewOutReady If Available? (empty or 1 to enable, 0 to disable): \n"
     ]
    }
   ],
   "source": [
    "_Use_Registered_earlyNewOutReady_If_Available = input('Use Registered earlyNewOutReady If Available? (empty or 1 to enable, 0 to disable): ')"
   ]
  },
  {
   "cell_type": "code",
   "execution_count": 12,
   "metadata": {
    "collapsed": false
   },
   "outputs": [],
   "source": [
    "if not MAMCS:\n",
    "    MAMCS = NMult\n",
    "else:\n",
    "    MAMCS = int(MAMCS)\n",
    "if MAMCS>=NMult:\n",
    "    MAMCS = NMult;\n",
    "    NumOfMaxSizeComponents = 1\n",
    "    NonMaxSizeComponentSize = 0\n",
    "else:\n",
    "    if(MAMCS<1):\n",
    "        MAMCS=1\n",
    "    NumOfMaxSizeComponents = math.floor(NMult/MAMCS)\n",
    "    if (NMult/MAMCS) == NumOfMaxSizeComponents:\n",
    "        NonMaxSizeComponentSize = 0\n",
    "    else:\n",
    "        NonMaxSizeComponentSize = NMult - MAMCS*NumOfMaxSizeComponents       \n",
    "NumOfComponents = NumOfMaxSizeComponents + (NonMaxSizeComponentSize!=0)\n",
    "if not IN_WIDTH:\n",
    "    IN_WIDTH=10\n",
    "else:\n",
    "    IN_WIDTH = int(IN_WIDTH)\n",
    "    if(IN_WIDTH<1):\n",
    "        IN_WIDTH=1\n",
    "if not INPUT_REG_DEPTH:\n",
    "    INPUT_REG_DEPTH=1\n",
    "else:\n",
    "    INPUT_REG_DEPTH = int(INPUT_REG_DEPTH)\n",
    "    if(INPUT_REG_DEPTH<0):\n",
    "        INPUT_REG_DEPTH=0\n",
    "if not MULT_PIPE_DEPTH:\n",
    "    MULT_PIPE_DEPTH=1\n",
    "else:\n",
    "    MULT_PIPE_DEPTH = int(MULT_PIPE_DEPTH)\n",
    "    if(MULT_PIPE_DEPTH<0):\n",
    "        MULT_PIPE_DEPTH=0\n",
    "if not _Use_Registered_earlyNewOutReady_If_Available:\n",
    "    _Use_Registered_earlyNewOutReady_If_Available = 1\n",
    "else:\n",
    "    _Use_Registered_earlyNewOutReady_If_Available = int(_Use_Registered_earlyNewOutReady_If_Available)"
   ]
  },
  {
   "cell_type": "code",
   "execution_count": 13,
   "metadata": {
    "collapsed": false
   },
   "outputs": [],
   "source": [
    "__Print_To_File = 0\n",
    "\n",
    "if __Print_To_File<=0:\n",
    "    of=sys.stdout\n",
    "else:\n",
    "    of=open(\"./DotProduct_{}_HR_x{}_c{}_NIL.v\".format(N, HRR, MAMCS), 'w+')"
   ]
  },
  {
   "cell_type": "code",
   "execution_count": 14,
   "metadata": {
    "collapsed": false,
    "scrolled": true
   },
   "outputs": [
    {
     "name": "stdout",
     "output_type": "stream",
     "text": [
      "`timescale 1ns / 1ps\n",
      "\n",
      "module DotProduct_31_HR_x3_c4_NIL\n",
      "#(\n",
      "parameter IN_WIDTH = 10,\n",
      "parameter INPUT_REG_DEPTH = 1,\n",
      "parameter MULT_PIPE_DEPTH = 1\n",
      ")(\n",
      "input clk, reset, enable,\n",
      "output reg readyForNewDataSeries = 1,\n",
      "output reg [1:0] inSeries = 0,\n",
      "input inReady,\n",
      "input signed [IN_WIDTH-1:0] A0, A1, A2, A3, A4, A5, A6, A7, A8, A9, A10, A11, A12, A13, A14, A15, A16, A17, A18, A19, A20, A21, A22, A23, A24, A25, A26, A27, A28, A29, A30, \n",
      "input signed [IN_WIDTH-1:0] B0, B1, B2, B3, B4, B5, B6, B7, B8, B9, B10, B11, B12, B13, B14, B15, B16, B17, B18, B19, B20, B21, B22, B23, B24, B25, B26, B27, B28, B29, B30, \n",
      "output reg newOutReady = 0,\n",
      "output reg signed [(2*IN_WIDTH)+3:0] DP,\n",
      "output earlyNewOutReady\n",
      ");\n",
      "\n"
     ]
    }
   ],
   "source": [
    "print(\"`timescale 1ns / 1ps\\n\", file=of)\n",
    "print(\"module DotProduct_{}_HR_x{}_c{}_NIL\".format(N, HRR, MAMCS), file=of)\n",
    "print(\"#(\", file=of)\n",
    "print(\"parameter IN_WIDTH = {},\".format(IN_WIDTH), file=of)\n",
    "print(\"parameter INPUT_REG_DEPTH = {},\".format(INPUT_REG_DEPTH), file=of)\n",
    "print(\"parameter MULT_PIPE_DEPTH = {}\".format(MULT_PIPE_DEPTH), file=of)\n",
    "print(\")(\", file=of)\n",
    "print(\"input clk, reset, enable,\", file=of)\n",
    "#print(\"input clk{}x,\".format(HRR), file=of)\n",
    "print(\"output reg readyForNewDataSeries = 1,\", file=of)\n",
    "lghrr=math.ceil(math.log2(HRR))\n",
    "if lghrr==1:\n",
    "    print(\"output reg inSeries = 0,\", file=of)\n",
    "else:\n",
    "    print(\"output reg [{}:0] inSeries = 0,\".format(lghrr-1), file=of)\n",
    "print(\"input inReady,\", file=of)\n",
    "print(\"input signed [IN_WIDTH-1:0] \", end='', file=of)\n",
    "for i in range(N):\n",
    "    print(\"A{}, \".format(i), end='', file=of)\n",
    "print(file=of)\n",
    "print(\"input signed [IN_WIDTH-1:0] \", end='', file=of)\n",
    "for i in range(N):\n",
    "    print(\"B{}, \".format(i), end='', file=of)\n",
    "print(file=of)\n",
    "print(\"output reg newOutReady = 0,\", file=of)\n",
    "lgn=math.ceil(math.log2(N))\n",
    "al=-2+lgn\n",
    "if al==0:\n",
    "    print(\"output reg signed [(2*IN_WIDTH):0] DP,\", file=of)\n",
    "elif al<0:\n",
    "    print(\"output reg signed [(2*IN_WIDTH){}:0] DP,\".format(al), file=of)\n",
    "else:\n",
    "    print(\"output reg signed [(2*IN_WIDTH)+{}:0] DP,\".format(al), file=of)\n",
    "print(\"output earlyNewOutReady\", file=of)\n",
    "print(\");\\n\", file=of)"
   ]
  },
  {
   "cell_type": "code",
   "execution_count": 15,
   "metadata": {
    "collapsed": false
   },
   "outputs": [
    {
     "name": "stdout",
     "output_type": "stream",
     "text": [
      "reg LLinReady = 0;\n",
      "reg signed [IN_WIDTH-1:0] SA0, SA1, SA2, SA3, SA4, SA5, SA6, SA7, SA8, SA9, SA10;\n",
      "reg signed [IN_WIDTH-1:0] SB0, SB1, SB2, SB3, SB4, SB5, SB6, SB7, SB8, SB9, SB10;\n",
      "\n"
     ]
    }
   ],
   "source": [
    "lgMAMCS=math.ceil(math.log2(MAMCS))\n",
    "palM=-2+lgMAMCS\n",
    "print(\"reg LLinReady = 0;\", file=of)\n",
    "print(\"reg signed [IN_WIDTH-1:0] \", end='', file=of)\n",
    "for i in range(NMult-1):\n",
    "    print(\"SA{}, \".format(i), end='', file=of)\n",
    "print(\"SA{};\".format(NMult-1), file=of)\n",
    "print(\"reg signed [IN_WIDTH-1:0] \", end='', file=of)\n",
    "for i in range(NMult-1):\n",
    "    print(\"SB{}, \".format(i), end='', file=of)\n",
    "print(\"SB{};\".format(NMult-1), file=of)\n",
    "print(file=of)"
   ]
  },
  {
   "cell_type": "code",
   "execution_count": 16,
   "metadata": {
    "collapsed": false
   },
   "outputs": [
    {
     "name": "stdout",
     "output_type": "stream",
     "text": [
      "wire DPOutReady;\n",
      "wire signed [(2*IN_WIDTH):0] DPpart0;\n",
      "DotProduct_Systolic_4#( .IN_WIDTH(IN_WIDTH), .INPUT_REG_DEPTH(INPUT_REG_DEPTH), .MULT_PIPE_DEPTH(MULT_PIPE_DEPTH) )\n",
      "\tDPS4_0(clk, reset, enable,\n",
      "\tLLinReady,\n",
      "\tSA0, SA1, SA2, SA3, \n",
      "\tSB0, SB1, SB2, SB3, \n",
      "\tDPOutReady,\n",
      "\tDPpart0);\n",
      "\n",
      "wire signed [(2*IN_WIDTH):0] DPpart1;\n",
      "DotProduct_Systolic_4#( .IN_WIDTH(IN_WIDTH), .INPUT_REG_DEPTH(INPUT_REG_DEPTH), .MULT_PIPE_DEPTH(MULT_PIPE_DEPTH) )\n",
      "\tDPS4_1(clk, reset, enable,\n",
      "\tLLinReady,\n",
      "\tSA4, SA5, SA6, SA7, \n",
      "\tSB4, SB5, SB6, SB7, \n",
      "\tDPOutReady1, //not used\n",
      "\tDPpart1);\n",
      "\n"
     ]
    }
   ],
   "source": [
    "if MAMCS>1:\n",
    "    print(\"wire DPOutReady;\", file=of)\n",
    "    for i in range (NumOfMaxSizeComponents):\n",
    "        if palM==0:\n",
    "            print(\"wire signed [(2*IN_WIDTH):0] DPpart\", end='', file=of)\n",
    "        elif palM<0:\n",
    "            print(\"wire signed [(2*IN_WIDTH){}:0] DPpart\".format(palM), end='', file=of)\n",
    "        else:\n",
    "            print(\"wire signed [(2*IN_WIDTH)+{}:0] DPpart\".format(palM), end='', file=of)\n",
    "        if NumOfComponents>1:\n",
    "            print(\"{};\".format(i), file=of)\n",
    "        else:\n",
    "            print(\";\", file=of)\n",
    "        print(\"DotProduct_Systolic_{}#( .IN_WIDTH(IN_WIDTH), .INPUT_REG_DEPTH(INPUT_REG_DEPTH), .MULT_PIPE_DEPTH(MULT_PIPE_DEPTH) )\".format(MAMCS), file=of)\n",
    "        print(\"\\tDPS{}_{}(clk, reset, enable,\".format(MAMCS, i), file=of)\n",
    "        print(\"\\tLLinReady,\", file=of)\n",
    "        print(\"\\t\", end='', file=of)\n",
    "        for j in range(MAMCS):\n",
    "            print(\"SA{}, \".format(MAMCS*i+j), end='', file=of)\n",
    "        print(file=of)\n",
    "        print(\"\\t\", end='', file=of)\n",
    "        for j in range(MAMCS):\n",
    "            print(\"SB{}, \".format(MAMCS*i+j), end='', file=of)\n",
    "        print(file=of)\n",
    "        if i==0:\n",
    "            print(\"\\tDPOutReady,\", file=of)\n",
    "        else:\n",
    "            print(\"\\tDPOutReady{}, //not used\".format(i), file=of)\n",
    "        print(\"\\tDPpart\", end='', file=of)\n",
    "        if NumOfComponents>1:\n",
    "            print(\"{});\\n\".format(i), file=of)\n",
    "        else:\n",
    "            print(\");\\n\", file=of)"
   ]
  },
  {
   "cell_type": "code",
   "execution_count": 17,
   "metadata": {
    "collapsed": false
   },
   "outputs": [],
   "source": [
    "if MAMCS==1:\n",
    "    print(\"wire signed [(2*IN_WIDTH)-1:0] \", end='', file=of) #-2 is enough, XST\n",
    "    for i in range (NumOfMaxSizeComponents):    \n",
    "        print(\"DPpart\".format(i), end='', file=of)\n",
    "        if NumOfComponents>1:\n",
    "            print(\"{}\".format(i), end='', file=of)\n",
    "        if i==NumOfMaxSizeComponents-1:\n",
    "            print(\";\", file=of)              \n",
    "        else:\n",
    "            print(\", \", end='', file=of)\n",
    "    print(\"wire DPOutReady;\\n\", file=of)"
   ]
  },
  {
   "cell_type": "code",
   "execution_count": 18,
   "metadata": {
    "collapsed": false
   },
   "outputs": [],
   "source": [
    "if MAMCS==1:\n",
    "    print(\"generate\", file=of)\n",
    "    print(\"if(INPUT_REG_DEPTH==0 && MULT_PIPE_DEPTH==0) begin\\n\", file=of)\n",
    "    if NumOfComponents>1:\n",
    "        for i in range (NumOfMaxSizeComponents):    \n",
    "            print(\"assign DPpart{} = SA{}*SB{};\".format(i, i, i),file=of)\n",
    "    else:\n",
    "        print(\"assign DPpart = SA0*SB0;\", file=of)\n",
    "    print(\"assign DPOutReady = LLinReady;\\n\", file=of)\n",
    "    print(\"end\", file=of)"
   ]
  },
  {
   "cell_type": "code",
   "execution_count": 19,
   "metadata": {
    "collapsed": false
   },
   "outputs": [],
   "source": [
    "if MAMCS==1:\n",
    "    print(\"else if(INPUT_REG_DEPTH==0 && MULT_PIPE_DEPTH!=0) begin\\n\", file=of)\n",
    "    print(\"reg signed [(2*IN_WIDTH)-1:0] \", end='', file=of) #-2 is enough, XST\n",
    "    for i in range (NumOfMaxSizeComponents):    \n",
    "        print(\"DPpartR{}[0:MULT_PIPE_DEPTH-1]\".format(i), end='', file=of)\n",
    "        if i==NumOfMaxSizeComponents-1:\n",
    "            print(\";\", file=of)              \n",
    "        else:\n",
    "            print(\", \", end='', file=of)\n",
    "    print(\"integer i;\", file=of)\n",
    "    print(\"reg [0:MULT_PIPE_DEPTH-1] DPOutReadyR = 0;\", file=of)\n",
    "    print(\"always @(posedge clk) begin\", file=of)\n",
    "    print(\"\\tif(reset) begin\", file=of)\n",
    "    print(\"\\t\\tDPOutReadyR <= 0;\", file=of)\n",
    "    print(\"\\tend\", file=of)\n",
    "    print(\"\\telse if(enable) begin\", file=of)\n",
    "    for i in range (NumOfMaxSizeComponents):   \n",
    "        print(\"\\t\\tDPpartR{}[0]\".format(i), end='', file=of)\n",
    "        print(\" <= SA{}*SB{};\".format(i, i), file=of)\n",
    "    print(\"\\t\\tDPOutReadyR[0] <= LLinReady;\", file=of)\n",
    "    print(\"\\t\\tfor(i=0;i<(MULT_PIPE_DEPTH-1);i=i+1) begin\", file=of)\n",
    "    for i in range (NumOfMaxSizeComponents):\n",
    "        print(\"\\t\\t\\tDPpartR{}[i+1] <= DPpartR{}[i];\".format(i, i), file=of)\n",
    "    print(\"\\t\\t\\tDPOutReadyR[i+1] <= DPOutReadyR[i];\", file=of)    \n",
    "    print(\"\\t\\tend\", file=of)\n",
    "    print(\"\\tend\", file=of)\n",
    "    print(\"end\", file=of)\n",
    "    if NumOfComponents==1:\n",
    "        print(\"assign DPpart = DPpartR0[MULT_PIPE_DEPTH-1];\", file=of)\n",
    "    else:\n",
    "        for i in range (NumOfMaxSizeComponents):    \n",
    "            print(\"assign DPpart{} = DPpartR{}[MULT_PIPE_DEPTH-1];\".format(i, i),file=of)\n",
    "    print(\"assign DPOutReady = DPOutReadyR[MULT_PIPE_DEPTH-1];\\n\", file=of)\n",
    "    print(\"end\", file=of)"
   ]
  },
  {
   "cell_type": "code",
   "execution_count": 20,
   "metadata": {
    "collapsed": false
   },
   "outputs": [],
   "source": [
    "if MAMCS==1:\n",
    "    print(\"else if(INPUT_REG_DEPTH!=0 && MULT_PIPE_DEPTH==0) begin\\n\", file=of)\n",
    "    for i in range (NumOfMaxSizeComponents):   \n",
    "        print(\"reg signed [IN_WIDTH-1:0] SA{}r [1:INPUT_REG_DEPTH], SB{}r [1:INPUT_REG_DEPTH];\".format(i, i), file=of)\n",
    "    print(\"integer i, j;\", file=of)\n",
    "    print(\"reg [0:INPUT_REG_DEPTH-1] DPOutReadyR = 0;\", file=of)\n",
    "    print(\"always @(posedge clk) begin\", file=of)\n",
    "    print(\"\\tif(reset) begin\", file=of)\n",
    "    print(\"\\t\\tDPOutReadyR <= 0;\", file=of)\n",
    "    print(\"\\tend\", file=of)\n",
    "    print(\"\\telse if(enable) begin\", file=of)\n",
    "    for i in range(NumOfMaxSizeComponents):\n",
    "        print(\"\\t\\tSA{}r[1] <= SA{};\".format(i,i), file=of)\n",
    "        print(\"\\t\\tSB{}r[1] <= SB{};\".format(i,i), file=of)    \n",
    "    print(\"\\t\\tfor(j=1;j<INPUT_REG_DEPTH;j=j+1) begin\", file=of)\n",
    "    for i in range(NumOfMaxSizeComponents):\n",
    "        print(\"\\t\\t\\tSA{}r[j+1] <= SA{}r[j];\".format(i,i), file=of)\n",
    "        print(\"\\t\\t\\tSB{}r[j+1] <= SB{}r[j];\".format(i,i), file=of)\n",
    "    print(\"\\t\\tend\", file=of)\n",
    "    print(\"\\t\\tDPOutReadyR[0] <= LLinReady;\", file=of)\n",
    "    print(\"\\t\\tfor(i=0;i<(INPUT_REG_DEPTH-1);i=i+1) begin\", file=of)\n",
    "    print(\"\\t\\t\\tDPOutReadyR[i+1] <= DPOutReadyR[i];\", file=of)    \n",
    "    print(\"\\t\\tend\", file=of)\n",
    "    print(\"\\tend\", file=of)\n",
    "    print(\"end\", file=of)\n",
    "    if NumOfComponents>1:\n",
    "        for i in range (NumOfMaxSizeComponents):    \n",
    "            print(\"assign DPpart{} = SA{}r[INPUT_REG_DEPTH]*SB{}r[INPUT_REG_DEPTH];\".format(i, i, i),file=of)\n",
    "    else:\n",
    "        print(\"assign DPpart = SA0r[INPUT_REG_DEPTH]*SB0r[INPUT_REG_DEPTH];\", file=of)\n",
    "    print(\"assign DPOutReady = DPOutReadyR[INPUT_REG_DEPTH-1];\\n\", file=of)\n",
    "    print(\"end\", file=of)"
   ]
  },
  {
   "cell_type": "code",
   "execution_count": 21,
   "metadata": {
    "collapsed": false
   },
   "outputs": [],
   "source": [
    "if MAMCS==1:\n",
    "    print(\"else begin //if(INPUT_REG_DEPTH!=0 && MULT_PIPE_DEPTH!=0)\\n\", file=of)\n",
    "    for i in range (NumOfMaxSizeComponents):   \n",
    "        print(\"reg signed [IN_WIDTH-1:0] SA{}r [1:INPUT_REG_DEPTH], SB{}r [1:INPUT_REG_DEPTH];\".format(i, i), file=of)\n",
    "    print(\"reg signed [(2*IN_WIDTH)-1:0] \", end='', file=of) #-2 is enough, XST\n",
    "    for i in range (NumOfMaxSizeComponents):    \n",
    "        print(\"DPpartR{}[0:MULT_PIPE_DEPTH-1]\".format(i), end='', file=of)\n",
    "        if i==NumOfMaxSizeComponents-1:\n",
    "            print(\";\", file=of)              \n",
    "        else:\n",
    "            print(\", \", end='', file=of)\n",
    "    print(\"integer i, j, k;\", file=of)\n",
    "    print(\"reg [0:INPUT_REG_DEPTH+MULT_PIPE_DEPTH-1] DPOutReadyR = 0;\", file=of)\n",
    "    print(\"always @(posedge clk) begin\", file=of)\n",
    "    print(\"\\tif(reset) begin\", file=of)\n",
    "    print(\"\\t\\tDPOutReadyR <= 0;\", file=of)\n",
    "    print(\"\\tend\", file=of)\n",
    "    print(\"\\telse if(enable) begin\", file=of)\n",
    "    for i in range(NumOfMaxSizeComponents):\n",
    "        print(\"\\t\\tSA{}r[1] <= SA{};\".format(i,i), file=of)\n",
    "        print(\"\\t\\tSB{}r[1] <= SB{};\".format(i,i), file=of)    \n",
    "    print(\"\\t\\tfor(j=1;j<INPUT_REG_DEPTH;j=j+1) begin\", file=of)\n",
    "    for i in range(NumOfMaxSizeComponents):\n",
    "        print(\"\\t\\t\\tSA{}r[j+1] <= SA{}r[j];\".format(i,i), file=of)\n",
    "        print(\"\\t\\t\\tSB{}r[j+1] <= SB{}r[j];\".format(i,i), file=of)\n",
    "    print(\"\\t\\tend\", file=of)\n",
    "    for i in range (NumOfMaxSizeComponents):   \n",
    "        print(\"\\t\\tDPpartR{}[0]\".format(i), end='', file=of)\n",
    "        print(\" <= SA{}r[INPUT_REG_DEPTH]*SB{}r[INPUT_REG_DEPTH];\".format(i, i), file=of)\n",
    "    print(\"\\t\\tfor(k=0;k<(MULT_PIPE_DEPTH-1);k=k+1) begin\", file=of)\n",
    "    for i in range (NumOfMaxSizeComponents):\n",
    "        print(\"\\t\\t\\tDPpartR{}[k+1] <= DPpartR{}[k];\".format(i, i), file=of)\n",
    "    print(\"\\t\\tend\", file=of)\n",
    "    print(\"\\t\\tDPOutReadyR[0] <= inReady;\", file=of)\n",
    "    print(\"\\t\\tfor(i=0;i<(INPUT_REG_DEPTH+MULT_PIPE_DEPTH-1);i=i+1) begin\", file=of)\n",
    "    print(\"\\t\\t\\tDPOutReadyR[i+1] <= DPOutReadyR[i];\", file=of)    \n",
    "    print(\"\\t\\tend\", file=of)\n",
    "    print(\"\\tend\", file=of)\n",
    "    print(\"end\", file=of)\n",
    "    if NumOfComponents==1:\n",
    "        print(\"assign DPpart = DPpartR0[MULT_PIPE_DEPTH-1];\", file=of)\n",
    "    else:\n",
    "        for i in range (NumOfMaxSizeComponents):    \n",
    "            print(\"assign DPpart{} = DPpartR{}[MULT_PIPE_DEPTH-1];\".format(i, i),file=of)\n",
    "    print(\"assign DPOutReady = DPOutReadyR[INPUT_REG_DEPTH+MULT_PIPE_DEPTH-1];\\n\", file=of)\n",
    "    print(\"end\", file=of)\n",
    "    print(\"endgenerate\\n\", file=of)"
   ]
  },
  {
   "cell_type": "code",
   "execution_count": 22,
   "metadata": {
    "collapsed": false
   },
   "outputs": [
    {
     "name": "stdout",
     "output_type": "stream",
     "text": [
      "wire signed [(2*IN_WIDTH):0] DPpart2;\n",
      "DotProduct_Systolic_3#( .IN_WIDTH(IN_WIDTH), .INPUT_REG_DEPTH(INPUT_REG_DEPTH+1), .MULT_PIPE_DEPTH(MULT_PIPE_DEPTH) )\n",
      "\tDPS3(clk, reset, enable,\n",
      "\tLLinReady,\n",
      "\tSA8, SA9, SA10, \n",
      "\tSB8, SB9, SB10, \n",
      "\tDPOutReady2, //not used\n",
      "\tDPpart2);\n",
      "\n"
     ]
    }
   ],
   "source": [
    "if NonMaxSizeComponentSize>1:\n",
    "    LGNonMaxSizeComponentSize=math.ceil(math.log2(NonMaxSizeComponentSize))\n",
    "    palN=-2+LGNonMaxSizeComponentSize\n",
    "    if palN==0:\n",
    "        print(\"wire signed [(2*IN_WIDTH):0] DPpart{};\".format(NumOfMaxSizeComponents), file=of)\n",
    "    elif palN<0:\n",
    "        print(\"wire signed [(2*IN_WIDTH){}:0] DPpart{};\".format(palN, NumOfMaxSizeComponents), file=of)\n",
    "    else:\n",
    "        print(\"wire signed [(2*IN_WIDTH)+{}:0] DPpart{};\".format(palN, NumOfMaxSizeComponents), file=of)\n",
    "    print(\"DotProduct_Systolic_{}#( .IN_WIDTH(IN_WIDTH), .INPUT_REG_DEPTH(INPUT_REG_DEPTH+{}), .MULT_PIPE_DEPTH(MULT_PIPE_DEPTH) )\".format(NonMaxSizeComponentSize, MAMCS-NonMaxSizeComponentSize), file=of)\n",
    "    print(\"\\tDPS{}(clk, reset, enable,\".format(NonMaxSizeComponentSize), file=of)\n",
    "    print(\"\\tLLinReady,\", file=of)\n",
    "    print(\"\\t\", end='', file=of)\n",
    "    for j in range(NonMaxSizeComponentSize):\n",
    "        print(\"SA{}, \".format(MAMCS*NumOfMaxSizeComponents+j), end='', file=of)\n",
    "    print(file=of)\n",
    "    print(\"\\t\", end='', file=of)\n",
    "    for j in range(NonMaxSizeComponentSize):\n",
    "        print(\"SB{}, \".format(MAMCS*NumOfMaxSizeComponents+j), end='', file=of)\n",
    "    print(file=of)\n",
    "    print(\"\\tDPOutReady{}, //not used\".format(NumOfMaxSizeComponents), file=of)\n",
    "    print(\"\\tDPpart{});\".format(NumOfMaxSizeComponents), file=of)\n",
    "    #naming and sign extend (if needed)\n",
    "    if palM-palN>0:\n",
    "        if palM==0:\n",
    "            print(\"wire signed [(2*IN_WIDTH):0] DPpart{}E = \".format(NumOfMaxSizeComponents), end='', file=of)    \n",
    "        elif palM<0:\n",
    "            print(\"wire signed [(2*IN_WIDTH){}:0] DPpart{}E = \".format(palM, NumOfMaxSizeComponents), end='', file=of)    \n",
    "        else:\n",
    "            print(\"wire signed [(2*IN_WIDTH)+{}:0] DPpart{}E = \".format(palM, NumOfMaxSizeComponents), end='', file=of)\n",
    "    #if palM-palN==0:\n",
    "    #    print(\"DPpart{};\".format(NumOfMaxSizeComponents, NumOfMaxSizeComponents), file=of)    \n",
    "    #else:\n",
    "        if palN==0:\n",
    "            print(\"{{{{{}{{DPpart{}[(2*IN_WIDTH)]}}}},DPpart{}}};\".format(palM-palN, NumOfMaxSizeComponents, NumOfMaxSizeComponents), file=of)    \n",
    "        elif palN<0:\n",
    "            print(\"{{{{{}{{DPpart{}[(2*IN_WIDTH){}]}}}},DPpart{}}};\".format(palM-palN, NumOfMaxSizeComponents, palN, NumOfMaxSizeComponents), file=of)                \n",
    "        else:\n",
    "            print(\"{{{{{}{{DPpart{}[(2*IN_WIDTH)+{}]}}}},DPpart{}}};\".format(palM-palN, NumOfMaxSizeComponents, palN, NumOfMaxSizeComponents), file=of)    \n",
    "    print(file=of)"
   ]
  },
  {
   "cell_type": "code",
   "execution_count": 23,
   "metadata": {
    "collapsed": false
   },
   "outputs": [],
   "source": [
    "if NonMaxSizeComponentSize==1:\n",
    "    print(\"reg signed [IN_WIDTH-1:0] SA{}r[1:{}+INPUT_REG_DEPTH], SB{}r[1:{}+INPUT_REG_DEPTH];\".format(MAMCS*NumOfMaxSizeComponents, MAMCS-1, MAMCS*NumOfMaxSizeComponents, MAMCS-1), file=of)\n",
    "    if palM==0:\n",
    "        print(\"wire signed [(2*IN_WIDTH):0] DPpart{}E;\".format(NumOfMaxSizeComponents), file=of)    \n",
    "    elif palM<0:\n",
    "        print(\"wire signed [(2*IN_WIDTH){}:0] DPpart{}E;\".format(palM, NumOfMaxSizeComponents), file=of)    \n",
    "    else:\n",
    "        print(\"wire signed [(2*IN_WIDTH)+{}:0] DPpart{}E;\".format(palM ,NumOfMaxSizeComponents), file=of)\n",
    "    print(\"generate\", file=of)\n",
    "    print(\"if(MULT_PIPE_DEPTH==0) begin\\n\", file=of)\n",
    "    print(\"integer i;\", file=of)\n",
    "    print(\"always @(posedge clk) begin\", file=of)\n",
    "    print(\"\\tif(enable) begin\", file=of)\n",
    "    print(\"\\t\\tSA{}r[1] <= SA{};\".format(MAMCS*NumOfMaxSizeComponents, MAMCS*NumOfMaxSizeComponents), file=of)\n",
    "    print(\"\\t\\tSB{}r[1] <= SB{};\".format(MAMCS*NumOfMaxSizeComponents, MAMCS*NumOfMaxSizeComponents), file=of)\n",
    "    print(\"\\t\\tfor(i=1;i<({}+INPUT_REG_DEPTH);i=i+1) begin\".format(MAMCS-1), file=of)\n",
    "    print(\"\\t\\t\\tSA{}r[i+1] <= SA{}r[i];\".format(MAMCS*NumOfMaxSizeComponents, MAMCS*NumOfMaxSizeComponents), file=of)\n",
    "    print(\"\\t\\t\\tSB{}r[i+1] <= SB{}r[i];\".format(MAMCS*NumOfMaxSizeComponents, MAMCS*NumOfMaxSizeComponents), file=of)\n",
    "    print(\"\\t\\tend\", file=of)\n",
    "    print(\"\\tend\", file=of)\n",
    "    print(\"end\", file=of)\n",
    "    print(\"wire signed [(2*IN_WIDTH)-1:0] DPpart{} = SA{}r[{}+INPUT_REG_DEPTH]*SB{}r[{}+INPUT_REG_DEPTH];\".format(NumOfMaxSizeComponents, MAMCS*NumOfMaxSizeComponents, MAMCS-1, MAMCS*NumOfMaxSizeComponents, MAMCS-1), file=of)\n",
    "    #naming and sign extend (if needed)\n",
    "    if MAMCS==2: #palM==-1\n",
    "        print(\"assign DPpart{}E = DPpart{};\\n\".format(NumOfMaxSizeComponents, NumOfMaxSizeComponents), file=of)    \n",
    "    else:\n",
    "        print(\"assign DPpart{}E = {{{{{}{{DPpart{}[(2*IN_WIDTH)-1]}}}},DPpart{}}};\\n\"\n",
    "        .format(NumOfMaxSizeComponents, palM+1, NumOfMaxSizeComponents, NumOfMaxSizeComponents), file=of)    \n",
    "    print(\"end\", file=of)"
   ]
  },
  {
   "cell_type": "code",
   "execution_count": 24,
   "metadata": {
    "collapsed": false
   },
   "outputs": [],
   "source": [
    "if NonMaxSizeComponentSize==1:\n",
    "    print(\"else begin //if(MULT_PIPE_DEPTH!=0)\\n\", file=of)\n",
    "    print(\"reg signed [(2*IN_WIDTH)-1:0] DPpart{}[0:MULT_PIPE_DEPTH-1];\".format(NumOfMaxSizeComponents), file=of)  #-2 is enough, XST\n",
    "    print(\"integer i, j;\", file=of)\n",
    "    print(\"always @(posedge clk) begin\", file=of)\n",
    "    print(\"\\tif(enable) begin\", file=of)\n",
    "    print(\"\\t\\tSA{}r[1] <= SA{};\".format(MAMCS*NumOfMaxSizeComponents, MAMCS*NumOfMaxSizeComponents), file=of)\n",
    "    print(\"\\t\\tSB{}r[1] <= SB{};\".format(MAMCS*NumOfMaxSizeComponents, MAMCS*NumOfMaxSizeComponents), file=of)\n",
    "    print(\"\\t\\tfor(i=1;i<({}+INPUT_REG_DEPTH);i=i+1) begin\".format(MAMCS-1), file=of)\n",
    "    print(\"\\t\\t\\tSA{}r[i+1] <= SA{}r[i];\".format(MAMCS*NumOfMaxSizeComponents, MAMCS*NumOfMaxSizeComponents), file=of)\n",
    "    print(\"\\t\\t\\tSB{}r[i+1] <= SB{}r[i];\".format(MAMCS*NumOfMaxSizeComponents, MAMCS*NumOfMaxSizeComponents), file=of)\n",
    "    print(\"\\t\\tend\", file=of)    \n",
    "    print(\"\\t\\tDPpart{}[0] <= SA{}r[{}+INPUT_REG_DEPTH]*SB{}r[{}+INPUT_REG_DEPTH];\".format(NumOfMaxSizeComponents, MAMCS*NumOfMaxSizeComponents, MAMCS-1, MAMCS*NumOfMaxSizeComponents, MAMCS-1), file=of)\n",
    "    print(\"\\t\\tfor(j=0;j<MULT_PIPE_DEPTH-1;j=j+1) begin\", file=of)\n",
    "    print(\"\\t\\t\\tDPpart{}[j+1] <= DPpart{}[j];\".format(NumOfMaxSizeComponents, NumOfMaxSizeComponents), file=of)\n",
    "    print(\"\\t\\tend\", file=of)\n",
    "    print(\"\\tend\", file=of)\n",
    "    print(\"end\", file=of)\n",
    "    #naming and sign extend (if needed)\n",
    "    if MAMCS==2: #palM==-1\n",
    "        print(\"assign DPpart{}E = DPpart{}[MULT_PIPE_DEPTH-1];\\n\".format(NumOfMaxSizeComponents, NumOfMaxSizeComponents), file=of)    \n",
    "    else:\n",
    "        print(\"assign DPpart{}E = {{{{{}{{DPpart{}[MULT_PIPE_DEPTH-1][(2*IN_WIDTH)-1]}}}},DPpart{}[MULT_PIPE_DEPTH-1]}};\\n\"\n",
    "        .format(NumOfMaxSizeComponents, palM+1, NumOfMaxSizeComponents, NumOfMaxSizeComponents), file=of)    \n",
    "    print(\"end\", file=of)\n",
    "    print(\"endgenerate\\n\", file=of)"
   ]
  },
  {
   "cell_type": "code",
   "execution_count": 25,
   "metadata": {
    "collapsed": false
   },
   "outputs": [
    {
     "name": "stdout",
     "output_type": "stream",
     "text": [
      "wire ATOutReady;\n",
      "wire signed [2*IN_WIDTH+2:0] DPpart;\n",
      "wire ATEarlyOutReady;\n",
      "AdderTree_3#( .IN_WIDTH(2*IN_WIDTH+1) )\n",
      "\tAT(clk, reset, enable, DPOutReady,\n",
      "\tDPpart0, DPpart1, DPpart2,\n",
      "\tATOutReady, DPpart,\n",
      "\tATEarlyOutReady);\n",
      "\n"
     ]
    }
   ],
   "source": [
    "palA=-2+math.ceil(math.log2(NMult))\n",
    "if NumOfComponents>1:\n",
    "    print(\"wire ATOutReady;\", file=of)\n",
    "    palA=-2+math.ceil(math.log2(NMult))\n",
    "    if palA==0:\n",
    "        print(\"wire signed [2*IN_WIDTH:0] DPpart;\", file=of)\n",
    "    elif palA<0:\n",
    "        print(\"wire signed [2*IN_WIDTH{}:0] DPpart;\".format(palA), file=of)\n",
    "    else:\n",
    "        print(\"wire signed [2*IN_WIDTH+{}:0] DPpart;\".format(palA), file=of)\n",
    "    print(\"wire ATEarlyOutReady;\", file=of)\n",
    "    if lgMAMCS==1:\n",
    "        print(\"AdderTree_{}#( .IN_WIDTH(2*IN_WIDTH) )\".format(NumOfComponents), file=of)\n",
    "    elif lgMAMCS<1:\n",
    "        print(\"AdderTree_{}#( .IN_WIDTH(2*IN_WIDTH{}) )\".format(NumOfComponents, -1+lgMAMCS), file=of)\n",
    "    else:\n",
    "        print(\"AdderTree_{}#( .IN_WIDTH(2*IN_WIDTH+{}) )\".format(NumOfComponents, -1+lgMAMCS), file=of)\n",
    "    print(\"\\tAT(clk, reset, enable, DPOutReady,\\n\\t\", end='', file=of)\n",
    "    for i in range(NumOfMaxSizeComponents):\n",
    "        print(\"DPpart{}, \".format(i), end='', file=of)\n",
    "    if NonMaxSizeComponentSize!=0:\n",
    "        print(\"DPpart{}\".format(NumOfMaxSizeComponents), end='', file=of)\n",
    "        if palM-palN>0 or NonMaxSizeComponentSize==1:\n",
    "            print(\"E\", end='', file=of)\n",
    "        print(\",\", end='', file=of)\n",
    "    print(\"\\n\\tATOutReady, DPpart,\", file=of)\n",
    "    print(\"\\tATEarlyOutReady);\\n\", file=of)"
   ]
  },
  {
   "cell_type": "code",
   "execution_count": 26,
   "metadata": {
    "collapsed": false
   },
   "outputs": [
    {
     "name": "stdout",
     "output_type": "stream",
     "text": [
      "always @(posedge clk) begin\n",
      "\tif(reset) begin\n",
      "\t\treadyForNewDataSeries <= 1;\n",
      "\t\tinSeries <= 0;\n",
      "\t\tLLinReady <= 0;\n",
      "\tend\n",
      "\telse if(enable) begin\n",
      "\t\tif(inSeries==0) begin\n",
      "\t\t\tLLinReady <= inReady;\n",
      "\t\t\tif(inReady) begin\n",
      "\t\t\t\treadyForNewDataSeries <= 0;\n",
      "\t\t\t\tinSeries <= inSeries+1;\n",
      "\t\t\tend\n",
      "\t\tend\n",
      "\t\telse if(inSeries==2) begin\n",
      "\t\t\tinSeries <= 0;\n",
      "\t\t\treadyForNewDataSeries <= 1;\n",
      "\t\tend\n",
      "\t\telse begin\n",
      "\t\t\tinSeries <= inSeries+1;\n",
      "\t\tend\n",
      "\t\tcase(inSeries)\n",
      "\t\t\t0: if(inReady) begin\n",
      "\t\t\t\tSA0 <= A0; SA1 <= A1; SA2 <= A2; SA3 <= A3; SA4 <= A4; SA5 <= A5; SA6 <= A6; SA7 <= A7; SA8 <= A8; SA9 <= A9; SA10 <= A10; \n",
      "\t\t\t\tSB0 <= B0; SB1 <= B1; SB2 <= B2; SB3 <= B3; SB4 <= B4; SB5 <= B5; SB6 <= B6; SB7 <= B7; SB8 <= B8; SB9 <= B9; SB10 <= B10; \n",
      "\t\t\tend\n",
      "\t\t\t1: begin\n",
      "\t\t\t\tSA0 <= A11; SA1 <= A12; SA2 <= A13; SA3 <= A14; SA4 <= A15; SA5 <= A16; SA6 <= A17; SA7 <= A18; SA8 <= A19; SA9 <= A20; SA10 <= A21; \n",
      "\t\t\t\tSB0 <= B11; SB1 <= B12; SB2 <= B13; SB3 <= B14; SB4 <= B15; SB5 <= B16; SB6 <= B17; SB7 <= B18; SB8 <= B19; SB9 <= B20; SB10 <= B21; \n",
      "\t\t\tend\n",
      "\t\t\t2: begin\n",
      "\t\t\t\tSA0 <= A22; SA1 <= A23; SA2 <= A24; SA3 <= A25; SA4 <= A26; SA5 <= A27; SA6 <= A28; SA7 <= A29; SA8 <= A30; SA9 <= 0; SA10 <= 0; \n",
      "\t\t\t\tSB0 <= B22; SB1 <= B23; SB2 <= B24; SB3 <= B25; SB4 <= B26; SB5 <= B27; SB6 <= B28; SB7 <= B29; SB8 <= B30; SB9 <= 0; SB10 <= 0; \n",
      "\t\t\tend\n",
      "\t\tendcase\n",
      "\tend\n",
      "end\n",
      "\n"
     ]
    }
   ],
   "source": [
    "#NZ = HRR*NMult - N\n",
    "print(\"always @(posedge clk) begin\", file=of)\n",
    "print(\"\\tif(reset) begin\", file=of)\n",
    "print(\"\\t\\treadyForNewDataSeries <= 1;\", file=of)\n",
    "print(\"\\t\\tinSeries <= 0;\", file=of)\n",
    "print(\"\\t\\tLLinReady <= 0;\", file=of)\n",
    "print(\"\\tend\", file=of)\n",
    "print(\"\\telse if(enable) begin\", file=of)\n",
    "print(\"\\t\\tif(inSeries==0) begin\".format(HRR-1), file=of)\n",
    "print(\"\\t\\t\\tLLinReady <= inReady;\", file=of)\n",
    "print(\"\\t\\t\\tif(inReady) begin\", file=of)\n",
    "# print(\"\\t\\t\\t\\tLLinReady <= 1;\", file=of)\n",
    "print(\"\\t\\t\\t\\treadyForNewDataSeries <= 0;\", file=of)\n",
    "if HRR==2:\n",
    "    print(\"\\t\\t\\t\\tinSeries <= 1;\", file=of)    \n",
    "else:\n",
    "    print(\"\\t\\t\\t\\tinSeries <= inSeries+1;\", file=of)\n",
    "print(\"\\t\\t\\tend\", file=of)\n",
    "# print(\"\\t\\t\\telse begin\", file=of)\n",
    "# print(\"\\t\\t\\t\\tLLinReady <= 0;\", file=of)\n",
    "# print(\"\\t\\t\\tend\", file=of)\n",
    "print(\"\\t\\tend\", file=of)\n",
    "if HRR==2:\n",
    "    print(\"\\t\\telse begin\", file=of)\n",
    "    print(\"\\t\\t\\tinSeries <= 0;\", file=of)\n",
    "    print(\"\\t\\t\\treadyForNewDataSeries <= 1;\", file=of)\n",
    "    print(\"\\t\\tend\", file=of)\n",
    "else:\n",
    "    print(\"\\t\\telse if(inSeries=={}) begin\".format(HRR-1), file=of)\n",
    "    print(\"\\t\\t\\tinSeries <= 0;\", file=of)\n",
    "    print(\"\\t\\t\\treadyForNewDataSeries <= 1;\", file=of)\n",
    "    print(\"\\t\\tend\", file=of)\n",
    "    print(\"\\t\\telse begin\", file=of)\n",
    "    print(\"\\t\\t\\tinSeries <= inSeries+1;\", file=of)\n",
    "    print(\"\\t\\tend\", file=of)\n",
    "print(\"\\t\\tcase(inSeries)\", file=of)\n",
    "for i in range(HRR):\n",
    "    if i==0:\n",
    "        print(\"\\t\\t\\t0: if(inReady) begin\".format(i), file=of) #currently more power efficient, can use \"begin\" for simpler hardware\n",
    "    else:\n",
    "        print(\"\\t\\t\\t{}: begin\".format(i), file=of)\n",
    "    #print(\"\\t\\t\\t{}: begin\".format(i), file=of)\n",
    "    print(\"\\t\\t\\t\\t\", end='', file=of)\n",
    "    for j in range(NMult):\n",
    "        k=NMult*i+j\n",
    "        if k >= N:\n",
    "            print(\"SA{} <= 0; \".format(j), end='', file=of)            \n",
    "        else:\n",
    "            print(\"SA{} <= A{}; \".format(j,k), end='', file=of)\n",
    "    print(\"\\n\\t\\t\\t\\t\", end='', file=of)\n",
    "    for j in range(NMult):\n",
    "        k=NMult*i+j\n",
    "        if k >= N:\n",
    "            print(\"SB{} <= 0; \".format(j), end='', file=of)            \n",
    "        else:\n",
    "            print(\"SB{} <= B{}; \".format(j,k), end='', file=of)\n",
    "    print(file=of)\n",
    "    print(\"\\t\\t\\tend\", file=of)\n",
    "print(\"\\t\\tendcase\", file=of)\n",
    "print(\"\\tend\", file=of)\n",
    "print(\"end\\n\", file=of)"
   ]
  },
  {
   "cell_type": "code",
   "execution_count": 27,
   "metadata": {
    "collapsed": false
   },
   "outputs": [
    {
     "name": "stdout",
     "output_type": "stream",
     "text": [
      "reg [1:0] outSeries = 0;\n",
      "reg signed [(2*IN_WIDTH)+3:0] DPps = 0;\n",
      "always @(posedge clk) begin\n",
      "\tif(reset) begin\n",
      "\t\toutSeries <= 0;\n",
      "\t\tDPps <= 0;\n",
      "\t\tnewOutReady <= 0;\n",
      "\tend\n",
      "\telse if(enable) begin\n",
      "\t\tif(outSeries==2) begin\n",
      "\t\t\tif(ATOutReady) begin\n",
      "\t\t\t\tnewOutReady <= 1;\n",
      "\t\t\t\tDP <= DPps+DPpart;\n",
      "\t\t\t\toutSeries <= 0;\n",
      "\t\t\tend\n",
      "\t\tend\n",
      "\t\telse begin\n",
      "\t\t\tnewOutReady <= 0;\n",
      "\t\t\tif(ATOutReady) begin\n",
      "\t\t\t\tif(outSeries==0) begin\n",
      "\t\t\t\t\tDPps <= DPpart;\n",
      "\t\t\t\tend\n",
      "\t\t\t\telse begin\n",
      "\t\t\t\t\tDPps <= DPps+DPpart;\n",
      "\t\t\t\tend\n",
      "\t\t\t\toutSeries <= outSeries+1;\n",
      "\t\t\tend\n",
      "\t\tend\n",
      "\tend\n",
      "end\n",
      "\n"
     ]
    }
   ],
   "source": [
    "if lghrr==1:\n",
    "    print(\"reg outSeries = 0;\", file=of)\n",
    "else:\n",
    "    print(\"reg [{}:0] outSeries = 0;\".format(lghrr-1), file=of)\n",
    "if al==0:\n",
    "    print(\"reg signed [(2*IN_WIDTH):0] DPps = 0;\", file=of)\n",
    "else:\n",
    "    print(\"reg signed [(2*IN_WIDTH)+{}:0] DPps = 0;\".format(al), file=of)\n",
    "print(\"always @(posedge clk) begin\", file=of)\n",
    "print(\"\\tif(reset) begin\", file=of)\n",
    "print(\"\\t\\toutSeries <= 0;\", file=of)\n",
    "print(\"\\t\\tDPps <= 0;\", file=of)\n",
    "print(\"\\t\\tnewOutReady <= 0;\", file=of)\n",
    "print(\"\\tend\", file=of)\n",
    "\n",
    "print(\"\\telse if(enable) begin\", file=of)\n",
    "print(\"\\t\\tif(outSeries=={}) begin\".format(HRR-1), file=of)\n",
    "if NumOfComponents==1:\n",
    "    print(\"\\t\\t\\tif(DPOutReady) begin\", file=of)\n",
    "else:\n",
    "    print(\"\\t\\t\\tif(ATOutReady) begin\", file=of)\n",
    "print(\"\\t\\t\\t\\tnewOutReady <= 1;\", file=of)\n",
    "print(\"\\t\\t\\t\\tDP <= DPps+DPpart;\", file=of)\n",
    "print(\"\\t\\t\\t\\toutSeries <= 0;\", file=of)\n",
    "print(\"\\t\\t\\tend\", file=of)\n",
    "print(\"\\t\\tend\", file=of)\n",
    "print(\"\\t\\telse begin\", file=of)\n",
    "print(\"\\t\\t\\tnewOutReady <= 0;\", file=of)\n",
    "if NumOfComponents==1:\n",
    "    print(\"\\t\\t\\tif(DPOutReady) begin\", file=of)\n",
    "else:\n",
    "    print(\"\\t\\t\\tif(ATOutReady) begin\", file=of)\n",
    "if HRR==2:\n",
    "    print(\"\\t\\t\\t\\tDPps <= DPpart;\", file=of)\n",
    "    print(\"\\t\\t\\t\\toutSeries <= 1;\", file=of)\n",
    "else:\n",
    "    print(\"\\t\\t\\t\\tif(outSeries==0) begin\", file=of)\n",
    "    print(\"\\t\\t\\t\\t\\tDPps <= DPpart;\", file=of)\n",
    "    print(\"\\t\\t\\t\\tend\", file=of)\n",
    "    print(\"\\t\\t\\t\\telse begin\", file=of)\n",
    "    print(\"\\t\\t\\t\\t\\tDPps <= DPps+DPpart;\", file=of)\n",
    "    print(\"\\t\\t\\t\\tend\", file=of)\n",
    "    print(\"\\t\\t\\t\\toutSeries <= outSeries+1;\", file=of)\n",
    "print(\"\\t\\t\\tend\", file=of)\n",
    "print(\"\\t\\tend\", file=of)\n",
    "print(\"\\tend\", file=of)\n",
    "\n",
    "# print(\"\\telse if(enable) case(outSeries)\", file=of)\n",
    "# print(\"\\t\\t{}: begin\".format(HRR-1), file=of)\n",
    "# if NumOfComponents==1:\n",
    "#     print(\"\\t\\t\\tif(DPOutReady) begin\", file=of)\n",
    "# else:\n",
    "#     print(\"\\t\\t\\tif(ATOutReady) begin\", file=of)\n",
    "# print(\"\\t\\t\\t\\tnewOutReady <= 1;\", file=of)\n",
    "# print(\"\\t\\t\\t\\tDP <= DPps+DPpart;\", file=of)\n",
    "# print(\"\\t\\t\\t\\toutSeries <= 0;\", file=of)\n",
    "# print(\"\\t\\t\\tend\", file=of)\n",
    "# print(\"\\t\\tend\", file=of)\n",
    "# print(\"\\t\\t0: begin\", file=of)\n",
    "# print(\"\\t\\t\\tnewOutReady <= 0;\", file=of)\n",
    "# if NumOfComponents==1:\n",
    "#     print(\"\\t\\t\\tif(DPOutReady) begin\", file=of)\n",
    "# else:\n",
    "#     print(\"\\t\\t\\tif(ATOutReady) begin\", file=of)\n",
    "# print(\"\\t\\t\\t\\tDPps <= DPpart;\", file=of)\n",
    "# if HRR==2:\n",
    "#     print(\"\\t\\t\\t\\toutSeries <= 1;\", file=of)\n",
    "# else:\n",
    "#     print(\"\\t\\t\\t\\toutSeries <= outSeries+1;\", file=of)\n",
    "# print(\"\\t\\t\\tend\", file=of)\n",
    "# print(\"\\t\\tend\", file=of)\n",
    "# if HRR>2:\n",
    "#     print(\"\\t\\tdefault: begin\", file=of)\n",
    "#     if NumOfComponents==1:\n",
    "#         print(\"\\t\\t\\tif(DPOutReady) begin\", file=of)\n",
    "#     else:\n",
    "#         print(\"\\t\\t\\tif(ATOutReady) begin\", file=of)\n",
    "#     print(\"\\t\\t\\t\\tDPps <= DPps+DPpart;\", file=of)\n",
    "#     print(\"\\t\\t\\t\\toutSeries <= outSeries+1;\", file=of)\n",
    "#     print(\"\\t\\t\\tend\", file=of)\n",
    "#     print(\"\\t\\tend\", file=of)\n",
    "# print(\"\\tendcase\", file=of)\n",
    "\n",
    "print(\"end\\n\", file=of)"
   ]
  },
  {
   "cell_type": "code",
   "execution_count": 28,
   "metadata": {
    "collapsed": false,
    "scrolled": true
   },
   "outputs": [
    {
     "name": "stdout",
     "output_type": "stream",
     "text": [
      "reg earlyNewOutReady;\n",
      "always @(posedge clk) begin\n",
      "\tif(reset) begin\n",
      "\t\tearlyNewOutReady <= 0;\n",
      "\tend\n",
      "\telse if(enable) begin\n",
      "\t\tif((outSeries==2) & ATEarlyOutReady) begin\n",
      "\t\t\tearlyNewOutReady <= 1;\n",
      "\t\tend\n",
      "\t\telse begin\n",
      "\t\t\tearlyNewOutReady <= 0;\n",
      "\t\tend\n",
      "\tend\n",
      "end\n",
      "\n"
     ]
    }
   ],
   "source": [
    "if NumOfComponents==1:\n",
    "    #combinational earlyNewOutReady:\n",
    "    print(\"assign earlyNewOutReady = (outSeries=={}) & DPOutReady;\\n\".format(HRR-1), file=of)\n",
    "else:\n",
    "    if _Use_Registered_earlyNewOutReady_If_Available<=0:\n",
    "        #combinational earlyNewOutReady:\n",
    "        print(\"assign earlyNewOutReady = (outSeries=={}) & ATOutReady;\\n\".format(HRR-1), file=of)\n",
    "    else:\n",
    "        #registered earlyNewOutReady:\n",
    "        print(\"reg earlyNewOutReady;\", file=of)\n",
    "        print(\"always @(posedge clk) begin\", file=of)\n",
    "        print(\"\\tif(reset) begin\", file=of)\n",
    "        print(\"\\t\\tearlyNewOutReady <= 0;\", file=of)\n",
    "        print(\"\\tend\", file=of)\n",
    "        print(\"\\telse if(enable) begin\", file=of)\n",
    "        print(\"\\t\\tif((outSeries=={}) & ATEarlyOutReady) begin\".format(HRR-1), file=of)\n",
    "        print(\"\\t\\t\\tearlyNewOutReady <= 1;\", file=of)\n",
    "        print(\"\\t\\tend\", file=of)\n",
    "        print(\"\\t\\telse begin\", file=of)\n",
    "        print(\"\\t\\t\\tearlyNewOutReady <= 0;\", file=of)\n",
    "        print(\"\\t\\tend\", file=of)\n",
    "        print(\"\\tend\", file=of)\n",
    "        print(\"end\\n\", file=of)"
   ]
  },
  {
   "cell_type": "code",
   "execution_count": 29,
   "metadata": {
    "collapsed": false
   },
   "outputs": [
    {
     "name": "stdout",
     "output_type": "stream",
     "text": [
      "endmodule\n"
     ]
    }
   ],
   "source": [
    "print(\"endmodule\", file=of)"
   ]
  },
  {
   "cell_type": "code",
   "execution_count": 30,
   "metadata": {
    "collapsed": true
   },
   "outputs": [],
   "source": [
    "if __Print_To_File>0:\n",
    "    of.close()"
   ]
  }
 ],
 "metadata": {
  "kernelspec": {
   "display_name": "Python 3",
   "language": "python",
   "name": "python3"
  },
  "language_info": {
   "codemirror_mode": {
    "name": "ipython",
    "version": 3
   },
   "file_extension": ".py",
   "mimetype": "text/x-python",
   "name": "python",
   "nbconvert_exporter": "python",
   "pygments_lexer": "ipython3",
   "version": "3.5.1"
  }
 },
 "nbformat": 4,
 "nbformat_minor": 0
}
