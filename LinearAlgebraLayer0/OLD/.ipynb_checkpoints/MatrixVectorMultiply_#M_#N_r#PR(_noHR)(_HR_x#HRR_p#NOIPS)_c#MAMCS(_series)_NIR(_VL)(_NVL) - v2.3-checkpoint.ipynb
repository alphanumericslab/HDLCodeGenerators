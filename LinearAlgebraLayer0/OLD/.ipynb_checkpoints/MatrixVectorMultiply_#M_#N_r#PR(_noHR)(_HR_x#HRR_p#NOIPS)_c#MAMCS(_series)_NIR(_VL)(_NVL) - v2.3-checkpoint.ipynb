{
 "cells": [
  {
   "cell_type": "code",
   "execution_count": 1,
   "metadata": {
    "collapsed": true
   },
   "outputs": [],
   "source": [
    "#changed inputs and outputs count and order\n",
    "#completed and changed output file and module name\n",
    "#changed to 2 group outReady\n",
    "#inReadyC simplified definition\n",
    "#added NOIPSMin and NOIPSMax\n",
    "#changed initial checks\n",
    "#added earlyNewOutReady\n",
    "#changes to HRR==1 mode"
   ]
  },
  {
   "cell_type": "code",
   "execution_count": 2,
   "metadata": {
    "collapsed": true
   },
   "outputs": [],
   "source": [
    "#uses DotProduct_#N_HR_x#HRR_p#NOIPS_c#MAMCS_series - v4.3\n",
    "#uses DotProduct_#N_noHR_c#MAMCS - v3.4"
   ]
  },
  {
   "cell_type": "code",
   "execution_count": 3,
   "metadata": {
    "collapsed": true
   },
   "outputs": [],
   "source": [
    "import sys\n",
    "import math"
   ]
  },
  {
   "cell_type": "code",
   "execution_count": 4,
   "metadata": {
    "collapsed": false
   },
   "outputs": [
    {
     "name": "stdout",
     "output_type": "stream",
     "text": [
      "Enter M: 5\n"
     ]
    }
   ],
   "source": [
    "#M>=1\n",
    "M = input('Enter M: ')"
   ]
  },
  {
   "cell_type": "code",
   "execution_count": 5,
   "metadata": {
    "collapsed": false
   },
   "outputs": [
    {
     "name": "stdout",
     "output_type": "stream",
     "text": [
      "Enter N: 30\n"
     ]
    }
   ],
   "source": [
    "#N>=1\n",
    "#N better to be >= HRR, if N<HRR, can decrease HRR (to N)\n",
    "N = input('Enter N: ')"
   ]
  },
  {
   "cell_type": "code",
   "execution_count": 6,
   "metadata": {
    "collapsed": false
   },
   "outputs": [
    {
     "name": "stdout",
     "output_type": "stream",
     "text": [
      "Enter No Of Parallel Row (empty for 1): 3\n"
     ]
    }
   ],
   "source": [
    "#>=1, <=M\n",
    "PR = input('Enter No Of Parallel Row (empty for 1): ')"
   ]
  },
  {
   "cell_type": "code",
   "execution_count": 7,
   "metadata": {
    "collapsed": false,
    "scrolled": false
   },
   "outputs": [
    {
     "name": "stdout",
     "output_type": "stream",
     "text": [
      "Enter HRR (empty or 1 for noHR): 2\n"
     ]
    }
   ],
   "source": [
    "#HRR>=1\n",
    "HRR = input('Enter HRR (empty or 1 for noHR): ')"
   ]
  },
  {
   "cell_type": "code",
   "execution_count": 8,
   "metadata": {
    "collapsed": true
   },
   "outputs": [],
   "source": [
    "M = int(M)\n",
    "if(M<1):\n",
    "    M=1\n",
    "N = int(N)\n",
    "if(N<1):\n",
    "    N=1\n",
    "if not PR:\n",
    "    PR=1\n",
    "else:\n",
    "    PR = int(PR)\n",
    "    if PR>M:\n",
    "        PR = M\n",
    "if not HRR:\n",
    "    HRR=1\n",
    "else:\n",
    "    HRR = int(HRR)\n",
    "    if HRR<1:\n",
    "        HRR=1\n",
    "    if HRR>N:\n",
    "        HRR=N\n",
    "if HRR>1:\n",
    "    NOIPSMin = math.ceil(N/HRR)\n",
    "    NOIPSMax = math.ceil(N/(HRR-1))-1\n",
    "    NOIPSMM = (NOIPSMin!=NOIPSMax)"
   ]
  },
  {
   "cell_type": "code",
   "execution_count": 9,
   "metadata": {
    "collapsed": false
   },
   "outputs": [
    {
     "name": "stdout",
     "output_type": "stream",
     "text": [
      "Enter Number of inputs per series (>=15, <=29, empty for 15): 20\n"
     ]
    }
   ],
   "source": [
    "#>=NOIPSMin, <=NOIPSMax\n",
    "if HRR>1 and NOIPSMM:\n",
    "    NOIPS = input('Enter Number of inputs per series (>={}, <={}, empty for {}): '.format(NOIPSMin, NOIPSMax, NOIPSMin))"
   ]
  },
  {
   "cell_type": "code",
   "execution_count": 10,
   "metadata": {
    "collapsed": false
   },
   "outputs": [],
   "source": [
    "if HRR>1 and NOIPSMM:\n",
    "    if not NOIPS:\n",
    "        NMult = NOIPSMin\n",
    "    else:\n",
    "        NOIPS = int(NOIPS)\n",
    "        if NOIPS<NOIPSMin:\n",
    "            NMult = NOIPSMin\n",
    "        elif NOIPS>NOIPSMax:\n",
    "            NMult = NOIPSMax\n",
    "        else:\n",
    "            NMult = NOIPS\n",
    "else:\n",
    "    NMult = N"
   ]
  },
  {
   "cell_type": "code",
   "execution_count": 11,
   "metadata": {
    "collapsed": false
   },
   "outputs": [
    {
     "name": "stdout",
     "output_type": "stream",
     "text": [
      "Enter Multiply-Add Max Component Size (empty for 20): 10\n"
     ]
    }
   ],
   "source": [
    "#MAMCS>=1\n",
    "MAMCS = input('Enter Multiply-Add Max Component Size (empty for {}): '.format(NMult))"
   ]
  },
  {
   "cell_type": "code",
   "execution_count": 12,
   "metadata": {
    "collapsed": false
   },
   "outputs": [
    {
     "name": "stdout",
     "output_type": "stream",
     "text": [
      "Enter IN_WIDTH default value (empty for 10): \n"
     ]
    }
   ],
   "source": [
    "#IN_WIDTH>=1\n",
    "IN_WIDTH = input('Enter IN_WIDTH default value (empty for 10): ')"
   ]
  },
  {
   "cell_type": "code",
   "execution_count": 13,
   "metadata": {
    "collapsed": false
   },
   "outputs": [
    {
     "name": "stdout",
     "output_type": "stream",
     "text": [
      "Enter INPUT_REG_DEPTH default value (empty for 1): \n"
     ]
    }
   ],
   "source": [
    "#INPUT_REG_DEPTH>=0\n",
    "INPUT_REG_DEPTH = input('Enter INPUT_REG_DEPTH default value (empty for 1): ')"
   ]
  },
  {
   "cell_type": "code",
   "execution_count": 14,
   "metadata": {
    "collapsed": false
   },
   "outputs": [
    {
     "name": "stdout",
     "output_type": "stream",
     "text": [
      "Enter MULT_PIPE_DEPTH default value (empty for 1): \n"
     ]
    }
   ],
   "source": [
    "#MULT_PIPE_DEPTH>=0\n",
    "MULT_PIPE_DEPTH = input('Enter MULT_PIPE_DEPTH default value (empty for 1): ')"
   ]
  },
  {
   "cell_type": "code",
   "execution_count": 15,
   "metadata": {
    "collapsed": true
   },
   "outputs": [],
   "source": [
    "RS=math.ceil(M/PR)"
   ]
  },
  {
   "cell_type": "code",
   "execution_count": 16,
   "metadata": {
    "collapsed": false
   },
   "outputs": [
    {
     "name": "stdout",
     "output_type": "stream",
     "text": [
      "Enable Vector Latch? (empty or 0 to disable, 1 to enable): \n"
     ]
    }
   ],
   "source": [
    "if (RS>1):\n",
    "    _Enable_Vector_Latch = input('Enable Vector Latch? (empty or 0 to disable, 1 to enable): ')"
   ]
  },
  {
   "cell_type": "code",
   "execution_count": 17,
   "metadata": {
    "collapsed": false
   },
   "outputs": [],
   "source": [
    "if not MAMCS:\n",
    "    MAMCS = NMult\n",
    "else:\n",
    "    MAMCS = int(MAMCS)\n",
    "    if MAMCS>NMult:\n",
    "        MAMCS = NMult;\n",
    "    elif(MAMCS<1):\n",
    "        MAMCS=1\n",
    "if not IN_WIDTH:\n",
    "    IN_WIDTH=10\n",
    "else:\n",
    "    IN_WIDTH = int(IN_WIDTH)\n",
    "    if(IN_WIDTH<1):\n",
    "        IN_WIDTH=1\n",
    "if not INPUT_REG_DEPTH:\n",
    "    INPUT_REG_DEPTH=1\n",
    "else:\n",
    "    INPUT_REG_DEPTH = int(INPUT_REG_DEPTH)\n",
    "    if(INPUT_REG_DEPTH<0):\n",
    "        INPUT_REG_DEPTH=0\n",
    "if not MULT_PIPE_DEPTH:\n",
    "    MULT_PIPE_DEPTH=1\n",
    "else:\n",
    "    MULT_PIPE_DEPTH = int(MULT_PIPE_DEPTH)\n",
    "    if(MULT_PIPE_DEPTH<0):\n",
    "        MULT_PIPE_DEPTH=0\n",
    "if (RS==1):\n",
    "    _Enable_Vector_Latch = 0;\n",
    "else:\n",
    "    if not _Enable_Vector_Latch:\n",
    "        _Enable_Vector_Latch = 0\n",
    "    else:\n",
    "        _Enable_Vector_Latch = int(_Enable_Vector_Latch)"
   ]
  },
  {
   "cell_type": "code",
   "execution_count": 18,
   "metadata": {
    "collapsed": false
   },
   "outputs": [],
   "source": [
    "__Print_To_File = 0\n",
    "\n",
    "if __Print_To_File<=0:\n",
    "    of=sys.stdout\n",
    "else:\n",
    "    if(HRR==1):\n",
    "        if _Enable_Vector_Latch>0:\n",
    "            of=open(\"./MatrixVectorMultiply_{}_{}_r{}_noHR_c{}_NIR_VL.v\".format(M, N, PR, MAMCS), 'w+')\n",
    "        else:\n",
    "            of=open(\"./MatrixVectorMultiply_{}_{}_r{}_noHR_c{}_NIR_NVL.v\".format(M, N, PR, MAMCS), 'w+')\n",
    "    else:\n",
    "        if _Enable_Vector_Latch>0:\n",
    "            of=open(\"./MatrixVectorMultiply_{}_{}_r{}_HR_x{}_p{}_c{}_series_NIR_VL.v\".format(M, N, PR, HRR, NMult, MAMCS), 'w+')\n",
    "        else:\n",
    "            of=open(\"./MatrixVectorMultiply_{}_{}_r{}_HR_x{}_p{}_c{}_series_NIR_NVL.v\".format(M, N, PR, HRR, NMult, MAMCS), 'w+')"
   ]
  },
  {
   "cell_type": "code",
   "execution_count": 19,
   "metadata": {
    "collapsed": false,
    "scrolled": true
   },
   "outputs": [
    {
     "name": "stdout",
     "output_type": "stream",
     "text": [
      "`timescale 1ns / 1ps\n",
      "\n",
      "module MatrixVectorMultiply_5_30_r3_HR_x2_p20_c10_series_NIR_NVL\n",
      "#(\n",
      "parameter IN_WIDTH = 10,\n",
      "parameter INPUT_REG_DEPTH = 1,\n",
      "parameter MULT_PIPE_DEPTH = 1\n",
      ")(\n",
      "input clk, reset, enable,\n",
      "output readyForNewRowStart,\n",
      "output rowInSeries,\n",
      "output reg columnInSeries = 0,\n",
      "input inReady,\n",
      "input signed [IN_WIDTH-1:0] A0r0, A1r0, A2r0, A3r0, A4r0, A5r0, A6r0, A7r0, A8r0, A9r0, A10r0, A11r0, A12r0, A13r0, A14r0, A15r0, A16r0, A17r0, A18r0, A19r0, \n",
      "input signed [IN_WIDTH-1:0] A0r1, A1r1, A2r1, A3r1, A4r1, A5r1, A6r1, A7r1, A8r1, A9r1, A10r1, A11r1, A12r1, A13r1, A14r1, A15r1, A16r1, A17r1, A18r1, A19r1, \n",
      "input signed [IN_WIDTH-1:0] A0r2, A1r2, A2r2, A3r2, A4r2, A5r2, A6r2, A7r2, A8r2, A9r2, A10r2, A11r2, A12r2, A13r2, A14r2, A15r2, A16r2, A17r2, A18r2, A19r2, \n",
      "input signed [IN_WIDTH-1:0] Vi0, Vi1, Vi2, Vi3, Vi4, Vi5, Vi6, Vi7, Vi8, Vi9, Vi10, Vi11, Vi12, Vi13, Vi14, Vi15, Vi16, Vi17, Vi18, Vi19, \n",
      "output newVo0toVo1Ready,\n",
      "output newVo2Ready,\n",
      "output reg outSeries = 1,\n",
      "output signed [(2*IN_WIDTH)+3:0] Vo0, Vo1, Vo2, \n",
      "output earlyNewVo0toVo1Ready,\n",
      "output earlyNewVo2Ready\n",
      ");\n",
      "\n"
     ]
    }
   ],
   "source": [
    "print(\"`timescale 1ns / 1ps\\n\", file=of)\n",
    "if(HRR==1):\n",
    "    if _Enable_Vector_Latch>0:\n",
    "        print(\"module MatrixVectorMultiply_{}_{}_r{}_noHR_c{}_NIR_VL\".format(M, N, PR, MAMCS), file=of)\n",
    "    else:\n",
    "        print(\"module MatrixVectorMultiply_{}_{}_r{}_noHR_c{}_NIR_NVL\".format(M, N, PR, MAMCS), file=of)\n",
    "else:\n",
    "    if _Enable_Vector_Latch>0:\n",
    "        print(\"module MatrixVectorMultiply_{}_{}_r{}_HR_x{}_p{}_c{}_series_NIR_VL\".format(M, N, PR, HRR, NMult, MAMCS), file=of)\n",
    "    else:\n",
    "        print(\"module MatrixVectorMultiply_{}_{}_r{}_HR_x{}_p{}_c{}_series_NIR_NVL\".format(M, N, PR, HRR, NMult, MAMCS), file=of)\n",
    "print(\"#(\", file=of)\n",
    "print(\"parameter IN_WIDTH = {},\".format(IN_WIDTH), file=of)\n",
    "print(\"parameter INPUT_REG_DEPTH = {},\".format(INPUT_REG_DEPTH), file=of)\n",
    "print(\"parameter MULT_PIPE_DEPTH = {}\".format(MULT_PIPE_DEPTH), file=of)\n",
    "print(\")(\", file=of)\n",
    "print(\"input clk, reset, enable,\", file=of)\n",
    "if(HRR>1):\n",
    "    print(\"output readyForNewRowStart,\", file=of)\n",
    "lghrr=math.ceil(math.log2(HRR))\n",
    "if lghrr==1:\n",
    "    print(\"output rowInSeries,\", file=of)\n",
    "elif lghrr>1:\n",
    "    print(\"output [{}:0] rowInSeries,\".format(lghrr-1), file=of)\n",
    "lgRS=math.ceil(math.log2(RS))\n",
    "if lgRS<=1:\n",
    "    print(\"output reg columnInSeries = 0,\", file=of)\n",
    "else:\n",
    "    print(\"output reg [{}:0] columnInSeries = 0,\".format(lgRS-1), file=of)\n",
    "print(\"input inReady,\", file=of)\n",
    "for j in range(PR):\n",
    "    print(\"input signed [IN_WIDTH-1:0] \", end='', file=of)\n",
    "    for i in range(NMult):\n",
    "        print(\"A{}r{}, \".format(i, j), end='', file=of)\n",
    "    print(file=of)\n",
    "print(\"input signed [IN_WIDTH-1:0] \", end='', file=of)\n",
    "for i in range(NMult):\n",
    "    print(\"Vi{}, \".format(i), end='', file=of)\n",
    "print(file=of)\n",
    "ar=RS*PR-M\n",
    "ME = PR-ar-1\n",
    "if ME==0:\n",
    "    st1=\"Vo0\"\n",
    "else:\n",
    "    st1=\"Vo0toVo{}\".format(ME)\n",
    "print(\"output new\", end='', file=of)\n",
    "print(st1, end='', file=of)\n",
    "print(\"Ready,\", file=of)\n",
    "if ar==0:\n",
    "    print(\"output reg newVoNReady = 0, //not used\", file=of)\n",
    "else:\n",
    "    if ME==(PR-2):\n",
    "        st2=\"Vo{}\".format(PR-1)\n",
    "    else:\n",
    "        st2=\"Vo{}toVo{}\".format(ME+1, PR-1)\n",
    "    print(\"output new\", end='', file=of)\n",
    "    print(st2, end='', file=of)\n",
    "    print(\"Ready,\", file=of)\n",
    "if lgRS<=1:\n",
    "    print(\"output reg outSeries = {},\".format(RS-1), file=of)\n",
    "else:\n",
    "    print(\"output reg [{}:0] outSeries = {},\".format(lgRS-1, RS-1), file=of)\n",
    "lgn=math.ceil(math.log2(N))\n",
    "al=-2+lgn\n",
    "if al==0:\n",
    "    print(\"output signed [(2*IN_WIDTH):0] \", end='',file=of)\n",
    "elif al<0:\n",
    "    print(\"output signed [(2*IN_WIDTH){}:0] \".format(al), end='',file=of)\n",
    "else:\n",
    "    print(\"output signed [(2*IN_WIDTH)+{}:0] \".format(al), end='',file=of)\n",
    "for i in range(PR):\n",
    "    print(\"Vo{}, \".format(i), end='',file=of)\n",
    "print(file=of)\n",
    "print(\"output earlyNew\", end='', file=of)\n",
    "print(st1, end='', file=of)\n",
    "print(\"Ready,\", file=of)\n",
    "if ar==0:\n",
    "    print(\"output reg earlyNewVoNReady = 0 //not used\", file=of)\n",
    "else:\n",
    "    print(\"output earlyNew\", end='', file=of)\n",
    "    print(st2, end='', file=of)\n",
    "    print(\"Ready\", file=of)\n",
    "print(\");\\n\", file=of)"
   ]
  },
  {
   "cell_type": "code",
   "execution_count": 20,
   "metadata": {
    "collapsed": false
   },
   "outputs": [],
   "source": [
    "if _Enable_Vector_Latch>0:\n",
    "    print(\"reg signed [IN_WIDTH-1:0] \", end='', file=of)\n",
    "    for i in range(NMult-1):\n",
    "        print(\"SVi{}, \".format(i), end='', file=of)\n",
    "    print(\"SVi{};\".format(NMult-1), file=of)\n",
    "    print(file=of)"
   ]
  },
  {
   "cell_type": "code",
   "execution_count": 21,
   "metadata": {
    "collapsed": false
   },
   "outputs": [
    {
     "name": "stdout",
     "output_type": "stream",
     "text": [
      "wire inReadyC = (columnInSeries!=1) & inReady;\n",
      "wire DPnewOutReady;\n",
      "wire DPnewOutReadyC;\n",
      "wire DPearlyNewOutReady;\n",
      "wire DPearlyNewOutReadyC;\n",
      "\n",
      "DotProduct_30_HR_x2_p20_c10_series#( .IN_WIDTH(IN_WIDTH), .INPUT_REG_DEPTH(INPUT_REG_DEPTH), .MULT_PIPE_DEPTH(MULT_PIPE_DEPTH) )\n",
      "\tDP_0(clk, reset, enable,\n",
      "\treadyForNewRowStart,\n",
      "\trowInSeries,\n",
      "\tinReady,\n",
      "\tA0r0, A1r0, A2r0, A3r0, A4r0, A5r0, A6r0, A7r0, A8r0, A9r0, A10r0, A11r0, A12r0, A13r0, A14r0, A15r0, A16r0, A17r0, A18r0, A19r0, \n",
      "\tVi0, Vi1, Vi2, Vi3, Vi4, Vi5, Vi6, Vi7, Vi8, Vi9, Vi10, Vi11, Vi12, Vi13, Vi14, Vi15, Vi16, Vi17, Vi18, Vi19, \n",
      "\tDPnewOutReady,\n",
      "\tVo0,\n",
      "\tDPearlyNewOutReady\n",
      "\t);\n",
      "\n",
      "DotProduct_30_HR_x2_p20_c10_series#( .IN_WIDTH(IN_WIDTH), .INPUT_REG_DEPTH(INPUT_REG_DEPTH), .MULT_PIPE_DEPTH(MULT_PIPE_DEPTH) )\n",
      "\tDP_1(clk, reset, enable,\n",
      "\tLLreadyForNewDataSeries1, //not used\n",
      "\tLLinSeries1, //not used\n",
      "\tinReady,\n",
      "\tA0r1, A1r1, A2r1, A3r1, A4r1, A5r1, A6r1, A7r1, A8r1, A9r1, A10r1, A11r1, A12r1, A13r1, A14r1, A15r1, A16r1, A17r1, A18r1, A19r1, \n",
      "\tVi0, Vi1, Vi2, Vi3, Vi4, Vi5, Vi6, Vi7, Vi8, Vi9, Vi10, Vi11, Vi12, Vi13, Vi14, Vi15, Vi16, Vi17, Vi18, Vi19, \n",
      "\tDPnewOutReady1, //not used\n",
      "\tVo1,\n",
      "\tDPearlyNewOutReady1 //not used\n",
      "\t);\n",
      "\n",
      "DotProduct_30_HR_x2_p20_c10_series#( .IN_WIDTH(IN_WIDTH), .INPUT_REG_DEPTH(INPUT_REG_DEPTH), .MULT_PIPE_DEPTH(MULT_PIPE_DEPTH) )\n",
      "\tDP_2(clk, reset, enable,\n",
      "\tLLreadyForNewDataSeries2, //not used\n",
      "\tLLinSeries2, //not used\n",
      "\tinReadyC,\n",
      "\tA0r2, A1r2, A2r2, A3r2, A4r2, A5r2, A6r2, A7r2, A8r2, A9r2, A10r2, A11r2, A12r2, A13r2, A14r2, A15r2, A16r2, A17r2, A18r2, A19r2, \n",
      "\tVi0, Vi1, Vi2, Vi3, Vi4, Vi5, Vi6, Vi7, Vi8, Vi9, Vi10, Vi11, Vi12, Vi13, Vi14, Vi15, Vi16, Vi17, Vi18, Vi19, \n",
      "\tDPnewOutReadyC,\n",
      "\tVo2,\n",
      "\tDPearlyNewOutReadyC\n",
      "\t);\n",
      "\n"
     ]
    }
   ],
   "source": [
    "if(ar>0): #RS*PR > M, RS>=2\n",
    "    print(\"wire inReadyC = (columnInSeries!={}) & inReady;\".format(RS-1), file=of)\n",
    "print(\"wire DPnewOutReady;\", file=of)\n",
    "if(ar>0):\n",
    "    print(\"wire DPnewOutReadyC;\", file=of)\n",
    "print(\"wire DPearlyNewOutReady;\", file=of)\n",
    "if(ar>0):\n",
    "    print(\"wire DPearlyNewOutReadyC;\", file=of)\n",
    "print(file=of)\n",
    "\n",
    "for i in range (PR):\n",
    "    if(HRR==1):\n",
    "        print(\"DotProduct_{}_noHR_c{}#( .IN_WIDTH(IN_WIDTH), .INPUT_REG_DEPTH(INPUT_REG_DEPTH), .MULT_PIPE_DEPTH(MULT_PIPE_DEPTH) )\".format(N, MAMCS), file=of)\n",
    "    else:\n",
    "        print(\"DotProduct_{}_HR_x{}_p{}_c{}_series#( .IN_WIDTH(IN_WIDTH), .INPUT_REG_DEPTH(INPUT_REG_DEPTH), .MULT_PIPE_DEPTH(MULT_PIPE_DEPTH) )\".format(N, HRR, NMult, MAMCS), file=of)\n",
    "    print(\"\\tDP_{}(clk, reset, enable,\".format(i), file=of)\n",
    "    if(HRR>1):\n",
    "        if i==0:\n",
    "            print(\"\\treadyForNewRowStart,\", file=of)\n",
    "            print(\"\\trowInSeries,\".format(i), file=of)\n",
    "        else:\n",
    "            print(\"\\tLLreadyForNewDataSeries{}, //not used\".format(i), file=of)\n",
    "            print(\"\\tLLinSeries{}, //not used\".format(i), file=of)\n",
    "    if(PR-i<=ar):\n",
    "        print(\"\\tinReadyC,\", file=of)\n",
    "    else:\n",
    "        print(\"\\tinReady,\", file=of)\n",
    "    print(\"\\t\", end='', file=of)\n",
    "    for j in range(NMult):\n",
    "        print(\"A{}r{}, \".format(j, i), end='', file=of)\n",
    "    print(file=of)\n",
    "    print(\"\\t\", end='', file=of)\n",
    "    if (RS>1) and (_Enable_Vector_Latch>0):\n",
    "        for j in range(NMult):\n",
    "            print(\"SVi{}, \".format(j), end='', file=of)\n",
    "    else:\n",
    "        for j in range(NMult):\n",
    "            print(\"Vi{}, \".format(j), end='', file=of)        \n",
    "    print(file=of)\n",
    "    if i==0:\n",
    "        print(\"\\tDPnewOutReady,\", file=of)\n",
    "    elif i==PR-ar:\n",
    "        print(\"\\tDPnewOutReadyC,\", file=of)\n",
    "    else:\n",
    "        print(\"\\tDPnewOutReady{}, //not used\".format(i), file=of)\n",
    "    print(\"\\tVo{},\".format(i), file=of)\n",
    "    if i==0:\n",
    "        print(\"\\tDPearlyNewOutReady\\n\\t);\\n\", file=of)\n",
    "    elif i==PR-ar:\n",
    "        print(\"\\tDPearlyNewOutReadyC\\n\\t);\\n\", file=of)\n",
    "    else:\n",
    "        print(\"\\tDPearlyNewOutReady{} //not used\\n\\t);\\n\".format(i), file=of)"
   ]
  },
  {
   "cell_type": "code",
   "execution_count": 22,
   "metadata": {
    "collapsed": false
   },
   "outputs": [
    {
     "name": "stdout",
     "output_type": "stream",
     "text": [
      "always @(posedge clk) begin\n",
      "\tif(reset) begin\n",
      "\t\tcolumnInSeries <= 0;\n",
      "\tend\n",
      "\telse if(enable) begin\n",
      "\t\tif(inReady) begin\n",
      "\t\t\tif(rowInSeries==1) begin\n",
      "\t\t\t\tif(columnInSeries==1) begin\n",
      "\t\t\t\t\tcolumnInSeries <= 0;\n",
      "\t\t\t\tend\n",
      "\t\t\t\telse begin\n",
      "\t\t\t\t\tcolumnInSeries <= 1;\n",
      "\t\t\t\tend\n",
      "\t\t\tend\n",
      "\t\tend\n",
      "\tend\n",
      "end\n",
      "\n"
     ]
    }
   ],
   "source": [
    "if(RS>1):\n",
    "    if (_Enable_Vector_Latch>0):\n",
    "        print(\"reg signed [IN_WIDTH-1:0] \", end='', file=of)\n",
    "        for i in range(N-1):\n",
    "            print(\"LVi{}, \".format(i), end='', file=of)\n",
    "        print(\"LVi{};\".format(N-1), file=of)\n",
    "    print(\"always @(posedge clk) begin\", file=of)\n",
    "    print(\"\\tif(reset) begin\", file=of)\n",
    "    print(\"\\t\\tcolumnInSeries <= 0;\", file=of)\n",
    "    print(\"\\tend\", file=of)\n",
    "    print(\"\\telse if(enable) begin\", file=of)\n",
    "    print(\"\\t\\tif(inReady) begin\", file=of)\n",
    "    if(HRR>1):\n",
    "        print(\"\\t\\t\\tif(rowInSeries=={}) begin\".format(HRR-1), file=of)\n",
    "        print(\"\\t\", end='', file=of)\n",
    "    print(\"\\t\\t\\tif(columnInSeries=={}) begin\".format(RS-1), file=of)\n",
    "    if(HRR>1):\n",
    "        print(\"\\t\", end='', file=of)\n",
    "    print(\"\\t\\t\\t\\tcolumnInSeries <= 0;\", file=of)\n",
    "    if(HRR>1):\n",
    "        print(\"\\t\", end='', file=of)\n",
    "    print(\"\\t\\t\\tend\", file=of)\n",
    "    if(HRR>1):\n",
    "        print(\"\\t\", end='', file=of)\n",
    "    print(\"\\t\\t\\telse begin\", file=of)\n",
    "    if(HRR>1):\n",
    "        print(\"\\t\", end='', file=of)\n",
    "    if RS==2:\n",
    "        print(\"\\t\\t\\t\\tcolumnInSeries <= 1;\", file=of)    \n",
    "    else:\n",
    "        print(\"\\t\\t\\t\\tcolumnInSeries <= columnInSeries+1;\", file=of)\n",
    "    if(HRR>1):\n",
    "        print(\"\\t\\t\\t\\tend\", file=of)\n",
    "    print(\"\\t\\t\\tend\", file=of)\n",
    "    if (RS>1) and (_Enable_Vector_Latch>0):\n",
    "        print(\"\\t\\t\\tif(columnInSeries==0) begin\", file=of)\n",
    "        if(HRR>1):\n",
    "            print(\"\\t\\t\\t\\tcase(rowInSeries)\", file=of)\n",
    "        for i in range(HRR):\n",
    "            if(HRR>1):\n",
    "                print(\"\\t\\t\\t\\t\\t{}: begin\".format(i), file=of)\n",
    "                print(\"\\t\\t\", end='', file=of)\n",
    "            print(\"\\t\\t\\t\\t\", end='', file=of)\n",
    "            k=NMult*i-1\n",
    "            for j in range(NMult):\n",
    "                k=k+1\n",
    "                if k < N:\n",
    "                    print(\"LVi{} <= Vi{}; \".format(k,j), end='', file=of)\n",
    "            print(file=of)\n",
    "            if(HRR>1):\n",
    "                print(\"\\t\\t\\t\\t\\tend\", file=of)\n",
    "            if k >= N-1:\n",
    "                break\n",
    "        if(HRR>1):\n",
    "            print(\"\\t\\t\\t\\tendcase\", file=of)\n",
    "        print(\"\\t\\t\\tend\", file=of)\n",
    "    print(\"\\t\\tend\", file=of)\n",
    "    print(\"\\tend\", file=of)\n",
    "    print(\"end\\n\", file=of)"
   ]
  },
  {
   "cell_type": "code",
   "execution_count": 23,
   "metadata": {
    "collapsed": false
   },
   "outputs": [],
   "source": [
    "if _Enable_Vector_Latch>0:\n",
    "    print(\"always @(*) begin\", file=of)\n",
    "    print(\"\\tif(columnInSeries==0) begin\", file=of)\n",
    "    print(\"\\t\\t\", end='', file=of)\n",
    "    for j in range(NMult):\n",
    "        print(\"SVi{} = Vi{}; \".format(j,j), end='', file=of)\n",
    "    print(file=of)\n",
    "    print(\"\\tend\", file=of)\n",
    "    print(\"\\telse begin\", file=of)\n",
    "    if(HRR>1):\n",
    "        print(\"\\t\\tcase(rowInSeries)\", file=of)\n",
    "    for i in range(HRR):\n",
    "        if(HRR>1):\n",
    "            print(\"\\t\\t\\t{}: begin\".format(i), file=of)\n",
    "            print(\"\\t\\t\", end='', file=of)\n",
    "        print(\"\\t\\t\", end='', file=of)\n",
    "        k=NMult*i-1\n",
    "        for j in range(NMult):\n",
    "            k=k+1\n",
    "            if k >= N:\n",
    "                print(\"SVi{} = 0; \".format(j), end='', file=of)            \n",
    "            else:\n",
    "                print(\"SVi{} = LVi{}; \".format(j,k), end='', file=of)\n",
    "        print(file=of)\n",
    "        if(HRR>1):\n",
    "            print(\"\\t\\t\\tend\", file=of)\n",
    "    if(HRR>1):\n",
    "        print(\"\\t\\tendcase\", file=of)\n",
    "    print(\"\\tend\", file=of)\n",
    "    print(\"end\\n\", file=of)"
   ]
  },
  {
   "cell_type": "code",
   "execution_count": 24,
   "metadata": {
    "collapsed": false
   },
   "outputs": [
    {
     "name": "stdout",
     "output_type": "stream",
     "text": [
      "always @(posedge clk) begin\n",
      "\tif(reset) begin\n",
      "\t\toutSeries <= 1;\n",
      "\tend\n",
      "\telse if(enable) begin\n",
      "\t\tif(DPearlyNewOutReady) begin\n",
      "\t\t\tif(outSeries==1) begin\n",
      "\t\t\t\toutSeries <= 0;\n",
      "\t\t\tend\n",
      "\t\t\telse begin\n",
      "\t\t\t\toutSeries <= 1;\n",
      "\t\t\tend\n",
      "\t\tend\n",
      "\tend\n",
      "end\n",
      "\n"
     ]
    }
   ],
   "source": [
    "if(RS>1):\n",
    "    print(\"always @(posedge clk) begin\", file=of)\n",
    "    print(\"\\tif(reset) begin\", file=of)\n",
    "    print(\"\\t\\toutSeries <= {};\".format(RS-1), file=of)\n",
    "    print(\"\\tend\", file=of)\n",
    "    print(\"\\telse if(enable) begin\", file=of)\n",
    "    print(\"\\t\\tif(DPearlyNewOutReady) begin\", file=of)\n",
    "    print(\"\\t\\t\\tif(outSeries=={}) begin\".format(RS-1), file=of)\n",
    "    print(\"\\t\\t\\t\\toutSeries <= 0;\", file=of)\n",
    "    print(\"\\t\\t\\tend\", file=of)\n",
    "    print(\"\\t\\t\\telse begin\", file=of)\n",
    "    if RS==2:\n",
    "        print(\"\\t\\t\\t\\toutSeries <= 1;\", file=of)\n",
    "    else:\n",
    "        print(\"\\t\\t\\t\\toutSeries <= outSeries+1;\", file=of)\n",
    "    print(\"\\t\\t\\tend\", file=of)\n",
    "    print(\"\\t\\tend\", file=of)\n",
    "    print(\"\\tend\", file=of)\n",
    "    print(\"end\\n\", file=of)"
   ]
  },
  {
   "cell_type": "code",
   "execution_count": 25,
   "metadata": {
    "collapsed": false
   },
   "outputs": [
    {
     "name": "stdout",
     "output_type": "stream",
     "text": [
      "assign newVo0toVo1Ready = DPnewOutReady;\n",
      "assign newVo2Ready = DPnewOutReadyC;\n",
      "\n",
      "assign earlyNewVo0toVo1Ready = DPearlyNewOutReady;\n",
      "assign earlyNewVo2Ready = DPearlyNewOutReadyC;\n",
      "\n",
      "endmodule\n"
     ]
    }
   ],
   "source": [
    "print(\"assign new\", end='', file=of)\n",
    "print(st1, end='', file=of)\n",
    "print(\"Ready = DPnewOutReady;\", file=of)\n",
    "if ar>0:\n",
    "    print(\"assign new\", end='', file=of)\n",
    "    print(st2, end='', file=of)\n",
    "    print(\"Ready = DPnewOutReadyC;\", file=of)\n",
    "print(file=of)\n",
    "print(\"assign earlyNew\", end='', file=of)\n",
    "print(st1, end='', file=of)\n",
    "print(\"Ready = DPearlyNewOutReady;\", file=of)\n",
    "if ar>0:\n",
    "    print(\"assign earlyNew\", end='', file=of)\n",
    "    print(st2, end='', file=of)\n",
    "    print(\"Ready = DPearlyNewOutReadyC;\", file=of)\n",
    "print(file=of)\n",
    "print(\"endmodule\", file=of)"
   ]
  },
  {
   "cell_type": "code",
   "execution_count": 26,
   "metadata": {
    "collapsed": true
   },
   "outputs": [],
   "source": [
    "if __Print_To_File>0:\n",
    "    of.close()"
   ]
  }
 ],
 "metadata": {
  "kernelspec": {
   "display_name": "Python 3",
   "language": "python",
   "name": "python3"
  },
  "language_info": {
   "codemirror_mode": {
    "name": "ipython",
    "version": 3
   },
   "file_extension": ".py",
   "mimetype": "text/x-python",
   "name": "python",
   "nbconvert_exporter": "python",
   "pygments_lexer": "ipython3",
   "version": "3.5.1"
  }
 },
 "nbformat": 4,
 "nbformat_minor": 0
}
