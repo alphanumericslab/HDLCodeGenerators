{
 "cells": [
  {
   "cell_type": "code",
   "execution_count": 1,
   "metadata": {
    "collapsed": true
   },
   "outputs": [],
   "source": [
    "#Direct Implementation"
   ]
  },
  {
   "cell_type": "code",
   "execution_count": 2,
   "metadata": {
    "collapsed": true
   },
   "outputs": [],
   "source": [
    "#inReadyC default to simplified definition"
   ]
  },
  {
   "cell_type": "code",
   "execution_count": 3,
   "metadata": {
    "collapsed": false
   },
   "outputs": [],
   "source": [
    "import sys\n",
    "import math"
   ]
  },
  {
   "cell_type": "code",
   "execution_count": 4,
   "metadata": {
    "collapsed": false
   },
   "outputs": [
    {
     "name": "stdout",
     "output_type": "stream",
     "text": [
      "Enter N: 30\n"
     ]
    }
   ],
   "source": [
    "#N>=1\n",
    "N = input('Enter N: ')\n",
    "N = int(N)"
   ]
  },
  {
   "cell_type": "code",
   "execution_count": 5,
   "metadata": {
    "collapsed": false
   },
   "outputs": [
    {
     "name": "stdout",
     "output_type": "stream",
     "text": [
      "Enter HRR (empty or 1 for noHR) : 2\n"
     ]
    }
   ],
   "source": [
    "#HRR>=1\n",
    "HRR = input('Enter HRR (empty or 1 for noHR) : ')"
   ]
  },
  {
   "cell_type": "code",
   "execution_count": 6,
   "metadata": {
    "collapsed": false
   },
   "outputs": [],
   "source": [
    "if N<1:\n",
    "    N=1\n",
    "if not HRR:\n",
    "    HRR=1\n",
    "else:\n",
    "    HRR = int(HRR)\n",
    "    if HRR<1:\n",
    "        HRR=1\n",
    "    if HRR>N:\n",
    "        HRR=N\n",
    "if HRR>1:\n",
    "    NOIPSMin = math.ceil(N/HRR);\n",
    "    NOIPSMax = math.ceil(N/(HRR-1))-1;\n",
    "    NOIPSMM = (NOIPSMin!=NOIPSMax)"
   ]
  },
  {
   "cell_type": "code",
   "execution_count": 7,
   "metadata": {
    "collapsed": false
   },
   "outputs": [
    {
     "name": "stdout",
     "output_type": "stream",
     "text": [
      "Enter Number of inputs per series (>=15, <=29, empty for 15) : 20\n"
     ]
    }
   ],
   "source": [
    "#>=NOIPSMin, <=NOIPSMax\n",
    "if HRR>1 and NOIPSMM:\n",
    "    NOIPS = input('Enter Number of inputs per series (>={}, <={}, empty for {}) : '.format(NOIPSMin, NOIPSMax, NOIPSMin))"
   ]
  },
  {
   "cell_type": "code",
   "execution_count": 8,
   "metadata": {
    "collapsed": false
   },
   "outputs": [
    {
     "name": "stdout",
     "output_type": "stream",
     "text": [
      "Enter IN_WIDTH default value (empty for 10) : \n"
     ]
    }
   ],
   "source": [
    "#IN_WIDTH>=1\n",
    "IN_WIDTH = input('Enter IN_WIDTH default value (empty for 10) : ')"
   ]
  },
  {
   "cell_type": "code",
   "execution_count": 37,
   "metadata": {
    "collapsed": false
   },
   "outputs": [
    {
     "name": "stdout",
     "output_type": "stream",
     "text": [
      "Enable Input Registers? (empty or 0 to disable, 1 to enable): \n"
     ]
    }
   ],
   "source": [
    "_Enable_Input_Registers = input('Enable Input Registers? (empty or 0 to disable, 1 to enable): ')"
   ]
  },
  {
   "cell_type": "code",
   "execution_count": 46,
   "metadata": {
    "collapsed": true
   },
   "outputs": [],
   "source": [
    "if HRR>1:\n",
    "    if NOIPSMM:\n",
    "        if not NOIPS:\n",
    "            NAdd=NOIPSMin\n",
    "        else:\n",
    "            NOIPS = int(NOIPS)\n",
    "            if NOIPS<NOIPSMin:\n",
    "                NAdd=NOIPSMin\n",
    "            elif NOIPS>NOIPSMax:\n",
    "                NAdd=NOIPSMax\n",
    "            else:\n",
    "                NAdd=NOIPS\n",
    "    else:\n",
    "        NAdd=NOIPSMin\n",
    "else:\n",
    "    NAdd=N\n",
    "if not IN_WIDTH:\n",
    "    IN_WIDTH=10\n",
    "else:\n",
    "    IN_WIDTH = int(IN_WIDTH)\n",
    "    if IN_WIDTH<1:\n",
    "        IN_WIDTH=1\n",
    "if not _Enable_Input_Registers:\n",
    "    _Enable_Input_Registers=0\n",
    "else:\n",
    "    _Enable_Input_Registers = int(_Enable_Input_Registers)"
   ]
  },
  {
   "cell_type": "code",
   "execution_count": 47,
   "metadata": {
    "collapsed": true
   },
   "outputs": [],
   "source": [
    "__Print_To_File = 1\n",
    "\n",
    "if __Print_To_File<=0:\n",
    "    of=sys.stdout\n",
    "else:\n",
    "    if(HRR==1):\n",
    "        if _Enable_Input_Registers>0:\n",
    "            of=open(\"./VectorAdd_{}_noHR_IR.v\".format(N), 'w+')\n",
    "        else:\n",
    "            of=open(\"./VectorAdd_{}_noHR_NIR.v\".format(N), 'w+')\n",
    "    else:\n",
    "        if _Enable_Input_Registers>0:\n",
    "            of=open(\"./VectorAdd_{}_HR_x{}_p{}_series_IR.v\".format(N, HRR, NAdd), 'w+')\n",
    "        else:\n",
    "            of=open(\"./VectorAdd_{}_HR_x{}_p{}_series_NIR.v\".format(N, HRR, NAdd), 'w+')        "
   ]
  },
  {
   "cell_type": "code",
   "execution_count": 48,
   "metadata": {
    "collapsed": false
   },
   "outputs": [],
   "source": [
    "print(\"`timescale 1ns / 1ps\\n\", file=of)\n",
    "print(\"\"\"//(* use_dsp48 = \"yes\" *) //yes, no, AutoMax, Auto\"\"\", file=of)\n",
    "if HRR==1:\n",
    "    if _Enable_Input_Registers>0:\n",
    "        print(\"module VectorAdd_{}_noHR_IR\".format(N), file=of)\n",
    "    else:\n",
    "        print(\"module VectorAdd_{}_noHR_NIR\".format(N), file=of)\n",
    "else:\n",
    "    if _Enable_Input_Registers>0:\n",
    "        print(\"module VectorAdd_{}_HR_x{}_p{}_series_IR\".format(N, HRR, NAdd), file=of)\n",
    "    else:\n",
    "        print(\"module VectorAdd_{}_HR_x{}_p{}_series_NIR\".format(N, HRR, NAdd), file=of)        \n",
    "print(\"#(\", file=of)\n",
    "print(\"parameter IN_WIDTH = {}\".format(IN_WIDTH), file=of)\n",
    "print(\")(\", file=of)\n",
    "print(\"input clk, reset, enable,\", file=of)\n",
    "if HRR>1:\n",
    "    print(\"output reg readyForNewDataSeries = 1,\", file=of)\n",
    "lghrr=math.ceil(math.log2(HRR))\n",
    "if lghrr>=1:\n",
    "    print(\"\"\"(* use_dsp48 = \"no\" *)\"\"\", file=of)\n",
    "if lghrr==1:\n",
    "    print(\"output reg inSeries = 0,\", file=of)\n",
    "elif lghrr>1:\n",
    "    print(\"output reg [{}:0] inSeries = 0,\".format(lghrr-1), file=of)\n",
    "print(\"input inReady,\", file=of)\n",
    "print(\"input signed [IN_WIDTH-1:0] \", end='', file=of)\n",
    "for i in range(NAdd):\n",
    "    print(\"A{}, \".format(i), end='', file=of)\n",
    "print(file=of)\n",
    "print(\"input signed [IN_WIDTH-1:0] \", end='', file=of)\n",
    "for i in range(NAdd):\n",
    "    print(\"B{}, \".format(i), end='', file=of)\n",
    "print(file=of)\n",
    "if HRR==1:\n",
    "    print(\"output reg outReady,\", file=of)\n",
    "    NE=NAdd\n",
    "else:\n",
    "    NE = N - NAdd*(HRR-1)\n",
    "    while NE<=0:\n",
    "        NE += NAdd\n",
    "    if NE==1:\n",
    "        print(\"output reg S0outReady,\", file=of)\n",
    "    else:\n",
    "        print(\"output reg S0toS{}outReady,\".format(NE-1), file=of)\n",
    "    if NE==NAdd:\n",
    "        print(\"output reg SNoutReady=0, //not used\", file=of)\n",
    "    elif NE==NAdd-1:\n",
    "        print(\"output reg S{}outReady,\".format(NE), file=of)\n",
    "    else:\n",
    "        print(\"output reg S{}toS{}outReady,\".format(NE, NAdd-1), file=of)\n",
    "if lghrr>=1:\n",
    "    print(\"\"\"(* use_dsp48 = \"no\" *)\"\"\", file=of)\n",
    "if lghrr==1:\n",
    "    print(\"output reg outSeries = 1,\", file=of)\n",
    "elif lghrr>1:\n",
    "    print(\"output reg [{}:0] outSeries = {},\".format(lghrr-1, HRR-1), file=of)\n",
    "print(\"output reg signed [IN_WIDTH:0] \", end='', file=of)\n",
    "for i in range(NAdd):\n",
    "    print(\"S{}, \".format(i), end='', file=of)\n",
    "print(file=of)\n",
    "if HRR==1:\n",
    "    print(\"output earlyOutReady\", file=of)\n",
    "else:\n",
    "    if NE==1:\n",
    "        print(\"output S0earlyOutReady,\", file=of)\n",
    "    else:\n",
    "        print(\"output S0toS{}earlyOutReady,\".format(NE-1), file=of)\n",
    "    if NE==NAdd:\n",
    "        print(\"output reg SNearlyOutReady=0 //not used\", file=of)\n",
    "    elif NE==NAdd-1:\n",
    "        print(\"output S{}earlyOutReady\".format(NE), file=of)\n",
    "    else:\n",
    "        print(\"output S{}toS{}earlyOutReady\".format(NE, NAdd-1), file=of)\n",
    "print(\");\\n\", file=of)"
   ]
  },
  {
   "cell_type": "code",
   "execution_count": 49,
   "metadata": {
    "collapsed": false
   },
   "outputs": [],
   "source": [
    "if HRR!=1:\n",
    "    print(\"always @(posedge clk) begin\", file=of)\n",
    "    print(\"\\tif(reset) begin\", file=of)\n",
    "    print(\"\\t\\treadyForNewDataSeries <= 1;\", file=of)\n",
    "    print(\"\\t\\tinSeries <= 0;\", file=of)\n",
    "    print(\"\\tend\", file=of)\n",
    "    print(\"\\telse if(enable) begin\", file=of)\n",
    "    print(\"\\t\\tif(inReady) begin\", file=of)\n",
    "    print(\"\\t\\t\\tif(inSeries=={}) begin\".format(HRR-1), file=of)\n",
    "    print(\"\\t\\t\\t\\treadyForNewDataSeries <= 1;\", file=of)\n",
    "    print(\"\\t\\t\\t\\tinSeries <= 0;\", file=of)\n",
    "    print(\"\\t\\t\\tend\", file=of)\n",
    "    print(\"\\t\\t\\telse begin\", file=of)\n",
    "    print(\"\\t\\t\\t\\treadyForNewDataSeries <= 0;\", file=of)\n",
    "    if HRR==2:\n",
    "        print(\"\\t\\t\\t\\tinSeries <= 1;\", file=of)    \n",
    "    else:\n",
    "        print(\"\\t\\t\\t\\tinSeries <= inSeries+1;\", file=of)\n",
    "    print(\"\\t\\t\\tend\", file=of)\n",
    "    print(\"\\t\\tend\", file=of)\n",
    "    print(\"\\tend\", file=of)\n",
    "    print(\"end\", file=of)\n",
    "    print(file=of)"
   ]
  },
  {
   "cell_type": "code",
   "execution_count": 50,
   "metadata": {
    "collapsed": false
   },
   "outputs": [],
   "source": [
    "if _Enable_Input_Registers>0:\n",
    "    print(\"reg inReadyR;\", file=of)\n",
    "    if NE!=NAdd:\n",
    "        print(\"reg inReadyCR;\", file=of)\n",
    "    print(\"reg signed [IN_WIDTH-1:0] \", end='', file=of)\n",
    "    for i in range(NAdd-1):\n",
    "        print(\"A{}R, \".format(i), end='', file=of)\n",
    "    print(\"A{}R;\".format(NAdd-1), file=of)\n",
    "    print(\"reg signed [IN_WIDTH-1:0] \", end='', file=of)\n",
    "    for i in range(NAdd-1):\n",
    "        print(\"B{}R, \".format(i), end='', file=of)\n",
    "    print(\"B{}R;\".format(NAdd-1), file=of)\n",
    "else:\n",
    "    if NE!=NAdd: #HRR!=1 \n",
    "        print(\"wire inReadyC = (inSeries!={}) & inReady;\".format(HRR-1), file=of)\n",
    "    \n",
    "print(\"always @(posedge clk) begin\", file=of)\n",
    "print(\"\\tif(reset) begin\", file=of)\n",
    "if _Enable_Input_Registers>0:\n",
    "    print(\"\\t\\tinReadyR <= 0;\", file=of)\n",
    "    if NE!=NAdd:\n",
    "        print(\"\\t\\tinReadyCR <= 0;\", file=of)\n",
    "if HRR==1:\n",
    "    print(\"\\t\\tOutReady <= 0;\", file=of)\n",
    "else:\n",
    "    if NE==1:\n",
    "        print(\"\\t\\tS0outReady <= 0;\", file=of)\n",
    "    else:\n",
    "        print(\"\\t\\tS0toS{}outReady <= 0;\".format(NE-1), file=of)\n",
    "if NE!=NAdd:\n",
    "    if NE==NAdd-1:\n",
    "        print(\"\\t\\tS{}outReady <= 0;\".format(NE), file=of)\n",
    "    else:\n",
    "        print(\"\\t\\tS{}toS{}outReady <= 0;\".format(NE, NAdd-1), file=of)\n",
    "print(\"\\tend\", file=of)\n",
    "print(\"\\telse if(enable) begin\", file=of)\n",
    "if _Enable_Input_Registers>0:\n",
    "    print(\"\\t\\tinReadyR <= inReady;\", file=of)\n",
    "    if HRR==1:\n",
    "        print(\"\\t\\tOutReady <= inReadyR;\", file=of)\n",
    "    else:\n",
    "        if NE==1:\n",
    "            print(\"\\t\\tS0outReady <= inReadyR;\", file=of)\n",
    "        else:\n",
    "            print(\"\\t\\tS0toS{}outReady <= inReadyR;\".format(NE-1), file=of)\n",
    "    if NE!=NAdd:\n",
    "        print(\"\\t\\tinReadyCR <= (inSeries!={}) & inReady;\".format(HRR-1), file=of)\n",
    "        if NE==NAdd-1:\n",
    "            print(\"\\t\\tS{}outReady <= inReadyCR;\".format(NE), file=of)\n",
    "        else:\n",
    "            print(\"\\t\\tS{}toS{}outReady <= inReadyCR;\".format(NE, NAdd-1), file=of)\n",
    "    print(\"\\t\\tif(inReady) begin\", file=of)\n",
    "    for i in range(NE):\n",
    "        print(\"\\t\\t\\tA{}R <= A{}; B{}R <= B{};\".format(i, i, i, i), file=of)\n",
    "    if NE!=NAdd:\n",
    "        print(\"\\t\\t\\tif(inSeries!={}) begin\".format(HRR-1), file=of)\n",
    "        for i in range(NE, NAdd):\n",
    "            print(\"\\t\\t\\t\\tA{}R <= A{}; B{}R <= B{};\".format(i, i, i, i), file=of)\n",
    "        print(\"\\t\\t\\tend\", file=of)\n",
    "    print(\"\\t\\tend\", file=of)\n",
    "    print(\"\\t\\tif(inReadyR) begin\", file=of)\n",
    "    for i in range(NE):\n",
    "        print(\"\\t\\t\\tS{} <= A{}R+B{}R;\".format(i, i, i), file=of)\n",
    "    print(\"\\t\\tend\", file=of)\n",
    "    if NE!=NAdd:\n",
    "        print(\"\\t\\tif(inReadyCR) begin\", file=of)\n",
    "        for i in range(NE, NAdd):\n",
    "            print(\"\\t\\t\\tS{} <= A{}R+B{}R;\".format(i, i, i), file=of)\n",
    "        print(\"\\t\\tend\", file=of)\n",
    "else:\n",
    "    if HRR==1:\n",
    "        print(\"\\t\\tOutReady <= inReady;\", file=of)\n",
    "    else:\n",
    "        if NE==1:\n",
    "            print(\"\\t\\tS0outReady <= inReady;\", file=of)\n",
    "        else:\n",
    "            print(\"\\t\\tS0toS{}outReady <= inReady;\".format(NE-1), file=of)\n",
    "    if NE!=NAdd:\n",
    "        if NE==NAdd-1:\n",
    "            print(\"\\t\\tS{}outReady <= inReadyC;\".format(NE), file=of)\n",
    "        else:\n",
    "            print(\"\\t\\tS{}toS{}outReady <= inReadyC;\".format(NE, NAdd-1), file=of)\n",
    "    print(\"\\t\\tif(inReady) begin\", file=of)\n",
    "    for i in range(NE):\n",
    "        print(\"\\t\\t\\tS{} <= A{}+B{};\".format(i, i, i), file=of)\n",
    "    if NE!=NAdd:\n",
    "        print(\"\\t\\t\\tif(inSeries!={}) begin\".format(HRR-1), file=of)\n",
    "        for i in range(NE, NAdd):\n",
    "            print(\"\\t\\t\\t\\tS{} <= A{}+B{};\".format(i, i, i), file=of)\n",
    "        print(\"\\t\\t\\tend\", file=of)\n",
    "    print(\"\\t\\tend\", file=of)\n",
    "print(\"\\tend\", file=of)\n",
    "print(\"end\", file=of)\n",
    "print(file=of)\n",
    "if _Enable_Input_Registers>0:\n",
    "    if HRR==1:\n",
    "        print(\"assign earlyOutReady = inReadyR;\", file=of)\n",
    "    else:\n",
    "        if NE==1:\n",
    "            print(\"assign S0earlyOutReady = inReadyR;\", file=of)\n",
    "        else:\n",
    "            print(\"assign S0toS{}earlyOutReady = inReadyR;\".format(NE-1), file=of)\n",
    "    if NE!=NAdd:\n",
    "        if NE==NAdd-1:\n",
    "            print(\"assign S{}earlyOutReady = inReadyCR;\".format(NE), file=of)\n",
    "        else:\n",
    "            print(\"assign S{}toS{}earlyOutReady = inReadyCR;\".format(NE, NAdd-1), file=of)    \n",
    "else:\n",
    "    if HRR==1:\n",
    "        print(\"assign earlyOutReady = inReady;\", file=of)\n",
    "    else:\n",
    "        if NE==1:\n",
    "            print(\"assign S0earlyOutReady = inReady;\", file=of)\n",
    "        else:\n",
    "            print(\"assign S0toS{}earlyOutReady = inReady;\".format(NE-1), file=of)\n",
    "    if NE!=NAdd:\n",
    "        if NE==NAdd-1:\n",
    "            print(\"assign S{}earlyOutReady = inReadyC;\".format(NE), file=of)\n",
    "        else:\n",
    "            print(\"assign S{}toS{}earlyOutReady = inReadyC;\".format(NE, NAdd-1), file=of)        \n",
    "print(file=of)"
   ]
  },
  {
   "cell_type": "code",
   "execution_count": 51,
   "metadata": {
    "collapsed": false
   },
   "outputs": [],
   "source": [
    "if HRR!=1:\n",
    "    print(\"always @(posedge clk) begin\", file=of)\n",
    "    print(\"\\tif(reset) begin\", file=of)\n",
    "    print(\"\\t\\toutSeries <= {};\".format(HRR-1), file=of)\n",
    "    print(\"\\tend\", file=of)\n",
    "    print(\"\\telse if(enable) begin\", file=of)\n",
    "    if _Enable_Input_Registers>0:\n",
    "        print(\"\\t\\tif(inReadyR) begin\", file=of)\n",
    "    else:\n",
    "        print(\"\\t\\tif(inReady) begin\".format(NE-1), file=of)\n",
    "    print(\"\\t\\t\\tif(outSeries=={}) begin\".format(HRR-1), file=of)\n",
    "    print(\"\\t\\t\\t\\toutSeries <= 0;\", file=of)\n",
    "    print(\"\\t\\t\\tend\", file=of)\n",
    "    print(\"\\t\\t\\telse begin\", file=of)\n",
    "    if HRR==2:\n",
    "        print(\"\\t\\t\\t\\toutSeries <= 1;\", file=of)\n",
    "    else:\n",
    "        print(\"\\t\\t\\t\\toutSeries <= outSeries+1;\", file=of)\n",
    "    print(\"\\t\\t\\tend\", file=of)\n",
    "    print(\"\\t\\tend\", file=of)\n",
    "    print(\"\\tend\", file=of)\n",
    "    print(\"end\", file=of)\n",
    "    print(file=of)"
   ]
  },
  {
   "cell_type": "code",
   "execution_count": 52,
   "metadata": {
    "collapsed": false
   },
   "outputs": [],
   "source": [
    "print(\"endmodule\", file=of)"
   ]
  },
  {
   "cell_type": "code",
   "execution_count": 53,
   "metadata": {
    "collapsed": false
   },
   "outputs": [],
   "source": [
    "if __Print_To_File>0:\n",
    "    of.close()"
   ]
  }
 ],
 "metadata": {
  "kernelspec": {
   "display_name": "Python 3",
   "language": "python",
   "name": "python3"
  },
  "language_info": {
   "codemirror_mode": {
    "name": "ipython",
    "version": 3
   },
   "file_extension": ".py",
   "mimetype": "text/x-python",
   "name": "python",
   "nbconvert_exporter": "python",
   "pygments_lexer": "ipython3",
   "version": "3.5.1"
  }
 },
 "nbformat": 4,
 "nbformat_minor": 0
}
