{
 "cells": [
  {
   "cell_type": "code",
   "execution_count": 1,
   "metadata": {
    "collapsed": true
   },
   "outputs": [],
   "source": [
    "#uses Registered2to1Adder - v1.1"
   ]
  },
  {
   "cell_type": "code",
   "execution_count": 2,
   "metadata": {
    "collapsed": true
   },
   "outputs": [],
   "source": [
    "import sys\n",
    "import math"
   ]
  },
  {
   "cell_type": "code",
   "execution_count": 3,
   "metadata": {
    "collapsed": false
   },
   "outputs": [
    {
     "name": "stdout",
     "output_type": "stream",
     "text": [
      "Enter N: 5\n"
     ]
    }
   ],
   "source": [
    "#N>=1\n",
    "N = input('Enter N: ')\n",
    "N = int(N)"
   ]
  },
  {
   "cell_type": "code",
   "execution_count": 4,
   "metadata": {
    "collapsed": false
   },
   "outputs": [
    {
     "name": "stdout",
     "output_type": "stream",
     "text": [
      "Enter IN_WIDTH default value: 10\n"
     ]
    }
   ],
   "source": [
    "#IN_WIDTH>=1\n",
    "IN_WIDTH = input('Enter IN_WIDTH default value: ')\n",
    "IN_WIDTH = int(IN_WIDTH)"
   ]
  },
  {
   "cell_type": "code",
   "execution_count": 5,
   "metadata": {
    "collapsed": true
   },
   "outputs": [],
   "source": [
    "if(N<1):\n",
    "    N=1\n",
    "if(IN_WIDTH<1):\n",
    "    IN_WIDTH=1"
   ]
  },
  {
   "cell_type": "code",
   "execution_count": 6,
   "metadata": {
    "collapsed": true
   },
   "outputs": [],
   "source": [
    "of=sys.stdout\n",
    "#of=open(\"./RegisteredVectorAdder_{}.v\".format(N), 'w+')"
   ]
  },
  {
   "cell_type": "code",
   "execution_count": 7,
   "metadata": {
    "collapsed": false
   },
   "outputs": [
    {
     "name": "stdout",
     "output_type": "stream",
     "text": [
      "`timescale 1ns / 1ps\n",
      "\n",
      "module RegisteredVectorAdder_5\n",
      "#(\n",
      "parameter IN_WIDTH = 10,\n",
      ")(\n",
      "input clk, reset, enable,\n",
      "input inReady,\n",
      "input signed [IN_WIDTH-1:0] A0, A1, A2, A3, A4, \n",
      "input signed [IN_WIDTH-1:0] B0, B1, B2, B3, B4, \n",
      "output outReady,\n",
      "output signed [IN_WIDTH:0] S0, S1, S2, S3, S4, \n",
      "output earlyOutReady\n",
      ");\n",
      "\n"
     ]
    }
   ],
   "source": [
    "print(\"`timescale 1ns / 1ps\\n\", file=of)\n",
    "print(\"module RegisteredVectorAdder_{}\".format(N), file=of)\n",
    "print(\"#(\", file=of)\n",
    "print(\"parameter IN_WIDTH = {},\".format(IN_WIDTH), file=of)\n",
    "print(\")(\", file=of)\n",
    "print(\"input clk, reset, enable,\", file=of)\n",
    "print(\"input inReady,\", file=of)\n",
    "print(\"input signed [IN_WIDTH-1:0] \", end='', file=of)\n",
    "for i in range(N):\n",
    "    print(\"A{}, \".format(i), end='', file=of)\n",
    "print(file=of)\n",
    "print(\"input signed [IN_WIDTH-1:0] \", end='', file=of)\n",
    "for i in range(N):\n",
    "    print(\"B{}, \".format(i), end='', file=of)\n",
    "print(file=of)\n",
    "print(\"output outReady,\", file=of)\n",
    "print(\"output signed [IN_WIDTH:0] \", end='', file=of)\n",
    "for i in range(N):\n",
    "    print(\"S{}, \".format(i), end='', file=of)\n",
    "print(file=of)\n",
    "print(\"output earlyOutReady\", file=of)\n",
    "print(\");\\n\", file=of)"
   ]
  },
  {
   "cell_type": "code",
   "execution_count": 13,
   "metadata": {
    "collapsed": false
   },
   "outputs": [
    {
     "name": "stdout",
     "output_type": "stream",
     "text": [
      "Registered2to1Adder #(.IN_WIDTH(IN_WIDTH))\n",
      "Add0(clk, reset, enable, inReady,\n",
      "A0, B0,\n",
      "outReady,\n",
      "S0,\n",
      "earlyOutReady);\n",
      "\n",
      "Registered2to1Adder #(.IN_WIDTH(IN_WIDTH))\n",
      "Add1(clk, reset, enable, inReady,\n",
      "A1, B1,\n",
      "aor1, //not used\n",
      "S1,\n",
      "aeor1); //not used\n",
      "\n",
      "Registered2to1Adder #(.IN_WIDTH(IN_WIDTH))\n",
      "Add2(clk, reset, enable, inReady,\n",
      "A2, B2,\n",
      "aor2, //not used\n",
      "S2,\n",
      "aeor2); //not used\n",
      "\n",
      "Registered2to1Adder #(.IN_WIDTH(IN_WIDTH))\n",
      "Add3(clk, reset, enable, inReady,\n",
      "A3, B3,\n",
      "aor3, //not used\n",
      "S3,\n",
      "aeor3); //not used\n",
      "\n",
      "Registered2to1Adder #(.IN_WIDTH(IN_WIDTH))\n",
      "Add4(clk, reset, enable, inReady,\n",
      "A4, B4,\n",
      "aor4, //not used\n",
      "S4,\n",
      "aeor4); //not used\n",
      "\n"
     ]
    }
   ],
   "source": [
    "print(\"Registered2to1Adder #(.IN_WIDTH(IN_WIDTH))\\nAdd0(clk, reset, enable, inReady,\\nA0, B0,\\noutReady,\\nS0,\\nearlyOutReady);\\n\")\n",
    "for i in range(1,N):\n",
    "    print(\"Registered2to1Adder #(.IN_WIDTH(IN_WIDTH))\\nAdd{}(clk, reset, enable, inReady,\\nA{}, B{},\\naor{}, //not used\\nS{},\\naeor{}); //not used\\n\".format(i, i, i, i, i, i))"
   ]
  },
  {
   "cell_type": "code",
   "execution_count": 10,
   "metadata": {
    "collapsed": false
   },
   "outputs": [],
   "source": [
    "#of.close()"
   ]
  }
 ],
 "metadata": {
  "kernelspec": {
   "display_name": "Python 3",
   "language": "python",
   "name": "python3"
  },
  "language_info": {
   "codemirror_mode": {
    "name": "ipython",
    "version": 3
   },
   "file_extension": ".py",
   "mimetype": "text/x-python",
   "name": "python",
   "nbconvert_exporter": "python",
   "pygments_lexer": "ipython3",
   "version": "3.5.1"
  }
 },
 "nbformat": 4,
 "nbformat_minor": 0
}
