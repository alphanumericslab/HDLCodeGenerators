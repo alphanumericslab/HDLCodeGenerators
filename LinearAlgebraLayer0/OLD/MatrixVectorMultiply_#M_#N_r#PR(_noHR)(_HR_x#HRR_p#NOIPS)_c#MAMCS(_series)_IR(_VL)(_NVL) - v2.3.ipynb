{
 "cells": [
  {
   "cell_type": "code",
   "execution_count": 1,
   "metadata": {
    "collapsed": true
   },
   "outputs": [],
   "source": [
    "#this module is not usefull if RS is equal to 1 (which result Vector Latch is disabled), or RS is bigger than 1 but Vector Latch is disabled\n",
    "#so CURRENT MODE will not generate output for these conditions\n",
    "#but you can still use OLD MODE insted if you want"
   ]
  },
  {
   "cell_type": "code",
   "execution_count": 2,
   "metadata": {
    "collapsed": true
   },
   "outputs": [],
   "source": [
    "#changed inputs and outputs count and order\n",
    "#completed and changed output file and module name\n",
    "#changed to 2 group outReady\n",
    "#inReadyC simplified definition\n",
    "#added NOIPSMin and NOIPSMax\n",
    "#changed initial checks\n",
    "#added earlyNewOutReady\n",
    "#corrected readyForNewRowStart\n",
    "#changes to HRR==1 mode\n",
    "#corrected extra LVi problem"
   ]
  },
  {
   "cell_type": "code",
   "execution_count": 3,
   "metadata": {
    "collapsed": true
   },
   "outputs": [],
   "source": [
    "#uses DotProduct_#N_HR_x#HRR_p#NOIPS_c#MAMCS_series - v4.3\n",
    "#uses DotProduct_#N_noHR_c#MAMCS - v3.4"
   ]
  },
  {
   "cell_type": "code",
   "execution_count": 4,
   "metadata": {
    "collapsed": true
   },
   "outputs": [],
   "source": [
    "import sys\n",
    "import math"
   ]
  },
  {
   "cell_type": "code",
   "execution_count": 5,
   "metadata": {
    "collapsed": false
   },
   "outputs": [
    {
     "name": "stdout",
     "output_type": "stream",
     "text": [
      "Enter M: 5\n"
     ]
    }
   ],
   "source": [
    "#M>=1\n",
    "M = input('Enter M: ')"
   ]
  },
  {
   "cell_type": "code",
   "execution_count": 6,
   "metadata": {
    "collapsed": false
   },
   "outputs": [
    {
     "name": "stdout",
     "output_type": "stream",
     "text": [
      "Enter N: 30\n"
     ]
    }
   ],
   "source": [
    "#N>=1\n",
    "#N better to be >= HRR, if N<HRR, can decrease HRR (to N)\n",
    "N = input('Enter N: ')"
   ]
  },
  {
   "cell_type": "code",
   "execution_count": 7,
   "metadata": {
    "collapsed": false
   },
   "outputs": [
    {
     "name": "stdout",
     "output_type": "stream",
     "text": [
      "Enter No Of Parallel Row (empty for 1): 3\n"
     ]
    }
   ],
   "source": [
    "#>=1, <=M\n",
    "PR = input('Enter No Of Parallel Row (empty for 1): ')"
   ]
  },
  {
   "cell_type": "code",
   "execution_count": 8,
   "metadata": {
    "collapsed": true
   },
   "outputs": [],
   "source": [
    "M = int(M)\n",
    "if(M<1):\n",
    "    M=1\n",
    "N = int(N)\n",
    "if(N<1):\n",
    "    N=1\n",
    "if not PR:\n",
    "    PR=1\n",
    "else:\n",
    "    PR = int(PR)\n",
    "    if PR>M:\n",
    "        PR = M\n",
    "RS=math.ceil(M/PR)"
   ]
  },
  {
   "cell_type": "code",
   "execution_count": 9,
   "metadata": {
    "collapsed": false
   },
   "outputs": [
    {
     "name": "stdout",
     "output_type": "stream",
     "text": [
      "this module is not usefull if RS is equal to 1 (which result Vector Latch is disabled), or RS is bigger than 1 but Vector Latch is disabled\n",
      "so CURRENT MODE will not generate output for these conditions\n",
      "but you can still use OLD MODE insted if you want\n"
     ]
    }
   ],
   "source": [
    "#CURRENT MODE:\n",
    "print(\"this module is not usefull if RS is equal to 1 (which result Vector Latch is disabled), or RS is bigger than 1 but Vector Latch is disabled\")\n",
    "print(\"so CURRENT MODE will not generate output for these conditions\")\n",
    "print(\"but you can still use OLD MODE insted if you want\")\n",
    "assert RS!=1 \n",
    "\n",
    "#OLD MODE:\n",
    "#do nothing"
   ]
  },
  {
   "cell_type": "code",
   "execution_count": 10,
   "metadata": {
    "collapsed": false,
    "scrolled": false
   },
   "outputs": [
    {
     "name": "stdout",
     "output_type": "stream",
     "text": [
      "Enter HRR (empty or 1 for noHR): 2\n"
     ]
    }
   ],
   "source": [
    "#HRR>=1\n",
    "HRR = input('Enter HRR (empty or 1 for noHR): ')"
   ]
  },
  {
   "cell_type": "code",
   "execution_count": 11,
   "metadata": {
    "collapsed": true
   },
   "outputs": [],
   "source": [
    "if not HRR:\n",
    "    HRR=1\n",
    "else:\n",
    "    HRR = int(HRR)\n",
    "    if HRR<1:\n",
    "        HRR=1\n",
    "    if HRR>N:\n",
    "        HRR=N\n",
    "if HRR>1:\n",
    "    NOIPSMin = math.ceil(N/HRR)\n",
    "    NOIPSMax = math.ceil(N/(HRR-1))-1\n",
    "    NOIPSMM = (NOIPSMin!=NOIPSMax)"
   ]
  },
  {
   "cell_type": "code",
   "execution_count": 12,
   "metadata": {
    "collapsed": false
   },
   "outputs": [
    {
     "name": "stdout",
     "output_type": "stream",
     "text": [
      "Enter Number of inputs per series (>=15, <=29, empty for 15): 20\n"
     ]
    }
   ],
   "source": [
    "#>=NOIPSMin, <=NOIPSMax\n",
    "if HRR>1 and NOIPSMM:\n",
    "    NOIPS = input('Enter Number of inputs per series (>={}, <={}, empty for {}): '.format(NOIPSMin, NOIPSMax, NOIPSMin))"
   ]
  },
  {
   "cell_type": "code",
   "execution_count": 13,
   "metadata": {
    "collapsed": true
   },
   "outputs": [],
   "source": [
    "if HRR>1 and NOIPSMM:\n",
    "    if not NOIPS:\n",
    "        NMult = NOIPSMin\n",
    "    else:\n",
    "        NOIPS = int(NOIPS)\n",
    "        if NOIPS<NOIPSMin:\n",
    "            NMult = NOIPSMin\n",
    "        elif NOIPS>NOIPSMax:\n",
    "            NMult = NOIPSMax\n",
    "        else:\n",
    "            NMult = NOIPS\n",
    "else:\n",
    "    NMult = N"
   ]
  },
  {
   "cell_type": "code",
   "execution_count": 14,
   "metadata": {
    "collapsed": false
   },
   "outputs": [
    {
     "name": "stdout",
     "output_type": "stream",
     "text": [
      "Enter Multiply-Add Max Component Size (empty for 20): 10\n"
     ]
    }
   ],
   "source": [
    "#MAMCS>=1\n",
    "MAMCS = input('Enter Multiply-Add Max Component Size (empty for {}): '.format(NMult))"
   ]
  },
  {
   "cell_type": "code",
   "execution_count": 15,
   "metadata": {
    "collapsed": false
   },
   "outputs": [
    {
     "name": "stdout",
     "output_type": "stream",
     "text": [
      "Enter IN_WIDTH default value (empty for 10): \n"
     ]
    }
   ],
   "source": [
    "#IN_WIDTH>=1\n",
    "IN_WIDTH = input('Enter IN_WIDTH default value (empty for 10): ')"
   ]
  },
  {
   "cell_type": "code",
   "execution_count": 16,
   "metadata": {
    "collapsed": false
   },
   "outputs": [
    {
     "name": "stdout",
     "output_type": "stream",
     "text": [
      "Enter INPUT_REG_DEPTH default value (empty for 1): \n"
     ]
    }
   ],
   "source": [
    "#INPUT_REG_DEPTH>=0\n",
    "INPUT_REG_DEPTH = input('Enter INPUT_REG_DEPTH default value (empty for 1): ')"
   ]
  },
  {
   "cell_type": "code",
   "execution_count": 17,
   "metadata": {
    "collapsed": false
   },
   "outputs": [
    {
     "name": "stdout",
     "output_type": "stream",
     "text": [
      "Enter MULT_PIPE_DEPTH default value (empty for 1): \n"
     ]
    }
   ],
   "source": [
    "#MULT_PIPE_DEPTH>=0\n",
    "MULT_PIPE_DEPTH = input('Enter MULT_PIPE_DEPTH default value (empty for 1): ')"
   ]
  },
  {
   "cell_type": "code",
   "execution_count": 18,
   "metadata": {
    "collapsed": false
   },
   "outputs": [],
   "source": [
    "#CURRENT MODE:\n",
    "_Enable_Vector_Latch = 1;\n",
    "\n",
    "#OLD MODE:\n",
    "# if (RS>1):\n",
    "#     _Enable_Vector_Latch = input('Enable Vector Latch? (empty or 1 to enable, 0 to disable): ')"
   ]
  },
  {
   "cell_type": "code",
   "execution_count": 19,
   "metadata": {
    "collapsed": false
   },
   "outputs": [],
   "source": [
    "if not MAMCS:\n",
    "    MAMCS = NMult\n",
    "else:\n",
    "    MAMCS = int(MAMCS)\n",
    "    if MAMCS>NMult:\n",
    "        MAMCS = NMult;\n",
    "    elif(MAMCS<1):\n",
    "        MAMCS=1\n",
    "if not IN_WIDTH:\n",
    "    IN_WIDTH=10\n",
    "else:\n",
    "    IN_WIDTH = int(IN_WIDTH)\n",
    "    if(IN_WIDTH<1):\n",
    "        IN_WIDTH=1\n",
    "if not INPUT_REG_DEPTH:\n",
    "    INPUT_REG_DEPTH=1\n",
    "else:\n",
    "    INPUT_REG_DEPTH = int(INPUT_REG_DEPTH)\n",
    "    if(INPUT_REG_DEPTH<0):\n",
    "        INPUT_REG_DEPTH=0\n",
    "if not MULT_PIPE_DEPTH:\n",
    "    MULT_PIPE_DEPTH=1\n",
    "else:\n",
    "    MULT_PIPE_DEPTH = int(MULT_PIPE_DEPTH)\n",
    "    if(MULT_PIPE_DEPTH<0):\n",
    "        MULT_PIPE_DEPTH=0"
   ]
  },
  {
   "cell_type": "code",
   "execution_count": 20,
   "metadata": {
    "collapsed": true
   },
   "outputs": [],
   "source": [
    "#CURRENT MODE:\n",
    "#do nothing\n",
    "\n",
    "#OLD MODE:\n",
    "# if (RS==1):\n",
    "#     _Enable_Vector_Latch = 0;\n",
    "# else:\n",
    "#     if not _Enable_Vector_Latch:\n",
    "#         _Enable_Vector_Latch = 0\n",
    "#     else:\n",
    "#         _Enable_Vector_Latch = int(_Enable_Vector_Latch)"
   ]
  },
  {
   "cell_type": "code",
   "execution_count": 21,
   "metadata": {
    "collapsed": false
   },
   "outputs": [],
   "source": [
    "__Print_To_File = 0\n",
    "\n",
    "if __Print_To_File<=0:\n",
    "    of=sys.stdout\n",
    "else:\n",
    "    if(HRR==1):\n",
    "        if _Enable_Vector_Latch>0:\n",
    "            of=open(\"./MatrixVectorMultiply_{}_{}_r{}_noHR_c{}_IR_VL.v\".format(M, N, PR, MAMCS), 'w+')\n",
    "        else:\n",
    "            of=open(\"./MatrixVectorMultiply_{}_{}_r{}_noHR_c{}_IR_NVL.v\".format(M, N, PR, MAMCS), 'w+')\n",
    "    else:\n",
    "        if _Enable_Vector_Latch>0:\n",
    "            of=open(\"./MatrixVectorMultiply_{}_{}_r{}_HR_x{}_p{}_c{}_series_IR_VL.v\".format(M, N, PR, HRR, NMult, MAMCS), 'w+')\n",
    "        else:\n",
    "            of=open(\"./MatrixVectorMultiply_{}_{}_r{}_HR_x{}_p{}_c{}_series_IR_NVL.v\".format(M, N, PR, HRR, NMult, MAMCS), 'w+')"
   ]
  },
  {
   "cell_type": "code",
   "execution_count": 22,
   "metadata": {
    "collapsed": false,
    "scrolled": true
   },
   "outputs": [
    {
     "name": "stdout",
     "output_type": "stream",
     "text": [
      "`timescale 1ns / 1ps\n",
      "\n",
      "module MatrixVectorMultiply_5_30_r3_HR_x2_p20_c10_series_IR_VL\n",
      "#(\n",
      "parameter IN_WIDTH = 10,\n",
      "parameter INPUT_REG_DEPTH = 1,\n",
      "parameter MULT_PIPE_DEPTH = 1\n",
      ")(\n",
      "input clk, reset, enable,\n",
      "output reg readyForNewRowStart = 1,\n",
      "output reg rowInSeries = 0,\n",
      "output reg columnInSeries = 0,\n",
      "input inReady,\n",
      "input signed [IN_WIDTH-1:0] A0r0, A1r0, A2r0, A3r0, A4r0, A5r0, A6r0, A7r0, A8r0, A9r0, A10r0, A11r0, A12r0, A13r0, A14r0, A15r0, A16r0, A17r0, A18r0, A19r0, \n",
      "input signed [IN_WIDTH-1:0] A0r1, A1r1, A2r1, A3r1, A4r1, A5r1, A6r1, A7r1, A8r1, A9r1, A10r1, A11r1, A12r1, A13r1, A14r1, A15r1, A16r1, A17r1, A18r1, A19r1, \n",
      "input signed [IN_WIDTH-1:0] A0r2, A1r2, A2r2, A3r2, A4r2, A5r2, A6r2, A7r2, A8r2, A9r2, A10r2, A11r2, A12r2, A13r2, A14r2, A15r2, A16r2, A17r2, A18r2, A19r2, \n",
      "input signed [IN_WIDTH-1:0] Vi0, Vi1, Vi2, Vi3, Vi4, Vi5, Vi6, Vi7, Vi8, Vi9, Vi10, Vi11, Vi12, Vi13, Vi14, Vi15, Vi16, Vi17, Vi18, Vi19, \n",
      "output newVo0toVo1Ready,\n",
      "output newVo2Ready,\n",
      "output reg outSeries = 1,\n",
      "output signed [(2*IN_WIDTH)+3:0] Vo0, Vo1, Vo2, \n",
      "output earlyNewVo0toVo1Ready,\n",
      "output earlyNewVo2Ready\n",
      ");\n",
      "\n"
     ]
    }
   ],
   "source": [
    "print(\"`timescale 1ns / 1ps\\n\", file=of)\n",
    "if(HRR==1):\n",
    "    if _Enable_Vector_Latch>0:\n",
    "        print(\"module MatrixVectorMultiply_{}_{}_r{}_noHR_c{}_IR_VL\".format(M, N, PR, MAMCS), file=of)\n",
    "    else:\n",
    "        print(\"module MatrixVectorMultiply_{}_{}_r{}_noHR_c{}_IR_NVL\".format(M, N, PR, MAMCS), file=of)\n",
    "else:\n",
    "    if _Enable_Vector_Latch>0:\n",
    "        print(\"module MatrixVectorMultiply_{}_{}_r{}_HR_x{}_p{}_c{}_series_IR_VL\".format(M, N, PR, HRR, NMult, MAMCS), file=of)\n",
    "    else:\n",
    "        print(\"module MatrixVectorMultiply_{}_{}_r{}_HR_x{}_p{}_c{}_series_IR_NVL\".format(M, N, PR, HRR, NMult, MAMCS), file=of)\n",
    "print(\"#(\", file=of)\n",
    "print(\"parameter IN_WIDTH = {},\".format(IN_WIDTH), file=of)\n",
    "print(\"parameter INPUT_REG_DEPTH = {},\".format(INPUT_REG_DEPTH), file=of)\n",
    "print(\"parameter MULT_PIPE_DEPTH = {}\".format(MULT_PIPE_DEPTH), file=of)\n",
    "print(\")(\", file=of)\n",
    "print(\"input clk, reset, enable,\", file=of)\n",
    "if(HRR>1):\n",
    "    print(\"output reg readyForNewRowStart = 1,\", file=of)\n",
    "lghrr=math.ceil(math.log2(HRR))\n",
    "if lghrr==1:\n",
    "    print(\"output reg rowInSeries = 0,\", file=of)\n",
    "elif lghrr>1:\n",
    "    print(\"output reg [{}:0] rowInSeries = 0,\".format(lghrr-1), file=of)\n",
    "lgRS=math.ceil(math.log2(RS))\n",
    "if lgRS<=1:\n",
    "    print(\"output reg columnInSeries = 0,\", file=of)\n",
    "else:\n",
    "    print(\"output reg [{}:0] columnInSeries = 0,\".format(lgRS-1), file=of)\n",
    "print(\"input inReady,\", file=of)\n",
    "for j in range(PR):\n",
    "    print(\"input signed [IN_WIDTH-1:0] \", end='', file=of)\n",
    "    for i in range(NMult):\n",
    "        print(\"A{}r{}, \".format(i, j), end='', file=of)\n",
    "    print(file=of)\n",
    "print(\"input signed [IN_WIDTH-1:0] \", end='', file=of)\n",
    "for i in range(NMult):\n",
    "    print(\"Vi{}, \".format(i), end='', file=of)\n",
    "print(file=of)\n",
    "ar=RS*PR-M\n",
    "ME = PR-ar-1\n",
    "if ME==0:\n",
    "    st1=\"Vo0\"\n",
    "else:\n",
    "    st1=\"Vo0toVo{}\".format(ME)\n",
    "print(\"output new\", end='', file=of)\n",
    "print(st1, end='', file=of)\n",
    "print(\"Ready,\", file=of)\n",
    "if ar==0:\n",
    "    print(\"output reg newVoNReady = 0, //not used\", file=of)\n",
    "else:\n",
    "    if ME==(PR-2):\n",
    "        st2=\"Vo{}\".format(PR-1)\n",
    "    else:\n",
    "        st2=\"Vo{}toVo{}\".format(ME+1, PR-1)\n",
    "    print(\"output new\", end='', file=of)\n",
    "    print(st2, end='', file=of)\n",
    "    print(\"Ready,\", file=of)\n",
    "if lgRS<=1:\n",
    "    print(\"output reg outSeries = {},\".format(RS-1), file=of)\n",
    "else:\n",
    "    print(\"output reg [{}:0] outSeries = {},\".format(lgRS-1, RS-1), file=of)\n",
    "lgn=math.ceil(math.log2(N))\n",
    "al=-2+lgn\n",
    "if al==0:\n",
    "    print(\"output signed [(2*IN_WIDTH):0] \", end='',file=of)\n",
    "elif al<0:\n",
    "    print(\"output signed [(2*IN_WIDTH){}:0] \".format(al), end='',file=of)\n",
    "else:\n",
    "    print(\"output signed [(2*IN_WIDTH)+{}:0] \".format(al), end='',file=of)\n",
    "for i in range(PR):\n",
    "    print(\"Vo{}, \".format(i), end='',file=of)\n",
    "print(file=of)\n",
    "print(\"output earlyNew\", end='', file=of)\n",
    "print(st1, end='', file=of)\n",
    "print(\"Ready,\", file=of)\n",
    "if ar==0:\n",
    "    print(\"output reg earlyNewVoNReady = 0 //not used\", file=of)\n",
    "else:\n",
    "    print(\"output earlyNew\", end='', file=of)\n",
    "    print(st2, end='', file=of)\n",
    "    print(\"Ready\", file=of)\n",
    "print(\");\\n\", file=of)"
   ]
  },
  {
   "cell_type": "code",
   "execution_count": 23,
   "metadata": {
    "collapsed": false
   },
   "outputs": [
    {
     "name": "stdout",
     "output_type": "stream",
     "text": [
      "reg signed [IN_WIDTH-1:0] SVi0, SVi1, SVi2, SVi3, SVi4, SVi5, SVi6, SVi7, SVi8, SVi9, SVi10, SVi11, SVi12, SVi13, SVi14, SVi15, SVi16, SVi17, SVi18, SVi19;\n",
      "\n"
     ]
    }
   ],
   "source": [
    "print(\"reg signed [IN_WIDTH-1:0] \", end='', file=of)\n",
    "for i in range(NMult-1):\n",
    "    print(\"SVi{}, \".format(i), end='', file=of)\n",
    "print(\"SVi{};\".format(NMult-1), file=of)\n",
    "print(file=of)"
   ]
  },
  {
   "cell_type": "code",
   "execution_count": 24,
   "metadata": {
    "collapsed": false
   },
   "outputs": [
    {
     "name": "stdout",
     "output_type": "stream",
     "text": [
      "reg LLinReady = 0;\n",
      "reg LLinReadyC = 0;\n",
      "wire DPnewOutReady;\n",
      "wire DPnewOutReadyC;\n",
      "wire DPearlyNewOutReady;\n",
      "wire DPearlyNewOutReadyC;\n",
      "\n",
      "reg signed [IN_WIDTH-1:0] SA0r0, SA1r0, SA2r0, SA3r0, SA4r0, SA5r0, SA6r0, SA7r0, SA8r0, SA9r0, SA10r0, SA11r0, SA12r0, SA13r0, SA14r0, SA15r0, SA16r0, SA17r0, SA18r0, SA19r0;\n",
      "DotProduct_30_HR_x2_p20_c10_series#( .IN_WIDTH(IN_WIDTH), .INPUT_REG_DEPTH(INPUT_REG_DEPTH), .MULT_PIPE_DEPTH(MULT_PIPE_DEPTH) )\n",
      "\tDP_0(clk, reset, enable,\n",
      "\tLLreadyForNewDataSeries0, //not used\n",
      "\tLLinSeries0, //not used\n",
      "\tLLinReady,\n",
      "\tSA0r0, SA1r0, SA2r0, SA3r0, SA4r0, SA5r0, SA6r0, SA7r0, SA8r0, SA9r0, SA10r0, SA11r0, SA12r0, SA13r0, SA14r0, SA15r0, SA16r0, SA17r0, SA18r0, SA19r0, \n",
      "\tSVi0, SVi1, SVi2, SVi3, SVi4, SVi5, SVi6, SVi7, SVi8, SVi9, SVi10, SVi11, SVi12, SVi13, SVi14, SVi15, SVi16, SVi17, SVi18, SVi19, \n",
      "\tDPnewOutReady,\n",
      "\tVo0,\n",
      "\tDPearlyNewOutReady\n",
      "\t);\n",
      "\n",
      "reg signed [IN_WIDTH-1:0] SA0r1, SA1r1, SA2r1, SA3r1, SA4r1, SA5r1, SA6r1, SA7r1, SA8r1, SA9r1, SA10r1, SA11r1, SA12r1, SA13r1, SA14r1, SA15r1, SA16r1, SA17r1, SA18r1, SA19r1;\n",
      "DotProduct_30_HR_x2_p20_c10_series#( .IN_WIDTH(IN_WIDTH), .INPUT_REG_DEPTH(INPUT_REG_DEPTH), .MULT_PIPE_DEPTH(MULT_PIPE_DEPTH) )\n",
      "\tDP_1(clk, reset, enable,\n",
      "\tLLreadyForNewDataSeries1, //not used\n",
      "\tLLinSeries1, //not used\n",
      "\tLLinReady,\n",
      "\tSA0r1, SA1r1, SA2r1, SA3r1, SA4r1, SA5r1, SA6r1, SA7r1, SA8r1, SA9r1, SA10r1, SA11r1, SA12r1, SA13r1, SA14r1, SA15r1, SA16r1, SA17r1, SA18r1, SA19r1, \n",
      "\tSVi0, SVi1, SVi2, SVi3, SVi4, SVi5, SVi6, SVi7, SVi8, SVi9, SVi10, SVi11, SVi12, SVi13, SVi14, SVi15, SVi16, SVi17, SVi18, SVi19, \n",
      "\tDPnewOutReady1, //not used\n",
      "\tVo1,\n",
      "\tDPearlyNewOutReady1 //not used\n",
      "\t);\n",
      "\n",
      "reg signed [IN_WIDTH-1:0] SA0r2, SA1r2, SA2r2, SA3r2, SA4r2, SA5r2, SA6r2, SA7r2, SA8r2, SA9r2, SA10r2, SA11r2, SA12r2, SA13r2, SA14r2, SA15r2, SA16r2, SA17r2, SA18r2, SA19r2;\n",
      "DotProduct_30_HR_x2_p20_c10_series#( .IN_WIDTH(IN_WIDTH), .INPUT_REG_DEPTH(INPUT_REG_DEPTH), .MULT_PIPE_DEPTH(MULT_PIPE_DEPTH) )\n",
      "\tDP_2(clk, reset, enable,\n",
      "\tLLreadyForNewDataSeries2, //not used\n",
      "\tLLinSeries2, //not used\n",
      "\tLLinReadyC,\n",
      "\tSA0r2, SA1r2, SA2r2, SA3r2, SA4r2, SA5r2, SA6r2, SA7r2, SA8r2, SA9r2, SA10r2, SA11r2, SA12r2, SA13r2, SA14r2, SA15r2, SA16r2, SA17r2, SA18r2, SA19r2, \n",
      "\tSVi0, SVi1, SVi2, SVi3, SVi4, SVi5, SVi6, SVi7, SVi8, SVi9, SVi10, SVi11, SVi12, SVi13, SVi14, SVi15, SVi16, SVi17, SVi18, SVi19, \n",
      "\tDPnewOutReadyC,\n",
      "\tVo2,\n",
      "\tDPearlyNewOutReadyC\n",
      "\t);\n",
      "\n"
     ]
    }
   ],
   "source": [
    "print(\"reg LLinReady = 0;\", file=of)\n",
    "if(ar>0): #RS*PR > M, RS>=2\n",
    "    print(\"reg LLinReadyC = 0;\", file=of)\n",
    "print(\"wire DPnewOutReady;\", file=of)\n",
    "if(ar>0):\n",
    "    print(\"wire DPnewOutReadyC;\", file=of)\n",
    "print(\"wire DPearlyNewOutReady;\", file=of)\n",
    "if(ar>0):\n",
    "    print(\"wire DPearlyNewOutReadyC;\", file=of)\n",
    "print(file=of)\n",
    "\n",
    "for i in range (PR):\n",
    "    print(\"reg signed [IN_WIDTH-1:0] \", end='', file=of)\n",
    "    for j in range(NMult-1):\n",
    "        print(\"SA{}r{}, \".format(j, i), end='', file=of)\n",
    "    print(\"SA{}r{};\".format(NMult-1, i), file=of)\n",
    "    if(HRR==1):\n",
    "        print(\"DotProduct_{}_noHR_c{}#( .IN_WIDTH(IN_WIDTH), .INPUT_REG_DEPTH(INPUT_REG_DEPTH), .MULT_PIPE_DEPTH(MULT_PIPE_DEPTH) )\".format(N, MAMCS), file=of)\n",
    "    else:\n",
    "        print(\"DotProduct_{}_HR_x{}_p{}_c{}_series#( .IN_WIDTH(IN_WIDTH), .INPUT_REG_DEPTH(INPUT_REG_DEPTH), .MULT_PIPE_DEPTH(MULT_PIPE_DEPTH) )\".format(N, HRR, NMult, MAMCS), file=of)\n",
    "    print(\"\\tDP_{}(clk, reset, enable,\".format(i), file=of)\n",
    "    if(HRR>1):\n",
    "        print(\"\\tLLreadyForNewDataSeries{}, //not used\".format(i), file=of)\n",
    "        print(\"\\tLLinSeries{}, //not used\".format(i), file=of)\n",
    "    if(PR-i<=ar):\n",
    "        print(\"\\tLLinReadyC,\", file=of)\n",
    "    else:\n",
    "        print(\"\\tLLinReady,\", file=of)\n",
    "    print(\"\\t\", end='', file=of)\n",
    "    for j in range(NMult):\n",
    "        print(\"SA{}r{}, \".format(j, i), end='', file=of)\n",
    "    print(file=of)\n",
    "    print(\"\\t\", end='', file=of)\n",
    "    for j in range(NMult):\n",
    "        print(\"SVi{}, \".format(j), end='', file=of)\n",
    "    print(file=of)\n",
    "    if i==0:\n",
    "        print(\"\\tDPnewOutReady,\", file=of)\n",
    "    elif i==PR-ar:\n",
    "        print(\"\\tDPnewOutReadyC,\", file=of)\n",
    "    else:\n",
    "        print(\"\\tDPnewOutReady{}, //not used\".format(i), file=of)\n",
    "    print(\"\\tVo{},\".format(i), file=of)\n",
    "    if i==0:\n",
    "        print(\"\\tDPearlyNewOutReady\\n\\t);\\n\", file=of)\n",
    "    elif i==PR-ar:\n",
    "        print(\"\\tDPearlyNewOutReadyC\\n\\t);\\n\", file=of)\n",
    "    else:\n",
    "        print(\"\\tDPearlyNewOutReady{} //not used\\n\\t);\\n\".format(i), file=of)"
   ]
  },
  {
   "cell_type": "code",
   "execution_count": 25,
   "metadata": {
    "collapsed": false
   },
   "outputs": [
    {
     "name": "stdout",
     "output_type": "stream",
     "text": [
      "reg signed [IN_WIDTH-1:0] LVi0, LVi1, LVi2, LVi3, LVi4, LVi5, LVi6, LVi7, LVi8, LVi9, LVi10, LVi11, LVi12, LVi13, LVi14, LVi15, LVi16, LVi17, LVi18, LVi19, LVi20, LVi21, LVi22, LVi23, LVi24, LVi25, LVi26, LVi27, LVi28, LVi29;\n",
      "always @(posedge clk) begin\n",
      "\tif(reset) begin\n",
      "\t\trowInSeries <= 0;\n",
      "\t\tcolumnInSeries <= 0;\n",
      "\t\tLLinReady <= 0;\n",
      "\t\tLLinReadyC <= 0;\n",
      "\t\treadyForNewRowStart <= 1;\n",
      "\tend\n",
      "\telse if(enable) begin\n",
      "\t\tLLinReady <= inReady;\n",
      "\t\tLLinReadyC <= (columnInSeries!=1) & inReady;\n",
      "\t\tif(inReady) begin\n",
      "\t\t\tif(rowInSeries==1) begin\n",
      "\t\t\t\trowInSeries <= 0;\n",
      "\t\t\t\treadyForNewRowStart <= 1;\n",
      "\t\t\t\tif(columnInSeries==1) begin\n",
      "\t\t\t\t\tcolumnInSeries <= 0;\n",
      "\t\t\t\tend\n",
      "\t\t\t\telse begin\n",
      "\t\t\t\t\tcolumnInSeries <= 1;\n",
      "\t\t\t\tend\n",
      "\t\t\tend\n",
      "\t\t\telse begin\n",
      "\t\t\t\trowInSeries <= 1;\n",
      "\t\t\t\treadyForNewRowStart <= 0;\n",
      "\t\t\tend\n",
      "\t\t\tSA0r0 <= A0r0; SA1r0 <= A1r0; SA2r0 <= A2r0; SA3r0 <= A3r0; SA4r0 <= A4r0; SA5r0 <= A5r0; SA6r0 <= A6r0; SA7r0 <= A7r0; SA8r0 <= A8r0; SA9r0 <= A9r0; SA10r0 <= A10r0; SA11r0 <= A11r0; SA12r0 <= A12r0; SA13r0 <= A13r0; SA14r0 <= A14r0; SA15r0 <= A15r0; SA16r0 <= A16r0; SA17r0 <= A17r0; SA18r0 <= A18r0; SA19r0 <= A19r0; \n",
      "\t\t\tSA0r1 <= A0r1; SA1r1 <= A1r1; SA2r1 <= A2r1; SA3r1 <= A3r1; SA4r1 <= A4r1; SA5r1 <= A5r1; SA6r1 <= A6r1; SA7r1 <= A7r1; SA8r1 <= A8r1; SA9r1 <= A9r1; SA10r1 <= A10r1; SA11r1 <= A11r1; SA12r1 <= A12r1; SA13r1 <= A13r1; SA14r1 <= A14r1; SA15r1 <= A15r1; SA16r1 <= A16r1; SA17r1 <= A17r1; SA18r1 <= A18r1; SA19r1 <= A19r1; \n",
      "\t\t\tSA0r2 <= A0r2; SA1r2 <= A1r2; SA2r2 <= A2r2; SA3r2 <= A3r2; SA4r2 <= A4r2; SA5r2 <= A5r2; SA6r2 <= A6r2; SA7r2 <= A7r2; SA8r2 <= A8r2; SA9r2 <= A9r2; SA10r2 <= A10r2; SA11r2 <= A11r2; SA12r2 <= A12r2; SA13r2 <= A13r2; SA14r2 <= A14r2; SA15r2 <= A15r2; SA16r2 <= A16r2; SA17r2 <= A17r2; SA18r2 <= A18r2; SA19r2 <= A19r2; \n",
      "\t\t\tif(columnInSeries==0) begin\n",
      "\t\t\t\tSVi0 <= Vi0; SVi1 <= Vi1; SVi2 <= Vi2; SVi3 <= Vi3; SVi4 <= Vi4; SVi5 <= Vi5; SVi6 <= Vi6; SVi7 <= Vi7; SVi8 <= Vi8; SVi9 <= Vi9; SVi10 <= Vi10; SVi11 <= Vi11; SVi12 <= Vi12; SVi13 <= Vi13; SVi14 <= Vi14; SVi15 <= Vi15; SVi16 <= Vi16; SVi17 <= Vi17; SVi18 <= Vi18; SVi19 <= Vi19; \n",
      "\t\t\t\tcase(rowInSeries)\n",
      "\t\t\t\t\t0: begin\n",
      "\t\t\t\t\t\tLVi0 <= Vi0; LVi1 <= Vi1; LVi2 <= Vi2; LVi3 <= Vi3; LVi4 <= Vi4; LVi5 <= Vi5; LVi6 <= Vi6; LVi7 <= Vi7; LVi8 <= Vi8; LVi9 <= Vi9; LVi10 <= Vi10; LVi11 <= Vi11; LVi12 <= Vi12; LVi13 <= Vi13; LVi14 <= Vi14; LVi15 <= Vi15; LVi16 <= Vi16; LVi17 <= Vi17; LVi18 <= Vi18; LVi19 <= Vi19; \n",
      "\t\t\t\t\tend\n",
      "\t\t\t\t\t1: begin\n",
      "\t\t\t\t\t\tLVi20 <= Vi0; LVi21 <= Vi1; LVi22 <= Vi2; LVi23 <= Vi3; LVi24 <= Vi4; LVi25 <= Vi5; LVi26 <= Vi6; LVi27 <= Vi7; LVi28 <= Vi8; LVi29 <= Vi9; \n",
      "\t\t\t\t\tend\n",
      "\t\t\t\tendcase\n",
      "\t\t\tend\n",
      "\t\t\telse begin\n",
      "\t\t\t\tcase(rowInSeries)\n",
      "\t\t\t\t\t0: begin\n",
      "\t\t\t\t\t\tSVi0 <= LVi0; SVi1 <= LVi1; SVi2 <= LVi2; SVi3 <= LVi3; SVi4 <= LVi4; SVi5 <= LVi5; SVi6 <= LVi6; SVi7 <= LVi7; SVi8 <= LVi8; SVi9 <= LVi9; SVi10 <= LVi10; SVi11 <= LVi11; SVi12 <= LVi12; SVi13 <= LVi13; SVi14 <= LVi14; SVi15 <= LVi15; SVi16 <= LVi16; SVi17 <= LVi17; SVi18 <= LVi18; SVi19 <= LVi19; \n",
      "\t\t\t\t\tend\n",
      "\t\t\t\t\t1: begin\n",
      "\t\t\t\t\t\tSVi0 <= LVi20; SVi1 <= LVi21; SVi2 <= LVi22; SVi3 <= LVi23; SVi4 <= LVi24; SVi5 <= LVi25; SVi6 <= LVi26; SVi7 <= LVi27; SVi8 <= LVi28; SVi9 <= LVi29; \n",
      "\t\t\t\t\tend\n",
      "\t\t\t\tendcase\n",
      "\t\t\tend\n",
      "\t\tend\n",
      "\tend\n",
      "end\n",
      "\n"
     ]
    }
   ],
   "source": [
    "if _Enable_Vector_Latch>0:\n",
    "    print(\"reg signed [IN_WIDTH-1:0] \", end='', file=of)\n",
    "    for i in range(N-1):\n",
    "        print(\"LVi{}, \".format(i), end='', file=of)\n",
    "    print(\"LVi{};\".format(N-1), file=of)\n",
    "print(\"always @(posedge clk) begin\", file=of)\n",
    "print(\"\\tif(reset) begin\", file=of)\n",
    "if(HRR>1):\n",
    "    print(\"\\t\\trowInSeries <= 0;\", file=of)\n",
    "if(RS>1):\n",
    "    print(\"\\t\\tcolumnInSeries <= 0;\", file=of)\n",
    "print(\"\\t\\tLLinReady <= 0;\", file=of)\n",
    "if(ar>0):\n",
    "    print(\"\\t\\tLLinReadyC <= 0;\", file=of)\n",
    "if(HRR>1):\n",
    "    print(\"\\t\\treadyForNewRowStart <= 1;\", file=of)\n",
    "print(\"\\tend\", file=of)\n",
    "print(\"\\telse if(enable) begin\", file=of)\n",
    "print(\"\\t\\tLLinReady <= inReady;\", file=of)\n",
    "if(ar>0):\n",
    "    print(\"\\t\\tLLinReadyC <= (columnInSeries!={}) & inReady;\".format(RS-1), file=of)\n",
    "print(\"\\t\\tif(inReady) begin\", file=of)\n",
    "if(HRR>1):\n",
    "    print(\"\\t\\t\\tif(rowInSeries=={}) begin\".format(HRR-1), file=of)\n",
    "    print(\"\\t\\t\\t\\trowInSeries <= 0;\", file=of)\n",
    "    print(\"\\t\\t\\t\\treadyForNewRowStart <= 1;\", file=of)\n",
    "if(RS>1):\n",
    "    if(HRR>1):\n",
    "        print(\"\\t\", end='', file=of)\n",
    "    print(\"\\t\\t\\tif(columnInSeries=={}) begin\".format(RS-1), file=of)\n",
    "    if(HRR>1):\n",
    "        print(\"\\t\", end='', file=of)\n",
    "    print(\"\\t\\t\\t\\tcolumnInSeries <= 0;\", file=of)\n",
    "    if(HRR==1 and ar>0):\n",
    "        print(\"\\t\\t\\t\\tLLinReadyC <= 0;\", file=of)\n",
    "    if(HRR>1):\n",
    "        print(\"\\t\", end='', file=of)\n",
    "    print(\"\\t\\t\\tend\", file=of)\n",
    "    if(HRR>1):\n",
    "        print(\"\\t\", end='', file=of)\n",
    "    print(\"\\t\\t\\telse begin\", file=of)\n",
    "    if(HRR>1):\n",
    "        print(\"\\t\", end='', file=of)\n",
    "    if RS==2:\n",
    "        print(\"\\t\\t\\t\\tcolumnInSeries <= 1;\", file=of)\n",
    "    else:\n",
    "        print(\"\\t\\t\\t\\tcolumnInSeries <= columnInSeries+1;\", file=of)\n",
    "    if(HRR==1 and ar>0):\n",
    "        print(\"\\t\\t\\t\\tLLinReadyC <= 1;\", file=of)\n",
    "    if(HRR>1):\n",
    "        print(\"\\t\", end='', file=of)\n",
    "    print(\"\\t\\t\\tend\", file=of)        \n",
    "if(HRR>1):\n",
    "    print(\"\\t\\t\\tend\", file=of)\n",
    "    print(\"\\t\\t\\telse begin\", file=of)\n",
    "    if HRR==2:\n",
    "        print(\"\\t\\t\\t\\trowInSeries <= 1;\", file=of)    \n",
    "    else:\n",
    "        print(\"\\t\\t\\t\\trowInSeries <= rowInSeries+1;\", file=of)\n",
    "    print(\"\\t\\t\\t\\treadyForNewRowStart <= 0;\", file=of)\n",
    "    print(\"\\t\\t\\tend\", file=of)\n",
    "for i in range (PR):\n",
    "    print(\"\\t\\t\\t\", end='', file=of)\n",
    "    for j in range(NMult):\n",
    "        print(\"SA{}r{} <= A{}r{}; \".format(j, i, j, i), end='', file=of)\n",
    "    print(file=of)\n",
    "if _Enable_Vector_Latch<=0:\n",
    "    print(\"\\t\\t\\t\", end='', file=of)\n",
    "    for i in range(NMult):\n",
    "        print(\"SVi{} <= Vi{}; \".format(i, i), end='', file=of)\n",
    "    print(file=of)\n",
    "else:\n",
    "    print(\"\\t\\t\\tif(columnInSeries==0) begin\", file=of)\n",
    "    print(\"\\t\\t\\t\\t\", end='', file=of)\n",
    "    for j in range(NMult):\n",
    "        print(\"SVi{} <= Vi{}; \".format(j,j), end='', file=of)\n",
    "    print(file=of)\n",
    "    if(HRR>1):\n",
    "        print(\"\\t\\t\\t\\tcase(rowInSeries)\", file=of)\n",
    "    for i in range(HRR):\n",
    "        if(HRR>1):\n",
    "            print(\"\\t\\t\\t\\t\\t{}: begin\".format(i), file=of)\n",
    "            print(\"\\t\\t\", end='', file=of)\n",
    "        print(\"\\t\\t\\t\\t\", end='', file=of)\n",
    "        k=NMult*i-1\n",
    "        for j in range(NMult):\n",
    "            k=k+1\n",
    "            if k < N:\n",
    "                print(\"LVi{} <= Vi{}; \".format(k,j), end='', file=of)\n",
    "        print(file=of)\n",
    "        if(HRR>1):\n",
    "            print(\"\\t\\t\\t\\t\\tend\", file=of)\n",
    "        if k >= N-1:\n",
    "            break\n",
    "    if(HRR>1):\n",
    "        print(\"\\t\\t\\t\\tendcase\", file=of)\n",
    "    print(\"\\t\\t\\tend\", file=of)\n",
    "    print(\"\\t\\t\\telse begin\", file=of)\n",
    "    if(HRR>1):\n",
    "        print(\"\\t\\t\\t\\tcase(rowInSeries)\", file=of)\n",
    "    for i in range(HRR):\n",
    "        if(HRR>1):\n",
    "            print(\"\\t\\t\\t\\t\\t{}: begin\".format(i), file=of)\n",
    "            print(\"\\t\\t\", end='', file=of)\n",
    "        print(\"\\t\\t\\t\\t\", end='', file=of)\n",
    "        k=NMult*i-1\n",
    "        for j in range(NMult):\n",
    "            k=k+1\n",
    "            #if k >= N:\n",
    "            #    print(\"SVi{} <= 0; \".format(j), end='', file=of)            \n",
    "            #else:\n",
    "            if k < N:\n",
    "                print(\"SVi{} <= LVi{}; \".format(j,k), end='', file=of)\n",
    "        print(file=of)\n",
    "        if(HRR>1):\n",
    "            print(\"\\t\\t\\t\\t\\tend\", file=of)\n",
    "        if k >= N-1:\n",
    "            break\n",
    "    if(HRR>1):\n",
    "        print(\"\\t\\t\\t\\tendcase\", file=of)\n",
    "    print(\"\\t\\t\\tend\", file=of)\n",
    "print(\"\\t\\tend\", file=of)\n",
    "print(\"\\tend\", file=of)\n",
    "print(\"end\\n\", file=of)"
   ]
  },
  {
   "cell_type": "code",
   "execution_count": 26,
   "metadata": {
    "collapsed": false
   },
   "outputs": [
    {
     "name": "stdout",
     "output_type": "stream",
     "text": [
      "always @(posedge clk) begin\n",
      "\tif(reset) begin\n",
      "\t\toutSeries <= 1;\n",
      "\tend\n",
      "\telse if(enable) begin\n",
      "\t\tif(DPearlyNewOutReady) begin\n",
      "\t\t\tif(outSeries==1) begin\n",
      "\t\t\t\toutSeries <= 0;\n",
      "\t\t\tend\n",
      "\t\t\telse begin\n",
      "\t\t\t\toutSeries <= 1;\n",
      "\t\t\tend\n",
      "\t\tend\n",
      "\tend\n",
      "end\n",
      "\n"
     ]
    }
   ],
   "source": [
    "if(RS>1):\n",
    "    print(\"always @(posedge clk) begin\", file=of)\n",
    "    print(\"\\tif(reset) begin\", file=of)\n",
    "    print(\"\\t\\toutSeries <= {};\".format(RS-1), file=of)\n",
    "    print(\"\\tend\", file=of)\n",
    "    print(\"\\telse if(enable) begin\", file=of)\n",
    "    print(\"\\t\\tif(DPearlyNewOutReady) begin\", file=of)\n",
    "    print(\"\\t\\t\\tif(outSeries=={}) begin\".format(RS-1), file=of)\n",
    "    print(\"\\t\\t\\t\\toutSeries <= 0;\", file=of)\n",
    "    print(\"\\t\\t\\tend\", file=of)\n",
    "    print(\"\\t\\t\\telse begin\", file=of)\n",
    "    if RS==2:\n",
    "        print(\"\\t\\t\\t\\toutSeries <= 1;\", file=of)\n",
    "    else:\n",
    "        print(\"\\t\\t\\t\\toutSeries <= outSeries+1;\", file=of)\n",
    "    print(\"\\t\\t\\tend\", file=of)\n",
    "    print(\"\\t\\tend\", file=of)\n",
    "    print(\"\\tend\", file=of)\n",
    "    print(\"end\\n\", file=of)"
   ]
  },
  {
   "cell_type": "code",
   "execution_count": 27,
   "metadata": {
    "collapsed": false
   },
   "outputs": [
    {
     "name": "stdout",
     "output_type": "stream",
     "text": [
      "assign newVo0toVo1Ready = DPnewOutReady;\n",
      "assign newVo2Ready = DPnewOutReadyC;\n",
      "\n",
      "assign earlyNewVo0toVo1Ready = DPearlyNewOutReady;\n",
      "assign earlyNewVo2Ready = DPearlyNewOutReadyC;\n",
      "\n",
      "endmodule\n"
     ]
    }
   ],
   "source": [
    "print(\"assign new\", end='', file=of)\n",
    "print(st1, end='', file=of)\n",
    "print(\"Ready = DPnewOutReady;\", file=of)\n",
    "if ar>0:\n",
    "    print(\"assign new\", end='', file=of)\n",
    "    print(st2, end='', file=of)\n",
    "    print(\"Ready = DPnewOutReadyC;\", file=of)\n",
    "print(file=of)\n",
    "print(\"assign earlyNew\", end='', file=of)\n",
    "print(st1, end='', file=of)\n",
    "print(\"Ready = DPearlyNewOutReady;\", file=of)\n",
    "if ar>0:\n",
    "    print(\"assign earlyNew\", end='', file=of)\n",
    "    print(st2, end='', file=of)\n",
    "    print(\"Ready = DPearlyNewOutReadyC;\", file=of)\n",
    "print(file=of)\n",
    "print(\"endmodule\", file=of)"
   ]
  },
  {
   "cell_type": "code",
   "execution_count": 28,
   "metadata": {
    "collapsed": true
   },
   "outputs": [],
   "source": [
    "if __Print_To_File>0:\n",
    "    of.close()"
   ]
  }
 ],
 "metadata": {
  "kernelspec": {
   "display_name": "Python 3",
   "language": "python",
   "name": "python3"
  },
  "language_info": {
   "codemirror_mode": {
    "name": "ipython",
    "version": 3
   },
   "file_extension": ".py",
   "mimetype": "text/x-python",
   "name": "python",
   "nbconvert_exporter": "python",
   "pygments_lexer": "ipython3",
   "version": "3.5.1"
  }
 },
 "nbformat": 4,
 "nbformat_minor": 0
}
