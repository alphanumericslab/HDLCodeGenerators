{
 "cells": [
  {
   "cell_type": "code",
   "execution_count": 1,
   "metadata": {
    "collapsed": true
   },
   "outputs": [],
   "source": [
    "#changed initial checks\n",
    "#added earlyNewOutReady\n",
    "#corrected readyForNewRow\n",
    "#changed HRR min value to 2"
   ]
  },
  {
   "cell_type": "code",
   "execution_count": 2,
   "metadata": {
    "collapsed": true
   },
   "outputs": [],
   "source": [
    "#uses DotProduct_HR_#N_x#HRR_c#MAMCS_NIL - v4.2\n",
    "#uses DotProduct_noHR_#N_c#MAMCS - v3.3"
   ]
  },
  {
   "cell_type": "code",
   "execution_count": 3,
   "metadata": {
    "collapsed": true
   },
   "outputs": [],
   "source": [
    "import sys\n",
    "import math"
   ]
  },
  {
   "cell_type": "code",
   "execution_count": 4,
   "metadata": {
    "collapsed": false
   },
   "outputs": [
    {
     "name": "stdout",
     "output_type": "stream",
     "text": [
      "Enter M: 5\n"
     ]
    }
   ],
   "source": [
    "#M>=1\n",
    "M = input('Enter M: ')\n",
    "M = int(M)"
   ]
  },
  {
   "cell_type": "code",
   "execution_count": 5,
   "metadata": {
    "collapsed": false
   },
   "outputs": [
    {
     "name": "stdout",
     "output_type": "stream",
     "text": [
      "Enter N: 30\n"
     ]
    }
   ],
   "source": [
    "#N>=1\n",
    "#N better to be >= HRR, if N<HRR, can decrease HRR (to N)\n",
    "N = input('Enter N: ')\n",
    "N = int(N)"
   ]
  },
  {
   "cell_type": "code",
   "execution_count": 6,
   "metadata": {
    "collapsed": false
   },
   "outputs": [
    {
     "name": "stdout",
     "output_type": "stream",
     "text": [
      "Enter No Of Parallel Row: 2\n"
     ]
    }
   ],
   "source": [
    "#PR>=1\n",
    "PR = input('Enter No Of Parallel Row: ')\n",
    "PR = int(PR)"
   ]
  },
  {
   "cell_type": "code",
   "execution_count": 21,
   "metadata": {
    "collapsed": false,
    "scrolled": false
   },
   "outputs": [
    {
     "name": "stdout",
     "output_type": "stream",
     "text": [
      "Enter HRR: 2\n"
     ]
    }
   ],
   "source": [
    "#HRR>=2\n",
    "HRR = input('Enter HRR: ')\n",
    "HRR = int(HRR)"
   ]
  },
  {
   "cell_type": "code",
   "execution_count": 8,
   "metadata": {
    "collapsed": false
   },
   "outputs": [
    {
     "name": "stdout",
     "output_type": "stream",
     "text": [
      "Enter Multiply-Add Max Component Size: 4\n"
     ]
    }
   ],
   "source": [
    "#MAMCS>=1\n",
    "MAMCS = input('Enter Multiply-Add Max Component Size: ')\n",
    "MAMCS = int(MAMCS)"
   ]
  },
  {
   "cell_type": "code",
   "execution_count": 9,
   "metadata": {
    "collapsed": false
   },
   "outputs": [
    {
     "name": "stdout",
     "output_type": "stream",
     "text": [
      "Enter IN_WIDTH default value: 10\n"
     ]
    }
   ],
   "source": [
    "#IN_WIDTH>=1\n",
    "IN_WIDTH = input('Enter IN_WIDTH default value: ')\n",
    "IN_WIDTH = int(IN_WIDTH)"
   ]
  },
  {
   "cell_type": "code",
   "execution_count": 10,
   "metadata": {
    "collapsed": false
   },
   "outputs": [
    {
     "name": "stdout",
     "output_type": "stream",
     "text": [
      "Enter INPUT_REG_DEPTH default value: 1\n"
     ]
    }
   ],
   "source": [
    "#INPUT_REG_DEPTH>=0\n",
    "INPUT_REG_DEPTH = input('Enter INPUT_REG_DEPTH default value: ')\n",
    "INPUT_REG_DEPTH = int(INPUT_REG_DEPTH)"
   ]
  },
  {
   "cell_type": "code",
   "execution_count": 11,
   "metadata": {
    "collapsed": false
   },
   "outputs": [
    {
     "name": "stdout",
     "output_type": "stream",
     "text": [
      "Enter MULT_PIPE_DEPTH default value: 1\n"
     ]
    }
   ],
   "source": [
    "#MULT_PIPE_DEPTH>=0\n",
    "MULT_PIPE_DEPTH = input('Enter MULT_PIPE_DEPTH default value: ')\n",
    "MULT_PIPE_DEPTH = int(MULT_PIPE_DEPTH)"
   ]
  },
  {
   "cell_type": "code",
   "execution_count": 22,
   "metadata": {
    "collapsed": false
   },
   "outputs": [],
   "source": [
    "if(M<1):\n",
    "    M=1\n",
    "if(N<1):\n",
    "    N=1\n",
    "if PR<1:\n",
    "    PR=1\n",
    "elif PR>M:\n",
    "    PR=M\n",
    "if(HRR<2):\n",
    "    HRR=2\n",
    "NMult = math.ceil(N/HRR)\n",
    "if(MAMCS<1):\n",
    "    MAMCS=1\n",
    "if MAMCS>NMult:\n",
    "    MAMCS=NMult\n",
    "if(IN_WIDTH<1):\n",
    "    IN_WIDTH=1\n",
    "if(INPUT_REG_DEPTH<0):\n",
    "    INPUT_REG_DEPTH=0\n",
    "if(MULT_PIPE_DEPTH<0):\n",
    "    MULT_PIPE_DEPTH=0"
   ]
  },
  {
   "cell_type": "code",
   "execution_count": 23,
   "metadata": {
    "collapsed": false
   },
   "outputs": [],
   "source": [
    "of=sys.stdout\n",
    "#of=open(\"./matrix_vector_HR_{}_{}_r{}_x{}_c{}_IL_VL.v\".format(M, N, PR, HRR, MAMCS), 'w+')"
   ]
  },
  {
   "cell_type": "code",
   "execution_count": 24,
   "metadata": {
    "collapsed": false,
    "scrolled": true
   },
   "outputs": [
    {
     "name": "stdout",
     "output_type": "stream",
     "text": [
      "`timescale 1ns / 1ps\n",
      "\n",
      "module matrix_vector_HR_5_30_r2_x2_c4_IL\n",
      "#(\n",
      "parameter IN_WIDTH = 10,\n",
      "parameter INPUT_REG_DEPTH = 1,\n",
      "parameter MULT_PIPE_DEPTH = 1\n",
      ")(\n",
      "input clk, reset, enable,\n",
      "input inReady,\n",
      "input signed [IN_WIDTH-1:0] A0r0, A1r0, A2r0, A3r0, A4r0, A5r0, A6r0, A7r0, A8r0, A9r0, A10r0, A11r0, A12r0, A13r0, A14r0, A15r0, A16r0, A17r0, A18r0, A19r0, A20r0, A21r0, A22r0, A23r0, A24r0, A25r0, A26r0, A27r0, A28r0, A29r0, \n",
      "input signed [IN_WIDTH-1:0] A0r1, A1r1, A2r1, A3r1, A4r1, A5r1, A6r1, A7r1, A8r1, A9r1, A10r1, A11r1, A12r1, A13r1, A14r1, A15r1, A16r1, A17r1, A18r1, A19r1, A20r1, A21r1, A22r1, A23r1, A24r1, A25r1, A26r1, A27r1, A28r1, A29r1, \n",
      "input signed [IN_WIDTH-1:0] Vi0, Vi1, Vi2, Vi3, Vi4, Vi5, Vi6, Vi7, Vi8, Vi9, Vi10, Vi11, Vi12, Vi13, Vi14, Vi15, Vi16, Vi17, Vi18, Vi19, Vi20, Vi21, Vi22, Vi23, Vi24, Vi25, Vi26, Vi27, Vi28, Vi29, \n",
      "output reg readyForNewRow = 1,\n",
      "output reg [1:0] columnInSeries = 0,\n",
      "output reg [1:0] outSeries = 2,\n",
      "output signed [(2*IN_WIDTH)+3:0] Vo0, Vo1, \n",
      "output newVo0Ready, newVo1Ready, \n",
      "output earlyNewVo0Ready, earlyNewVo1Ready\n",
      ");\n",
      "\n"
     ]
    }
   ],
   "source": [
    "print(\"`timescale 1ns / 1ps\\n\", file=of)\n",
    "print(\"module matrix_vector_HR_{}_{}_r{}_x{}_c{}_IL_VL\".format(M, N, PR, HRR, MAMCS), file=of)\n",
    "print(\"#(\", file=of)\n",
    "print(\"parameter IN_WIDTH = {},\".format(IN_WIDTH), file=of)\n",
    "print(\"parameter INPUT_REG_DEPTH = {},\".format(INPUT_REG_DEPTH), file=of)\n",
    "print(\"parameter MULT_PIPE_DEPTH = {}\".format(MULT_PIPE_DEPTH), file=of)\n",
    "print(\")(\", file=of)\n",
    "print(\"input clk, reset, enable,\", file=of)\n",
    "print(\"input inReady,\", file=of)\n",
    "for j in range(PR):\n",
    "    print(\"input signed [IN_WIDTH-1:0] \", end='', file=of)\n",
    "    for i in range(N):\n",
    "        print(\"A{}r{}, \".format(i, j), end='', file=of)\n",
    "    print(file=of)\n",
    "print(\"input signed [IN_WIDTH-1:0] \", end='', file=of)\n",
    "for i in range(N):\n",
    "    print(\"Vi{}, \".format(i), end='', file=of)\n",
    "print(file=of)\n",
    "print(\"output reg readyForNewRow = 1,\", file=of)\n",
    "RS=math.ceil(M/PR)\n",
    "lgRS=math.ceil(math.log2(RS))\n",
    "if lgRS<=1:\n",
    "    print(\"output reg columnInSeries = 0,\", file=of)\n",
    "    print(\"output reg outSeries = {},\".format(RS-1), file=of)\n",
    "else:\n",
    "    print(\"output reg [{}:0] columnInSeries = 0,\".format(lgRS-1), file=of)\n",
    "    print(\"output reg [{}:0] outSeries = {},\".format(lgRS-1, RS-1), file=of)\n",
    "lgn=math.ceil(math.log2(N))\n",
    "al=-2+lgn\n",
    "if al==0:\n",
    "    print(\"output signed [(2*IN_WIDTH):0] \", end='',file=of)\n",
    "elif al<0:\n",
    "    print(\"output signed [(2*IN_WIDTH){}:0] \".format(al), end='',file=of)\n",
    "else:\n",
    "    print(\"output signed [(2*IN_WIDTH)+{}:0] \".format(al), end='',file=of)\n",
    "for i in range(PR):\n",
    "    print(\"Vo{}, \".format(i), end='',file=of)\n",
    "print(file=of)\n",
    "print(\"output \", end='',file=of)\n",
    "for i in range(PR):\n",
    "    print(\"newVo{}Ready, \".format(i), end='', file=of)\n",
    "print(\"\\noutput \", end='',file=of)\n",
    "for i in range(PR-1):\n",
    "    print(\"earlyNewVo{}Ready, \".format(i), end='', file=of)\n",
    "print(\"earlyNewVo{}Ready\".format(PR-1), file=of)\n",
    "print(\");\\n\", file=of)"
   ]
  },
  {
   "cell_type": "code",
   "execution_count": 25,
   "metadata": {
    "collapsed": false
   },
   "outputs": [
    {
     "name": "stdout",
     "output_type": "stream",
     "text": [
      "reg signed [IN_WIDTH-1:0] LVi0, LVi1, LVi2, LVi3, LVi4, LVi5, LVi6, LVi7, LVi8, LVi9, LVi10, LVi11, LVi12, LVi13, LVi14, LVi15, LVi16, LVi17, LVi18, LVi19, LVi20, LVi21, LVi22, LVi23, LVi24, LVi25, LVi26, LVi27, LVi28, LVi29;\n",
      "\n"
     ]
    }
   ],
   "source": [
    "print(\"reg signed [IN_WIDTH-1:0] \", end='', file=of)\n",
    "for i in range(N-1):\n",
    "    print(\"LVi{}, \".format(i), end='', file=of)\n",
    "print(\"LVi{};\".format(N-1), file=of)\n",
    "print(file=of)"
   ]
  },
  {
   "cell_type": "code",
   "execution_count": 26,
   "metadata": {
    "collapsed": false
   },
   "outputs": [
    {
     "name": "stdout",
     "output_type": "stream",
     "text": [
      "reg LLinReady = 0;\n",
      "reg LLinReadyC = 0;\n",
      "wire DPnewOutReady;\n",
      "wire DPnewOutReadyC;\n",
      "wire DPearlyNewOutReady;\n",
      "wire DPearlyNewOutReadyC;\n",
      "\n",
      "reg signed [IN_WIDTH-1:0] LA0r0, LA1r0, LA2r0, LA3r0, LA4r0, LA5r0, LA6r0, LA7r0, LA8r0, LA9r0, LA10r0, LA11r0, LA12r0, LA13r0, LA14r0, LA15r0, LA16r0, LA17r0, LA18r0, LA19r0, LA20r0, LA21r0, LA22r0, LA23r0, LA24r0, LA25r0, LA26r0, LA27r0, LA28r0, LA29r0;\n",
      "wire signed [(2*IN_WIDTH)+3:0] DP0;\n",
      "DotProduct_HR_30_x2_c4_NIL#( .IN_WIDTH(IN_WIDTH), .INPUT_REG_DEPTH(INPUT_REG_DEPTH), .MULT_PIPE_DEPTH(MULT_PIPE_DEPTH) )\n",
      "\tDP_0(clk, reset, enable,\n",
      "\tLLinReady,\n",
      "\tLA0r0, LA1r0, LA2r0, LA3r0, LA4r0, LA5r0, LA6r0, LA7r0, LA8r0, LA9r0, LA10r0, LA11r0, LA12r0, LA13r0, LA14r0, LA15r0, LA16r0, LA17r0, LA18r0, LA19r0, LA20r0, LA21r0, LA22r0, LA23r0, LA24r0, LA25r0, LA26r0, LA27r0, LA28r0, LA29r0, \n",
      "\tLVi0, LVi1, LVi2, LVi3, LVi4, LVi5, LVi6, LVi7, LVi8, LVi9, LVi10, LVi11, LVi12, LVi13, LVi14, LVi15, LVi16, LVi17, LVi18, LVi19, LVi20, LVi21, LVi22, LVi23, LVi24, LVi25, LVi26, LVi27, LVi28, LVi29, \n",
      "\tLLreadyForNewDataSeries0, //not used\n",
      "\tLLInSeries0, //not used\n",
      "\tDPnewOutReady,\n",
      "\tVo0,\n",
      "\tDPearlyNewOutReady\n",
      "\t);\n",
      "\n",
      "reg signed [IN_WIDTH-1:0] LA0r1, LA1r1, LA2r1, LA3r1, LA4r1, LA5r1, LA6r1, LA7r1, LA8r1, LA9r1, LA10r1, LA11r1, LA12r1, LA13r1, LA14r1, LA15r1, LA16r1, LA17r1, LA18r1, LA19r1, LA20r1, LA21r1, LA22r1, LA23r1, LA24r1, LA25r1, LA26r1, LA27r1, LA28r1, LA29r1;\n",
      "wire signed [(2*IN_WIDTH)+3:0] DP1;\n",
      "DotProduct_HR_30_x2_c4_NIL#( .IN_WIDTH(IN_WIDTH), .INPUT_REG_DEPTH(INPUT_REG_DEPTH), .MULT_PIPE_DEPTH(MULT_PIPE_DEPTH) )\n",
      "\tDP_1(clk, reset, enable,\n",
      "\tLLinReadyC,\n",
      "\tLA0r1, LA1r1, LA2r1, LA3r1, LA4r1, LA5r1, LA6r1, LA7r1, LA8r1, LA9r1, LA10r1, LA11r1, LA12r1, LA13r1, LA14r1, LA15r1, LA16r1, LA17r1, LA18r1, LA19r1, LA20r1, LA21r1, LA22r1, LA23r1, LA24r1, LA25r1, LA26r1, LA27r1, LA28r1, LA29r1, \n",
      "\tLVi0, LVi1, LVi2, LVi3, LVi4, LVi5, LVi6, LVi7, LVi8, LVi9, LVi10, LVi11, LVi12, LVi13, LVi14, LVi15, LVi16, LVi17, LVi18, LVi19, LVi20, LVi21, LVi22, LVi23, LVi24, LVi25, LVi26, LVi27, LVi28, LVi29, \n",
      "\tLLreadyForNewDataSeries1, //not used\n",
      "\tLLInSeries1, //not used\n",
      "\tDPnewOutReadyC,\n",
      "\tVo1,\n",
      "\tDPearlyNewOutReadyC\n",
      "\t);\n",
      "\n"
     ]
    }
   ],
   "source": [
    "print(\"reg LLinReady = 0;\", file=of)\n",
    "ar=RS*PR-M\n",
    "if(ar>0): #RS*PR > M, RS>=2\n",
    "    print(\"reg LLinReadyC = 0;\", file=of)\n",
    "print(\"wire DPnewOutReady;\", file=of)\n",
    "if(ar>0):\n",
    "    print(\"wire DPnewOutReadyC;\", file=of)\n",
    "print(\"wire DPearlyNewOutReady;\", file=of)\n",
    "if(ar>0):\n",
    "    print(\"wire DPearlyNewOutReadyC;\", file=of)\n",
    "print(file=of)\n",
    "\n",
    "for i in range (PR):\n",
    "    print(\"reg signed [IN_WIDTH-1:0] \", end='', file=of)\n",
    "    for j in range(N-1):\n",
    "        print(\"LA{}r{}, \".format(j, i), end='', file=of)\n",
    "    print(\"LA{}r{};\".format(N-1, i), file=of)\n",
    "    if al==0:\n",
    "        print(\"wire signed [(2*IN_WIDTH):0] DP{};\".format(i), file=of)\n",
    "    elif al<0:\n",
    "        print(\"wire signed [(2*IN_WIDTH){}:0] DP{};\".format(al, i), file=of)\n",
    "    else:\n",
    "        print(\"wire signed [(2*IN_WIDTH)+{}:0] DP{};\".format(al, i), file=of)\n",
    "    print(\"DotProduct_HR_{}_x{}_c{}_NIL#( .IN_WIDTH(IN_WIDTH), .INPUT_REG_DEPTH(INPUT_REG_DEPTH), .MULT_PIPE_DEPTH(MULT_PIPE_DEPTH) )\".format(N, HRR, MAMCS), file=of)\n",
    "    print(\"\\tDP_{}(clk, reset, enable,\".format(i), file=of)\n",
    "    if(PR-i<=ar):\n",
    "        print(\"\\tLLinReadyC,\", file=of)\n",
    "    else:\n",
    "        print(\"\\tLLinReady,\", file=of)\n",
    "    print(\"\\t\", end='', file=of)\n",
    "    for j in range(N):\n",
    "        print(\"LA{}r{}, \".format(j, i), end='', file=of)\n",
    "    print(file=of)\n",
    "    print(\"\\t\", end='', file=of)\n",
    "    for j in range(N):\n",
    "        print(\"LVi{}, \".format(j), end='', file=of)\n",
    "    print(file=of)\n",
    "    print(\"\\tLLreadyForNewDataSeries{}, //not used\".format(i), file=of)\n",
    "    print(\"\\tLLInSeries{}, //not used\".format(i), file=of)\n",
    "    if i==0:\n",
    "        print(\"\\tDPnewOutReady,\", file=of)\n",
    "    elif i==PR-ar:\n",
    "        print(\"\\tDPnewOutReadyC,\", file=of)\n",
    "    else:\n",
    "        print(\"\\tDPnewOutReady{}, //not used\".format(i), file=of) \n",
    "    print(\"\\tVo{},\".format(i), file=of)\n",
    "    if i==0:\n",
    "        print(\"\\tDPearlyNewOutReady\\n\\t);\\n\", file=of)\n",
    "    elif i==PR-ar:\n",
    "        print(\"\\tDPearlyNewOutReadyC\\n\\t);\\n\", file=of)\n",
    "    else:\n",
    "        print(\"\\tDPearlyNewOutReady{} //not used\\n\\t);\\n\".format(i), file=of)"
   ]
  },
  {
   "cell_type": "code",
   "execution_count": 27,
   "metadata": {
    "collapsed": false
   },
   "outputs": [
    {
     "name": "stdout",
     "output_type": "stream",
     "text": [
      "reg rowInSeries = 0;\n",
      "always @(posedge clk) begin\n",
      "\tif(reset) begin\n",
      "\t\trowInSeries <= 0;\n",
      "\t\tcolumnInSeries <= 0;\n",
      "\t\tLLinReady <= 0;\n",
      "\t\tLLinReadyC <= 0;\n",
      "\t\treadyForNewRow <= 1;\n",
      "\tend\n",
      "\telse if(enable) begin\n",
      "\t\tif(rowInSeries==0) begin\n",
      "\t\t\tif(inReady) begin\n",
      "\t\t\t\tLLinReady <= 1;\n",
      "\t\t\t\tif(columnInSeries==2) begin\n",
      "\t\t\t\t\tLLinReadyC <= 0;\n",
      "\t\t\t\tend\n",
      "\t\t\t\telse begin\n",
      "\t\t\t\t\tLLinReadyC <= 1;\n",
      "\t\t\t\tend\n",
      "\t\t\t\trowInSeries <= 1;\n",
      "\t\t\t\treadyForNewRow <= 0;\n",
      "\t\t\tend\n",
      "\t\t\telse begin\n",
      "\t\t\t\tLLinReady <= 0;\n",
      "\t\t\t\tLLinReadyC <= 0;\n",
      "\t\t\tend\n",
      "\t\tend\n",
      "\t\telse begin\n",
      "\t\t\trowInSeries <= 0;\n",
      "\t\t\treadyForNewRow <= 1;\n",
      "\t\t\tif(columnInSeries==2) begin\n",
      "\t\t\t\tcolumnInSeries <= 0;\n",
      "\t\t\tend\n",
      "\t\t\telse begin\n",
      "\t\t\t\tcolumnInSeries <= columnInSeries+1;\n",
      "\t\t\tend\n",
      "\t\tend\n",
      "\t\tif((rowInSeries==0) & inReady) begin\n",
      "\t\t\tLA0r0 <= A0r0; LA1r0 <= A1r0; LA2r0 <= A2r0; LA3r0 <= A3r0; LA4r0 <= A4r0; LA5r0 <= A5r0; LA6r0 <= A6r0; LA7r0 <= A7r0; LA8r0 <= A8r0; LA9r0 <= A9r0; LA10r0 <= A10r0; LA11r0 <= A11r0; LA12r0 <= A12r0; LA13r0 <= A13r0; LA14r0 <= A14r0; LA15r0 <= A15r0; LA16r0 <= A16r0; LA17r0 <= A17r0; LA18r0 <= A18r0; LA19r0 <= A19r0; LA20r0 <= A20r0; LA21r0 <= A21r0; LA22r0 <= A22r0; LA23r0 <= A23r0; LA24r0 <= A24r0; LA25r0 <= A25r0; LA26r0 <= A26r0; LA27r0 <= A27r0; LA28r0 <= A28r0; LA29r0 <= A29r0; \n",
      "\t\t\tLA0r1 <= A0r1; LA1r1 <= A1r1; LA2r1 <= A2r1; LA3r1 <= A3r1; LA4r1 <= A4r1; LA5r1 <= A5r1; LA6r1 <= A6r1; LA7r1 <= A7r1; LA8r1 <= A8r1; LA9r1 <= A9r1; LA10r1 <= A10r1; LA11r1 <= A11r1; LA12r1 <= A12r1; LA13r1 <= A13r1; LA14r1 <= A14r1; LA15r1 <= A15r1; LA16r1 <= A16r1; LA17r1 <= A17r1; LA18r1 <= A18r1; LA19r1 <= A19r1; LA20r1 <= A20r1; LA21r1 <= A21r1; LA22r1 <= A22r1; LA23r1 <= A23r1; LA24r1 <= A24r1; LA25r1 <= A25r1; LA26r1 <= A26r1; LA27r1 <= A27r1; LA28r1 <= A28r1; LA29r1 <= A29r1; \n",
      "\t\tend\n",
      "\t\tif((rowInSeries==0) & (columnInSeries==0) & inReady) begin\n",
      "\t\t\tLVi0 <= Vi0; LVi1 <= Vi1; LVi2 <= Vi2; LVi3 <= Vi3; LVi4 <= Vi4; LVi5 <= Vi5; LVi6 <= Vi6; LVi7 <= Vi7; LVi8 <= Vi8; LVi9 <= Vi9; LVi10 <= Vi10; LVi11 <= Vi11; LVi12 <= Vi12; LVi13 <= Vi13; LVi14 <= Vi14; LVi15 <= Vi15; LVi16 <= Vi16; LVi17 <= Vi17; LVi18 <= Vi18; LVi19 <= Vi19; LVi20 <= Vi20; LVi21 <= Vi21; LVi22 <= Vi22; LVi23 <= Vi23; LVi24 <= Vi24; LVi25 <= Vi25; LVi26 <= Vi26; LVi27 <= Vi27; LVi28 <= Vi28; LVi29 <= Vi29; \n",
      "\t\tend\n",
      "\tend\n",
      "end\n",
      "\n"
     ]
    }
   ],
   "source": [
    "lghrr=math.ceil(math.log2(HRR))\n",
    "if lghrr==1:\n",
    "    print(\"reg rowInSeries = 0;\", file=of)\n",
    "elif lghrr>1:\n",
    "    print(\"reg [{}:0] rowInSeries = 0;\".format(lghrr-1), file=of)\n",
    "print(\"always @(posedge clk) begin\", file=of)\n",
    "print(\"\\tif(reset) begin\", file=of)\n",
    "print(\"\\t\\trowInSeries <= 0;\", file=of)\n",
    "if(RS>1):\n",
    "    print(\"\\t\\tcolumnInSeries <= 0;\", file=of)\n",
    "print(\"\\t\\tLLinReady <= 0;\", file=of)\n",
    "if(ar>0):\n",
    "    print(\"\\t\\tLLinReadyC <= 0;\", file=of)\n",
    "print(\"\\t\\treadyForNewRow <= 1;\", file=of)\n",
    "print(\"\\tend\", file=of)\n",
    "print(\"\\telse if(enable) begin\", file=of)\n",
    "print(\"\\t\\tif(rowInSeries==0) begin\", file=of)\n",
    "print(\"\\t\\t\\tif(inReady) begin\", file=of)\n",
    "print(\"\\t\\t\\t\\tLLinReady <= 1;\", file=of)\n",
    "if(ar>0):\n",
    "    print(\"\\t\\t\\t\\tif(columnInSeries=={}) begin\".format(RS-1), file=of)\n",
    "    print(\"\\t\\t\\t\\t\\tLLinReadyC <= 0;\", file=of)\n",
    "    print(\"\\t\\t\\t\\tend\", file=of)\n",
    "    print(\"\\t\\t\\t\\telse begin\", file=of)\n",
    "    print(\"\\t\\t\\t\\t\\tLLinReadyC <= 1;\", file=of)\n",
    "    print(\"\\t\\t\\t\\tend\", file=of)\n",
    "if HRR==2:\n",
    "    print(\"\\t\\t\\t\\trowInSeries <= 1;\", file=of)    \n",
    "else:\n",
    "    print(\"\\t\\t\\t\\trowInSeries <= rowInSeries+1;\", file=of)\n",
    "print(\"\\t\\t\\t\\treadyForNewRow <= 0;\", file=of)\n",
    "print(\"\\t\\t\\tend\", file=of)\n",
    "print(\"\\t\\t\\telse begin\", file=of)\n",
    "print(\"\\t\\t\\t\\tLLinReady <= 0;\", file=of)\n",
    "if(ar>0):\n",
    "    print(\"\\t\\t\\t\\tLLinReadyC <= 0;\", file=of)\n",
    "print(\"\\t\\t\\tend\", file=of)\n",
    "print(\"\\t\\tend\", file=of)\n",
    "if(HRR==2):\n",
    "    print(\"\\t\\telse begin\", file=of)\n",
    "    print(\"\\t\\t\\trowInSeries <= 0;\", file=of)\n",
    "else:\n",
    "    print(\"\\t\\telse if(rowInSeries=={}) begin\".format(HRR-1), file=of)\n",
    "    print(\"\\t\\t\\trowInSeries <= 0;\", file=of)\n",
    "print(\"\\t\\t\\treadyForNewRow <= 1;\", file=of)\n",
    "if(RS>1):\n",
    "    print(\"\\t\\t\\tif(columnInSeries=={}) begin\".format(RS-1), file=of)\n",
    "    print(\"\\t\\t\\t\\tcolumnInSeries <= 0;\", file=of)\n",
    "    print(\"\\t\\t\\tend\", file=of)\n",
    "    print(\"\\t\\t\\telse begin\", file=of)\n",
    "    if RS==2:\n",
    "        print(\"\\t\\t\\t\\tcolumnInSeries <= 1;\", file=of)\n",
    "    else:\n",
    "        print(\"\\t\\t\\t\\tcolumnInSeries <= columnInSeries+1;\", file=of)\n",
    "    print(\"\\t\\t\\tend\", file=of)\n",
    "print(\"\\t\\tend\", file=of)\n",
    "if(HRR>2):\n",
    "    print(\"\\t\\telse begin\", file=of)\n",
    "    print(\"\\t\\t\\trowInSeries <= rowInSeries+1;\", file=of)\n",
    "    print(\"\\t\\tend\", file=of)\n",
    "print(\"\\t\\tif((rowInSeries==0) & inReady) begin\", file=of)\n",
    "for i in range (PR):\n",
    "    print(\"\\t\\t\\t\", end='', file=of)\n",
    "    for j in range(N):\n",
    "        print(\"LA{}r{} <= A{}r{}; \".format(j, i, j, i), end='', file=of)\n",
    "    print(file=of)\n",
    "print(\"\\t\\tend\", file=of)    \n",
    "print(\"\\t\\tif((rowInSeries==0) & \", end='', file=of)\n",
    "if(RS>1):\n",
    "    print(\"(columnInSeries==0) & \", end='', file=of)\n",
    "print(\"inReady) begin\", file=of)\n",
    "print(\"\\t\\t\\t\", end='', file=of)\n",
    "for j in range(N):\n",
    "    print(\"LVi{} <= Vi{}; \".format(j,j), end='', file=of)\n",
    "print(file=of)\n",
    "print(\"\\t\\tend\", file=of)    \n",
    "print(\"\\tend\", file=of)\n",
    "print(\"end\\n\", file=of)"
   ]
  },
  {
   "cell_type": "code",
   "execution_count": 28,
   "metadata": {
    "collapsed": false
   },
   "outputs": [
    {
     "name": "stdout",
     "output_type": "stream",
     "text": [
      "always @(posedge clk) begin\n",
      "\tif(reset) begin\n",
      "\t\toutSeries <= 2;\n",
      "\tend\n",
      "\telse if(enable) begin\n",
      "\t\tif(DPearlyNewOutReady) begin\n",
      "\t\t\tif(outSeries==2) begin\n",
      "\t\t\t\toutSeries <= 0;\n",
      "\t\t\tend\n",
      "\t\t\telse begin\n",
      "\t\t\t\toutSeries <= outSeries+1;\n",
      "\t\t\tend\n",
      "\t\tend\n",
      "\tend\n",
      "end\n",
      "\n"
     ]
    }
   ],
   "source": [
    "if(RS>1):\n",
    "    print(\"always @(posedge clk) begin\", file=of)\n",
    "    print(\"\\tif(reset) begin\", file=of)\n",
    "    print(\"\\t\\toutSeries <= {};\".format(RS-1), file=of)\n",
    "    print(\"\\tend\", file=of)\n",
    "    print(\"\\telse if(enable) begin\", file=of)\n",
    "    print(\"\\t\\tif(DPearlyNewOutReady) begin\", file=of)\n",
    "    print(\"\\t\\t\\tif(outSeries=={}) begin\".format(RS-1), file=of)\n",
    "    print(\"\\t\\t\\t\\toutSeries <= 0;\", file=of)\n",
    "    print(\"\\t\\t\\tend\", file=of)\n",
    "    print(\"\\t\\t\\telse begin\", file=of)\n",
    "    if RS==2:\n",
    "        print(\"\\t\\t\\t\\toutSeries <= 1;\", file=of)\n",
    "    else:\n",
    "        print(\"\\t\\t\\t\\toutSeries <= outSeries+1;\", file=of)\n",
    "    print(\"\\t\\t\\tend\", file=of)\n",
    "    print(\"\\t\\tend\", file=of)\n",
    "    print(\"\\tend\", file=of)\n",
    "    print(\"end\\n\", file=of)"
   ]
  },
  {
   "cell_type": "code",
   "execution_count": 29,
   "metadata": {
    "collapsed": false
   },
   "outputs": [
    {
     "name": "stdout",
     "output_type": "stream",
     "text": [
      "assign newVo0Ready = DPnewOutReady;\n",
      "assign newVo1Ready = DPnewOutReadyC;\n",
      "\n",
      "assign earlyNewVo0Ready = DPearlyNewOutReady;\n",
      "assign earlyNewVo1Ready = DPearlyNewOutReadyC;\n",
      "\n",
      "endmodule\n"
     ]
    }
   ],
   "source": [
    "for i in range(PR-ar):\n",
    "    print(\"assign newVo{}Ready = DPnewOutReady;\".format(i), file=of)\n",
    "for i in range(PR-ar, PR):\n",
    "    print(\"assign newVo{}Ready = DPnewOutReadyC;\".format(i), file=of)\n",
    "print(file=of)\n",
    "for i in range(PR-ar):\n",
    "    print(\"assign earlyNewVo{}Ready = DPearlyNewOutReady;\".format(i), file=of)\n",
    "for i in range(PR-ar, PR):\n",
    "    print(\"assign earlyNewVo{}Ready = DPearlyNewOutReadyC;\".format(i), file=of)\n",
    "print(file=of)\n",
    "print(\"endmodule\", file=of)"
   ]
  },
  {
   "cell_type": "code",
   "execution_count": 30,
   "metadata": {
    "collapsed": true
   },
   "outputs": [],
   "source": [
    "#of.close()"
   ]
  }
 ],
 "metadata": {
  "kernelspec": {
   "display_name": "Python 3",
   "language": "python",
   "name": "python3"
  },
  "language_info": {
   "codemirror_mode": {
    "name": "ipython",
    "version": 3
   },
   "file_extension": ".py",
   "mimetype": "text/x-python",
   "name": "python",
   "nbconvert_exporter": "python",
   "pygments_lexer": "ipython3",
   "version": "3.5.1"
  }
 },
 "nbformat": 4,
 "nbformat_minor": 0
}
