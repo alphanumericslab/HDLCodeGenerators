{
 "cells": [
  {
   "cell_type": "code",
   "execution_count": null,
   "metadata": {
    "collapsed": true
   },
   "outputs": [],
   "source": [
    "#changed initial checks\n",
    "#removed sign extension when not needed"
   ]
  },
  {
   "cell_type": "code",
   "execution_count": null,
   "metadata": {
    "collapsed": true
   },
   "outputs": [],
   "source": [
    "#uses DotProduct_Systolic - v1.0\n",
    "#uses AdderTree - v1.1"
   ]
  },
  {
   "cell_type": "code",
   "execution_count": null,
   "metadata": {
    "collapsed": true
   },
   "outputs": [],
   "source": [
    "import sys\n",
    "import math"
   ]
  },
  {
   "cell_type": "code",
   "execution_count": null,
   "metadata": {
    "collapsed": false
   },
   "outputs": [],
   "source": [
    "#N>=1\n",
    "#N better to be >= HRR, if N<HRR, can decrease HRR (to N)\n",
    "N = input('Enter N: ')\n",
    "N = int(N)"
   ]
  },
  {
   "cell_type": "code",
   "execution_count": null,
   "metadata": {
    "collapsed": false,
    "scrolled": true
   },
   "outputs": [],
   "source": [
    "#MAMCS>=1\n",
    "MAMCS = input('Enter Multiply-Add Max Component Size: ')\n",
    "MAMCS = int(MAMCS)"
   ]
  },
  {
   "cell_type": "code",
   "execution_count": null,
   "metadata": {
    "collapsed": false
   },
   "outputs": [],
   "source": [
    "#IN_WIDTH>=1\n",
    "IN_WIDTH = input('Enter IN_WIDTH default value: ')\n",
    "IN_WIDTH = int(IN_WIDTH)"
   ]
  },
  {
   "cell_type": "code",
   "execution_count": null,
   "metadata": {
    "collapsed": false
   },
   "outputs": [],
   "source": [
    "#INPUT_REG_DEPTH>=0\n",
    "INPUT_REG_DEPTH = input('Enter INPUT_REG_DEPTH default value: ')\n",
    "INPUT_REG_DEPTH = int(INPUT_REG_DEPTH)"
   ]
  },
  {
   "cell_type": "code",
   "execution_count": null,
   "metadata": {
    "collapsed": false
   },
   "outputs": [],
   "source": [
    "#MULT_PIPE_DEPTH>=0\n",
    "MULT_PIPE_DEPTH = input('Enter MULT_PIPE_DEPTH default value: ')\n",
    "MULT_PIPE_DEPTH = int(MULT_PIPE_DEPTH)"
   ]
  },
  {
   "cell_type": "code",
   "execution_count": null,
   "metadata": {
    "collapsed": false
   },
   "outputs": [],
   "source": [
    "if(N<1):\n",
    "    N=1\n",
    "NMult = N; #Number of Multipliers Needed\n",
    "if MAMCS>=NMult:\n",
    "    MAMCS=NMult;\n",
    "    NumOfMaxSizeComponents = 1;\n",
    "    NonMaxSizeComponentSize = 0;\n",
    "else:\n",
    "    if(MAMCS<1):\n",
    "        MAMCS=1\n",
    "    NumOfMaxSizeComponents = math.floor(NMult/MAMCS)\n",
    "    if (NMult/MAMCS) == NumOfMaxSizeComponents:\n",
    "        NonMaxSizeComponentSize = 0;\n",
    "    else:\n",
    "        NonMaxSizeComponentSize = NMult - MAMCS*NumOfMaxSizeComponents;\n",
    "NumOfComponents = NumOfMaxSizeComponents + (NonMaxSizeComponentSize!=0)\n",
    "if(IN_WIDTH<1):\n",
    "    IN_WIDTH=1\n",
    "if(INPUT_REG_DEPTH<0):\n",
    "    INPUT_REG_DEPTH=0\n",
    "if(MULT_PIPE_DEPTH<0):\n",
    "    MULT_PIPE_DEPTH=0"
   ]
  },
  {
   "cell_type": "code",
   "execution_count": null,
   "metadata": {
    "collapsed": false
   },
   "outputs": [],
   "source": [
    "of=sys.stdout\n",
    "#of=open(\"./DotProduct_noHR_{}_c{}.v\".format(N, MAMCS), 'w+')"
   ]
  },
  {
   "cell_type": "code",
   "execution_count": null,
   "metadata": {
    "collapsed": false
   },
   "outputs": [],
   "source": [
    "print(\"`timescale 1ns / 1ps\\n\", file=of)\n",
    "print(\"module DotProduct_noHR_{}_c{}\".format(N, MAMCS), file=of)\n",
    "print(\"#(\", file=of)\n",
    "print(\"parameter IN_WIDTH = {},\".format(IN_WIDTH), file=of)\n",
    "print(\"parameter INPUT_REG_DEPTH = {},\".format(INPUT_REG_DEPTH), file=of)\n",
    "print(\"parameter MULT_PIPE_DEPTH = {}\".format(MULT_PIPE_DEPTH), file=of)\n",
    "print(\")(\", file=of)\n",
    "print(\"input clk, reset, enable,\", file=of)\n",
    "print(\"input inReady,\", file=of)\n",
    "print(\"input signed [IN_WIDTH-1:0] \", end='', file=of)\n",
    "for i in range(N):\n",
    "    print(\"A{}, \".format(i), end='', file=of)\n",
    "print(file=of)\n",
    "print(\"input signed [IN_WIDTH-1:0] \", end='', file=of)\n",
    "for i in range(N):\n",
    "    print(\"B{}, \".format(i), end='', file=of)\n",
    "print(file=of)\n",
    "print(\"output outReady,\", file=of)\n",
    "lgn=math.ceil(math.log2(N))\n",
    "al=-2+lgn\n",
    "if al==0:\n",
    "    print(\"output signed [(2*IN_WIDTH):0] DP,\", file=of)\n",
    "elif al<1:\n",
    "    print(\"output signed [(2*IN_WIDTH){}:0] DP,\".format(al), file=of)\n",
    "else:\n",
    "    print(\"output signed [(2*IN_WIDTH)+{}:0] DP,\".format(al), file=of)\n",
    "print(\"output earlyOutReady\", file=of)\n",
    "print(\");\\n\", file=of)"
   ]
  },
  {
   "cell_type": "code",
   "execution_count": null,
   "metadata": {
    "collapsed": false
   },
   "outputs": [],
   "source": [
    "lgMAMCS=math.ceil(math.log2(MAMCS))\n",
    "palM=-2+lgMAMCS\n",
    "if MAMCS>1:\n",
    "    print(\"wire DPOutReady;\", file=of)\n",
    "    for i in range (NumOfMaxSizeComponents):\n",
    "        if palM==0:\n",
    "            print(\"wire signed [(2*IN_WIDTH):0] DPpart{};\".format(i), file=of)\n",
    "        elif palM<0:\n",
    "            print(\"wire signed [(2*IN_WIDTH){}:0] DPpart{};\".format(palM, i), file=of)\n",
    "        else:\n",
    "            print(\"wire signed [(2*IN_WIDTH)+{}:0] DPpart{};\".format(palM, i), file=of)\n",
    "        print(\"DotProduct_Systolic_{}#( .IN_WIDTH(IN_WIDTH), .INPUT_REG_DEPTH(INPUT_REG_DEPTH), .MULT_PIPE_DEPTH(MULT_PIPE_DEPTH) )\".format(MAMCS), file=of)\n",
    "        print(\"\\tDPS{}_{}(clk, reset, enable,\".format(MAMCS, i), file=of)\n",
    "        print(\"\\tinReady,\", file=of)\n",
    "        print(\"\\t\", end='', file=of)\n",
    "        for j in range(MAMCS):\n",
    "            print(\"A{}, \".format(MAMCS*i+j), end='', file=of)\n",
    "        print(file=of)\n",
    "        print(\"\\t\", end='', file=of)\n",
    "        for j in range(MAMCS):\n",
    "            print(\"B{}, \".format(MAMCS*i+j), end='', file=of)\n",
    "        print(file=of)\n",
    "        if i==0:\n",
    "            print(\"\\tDPOutReady,\", file=of)\n",
    "        else:\n",
    "            print(\"\\tDPOutReady{}, //not used\".format(i), file=of)\n",
    "        print(\"\\tDPpart{});\\n\".format(i), file=of)\n",
    "        if NumOfComponents==1:\n",
    "            print(\"reg outReady;\", file=of)\n",
    "            if palM==0:\n",
    "                print(\"reg signed [(2*IN_WIDTH):0] DP;\", file=of)\n",
    "            elif palM<0:\n",
    "                print(\"reg signed [(2*IN_WIDTH){}:0] DP;\".format(palM), file=of)\n",
    "            else:\n",
    "                print(\"reg signed [(2*IN_WIDTH)+{}:0] DP;\".format(palM), file=of)\n",
    "            print(\"always @(posedge clk) begin\", file=of)\n",
    "            print(\"\\tif(reset) begin\", file=of)\n",
    "            print(\"\\t\\toutReady <= 0;\", file=of)\n",
    "            print(\"\\tend\", file=of)\n",
    "            print(\"\\telse if(enable) begin\", file=of)\n",
    "            print(\"\\t\\toutReady <= DPOutReady;\", file=of)\n",
    "            print(\"\\t\\tif(DPOutReady) begin\", file=of)\n",
    "            print(\"\\t\\t\\tDP <= DPpart0;\", file=of)\n",
    "            print(\"\\t\\tend\", file=of)\n",
    "            print(\"\\tend\", file=of)\n",
    "            print(\"end\\n\", file=of)\n",
    "            print(\"assign earlyOutReady = DPOutReady;\\n\", file=of)"
   ]
  },
  {
   "cell_type": "code",
   "execution_count": null,
   "metadata": {
    "collapsed": false
   },
   "outputs": [],
   "source": [
    "if MAMCS==1:\n",
    "    if NumOfComponents>1:\n",
    "        print(\"wire signed [(2*IN_WIDTH)-1:0] \", end='', file=of) #-2 is enough, XST\n",
    "        for i in range (NumOfMaxSizeComponents):    \n",
    "            print(\"DPpart{}\".format(i), end='', file=of)\n",
    "            if i==NumOfMaxSizeComponents-1:\n",
    "                print(\";\", file=of)              \n",
    "            else:\n",
    "                print(\", \", end='', file=of)\n",
    "        print(\"wire DPOutReady;\\n\", file=of)"
   ]
  },
  {
   "cell_type": "code",
   "execution_count": null,
   "metadata": {
    "collapsed": false
   },
   "outputs": [],
   "source": [
    "if MAMCS==1:\n",
    "    print(\"generate\", file=of)\n",
    "    print(\"if(INPUT_REG_DEPTH==0 && MULT_PIPE_DEPTH==0) begin\\n\", file=of)\n",
    "    if NumOfComponents>1:\n",
    "        for i in range (NumOfMaxSizeComponents):    \n",
    "            print(\"assign DPpart{} = A{}*B{};\".format(i, i, i),file=of)\n",
    "        print(\"assign DPOutReady = inReady;\\n\", file=of)\n",
    "    else:\n",
    "        print(\"reg signed [(2*IN_WIDTH)-1:0] DPp;\\n\", end='', file=of) #-2 is enough, XST\n",
    "        print(\"reg outReady;\", file=of)\n",
    "        print(\"always @(posedge clk) begin\", file=of)\n",
    "        print(\"\\tif(reset) begin\", file=of)\n",
    "        print(\"\\t\\toutReady <= 0;\", file=of)\n",
    "        print(\"\\tend\", file=of)\n",
    "        print(\"\\telse if(enable) begin\", file=of)\n",
    "        print(\"\\t\\toutReady <= inReady;\", file=of)\n",
    "        print(\"\\t\\tif(inReady) begin\", file=of)\n",
    "        print(\"\\t\\t\\tDPp <= A0*B0;\", file=of)\n",
    "        print(\"\\t\\tend\", file=of)\n",
    "        print(\"\\tend\", file=of)\n",
    "        print(\"end\", file=of)\n",
    "        print(\"assign DP = DPp;\",file=of)\n",
    "        print(\"assign earlyOutReady = inReady;\\n\", file=of)\n",
    "    print(\"end\", file=of)"
   ]
  },
  {
   "cell_type": "code",
   "execution_count": null,
   "metadata": {
    "collapsed": false
   },
   "outputs": [],
   "source": [
    "if MAMCS==1:\n",
    "    print(\"else if(INPUT_REG_DEPTH==0 && MULT_PIPE_DEPTH!=0) begin\\n\", file=of)\n",
    "    if NumOfComponents>1:\n",
    "        print(\"reg signed [(2*IN_WIDTH)-1:0] \", end='', file=of) #-2 is enough, XST\n",
    "        for i in range (NumOfMaxSizeComponents):    \n",
    "            print(\"DPpartR{}[0:MULT_PIPE_DEPTH-1]\".format(i), end='', file=of)\n",
    "            if i==NumOfMaxSizeComponents-1:\n",
    "                print(\";\", file=of)              \n",
    "            else:\n",
    "                print(\", \", end='', file=of)\n",
    "    else:\n",
    "        print(\"reg signed [(2*IN_WIDTH)-1:0] DPp [0:MULT_PIPE_DEPTH];\", file=of) #-2 is enough, XST\n",
    "    print(\"integer i;\", file=of)\n",
    "    print(\"reg [0:MULT_PIPE_DEPTH-1] DPOutReadyR = 0;\", file=of)\n",
    "    if NumOfComponents==1:\n",
    "        print(\"reg outReady;\", file=of)\n",
    "    print(\"always @(posedge clk) begin\", file=of)\n",
    "    print(\"\\tif(reset) begin\", file=of)\n",
    "    print(\"\\t\\tDPOutReadyR <= 0;\", file=of)\n",
    "    print(\"\\tend\", file=of)\n",
    "    print(\"\\telse if(enable) begin\", file=of)\n",
    "    for i in range (NumOfMaxSizeComponents):   \n",
    "        if NumOfComponents==1:\n",
    "            print(\"\\t\\tDPp[0]\", end='', file=of)                \n",
    "        else:\n",
    "            print(\"\\t\\tDPpartR{}[0]\".format(i), end='', file=of)\n",
    "        print(\" <= A{}*B{};\".format(i, i), file=of)\n",
    "    print(\"\\t\\tDPOutReadyR[0] <= inReady;\", file=of)\n",
    "    print(\"\\t\\tfor(i=0;i<(MULT_PIPE_DEPTH-1);i=i+1) begin\", file=of)\n",
    "    if NumOfComponents==1:\n",
    "        print(\"\\t\\t\\tDPp[i+1] <= DPp[i];\", file=of)\n",
    "    else:\n",
    "        for i in range (NumOfMaxSizeComponents):\n",
    "            print(\"\\t\\t\\tDPpartR{}[i+1] <= DPpartR{}[i];\".format(i, i), file=of)\n",
    "    print(\"\\t\\t\\tDPOutReadyR[i+1] <= DPOutReadyR[i];\", file=of)    \n",
    "    print(\"\\t\\tend\", file=of)\n",
    "    if NumOfComponents==1:\n",
    "        print(\"\\t\\toutReady <= DPOutReadyR[MULT_PIPE_DEPTH-1];\", file=of)\n",
    "        print(\"\\t\\tif(DPOutReadyR[MULT_PIPE_DEPTH-1]) begin\", file=of)\n",
    "        print(\"\\t\\t\\tDPp[MULT_PIPE_DEPTH] <= DPp[MULT_PIPE_DEPTH-1];\", file=of)\n",
    "        print(\"\\t\\tend\", file=of)\n",
    "    print(\"\\tend\", file=of)\n",
    "    print(\"end\", file=of)\n",
    "    if NumOfComponents==1:\n",
    "        print(\"assign DP = DPp[MULT_PIPE_DEPTH];\", file=of)\n",
    "        print(\"assign earlyOutReady = DPOutReadyR[MULT_PIPE_DEPTH-1];\\n\", file=of)\n",
    "    else:\n",
    "        for i in range (NumOfMaxSizeComponents):    \n",
    "            print(\"assign DPpart{} = DPpartR{}[MULT_PIPE_DEPTH-1];\".format(i, i),file=of)\n",
    "        print(\"assign DPOutReady = DPOutReadyR[MULT_PIPE_DEPTH-1];\\n\", file=of)\n",
    "    print(\"end\", file=of)"
   ]
  },
  {
   "cell_type": "code",
   "execution_count": null,
   "metadata": {
    "collapsed": false
   },
   "outputs": [],
   "source": [
    "if MAMCS==1:\n",
    "    print(\"else if(INPUT_REG_DEPTH!=0 && MULT_PIPE_DEPTH==0) begin\\n\", file=of)\n",
    "    for i in range (NumOfMaxSizeComponents):   \n",
    "        print(\"reg signed [IN_WIDTH-1:0] A{}r [1:INPUT_REG_DEPTH], B{}r [1:INPUT_REG_DEPTH];\".format(i, i), file=of)\n",
    "    print(\"integer i, j;\", file=of)\n",
    "    print(\"reg [0:INPUT_REG_DEPTH-1] DPOutReadyR = 0;\", file=of)\n",
    "    if NumOfComponents==1:\n",
    "        print(\"reg outReady;\", file=of)\n",
    "        print(\"reg signed [(2*IN_WIDTH)-1:0] DPp;\", file=of)\n",
    "    print(\"always @(posedge clk) begin\", file=of)\n",
    "    print(\"\\tif(reset) begin\", file=of)\n",
    "    print(\"\\t\\tDPOutReadyR <= 0;\", file=of)\n",
    "    print(\"\\tend\", file=of)\n",
    "    print(\"\\telse if(enable) begin\", file=of)\n",
    "    for i in range(NumOfMaxSizeComponents):\n",
    "        print(\"\\t\\tA{}r[1] <= A{};\".format(i,i), file=of)\n",
    "        print(\"\\t\\tB{}r[1] <= B{};\".format(i,i), file=of)    \n",
    "    print(\"\\t\\tfor(j=1;j<INPUT_REG_DEPTH;j=j+1) begin\", file=of)\n",
    "    for i in range(NumOfMaxSizeComponents):\n",
    "        print(\"\\t\\t\\tA{}r[j+1] <= A{}r[j];\".format(i,i), file=of)\n",
    "        print(\"\\t\\t\\tB{}r[j+1] <= B{}r[j];\".format(i,i), file=of)\n",
    "    print(\"\\t\\tend\", file=of)\n",
    "    print(\"\\t\\tDPOutReadyR[0] <= inReady;\", file=of)\n",
    "    print(\"\\t\\tfor(i=0;i<(INPUT_REG_DEPTH-1);i=i+1) begin\", file=of)\n",
    "    print(\"\\t\\t\\tDPOutReadyR[i+1] <= DPOutReadyR[i];\", file=of)    \n",
    "    print(\"\\t\\tend\", file=of)\n",
    "    if NumOfComponents==1:\n",
    "        print(\"\\t\\toutReady <= DPOutReadyR[INPUT_REG_DEPTH-1];\", file=of)\n",
    "        print(\"\\t\\tif(DPOutReadyR[INPUT_REG_DEPTH-1]) begin\", file=of)\n",
    "        print(\"\\t\\t\\tDPp <= A0r[INPUT_REG_DEPTH]*B0r[INPUT_REG_DEPTH];\", file=of)\n",
    "        print(\"\\t\\tend\", file=of)\n",
    "    print(\"\\tend\", file=of)\n",
    "    print(\"end\", file=of)\n",
    "    if NumOfComponents>1:\n",
    "        for i in range (NumOfMaxSizeComponents):    \n",
    "            print(\"assign DPpart{} = A{}r[INPUT_REG_DEPTH]*B{}r[INPUT_REG_DEPTH];\".format(i, i, i),file=of)\n",
    "        print(\"assign DPOutReady = DPOutReadyR[INPUT_REG_DEPTH-1];\\n\", file=of)\n",
    "    else:\n",
    "        print(\"assign DP = DPp;\", file=of)\n",
    "        print(\"assign earlyOutReady = DPOutReadyR[INPUT_REG_DEPTH-1];\\n\", file=of)\n",
    "    print(\"end\", file=of)"
   ]
  },
  {
   "cell_type": "code",
   "execution_count": null,
   "metadata": {
    "collapsed": false
   },
   "outputs": [],
   "source": [
    "if MAMCS==1:\n",
    "    print(\"else begin //if(INPUT_REG_DEPTH!=0 && MULT_PIPE_DEPTH!=0)\\n\", file=of)\n",
    "    for i in range (NumOfMaxSizeComponents):   \n",
    "        print(\"reg signed [IN_WIDTH-1:0] A{}r [1:INPUT_REG_DEPTH], B{}r [1:INPUT_REG_DEPTH];\".format(i, i), file=of)\n",
    "    if NumOfComponents>1:\n",
    "        print(\"reg signed [(2*IN_WIDTH)-1:0] \", end='', file=of) #-2 is enough, XST\n",
    "        for i in range (NumOfMaxSizeComponents):    \n",
    "            print(\"DPpartR{}[0:MULT_PIPE_DEPTH-1]\".format(i), end='', file=of)\n",
    "            if i==NumOfMaxSizeComponents-1:\n",
    "                print(\";\", file=of)              \n",
    "            else:\n",
    "                print(\", \", end='', file=of)\n",
    "    else:\n",
    "        print(\"reg signed [(2*IN_WIDTH)-1:0] DPp [0:MULT_PIPE_DEPTH];\", file=of) #-2 is enough, XST\n",
    "    print(\"integer i, j, k;\", file=of)\n",
    "    print(\"reg [0:INPUT_REG_DEPTH+MULT_PIPE_DEPTH-1] DPOutReadyR = 0;\", file=of)\n",
    "    if NumOfComponents==1:\n",
    "        print(\"reg outReady;\", file=of)\n",
    "    print(\"always @(posedge clk) begin\", file=of)\n",
    "    print(\"\\tif(reset) begin\", file=of)\n",
    "    print(\"\\t\\tDPOutReadyR <= 0;\", file=of)\n",
    "    print(\"\\tend\", file=of)\n",
    "    print(\"\\telse if(enable) begin\", file=of)\n",
    "    for i in range(NumOfMaxSizeComponents):\n",
    "        print(\"\\t\\tA{}r[1] <= A{};\".format(i,i), file=of)\n",
    "        print(\"\\t\\tB{}r[1] <= B{};\".format(i,i), file=of)    \n",
    "    print(\"\\t\\tfor(j=1;j<INPUT_REG_DEPTH;j=j+1) begin\", file=of)\n",
    "    for i in range(NumOfMaxSizeComponents):\n",
    "        print(\"\\t\\t\\tA{}r[j+1] <= A{}r[j];\".format(i,i), file=of)\n",
    "        print(\"\\t\\t\\tB{}r[j+1] <= B{}r[j];\".format(i,i), file=of)\n",
    "    print(\"\\t\\tend\", file=of)\n",
    "    for i in range (NumOfMaxSizeComponents):   \n",
    "        if NumOfComponents==1:\n",
    "            print(\"\\t\\tDPp[0]\", end='', file=of)                \n",
    "        else:\n",
    "            print(\"\\t\\tDPpartR{}[0]\".format(i), end='', file=of)\n",
    "        print(\" <= A{}r[INPUT_REG_DEPTH]*B{}r[INPUT_REG_DEPTH];\".format(i, i), file=of)\n",
    "    print(\"\\t\\tfor(k=0;k<(MULT_PIPE_DEPTH-1);k=k+1) begin\", file=of)\n",
    "    if NumOfComponents==1:\n",
    "        print(\"\\t\\t\\tDPp[k+1] <= DPp[MULT_PIPE_DEPTH];\", file=of)\n",
    "    else:\n",
    "        for i in range (NumOfMaxSizeComponents):\n",
    "            print(\"\\t\\t\\tDPpartR{}[k+1] <= DPpartR{}[k];\".format(i, i), file=of)\n",
    "    print(\"\\t\\tend\", file=of)\n",
    "    print(\"\\t\\tDPOutReadyR[0] <= inReady;\", file=of)\n",
    "    print(\"\\t\\tfor(i=0;i<(INPUT_REG_DEPTH+MULT_PIPE_DEPTH-1);i=i+1) begin\", file=of)\n",
    "    print(\"\\t\\t\\tDPOutReadyR[i+1] <= DPOutReadyR[i];\", file=of)    \n",
    "    print(\"\\t\\tend\", file=of)\n",
    "    if NumOfComponents==1:\n",
    "        print(\"\\t\\toutReady <= DPOutReadyR[INPUT_REG_DEPTH+MULT_PIPE_DEPTH-1];\", file=of)\n",
    "        print(\"\\t\\tif(DPOutReadyR[INPUT_REG_DEPTH+MULT_PIPE_DEPTH-1]) begin\", file=of)\n",
    "        print(\"\\t\\t\\tDPp[MULT_PIPE_DEPTH] <= DPp[MULT_PIPE_DEPTH-1];\", file=of)\n",
    "        print(\"\\t\\tend\", file=of)\n",
    "    print(\"\\tend\", file=of)\n",
    "    print(\"end\", file=of)\n",
    "    if NumOfComponents==1:\n",
    "        print(\"assign DP = DPp[MULT_PIPE_DEPTH];\", file=of)\n",
    "        print(\"assign earlyOutReady = DPOutReadyR[INPUT_REG_DEPTH+MULT_PIPE_DEPTH-1];\\n\", file=of)\n",
    "    else:\n",
    "        for i in range (NumOfMaxSizeComponents):    \n",
    "            print(\"assign DPpart{} = DPpartR{}[MULT_PIPE_DEPTH-1];\".format(i, i),file=of)\n",
    "        print(\"assign DPOutReady = DPOutReadyR[INPUT_REG_DEPTH+MULT_PIPE_DEPTH-1];\\n\", file=of)\n",
    "    print(\"end\", file=of)\n",
    "    print(\"endgenerate\\n\", file=of)    "
   ]
  },
  {
   "cell_type": "code",
   "execution_count": null,
   "metadata": {
    "collapsed": false,
    "scrolled": true
   },
   "outputs": [],
   "source": [
    "if NonMaxSizeComponentSize>1:\n",
    "    LGNonMaxSizeComponentSize=math.ceil(math.log2(NonMaxSizeComponentSize))\n",
    "    palN=-2+LGNonMaxSizeComponentSize\n",
    "    if palN==0:\n",
    "        print(\"wire signed [(2*IN_WIDTH):0] DPpart{};\".format(NumOfMaxSizeComponents), file=of)\n",
    "    elif palN<0:\n",
    "        print(\"wire signed [(2*IN_WIDTH){}:0] DPpart{};\".format(palN, NumOfMaxSizeComponents), file=of)\n",
    "    else:\n",
    "        print(\"wire signed [(2*IN_WIDTH)+{}:0] DPpart{};\".format(palN, NumOfMaxSizeComponents), file=of)\n",
    "    print(\"DotProduct_Systolic_{}#( .IN_WIDTH(IN_WIDTH), .INPUT_REG_DEPTH(INPUT_REG_DEPTH+{}), .MULT_PIPE_DEPTH(MULT_PIPE_DEPTH) )\".format(NonMaxSizeComponentSize, MAMCS-NonMaxSizeComponentSize), file=of)\n",
    "    print(\"\\tDPS{}(clk, reset, enable,\".format(NonMaxSizeComponentSize), file=of)\n",
    "    print(\"\\tinReady,\", file=of)\n",
    "    print(\"\\t\", end='', file=of)\n",
    "    for j in range(NonMaxSizeComponentSize):\n",
    "        print(\"A{}, \".format(MAMCS*NumOfMaxSizeComponents+j), end='', file=of)\n",
    "    print(file=of)\n",
    "    print(\"\\t\", end='', file=of)\n",
    "    for j in range(NonMaxSizeComponentSize):\n",
    "        print(\"B{}, \".format(MAMCS*NumOfMaxSizeComponents+j), end='', file=of)\n",
    "    print(file=of)\n",
    "    print(\"\\tDPOutReady{}, //not used\".format(NumOfMaxSizeComponents), file=of)\n",
    "    print(\"\\tDPpart{});\".format(NumOfMaxSizeComponents), file=of)\n",
    "    #naming and sign extend (if needed)\n",
    "    if palM-palN>0:\n",
    "        if palM==0:\n",
    "            print(\"wire signed [(2*IN_WIDTH):0] DPpart{}E = \".format(NumOfMaxSizeComponents), end='', file=of)    \n",
    "        elif palM<0:\n",
    "            print(\"wire signed [(2*IN_WIDTH){}:0] DPpart{}E = \".format(palM, NumOfMaxSizeComponents), end='', file=of)    \n",
    "        else:\n",
    "            print(\"wire signed [(2*IN_WIDTH)+{}:0] DPpart{}E = \".format(palM, NumOfMaxSizeComponents), end='', file=of)\n",
    "    #if palM-palN==0:\n",
    "    #    print(\"DPpart{};\".format(NumOfMaxSizeComponents, NumOfMaxSizeComponents), file=of)    \n",
    "    #else:\n",
    "        if palN==0:\n",
    "            print(\"{{{{{}{{DPpart{}[(2*IN_WIDTH)]}}}},DPpart{}}};\".format(palM-palN, NumOfMaxSizeComponents, NumOfMaxSizeComponents), file=of)    \n",
    "        elif palN<0:\n",
    "            print(\"{{{{{}{{DPpart{}[(2*IN_WIDTH){}]}}}},DPpart{}}};\".format(palM-palN, NumOfMaxSizeComponents, palN, NumOfMaxSizeComponents), file=of)                \n",
    "        else:\n",
    "            print(\"{{{{{}{{DPpart{}[(2*IN_WIDTH)+{}]}}}},DPpart{}}};\".format(palM-palN, NumOfMaxSizeComponents, palN, NumOfMaxSizeComponents), file=of)    \n",
    "    print(file=of)"
   ]
  },
  {
   "cell_type": "code",
   "execution_count": null,
   "metadata": {
    "collapsed": false
   },
   "outputs": [],
   "source": [
    "if NonMaxSizeComponentSize==1:\n",
    "    print(\"reg signed [IN_WIDTH-1:0] A{}r[1:{}+INPUT_REG_DEPTH], B{}r[1:{}+INPUT_REG_DEPTH];\".format(MAMCS*NumOfMaxSizeComponents, MAMCS-1, MAMCS*NumOfMaxSizeComponents, MAMCS-1), file=of)\n",
    "    if palM==0:\n",
    "        print(\"wire signed [(2*IN_WIDTH):0] DPpart{}E;\".format(NumOfMaxSizeComponents), file=of)    \n",
    "    elif palM<0:\n",
    "        print(\"wire signed [(2*IN_WIDTH){}:0] DPpart{}E;\".format(palM, NumOfMaxSizeComponents), file=of)    \n",
    "    else:\n",
    "        print(\"wire signed [(2*IN_WIDTH)+{}:0] DPpart{}E;\".format(palM ,NumOfMaxSizeComponents), file=of)\n",
    "    print(\"generate\", file=of)\n",
    "    print(\"if(MULT_PIPE_DEPTH==0) begin\\n\", file=of)\n",
    "    print(\"integer i;\", file=of)\n",
    "    print(\"always @(posedge clk) begin\", file=of)\n",
    "    print(\"\\tif(enable) begin\", file=of)\n",
    "    print(\"\\t\\tA{}r[1] <= A{};\".format(MAMCS*NumOfMaxSizeComponents, MAMCS*NumOfMaxSizeComponents), file=of)\n",
    "    print(\"\\t\\tB{}r[1] <= B{};\".format(MAMCS*NumOfMaxSizeComponents, MAMCS*NumOfMaxSizeComponents), file=of)\n",
    "    print(\"\\t\\tfor(i=1;i<({}+INPUT_REG_DEPTH);i=i+1) begin\".format(MAMCS-1), file=of)\n",
    "    print(\"\\t\\t\\tA{}r[i+1] <= A{}r[i];\".format(MAMCS*NumOfMaxSizeComponents, MAMCS*NumOfMaxSizeComponents), file=of)\n",
    "    print(\"\\t\\t\\tB{}r[i+1] <= B{}r[i];\".format(MAMCS*NumOfMaxSizeComponents, MAMCS*NumOfMaxSizeComponents), file=of)\n",
    "    print(\"\\t\\tend\", file=of)\n",
    "    print(\"\\tend\", file=of)\n",
    "    print(\"end\", file=of)\n",
    "    print(\"wire signed [(2*IN_WIDTH)-1:0] DPpart{} = A{}r[{}+INPUT_REG_DEPTH]*B{}r[{}+INPUT_REG_DEPTH];\".format(NumOfMaxSizeComponents, MAMCS*NumOfMaxSizeComponents, MAMCS-1, MAMCS*NumOfMaxSizeComponents, MAMCS-1), file=of)\n",
    "    #naming and sign extend (if needed)\n",
    "    if MAMCS==2: #palM==-1\n",
    "        print(\"assign DPpart{}E = DPpart{};\\n\".format(NumOfMaxSizeComponents, NumOfMaxSizeComponents), file=of)    \n",
    "    else:\n",
    "        print(\"assign DPpart{}E = {{{{{}{{DPpart{}[(2*IN_WIDTH)-1]}}}},DPpart{}}};\\n\"\n",
    "        .format(NumOfMaxSizeComponents, palM+1, NumOfMaxSizeComponents, NumOfMaxSizeComponents), file=of)    \n",
    "    print(\"end\", file=of)"
   ]
  },
  {
   "cell_type": "code",
   "execution_count": null,
   "metadata": {
    "collapsed": false
   },
   "outputs": [],
   "source": [
    "if NonMaxSizeComponentSize==1:\n",
    "    print(\"else begin //if(MULT_PIPE_DEPTH!=0)\\n\", file=of)\n",
    "    print(\"reg signed [(2*IN_WIDTH)-1:0] DPpart{}[0:MULT_PIPE_DEPTH-1];\".format(NumOfMaxSizeComponents), file=of)  #-2 is enough, XST\n",
    "    print(\"integer i, j;\", file=of)\n",
    "    print(\"always @(posedge clk) begin\", file=of)\n",
    "    print(\"\\tif(enable) begin\", file=of)\n",
    "    print(\"\\t\\tA{}r[1] <= A{};\".format(MAMCS*NumOfMaxSizeComponents, MAMCS*NumOfMaxSizeComponents), file=of)\n",
    "    print(\"\\t\\tB{}r[1] <= B{};\".format(MAMCS*NumOfMaxSizeComponents, MAMCS*NumOfMaxSizeComponents), file=of)\n",
    "    print(\"\\t\\tfor(i=1;i<({}+INPUT_REG_DEPTH);i=i+1) begin\".format(MAMCS-1), file=of)\n",
    "    print(\"\\t\\t\\tA{}r[i+1] <= A{}r[i];\".format(MAMCS*NumOfMaxSizeComponents, MAMCS*NumOfMaxSizeComponents), file=of)\n",
    "    print(\"\\t\\t\\tB{}r[i+1] <= B{}r[i];\".format(MAMCS*NumOfMaxSizeComponents, MAMCS*NumOfMaxSizeComponents), file=of)\n",
    "    print(\"\\t\\tend\", file=of)    \n",
    "    print(\"\\t\\tDPpart{}[0] <= A{}r[{}+INPUT_REG_DEPTH]*B{}r[{}+INPUT_REG_DEPTH];\".format(NumOfMaxSizeComponents, MAMCS*NumOfMaxSizeComponents, MAMCS-1, MAMCS*NumOfMaxSizeComponents, MAMCS-1), file=of)\n",
    "    print(\"\\t\\tfor(j=0;j<MULT_PIPE_DEPTH-1;j=j+1) begin\", file=of)\n",
    "    print(\"\\t\\t\\tDPpart{}[j+1] <= DPpart{}[j];\".format(NumOfMaxSizeComponents, NumOfMaxSizeComponents), file=of)\n",
    "    print(\"\\t\\tend\", file=of)\n",
    "    print(\"\\tend\", file=of)\n",
    "    print(\"end\", file=of)\n",
    "    #naming and sign extend (if needed)\n",
    "    if MAMCS==2: #palM==-1\n",
    "        print(\"assign DPpart{}E = DPpart{}[MULT_PIPE_DEPTH-1];\\n\".format(NumOfMaxSizeComponents, NumOfMaxSizeComponents), file=of)    \n",
    "    else:\n",
    "        print(\"assign DPpart{}E = {{{{{}{{DPpart{}[MULT_PIPE_DEPTH-1][(2*IN_WIDTH)-1]}}}},DPpart{}[MULT_PIPE_DEPTH-1]}};\\n\"\n",
    "        .format(NumOfMaxSizeComponents, palM+1, NumOfMaxSizeComponents, NumOfMaxSizeComponents), file=of)    \n",
    "    print(\"end\", file=of)\n",
    "    print(\"endgenerate\\n\", file=of)"
   ]
  },
  {
   "cell_type": "code",
   "execution_count": null,
   "metadata": {
    "collapsed": false
   },
   "outputs": [],
   "source": [
    "if NumOfComponents>1:\n",
    "    lgMAMCS=math.ceil(math.log2(MAMCS))\n",
    "    if lgMAMCS==1:\n",
    "        print(\"AdderTree_{}#( .IN_WIDTH(2*IN_WIDTH) )\".format(NumOfComponents), file=of)\n",
    "    elif lgMAMCS<1:\n",
    "        print(\"AdderTree_{}#( .IN_WIDTH(2*IN_WIDTH{}) )\".format(NumOfComponents, -1+lgMAMCS), file=of)\n",
    "    else:\n",
    "        print(\"AdderTree_{}#( .IN_WIDTH(2*IN_WIDTH+{}) )\".format(NumOfComponents, -1+lgMAMCS), file=of)\n",
    "    print(\"\\tAT(clk, reset, enable, DPOutReady,\", file=of)\n",
    "    print(\"\\t\", end='', file=of)\n",
    "    for i in range(NumOfMaxSizeComponents):\n",
    "        print(\"DPpart{}, \".format(i), end='', file=of)\n",
    "    if NonMaxSizeComponentSize!=0:\n",
    "        print(\"DPpart{}\".format(NumOfMaxSizeComponents), end='', file=of)\n",
    "        if palM-palN>0 or NonMaxSizeComponentSize==1:\n",
    "            print(\"E\", end='', file=of)\n",
    "        print(\",\", end='', file=of)\n",
    "    print(\"\\n\\toutReady, DP, earlyOutReady);\\n\", file=of)"
   ]
  },
  {
   "cell_type": "code",
   "execution_count": null,
   "metadata": {
    "collapsed": false
   },
   "outputs": [],
   "source": [
    "print(\"endmodule\", file=of)"
   ]
  },
  {
   "cell_type": "code",
   "execution_count": null,
   "metadata": {
    "collapsed": true
   },
   "outputs": [],
   "source": [
    "#of.close()"
   ]
  }
 ],
 "metadata": {
  "kernelspec": {
   "display_name": "Python 3",
   "language": "python",
   "name": "python3"
  },
  "language_info": {
   "codemirror_mode": {
    "name": "ipython",
    "version": 3
   },
   "file_extension": ".py",
   "mimetype": "text/x-python",
   "name": "python",
   "nbconvert_exporter": "python",
   "pygments_lexer": "ipython3",
   "version": "3.5.1"
  }
 },
 "nbformat": 4,
 "nbformat_minor": 0
}
