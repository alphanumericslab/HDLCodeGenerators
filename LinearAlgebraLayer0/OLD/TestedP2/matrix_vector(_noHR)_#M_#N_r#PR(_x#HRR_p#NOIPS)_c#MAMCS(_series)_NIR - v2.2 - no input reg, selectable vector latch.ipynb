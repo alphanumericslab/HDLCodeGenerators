{
 "cells": [
  {
   "cell_type": "code",
   "execution_count": null,
   "metadata": {
    "collapsed": true
   },
   "outputs": [],
   "source": [
    "#completed output file and module name\n",
    "#changed initial checks\n",
    "#added earlyNewOutReady\n",
    "#added NOIPS\n",
    "#changes to HRR==1 mode"
   ]
  },
  {
   "cell_type": "code",
   "execution_count": null,
   "metadata": {
    "collapsed": true
   },
   "outputs": [],
   "source": [
    "#uses DotProduct_HR_#N_x#HRR_c#MAMCS_series - v4.2\n",
    "#uses DotProduct_noHR_#N_c#MAMCS - v3.3"
   ]
  },
  {
   "cell_type": "code",
   "execution_count": null,
   "metadata": {
    "collapsed": true
   },
   "outputs": [],
   "source": [
    "import sys\n",
    "import math"
   ]
  },
  {
   "cell_type": "code",
   "execution_count": null,
   "metadata": {
    "collapsed": false
   },
   "outputs": [],
   "source": [
    "#M>=1\n",
    "M = input('Enter M: ')\n",
    "M = int(M)"
   ]
  },
  {
   "cell_type": "code",
   "execution_count": null,
   "metadata": {
    "collapsed": false
   },
   "outputs": [],
   "source": [
    "#N>=1\n",
    "#N better to be >= HRR, if N<HRR, can decrease HRR (to N)\n",
    "N = input('Enter N: ')\n",
    "N = int(N)"
   ]
  },
  {
   "cell_type": "code",
   "execution_count": null,
   "metadata": {
    "collapsed": false
   },
   "outputs": [],
   "source": [
    "#PR>=1\n",
    "PR = input('Enter No Of Parallel Row: ')\n",
    "PR = int(PR)"
   ]
  },
  {
   "cell_type": "code",
   "execution_count": null,
   "metadata": {
    "collapsed": false,
    "scrolled": false
   },
   "outputs": [],
   "source": [
    "#HRR>=1\n",
    "HRR = input('Enter HRR: ')\n",
    "HRR = int(HRR)"
   ]
  },
  {
   "cell_type": "code",
   "execution_count": null,
   "metadata": {
    "collapsed": true
   },
   "outputs": [],
   "source": [
    "if(N<1):\n",
    "    N=1\n",
    "if(HRR<1):\n",
    "    HRR=1\n",
    "NMult = math.ceil(N/HRR); #min Number of Multipliers Needed"
   ]
  },
  {
   "cell_type": "code",
   "execution_count": null,
   "metadata": {
    "collapsed": false
   },
   "outputs": [],
   "source": [
    "#>=NMult, <=N\n",
    "if(HRR>1):\n",
    "    NOIPS = input('Enter Number of inputs per series (>={}, <={}, empty for {}): '.format(NMult, N, NMult))"
   ]
  },
  {
   "cell_type": "code",
   "execution_count": null,
   "metadata": {
    "collapsed": false
   },
   "outputs": [],
   "source": [
    "#MAMCS>=1\n",
    "MAMCS = input('Enter Multiply-Add Max Component Size: ')\n",
    "MAMCS = int(MAMCS)"
   ]
  },
  {
   "cell_type": "code",
   "execution_count": null,
   "metadata": {
    "collapsed": false
   },
   "outputs": [],
   "source": [
    "#IN_WIDTH>=1\n",
    "IN_WIDTH = input('Enter IN_WIDTH default value: ')\n",
    "IN_WIDTH = int(IN_WIDTH)"
   ]
  },
  {
   "cell_type": "code",
   "execution_count": null,
   "metadata": {
    "collapsed": false
   },
   "outputs": [],
   "source": [
    "#>=0\n",
    "INPUT_REG_DEPTH = input('Enter INPUT_REG_DEPTH default value: ')\n",
    "INPUT_REG_DEPTH = int(INPUT_REG_DEPTH)"
   ]
  },
  {
   "cell_type": "code",
   "execution_count": null,
   "metadata": {
    "collapsed": false
   },
   "outputs": [],
   "source": [
    "#>=0\n",
    "MULT_PIPE_DEPTH = input('Enter MULT_PIPE_DEPTH default value: ')\n",
    "MULT_PIPE_DEPTH = int(MULT_PIPE_DEPTH)"
   ]
  },
  {
   "cell_type": "code",
   "execution_count": null,
   "metadata": {
    "collapsed": true
   },
   "outputs": [],
   "source": [
    "if(M<1):\n",
    "    M=1\n",
    "if PR<1:\n",
    "    PR=1\n",
    "elif PR>M:\n",
    "    PR=M\n",
    "RS=math.ceil(M/PR)"
   ]
  },
  {
   "cell_type": "code",
   "execution_count": null,
   "metadata": {
    "collapsed": false
   },
   "outputs": [],
   "source": [
    "if (RS>1):\n",
    "    _Enable_Vector_Latch = input('Enable Vector Latch? (empty or 0 to disable, 1 to enable): ')\n",
    "else:\n",
    "    _Enable_Vector_Latch = 0;"
   ]
  },
  {
   "cell_type": "code",
   "execution_count": null,
   "metadata": {
    "collapsed": false
   },
   "outputs": [],
   "source": [
    "if(HRR>1):\n",
    "    if not NOIPS:\n",
    "        NOIPS=NMult\n",
    "    else:\n",
    "        NOIPS = int(NOIPS)\n",
    "        if(NOIPS<NMult):\n",
    "            NOIPS=NMult\n",
    "        else:\n",
    "            if(NOIPS>N):\n",
    "                NOIPS=N\n",
    "            if NOIPS>NMult:\n",
    "                NMult = NOIPS;\n",
    "if MAMCS>NMult:\n",
    "    MAMCS=NMult\n",
    "if(IN_WIDTH<1):\n",
    "    IN_WIDTH=1\n",
    "if(INPUT_REG_DEPTH<0):\n",
    "    INPUT_REG_DEPTH=0\n",
    "if(MULT_PIPE_DEPTH<0):\n",
    "    MULT_PIPE_DEPTH=0\n",
    "if (RS>1):\n",
    "    if not _Enable_Vector_Latch:\n",
    "        _Enable_Vector_Latch = 0\n",
    "    else:\n",
    "        _Enable_Vector_Latch = int(_Enable_Vector_Latch)"
   ]
  },
  {
   "cell_type": "code",
   "execution_count": null,
   "metadata": {
    "collapsed": false
   },
   "outputs": [],
   "source": [
    "of=sys.stdout\n",
    "# if(HRR==1):\n",
    "#     if _Enable_Vector_Latch>0:\n",
    "#         of=open(\"./matrix_vector_noHR_{}_{}_r{}_c{}_NIR_VL.v\".format(M, N, PR, MAMCS), 'w+')\n",
    "#     else:\n",
    "#         of=open(\"./matrix_vector_noHR_{}_{}_r{}_c{}_NIR_NVL.v\".format(M, N, PR, MAMCS), 'w+')\n",
    "# else:\n",
    "#     if _Enable_Vector_Latch>0:\n",
    "#         of=open(\"./matrix_vector_{}_{}_r{}_x{}_p{}_c{}_series_NIR_VL.v\".format(M, N, PR, HRR, NMult, MAMCS), 'w+')\n",
    "#     else:\n",
    "#         of=open(\"./matrix_vector_{}_{}_r{}_x{}_p{}_c{}_series_NIR_NVL.v\".format(M, N, PR, HRR, NMult, MAMCS), 'w+')"
   ]
  },
  {
   "cell_type": "code",
   "execution_count": null,
   "metadata": {
    "collapsed": false,
    "scrolled": true
   },
   "outputs": [],
   "source": [
    "print(\"`timescale 1ns / 1ps\\n\", file=of)\n",
    "if(HRR==1):\n",
    "    if _Enable_Vector_Latch>0:\n",
    "        print(\"module matrix_vector_noHR_{}_{}_r{}_c{}_NIR_VL\".format(M, N, PR, MAMCS), file=of)\n",
    "    else:\n",
    "        print(\"module matrix_vector_noHR_{}_{}_r{}_c{}_NIR_NVL\".format(M, N, PR, MAMCS), file=of)\n",
    "else:\n",
    "    if _Enable_Vector_Latch>0:\n",
    "        print(\"module matrix_vector_{}_{}_r{}_x{}_p{}_c{}_series_NIR_VL\".format(M, N, PR, HRR, NMult, MAMCS), file=of)\n",
    "    else:\n",
    "        print(\"module matrix_vector_{}_{}_r{}_x{}_p{}_c{}_series_NIR_NVL\".format(M, N, PR, HRR, NMult, MAMCS), file=of)\n",
    "print(\"#(\", file=of)\n",
    "print(\"parameter IN_WIDTH = {},\".format(IN_WIDTH), file=of)\n",
    "print(\"parameter INPUT_REG_DEPTH = {},\".format(INPUT_REG_DEPTH), file=of)\n",
    "print(\"parameter MULT_PIPE_DEPTH = {}\".format(MULT_PIPE_DEPTH), file=of)\n",
    "print(\")(\", file=of)\n",
    "print(\"input clk, reset, enable,\", file=of)\n",
    "print(\"input inReady,\", file=of)\n",
    "for j in range(PR):\n",
    "    print(\"input signed [IN_WIDTH-1:0] \", end='', file=of)\n",
    "    for i in range(NMult):\n",
    "        print(\"A{}r{}, \".format(i, j), end='', file=of)\n",
    "    print(file=of)\n",
    "print(\"input signed [IN_WIDTH-1:0] \", end='', file=of)\n",
    "for i in range(NMult):\n",
    "    print(\"Vi{}, \".format(i), end='', file=of)\n",
    "print(file=of)\n",
    "if(HRR>1):\n",
    "    print(\"output readyForNewRowStart,\", file=of)\n",
    "lghrr=math.ceil(math.log2(HRR))\n",
    "if lghrr==1:\n",
    "    print(\"output rowInSeries,\", file=of)\n",
    "elif lghrr>1:\n",
    "    print(\"output [{}:0] rowInSeries,\".format(lghrr-1), file=of)\n",
    "lgRS=math.ceil(math.log2(RS))\n",
    "if lgRS<=1:\n",
    "    print(\"output reg columnInSeries = 0,\", file=of)\n",
    "    print(\"output reg outSeries = 1,\", file=of)\n",
    "else:\n",
    "    print(\"output reg [{}:0] columnInSeries = 0,\".format(lgRS-1), file=of)\n",
    "    print(\"output reg [{}:0] outSeries = {},\".format(lgRS-1, RS-1), file=of)\n",
    "lgn=math.ceil(math.log2(N))\n",
    "al=-2+lgn\n",
    "if al==0:\n",
    "    print(\"output signed [(2*IN_WIDTH):0] \", end='',file=of)\n",
    "elif al<0:\n",
    "    print(\"output signed [(2*IN_WIDTH){}:0] \".format(al), end='',file=of)\n",
    "else:\n",
    "    print(\"output signed [(2*IN_WIDTH)+{}:0] \".format(al), end='',file=of)\n",
    "for i in range(PR):\n",
    "    print(\"Vo{}, \".format(i), end='',file=of)\n",
    "print(\"\\noutput \", end='',file=of)\n",
    "for i in range(PR):\n",
    "    print(\"newVo{}Ready, \".format(i), end='', file=of)\n",
    "print(\"\\noutput \", end='',file=of)\n",
    "for i in range(PR-1):\n",
    "    print(\"earlyNewVo{}Ready, \".format(i), end='', file=of)\n",
    "print(\"earlyNewVo{}Ready\".format(PR-1), file=of)\n",
    "print(\");\\n\", file=of)"
   ]
  },
  {
   "cell_type": "code",
   "execution_count": null,
   "metadata": {
    "collapsed": false
   },
   "outputs": [],
   "source": [
    "if (RS>1) and (_Enable_Vector_Latch>0):\n",
    "    print(\"reg signed [IN_WIDTH-1:0] \", end='', file=of)\n",
    "    for i in range(NMult-1):\n",
    "        print(\"SVi{}, \".format(i), end='', file=of)\n",
    "    print(\"SVi{};\".format(NMult-1), file=of)\n",
    "    print(file=of)"
   ]
  },
  {
   "cell_type": "code",
   "execution_count": null,
   "metadata": {
    "collapsed": false
   },
   "outputs": [],
   "source": [
    "ar=RS*PR-M\n",
    "if(ar>0): #RS*PR > M, RS>=2\n",
    "    print(\"reg inReadyC;\", file=of)\n",
    "print(\"wire DPnewOutReady;\", file=of)\n",
    "if(ar>0):\n",
    "    print(\"wire DPnewOutReadyC;\", file=of)\n",
    "print(\"wire DPearlyNewOutReady;\", file=of)\n",
    "if(ar>0):\n",
    "    print(\"wire DPearlyNewOutReadyC;\", file=of)\n",
    "print(file=of)\n",
    "\n",
    "for i in range (PR):\n",
    "    if al==0:\n",
    "        print(\"wire signed [(2*IN_WIDTH):0] DP{};\".format(i), file=of)\n",
    "    elif al<0:\n",
    "        print(\"wire signed [(2*IN_WIDTH){}:0] DP{};\".format(al, i), file=of)\n",
    "    else:\n",
    "        print(\"wire signed [(2*IN_WIDTH)+{}:0] DP{};\".format(al, i), file=of)\n",
    "    if(HRR==1):\n",
    "        print(\"DotProduct_noHR_{}_c{}#( .IN_WIDTH(IN_WIDTH), .INPUT_REG_DEPTH(INPUT_REG_DEPTH), .MULT_PIPE_DEPTH(MULT_PIPE_DEPTH) )\".format(N, MAMCS), file=of)\n",
    "    else:\n",
    "        print(\"DotProduct_HR_{}_x{}_p{}_c{}_series#( .IN_WIDTH(IN_WIDTH), .INPUT_REG_DEPTH(INPUT_REG_DEPTH), .MULT_PIPE_DEPTH(MULT_PIPE_DEPTH) )\".format(N, HRR, NMult, MAMCS), file=of)\n",
    "    print(\"\\tDP_{}(clk, reset, enable,\".format(i), file=of)\n",
    "    if(PR-i<=ar):\n",
    "        print(\"\\tinReadyC,\", file=of)\n",
    "    else:\n",
    "        print(\"\\tinReady,\", file=of)\n",
    "    print(\"\\t\", end='', file=of)\n",
    "    for j in range(NMult):\n",
    "        print(\"A{}r{}, \".format(j, i), end='', file=of)\n",
    "    print(file=of)\n",
    "    print(\"\\t\", end='', file=of)\n",
    "    if (RS>1) and (_Enable_Vector_Latch>0):\n",
    "        for j in range(NMult):\n",
    "            print(\"SVi{}, \".format(j), end='', file=of)\n",
    "    else:\n",
    "        for j in range(NMult):\n",
    "            print(\"Vi{}, \".format(j), end='', file=of)        \n",
    "    print(file=of)\n",
    "    if(HRR>1):\n",
    "        if i==0:\n",
    "            print(\"\\treadyForNewRowStart,\", file=of)\n",
    "            print(\"\\trowInSeries,\".format(i), file=of)\n",
    "        else:\n",
    "            print(\"\\tLLreadyForNewDataSeries{}, //not used\".format(i), file=of)\n",
    "            print(\"\\tLLinSeries{}, //not used\".format(i), file=of)\n",
    "    if i==0:\n",
    "        print(\"\\tDPnewOutReady,\", file=of)\n",
    "    elif i==PR-ar:\n",
    "        print(\"\\tDPnewOutReadyC,\", file=of)\n",
    "    else:\n",
    "        print(\"\\tDPnewOutReady{}, //not used\".format(i), file=of)\n",
    "    print(\"\\tVo{},\".format(i), file=of)\n",
    "    if i==0:\n",
    "        print(\"\\tDPearlyNewOutReady\\n\\t);\\n\", file=of)\n",
    "    elif i==PR-ar:\n",
    "        print(\"\\tDPearlyNewOutReadyC\\n\\t);\\n\", file=of)\n",
    "    else:\n",
    "        print(\"\\tDPearlyNewOutReady{} //not used\\n\\t);\\n\".format(i), file=of)"
   ]
  },
  {
   "cell_type": "code",
   "execution_count": null,
   "metadata": {
    "collapsed": false
   },
   "outputs": [],
   "source": [
    "if(RS>1):\n",
    "    if (_Enable_Vector_Latch>0):\n",
    "        print(\"reg signed [IN_WIDTH-1:0] \", end='', file=of)\n",
    "        for i in range(N-1):\n",
    "            print(\"LVi{}, \".format(i), end='', file=of)\n",
    "        print(\"LVi{};\".format(N-1), file=of)\n",
    "    print(\"always @(posedge clk) begin\", file=of)\n",
    "    print(\"\\tif(reset) begin\", file=of)\n",
    "    print(\"\\t\\tcolumnInSeries <= 0;\", file=of)\n",
    "    print(\"\\tend\", file=of)\n",
    "    print(\"\\telse if(enable) begin\", file=of)\n",
    "    print(\"\\t\\tif(inReady) begin\", file=of)\n",
    "    if(HRR>1):\n",
    "        print(\"\\t\\t\\tif(rowInSeries=={}) begin\".format(HRR-1), file=of)\n",
    "        print(\"\\t\", end='', file=of)\n",
    "    print(\"\\t\\t\\tif(columnInSeries=={}) begin\".format(RS-1), file=of)\n",
    "    if(HRR>1):\n",
    "        print(\"\\t\", end='', file=of)\n",
    "    print(\"\\t\\t\\t\\tcolumnInSeries <= 0;\", file=of)\n",
    "    if(HRR>1):\n",
    "        print(\"\\t\", end='', file=of)\n",
    "    print(\"\\t\\t\\tend\", file=of)\n",
    "    if(HRR>1):\n",
    "        print(\"\\t\", end='', file=of)\n",
    "    print(\"\\t\\t\\telse begin\", file=of)\n",
    "    if(HRR>1):\n",
    "        print(\"\\t\", end='', file=of)\n",
    "    if RS==2:\n",
    "        print(\"\\t\\t\\t\\tcolumnInSeries <= 1;\", file=of)    \n",
    "    else:\n",
    "        print(\"\\t\\t\\t\\tcolumnInSeries <= columnInSeries+1;\", file=of)\n",
    "    if(HRR>1):\n",
    "        print(\"\\t\\t\\t\\tend\", file=of)\n",
    "    print(\"\\t\\t\\tend\", file=of)\n",
    "    if (RS>1) and (_Enable_Vector_Latch>0):\n",
    "        print(\"\\t\\t\\tif(columnInSeries==0) begin\", file=of)\n",
    "        if(HRR>1):\n",
    "            print(\"\\t\\t\\t\\tcase(rowInSeries)\", file=of)\n",
    "        for i in range(HRR):\n",
    "            if(HRR>1):\n",
    "                print(\"\\t\\t\\t\\t\\t{}: begin\".format(i), file=of)\n",
    "                print(\"\\t\\t\", end='', file=of)\n",
    "            print(\"\\t\\t\\t\\t\", end='', file=of)\n",
    "            k=NMult*i-1\n",
    "            for j in range(NMult):\n",
    "                k=k+1\n",
    "                if k < N:\n",
    "                    print(\"LVi{} <= Vi{}; \".format(k,j), end='', file=of)\n",
    "            print(file=of)\n",
    "            if(HRR>1):\n",
    "                print(\"\\t\\t\\t\\t\\tend\", file=of)\n",
    "            if k >= N-1:\n",
    "                break\n",
    "        if(HRR>1):\n",
    "            print(\"\\t\\t\\t\\tendcase\", file=of)\n",
    "        print(\"\\t\\t\\tend\", file=of)\n",
    "    print(\"\\t\\tend\", file=of)\n",
    "    print(\"\\tend\", file=of)\n",
    "    print(\"end\\n\", file=of)"
   ]
  },
  {
   "cell_type": "code",
   "execution_count": null,
   "metadata": {
    "collapsed": false
   },
   "outputs": [],
   "source": [
    "if(RS>1):\n",
    "    print(\"always @(*) begin\", file=of)\n",
    "    if (_Enable_Vector_Latch>0):\n",
    "        print(\"\\tif(columnInSeries==0) begin\", file=of)\n",
    "        print(\"\\t\\t\", end='', file=of)\n",
    "        for j in range(NMult):\n",
    "            print(\"SVi{} = Vi{}; \".format(j,j), end='', file=of)\n",
    "        print(file=of)\n",
    "        print(\"\\tend\", file=of)\n",
    "        print(\"\\telse begin\", file=of)\n",
    "        if(HRR>1):\n",
    "            print(\"\\t\\tcase(rowInSeries)\", file=of)\n",
    "        for i in range(HRR):\n",
    "            if(HRR>1):\n",
    "                print(\"\\t\\t\\t{}: begin\".format(i), file=of)\n",
    "                print(\"\\t\\t\", end='', file=of)\n",
    "            print(\"\\t\\t\", end='', file=of)\n",
    "            k=NMult*i-1\n",
    "            for j in range(NMult):\n",
    "                k=k+1\n",
    "                if k >= N:\n",
    "                    print(\"SVi{} = 0; \".format(j), end='', file=of)            \n",
    "                else:\n",
    "                    print(\"SVi{} = LVi{}; \".format(j,k), end='', file=of)\n",
    "            print(file=of)\n",
    "            if(HRR>1):\n",
    "                print(\"\\t\\t\\tend\", file=of)\n",
    "        if(HRR>1):\n",
    "            print(\"\\t\\tendcase\", file=of)\n",
    "        print(\"\\tend\", file=of)\n",
    "    if(ar>0):\n",
    "        print(\"\\tif(columnInSeries=={}) begin\".format(RS-1), file=of)\n",
    "        print(\"\\t\\tinReadyC = 0;\", file=of)\n",
    "        print(\"\\tend\", file=of)\n",
    "        print(\"\\telse begin\", file=of)\n",
    "        print(\"\\t\\tinReadyC = inReady;\", file=of)    \n",
    "        print(\"\\tend\", file=of)\n",
    "    print(\"end\\n\", file=of)"
   ]
  },
  {
   "cell_type": "code",
   "execution_count": null,
   "metadata": {
    "collapsed": false
   },
   "outputs": [],
   "source": [
    "if(RS>1):\n",
    "    print(\"always @(posedge clk) begin\", file=of)\n",
    "    print(\"\\tif(reset) begin\", file=of)\n",
    "    print(\"\\t\\toutSeries <= {};\".format(RS-1), file=of)\n",
    "    print(\"\\tend\", file=of)\n",
    "    print(\"\\telse if(enable) begin\", file=of)\n",
    "    print(\"\\t\\tif(DPearlyNewOutReady) begin\", file=of)\n",
    "    print(\"\\t\\t\\tif(outSeries=={}) begin\".format(RS-1), file=of)\n",
    "    print(\"\\t\\t\\t\\toutSeries <= 0;\", file=of)\n",
    "    print(\"\\t\\t\\tend\", file=of)\n",
    "    print(\"\\t\\t\\telse begin\", file=of)\n",
    "    if RS==2:\n",
    "        print(\"\\t\\t\\t\\toutSeries <= 1;\", file=of)\n",
    "    else:\n",
    "        print(\"\\t\\t\\t\\toutSeries <= outSeries+1;\", file=of)\n",
    "    print(\"\\t\\t\\tend\", file=of)\n",
    "    print(\"\\t\\tend\", file=of)\n",
    "    print(\"\\tend\", file=of)\n",
    "    print(\"end\\n\", file=of)"
   ]
  },
  {
   "cell_type": "code",
   "execution_count": null,
   "metadata": {
    "collapsed": false
   },
   "outputs": [],
   "source": [
    "for i in range(PR-ar):\n",
    "    print(\"assign newVo{}Ready = DPnewOutReady;\".format(i), file=of)\n",
    "for i in range(PR-ar, PR):\n",
    "    print(\"assign newVo{}Ready = DPnewOutReadyC;\".format(i), file=of)\n",
    "print(file=of)\n",
    "for i in range(PR-ar):\n",
    "    print(\"assign earlyNewVo{}Ready = DPearlyNewOutReady;\".format(i), file=of)\n",
    "for i in range(PR-ar, PR):\n",
    "    print(\"assign earlyNewVo{}Ready = DPearlyNewOutReadyC;\".format(i), file=of)\n",
    "print(file=of)\n",
    "print(\"endmodule\", file=of)"
   ]
  },
  {
   "cell_type": "code",
   "execution_count": null,
   "metadata": {
    "collapsed": true
   },
   "outputs": [],
   "source": [
    "#of.close()"
   ]
  }
 ],
 "metadata": {
  "kernelspec": {
   "display_name": "Python 3",
   "language": "python",
   "name": "python3"
  },
  "language_info": {
   "codemirror_mode": {
    "name": "ipython",
    "version": 3
   },
   "file_extension": ".py",
   "mimetype": "text/x-python",
   "name": "python",
   "nbconvert_exporter": "python",
   "pygments_lexer": "ipython3",
   "version": "3.5.1"
  }
 },
 "nbformat": 4,
 "nbformat_minor": 0
}
