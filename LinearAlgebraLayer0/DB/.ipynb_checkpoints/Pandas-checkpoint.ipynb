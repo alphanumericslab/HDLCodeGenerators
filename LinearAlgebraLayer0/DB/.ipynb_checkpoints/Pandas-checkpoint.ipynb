{
 "cells": [
  {
   "cell_type": "code",
   "execution_count": 87,
   "metadata": {},
   "outputs": [
    {
     "data": {
      "text/html": [
       "<div>\n",
       "<table border=\"1\" class=\"dataframe\">\n",
       "  <thead>\n",
       "    <tr style=\"text-align: right;\">\n",
       "      <th></th>\n",
       "      <th>simulate_msg</th>\n",
       "      <th>simulate_time</th>\n",
       "      <th>simulate_time_unit</th>\n",
       "      <th>verilog_parameter</th>\n",
       "      <th>twr_clk</th>\n",
       "      <th>selected_device</th>\n",
       "      <th>slice_registers_used</th>\n",
       "      <th>slice_registers_available</th>\n",
       "      <th>slice_registers_util_percent</th>\n",
       "      <th>slice_LUTs_used</th>\n",
       "      <th>...</th>\n",
       "      <th>DSP48A1s_util_percent</th>\n",
       "      <th>min_period</th>\n",
       "      <th>min_period_unit</th>\n",
       "      <th>min_period_freq</th>\n",
       "      <th>min_period_freq_unit</th>\n",
       "      <th>max_input_arrive_time_before_clock</th>\n",
       "      <th>max_input_arrive_time_before_clock_unit</th>\n",
       "      <th>max_input_arrive_time_after_clock</th>\n",
       "      <th>max_input_arrive_time_after_clock_unit</th>\n",
       "      <th>max_comb_delay</th>\n",
       "    </tr>\n",
       "  </thead>\n",
       "  <tbody>\n",
       "    <tr>\n",
       "      <th>0</th>\n",
       "      <td>Succeeded</td>\n",
       "      <td>49.0</td>\n",
       "      <td>ns</td>\n",
       "      <td>_11_1_0</td>\n",
       "      <td>8.909</td>\n",
       "      <td>xc6slx150-3-fgg900</td>\n",
       "      <td>1886</td>\n",
       "      <td>184304</td>\n",
       "      <td>1</td>\n",
       "      <td>888</td>\n",
       "      <td>...</td>\n",
       "      <td>4</td>\n",
       "      <td>8.148</td>\n",
       "      <td>ns</td>\n",
       "      <td>122.73</td>\n",
       "      <td>MHz</td>\n",
       "      <td>1.903</td>\n",
       "      <td>ns</td>\n",
       "      <td>3.597</td>\n",
       "      <td>ns</td>\n",
       "      <td>No path found</td>\n",
       "    </tr>\n",
       "  </tbody>\n",
       "</table>\n",
       "<p>1 rows × 33 columns</p>\n",
       "</div>"
      ],
      "text/plain": [
       "  simulate_msg  simulate_time simulate_time_unit verilog_parameter  twr_clk  \\\n",
       "0    Succeeded           49.0                 ns           _11_1_0    8.909   \n",
       "\n",
       "      selected_device  slice_registers_used  slice_registers_available  \\\n",
       "0  xc6slx150-3-fgg900                  1886                     184304   \n",
       "\n",
       "   slice_registers_util_percent  slice_LUTs_used       ...        \\\n",
       "0                             1              888       ...         \n",
       "\n",
       "   DSP48A1s_util_percent  min_period  min_period_unit  min_period_freq  \\\n",
       "0                      4       8.148               ns           122.73   \n",
       "\n",
       "   min_period_freq_unit  max_input_arrive_time_before_clock  \\\n",
       "0                   MHz                               1.903   \n",
       "\n",
       "   max_input_arrive_time_before_clock_unit  max_input_arrive_time_after_clock  \\\n",
       "0                                       ns                              3.597   \n",
       "\n",
       "   max_input_arrive_time_after_clock_unit  max_comb_delay  \n",
       "0                                      ns   No path found  \n",
       "\n",
       "[1 rows x 33 columns]"
      ]
     },
     "execution_count": 87,
     "metadata": {},
     "output_type": "execute_result"
    }
   ],
   "source": [
    "# import pandas as pd\n",
    "# data = pd.read_sql_table('reported_values',DBengine)\n",
    "# data.head()"
   ]
  }
 ],
 "metadata": {
  "kernelspec": {
   "display_name": "Python 3",
   "language": "python",
   "name": "python3"
  },
  "language_info": {
   "codemirror_mode": {
    "name": "ipython",
    "version": 3
   },
   "file_extension": ".py",
   "mimetype": "text/x-python",
   "name": "python",
   "nbconvert_exporter": "python",
   "pygments_lexer": "ipython3",
   "version": "3.6.3"
  }
 },
 "nbformat": 4,
 "nbformat_minor": 2
}
