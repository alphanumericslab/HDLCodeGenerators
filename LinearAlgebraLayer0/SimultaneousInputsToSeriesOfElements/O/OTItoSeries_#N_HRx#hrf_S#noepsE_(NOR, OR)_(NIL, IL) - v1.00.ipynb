{
 "cells": [
  {
   "cell_type": "code",
   "execution_count": 1,
   "metadata": {
    "collapsed": false
   },
   "outputs": [],
   "source": [
    "import sys\n",
    "import math"
   ]
  },
  {
   "cell_type": "code",
   "execution_count": 2,
   "metadata": {
    "collapsed": false
   },
   "outputs": [
    {
     "name": "stdout",
     "output_type": "stream",
     "text": [
      "Enter No Of Elements Per Vectors (N): 10\n"
     ]
    }
   ],
   "source": [
    "#N>=2\n",
    "N = input('Enter No Of Elements Per Vectors (N): ')"
   ]
  },
  {
   "cell_type": "code",
   "execution_count": 3,
   "metadata": {
    "collapsed": false
   },
   "outputs": [
    {
     "name": "stdout",
     "output_type": "stream",
     "text": [
      "Enter HRR (empty for 2): 3\n"
     ]
    }
   ],
   "source": [
    "#HRR>=2\n",
    "HRR = input('Enter HRR (empty for 2): ')"
   ]
  },
  {
   "cell_type": "code",
   "execution_count": 4,
   "metadata": {
    "collapsed": false
   },
   "outputs": [],
   "source": [
    "N = int(N)\n",
    "if N<2:\n",
    "    N=2\n",
    "\n",
    "if not HRR:\n",
    "    HRR=2\n",
    "else:\n",
    "    HRR = int(HRR)\n",
    "    if HRR<2:\n",
    "        HRR=2\n",
    "    elif HRR>N:\n",
    "        HRR=N\n",
    "\n",
    "# NOEPSMin = math.ceil(N/HRR)\n",
    "# NOEPSMax = math.ceil(N/(HRR-1))-1\n",
    "# NOEPSMM = (NOEPSMin!=NOEPSMax)"
   ]
  },
  {
   "cell_type": "code",
   "execution_count": 5,
   "metadata": {
    "collapsed": false
   },
   "outputs": [],
   "source": [
    "#>=NOIPSMin, <=NOIPSMax\n",
    "# if NOEPSMM:\n",
    "#     NOEPS = input('Enter No Of Elements Per Series (>={}, <={}, empty for {}): '.format(NOEPSMin, NOEPSMax, NOEPSMin))"
   ]
  },
  {
   "cell_type": "code",
   "execution_count": 6,
   "metadata": {
    "collapsed": false
   },
   "outputs": [
    {
     "name": "stdout",
     "output_type": "stream",
     "text": [
      "Enable Output Registers? (empty or 0 to disable, 1 to enable): 1\n"
     ]
    }
   ],
   "source": [
    "Enable_Output_Registers = input('Enable Output Registers? (empty or 0 to disable, 1 to enable): ')"
   ]
  },
  {
   "cell_type": "code",
   "execution_count": 7,
   "metadata": {
    "collapsed": false
   },
   "outputs": [
    {
     "name": "stdout",
     "output_type": "stream",
     "text": [
      "Enable Input Latch? (empty or 0 to disable, 1 to enable): 1\n"
     ]
    }
   ],
   "source": [
    "Enable_Input_Latch = input('Enable Input Latch? (empty or 0 to disable, 1 to enable): ')"
   ]
  },
  {
   "cell_type": "code",
   "execution_count": 8,
   "metadata": {
    "collapsed": false
   },
   "outputs": [
    {
     "name": "stdout",
     "output_type": "stream",
     "text": [
      "Enter IN_WIDTH Default Value (empty for 10): \n"
     ]
    }
   ],
   "source": [
    "#IN_WIDTH>=1\n",
    "IN_WIDTH = input('Enter IN_WIDTH Default Value (empty for 10): ')"
   ]
  },
  {
   "cell_type": "code",
   "execution_count": 9,
   "metadata": {
    "collapsed": false
   },
   "outputs": [],
   "source": [
    "# if NOEPSMM:\n",
    "#     if not NOEPS:\n",
    "#         NOEPS=NOEPSMin\n",
    "#     else:\n",
    "#         NOEPS = int(NOEPS)\n",
    "#         if NOEPS<NOEPSMin:\n",
    "#             NOEPS=NOEPSMin\n",
    "#         elif NOEPS>NOEPSMax:\n",
    "#             NOEPS=NOEPSMax\n",
    "# else:\n",
    "#     NOEPS=NOEPSMin\n",
    "\n",
    "#chooses best value automatically\n",
    "NOEPS = math.ceil(N/HRR)\n",
    "\n",
    "if not Enable_Output_Registers:\n",
    "    Enable_Output_Registers=0\n",
    "else:\n",
    "    Enable_Output_Registers = int(Enable_Output_Registers)\n",
    "\n",
    "if not Enable_Input_Latch:\n",
    "    Enable_Input_Latch=0\n",
    "else:\n",
    "    Enable_Input_Latch = int(Enable_Input_Latch)\n",
    "\n",
    "if not IN_WIDTH:\n",
    "    IN_WIDTH=10\n",
    "else:\n",
    "    IN_WIDTH = int(IN_WIDTH)\n",
    "    if IN_WIDTH<1:\n",
    "        IN_WIDTH=1"
   ]
  },
  {
   "cell_type": "code",
   "execution_count": 10,
   "metadata": {
    "collapsed": true
   },
   "outputs": [],
   "source": [
    "ModuleName=\"OTItoSeries_{}_HRx{}_S{}E_\".format(N, HRR, NOEPS)\n",
    "if Enable_Output_Registers<=0:\n",
    "    ModuleName+=\"N\"\n",
    "ModuleName+=\"OR_\"\n",
    "if Enable_Input_Latch<=0:\n",
    "    ModuleName+=\"N\"\n",
    "ModuleName+=\"IL\""
   ]
  },
  {
   "cell_type": "code",
   "execution_count": 11,
   "metadata": {
    "collapsed": true
   },
   "outputs": [],
   "source": [
    "__Print_To_File = 0\n",
    "\n",
    "if __Print_To_File<=0:\n",
    "    of=sys.stdout\n",
    "else:\n",
    "    of=open(\"./\"+ModuleName+\".v\", 'w+')"
   ]
  },
  {
   "cell_type": "code",
   "execution_count": 12,
   "metadata": {
    "collapsed": false
   },
   "outputs": [
    {
     "name": "stdout",
     "output_type": "stream",
     "text": [
      "`timescale 1ns / 1ps\n",
      "\n",
      "module OTItoSeries_10_HRx3_S4E_OR_IL\n",
      "#(\n",
      "parameter IN_WIDTH = 10\n",
      ")(\n",
      "input clk, reset, enable,\n",
      "output reg readyForNewDataSeries = 1,\n",
      "output reg [1:0] inSeries = 0,\n",
      "input inReady,\n",
      "input signed [IN_WIDTH-1:0] A0, A1, A2, A3, A4, A5, A6, A7, A8, A9, \n",
      "output reg O0toO1OutReady = 0,\n",
      "output reg O2toO3OutReady = 0,\n",
      "output reg [1:0] outSeries = 2,\n",
      "output reg signed [IN_WIDTH-1:0] O0, O1, O2, O3, \n",
      "output O0toO1earlyOutReady,\n",
      "output O2toO3earlyOutReady\n",
      ");\n",
      "\n"
     ]
    }
   ],
   "source": [
    "print(\"`timescale 1ns / 1ps\\n\", file=of)\n",
    "print(\"module \"+ModuleName, file=of)\n",
    "print(\"#(\", file=of)\n",
    "print(\"parameter IN_WIDTH = {}\".format(IN_WIDTH), file=of)\n",
    "print(\")(\", file=of)\n",
    "print(\"input clk, reset, enable,\", file=of)\n",
    "print(\"output reg newInSeriesStart = 1,\", file=of)\n",
    "lghrr=math.ceil(math.log2(HRR))\n",
    "if lghrr==1:\n",
    "    print(\"output reg inSeries = 0,\", file=of)\n",
    "elif lghrr>1:\n",
    "    print(\"output reg [{}:0] inSeries = 0,\".format(lghrr-1), file=of)\n",
    "print(\"input inReady,\", file=of)\n",
    "print(\"input signed [IN_WIDTH-1:0] \", end='', file=of)\n",
    "for i in range(N):\n",
    "    print(\"A{}, \".format(i), end='', file=of)\n",
    "print(file=of)\n",
    "NE = N - NOEPS*(HRR-1)\n",
    "while NE<=0:\n",
    "    NE += NOEPS\n",
    "print(\"output \", end='', file=of)\n",
    "if Enable_Output_Registers>0:\n",
    "    print(\"reg \", end='', file=of)\n",
    "if NE==1:\n",
    "    print(\"O0OutReady\",  end='', file=of)\n",
    "else:\n",
    "    print(\"O0toO{}OutReady\".format(NE-1),  end='', file=of)\n",
    "if Enable_Output_Registers>0:\n",
    "    print(\" = 0,\", file=of)\n",
    "else:\n",
    "    print(\",\",file=of)\n",
    "if NE==NOEPS:\n",
    "    print(\"output reg ONOutReady=0, //not used\", file=of)\n",
    "else:\n",
    "    print(\"output \", end='', file=of)\n",
    "    if Enable_Output_Registers>0:\n",
    "        print(\"reg \", end='', file=of)\n",
    "    if NE==NOEPS-1:\n",
    "        print(\"O{}OutReady\".format(NE), end='', file=of)\n",
    "    else:\n",
    "        print(\"O{}toO{}OutReady\".format(NE, NOEPS-1), end='', file=of)\n",
    "    if Enable_Output_Registers>0:\n",
    "        print(\" = 0,\", file=of)\n",
    "    else:\n",
    "        print(\",\", file=of)\n",
    "print(\"output \", end='', file=of)\n",
    "if Enable_Output_Registers>0:\n",
    "    print(\"reg \", end='', file=of)\n",
    "if lghrr==1:\n",
    "    print(\"outSeries\", end='', file=of)\n",
    "elif lghrr>1:\n",
    "    print(\"[{}:0] outSeries\".format(lghrr-1),  end='', file=of)\n",
    "if Enable_Output_Registers>0:\n",
    "    print(\" = {},\".format(HRR-1), file=of)\n",
    "else:\n",
    "    print(\",\", file=of)\n",
    "print(\"output reg signed [IN_WIDTH-1:0] \", end='', file=of)\n",
    "for i in range(NOEPS):\n",
    "    print(\"O{}, \".format(i), end='', file=of)\n",
    "print(file=of)\n",
    "print(\"output \", end='', file=of)\n",
    "if Enable_Output_Registers<=0:\n",
    "    print(\"reg \", end='', file=of)\n",
    "if NE==1:\n",
    "    print(\"O0earlyOutReady\", end='', file=of)\n",
    "else:\n",
    "    print(\"O0toO{}earlyOutReady\".format(NE-1), end='', file=of)\n",
    "if Enable_Output_Registers<=0:\n",
    "    print(\" = 0, //not used\", file=of)\n",
    "else:\n",
    "    print(\",\", file=of)\n",
    "if NE==NOEPS:\n",
    "    print(\"output reg ONearlyOutReady=0 //not used\", file=of)\n",
    "else:\n",
    "    print(\"output \", end='', file=of)\n",
    "    if Enable_Output_Registers<=0:\n",
    "        print(\"reg \", end='', file=of)\n",
    "    if NE==NOEPS-1:\n",
    "        print(\"O{}earlyOutReady\".format(NE), end='', file=of)\n",
    "    else:\n",
    "        print(\"O{}toO{}earlyOutReady\".format(NE, NOEPS-1), end='', file=of)\n",
    "    if Enable_Output_Registers<=0:\n",
    "        print(\" = 0 //not used\", file=of)\n",
    "    else:\n",
    "        print(file=of)\n",
    "print(\");\\n\", file=of)"
   ]
  },
  {
   "cell_type": "code",
   "execution_count": 13,
   "metadata": {
    "collapsed": false
   },
   "outputs": [
    {
     "name": "stdout",
     "output_type": "stream",
     "text": [
      "O0toO1earlyOutReady = ((inSeries==0) & inReady) | (inSeries!=0);\n",
      "O2toO3earlyOutReady = ((inSeries==0) & inReady) | ((inSeries!=0) & (inSeries!=2));\n"
     ]
    }
   ],
   "source": [
    "#(inSeries==0) ? inReady : 1\n",
    "if NE==1:\n",
    "    print(\"assign O0\", end='', file=of)\n",
    "else:\n",
    "    print(\"assign O0toO{}\".format(NE-1), end='', file=of)\n",
    "if Enable_Output_Registers>0:\n",
    "    print(\"early\", end='', file=of)\n",
    "print(\"OutReady = \", end='', file=of)\n",
    "if Enable_Input_Latch>0:\n",
    "    print(\"((inSeries==0) & inReady) | (inSeries!=0);\", file=of)\n",
    "else:\n",
    "    print(\"inReady;\", file=of)\n",
    "\n",
    "if NE!=NOEPS:\n",
    "    if NE==NOEPS-1:\n",
    "        print(\"assign O{}\".format(NE), end='', file=of)\n",
    "    else:\n",
    "        print(\"assign O{}toO{}\".format(NE, NOEPS-1), end='', file=of)\n",
    "    if Enable_Output_Registers>0:\n",
    "        print(\"early\", end='', file=of)\n",
    "    print(\"OutReady = \", end='', file=of)\n",
    "    if HRR==2:\n",
    "        print(\"(inSeries==0) & inReady;\", file=of) #inSeries!=1\n",
    "    else:\n",
    "        if Enable_Input_Latch<=0:\n",
    "            print(\"(inSeries!={}) & inReady;\".format(HRR-1), file=of)\n",
    "        else:\n",
    "            #if HRR==3:\n",
    "            #    print(\"((inSeries==0) & inReady) | (inSeries==1);\".format(HRR-1), file=of)\n",
    "            #else:\n",
    "                print(\"((inSeries==0) & inReady) | ((inSeries!=0) & (inSeries!={}));\".format(HRR-1), file=of)"
   ]
  },
  {
   "cell_type": "code",
   "execution_count": 14,
   "metadata": {
    "collapsed": false
   },
   "outputs": [
    {
     "name": "stdout",
     "output_type": "stream",
     "text": [
      "always @(posedge clk) begin\n",
      "\tif(reset) begin\n",
      "\t\treadyForNewDataSeries <= 1;\n",
      "\t\tinSeries <= 0;\n",
      "\tend\n",
      "\telse if(enable) begin\n",
      "\t\tif(inSeries==0) begin\n",
      "\t\t\tif(inReady) begin\n",
      "\t\t\t\treadyForNewDataSeries <= 0;\n",
      "\t\t\t\tinSeries <= 1;\n",
      "\t\t\tend\n",
      "\t\tend\n",
      "\t\telse if(inSeries==2) begin\n",
      "\t\t\treadyForNewDataSeries <= 1;\n",
      "\t\t\tinSeries <= 0;\n",
      "\t\tend\n",
      "\t\telse begin\n",
      "\t\t\tinSeries <= 2;\n",
      "\t\tend\n",
      "\tend\n",
      "end\n",
      "\n"
     ]
    }
   ],
   "source": [
    "# print(\"always @(posedge clk) begin\", file=of)\n",
    "# print(\"\\tif(reset) begin\", file=of)\n",
    "# print(\"\\t\\tnewInSeriesStart <= 1;\", file=of)\n",
    "# print(\"\\t\\tinSeries <= 0;\", file=of)\n",
    "# print(\"\\tend\", file=of)\n",
    "# print(\"\\telse if(enable\", end='', file=of)\n",
    "# if Enable_Input_Latch<=0:\n",
    "#     print(\" & inReady\", end='', file=of)\n",
    "# print(\") begin\", file=of)\n",
    "# print(\"\\t\\tif(inSeries==0) begin\", file=of)\n",
    "# if Enable_Input_Latch>0:\n",
    "#     print(\"\\t\\t\\tif(inReady) begin\", file=of)\n",
    "#     print(\"\\t\", end='', file=of)\n",
    "# print(\"\\t\\t\\tnewInSeriesStart <= 0;\", file=of)\n",
    "# if Enable_Input_Latch>0:\n",
    "#     print(\"\\t\", end='', file=of)\n",
    "# print(\"\\t\\t\\tinSeries <= 1;\", file=of)\n",
    "# if Enable_Input_Latch>0:\n",
    "#     print(\"\\t\\t\\tend\", file=of)\n",
    "# print(\"\\t\\tend\", file=of)\n",
    "# print(\"\\t\\telse\", end='', file=of)\n",
    "# if HRR>2:\n",
    "#     print(\" if(inSeries=={})\".format(HRR-1), end='', file=of)\n",
    "# print(\" begin\", file=of)\n",
    "# print(\"\\t\\t\\tnewInSeriesStart <= 1;\", file=of)\n",
    "# print(\"\\t\\t\\tinSeries <= 0;\", file=of)\n",
    "# print(\"\\t\\tend\", file=of)\n",
    "# if HRR>2:\n",
    "#     print(\"\\t\\telse begin\", file=of)\n",
    "#     if HRR==3:\n",
    "#         print(\"\\t\\t\\tinSeries <= 2;\", file=of)        \n",
    "#     else:\n",
    "#         print(\"\\t\\t\\tinSeries <= inSeries+1;\", file=of)\n",
    "#     print(\"\\t\\tend\", file=of)\n",
    "# print(\"\\tend\", file=of)\n",
    "# print(\"end\", file=of)\n",
    "# print(file=of)"
   ]
  },
  {
   "cell_type": "code",
   "execution_count": 21,
   "metadata": {
    "collapsed": false
   },
   "outputs": [
    {
     "name": "stdout",
     "output_type": "stream",
     "text": [
      "always @(posedge clk) begin\n",
      "\tif(reset) begin\n",
      "\t\treadyForNewDataSeries <= 1;\n",
      "\t\tinSeries <= 0;\n",
      "\tend\n",
      "\telse if(enable & (inReady | (inSeries!=0))) begin\n",
      "\t\tif(inSeries==2) begin\n",
      "\t\t\treadyForNewDataSeries <= 1;\n",
      "\t\t\tinSeries <= 0;\n",
      "\t\tend\n",
      "\t\telse begin\n",
      "\t\t\treadyForNewDataSeries <= 0;\n",
      "\t\t\tinSeries <= inSeries+1;\n",
      "\t\tend\n",
      "\tend\n",
      "end\n",
      "\n"
     ]
    }
   ],
   "source": [
    "print(\"always @(posedge clk) begin\", file=of)\n",
    "print(\"\\tif(reset) begin\", file=of)\n",
    "print(\"\\t\\tnewInSeriesStart <= 1;\", file=of)\n",
    "print(\"\\t\\tinSeries <= 0;\", file=of)\n",
    "print(\"\\tend\", file=of)\n",
    "print(\"\\telse if(enable & \", end='', file=of)\n",
    "if Enable_Input_Latch<=0:\n",
    "    print(\"inReady\", end='', file=of)\n",
    "else:\n",
    "    print(\"(inReady | (inSeries!=0))\", end='', file=of)\n",
    "print(\") begin\", file=of)\n",
    "print(\"\\t\\tif(inSeries=={}) begin\".format(HRR-1), file=of)\n",
    "print(\"\\t\\t\\tnewInSeriesStart <= 1;\", file=of)\n",
    "print(\"\\t\\t\\tinSeries <= 0;\", file=of)\n",
    "print(\"\\t\\tend\", file=of)\n",
    "print(\"\\t\\telse begin\", file=of)\n",
    "print(\"\\t\\t\\tnewInSeriesStart <= 0;\", file=of)\n",
    "if HRR==2:\n",
    "    print(\"\\t\\t\\tinSeries <= 1;\", file=of)    \n",
    "else:\n",
    "    print(\"\\t\\t\\tinSeries <= inSeries+1;\", file=of)\n",
    "print(\"\\t\\tend\", file=of)\n",
    "print(\"\\tend\", file=of)\n",
    "print(\"end\", file=of)\n",
    "print(file=of)"
   ]
  },
  {
   "cell_type": "code",
   "execution_count": 16,
   "metadata": {
    "collapsed": false
   },
   "outputs": [
    {
     "name": "stdout",
     "output_type": "stream",
     "text": [
      "reg signed [IN_WIDTH-1:0] A4l, A5l, A6l, A7l, A8l, A9l;\n",
      "always @(posedge clk) begin\n",
      "\tif(enable) begin\n",
      "\t\tif(inReady & (inSeries==0)) begin\n",
      "\t\t\tA4l <= A4; A5l <= A5; A6l <= A6; A7l <= A7; A8l <= A8; A9l <= A9; \n",
      "\t\tend\n",
      "\tend\n",
      "end\n",
      "\n"
     ]
    }
   ],
   "source": [
    "if Enable_Input_Latch>0:\n",
    "    print(\"reg signed [IN_WIDTH-1:0] \", end='', file=of)\n",
    "    for i in range(NOEPS,N-1):\n",
    "        print(\"A{}l, \".format(i), end='', file=of)\n",
    "    print(\"A{}l;\".format(N-1), file=of)\n",
    "    print(\"always @(posedge clk) begin\", file=of)\n",
    "    print(\"\\tif(enable) begin\", file=of)\n",
    "    print(\"\\t\\tif(inReady & (inSeries==0)) begin\", file=of)\n",
    "    print(\"\\t\\t\\t\", end='', file=of)\n",
    "    for i in range(NOEPS,N):\n",
    "        print(\"A{}l <= A{}; \".format(i, i), end='', file=of)\n",
    "    print(\"\\n\\t\\tend\", file=of)\n",
    "    print(\"\\tend\", file=of)\n",
    "    print(\"end\", file=of)\n",
    "    print(file=of)"
   ]
  },
  {
   "cell_type": "code",
   "execution_count": 17,
   "metadata": {
    "collapsed": false
   },
   "outputs": [
    {
     "name": "stdout",
     "output_type": "stream",
     "text": [
      "always @(posedge clk) if(enable) begin\n",
      "\tif(O0toO1earlyOutReady) begin\n",
      "\tcase(inSeries)\n",
      "\t\t0: begin\n",
      "\t\t\tO0 <= A0; O1 <= A1; O2 <= A2; O3 <= A3; \n",
      "\t\tend\n",
      "\t\t1: begin\n",
      "\t\t\tO0 <= A4l; O1 <= A5l; O2 <= A6l; O3 <= A7l; \n",
      "\t\tend\n",
      "\t\t2: begin\n",
      "\t\t\tO0 <= A8l; O1 <= A9l; O2 <= 0; O3 <= 0; \n",
      "\t\tend\n",
      "\tendcase\n",
      "\tend\n",
      "\tO0toO1OutReady <= O0toO1earlyOutReady;\n",
      "\tO2toO3OutReady <= O2toO3earlyOutReady;\n",
      "end\n",
      "\n"
     ]
    }
   ],
   "source": [
    "if Enable_Output_Registers>0:\n",
    "    print(\"always @(posedge clk) if(enable) begin\", file=of)\n",
    "    if NE==1:\n",
    "        print(\"\\tif(O0earlyOutReady) begin\", file=of)\n",
    "    else:\n",
    "        print(\"\\tif(O0toO{}earlyOutReady) begin\".format(NE-1), file=of)\n",
    "else:\n",
    "    print(\"always @(*) begin\", file=of)\n",
    "print(\"\\tcase(inSeries)\", file=of)\n",
    "for i in range(HRR):\n",
    "#     if i==0:\n",
    "#         print(\"\\t\\t0: \", end='', file=of)\n",
    "#         if Enable_Output_Registers>0:\n",
    "#              print(\"if(inReady) \", end='', file=of)\n",
    "#         print(\"begin\", file=of) #currently more power efficient, can use \"begin\" for simpler hardware\n",
    "#     else:\n",
    "#         print(\"\\t\\t{}: begin\".format(i), file=of)\n",
    "    print(\"\\t\\t{}: begin\".format(i), file=of)\n",
    "    print(\"\\t\\t\\t\", end='', file=of)\n",
    "    for j in range(NOEPS):\n",
    "        print(\"O{} \".format(j), end='', file=of)\n",
    "        if Enable_Output_Registers>0:\n",
    "            print(\"<\", end='', file=of)\n",
    "        k=NOEPS*i+j\n",
    "        if k >= N:\n",
    "            print(\"= 0; \", end='', file=of)\n",
    "        elif k<NOEPS:\n",
    "            print(\"= A{}; \".format(k), end='', file=of)\n",
    "        else:\n",
    "            print(\"= A{}\".format(k), end='', file=of)\n",
    "            if Enable_Input_Latch>0:\n",
    "                print(\"l\", end='', file=of)\n",
    "            print(\"; \", end='', file=of)\n",
    "    print(file=of)\n",
    "    print(\"\\t\\tend\", file=of)\n",
    "if Enable_Output_Registers<=0 and (HRR & (HRR-1)) != 0: #check if HRR is not power of 2\n",
    "    print(\"\\t\\tdefault: begin\".format(k), file=of)\n",
    "    print(\"\\t\\t\\t\", end='', file=of)\n",
    "    for j in range(NOEPS):\n",
    "        print(\"O{} = 0; \".format(j), end='', file=of)\n",
    "    print(file=of)\n",
    "    print(\"\\t\\tend\", file=of)\n",
    "print(\"\\tendcase\", file=of)\n",
    "if Enable_Output_Registers>0:\n",
    "    print(\"\\tend\", file=of)\n",
    "    if NE==1:\n",
    "        print(\"\\tO0OutReady <= O0earlyOutReady;\", file=of)\n",
    "    else:\n",
    "        print(\"\\tO0toO{}OutReady <= O0toO{}earlyOutReady;\".format(NE-1, NE-1), file=of)\n",
    "    if NE==NOEPS-1:\n",
    "        print(\"\\tO{}OutReady <= O{}earlyOutReady;\".format(NE, NE), file=of)\n",
    "    elif NE!=NOEPS:\n",
    "        print(\"\\tO{}toO{}OutReady <= O{}toO{}earlyOutReady;\".format(NE, NOEPS-1, NE, NOEPS-1), file=of)\n",
    "print(\"end\\n\", file=of)"
   ]
  },
  {
   "cell_type": "code",
   "execution_count": 18,
   "metadata": {
    "collapsed": false
   },
   "outputs": [
    {
     "name": "stdout",
     "output_type": "stream",
     "text": [
      "always @(posedge clk) begin\n",
      "\tif(reset) begin\n",
      "\t\toutSeries <= 2;\n",
      "\tend\n",
      "\telse if(enable & O0toO1earlyOutReady) begin\n",
      "\t\tif(outSeries==2) begin\n",
      "\t\t\toutSeries <= 0;\n",
      "\t\tend\n",
      "\t\telse begin\n",
      "\t\t\tinSeries <= inSeries+1;\n",
      "\t\tend\n",
      "\tend\n",
      "end\n",
      "\n"
     ]
    }
   ],
   "source": [
    "if Enable_Output_Registers<=0:\n",
    "    print(\"assign outSeries = inSeries;\", file=of)\n",
    "else:\n",
    "    print(\"always @(posedge clk) begin\", file=of)\n",
    "    print(\"\\tif(reset) begin\", file=of)\n",
    "    print(\"\\t\\toutSeries <= {};\".format(HRR-1), file=of)\n",
    "    print(\"\\tend\", file=of)\n",
    "    print(\"\\telse if(enable & \", end='', file=of)    \n",
    "    if NE==1:\n",
    "        print(\"O0earlyOutReady\", end='', file=of)\n",
    "    else:\n",
    "        print(\"O0toO{}earlyOutReady\".format(NE-1), end='', file=of)\n",
    "    print(\") begin\", file=of)    \n",
    "    #if HRR==2:\n",
    "    #    print(\"\\t\\toutSeries <= ~outSeries;\", file=of)\n",
    "    #else:\n",
    "    print(\"\\t\\tif(outSeries=={}) begin\".format(HRR-1), file=of)\n",
    "    print(\"\\t\\t\\toutSeries <= 0;\", file=of)\n",
    "    print(\"\\t\\tend\", file=of)\n",
    "    print(\"\\t\\telse begin\", file=of)\n",
    "    if HRR==2:\n",
    "        print(\"\\t\\t\\toutSeries <= 1;\", file=of)        \n",
    "    else:\n",
    "        print(\"\\t\\t\\toutSeries <= outSeries+1;\", file=of)\n",
    "    print(\"\\t\\tend\", file=of)\n",
    "    print(\"\\tend\", file=of)\n",
    "    print(\"end\", file=of)\n",
    "print(file=of)"
   ]
  },
  {
   "cell_type": "code",
   "execution_count": 19,
   "metadata": {
    "collapsed": false
   },
   "outputs": [
    {
     "name": "stdout",
     "output_type": "stream",
     "text": [
      "endmodule\n"
     ]
    }
   ],
   "source": [
    "print(\"endmodule\", file=of)"
   ]
  },
  {
   "cell_type": "code",
   "execution_count": 20,
   "metadata": {
    "collapsed": false
   },
   "outputs": [],
   "source": [
    "if __Print_To_File>0:\n",
    "    of.close()"
   ]
  }
 ],
 "metadata": {
  "kernelspec": {
   "display_name": "Python 3",
   "language": "python",
   "name": "python3"
  },
  "language_info": {
   "codemirror_mode": {
    "name": "ipython",
    "version": 3
   },
   "file_extension": ".py",
   "mimetype": "text/x-python",
   "name": "python",
   "nbconvert_exporter": "python",
   "pygments_lexer": "ipython3",
   "version": "3.5.1"
  }
 },
 "nbformat": 4,
 "nbformat_minor": 0
}
