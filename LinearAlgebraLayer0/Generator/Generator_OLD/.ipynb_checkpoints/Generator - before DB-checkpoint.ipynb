{
 "cells": [
  {
   "cell_type": "code",
   "execution_count": 1,
   "metadata": {},
   "outputs": [],
   "source": [
    "#Note: Can add synthesis params (like use_dsp48) as 3rd series params"
   ]
  },
  {
   "cell_type": "code",
   "execution_count": 2,
   "metadata": {},
   "outputs": [],
   "source": [
    "#HRR_mode: noHR only (1), noHR or SoE_HR (2), SoE_HR only (3), SI (4)\n",
    "#N start: 1, 1, 2, 2\n",
    "#1: no HRR and NOEPS, 2 and 3: NOEPS given, HRR calculated, 4: HRR given and corrected if needed, NOEPS calculated"
   ]
  },
  {
   "cell_type": "code",
   "execution_count": 3,
   "metadata": {},
   "outputs": [
    {
     "name": "stdout",
     "output_type": "stream",
     "text": [
      "importing Jupyter notebook from REGISTERED_Generator.ipynb\n",
      "importing Jupyter notebook from MatrixMatrixMultiply_SI_V1_2.ipynb\n",
      "importing Jupyter notebook from SItoSoE_V1_10.ipynb\n",
      "importing Jupyter notebook from MatrixMatrixMultiply_SoE_V1_1.ipynb\n",
      "importing Jupyter notebook from MatrixVectorMultiply_SoE_V2_5.ipynb\n",
      "importing Jupyter notebook from DotProduct_SoE_V4_5.ipynb\n",
      "importing Jupyter notebook from DotProduct_Systolic_V1_11.ipynb\n",
      "importing Jupyter notebook from DotProduct_noHR_M_V3_7.ipynb\n",
      "importing Jupyter notebook from RegisteredNto1Adder_V1_1.ipynb\n",
      "importing Jupyter notebook from DotProduct_noHR_C_V3_7.ipynb\n",
      "importing Jupyter notebook from AdderTree_ASm_V1_20.ipynb\n",
      "importing Jupyter notebook from MatrixMatrixMultiply_SI_testbench_F_v1_0.ipynb\n",
      "importing Jupyter notebook from MatrixAdd_SI_V1_2.ipynb\n",
      "importing Jupyter notebook from VectorAdd_SI_V1_2.ipynb\n",
      "importing Jupyter notebook from VectorAdd_noHR_SoE_V1_12.ipynb\n",
      "importing Jupyter notebook from MatrixAdd_SI_testbench_F_v1_0.ipynb\n"
     ]
    }
   ],
   "source": [
    "import sys\n",
    "import math\n",
    "import subprocess\n",
    "import shutil\n",
    "import random\n",
    "import datetime\n",
    "import os\n",
    "\n",
    "import import_ipynb\n",
    "from REGISTERED_Generator import REGISTERED_Gen\n",
    "\n",
    "from MatrixMatrixMultiply_SI_V1_2 import MatrixMatrixMultiply_SI\n",
    "# from MatrixMatrixMultiply_SoE_V1_1 import MatrixMatrixMultiply_SoE\n",
    "\n",
    "# from MatrixVectorMultiply_SoE_V2_5 import MatrixVectorMultiply_SoE\n",
    "# from DotProduct_SoE_V4_5 import DotProduct_SoE\n",
    "\n",
    "# from SItoSoE_V1_10 import SItoSoE\n",
    "\n",
    "from MatrixMatrixMultiply_SI_testbench_F_v1_0 import MatrixMatrixMultiply_SI_testbench_F\n",
    "\n",
    "from MatrixAdd_SI_V1_2 import MatrixAdd_SI\n",
    "\n",
    "from MatrixAdd_SI_testbench_F_v1_0 import MatrixAdd_SI_testbench_F"
   ]
  },
  {
   "cell_type": "code",
   "execution_count": 4,
   "metadata": {},
   "outputs": [],
   "source": [
    "# # re_import after changes\n",
    "# del sys.modules['MatrixAdd_SI_testbench_F_v1_0']\n",
    "# from MatrixAdd_SI_testbench_F_v1_0 import MatrixAdd_SI_testbench_F"
   ]
  },
  {
   "cell_type": "code",
   "execution_count": 5,
   "metadata": {},
   "outputs": [],
   "source": [
    "# def CEIL(a,b):\n",
    "#     return (a+b-1)//b"
   ]
  },
  {
   "cell_type": "code",
   "execution_count": 6,
   "metadata": {},
   "outputs": [],
   "source": [
    "#read-only globals: NoOfParameters, HRRmode, Print_To_File, Files_Location\n",
    "#writed globals: parameters_result\n",
    "def generate_params(i):\n",
    "    global NoOfAllParametersResults, NOEPS\n",
    "    if i==NoOfParameters:\n",
    "        NoOfAllParametersResults += 1\n",
    "        ListOfAllParametersResults.append(parameters_result.copy())\n",
    "        return\n",
    "    \n",
    "#     print(i,parameters[i])\n",
    "    param = parameters[i]\n",
    "    vals = parameters_values[param]\n",
    "    start = vals[0]\n",
    "    end = vals[1]\n",
    "    if param == \"N\":\n",
    "        for val in range(start,end+1):\n",
    "            parameters_result[param] = val\n",
    "            generate_params(i+1)\n",
    "    elif param in [\"M\",\"Q\"]:\n",
    "        for val in range(start,end+1):\n",
    "            parameters_result[param] = val\n",
    "            generate_params(i+1)\n",
    "    elif param == \"PR\":\n",
    "        for val in range(start,min(end,parameters_result['M'])+1):\n",
    "            parameters_result[\"PR\"] = val\n",
    "            generate_params(i+1)\n",
    "    elif param == \"PC\":\n",
    "        for val in range(start,min(end,parameters_result['Q'])+1):\n",
    "            parameters_result[\"PC\"] = val\n",
    "            generate_params(i+1)\n",
    "    elif param == \"HRR\":\n",
    "        for val in range(start,min(end,parameters_result['N'])+1):\n",
    "            NOEPS_check = math.ceil(parameters_result[\"N\"]/val)\n",
    "            if math.ceil(parameters_result[\"N\"]/NOEPS_check) == val:\n",
    "                parameters_result[\"HRR\"] = val\n",
    "                generate_params(i+1)\n",
    "            #else HRR is not valid\n",
    "    elif param == \"NOEPS\":\n",
    "        if HRRmode == 2:\n",
    "            endH = parameters_result[\"N\"]\n",
    "        elif HRRmode == 3:\n",
    "            endH = parameters_result[\"N\"]-1\n",
    "        for val in range(start,min(end,endH)+1):\n",
    "                parameters_result[\"NOEPS\"] = val\n",
    "                generate_params(i+1)\n",
    "    elif param == \"MAMCS\":\n",
    "        if HRRmode == 1:\n",
    "            NOEPS = parameters_result[\"N\"]\n",
    "        elif HRRmode in [2,3]:\n",
    "            NOEPS = parameters_result[\"NOEPS\"]\n",
    "        elif HRRmode == 4:\n",
    "            NOEPS = math.ceil(parameters_result[\"N\"]/parameters_result[\"HRR\"])\n",
    "        for val in range(start,min(end,NOEPS)+1):\n",
    "            parameters_result[\"MAMCS\"] = val\n",
    "            generate_params(i+1)\n",
    "    elif param == \"ADDER_SIZE\":\n",
    "        if parameters_result[\"MAMCS\"] == NOEPS:\n",
    "            parameters_result[\"ADDER_SIZE\"] = 0\n",
    "            generate_params(i+1)\n",
    "        else: #MAMCS < NOEPS\n",
    "            for val in range(start,min(end,math.ceil(NOEPS/parameters_result[\"MAMCS\"]))+1):\n",
    "                parameters_result[\"ADDER_SIZE\"] = val\n",
    "                generate_params(i+1)\n",
    "    elif param == \"ENABLE_COLUMN_LATCH\":\n",
    "        if math.ceil(parameters_result[\"M\"]/parameters_result[\"PR\"]) == 1:\n",
    "            parameters_result[\"ENABLE_COLUMN_LATCH\"] = 0\n",
    "            generate_params(i+1)\n",
    "        else:\n",
    "            for val in range(start,end+1):\n",
    "                parameters_result[\"ENABLE_COLUMN_LATCH\"] = val\n",
    "                generate_params(i+1)\n",
    "    elif param == \"ENABLE_ROW_LATCH\":\n",
    "        if math.ceil(parameters_result[\"Q\"]/parameters_result[\"PC\"]) == 1:\n",
    "            parameters_result[\"ENABLE_ROW_LATCH\"] = 0\n",
    "            generate_params(i+1)\n",
    "        else:\n",
    "            for val in range(start,end+1):\n",
    "                parameters_result[\"ENABLE_ROW_LATCH\"] = val\n",
    "                generate_params(i+1)\n",
    "    elif param in [\"ENABLE_INPUT_REGISTERS\",\"ENABLE_INPUT_LATCH\",\"ENABLE_SIM_OUTPUT_REGISTERS\"]:\n",
    "        for val in range(start,end+1):\n",
    "            parameters_result[param] = val\n",
    "            generate_params(i+1)"
   ]
  },
  {
   "cell_type": "code",
   "execution_count": 7,
   "metadata": {},
   "outputs": [],
   "source": [
    "def work_on_random_results_CPU_Core():\n",
    "    global NoOfVResultsT, NoOfCPUCoreResults, parameters_result_current\n",
    "    \n",
    "    CPUCoreCounter = 0\n",
    "    \n",
    "    for index in RandomIndices:\n",
    "        if CPUCoreCounter==thisCPUCore:\n",
    "            NoOfCPUCoreResults += 1\n",
    "            \n",
    "            parameters_result_current = ListOfAllParametersResults[index]\n",
    "\n",
    "            if print_result_flag:\n",
    "                print(\"{}:\".format(index))\n",
    "                print(\"Parameters: \", end='')\n",
    "                print(parameters_result_current)\n",
    "                print(\"{}:\".format(index), file=report_file)\n",
    "                print(\"Parameters: \", end='', file=report_file)\n",
    "                print(parameters_result_current, file=report_file)\n",
    "            \n",
    "            if make_base_files_flag:\n",
    "                make_files()\n",
    "                NoOfVResultsT += NoOfVResults\n",
    "            \n",
    "            if print_result_flag or make_base_files_flag:\n",
    "                print()\n",
    "                print(file=report_file)\n",
    "                report_file.flush()\n",
    "                os.fsync(report_file.fileno())\n",
    "\n",
    "        if CPUCoreCounter==(CPUCoresCount-1):\n",
    "            CPUCoreCounter=0\n",
    "        else:\n",
    "            CPUCoreCounter+=1"
   ]
  },
  {
   "cell_type": "code",
   "execution_count": 8,
   "metadata": {},
   "outputs": [],
   "source": [
    "def make_files():\n",
    "    global top, Current_Files_Location, modules, ListOfAllVerilogParametersResults, NoOfAllVerilogParametersResults\n",
    "    modules = {}\n",
    "    top = function(parameters_result_current, Print_To_File, Files_Location, 1, modules)\n",
    "    print(\"Project name: \"+top)\n",
    "    print(\"Modules: \", end='')\n",
    "    print(modules)\n",
    "    print(\"Project name: \"+top, file=report_file)\n",
    "    print(\"Modules: \", end='', file=report_file)\n",
    "    print(modules, file=report_file)\n",
    "    Current_Files_Location = Files_Location+top+\"/\"\n",
    "    REGISTERED_Gen(top, Print_To_File, Current_Files_Location)\n",
    "    make_prj()\n",
    "    make_tcl()\n",
    "    if make_Synthesize_files_flag or (has_testbench and make_Simulate_files_flag):\n",
    "        select_and_work_on_verilog_params()"
   ]
  },
  {
   "cell_type": "code",
   "execution_count": 9,
   "metadata": {},
   "outputs": [],
   "source": [
    "def make_prj():\n",
    "    with open(Current_Files_Location+top+\"_REGISTERED.prj\",\"w\") as prj_file:\n",
    "        print(\"verilog work \\\"\"+top+\"_REGISTERED.v\\\"\", file=prj_file)\n",
    "        for module in modules:\n",
    "            print(\"verilog work \\\"\"+module+\".v\\\"\", file=prj_file)"
   ]
  },
  {
   "cell_type": "code",
   "execution_count": 10,
   "metadata": {},
   "outputs": [],
   "source": [
    "def make_tcl():\n",
    "    \n",
    "#     if Print_To_File<=0:\n",
    "#         tcl_file=sys.stdout\n",
    "#     else:\n",
    "#         tcl_file=open(Current_Files_Location+top+\".tcl\", \"w\")\n",
    "\n",
    "    with open(Current_Files_Location+top+\".tcl\", \"w\") as tcl_file:\n",
    "\n",
    "        print(\"set myProject \\\"\"+top+\"\\\"\\n\", file=tcl_file)\n",
    "\n",
    "        print(\"proc set_project_props {} {\", file=tcl_file)\n",
    "        print(\"\\tproject set family \\\"\"+family+\"\\\"\", file=tcl_file)\n",
    "        print(\"\\tproject set device \\\"\"+device+\"\\\"\", file=tcl_file)\n",
    "        print(\"\\tproject set package \\\"\"+package+\"\\\"\", file=tcl_file)\n",
    "        print(\"\\tproject set speed \\\"\"+speed_grade+\"\\\"\\n}\\n\", file=tcl_file)\n",
    "\n",
    "        print(\"proc add_source_files {} {\", file=tcl_file)\n",
    "        print(\"\\txfile add \\\"\"+top+\"_REGISTERED.v\\\"\", file=tcl_file)\n",
    "        for module in modules:\n",
    "            print(\"\\txfile add \\\"\"+module+\".v\\\"\", file=tcl_file)\n",
    "        print(\"\\t#Set the Top Module\", file=tcl_file)\n",
    "        print(\"\\tproject set top \\\"\"+top+\"_REGISTERED\\\"\\n}\\n\", file=tcl_file)\n",
    "\n",
    "        print(\"\"\"set proj_exts [ list ise xise gise ]\n",
    "foreach ext $proj_exts {\n",
    "   set proj_name \"${myProject}.$ext\"\n",
    "   if { [ file exists $proj_name ] } { \n",
    "      file delete $proj_name\n",
    "   }\n",
    "}\n",
    "\n",
    "project new $myProject\n",
    "set_project_props\n",
    "add_source_files\n",
    "project close\"\"\", file=tcl_file)\n",
    "\n",
    "#     if Print_To_File>0:\n",
    "#         tcl_file.close()\n",
    "    \n",
    "    with open(Current_Files_Location+\"CreateProject.bat\",\"w\") as CPB_file:\n",
    "        print(\"xtclsh \"+top+\".tcl 2> TCLinfo.log\", file=CPB_file)"
   ]
  },
  {
   "cell_type": "markdown",
   "metadata": {},
   "source": [
    "Verilog Parameter Related Functions:"
   ]
  },
  {
   "cell_type": "code",
   "execution_count": 11,
   "metadata": {},
   "outputs": [],
   "source": [
    "def generate_verilog_params_start_end(i):\n",
    "    global NoOfAllVerilogParametersResults\n",
    "    if i==NoOfVeilogParameters:\n",
    "        ListOfAllVerilogParametersResults.append(verilog_parameters_result.copy())\n",
    "        NoOfAllVerilogParametersResults += 1\n",
    "        #print(verilog_parameters_result)generate_verilog_params\n",
    "        return        \n",
    "    param = verilog_parameters[i]\n",
    "    vals = verilog_parameters_values[param]\n",
    "    start = vals[0]\n",
    "    end = vals[1]\n",
    "    if param in [\"IN_WIDTH\",\"INPUT_REG_DEPTH\",\"MULT_PIPE_DEPTH\"]:\n",
    "        for val in range(start,end+1):\n",
    "            verilog_parameters_result[param] = val\n",
    "            generate_verilog_params_start_end(i+1)"
   ]
  },
  {
   "cell_type": "code",
   "execution_count": 12,
   "metadata": {},
   "outputs": [],
   "source": [
    "def generate_verilog_params_directly_listed(i):\n",
    "    global NoOfAllVerilogParametersResults\n",
    "    if i==NoOfVeilogParameters:\n",
    "        ListOfAllVerilogParametersResults.append(verilog_parameters_result.copy())\n",
    "        NoOfAllVerilogParametersResults += 1\n",
    "        #print(verilog_parameters_result)\n",
    "        return        \n",
    "    param = verilog_parameters[i]\n",
    "    vals = verilog_parameters_values[param]\n",
    "    if param in [\"IN_WIDTH\",\"INPUT_REG_DEPTH\",\"MULT_PIPE_DEPTH\"]:\n",
    "        for val in vals:\n",
    "            verilog_parameters_result[param] = val\n",
    "            generate_verilog_params_directly_listed(i+1)"
   ]
  },
  {
   "cell_type": "code",
   "execution_count": 13,
   "metadata": {},
   "outputs": [],
   "source": [
    "def select_and_work_on_verilog_params():\n",
    "    global IW_set, verilog_parameters_result_current\n",
    "    IW_set = set()\n",
    "    if NoOfVResults >= NoOfAllVerilogParametersResults:\n",
    "        RandomVerilogIndices = range(NoOfAllVerilogParametersResults)\n",
    "    else:\n",
    "        RandomVerilogIndices = random.sample(range(NoOfAllVerilogParametersResults),NoOfVResults)\n",
    "    for index in RandomVerilogIndices:\n",
    "        verilog_parameters_result_current = ListOfAllVerilogParametersResults[index]\n",
    "        make_verilog_params_files()"
   ]
  },
  {
   "cell_type": "code",
   "execution_count": 14,
   "metadata": {},
   "outputs": [],
   "source": [
    "def make_verilog_params_files():\n",
    "    global VP_name_append\n",
    "    VP_name_append = \"\"\n",
    "    for param in verilog_parameters_ordered:\n",
    "        if param in verilog_parameters_result_current:\n",
    "            VP_name_append += \"_{}\".format(verilog_parameters_result_current[param])\n",
    "    \n",
    "    if has_testbench and make_Simulate_files_flag:\n",
    "        make_Simulate()\n",
    "        if Simulate_flag:\n",
    "            Simulate_Project()\n",
    "    \n",
    "    if make_Synthesize_files_flag:\n",
    "        make_SYN()\n",
    "        make_TMPR()\n",
    "        if Synthesize_flag:\n",
    "            Synthesize_Project()"
   ]
  },
  {
   "cell_type": "markdown",
   "metadata": {},
   "source": [
    "Synthesize Related Functions:"
   ]
  },
  {
   "cell_type": "code",
   "execution_count": 15,
   "metadata": {},
   "outputs": [],
   "source": [
    "#current layout tested for: series 6 and 7\n",
    "\n",
    "#-p: A specific device, such as xc6vlx240t-ff1759-1, or A generic device family, such as Virtex6\n",
    "\n",
    "def make_SYN():\n",
    "    global STMPR_file_name, SynthesizeCommand\n",
    "#     if Print_To_File<=0:\n",
    "#         xst_file=sys.stdout\n",
    "#     else:\n",
    "#         STMPR_file_name = top+\"_REGISTERED\"+VP_name_append\n",
    "#         xst_file=open(Current_Files_Location+STMPR_file_name+\".xst\", \"w\")\n",
    "#     if True:\n",
    "\n",
    "    STMPR_file_name = top+\"_REGISTERED\"+VP_name_append\n",
    "    with open(Current_Files_Location+STMPR_file_name+\".xst\", \"w\") as xst_file:\n",
    "\n",
    "        print(\"\"\"set -tmpdir \"./\"\n",
    "set -xsthdpdir \"xst\"\n",
    "run\"\"\", file=xst_file)\n",
    "        print(\"-ifn \"+top+\"_REGISTERED.prj\", file=xst_file)\n",
    "        print(\"-ofn \"+top+\"_REGISTERED\"+VP_name_append, file=xst_file)\n",
    "    #     print(\"-ofn \"+top+\"_REGISTERED\", end='', file=xst_file)\n",
    "    #     for param in verilog_parameters_ordered:\n",
    "    #         if param in verilog_parameters_result_current:\n",
    "    #         print(\"_{}\".format(verilog_parameters_result_current[param]), end='', file=xst_file)\n",
    "    #     print(file=xst_file)\n",
    "        print(\"-ofmt NGC\", file=xst_file)\n",
    "        print(\"-p \"+device+speed_grade+\"-\"+package, file=xst_file)\n",
    "        print(\"-top \"+top+\"_REGISTERED\", file=xst_file)\n",
    "        print(\"\"\"-opt_mode Speed\n",
    "-opt_level 1\n",
    "-power NO\n",
    "-iuc NO\n",
    "-keep_hierarchy No\n",
    "-netlist_hierarchy As_Optimized\n",
    "-rtlview Yes\n",
    "-glob_opt AllClockNets\n",
    "-read_cores YES\n",
    "-write_timing_constraints NO\n",
    "-cross_clock_analysis NO\n",
    "-hierarchy_separator /\n",
    "-bus_delimiter <>\n",
    "-case Maintain\n",
    "-slice_utilization_ratio 100\n",
    "-bram_utilization_ratio 100\n",
    "-dsp_utilization_ratio 100\n",
    "-lc Auto\n",
    "-reduce_control_sets Auto\n",
    "-fsm_extract YES -fsm_encoding Auto\n",
    "-safe_implementation No\n",
    "-fsm_style LUT\n",
    "-ram_extract Yes\n",
    "-ram_style Auto\n",
    "-rom_extract Yes\n",
    "-shreg_extract YES\n",
    "-rom_style Auto\n",
    "-auto_bram_packing NO\n",
    "-resource_sharing YES\n",
    "-async_to_sync NO\n",
    "-shreg_min_size 2\n",
    "-use_dsp48 Auto\n",
    "-iobuf YES\n",
    "-max_fanout 100000\"\"\", file=xst_file)\n",
    "        print(\"-bufg \"+bufg, file=xst_file)\n",
    "        print(\"\"\"-register_duplication YES\n",
    "-register_balancing No\n",
    "-optimize_primitives NO\n",
    "-use_clock_enable Auto\n",
    "-use_sync_set Auto\n",
    "-use_sync_reset Auto\n",
    "-iob Auto\n",
    "-equivalent_register_removal YES\n",
    "-slice_utilization_ratio_maxmargin 5\"\"\", file=xst_file)\n",
    "        print(\"-generics {\", end='', file=xst_file)\n",
    "        for param in verilog_parameters_result_current:\n",
    "            print(param+\"={} \".format(verilog_parameters_result_current[param]), end='', file=xst_file)\n",
    "        print(\"}\", file=xst_file)\n",
    "\n",
    "#     if Print_To_File>0:\n",
    "#         xst_file.close()\n",
    "    \n",
    "    with open(Current_Files_Location+\"Synthesize\"+VP_name_append+\".bat\",\"w\") as SYNB_file:\n",
    "        SynthesizeCommand = \"xst -intstyle silent -ifn \"+STMPR_file_name+\".xst -ofn \"+STMPR_file_name+\".syr\"\n",
    "        print(SynthesizeCommand, file=SYNB_file)"
   ]
  },
  {
   "cell_type": "code",
   "execution_count": 16,
   "metadata": {},
   "outputs": [],
   "source": [
    "def make_TMPR():\n",
    "    with open(Current_Files_Location+\"TMPR\"+VP_name_append+\".bat\",\"w\") as TMPRB_file:\n",
    "        #print(\"ngdbuild -intstyle silent -quiet -dd _ngo -nt timestamp -i -p \"+device+speed_grade+\"-\"+package+\" \"+STMPR_file_name+\".ngc \"+STMPR_file_name+\".ngd\", file=TMPRB_file)\n",
    "        print(\"ngdbuild -dd _ngo -nt timestamp -i -p \"+device+speed_grade+\"-\"+package+\" \"+STMPR_file_name+\".ngc \"+STMPR_file_name+\".ngd\", file=TMPRB_file)\n",
    "        print(\"map -intstyle silent -p \"+device+speed_grade+\"-\"+package+\" -w -logic_opt off -ol high -t 1 -xt 0 -register_duplication off -r 4 -global_opt off -mt off -ir off -pr off -lc off -power off -o \"+STMPR_file_name+\"_map.ncd \"+STMPR_file_name+\".ngd \"+STMPR_file_name+\".pcf\", file=TMPRB_file)\n",
    "        print(\"par -w -intstyle silent -ol high -mt off \"+STMPR_file_name+\"_map.ncd \"+STMPR_file_name+\".ncd \"+STMPR_file_name+\".pcf\", file=TMPRB_file)\n",
    "        print(\"trce -intstyle silent -v 3 -s 3 -n 3 -fastpaths -xml \"+STMPR_file_name+\".twx \"+STMPR_file_name+\".ncd -o \"+STMPR_file_name+\".twr \"+STMPR_file_name+\".pcf\", file=TMPRB_file)"
   ]
  },
  {
   "cell_type": "code",
   "execution_count": 17,
   "metadata": {},
   "outputs": [],
   "source": [
    "def Synthesize_Project():\n",
    "    resultS = subprocess.call(SynthesizeCommand, cwd=Current_Files_Location)\n",
    "    print(VP_name_append+\" Synthesize Result: \", end='')\n",
    "    print(VP_name_append+\" Synthesize Result: \", end='', file=report_file)\n",
    "    if resultS==0:\n",
    "        print(\"Successful (0)\")\n",
    "        print(\"Successful (0)\", file=report_file)\n",
    "    else:\n",
    "        print(\"Unsuccessful ({})\".format(resultS))\n",
    "        print(\"Unsuccessful ({})\".format(resultS), file=report_file)"
   ]
  },
  {
   "cell_type": "markdown",
   "metadata": {},
   "source": [
    "TestBench Related Functions:"
   ]
  },
  {
   "cell_type": "code",
   "execution_count": 18,
   "metadata": {},
   "outputs": [],
   "source": [
    "#testbench is not included in tcl files list, user can add it to project manualy"
   ]
  },
  {
   "cell_type": "code",
   "execution_count": 19,
   "metadata": {},
   "outputs": [],
   "source": [
    "test_glbl_location = \"C:/Xilinx/14.7/ISE_DS/ISE/verilog/src/glbl.v\""
   ]
  },
  {
   "cell_type": "code",
   "execution_count": 20,
   "metadata": {},
   "outputs": [],
   "source": [
    "def make_Simulate():\n",
    "    global FuseCommand, SimulateCommand\n",
    "    \n",
    "    IWp = verilog_parameters_result_current[\"IN_WIDTH\"]\n",
    "    \n",
    "    if IWp not in IW_set:\n",
    "        IW_set.add(IWp)\n",
    "        testbench_function(parameters_result_current, Print_To_File, Files_Location, verilog_parameters_result_current[\"IN_WIDTH\"])\n",
    "        with open(Current_Files_Location+top+\"_test_IW{}_beh.prj\".format(IWp),\"w\") as prj_file:\n",
    "            #this may generate duplicate prj file (for same IWp), but no problem\n",
    "            for module in modules:\n",
    "                print(\"verilog work \\\"\"+module+\".v\\\"\", file=prj_file)\n",
    "            print(\"verilog work \\\"\"+top+\"_test_IW{}.v\\\"\".format(IWp), file=prj_file)\n",
    "            print(\"verilog work \\\"\"+test_glbl_location+\"\\\"\", file=prj_file)\n",
    "    \n",
    "    FuseCommand = \"fuse -intstyle silent -nodebug -incremental -lib unisims_ver -lib unimacro_ver -o test_isim_beh\"+VP_name_append+\".exe -prj \"+top+\"_test_IW{}_beh.prj work.\".format(IWp)+top+\"_test_IW{} work.glbl\".format(IWp)\n",
    "    for param in verilog_parameters_result_current:\n",
    "        if param!=\"IN_WIDTH\":\n",
    "            FuseCommand += \" -generic_top \\\"\"+param+\"={}\\\"\".format(verilog_parameters_result_current[param])\n",
    "\n",
    "    SimulateCommand = \"test_isim_beh\"+VP_name_append+\".exe -intstyle silent -tclbatch isim.tcl -wdb test_isim_beh\"+VP_name_append+\".wdb\"\n",
    "        \n",
    "    with open(Current_Files_Location+\"Simulate\"+VP_name_append+\".bat\",\"w\") as Simulate_file:\n",
    "        print(FuseCommand, file=Simulate_file)\n",
    "        print(SimulateCommand, file=Simulate_file)\n",
    "\n",
    "    shutil.copy(\"./isim.tcl\",Current_Files_Location+\"isim.tcl\")"
   ]
  },
  {
   "cell_type": "code",
   "execution_count": 21,
   "metadata": {},
   "outputs": [],
   "source": [
    "def Simulate_Project():\n",
    "    resultFuse = subprocess.call(FuseCommand, cwd=Current_Files_Location)\n",
    "    print(VP_name_append+\" Fuse Result: \", end='')\n",
    "    print(VP_name_append+\" Fuse Result: \", end='', file=report_file)\n",
    "    if resultFuse==0:\n",
    "        print(\"Successful (0)\")\n",
    "        print(\"Successful (0)\", file=report_file)\n",
    "    else:\n",
    "        print(\"Unsuccessful ({})\".format(resultFuse))\n",
    "        print(\"Unsuccessful ({})\".format(resultFuse), file=report_file)\n",
    "        return\n",
    "\n",
    "    resultSimulateRun = subprocess.call(SimulateCommand, cwd=Current_Files_Location, shell=True)\n",
    "    print(VP_name_append+\" Simulate Run Return Code: \", end='')\n",
    "    print(VP_name_append+\" Simulate Run Return Code: \", end='', file=report_file)\n",
    "    if resultSimulateRun==0:\n",
    "        print(\"Successful (0)\")\n",
    "        print(\"Successful (0)\", file=report_file)\n",
    "    else:\n",
    "        print(\"Unsuccessful ({})\".format(resultSimulateRun))\n",
    "        print(\"Unsuccessful ({})\".format(resultSimulateRun), file=report_file)\n",
    "        return\n",
    "\n",
    "    #open output file and check saimulation result\n",
    "    with open(Current_Files_Location+VP_name_append+\"_Simulation_Result.txt\",\"r\") as Simulation_Result_file:\n",
    "        resultSimulate = Simulation_Result_file.readline()\n",
    "    print(VP_name_append+\" Simulation Result: \"+resultSimulate, end='')\n",
    "    print(VP_name_append+\" Simulation Result: \"+resultSimulate, end='', file=report_file)"
   ]
  },
  {
   "cell_type": "markdown",
   "metadata": {},
   "source": [
    "Functions Start"
   ]
  },
  {
   "cell_type": "code",
   "execution_count": 22,
   "metadata": {},
   "outputs": [],
   "source": [
    "functions_list = []\n",
    "functions_names_list = []\n",
    "parameters_list = []\n",
    "HRR_mode_list = []\n",
    "verilog_parameters_list = []\n",
    "has_testbench_list = []\n",
    "testbench_functions_list = []"
   ]
  },
  {
   "cell_type": "code",
   "execution_count": 23,
   "metadata": {},
   "outputs": [],
   "source": [
    "#MatrixMatrixMultiply_SI\n",
    "\n",
    "functions_list.append(MatrixMatrixMultiply_SI)\n",
    "functions_names_list.append(\"MatrixMatrixMultiply_SI\")\n",
    "\n",
    "parameters_list.append([\"M\",\"N\",\"Q\",\"PR\",\"PC\",\"HRR\",\"MAMCS\",\"ADDER_SIZE\",\n",
    "                       \"ENABLE_INPUT_LATCH\",\"ENABLE_COLUMN_LATCH\",\"ENABLE_ROW_LATCH\",\"ENABLE_SIM_OUTPUT_REGISTERS\"])\n",
    "\n",
    "HRR_mode_list.append(4)\n",
    "\n",
    "verilog_parameters_list.append([\"IN_WIDTH\", \"INPUT_REG_DEPTH\", \"MULT_PIPE_DEPTH\"])\n",
    "\n",
    "has_testbench_list.append(True)\n",
    "testbench_functions_list.append(MatrixMatrixMultiply_SI_testbench_F)"
   ]
  },
  {
   "cell_type": "code",
   "execution_count": 24,
   "metadata": {},
   "outputs": [],
   "source": [
    "# #MatrixMatrixMultiply_SoE\n",
    "\n",
    "# functions_list.append(MatrixMatrixMultiply_SoE)\n",
    "# functions_names_list.append(\"MatrixMatrixMultiply_SoE\")\n",
    "\n",
    "# parameters_list.append([\"M\",\"N\",\"Q\",\"PR\",\"PC\",\"NOEPS\",\"MAMCS\",\"ADDER_SIZE\",\n",
    "#                        \"ENABLE_INPUT_LATCH\",\"ENABLE_COLUMN_LATCH\",\"ENABLE_ROW_LATCH\",\"ENABLE_SIM_OUTPUT_REGISTERS\"])\n",
    "\n",
    "# HRR_mode_list.append(3)\n",
    "\n",
    "# verilog_parameters_list.append([\"IN_WIDTH\", \"INPUT_REG_DEPTH\", \"MULT_PIPE_DEPTH\"])\n",
    "\n",
    "# has_testbench_list.append(False)\n",
    "# testbench_functions_list.append(None)"
   ]
  },
  {
   "cell_type": "code",
   "execution_count": 25,
   "metadata": {},
   "outputs": [],
   "source": [
    "# #M_Type2\n",
    "\n",
    "# functions_list.append(M_Type2)\n",
    "# functions_names_list.append(\"M_Type2\")\n",
    "\n",
    "# HRR_mode_list.append(2)"
   ]
  },
  {
   "cell_type": "code",
   "execution_count": 26,
   "metadata": {},
   "outputs": [],
   "source": [
    "# #SItoSoE\n",
    "\n",
    "# functions_list.append(SItoSoE)\n",
    "# functions_names_list.append(\"SItoSoE\")\n",
    "\n",
    "# parameters_list.append([\"N\",\"HRR\",\"ENABLE_INPUT_LATCH\",\"ENABLE_SIM_OUTPUT_REGISTERS\"])\n",
    "\n",
    "# HRR_mode_list.append(4)\n",
    "\n",
    "# verilog_parameters_list.append([\"IN_WIDTH\"])\n",
    "\n",
    "# has_testbench_list.append(False)\n",
    "# testbench_functions_list.append(None)"
   ]
  },
  {
   "cell_type": "code",
   "execution_count": 27,
   "metadata": {},
   "outputs": [],
   "source": [
    "#MatrixAdd_SI\n",
    "\n",
    "functions_list.append(MatrixAdd_SI)\n",
    "functions_names_list.append(\"MatrixAdd_SI\")\n",
    "\n",
    "parameters_list.append([\"M\",\"N\",\"PR\",\"HRR\",\"ENABLE_INPUT_REGISTERS\",\"ENABLE_INPUT_LATCH\"])\n",
    "\n",
    "HRR_mode_list.append(4)\n",
    "\n",
    "verilog_parameters_list.append([\"IN_WIDTH\"])\n",
    "\n",
    "has_testbench_list.append(True)\n",
    "testbench_functions_list.append(MatrixAdd_SI_testbench_F)"
   ]
  },
  {
   "cell_type": "markdown",
   "metadata": {},
   "source": [
    "Functions End"
   ]
  },
  {
   "cell_type": "code",
   "execution_count": 28,
   "metadata": {},
   "outputs": [],
   "source": [
    "verilog_parameters_ordered = ['IN_WIDTH', 'INPUT_REG_DEPTH', 'MULT_PIPE_DEPTH']"
   ]
  },
  {
   "cell_type": "code",
   "execution_count": 29,
   "metadata": {},
   "outputs": [],
   "source": [
    "# print(\"choose function:\")\n",
    "# i=0;\n",
    "# for n in functions_names_list:\n",
    "#     i+=1\n",
    "#     print(\"{}: \".format(i)+n)\n",
    "# index = int(input(\"Enter function number([1,{}]):\".format(i)))-1"
   ]
  },
  {
   "cell_type": "code",
   "execution_count": 30,
   "metadata": {},
   "outputs": [],
   "source": [
    "index = 0\n",
    "# index = 1"
   ]
  },
  {
   "cell_type": "code",
   "execution_count": 31,
   "metadata": {},
   "outputs": [
    {
     "name": "stdout",
     "output_type": "stream",
     "text": [
      "selected function: MatrixMatrixMultiply_SI\n"
     ]
    }
   ],
   "source": [
    "print(\"selected function: \"+functions_names_list[index])"
   ]
  },
  {
   "cell_type": "code",
   "execution_count": 32,
   "metadata": {},
   "outputs": [],
   "source": [
    "notation = { #will be updated after getting values\n",
    "    \"ENABLE_INPUT_REGISTERS\": \"[0(No),1(Yes)]\",\n",
    "    \"ENABLE_INPUT_LATCH\": \"[0(No),1(Yes)]\",\n",
    "    \"ENABLE_COLUMN_LATCH\": \"[0(No),1(Yes)]\",\n",
    "    \"ENABLE_ROW_LATCH\": \"[0(No),1(Yes)]\",\n",
    "    \"ENABLE_SIM_OUTPUT_REGISTERS\": \"[0(No),1(Yes)]\",\n",
    "    #\n",
    "    \"M\": \">=1\",\n",
    "    \"Q\": \">=1\"\n",
    "}"
   ]
  },
  {
   "cell_type": "code",
   "execution_count": 33,
   "metadata": {},
   "outputs": [],
   "source": [
    "function = functions_list[index]\n",
    "HRRmode = HRR_mode_list[index]\n",
    "if HRRmode in [1,2]:\n",
    "    notation[\"N\"] = \">=1\"\n",
    "elif HRRmode in [3,4]:\n",
    "    notation[\"N\"] = \">=2\"\n",
    "\n",
    "has_testbench = has_testbench_list[index]\n",
    "testbench_function = testbench_functions_list[index]"
   ]
  },
  {
   "cell_type": "code",
   "execution_count": 34,
   "metadata": {},
   "outputs": [],
   "source": [
    "parameters = parameters_list[index]"
   ]
  },
  {
   "cell_type": "code",
   "execution_count": 35,
   "metadata": {},
   "outputs": [],
   "source": [
    "# parameters_values = {}\n",
    "# notValid = False\n",
    "# for parameter in parameters:\n",
    "#     if parameter == \"PR\" and parameters_values[\"M\"][1] == 1:\n",
    "#         parameters_values[\"PR\"] = [1,1]\n",
    "#         RSmax = 1\n",
    "#         print(\"PR: 1\")\n",
    "#         continue\n",
    "#     if parameter == \"PC\" and parameters_values[\"Q\"][1] == 1:\n",
    "#         parameters_values[\"PC\"] = [1,1]\n",
    "#         CSmax = 1\n",
    "#         print(\"PC: 1\")\n",
    "#         continue\n",
    "#     if parameter == \"NOEPS\" and (\n",
    "#     (HRmode == 2 and parameters_values[\"N\"][1] == 1) or\n",
    "#     (HRmode == 3 and parameters_values[\"N\"][1] == 2) ):\n",
    "#         parameters_values[\"NOEPS\"] = [1,1]\n",
    "#         print(\"NOEPS: 1\")\n",
    "#         continue\n",
    "#     if parameter == \"HRR\" and parameters_values[\"N\"][1] == 2:\n",
    "#         parameters_values[\"HRR\"] = [2,2]\n",
    "#         print(\"HRR: 2\")\n",
    "#         continue\n",
    "#     if parameter == \"MAMCS\" and (\n",
    "#     (HRmode == 1 and parameters_values[\"N\"][1] == 1) or\n",
    "#     (HRmode == 4 and math.ceil(parameters_values[\"N\"][1]/parameters_values[\"HRR\"][0]) == 1) or\n",
    "#     (HRmode in [2,3] and parameters_values[\"NOEPS\"][1] == 1) ):\n",
    "#         parameters_values[\"MAMCS\"] = [1,1]\n",
    "#         NOEPSmax = 1\n",
    "#         print(\"MAMCS: 1\")\n",
    "#         continue\n",
    "#     if parameter == \"ADDER_SIZE\":\n",
    "#         if parameters_values[\"MAMCS\"][0] == NOEPSmax:\n",
    "#             parameters_values[\"ADDER_SIZE\"] = [0,0]\n",
    "#             print(\"ADDER_SIZE: 0\")\n",
    "#             continue\n",
    "#         elif math.ceil(NOEPSmax/parameters_values[\"MAMCS\"][0]) == 2: #else means parameters_values[\"MAMCS\"][0] < NOEPSmax\n",
    "#             parameters_values[\"ADDER_SIZE\"] = [2,2]\n",
    "#             print(\"ADDER_SIZE: 2\")\n",
    "#             continue\n",
    "#     if parameter == \"ENABLE_COLUMN_LATCH\" and RSmax==1:\n",
    "#         parameters_values[\"ENABLE_COLUMN_LATCH\"] = [0,0]\n",
    "#         print(\"ENABLE_COLUMN_LATCH: 0\")\n",
    "#         continue\n",
    "#     if parameter == \"ENABLE_ROW_LATCH\" and CSmax==1:\n",
    "#         parameters_values[\"ENABLE_ROW_LATCH\"] = [0,0]\n",
    "#         print(\"ENABLE_ROW_LATCH: 0\")\n",
    "#         continue\n",
    "\n",
    "#     print(parameter+\": \"+notation[parameter])\n",
    "#     startI = int(input(parameter+\" start:\"))\n",
    "#     endI = int(input(parameter+\" end:\"))\n",
    "#     if parameter == \"N\":\n",
    "#         end = endI\n",
    "#         if HRmode in [1,2]:\n",
    "#             start = max(startI,1)\n",
    "#             notation[\"NOEPS\"] = \"[1,{}]\".format(end) #2\n",
    "#         elif HRmode in [3,4]:\n",
    "#             start = max(startI,2)\n",
    "#             notation[\"HRR\"] = \"[2,{}] (not all HRR values are acceptable)\".format(end) #4\n",
    "#             notation[\"NOEPS\"] = \"[1,{}]\".format(end-1) #3\n",
    "#         if HRmode == 1:\n",
    "#             NOEPSmax = end\n",
    "#             notation[\"MAMCS\"] = \"[1,{}]\".format(NOEPSmax)\n",
    "#     elif parameter == \"M\":\n",
    "#         start = max(startI,1)\n",
    "#         end = endI\n",
    "#         notation[\"PR\"] = \"[1,{}]\".format(end)\n",
    "#     elif parameter == \"Q\":\n",
    "#         start = max(startI,1)\n",
    "#         end = endI\n",
    "#         notation[\"PC\"] = \"[1,{}]\".format(end)\n",
    "#     elif parameter == \"PR\":\n",
    "#         start = max(startI,1)\n",
    "#         end = min(endI,parameters_values[\"M\"][1])\n",
    "#         RSmax = math.ceil(parameters_values[\"M\"][1]/start)\n",
    "#     elif parameter == \"PC\":\n",
    "#         start = max(startI,1)\n",
    "#         end = min(endI,parameters_values[\"Q\"][1])\n",
    "#         CSmax = math.ceil(parameters_values[\"Q\"][1]/start)\n",
    "#     elif parameter in [\"ENABLE_INPUT_REGISTERS\",\"ENABLE_INPUT_LATCH\",\"ENABLE_COLUMN_LATCH\",\"ENABLE_ROW_LATCH\",\"ENABLE_SIM_OUTPUT_REGISTERS\"]: #Yes,No params\n",
    "#         start = max(startI,0)\n",
    "#         end = min(endI,1)\n",
    "#     elif parameter == \"HRR\": #4\n",
    "#         start = max(startI,2)\n",
    "#         end = min(endI,parameters_values[\"N\"][1])\n",
    "#         NOEPSmax = math.ceil(parameters_values[\"N\"][1]/start)\n",
    "#         #the value itself might be invalid, but it's a correct upper limit\n",
    "#         notation[\"MAMCS\"] = \"[1,{}]\".format(NOEPSmax)\n",
    "#     elif parameter == \"NOEPS\":\n",
    "#         start = max(startI,1)\n",
    "#         if HRmode == 2:\n",
    "#             end = min(endI,parameters_values[\"N\"][1])\n",
    "#         elif HRmode == 3:\n",
    "#             end = min(endI,parameters_values[\"N\"][1]-1)\n",
    "#         NOEPSmax = end\n",
    "#         notation[\"MAMCS\"] = \"[1,{}]\".format(NOEPSmax)\n",
    "#     elif parameter == \"MAMCS\":\n",
    "#         start = max(startI,1)\n",
    "#         end = min(endI,NOEPSmax)\n",
    "#         #if start < NOEPSmax:\n",
    "#         notation[\"ADDER_SIZE\"] = \"[2,{}]\".format(math.ceil(NOEPSmax/start)) #needed and correct for when (start < NOEPSmax)\n",
    "#     elif parameter == \"ADDER_SIZE\":\n",
    "#         start = max(startI,2)\n",
    "#         end = min(endI,math.ceil(NOEPSmax/parameters_values[\"MAMCS\"][0]))\n",
    "#     else:\n",
    "#         print(\"unknown parameter! will break.\")\n",
    "#         notValid = True\n",
    "#         break;\n",
    "#     print(\"calculated start: {}\".format(start))\n",
    "#     print(\"calculated end: {}\".format(end))\n",
    "#     if end<start:\n",
    "#         print(\"Invalid value range! will break.\")\n",
    "#         notValid = True\n",
    "#         break;\n",
    "#     parameters_values[parameter]=[start,end]"
   ]
  },
  {
   "cell_type": "code",
   "execution_count": 36,
   "metadata": {},
   "outputs": [],
   "source": [
    "parameters_values = {'M': [5, 5], 'N': [9, 9], 'Q': [5, 5], 'PR': [2, 2], 'PC': [2, 2], 'HRR': [4, 9],\n",
    "'MAMCS': [1, 3], 'ADDER_SIZE': [2, 3], 'ENABLE_INPUT_LATCH': [1, 1],\n",
    "'ENABLE_COLUMN_LATCH': [1, 1], 'ENABLE_ROW_LATCH': [1, 1], 'ENABLE_SIM_OUTPUT_REGISTERS': [1, 1]}\n",
    "\n",
    "#temp changes to values\n",
    "# parameters_values[\"NOEPS\"][0] = 1 #2\n",
    "# parameters_values[\"NOEPS\"][1] = 4\n",
    "# print(parameters_values)"
   ]
  },
  {
   "cell_type": "code",
   "execution_count": 37,
   "metadata": {},
   "outputs": [],
   "source": [
    "# parameters_values = {'M': [5, 5], 'N': [9, 9], 'PR': [2, 2], 'HRR': [4, 9],\n",
    "# 'ENABLE_INPUT_LATCH': [1, 1], 'ENABLE_INPUT_REGISTERS': [0, 1]}"
   ]
  },
  {
   "cell_type": "code",
   "execution_count": 38,
   "metadata": {},
   "outputs": [
    {
     "name": "stdout",
     "output_type": "stream",
     "text": [
      "parameters values: {'M': [5, 5], 'N': [9, 9], 'Q': [5, 5], 'PR': [2, 2], 'PC': [2, 2], 'HRR': [4, 9], 'MAMCS': [1, 3], 'ADDER_SIZE': [2, 3], 'ENABLE_INPUT_LATCH': [1, 1], 'ENABLE_COLUMN_LATCH': [1, 1], 'ENABLE_ROW_LATCH': [1, 1], 'ENABLE_SIM_OUTPUT_REGISTERS': [1, 1]}\n"
     ]
    }
   ],
   "source": [
    "print(\"parameters values: \", end='')\n",
    "print(parameters_values)"
   ]
  },
  {
   "cell_type": "code",
   "execution_count": 39,
   "metadata": {},
   "outputs": [],
   "source": [
    "INPUT_REG_DEPTH_max_valid = 2\n",
    "MULT_PIPE_DEPTH_max_valid = 2\n",
    "\n",
    "verilog_notation = {\n",
    "    \"IN_WIDTH\": \">=1\",\n",
    "    \"INPUT_REG_DEPTH\": \"[0,{}]\".format(INPUT_REG_DEPTH_max_valid),\n",
    "    \"MULT_PIPE_DEPTH\": \"[0,{}]\".format(MULT_PIPE_DEPTH_max_valid)\n",
    "}"
   ]
  },
  {
   "cell_type": "code",
   "execution_count": 40,
   "metadata": {},
   "outputs": [],
   "source": [
    "verilog_parameters = verilog_parameters_list[index]"
   ]
  },
  {
   "cell_type": "code",
   "execution_count": 41,
   "metadata": {},
   "outputs": [],
   "source": [
    "# verilog_parameters_values = {}\n",
    "# VnotValid = False\n",
    "# for parameter in verilog_parameters:\n",
    "#     print(parameter+\": \"+verilog_notation[parameter])\n",
    "#     startI = int(input(parameter+\" start:\"))\n",
    "#     endI = int(input(parameter+\" end:\"))\n",
    "#     if parameter == \"IN_WIDTH\":\n",
    "#         start = max(startI,1)\n",
    "#         end = endI\n",
    "#     elif parameter == \"INPUT_REG_DEPTH\":\n",
    "#         start = max(startI,0)\n",
    "#         end = min(endI,INPUT_REG_DEPTH_max_valid)\n",
    "#     elif parameter == \"MULT_PIPE_DEPTH\":\n",
    "#         start = max(startI,0)\n",
    "#         end = min(endI,MULT_PIPE_DEPTH_max_valid)\n",
    "#     else:\n",
    "#         print(\"unknown parameter! will break.\")\n",
    "#         VnotValid = True\n",
    "#         break;\n",
    "#     print(\"calculated start: {}\".format(start))\n",
    "#     print(\"calculated end: {}\".format(end))\n",
    "#     if end<start:\n",
    "#         print(\"Invalid value range! will break.\")\n",
    "#         VnotValid = True\n",
    "#         break;\n",
    "#     verilog_parameters_values[parameter]=[start,end]"
   ]
  },
  {
   "cell_type": "code",
   "execution_count": 42,
   "metadata": {},
   "outputs": [],
   "source": [
    "verilog_parameters_values = {'IN_WIDTH': [10, 14], 'INPUT_REG_DEPTH': [1, 1], 'MULT_PIPE_DEPTH': [0, 1]}\n",
    "\n",
    "#temp changes"
   ]
  },
  {
   "cell_type": "code",
   "execution_count": 43,
   "metadata": {},
   "outputs": [
    {
     "name": "stdout",
     "output_type": "stream",
     "text": [
      "verilog parameters values: {'IN_WIDTH': [10, 14], 'INPUT_REG_DEPTH': [1, 1], 'MULT_PIPE_DEPTH': [0, 1]}\n"
     ]
    }
   ],
   "source": [
    "print(\"verilog parameters values: \", end='')\n",
    "print(verilog_parameters_values)"
   ]
  },
  {
   "cell_type": "code",
   "execution_count": 44,
   "metadata": {},
   "outputs": [],
   "source": [
    "NoOfParameters = len(parameters)\n",
    "#print(\"no of parameters: {}\".format(NoOfParameters))\n",
    "parameters_result = {}"
   ]
  },
  {
   "cell_type": "code",
   "execution_count": 45,
   "metadata": {
    "scrolled": false
   },
   "outputs": [
    {
     "name": "stdout",
     "output_type": "stream",
     "text": [
      "no of all possible parameters results (projects): 3\n"
     ]
    }
   ],
   "source": [
    "NoOfAllParametersResults = 0\n",
    "ListOfAllParametersResults = []\n",
    "#modules = {}\n",
    "\n",
    "generate_params(0)\n",
    "\n",
    "# print(ListOfAllParametersResults)\n",
    "print(\"no of all possible parameters results (projects): {}\".format(NoOfAllParametersResults))"
   ]
  },
  {
   "cell_type": "markdown",
   "metadata": {},
   "source": [
    "Random Projects Selection Start"
   ]
  },
  {
   "cell_type": "code",
   "execution_count": 46,
   "metadata": {},
   "outputs": [],
   "source": [
    "# #All Parameters Results Mode:\n",
    "# RandomIndices = range(NoOfAllParametersResults)"
   ]
  },
  {
   "cell_type": "code",
   "execution_count": 47,
   "metadata": {},
   "outputs": [],
   "source": [
    "#Manual Parameters Results Mode:\n",
    "RandomIndices = [2, 1, 0]\n",
    "# RandomIndices = [2]"
   ]
  },
  {
   "cell_type": "code",
   "execution_count": 48,
   "metadata": {},
   "outputs": [],
   "source": [
    "# #Random Parameters Results Mode:\n",
    "\n",
    "# #see NoOfRandomResults\n",
    "\n",
    "# try:\n",
    "#     del sys.modules['Generator_Random_List']\n",
    "# except KeyError:\n",
    "#     pass\n",
    "# from Generator_Random_List import RandomIndices\n",
    "# print(RandomIndices)"
   ]
  },
  {
   "cell_type": "markdown",
   "metadata": {},
   "source": [
    "Random Projects Selection End"
   ]
  },
  {
   "cell_type": "code",
   "execution_count": 49,
   "metadata": {},
   "outputs": [],
   "source": [
    "NoOfVeilogParameters = len(verilog_parameters)\n",
    "#print(\"no of verilog parameters: {}\".format(NoOfVeilogParameters))\n",
    "verilog_parameters_result = {}"
   ]
  },
  {
   "cell_type": "code",
   "execution_count": 50,
   "metadata": {},
   "outputs": [],
   "source": [
    "Print_To_File = 1"
   ]
  },
  {
   "cell_type": "code",
   "execution_count": 51,
   "metadata": {},
   "outputs": [],
   "source": [
    "#bufg: page 406 of xst_v6s6_v14.5\n",
    "\n",
    "family = \"Spartan6\"\n",
    "device = \"xc6slx150\"\n",
    "package = \"fgg900\"\n",
    "speed_grade = \"-3\"\n",
    "bufg = \"16\"\n",
    "\n",
    "# family = \"Virtex6\"\n",
    "# device = \"xc6vlx760\"\n",
    "# package = \"ff1760\"\n",
    "# speed_grade = \"-2\"\n",
    "# bufg = \"32\"\n",
    "\n",
    "# family = \"Virtex7\"\n",
    "# device = \"xc7v2000t\"\n",
    "# package = \"flg1925\"\n",
    "# speed_grade = \"-2\"\n",
    "# bufg = \"32\""
   ]
  },
  {
   "cell_type": "code",
   "execution_count": 52,
   "metadata": {},
   "outputs": [],
   "source": [
    "print_result_flag = True\n",
    "\n",
    "make_base_files_flag = True\n",
    "\n",
    "make_Synthesize_files_flag = True\n",
    "Synthesize_flag = True\n",
    "\n",
    "make_Simulate_files_flag = True\n",
    "Simulate_flag = True\n",
    "\n",
    "verilog_params_traverse_mode = 0 #0:start_end 1:directly_listedNoOfVResults\n",
    "AllVResultsForEachProject = False #False: All,   True: NoOfRandomVResultsForEachProject\n",
    "NoOfRandomVResultsForEachProject = 1\n",
    "\n",
    "CPUCoresCount = 1\n",
    "thisCPUCore = 0"
   ]
  },
  {
   "cell_type": "code",
   "execution_count": 53,
   "metadata": {},
   "outputs": [
    {
     "name": "stdout",
     "output_type": "stream",
     "text": [
      "selected device: Spartan6 xc6slx150-3-fgg900\n"
     ]
    }
   ],
   "source": [
    "if make_base_files_flag:\n",
    "    print(\"selected device: \"+family+\" \"+device+speed_grade+\"-\"+package)"
   ]
  },
  {
   "cell_type": "code",
   "execution_count": 54,
   "metadata": {},
   "outputs": [
    {
     "name": "stdout",
     "output_type": "stream",
     "text": [
      "verilog parameters traverse mode: start_end\n",
      "no of all possible verilog parameters modes = 10\n",
      "no of selected verilog parameters modes for each project = 1\n"
     ]
    }
   ],
   "source": [
    "ListOfAllVerilogParametersResults = []\n",
    "NoOfAllVerilogParametersResults = 0\n",
    "\n",
    "if make_base_files_flag and (make_Synthesize_files_flag or (has_testbench and make_Simulate_files_flag)):\n",
    "    if verilog_params_traverse_mode == 0:\n",
    "        print(\"verilog parameters traverse mode: start_end\")\n",
    "        generate_verilog_params_start_end(0)\n",
    "    else:\n",
    "        print(\"verilog parameters traverse mode: directly_listed\")\n",
    "        generate_verilog_params_directly_listed(0)\n",
    "    if AllVResultsForEachProject or NoOfRandomVResultsForEachProject >= NoOfAllVerilogParametersResults:\n",
    "        NoOfVResults = NoOfAllVerilogParametersResults\n",
    "    else:\n",
    "        NoOfVResults = NoOfRandomVResultsForEachProject\n",
    "    print(\"no of all possible verilog parameters modes = {}\".format(NoOfAllVerilogParametersResults))\n",
    "    print(\"no of selected verilog parameters modes for each project = {}\".format(NoOfVResults))\n",
    "    #print(ListOfAllVerilogParametersResults)"
   ]
  },
  {
   "cell_type": "code",
   "execution_count": 55,
   "metadata": {},
   "outputs": [
    {
     "name": "stdout",
     "output_type": "stream",
     "text": [
      "output directory: D:/Thesis_Results_MatrixMatrixMultiply_SI_8/CPU_Core0/\n",
      "selected parameters results (projects) for all cores: [2, 1, 0]\n",
      "start time: 2018-01-30 19:05:06.841277\n",
      "\n",
      "2:\n",
      "Parameters: {'M': 5, 'N': 9, 'Q': 5, 'PR': 2, 'PC': 2, 'HRR': 9, 'MAMCS': 1, 'ADDER_SIZE': 0, 'ENABLE_INPUT_LATCH': 1, 'ENABLE_COLUMN_LATCH': 1, 'ENABLE_ROW_LATCH': 1, 'ENABLE_SIM_OUTPUT_REGISTERS': 1}\n",
      "Project name: MatrixMatrixMultiply_5_9_5_2PR_2PC_SI_HRx9_C1_A0_IL_CL_RL_MR\n",
      "Modules: {'SItoSoE_9_HRx9_IL_OR': 'SItoSoE', 'RegisteredMultiplier': 'RegisteredMultiplier', 'DotProduct_9_S1E_HRx9_C1_A0': 'DotProduct_SoE', 'MatrixVectorMultiply_5_9_2PR_S1E_HRx9_C1_A0_VL': 'MatrixVectorMultiply_SoE', 'MatrixMatrixMultiply_5_9_5_2PR_2PC_S1E_HRx9_C1_A0_CL_RL': 'MatrixMatrixMultiply_SoE', 'MatrixMatrixMultiply_5_9_5_2PR_2PC_SI_HRx9_C1_A0_IL_CL_RL_MR': 'MatrixMatrixMultiply_SI'}\n",
      "_13_1_0 Fuse Result: Successful (0)\n",
      "_13_1_0 Simulate Run Return Code: Successful (0)\n",
      "_13_1_0 Simulation Result: Succeeded\n",
      "_13_1_0 Synthesize Result: Successful (0)\n",
      "\n",
      "1:\n",
      "Parameters: {'M': 5, 'N': 9, 'Q': 5, 'PR': 2, 'PC': 2, 'HRR': 5, 'MAMCS': 2, 'ADDER_SIZE': 0, 'ENABLE_INPUT_LATCH': 1, 'ENABLE_COLUMN_LATCH': 1, 'ENABLE_ROW_LATCH': 1, 'ENABLE_SIM_OUTPUT_REGISTERS': 1}\n",
      "Project name: MatrixMatrixMultiply_5_9_5_2PR_2PC_SI_HRx5_C2_A0_IL_CL_RL_MR\n",
      "Modules: {'SItoSoE_9_HRx5_IL_OR': 'SItoSoE', 'RegisteredMultiplier': 'RegisteredMultiplier', 'MultiplyAdd': 'MultiplyAdd', 'DotProduct_Systolic_2': 'DotProduct_Systolic', 'DotProduct_9_S2E_HRx5_C2_A0': 'DotProduct_SoE', 'MatrixVectorMultiply_5_9_2PR_S2E_HRx5_C2_A0_VL': 'MatrixVectorMultiply_SoE', 'MatrixMatrixMultiply_5_9_5_2PR_2PC_S2E_HRx5_C2_A0_CL_RL': 'MatrixMatrixMultiply_SoE', 'MatrixMatrixMultiply_5_9_5_2PR_2PC_SI_HRx5_C2_A0_IL_CL_RL_MR': 'MatrixMatrixMultiply_SI'}\n",
      "_11_1_0 Fuse Result: Successful (0)\n",
      "_11_1_0 Simulate Run Return Code: Successful (0)\n",
      "_11_1_0 Simulation Result: Succeeded\n",
      "_11_1_0 Synthesize Result: Successful (0)\n",
      "\n",
      "0:\n",
      "Parameters: {'M': 5, 'N': 9, 'Q': 5, 'PR': 2, 'PC': 2, 'HRR': 5, 'MAMCS': 1, 'ADDER_SIZE': 2, 'ENABLE_INPUT_LATCH': 1, 'ENABLE_COLUMN_LATCH': 1, 'ENABLE_ROW_LATCH': 1, 'ENABLE_SIM_OUTPUT_REGISTERS': 1}\n",
      "Project name: MatrixMatrixMultiply_5_9_5_2PR_2PC_SI_HRx5_C1_A2_IL_CL_RL_MR\n",
      "Modules: {'SItoSoE_9_HRx5_IL_OR': 'SItoSoE', 'RegisteredMultiplier': 'RegisteredMultiplier', 'Registered2to1Adder_NIR': 'RegisteredNto1Adder', 'DotProduct_2_noHR_M_A2': 'DotProduct_noHR_M', 'DotProduct_9_S2E_HRx5_C1_A2': 'DotProduct_SoE', 'MatrixVectorMultiply_5_9_2PR_S2E_HRx5_C1_A2_VL': 'MatrixVectorMultiply_SoE', 'MatrixMatrixMultiply_5_9_5_2PR_2PC_S2E_HRx5_C1_A2_CL_RL': 'MatrixMatrixMultiply_SoE', 'MatrixMatrixMultiply_5_9_5_2PR_2PC_SI_HRx5_C1_A2_IL_CL_RL_MR': 'MatrixMatrixMultiply_SI'}\n",
      "_10_1_1 Fuse Result: Successful (0)\n",
      "_10_1_1 Simulate Run Return Code: Successful (0)\n",
      "_10_1_1 Simulation Result: Succeeded\n",
      "_10_1_1 Synthesize Result: Successful (0)\n",
      "\n",
      "end time: 2018-01-30 19:07:04.792771\n",
      "no of CPU Core parameters results (projects): 3\n",
      "total no of CPU Core selected verilog parameters modes: 3\n"
     ]
    }
   ],
   "source": [
    "Generator_run_name_append = \"8\"\n",
    "\n",
    "Files_Location = \"D:/Thesis_Results_\"+functions_names_list[index]+\"_\"+Generator_run_name_append+\"/\"\n",
    "if not os.path.exists(Files_Location):\n",
    "    os.makedirs(Files_Location)\n",
    "\n",
    "Files_Location += \"CPU_Core{}/\".format(thisCPUCore)\n",
    "if not os.path.exists(Files_Location):\n",
    "    os.makedirs(Files_Location)\n",
    "\n",
    "report_file=open(Files_Location+\"Report.txt\", \"w\")\n",
    "\n",
    "print(\"selected function: \"+functions_names_list[index], file=report_file)\n",
    "print(\"parameters values: \", end='', file=report_file)\n",
    "print(parameters_values, file=report_file)\n",
    "print(\"verilog parameters values: \", end='', file=report_file)\n",
    "print(verilog_parameters_values, file=report_file)\n",
    "print(\"no of all possible parameters results (projects): {}\".format(NoOfAllParametersResults), file=report_file)\n",
    "if make_base_files_flag:\n",
    "    print(\"selected device: \"+family+\" \"+device+speed_grade+\"-\"+package, file=report_file)\n",
    "if make_base_files_flag and (make_Synthesize_files_flag or (has_testbench and make_Simulate_files_flag)):\n",
    "    if verilog_params_traverse_mode == 0:\n",
    "        print(\"verilog parameters traverse mode: start_end\", file=report_file)\n",
    "    else:\n",
    "        print(\"verilog parameters traverse mode: directly_listed\", file=report_file)\n",
    "    print(\"no of all possible verilog parameters modes = {}\".format(NoOfAllVerilogParametersResults), file=report_file)\n",
    "    print(\"no of selected verilog parameters modes for each project = {}\".format(NoOfVResults), file=report_file)\n",
    "\n",
    "print(\"output directory: \"+Files_Location)\n",
    "print(\"output directory: \"+Files_Location, file=report_file)\n",
    "\n",
    "print(\"selected parameters results (projects) for all cores: \", end = '')\n",
    "print(RandomIndices)\n",
    "print(\"selected parameters results (projects) for all cores: \", end = '', file=report_file)\n",
    "print(RandomIndices, file=report_file)\n",
    "\n",
    "NoOfCPUCoreResults = 0\n",
    "NoOfVResultsT = 0\n",
    "\n",
    "start_time = datetime.datetime.now()\n",
    "print(\"start time: {}\".format(start_time)+\"\\n\")\n",
    "print(\"start time: {}\".format(start_time)+\"\\n\", file=report_file)\n",
    "\n",
    "report_file.flush()\n",
    "os.fsync(report_file.fileno())\n",
    "\n",
    "if print_result_flag or make_base_files_flag:\n",
    "    work_on_random_results_CPU_Core()\n",
    "\n",
    "end_time = datetime.datetime.now()\n",
    "print(\"end time: {}\".format(end_time))\n",
    "print(\"no of CPU Core parameters results (projects): {}\".format(NoOfCPUCoreResults))\n",
    "print(\"total no of CPU Core selected verilog parameters modes: {}\".format(NoOfVResultsT))\n",
    "print(\"end time: {}\".format(end_time), file=report_file)\n",
    "print(\"no of CPU Core parameters results (projects): {}\".format(NoOfCPUCoreResults), file=report_file)\n",
    "print(\"total no of CPU Core selected verilog parameters modes: {}\".format(NoOfVResultsT), file=report_file)\n",
    "\n",
    "report_file.close()"
   ]
  },
  {
   "cell_type": "code",
   "execution_count": 56,
   "metadata": {},
   "outputs": [],
   "source": [
    "# report_file.close()"
   ]
  }
 ],
 "metadata": {
  "kernelspec": {
   "display_name": "Python 3",
   "language": "python",
   "name": "python3"
  },
  "language_info": {
   "codemirror_mode": {
    "name": "ipython",
    "version": 3
   },
   "file_extension": ".py",
   "mimetype": "text/x-python",
   "name": "python",
   "nbconvert_exporter": "python",
   "pygments_lexer": "ipython3",
   "version": "3.6.3"
  }
 },
 "nbformat": 4,
 "nbformat_minor": 2
}
