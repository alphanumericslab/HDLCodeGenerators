{
 "cells": [
  {
   "cell_type": "code",
   "execution_count": 1,
   "metadata": {},
   "outputs": [],
   "source": [
    "#Note: Can add synthesis params (like use_dsp48) as 3rd series params"
   ]
  },
  {
   "cell_type": "code",
   "execution_count": 2,
   "metadata": {},
   "outputs": [],
   "source": [
    "#HRR_mode: noHR only (1), noHR or SoE_HR (2), SoE_HR only (3), SI (4)\n",
    "#N start: 1, 1, 2, 2\n",
    "#1: no HRR and NOEPS, 2 and 3: NOEPS given, HRR calculated, 4: HRR given and corrected if needed, NOEPS calculated"
   ]
  },
  {
   "cell_type": "code",
   "execution_count": 3,
   "metadata": {},
   "outputs": [
    {
     "name": "stdout",
     "output_type": "stream",
     "text": [
      "importing Jupyter notebook from REGISTERED_Generator.ipynb\n",
      "importing Jupyter notebook from MatrixMatrixMultiply_SI_V1_2.ipynb\n",
      "importing Jupyter notebook from SItoSoE_V1_10.ipynb\n",
      "importing Jupyter notebook from MatrixMatrixMultiply_SoE_V1_1.ipynb\n",
      "importing Jupyter notebook from MatrixVectorMultiply_SoE_V2_5.ipynb\n",
      "importing Jupyter notebook from DotProduct_SoE_V4_5.ipynb\n",
      "importing Jupyter notebook from DotProduct_Systolic_V1_11.ipynb\n",
      "importing Jupyter notebook from DotProduct_noHR_M_V3_7.ipynb\n",
      "importing Jupyter notebook from RegisteredNto1Adder_V1_1.ipynb\n",
      "importing Jupyter notebook from DotProduct_noHR_C_V3_7.ipynb\n",
      "importing Jupyter notebook from AdderTree_ASm_V1_20.ipynb\n",
      "importing Jupyter notebook from MatrixMatrixMultiply_SI_testbench_F_v1_0.ipynb\n"
     ]
    }
   ],
   "source": [
    "import sys\n",
    "import math\n",
    "import subprocess\n",
    "import shutil\n",
    "#import os\n",
    "#import time\n",
    "\n",
    "import import_ipynb\n",
    "from REGISTERED_Generator import REGISTERED_Gen\n",
    "\n",
    "from MatrixMatrixMultiply_SI_V1_2 import MatrixMatrixMultiply_SI\n",
    "# from MatrixMatrixMultiply_SoE_V1_1 import MatrixMatrixMultiply_SoE\n",
    "\n",
    "# from MatrixVectorMultiply_SoE_V2_5 import MatrixVectorMultiply_SoE\n",
    "# from DotProduct_SoE_V4_5 import DotProduct_SoE\n",
    "\n",
    "# from SItoSoE_V1_10 import SItoSoE\n",
    "\n",
    "from MatrixMatrixMultiply_SI_testbench_F_v1_0 import MatrixMatrixMultiply_SI_testbench_F"
   ]
  },
  {
   "cell_type": "code",
   "execution_count": 92,
   "metadata": {},
   "outputs": [],
   "source": [
    "# # re_import after changes\n",
    "# del sys.modules['MatrixMatrixMultiply_SI_testbench_F_v1_0']\n",
    "# from MatrixMatrixMultiply_SI_testbench_F_v1_0 import MatrixMatrixMultiply_SI_testbench_F"
   ]
  },
  {
   "cell_type": "code",
   "execution_count": 93,
   "metadata": {},
   "outputs": [],
   "source": [
    "# def CEIL(a,b):\n",
    "#     return (a+b-1)//b"
   ]
  },
  {
   "cell_type": "code",
   "execution_count": 94,
   "metadata": {},
   "outputs": [],
   "source": [
    "#read-only globals: NoOfParameters, HRRmode, Print_To_File, Files_Location\n",
    "#writed globals: parameters_result\n",
    "def generate_params(i):\n",
    "    global NoOfRresults, NOEPS\n",
    "    if i==NoOfParameters:\n",
    "        NoOfRresults += 1\n",
    "        ListOfAllParametersResults.append(parameters_result.copy())\n",
    "        return\n",
    "    \n",
    "#     print(i,parameters[i])\n",
    "    param = parameters[i]\n",
    "    vals = parameter_values[param]\n",
    "    start = vals[0]\n",
    "    end = vals[1]\n",
    "    if param == \"N\":\n",
    "        for val in range(start,end+1):\n",
    "            parameters_result[param] = val\n",
    "            generate_params(i+1)\n",
    "    elif param in [\"M\",\"Q\"]:\n",
    "        for val in range(start,end+1):\n",
    "            parameters_result[param] = val\n",
    "            generate_params(i+1)\n",
    "    elif param == \"PR\":\n",
    "        for val in range(start,min(end,parameters_result['M'])+1):\n",
    "            parameters_result[\"PR\"] = val\n",
    "            generate_params(i+1)\n",
    "    elif param == \"PC\":\n",
    "        for val in range(start,min(end,parameters_result['Q'])+1):\n",
    "            parameters_result[\"PC\"] = val\n",
    "            generate_params(i+1)\n",
    "    elif param == \"HRR\":\n",
    "        for val in range(start,min(end,parameters_result['N'])+1):\n",
    "            NOEPS_check = math.ceil(parameters_result[\"N\"]/val)\n",
    "            if math.ceil(parameters_result[\"N\"]/NOEPS_check) == val:\n",
    "                parameters_result[\"HRR\"] = val\n",
    "                generate_params(i+1)\n",
    "            #else HRR is not valid\n",
    "    elif param == \"NOEPS\":\n",
    "        if HRRmode == 2:\n",
    "            endH = parameters_result[\"N\"]\n",
    "        elif HRRmode == 3:\n",
    "            endH = parameters_result[\"N\"]-1\n",
    "        for val in range(start,min(end,endH)+1):\n",
    "                parameters_result[\"NOEPS\"] = val\n",
    "                generate_params(i+1)\n",
    "    elif param == \"MAMCS\":\n",
    "        if HRRmode == 1:\n",
    "            NOEPS = parameters_result[\"N\"]\n",
    "        elif HRRmode in [2,3]:\n",
    "            NOEPS = parameters_result[\"NOEPS\"]\n",
    "        elif HRRmode == 4:\n",
    "            NOEPS = math.ceil(parameters_result[\"N\"]/parameters_result[\"HRR\"])\n",
    "        for val in range(start,min(end,NOEPS)+1):\n",
    "            parameters_result[\"MAMCS\"] = val\n",
    "            generate_params(i+1)\n",
    "    elif param == \"ADDER_SIZE\":\n",
    "        if parameters_result[\"MAMCS\"] == NOEPS:\n",
    "            parameters_result[\"ADDER_SIZE\"] = 0\n",
    "            generate_params(i+1)\n",
    "        else: #MAMCS < NOEPS\n",
    "            for val in range(start,min(end,math.ceil(NOEPS/parameters_result[\"MAMCS\"]))+1):\n",
    "                parameters_result[\"ADDER_SIZE\"] = val\n",
    "                generate_params(i+1)\n",
    "    elif param == \"ENABLE_COLUMN_LATCH\":\n",
    "        if math.ceil(parameters_result[\"M\"]/parameters_result[\"PR\"]) == 1:\n",
    "            parameters_result[\"ENABLE_COLUMN_LATCH\"] = 0\n",
    "            generate_params(i+1)\n",
    "        else:\n",
    "            for val in range(start,end+1):\n",
    "                parameters_result[\"ENABLE_COLUMN_LATCH\"] = val\n",
    "                generate_params(i+1)\n",
    "    elif param == \"ENABLE_ROW_LATCH\":\n",
    "        if math.ceil(parameters_result[\"Q\"]/parameters_result[\"PC\"]) == 1:\n",
    "            parameters_result[\"ENABLE_ROW_LATCH\"] = 0\n",
    "            generate_params(i+1)\n",
    "        else:\n",
    "            for val in range(start,end+1):\n",
    "                parameters_result[\"ENABLE_ROW_LATCH\"] = val\n",
    "                generate_params(i+1)\n",
    "    elif param in [\"ENABLE_INPUT_LATCH\",\"ENABLE_SIM_OUTPUT_REGISTERS\"]:\n",
    "        for val in range(start,end+1):\n",
    "            parameters_result[param] = val\n",
    "            generate_params(i+1)"
   ]
  },
  {
   "cell_type": "code",
   "execution_count": 95,
   "metadata": {},
   "outputs": [],
   "source": [
    "def work_on_random_results_cpu():\n",
    "    global NoOfResultsT, NoOfCPUResults, parameters_result_current\n",
    "    \n",
    "    CPU_Counter = 0\n",
    "    \n",
    "    for index in RandomIndices:\n",
    "        if CPU_Counter==this_CPU:\n",
    "            NoOfCPUResults += 1\n",
    "            \n",
    "            parameters_result_current = ListOfAllParametersResults[index]\n",
    "\n",
    "            if print_result_flag:\n",
    "                print(\"{}:\".format(index))\n",
    "                print(parameters_result_current)\n",
    "            \n",
    "            if make_base_files_flag:\n",
    "                make_files()\n",
    "                NoOfResultsT += NoOfVResults\n",
    "            \n",
    "            if print_result_flag or make_base_files_flag:\n",
    "                print()\n",
    "\n",
    "        if CPU_Counter==(CPU_Cores_Count-1):\n",
    "            CPU_Counter=0\n",
    "        else:\n",
    "            CPU_Counter+=1"
   ]
  },
  {
   "cell_type": "code",
   "execution_count": 96,
   "metadata": {},
   "outputs": [],
   "source": [
    "def make_files():\n",
    "    global top, Current_Files_Location, NoOfVResults, modules\n",
    "    modules = {}\n",
    "    top = function(parameters_result_current, Print_To_File, Files_Location, 1, modules)\n",
    "    print(modules)\n",
    "    print(top)\n",
    "    Current_Files_Location = Files_Location+top+\"/\"\n",
    "    REGISTERED_Gen(top, Print_To_File, Current_Files_Location)\n",
    "    make_prj()\n",
    "    make_tcl()\n",
    "    NoOfVResults = 0\n",
    "    generate_verilog_params(0)\n",
    "    print(\"no of verilog param modes = {}\".format(NoOfVResults))"
   ]
  },
  {
   "cell_type": "code",
   "execution_count": 97,
   "metadata": {},
   "outputs": [],
   "source": [
    "def make_prj():\n",
    "    with open(Current_Files_Location+top+\"_REGISTERED.prj\",\"w\") as prj_file:\n",
    "        print(\"verilog work \\\"\"+top+\"_REGISTERED.v\\\"\", file=prj_file)\n",
    "        for module in modules:\n",
    "            print(\"verilog work \\\"\"+module+\".v\\\"\", file=prj_file)"
   ]
  },
  {
   "cell_type": "code",
   "execution_count": 98,
   "metadata": {},
   "outputs": [],
   "source": [
    "def make_tcl():\n",
    "    if Print_To_File<=0:\n",
    "        tcl_file=sys.stdout\n",
    "    else:\n",
    "        tcl_file=open(Current_Files_Location+top+\".tcl\", 'w+')\n",
    "        \n",
    "    print(\"set myProject \\\"\"+top+\"\\\"\\n\", file=tcl_file)\n",
    "    \n",
    "    print(\"proc set_project_props {} {\", file=tcl_file)\n",
    "    print(\"\\tproject set family \\\"\"+family+\"\\\"\", file=tcl_file)\n",
    "    print(\"\\tproject set device \\\"\"+device+\"\\\"\", file=tcl_file)\n",
    "    print(\"\\tproject set package \\\"\"+package+\"\\\"\", file=tcl_file)\n",
    "    print(\"\\tproject set speed \\\"\"+speed_grade+\"\\\"\\n}\\n\", file=tcl_file)\n",
    "\n",
    "    print(\"proc add_source_files {} {\", file=tcl_file)\n",
    "    print(\"\\txfile add \\\"\"+top+\"_REGISTERED.v\\\"\", file=tcl_file)\n",
    "    for module in modules:\n",
    "        print(\"\\txfile add \\\"\"+module+\".v\\\"\", file=tcl_file)\n",
    "    print(\"\\t#Set the Top Module\", file=tcl_file)\n",
    "    print(\"\\tproject set top \\\"\"+top+\"_REGISTERED\\\"\\n}\\n\", file=tcl_file)\n",
    "    \n",
    "    print(\"\"\"set proj_exts [ list ise xise gise ]\n",
    "foreach ext $proj_exts {\n",
    "   set proj_name \"${myProject}.$ext\"\n",
    "   if { [ file exists $proj_name ] } { \n",
    "      file delete $proj_name\n",
    "   }\n",
    "}\n",
    "\n",
    "project new $myProject\n",
    "set_project_props\n",
    "add_source_files\n",
    "project close\"\"\", file=tcl_file)\n",
    "\n",
    "    if Print_To_File>0:\n",
    "        tcl_file.close()\n",
    "    \n",
    "    with open(Current_Files_Location+\"CreateProject.bat\",\"w\") as CPB_file:\n",
    "        print(\"xtclsh \"+top+\".tcl 2> TCLinfo.log\", file=CPB_file)"
   ]
  },
  {
   "cell_type": "markdown",
   "metadata": {},
   "source": [
    "Verilog Parameter Related Functions:"
   ]
  },
  {
   "cell_type": "code",
   "execution_count": null,
   "metadata": {},
   "outputs": [],
   "source": [
    "#ListOfAllVerilogParametersResults.append(verilog_parameters_result.copy())"
   ]
  },
  {
   "cell_type": "code",
   "execution_count": 99,
   "metadata": {},
   "outputs": [],
   "source": [
    "def generate_verilog_params(i):\n",
    "    global NoOfVResults, IW_set\n",
    "    if i==NoOfVeilogParameters:\n",
    "        NoOfVResults += 1\n",
    "        #print(verilog_parameters_result)\n",
    "        make_verilog_params_files()\n",
    "        return\n",
    "    if i==0:\n",
    "        IW_set = set()        \n",
    "    param = verilog_parameters[i]\n",
    "    vals = verilog_parameter_values[param]\n",
    "    start = vals[0]\n",
    "    end = vals[1]\n",
    "    if param in [\"IN_WIDTH\",\"INPUT_REG_DEPTH\",\"MULT_PIPE_DEPTH\"]:\n",
    "#         for val in vals:\n",
    "        for val in range(start,end+1):\n",
    "            verilog_parameters_result[param] = val\n",
    "            generate_verilog_params(i+1)\n",
    "    return NoOfVResults"
   ]
  },
  {
   "cell_type": "code",
   "execution_count": 100,
   "metadata": {},
   "outputs": [],
   "source": [
    "def make_verilog_params_files():\n",
    "    global VP_name_append\n",
    "    VP_name_append = \"\"\n",
    "    for param in verilog_parameters_ordered:\n",
    "        if param in verilog_parameters_result:\n",
    "            VP_name_append += \"_{}\".format(verilog_parameters_result[param])\n",
    "    \n",
    "    if make_Synthesize_files_flag:\n",
    "        make_SYN()\n",
    "        make_TMPR()\n",
    "        if Synthesize_flag:\n",
    "            Synthesize_Project()\n",
    "\n",
    "    if has_testbench and make_Simulate_files_flag:\n",
    "        make_Simulate()\n",
    "        if Simulate_flag:\n",
    "            Simulate_Project()"
   ]
  },
  {
   "cell_type": "markdown",
   "metadata": {},
   "source": [
    "Synthesize Related Functions:"
   ]
  },
  {
   "cell_type": "code",
   "execution_count": 101,
   "metadata": {},
   "outputs": [],
   "source": [
    "#current layout: spartan 6\n",
    "def make_SYN():\n",
    "    global STMPR_file_name, SynthesizeCommand\n",
    "#     if Print_To_File<=0:\n",
    "#         xst_file=sys.stdout\n",
    "#     else:\n",
    "#         STMPR_file_name = top+\"_REGISTERED\"+VP_name_append\n",
    "#         xst_file=open(Current_Files_Location+STMPR_file_name+\".xst\", \"w\")\n",
    "#     if True:\n",
    "\n",
    "    STMPR_file_name = top+\"_REGISTERED\"+VP_name_append\n",
    "    with open(urrent_Files_Location+STMPR_file_name+\".xst\", \"w\") as xst_file:\n",
    "\n",
    "        print(\"\"\"set -tmpdir \"./\"\n",
    "    set -xsthdpdir \"xst\"\n",
    "    run\"\"\", file=xst_file)\n",
    "        print(\"-ifn \"+top+\"_REGISTERED.prj\", file=xst_file)\n",
    "        print(\"-ofn \"+top+\"_REGISTERED\"+VP_name_append, file=xst_file)\n",
    "    #     print(\"-ofn \"+top+\"_REGISTERED\", end='', file=xst_file)\n",
    "    #     for param in verilog_parameters_ordered:\n",
    "    #         if param in verilog_parameters_result:\n",
    "    #         print(\"_{}\".format(verilog_parameters_result[param]), end='', file=xst_file)\n",
    "    #     print(file=xst_file)\n",
    "        print(\"-ofmt NGC\", file=xst_file)\n",
    "        print(\"-p \"+device+speed_grade+\"-\"+package, file=xst_file)\n",
    "        print(\"-top \"+top+\"_REGISTERED\", file=xst_file)\n",
    "        print(\"\"\"-opt_mode Speed\n",
    "    -opt_level 1\n",
    "    -power NO\n",
    "    -iuc NO\n",
    "    -keep_hierarchy No\n",
    "    -netlist_hierarchy As_Optimized\n",
    "    -rtlview Yes\n",
    "    -glob_opt AllClockNets\n",
    "    -read_cores YES\n",
    "    -write_timing_constraints NO\n",
    "    -cross_clock_analysis NO\n",
    "    -hierarchy_separator /\n",
    "    -bus_delimiter <>\n",
    "    -case Maintain\n",
    "    -slice_utilization_ratio 100\n",
    "    -bram_utilization_ratio 100\n",
    "    -dsp_utilization_ratio 100\n",
    "    -lc Auto\n",
    "    -reduce_control_sets Auto\n",
    "    -fsm_extract YES -fsm_encoding Auto\n",
    "    -safe_implementation No\n",
    "    -fsm_style LUT\n",
    "    -ram_extract Yes\n",
    "    -ram_style Auto\n",
    "    -rom_extract Yes\n",
    "    -shreg_extract YES\n",
    "    -rom_style Auto\n",
    "    -auto_bram_packing NO\n",
    "    -resource_sharing YES\n",
    "    -async_to_sync NO\n",
    "    -shreg_min_size 2\n",
    "    -use_dsp48 Auto\n",
    "    -iobuf YES\n",
    "    -max_fanout 100000\n",
    "    -bufg 16\n",
    "    -register_duplication YES\n",
    "    -register_balancing No\n",
    "    -optimize_primitives NO\n",
    "    -use_clock_enable Auto\n",
    "    -use_sync_set Auto\n",
    "    -use_sync_reset Auto\n",
    "    -iob Auto\n",
    "    -equivalent_register_removal YES\n",
    "    -slice_utilization_ratio_maxmargin 5\"\"\", file=xst_file)\n",
    "        print(\"-generics {\", end='', file=xst_file)\n",
    "        for param in verilog_parameters_result:\n",
    "            print(param+\"={} \".format(verilog_parameters_result[param]), end='', file=xst_file)\n",
    "        print(\"}\", end='', file=xst_file)\n",
    "\n",
    "#     if Print_To_File>0:\n",
    "#         xst_file.close()\n",
    "    \n",
    "    with open(Current_Files_Location+\"Synthesize\"+VP_name_append+\".bat\",\"w\") as SYNB_file:\n",
    "        SynthesizeCommand = \"xst -intstyle silent -ifn \"+STMPR_file_name+\".xst -ofn \"+STMPR_file_name+\".syr\"\n",
    "        print(SynthesizeCommand, file=SYNB_file)"
   ]
  },
  {
   "cell_type": "code",
   "execution_count": 102,
   "metadata": {},
   "outputs": [],
   "source": [
    "def make_TMPR():\n",
    "    with open(Current_Files_Location+\"TMPR\"+VP_name_append+\".bat\",\"w\") as TMPRB_file:\n",
    "        #print(\"ngdbuild -intstyle silent -quiet -dd _ngo -nt timestamp -i -p \"+device+speed_grade+\"-\"+package+\" \"+STMPR_file_name+\".ngc \"+STMPR_file_name+\".ngd\", file=TMPRB_file)\n",
    "        print(\"ngdbuild -dd _ngo -nt timestamp -i -p \"+device+speed_grade+\"-\"+package+\" \"+STMPR_file_name+\".ngc \"+STMPR_file_name+\".ngd\", file=TMPRB_file)\n",
    "        print(\"map -intstyle silent -p \"+device+speed_grade+\"-\"+package+\" -w -logic_opt off -ol high -t 1 -xt 0 -register_duplication off -r 4 -global_opt off -mt off -ir off -pr off -lc off -power off -o \"+STMPR_file_name+\"_map.ncd \"+STMPR_file_name+\".ngd \"+STMPR_file_name+\".pcf\", file=TMPRB_file)\n",
    "        print(\"par -w -intstyle silent -ol high -mt off \"+STMPR_file_name+\"_map.ncd \"+STMPR_file_name+\".ncd \"+STMPR_file_name+\".pcf\", file=TMPRB_file)\n",
    "        print(\"trce -intstyle silent -v 3 -s 3 -n 3 -fastpaths -xml \"+STMPR_file_name+\".twx \"+STMPR_file_name+\".ncd -o \"+STMPR_file_name+\".twr \"+STMPR_file_name+\".pcf\", file=TMPRB_file)"
   ]
  },
  {
   "cell_type": "code",
   "execution_count": 103,
   "metadata": {},
   "outputs": [],
   "source": [
    "def Synthesize_Project():\n",
    "    resultS = subprocess.call(SynthesizeCommand, cwd=Current_Files_Location)\n",
    "    print(VP_name_append+\" Synthesize Result: \", end='')\n",
    "    if resultS==0:\n",
    "        print(\"Successful (0)\")\n",
    "    else:\n",
    "        print(\"Unsuccessful ({})\".format(resultS))"
   ]
  },
  {
   "cell_type": "markdown",
   "metadata": {},
   "source": [
    "TestBench Related Functions:"
   ]
  },
  {
   "cell_type": "code",
   "execution_count": 104,
   "metadata": {},
   "outputs": [],
   "source": [
    "#testbench is not included in tcl files list, user can add it to project manualy"
   ]
  },
  {
   "cell_type": "code",
   "execution_count": 105,
   "metadata": {},
   "outputs": [],
   "source": [
    "test_glbl_location = \"C:/Xilinx/14.7/ISE_DS/ISE/verilog/src/glbl.v\""
   ]
  },
  {
   "cell_type": "code",
   "execution_count": 106,
   "metadata": {},
   "outputs": [],
   "source": [
    "def make_Simulate():\n",
    "    global FuseCommand, SimulateCommand\n",
    "    \n",
    "    IWp = verilog_parameters_result[\"IN_WIDTH\"]\n",
    "    \n",
    "    if IWp not in IW_set:\n",
    "        IW_set.add(IWp)\n",
    "        testbench_function(parameters_result_current, Print_To_File, Files_Location, verilog_parameters_result[\"IN_WIDTH\"])\n",
    "        with open(Current_Files_Location+top+\"_test_IW{}_beh.prj\".format(IWp),\"w\") as prj_file:\n",
    "            #this may generate duplicate prj file (for same IWp), but no problem\n",
    "            for module in modules:\n",
    "                print(\"verilog work \\\"\"+module+\".v\\\"\", file=prj_file)\n",
    "            print(\"verilog work \\\"\"+top+\"_test_IW{}.v\\\"\".format(IWp), file=prj_file)\n",
    "            print(\"verilog work \\\"\"+test_glbl_location+\"\\\"\", file=prj_file)\n",
    "    \n",
    "    FuseCommand = \"fuse -intstyle silent -nodebug -incremental -lib unisims_ver -lib unimacro_ver -o test_isim_beh\"+VP_name_append+\".exe -prj \"+top+\"_test_IW{}_beh.prj work.\".format(IWp)+top+\"_test_IW{} work.glbl\".format(IWp)\n",
    "    for param in verilog_parameters_result:\n",
    "        if param!=\"IN_WIDTH\":\n",
    "            FuseCommand += \" -generic_top \\\"\"+param+\"={}\\\"\".format(verilog_parameters_result[param])\n",
    "\n",
    "    SimulateCommand = \"test_isim_beh\"+VP_name_append+\".exe -intstyle silent -tclbatch isim.tcl -wdb test_isim_beh\"+VP_name_append+\".wdb\"\n",
    "        \n",
    "    with open(Current_Files_Location+\"Simulate\"+VP_name_append+\".bat\",\"w\") as Simulate_file:\n",
    "        print(FuseCommand, file=Simulate_file)\n",
    "        print(SimulateCommand, file=Simulate_file)\n",
    "\n",
    "    shutil.copy(\"./isim.tcl\",Current_Files_Location+\"isim.tcl\")"
   ]
  },
  {
   "cell_type": "code",
   "execution_count": 107,
   "metadata": {},
   "outputs": [],
   "source": [
    "def Simulate_Project():\n",
    "    resultFuse = subprocess.call(FuseCommand, cwd=Current_Files_Location)\n",
    "    print(VP_name_append+\" Fuse Result: \", end='')\n",
    "    if resultFuse==0:\n",
    "        print(\"Successful (0)\")\n",
    "    else:\n",
    "        print(\"Unsuccessful ({})\".format(resultFuse))\n",
    "        return\n",
    "\n",
    "    if resultFuse==0:\n",
    "    #     while not os.path.isfile(Current_Files_Location+\"test_isim_beh\"+VP_name_append+\".exe\"):\n",
    "    #         ;\n",
    "    #     time.sleep(5)\n",
    "    #     print(Current_Files_Location)\n",
    "    #     print(SimulateCommandArgs)\n",
    "        test_name = \"test_isim_beh\"+VP_name_append+\".exe\"\n",
    "        wdb_name = \"test_isim_beh\"+VP_name_append+\".wdb\"\n",
    "    #     resultSimulate = subprocess.call([test_name, \"-intstyle\", \"silent\", \"-tclbatch\", \"isim.tcl\", \"-wdb\", wdb_name], cwd=Current_Files_Location)\n",
    "        resultSimulate = subprocess.call([test_name, \"-intstyle\", \"silent\", \"-tclbatch\", \"isim.tcl\", \"-wdb\", wdb_name], cwd=Current_Files_Location, shell=True)\n",
    "        print(VP_name_append+\" Simulate Run Return Code: \", end='')\n",
    "        if resultSimulate==0:\n",
    "            print(\"Successful (0)\")\n",
    "        else:\n",
    "            print(\"Unsuccessful ({})\".format(resultSimulate))\n",
    "            return\n",
    "\n",
    "        if resultSimulate==0:\n",
    "            #open output file and check saimulation result\n",
    "            with open(Current_Files_Location+VP_name_append+\"_Simulation_Result.txt\",\"r\") as Simulation_Result_file:\n",
    "                print(VP_name_append+\" Simulation Result: \"+Simulation_Result_file.readline(), end='')"
   ]
  },
  {
   "cell_type": "markdown",
   "metadata": {},
   "source": [
    "Functions Start"
   ]
  },
  {
   "cell_type": "code",
   "execution_count": 129,
   "metadata": {},
   "outputs": [],
   "source": [
    "functions_list = []\n",
    "functions_names_list = []\n",
    "parameters_list = []\n",
    "HRR_mode_list = []\n",
    "verilog_parameters_list = []\n",
    "has_testbench_list = []\n",
    "testbench_functions_list = []"
   ]
  },
  {
   "cell_type": "code",
   "execution_count": 130,
   "metadata": {},
   "outputs": [],
   "source": [
    "#MatrixMatrixMultiply_SI\n",
    "\n",
    "functions_list.append(MatrixMatrixMultiply_SI)\n",
    "functions_names_list.append(\"MatrixMatrixMultiply_SI\")\n",
    "\n",
    "parameters_list.append([\"M\",\"N\",\"Q\",\"PR\",\"PC\",\"HRR\",\"MAMCS\",\"ADDER_SIZE\",\n",
    "                       \"ENABLE_INPUT_LATCH\",\"ENABLE_COLUMN_LATCH\",\"ENABLE_ROW_LATCH\",\"ENABLE_SIM_OUTPUT_REGISTERS\"])\n",
    "\n",
    "HRR_mode_list.append(4)\n",
    "\n",
    "verilog_parameters_list.append([\"IN_WIDTH\", \"INPUT_REG_DEPTH\", \"MULT_PIPE_DEPTH\"])\n",
    "\n",
    "has_testbench_list.append(True)\n",
    "testbench_functions_list.append(MatrixMatrixMultiply_SI_testbench_F)"
   ]
  },
  {
   "cell_type": "code",
   "execution_count": 131,
   "metadata": {},
   "outputs": [],
   "source": [
    "# #MatrixMatrixMultiply_SoE\n",
    "\n",
    "# functions_list.append(MatrixMatrixMultiply_SoE)\n",
    "# functions_names_list.append(\"MatrixMatrixMultiply_SoE\")\n",
    "\n",
    "# parameters_list.append([\"M\",\"N\",\"Q\",\"PR\",\"PC\",\"NOEPS\",\"MAMCS\",\"ADDER_SIZE\",\n",
    "#                        \"ENABLE_INPUT_LATCH\",\"ENABLE_COLUMN_LATCH\",\"ENABLE_ROW_LATCH\",\"ENABLE_SIM_OUTPUT_REGISTERS\"])\n",
    "\n",
    "# HRR_mode_list.append(3)\n",
    "\n",
    "# verilog_parameters_list.append([\"IN_WIDTH\", \"INPUT_REG_DEPTH\", \"MULT_PIPE_DEPTH\"])\n",
    "\n",
    "# has_testbench_list.append(False)\n",
    "# testbench_functions_list.append(None)"
   ]
  },
  {
   "cell_type": "code",
   "execution_count": 132,
   "metadata": {},
   "outputs": [],
   "source": [
    "# #M_Type2\n",
    "\n",
    "# functions_list.append(M_Type2)\n",
    "# functions_names_list.append(\"M_Type2\")\n",
    "\n",
    "# HRR_mode_list.append(2)"
   ]
  },
  {
   "cell_type": "code",
   "execution_count": 133,
   "metadata": {},
   "outputs": [],
   "source": [
    "# #SItoSoE\n",
    "\n",
    "# functions_list.append(SItoSoE)\n",
    "# functions_names_list.append(\"SItoSoE\")\n",
    "\n",
    "# parameters_list.append([\"N\",\"HRR\",\"ENABLE_INPUT_LATCH\",\"ENABLE_SIM_OUTPUT_REGISTERS\"])\n",
    "\n",
    "# HRR_mode_list.append(4)\n",
    "\n",
    "# verilog_parameters_list.append([\"IN_WIDTH\"])\n",
    "\n",
    "# has_testbench_list.append(False)\n",
    "# testbench_functions_list.append(None)"
   ]
  },
  {
   "cell_type": "markdown",
   "metadata": {},
   "source": [
    "Functions End"
   ]
  },
  {
   "cell_type": "code",
   "execution_count": null,
   "metadata": {},
   "outputs": [],
   "source": [
    "verilog_parameters_ordered = ['IN_WIDTH', 'INPUT_REG_DEPTH', 'MULT_PIPE_DEPTH']"
   ]
  },
  {
   "cell_type": "code",
   "execution_count": 135,
   "metadata": {},
   "outputs": [],
   "source": [
    "# print(\"choose function:\")\n",
    "# i=0;\n",
    "# for n in functions_names_list:\n",
    "#     i+=1\n",
    "#     print(\"{}: \".format(i)+n)\n",
    "# index = int(input(\"Enter function number([1,{}]):\".format(i)))-1"
   ]
  },
  {
   "cell_type": "code",
   "execution_count": 136,
   "metadata": {},
   "outputs": [],
   "source": [
    "index = 0"
   ]
  },
  {
   "cell_type": "code",
   "execution_count": 137,
   "metadata": {},
   "outputs": [],
   "source": [
    "notation = { #will be updated after getting values\n",
    "    \"ENABLE_INPUT_LATCH\": \"[0(No),1(Yes)]\",\n",
    "    \"ENABLE_COLUMN_LATCH\": \"[0(No),1(Yes)]\",\n",
    "    \"ENABLE_ROW_LATCH\": \"[0(No),1(Yes)]\",\n",
    "    \"ENABLE_SIM_OUTPUT_REGISTERS\": \"[0(No),1(Yes)]\",\n",
    "    #\n",
    "    \"M\": \">=1\",\n",
    "    \"Q\": \">=1\"\n",
    "}"
   ]
  },
  {
   "cell_type": "code",
   "execution_count": 138,
   "metadata": {},
   "outputs": [],
   "source": [
    "function = functions_list[index]\n",
    "parameters = parameters_list[index]\n",
    "HRRmode = HRR_mode_list[index]\n",
    "if HRRmode in [1,2]:\n",
    "    notation[\"N\"] = \">=1\"\n",
    "elif HRRmode in [3,4]:\n",
    "    notation[\"N\"] = \">=2\""
   ]
  },
  {
   "cell_type": "code",
   "execution_count": 139,
   "metadata": {},
   "outputs": [],
   "source": [
    "# parameter_values = {}\n",
    "# notValid = False\n",
    "# for parameter in parameters:\n",
    "#     if parameter == \"PR\" and parameter_values[\"M\"][1] == 1:\n",
    "#         parameter_values[\"PR\"] = [1,1]\n",
    "#         RSmax = 1\n",
    "#         print(\"PR: 1\")\n",
    "#         continue\n",
    "#     if parameter == \"PC\" and parameter_values[\"Q\"][1] == 1:\n",
    "#         parameter_values[\"PC\"] = [1,1]\n",
    "#         CSmax = 1\n",
    "#         print(\"PC: 1\")\n",
    "#         continue\n",
    "#     if parameter == \"NOEPS\" and (\n",
    "#     (HRmode == 2 and parameter_values[\"N\"][1] == 1) or\n",
    "#     (HRmode == 3 and parameter_values[\"N\"][1] == 2) ):\n",
    "#         parameter_values[\"NOEPS\"] = [1,1]\n",
    "#         print(\"NOEPS: 1\")\n",
    "#         continue\n",
    "#     if parameter == \"HRR\" and parameter_values[\"N\"][1] == 2:\n",
    "#         parameter_values[\"HRR\"] = [2,2]\n",
    "#         print(\"HRR: 2\")\n",
    "#         continue\n",
    "#     if parameter == \"MAMCS\" and (\n",
    "#     (HRmode == 1 and parameter_values[\"N\"][1] == 1) or\n",
    "#     (HRmode == 4 and math.ceil(parameter_values[\"N\"][1]/parameter_values[\"HRR\"][0]) == 1) or\n",
    "#     (HRmode in [2,3] and parameter_values[\"NOEPS\"][1] == 1) ):\n",
    "#         parameter_values[\"MAMCS\"] = [1,1]\n",
    "#         NOEPSmax = 1\n",
    "#         print(\"MAMCS: 1\")\n",
    "#         continue\n",
    "#     if parameter == \"ADDER_SIZE\":\n",
    "#         if parameter_values[\"MAMCS\"][0] == NOEPSmax:\n",
    "#             parameter_values[\"ADDER_SIZE\"] = [0,0]\n",
    "#             print(\"ADDER_SIZE: 0\")\n",
    "#             continue\n",
    "#         elif math.ceil(NOEPSmax/parameter_values[\"MAMCS\"][0]) == 2: #else means parameter_values[\"MAMCS\"][0] < NOEPSmax\n",
    "#             parameter_values[\"ADDER_SIZE\"] = [2,2]\n",
    "#             print(\"ADDER_SIZE: 2\")\n",
    "#             continue\n",
    "#     if parameter == \"ENABLE_COLUMN_LATCH\" and RSmax==1:\n",
    "#         parameter_values[\"ENABLE_COLUMN_LATCH\"] = [0,0]\n",
    "#         print(\"ENABLE_COLUMN_LATCH: 0\")\n",
    "#         continue\n",
    "#     if parameter == \"ENABLE_ROW_LATCH\" and CSmax==1:\n",
    "#         parameter_values[\"ENABLE_ROW_LATCH\"] = [0,0]\n",
    "#         print(\"ENABLE_ROW_LATCH: 0\")\n",
    "#         continue\n",
    "\n",
    "#     print(parameter+\": \"+notation[parameter])\n",
    "#     startI = int(input(parameter+\" start:\"))\n",
    "#     endI = int(input(parameter+\" end:\"))\n",
    "#     if parameter == \"N\":\n",
    "#         end = endI\n",
    "#         if HRmode in [1,2]:\n",
    "#             start = max(startI,1)\n",
    "#             notation[\"NOEPS\"] = \"[1,{}]\".format(end) #2\n",
    "#         elif HRmode in [3,4]:\n",
    "#             start = max(startI,2)\n",
    "#             notation[\"HRR\"] = \"[2,{}] (not all HRR values are acceptable)\".format(end) #4\n",
    "#             notation[\"NOEPS\"] = \"[1,{}]\".format(end-1) #3\n",
    "#         if HRmode == 1:\n",
    "#             NOEPSmax = end\n",
    "#             notation[\"MAMCS\"] = \"[1,{}]\".format(NOEPSmax)\n",
    "#     elif parameter == \"M\":\n",
    "#         start = max(startI,1)\n",
    "#         end = endI\n",
    "#         notation[\"PR\"] = \"[1,{}]\".format(end)\n",
    "#     elif parameter == \"Q\":\n",
    "#         start = max(startI,1)\n",
    "#         end = endI\n",
    "#         notation[\"PC\"] = \"[1,{}]\".format(end)\n",
    "#     elif parameter == \"PR\":\n",
    "#         start = max(startI,1)\n",
    "#         end = min(endI,parameter_values[\"M\"][1])\n",
    "#         RSmax = math.ceil(parameter_values[\"M\"][1]/start)\n",
    "#     elif parameter == \"PC\":\n",
    "#         start = max(startI,1)\n",
    "#         end = min(endI,parameter_values[\"Q\"][1])\n",
    "#         CSmax = math.ceil(parameter_values[\"Q\"][1]/start)\n",
    "#     elif parameter in [\"ENABLE_INPUT_LATCH\",\"ENABLE_COLUMN_LATCH\",\"ENABLE_ROW_LATCH\",\"ENABLE_SIM_OUTPUT_REGISTERS\"]: #Yes,No params\n",
    "#         start = max(startI,0)\n",
    "#         end = min(endI,1)\n",
    "#     elif parameter == \"HRR\": #4\n",
    "#         start = max(startI,2)\n",
    "#         end = min(endI,parameter_values[\"N\"][1])\n",
    "#         NOEPSmax = math.ceil(parameter_values[\"N\"][1]/start)\n",
    "#         #the value itself might be invalid, but it's a correct upper limit\n",
    "#         notation[\"MAMCS\"] = \"[1,{}]\".format(NOEPSmax)\n",
    "#     elif parameter == \"NOEPS\":\n",
    "#         start = max(startI,1)\n",
    "#         if HRmode == 2:\n",
    "#             end = min(endI,parameter_values[\"N\"][1])\n",
    "#         elif HRmode == 3:\n",
    "#             end = min(endI,parameter_values[\"N\"][1]-1)\n",
    "#         NOEPSmax = end\n",
    "#         notation[\"MAMCS\"] = \"[1,{}]\".format(NOEPSmax)\n",
    "#     elif parameter == \"MAMCS\":\n",
    "#         start = max(startI,1)\n",
    "#         end = min(endI,NOEPSmax)\n",
    "#         #if start < NOEPSmax:\n",
    "#         notation[\"ADDER_SIZE\"] = \"[2,{}]\".format(math.ceil(NOEPSmax/start)) #needed and correct for when (start < NOEPSmax)\n",
    "#     elif parameter == \"ADDER_SIZE\":\n",
    "#         start = max(startI,2)\n",
    "#         end = min(endI,math.ceil(NOEPSmax/parameter_values[\"MAMCS\"][0]))\n",
    "#     else:\n",
    "#         print(\"unknown parameter! will break.\")\n",
    "#         notValid = True\n",
    "#         break;\n",
    "#     print(\"calculated start: {}\".format(start))\n",
    "#     print(\"calculated end: {}\".format(end))\n",
    "#     if end<start:\n",
    "#         print(\"Invalid value range! will break.\")\n",
    "#         notValid = True\n",
    "#         break;\n",
    "#     parameter_values[parameter]=[start,end]"
   ]
  },
  {
   "cell_type": "code",
   "execution_count": 140,
   "metadata": {},
   "outputs": [
    {
     "name": "stdout",
     "output_type": "stream",
     "text": [
      "{'M': [5, 5], 'N': [9, 9], 'Q': [5, 5], 'PR': [2, 2], 'PC': [2, 2], 'HRR': [4, 9], 'MAMCS': [1, 3], 'ADDER_SIZE': [2, 3], 'ENABLE_INPUT_LATCH': [1, 1], 'ENABLE_COLUMN_LATCH': [1, 1], 'ENABLE_ROW_LATCH': [1, 1], 'ENABLE_SIM_OUTPUT_REGISTERS': [1, 1]}\n"
     ]
    }
   ],
   "source": [
    "parameter_values = {'M': [5, 5], 'N': [9, 9], 'Q': [5, 5], 'PR': [2, 2], 'PC': [2, 2], 'HRR': [4, 9],\n",
    "'MAMCS': [1, 3], 'ADDER_SIZE': [2, 3], 'ENABLE_INPUT_LATCH': [1, 1],\n",
    "'ENABLE_COLUMN_LATCH': [1, 1], 'ENABLE_ROW_LATCH': [1, 1], 'ENABLE_SIM_OUTPUT_REGISTERS': [1, 1]}\n",
    "\n",
    "#temp changes to values\n",
    "# parameter_values[\"NOEPS\"][0] = 1 #2\n",
    "# parameter_values[\"NOEPS\"][1] = 4\n",
    "# print(parameter_values)\n",
    "\n",
    "print(parameter_values)"
   ]
  },
  {
   "cell_type": "code",
   "execution_count": 141,
   "metadata": {},
   "outputs": [],
   "source": [
    "INPUT_REG_DEPTH_max_valid = 2\n",
    "MULT_PIPE_DEPTH_max_valid = 2\n",
    "\n",
    "verilog_notation = {\n",
    "    \"IN_WIDTH\": \">=1\",\n",
    "    \"INPUT_REG_DEPTH\": \"[0,{}]\".format(INPUT_REG_DEPTH_max_valid),\n",
    "    \"MULT_PIPE_DEPTH\": \"[0,{}]\".format(MULT_PIPE_DEPTH_max_valid)\n",
    "}"
   ]
  },
  {
   "cell_type": "code",
   "execution_count": 142,
   "metadata": {},
   "outputs": [],
   "source": [
    "verilog_parameters = verilog_parameters_list[index]"
   ]
  },
  {
   "cell_type": "code",
   "execution_count": 143,
   "metadata": {},
   "outputs": [],
   "source": [
    "# verilog_parameter_values = {}\n",
    "# VnotValid = False\n",
    "# for parameter in verilog_parameters:\n",
    "#     print(parameter+\": \"+verilog_notation[parameter])\n",
    "#     startI = int(input(parameter+\" start:\"))\n",
    "#     endI = int(input(parameter+\" end:\"))\n",
    "#     if parameter == \"IN_WIDTH\":\n",
    "#         start = max(startI,1)\n",
    "#         end = endI\n",
    "#     elif parameter == \"INPUT_REG_DEPTH\":\n",
    "#         start = max(startI,0)\n",
    "#         end = min(endI,INPUT_REG_DEPTH_max_valid)\n",
    "#     elif parameter == \"MULT_PIPE_DEPTH\":\n",
    "#         start = max(startI,0)\n",
    "#         end = min(endI,MULT_PIPE_DEPTH_max_valid)\n",
    "#     else:\n",
    "#         print(\"unknown parameter! will break.\")\n",
    "#         VnotValid = True\n",
    "#         break;\n",
    "#     print(\"calculated start: {}\".format(start))\n",
    "#     print(\"calculated end: {}\".format(end))\n",
    "#     if end<start:\n",
    "#         print(\"Invalid value range! will break.\")\n",
    "#         VnotValid = True\n",
    "#         break;\n",
    "#     verilog_parameter_values[parameter]=[start,end]"
   ]
  },
  {
   "cell_type": "code",
   "execution_count": 144,
   "metadata": {},
   "outputs": [
    {
     "name": "stdout",
     "output_type": "stream",
     "text": [
      "{'IN_WIDTH': [10, 10], 'INPUT_REG_DEPTH': [1, 1], 'MULT_PIPE_DEPTH': [0, 1]}\n"
     ]
    }
   ],
   "source": [
    "verilog_parameter_values = {'IN_WIDTH': [10, 10], 'INPUT_REG_DEPTH': [1, 1], 'MULT_PIPE_DEPTH': [0, 1]}\n",
    "\n",
    "#temp changes\n",
    "\n",
    "print(verilog_parameter_values)"
   ]
  },
  {
   "cell_type": "code",
   "execution_count": 145,
   "metadata": {},
   "outputs": [],
   "source": [
    "has_testbench = has_testbench_list[index]\n",
    "testbench_function = testbench_functions_list[index]"
   ]
  },
  {
   "cell_type": "code",
   "execution_count": 146,
   "metadata": {
    "scrolled": false
   },
   "outputs": [
    {
     "name": "stdout",
     "output_type": "stream",
     "text": [
      "no of parameters: 12\n",
      "\n",
      "no of Results: 3\n"
     ]
    }
   ],
   "source": [
    "print(\"no of parameters: {}\".format(len(parameters)))\n",
    "print()\n",
    "\n",
    "family = \"Spartan6\"\n",
    "device = \"xc6slx150\"\n",
    "package = \"fgg900\"\n",
    "speed_grade = \"-3\"\n",
    "\n",
    "NoOfRresults = 0\n",
    "NoOfParameters = len(parameters)\n",
    "parameters_result = {}\n",
    "ListOfAllParametersResults = []\n",
    "#modules = {}\n",
    "\n",
    "generate_params(0)\n",
    "\n",
    "print(\"no of Results: {}\".format(NoOfRresults))\n",
    "\n",
    "# print(ListOfAllParametersResults)\n",
    "\n",
    "NoOfVeilogParameters = len(verilog_parameters)\n",
    "verilog_parameters_result = {}"
   ]
  },
  {
   "cell_type": "code",
   "execution_count": 147,
   "metadata": {},
   "outputs": [
    {
     "name": "stdout",
     "output_type": "stream",
     "text": [
      "range(0, 3)\n"
     ]
    }
   ],
   "source": [
    "RandomIndices = range(NoOfRresults)\n",
    "print(RandomIndices)"
   ]
  },
  {
   "cell_type": "code",
   "execution_count": 148,
   "metadata": {},
   "outputs": [],
   "source": [
    "# #see NoOfRandomResults\n",
    "\n",
    "# try:\n",
    "#     del sys.modules['Generator_Random_List']\n",
    "# except KeyError:\n",
    "#     pass\n",
    "# from Generator_Random_List import RandomIndices\n",
    "# print(RandomIndices)"
   ]
  },
  {
   "cell_type": "code",
   "execution_count": 149,
   "metadata": {},
   "outputs": [
    {
     "name": "stdout",
     "output_type": "stream",
     "text": [
      "output directory: D:/Thesis_Results_TB_CPU0/\n",
      "start time: 2018-01-17 20:30:22.924278\n",
      "\n",
      "0:\n",
      "{'M': 5, 'N': 9, 'Q': 5, 'PR': 2, 'PC': 2, 'HRR': 5, 'MAMCS': 1, 'ADDER_SIZE': 2, 'ENABLE_INPUT_LATCH': 1, 'ENABLE_COLUMN_LATCH': 1, 'ENABLE_ROW_LATCH': 1, 'ENABLE_SIM_OUTPUT_REGISTERS': 1}\n",
      "{'SItoSoE_9_HRx5_IL_OR': 'SItoSoE', 'RegisteredMultiplier': 'RegisteredMultiplier', 'Registered2to1Adder_NIR': 'RegisteredNto1Adder', 'DotProduct_2_noHR_M_A2': 'DotProduct_noHR_M', 'DotProduct_9_S2E_HRx5_C1_A2': 'DotProduct_SoE', 'MatrixVectorMultiply_5_9_2PR_S2E_HRx5_C1_A2_VL': 'MatrixVectorMultiply_SoE', 'MatrixMatrixMultiply_5_9_5_2PR_2PC_S2E_HRx5_C1_A2_CL_RL': 'MatrixMatrixMultiply_SoE', 'MatrixMatrixMultiply_5_9_5_2PR_2PC_SI_HRx5_C1_A2_IL_CL_RL_MR': 'MatrixMatrixMultiply_SI'}\n",
      "MatrixMatrixMultiply_5_9_5_2PR_2PC_SI_HRx5_C1_A2_IL_CL_RL_MR\n",
      "no of verilog param modes = 2\n",
      "\n",
      "1:\n",
      "{'M': 5, 'N': 9, 'Q': 5, 'PR': 2, 'PC': 2, 'HRR': 5, 'MAMCS': 2, 'ADDER_SIZE': 0, 'ENABLE_INPUT_LATCH': 1, 'ENABLE_COLUMN_LATCH': 1, 'ENABLE_ROW_LATCH': 1, 'ENABLE_SIM_OUTPUT_REGISTERS': 1}\n",
      "{'SItoSoE_9_HRx5_IL_OR': 'SItoSoE', 'RegisteredMultiplier': 'RegisteredMultiplier', 'MultiplyAdd': 'MultiplyAdd', 'DotProduct_Systolic_2': 'DotProduct_Systolic', 'DotProduct_9_S2E_HRx5_C2_A0': 'DotProduct_SoE', 'MatrixVectorMultiply_5_9_2PR_S2E_HRx5_C2_A0_VL': 'MatrixVectorMultiply_SoE', 'MatrixMatrixMultiply_5_9_5_2PR_2PC_S2E_HRx5_C2_A0_CL_RL': 'MatrixMatrixMultiply_SoE', 'MatrixMatrixMultiply_5_9_5_2PR_2PC_SI_HRx5_C2_A0_IL_CL_RL_MR': 'MatrixMatrixMultiply_SI'}\n",
      "MatrixMatrixMultiply_5_9_5_2PR_2PC_SI_HRx5_C2_A0_IL_CL_RL_MR\n",
      "no of verilog param modes = 2\n",
      "\n",
      "2:\n",
      "{'M': 5, 'N': 9, 'Q': 5, 'PR': 2, 'PC': 2, 'HRR': 9, 'MAMCS': 1, 'ADDER_SIZE': 0, 'ENABLE_INPUT_LATCH': 1, 'ENABLE_COLUMN_LATCH': 1, 'ENABLE_ROW_LATCH': 1, 'ENABLE_SIM_OUTPUT_REGISTERS': 1}\n",
      "{'SItoSoE_9_HRx9_IL_OR': 'SItoSoE', 'RegisteredMultiplier': 'RegisteredMultiplier', 'DotProduct_9_S1E_HRx9_C1_A0': 'DotProduct_SoE', 'MatrixVectorMultiply_5_9_2PR_S1E_HRx9_C1_A0_VL': 'MatrixVectorMultiply_SoE', 'MatrixMatrixMultiply_5_9_5_2PR_2PC_S1E_HRx9_C1_A0_CL_RL': 'MatrixMatrixMultiply_SoE', 'MatrixMatrixMultiply_5_9_5_2PR_2PC_SI_HRx9_C1_A0_IL_CL_RL_MR': 'MatrixMatrixMultiply_SI'}\n",
      "MatrixMatrixMultiply_5_9_5_2PR_2PC_SI_HRx9_C1_A0_IL_CL_RL_MR\n",
      "no of verilog param modes = 2\n",
      "\n",
      "no of CPU Results: 3\n",
      "total no of CPU verilog param modes: 6\n",
      "\n",
      "end time: 2018-01-17 20:30:23.049078\n"
     ]
    }
   ],
   "source": [
    "Print_To_File = 1\n",
    "\n",
    "print_result_flag = True\n",
    "\n",
    "make_base_files_flag = True\n",
    "\n",
    "make_Synthesize_files_flag = False\n",
    "Synthesize_flag = False\n",
    "\n",
    "make_Simulate_files_flag = True\n",
    "Simulate_flag = True\n",
    "\n",
    "make_Simulate_files_flag = has_testbench and make_Simulate_files_flag\n",
    "\n",
    "CPU_Cores_Count = 1\n",
    "this_CPU = 0\n",
    "\n",
    "Test_name = \"TB\"\n",
    "\n",
    "Files_Location = \"D:/Thesis_Results_\"+Test_name+\"_CPU{}/\".format(this_CPU)\n",
    "print(\"output directory: \"+Files_Location)\n",
    "\n",
    "NoOfCPUResults = 0\n",
    "NoOfResultsT = 0\n",
    "\n",
    "import datetime\n",
    "print(\"start time: {}\".format(datetime.datetime.now()))\n",
    "print()\n",
    "\n",
    "work_on_random_results_cpu()\n",
    "\n",
    "print(\"no of CPU Results: {}\".format(NoOfCPUResults))\n",
    "print(\"total no of CPU verilog param modes: {}\".format(NoOfResultsT))\n",
    "print()\n",
    "print(\"end time: {}\".format(datetime.datetime.now()))"
   ]
  }
 ],
 "metadata": {
  "kernelspec": {
   "display_name": "Python 3",
   "language": "python",
   "name": "python3"
  },
  "language_info": {
   "codemirror_mode": {
    "name": "ipython",
    "version": 3
   },
   "file_extension": ".py",
   "mimetype": "text/x-python",
   "name": "python",
   "nbconvert_exporter": "python",
   "pygments_lexer": "ipython3",
   "version": "3.6.3"
  }
 },
 "nbformat": 4,
 "nbformat_minor": 2
}
