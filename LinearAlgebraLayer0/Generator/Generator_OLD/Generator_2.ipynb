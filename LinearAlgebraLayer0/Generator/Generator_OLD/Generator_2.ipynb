{
 "cells": [
  {
   "cell_type": "code",
   "execution_count": 1,
   "metadata": {
    "collapsed": false
   },
   "outputs": [],
   "source": [
    "import sys\n",
    "import math\n",
    "from MatrixMatrixMultiply_OTI_V1_1 import MatrixMatrixMultiply_OTI"
   ]
  },
  {
   "cell_type": "code",
   "execution_count": 2,
   "metadata": {
    "collapsed": true
   },
   "outputs": [],
   "source": [
    "__Print_To_File = 0"
   ]
  },
  {
   "cell_type": "code",
   "execution_count": 3,
   "metadata": {
    "collapsed": true
   },
   "outputs": [],
   "source": [
    "def CEIL(a,b):\n",
    "    return (a+b-1)//b"
   ]
  },
  {
   "cell_type": "code",
   "execution_count": 4,
   "metadata": {
    "collapsed": false
   },
   "outputs": [],
   "source": [
    "def generate(i,n):\n",
    "    global COUNTER\n",
    "    if i==n:\n",
    "        COUNTER += 1\n",
    "        print(result)\n",
    "        print()\n",
    "        function(result, __Print_To_File)\n",
    "        return\n",
    "#     print(i,parameters[i])\n",
    "    param = parameters[i]\n",
    "    vals = parameter_values[param]\n",
    "    start = vals[0]\n",
    "    end = vals[1]\n",
    "    if param in [\"N\"]:\n",
    "        for val in range(max(start,1),end+1): #nmin\n",
    "            result[param] = val\n",
    "            generate(i+1,n)\n",
    "    if param in [\"M\",\"Q\"]:\n",
    "        for val in range(max(start,1),end+1):\n",
    "            result[param] = val\n",
    "            generate(i+1,n)\n",
    "    if param in [\"ENABLE_INPUT_LATCH\",\"ENABLE_COLUMN_LATCH\",\"ENABLE_ROW_LATCH\",\"ENABLE_OTI_OUTPUT_REGISTERS\"]:\n",
    "        for val in range(max(start,0),min(end,1)+1):\n",
    "            result[param] = val\n",
    "            generate(i+1,n)\n",
    "#     if param in [\"IN_WIDTH\",\"INPUT_REG_DEPTH\",\"MULT_PIPE_DEPTH\"]:\n",
    "#         for val in range(start,end+1):\n",
    "#             result[param] = val\n",
    "#             generate(i+1,n)    \n",
    "    if param == \"PR\":\n",
    "        for val in range(max(start,1),min(end,result['M'])+1):\n",
    "            result['PR'] = val\n",
    "            generate(i+1,n)\n",
    "    if param == \"PC\":\n",
    "        for val in range(max(start,1),min(end,result['Q'])+1):\n",
    "            result[\"PC\"] = val\n",
    "            generate(i+1,n)\n",
    "#     if param == \"NOEPS\":\n",
    "#         for val in range(max(start,1),min(end,result['N']-1)+1):\n",
    "#                 result[\"NOEPS\"] = val\n",
    "#                 generate(i+1,n)\n",
    "    if param == \"HRR\":\n",
    "        for val in range(max(start,2),min(end,result['N'])+1): #2 or 1?\n",
    "            N = result[\"N\"]\n",
    "            result[\"HRR\"] = val\n",
    "            result[\"NOEPS\"] = CEIL(N,val)\n",
    "            generate(i+1,n)\n",
    "#             noeps_start = CEIL(N,HRR) # ceil(N/HRR)\n",
    "#             neops_end = CEIL(N,val-1) # ceil(N/(HRR-1))-1 => end = max_NOEPS + 1 because of inclusive range\n",
    "#             for neops in range(noeps_start,neops_end):\n",
    "#                 result[\"NOEPS\"] = neops\n",
    "#                 generate(i+1,n)\n",
    "    if param == \"MAMCS\":\n",
    "        for val in range(max(start,1),min(end,result[\"NOEPS\"])+1):\n",
    "            result[\"MAMCS\"] = val\n",
    "            generate(i+1,n)\n",
    "    if param == \"ADDER_SIZE\":\n",
    "        if result[\"MAMCS\"] >= result[\"NOEPS\"]:\n",
    "            result[\"ADDER_SIZE\"] = 0\n",
    "            generate(i+1,n)\n",
    "        else:\n",
    "            for val in range(max(start,2),min(end,CEIL(result[\"NOEPS\"],result[\"MAMCS\"]))+1):\n",
    "#             if CEIL(CEIL(result[\"N\"],result[\"HRR\"]),result[\"MAMCS\"]):\n",
    "                result[\"ADDER_SIZE\"] = val\n",
    "                generate(i+1,n)"
   ]
  },
  {
   "cell_type": "code",
   "execution_count": 5,
   "metadata": {
    "collapsed": true
   },
   "outputs": [],
   "source": [
    "functions_list = []\n",
    "functions_names_list = []\n",
    "parameters_list = []\n",
    "parameter_values_list = []"
   ]
  },
  {
   "cell_type": "code",
   "execution_count": 6,
   "metadata": {
    "collapsed": false
   },
   "outputs": [],
   "source": [
    "#MatrixMatrixMultiply_OTI\n",
    "\n",
    "functions_list.append(MatrixMatrixMultiply_OTI)\n",
    "functions_names_list.append(\"MatrixMatrixMultiply_OTI\")\n",
    "\n",
    "parameters_list.append([\"M\",\"N\",\"Q\",\"PR\",\"PC\",\"HRR\",\"MAMCS\",\"ADDER_SIZE\",\n",
    "                       \"ENABLE_INPUT_LATCH\",\"ENABLE_COLUMN_LATCH\",\"ENABLE_ROW_LATCH\",\"ENABLE_OTI_OUTPUT_REGISTERS\"])\n",
    "\n",
    "parameter_values_list.append ({\n",
    "    \"M\": [0,0],\"N\": [0,0],\"Q\": [0,0],\n",
    "    \"PR\": [0,0],\"PC\": [0,0],\"HRR\": [0,0],\"MAMCS\": [0,0],\"ADDER_SIZE\": [0,0],\n",
    "    \"ENABLE_INPUT_LATCH\": [0,0],\"ENABLE_COLUMN_LATCH\": [0,0],\"ENABLE_ROW_LATCH\": [0,0],\"ENABLE_OTI_OUTPUT_REGISTERS\": [0,0]\n",
    "})\n",
    "\n",
    "#nstart: 2\n",
    "#HRR mode: only HRR\n",
    "#HRR_NOEPS_mode: HRR given, NOEPS (1 value) calculated"
   ]
  },
  {
   "cell_type": "code",
   "execution_count": 7,
   "metadata": {
    "collapsed": true
   },
   "outputs": [],
   "source": [
    "#MatrixMatrixMultiply_SE\n",
    "\n",
    "# functions_list.append(MatrixMatrixMultiply_SE)\n",
    "# functions_names_list.append(\"MatrixMatrixMultiply_SE\")\n",
    "\n",
    "# parameters_list.append([\"M\",\"N\",\"Q\",\"PR\",\"PC\",\"NOEPS\",\"MAMCS\",\"ADDER_SIZE\",\n",
    "#                        \"ENABLE_INPUT_LATCH\",\"ENABLE_COLUMN_LATCH\",\"ENABLE_ROW_LATCH\",\"ENABLE_OTI_OUTPUT_REGISTERS\"])\n",
    "\n",
    "# parameter_values_list.append ({\n",
    "#     \"M\": [0,0],\"N\": [0,0],\"Q\": [0,0],\n",
    "#     \"PR\": [0,0],\"PC\": [0,0],\"NOEPS\": [0,0],\"MAMCS\": [0,0],\"ADDER_SIZE\": [0,0],\n",
    "#     \"ENABLE_INPUT_LATCH\": [0,0],\"ENABLE_COLUMN_LATCH\": [0,0],\"ENABLE_ROW_LATCH\": [0,0],\"ENABLE_OTI_OUTPUT_REGISTERS\": [0,0]\n",
    "# })\n",
    "\n",
    "#nstart: 2\n",
    "#HRR mode: ?\n",
    "#HRR_NOEPS_mode: NOEPS given, HRR (1 value) calculated"
   ]
  },
  {
   "cell_type": "code",
   "execution_count": null,
   "metadata": {
    "collapsed": false
   },
   "outputs": [
    {
     "name": "stdout",
     "output_type": "stream",
     "text": [
      "choose function:\n",
      "1: MatrixMatrixMultiply_OTI\n",
      "Enter function number([1,1]):1\n"
     ]
    }
   ],
   "source": [
    "print(\"choose function:\")\n",
    "i=0;\n",
    "for n in functions_names_list:\n",
    "    i+=1\n",
    "    print(\"{}: \".format(i)+n)\n",
    "index = int(input(\"Enter function number([1,{}]):\".format(i)))-1\n",
    "function = functions_list[index]"
   ]
  },
  {
   "cell_type": "code",
   "execution_count": null,
   "metadata": {
    "collapsed": false
   },
   "outputs": [
    {
     "name": "stdout",
     "output_type": "stream",
     "text": [
      "M: >=1\n",
      "M start:1\n",
      "M end:5\n",
      "N: >=2\n",
      "N start:2\n",
      "N end:5\n",
      "Q: >=1\n",
      "Q start:1\n",
      "Q end:1\n",
      "PR: [1,5]\n"
     ]
    }
   ],
   "source": [
    "parameters = parameters_list[index]\n",
    "parameter_values = parameter_values_list[index]\n",
    "\n",
    "notation = { #should be updated after getting values\n",
    "    \"M\": \">=1\",\n",
    "    \"N\": \">=2\",\n",
    "    \"Q\": \">=1\",\n",
    "    #\"PR\": \"[1,{}]\".format(parameter_values[\"M\"][1]),\n",
    "    #\"PR\": \"[1,\"+str(parameter_values[\"M\"][1])+\"]\",\n",
    "    \"PC\": \"[1,{}]\".format(parameter_values[\"Q\"][1]),\n",
    "    #\"NOEPS\": \"[1,{}]\".format(parameter_values[\"N\"][1]),\n",
    "    \"HRR\": \"[2,{}]\".format(parameter_values[\"N\"][1]),\n",
    "    \"MAMCS\": \"[1,{}]\".format(parameter_values[\"N\"][1]),\n",
    "    \"ADDER_SIZE\": \"[0,{}]\".format(parameter_values[\"N\"][1]),\n",
    "    \"ENABLE_INPUT_LATCH\": \"0,1\",\n",
    "    \"ENABLE_COLUMN_LATCH\": \"0,1\",\n",
    "    \"ENABLE_ROW_LATCH\": \"0,1\",\n",
    "    \"ENABLE_OTI_OUTPUT_REGISTERS\": \"0,1\"\n",
    "}\n",
    "\n",
    "for parameter in parameters:\n",
    "    print(parameter+\": \"+notation[parameter])\n",
    "    start = int(input(parameter+\" start:\"))\n",
    "    end = int(input(parameter+\" end:\"))\n",
    "    parameter_values[parameter][0] = start\n",
    "    parameter_values[parameter][1] = end\n",
    "    if parameter == \"M\":\n",
    "        notation[\"PR\"] = \"[1,{}]\".format(end)\n",
    "print(parameter_values)"
   ]
  },
  {
   "cell_type": "code",
   "execution_count": null,
   "metadata": {
    "collapsed": false
   },
   "outputs": [],
   "source": [
    "# result = {key:0 for key in parameters}\n",
    "#if \"HRR\" in result:\n",
    "#    result[\"NOEPS\"] = 0\n",
    "result = {}\n",
    "COUNTER = 0\n",
    "print(\"parameter count: {}\\n\".format(len(parameters)))\n",
    "generate(0,len(parameters))\n",
    "print(\"\\nno of results: {}\".format(COUNTER))"
   ]
  }
 ],
 "metadata": {
  "kernelspec": {
   "display_name": "Python 3",
   "language": "python",
   "name": "python3"
  },
  "language_info": {
   "codemirror_mode": {
    "name": "ipython",
    "version": 3
   },
   "file_extension": ".py",
   "mimetype": "text/x-python",
   "name": "python",
   "nbconvert_exporter": "python",
   "pygments_lexer": "ipython3",
   "version": "3.5.1"
  }
 },
 "nbformat": 4,
 "nbformat_minor": 2
}
