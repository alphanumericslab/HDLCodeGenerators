{
 "cells": [
  {
   "cell_type": "code",
   "execution_count": 1,
   "metadata": {
    "collapsed": false
   },
   "outputs": [],
   "source": [
    "import sys\n",
    "import math\n",
    "from MatrixMatrixMultiply_OTI_V1_1 import MatrixMatrixMultiply_OTI"
   ]
  },
  {
   "cell_type": "code",
   "execution_count": 15,
   "metadata": {
    "collapsed": true
   },
   "outputs": [],
   "source": [
    "__Print_To_File = 0"
   ]
  },
  {
   "cell_type": "code",
   "execution_count": 2,
   "metadata": {
    "collapsed": true
   },
   "outputs": [],
   "source": [
    "def CEIL(a,b):\n",
    "    return (a+b-1)//b"
   ]
  },
  {
   "cell_type": "code",
   "execution_count": 13,
   "metadata": {
    "collapsed": false
   },
   "outputs": [],
   "source": [
    "def generate(i,n):\n",
    "    global COUNTER\n",
    "    if i==n:\n",
    "        COUNTER += 1\n",
    "        print(result)\n",
    "        print()\n",
    "        function(result, __Print_To_File)\n",
    "        return\n",
    "#     else:\n",
    "#         print(i,parameters[i])\n",
    "    param = parameters[i]\n",
    "    vals = parameter_values[param]\n",
    "    start = vals[0]\n",
    "    end = vals[1] + 1\n",
    "    if param in [\"M\",\"N\",\"Q\"]:\n",
    "        for val in range(start,end):\n",
    "            result[param] = val\n",
    "            generate(i+1,n)\n",
    "    if param in [\"ENABLE_INPUT_LATCH\",\"ENABLE_COLUMN_LATCH\",\"ENABLE_ROW_LATCH\",\"ENABLE_OTI_OUTPUT_REGISTERS\"]:\n",
    "        for val in range(start,end):\n",
    "            result[param] = val\n",
    "            generate(i+1,n)\n",
    "#     if param in [\"IN_WIDTH\",\"INPUT_REG_DEPTH\",\"MULT_PIPE_DEPTH\"]:\n",
    "#         for val in range(start,end):\n",
    "#             result[param] = val\n",
    "#             generate(i+1,n)    \n",
    "    if param == \"PR\":\n",
    "        for val in range(start,end):\n",
    "            if val >= 1 and val <= result['M']:\n",
    "                result['PR'] = val\n",
    "                generate(i+1,n)\n",
    "    if param == \"PC\":\n",
    "        for val in range(start,end):\n",
    "            if val >=1 and val <= result['Q']:\n",
    "                result[\"PC\"] = val\n",
    "                generate(i+1,n)\n",
    "#     if param == \"NOEPS\":\n",
    "#         for val in range(start,end):\n",
    "#             if val >= 1 and val <= (result['N']-1):\n",
    "#                 result[\"NOEPS\"] = val\n",
    "#                 generate(i+1,n)\n",
    "    if param == \"HRR\":\n",
    "        for val in range(start,end):\n",
    "            N = result[\"N\"]\n",
    "            if val >=2 and val <= N:\n",
    "                result[\"HRR\"] = val\n",
    "#                 result[\"NOEPS\"] = CEIL(N,val)\n",
    "                generate(i+1,n)\n",
    "#                 noeps_start = CEIL(N,HRR) # ceil(N/HRR)\n",
    "#                 neops_end = CEIL(N,val-1) # ceil(N/(HRR-1))-1 => end = max_NOEPS + 1 because of inclusive range\n",
    "#                 for neops in range(noeps_start,neops_end):\n",
    "#                     result[\"NOEPS\"] = neops\n",
    "#                     generate(i+1,n)\n",
    "    if param == \"MAMCS\":\n",
    "        for val in range(start,end):\n",
    "#             if val >= 1 and val <= result[\"NOEPS\"]:\n",
    "            if val >= 1 and val <= CEIL(result[\"N\"],result[\"HRR\"]):\n",
    "                result[\"MAMCS\"] = val\n",
    "                generate(i+1,n)\n",
    "    if param == \"ADDER_SIZE\":\n",
    "#         if result[\"MAMCS\"] >= result[\"NOEPS\"]:\n",
    "        if result[\"MAMCS\"] >= CEIL(result[\"N\"],result[\"HRR\"]):\n",
    "            result[\"ADDER_SIZE\"] = 0\n",
    "            generate(i+1,n)\n",
    "        else:\n",
    "            print(\"false\")\n",
    "            for val in range(start,end):\n",
    "#                 if val >= 2 and val <= CEIL(result[\"NOEPS\"],result[\"MAMCS\"]):\n",
    "                if val >= 2 and val <= CEIL(CEIL(result[\"N\"],result[\"HRR\"]),result[\"MAMCS\"]):\n",
    "                    result[\"ADDER_SIZE\"] = val\n",
    "                    generate(i+1,n)"
   ]
  },
  {
   "cell_type": "code",
   "execution_count": 4,
   "metadata": {
    "collapsed": true
   },
   "outputs": [],
   "source": [
    "functions_list = []\n",
    "parameters_list = []\n",
    "parameter_values_list = []"
   ]
  },
  {
   "cell_type": "code",
   "execution_count": 5,
   "metadata": {
    "collapsed": false
   },
   "outputs": [],
   "source": [
    "#MatrixMatrixMultiply_OTI\n",
    "\n",
    "functions_list.append(MatrixMatrixMultiply_OTI)\n",
    "\n",
    "parameters_list.append([\"M\",\"N\",\"Q\",\"PR\",\"PC\",\"HRR\",\"MAMCS\",\"ADDER_SIZE\",\n",
    "                       \"ENABLE_INPUT_LATCH\",\"ENABLE_COLUMN_LATCH\",\"ENABLE_ROW_LATCH\",\"ENABLE_OTI_OUTPUT_REGISTERS\"])\n",
    "\n",
    "parameter_values_list.append ({\n",
    "    \"M\": [0,0],\"N\": [0,0],\"Q\": [0,0],\n",
    "    \"PR\": [0,0],\"PC\": [0,0],\"HRR\": [0,0],\"MAMCS\": [0,0],\"ADDER_SIZE\": [0,0],\n",
    "    \"ENABLE_INPUT_LATCH\": [0,0],\"ENABLE_COLUMN_LATCH\": [0,0],\"ENABLE_ROW_LATCH\": [0,0],\"ENABLE_OTI_OUTPUT_REGISTERS\": [0,0]\n",
    "})\n",
    "\n",
    "#nstart: 2\n",
    "#NOEPS_auto: TRUE"
   ]
  },
  {
   "cell_type": "code",
   "execution_count": 6,
   "metadata": {
    "collapsed": false
   },
   "outputs": [
    {
     "name": "stdout",
     "output_type": "stream",
     "text": [
      "choose function:\n",
      "1: MatrixMatrixMultiply_OTI\n",
      "input [1,1]:1\n"
     ]
    }
   ],
   "source": [
    "index = int(input(\"choose function:\\n1: MatrixMatrixMultiply_OTI\\ninput [1,1]:\"))-1\n",
    "function = functions_list[index]"
   ]
  },
  {
   "cell_type": "code",
   "execution_count": 7,
   "metadata": {
    "collapsed": false
   },
   "outputs": [
    {
     "name": "stdout",
     "output_type": "stream",
     "text": [
      "M: >=1\n",
      "M start:1\n",
      "M end:1\n",
      "N: >=2\n",
      "N start:2\n",
      "N end:2\n",
      "Q: >=1\n",
      "Q start:1\n",
      "Q end:1\n",
      "PR: [1,0]\n",
      "PR start:1\n",
      "PR end:1\n",
      "PC: [1,0]\n",
      "PC start:1\n",
      "PC end:1\n",
      "HRR: [2,0]\n",
      "HRR start:2\n",
      "HRR end:2\n",
      "MAMCS: [1,0]\n",
      "MAMCS start:1\n",
      "MAMCS end:1\n",
      "ADDER_SIZE: [0,0]\n",
      "ADDER_SIZE start:0\n",
      "ADDER_SIZE end:0\n",
      "ENABLE_INPUT_LATCH: 0,1\n",
      "ENABLE_INPUT_LATCH start:1\n",
      "ENABLE_INPUT_LATCH end:1\n",
      "ENABLE_COLUMN_LATCH: 0,1\n",
      "ENABLE_COLUMN_LATCH start:1\n",
      "ENABLE_COLUMN_LATCH end:1\n",
      "ENABLE_ROW_LATCH: 0,1\n",
      "ENABLE_ROW_LATCH start:1\n",
      "ENABLE_ROW_LATCH end:1\n",
      "ENABLE_OTI_OUTPUT_REGISTERS: 0,1\n",
      "ENABLE_OTI_OUTPUT_REGISTERS start:1\n",
      "ENABLE_OTI_OUTPUT_REGISTERS end:1\n",
      "{'M': [1, 1], 'ENABLE_INPUT_LATCH': [1, 1], 'PC': [1, 1], 'MAMCS': [1, 1], 'ENABLE_OTI_OUTPUT_REGISTERS': [1, 1], 'ENABLE_COLUMN_LATCH': [1, 1], 'ENABLE_ROW_LATCH': [1, 1], 'N': [2, 2], 'Q': [1, 1], 'PR': [1, 1], 'HRR': [2, 2], 'ADDER_SIZE': [0, 0]}\n"
     ]
    }
   ],
   "source": [
    "parameters = parameters_list[index]\n",
    "parameter_values = parameter_values_list[index]\n",
    "\n",
    "notation = { #should be updated after getting values\n",
    "    \"M\": \">=1\",\n",
    "    \"N\": \">=2\",\n",
    "    \"Q\": \">=1\",\n",
    "    \"PR\": \"[1,{}]\".format(parameter_values[\"N\"][1]),\n",
    "    \"PC\": \"[1,{}]\".format(parameter_values[\"N\"][1]),\n",
    "    #\"NOEPS\": \"[1,{}]\".format(parameter_values[\"N\"][1]),\n",
    "    \"HRR\": \"[2,{}]\".format(parameter_values[\"N\"][1]),\n",
    "    \"MAMCS\": \"[1,{}]\".format(parameter_values[\"N\"][1]),\n",
    "    \"ADDER_SIZE\": \"[0,{}]\".format(parameter_values[\"N\"][1]),\n",
    "    \"ENABLE_INPUT_LATCH\": \"0,1\",\n",
    "    \"ENABLE_COLUMN_LATCH\": \"0,1\",\n",
    "    \"ENABLE_ROW_LATCH\": \"0,1\",\n",
    "    \"ENABLE_OTI_OUTPUT_REGISTERS\": \"0,1\"\n",
    "}\n",
    "\n",
    "for parameter in parameters:\n",
    "    print(parameter+\": \"+notation[parameter])\n",
    "    start = int(input(parameter+\" start:\"))\n",
    "    end = int(input(parameter+\" end:\"))\n",
    "    parameter_values[parameter][0] = start\n",
    "    parameter_values[parameter][1] = end\n",
    "    #print(parameter_values[\"N\"][1])\n",
    "print(parameter_values)"
   ]
  },
  {
   "cell_type": "code",
   "execution_count": 16,
   "metadata": {
    "collapsed": false
   },
   "outputs": [
    {
     "name": "stdout",
     "output_type": "stream",
     "text": [
      "parameter count: 12\n",
      "\n",
      "{'M': 1, 'ENABLE_INPUT_LATCH': 1, 'PC': 1, 'MAMCS': 1, 'ENABLE_OTI_OUTPUT_REGISTERS': 1, 'ENABLE_COLUMN_LATCH': 1, 'ENABLE_ROW_LATCH': 1, 'N': 2, 'Q': 1, 'PR': 1, 'HRR': 2, 'ADDER_SIZE': 0}\n",
      "\n",
      "`timescale 1ns / 1ps\n",
      "\n",
      "module MatrixMatrixMultiply_1_2_1_1PR_1PC_OTIR_HRx2_S1E_C1_A0_IL_CL_RL\n",
      "#(parameter\n",
      "IN_WIDTH = 10,\n",
      "INPUT_REG_DEPTH = 1,\n",
      "MULT_PIPE_DEPTH = 1\n",
      ")(\n",
      "input clk, reset, enable,\n",
      "output newInSeriesStart,\n",
      "output reg inSeries = 0,\n",
      "output reg rowSetInNo = 0,\n",
      "output reg columnSetInNo = 0,\n",
      "input inReady,\n",
      "input signed [IN_WIDTH-1:0] AE0R0, AE1R0, \n",
      "input signed [IN_WIDTH-1:0] BE0C0, BE1C0, \n",
      "output C0R0EReady,\n",
      "output reg NUEReady1 = 0, //not used\n",
      "output reg NUEReady2 = 0, //not used\n",
      "output reg NUEReady3 = 0, //not used\n",
      "output rowSetOutNo,\n",
      "output columnSetOutNo,\n",
      "output signed [(2*IN_WIDTH):0] EC0R0, \n",
      "output earlyC0R0EReady,\n",
      "output reg NUeEReady1 = 0, //not used\n",
      "output reg NUeEReady2 = 0, //not used\n",
      "output reg NUeEReady3 = 0 //not used\n",
      ");\n",
      "\n",
      "wire MMInReadyR;\n",
      "wire inReadyCR = (columnSetInNo==0) & inReady;\n",
      "wire signed [IN_WIDTH-1:0] ASE0R0;\n",
      "OTItoSeries_2_HRx2_S1E_NOR_IL #( .IN_WIDTH(IN_WIDTH) )\n",
      "OTItSA0 (\n",
      "clk, reset, enable,\n",
      "A0NISS, //not used\n",
      "A0IS, //not used\n",
      "inReadyCR,\n",
      "AE0R0, AE1R0, \n",
      "MMInReadyR,\n",
      "A0S2outReady, //not used\n",
      "A0outSeries, //not used\n",
      "ASE0R0, \n",
      "A0S1earlyOutReady, //not used\n",
      "A0S2earlyOutReady //not used\n",
      ");\n",
      "\n",
      "wire MMInReadyC;\n",
      "wire inReadyCC = (rowSetInNo==0) & inReady;\n",
      "wire signed [IN_WIDTH-1:0] BSE0C0;\n",
      "OTItoSeries_2_HRx2_S1E_NOR_IL #( .IN_WIDTH(IN_WIDTH) )\n",
      "OTItSB0 (\n",
      "clk, reset, enable,\n",
      "B0NISS, //not used\n",
      "B0IS, //not used\n",
      "inReadyCC,\n",
      "BE0C0, BE1C0, \n",
      "MMInReadyC,\n",
      "B0S2outReady, //not used\n",
      "B0outSeries, //not used\n",
      "BSE0C0, \n",
      "B0S1earlyOutReady, //not used\n",
      "B0S2earlyOutReady //not used\n",
      ");\n",
      "\n",
      "reg newInSeriesStartI = 0;\n",
      "wire inrCC = (columnSetInNo!=0) & (rowSetInNo!=0);\n",
      "wire inReadyC = inReady | inrCC;\n",
      "assign newInSeriesStart = newInSeriesStartI & (~inrCC);\n",
      "always @(posedge clk) begin\n",
      "\tif(reset) begin\n",
      "\t\tinSeries <= 0;\n",
      "\t\tnewInSeriesStartI <= 0;\n",
      "\tend\n",
      "\telse if(enable & (inReadyC | (inSeries!=0))) begin\n",
      "\t\tif(inSeries==1) begin\n",
      "\t\t\tnewInSeriesStartI <= 1;\n",
      "\t\t\tinSeries <= 0;\n",
      "\t\tend\n",
      "\t\telse begin\n",
      "\t\t\tnewInSeriesStartI <= 0;\n",
      "\t\t\tinSeries <= 1;\n",
      "\t\tend\n",
      "\tend\n",
      "end\n",
      "\n",
      "wire MMInReady = MMInReadyR | MMInReadyC;\n",
      "MatrixMatrixMultiply_1_2_1_1PR_1PC_S1E_HRx2_C1_A0_CL_RL\n",
      "#(IN_WIDTH, INPUT_REG_DEPTH, MULT_PIPE_DEPTH)\n",
      "MMM(clk, reset, enable,\n",
      "MMNewInSeriesStart, //not used\n",
      "MMInSeries, //not used\n",
      "MMRowSetInNo, //not used\n",
      "MMColumnSetInNo, //not used\n",
      "MMInReady,\n",
      "ASE0R0, \n",
      "BSE0C0, \n",
      "C0R0EReady,\n",
      "NUmmEReady1, //not used\n",
      "NUmmEReady2, //not used\n",
      "NUmmEReady3, //not used\n",
      "rowSetOutNo,\n",
      "columnSetOutNo,\n",
      "EC0R0, \n",
      "earlyC0R0EReady,\n",
      "NUmmeEReady1, //not used\n",
      "NUmmeEReady2, //not used\n",
      "NUmmeEReady3 //not used\n",
      ");\n",
      "\n",
      "endmodule\n",
      "\n",
      "no of results: 1\n"
     ]
    }
   ],
   "source": [
    "result = {key:0 for key in parameters}\n",
    "#if \"HRR\" in result:\n",
    "#    result[\"NOEPS\"] = 0\n",
    "COUNTER = 0\n",
    "print(\"parameter count: {}\\n\".format(len(parameters)))\n",
    "generate(0,len(parameters))\n",
    "print(\"\\nno of results: {}\".format(COUNTER))"
   ]
  }
 ],
 "metadata": {
  "kernelspec": {
   "display_name": "Python 3",
   "language": "python",
   "name": "python3"
  },
  "language_info": {
   "codemirror_mode": {
    "name": "ipython",
    "version": 3
   },
   "file_extension": ".py",
   "mimetype": "text/x-python",
   "name": "python",
   "nbconvert_exporter": "python",
   "pygments_lexer": "ipython3",
   "version": "3.5.1"
  }
 },
 "nbformat": 4,
 "nbformat_minor": 2
}
