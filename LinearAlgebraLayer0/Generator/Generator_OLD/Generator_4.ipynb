{
 "cells": [
  {
   "cell_type": "code",
   "execution_count": 1,
   "metadata": {
    "collapsed": true
   },
   "outputs": [],
   "source": [
    "#Note: Can add synthesis params (like use_dsp48) as 3rd series params"
   ]
  },
  {
   "cell_type": "code",
   "execution_count": 2,
   "metadata": {
    "collapsed": true
   },
   "outputs": [],
   "source": [
    "#HRR_mode: noHR only (1), noHR or SoE_HRR (2), SoE_HRR only (3), OTI (4)\n",
    "#N start: 1, 1, 2, 2\n",
    "#1: no HRR and NOEPS, 2 and 3: NOEPS given, HRR calculated, 4: HRR given, NOEPS calculated"
   ]
  },
  {
   "cell_type": "code",
   "execution_count": 3,
   "metadata": {
    "collapsed": false
   },
   "outputs": [
    {
     "name": "stdout",
     "output_type": "stream",
     "text": [
      "importing Jupyter notebook from REGISTERED_Generator.ipynb\n",
      "importing Jupyter notebook from MatrixMatrixMultiply_OTI_V1_1.ipynb\n",
      "importing Jupyter notebook from OTItoSeries_V1_00.ipynb\n",
      "importing Jupyter notebook from MatrixMatrixMultiply_SoE_V1_1.ipynb\n",
      "importing Jupyter notebook from MatrixVectorMultiply_SoE_V2_5.ipynb\n"
     ]
    }
   ],
   "source": [
    "import sys\n",
    "import math\n",
    "\n",
    "import import_ipynb\n",
    "from REGISTERED_Generator import REGISTERED_Gen\n",
    "\n",
    "from MatrixMatrixMultiply_OTI_V1_1 import MatrixMatrixMultiply_OTI\n",
    "from MatrixMatrixMultiply_SoE_V1_1 import MatrixMatrixMultiply_SoE\n",
    "from MatrixVectorMultiply_SoE_V2_5 import MatrixVectorMultiply_SoE\n",
    "\n",
    "from OTItoSeries_V1_00 import OTItoSeries"
   ]
  },
  {
   "cell_type": "code",
   "execution_count": 4,
   "metadata": {
    "collapsed": false
   },
   "outputs": [],
   "source": [
    "# # re_import after changes\n",
    "# del sys.modules['REGISTERED_Generator']\n",
    "# from REGISTERED_Generator import REGISTERED_Gen"
   ]
  },
  {
   "cell_type": "code",
   "execution_count": 5,
   "metadata": {
    "collapsed": false
   },
   "outputs": [],
   "source": [
    "# # re_import after changes\n",
    "# del sys.modules['OTItoSeries_V1_00']\n",
    "# from OTItoSeries_V1_00 import OTItoSeries"
   ]
  },
  {
   "cell_type": "code",
   "execution_count": 6,
   "metadata": {
    "collapsed": false
   },
   "outputs": [],
   "source": [
    "# # re_import after changes\n",
    "# del sys.modules['MatrixMatrixMultiply_OTI_V1_1']\n",
    "# from MatrixMatrixMultiply_OTI_V1_1 import MatrixMatrixMultiply_OTI"
   ]
  },
  {
   "cell_type": "code",
   "execution_count": 7,
   "metadata": {
    "collapsed": true
   },
   "outputs": [],
   "source": [
    "def CEIL(a,b):\n",
    "    return (a+b-1)//b"
   ]
  },
  {
   "cell_type": "code",
   "execution_count": 8,
   "metadata": {
    "collapsed": false
   },
   "outputs": [],
   "source": [
    "#read-only globals: NoOfParameters, HRRmode, Print_To_File, Files_Location\n",
    "#writed globals: parameters_result\n",
    "def generate_params(i):\n",
    "    global NoOfRresults, NoOfRresultsT, NOEPS\n",
    "    if i==NoOfParameters:\n",
    "        NoOfRresults += 1\n",
    "        NoOfRresultsT += make_files()\n",
    "        return\n",
    "#     print(i,parameters[i])\n",
    "    param = parameters[i]\n",
    "    vals = parameter_values[param]\n",
    "    start = vals[0]\n",
    "    end = vals[1]\n",
    "    if param == \"N\":\n",
    "        for val in range(start,end+1):\n",
    "            parameters_result[param] = val\n",
    "            generate_params(i+1)\n",
    "    elif param in [\"M\",\"Q\"]:\n",
    "        for val in range(start,end+1):\n",
    "            parameters_result[param] = val\n",
    "            generate_params(i+1)\n",
    "    elif param in [\"ENABLE_INPUT_LATCH\",\"ENABLE_COLUMN_LATCH\",\"ENABLE_ROW_LATCH\",\"ENABLE_OTI_OUTPUT_REGISTERS\"]:\n",
    "        for val in range(start,end+1):\n",
    "            parameters_result[param] = val\n",
    "            generate_params(i+1)\n",
    "    elif param == \"PR\":\n",
    "        for val in range(start,min(end,parameters_result['M'])+1):\n",
    "            parameters_result[\"PR\"] = val\n",
    "            generate_params(i+1)\n",
    "    elif param == \"PC\":\n",
    "        for val in range(start,min(end,parameters_result['Q'])+1):\n",
    "            parameters_result[\"PC\"] = val\n",
    "            generate_params(i+1)\n",
    "    elif param == \"HRR\":\n",
    "        for val in range(start,min(end,parameters_result['N'])+1):\n",
    "            parameters_result[\"HRR\"] = val\n",
    "            generate_params(i+1)\n",
    "    elif param == \"NOEPS\":\n",
    "        if HRRmode == 2:\n",
    "            endH = parameters_result[\"N\"]\n",
    "        elif HRRmode == 3:\n",
    "            endH = parameters_result[\"N\"]-1\n",
    "        for val in range(start,min(end,endH)+1):\n",
    "                parameters_result[\"NOEPS\"] = val\n",
    "                generate_params(i+1)\n",
    "    elif param == \"MAMCS\":\n",
    "        if HRRmode == 1:\n",
    "            NOEPS = parameters_result[\"N\"]\n",
    "        elif HRRmode in [2,3]:\n",
    "            NOEPS = parameters_result[\"NOEPS\"]\n",
    "        elif HRRmode == 4:\n",
    "            NOEPS = CEIL(parameters_result[\"N\"],parameters_result[\"HRR\"])\n",
    "        for val in range(start,min(end,NOEPS)+1):\n",
    "            parameters_result[\"MAMCS\"] = val\n",
    "            generate_params(i+1)\n",
    "    elif param == \"ADDER_SIZE\":\n",
    "        if parameters_result[\"MAMCS\"] == NOEPS:\n",
    "            parameters_result[\"ADDER_SIZE\"] = 0\n",
    "            generate_params(i+1)\n",
    "        else: #MAMCS < NOEPS\n",
    "            for val in range(start,min(end,CEIL(NOEPS,parameters_result[\"MAMCS\"]))+1):\n",
    "                parameters_result[\"ADDER_SIZE\"] = val\n",
    "                generate_params(i+1)"
   ]
  },
  {
   "cell_type": "code",
   "execution_count": 9,
   "metadata": {
    "collapsed": false
   },
   "outputs": [],
   "source": [
    "def make_files():\n",
    "    global top, Current_Files_Location, NoOfVResults, modules\n",
    "    print(parameters_result)\n",
    "    modules = {}\n",
    "    top = function(parameters_result, Print_To_File, Files_Location, 1, modules)\n",
    "    print(modules)\n",
    "    print(top)\n",
    "    Current_Files_Location = Files_Location+top+\"/\"\n",
    "    REGISTERED_Gen(top, Print_To_File, Current_Files_Location)\n",
    "    make_prj()\n",
    "    make_tcl()\n",
    "    NoOfVResults = 0\n",
    "    NOVR = generate_verilog_params_and_syn_files(0)\n",
    "    print(\"NoOfVResults = {}\".format(NOVR))\n",
    "    print()\n",
    "    return NOVR"
   ]
  },
  {
   "cell_type": "code",
   "execution_count": 10,
   "metadata": {
    "collapsed": true
   },
   "outputs": [],
   "source": [
    "def make_prj():\n",
    "    with open(Current_Files_Location+top+\"_REGISTERED.prj\",\"w\") as prj_file:\n",
    "        print(\"verilog work \\\"\"+top+\"_REGISTERED.v\\\"\", file=prj_file)\n",
    "        for module in modules:\n",
    "            print(\"verilog work \\\"\"+module+\".v\\\"\", file=prj_file)"
   ]
  },
  {
   "cell_type": "code",
   "execution_count": 11,
   "metadata": {
    "collapsed": false
   },
   "outputs": [],
   "source": [
    "def make_tcl():\n",
    "    if Print_To_File<=0:\n",
    "        tcl_file=sys.stdout\n",
    "    else:\n",
    "        tcl_file=open(Current_Files_Location+top+\".tcl\", 'w+')\n",
    "        \n",
    "    print(\"set myProject \\\"\"+top+\"\\\"\\n\", file=tcl_file)\n",
    "    \n",
    "    print(\"proc set_project_props {} {\", file=tcl_file)\n",
    "    print(\"\\tproject set family \\\"\"+family+\"\\\"\", file=tcl_file)\n",
    "    print(\"\\tproject set device \\\"\"+device+\"\\\"\", file=tcl_file)\n",
    "    print(\"\\tproject set package \\\"\"+package+\"\\\"\", file=tcl_file)\n",
    "    print(\"\\tproject set speed \\\"\"+speed_grade+\"\\\"\\n}\\n\", file=tcl_file)\n",
    "\n",
    "    print(\"proc add_source_files {} {\", file=tcl_file)\n",
    "    print(\"\\txfile add \\\"\"+top+\"_REGISTERED.v\\\"\", file=tcl_file)\n",
    "    for module in modules:\n",
    "        print(\"\\txfile add \\\"\"+module+\".v\\\"\", file=tcl_file)\n",
    "    print(\"\\t#Set the Top Module\", file=tcl_file)\n",
    "    print(\"\\tproject set top \\\"\"+top+\"_REGISTERED\\\"\\n}\\n\", file=tcl_file)\n",
    "    \n",
    "    print(\"\"\"set proj_exts [ list ise xise gise ]\n",
    "foreach ext $proj_exts {\n",
    "   set proj_name \"${myProject}.$ext\"\n",
    "   if { [ file exists $proj_name ] } { \n",
    "      file delete $proj_name\n",
    "   }\n",
    "}\n",
    "\n",
    "project new $myProject\n",
    "set_project_props\n",
    "add_source_files\n",
    "project close\"\"\", file=tcl_file)\n",
    "\n",
    "    if Print_To_File>0:\n",
    "        tcl_file.close()\n",
    "    \n",
    "    with open(Current_Files_Location+\"CreateProject.bat\",\"w\") as CPB_file:\n",
    "        print(\"xtclsh \"+top+\".tcl 2> TCLinfo.log\", file=CPB_file)"
   ]
  },
  {
   "cell_type": "code",
   "execution_count": 12,
   "metadata": {
    "collapsed": true
   },
   "outputs": [],
   "source": [
    "def generate_verilog_params_and_syn_files(i):\n",
    "    global NoOfVResults\n",
    "    if i==NoOfVeilogParameters:\n",
    "        NoOfVResults += 1\n",
    "        #print(verilog_parameters_result)\n",
    "        #make diffferent synthesis settings\n",
    "        make_SYN()\n",
    "        make_TMPR()\n",
    "        return\n",
    "    param = verilog_parameters[i]\n",
    "    vals = verilog_parameter_values[param]\n",
    "    start = vals[0]\n",
    "    end = vals[1]\n",
    "    if param in [\"IN_WIDTH\",\"INPUT_REG_DEPTH\",\"MULT_PIPE_DEPTH\"]:\n",
    "        for val in range(start,end+1):\n",
    "            verilog_parameters_result[param] = val\n",
    "            generate_verilog_params_and_syn_files(i+1)\n",
    "    return NoOfVResults"
   ]
  },
  {
   "cell_type": "code",
   "execution_count": 13,
   "metadata": {
    "collapsed": true
   },
   "outputs": [],
   "source": [
    "#current layout: spartan 6\n",
    "def make_SYN():\n",
    "    global VP_name_append, STMPR_file_name\n",
    "    if Print_To_File<=0:\n",
    "        xst_file=sys.stdout\n",
    "    else:\n",
    "        STMPR_file_name = top+\"_REGISTERED\"\n",
    "        VP_name_append = \"\"\n",
    "        for param in verilog_parameters:\n",
    "            VP_name_append += \"_{}\".format(verilog_parameters_result[param])\n",
    "        STMPR_file_name = STMPR_file_name+VP_name_append\n",
    "        xst_file=open(Current_Files_Location+STMPR_file_name+\".xst\", 'w+')\n",
    "        \n",
    "    print(\"\"\"set -tmpdir \"./\"\n",
    "set -xsthdpdir \"xst\"\n",
    "run\"\"\", file=xst_file)\n",
    "    print(\"-ifn \"+top+\"_REGISTERED.prj\", file=xst_file)\n",
    "    print(\"-ofn \"+top+\"_REGISTERED\", end='', file=xst_file)\n",
    "    for param in verilog_parameters:\n",
    "        print(\"_{}\".format(verilog_parameters_result[param]), end='', file=xst_file)\n",
    "    print(\"\\n-ofmt NGC\", file=xst_file)\n",
    "    print(\"-p \"+device+speed_grade+\"-\"+package, file=xst_file)\n",
    "    print(\"-top \"+top+\"_REGISTERED\", file=xst_file)\n",
    "    print(\"\"\"-opt_mode Speed\n",
    "-opt_level 1\n",
    "-power NO\n",
    "-iuc NO\n",
    "-keep_hierarchy No\n",
    "-netlist_hierarchy As_Optimized\n",
    "-rtlview Yes\n",
    "-glob_opt AllClockNets\n",
    "-read_cores YES\n",
    "-write_timing_constraints NO\n",
    "-cross_clock_analysis NO\n",
    "-hierarchy_separator /\n",
    "-bus_delimiter <>\n",
    "-case Maintain\n",
    "-slice_utilization_ratio 100\n",
    "-bram_utilization_ratio 100\n",
    "-dsp_utilization_ratio 100\n",
    "-lc Auto\n",
    "-reduce_control_sets Auto\n",
    "-fsm_extract YES -fsm_encoding Auto\n",
    "-safe_implementation No\n",
    "-fsm_style LUT\n",
    "-ram_extract Yes\n",
    "-ram_style Auto\n",
    "-rom_extract Yes\n",
    "-shreg_extract YES\n",
    "-rom_style Auto\n",
    "-auto_bram_packing NO\n",
    "-resource_sharing YES\n",
    "-async_to_sync NO\n",
    "-shreg_min_size 2\n",
    "-use_dsp48 Auto\n",
    "-iobuf YES\n",
    "-max_fanout 100000\n",
    "-bufg 16\n",
    "-register_duplication YES\n",
    "-register_balancing No\n",
    "-optimize_primitives NO\n",
    "-use_clock_enable Auto\n",
    "-use_sync_set Auto\n",
    "-use_sync_reset Auto\n",
    "-iob Auto\n",
    "-equivalent_register_removal YES\n",
    "-slice_utilization_ratio_maxmargin 5\"\"\", file=xst_file)\n",
    "    print(\"-generics {\", end='', file=xst_file)\n",
    "    for param in verilog_parameters:\n",
    "        print(param+\"={} \".format(verilog_parameters_result[param]), end='', file=xst_file)\n",
    "    print(\"}\", end='', file=xst_file)\n",
    "\n",
    "    if Print_To_File>0:\n",
    "        xst_file.close()\n",
    "    \n",
    "    with open(Current_Files_Location+\"Synthesize\"+VP_name_append+\".bat\",\"w\") as SYNB_file:\n",
    "        print(\"xst -intstyle silent -ifn \"+STMPR_file_name+\".xst -ofn \"+STMPR_file_name+\".syr\", file=SYNB_file)"
   ]
  },
  {
   "cell_type": "code",
   "execution_count": 14,
   "metadata": {
    "collapsed": true
   },
   "outputs": [],
   "source": [
    "def make_TMPR():\n",
    "    with open(Current_Files_Location+\"TMPR\"+VP_name_append+\".bat\",\"w\") as TMPRB_file:\n",
    "        #print(\"ngdbuild -intstyle silent -quiet -dd _ngo -nt timestamp -i -p \"+device+speed_grade+\"-\"+package+\" \"+STMPR_file_name+\".ngc \"+STMPR_file_name+\".ngd\", file=TMPRB_file)\n",
    "        print(\"ngdbuild -dd _ngo -nt timestamp -i -p \"+device+speed_grade+\"-\"+package+\" \"+STMPR_file_name+\".ngc \"+STMPR_file_name+\".ngd\", file=TMPRB_file)\n",
    "        print(\"map -intstyle silent -p \"+device+speed_grade+\"-\"+package+\" -w -logic_opt off -ol high -t 1 -xt 0 -register_duplication off -r 4 -global_opt off -mt off -ir off -pr off -lc off -power off -o \"+STMPR_file_name+\"_map.ncd \"+STMPR_file_name+\".ngd \"+STMPR_file_name+\".pcf\", file=TMPRB_file)\n",
    "        print(\"par -w -intstyle silent -ol high -mt off \"+STMPR_file_name+\"_map.ncd \"+STMPR_file_name+\".ncd \"+STMPR_file_name+\".pcf\", file=TMPRB_file)\n",
    "        print(\"trce -intstyle silent -v 3 -s 3 -n 3 -fastpaths -xml \"+STMPR_file_name+\".twx \"+STMPR_file_name+\".ncd -o \"+STMPR_file_name+\".twr \"+STMPR_file_name+\".pcf\", file=TMPRB_file)"
   ]
  },
  {
   "cell_type": "code",
   "execution_count": 15,
   "metadata": {
    "collapsed": true
   },
   "outputs": [],
   "source": [
    "functions_list = []\n",
    "functions_names_list = []\n",
    "parameters_list = []\n",
    "HRR_mode_list = []\n",
    "\n",
    "verilog_parameters_list = []"
   ]
  },
  {
   "cell_type": "markdown",
   "metadata": {},
   "source": [
    "Functions Start"
   ]
  },
  {
   "cell_type": "code",
   "execution_count": 16,
   "metadata": {
    "collapsed": false
   },
   "outputs": [],
   "source": [
    "#MatrixMatrixMultiply_OTI\n",
    "\n",
    "functions_list.append(MatrixMatrixMultiply_OTI)\n",
    "functions_names_list.append(\"MatrixMatrixMultiply_OTI\")\n",
    "\n",
    "parameters_list.append([\"M\",\"N\",\"Q\",\"PR\",\"PC\",\"HRR\",\"MAMCS\",\"ADDER_SIZE\",\n",
    "                       \"ENABLE_INPUT_LATCH\",\"ENABLE_COLUMN_LATCH\",\"ENABLE_ROW_LATCH\",\"ENABLE_OTI_OUTPUT_REGISTERS\"])\n",
    "\n",
    "HRR_mode_list.append(4)\n",
    "\n",
    "verilog_parameters_list.append([\"IN_WIDTH\", \"INPUT_REG_DEPTH\", \"MULT_PIPE_DEPTH\"])"
   ]
  },
  {
   "cell_type": "code",
   "execution_count": 17,
   "metadata": {
    "collapsed": false
   },
   "outputs": [],
   "source": [
    "#MatrixMatrixMultiply_SoE\n",
    "\n",
    "functions_list.append(MatrixMatrixMultiply_SoE)\n",
    "functions_names_list.append(\"MatrixMatrixMultiply_SoE\")\n",
    "\n",
    "parameters_list.append([\"M\",\"N\",\"Q\",\"PR\",\"PC\",\"NOEPS\",\"MAMCS\",\"ADDER_SIZE\",\n",
    "                       \"ENABLE_INPUT_LATCH\",\"ENABLE_COLUMN_LATCH\",\"ENABLE_ROW_LATCH\",\"ENABLE_OTI_OUTPUT_REGISTERS\"])\n",
    "\n",
    "HRR_mode_list.append(3)\n",
    "\n",
    "verilog_parameters_list.append([\"IN_WIDTH\", \"INPUT_REG_DEPTH\", \"MULT_PIPE_DEPTH\"])"
   ]
  },
  {
   "cell_type": "code",
   "execution_count": 18,
   "metadata": {
    "collapsed": true
   },
   "outputs": [],
   "source": [
    "#MatrixVectorMultiply_SoE"
   ]
  },
  {
   "cell_type": "code",
   "execution_count": 19,
   "metadata": {
    "collapsed": false
   },
   "outputs": [],
   "source": [
    "# #M_Type2\n",
    "\n",
    "# functions_list.append(M_Type2)\n",
    "# functions_names_list.append(\"M_Type2\")\n",
    "\n",
    "# HRR_mode_list.append(2)"
   ]
  },
  {
   "cell_type": "code",
   "execution_count": 20,
   "metadata": {
    "collapsed": true
   },
   "outputs": [],
   "source": [
    "#OTItoSeries\n",
    "\n",
    "functions_list.append(OTItoSeries)\n",
    "functions_names_list.append(\"OTItoSeries\")\n",
    "\n",
    "parameters_list.append([\"N\",\"HRR\",\"ENABLE_INPUT_LATCH\",\"ENABLE_OTI_OUTPUT_REGISTERS\"])\n",
    "\n",
    "HRR_mode_list.append(4)\n",
    "\n",
    "verilog_parameters_list.append([\"IN_WIDTH\"])"
   ]
  },
  {
   "cell_type": "markdown",
   "metadata": {},
   "source": [
    "Functions End"
   ]
  },
  {
   "cell_type": "code",
   "execution_count": 21,
   "metadata": {
    "collapsed": false
   },
   "outputs": [
    {
     "name": "stdout",
     "output_type": "stream",
     "text": [
      "choose function:\n",
      "1: MatrixMatrixMultiply_OTI\n",
      "2: MatrixMatrixMultiply_SoE\n",
      "3: OTItoSeries\n",
      "Enter function number([1,3]):1\n"
     ]
    }
   ],
   "source": [
    "print(\"choose function:\")\n",
    "i=0;\n",
    "for n in functions_names_list:\n",
    "    i+=1\n",
    "    print(\"{}: \".format(i)+n)\n",
    "index = int(input(\"Enter function number([1,{}]):\".format(i)))-1"
   ]
  },
  {
   "cell_type": "code",
   "execution_count": 22,
   "metadata": {
    "collapsed": true
   },
   "outputs": [],
   "source": [
    "notation = { #will be updated after getting values\n",
    "    \"ENABLE_INPUT_LATCH\": \"[0(No),1(Yes)]\",\n",
    "    \"ENABLE_COLUMN_LATCH\": \"[0(No),1(Yes)]\",\n",
    "    \"ENABLE_ROW_LATCH\": \"[0(No),1(Yes)]\",\n",
    "    \"ENABLE_OTI_OUTPUT_REGISTERS\": \"[0(No),1(Yes)]\",\n",
    "    #\n",
    "    \"M\": \">=1\",\n",
    "    \"Q\": \">=1\"\n",
    "}"
   ]
  },
  {
   "cell_type": "code",
   "execution_count": 23,
   "metadata": {
    "collapsed": true
   },
   "outputs": [],
   "source": [
    "function = functions_list[index]\n",
    "parameters = parameters_list[index]\n",
    "HRRmode = HRR_mode_list[index]\n",
    "if HRRmode in [1,2]:\n",
    "    notation[\"N\"] = \">=1\"\n",
    "elif HRRmode in [3,4]:\n",
    "    notation[\"N\"] = \">=2\""
   ]
  },
  {
   "cell_type": "code",
   "execution_count": 24,
   "metadata": {
    "collapsed": false
   },
   "outputs": [],
   "source": [
    "# parameter_values = {}\n",
    "# notValid = False\n",
    "# for parameter in parameters:\n",
    "#     print(parameter+\": \"+notation[parameter])\n",
    "#     startI = int(input(parameter+\" start:\"))\n",
    "#     endI = int(input(parameter+\" end:\"))\n",
    "#     if parameter == \"N\":\n",
    "#         end = endI\n",
    "#         if HRRmode in [1,2]:\n",
    "#             start = max(startI,1)\n",
    "#             notation[\"NOEPS\"] = \"[1,{}]\".format(end) #2\n",
    "#         elif HRRmode in [3,4]:\n",
    "#             start = max(startI,2)\n",
    "#             notation[\"HRR\"] = \"[2,{}]\".format(end) #4\n",
    "#             notation[\"NOEPS\"] = \"[1,{}]\".format(end-1) #3\n",
    "#         if HRRmode == 1:\n",
    "#             notation[\"MAMCS\"] = \"[1,{}]\".format(end)\n",
    "#     elif parameter == \"M\":\n",
    "#         start = max(startI,1)\n",
    "#         end = endI\n",
    "#         notation[\"PR\"] = \"[{},{}]\".format(start,end)\n",
    "#     elif parameter == \"Q\":\n",
    "#         start = max(startI,1)\n",
    "#         end = endI\n",
    "#         notation[\"PC\"] = \"[{},{}]\".format(start,end)\n",
    "#     elif parameter in [\"ENABLE_INPUT_LATCH\",\"ENABLE_COLUMN_LATCH\",\"ENABLE_ROW_LATCH\",\"ENABLE_OTI_OUTPUT_REGISTERS\"]: #Yes,No params\n",
    "#         start = max(startI,0)\n",
    "#         end = min(endI,1)\n",
    "#     elif parameter == \"PR\":\n",
    "#         start = max(startI,1)\n",
    "#         end = min(endI,parameter_values[\"M\"][1])\n",
    "#     elif parameter == \"PC\":\n",
    "#         start = max(startI,1)\n",
    "#         end = min(endI,parameter_values[\"Q\"][1])\n",
    "#     elif parameter == \"HRR\": #4\n",
    "#         start = max(startI,2)\n",
    "#         end = min(endI,parameter_values[\"N\"][1])\n",
    "#         notation[\"MAMCS\"] = \"[1,{}]\".format(CEIL(parameter_values[\"N\"][1],start))\n",
    "#     elif parameter == \"NOEPS\":\n",
    "#         start = max(startI,1)\n",
    "#         if HRRmode == 2:\n",
    "#             end = min(endI,parameter_values[\"N\"][1])\n",
    "#         elif HRRmode == 3:\n",
    "#             end = min(endI,parameter_values[\"N\"][1]-1)\n",
    "#         notation[\"MAMCS\"] = \"[1,{}]\".format(end)\n",
    "#     elif parameter == \"MAMCS\":\n",
    "#         start = max(startI,1)\n",
    "#         if HRRmode == 1:\n",
    "#             NOEPSmaxC = parameter_values[\"N\"][1]\n",
    "#         elif HRRmode in [2,3]:\n",
    "#             NOEPSmaxC = parameter_values[\"NOEPS\"][1]\n",
    "#         elif HRRmode == 4:\n",
    "#             NOEPSmaxC = CEIL(parameter_values[\"N\"][1],parameter_values[\"HRR\"][0])\n",
    "#         end = min(endI,NOEPSmaxC)\n",
    "#         NOEPSmax = end\n",
    "#         if start == NOEPSmax:\n",
    "#             notation[\"ADDER_SIZE\"] = \"==0\"      \n",
    "#         else: #MAMCS min < NOEPSmax\n",
    "#             notation[\"ADDER_SIZE\"] = \"[2,{}]\".format(CEIL(NOEPSmax,start))\n",
    "#     elif parameter == \"ADDER_SIZE\":\n",
    "#         if parameter_values[\"MAMCS\"][0] == NOEPSmax:\n",
    "#             start = max(startI,0)\n",
    "#             end = min(endI,0)\n",
    "#         else: #MAMCS min < NOEPSmax\n",
    "#             start = max(startI,2)\n",
    "#             end = min(endI,CEIL(NOEPSmax,parameter_values[\"MAMCS\"][0]))\n",
    "#     else:\n",
    "#         print(\"unknown parameter! will break.\")\n",
    "#         notValid = True\n",
    "#         break;\n",
    "#     print(\"calculated start: {}\".format(start))\n",
    "#     print(\"calculated end: {}\".format(end))\n",
    "#     if end<start:\n",
    "#         print(\"Invalid value range! will break.\")\n",
    "#         notValid = True\n",
    "#         break;\n",
    "#     parameter_values[parameter]=[start,end]"
   ]
  },
  {
   "cell_type": "code",
   "execution_count": 25,
   "metadata": {
    "collapsed": false
   },
   "outputs": [
    {
     "name": "stdout",
     "output_type": "stream",
     "text": [
      "{'ENABLE_COLUMN_LATCH': [1, 1], 'ENABLE_ROW_LATCH': [1, 1], 'N': [2, 2], 'M': [1, 1], 'Q': [1, 1], 'ADDER_SIZE': [0, 0], 'MAMCS': [1, 1], 'HRR': [2, 2], 'PC': [1, 1], 'ENABLE_OTI_OUTPUT_REGISTERS': [1, 1], 'ENABLE_INPUT_LATCH': [0, 1], 'PR': [1, 1]}\n"
     ]
    }
   ],
   "source": [
    "parameter_values = {'MAMCS': [1, 1], 'PC': [1, 1], 'ENABLE_INPUT_LATCH': [0, 1], 'Q': [1, 1], 'HRR': [2, 2], 'ADDER_SIZE': [0, 0], 'M': [1, 1], 'ENABLE_OTI_OUTPUT_REGISTERS': [1, 1], 'PR': [1, 1], 'ENABLE_COLUMN_LATCH': [1, 1], 'N': [2, 2], 'ENABLE_ROW_LATCH': [1, 1]}\n",
    "\n",
    "#temp changes to values\n",
    "# parameter_values[\"NOEPS\"][0] = 1 #2\n",
    "# parameter_values[\"NOEPS\"][1] = 4\n",
    "# print(parameter_values)\n",
    "\n",
    "print(parameter_values)"
   ]
  },
  {
   "cell_type": "code",
   "execution_count": 26,
   "metadata": {
    "collapsed": true
   },
   "outputs": [],
   "source": [
    "INPUT_REG_DEPTH_max_valid = 2\n",
    "MULT_PIPE_DEPTH_max_valid = 2\n",
    "\n",
    "verilog_notation = {\n",
    "    \"IN_WIDTH\": \">=1\",\n",
    "    \"INPUT_REG_DEPTH\": \"[0,{}]\".format(INPUT_REG_DEPTH_max_valid),\n",
    "    \"MULT_PIPE_DEPTH\": \"[0,{}]\".format(MULT_PIPE_DEPTH_max_valid)\n",
    "}"
   ]
  },
  {
   "cell_type": "code",
   "execution_count": 27,
   "metadata": {
    "collapsed": true
   },
   "outputs": [],
   "source": [
    "verilog_parameters = verilog_parameters_list[index]"
   ]
  },
  {
   "cell_type": "code",
   "execution_count": 28,
   "metadata": {
    "collapsed": false
   },
   "outputs": [],
   "source": [
    "# verilog_parameter_values = {}\n",
    "# VnotValid = False\n",
    "# for parameter in verilog_parameters:\n",
    "#     print(parameter+\": \"+verilog_notation[parameter])\n",
    "#     startI = int(input(parameter+\" start:\"))\n",
    "#     endI = int(input(parameter+\" end:\"))\n",
    "#     if parameter == \"IN_WIDTH\":\n",
    "#         start = max(startI,1)\n",
    "#         end = endI\n",
    "#     elif parameter == \"INPUT_REG_DEPTH\":\n",
    "#         start = max(startI,0)\n",
    "#         end = min(endI,INPUT_REG_DEPTH_max_valid)\n",
    "#     elif parameter == \"MULT_PIPE_DEPTH\":\n",
    "#         start = max(startI,0)\n",
    "#         end = min(endI,MULT_PIPE_DEPTH_max_valid)\n",
    "#     else:\n",
    "#         print(\"unknown parameter! will break.\")\n",
    "#         VnotValid = True\n",
    "#         break;\n",
    "#     print(\"calculated start: {}\".format(start))\n",
    "#     print(\"calculated end: {}\".format(end))\n",
    "#     if end<start:\n",
    "#         print(\"Invalid value range! will break.\")\n",
    "#         VnotValid = True\n",
    "#         break;\n",
    "#     verilog_parameter_values[parameter]=[start,end]"
   ]
  },
  {
   "cell_type": "code",
   "execution_count": 29,
   "metadata": {
    "collapsed": false
   },
   "outputs": [
    {
     "name": "stdout",
     "output_type": "stream",
     "text": [
      "{'IN_WIDTH': [10, 11], 'MULT_PIPE_DEPTH': [0, 0], 'INPUT_REG_DEPTH': [0, 0]}\n"
     ]
    }
   ],
   "source": [
    "verilog_parameter_values = {'INPUT_REG_DEPTH': [0, 0], 'IN_WIDTH': [10, 11], 'MULT_PIPE_DEPTH': [0, 0]}\n",
    "\n",
    "print(verilog_parameter_values)"
   ]
  },
  {
   "cell_type": "code",
   "execution_count": 30,
   "metadata": {
    "collapsed": false
   },
   "outputs": [
    {
     "name": "stdout",
     "output_type": "stream",
     "text": [
      "parameter count: 12\n",
      "\n",
      "{'ENABLE_COLUMN_LATCH': 1, 'N': 2, 'ENABLE_ROW_LATCH': 1, 'Q': 1, 'ADDER_SIZE': 0, 'MAMCS': 1, 'HRR': 2, 'PC': 1, 'ENABLE_OTI_OUTPUT_REGISTERS': 1, 'PR': 1, 'ENABLE_INPUT_LATCH': 0, 'M': 1}\n",
      "{'MatrixMatrixMultiply_1_2_1_1PR_1PC_OTIR_HRx2_S1E_C1_A0_NIL_CL_RL': 'MatrixMatrixMultiply_OTI', 'MatrixMatrixMultiply_1_2_1_1PR_1PC_S1E_HRx2_C1_A0_CL_RL': 'MatrixMatrixMultiply_SoE', 'OTItoSeries_2_HRx2_S1E_OR_NIL': 'OTItoSeries', 'MatrixVectorMultiply_1_2_1PR_S1E_HRx2_C1_A0_VL': 'MatrixVectorMultiply_SoE'}\n",
      "MatrixMatrixMultiply_1_2_1_1PR_1PC_OTIR_HRx2_S1E_C1_A0_NIL_CL_RL\n",
      "NoOfVResults = 2\n",
      "\n",
      "{'ENABLE_COLUMN_LATCH': 1, 'NOEPS': 1, 'N': 2, 'ENABLE_ROW_LATCH': 1, 'Q': 1, 'ADDER_SIZE': 0, 'MAMCS': 1, 'HRR': 2, 'PC': 1, 'ENABLE_OTI_OUTPUT_REGISTERS': 1, 'PR': 1, 'ENABLE_INPUT_LATCH': 1, 'M': 1}\n",
      "{'OTItoSeries_2_HRx2_S1E_OR_IL': 'OTItoSeries', 'MatrixMatrixMultiply_1_2_1_1PR_1PC_S1E_HRx2_C1_A0_CL_RL': 'MatrixMatrixMultiply_SoE', 'MatrixVectorMultiply_1_2_1PR_S1E_HRx2_C1_A0_VL': 'MatrixVectorMultiply_SoE', 'MatrixMatrixMultiply_1_2_1_1PR_1PC_OTIR_HRx2_S1E_C1_A0_IL_CL_RL': 'MatrixMatrixMultiply_OTI'}\n",
      "MatrixMatrixMultiply_1_2_1_1PR_1PC_OTIR_HRx2_S1E_C1_A0_IL_CL_RL\n",
      "NoOfVResults = 2\n",
      "\n",
      "no of results: 2\n",
      "no of results T: 4\n"
     ]
    }
   ],
   "source": [
    "print(\"parameter count: {}\".format(len(parameters)))\n",
    "print()\n",
    "\n",
    "Print_To_File = 1\n",
    "\n",
    "Files_Location = \"D:/Thesis_results/\"\n",
    "\n",
    "family = \"Spartan6\"\n",
    "device = \"xc6slx150\"\n",
    "package = \"fgg900\"\n",
    "speed_grade = \"-3\"\n",
    "\n",
    "NoOfRresults = 0\n",
    "NoOfRresultsT = 0\n",
    "NoOfParameters = len(parameters)\n",
    "parameters_result = {}\n",
    "#modules = {}\n",
    "\n",
    "NoOfVResults = 0\n",
    "NoOfVeilogParameters = len(verilog_parameters)\n",
    "verilog_parameters_result = {}\n",
    "\n",
    "generate_params(0)\n",
    "\n",
    "print(\"no of results: {}\".format(NoOfRresults))\n",
    "print(\"no of results T: {}\".format(NoOfRresultsT))"
   ]
  }
 ],
 "metadata": {
  "kernelspec": {
   "display_name": "Python 3",
   "language": "python",
   "name": "python3"
  },
  "language_info": {
   "codemirror_mode": {
    "name": "ipython",
    "version": 3
   },
   "file_extension": ".py",
   "mimetype": "text/x-python",
   "name": "python",
   "nbconvert_exporter": "python",
   "pygments_lexer": "ipython3",
   "version": "3.5.1"
  }
 },
 "nbformat": 4,
 "nbformat_minor": 2
}
