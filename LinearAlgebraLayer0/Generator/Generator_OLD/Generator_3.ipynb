{
 "cells": [
  {
   "cell_type": "code",
   "execution_count": 14,
   "metadata": {
    "collapsed": true
   },
   "outputs": [],
   "source": [
    "#HRR_mode: noHR only (1), noHR or SoE_HRR (2), SoE_HRR only (3), OTI (4)\n",
    "#N start: 1, 1, 2, 2\n",
    "#1: no HRR and NOEPS, 2 and 3: NOEPS given, HRR calculated, 4: HRR given, NOEPS calculated"
   ]
  },
  {
   "cell_type": "code",
   "execution_count": 15,
   "metadata": {
    "collapsed": false
   },
   "outputs": [],
   "source": [
    "import sys\n",
    "import math\n",
    "from MatrixMatrixMultiply_OTI_V1_1 import MatrixMatrixMultiply_OTI"
   ]
  },
  {
   "cell_type": "code",
   "execution_count": 17,
   "metadata": {
    "collapsed": true
   },
   "outputs": [],
   "source": [
    "def CEIL(a,b):\n",
    "    return (a+b-1)//b"
   ]
  },
  {
   "cell_type": "code",
   "execution_count": 98,
   "metadata": {
    "collapsed": false
   },
   "outputs": [],
   "source": [
    "#NOEPS\n",
    "def generate(i, NoOfParameters, NoOfResults, HRRmode, Print_To_File):\n",
    "    global NOEPS\n",
    "    if i==NoOfParameters:\n",
    "        NoOfResults += 1\n",
    "        print(result)\n",
    "        #print(NoOfResults)\n",
    "        #function(result, Print_To_File)\n",
    "        return NoOfResults\n",
    "#     print(i,parameters[i])\n",
    "    param = parameters[i]\n",
    "    vals = parameter_values[param]\n",
    "    start = vals[0]\n",
    "    end = vals[1]\n",
    "    if param in [\"N\"]:\n",
    "        for val in range(start,end+1):\n",
    "            result[param] = val\n",
    "            NoOfResults = generate(i+1, NoOfParameters, NoOfResults, HRRmode, Print_To_File)\n",
    "    elif param in [\"M\",\"Q\"]:\n",
    "        for val in range(start,end+1):\n",
    "            result[param] = val\n",
    "            NoOfResults = generate(i+1, NoOfParameters, NoOfResults, HRRmode, Print_To_File)\n",
    "    elif param in [\"ENABLE_INPUT_LATCH\",\"ENABLE_COLUMN_LATCH\",\"ENABLE_ROW_LATCH\",\"ENABLE_OTI_OUTPUT_REGISTERS\"]:\n",
    "        for val in range(start,end+1):\n",
    "            result[param] = val\n",
    "            NoOfResults = generate(i+1, NoOfParameters, NoOfResults, HRRmode, Print_To_File)\n",
    "    elif param == \"PR\":\n",
    "        for val in range(start,min(end,result['M'])+1):\n",
    "            result[\"PR\"] = val\n",
    "            NoOfResults = generate(i+1, NoOfParameters, NoOfResults, HRRmode, Print_To_File)\n",
    "    elif param == \"PC\":\n",
    "        for val in range(start,min(end,result['Q'])+1):\n",
    "            result[\"PC\"] = val\n",
    "            NoOfResults = generate(i+1, NoOfParameters, NoOfResults, HRRmode, Print_To_File)\n",
    "    elif param == \"HRR\":\n",
    "        for val in range(start,min(end,result['N'])+1):\n",
    "            result[\"HRR\"] = val\n",
    "            NoOfResults = generate(i+1, NoOfParameters, NoOfResults, HRRmode, Print_To_File)\n",
    "    elif param == \"NOEPS\":\n",
    "        if HRRmode == 2:\n",
    "            endH = result[\"N\"]\n",
    "        elif HRRmode == 3:\n",
    "            endH = result[\"N\"]-1\n",
    "        for val in range(start,min(end,endH)+1):\n",
    "                result[\"NOEPS\"] = val\n",
    "                NoOfResults = generate(i+1, NoOfParameters, NoOfResults, HRRmode, Print_To_File)\n",
    "    elif param == \"MAMCS\":\n",
    "        if HRRmode == 1:\n",
    "            NOEPS = result[\"N\"]\n",
    "        elif HRRmode in [2,3]:\n",
    "            NOEPS = result[\"NOEPS\"]\n",
    "        elif HRRmode == 4:\n",
    "            NOEPS = CEIL(result[\"N\"],result[\"HRR\"])\n",
    "        for val in range(start,min(end,NOEPS)+1):\n",
    "            result[\"MAMCS\"] = val\n",
    "            NoOfResults = generate(i+1, NoOfParameters, NoOfResults, HRRmode, Print_To_File)\n",
    "    elif param == \"ADDER_SIZE\":\n",
    "        if result[\"MAMCS\"] == NOEPS:\n",
    "            result[\"ADDER_SIZE\"] = 0\n",
    "            NoOfResults = generate(i+1, NoOfParameters, NoOfResults, HRRmode, Print_To_File)\n",
    "        else: #MAMCS < NOEPS\n",
    "            for val in range(start,min(end,CEIL(NOEPS,result[\"MAMCS\"]))+1):\n",
    "                result[\"ADDER_SIZE\"] = val\n",
    "                NoOfResults = generate(i+1, NoOfParameters, NoOfResults, HRRmode, Print_To_File)\n",
    "#     elif param in [\"IN_WIDTH\",\"INPUT_REG_DEPTH\",\"MULT_PIPE_DEPTH\"]:\n",
    "    return NoOfResults"
   ]
  },
  {
   "cell_type": "code",
   "execution_count": 19,
   "metadata": {
    "collapsed": true
   },
   "outputs": [],
   "source": [
    "functions_list = []\n",
    "functions_names_list = []\n",
    "parameters_list = []\n",
    "parameter_values_list = []\n",
    "HRR_mode_list = []\n",
    "\n",
    "notation = { #will be updated after getting values\n",
    "    \"ENABLE_INPUT_LATCH\": \"[0(No),1(Yes)]\",\n",
    "    \"ENABLE_COLUMN_LATCH\": \"[0(No),1(Yes)]\",\n",
    "    \"ENABLE_ROW_LATCH\": \"[0(No),1(Yes)]\",\n",
    "    \"ENABLE_OTI_OUTPUT_REGISTERS\": \"[0(No),1(Yes)]\",\n",
    "    #\n",
    "    \"M\": \">=1\",\n",
    "    \"Q\": \">=1\"\n",
    "}"
   ]
  },
  {
   "cell_type": "code",
   "execution_count": 20,
   "metadata": {
    "collapsed": false
   },
   "outputs": [],
   "source": [
    "#MatrixMatrixMultiply_OTI\n",
    "\n",
    "#functions_list.append(MatrixMatrixMultiply_OTI)\n",
    "functions_names_list.append(\"MatrixMatrixMultiply_OTI\")\n",
    "\n",
    "parameters_list.append([\"M\",\"N\",\"Q\",\"PR\",\"PC\",\"HRR\",\"MAMCS\",\"ADDER_SIZE\",\n",
    "                       \"ENABLE_INPUT_LATCH\",\"ENABLE_COLUMN_LATCH\",\"ENABLE_ROW_LATCH\",\"ENABLE_OTI_OUTPUT_REGISTERS\"])\n",
    "\n",
    "parameter_values_list.append ({\n",
    "    \"M\": [0,0],\"N\": [0,0],\"Q\": [0,0],\n",
    "    \"PR\": [0,0],\"PC\": [0,0],\"HRR\": [0,0],\"MAMCS\": [0,0],\"ADDER_SIZE\": [0,0],\n",
    "    \"ENABLE_INPUT_LATCH\": [0,0],\"ENABLE_COLUMN_LATCH\": [0,0],\"ENABLE_ROW_LATCH\": [0,0],\"ENABLE_OTI_OUTPUT_REGISTERS\": [0,0]\n",
    "})\n",
    "\n",
    "HRR_mode_list.append(1)"
   ]
  },
  {
   "cell_type": "code",
   "execution_count": 22,
   "metadata": {
    "collapsed": false
   },
   "outputs": [],
   "source": [
    "#MatrixMatrixMultiply_SoE\n",
    "\n",
    "#functions_list.append(MatrixMatrixMultiply_SoE)\n",
    "functions_names_list.append(\"MatrixMatrixMultiply_SoE\")\n",
    "\n",
    "parameters_list.append([\"M\",\"N\",\"Q\",\"PR\",\"PC\",\"NOEPS\",\"MAMCS\",\"ADDER_SIZE\",\n",
    "                       \"ENABLE_INPUT_LATCH\",\"ENABLE_COLUMN_LATCH\",\"ENABLE_ROW_LATCH\",\"ENABLE_OTI_OUTPUT_REGISTERS\"])\n",
    "\n",
    "parameter_values_list.append ({\n",
    "    \"M\": [0,0],\"N\": [0,0],\"Q\": [0,0],\n",
    "    \"PR\": [0,0],\"PC\": [0,0],\"NOEPS\": [0,0],\"MAMCS\": [0,0],\"ADDER_SIZE\": [0,0],\n",
    "    \"ENABLE_INPUT_LATCH\": [0,0],\"ENABLE_COLUMN_LATCH\": [0,0],\"ENABLE_ROW_LATCH\": [0,0],\"ENABLE_OTI_OUTPUT_REGISTERS\": [0,0]\n",
    "})\n",
    "\n",
    "HRR_mode_list.append(3)"
   ]
  },
  {
   "cell_type": "code",
   "execution_count": 24,
   "metadata": {
    "collapsed": false
   },
   "outputs": [],
   "source": [
    "#MatrixMatrixMultiply_2\n",
    "\n",
    "#functions_list.append(MatrixMatrixMultiply_SoE)\n",
    "functions_names_list.append(\"MatrixMatrixMultiply_2\")\n",
    "\n",
    "parameters_list.append([\"M\",\"N\",\"Q\",\"PR\",\"PC\",\"NOEPS\",\"MAMCS\",\"ADDER_SIZE\",\n",
    "                       \"ENABLE_INPUT_LATCH\",\"ENABLE_COLUMN_LATCH\",\"ENABLE_ROW_LATCH\",\"ENABLE_OTI_OUTPUT_REGISTERS\"])\n",
    "\n",
    "parameter_values_list.append ({\n",
    "    \"M\": [0,0],\"N\": [0,0],\"Q\": [0,0],\n",
    "    \"PR\": [0,0],\"PC\": [0,0],\"NOEPS\": [0,0],\"MAMCS\": [0,0],\"ADDER_SIZE\": [0,0],\n",
    "    \"ENABLE_INPUT_LATCH\": [0,0],\"ENABLE_COLUMN_LATCH\": [0,0],\"ENABLE_ROW_LATCH\": [0,0],\"ENABLE_OTI_OUTPUT_REGISTERS\": [0,0]\n",
    "})\n",
    "\n",
    "HRR_mode_list.append(2)"
   ]
  },
  {
   "cell_type": "code",
   "execution_count": 26,
   "metadata": {
    "collapsed": false
   },
   "outputs": [
    {
     "name": "stdout",
     "output_type": "stream",
     "text": [
      "choose function:\n",
      "1: MatrixMatrixMultiply_OTI\n",
      "2: MatrixMatrixMultiply_SoE\n",
      "3: MatrixMatrixMultiply_2\n",
      "Enter function number([1,3]):3\n"
     ]
    }
   ],
   "source": [
    "print(\"choose function:\")\n",
    "i=0;\n",
    "for n in functions_names_list:\n",
    "    i+=1\n",
    "    print(\"{}: \".format(i)+n)\n",
    "index = int(input(\"Enter function number([1,{}]):\".format(i)))-1\n",
    "#function = functions_list[index]"
   ]
  },
  {
   "cell_type": "code",
   "execution_count": 28,
   "metadata": {
    "collapsed": false
   },
   "outputs": [
    {
     "name": "stdout",
     "output_type": "stream",
     "text": [
      "M: >=1\n",
      "M start:1\n",
      "M end:1\n",
      "calculated start: 1\n",
      "calculated end: 1\n",
      "N: >=1\n",
      "N start:1\n",
      "N end:4\n",
      "calculated start: 1\n",
      "calculated end: 4\n",
      "Q: >=1\n",
      "Q start:1\n",
      "Q end:1\n",
      "calculated start: 1\n",
      "calculated end: 1\n",
      "PR: [1,1]\n",
      "PR start:1\n",
      "PR end:1\n",
      "calculated start: 1\n",
      "calculated end: 1\n",
      "PC: [1,1]\n",
      "PC start:1\n",
      "PC end:1\n",
      "calculated start: 1\n",
      "calculated end: 1\n",
      "NOEPS: [1,0]\n",
      "NOEPS start:1\n",
      "NOEPS end:4\n",
      "calculated start: 1\n",
      "calculated end: 4\n",
      "MAMCS: [1,4]\n",
      "MAMCS start:1\n",
      "MAMCS end:4\n",
      "calculated start: 1\n",
      "calculated end: 4\n",
      "ADDER_SIZE: [2,4]\n",
      "ADDER_SIZE start:2\n",
      "ADDER_SIZE end:2\n",
      "calculated start: 2\n",
      "calculated end: 2\n",
      "ENABLE_INPUT_LATCH: [0(No),1(Yes)]\n",
      "ENABLE_INPUT_LATCH start:1\n",
      "ENABLE_INPUT_LATCH end:1\n",
      "calculated start: 1\n",
      "calculated end: 1\n",
      "ENABLE_COLUMN_LATCH: [0(No),1(Yes)]\n",
      "ENABLE_COLUMN_LATCH start:1\n",
      "ENABLE_COLUMN_LATCH end:1\n",
      "calculated start: 1\n",
      "calculated end: 1\n",
      "ENABLE_ROW_LATCH: [0(No),1(Yes)]\n",
      "ENABLE_ROW_LATCH start:1\n",
      "ENABLE_ROW_LATCH end:1\n",
      "calculated start: 1\n",
      "calculated end: 1\n",
      "ENABLE_OTI_OUTPUT_REGISTERS: [0(No),1(Yes)]\n",
      "ENABLE_OTI_OUTPUT_REGISTERS start:1\n",
      "ENABLE_OTI_OUTPUT_REGISTERS end:1\n",
      "calculated start: 1\n",
      "calculated end: 1\n",
      "{'ENABLE_OTI_OUTPUT_REGISTERS': [1, 1], 'MAMCS': [1, 4], 'M': [1, 1], 'ENABLE_COLUMN_LATCH': [1, 1], 'NOEPS': [1, 4], 'PR': [1, 1], 'ADDER_SIZE': [2, 2], 'ENABLE_INPUT_LATCH': [1, 1], 'Q': [1, 1], 'ENABLE_ROW_LATCH': [1, 1], 'N': [1, 4], 'PC': [1, 1]}\n"
     ]
    }
   ],
   "source": [
    "parameters = parameters_list[index]\n",
    "parameter_values = parameter_values_list[index]\n",
    "HRRmode = HRR_mode_list[index]\n",
    "if HRRmode in [1,2]:\n",
    "    notation[\"N\"] = \">=1\"\n",
    "elif HRRmode in [3,4]:\n",
    "    notation[\"N\"] = \">=2\"\n",
    "notValid = False\n",
    "for parameter in parameters:\n",
    "    print(parameter+\": \"+notation[parameter])\n",
    "    startI = int(input(parameter+\" start:\"))\n",
    "    endI = int(input(parameter+\" end:\"))\n",
    "    if parameter == \"N\":\n",
    "        end = endI\n",
    "        if HRRmode in [1,2]:\n",
    "            start = max(startI,1)\n",
    "            notation[\"NOEPS\"] = \"[1,{}]\".format(end) #2\n",
    "        elif HRRmode in [3,4]:\n",
    "            start = max(startI,2)\n",
    "            notation[\"HRR\"] = \"[2,{}]\".format(end) #4\n",
    "            notation[\"NOEPS\"] = \"[1,{}]\".format(end-1) #3\n",
    "        if HRRmode == 1:\n",
    "            notation[\"MAMCS\"] = \"[1,{}]\".format(end)\n",
    "    elif parameter == \"M\":\n",
    "        start = max(startI,1)\n",
    "        end = endI\n",
    "        notation[\"PR\"] = \"[{},{}]\".format(start,end)\n",
    "    elif parameter == \"Q\":\n",
    "        start = max(startI,1)\n",
    "        end = endI\n",
    "        notation[\"PC\"] = \"[{},{}]\".format(start,end)\n",
    "    elif parameter in [\"ENABLE_INPUT_LATCH\",\"ENABLE_COLUMN_LATCH\",\"ENABLE_ROW_LATCH\",\"ENABLE_OTI_OUTPUT_REGISTERS\"]: #Yes,No params\n",
    "        start = max(startI,0)\n",
    "        end = min(endI,1)\n",
    "    elif parameter == \"PR\":\n",
    "        start = max(startI,1)\n",
    "        end = min(endI,parameter_values[\"M\"][1])\n",
    "    elif parameter == \"PC\":\n",
    "        start = max(startI,1)\n",
    "        end = min(endI,parameter_values[\"Q\"][1])\n",
    "    elif parameter == \"HRR\": #4\n",
    "        start = max(startI,2)\n",
    "        end = min(endI,parameter_values[\"N\"][1])\n",
    "        notation[\"MAMCS\"] = \"[1,{}]\".format(CEIL(parameter_values[\"N\"][1],start))\n",
    "    elif parameter == \"NOEPS\":\n",
    "        start = max(startI,1)\n",
    "        if HRRmode == 2:\n",
    "            end = min(endI,parameter_values[\"N\"][1])\n",
    "        elif HRRmode == 3:\n",
    "            end = min(endI,parameter_values[\"N\"][1]-1)\n",
    "        notation[\"MAMCS\"] = \"[1,{}]\".format(end)\n",
    "    elif parameter == \"MAMCS\":\n",
    "        start = max(startI,1)\n",
    "        if HRRmode == 1:\n",
    "            NOEPSmax = parameter_values[\"N\"][1]\n",
    "        elif HRRmode in [2,3]:\n",
    "            NOEPSmax = parameter_values[\"NOEPS\"][1]\n",
    "        elif HRRmode == 4:\n",
    "            NOEPSmax = CEIL(parameter_values[\"N\"][1],parameter_values[\"HRR\"][0])\n",
    "        end = min(endI,NOEPSmax)\n",
    "        if parameter_values[\"MAMCS\"][0] == NOEPSmax:\n",
    "            notation[\"ADDER_SIZE\"] = \"==0\"      \n",
    "        else: #MAMCS min < NOEPSmax\n",
    "            notation[\"ADDER_SIZE\"] = \"[2,{}]\".format(CEIL(NOEPSmax,start))\n",
    "    elif parameter == \"ADDER_SIZE\":\n",
    "        if parameter_values[\"MAMCS\"][0] == NOEPSmax:\n",
    "            start = max(startI,0)\n",
    "            end = min(endI,0)\n",
    "        else: #MAMCS min < NOEPSmax\n",
    "            start = max(startI,2)\n",
    "            end = min(endI,CEIL(NOEPSmax,parameter_values[\"MAMCS\"][0]))\n",
    "    print(\"calculated start: {}\".format(start))\n",
    "    print(\"calculated end: {}\".format(end))\n",
    "    if end<start:\n",
    "        print(\"Invalid value range! will break.\")\n",
    "        notValid = True\n",
    "        break;\n",
    "    parameter_values[parameter][0] = start\n",
    "    parameter_values[parameter][1] = end\n",
    "print(parameter_values)"
   ]
  },
  {
   "cell_type": "code",
   "execution_count": 67,
   "metadata": {
    "collapsed": false
   },
   "outputs": [
    {
     "name": "stdout",
     "output_type": "stream",
     "text": [
      "{'ENABLE_OTI_OUTPUT_REGISTERS': [1, 1], 'MAMCS': [1, 4], 'M': [1, 1], 'ENABLE_COLUMN_LATCH': [1, 1], 'NOEPS': [1, 4], 'PR': [1, 1], 'ADDER_SIZE': [2, 2], 'ENABLE_INPUT_LATCH': [1, 1], 'Q': [1, 1], 'ENABLE_ROW_LATCH': [1, 1], 'N': [1, 4], 'PC': [1, 1]}\n"
     ]
    }
   ],
   "source": [
    "#temp changes to values\n",
    "parameter_values[\"NOEPS\"][0] = 1 #2\n",
    "parameter_values[\"NOEPS\"][1] = 4\n",
    "print(parameter_values)"
   ]
  },
  {
   "cell_type": "code",
   "execution_count": 99,
   "metadata": {
    "collapsed": false
   },
   "outputs": [
    {
     "name": "stdout",
     "output_type": "stream",
     "text": [
      "parameter count: 12\n",
      "\n",
      "{'ENABLE_OTI_OUTPUT_REGISTERS': 1, 'MAMCS': 1, 'N': 1, 'PC': 1, 'NOEPS': 1, 'PR': 1, 'ADDER_SIZE': 0, 'ENABLE_INPUT_LATCH': 1, 'Q': 1, 'ENABLE_ROW_LATCH': 1, 'M': 1, 'ENABLE_COLUMN_LATCH': 1}\n",
      "{'ENABLE_OTI_OUTPUT_REGISTERS': 1, 'MAMCS': 1, 'N': 2, 'PC': 1, 'NOEPS': 1, 'PR': 1, 'ADDER_SIZE': 0, 'ENABLE_INPUT_LATCH': 1, 'Q': 1, 'ENABLE_ROW_LATCH': 1, 'M': 1, 'ENABLE_COLUMN_LATCH': 1}\n",
      "{'ENABLE_OTI_OUTPUT_REGISTERS': 1, 'MAMCS': 1, 'N': 2, 'PC': 1, 'NOEPS': 2, 'PR': 1, 'ADDER_SIZE': 2, 'ENABLE_INPUT_LATCH': 1, 'Q': 1, 'ENABLE_ROW_LATCH': 1, 'M': 1, 'ENABLE_COLUMN_LATCH': 1}\n",
      "{'ENABLE_OTI_OUTPUT_REGISTERS': 1, 'MAMCS': 2, 'N': 2, 'PC': 1, 'NOEPS': 2, 'PR': 1, 'ADDER_SIZE': 0, 'ENABLE_INPUT_LATCH': 1, 'Q': 1, 'ENABLE_ROW_LATCH': 1, 'M': 1, 'ENABLE_COLUMN_LATCH': 1}\n",
      "{'ENABLE_OTI_OUTPUT_REGISTERS': 1, 'MAMCS': 1, 'N': 3, 'PC': 1, 'NOEPS': 1, 'PR': 1, 'ADDER_SIZE': 0, 'ENABLE_INPUT_LATCH': 1, 'Q': 1, 'ENABLE_ROW_LATCH': 1, 'M': 1, 'ENABLE_COLUMN_LATCH': 1}\n",
      "{'ENABLE_OTI_OUTPUT_REGISTERS': 1, 'MAMCS': 1, 'N': 3, 'PC': 1, 'NOEPS': 2, 'PR': 1, 'ADDER_SIZE': 2, 'ENABLE_INPUT_LATCH': 1, 'Q': 1, 'ENABLE_ROW_LATCH': 1, 'M': 1, 'ENABLE_COLUMN_LATCH': 1}\n",
      "{'ENABLE_OTI_OUTPUT_REGISTERS': 1, 'MAMCS': 2, 'N': 3, 'PC': 1, 'NOEPS': 2, 'PR': 1, 'ADDER_SIZE': 0, 'ENABLE_INPUT_LATCH': 1, 'Q': 1, 'ENABLE_ROW_LATCH': 1, 'M': 1, 'ENABLE_COLUMN_LATCH': 1}\n",
      "{'ENABLE_OTI_OUTPUT_REGISTERS': 1, 'MAMCS': 1, 'N': 3, 'PC': 1, 'NOEPS': 3, 'PR': 1, 'ADDER_SIZE': 2, 'ENABLE_INPUT_LATCH': 1, 'Q': 1, 'ENABLE_ROW_LATCH': 1, 'M': 1, 'ENABLE_COLUMN_LATCH': 1}\n",
      "{'ENABLE_OTI_OUTPUT_REGISTERS': 1, 'MAMCS': 2, 'N': 3, 'PC': 1, 'NOEPS': 3, 'PR': 1, 'ADDER_SIZE': 2, 'ENABLE_INPUT_LATCH': 1, 'Q': 1, 'ENABLE_ROW_LATCH': 1, 'M': 1, 'ENABLE_COLUMN_LATCH': 1}\n",
      "{'ENABLE_OTI_OUTPUT_REGISTERS': 1, 'MAMCS': 3, 'N': 3, 'PC': 1, 'NOEPS': 3, 'PR': 1, 'ADDER_SIZE': 0, 'ENABLE_INPUT_LATCH': 1, 'Q': 1, 'ENABLE_ROW_LATCH': 1, 'M': 1, 'ENABLE_COLUMN_LATCH': 1}\n",
      "{'ENABLE_OTI_OUTPUT_REGISTERS': 1, 'MAMCS': 1, 'N': 4, 'PC': 1, 'NOEPS': 1, 'PR': 1, 'ADDER_SIZE': 0, 'ENABLE_INPUT_LATCH': 1, 'Q': 1, 'ENABLE_ROW_LATCH': 1, 'M': 1, 'ENABLE_COLUMN_LATCH': 1}\n",
      "{'ENABLE_OTI_OUTPUT_REGISTERS': 1, 'MAMCS': 1, 'N': 4, 'PC': 1, 'NOEPS': 2, 'PR': 1, 'ADDER_SIZE': 2, 'ENABLE_INPUT_LATCH': 1, 'Q': 1, 'ENABLE_ROW_LATCH': 1, 'M': 1, 'ENABLE_COLUMN_LATCH': 1}\n",
      "{'ENABLE_OTI_OUTPUT_REGISTERS': 1, 'MAMCS': 2, 'N': 4, 'PC': 1, 'NOEPS': 2, 'PR': 1, 'ADDER_SIZE': 0, 'ENABLE_INPUT_LATCH': 1, 'Q': 1, 'ENABLE_ROW_LATCH': 1, 'M': 1, 'ENABLE_COLUMN_LATCH': 1}\n",
      "{'ENABLE_OTI_OUTPUT_REGISTERS': 1, 'MAMCS': 1, 'N': 4, 'PC': 1, 'NOEPS': 3, 'PR': 1, 'ADDER_SIZE': 2, 'ENABLE_INPUT_LATCH': 1, 'Q': 1, 'ENABLE_ROW_LATCH': 1, 'M': 1, 'ENABLE_COLUMN_LATCH': 1}\n",
      "{'ENABLE_OTI_OUTPUT_REGISTERS': 1, 'MAMCS': 2, 'N': 4, 'PC': 1, 'NOEPS': 3, 'PR': 1, 'ADDER_SIZE': 2, 'ENABLE_INPUT_LATCH': 1, 'Q': 1, 'ENABLE_ROW_LATCH': 1, 'M': 1, 'ENABLE_COLUMN_LATCH': 1}\n",
      "{'ENABLE_OTI_OUTPUT_REGISTERS': 1, 'MAMCS': 3, 'N': 4, 'PC': 1, 'NOEPS': 3, 'PR': 1, 'ADDER_SIZE': 0, 'ENABLE_INPUT_LATCH': 1, 'Q': 1, 'ENABLE_ROW_LATCH': 1, 'M': 1, 'ENABLE_COLUMN_LATCH': 1}\n",
      "{'ENABLE_OTI_OUTPUT_REGISTERS': 1, 'MAMCS': 1, 'N': 4, 'PC': 1, 'NOEPS': 4, 'PR': 1, 'ADDER_SIZE': 2, 'ENABLE_INPUT_LATCH': 1, 'Q': 1, 'ENABLE_ROW_LATCH': 1, 'M': 1, 'ENABLE_COLUMN_LATCH': 1}\n",
      "{'ENABLE_OTI_OUTPUT_REGISTERS': 1, 'MAMCS': 2, 'N': 4, 'PC': 1, 'NOEPS': 4, 'PR': 1, 'ADDER_SIZE': 2, 'ENABLE_INPUT_LATCH': 1, 'Q': 1, 'ENABLE_ROW_LATCH': 1, 'M': 1, 'ENABLE_COLUMN_LATCH': 1}\n",
      "{'ENABLE_OTI_OUTPUT_REGISTERS': 1, 'MAMCS': 3, 'N': 4, 'PC': 1, 'NOEPS': 4, 'PR': 1, 'ADDER_SIZE': 2, 'ENABLE_INPUT_LATCH': 1, 'Q': 1, 'ENABLE_ROW_LATCH': 1, 'M': 1, 'ENABLE_COLUMN_LATCH': 1}\n",
      "{'ENABLE_OTI_OUTPUT_REGISTERS': 1, 'MAMCS': 4, 'N': 4, 'PC': 1, 'NOEPS': 4, 'PR': 1, 'ADDER_SIZE': 0, 'ENABLE_INPUT_LATCH': 1, 'Q': 1, 'ENABLE_ROW_LATCH': 1, 'M': 1, 'ENABLE_COLUMN_LATCH': 1}\n",
      "\n",
      "no of results: 20\n"
     ]
    }
   ],
   "source": [
    "# result = {key:0 for key in parameters}\n",
    "#if \"HRR\" in result:\n",
    "#    result[\"NOEPS\"] = 0\n",
    "result = {}\n",
    "print(\"parameter count: {}\\n\".format(len(parameters)))\n",
    "\n",
    "#generate(0,len(parameters))\n",
    "#generate(i, NoOfParameters, NoOfResults, HRRmode, Print_To_File):\n",
    "#NOEPS\n",
    "NoOfResults = generate(0, len(parameters), 0, HRRmode, 0)\n",
    "\n",
    "print(\"\\nno of results: {}\".format(NoOfResults))"
   ]
  },
  {
   "cell_type": "code",
   "execution_count": null,
   "metadata": {
    "collapsed": true
   },
   "outputs": [],
   "source": []
  }
 ],
 "metadata": {
  "kernelspec": {
   "display_name": "Python 3",
   "language": "python",
   "name": "python3"
  },
  "language_info": {
   "codemirror_mode": {
    "name": "ipython",
    "version": 3
   },
   "file_extension": ".py",
   "mimetype": "text/x-python",
   "name": "python",
   "nbconvert_exporter": "python",
   "pygments_lexer": "ipython3",
   "version": "3.5.1"
  }
 },
 "nbformat": 4,
 "nbformat_minor": 2
}
