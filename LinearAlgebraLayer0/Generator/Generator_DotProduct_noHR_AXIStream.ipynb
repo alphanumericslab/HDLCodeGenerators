{
 "cells": [
  {
   "cell_type": "code",
   "execution_count": 4,
   "metadata": {},
   "outputs": [],
   "source": [
    "## in this file we use the  DotProduct_noHR_C_V3_7 file to generate verilog code,\n",
    "# which by adding some modifications turn into an AXI_Stream compatabile module."
   ]
  },
  {
   "cell_type": "code",
   "execution_count": 5,
   "metadata": {},
   "outputs": [],
   "source": [
    "import import_ipynb\n",
    "from DotProduct_noHR_C_V3_7 import DotProduct_noHR_C"
   ]
  },
  {
   "cell_type": "code",
   "execution_count": 6,
   "metadata": {},
   "outputs": [
    {
     "data": {
      "text/plain": [
       "'DotProduct_16_noHR_C16_A2'"
      ]
     },
     "execution_count": 6,
     "metadata": {},
     "output_type": "execute_result"
    }
   ],
   "source": [
    "parameters={\n",
    "    \"N\":16,\n",
    "    \"MAMCS\":16,\n",
    "    \"ENABLE_INPUT_REGISTERS\":1,\n",
    "    \"IN_WIDTH\":14,\n",
    "    \"ADDER_SIZE\":2\n",
    "}\n",
    "Print_To_File=1\n",
    "Files_Location=''\n",
    "Is_Top=1\n",
    "modules={}\n",
    "DotProduct_noHR_C(parameters,Print_To_File,Files_Location,Is_Top,modules)"
   ]
  },
  {
   "cell_type": "code",
   "execution_count": null,
   "metadata": {},
   "outputs": [],
   "source": []
  }
 ],
 "metadata": {
  "kernelspec": {
   "display_name": "Python 3",
   "language": "python",
   "name": "python3"
  },
  "language_info": {
   "codemirror_mode": {
    "name": "ipython",
    "version": 3
   },
   "file_extension": ".py",
   "mimetype": "text/x-python",
   "name": "python",
   "nbconvert_exporter": "python",
   "pygments_lexer": "ipython3",
   "version": "3.7.6"
  }
 },
 "nbformat": 4,
 "nbformat_minor": 4
}
