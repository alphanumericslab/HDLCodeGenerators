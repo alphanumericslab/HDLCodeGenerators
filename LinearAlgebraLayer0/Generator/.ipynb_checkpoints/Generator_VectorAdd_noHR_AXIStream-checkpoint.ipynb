{
 "cells": [
  {
   "cell_type": "code",
   "execution_count": 1,
   "metadata": {},
   "outputs": [],
   "source": [
    "# in this file we use the  VectorAdd_noHR_SoE_V1_12 to generate verilog code,\n",
    "# which by adding some modifications turn into an AXI_Stream compatabile module."
   ]
  },
  {
   "cell_type": "code",
   "execution_count": 2,
   "metadata": {},
   "outputs": [],
   "source": [
    "import sys\n",
    "import math\n",
    "import os\n",
    "import shutil"
   ]
  },
  {
   "cell_type": "code",
   "execution_count": 3,
   "metadata": {},
   "outputs": [
    {
     "name": "stdout",
     "output_type": "stream",
     "text": [
      "importing Jupyter notebook from VectorAdd_noHR_SoE_V1_12.ipynb\n",
      "importing Jupyter notebook from RegisteredNto1Adder_V1_1.ipynb\n"
     ]
    }
   ],
   "source": [
    "import import_ipynb\n",
    "from VectorAdd_noHR_SoE_V1_12 import VectorAdd_noHR_SoE"
   ]
  },
  {
   "cell_type": "code",
   "execution_count": null,
   "metadata": {
    "scrolled": true
   },
   "outputs": [],
   "source": [
    "#interactive parameter receiveing.\n",
    "n=input('Enter N: ')\n",
    "noeps=input('Enter NOEPS(number of element per series): ')\n",
    "enableInputRegisters=input('Enter register enable: ')\n",
    "inWidth=input ('Enter width of input elements: ')"
   ]
  },
  {
   "cell_type": "code",
   "execution_count": null,
   "metadata": {},
   "outputs": [],
   "source": [
    "#making parameters ready for code generator.\n",
    "n=int(n)\n",
    "noeps=int(noeps)\n",
    "enableInputRegisters=int(enableInputRegisters)\n",
    "inWidth=int(inWidth)\n",
    "outWidth=inWidth+1\n",
    "parameters={\n",
    "    \"N\":n,\n",
    "    \"NOEPS\":noeps,\n",
    "    \"ENABLE_INPUT_REGISTERS\":enableInputRegisters,\n",
    "    \"IN_WIDTH\":inWidth\n",
    "}\n",
    "IN_DATA_LENGHT=2*n*inWidth\n",
    "OUT_DATA_LENGHT=n*(inWidth+1)\n",
    "Print_To_File=1\n",
    "Files_Location=''\n",
    "Is_Top=1\n",
    "modules={}\n",
    "GeneratedFileName=VectorAdd_noHR_SoE(parameters,Print_To_File,Files_Location,Is_Top,modules)\n",
    "Files_Location+=GeneratedFileName+\"/\"\n",
    "wrapperModuleName=GeneratedFileName+\"_AXIStream\"\n",
    "of=open(Files_Location+wrapperModuleName+\".v\", 'w+')"
   ]
  },
  {
   "cell_type": "code",
   "execution_count": null,
   "metadata": {},
   "outputs": [],
   "source": [
    "# in this cell we will use the generated file and instanciate it in our new AXI wrapper module.\n",
    "print(\"`timescale 1ns / 1ps\\n\",file=of)\n",
    "print(\"module \"+wrapperModuleName,file=of)\n",
    "print(\"#(\",file=of)\n",
    "print(\"parameter IN_DATA_LENGHT= {}, \".format(IN_DATA_LENGHT),file=of)\n",
    "print(\"parameter OUT_DATA_LENGHT= {} \".format(OUT_DATA_LENGHT),file=of)\n",
    "print(\")( \\n\",file=of)\n",
    "print(\"input aclk,\".format(),file=of)\n",
    "print(\"input aresetn,\".format(),file=of)\n",
    "print(\"input enable,\".format(),file=of)\n",
    "print(\"input [IN_DATA_LENGHT-1:0]s_axi_data,\".format(),file=of)\n",
    "print(\"input s_axi_valid,\".format(),file=of)\n",
    "print(\"input m_axi_ready,\".format(),file=of)\n",
    "print(\"output reg[OUT_DATA_LENGHT-1:0]m_axi_data,\".format(),file=of)\n",
    "print(\"output reg m_axi_valid,\".format(),file=of)\n",
    "print(\"output reg s_axi_ready\".format(),file=of)\n",
    "print(\");\\n\".format(),file=of)\n",
    "print(\"reg inready;\".format(),file=of)\n",
    "print(\"reg [IN_DATA_LENGHT-1:0]indata;\".format(),file=of)\n",
    "print(\"wire outready;\".format(),file=of)\n",
    "print(\"wire earlyoutready;\".format(),file=of)\n",
    "print(\"wire [OUT_DATA_LENGHT-1:0]outdata;\".format(),file=of)\n",
    "print(\"////////////////instancing wrapping module///////////////////\".format(),file=of)\n",
    "print(\"{} {}(\".format(GeneratedFileName,GeneratedFileName+\"_inst\"),file=of)\n",
    "print(\".clk(aclk),\".format(),file=of)\n",
    "print(\".reset(!aresetn),\".format(),file=of)\n",
    "print(\".enable(enable),\".format(),file=of)\n",
    "print(\".inReady(inready),\".format(),file=of)\n",
    "for i in range (n):\n",
    "    print(\".A{}(indata[{}:{}]),\".format( i,IN_DATA_LENGHT-(i*inWidth)-1  ,  IN_DATA_LENGHT-(i*inWidth)-1-(inWidth-1) ), file=of )\n",
    "for i in range (n):    \n",
    "    print(\".B{}(indata[{}:{}]),\".format( i,int((IN_DATA_LENGHT)/2-(i*inWidth)-1 ) , int((IN_DATA_LENGHT)/2-(i*inWidth)-1-(inWidth-1)) ), file=of )\n",
    "print(\".outReady(outready),\".format(),file=of)\n",
    "for i in range (n):\n",
    "    print(\".S{}(outdata[{}:{}]),\".format( i, OUT_DATA_LENGHT-(i*outWidth)-1  , OUT_DATA_LENGHT-(i*outWidth)-1-(outWidth-1) ), file=of)\n",
    "print(\".earlyOutReady(earlyoutready)\".format(),file=of)\n",
    "print(\");\".format(),file=of)\n"
   ]
  },
  {
   "cell_type": "code",
   "execution_count": null,
   "metadata": {},
   "outputs": [],
   "source": [
    "#in this cell we will add Axi stream compatability codes to wrapp the generated module in the previeous cell\n",
    "print(\"/////////////////Main body/////////////\".format(),file=of)\n",
    "print(\"always @(posedge aclk)begin\".format(),file=of)\n",
    "print(\" if(aresetn==0)begin\".format(),file=of)\n",
    "print(\"  m_axi_data<=0;\".format(),file=of)\n",
    "print(\"  m_axi_valid<=0;\".format(),file=of)\n",
    "print(\" end\".format(),file=of)\n",
    "print(\" else begin\".format(),file=of)\n",
    "print(\"  if(m_axi_ready==1 && m_axi_valid==1)begin\".format(),file=of)\n",
    "print(\"   m_axi_valid<=0;\".format(),file=of)\n",
    "print(\"  end\".format(),file=of)\n",
    "print(\"  else if(outready==1)begin\".format(),file=of)\n",
    "print(\"   m_axi_valid<=1;\".format(),file=of)\n",
    "print(\"   m_axi_data<=outdata;\".format(),file=of)\n",
    "print(\"  end\".format(),file=of)\n",
    "print(\" end\".format(),file=of)\n",
    "print(\"end\".format(),file=of)\n",
    "print(\"always @(posedge aclk)begin\".format(),file=of)\n",
    "print(\" if(aresetn==0)begin\".format(),file=of)\n",
    "print(\"  s_axi_ready<=1;\".format(),file=of)\n",
    "print(\"  inready<=0;\".format(),file=of)\n",
    "print(\"  indata<=0;\".format(),file=of)\n",
    "print(\" end\".format(),file=of)\n",
    "print(\" else begin\".format(),file=of)\n",
    "print(\"  inready<=0;\".format(),file=of)\n",
    "print(\"  if(s_axi_valid==1 && s_axi_ready==1)begin\".format(),file=of)\n",
    "print(\"   s_axi_ready<=0;\".format(),file=of)\n",
    "print(\"   inready<=1;\".format(),file=of)\n",
    "print(\"   indata<= s_axi_data;\".format(),file=of)\n",
    "print(\"  end\".format(),file=of)\n",
    "print(\"  else if(m_axi_valid==1 && m_axi_ready==1)begin\".format(),file=of)\n",
    "print(\"   s_axi_ready<=1;\".format(),file=of)\n",
    "print(\"  end\".format(),file=of)\n",
    "print(\" end\".format(),file=of)\n",
    "print(\"end\".format(),file=of)\n",
    "print(\"\\nendmodule\",file=of)\n",
    "of.close()"
   ]
  },
  {
   "cell_type": "markdown",
   "metadata": {},
   "source": []
  }
 ],
 "metadata": {
  "kernelspec": {
   "display_name": "Python 3",
   "language": "python",
   "name": "python3"
  },
  "language_info": {
   "codemirror_mode": {
    "name": "ipython",
    "version": 3
   },
   "file_extension": ".py",
   "mimetype": "text/x-python",
   "name": "python",
   "nbconvert_exporter": "python",
   "pygments_lexer": "ipython3",
   "version": "3.7.6"
  }
 },
 "nbformat": 4,
 "nbformat_minor": 4
}
