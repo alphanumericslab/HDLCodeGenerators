{
 "cells": [
  {
   "cell_type": "code",
   "execution_count": 30,
   "metadata": {},
   "outputs": [],
   "source": [
    "#import sys\n",
    "import subprocess\n",
    "#import shutil\n",
    "#import os\n",
    "#import time"
   ]
  },
  {
   "cell_type": "code",
   "execution_count": 31,
   "metadata": {},
   "outputs": [],
   "source": [
    "Current_Files_Location = \"D:\\Thesis_Results_TB_CPU0\\MatrixMatrixMultiply_5_9_5_2PR_2PC_SI_HRx9_C1_A0_IL_CL_RL_MR\"\n",
    "verilog_parameters_result = {'IN_WIDTH': 10, 'INPUT_REG_DEPTH': 1, 'MULT_PIPE_DEPTH': 1}\n",
    "top = \"MatrixMatrixMultiply_5_9_5_2PR_2PC_SI_HRx9_C1_A0_IL_CL_RL_MR\"\n",
    "IWp = verilog_parameters_result[\"IN_WIDTH\"]\n",
    "VP_name_append = \"_10_1_1\""
   ]
  },
  {
   "cell_type": "code",
   "execution_count": 32,
   "metadata": {},
   "outputs": [],
   "source": [
    "FuseCommand = \"fuse -intstyle silent -nodebug -incremental -lib unisims_ver -lib unimacro_ver -o test_isim_beh\"+VP_name_append+\".exe -prj \"+top+\"_test_IW{}_beh.prj work.\".format(IWp)+top+\"_test_IW{} work.glbl\".format(IWp)\n",
    "for param in verilog_parameters_result:\n",
    "    if param!=\"IN_WIDTH\":\n",
    "        FuseCommand += \" -generic_top \\\"\"+param+\"={}\\\"\".format(verilog_parameters_result[param])\n",
    "\n",
    "SimulateCommand = \"test_isim_beh\"+VP_name_append+\".exe -intstyle silent -tclbatch isim.tcl -wdb test_isim_beh\"+VP_name_append+\".wdb\""
   ]
  },
  {
   "cell_type": "code",
   "execution_count": 33,
   "metadata": {},
   "outputs": [
    {
     "name": "stdout",
     "output_type": "stream",
     "text": [
      "fuse -intstyle silent -nodebug -incremental -lib unisims_ver -lib unimacro_ver -o test_isim_beh_10_1_1.exe -prj MatrixMatrixMultiply_5_9_5_2PR_2PC_SI_HRx9_C1_A0_IL_CL_RL_MR_test_IW10_beh.prj work.MatrixMatrixMultiply_5_9_5_2PR_2PC_SI_HRx9_C1_A0_IL_CL_RL_MR_test_IW10 work.glbl -generic_top \"INPUT_REG_DEPTH=1\" -generic_top \"MULT_PIPE_DEPTH=1\"\n",
      "\n",
      "test_isim_beh_10_1_1.exe -intstyle silent -tclbatch isim.tcl -wdb test_isim_beh_10_1_1.wdb\n"
     ]
    }
   ],
   "source": [
    "print(FuseCommand)\n",
    "print()\n",
    "print(SimulateCommand)"
   ]
  },
  {
   "cell_type": "code",
   "execution_count": 34,
   "metadata": {},
   "outputs": [
    {
     "name": "stdout",
     "output_type": "stream",
     "text": [
      "Fuse return code: 0\n",
      "Simuulate return code: 0\n"
     ]
    }
   ],
   "source": [
    "resultFuse = subprocess.call(FuseCommand, cwd=Current_Files_Location)\n",
    "print(\"Fuse return code: {}\".format(resultFuse))\n",
    "\n",
    "#     while not os.path.isfile(Current_Files_Location+\"test_isim_beh\"+VP_name_append+\".exe\"):\n",
    "#         ;\n",
    "#     time.sleep(5)\n",
    "#     print(Current_Files_Location)\n",
    "#     print(SimulateCommandArgs)\n",
    "test_name = \"test_isim_beh\"+VP_name_append+\".exe\"\n",
    "wdb_name = \"test_isim_beh\"+VP_name_append+\".wdb\"\n",
    "#     resultSimulate = subprocess.call([test_name, \"-intstyle\", \"silent\", \"-tclbatch\", \"isim.tcl\", \"-wdb\", wdb_name], cwd=Current_Files_Location)\n",
    "resultSimulate = subprocess.call([test_name, \"-intstyle\", \"silent\", \"-tclbatch\", \"isim.tcl\", \"-wdb\", wdb_name], cwd=Current_Files_Location, shell=True)\n",
    "print(\"Simulate return code: {}\".format(resultSimulate))"
   ]
  },
  {
   "cell_type": "code",
   "execution_count": null,
   "metadata": {},
   "outputs": [],
   "source": [
    "# def Simulate_Project():\n",
    "#     resultFuse = subprocess.call(FuseCommand, cwd=Current_Files_Location)\n",
    "#     print(VP_name_append+\" Fuse Result: \", end='')\n",
    "#     if resultFuse==0:\n",
    "#         print(\"Successful (0)\")\n",
    "#     else:\n",
    "#         print(\"Unsuccessful ({})\".format(resultFuse))\n",
    "#         return\n",
    "\n",
    "#     if resultFuse==0:\n",
    "#     #     while not os.path.isfile(Current_Files_Location+\"test_isim_beh\"+VP_name_append+\".exe\"):\n",
    "#     #         ;\n",
    "#     #     time.sleep(5)\n",
    "#     #     print(Current_Files_Location)\n",
    "#     #     print(SimulateCommandArgs)\n",
    "#         test_name = \"test_isim_beh\"+VP_name_append+\".exe\"\n",
    "#         wdb_name = \"test_isim_beh\"+VP_name_append+\".wdb\"\n",
    "#     #     resultSimulate = subprocess.call([test_name, \"-intstyle\", \"silent\", \"-tclbatch\", \"isim.tcl\", \"-wdb\", wdb_name], cwd=Current_Files_Location)\n",
    "#         resultSimulate = subprocess.call([test_name, \"-intstyle\", \"silent\", \"-tclbatch\", \"isim.tcl\", \"-wdb\", wdb_name], cwd=Current_Files_Location, shell=True)\n",
    "#         print(VP_name_append+\" Simulate Run Return Code: \", end='')\n",
    "#         if resultSimulate==0:\n",
    "#             print(\"Successful (0)\")\n",
    "#         else:\n",
    "#             print(\"Unsuccessful ({})\".format(resultSimulate))\n",
    "#             return\n",
    "\n",
    "#         if resultSimulate==0:\n",
    "#             #open output file and check saimulation result\n",
    "#             with open(Current_Files_Location+VP_name_append+\"_Simulation_Result.txt\",\"r\") as Simulation_Result_file:\n",
    "#                 print(VP_name_append+\" Simulation Result: \"+Simulation_Result_file.readline(), end='')"
   ]
  }
 ],
 "metadata": {
  "kernelspec": {
   "display_name": "Python 3",
   "language": "python",
   "name": "python3"
  },
  "language_info": {
   "codemirror_mode": {
    "name": "ipython",
    "version": 3
   },
   "file_extension": ".py",
   "mimetype": "text/x-python",
   "name": "python",
   "nbconvert_exporter": "python",
   "pygments_lexer": "ipython3",
   "version": "3.6.3"
  }
 },
 "nbformat": 4,
 "nbformat_minor": 2
}
