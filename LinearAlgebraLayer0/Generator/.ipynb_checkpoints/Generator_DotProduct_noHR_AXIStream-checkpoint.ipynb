{
 "cells": [
  {
   "cell_type": "code",
   "execution_count": 9,
   "metadata": {},
   "outputs": [],
   "source": [
    "## in this file we use the  DotProduct_noHR_C_V3_7 file to generate verilog code,\n",
    "# which by adding some modifications turn into an AXI_Stream compatabile module."
   ]
  },
  {
   "cell_type": "code",
   "execution_count": 10,
   "metadata": {},
   "outputs": [],
   "source": [
    "import import_ipynb\n",
    "from DotProduct_noHR_C_V3_7 import DotProduct_noHR_C"
   ]
  },
  {
   "cell_type": "code",
   "execution_count": 1,
   "metadata": {},
   "outputs": [
    {
     "ename": "NameError",
     "evalue": "name 'DotProduct_noHR_C' is not defined",
     "output_type": "error",
     "traceback": [
      "\u001b[1;31m---------------------------------------------------------------------------\u001b[0m",
      "\u001b[1;31mNameError\u001b[0m                                 Traceback (most recent call last)",
      "\u001b[1;32m<ipython-input-1-125048c46988>\u001b[0m in \u001b[0;36m<module>\u001b[1;34m\u001b[0m\n\u001b[0;32m     10\u001b[0m \u001b[0mIs_Top\u001b[0m\u001b[1;33m=\u001b[0m\u001b[1;36m1\u001b[0m\u001b[1;33m\u001b[0m\u001b[1;33m\u001b[0m\u001b[0m\n\u001b[0;32m     11\u001b[0m \u001b[0mmodules\u001b[0m\u001b[1;33m=\u001b[0m\u001b[1;33m{\u001b[0m\u001b[1;33m}\u001b[0m\u001b[1;33m\u001b[0m\u001b[1;33m\u001b[0m\u001b[0m\n\u001b[1;32m---> 12\u001b[1;33m \u001b[0mDotProduct_noHR_C\u001b[0m\u001b[1;33m(\u001b[0m\u001b[0mparameters\u001b[0m\u001b[1;33m,\u001b[0m\u001b[0mPrint_To_File\u001b[0m\u001b[1;33m,\u001b[0m\u001b[0mFiles_Location\u001b[0m\u001b[1;33m,\u001b[0m\u001b[0mIs_Top\u001b[0m\u001b[1;33m,\u001b[0m\u001b[0mmodules\u001b[0m\u001b[1;33m)\u001b[0m\u001b[1;33m\u001b[0m\u001b[1;33m\u001b[0m\u001b[0m\n\u001b[0m",
      "\u001b[1;31mNameError\u001b[0m: name 'DotProduct_noHR_C' is not defined"
     ]
    }
   ],
   "source": [
    "parameters={\n",
    "    \"N\":16,\n",
    "    \"MAMCS\":16,\n",
    "    \"ENABLE_INPUT_REGISTERS\":1,\n",
    "    \"IN_WIDTH\":14,\n",
    "    \"ADDER_SIZE\":2\n",
    "}\n",
    "Print_To_File=1\n",
    "Files_Location=''\n",
    "Is_Top=1\n",
    "modules={}\n",
    "DotProduct_noHR_C(parameters,Print_To_File,Files_Location,Is_Top,modules)"
   ]
  },
  {
   "cell_type": "code",
   "execution_count": null,
   "metadata": {},
   "outputs": [],
   "source": []
  }
 ],
 "metadata": {
  "kernelspec": {
   "display_name": "Python 3",
   "language": "python",
   "name": "python3"
  },
  "language_info": {
   "codemirror_mode": {
    "name": "ipython",
    "version": 3
   },
   "file_extension": ".py",
   "mimetype": "text/x-python",
   "name": "python",
   "nbconvert_exporter": "python",
   "pygments_lexer": "ipython3",
   "version": "3.7.6"
  }
 },
 "nbformat": 4,
 "nbformat_minor": 4
}
