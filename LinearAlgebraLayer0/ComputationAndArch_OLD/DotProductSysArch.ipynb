{
 "cells": [
  {
   "cell_type": "code",
   "execution_count": 1,
   "metadata": {
    "collapsed": true
   },
   "outputs": [],
   "source": [
    "#components: Multiply Add (systolic), Adder tree, Accumulator"
   ]
  },
  {
   "cell_type": "code",
   "execution_count": 2,
   "metadata": {
    "collapsed": true
   },
   "outputs": [],
   "source": [
    "import math"
   ]
  },
  {
   "cell_type": "code",
   "execution_count": 10,
   "metadata": {
    "collapsed": false
   },
   "outputs": [
    {
     "name": "stdout",
     "output_type": "stream",
     "text": [
      "Enter Data Clk (in MHz): 101\n",
      "Enter Least Component Clk (in MHz): 450\n",
      "Enter Vector Lenght: 31\n",
      "Enter Multiply-Add Max Component Size: 5\n",
      "Enter Multiplier Pipeline Depth (delay): 1\n",
      "Enter adder tree adders pipeline depth: 1\n"
     ]
    }
   ],
   "source": [
    "ClkData = input('Enter Data Clk (in MHz): ') #can not be fster than ClkComponent\n",
    "ClkData = float(ClkData)\n",
    "ClkComponent = input('Enter Least Component Clk (in MHz): ')\n",
    "ClkComponent = float(ClkComponent)\n",
    "N = input('Enter Vector Lenght: ')\n",
    "N = int(N)\n",
    "#WL = input('Enter Word Lenght: ')\n",
    "#WL = int(WL)\n",
    "MAMCSi = input('Enter Multiply-Add Max Component Size: ')\n",
    "MAMCSi = int(MAMCSi)\n",
    "MPD = input('Enter Multiplier Pipeline Depth (delay): ')\n",
    "MPD = int(MPD)\n",
    "#currently Multiply-Add component adders are assumed non-pipelined, else delay and shift reg size will be varied\n",
    "\n",
    "#currently WL and multiplier imput len are considered the same, else:\n",
    "#    1-can be pipelined to multiply and add? (e.g. 64 and 10) 2-hardware reuse???\n",
    "\n",
    "ATAPD = input('Enter adder tree adders pipeline depth: ')\n",
    "ATAPD = int(ATAPD)\n",
    "#currently assumed all adder tree levels, has depth of ATAPD"
   ]
  },
  {
   "cell_type": "code",
   "execution_count": 11,
   "metadata": {
    "collapsed": false
   },
   "outputs": [
    {
     "name": "stdout",
     "output_type": "stream",
     "text": [
      "Hardware Reuse Ratio = 4\n",
      "Number of Multipliers = 8\n",
      "Number of Zero to be filled last Clk = 1\n",
      "will use Max-Size Components of size: 5 and delay: 5\n",
      "Num Of Max-Size Components = 1\n",
      "A Non-Max-Size Component of size: 3 and a shift register of size: 2\n",
      "Num Of Components = 2\n",
      "A 2 to 1 adder tree\n",
      "adder tree levels = 1\n",
      "adder tree Delay = 1\n"
     ]
    }
   ],
   "source": [
    "#Multiply Add:\n",
    "HRR = int(ClkComponent/ClkData)\n",
    "#HRR>1 means a feedback adder (accumulator), how to make it faster? open feedback and pipeline: no gain i think!\n",
    "print(\"Hardware Reuse Ratio = {}\".format(HRR))\n",
    "NMult = math.ceil(N/HRR); #Number of Multipliers Needed\n",
    "print(\"Number of Multipliers = {}\".format(NMult))\n",
    "#if (N/HRR) == NMult:\n",
    "#    NZ = 0;\n",
    "#else:\n",
    "NZ = HRR*NMult - N;\n",
    "print(\"Number of Zero to be filled last Clk = {}\".format(NZ))\n",
    "if NMult<MAMCSi:\n",
    "    MAMCS=NMult;\n",
    "    NumOfMaxSizeComponents = 1;\n",
    "    NonMaxSizeComponentSize = 0;\n",
    "else:\n",
    "    MAMCS=MAMCSi;\n",
    "    NumOfMaxSizeComponents = math.floor(NMult/MAMCS)\n",
    "    if (NMult/MAMCS) == NumOfMaxSizeComponents:\n",
    "        NonMaxSizeComponentSize = 0;\n",
    "    else:\n",
    "        NonMaxSizeComponentSize = NMult - MAMCS*NumOfMaxSizeComponents;\n",
    "MaxSizeComponentDelay=MAMCS+MPD-1;\n",
    "NonMaxSizeComponentDelay=NonMaxSizeComponentSize+MPD-1;\n",
    "print(\"will use Max-Size Components of size: {} and delay: {}\".format(MAMCS, MaxSizeComponentDelay))\n",
    "print(\"Num Of Max-Size Components = {}\".format(NumOfMaxSizeComponents))\n",
    "if NonMaxSizeComponentSize == 0:\n",
    "    print(\"No Non-Max-Size Component\")\n",
    "else:\n",
    "    print(\"A Non-Max-Size Component of size: {} and a shift register of size: {}\".format(NonMaxSizeComponentSize, MaxSizeComponentDelay-NonMaxSizeComponentDelay))\n",
    "NumOfComponents = NumOfMaxSizeComponents + (NonMaxSizeComponentSize!=0)\n",
    "print(\"Num Of Components = {}\".format(NumOfComponents))\n",
    "#adder tree:\n",
    "if NumOfComponents == 1:\n",
    "    print(\"No adder tree (no delay)\")\n",
    "    AdderTreeDelay=0\n",
    "else:\n",
    "    print(\"A {} to 1 adder tree\".format(NumOfComponents))\n",
    "    AdderTreeLevels=math.ceil(math.log2(NumOfComponents))\n",
    "    print(\"adder tree levels = {}\".format(AdderTreeLevels))\n",
    "    AdderTreeDelay=AdderTreeLevels*ATAPD\n",
    "    print(\"adder tree Delay = {}\".format(AdderTreeDelay))\n",
    "#accumulator:"
   ]
  }
 ],
 "metadata": {
  "kernelspec": {
   "display_name": "Python 3",
   "language": "python",
   "name": "python3"
  },
  "language_info": {
   "codemirror_mode": {
    "name": "ipython",
    "version": 3
   },
   "file_extension": ".py",
   "mimetype": "text/x-python",
   "name": "python",
   "nbconvert_exporter": "python",
   "pygments_lexer": "ipython3",
   "version": "3.5.1"
  }
 },
 "nbformat": 4,
 "nbformat_minor": 0
}
