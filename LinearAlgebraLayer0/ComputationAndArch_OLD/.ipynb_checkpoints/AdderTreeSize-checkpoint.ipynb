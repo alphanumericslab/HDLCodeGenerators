{
 "cells": [
  {
   "cell_type": "code",
   "execution_count": 1,
   "metadata": {
    "collapsed": true
   },
   "outputs": [],
   "source": [
    "import math"
   ]
  },
  {
   "cell_type": "code",
   "execution_count": 2,
   "metadata": {},
   "outputs": [
    {
     "name": "stdout",
     "output_type": "stream",
     "text": [
      "Enter K: 1500\n"
     ]
    }
   ],
   "source": [
    "#N>=2\n",
    "K = input('Enter K: ')\n",
    "K = int(K)"
   ]
  },
  {
   "cell_type": "code",
   "execution_count": 3,
   "metadata": {},
   "outputs": [],
   "source": [
    "for N in range(1,K+1):\n",
    "    #print(\"{}:\".format(N))\n",
    "    maxLevel=math.ceil(math.log2(N))+1\n",
    "    sizeA=[]\n",
    "    for j in range(N):\n",
    "        sizeA.append(0)\n",
    "    count=[]\n",
    "    for j in range(N):\n",
    "        count.append(1)\n",
    "    sizeB=[]\n",
    "    for j in range(N):\n",
    "        sizeB.append(0)\n",
    "\n",
    "    i=0\n",
    "    level=1\n",
    "    maxn=N-1\n",
    "    new=maxn\n",
    "    while 1: #i<=maxn\n",
    "        if level==maxLevel :\n",
    "            break\n",
    "        if i<maxn :\n",
    "            new=new+1\n",
    "            sizeA.append(max(sizeA[i], sizeA[i+1])+1)\n",
    "            count.append(count[i]+count[i+1])\n",
    "            sizeB.append(math.ceil(math.log2(count[new])))\n",
    "            #print(\"level: {}, add {} & {}, result is {} with Asize {}, {}\".format(level, i, i+1, new, sizeA[new], sizeB[new]))\n",
    "            if (i+1)==maxn :\n",
    "                maxn=new\n",
    "                level=level+1\n",
    "            i=i+2\n",
    "        else :\n",
    "            new=new+1\n",
    "            sizeA.append(sizeA[i])\n",
    "            count.append(count[i])\n",
    "            sizeB.append(math.ceil(math.log2(count[new])))\n",
    "            #print(\"level: {}, a reg after {}, result is {} with Asize {}, {}\".format(level, i, new, sizeA[new], sizeB[new]))\n",
    "            i=i+1\n",
    "            maxn=new\n",
    "            level=level+1\n",
    "    #sizeA[new]=sizeA[new]-1\n",
    "    for j in range(new+1):\n",
    "        if sizeA[j]!=sizeB[j]:\n",
    "            print(\"conflict in {}\".format(N))\n",
    "            break\n",
    "    #print(\"\")"
   ]
  }
 ],
 "metadata": {
  "kernelspec": {
   "display_name": "Python 3",
   "language": "python",
   "name": "python3"
  },
  "language_info": {
   "codemirror_mode": {
    "name": "ipython",
    "version": 3
   },
   "file_extension": ".py",
   "mimetype": "text/x-python",
   "name": "python",
   "nbconvert_exporter": "python",
   "pygments_lexer": "ipython3",
   "version": "3.7.0"
  }
 },
 "nbformat": 4,
 "nbformat_minor": 1
}
