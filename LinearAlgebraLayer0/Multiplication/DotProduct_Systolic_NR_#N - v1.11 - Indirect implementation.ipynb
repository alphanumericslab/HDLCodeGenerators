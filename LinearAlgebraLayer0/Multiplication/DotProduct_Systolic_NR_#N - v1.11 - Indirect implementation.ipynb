{
 "cells": [
  {
   "cell_type": "code",
   "execution_count": 2,
   "metadata": {
    "collapsed": true
   },
   "outputs": [],
   "source": [
    "#uses RegisteredMultiplier  - v1.0x\n",
    "#uses MultiplyAdd_NR - v1.1x"
   ]
  },
  {
   "cell_type": "code",
   "execution_count": 3,
   "metadata": {
    "collapsed": true
   },
   "outputs": [],
   "source": [
    "import sys\n",
    "import math"
   ]
  },
  {
   "cell_type": "code",
   "execution_count": 4,
   "metadata": {
    "collapsed": false
   },
   "outputs": [
    {
     "name": "stdout",
     "output_type": "stream",
     "text": [
      "Enter N: 10\n"
     ]
    }
   ],
   "source": [
    "#N>=2\n",
    "N = input('Enter N: ')"
   ]
  },
  {
   "cell_type": "code",
   "execution_count": 5,
   "metadata": {
    "collapsed": false
   },
   "outputs": [
    {
     "name": "stdout",
     "output_type": "stream",
     "text": [
      "Enter IN_WIDTH default value (empty for 10): \n"
     ]
    }
   ],
   "source": [
    "#IN_WIDTH>=1\n",
    "IN_WIDTH = input('Enter IN_WIDTH default value (empty for 10): ')"
   ]
  },
  {
   "cell_type": "code",
   "execution_count": 6,
   "metadata": {
    "collapsed": false
   },
   "outputs": [
    {
     "name": "stdout",
     "output_type": "stream",
     "text": [
      "Enter INPUT_REG_DEPTH default value (empty for 1): \n"
     ]
    }
   ],
   "source": [
    "#INPUT_REG_DEPTH>=0\n",
    "INPUT_REG_DEPTH = input('Enter INPUT_REG_DEPTH default value (empty for 1): ')"
   ]
  },
  {
   "cell_type": "code",
   "execution_count": 7,
   "metadata": {
    "collapsed": false
   },
   "outputs": [
    {
     "name": "stdout",
     "output_type": "stream",
     "text": [
      "Enter MULT_PIPE_DEPTH default value (empty for 1): \n"
     ]
    }
   ],
   "source": [
    "#MULT_PIPE_DEPTH>=0\n",
    "MULT_PIPE_DEPTH = input('Enter MULT_PIPE_DEPTH default value (empty for 1): ')"
   ]
  },
  {
   "cell_type": "code",
   "execution_count": 8,
   "metadata": {
    "collapsed": true
   },
   "outputs": [],
   "source": [
    "N = int(N)\n",
    "if(N<2):\n",
    "    N=2\n",
    "\n",
    "if not IN_WIDTH:\n",
    "    IN_WIDTH=10\n",
    "else:\n",
    "    IN_WIDTH = int(IN_WIDTH)\n",
    "    if IN_WIDTH<1:\n",
    "        IN_WIDTH=1\n",
    "\n",
    "if not INPUT_REG_DEPTH:\n",
    "    INPUT_REG_DEPTH=1\n",
    "else:\n",
    "    INPUT_REG_DEPTH = int(INPUT_REG_DEPTH)\n",
    "    if(INPUT_REG_DEPTH<0):\n",
    "        INPUT_REG_DEPTH=0\n",
    "\n",
    "if not MULT_PIPE_DEPTH:\n",
    "    MULT_PIPE_DEPTH=1\n",
    "else:\n",
    "    MULT_PIPE_DEPTH = int(MULT_PIPE_DEPTH)\n",
    "    if(MULT_PIPE_DEPTH<0):\n",
    "        MULT_PIPE_DEPTH=0"
   ]
  },
  {
   "cell_type": "code",
   "execution_count": 9,
   "metadata": {
    "collapsed": true
   },
   "outputs": [],
   "source": [
    "__Print_To_File = 0\n",
    "\n",
    "if __Print_To_File<=0:\n",
    "    of=sys.stdout\n",
    "else:\n",
    "    of=open(\"./DotProduct_Systolic_NR_{}.v\".format(N), 'w+')"
   ]
  },
  {
   "cell_type": "code",
   "execution_count": 10,
   "metadata": {
    "collapsed": false
   },
   "outputs": [
    {
     "name": "stdout",
     "output_type": "stream",
     "text": [
      "`timescale 1ns / 1ps\n",
      "\n",
      "module DotProduct_Systolic_NR_10\n",
      "#(\n",
      "parameter IN_WIDTH = 10,\n",
      "parameter INPUT_REG_DEPTH = 1,\n",
      "parameter MULT_PIPE_DEPTH = 1\n",
      ")(\n",
      "input clk, reset, enable,\n",
      "input inReady,\n",
      "input signed [IN_WIDTH-1:0] A0, A1, A2, A3, A4, A5, A6, A7, A8, A9, \n",
      "input signed [IN_WIDTH-1:0] B0, B1, B2, B3, B4, B5, B6, B7, B8, B9, \n",
      "output reg outReady = 0,\n",
      "output reg signed [(2*IN_WIDTH)+3:0] DP,\n",
      "output earlyOutReady\n",
      ");\n",
      "\n"
     ]
    }
   ],
   "source": [
    "print(\"`timescale 1ns / 1ps\\n\", file=of)\n",
    "print(\"module DotProduct_Systolic_NR_{}\".format(N), file=of)\n",
    "print(\"#(\", file=of)\n",
    "print(\"parameter IN_WIDTH = {},\".format(IN_WIDTH), file=of)\n",
    "print(\"parameter INPUT_REG_DEPTH = {},\".format(INPUT_REG_DEPTH), file=of)\n",
    "print(\"parameter MULT_PIPE_DEPTH = {}\".format(MULT_PIPE_DEPTH), file=of)\n",
    "print(\")(\", file=of)\n",
    "print(\"input clk, reset, enable,\", file=of)\n",
    "print(\"input inReady,\", file=of)\n",
    "print(\"input signed [IN_WIDTH-1:0] \", end='', file=of)\n",
    "for i in range(N):\n",
    "    print(\"A{}, \".format(i), end='', file=of)\n",
    "print(file=of)\n",
    "print(\"input signed [IN_WIDTH-1:0] \", end='', file=of)\n",
    "for i in range(N):\n",
    "    print(\"B{}, \".format(i), end='', file=of)\n",
    "print(file=of)\n",
    "print(\"output reg outReady = 0,\", file=of)\n",
    "lgn=math.ceil(math.log(N,2))\n",
    "al=-1+lgn\n",
    "if al==0:\n",
    "    print(\"output reg signed [(2*IN_WIDTH):0] DP,\", file=of)\n",
    "else:\n",
    "    print(\"output reg signed [(2*IN_WIDTH)+{}:0] DP,\".format(al), file=of)\n",
    "print(\"output earlyOutReady\", file=of)\n",
    "print(\");\\n\", file=of)"
   ]
  },
  {
   "cell_type": "code",
   "execution_count": 11,
   "metadata": {
    "collapsed": false
   },
   "outputs": [
    {
     "name": "stdout",
     "output_type": "stream",
     "text": [
      "RegisteredMultiplier #(.IN_WIDTH(IN_WIDTH),\n",
      ".INPUT_REG_DEPTH(INPUT_REG_DEPTH),\n",
      ".MULT_PIPE_DEPTH(MULT_PIPE_DEPTH))\n",
      "Mult0(clk, reset, enable,\n",
      "inReady,\n",
      "A0, B0\n",
      "MOR0, //not used\n",
      "M0,\n",
      "eMOR0); //not used\n",
      "\n"
     ]
    }
   ],
   "source": [
    "print(\"wire signed [(2*IN_WIDTH)-1:0] M0;\", file=of)\n",
    "print(\"RegisteredMultiplier #(.IN_WIDTH(IN_WIDTH),\", file=of)\n",
    "print(\".INPUT_REG_DEPTH(INPUT_REG_DEPTH),\", file=of)\n",
    "print(\".MULT_PIPE_DEPTH(MULT_PIPE_DEPTH))\", file=of)\n",
    "print(\"Mult0(clk, reset, enable,\", file=of)\n",
    "print(\"inReady,\", file=of)\n",
    "print(\"A0, B0,\", file=of)\n",
    "print(\"MOR0, //not used\", file=of)\n",
    "print(\"M0,\", file=of)\n",
    "print(\"eMOR0); //not used\", file=of)\n",
    "print(file=of)"
   ]
  },
  {
   "cell_type": "code",
   "execution_count": 12,
   "metadata": {
    "collapsed": false
   },
   "outputs": [
    {
     "name": "stdout",
     "output_type": "stream",
     "text": [
      "wire signed [2*IN_WIDTH:0] psl1 [0:0];\n",
      "wire signed [(2*IN_WIDTH)+1:0] psl2 [0:1];\n",
      "wire signed [(2*IN_WIDTH)+2:0] psl3 [0:3];\n",
      "wire signed [(2*IN_WIDTH)+3:0] psl4 [0:1];\n",
      "\n"
     ]
    }
   ],
   "source": [
    "i=0; twoPW=1; j=N-1; k=0;\n",
    "while(True):\n",
    "    i+=1\n",
    "    if i == twoPW:\n",
    "        k+=1;\n",
    "        if i==1:\n",
    "            print(\"wire signed [2*IN_WIDTH:0] psl{} [0:{}];\".format(k,twoPW-1), file=of)\n",
    "        else:\n",
    "            print(\"wire signed [(2*IN_WIDTH)+{}:0] psl{} [0:{}];\".format(k-1,k,twoPW-1), file=of)\n",
    "        twoPW = 2*twoPW\n",
    "        j-=i\n",
    "        if j==0:\n",
    "            break\n",
    "        elif j<twoPW:\n",
    "            k+=1\n",
    "            print(\"wire signed [(2*IN_WIDTH)+{}:0] psl{} [0:{}];\".format(k-1,k,j-1), file=of)\n",
    "            break\n",
    "print(file=of)"
   ]
  },
  {
   "cell_type": "code",
   "execution_count": 13,
   "metadata": {
    "collapsed": false
   },
   "outputs": [
    {
     "name": "stdout",
     "output_type": "stream",
     "text": [
      "MultiplyAdd_NR #( .IN_M_WIDTH(IN_WIDTH), .IN_A_WIDTH(2*IN_WIDTH), .OUT_WIDTH((2*IN_WIDTH)+1), .INPUT_REG_DEPTH(INPUT_REG_DEPTH), .MULT_PIPE_DEPTH(MULT_PIPE_DEPTH) )\n",
      "MA1(clk, reset, enable,\n",
      "inReady,\n",
      "A1, B1,\n",
      "M0,\n",
      "OR1, //not used\n",
      "psl1[0],\n",
      "eOR1); //not used\n",
      "\n",
      "MultiplyAdd_NR #( .IN_M_WIDTH(IN_WIDTH), .IN_A_WIDTH((2*IN_WIDTH)+1), .OUT_WIDTH((2*IN_WIDTH)+2), .INPUT_REG_DEPTH(INPUT_REG_DEPTH), .MULT_PIPE_DEPTH(MULT_PIPE_DEPTH) )\n",
      "MA2(clk, reset, enable,\n",
      "inReady,\n",
      "A2, B2,\n",
      "psl1[0],\n",
      "OR2, //not used\n",
      "psl2[0],\n",
      "eOR2); //not used\n",
      "\n",
      "MultiplyAdd_NR #( .IN_M_WIDTH(IN_WIDTH), .IN_A_WIDTH((2*IN_WIDTH)+2), .OUT_WIDTH((2*IN_WIDTH)+2), .INPUT_REG_DEPTH(INPUT_REG_DEPTH), .MULT_PIPE_DEPTH(MULT_PIPE_DEPTH) )\n",
      "MA3(clk, reset, enable,\n",
      "inReady,\n",
      "A3, B3,\n",
      "psl2[0],\n",
      "OR3, //not used\n",
      "psl2[1],\n",
      "eOR3); //not used\n",
      "\n",
      "MultiplyAdd_NR #( .IN_M_WIDTH(IN_WIDTH), .IN_A_WIDTH((2*IN_WIDTH)+2), .OUT_WIDTH((2*IN_WIDTH)+3), .INPUT_REG_DEPTH(INPUT_REG_DEPTH), .MULT_PIPE_DEPTH(MULT_PIPE_DEPTH) )\n",
      "MA4(clk, reset, enable,\n",
      "inReady,\n",
      "A4, B4,\n",
      "psl2[1],\n",
      "OR4, //not used\n",
      "psl3[0],\n",
      "eOR4); //not used\n",
      "\n",
      "MultiplyAdd_NR #( .IN_M_WIDTH(IN_WIDTH), .IN_A_WIDTH((2*IN_WIDTH)+3), .OUT_WIDTH((2*IN_WIDTH)+3), .INPUT_REG_DEPTH(INPUT_REG_DEPTH), .MULT_PIPE_DEPTH(MULT_PIPE_DEPTH) )\n",
      "MA5(clk, reset, enable,\n",
      "inReady,\n",
      "A5, B5,\n",
      "psl3[0],\n",
      "OR5, //not used\n",
      "psl3[1],\n",
      "eOR5); //not used\n",
      "\n",
      "MultiplyAdd_NR #( .IN_M_WIDTH(IN_WIDTH), .IN_A_WIDTH((2*IN_WIDTH)+3), .OUT_WIDTH((2*IN_WIDTH)+3), .INPUT_REG_DEPTH(INPUT_REG_DEPTH), .MULT_PIPE_DEPTH(MULT_PIPE_DEPTH) )\n",
      "MA6(clk, reset, enable,\n",
      "inReady,\n",
      "A6, B6,\n",
      "psl3[1],\n",
      "OR6, //not used\n",
      "psl3[2],\n",
      "eOR6); //not used\n",
      "\n",
      "MultiplyAdd_NR #( .IN_M_WIDTH(IN_WIDTH), .IN_A_WIDTH((2*IN_WIDTH)+3), .OUT_WIDTH((2*IN_WIDTH)+3), .INPUT_REG_DEPTH(INPUT_REG_DEPTH), .MULT_PIPE_DEPTH(MULT_PIPE_DEPTH) )\n",
      "MA7(clk, reset, enable,\n",
      "inReady,\n",
      "A7, B7,\n",
      "psl3[2],\n",
      "OR7, //not used\n",
      "psl3[3],\n",
      "eOR7); //not used\n",
      "\n",
      "MultiplyAdd_NR #( .IN_M_WIDTH(IN_WIDTH), .IN_A_WIDTH((2*IN_WIDTH)+3), .OUT_WIDTH((2*IN_WIDTH)+4), .INPUT_REG_DEPTH(INPUT_REG_DEPTH), .MULT_PIPE_DEPTH(MULT_PIPE_DEPTH) )\n",
      "MA8(clk, reset, enable,\n",
      "inReady,\n",
      "A8, B8,\n",
      "psl3[3],\n",
      "OR8, //not used\n",
      "psl4[0],\n",
      "eOR8); //not used\n",
      "\n",
      "MultiplyAdd_NR #( .IN_M_WIDTH(IN_WIDTH), .IN_A_WIDTH((2*IN_WIDTH)+4), .OUT_WIDTH((2*IN_WIDTH)+4), .INPUT_REG_DEPTH(INPUT_REG_DEPTH), .MULT_PIPE_DEPTH(MULT_PIPE_DEPTH) )\n",
      "MA9(clk, reset, enable,\n",
      "inReady,\n",
      "A9, B9,\n",
      "psl4[0],\n",
      "earlyOutReady,\n",
      "psl4[1],\n",
      "eOR9); //not used\n",
      "\n"
     ]
    }
   ],
   "source": [
    "i=0; twoPW=1; k=0; ok=0; l=0; ol=0;\n",
    "while(i<N-1):\n",
    "    i+=1\n",
    "    ol=l;\n",
    "    l+=1;\n",
    "    ok=k;\n",
    "    if i == twoPW:\n",
    "        k+=1;\n",
    "        twoPW = 2*twoPW\n",
    "        l=0;\n",
    "    if ok==0:\n",
    "        print(\"MultiplyAdd_NR #( .IN_M_WIDTH(IN_WIDTH), .IN_A_WIDTH(2*IN_WIDTH), \", end='', file=of)\n",
    "    else:\n",
    "        print(\"MultiplyAdd_NR #( .IN_M_WIDTH(IN_WIDTH), .IN_A_WIDTH((2*IN_WIDTH)+{}), \".format(ok), end='', file=of)\n",
    "    print(\".OUT_WIDTH((2*IN_WIDTH)+{}), \".format(k), end='', file=of)\n",
    "    print(\".INPUT_REG_DEPTH(INPUT_REG_DEPTH), .MULT_PIPE_DEPTH(MULT_PIPE_DEPTH) )\", file=of)\n",
    "    print(\"MA{}(clk, reset, enable,\".format(i), file=of)\n",
    "    print(\"inReady,\", file=of)\n",
    "    if i ==1:\n",
    "        print(\"A1, B1,\\nM0,\".format(i))\n",
    "    else:\n",
    "        print(\"A{}, B{},\\npsl{}[{}],\".format(i, i, ok,ol, i))\n",
    "    if i==N-1:\n",
    "        print(\"earlyOutReady,\", file=of)\n",
    "    else:\n",
    "        print(\"OR{}, //not used\".format(i))\n",
    "    print(\"psl{}[{}],\".format(k,l), file=of)\n",
    "    print(\"eOR{}); //not used\".format(i))\n",
    "    print(file=of)"
   ]
  },
  {
   "cell_type": "code",
   "execution_count": 14,
   "metadata": {
    "collapsed": false
   },
   "outputs": [
    {
     "name": "stdout",
     "output_type": "stream",
     "text": [
      "always @(posedge clk) begin\n",
      "\tif(reset) begin\n",
      "\t\toutReady <= 0;\n",
      "\tend\n",
      "\telse if(enable) begin\n",
      "\t\toutReady <= earlyOutReady;\n",
      "\t\tif(earlyOutReady) begin\n",
      "\t\t\tDP <= psl4[1];\n",
      "\t\tend\n",
      "\tend\n",
      "end\n",
      "\n"
     ]
    }
   ],
   "source": [
    "print(\"always @(posedge clk) begin\", file=of)\n",
    "print(\"\\tif(reset) begin\", file=of)\n",
    "print(\"\\t\\toutReady <= 0;\", file=of)\n",
    "print(\"\\tend\", file=of)\n",
    "print(\"\\telse if(enable) begin\", file=of)\n",
    "print(\"\\t\\toutReady <= earlyOutReady;\", file=of)\n",
    "print(\"\\t\\tif(earlyOutReady) begin\", file=of)\n",
    "print(\"\\t\\t\\tDP <= psl{}[{}];\".format(k,l), file=of)\n",
    "print(\"\\t\\tend\", file=of)\n",
    "print(\"\\tend\", file=of)\n",
    "print(\"end\\n\", file=of)"
   ]
  },
  {
   "cell_type": "code",
   "execution_count": null,
   "metadata": {
    "collapsed": true
   },
   "outputs": [],
   "source": [
    "print(\"endmodule\", file=of)"
   ]
  },
  {
   "cell_type": "code",
   "execution_count": 15,
   "metadata": {
    "collapsed": false
   },
   "outputs": [],
   "source": [
    "if __Print_To_File>0:\n",
    "    of.close()"
   ]
  }
 ],
 "metadata": {
  "kernelspec": {
   "display_name": "Python 3",
   "language": "python",
   "name": "python3"
  },
  "language_info": {
   "codemirror_mode": {
    "name": "ipython",
    "version": 3
   },
   "file_extension": ".py",
   "mimetype": "text/x-python",
   "name": "python",
   "nbconvert_exporter": "python",
   "pygments_lexer": "ipython3",
   "version": "3.5.1"
  }
 },
 "nbformat": 4,
 "nbformat_minor": 0
}
