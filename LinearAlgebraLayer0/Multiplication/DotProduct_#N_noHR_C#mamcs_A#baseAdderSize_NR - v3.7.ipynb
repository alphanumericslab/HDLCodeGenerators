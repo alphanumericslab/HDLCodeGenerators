{
 "cells": [
  {
   "cell_type": "code",
   "execution_count": 18,
   "metadata": {},
   "outputs": [],
   "source": [
    "#uses DotProduct_Systolic - v1.1x\n",
    "#uses RegisteredMultiplier  - v1.0x\n",
    "#uses AdderTree - v1.2x"
   ]
  },
  {
   "cell_type": "code",
   "execution_count": 19,
   "metadata": {},
   "outputs": [],
   "source": [
    "import sys\n",
    "import math"
   ]
  },
  {
   "cell_type": "code",
   "execution_count": 20,
   "metadata": {},
   "outputs": [
    {
     "name": "stdout",
     "output_type": "stream",
     "text": [
      "Enter N: 10\n"
     ]
    }
   ],
   "source": [
    "#N>=2\n",
    "N = input('Enter N: ')"
   ]
  },
  {
   "cell_type": "code",
   "execution_count": 21,
   "metadata": {},
   "outputs": [],
   "source": [
    "N = int(N)\n",
    "if(N<2):\n",
    "    N=2"
   ]
  },
  {
   "cell_type": "code",
   "execution_count": 22,
   "metadata": {
    "scrolled": true
   },
   "outputs": [
    {
     "name": "stdout",
     "output_type": "stream",
     "text": [
      "Enter Multiply-Add Max Component Size (>=2, <= 9, empty for 2): \n"
     ]
    }
   ],
   "source": [
    "#MAMCS>=2\n",
    "MAMCS = input('Enter Multiply-Add Max Component Size (>=2, <= {}, empty for 2): '.format(N-1))"
   ]
  },
  {
   "cell_type": "code",
   "execution_count": 23,
   "metadata": {},
   "outputs": [
    {
     "name": "stdout",
     "output_type": "stream",
     "text": [
      "Enter maximum size allowed for base adders (empty for 2): \n"
     ]
    }
   ],
   "source": [
    "#AdderSize>=2\n",
    "AdderSize = input('Enter maximum size allowed for base adders (empty for 2): ')"
   ]
  },
  {
   "cell_type": "code",
   "execution_count": 24,
   "metadata": {},
   "outputs": [
    {
     "name": "stdout",
     "output_type": "stream",
     "text": [
      "Enter IN_WIDTH Default Value (empty for 10): 16\n"
     ]
    }
   ],
   "source": [
    "#IN_WIDTH>=1\n",
    "IN_WIDTH = input('Enter IN_WIDTH Default Value (empty for 10): ')"
   ]
  },
  {
   "cell_type": "code",
   "execution_count": 25,
   "metadata": {},
   "outputs": [
    {
     "name": "stdout",
     "output_type": "stream",
     "text": [
      "Enter INPUT_REG_DEPTH Default Value (empty for 1): \n"
     ]
    }
   ],
   "source": [
    "#INPUT_REG_DEPTH>=0\n",
    "INPUT_REG_DEPTH = input('Enter INPUT_REG_DEPTH Default Value (empty for 1): ')"
   ]
  },
  {
   "cell_type": "code",
   "execution_count": 26,
   "metadata": {},
   "outputs": [
    {
     "name": "stdout",
     "output_type": "stream",
     "text": [
      "Enter MULT_PIPE_DEPTH Default Value (empty for 1): \n"
     ]
    }
   ],
   "source": [
    "#MULT_PIPE_DEPTH>=0\n",
    "MULT_PIPE_DEPTH = input('Enter MULT_PIPE_DEPTH Default Value (empty for 1): ')"
   ]
  },
  {
   "cell_type": "code",
   "execution_count": 27,
   "metadata": {},
   "outputs": [],
   "source": [
    "if (not MAMCS):\n",
    "    MAMCS = N-1\n",
    "else:\n",
    "    MAMCS = int(MAMCS)\n",
    "if MAMCS>=(N-1):\n",
    "    MAMCS = N-1\n",
    "    NumOfMaxSizeComponents=1\n",
    "    NonMaxSizeComponentSize=1;\n",
    "else:\n",
    "    if(MAMCS<2):\n",
    "        MAMCS=2\n",
    "    NumOfMaxSizeComponents = math.floor(N/MAMCS)\n",
    "    if (N/MAMCS) == NumOfMaxSizeComponents:\n",
    "        NonMaxSizeComponentSize=0\n",
    "    else:\n",
    "        NonMaxSizeComponentSize = N - MAMCS*NumOfMaxSizeComponents\n",
    "NumOfComponents = NumOfMaxSizeComponents + (NonMaxSizeComponentSize!=0)\n",
    "\n",
    "if not AdderSize:\n",
    "    AdderSize=2\n",
    "else:\n",
    "    AdderSize = int(AdderSize)\n",
    "    if AdderSize<2:\n",
    "        AdderSize=2\n",
    "    if AdderSize>NumOfComponents:\n",
    "        AdderSize=NumOfComponents\n",
    "\n",
    "if not IN_WIDTH:\n",
    "    IN_WIDTH=10\n",
    "else:\n",
    "    IN_WIDTH = int(IN_WIDTH)\n",
    "    if(IN_WIDTH<1):\n",
    "        IN_WIDTH=1\n",
    "\n",
    "if not INPUT_REG_DEPTH:\n",
    "    INPUT_REG_DEPTH=1\n",
    "else:\n",
    "    INPUT_REG_DEPTH = int(INPUT_REG_DEPTH)\n",
    "    if(INPUT_REG_DEPTH<0):\n",
    "        INPUT_REG_DEPTH=0\n",
    "\n",
    "if not MULT_PIPE_DEPTH:\n",
    "    MULT_PIPE_DEPTH=1\n",
    "else:\n",
    "    MULT_PIPE_DEPTH = int(MULT_PIPE_DEPTH)\n",
    "    if(MULT_PIPE_DEPTH<0):\n",
    "        MULT_PIPE_DEPTH=0"
   ]
  },
  {
   "cell_type": "code",
   "execution_count": 28,
   "metadata": {},
   "outputs": [],
   "source": [
    "__Print_To_File = 1\n",
    "\n",
    "if __Print_To_File<=0:\n",
    "    of=sys.stdout\n",
    "else:\n",
    "    #of=open(\"./DotProduct_{}_noHR_C{}_A{}_NR.v\".format(N, MAMCS, AdderSize), 'w+')\n",
    "    of=open(\"./DotProduct.v\", 'w+')"
   ]
  },
  {
   "cell_type": "code",
   "execution_count": 29,
   "metadata": {},
   "outputs": [],
   "source": [
    "print(\"`timescale 1ns / 1ps\\n\", file=of)\n",
    "print(\"module DotProduct_{}_noHR_C{}_A{}_NR\".format(N, MAMCS, AdderSize), file=of)\n",
    "print(\"#(\", file=of)\n",
    "print(\"parameter IN_WIDTH = {},\".format(IN_WIDTH), file=of)\n",
    "print(\"parameter INPUT_REG_DEPTH = {},\".format(INPUT_REG_DEPTH), file=of)\n",
    "print(\"parameter MULT_PIPE_DEPTH = {}\".format(MULT_PIPE_DEPTH), file=of)\n",
    "print(\")(\", file=of)\n",
    "print(\"input clk, reset, enable,\", file=of)\n",
    "print(\"input inReady,\", file=of)\n",
    "print(\"input signed [IN_WIDTH-1:0] \", end='', file=of)\n",
    "for i in range(N):\n",
    "    print(\"A{}, \".format(i), end='', file=of)\n",
    "print(file=of)\n",
    "print(\"input signed [IN_WIDTH-1:0] \", end='', file=of)\n",
    "for i in range(N):\n",
    "    print(\"B{}, \".format(i), end='', file=of)\n",
    "print(file=of)\n",
    "print(\"output outReady,\", file=of)\n",
    "lgn=math.ceil(math.log2(N)) #>=1\n",
    "al=-1+lgn #>=0\n",
    "if al==0:\n",
    "    print(\"output signed [2*IN_WIDTH:0] DP,\", file=of)\n",
    "else:\n",
    "    print(\"output signed [(2*IN_WIDTH)+{}:0] DP,\".format(al), file=of)\n",
    "print(\"output earlyOutReady\", file=of)\n",
    "print(\");\\n\", file=of)"
   ]
  },
  {
   "cell_type": "code",
   "execution_count": 30,
   "metadata": {},
   "outputs": [],
   "source": [
    "lgMAMCS=math.ceil(math.log2(MAMCS)) #>=1\n",
    "palM=lgMAMCS-1 #>=0\n",
    "print(\"wire DPOutReady;\", file=of)\n",
    "for i in range (NumOfMaxSizeComponents):\n",
    "    if palM==0:\n",
    "        print(\"wire signed [(2*IN_WIDTH):0] DPpart{};\".format(i), file=of)\n",
    "    else:\n",
    "        print(\"wire signed [(2*IN_WIDTH)+{}:0] DPpart{};\".format(palM, i), file=of)\n",
    "    print(\"DotProduct_Systolic_NR_{}#( .IN_WIDTH(IN_WIDTH), .INPUT_REG_DEPTH(INPUT_REG_DEPTH), .MULT_PIPE_DEPTH(MULT_PIPE_DEPTH) )\".format(MAMCS), file=of)\n",
    "    print(\"\\tDPS{}_{}(clk, reset, enable,\".format(MAMCS, i), file=of)\n",
    "    print(\"\\tinReady,\", file=of)\n",
    "    print(\"\\t\", end='', file=of)\n",
    "    for j in range(MAMCS):\n",
    "        print(\"A{}, \".format(MAMCS*i+j), end='', file=of)\n",
    "    print(file=of)\n",
    "    print(\"\\t\", end='', file=of)\n",
    "    for j in range(MAMCS):\n",
    "        print(\"B{}, \".format(MAMCS*i+j), end='', file=of)\n",
    "    print(file=of)\n",
    "    if i==0:\n",
    "        print(\"\\tDPOutReady,\", file=of)\n",
    "    else:\n",
    "        print(\"\\tDPOutReady{}, //not used\".format(i), file=of)\n",
    "    print(\"\\tDPpart{},\".format(i), file=of)\n",
    "    print(\"\\tDPEarlyOutReady{}); //not used\\n\".format(i), file=of)"
   ]
  },
  {
   "cell_type": "code",
   "execution_count": 31,
   "metadata": {
    "scrolled": true
   },
   "outputs": [],
   "source": [
    "if NonMaxSizeComponentSize>1:\n",
    "    LGNonMaxSizeComponentSize=math.ceil(math.log2(NonMaxSizeComponentSize)) #>=1\n",
    "    palN=LGNonMaxSizeComponentSize-1 #>=0\n",
    "    if palN==0:\n",
    "        print(\"wire signed [2*IN_WIDTH:0] DPpart{};\".format(NumOfMaxSizeComponents), file=of)\n",
    "    else:\n",
    "        print(\"wire signed [(2*IN_WIDTH)+{}:0] DPpart{};\".format(palN, NumOfMaxSizeComponents), file=of)\n",
    "    print(\"DotProduct_Systolic_NR_{}#( .IN_WIDTH(IN_WIDTH), .INPUT_REG_DEPTH(INPUT_REG_DEPTH), .MULT_PIPE_DEPTH(MULT_PIPE_DEPTH) )\".format(NonMaxSizeComponentSize), file=of)\n",
    "    print(\"\\tDPS{}(clk, reset, enable,\".format(NonMaxSizeComponentSize), file=of)\n",
    "    print(\"\\tinReady,\", file=of)\n",
    "    print(\"\\t\", end='', file=of)\n",
    "    for j in range(NonMaxSizeComponentSize):\n",
    "        print(\"A{}, \".format(MAMCS*NumOfMaxSizeComponents+j), end='', file=of)\n",
    "    print(file=of)\n",
    "    print(\"\\t\", end='', file=of)\n",
    "    for j in range(NonMaxSizeComponentSize):\n",
    "        print(\"B{}, \".format(MAMCS*NumOfMaxSizeComponents+j), end='', file=of)\n",
    "    print(file=of)\n",
    "    print(\"\\tDPOutReady{}, //not used\".format(NumOfMaxSizeComponents), file=of)\n",
    "    print(\"\\tDPpart{},\".format(NumOfMaxSizeComponents), file=of)\n",
    "    print(\"\\tDPEarlyOutReady{}); //not used\\n\".format(NumOfMaxSizeComponents), file=of)\n",
    "elif NonMaxSizeComponentSize==1:\n",
    "    palN = -1;\n",
    "    print(\"wire signed [(2*IN_WIDTH)-1:0] DPpart{};\".format(NumOfMaxSizeComponents), file=of)\n",
    "    print(\"RegisteredMultiplier #(.IN_WIDTH(IN_WIDTH),\", file=of)\n",
    "    print(\".INPUT_REG_DEPTH(INPUT_REG_DEPTH+1),\", file=of)\n",
    "    print(\".MULT_PIPE_DEPTH(MULT_PIPE_DEPTH))\", file=of)\n",
    "#     print(\".INPUT_REG_DEPTH(INPUT_REG_DEPTH),\", file=of)\n",
    "#     print(\".MULT_PIPE_DEPTH(MULT_PIPE_DEPTH+1))\", file=of)\n",
    "    print(\"M{}(clk, reset, enable,\".format(NumOfMaxSizeComponents), file=of)\n",
    "    print(\"inReady,\", file=of)\n",
    "    print(\"A{}, B{}\".format(MAMCS*NumOfMaxSizeComponents, MAMCS*NumOfMaxSizeComponents), file=of)\n",
    "    print(\"MOR{}, //not used\".format(NumOfMaxSizeComponents), file=of)\n",
    "    print(\"DPpart{},\".format(NumOfMaxSizeComponents), file=of)\n",
    "    print(\"eMOR{}); //not used\".format(NumOfMaxSizeComponents), file=of)\n",
    "    print(file=of)\n",
    "if NonMaxSizeComponentSize>0:\n",
    "    PalD = palM-palN; #>=0\n",
    "    #sign extention (if needed)\n",
    "    if PalD>0:\n",
    "        if palM==0:\n",
    "            print(\"wire signed [(2*IN_WIDTH):0] DPpart{}E = \".format(NumOfMaxSizeComponents), end='', file=of)    \n",
    "        else:\n",
    "            print(\"wire signed [(2*IN_WIDTH)+{}:0] DPpart{}E = \".format(palM, NumOfMaxSizeComponents), end='', file=of)\n",
    "    #if palM-palN==0:\n",
    "    #    print(\"DPpart{};\".format(NumOfMaxSizeComponents, NumOfMaxSizeComponents), file=of)    \n",
    "    #else:\n",
    "        if palN==-1:\n",
    "            print(\"{{{{{}{{DPpart{}[(2*IN_WIDTH)-1]}}}},DPpart{}}};\".format(PalD, NumOfMaxSizeComponents, NumOfMaxSizeComponents), file=of)                \n",
    "        elif palN==0:\n",
    "            print(\"{{{{{}{{DPpart{}[(2*IN_WIDTH)]}}}},DPpart{}}};\".format(PalD, NumOfMaxSizeComponents, NumOfMaxSizeComponents), file=of)    \n",
    "        else:\n",
    "            print(\"{{{{{}{{DPpart{}[(2*IN_WIDTH)+{}]}}}},DPpart{}}};\".format(PalD, NumOfMaxSizeComponents, palN, NumOfMaxSizeComponents), file=of)    \n",
    "        print(file=of)"
   ]
  },
  {
   "cell_type": "code",
   "execution_count": 32,
   "metadata": {},
   "outputs": [],
   "source": [
    "print(\"AdderTree_{}_A{}#( .IN_WIDTH((2*IN_WIDTH)+{}) )\".format(NumOfComponents, AdderSize, lgMAMCS), file=of)\n",
    "print(\"\\tAT(clk, reset, enable, DPOutReady,\", file=of)\n",
    "print(\"\\t\", end='', file=of)\n",
    "for i in range(NumOfMaxSizeComponents):\n",
    "    print(\"DPpart{}, \".format(i), end='', file=of)\n",
    "if NonMaxSizeComponentSize!=0:\n",
    "    print(\"DPpart{}\".format(NumOfMaxSizeComponents), end='', file=of)\n",
    "    if PalD>0:\n",
    "        print(\"E\", end='', file=of)\n",
    "    print(\",\", end='', file=of)\n",
    "print(\"\\n\\toutReady, DP, earlyOutReady);\\n\", file=of)"
   ]
  },
  {
   "cell_type": "code",
   "execution_count": 33,
   "metadata": {},
   "outputs": [],
   "source": [
    "print(\"endmodule\", file=of)"
   ]
  },
  {
   "cell_type": "code",
   "execution_count": 34,
   "metadata": {},
   "outputs": [],
   "source": [
    "if __Print_To_File>0:\n",
    "    of.close()"
   ]
  }
 ],
 "metadata": {
  "kernelspec": {
   "display_name": "Python 3",
   "language": "python",
   "name": "python3"
  },
  "language_info": {
   "codemirror_mode": {
    "name": "ipython",
    "version": 3
   },
   "file_extension": ".py",
   "mimetype": "text/x-python",
   "name": "python",
   "nbconvert_exporter": "python",
   "pygments_lexer": "ipython3",
   "version": "3.7.6"
  }
 },
 "nbformat": 4,
 "nbformat_minor": 1
}
