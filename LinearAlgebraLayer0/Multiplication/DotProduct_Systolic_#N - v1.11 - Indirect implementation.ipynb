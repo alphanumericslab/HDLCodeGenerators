{
 "cells": [
  {
   "cell_type": "code",
   "execution_count": 1,
   "metadata": {
    "collapsed": true
   },
   "outputs": [],
   "source": [
    "#uses RegisteredMultiplier  - v1.0x\n",
    "#uses MultiplyAdd - v1.1x"
   ]
  },
  {
   "cell_type": "code",
   "execution_count": 2,
   "metadata": {
    "collapsed": true
   },
   "outputs": [],
   "source": [
    "import sys\n",
    "import math"
   ]
  },
  {
   "cell_type": "code",
   "execution_count": 3,
   "metadata": {
    "collapsed": false
   },
   "outputs": [
    {
     "name": "stdout",
     "output_type": "stream",
     "text": [
      "Enter N: 6\n"
     ]
    }
   ],
   "source": [
    "#N>=2\n",
    "N = input('Enter N: ')"
   ]
  },
  {
   "cell_type": "code",
   "execution_count": 4,
   "metadata": {
    "collapsed": false
   },
   "outputs": [
    {
     "name": "stdout",
     "output_type": "stream",
     "text": [
      "Enter IN_WIDTH default value (empty for 10): \n"
     ]
    }
   ],
   "source": [
    "#IN_WIDTH>=1\n",
    "IN_WIDTH = input('Enter IN_WIDTH default value (empty for 10): ')"
   ]
  },
  {
   "cell_type": "code",
   "execution_count": 5,
   "metadata": {
    "collapsed": false
   },
   "outputs": [
    {
     "name": "stdout",
     "output_type": "stream",
     "text": [
      "Enter INPUT_REG_DEPTH default value (empty for 1): \n"
     ]
    }
   ],
   "source": [
    "#INPUT_REG_DEPTH>=0\n",
    "INPUT_REG_DEPTH = input('Enter INPUT_REG_DEPTH default value (empty for 1): ')"
   ]
  },
  {
   "cell_type": "code",
   "execution_count": 6,
   "metadata": {
    "collapsed": false
   },
   "outputs": [
    {
     "name": "stdout",
     "output_type": "stream",
     "text": [
      "Enter MULT_PIPE_DEPTH default value (empty for 1): \n"
     ]
    }
   ],
   "source": [
    "#MULT_PIPE_DEPTH>=0\n",
    "MULT_PIPE_DEPTH = input('Enter MULT_PIPE_DEPTH default value (empty for 1): ')"
   ]
  },
  {
   "cell_type": "code",
   "execution_count": 7,
   "metadata": {
    "collapsed": true
   },
   "outputs": [],
   "source": [
    "N = int(N)\n",
    "if(N<2):\n",
    "    N=2\n",
    "\n",
    "if not IN_WIDTH:\n",
    "    IN_WIDTH=10\n",
    "else:\n",
    "    IN_WIDTH = int(IN_WIDTH)\n",
    "    if IN_WIDTH<1:\n",
    "        IN_WIDTH=1\n",
    "\n",
    "if not INPUT_REG_DEPTH:\n",
    "    INPUT_REG_DEPTH=1\n",
    "else:\n",
    "    INPUT_REG_DEPTH = int(INPUT_REG_DEPTH)\n",
    "    if(INPUT_REG_DEPTH<0):\n",
    "        INPUT_REG_DEPTH=0\n",
    "\n",
    "if not MULT_PIPE_DEPTH:\n",
    "    MULT_PIPE_DEPTH=1\n",
    "else:\n",
    "    MULT_PIPE_DEPTH = int(MULT_PIPE_DEPTH)\n",
    "    if(MULT_PIPE_DEPTH<0):\n",
    "        MULT_PIPE_DEPTH=0"
   ]
  },
  {
   "cell_type": "code",
   "execution_count": null,
   "metadata": {
    "collapsed": true
   },
   "outputs": [],
   "source": [
    "ModuleName=\"DotProduct_Systolic_{}\".format(N)"
   ]
  },
  {
   "cell_type": "code",
   "execution_count": 8,
   "metadata": {
    "collapsed": true
   },
   "outputs": [],
   "source": [
    "__Print_To_File = 0\n",
    "\n",
    "if __Print_To_File<=0:\n",
    "    of=sys.stdout\n",
    "else:\n",
    "    of=open(\"./\"+ModuleName+\".v\".format(N), 'w+')"
   ]
  },
  {
   "cell_type": "code",
   "execution_count": 9,
   "metadata": {
    "collapsed": false
   },
   "outputs": [],
   "source": [
    "print(\"`timescale 1ns / 1ps\\n\", file=of)\n",
    "print(\"module \"+ModuleName, file=of)\n",
    "print(\"#(\", file=of)\n",
    "print(\"parameter IN_WIDTH = {},\".format(IN_WIDTH), file=of)\n",
    "print(\"parameter INPUT_REG_DEPTH = {},\".format(INPUT_REG_DEPTH), file=of)\n",
    "print(\"parameter MULT_PIPE_DEPTH = {}\".format(MULT_PIPE_DEPTH), file=of)\n",
    "print(\")(\", file=of)\n",
    "print(\"input clk, reset, enable,\", file=of)\n",
    "print(\"input inReady,\", file=of)\n",
    "print(\"input signed [IN_WIDTH-1:0] \", end='', file=of)\n",
    "for i in range(N):\n",
    "    print(\"A{}, \".format(i), end='', file=of)\n",
    "print(file=of)\n",
    "print(\"input signed [IN_WIDTH-1:0] \", end='', file=of)\n",
    "for i in range(N):\n",
    "    print(\"B{}, \".format(i), end='', file=of)\n",
    "print(file=of)\n",
    "print(\"output outReady,\", file=of)\n",
    "lgn=math.ceil(math.log(N,2))\n",
    "al=-1+lgn\n",
    "if al==0:\n",
    "    print(\"output signed [(2*IN_WIDTH):0] DP,\", file=of)\n",
    "else:\n",
    "    print(\"output signed [(2*IN_WIDTH)+{}:0] DP,\".format(al), file=of)\n",
    "print(\"output earlyOutReady\", file=of)\n",
    "print(\");\\n\", file=of)"
   ]
  },
  {
   "cell_type": "code",
   "execution_count": 10,
   "metadata": {
    "collapsed": false
   },
   "outputs": [],
   "source": [
    "print(\"wire signed [(2*IN_WIDTH)-1:0] M0;\", file=of)\n",
    "print(\"RegisteredMultiplier #(.IN_WIDTH(IN_WIDTH),\", file=of)\n",
    "print(\".INPUT_REG_DEPTH(INPUT_REG_DEPTH),\", file=of)\n",
    "print(\".MULT_PIPE_DEPTH(MULT_PIPE_DEPTH))\", file=of)\n",
    "print(\"Mult0(clk, reset, enable,\", file=of)\n",
    "print(\"inReady,\", file=of)\n",
    "print(\"A0, B0,\", file=of)\n",
    "print(\"MOR0, //not used\", file=of)\n",
    "print(\"M0,\", file=of)\n",
    "print(\"eMOR0); //not used\", file=of)\n",
    "print(file=of)"
   ]
  },
  {
   "cell_type": "code",
   "execution_count": 11,
   "metadata": {
    "collapsed": false
   },
   "outputs": [],
   "source": [
    "i=0; twoPW=1; j=N-1; k=0;\n",
    "while(True):\n",
    "    i+=1\n",
    "    if i == twoPW:\n",
    "        k+=1;\n",
    "        if i==1:\n",
    "            print(\"wire signed [2*IN_WIDTH:0] psl{} [0:{}];\".format(k,twoPW-1), file=of)\n",
    "        else:\n",
    "            print(\"wire signed [(2*IN_WIDTH)+{}:0] psl{} [0:{}];\".format(k-1,k,twoPW-1), file=of)\n",
    "        twoPW = 2*twoPW\n",
    "        j-=i\n",
    "        if j==0:\n",
    "            break\n",
    "        elif j<twoPW:\n",
    "            k+=1\n",
    "            print(\"wire signed [(2*IN_WIDTH)+{}:0] psl{} [0:{}];\".format(k-1,k,j-1), file=of)\n",
    "            break\n",
    "print(file=of)"
   ]
  },
  {
   "cell_type": "code",
   "execution_count": 12,
   "metadata": {
    "collapsed": false
   },
   "outputs": [],
   "source": [
    "i=0; twoPW=1; k=0; ok=0; l=0; ol=0;\n",
    "while(i<N-1):\n",
    "    i+=1\n",
    "    ol=l;\n",
    "    l+=1;\n",
    "    ok=k;\n",
    "    if i == twoPW:\n",
    "        k+=1;\n",
    "        twoPW = 2*twoPW\n",
    "        l=0;\n",
    "    if ok==0:\n",
    "        print(\"MultiplyAdd #( .IN_M_WIDTH(IN_WIDTH), .IN_A_WIDTH(2*IN_WIDTH), \", end='', file=of)\n",
    "    else:\n",
    "        print(\"MultiplyAdd #( .IN_M_WIDTH(IN_WIDTH), .IN_A_WIDTH((2*IN_WIDTH)+{}), \".format(ok), end='', file=of)\n",
    "    print(\".OUT_WIDTH((2*IN_WIDTH)+{}), \".format(k), end='', file=of)\n",
    "    if i==1:\n",
    "        print(\".INPUT_REG_DEPTH(INPUT_REG_DEPTH), .MULT_PIPE_DEPTH(MULT_PIPE_DEPTH) )\", file=of)\n",
    "    else:\n",
    "        print(\".INPUT_REG_DEPTH(INPUT_REG_DEPTH+{}), .MULT_PIPE_DEPTH(MULT_PIPE_DEPTH) )\".format(i-1), file=of)\n",
    "    print(\"MA{}(clk, reset, enable,\".format(i), file=of)\n",
    "    print(\"inReady,\", file=of)\n",
    "    if i ==1:\n",
    "        print(\"A1, B1,\\nM0,\".format(i), file=of)\n",
    "    else:\n",
    "        print(\"A{}, B{},\\npsl{}[{}],\".format(i, i, ok,ol, i), file=of)\n",
    "    if i==N-1:\n",
    "        print(\"outReady,\", file=of)\n",
    "        print(\"psl{}[{}],\".format(k,l), file=of)\n",
    "        print(\"earlyOutReady);\\n\", file=of)\n",
    "        print(\"assign DP = psl{}[{}];\".format(k,l), file=of)\n",
    "    else:\n",
    "        print(\"OR{}, //not used\".format(i), file=of)\n",
    "        print(\"psl{}[{}],\".format(k,l), file=of)\n",
    "        print(\"eOR{}); //not used\".format(i), file=of)\n",
    "    print(file=of)"
   ]
  },
  {
   "cell_type": "code",
   "execution_count": null,
   "metadata": {
    "collapsed": true
   },
   "outputs": [],
   "source": [
    "print(\"endmodule\", file=of)"
   ]
  },
  {
   "cell_type": "code",
   "execution_count": 13,
   "metadata": {
    "collapsed": false
   },
   "outputs": [],
   "source": [
    "if __Print_To_File>0:\n",
    "    of.close()"
   ]
  }
 ],
 "metadata": {
  "kernelspec": {
   "display_name": "Python 3",
   "language": "python",
   "name": "python3"
  },
  "language_info": {
   "codemirror_mode": {
    "name": "ipython",
    "version": 3
   },
   "file_extension": ".py",
   "mimetype": "text/x-python",
   "name": "python",
   "nbconvert_exporter": "python",
   "pygments_lexer": "ipython3",
   "version": "3.5.1"
  }
 },
 "nbformat": 4,
 "nbformat_minor": 0
}
