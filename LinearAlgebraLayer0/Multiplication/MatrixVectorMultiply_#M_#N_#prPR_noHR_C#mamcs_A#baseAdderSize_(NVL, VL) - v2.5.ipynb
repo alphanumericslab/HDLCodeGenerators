{
 "cells": [
  {
   "cell_type": "code",
   "execution_count": 1,
   "metadata": {
    "collapsed": true
   },
   "outputs": [],
   "source": [
    "#uses DotProduct_Systolic_#N - v1.1x\n",
    "#uses DotProduct_#N_noHR_C#mamcs_A#baseAdderSize - v3.7\n",
    "#uses DotProduct_#N_noHR_M_A#baseAdderSize - v3.7\n",
    "#uses RegisteredMultiplier  - v1.0x"
   ]
  },
  {
   "cell_type": "code",
   "execution_count": 2,
   "metadata": {
    "collapsed": true
   },
   "outputs": [],
   "source": [
    "import sys\n",
    "import math"
   ]
  },
  {
   "cell_type": "code",
   "execution_count": 3,
   "metadata": {
    "collapsed": false
   },
   "outputs": [
    {
     "name": "stdout",
     "output_type": "stream",
     "text": [
      "Enter M: 5\n"
     ]
    }
   ],
   "source": [
    "#M>=1\n",
    "M = input('Enter M: ')"
   ]
  },
  {
   "cell_type": "code",
   "execution_count": 4,
   "metadata": {
    "collapsed": false
   },
   "outputs": [
    {
     "name": "stdout",
     "output_type": "stream",
     "text": [
      "Enter N: 30\n"
     ]
    }
   ],
   "source": [
    "#N>=1\n",
    "N = input('Enter N: ')"
   ]
  },
  {
   "cell_type": "code",
   "execution_count": 5,
   "metadata": {
    "collapsed": false
   },
   "outputs": [
    {
     "name": "stdout",
     "output_type": "stream",
     "text": [
      "Enter No Of Parallel Row (empty for 1): 2\n"
     ]
    }
   ],
   "source": [
    "#>=1, <=M\n",
    "PR = input('Enter No Of Parallel Row (empty for 1): ')"
   ]
  },
  {
   "cell_type": "code",
   "execution_count": 6,
   "metadata": {
    "collapsed": true
   },
   "outputs": [],
   "source": [
    "M = int(M)\n",
    "if(M<1):\n",
    "    M=1\n",
    "\n",
    "N = int(N)\n",
    "if(N<1):\n",
    "    N=1\n",
    "\n",
    "if not PR:\n",
    "    PR=1\n",
    "else:\n",
    "    PR = int(PR)\n",
    "    if PR>M:\n",
    "        PR = M"
   ]
  },
  {
   "cell_type": "code",
   "execution_count": 7,
   "metadata": {
    "collapsed": false
   },
   "outputs": [
    {
     "name": "stdout",
     "output_type": "stream",
     "text": [
      "Enter Multiply-Add Max Component Size (empty for 30): 12\n"
     ]
    }
   ],
   "source": [
    "#MAMCS>=1\n",
    "MAMCS = input('Enter Multiply-Add Max Component Size (empty for {}): '.format(N))"
   ]
  },
  {
   "cell_type": "code",
   "execution_count": 8,
   "metadata": {
    "collapsed": true
   },
   "outputs": [],
   "source": [
    "if not MAMCS:\n",
    "    MAMCS = N\n",
    "else:\n",
    "    MAMCS = int(MAMCS)\n",
    "    if MAMCS>N:\n",
    "        MAMCS = N;\n",
    "    elif(MAMCS<1):\n",
    "        MAMCS=1"
   ]
  },
  {
   "cell_type": "code",
   "execution_count": 9,
   "metadata": {
    "collapsed": false
   },
   "outputs": [
    {
     "name": "stdout",
     "output_type": "stream",
     "text": [
      "Enter maximum size allowed for base adders (empty for 2): 3\n"
     ]
    }
   ],
   "source": [
    "#AdderSize>=2\n",
    "if MAMCS<N:\n",
    "    AdderSize = input('Enter maximum size allowed for base adders (empty for 2): ')"
   ]
  },
  {
   "cell_type": "code",
   "execution_count": 10,
   "metadata": {
    "collapsed": true
   },
   "outputs": [],
   "source": [
    "RS=math.ceil(M/PR)"
   ]
  },
  {
   "cell_type": "code",
   "execution_count": 11,
   "metadata": {
    "collapsed": false
   },
   "outputs": [
    {
     "name": "stdout",
     "output_type": "stream",
     "text": [
      "Enable Vector Latch? (empty or 0 to disable, 1 to enable): 1\n"
     ]
    }
   ],
   "source": [
    "if RS>1:\n",
    "    Enable_Vector_Latch = input('Enable Vector Latch? (empty or 0 to disable, 1 to enable): ')"
   ]
  },
  {
   "cell_type": "code",
   "execution_count": 12,
   "metadata": {
    "collapsed": false
   },
   "outputs": [
    {
     "name": "stdout",
     "output_type": "stream",
     "text": [
      "Enter IN_WIDTH default value (empty for 10): \n"
     ]
    }
   ],
   "source": [
    "#IN_WIDTH>=1\n",
    "IN_WIDTH = input('Enter IN_WIDTH default value (empty for 10): ')"
   ]
  },
  {
   "cell_type": "code",
   "execution_count": 13,
   "metadata": {
    "collapsed": false
   },
   "outputs": [
    {
     "name": "stdout",
     "output_type": "stream",
     "text": [
      "Enter INPUT_REG_DEPTH default value (empty for 1): \n"
     ]
    }
   ],
   "source": [
    "#INPUT_REG_DEPTH>=0\n",
    "INPUT_REG_DEPTH = input('Enter INPUT_REG_DEPTH default value (empty for 1): ')"
   ]
  },
  {
   "cell_type": "code",
   "execution_count": 14,
   "metadata": {
    "collapsed": false
   },
   "outputs": [
    {
     "name": "stdout",
     "output_type": "stream",
     "text": [
      "Enter MULT_PIPE_DEPTH default value (empty for 1): \n"
     ]
    }
   ],
   "source": [
    "#MULT_PIPE_DEPTH>=0\n",
    "MULT_PIPE_DEPTH = input('Enter MULT_PIPE_DEPTH default value (empty for 1): ')"
   ]
  },
  {
   "cell_type": "code",
   "execution_count": 15,
   "metadata": {
    "collapsed": false
   },
   "outputs": [],
   "source": [
    "NumOfComponents = math.ceil(N/MAMCS)\n",
    "if MAMCS==N:\n",
    "    AdderSize=0\n",
    "else:\n",
    "    if not AdderSize:\n",
    "        AdderSize=2\n",
    "    else:\n",
    "        AdderSize = int(AdderSize)\n",
    "        if AdderSize<2:\n",
    "            AdderSize=2\n",
    "        if AdderSize>NumOfComponents:\n",
    "            AdderSize=NumOfComponents\n",
    "\n",
    "if RS==1:\n",
    "    Enable_Vector_Latch = 0;\n",
    "else:\n",
    "    if not Enable_Vector_Latch:\n",
    "        Enable_Vector_Latch = 0\n",
    "    else:\n",
    "        Enable_Vector_Latch = int(Enable_Vector_Latch)\n",
    "\n",
    "if not IN_WIDTH:\n",
    "    IN_WIDTH=10\n",
    "else:\n",
    "    IN_WIDTH = int(IN_WIDTH)\n",
    "    if(IN_WIDTH<1):\n",
    "        IN_WIDTH=1\n",
    "\n",
    "if not INPUT_REG_DEPTH:\n",
    "    INPUT_REG_DEPTH=1\n",
    "else:\n",
    "    INPUT_REG_DEPTH = int(INPUT_REG_DEPTH)\n",
    "    if(INPUT_REG_DEPTH<0):\n",
    "        INPUT_REG_DEPTH=0\n",
    "\n",
    "if not MULT_PIPE_DEPTH:\n",
    "    MULT_PIPE_DEPTH=1\n",
    "else:\n",
    "    MULT_PIPE_DEPTH = int(MULT_PIPE_DEPTH)\n",
    "    if(MULT_PIPE_DEPTH<0):\n",
    "        MULT_PIPE_DEPTH=0"
   ]
  },
  {
   "cell_type": "code",
   "execution_count": 16,
   "metadata": {
    "collapsed": false
   },
   "outputs": [],
   "source": [
    "__Print_To_File = 0\n",
    "\n",
    "if __Print_To_File<=0:\n",
    "    of=sys.stdout\n",
    "else:\n",
    "    if Enable_Vector_Latch>0:\n",
    "        of=open(\"./MatrixVectorMultiply_{}_{}_{}PR_noHR_C{}_A{}_VL.v\".format(M, N, PR, MAMCS, AdderSize), 'w+')\n",
    "    else:\n",
    "        of=open(\"./MatrixVectorMultiply_{}_{}_{}PR_noHR_C{}_A{}_NVL.v\".format(M, N, PR, MAMCS, AdderSize), 'w+')"
   ]
  },
  {
   "cell_type": "code",
   "execution_count": 17,
   "metadata": {
    "collapsed": false,
    "scrolled": true
   },
   "outputs": [
    {
     "name": "stdout",
     "output_type": "stream",
     "text": [
      "`timescale 1ns / 1ps\n",
      "\n",
      "module MatrixVectorMultiply_5_30_2PR_noHR_C12_A3_VL\n",
      "#(\n",
      "parameter IN_WIDTH = 10,\n",
      "parameter INPUT_REG_DEPTH = 1,\n",
      "parameter MULT_PIPE_DEPTH = 1\n",
      ")(\n",
      "input clk, reset, enable,\n",
      "output reg [1:0] rowSetInNo = 0,\n",
      "input inReady,\n",
      "input signed [IN_WIDTH-1:0] AE0R0, AE1R0, AE2R0, AE3R0, AE4R0, AE5R0, AE6R0, AE7R0, AE8R0, AE9R0, AE10R0, AE11R0, AE12R0, AE13R0, AE14R0, AE15R0, AE16R0, AE17R0, AE18R0, AE19R0, AE20R0, AE21R0, AE22R0, AE23R0, AE24R0, AE25R0, AE26R0, AE27R0, AE28R0, AE29R0, \n",
      "input signed [IN_WIDTH-1:0] AE0R1, AE1R1, AE2R1, AE3R1, AE4R1, AE5R1, AE6R1, AE7R1, AE8R1, AE9R1, AE10R1, AE11R1, AE12R1, AE13R1, AE14R1, AE15R1, AE16R1, AE17R1, AE18R1, AE19R1, AE20R1, AE21R1, AE22R1, AE23R1, AE24R1, AE25R1, AE26R1, AE27R1, AE28R1, AE29R1, \n",
      "input signed [IN_WIDTH-1:0] VE0, VE1, VE2, VE3, VE4, VE5, VE6, VE7, VE8, VE9, VE10, VE11, VE12, VE13, VE14, VE15, VE16, VE17, VE18, VE19, VE20, VE21, VE22, VE23, VE24, VE25, VE26, VE27, VE28, VE29, \n",
      "output E0Ready,\n",
      "output E1Ready,\n",
      "output reg [1:0] rowSetOutNo = 2,\n",
      "output signed [(2*IN_WIDTH)+4:0] E0, E1, \n",
      "output earlyE0Ready,\n",
      "output earlyE1Ready\n",
      ");\n",
      "\n"
     ]
    }
   ],
   "source": [
    "print(\"`timescale 1ns / 1ps\\n\", file=of)\n",
    "if Enable_Vector_Latch>0:\n",
    "    print(\"module MatrixVectorMultiply_{}_{}_{}PR_noHR_C{}_A{}_VL\".format(M, N, PR, MAMCS, AdderSize), file=of)\n",
    "else:\n",
    "    print(\"module MatrixVectorMultiply_{}_{}_{}PR_noHR_C{}_A{}_NVL\".format(M, N, PR, MAMCS, AdderSize), file=of)\n",
    "print(\"#(\", file=of)\n",
    "print(\"parameter IN_WIDTH = {},\".format(IN_WIDTH), file=of)\n",
    "print(\"parameter INPUT_REG_DEPTH = {},\".format(INPUT_REG_DEPTH), file=of)\n",
    "print(\"parameter MULT_PIPE_DEPTH = {}\".format(MULT_PIPE_DEPTH), file=of)\n",
    "print(\")(\", file=of)\n",
    "print(\"input clk, reset, enable,\", file=of)\n",
    "lgRS=math.ceil(math.log2(RS))\n",
    "if lgRS<=1:\n",
    "    print(\"output reg rowSetInNo = 0,\", file=of)\n",
    "else:\n",
    "    print(\"output reg [{}:0] rowSetInNo = 0,\".format(lgRS-1), file=of)\n",
    "print(\"input inReady,\", file=of)\n",
    "for j in range(PR):\n",
    "    print(\"input signed [IN_WIDTH-1:0] \", end='', file=of)\n",
    "    for i in range(N):\n",
    "        print(\"AE{}R{}, \".format(i, j), end='', file=of)\n",
    "    print(file=of)\n",
    "print(\"input signed [IN_WIDTH-1:0] \", end='', file=of)\n",
    "for i in range(N):\n",
    "    print(\"VE{}, \".format(i), end='', file=of)\n",
    "print(file=of)\n",
    "ar=RS*PR-M\n",
    "ME = PR-ar-1\n",
    "if ME==0:\n",
    "    st1=\"E0\"\n",
    "else:\n",
    "    st1=\"E0toE{}\".format(ME)\n",
    "print(\"output \", end='', file=of)\n",
    "print(st1, end='', file=of)\n",
    "print(\"Ready,\", file=of)\n",
    "if ar==0:\n",
    "    print(\"output reg NUCReady = 0, //not used\", file=of)\n",
    "else:\n",
    "    if ME==(PR-2):\n",
    "        st2=\"E{}\".format(PR-1)\n",
    "    else:\n",
    "        st2=\"E{}toE{}\".format(ME+1, PR-1)\n",
    "    print(\"output \", end='', file=of)\n",
    "    print(st2, end='', file=of)\n",
    "    print(\"Ready,\", file=of)\n",
    "if lgRS<=1:\n",
    "    print(\"output reg rowSetOutNo = {},\".format(RS-1), file=of)\n",
    "else:\n",
    "    print(\"output reg [{}:0] rowSetOutNo = {},\".format(lgRS-1, RS-1), file=of)\n",
    "lgn=math.ceil(math.log2(N))\n",
    "al=-1+lgn\n",
    "if al<0:\n",
    "    print(\"output signed [(2*IN_WIDTH){}:0] \".format(al), end='',file=of)\n",
    "elif al==0:\n",
    "    print(\"output signed [(2*IN_WIDTH):0] \", end='',file=of)\n",
    "else:\n",
    "    print(\"output signed [(2*IN_WIDTH)+{}:0] \".format(al), end='',file=of)\n",
    "for i in range(PR):\n",
    "    print(\"E{}, \".format(i), end='',file=of)\n",
    "print(file=of)\n",
    "print(\"output early\", end='', file=of)\n",
    "print(st1, end='', file=of)\n",
    "print(\"Ready,\", file=of)\n",
    "if ar==0:\n",
    "    print(\"output reg NUearlyCReady = 0 //not used\", file=of)\n",
    "else:\n",
    "    print(\"output early\", end='', file=of)\n",
    "    print(st2, end='', file=of)\n",
    "    print(\"Ready\", file=of)\n",
    "print(\");\\n\", file=of)"
   ]
  },
  {
   "cell_type": "code",
   "execution_count": 18,
   "metadata": {
    "collapsed": false
   },
   "outputs": [
    {
     "name": "stdout",
     "output_type": "stream",
     "text": [
      "reg signed [IN_WIDTH-1:0] SVE0, SVE1, SVE2, SVE3, SVE4, SVE5, SVE6, SVE7, SVE8, SVE9, SVE10, SVE11, SVE12, SVE13, SVE14, SVE15, SVE16, SVE17, SVE18, SVE19, SVE20, SVE21, SVE22, SVE23, SVE24, SVE25, SVE26, SVE27, SVE28, SVE29;\n",
      "\n"
     ]
    }
   ],
   "source": [
    "if Enable_Vector_Latch>0:\n",
    "    print(\"reg signed [IN_WIDTH-1:0] \", end='', file=of)\n",
    "    for i in range(N-1):\n",
    "        print(\"SVE{}, \".format(i), end='', file=of)\n",
    "    print(\"SVE{};\".format(N-1), file=of)\n",
    "    print(file=of)"
   ]
  },
  {
   "cell_type": "code",
   "execution_count": 19,
   "metadata": {
    "collapsed": false
   },
   "outputs": [
    {
     "name": "stdout",
     "output_type": "stream",
     "text": [
      "wire inReadyC = (rowSetInNo!=2) & inReady;\n",
      "\n",
      "DotProduct_30_noHR_C12_A3\n",
      "#( .IN_WIDTH(IN_WIDTH), .INPUT_REG_DEPTH(INPUT_REG_DEPTH), .MULT_PIPE_DEPTH(MULT_PIPE_DEPTH) )\n",
      "DP_0 (clk, reset, enable,\n",
      "inReady,\n",
      "AE0R0, AE1R0, AE2R0, AE3R0, AE4R0, AE5R0, AE6R0, AE7R0, AE8R0, AE9R0, AE10R0, AE11R0, AE12R0, AE13R0, AE14R0, AE15R0, AE16R0, AE17R0, AE18R0, AE19R0, AE20R0, AE21R0, AE22R0, AE23R0, AE24R0, AE25R0, AE26R0, AE27R0, AE28R0, AE29R0, \n",
      "SVE0, SVE1, SVE2, SVE3, SVE4, SVE5, SVE6, SVE7, SVE8, SVE9, SVE10, SVE11, SVE12, SVE13, SVE14, SVE15, SVE16, SVE17, SVE18, SVE19, SVE20, SVE21, SVE22, SVE23, SVE24, SVE25, SVE26, SVE27, SVE28, SVE29, \n",
      "E0Ready,\n",
      "E0,\n",
      "earlyE0Ready\n",
      ");\n",
      "\n",
      "DotProduct_30_noHR_C12_A3\n",
      "#( .IN_WIDTH(IN_WIDTH), .INPUT_REG_DEPTH(INPUT_REG_DEPTH), .MULT_PIPE_DEPTH(MULT_PIPE_DEPTH) )\n",
      "DP_1 (clk, reset, enable,\n",
      "inReadyC,\n",
      "AE0R1, AE1R1, AE2R1, AE3R1, AE4R1, AE5R1, AE6R1, AE7R1, AE8R1, AE9R1, AE10R1, AE11R1, AE12R1, AE13R1, AE14R1, AE15R1, AE16R1, AE17R1, AE18R1, AE19R1, AE20R1, AE21R1, AE22R1, AE23R1, AE24R1, AE25R1, AE26R1, AE27R1, AE28R1, AE29R1, \n",
      "SVE0, SVE1, SVE2, SVE3, SVE4, SVE5, SVE6, SVE7, SVE8, SVE9, SVE10, SVE11, SVE12, SVE13, SVE14, SVE15, SVE16, SVE17, SVE18, SVE19, SVE20, SVE21, SVE22, SVE23, SVE24, SVE25, SVE26, SVE27, SVE28, SVE29, \n",
      "E1Ready,\n",
      "E1,\n",
      "earlyE1Ready\n",
      ");\n",
      "\n"
     ]
    }
   ],
   "source": [
    "if(ar>0): #RS*PR > M, RS>=2\n",
    "    print(\"wire inReadyC = (rowSetInNo!={}) & inReady;\".format(RS-1), file=of)\n",
    "print(file=of)\n",
    "for i in range (PR):\n",
    "    if N==1:\n",
    "        print(\"RegisteredMultiplier\", file=of)\n",
    "    elif MAMCS==N:\n",
    "        print(\"DotProduct_Systolic_{}\".format(N), file=of)\n",
    "    elif MAMCS==1:\n",
    "        print(\"DotProduct_{}_noHR_M_A{}\".format(N, AdderSize), file=of)  \n",
    "    else:\n",
    "        print(\"DotProduct_{}_noHR_C{}_A{}\".format(N, MAMCS, AdderSize), file=of)\n",
    "    print(\"#( .IN_WIDTH(IN_WIDTH), .INPUT_REG_DEPTH(INPUT_REG_DEPTH), .MULT_PIPE_DEPTH(MULT_PIPE_DEPTH) )\", file=of)\n",
    "    print(\"DP_{} (clk, reset, enable,\".format(i), file=of)\n",
    "    if(PR-i<=ar):\n",
    "        print(\"inReadyC,\", file=of)\n",
    "    else:\n",
    "        print(\"inReady,\", file=of)\n",
    "    for j in range(N):\n",
    "        print(\"AE{}R{}, \".format(j, i), end='', file=of)\n",
    "    print(file=of)\n",
    "    if Enable_Vector_Latch>0:\n",
    "        for j in range(N):\n",
    "            print(\"SVE{}, \".format(j), end='', file=of)\n",
    "    else:\n",
    "        for j in range(N):\n",
    "            print(\"VE{}, \".format(j), end='', file=of)        \n",
    "    print(file=of)\n",
    "    if i==0:\n",
    "        print(st1+\"Ready,\", file=of)\n",
    "    elif i==PR-ar:\n",
    "        print(st2+\"Ready,\", file=of)\n",
    "    else:\n",
    "        print(\"DPOutReady{}, //not used\".format(i), file=of)\n",
    "    print(\"E{},\".format(i), file=of)\n",
    "    if i==0:\n",
    "        print(\"early\"+st1+\"Ready\", file=of)\n",
    "    elif i==PR-ar:\n",
    "        print(\"early\"+st2+\"Ready\", file=of)\n",
    "    else:\n",
    "        print(\"DPearlyOutReady{} //not used\".format(i), file=of)\n",
    "    print(\");\\n\", file=of)"
   ]
  },
  {
   "cell_type": "code",
   "execution_count": 20,
   "metadata": {
    "collapsed": false
   },
   "outputs": [
    {
     "name": "stdout",
     "output_type": "stream",
     "text": [
      "reg signed [IN_WIDTH-1:0] LVE0, LVE1, LVE2, LVE3, LVE4, LVE5, LVE6, LVE7, LVE8, LVE9, LVE10, LVE11, LVE12, LVE13, LVE14, LVE15, LVE16, LVE17, LVE18, LVE19, LVE20, LVE21, LVE22, LVE23, LVE24, LVE25, LVE26, LVE27, LVE28, LVE29;\n",
      "always @(posedge clk) begin\n",
      "\tif(reset) begin\n",
      "\t\trowSetInNo <= 0;\n",
      "\tend\n",
      "\telse if(enable) begin\n",
      "\t\tif(inReady) begin\n",
      "\t\t\tif(rowSetInNo==2) begin\n",
      "\t\t\t\trowSetInNo <= 0;\n",
      "\t\t\tend\n",
      "\t\t\telse begin\n",
      "\t\t\t\trowSetInNo <= rowSetInNo+1;\n",
      "\t\t\tend\n",
      "\t\t\tif(rowSetInNo==0) begin\n",
      "\t\t\t\tLVE0 <= VE0; LVE1 <= VE1; LVE2 <= VE2; LVE3 <= VE3; LVE4 <= VE4; LVE5 <= VE5; LVE6 <= VE6; LVE7 <= VE7; LVE8 <= VE8; LVE9 <= VE9; LVE10 <= VE10; LVE11 <= VE11; LVE12 <= VE12; LVE13 <= VE13; LVE14 <= VE14; LVE15 <= VE15; LVE16 <= VE16; LVE17 <= VE17; LVE18 <= VE18; LVE19 <= VE19; LVE20 <= VE20; LVE21 <= VE21; LVE22 <= VE22; LVE23 <= VE23; LVE24 <= VE24; LVE25 <= VE25; LVE26 <= VE26; LVE27 <= VE27; LVE28 <= VE28; LVE29 <= VE29; \n",
      "\t\t\tend\n",
      "\t\tend\n",
      "\tend\n",
      "end\n",
      "\n"
     ]
    }
   ],
   "source": [
    "if(RS>1):\n",
    "    if (Enable_Vector_Latch>0):\n",
    "        print(\"reg signed [IN_WIDTH-1:0] \", end='', file=of)\n",
    "        for i in range(N-1):\n",
    "            print(\"LVE{}, \".format(i), end='', file=of)\n",
    "        print(\"LVE{};\".format(N-1), file=of)\n",
    "    print(\"always @(posedge clk) begin\", file=of)\n",
    "    print(\"\\tif(reset) begin\", file=of)\n",
    "    print(\"\\t\\trowSetInNo <= 0;\", file=of)\n",
    "    print(\"\\tend\", file=of)\n",
    "    print(\"\\telse if(enable) begin\", file=of)\n",
    "    print(\"\\t\\tif(inReady) begin\", file=of)\n",
    "    print(\"\\t\\t\\tif(rowSetInNo=={}) begin\".format(RS-1), file=of)\n",
    "    print(\"\\t\\t\\t\\trowSetInNo <= 0;\", file=of)\n",
    "    print(\"\\t\\t\\tend\", file=of)\n",
    "    print(\"\\t\\t\\telse begin\", file=of)\n",
    "    if RS==2:\n",
    "        print(\"\\t\\t\\t\\trowSetInNo <= 1;\", file=of)    \n",
    "    else:\n",
    "        print(\"\\t\\t\\t\\trowSetInNo <= rowSetInNo+1;\", file=of)\n",
    "    print(\"\\t\\t\\tend\", file=of)\n",
    "    if Enable_Vector_Latch>0:\n",
    "        print(\"\\t\\t\\tif(rowSetInNo==0) begin\", file=of)\n",
    "        print(\"\\t\\t\\t\\t\", end='', file=of)\n",
    "        for j in range(N):\n",
    "            print(\"LVE{} <= VE{}; \".format(j, j), end='', file=of)\n",
    "        print(file=of)\n",
    "        print(\"\\t\\t\\tend\", file=of)\n",
    "    print(\"\\t\\tend\", file=of)\n",
    "    print(\"\\tend\", file=of)\n",
    "    print(\"end\\n\", file=of)"
   ]
  },
  {
   "cell_type": "code",
   "execution_count": 21,
   "metadata": {
    "collapsed": false
   },
   "outputs": [
    {
     "name": "stdout",
     "output_type": "stream",
     "text": [
      "always @(*) begin\n",
      "\tif(rowSetInNo==0) begin\n",
      "\t\tSVE0 = VE0; SVE1 = VE1; SVE2 = VE2; SVE3 = VE3; SVE4 = VE4; SVE5 = VE5; SVE6 = VE6; SVE7 = VE7; SVE8 = VE8; SVE9 = VE9; SVE10 = VE10; SVE11 = VE11; SVE12 = VE12; SVE13 = VE13; SVE14 = VE14; SVE15 = VE15; SVE16 = VE16; SVE17 = VE17; SVE18 = VE18; SVE19 = VE19; SVE20 = VE20; SVE21 = VE21; SVE22 = VE22; SVE23 = VE23; SVE24 = VE24; SVE25 = VE25; SVE26 = VE26; SVE27 = VE27; SVE28 = VE28; SVE29 = VE29; \n",
      "\tend\n",
      "\telse begin\n",
      "\t\tSVE0 = LVE0; SVE1 = LVE1; SVE2 = LVE2; SVE3 = LVE3; SVE4 = LVE4; SVE5 = LVE5; SVE6 = LVE6; SVE7 = LVE7; SVE8 = LVE8; SVE9 = LVE9; SVE10 = LVE10; SVE11 = LVE11; SVE12 = LVE12; SVE13 = LVE13; SVE14 = LVE14; SVE15 = LVE15; SVE16 = LVE16; SVE17 = LVE17; SVE18 = LVE18; SVE19 = LVE19; SVE20 = LVE20; SVE21 = LVE21; SVE22 = LVE22; SVE23 = LVE23; SVE24 = LVE24; SVE25 = LVE25; SVE26 = LVE26; SVE27 = LVE27; SVE28 = LVE28; SVE29 = LVE29; \n",
      "\tend\n",
      "end\n",
      "\n"
     ]
    }
   ],
   "source": [
    "if Enable_Vector_Latch>0:\n",
    "    print(\"always @(*) begin\", file=of)\n",
    "    print(\"\\tif(rowSetInNo==0) begin\", file=of)\n",
    "    print(\"\\t\\t\", end='', file=of)\n",
    "    for j in range(N):\n",
    "        print(\"SVE{} = VE{}; \".format(j,j), end='', file=of)\n",
    "    print(file=of)\n",
    "    print(\"\\tend\", file=of)\n",
    "    print(\"\\telse begin\", file=of)\n",
    "    print(\"\\t\\t\", end='', file=of)\n",
    "    for j in range(N):\n",
    "        print(\"SVE{} = LVE{}; \".format(j, j), end='', file=of)\n",
    "    print(file=of)\n",
    "    print(\"\\tend\", file=of)\n",
    "    print(\"end\\n\", file=of)"
   ]
  },
  {
   "cell_type": "code",
   "execution_count": 22,
   "metadata": {
    "collapsed": false
   },
   "outputs": [
    {
     "name": "stdout",
     "output_type": "stream",
     "text": [
      "always @(posedge clk) begin\n",
      "\tif(reset) begin\n",
      "\t\trowSetOutNo <= 2;\n",
      "\tend\n",
      "\telse if(enable) begin\n",
      "\t\tif(earlyE0Ready) begin\n",
      "\t\t\tif(rowSetOutNo==2) begin\n",
      "\t\t\t\trowSetOutNo <= 0;\n",
      "\t\t\tend\n",
      "\t\t\telse begin\n",
      "\t\t\t\trowSetOutNo <= rowSetOutNo+1;\n",
      "\t\t\tend\n",
      "\t\tend\n",
      "\tend\n",
      "end\n",
      "\n"
     ]
    }
   ],
   "source": [
    "if(RS>1):\n",
    "    print(\"always @(posedge clk) begin\", file=of)\n",
    "    print(\"\\tif(reset) begin\", file=of)\n",
    "    print(\"\\t\\trowSetOutNo <= {};\".format(RS-1), file=of)\n",
    "    print(\"\\tend\", file=of)\n",
    "    print(\"\\telse if(enable) begin\", file=of)\n",
    "    print(\"\\t\\tif(early\"+st1+\"Ready) begin\", file=of)\n",
    "    print(\"\\t\\t\\tif(rowSetOutNo=={}) begin\".format(RS-1), file=of)\n",
    "    print(\"\\t\\t\\t\\trowSetOutNo <= 0;\", file=of)\n",
    "    print(\"\\t\\t\\tend\", file=of)\n",
    "    print(\"\\t\\t\\telse begin\", file=of)\n",
    "    if RS==2:\n",
    "        print(\"\\t\\t\\t\\trowSetOutNo <= 1;\", file=of)\n",
    "    else:\n",
    "        print(\"\\t\\t\\t\\trowSetOutNo <= rowSetOutNo+1;\", file=of)\n",
    "    print(\"\\t\\t\\tend\", file=of)\n",
    "    print(\"\\t\\tend\", file=of)\n",
    "    print(\"\\tend\", file=of)\n",
    "    print(\"end\\n\", file=of)"
   ]
  },
  {
   "cell_type": "code",
   "execution_count": 23,
   "metadata": {
    "collapsed": false
   },
   "outputs": [
    {
     "name": "stdout",
     "output_type": "stream",
     "text": [
      "endmodule\n"
     ]
    }
   ],
   "source": [
    "print(\"endmodule\", file=of)"
   ]
  },
  {
   "cell_type": "code",
   "execution_count": 24,
   "metadata": {
    "collapsed": true
   },
   "outputs": [],
   "source": [
    "if __Print_To_File>0:\n",
    "    of.close()"
   ]
  }
 ],
 "metadata": {
  "kernelspec": {
   "display_name": "Python 3",
   "language": "python",
   "name": "python3"
  },
  "language_info": {
   "codemirror_mode": {
    "name": "ipython",
    "version": 3
   },
   "file_extension": ".py",
   "mimetype": "text/x-python",
   "name": "python",
   "nbconvert_exporter": "python",
   "pygments_lexer": "ipython3",
   "version": "3.5.1"
  }
 },
 "nbformat": 4,
 "nbformat_minor": 0
}
