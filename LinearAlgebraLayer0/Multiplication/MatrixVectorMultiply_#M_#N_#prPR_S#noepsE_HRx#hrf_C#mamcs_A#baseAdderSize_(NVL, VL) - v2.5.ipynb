{
 "cells": [
  {
   "cell_type": "code",
   "execution_count": 1,
   "metadata": {
    "collapsed": true
   },
   "outputs": [],
   "source": [
    "#uses DotProduct_#N_S#noepsE_HRx#hrf_C#mamcs_A#baseAdderSize - v4.5"
   ]
  },
  {
   "cell_type": "code",
   "execution_count": 2,
   "metadata": {
    "collapsed": true
   },
   "outputs": [],
   "source": [
    "import sys\n",
    "import math"
   ]
  },
  {
   "cell_type": "code",
   "execution_count": 3,
   "metadata": {},
   "outputs": [
    {
     "name": "stdout",
     "output_type": "stream",
     "text": [
      "Enter M: 1\n"
     ]
    }
   ],
   "source": [
    "#M>=1\n",
    "M = input('Enter M: ')"
   ]
  },
  {
   "cell_type": "code",
   "execution_count": 4,
   "metadata": {},
   "outputs": [
    {
     "name": "stdout",
     "output_type": "stream",
     "text": [
      "Enter N: 2\n"
     ]
    }
   ],
   "source": [
    "#N>=2\n",
    "N = input('Enter N: ')"
   ]
  },
  {
   "cell_type": "code",
   "execution_count": 5,
   "metadata": {},
   "outputs": [
    {
     "name": "stdout",
     "output_type": "stream",
     "text": [
      "Enter No Of Parallel Row (empty for 1): 1\n"
     ]
    }
   ],
   "source": [
    "#>=1, <=M\n",
    "PR = input('Enter No Of Parallel Row (empty for 1): ')"
   ]
  },
  {
   "cell_type": "code",
   "execution_count": 6,
   "metadata": {
    "scrolled": false
   },
   "outputs": [],
   "source": [
    "M = int(M)\n",
    "if(M<1):\n",
    "    M=1\n",
    "    \n",
    "N = int(N)\n",
    "if(N<2):\n",
    "    N=2\n",
    "\n",
    "if not PR:\n",
    "    PR=1\n",
    "else:\n",
    "    PR = int(PR)\n",
    "    if PR>M:\n",
    "        PR = M"
   ]
  },
  {
   "cell_type": "code",
   "execution_count": 7,
   "metadata": {},
   "outputs": [
    {
     "name": "stdout",
     "output_type": "stream",
     "text": [
      "Enter No Of Elements Per Series (>=1, <=1, empty for 1): 1\n"
     ]
    }
   ],
   "source": [
    "NOEPS = input('Enter No Of Elements Per Series (>=1, <={}, empty for {}): '.format(N-1, N-1))"
   ]
  },
  {
   "cell_type": "code",
   "execution_count": 8,
   "metadata": {
    "collapsed": true
   },
   "outputs": [],
   "source": [
    "if not NOEPS:\n",
    "    NMult=N-1\n",
    "else:\n",
    "    NMult = int(NOEPS)\n",
    "    if NMult<1:\n",
    "        NMult=1\n",
    "    elif NMult>(N-1):\n",
    "        NMult=N-1"
   ]
  },
  {
   "cell_type": "code",
   "execution_count": 9,
   "metadata": {},
   "outputs": [
    {
     "name": "stdout",
     "output_type": "stream",
     "text": [
      "Enter Multiply-Add Max Component Size (empty for 1): 1\n"
     ]
    }
   ],
   "source": [
    "#MAMCS>=1\n",
    "MAMCS = input('Enter Multiply-Add Max Component Size (empty for {}): '.format(NMult))"
   ]
  },
  {
   "cell_type": "code",
   "execution_count": 10,
   "metadata": {
    "collapsed": true
   },
   "outputs": [],
   "source": [
    "if not MAMCS:\n",
    "    MAMCS = NMult\n",
    "else:\n",
    "    MAMCS = int(MAMCS)\n",
    "    if MAMCS>NMult:\n",
    "        MAMCS = NMult;\n",
    "    elif(MAMCS<1):\n",
    "            MAMCS=1"
   ]
  },
  {
   "cell_type": "code",
   "execution_count": 11,
   "metadata": {},
   "outputs": [],
   "source": [
    "#AdderSize>=2\n",
    "if MAMCS<NMult:\n",
    "    AdderSize = input('Enter maximum size allowed for base adders (empty for 2): ')"
   ]
  },
  {
   "cell_type": "code",
   "execution_count": 12,
   "metadata": {
    "collapsed": true
   },
   "outputs": [],
   "source": [
    "RS=math.ceil(M/PR)"
   ]
  },
  {
   "cell_type": "code",
   "execution_count": 13,
   "metadata": {},
   "outputs": [],
   "source": [
    "if RS>1:\n",
    "    Enable_Vector_Latch = input('Enable Vector Latch? (empty or 0 to disable, 1 to enable): ')"
   ]
  },
  {
   "cell_type": "code",
   "execution_count": 14,
   "metadata": {},
   "outputs": [
    {
     "name": "stdout",
     "output_type": "stream",
     "text": [
      "Enter IN_WIDTH default value (empty for 10): \n"
     ]
    }
   ],
   "source": [
    "#IN_WIDTH>=1\n",
    "IN_WIDTH = input('Enter IN_WIDTH default value (empty for 10): ')"
   ]
  },
  {
   "cell_type": "code",
   "execution_count": 15,
   "metadata": {},
   "outputs": [
    {
     "name": "stdout",
     "output_type": "stream",
     "text": [
      "Enter INPUT_REG_DEPTH default value (empty for 1): \n"
     ]
    }
   ],
   "source": [
    "#INPUT_REG_DEPTH>=0\n",
    "INPUT_REG_DEPTH = input('Enter INPUT_REG_DEPTH default value (empty for 1): ')"
   ]
  },
  {
   "cell_type": "code",
   "execution_count": 16,
   "metadata": {},
   "outputs": [
    {
     "name": "stdout",
     "output_type": "stream",
     "text": [
      "Enter MULT_PIPE_DEPTH default value (empty for 1): \n"
     ]
    }
   ],
   "source": [
    "#MULT_PIPE_DEPTH>=0\n",
    "MULT_PIPE_DEPTH = input('Enter MULT_PIPE_DEPTH default value (empty for 1): ')"
   ]
  },
  {
   "cell_type": "code",
   "execution_count": 17,
   "metadata": {},
   "outputs": [],
   "source": [
    "HRR = math.ceil(N/NMult);\n",
    "\n",
    "NumOfComponents = math.ceil(NMult/MAMCS)\n",
    "if MAMCS==NMult:\n",
    "    AdderSize=0\n",
    "else:\n",
    "    if not AdderSize:\n",
    "        AdderSize=2\n",
    "    else:\n",
    "        AdderSize = int(AdderSize)\n",
    "        if AdderSize<2:\n",
    "            AdderSize=2\n",
    "        if AdderSize>NumOfComponents:\n",
    "            AdderSize=NumOfComponents\n",
    "\n",
    "if RS==1:\n",
    "    Enable_Vector_Latch = 0;\n",
    "else:\n",
    "    if not Enable_Vector_Latch:\n",
    "        Enable_Vector_Latch = 0\n",
    "    else:\n",
    "        Enable_Vector_Latch = int(Enable_Vector_Latch)\n",
    "\n",
    "if not IN_WIDTH:\n",
    "    IN_WIDTH=10\n",
    "else:\n",
    "    IN_WIDTH = int(IN_WIDTH)\n",
    "    if(IN_WIDTH<1):\n",
    "        IN_WIDTH=1\n",
    "\n",
    "if not INPUT_REG_DEPTH:\n",
    "    INPUT_REG_DEPTH=1\n",
    "else:\n",
    "    INPUT_REG_DEPTH = int(INPUT_REG_DEPTH)\n",
    "    if(INPUT_REG_DEPTH<0):\n",
    "        INPUT_REG_DEPTH=0\n",
    "\n",
    "if not MULT_PIPE_DEPTH:\n",
    "    MULT_PIPE_DEPTH=1\n",
    "else:\n",
    "    MULT_PIPE_DEPTH = int(MULT_PIPE_DEPTH)\n",
    "    if(MULT_PIPE_DEPTH<0):\n",
    "        MULT_PIPE_DEPTH=0"
   ]
  },
  {
   "cell_type": "code",
   "execution_count": 18,
   "metadata": {},
   "outputs": [],
   "source": [
    "ModuleName=\"MatrixVectorMultiply_{}_{}_{}PR_S{}E_HRx{}_C{}_A{}_\".format(M, N, PR, NMult, HRR, MAMCS, AdderSize)\n",
    "if Enable_Vector_Latch<=0:\n",
    "    ModuleName+=\"N\"\n",
    "ModuleName+=\"VL\""
   ]
  },
  {
   "cell_type": "code",
   "execution_count": 19,
   "metadata": {},
   "outputs": [],
   "source": [
    "__Print_To_File = 0\n",
    "\n",
    "if __Print_To_File<=0:\n",
    "    of = sys.stdout\n",
    "else:\n",
    "    of = open(\"./\"+ModuleName+\".v\", 'w+')"
   ]
  },
  {
   "cell_type": "code",
   "execution_count": 20,
   "metadata": {
    "scrolled": true
   },
   "outputs": [
    {
     "name": "stdout",
     "output_type": "stream",
     "text": [
      "`timescale 1ns / 1ps\n",
      "\n",
      "module MatrixVectorMultiply_1_2_1PR_S1E_HRx2_C1_A0_NVL\n",
      "#(\n",
      "parameter IN_WIDTH = 10,\n",
      "parameter INPUT_REG_DEPTH = 1,\n",
      "parameter MULT_PIPE_DEPTH = 1\n",
      ")(\n",
      "input clk, reset, enable,\n",
      "output newInSeriesStart,\n",
      "output inSeries,\n",
      "output reg rowSetInNo = 0,\n",
      "input inReady,\n",
      "input signed [IN_WIDTH-1:0] AE0R0, \n",
      "input signed [IN_WIDTH-1:0] VE0, \n",
      "output E0Ready,\n",
      "output reg NUCReady = 0, //not used\n",
      "output reg rowSetOutNo = 0,\n",
      "output signed [(2*IN_WIDTH):0] E0, \n",
      "output earlyE0Ready,\n",
      "output reg NUearlyCReady = 0 //not used\n",
      ");\n",
      "\n"
     ]
    }
   ],
   "source": [
    "print(\"`timescale 1ns / 1ps\\n\", file=of)\n",
    "print(\"module \"+ModuleName, file=of)\n",
    "print(\"#(\", file=of)\n",
    "print(\"parameter IN_WIDTH = {},\".format(IN_WIDTH), file=of)\n",
    "print(\"parameter INPUT_REG_DEPTH = {},\".format(INPUT_REG_DEPTH), file=of)\n",
    "print(\"parameter MULT_PIPE_DEPTH = {}\".format(MULT_PIPE_DEPTH), file=of)\n",
    "print(\")(\", file=of)\n",
    "print(\"input clk, reset, enable,\", file=of)\n",
    "print(\"output newInSeriesStart,\", file=of)\n",
    "lghrr=math.ceil(math.log2(HRR))\n",
    "if lghrr==1:\n",
    "    print(\"output inSeries,\", file=of)\n",
    "elif lghrr>1:\n",
    "    print(\"output [{}:0] inSeries,\".format(lghrr-1), file=of)\n",
    "lgRS=math.ceil(math.log2(RS))\n",
    "if lgRS<=1:\n",
    "    print(\"output reg rowSetInNo = 0,\", file=of)\n",
    "else:\n",
    "    print(\"output reg [{}:0] rowSetInNo = 0,\".format(lgRS-1), file=of)\n",
    "print(\"input inReady,\", file=of)\n",
    "for j in range(PR):\n",
    "    print(\"input signed [IN_WIDTH-1:0] \", end='', file=of)\n",
    "    for i in range(NMult):\n",
    "        print(\"AE{}R{}, \".format(i, j), end='', file=of)\n",
    "    print(file=of)\n",
    "print(\"input signed [IN_WIDTH-1:0] \", end='', file=of)\n",
    "for i in range(NMult):\n",
    "    print(\"VE{}, \".format(i), end='', file=of)\n",
    "print(file=of)\n",
    "ar=RS*PR-M\n",
    "ME = PR-ar-1\n",
    "if ME==0:\n",
    "    st1=\"E0\"\n",
    "else:\n",
    "    st1=\"E0toE{}\".format(ME)\n",
    "print(\"output \", end='', file=of)\n",
    "print(st1, end='', file=of)\n",
    "print(\"Ready,\", file=of)\n",
    "if ar==0:\n",
    "    print(\"output reg NUCReady = 0, //not used\", file=of)\n",
    "else:\n",
    "    if ME==(PR-2):\n",
    "        st2=\"E{}\".format(PR-1)\n",
    "    else:\n",
    "        st2=\"E{}toE{}\".format(ME+1, PR-1)\n",
    "    print(\"output \", end='', file=of)\n",
    "    print(st2, end='', file=of)\n",
    "    print(\"Ready,\", file=of)\n",
    "if lgRS<=1:\n",
    "    print(\"output reg rowSetOutNo = {},\".format(RS-1), file=of)\n",
    "else:\n",
    "    print(\"output reg [{}:0] rowSetOutNo = {},\".format(lgRS-1, RS-1), file=of)\n",
    "lgn=math.ceil(math.log2(N))\n",
    "al=-1+lgn\n",
    "if al<0:\n",
    "    print(\"output signed [(2*IN_WIDTH){}:0] \".format(al), end='',file=of)\n",
    "elif al==0:\n",
    "    print(\"output signed [(2*IN_WIDTH):0] \", end='',file=of)\n",
    "else:\n",
    "    print(\"output signed [(2*IN_WIDTH)+{}:0] \".format(al), end='',file=of)\n",
    "for i in range(PR):\n",
    "    print(\"E{}, \".format(i), end='',file=of)\n",
    "print(file=of)\n",
    "print(\"output early\", end='', file=of)\n",
    "print(st1, end='', file=of)\n",
    "print(\"Ready,\", file=of)\n",
    "if ar==0:\n",
    "    print(\"output reg NUearlyCReady = 0 //not used\", file=of)\n",
    "else:\n",
    "    print(\"output early\", end='', file=of)\n",
    "    print(st2, end='', file=of)\n",
    "    print(\"Ready\", file=of)\n",
    "print(\");\\n\", file=of)"
   ]
  },
  {
   "cell_type": "code",
   "execution_count": 21,
   "metadata": {},
   "outputs": [],
   "source": [
    "if Enable_Vector_Latch>0:\n",
    "    print(\"reg signed [IN_WIDTH-1:0] \", end='', file=of)\n",
    "    for i in range(NMult-1):\n",
    "        print(\"SVE{}, \".format(i), end='', file=of)\n",
    "    print(\"SVE{};\".format(NMult-1), file=of)\n",
    "    print(file=of)"
   ]
  },
  {
   "cell_type": "code",
   "execution_count": 22,
   "metadata": {},
   "outputs": [
    {
     "name": "stdout",
     "output_type": "stream",
     "text": [
      "\n",
      "DotProduct_2_S1E_HRx2_C1_A0\n",
      "#( .IN_WIDTH(IN_WIDTH), .INPUT_REG_DEPTH(INPUT_REG_DEPTH), .MULT_PIPE_DEPTH(MULT_PIPE_DEPTH) )\n",
      "DP_0(clk, reset, enable,\n",
      "newInSeriesStart,\n",
      "inSeries,\n",
      "inReady,\n",
      "AE0R0, \n",
      "VE0, \n",
      "E0Ready,\n",
      "E0,\n",
      "earlyE0Ready);\n",
      "\n"
     ]
    }
   ],
   "source": [
    "if(ar>0): #RS*PR > M, RS>=2\n",
    "    print(\"wire inReadyC = (rowSetInNo!={}) & inReady;\".format(RS-1), file=of)\n",
    "    print(file=of)\n",
    "for i in range (PR):\n",
    "    print(\"DotProduct_{}_S{}E_HRx{}_C{}_A{}\".format(N, NMult, HRR, MAMCS, AdderSize), file=of)\n",
    "    print(\"#( .IN_WIDTH(IN_WIDTH), .INPUT_REG_DEPTH(INPUT_REG_DEPTH), .MULT_PIPE_DEPTH(MULT_PIPE_DEPTH) )\", file=of)\n",
    "    print(\"DP_{}(clk, reset, enable,\".format(i), file=of)\n",
    "    if i==0:\n",
    "        print(\"newInSeriesStart,\", file=of)\n",
    "        print(\"inSeries,\".format(i), file=of)\n",
    "    else:\n",
    "        print(\"newInSeriesStart{}, //not used\".format(i), file=of)\n",
    "        print(\"inSeries{}, //not used\".format(i), file=of)\n",
    "    if(PR-i<=ar):\n",
    "        print(\"inReadyC,\", file=of)\n",
    "    else:\n",
    "        print(\"inReady,\", file=of)\n",
    "    for j in range(NMult):\n",
    "        print(\"AE{}R{}, \".format(j, i), end='', file=of)\n",
    "    print(file=of)\n",
    "    if Enable_Vector_Latch>0:\n",
    "        for j in range(NMult):\n",
    "            print(\"SVE{}, \".format(j), end='', file=of)\n",
    "    else:\n",
    "        for j in range(NMult):\n",
    "            print(\"VE{}, \".format(j), end='', file=of)        \n",
    "    print(file=of)\n",
    "    if i==0:\n",
    "        print(st1+\"Ready,\", file=of)\n",
    "    elif i==PR-ar:\n",
    "        print(st2+\"Ready,\", file=of)\n",
    "    else:\n",
    "        print(\"outReady{}, //not used\".format(i), file=of)\n",
    "    print(\"E{},\".format(i), file=of)\n",
    "    if i==0:\n",
    "        print(\"early\"+st1+\"Ready);\", file=of)\n",
    "    elif i==PR-ar:\n",
    "        print(\"early\"+st2+\"Ready);\", file=of)\n",
    "    else:\n",
    "        print(\"earlyOutReady{}); //not used\".format(i), file=of)\n",
    "    print(file=of)"
   ]
  },
  {
   "cell_type": "code",
   "execution_count": 23,
   "metadata": {},
   "outputs": [],
   "source": [
    "if(RS>1):\n",
    "    if Enable_Vector_Latch>0:\n",
    "        print(\"reg signed [IN_WIDTH-1:0] \", end='', file=of)\n",
    "        for i in range(N-1):\n",
    "            print(\"LVE{}, \".format(i), end='', file=of)\n",
    "        print(\"LVE{};\".format(N-1), file=of)\n",
    "    print(\"always @(posedge clk) begin\", file=of)\n",
    "    print(\"\\tif(reset) begin\", file=of)\n",
    "    print(\"\\t\\trowSetInNo <= 0;\", file=of)\n",
    "    print(\"\\tend\", file=of)\n",
    "    print(\"\\telse if(enable) begin\", file=of)\n",
    "    print(\"\\t\\tif(inReady) begin\", file=of)\n",
    "    print(\"\\t\\t\\tif(inSeries=={}) begin\".format(HRR-1), file=of)\n",
    "    print(\"\\t\\t\\t\\tif(rowSetInNo=={}) begin\".format(RS-1), file=of)\n",
    "    print(\"\\t\\t\\t\\t\\trowSetInNo <= 0;\", file=of)\n",
    "    print(\"\\t\\t\\t\\tend\", file=of)\n",
    "    print(\"\\t\\t\\t\\telse begin\", file=of)\n",
    "    if RS==2:\n",
    "        print(\"\\t\\t\\t\\t\\trowSetInNo <= 1;\", file=of)    \n",
    "    else:\n",
    "        print(\"\\t\\t\\t\\t\\trowSetInNo <= rowSetInNo+1;\", file=of)\n",
    "    print(\"\\t\\t\\t\\tend\", file=of)\n",
    "    print(\"\\t\\t\\tend\", file=of)\n",
    "    if Enable_Vector_Latch>0:\n",
    "        print(\"\\t\\t\\tif(rowSetInNo==0) begin\", file=of)\n",
    "        print(\"\\t\\t\\t\\tcase(inSeries)\", file=of)\n",
    "        for i in range(HRR):\n",
    "            print(\"\\t\\t\\t\\t\\t{}: begin\".format(i), file=of)\n",
    "            print(\"\\t\\t\\t\\t\\t\\t\", end='', file=of)\n",
    "            k=NMult*i-1\n",
    "            for j in range(NMult):\n",
    "                k=k+1\n",
    "                print(\"LVE{} <= VE{}; \".format(k,j), end='', file=of)\n",
    "                if k == N-1:\n",
    "                    break\n",
    "            print(file=of)\n",
    "            print(\"\\t\\t\\t\\t\\tend\", file=of)\n",
    "        print(\"\\t\\t\\t\\tendcase\", file=of)\n",
    "        print(\"\\t\\t\\tend\", file=of)\n",
    "    print(\"\\t\\tend\", file=of)\n",
    "    print(\"\\tend\", file=of)\n",
    "    print(\"end\\n\", file=of)"
   ]
  },
  {
   "cell_type": "code",
   "execution_count": 24,
   "metadata": {},
   "outputs": [],
   "source": [
    "if Enable_Vector_Latch>0:\n",
    "    print(\"always @(*) begin\", file=of)\n",
    "    print(\"\\tif(rowSetInNo==0) begin\", file=of)\n",
    "    print(\"\\t\\t\", end='', file=of)\n",
    "    for j in range(NMult):\n",
    "        print(\"SVE{} = VE{}; \".format(j,j), end='', file=of)\n",
    "    print(file=of)\n",
    "    print(\"\\tend\", file=of)\n",
    "    print(\"\\telse begin\", file=of)\n",
    "    print(\"\\t\\tcase(inSeries)\", file=of)\n",
    "    for i in range(HRR):\n",
    "        print(\"\\t\\t\\t{}: begin\".format(i), file=of)\n",
    "        print(\"\\t\\t\\t\\t\", end='', file=of)\n",
    "        k=NMult*i-1\n",
    "        for j in range(NMult):\n",
    "            k=k+1\n",
    "            if k >= N:\n",
    "                print(\"SVE{} = 0; \".format(j), end='', file=of)            \n",
    "            else:\n",
    "                print(\"SVE{} = LVE{}; \".format(j,k), end='', file=of)\n",
    "        print(file=of)\n",
    "        print(\"\\t\\t\\tend\", file=of)        \n",
    "    if (HRR & (HRR-1)) != 0: #check if HRR is not power of 2\n",
    "        print(\"\\t\\t\\tdefault: begin\".format(k), file=of)\n",
    "        print(\"\\t\\t\\t\\t\", end='', file=of)\n",
    "        for j in range(NMult):\n",
    "            print(\"SVE{} = 0; \".format(j), end='', file=of)\n",
    "        print(file=of)\n",
    "        print(\"\\t\\t\\tend\", file=of)        \n",
    "    print(\"\\t\\tendcase\", file=of)\n",
    "    print(\"\\tend\", file=of)\n",
    "    print(\"end\\n\", file=of)"
   ]
  },
  {
   "cell_type": "code",
   "execution_count": 25,
   "metadata": {},
   "outputs": [],
   "source": [
    "if(RS>1):\n",
    "    print(\"always @(posedge clk) begin\", file=of)\n",
    "    print(\"\\tif(reset) begin\", file=of)\n",
    "    print(\"\\t\\trowSetOutNo <= {};\".format(RS-1), file=of)\n",
    "    print(\"\\tend\", file=of)\n",
    "    print(\"\\telse if(enable) begin\", file=of)\n",
    "    print(\"\\t\\tif(early\"+st1+\"Ready) begin\", file=of)\n",
    "    print(\"\\t\\t\\tif(rowSetOutNo=={}) begin\".format(RS-1), file=of)\n",
    "    print(\"\\t\\t\\t\\trowSetOutNo <= 0;\", file=of)\n",
    "    print(\"\\t\\t\\tend\", file=of)\n",
    "    print(\"\\t\\t\\telse begin\", file=of)\n",
    "    if RS==2:\n",
    "        print(\"\\t\\t\\t\\trowSetOutNo <= 1;\", file=of)\n",
    "    else:\n",
    "        print(\"\\t\\t\\t\\trowSetOutNo <= rowSetOutNo+1;\", file=of)\n",
    "    print(\"\\t\\t\\tend\", file=of)\n",
    "    print(\"\\t\\tend\", file=of)\n",
    "    print(\"\\tend\", file=of)\n",
    "    print(\"end\\n\", file=of)"
   ]
  },
  {
   "cell_type": "code",
   "execution_count": 26,
   "metadata": {},
   "outputs": [
    {
     "name": "stdout",
     "output_type": "stream",
     "text": [
      "endmodule\n"
     ]
    }
   ],
   "source": [
    "print(\"endmodule\", file=of)"
   ]
  },
  {
   "cell_type": "code",
   "execution_count": 27,
   "metadata": {
    "collapsed": true
   },
   "outputs": [],
   "source": [
    "if __Print_To_File>0:\n",
    "    of.close()"
   ]
  }
 ],
 "metadata": {
  "kernelspec": {
   "display_name": "Python 3",
   "language": "python",
   "name": "python3"
  },
  "language_info": {
   "codemirror_mode": {
    "name": "ipython",
    "version": 3
   },
   "file_extension": ".py",
   "mimetype": "text/x-python",
   "name": "python",
   "nbconvert_exporter": "python",
   "pygments_lexer": "ipython3",
   "version": "3.7.6"
  }
 },
 "nbformat": 4,
 "nbformat_minor": 1
}
