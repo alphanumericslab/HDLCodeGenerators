{
 "cells": [
  {
   "cell_type": "code",
   "execution_count": 2,
   "metadata": {
    "collapsed": true
   },
   "outputs": [],
   "source": [
    "#uses MatrixVectorMultiply_#M_#N_#prPR_S#noepsE_HRx#hrf_C#mamcs_A#baseAdderSize(_NVL, VL) - v2.5"
   ]
  },
  {
   "cell_type": "code",
   "execution_count": 3,
   "metadata": {
    "collapsed": true
   },
   "outputs": [],
   "source": [
    "import sys\n",
    "import math"
   ]
  },
  {
   "cell_type": "code",
   "execution_count": 4,
   "metadata": {},
   "outputs": [
    {
     "name": "stdout",
     "output_type": "stream",
     "text": [
      "Enter M: 5\n"
     ]
    }
   ],
   "source": [
    "#M>=1\n",
    "M = input('Enter M: ')"
   ]
  },
  {
   "cell_type": "code",
   "execution_count": 5,
   "metadata": {},
   "outputs": [
    {
     "name": "stdout",
     "output_type": "stream",
     "text": [
      "Enter N: 9\n"
     ]
    }
   ],
   "source": [
    "#N>=2\n",
    "N = input('Enter N: ')"
   ]
  },
  {
   "cell_type": "code",
   "execution_count": 6,
   "metadata": {},
   "outputs": [
    {
     "name": "stdout",
     "output_type": "stream",
     "text": [
      "Enter Q: 5\n"
     ]
    }
   ],
   "source": [
    "#Q>=1\n",
    "Q = input('Enter Q: ')"
   ]
  },
  {
   "cell_type": "code",
   "execution_count": 7,
   "metadata": {},
   "outputs": [
    {
     "name": "stdout",
     "output_type": "stream",
     "text": [
      "Enter No Of Parallel Row (empty for 1): 2\n"
     ]
    }
   ],
   "source": [
    "#>=1, <=M\n",
    "PR = input('Enter No Of Parallel Row (empty for 1): ')"
   ]
  },
  {
   "cell_type": "code",
   "execution_count": 8,
   "metadata": {},
   "outputs": [
    {
     "name": "stdout",
     "output_type": "stream",
     "text": [
      "Enter No Of Parallel Column (empty for 1): 2\n"
     ]
    }
   ],
   "source": [
    "#>=1, <=Q\n",
    "PC = input('Enter No Of Parallel Column (empty for 1): ')"
   ]
  },
  {
   "cell_type": "code",
   "execution_count": 9,
   "metadata": {},
   "outputs": [],
   "source": [
    "M = int(M)\n",
    "if(M<1):\n",
    "    M=1\n",
    "\n",
    "N = int(N)\n",
    "if(N<2):\n",
    "    N=2\n",
    "\n",
    "Q = int(Q)\n",
    "if(Q<1):\n",
    "    Q=1\n",
    "\n",
    "if not PR:\n",
    "    PR=1\n",
    "else:\n",
    "    PR = int(PR)\n",
    "    if PR>M:\n",
    "        PR = M\n",
    "\n",
    "if not PC:\n",
    "    PC=1\n",
    "else:\n",
    "    PC = int(PC)\n",
    "    if PC>Q:\n",
    "        PC = Q"
   ]
  },
  {
   "cell_type": "code",
   "execution_count": 10,
   "metadata": {},
   "outputs": [
    {
     "name": "stdout",
     "output_type": "stream",
     "text": [
      "Enter No Of Elements Per Series (>=1, <=8, empty for 8): 4\n"
     ]
    }
   ],
   "source": [
    "NOEPS = input('Enter No Of Elements Per Series (>=1, <={}, empty for {}): '.format(N-1, N-1))"
   ]
  },
  {
   "cell_type": "code",
   "execution_count": 11,
   "metadata": {
    "collapsed": true
   },
   "outputs": [],
   "source": [
    "if not NOEPS:\n",
    "    NMult=N-1\n",
    "else:\n",
    "    NMult = int(NOEPS)\n",
    "    if NMult<1:\n",
    "        NMult=1\n",
    "    elif NMult>(N-1):\n",
    "        NMult=N-1"
   ]
  },
  {
   "cell_type": "code",
   "execution_count": 12,
   "metadata": {},
   "outputs": [
    {
     "name": "stdout",
     "output_type": "stream",
     "text": [
      "Enter Multiply-Add Max Component Size (empty for 4): 3\n"
     ]
    }
   ],
   "source": [
    "#MAMCS>=1\n",
    "MAMCS = input('Enter Multiply-Add Max Component Size (empty for {}): '.format(NMult))"
   ]
  },
  {
   "cell_type": "code",
   "execution_count": 13,
   "metadata": {
    "collapsed": true
   },
   "outputs": [],
   "source": [
    "if not MAMCS:\n",
    "    MAMCS = NMult\n",
    "else:\n",
    "    MAMCS = int(MAMCS)\n",
    "    if MAMCS>NMult:\n",
    "        MAMCS = NMult;\n",
    "    elif(MAMCS<1):\n",
    "        MAMCS=1"
   ]
  },
  {
   "cell_type": "code",
   "execution_count": 14,
   "metadata": {},
   "outputs": [
    {
     "name": "stdout",
     "output_type": "stream",
     "text": [
      "Enter maximum size allowed for base adders (empty for 2): 2\n"
     ]
    }
   ],
   "source": [
    "#AdderSize>=2\n",
    "if MAMCS<NMult:\n",
    "    AdderSize = input('Enter maximum size allowed for base adders (empty for 2): ')"
   ]
  },
  {
   "cell_type": "code",
   "execution_count": 15,
   "metadata": {
    "collapsed": true
   },
   "outputs": [],
   "source": [
    "RS=math.ceil(M/PR)"
   ]
  },
  {
   "cell_type": "code",
   "execution_count": 16,
   "metadata": {},
   "outputs": [
    {
     "name": "stdout",
     "output_type": "stream",
     "text": [
      "Enable Column Latch? (empty or 0 to disable, 1 to enable): 1\n"
     ]
    }
   ],
   "source": [
    "if RS>1:\n",
    "    Enable_Column_Latch = input('Enable Column Latch? (empty or 0 to disable, 1 to enable): ')"
   ]
  },
  {
   "cell_type": "code",
   "execution_count": 17,
   "metadata": {
    "collapsed": true
   },
   "outputs": [],
   "source": [
    "CS=math.ceil(Q/PC)"
   ]
  },
  {
   "cell_type": "code",
   "execution_count": 18,
   "metadata": {},
   "outputs": [
    {
     "name": "stdout",
     "output_type": "stream",
     "text": [
      "Enable Row Latch? (empty or 0 to disable, 1 to enable): 1\n"
     ]
    }
   ],
   "source": [
    "if CS>1:\n",
    "    Enable_Row_Latch = input('Enable Row Latch? (empty or 0 to disable, 1 to enable): ')"
   ]
  },
  {
   "cell_type": "code",
   "execution_count": 19,
   "metadata": {},
   "outputs": [
    {
     "name": "stdout",
     "output_type": "stream",
     "text": [
      "Enter IN_WIDTH default value (empty for 10): \n"
     ]
    }
   ],
   "source": [
    "#IN_WIDTH>=1\n",
    "IN_WIDTH = input('Enter IN_WIDTH default value (empty for 10): ')"
   ]
  },
  {
   "cell_type": "code",
   "execution_count": 20,
   "metadata": {},
   "outputs": [
    {
     "name": "stdout",
     "output_type": "stream",
     "text": [
      "Enter INPUT_REG_DEPTH default value (empty for 1): \n"
     ]
    }
   ],
   "source": [
    "#INPUT_REG_DEPTH>=0\n",
    "INPUT_REG_DEPTH = input('Enter INPUT_REG_DEPTH default value (empty for 1): ')"
   ]
  },
  {
   "cell_type": "code",
   "execution_count": 21,
   "metadata": {},
   "outputs": [
    {
     "name": "stdout",
     "output_type": "stream",
     "text": [
      "Enter MULT_PIPE_DEPTH default value (empty for 1): \n"
     ]
    }
   ],
   "source": [
    "#MULT_PIPE_DEPTH>=0\n",
    "MULT_PIPE_DEPTH = input('Enter MULT_PIPE_DEPTH default value (empty for 1): ')"
   ]
  },
  {
   "cell_type": "code",
   "execution_count": 22,
   "metadata": {
    "collapsed": true
   },
   "outputs": [],
   "source": [
    "HRR = math.ceil(N/NMult);\n",
    "\n",
    "NumOfComponents = math.ceil(NMult/MAMCS)\n",
    "if MAMCS==NMult:\n",
    "    AdderSize=0\n",
    "else:\n",
    "    if not AdderSize:\n",
    "        AdderSize=2\n",
    "    else:\n",
    "        AdderSize = int(AdderSize)\n",
    "        if AdderSize<2:\n",
    "            AdderSize=2\n",
    "        if AdderSize>NumOfComponents:\n",
    "            AdderSize=NumOfComponents\n",
    "\n",
    "if RS==1:\n",
    "    Enable_Column_Latch = 0\n",
    "else:\n",
    "    if not Enable_Column_Latch:\n",
    "        Enable_Column_Latch = 0\n",
    "    else:\n",
    "        Enable_Column_Latch = int(Enable_Column_Latch)\n",
    "\n",
    "if CS==1:\n",
    "    Enable_Row_Latch = 0\n",
    "else:\n",
    "    if not Enable_Row_Latch:\n",
    "        Enable_Row_Latch = 0\n",
    "    else:\n",
    "        Enable_Row_Latch = int(Enable_Row_Latch)\n",
    "\n",
    "if not IN_WIDTH:\n",
    "    IN_WIDTH=10\n",
    "else:\n",
    "    IN_WIDTH = int(IN_WIDTH)\n",
    "    if(IN_WIDTH<1):\n",
    "        IN_WIDTH=1\n",
    "\n",
    "if not INPUT_REG_DEPTH:\n",
    "    INPUT_REG_DEPTH=1\n",
    "else:\n",
    "    INPUT_REG_DEPTH = int(INPUT_REG_DEPTH)\n",
    "    if(INPUT_REG_DEPTH<0):\n",
    "        INPUT_REG_DEPTH=0\n",
    "\n",
    "if not MULT_PIPE_DEPTH:\n",
    "    MULT_PIPE_DEPTH=1\n",
    "else:\n",
    "    MULT_PIPE_DEPTH = int(MULT_PIPE_DEPTH)\n",
    "    if(MULT_PIPE_DEPTH<0):\n",
    "        MULT_PIPE_DEPTH=0"
   ]
  },
  {
   "cell_type": "code",
   "execution_count": 23,
   "metadata": {},
   "outputs": [],
   "source": [
    "ModuleName=\"MatrixMatrixMultiply_{}_{}_{}_{}PR_{}PC_S{}E_HRx{}_C{}_A{}_\".format(M, N, Q, PR, PC, NMult, HRR, MAMCS, AdderSize)\n",
    "if Enable_Column_Latch<=0:\n",
    "    ModuleName+=\"N\"\n",
    "ModuleName+=\"CL_\"\n",
    "if Enable_Row_Latch<=0:\n",
    "    ModuleName+=\"N\"        \n",
    "ModuleName+=\"RL\""
   ]
  },
  {
   "cell_type": "code",
   "execution_count": 24,
   "metadata": {},
   "outputs": [],
   "source": [
    "__Print_To_File = 0\n",
    "\n",
    "if __Print_To_File<=0:\n",
    "    of=sys.stdout\n",
    "else:\n",
    "    of=open(\"./\"+ModuleName+\".v\", 'w+')"
   ]
  },
  {
   "cell_type": "code",
   "execution_count": 25,
   "metadata": {
    "scrolled": true
   },
   "outputs": [
    {
     "name": "stdout",
     "output_type": "stream",
     "text": [
      "`timescale 1ns / 1ps\n",
      "\n",
      "module MatrixMatrixMultiply_5_9_5_2PR_2PC_S4E_HRx3_C3_A2_CL_RL\n",
      "#(\n",
      "parameter IN_WIDTH = 10,\n",
      "parameter INPUT_REG_DEPTH = 1,\n",
      "parameter MULT_PIPE_DEPTH = 1\n",
      ")(\n",
      "input clk, reset, enable,\n",
      "output newInSeriesStart,\n",
      "output [1:0] inSeries,\n",
      "output [1:0] rowSetInNo,\n",
      "output reg [1:0] columnSetInNo = 0,\n",
      "input inReady,\n",
      "input signed [IN_WIDTH-1:0] AE0R0, AE1R0, AE2R0, AE3R0, \n",
      "AE0R1, AE1R1, AE2R1, AE3R1, \n",
      "input signed [IN_WIDTH-1:0] BE0C0, BE1C0, BE2C0, BE3C0, \n",
      "BE0C1, BE1C1, BE2C1, BE3C1, \n",
      "output C0R0EReady,\n",
      "output C0R1EReady,\n",
      "output C1R0EReady,\n",
      "output C1R1EReady,\n",
      "output [1:0] rowSetOutNo,\n",
      "output reg [1:0] columnSetOutNo = 2,\n",
      "output signed [(2*IN_WIDTH)+3:0] EC0R0, EC0R1, EC1R0, EC1R1, \n",
      "output earlyC0R0EReady,\n",
      "output earlyC0R1EReady,\n",
      "output earlyC1R0EReady,\n",
      "output earlyC1R1EReady\n",
      ");\n",
      "\n"
     ]
    }
   ],
   "source": [
    "print(\"`timescale 1ns / 1ps\\n\", file=of)\n",
    "print(\"module \"+ModuleName, file=of)\n",
    "print(\"#(\", file=of)\n",
    "print(\"parameter IN_WIDTH = {},\".format(IN_WIDTH), file=of)\n",
    "print(\"parameter INPUT_REG_DEPTH = {},\".format(INPUT_REG_DEPTH), file=of)\n",
    "print(\"parameter MULT_PIPE_DEPTH = {}\".format(MULT_PIPE_DEPTH), file=of)\n",
    "print(\")(\", file=of)\n",
    "print(\"input clk, reset, enable,\", file=of)\n",
    "print(\"output newInSeriesStart,\", file=of)\n",
    "lghrr=math.ceil(math.log2(HRR))\n",
    "if lghrr==1:\n",
    "    print(\"output inSeries,\", file=of)\n",
    "elif lghrr>1:\n",
    "    print(\"output [{}:0] inSeries,\".format(lghrr-1), file=of)\n",
    "lgRS=math.ceil(math.log2(RS))\n",
    "if lgRS<=1:\n",
    "    print(\"output rowSetInNo,\", file=of)\n",
    "else:\n",
    "    print(\"output [{}:0] rowSetInNo,\".format(lgRS-1), file=of)\n",
    "lgCS=math.ceil(math.log2(CS))\n",
    "if lgCS<=1:\n",
    "    print(\"output reg columnSetInNo = 0,\", file=of)\n",
    "else:\n",
    "    print(\"output reg [{}:0] columnSetInNo = 0,\".format(lgCS-1), file=of)\n",
    "print(\"input inReady,\", file=of)\n",
    "print(\"input signed [IN_WIDTH-1:0] \", end='', file=of)\n",
    "for i in range(PR):\n",
    "    for j in range(NMult):\n",
    "        print(\"AE{}R{}, \".format(j, i), end='', file=of)\n",
    "    print(file=of)\n",
    "print(\"input signed [IN_WIDTH-1:0] \", end='', file=of)\n",
    "for i in range(PC):\n",
    "    for j in range(NMult):\n",
    "        print(\"BE{}C{}, \".format(j, i), end='', file=of)\n",
    "    print(file=of)\n",
    "ac=CS*PC-Q\n",
    "QE = PC-ac-1\n",
    "if QE==0:\n",
    "    stc1=\"C0\"\n",
    "else:\n",
    "    stc1=\"C0toC{}\".format(QE)\n",
    "if QE==(PC-2):\n",
    "    stc2=\"C{}\".format(PC-1)\n",
    "else:\n",
    "    stc2=\"C{}toC{}\".format(QE+1, PC-1)\n",
    "ar=RS*PR-M\n",
    "ME = PR-ar-1\n",
    "if ME==0:\n",
    "    str1=\"R0\"\n",
    "else:\n",
    "    str1=\"R0toR{}\".format(ME)\n",
    "if ME==(PR-2):\n",
    "    str2=\"R{}\".format(PR-1)\n",
    "else:\n",
    "    str2=\"R{}toR{}\".format(ME+1, PR-1)\n",
    "print(\"output \", end='', file=of)\n",
    "print(stc1, end='', file=of)\n",
    "print(str1, end='', file=of)\n",
    "print(\"EReady,\", file=of)\n",
    "if ar!=0:\n",
    "    print(\"output \", end='', file=of)\n",
    "    print(stc1, end='', file=of)\n",
    "    print(str2, end='', file=of)\n",
    "    print(\"EReady,\", file=of)\n",
    "else:\n",
    "    print(\"output reg NUEReady1 = 0, //not used\", file=of)\n",
    "if ac!=0:\n",
    "    print(\"output \", end='', file=of)\n",
    "    print(stc2, end='', file=of)\n",
    "    print(str1, end='', file=of)\n",
    "    print(\"EReady,\", file=of)\n",
    "    if ar!=0:\n",
    "        print(\"output \", end='', file=of)\n",
    "        print(stc2, end='', file=of)\n",
    "        print(str2, end='', file=of)\n",
    "        print(\"EReady,\", file=of)\n",
    "    else:\n",
    "        print(\"output reg NUEReady2 = 0, //not used\", file=of)\n",
    "else:\n",
    "    print(\"output reg NUEReady2 = 0, //not used\", file=of)\n",
    "    print(\"output reg NUEReady3 = 0, //not used\", file=of)\n",
    "if lgRS<=1:\n",
    "    print(\"output rowSetOutNo,\", file=of)\n",
    "else:\n",
    "    print(\"output [{}:0] rowSetOutNo,\".format(lgRS-1), file=of)\n",
    "if lgCS<=1:\n",
    "    print(\"output reg columnSetOutNo = {},\".format(CS-1), file=of)\n",
    "else:\n",
    "    print(\"output reg [{}:0] columnSetOutNo = {},\".format(lgCS-1, CS-1), file=of)\n",
    "lgN=math.ceil(math.log2(N))\n",
    "al=-1+lgN\n",
    "if al==0:\n",
    "    print(\"output signed [(2*IN_WIDTH):0] \", end='',file=of)\n",
    "elif al<0:\n",
    "    print(\"output signed [(2*IN_WIDTH){}:0] \".format(al), end='',file=of)\n",
    "else:\n",
    "    print(\"output signed [(2*IN_WIDTH)+{}:0] \".format(al), end='',file=of)\n",
    "for i in range(PC):\n",
    "    for j in range(PR):\n",
    "        print(\"EC{}R{}, \".format(i, j), end='',file=of)\n",
    "print(file=of)\n",
    "print(\"output early\", end='', file=of)\n",
    "print(stc1, end='', file=of)\n",
    "print(str1, end='', file=of)\n",
    "print(\"EReady,\", file=of)\n",
    "if ar!=0:\n",
    "    print(\"output early\", end='', file=of)\n",
    "    print(stc1, end='', file=of)\n",
    "    print(str2, end='', file=of)\n",
    "    print(\"EReady,\", file=of)\n",
    "else:\n",
    "    print(\"output reg NUeEReady1 = 0, //not used\", file=of)\n",
    "if ac!=0:\n",
    "    print(\"output early\", end='', file=of)\n",
    "    print(stc2, end='', file=of)\n",
    "    print(str1, end='', file=of)\n",
    "    print(\"EReady,\", file=of)\n",
    "    if ar!=0:\n",
    "        print(\"output early\", end='', file=of)\n",
    "        print(stc2, end='', file=of)\n",
    "        print(str2, end='', file=of)\n",
    "        print(\"EReady\", file=of)\n",
    "    else:\n",
    "        print(\"output reg NUeEReady2 = 0 //not used\", file=of)\n",
    "else:\n",
    "    print(\"output reg NUeEReady2 = 0, //not used\", file=of)\n",
    "    print(\"output reg NUeEReady3 = 0 //not used\", file=of)\n",
    "print(\");\\n\", file=of)"
   ]
  },
  {
   "cell_type": "code",
   "execution_count": 26,
   "metadata": {},
   "outputs": [
    {
     "name": "stdout",
     "output_type": "stream",
     "text": [
      "reg signed [IN_WIDTH-1:0] SAE0R0, SAE1R0, SAE2R0, SAE3R0;\n",
      "reg signed [IN_WIDTH-1:0] SAE0R1, SAE1R1, SAE2R1, SAE3R1;\n",
      "\n"
     ]
    }
   ],
   "source": [
    "if Enable_Row_Latch>0:\n",
    "    for j in range(PR):\n",
    "        print(\"reg signed [IN_WIDTH-1:0] \", end='', file=of)\n",
    "        for i in range(NMult-1):\n",
    "            print(\"SAE{}R{}, \".format(i, j), end='', file=of)\n",
    "        print(\"SAE{}R{};\".format(NMult-1, j), file=of)\n",
    "    print(file=of)"
   ]
  },
  {
   "cell_type": "code",
   "execution_count": 27,
   "metadata": {},
   "outputs": [
    {
     "name": "stdout",
     "output_type": "stream",
     "text": [
      "wire newInSeriesStartI;\n",
      "wire inCC = (columnSetInNo!=0) & (rowSetInNo!=0);\n",
      "wire inReadyC = inReady | inCC;\n",
      "assign newInSeriesStart = newInSeriesStartI & (~inCC);\n"
     ]
    }
   ],
   "source": [
    "print(\"wire newInSeriesStartI;\", file=of)\n",
    "if Enable_Row_Latch<=0 or Enable_Column_Latch<=0:\n",
    "    print(\"wire inReadyC = inReady;\", file=of)\n",
    "    print(\"assign newInSeriesStart = newInSeriesStartI;\", file=of)\n",
    "else: #Enable_Row_Latch>0 and Enable_Column_Latch>0\n",
    "    #inrCC: inReady Check Cancel!\n",
    "    print(\"wire inrCC = (columnSetInNo!=0) & (rowSetInNo!=0);\", file=of) # ~inrCC : (columnSetInNo==0) | (rowSetInNo==0)\n",
    "    print(\"wire inReadyC = inReady | inrCC;\", file=of)\n",
    "    print(\"assign newInSeriesStart = newInSeriesStartI & (~inrCC);\", file=of)"
   ]
  },
  {
   "cell_type": "code",
   "execution_count": 28,
   "metadata": {},
   "outputs": [
    {
     "name": "stdout",
     "output_type": "stream",
     "text": [
      "wire inReadyC2 = (columnSetInNo!=2) & inReadyC;\n",
      "\n",
      "MatrixVectorMultiply_5_9_2PR_S4E_HRx3_C3_A2_VL#( .IN_WIDTH(IN_WIDTH), .INPUT_REG_DEPTH(INPUT_REG_DEPTH), .MULT_PIPE_DEPTH(MULT_PIPE_DEPTH) )\n",
      "MVM_0(clk, reset, enable,\n",
      "newInSeriesStartI,\n",
      "inSeries,\n",
      "rowSetInNo,\n",
      "inReadyC,\n",
      "SAE0R0, SAE1R0, SAE2R0, SAE3R0, \n",
      "SAE0R1, SAE1R1, SAE2R1, SAE3R1, \n",
      "BE0C0, BE1C0, BE2C0, BE3C0, \n",
      "C0R0EReady,\n",
      "C0R1EReady,\n",
      "rowSetOutNo,\n",
      "EC0R0,\n",
      "EC0R1,\n",
      "earlyC0R0EReady,\n",
      "earlyC0R1EReady\n",
      ");\n",
      "\n",
      "MatrixVectorMultiply_5_9_2PR_S4E_HRx3_C3_A2_VL#( .IN_WIDTH(IN_WIDTH), .INPUT_REG_DEPTH(INPUT_REG_DEPTH), .MULT_PIPE_DEPTH(MULT_PIPE_DEPTH) )\n",
      "MVM_1(clk, reset, enable,\n",
      "newInSeriesStart1, //not used\n",
      "inSeries1, //not used\n",
      "rowSetInNo1, //not used\n",
      "inReadyC2,\n",
      "SAE0R0, SAE1R0, SAE2R0, SAE3R0, \n",
      "SAE0R1, SAE1R1, SAE2R1, SAE3R1, \n",
      "BE0C1, BE1C1, BE2C1, BE3C1, \n",
      "C1R0EReady,\n",
      "C1R1EReady,\n",
      "LLrowSetOutNo1, //not used\n",
      "EC1R0,\n",
      "EC1R1,\n",
      "earlyC1R0EReady,\n",
      "earlyC1R1EReady\n",
      ");\n",
      "\n"
     ]
    }
   ],
   "source": [
    "if(ac!=0): #CS*PC > Q, CS>=2\n",
    "    print(\"wire inReadyC2 = (columnSetInNo!={}) & inReadyC;\".format(CS-1), file=of)\n",
    "    print(file=of)\n",
    "\n",
    "for i in range (PC):\n",
    "    if Enable_Column_Latch>0:\n",
    "        print(\"MatrixVectorMultiply_{}_{}_{}PR_S{}E_HRx{}_C{}_A{}_VL#( .IN_WIDTH(IN_WIDTH), .INPUT_REG_DEPTH(INPUT_REG_DEPTH), .MULT_PIPE_DEPTH(MULT_PIPE_DEPTH) )\".format(M, N, PR, NMult, HRR, MAMCS, AdderSize), file=of)\n",
    "    else:\n",
    "        print(\"MatrixVectorMultiply_{}_{}_{}PR_S{}E_HRx{}_C{}_A{}_NVL#( .IN_WIDTH(IN_WIDTH), .INPUT_REG_DEPTH(INPUT_REG_DEPTH), .MULT_PIPE_DEPTH(MULT_PIPE_DEPTH) )\".format(M, N, PR, NMult, HRR, MAMCS, AdderSize), file=of)\n",
    "    print(\"MVM_{}(clk, reset, enable,\".format(i), file=of)\n",
    "    if i==0:\n",
    "        print(\"newInSeriesStartI,\", file=of)\n",
    "        print(\"inSeries,\".format(i), file=of)\n",
    "        print(\"rowSetInNo,\", file=of)\n",
    "    else:\n",
    "        print(\"newInSeriesStart{}, //not used\".format(i), file=of)\n",
    "        print(\"inSeries{}, //not used\".format(i), file=of)\n",
    "        print(\"rowSetInNo{}, //not used\".format(i), file=of)\n",
    "    if(PC-i<=ac):\n",
    "        print(\"inReadyC2,\", file=of)\n",
    "    else:\n",
    "        print(\"inReadyC,\", file=of)\n",
    "    for j in range(PR):\n",
    "        if Enable_Row_Latch>0:\n",
    "            for k in range(NMult):\n",
    "                print(\"SAE{}R{}, \".format(k, j), end='', file=of)\n",
    "        else:\n",
    "            for k in range(NMult):\n",
    "                print(\"AE{}R{}, \".format(k, j), end='', file=of)\n",
    "        print(file=of)\n",
    "    for j in range(NMult):\n",
    "        print(\"BE{}C{}, \".format(j, i), end='', file=of)\n",
    "    print(file=of)\n",
    "    if i==0:\n",
    "        print(stc1+str1+\"EReady,\", file=of)\n",
    "        if ar!=0:\n",
    "            print(stc1+str2+\"EReady,\", file=of)\n",
    "        else:\n",
    "            print(\"LLMVMoutReadyA{}, //not used\".format(i), file=of)\n",
    "    elif i==PC-ac:\n",
    "        print(stc2+str1+\"EReady,\", file=of)\n",
    "        if ar!=0:\n",
    "            print(stc2+str2+\"EReady,\", file=of)\n",
    "        else:\n",
    "            print(\"LLMVMoutReadyCA{}, //not used\".format(i), file=of)\n",
    "    else:\n",
    "        print(\"LLMVMoutReady{}, //not used\".format(i), file=of)\n",
    "        print(\"LLMVMoutReadyA{}, //not used\".format(i), file=of)\n",
    "    if i==0:\n",
    "        print(\"rowSetOutNo,\", file=of)\n",
    "    else:\n",
    "        print(\"LLrowSetOutNo{}, //not used\".format(i), file=of)\n",
    "    for j in range(PR):\n",
    "        print(\"EC{}R{},\".format(i, j), file=of)\n",
    "    if i==0:\n",
    "        print(\"early\"+stc1+str1+\"EReady,\", file=of)\n",
    "        if ar!=0:\n",
    "            print(\"early\"+stc1+str2+\"EReady\", file=of)\n",
    "        else:\n",
    "            print(\"LLMVMearlyOutReadyA{} //not used\".format(i), file=of)\n",
    "    elif i==PC-ac:\n",
    "        print(\"early\"+stc2+str1+\"EReady,\", file=of)\n",
    "        if ar!=0:\n",
    "            print(\"early\"+stc2+str2+\"EReady\", file=of)\n",
    "        else:\n",
    "            print(\"LLMVMearlyOutReadyCA{} //not used\".format(i), file=of)\n",
    "    else:\n",
    "        print(\"LLMVMearlyOutReady{},\".format(i), file=of)\n",
    "        print(\"LLMVMearlyOutReadyA{} //not used\".format(i), file=of)\n",
    "    print(\");\", file=of)\n",
    "    print(file=of)"
   ]
  },
  {
   "cell_type": "code",
   "execution_count": 29,
   "metadata": {
    "collapsed": true
   },
   "outputs": [],
   "source": [
    "#     if(RS==1):\n",
    "#         print(\"inReady & (columnSetInNo=={})\".format(CS-1), end='', file=of)\n",
    "#     else:\n",
    "#         print(\"(rowSetInNo=={}) & inReady & (columnSetInNo=={})\".format(RS-1, CS-1), end='', file=of)\n",
    "\n",
    "#     if(RS==1):\n",
    "#         print(\"inReady & (columnSetInNo!={})\".format(CS-1), end='', file=of)\n",
    "#     else:\n",
    "#         if Enable_Row_Latch<=0 or Enable_Column_Latch<=0:\n",
    "#             print(\"(rowSetInNo=={}) & inReady & (columnSetInNo!={})\".format(RS-1, CS-1), end='', file=of)\n",
    "#         else:\n",
    "#             print(\"(rowSetInNo=={})\".format(RS-1), end='', file=of)"
   ]
  },
  {
   "cell_type": "code",
   "execution_count": 30,
   "metadata": {},
   "outputs": [
    {
     "name": "stdout",
     "output_type": "stream",
     "text": [
      "reg signed [IN_WIDTH-1:0] LAE0R0, LAE1R0, LAE2R0, LAE3R0, LAE4R0, LAE5R0, LAE6R0, LAE7R0, LAE8R0;\n",
      "reg signed [IN_WIDTH-1:0] LAE0R1, LAE1R1, LAE2R1, LAE3R1, LAE4R1, LAE5R1, LAE6R1, LAE7R1, LAE8R1;\n",
      "reg signed [IN_WIDTH-1:0] LAE0R2, LAE1R2, LAE2R2, LAE3R2, LAE4R2, LAE5R2, LAE6R2, LAE7R2, LAE8R2;\n",
      "reg signed [IN_WIDTH-1:0] LAE0R3, LAE1R3, LAE2R3, LAE3R3, LAE4R3, LAE5R3, LAE6R3, LAE7R3, LAE8R3;\n",
      "reg signed [IN_WIDTH-1:0] LAE0R4, LAE1R4, LAE2R4, LAE3R4, LAE4R4, LAE5R4, LAE6R4, LAE7R4, LAE8R4;\n",
      "\n",
      "always @(posedge clk) begin\n",
      "\tif(reset) begin\n",
      "\t\tcolumnSetInNo <= 0;\n",
      "\tend\n",
      "\telse if(enable) begin\n",
      "\t\tif((rowSetInNo==2) & (inReady | (columnSetInNo!=0)) & (inSeries==2)) begin\n",
      "\t\t\tif(columnSetInNo==2) begin\n",
      "\t\t\t\tcolumnSetInNo <= 0;\n",
      "\t\t\tend\n",
      "\t\t\telse begin\n",
      "\t\t\t\tcolumnSetInNo <= columnSetInNo+1;\n",
      "\t\t\tend\n",
      "\t\tend\n",
      "\t\tif(inReady & (columnSetInNo==0)) begin\n",
      "\t\t\tcase(rowSetInNo)\n",
      "\t\t\t0: begin\n",
      "\t\t\t\tcase(inSeries)\n",
      "\t\t\t\t0: begin\n",
      "\t\t\t\t\tLAE0R0 <= AE0R0; LAE1R0 <= AE1R0; LAE2R0 <= AE2R0; LAE3R0 <= AE3R0; \n",
      "\t\t\t\t\tLAE0R1 <= AE0R1; LAE1R1 <= AE1R1; LAE2R1 <= AE2R1; LAE3R1 <= AE3R1; \n",
      "\t\t\t\tend\n",
      "\t\t\t\t1: begin\n",
      "\t\t\t\t\tLAE4R0 <= AE0R0; LAE5R0 <= AE1R0; LAE6R0 <= AE2R0; LAE7R0 <= AE3R0; \n",
      "\t\t\t\t\tLAE4R1 <= AE0R1; LAE5R1 <= AE1R1; LAE6R1 <= AE2R1; LAE7R1 <= AE3R1; \n",
      "\t\t\t\tend\n",
      "\t\t\t\t2: begin\n",
      "\t\t\t\t\tLAE8R0 <= AE0R0; \n",
      "\t\t\t\t\tLAE8R1 <= AE0R1; \n",
      "\t\t\t\tend\n",
      "\t\t\t\tendcase\n",
      "\t\t\tend\n",
      "\t\t\t1: begin\n",
      "\t\t\t\tcase(inSeries)\n",
      "\t\t\t\t0: begin\n",
      "\t\t\t\t\tLAE0R2 <= AE0R0; LAE1R2 <= AE1R0; LAE2R2 <= AE2R0; LAE3R2 <= AE3R0; \n",
      "\t\t\t\t\tLAE0R3 <= AE0R1; LAE1R3 <= AE1R1; LAE2R3 <= AE2R1; LAE3R3 <= AE3R1; \n",
      "\t\t\t\tend\n",
      "\t\t\t\t1: begin\n",
      "\t\t\t\t\tLAE4R2 <= AE0R0; LAE5R2 <= AE1R0; LAE6R2 <= AE2R0; LAE7R2 <= AE3R0; \n",
      "\t\t\t\t\tLAE4R3 <= AE0R1; LAE5R3 <= AE1R1; LAE6R3 <= AE2R1; LAE7R3 <= AE3R1; \n",
      "\t\t\t\tend\n",
      "\t\t\t\t2: begin\n",
      "\t\t\t\t\tLAE8R2 <= AE0R0; \n",
      "\t\t\t\t\tLAE8R3 <= AE0R1; \n",
      "\t\t\t\tend\n",
      "\t\t\t\tendcase\n",
      "\t\t\tend\n",
      "\t\t\t2: begin\n",
      "\t\t\t\tcase(inSeries)\n",
      "\t\t\t\t0: begin\n",
      "\t\t\t\t\tLAE0R4 <= AE0R0; LAE1R4 <= AE1R0; LAE2R4 <= AE2R0; LAE3R4 <= AE3R0; \n",
      "\t\t\t\tend\n",
      "\t\t\t\t1: begin\n",
      "\t\t\t\t\tLAE4R4 <= AE0R0; LAE5R4 <= AE1R0; LAE6R4 <= AE2R0; LAE7R4 <= AE3R0; \n",
      "\t\t\t\tend\n",
      "\t\t\t\t2: begin\n",
      "\t\t\t\t\tLAE8R4 <= AE0R0; \n",
      "\t\t\t\tend\n",
      "\t\t\t\tendcase\n",
      "\t\t\tend\n",
      "\t\t\tendcase\n",
      "\t\tend\n",
      "\tend\n",
      "end\n",
      "\n"
     ]
    }
   ],
   "source": [
    "# OLD:\n",
    "#     print(\"\\t\\tif(inReady\", end='', file=of)\n",
    "#     if(RS>1):\n",
    "#         print(\" & (rowSetInNo=={})\".format(RS-1), end='', file=of)\n",
    "#     print(\") begin\", file=of)\n",
    "\n",
    "if(CS>1):\n",
    "    if Enable_Row_Latch>0:\n",
    "        for j in range(M):\n",
    "            print(\"reg signed [IN_WIDTH-1:0] \", end='', file=of)\n",
    "            for i in range(N-1):\n",
    "                print(\"LAE{}R{}, \".format(i, j), end='', file=of)\n",
    "            print(\"LAE{}R{};\".format(N-1, j), file=of)\n",
    "        print(file=of)\n",
    "    print(\"always @(posedge clk) begin\", file=of)\n",
    "    print(\"\\tif(reset) begin\", file=of)\n",
    "    print(\"\\t\\tcolumnSetInNo <= 0;\", file=of)\n",
    "    print(\"\\tend\", file=of)\n",
    "    print(\"\\telse if(enable) begin\", file=of)\n",
    "    \n",
    "    print(\"\\t\\tif(\", end='', file=of)\n",
    "    if(RS==1):\n",
    "        print(\"inReady & (inSeries=={})\".format(HRR-1), end='', file=of)\n",
    "    else:\n",
    "        if Enable_Row_Latch<=0 or Enable_Column_Latch<=0:\n",
    "            print(\"(rowSetInNo=={}) & inReady & (inSeries=={})\".format(RS-1, HRR-1), end='', file=of)\n",
    "        else:\n",
    "            print(\"(rowSetInNo=={}) & (inReady | (columnSetInNo!=0)) & (inSeries=={})\".format(RS-1, HRR-1), end='', file=of)\n",
    "    print(\") begin\", file=of)\n",
    "\n",
    "    print(\"\\t\\t\\tif(columnSetInNo=={}) begin\".format(CS-1), file=of)\n",
    "    print(\"\\t\\t\\t\\tcolumnSetInNo <= 0;\", file=of)\n",
    "    print(\"\\t\\t\\tend\", file=of)\n",
    "    print(\"\\t\\t\\telse begin\", file=of)\n",
    "    if CS==2:\n",
    "        print(\"\\t\\t\\t\\tcolumnSetInNo <= 1;\", file=of)\n",
    "    else:\n",
    "        print(\"\\t\\t\\t\\tcolumnSetInNo <= columnSetInNo+1;\", file=of)\n",
    "    print(\"\\t\\t\\tend\", file=of)\n",
    "    print(\"\\t\\tend\", file=of)\n",
    "    if Enable_Row_Latch>0:\n",
    "        print(\"\\t\\tif(inReady & (columnSetInNo==0)) begin\", file=of)\n",
    "        if RS>1:\n",
    "            print(\"\\t\\t\\tcase(rowSetInNo)\", file=of)\n",
    "        for k in range(RS):\n",
    "            if RS>1:\n",
    "                print(\"\\t\\t\\t{}: begin\".format(k), file=of)\n",
    "\n",
    "            if RS>1:\n",
    "                print(\"\\t\", end='', file=of)\n",
    "            print(\"\\t\\t\\tcase(inSeries)\", file=of)\n",
    "            for h in range(HRR):\n",
    "                if RS>1:\n",
    "                    print(\"\\t\", end='', file=of)\n",
    "                print(\"\\t\\t\\t{}: begin\".format(h), file=of)\n",
    "                t=k*PR-1\n",
    "                for j in range(PR):\n",
    "                    t=t+1\n",
    "                    if RS>1:\n",
    "                        print(\"\\t\", end='', file=of)\n",
    "                    print(\"\\t\\t\\t\\t\", end='', file=of)\n",
    "                    p=NMult*h-1\n",
    "                    for l in range(NMult):\n",
    "                        p=p+1\n",
    "                        print(\"LAE{}R{} <= AE{}R{}; \".format(p,t,l,j), end='', file=of)\n",
    "                        if p == N-1:\n",
    "                            break\n",
    "                    print(file=of)\n",
    "                    if t==M-1:\n",
    "                        break\n",
    "                if RS>1:\n",
    "                    print(\"\\t\", end='', file=of)\n",
    "                print(\"\\t\\t\\tend\", file=of)\n",
    "            if RS>1:\n",
    "                print(\"\\t\", end='', file=of)\n",
    "            print(\"\\t\\t\\tendcase\", file=of)\n",
    "\n",
    "            if RS>1:\n",
    "                print(\"\\t\\t\\tend\", file=of)\n",
    "        if RS>1:\n",
    "            print(\"\\t\\t\\tendcase\", file=of)\n",
    "        print(\"\\t\\tend\", file=of)\n",
    "    print(\"\\tend\", file=of)\n",
    "    print(\"end\\n\", file=of)"
   ]
  },
  {
   "cell_type": "code",
   "execution_count": 31,
   "metadata": {},
   "outputs": [
    {
     "name": "stdout",
     "output_type": "stream",
     "text": [
      "always @(*) begin\n",
      "\tif(columnSetInNo==0) begin\n",
      "\t\tSAE0R0 = AE0R0; SAE1R0 = AE1R0; SAE2R0 = AE2R0; SAE3R0 = AE3R0; \n",
      "\t\tSAE0R1 = AE0R1; SAE1R1 = AE1R1; SAE2R1 = AE2R1; SAE3R1 = AE3R1; \n",
      "\tend\n",
      "\telse begin\n",
      "\t\tcase(rowSetInNo)\n",
      "\t\t0: begin\n",
      "\t\t\tcase(inSeries)\n",
      "\t\t\t0: begin\n",
      "\t\t\t\tSAE0R0 = LAE0R0; SAE1R0 = LAE1R0; SAE2R0 = LAE2R0; SAE3R0 = LAE3R0; \n",
      "\t\t\t\tSAE0R1 = LAE0R1; SAE1R1 = LAE1R1; SAE2R1 = LAE2R1; SAE3R1 = LAE3R1; \n",
      "\t\t\tend\n",
      "\t\t\t1: begin\n",
      "\t\t\t\tSAE0R0 = LAE4R0; SAE1R0 = LAE5R0; SAE2R0 = LAE6R0; SAE3R0 = LAE7R0; \n",
      "\t\t\t\tSAE0R1 = LAE4R1; SAE1R1 = LAE5R1; SAE2R1 = LAE6R1; SAE3R1 = LAE7R1; \n",
      "\t\t\tend\n",
      "\t\t\t2: begin\n",
      "\t\t\t\tSAE0R0 = LAE8R0; SAE1R0 = 0; SAE2R0 = 0; SAE3R0 = 0; \n",
      "\t\t\t\tSAE0R1 = LAE8R1; SAE1R1 = 0; SAE2R1 = 0; SAE3R1 = 0; \n",
      "\t\t\tend\n",
      "\t\t\tdefault: begin\n",
      "\t\t\t\tSAE0R0 = 0; SAE1R0 = 0; SAE2R0 = 0; SAE3R0 = 0; \n",
      "\t\t\t\tSAE0R1 = 0; SAE1R1 = 0; SAE2R1 = 0; SAE3R1 = 0; \n",
      "\t\t\tend\n",
      "\t\t\tendcase\n",
      "\t\tend\n",
      "\t\t1: begin\n",
      "\t\t\tcase(inSeries)\n",
      "\t\t\t0: begin\n",
      "\t\t\t\tSAE0R0 = LAE0R2; SAE1R0 = LAE1R2; SAE2R0 = LAE2R2; SAE3R0 = LAE3R2; \n",
      "\t\t\t\tSAE0R1 = LAE0R3; SAE1R1 = LAE1R3; SAE2R1 = LAE2R3; SAE3R1 = LAE3R3; \n",
      "\t\t\tend\n",
      "\t\t\t1: begin\n",
      "\t\t\t\tSAE0R0 = LAE4R2; SAE1R0 = LAE5R2; SAE2R0 = LAE6R2; SAE3R0 = LAE7R2; \n",
      "\t\t\t\tSAE0R1 = LAE4R3; SAE1R1 = LAE5R3; SAE2R1 = LAE6R3; SAE3R1 = LAE7R3; \n",
      "\t\t\tend\n",
      "\t\t\t2: begin\n",
      "\t\t\t\tSAE0R0 = LAE8R2; SAE1R0 = 0; SAE2R0 = 0; SAE3R0 = 0; \n",
      "\t\t\t\tSAE0R1 = LAE8R3; SAE1R1 = 0; SAE2R1 = 0; SAE3R1 = 0; \n",
      "\t\t\tend\n",
      "\t\t\tdefault: begin\n",
      "\t\t\t\tSAE0R0 = 0; SAE1R0 = 0; SAE2R0 = 0; SAE3R0 = 0; \n",
      "\t\t\t\tSAE0R1 = 0; SAE1R1 = 0; SAE2R1 = 0; SAE3R1 = 0; \n",
      "\t\t\tend\n",
      "\t\t\tendcase\n",
      "\t\tend\n",
      "\t\t2: begin\n",
      "\t\t\tcase(inSeries)\n",
      "\t\t\t0: begin\n",
      "\t\t\t\tSAE0R0 = LAE0R4; SAE1R0 = LAE1R4; SAE2R0 = LAE2R4; SAE3R0 = LAE3R4; \n",
      "\t\t\tend\n",
      "\t\t\t1: begin\n",
      "\t\t\t\tSAE0R0 = LAE4R4; SAE1R0 = LAE5R4; SAE2R0 = LAE6R4; SAE3R0 = LAE7R4; \n",
      "\t\t\tend\n",
      "\t\t\t2: begin\n",
      "\t\t\t\tSAE0R0 = LAE8R4; SAE1R0 = 0; SAE2R0 = 0; SAE3R0 = 0; \n",
      "\t\t\tend\n",
      "\t\t\tdefault: begin\n",
      "\t\t\t\tSAE0R0 = 0; SAE1R0 = 0; SAE2R0 = 0; SAE3R0 = 0; \n",
      "\t\t\tend\n",
      "\t\t\tendcase\n",
      "\t\t\tSAE0R1 = 0; SAE1R1 = 0; SAE2R1 = 0; SAE3R1 = 0; \n",
      "\t\tend\n",
      "\t\tdefault: begin\n",
      "\t\t\tSAE0R0 = 0; SAE1R0 = 0; SAE2R0 = 0; SAE3R0 = 0; \n",
      "\t\t\tSAE0R1 = 0; SAE1R1 = 0; SAE2R1 = 0; SAE3R1 = 0; \n",
      "\t\tend\n",
      "\t\tendcase\n",
      "\tend\n",
      "end\n",
      "\n"
     ]
    }
   ],
   "source": [
    "if Enable_Row_Latch>0:\n",
    "    print(\"always @(*) begin\", file=of)\n",
    "    print(\"\\tif(columnSetInNo==0) begin\", file=of)\n",
    "    \n",
    "    for j in range(PR):\n",
    "        print(\"\\t\\t\", end='', file=of)\n",
    "        for i in range(NMult):\n",
    "            print(\"SAE{}R{} = AE{}R{}; \".format(i, j, i, j), end='', file=of)\n",
    "        print(file=of)\n",
    "\n",
    "    print(\"\\tend\", file=of)\n",
    "    print(\"\\telse begin\", file=of)\n",
    "    \n",
    "    if RS>1:\n",
    "        print(\"\\t\\tcase(rowSetInNo)\", file=of)\n",
    "\n",
    "    for k in range(RS):\n",
    "        if RS>1:\n",
    "            print(\"\\t\\t{}: begin\".format(k), file=of)\n",
    "        if RS>1:\n",
    "            print(\"\\t\", end='', file=of)\n",
    "        print(\"\\t\\tcase(inSeries)\", file=of)\n",
    "        for h in range(HRR):\n",
    "            if RS>1:\n",
    "                print(\"\\t\", end='', file=of)\n",
    "            print(\"\\t\\t{}: begin\".format(h), file=of)\n",
    "            t=k*PR-1\n",
    "            for j in range(PR):\n",
    "                t=t+1\n",
    "                if RS>1:\n",
    "                    print(\"\\t\", end='', file=of)\n",
    "                print(\"\\t\\t\\t\", end='', file=of)\n",
    "                p=NMult*h-1\n",
    "                for l in range(NMult):\n",
    "                    p=p+1\n",
    "                    if p<N:\n",
    "                        print(\"SAE{}R{} = LAE{}R{}; \".format(l,j,p,t), end='', file=of)\n",
    "                    else:\n",
    "                        print(\"SAE{}R{} = 0; \".format(l,j), end='', file=of)\n",
    "                print(file=of)\n",
    "                if t==M-1:\n",
    "                    break\n",
    "                    \n",
    "            if RS>1:\n",
    "                print(\"\\t\", end='', file=of)\n",
    "            print(\"\\t\\tend\", file=of)\n",
    "\n",
    "        if (HRR & (HRR-1)) != 0: #check if HRR is not power of 2\n",
    "            if RS>1:\n",
    "                print(\"\\t\", end='', file=of)\n",
    "            print(\"\\t\\tdefault: begin\".format(k), file=of)\n",
    "            for jp in range(j+1):\n",
    "                if RS>1:\n",
    "                    print(\"\\t\", end='', file=of)\n",
    "                print(\"\\t\\t\\t\", end='', file=of)\n",
    "                for l in range(NMult):\n",
    "                    print(\"SAE{}R{} = 0; \".format(l, jp), end='', file=of)\n",
    "                print(file=of)\n",
    "            if RS>1:\n",
    "                print(\"\\t\", end='', file=of)\n",
    "            print(\"\\t\\tend\", file=of)\n",
    "\n",
    "        if RS>1:\n",
    "            print(\"\\t\", end='', file=of)\n",
    "        print(\"\\t\\tendcase\", file=of)\n",
    "\n",
    "        for jj in range(j+1, PR): #last iteration, M!=RS*PR\n",
    "            if RS>1:\n",
    "                print(\"\\t\", end='', file=of)\n",
    "            print(\"\\t\\t\", end='', file=of)\n",
    "            for l in range(NMult):\n",
    "                print(\"SAE{}R{} = 0; \".format(l,jj), end='', file=of)\n",
    "            print(file=of)\n",
    "                                \n",
    "        if RS>1:\n",
    "            print(\"\\t\\tend\", file=of)\n",
    "            \n",
    "    if RS>1:\n",
    "        if (RS & (RS-1)) != 0: #check if RS is not power of 2\n",
    "            print(\"\\t\\tdefault: begin\".format(k), file=of)\n",
    "            for j in range(PR):\n",
    "                print(\"\\t\\t\\t\", end='', file=of)\n",
    "                for i in range(NMult):\n",
    "                    print(\"SAE{}R{} = 0; \".format(i, j), end='', file=of)\n",
    "                print(file=of)\n",
    "            print(\"\\t\\tend\", file=of)\n",
    "\n",
    "        print(\"\\t\\tendcase\", file=of)\n",
    "    print(\"\\tend\", file=of)\n",
    "    print(\"end\\n\", file=of)"
   ]
  },
  {
   "cell_type": "code",
   "execution_count": 32,
   "metadata": {},
   "outputs": [
    {
     "name": "stdout",
     "output_type": "stream",
     "text": [
      "always @(posedge clk) begin\n",
      "\tif(reset) begin\n",
      "\t\tcolumnSetOutNo <= 2;\n",
      "\tend\n",
      "\telse if(enable) begin\n",
      "\t\tif(earlyC0R0EReady) begin\n",
      "\t\t\tif(columnSetOutNo==2) begin\n",
      "\t\t\t\tcolumnSetOutNo <= 0;\n",
      "\t\t\tend\n",
      "\t\t\telse begin\n",
      "\t\t\t\tcolumnSetOutNo <= columnSetOutNo+1;\n",
      "\t\t\tend\n",
      "\t\tend\n",
      "\tend\n",
      "end\n",
      "\n"
     ]
    }
   ],
   "source": [
    "if(CS>1):\n",
    "    print(\"always @(posedge clk) begin\", file=of)\n",
    "    print(\"\\tif(reset) begin\", file=of)\n",
    "    print(\"\\t\\tcolumnSetOutNo <= {};\".format(CS-1), file=of)\n",
    "    print(\"\\tend\", file=of)\n",
    "    print(\"\\telse if(enable) begin\", file=of)\n",
    "    print(\"\\t\\tif(early\"+stc1+str1+\"EReady & (rowSetOutNo=={})) begin\".format(RS-1), file=of)\n",
    "    print(\"\\t\\t\\tif(columnSetOutNo=={}) begin\".format(CS-1), file=of)\n",
    "    print(\"\\t\\t\\t\\tcolumnSetOutNo <= 0;\", file=of)\n",
    "    print(\"\\t\\t\\tend\", file=of)\n",
    "    print(\"\\t\\t\\telse begin\", file=of)\n",
    "    if CS==2:\n",
    "        print(\"\\t\\t\\t\\tcolumnSetOutNo <= 1;\", file=of)\n",
    "    else:\n",
    "        print(\"\\t\\t\\t\\tcolumnSetOutNo <= columnSetOutNo+1;\", file=of)\n",
    "    print(\"\\t\\t\\tend\", file=of)\n",
    "    print(\"\\t\\tend\", file=of)\n",
    "    print(\"\\tend\", file=of)\n",
    "    print(\"end\\n\", file=of)"
   ]
  },
  {
   "cell_type": "code",
   "execution_count": 33,
   "metadata": {},
   "outputs": [
    {
     "name": "stdout",
     "output_type": "stream",
     "text": [
      "endmodule\n"
     ]
    }
   ],
   "source": [
    "print(\"endmodule\", file=of)"
   ]
  },
  {
   "cell_type": "code",
   "execution_count": 34,
   "metadata": {
    "collapsed": true
   },
   "outputs": [],
   "source": [
    "if __Print_To_File>0:\n",
    "    of.close()"
   ]
  }
 ],
 "metadata": {
  "kernelspec": {
   "display_name": "Python 3",
   "language": "python",
   "name": "python3"
  },
  "language_info": {
   "codemirror_mode": {
    "name": "ipython",
    "version": 3
   },
   "file_extension": ".py",
   "mimetype": "text/x-python",
   "name": "python",
   "nbconvert_exporter": "python",
   "pygments_lexer": "ipython3",
   "version": "3.6.3"
  }
 },
 "nbformat": 4,
 "nbformat_minor": 1
}
