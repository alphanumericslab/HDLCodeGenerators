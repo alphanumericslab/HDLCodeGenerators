{
 "cells": [
  {
   "cell_type": "code",
   "execution_count": null,
   "metadata": {
    "collapsed": true
   },
   "outputs": [],
   "source": [
    "#uses RegisteredMultiplier  - v1.0x"
   ]
  },
  {
   "cell_type": "code",
   "execution_count": 1,
   "metadata": {
    "collapsed": true
   },
   "outputs": [],
   "source": [
    "import sys\n",
    "import math\n",
    "import io"
   ]
  },
  {
   "cell_type": "code",
   "execution_count": 2,
   "metadata": {
    "collapsed": false
   },
   "outputs": [
    {
     "name": "stdout",
     "output_type": "stream",
     "text": [
      "Enter N: 14\n"
     ]
    }
   ],
   "source": [
    "#N>=2\n",
    "N = input('Enter N: ')"
   ]
  },
  {
   "cell_type": "code",
   "execution_count": 3,
   "metadata": {
    "collapsed": false
   },
   "outputs": [
    {
     "name": "stdout",
     "output_type": "stream",
     "text": [
      "Enter maximum size allowed for base adders (empty for 2): 4\n"
     ]
    }
   ],
   "source": [
    "#AdderSize>=2\n",
    "AdderSize = input('Enter maximum size allowed for base adders (empty for 2): ')"
   ]
  },
  {
   "cell_type": "code",
   "execution_count": 4,
   "metadata": {
    "collapsed": false
   },
   "outputs": [
    {
     "name": "stdout",
     "output_type": "stream",
     "text": [
      "Enter IN_WIDTH Default Value (empty for 10): \n"
     ]
    }
   ],
   "source": [
    "#IN_WIDTH>=1\n",
    "IN_WIDTH = input('Enter IN_WIDTH Default Value (empty for 10): ')"
   ]
  },
  {
   "cell_type": "code",
   "execution_count": 5,
   "metadata": {
    "collapsed": false
   },
   "outputs": [
    {
     "name": "stdout",
     "output_type": "stream",
     "text": [
      "Enter INPUT_REG_DEPTH Default Value (empty for 1): \n"
     ]
    }
   ],
   "source": [
    "#INPUT_REG_DEPTH>=0\n",
    "INPUT_REG_DEPTH = input('Enter INPUT_REG_DEPTH Default Value (empty for 1): ')"
   ]
  },
  {
   "cell_type": "code",
   "execution_count": 6,
   "metadata": {
    "collapsed": false
   },
   "outputs": [
    {
     "name": "stdout",
     "output_type": "stream",
     "text": [
      "Enter MULT_PIPE_DEPTH Default Value (empty for 1): \n"
     ]
    }
   ],
   "source": [
    "#MULT_PIPE_DEPTH>=0\n",
    "MULT_PIPE_DEPTH = input('Enter MULT_PIPE_DEPTH Default Value (empty for 1): ')"
   ]
  },
  {
   "cell_type": "code",
   "execution_count": 7,
   "metadata": {
    "collapsed": false
   },
   "outputs": [],
   "source": [
    "N = int(N)\n",
    "if(N<2):\n",
    "    N=2\n",
    "\n",
    "if not AdderSize:\n",
    "    AdderSize=2\n",
    "else:\n",
    "    AdderSize = int(AdderSize)\n",
    "    if AdderSize<2:\n",
    "        AdderSize=2\n",
    "    if AdderSize>N:\n",
    "        AdderSize=N\n",
    "\n",
    "if not IN_WIDTH:\n",
    "    IN_WIDTH=10\n",
    "else:\n",
    "    IN_WIDTH = int(IN_WIDTH)\n",
    "    if(IN_WIDTH<1):\n",
    "        IN_WIDTH=1\n",
    "\n",
    "if not INPUT_REG_DEPTH:\n",
    "    INPUT_REG_DEPTH=1\n",
    "else:\n",
    "    INPUT_REG_DEPTH = int(INPUT_REG_DEPTH)\n",
    "    if(INPUT_REG_DEPTH<0):\n",
    "        INPUT_REG_DEPTH=0\n",
    "\n",
    "if not MULT_PIPE_DEPTH:\n",
    "    MULT_PIPE_DEPTH=1\n",
    "else:\n",
    "    MULT_PIPE_DEPTH = int(MULT_PIPE_DEPTH)\n",
    "    if(MULT_PIPE_DEPTH<0):\n",
    "        MULT_PIPE_DEPTH=0"
   ]
  },
  {
   "cell_type": "code",
   "execution_count": null,
   "metadata": {
    "collapsed": true
   },
   "outputs": [],
   "source": [
    "ModuleName = \"DotProduct_{}_noHR_M_A{}\".format(N, AdderSize)"
   ]
  },
  {
   "cell_type": "code",
   "execution_count": 8,
   "metadata": {
    "collapsed": false
   },
   "outputs": [],
   "source": [
    "__Print_To_File = 0\n",
    "\n",
    "if __Print_To_File<=0:\n",
    "    of=sys.stdout\n",
    "else:\n",
    "    of=open(\"./\"+ModuleName+\".v\".format(N, AdderSize), 'w+')"
   ]
  },
  {
   "cell_type": "code",
   "execution_count": 9,
   "metadata": {
    "collapsed": false
   },
   "outputs": [
    {
     "name": "stdout",
     "output_type": "stream",
     "text": [
      "`timescale 1ns / 1ps\n",
      "\n",
      "module DotProduct_14_noHR_M_A4\n",
      "#(\n",
      "parameter IN_WIDTH = 10,\n",
      "parameter INPUT_REG_DEPTH = 1,\n",
      "parameter MULT_PIPE_DEPTH = 1\n",
      ")(\n",
      "input clk, reset, enable,\n",
      "input inReady,\n",
      "input signed [IN_WIDTH-1:0] A0, A1, A2, A3, A4, A5, A6, A7, A8, A9, A10, A11, A12, A13, \n",
      "input signed [IN_WIDTH-1:0] B0, B1, B2, B3, B4, B5, B6, B7, B8, B9, B10, B11, B12, B13, \n",
      "output outReady,\n",
      "output signed [(2*IN_WIDTH)+3:0] DP,\n",
      "output earlyOutReady\n",
      ");\n",
      "\n"
     ]
    }
   ],
   "source": [
    "print(\"`timescale 1ns / 1ps\\n\", file=of)\n",
    "print(\"module \"+ModuleName, file=of)\n",
    "print(\"#(\", file=of)\n",
    "print(\"parameter IN_WIDTH = {},\".format(IN_WIDTH), file=of)\n",
    "print(\"parameter INPUT_REG_DEPTH = {},\".format(INPUT_REG_DEPTH), file=of)\n",
    "print(\"parameter MULT_PIPE_DEPTH = {}\".format(MULT_PIPE_DEPTH), file=of)\n",
    "print(\")(\", file=of)\n",
    "print(\"input clk, reset, enable,\", file=of)\n",
    "print(\"input inReady,\", file=of)\n",
    "print(\"input signed [IN_WIDTH-1:0] \", end='', file=of)\n",
    "for i in range(N):\n",
    "    print(\"A{}, \".format(i), end='', file=of)\n",
    "print(file=of)\n",
    "print(\"input signed [IN_WIDTH-1:0] \", end='', file=of)\n",
    "for i in range(N):\n",
    "    print(\"B{}, \".format(i), end='', file=of)\n",
    "print(file=of)\n",
    "print(\"output outReady,\", file=of)\n",
    "lgn=math.ceil(math.log2(N))\n",
    "al=-1+lgn\n",
    "if al==0:\n",
    "    print(\"output signed [(2*IN_WIDTH):0] DP,\", file=of)\n",
    "elif al<0:\n",
    "    print(\"output signed [(2*IN_WIDTH){}:0] DP,\".format(al), file=of)\n",
    "else:\n",
    "    print(\"output signed [(2*IN_WIDTH)+{}:0] DP,\".format(al), file=of)\n",
    "print(\"output earlyOutReady\", file=of)\n",
    "print(\");\\n\", file=of)"
   ]
  },
  {
   "cell_type": "code",
   "execution_count": 10,
   "metadata": {
    "collapsed": false
   },
   "outputs": [],
   "source": [
    "AIBuf=io.StringIO()\n",
    "\n",
    "level=0\n",
    "\n",
    "nextElememtNo=N #remained\n",
    "sizeList=[]\n",
    "for i in range(N):\n",
    "    sizeList.append(1)\n",
    "\n",
    "RootList=[]\n",
    "for i in range(N):\n",
    "    RootList.append(i)\n",
    "AdditionalRegList=[]\n",
    "for i in range(N):\n",
    "    AdditionalRegList.append(0)\n",
    "    \n",
    "i=0\n",
    "new = N\n",
    "\n",
    "while 1:\n",
    "    #print(\"StartNextElememtNo = {}\".format(nextElememtNo))\n",
    "    if nextElememtNo==1:\n",
    "        break\n",
    "    if nextElememtNo<=AdderSize:\n",
    "        lastLevel=True\n",
    "    else:\n",
    "        lastLevel=False        \n",
    "    currentElememtNo = nextElememtNo\n",
    "    nextElememtNo=0\n",
    "    ORimp=False\n",
    "    RegEnableImp=False\n",
    "    while currentElememtNo>0:\n",
    "        if currentElememtNo >= AdderSize:\n",
    "            CurrentAdderSize = AdderSize\n",
    "            currentElememtNo -= AdderSize\n",
    "        else:\n",
    "            if not lastLevel:\n",
    "                CurrentAdderSize = 1\n",
    "                currentElememtNo -= 1\n",
    "            else:\n",
    "                CurrentAdderSize = currentElememtNo\n",
    "                currentElememtNo = 0\n",
    "        nextElememtNo=nextElememtNo+1\n",
    "        #print(\"nextElememtNo = {}\".format(nextElememtNo))\n",
    "        outSize=0\n",
    "        for k in range (i, i+CurrentAdderSize):\n",
    "            outSize+=sizeList[k]\n",
    "        sizeList.append(outSize)\n",
    "        if CurrentAdderSize==1: #just reg\n",
    "            root=RootList[i]\n",
    "            if root != -1:\n",
    "                RootList.append(i)\n",
    "                #print(root)\n",
    "                while root>=N:\n",
    "                    root=RootList[root]\n",
    "                    #print(root)\n",
    "                AdditionalRegList[root]+=1\n",
    "            else:\n",
    "                RootList.append(-1)\n",
    "            i+=1\n",
    "            RegEnableImp=True\n",
    "        else: #Generate a AdderSize Adder (maybe less size for last stage)\n",
    "            RootList.append(-1)\n",
    "            if not lastLevel:\n",
    "                if outSize==2: #outSize>=2\n",
    "                    AIBuf.write(\"wire signed [2*IN_WIDTH:0] M{};\\n\".format(new))\n",
    "                else:\n",
    "                    AIBuf.write(\"wire signed [2*IN_WIDTH+{}:0] M{};\\n\".format(math.ceil(math.log(outSize,2))-1, new))\n",
    "            inSizeL = math.ceil(math.log(sizeList[i],2))\n",
    "            #print(\"inSize = {}\".format(inSize))\n",
    "            rE = i+CurrentAdderSize\n",
    "            eSizeList=[]\n",
    "            finalRootList=[]\n",
    "            for k in range (i, rE):\n",
    "                curSizeL=math.ceil(math.log(sizeList[k],2))\n",
    "                eSizeL=inSizeL-curSizeL\n",
    "                eSizeList.append(eSizeL)\n",
    "                #print(\"esize = {}\".format(eSizeL))\n",
    "                root=RootList[k]\n",
    "                if root != -1:\n",
    "                    while root>=N:\n",
    "                        root=RootList[root]\n",
    "                else:\n",
    "                    root=k\n",
    "                finalRootList.append(root)\n",
    "                if eSizeL!=0:\n",
    "                    AIBuf.write(\"wire signed [2*IN_WIDTH\")\n",
    "                    if inSizeL!=1:\n",
    "                         AIBuf.write(\"+{}\".format(inSizeL-1, k))\n",
    "                    if(root<N):\n",
    "                        AIBuf.write(\":0] DPpart{}e = \".format(root))\n",
    "                    else:\n",
    "                        AIBuf.write(\":0] M{}e = \".format(root))\n",
    "                    AIBuf.write(\"{{\")\n",
    "                    AIBuf.write(\"{}\".format(eSizeL))\n",
    "                    AIBuf.write(\"{\")\n",
    "                    if(root<N):\n",
    "                        AIBuf.write(\"DPpart{}\".format(root))\n",
    "                    else:\n",
    "                        AIBuf.write(\"M{}\".format(root))\n",
    "                    AIBuf.write(\"[2*IN_WIDTH\".format(k))\n",
    "                    if curSizeL==0:\n",
    "                        AIBuf.write(\"-1\")\n",
    "                    elif curSizeL>1:\n",
    "                        AIBuf.write(\"+{}\".format(curSizeL-1))\n",
    "                    AIBuf.write(\"]}},\")\n",
    "                    if(root<N):\n",
    "                        AIBuf.write(\"DPpart{}\".format(root))\n",
    "                    else:\n",
    "                        AIBuf.write(\"M{}\".format(root))\n",
    "                    AIBuf.write(\"};\\n\")\n",
    "            AIBuf.write(\"Registered{}to1Adder_NIR #(.IN_WIDTH(2*IN_WIDTH\".format(CurrentAdderSize))\n",
    "            curSizeL=math.ceil(math.log(sizeList[i],2))\n",
    "            if inSizeL>0:\n",
    "                AIBuf.write(\"+{}\".format(inSizeL))\n",
    "            AIBuf.write(\"))\\nAdd{}(\\nclk, reset, enable,\\n\".format(new))\n",
    "            if level==0:\n",
    "                AIBuf.write(\"MOR,\\n\")\n",
    "            else:\n",
    "                AIBuf.write(\"ORAdd[{}],\\n\".format(level-1))\n",
    "            for k in range (i, rE):\n",
    "                if(finalRootList[k-i]<N):\n",
    "                    AIBuf.write(\"DPpart{}\".format(finalRootList[k-i]))\n",
    "                else:\n",
    "                    AIBuf.write(\"M{}\".format(finalRootList[k-i]))\n",
    "                if(eSizeList[k-i]!=0):\n",
    "                    AIBuf.write(\"e\");\n",
    "                AIBuf.write(\", \")\n",
    "            AIBuf.write(\"\\n\")\n",
    "            if lastLevel:\n",
    "                AIBuf.write(\"outReady,\\n\")\n",
    "            else:\n",
    "                if ORimp==False:\n",
    "                    AIBuf.write(\"ORAdd[{}],\\n\".format(level))\n",
    "                    ORimp=True\n",
    "                else:\n",
    "                    AIBuf.write(\"ORa{}, //not used\\n\".format(new))\n",
    "            if lastLevel:\n",
    "                AIBuf.write(\"DP,\\n\".format(new))\n",
    "            else:\n",
    "                AIBuf.write(\"M{},\\n\".format(new))\n",
    "            if lastLevel:\n",
    "                AIBuf.write(\"earlyOutReady);\\n\\n\")        \n",
    "            else :\n",
    "                AIBuf.write(\"aeor{}); //not used\\n\\n\".format(new))\n",
    "            i+=CurrentAdderSize\n",
    "        new+=1\n",
    "    level+=1\n",
    "\n",
    "#print(RootList)\n",
    "#print(AdditionalRegList)"
   ]
  },
  {
   "cell_type": "code",
   "execution_count": 11,
   "metadata": {
    "collapsed": false
   },
   "outputs": [
    {
     "name": "stdout",
     "output_type": "stream",
     "text": [
      "wire signed [(2*IN_WIDTH)-1:0] DPpart0, DPpart1, DPpart2, DPpart3, DPpart4, DPpart5, DPpart6, DPpart7, DPpart8, DPpart9, DPpart10, DPpart11, DPpart12, DPpart13;\n",
      "\n",
      "wire MOR;\n",
      "\n",
      "RegisteredMultiplier #(.IN_WIDTH(IN_WIDTH),\n",
      ".INPUT_REG_DEPTH(INPUT_REG_DEPTH),\n",
      ".MULT_PIPE_DEPTH(MULT_PIPE_DEPTH))\n",
      "M0(clk, reset, enable,\n",
      "inReady,\n",
      "A0, B0\n",
      "MOR,\n",
      "DPpart0,\n",
      "eMOR0 //not used);\n",
      "\n",
      "RegisteredMultiplier #(.IN_WIDTH(IN_WIDTH),\n",
      ".INPUT_REG_DEPTH(INPUT_REG_DEPTH),\n",
      ".MULT_PIPE_DEPTH(MULT_PIPE_DEPTH))\n",
      "M1(clk, reset, enable,\n",
      "inReady,\n",
      "A1, B1\n",
      "MOR1, //not used\n",
      "DPpart1,\n",
      "eMOR1 //not used);\n",
      "\n",
      "RegisteredMultiplier #(.IN_WIDTH(IN_WIDTH),\n",
      ".INPUT_REG_DEPTH(INPUT_REG_DEPTH),\n",
      ".MULT_PIPE_DEPTH(MULT_PIPE_DEPTH))\n",
      "M2(clk, reset, enable,\n",
      "inReady,\n",
      "A2, B2\n",
      "MOR2, //not used\n",
      "DPpart2,\n",
      "eMOR2 //not used);\n",
      "\n",
      "RegisteredMultiplier #(.IN_WIDTH(IN_WIDTH),\n",
      ".INPUT_REG_DEPTH(INPUT_REG_DEPTH),\n",
      ".MULT_PIPE_DEPTH(MULT_PIPE_DEPTH))\n",
      "M3(clk, reset, enable,\n",
      "inReady,\n",
      "A3, B3\n",
      "MOR3, //not used\n",
      "DPpart3,\n",
      "eMOR3 //not used);\n",
      "\n",
      "RegisteredMultiplier #(.IN_WIDTH(IN_WIDTH),\n",
      ".INPUT_REG_DEPTH(INPUT_REG_DEPTH),\n",
      ".MULT_PIPE_DEPTH(MULT_PIPE_DEPTH))\n",
      "M4(clk, reset, enable,\n",
      "inReady,\n",
      "A4, B4\n",
      "MOR4, //not used\n",
      "DPpart4,\n",
      "eMOR4 //not used);\n",
      "\n",
      "RegisteredMultiplier #(.IN_WIDTH(IN_WIDTH),\n",
      ".INPUT_REG_DEPTH(INPUT_REG_DEPTH),\n",
      ".MULT_PIPE_DEPTH(MULT_PIPE_DEPTH))\n",
      "M5(clk, reset, enable,\n",
      "inReady,\n",
      "A5, B5\n",
      "MOR5, //not used\n",
      "DPpart5,\n",
      "eMOR5 //not used);\n",
      "\n",
      "RegisteredMultiplier #(.IN_WIDTH(IN_WIDTH),\n",
      ".INPUT_REG_DEPTH(INPUT_REG_DEPTH),\n",
      ".MULT_PIPE_DEPTH(MULT_PIPE_DEPTH))\n",
      "M6(clk, reset, enable,\n",
      "inReady,\n",
      "A6, B6\n",
      "MOR6, //not used\n",
      "DPpart6,\n",
      "eMOR6 //not used);\n",
      "\n",
      "RegisteredMultiplier #(.IN_WIDTH(IN_WIDTH),\n",
      ".INPUT_REG_DEPTH(INPUT_REG_DEPTH),\n",
      ".MULT_PIPE_DEPTH(MULT_PIPE_DEPTH))\n",
      "M7(clk, reset, enable,\n",
      "inReady,\n",
      "A7, B7\n",
      "MOR7, //not used\n",
      "DPpart7,\n",
      "eMOR7 //not used);\n",
      "\n",
      "RegisteredMultiplier #(.IN_WIDTH(IN_WIDTH),\n",
      ".INPUT_REG_DEPTH(INPUT_REG_DEPTH),\n",
      ".MULT_PIPE_DEPTH(MULT_PIPE_DEPTH))\n",
      "M8(clk, reset, enable,\n",
      "inReady,\n",
      "A8, B8\n",
      "MOR8, //not used\n",
      "DPpart8,\n",
      "eMOR8 //not used);\n",
      "\n",
      "RegisteredMultiplier #(.IN_WIDTH(IN_WIDTH),\n",
      ".INPUT_REG_DEPTH(INPUT_REG_DEPTH),\n",
      ".MULT_PIPE_DEPTH(MULT_PIPE_DEPTH))\n",
      "M9(clk, reset, enable,\n",
      "inReady,\n",
      "A9, B9\n",
      "MOR9, //not used\n",
      "DPpart9,\n",
      "eMOR9 //not used);\n",
      "\n",
      "RegisteredMultiplier #(.IN_WIDTH(IN_WIDTH),\n",
      ".INPUT_REG_DEPTH(INPUT_REG_DEPTH),\n",
      ".MULT_PIPE_DEPTH(MULT_PIPE_DEPTH))\n",
      "M10(clk, reset, enable,\n",
      "inReady,\n",
      "A10, B10\n",
      "MOR10, //not used\n",
      "DPpart10,\n",
      "eMOR10 //not used);\n",
      "\n",
      "RegisteredMultiplier #(.IN_WIDTH(IN_WIDTH),\n",
      ".INPUT_REG_DEPTH(INPUT_REG_DEPTH),\n",
      ".MULT_PIPE_DEPTH(MULT_PIPE_DEPTH))\n",
      "M11(clk, reset, enable,\n",
      "inReady,\n",
      "A11, B11\n",
      "MOR11, //not used\n",
      "DPpart11,\n",
      "eMOR11 //not used);\n",
      "\n",
      "RegisteredMultiplier #(.IN_WIDTH(IN_WIDTH),\n",
      ".INPUT_REG_DEPTH(INPUT_REG_DEPTH+1),\n",
      ".MULT_PIPE_DEPTH(MULT_PIPE_DEPTH))\n",
      "M12(clk, reset, enable,\n",
      "inReady,\n",
      "A12, B12\n",
      "MOR12, //not used\n",
      "DPpart12,\n",
      "eMOR12 //not used);\n",
      "\n",
      "RegisteredMultiplier #(.IN_WIDTH(IN_WIDTH),\n",
      ".INPUT_REG_DEPTH(INPUT_REG_DEPTH+2),\n",
      ".MULT_PIPE_DEPTH(MULT_PIPE_DEPTH))\n",
      "M13(clk, reset, enable,\n",
      "inReady,\n",
      "A13, B13\n",
      "MOR13, //not used\n",
      "DPpart13,\n",
      "eMOR13 //not used);\n",
      "\n"
     ]
    }
   ],
   "source": [
    "print(\"wire signed [(2*IN_WIDTH)-1:0] \", end='', file=of)\n",
    "for i in range (N):    \n",
    "    print(\"DPpart{}\".format(i), end='', file=of)\n",
    "    if i==N-1:\n",
    "        print(\";\\n\", file=of)              \n",
    "    else:\n",
    "        print(\", \", end='', file=of)\n",
    "print(\"wire MOR;\", file=of)\n",
    "print(file=of)\n",
    "for i in range (N):\n",
    "    print(\"RegisteredMultiplier #(.IN_WIDTH(IN_WIDTH),\", file=of)\n",
    "    print(\".INPUT_REG_DEPTH(INPUT_REG_DEPTH\", end='', file=of)\n",
    "    IARD = AdditionalRegList[i];\n",
    "    if IARD!=0:\n",
    "         print(\"+{}\".format(IARD), end='', file=of)\n",
    "    print(\"),\\n.MULT_PIPE_DEPTH(MULT_PIPE_DEPTH))\", file=of)\n",
    "    print(\"M{}(clk, reset, enable,\".format(i), file=of)\n",
    "    print(\"inReady,\", file=of)\n",
    "    print(\"A{}, B{},\".format(i, i), file=of)\n",
    "    if i==0:\n",
    "        print(\"MOR,\", file=of)\n",
    "    else:\n",
    "        print(\"MOR{}, //not used\".format(i), file=of)\n",
    "    print(\"DPpart{},\".format(i), file=of)\n",
    "    print(\"eMOR{}); //not used\".format(i), file=of)\n",
    "    print(file=of)"
   ]
  },
  {
   "cell_type": "code",
   "execution_count": 12,
   "metadata": {
    "collapsed": false
   },
   "outputs": [
    {
     "name": "stdout",
     "output_type": "stream",
     "text": [
      "wire [0:1] ORAdd;\n",
      "\n",
      "wire signed [2*IN_WIDTH+1:0] M14;\n",
      "Registered4to1Adder_NIR #(.IN_WIDTH(2*IN_WIDTH))\n",
      "Add14(\n",
      "clk, reset, enable,\n",
      "MOR,\n",
      "DPpart0, DPpart1, DPpart2, DPpart3, \n",
      "ORAdd[0],\n",
      "M14,\n",
      "aeor14); //not used\n",
      "\n",
      "wire signed [2*IN_WIDTH+1:0] M15;\n",
      "Registered4to1Adder_NIR #(.IN_WIDTH(2*IN_WIDTH))\n",
      "Add15(\n",
      "clk, reset, enable,\n",
      "MOR,\n",
      "DPpart4, DPpart5, DPpart6, DPpart7, \n",
      "ORa15, //not used\n",
      "M15,\n",
      "aeor15); //not used\n",
      "\n",
      "wire signed [2*IN_WIDTH+1:0] M16;\n",
      "Registered4to1Adder_NIR #(.IN_WIDTH(2*IN_WIDTH))\n",
      "Add16(\n",
      "clk, reset, enable,\n",
      "MOR,\n",
      "DPpart8, DPpart9, DPpart10, DPpart11, \n",
      "ORa16, //not used\n",
      "M16,\n",
      "aeor16); //not used\n",
      "\n",
      "wire signed [2*IN_WIDTH+3:0] M19;\n",
      "wire signed [2*IN_WIDTH+1:0] DPpart12e = {{2{DPpart12[2*IN_WIDTH-1]}},DPpart12};\n",
      "Registered4to1Adder_NIR #(.IN_WIDTH(2*IN_WIDTH+2))\n",
      "Add19(\n",
      "clk, reset, enable,\n",
      "ORAdd[0],\n",
      "M14, M15, M16, DPpart12e, \n",
      "ORAdd[1],\n",
      "M19,\n",
      "aeor19); //not used\n",
      "\n",
      "wire signed [2*IN_WIDTH+3:0] DPpart13e = {{4{DPpart13[2*IN_WIDTH-1]}},DPpart13};\n",
      "Registered2to1Adder_NIR #(.IN_WIDTH(2*IN_WIDTH+4))\n",
      "Add21(\n",
      "clk, reset, enable,\n",
      "ORAdd[1],\n",
      "M19, DPpart13e, \n",
      "outReady,\n",
      "DP,\n",
      "earlyOutReady);\n",
      "\n"
     ]
    }
   ],
   "source": [
    "if level>1:\n",
    "    print(\"wire [0:{}] ORAdd;\\n\".format(level-2), file=of)\n",
    "print(AIBuf.getvalue(), end='',file=of)"
   ]
  },
  {
   "cell_type": "code",
   "execution_count": 13,
   "metadata": {
    "collapsed": false
   },
   "outputs": [
    {
     "name": "stdout",
     "output_type": "stream",
     "text": [
      "endmodule\n"
     ]
    }
   ],
   "source": [
    "print(\"endmodule\", file=of)"
   ]
  },
  {
   "cell_type": "code",
   "execution_count": 14,
   "metadata": {
    "collapsed": true
   },
   "outputs": [],
   "source": [
    "if __Print_To_File>0:\n",
    "    of.close()"
   ]
  }
 ],
 "metadata": {
  "kernelspec": {
   "display_name": "Python 3",
   "language": "python",
   "name": "python3"
  },
  "language_info": {
   "codemirror_mode": {
    "name": "ipython",
    "version": 3
   },
   "file_extension": ".py",
   "mimetype": "text/x-python",
   "name": "python",
   "nbconvert_exporter": "python",
   "pygments_lexer": "ipython3",
   "version": "3.5.1"
  }
 },
 "nbformat": 4,
 "nbformat_minor": 0
}
