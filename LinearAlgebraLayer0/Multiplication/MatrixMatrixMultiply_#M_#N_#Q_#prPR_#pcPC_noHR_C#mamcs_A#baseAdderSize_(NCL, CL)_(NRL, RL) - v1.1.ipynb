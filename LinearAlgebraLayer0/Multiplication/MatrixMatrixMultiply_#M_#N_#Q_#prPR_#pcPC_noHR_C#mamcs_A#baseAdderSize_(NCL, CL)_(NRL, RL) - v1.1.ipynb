{
 "cells": [
  {
   "cell_type": "code",
   "execution_count": 1,
   "metadata": {},
   "outputs": [],
   "source": [
    "#uses MatrixVectorMultiply_#M_#N_#prPR_noHR_C#mamcs_A#baseAdderSize(_NVL, VL) - v2.5"
   ]
  },
  {
   "cell_type": "code",
   "execution_count": 2,
   "metadata": {},
   "outputs": [],
   "source": [
    "import sys\n",
    "import math"
   ]
  },
  {
   "cell_type": "code",
   "execution_count": 3,
   "metadata": {},
   "outputs": [
    {
     "name": "stdout",
     "output_type": "stream",
     "text": [
      "Enter M: 10\n"
     ]
    }
   ],
   "source": [
    "#M>=1\n",
    "M = input('Enter M: ')"
   ]
  },
  {
   "cell_type": "code",
   "execution_count": 4,
   "metadata": {},
   "outputs": [
    {
     "name": "stdout",
     "output_type": "stream",
     "text": [
      "Enter N: 12\n"
     ]
    }
   ],
   "source": [
    "#N>=1\n",
    "N = input('Enter N: ')"
   ]
  },
  {
   "cell_type": "code",
   "execution_count": 5,
   "metadata": {},
   "outputs": [
    {
     "name": "stdout",
     "output_type": "stream",
     "text": [
      "Enter Q: 10\n"
     ]
    }
   ],
   "source": [
    "#Q>=1\n",
    "Q = input('Enter Q: ')"
   ]
  },
  {
   "cell_type": "code",
   "execution_count": 6,
   "metadata": {},
   "outputs": [
    {
     "name": "stdout",
     "output_type": "stream",
     "text": [
      "Enter No Of Parallel Row (empty for 1): 10\n"
     ]
    }
   ],
   "source": [
    "#>=1, <=M\n",
    "PR = input('Enter No Of Parallel Row (empty for 1): ')"
   ]
  },
  {
   "cell_type": "code",
   "execution_count": 7,
   "metadata": {},
   "outputs": [
    {
     "name": "stdout",
     "output_type": "stream",
     "text": [
      "Enter No Of Parallel Column (empty for 1): 10\n"
     ]
    }
   ],
   "source": [
    "#>=1, <=Q\n",
    "PC = input('Enter No Of Parallel Column (empty for 1): ')"
   ]
  },
  {
   "cell_type": "code",
   "execution_count": 8,
   "metadata": {},
   "outputs": [],
   "source": [
    "M = int(M)\n",
    "if(M<1):\n",
    "    M=1\n",
    "\n",
    "N = int(N)\n",
    "if(N<1):\n",
    "    N=1\n",
    "\n",
    "Q = int(Q)\n",
    "if(Q<1):\n",
    "    Q=1\n",
    "\n",
    "if not PR:\n",
    "    PR=1\n",
    "else:\n",
    "    PR = int(PR)\n",
    "    if PR>M:\n",
    "        PR = M\n",
    "\n",
    "if not PC:\n",
    "    PC=1\n",
    "else:\n",
    "    PC = int(PC)\n",
    "    if PC>Q:\n",
    "        PC = Q"
   ]
  },
  {
   "cell_type": "code",
   "execution_count": 9,
   "metadata": {},
   "outputs": [
    {
     "name": "stdout",
     "output_type": "stream",
     "text": [
      "Enter Multiply-Add Max Component Size (empty for 12): \n"
     ]
    }
   ],
   "source": [
    "#MAMCS>=1\n",
    "MAMCS = input('Enter Multiply-Add Max Component Size (empty for {}): '.format(N))"
   ]
  },
  {
   "cell_type": "code",
   "execution_count": 10,
   "metadata": {},
   "outputs": [],
   "source": [
    "if not MAMCS:\n",
    "    MAMCS = N\n",
    "else:\n",
    "    MAMCS = int(MAMCS)\n",
    "    if MAMCS>N:\n",
    "        MAMCS = N;\n",
    "    elif(MAMCS<1):\n",
    "        MAMCS=1\n",
    "        "
   ]
  },
  {
   "cell_type": "code",
   "execution_count": 11,
   "metadata": {},
   "outputs": [],
   "source": [
    "#AdderSize>=2\n",
    "if MAMCS<N:\n",
    "    AdderSize = input('Enter maximum size allowed for base adders (empty for 2): ')"
   ]
  },
  {
   "cell_type": "code",
   "execution_count": 12,
   "metadata": {},
   "outputs": [],
   "source": [
    "RS=math.ceil(M/PR)"
   ]
  },
  {
   "cell_type": "code",
   "execution_count": 13,
   "metadata": {},
   "outputs": [],
   "source": [
    "if RS>1:\n",
    "    Enable_Column_Latch = input('Enable Column Latch? (empty or 0 to disable, 1 to enable): ')"
   ]
  },
  {
   "cell_type": "code",
   "execution_count": 14,
   "metadata": {},
   "outputs": [],
   "source": [
    "CS=math.ceil(Q/PC)"
   ]
  },
  {
   "cell_type": "code",
   "execution_count": 15,
   "metadata": {},
   "outputs": [],
   "source": [
    "if CS>1:\n",
    "    Enable_Row_Latch = input('Enable Row Latch? (empty or 0 to disable, 1 to enable): ')"
   ]
  },
  {
   "cell_type": "code",
   "execution_count": 16,
   "metadata": {},
   "outputs": [
    {
     "name": "stdout",
     "output_type": "stream",
     "text": [
      "Enter IN_WIDTH default value (empty for 10): 16\n"
     ]
    }
   ],
   "source": [
    "#IN_WIDTH>=1\n",
    "IN_WIDTH = input('Enter IN_WIDTH default value (empty for 10): ')"
   ]
  },
  {
   "cell_type": "code",
   "execution_count": 17,
   "metadata": {},
   "outputs": [
    {
     "name": "stdout",
     "output_type": "stream",
     "text": [
      "Enter INPUT_REG_DEPTH default value (empty for 1): \n"
     ]
    }
   ],
   "source": [
    "#INPUT_REG_DEPTH>=0\n",
    "INPUT_REG_DEPTH = input('Enter INPUT_REG_DEPTH default value (empty for 1): ')"
   ]
  },
  {
   "cell_type": "code",
   "execution_count": 18,
   "metadata": {},
   "outputs": [
    {
     "name": "stdout",
     "output_type": "stream",
     "text": [
      "Enter MULT_PIPE_DEPTH default value (empty for 1): \n"
     ]
    }
   ],
   "source": [
    "#MULT_PIPE_DEPTH>=0\n",
    "MULT_PIPE_DEPTH = input('Enter MULT_PIPE_DEPTH default value (empty for 1): ')"
   ]
  },
  {
   "cell_type": "code",
   "execution_count": 19,
   "metadata": {},
   "outputs": [],
   "source": [
    "NumOfComponents = math.ceil(N/MAMCS)\n",
    "if MAMCS==N:\n",
    "    AdderSize=0\n",
    "else:\n",
    "    if not AdderSize:\n",
    "        AdderSize=2\n",
    "    else:\n",
    "        AdderSize = int(AdderSize)\n",
    "        if AdderSize<2:\n",
    "            AdderSize=2\n",
    "        if AdderSize>NumOfComponents:\n",
    "            AdderSize=NumOfComponents\n",
    "\n",
    "if RS==1:\n",
    "    Enable_Column_Latch = 0;\n",
    "else:\n",
    "    if not Enable_Column_Latch:\n",
    "        Enable_Column_Latch = 0\n",
    "    else:\n",
    "        Enable_Column_Latch = int(Enable_Column_Latch)\n",
    "\n",
    "if CS==1:\n",
    "    Enable_Row_Latch = 0;\n",
    "else:\n",
    "    if not Enable_Row_Latch:\n",
    "        Enable_Row_Latch = 0\n",
    "    else:\n",
    "        Enable_Row_Latch = int(Enable_Row_Latch)\n",
    "\n",
    "if not IN_WIDTH:\n",
    "    IN_WIDTH=10\n",
    "else:\n",
    "    IN_WIDTH = int(IN_WIDTH)\n",
    "    if(IN_WIDTH<1):\n",
    "        IN_WIDTH=1\n",
    "\n",
    "if not INPUT_REG_DEPTH:\n",
    "    INPUT_REG_DEPTH=1\n",
    "else:\n",
    "    INPUT_REG_DEPTH = int(INPUT_REG_DEPTH)\n",
    "    if(INPUT_REG_DEPTH<0):\n",
    "        INPUT_REG_DEPTH=0\n",
    "\n",
    "if not MULT_PIPE_DEPTH:\n",
    "    MULT_PIPE_DEPTH=1\n",
    "else:\n",
    "    MULT_PIPE_DEPTH = int(MULT_PIPE_DEPTH)\n",
    "    if(MULT_PIPE_DEPTH<0):\n",
    "        MULT_PIPE_DEPTH=0"
   ]
  },
  {
   "cell_type": "code",
   "execution_count": 20,
   "metadata": {},
   "outputs": [],
   "source": [
    "    ModuleName=\"MatrixMatrixMultiply_{}_{}_{}_{}PR_{}PC_noHR_C{}_A{}_\".format(M, N, Q, PR, PC, MAMCS, AdderSize)\n",
    "    if Enable_Column_Latch<=0:\n",
    "        ModuleName+=\"N\"\n",
    "    ModuleName+=\"CL_\"\n",
    "    if Enable_Row_Latch<=0:\n",
    "        ModuleName+=\"N\"        \n",
    "    ModuleName+=\"RL.v\""
   ]
  },
  {
   "cell_type": "code",
   "execution_count": 21,
   "metadata": {},
   "outputs": [],
   "source": [
    "__Print_To_File = 1\n",
    "\n",
    "if __Print_To_File<=0:\n",
    "    of=sys.stdout\n",
    "else:\n",
    "    #of=open(\"./\"+ModuleName+\".v\", 'w+')\n",
    "    of=open(\"./\"+ModuleName+\".v\", 'w+')"
   ]
  },
  {
   "cell_type": "code",
   "execution_count": 22,
   "metadata": {
    "scrolled": true
   },
   "outputs": [],
   "source": [
    "print(\"`timescale 1ns / 1ps\\n\", file=of)\n",
    "print(\"module \"+ModuleName, file=of)\n",
    "print(\"#(\", file=of)\n",
    "print(\"parameter IN_WIDTH = {},\".format(IN_WIDTH), file=of)\n",
    "print(\"parameter INPUT_REG_DEPTH = {},\".format(INPUT_REG_DEPTH), file=of)\n",
    "print(\"parameter MULT_PIPE_DEPTH = {}\".format(MULT_PIPE_DEPTH), file=of)\n",
    "print(\")(\", file=of)\n",
    "print(\"input clk, reset, enable,\", file=of)\n",
    "lgRS=math.ceil(math.log2(RS))\n",
    "if lgRS<=1:\n",
    "    print(\"output rowSetInNo,\", file=of)\n",
    "else:\n",
    "    print(\"output [{}:0] rowSetInNo,\".format(lgRS-1), file=of)\n",
    "lgCS=math.ceil(math.log2(CS))\n",
    "if lgCS<=1:\n",
    "    print(\"output reg columnSetInNo = 0,\", file=of)\n",
    "else:\n",
    "    print(\"output reg [{}:0] columnSetInNo = 0,\".format(lgCS-1), file=of)\n",
    "print(\"input inReady,\", file=of)\n",
    "print(\"input signed [IN_WIDTH-1:0] \", end='', file=of)\n",
    "for i in range(PR):\n",
    "    for j in range(N):\n",
    "        print(\"AE{}R{}, \".format(j, i), end='', file=of)\n",
    "    print(file=of)\n",
    "print(\"input signed [IN_WIDTH-1:0] \", end='', file=of)\n",
    "for i in range(PC):\n",
    "    for j in range(N):\n",
    "        print(\"BE{}C{}, \".format(j, i), end='', file=of)\n",
    "    print(file=of)\n",
    "ac=CS*PC-Q\n",
    "QE = PC-ac-1\n",
    "if QE==0:\n",
    "    stc1=\"C0\"\n",
    "else:\n",
    "    stc1=\"C0toC{}\".format(QE)\n",
    "if QE==(PC-2):\n",
    "    stc2=\"C{}\".format(PC-1)\n",
    "else:\n",
    "    stc2=\"C{}toC{}\".format(QE+1, PC-1)\n",
    "ar=RS*PR-M\n",
    "ME = PR-ar-1\n",
    "if ME==0:\n",
    "    str1=\"R0\"\n",
    "else:\n",
    "    str1=\"R0toR{}\".format(ME)\n",
    "if ME==(PR-2):\n",
    "    str2=\"R{}\".format(PR-1)\n",
    "else:\n",
    "    str2=\"R{}toR{}\".format(ME+1, PR-1)\n",
    "print(\"output \", end='', file=of)\n",
    "print(stc1, end='', file=of)\n",
    "print(str1, end='', file=of)\n",
    "print(\"EReady,\", file=of)\n",
    "if ar!=0:\n",
    "    print(\"output \", end='', file=of)\n",
    "    print(stc1, end='', file=of)\n",
    "    print(str2, end='', file=of)\n",
    "    print(\"EReady,\", file=of)\n",
    "else:\n",
    "    print(\"output reg NUEReady1 = 0, //not used\", file=of)\n",
    "if ac!=0:\n",
    "    print(\"output \", end='', file=of)\n",
    "    print(stc2, end='', file=of)\n",
    "    print(str1, end='', file=of)\n",
    "    print(\"EReady,\", file=of)\n",
    "    if ar!=0:\n",
    "        print(\"output \", end='', file=of)\n",
    "        print(stc2, end='', file=of)\n",
    "        print(str2, end='', file=of)\n",
    "        print(\"EReady,\", file=of)\n",
    "    else:\n",
    "        print(\"output reg NUEReady2 = 0, //not used\", file=of)\n",
    "else:\n",
    "    print(\"output reg NUEReady2 = 0, //not used\", file=of)\n",
    "    print(\"output reg NUEReady3 = 0, //not used\", file=of)\n",
    "if lgRS<=1:\n",
    "    print(\"output rowSetOutNo,\", file=of)\n",
    "else:\n",
    "    print(\"output [{}:0] rowSetOutNo,\".format(lgRS-1), file=of)\n",
    "if lgCS<=1:\n",
    "    print(\"output reg columnSetOutNo = {},\".format(CS-1), file=of)\n",
    "else:\n",
    "    print(\"output reg [{}:0] columnSetOutNo = {},\".format(lgCS-1, CS-1), file=of)\n",
    "lgN=math.ceil(math.log2(N))\n",
    "al=-1+lgN\n",
    "if al==0:\n",
    "    print(\"output signed [(2*IN_WIDTH):0] \", end='',file=of)\n",
    "elif al<0:\n",
    "    print(\"output signed [(2*IN_WIDTH){}:0] \".format(al), end='',file=of)\n",
    "else:\n",
    "    print(\"output signed [(2*IN_WIDTH)+{}:0] \".format(al), end='',file=of)\n",
    "for i in range(PC):\n",
    "    for j in range(PR):\n",
    "        print(\"EC{}R{}, \".format(i, j), end='',file=of)\n",
    "print(file=of)\n",
    "print(\"output early\", end='', file=of)\n",
    "print(stc1, end='', file=of)\n",
    "print(str1, end='', file=of)\n",
    "print(\"EReady,\", file=of)\n",
    "if ar!=0:\n",
    "    print(\"output early\", end='', file=of)\n",
    "    print(stc1, end='', file=of)\n",
    "    print(str2, end='', file=of)\n",
    "    print(\"EReady,\", file=of)\n",
    "else:\n",
    "    print(\"output reg NUeEReady1 = 0, //not used\", file=of)\n",
    "if ac!=0:\n",
    "    print(\"output early\", end='', file=of)\n",
    "    print(stc2, end='', file=of)\n",
    "    print(str1, end='', file=of)\n",
    "    print(\"EReady,\", file=of)\n",
    "    if ar!=0:\n",
    "        print(\"output early\", end='', file=of)\n",
    "        print(stc2, end='', file=of)\n",
    "        print(str2, end='', file=of)\n",
    "        print(\"EReady\", file=of)\n",
    "    else:\n",
    "        print(\"output reg NUeEReady2 = 0 //not used\", file=of)\n",
    "else:\n",
    "    print(\"output reg NUeEReady2 = 0, //not used\", file=of)\n",
    "    print(\"output reg NUeEReady3 = 0 //not used\", file=of)\n",
    "print(\");\\n\", file=of)"
   ]
  },
  {
   "cell_type": "code",
   "execution_count": 23,
   "metadata": {},
   "outputs": [],
   "source": [
    "if Enable_Row_Latch>0:\n",
    "    for j in range(PR):\n",
    "        print(\"reg signed [IN_WIDTH-1:0] \", end='', file=of)\n",
    "        for i in range(N-1):\n",
    "            print(\"SAE{}R{}, \".format(i, j), end='', file=of)\n",
    "        print(\"SAE{}R{};\".format(N-1, j), file=of)\n",
    "    print(file=of)"
   ]
  },
  {
   "cell_type": "code",
   "execution_count": 24,
   "metadata": {},
   "outputs": [],
   "source": [
    "if Enable_Row_Latch<=0 or Enable_Column_Latch<=0:\n",
    "    print(\"wire inReadyC = inReady;\", file=of)\n",
    "    print(\"wire gettingIn = 1; //for simulation\", file=of)\n",
    "else: #Enable_Row_Latch>0 and Enable_Column_Latch>0\n",
    "    print(\"wire inCC = (columnSetInNo!=0) & (rowSetInNo!=0);\", file=of)\n",
    "    print(\"wire inReadyC = inReady | inCC;\", file=of)\n",
    "    print(\"wire gettingIn = ~inCC; //for simulation\", file=of) # ~inCC : (columnSetInNo==0) | (rowSetInNo==0)"
   ]
  },
  {
   "cell_type": "code",
   "execution_count": 25,
   "metadata": {},
   "outputs": [],
   "source": [
    "if(ac!=0): #CS*PC > Q, CS>=2\n",
    "    print(\"wire inReadyC2 = (columnSetInNo!={}) & inReadyC;\".format(CS-1), file=of)\n",
    "    print(file=of)\n",
    "\n",
    "for i in range (PC):\n",
    "    if Enable_Column_Latch>0:\n",
    "        print(\"MatrixVectorMultiply_{}_{}_{}PR_noHR_C{}_A{}_VL#( .IN_WIDTH(IN_WIDTH), .INPUT_REG_DEPTH(INPUT_REG_DEPTH), .MULT_PIPE_DEPTH(MULT_PIPE_DEPTH) )\".format(M, N, PR, MAMCS, AdderSize), file=of)\n",
    "    else:\n",
    "        print(\"MatrixVectorMultiply_{}_{}_{}PR_noHR_C{}_A{}_NVL#( .IN_WIDTH(IN_WIDTH), .INPUT_REG_DEPTH(INPUT_REG_DEPTH), .MULT_PIPE_DEPTH(MULT_PIPE_DEPTH) )\".format(M, N, PR, MAMCS, AdderSize), file=of)\n",
    "    print(\"MVM_{}(clk, reset, enable,\".format(i), file=of)\n",
    "    if i==0:\n",
    "        print(\"rowSetInNo,\", file=of)        \n",
    "    else:\n",
    "        print(\"LLrowSetInNo{}, //not used\".format(i), file=of)\n",
    "    if(PC-i<=ac):\n",
    "        print(\"inReadyC2,\", file=of)\n",
    "    else:\n",
    "        print(\"inReadyC,\", file=of)\n",
    "    for j in range(PR):\n",
    "        if Enable_Row_Latch>0:\n",
    "            for k in range(N):\n",
    "                print(\"SAE{}R{}, \".format(k, j), end='', file=of)\n",
    "        else:\n",
    "            for k in range(N):#this line thorwes the error for not existing k so i chanjed the inner loop var to k.(delavar)\n",
    "                print(\"AE{}R{}, \".format(k, j), end='', file=of)\n",
    "        print(file=of)\n",
    "    for j in range(N):\n",
    "        print(\"BE{}C{}, \".format(j, i), end='', file=of)\n",
    "    print(file=of)\n",
    "    if i==0:\n",
    "        print(stc1+str1+\"EReady,\", file=of)\n",
    "        if ar!=0:\n",
    "            print(stc1+str2+\"EReady,\", file=of)\n",
    "        else:\n",
    "            print(\"LLMVMoutReadyA{}, //not used\".format(i), file=of)\n",
    "    elif i==PC-ac:\n",
    "        print(stc2+str1+\"EReady,\", file=of)\n",
    "        if ar!=0:\n",
    "            print(stc2+str2+\"EReady,\", file=of)\n",
    "        else:\n",
    "            print(\"LLMVMoutReadyCA{}, //not used\".format(i), file=of)\n",
    "    else:\n",
    "        print(\"LLMVMoutReady{}, //not used\".format(i), file=of)\n",
    "        print(\"LLMVMoutReadyA{}, //not used\".format(i), file=of)\n",
    "    if i==0:\n",
    "        print(\"rowSetOutNo,\", file=of)\n",
    "    else:\n",
    "        print(\"LLrowSetOutNo{}, //not used\".format(i), file=of)\n",
    "    for j in range(PR):\n",
    "        print(\"EC{}R{},\".format(i, j), file=of)\n",
    "    if i==0:\n",
    "        print(\"early\"+stc1+str1+\"EReady,\", file=of)\n",
    "        if ar!=0:\n",
    "            print(\"early\"+stc1+str2+\"EReady\", file=of)\n",
    "        else:\n",
    "            print(\"LLMVMearlyOutReadyA{} //not used\".format(i), file=of)\n",
    "    elif i==PC-ac:\n",
    "        print(\"early\"+stc2+str1+\"EReady,\", file=of)\n",
    "        if ar!=0:\n",
    "            print(\"early\"+stc2+str2+\"EReady\", file=of)\n",
    "        else:\n",
    "            print(\"LLMVMearlyOutReadyCA{} //not used\".format(i), file=of)\n",
    "    else:\n",
    "        print(\"LLMVMearlyOutReady{},\".format(i), file=of)\n",
    "        print(\"LLMVMearlyOutReadyA{} //not used\".format(i), file=of)\n",
    "    print(\");\", file=of)\n",
    "    print(file=of)"
   ]
  },
  {
   "cell_type": "code",
   "execution_count": 26,
   "metadata": {},
   "outputs": [],
   "source": [
    "if(CS>1):\n",
    "    if Enable_Row_Latch>0:\n",
    "        for j in range(M):\n",
    "            print(\"reg signed [IN_WIDTH-1:0] \", end='', file=of)\n",
    "            for i in range(N-1):\n",
    "                print(\"LAE{}R{}, \".format(i, j), end='', file=of)\n",
    "            print(\"LAE{}R{};\".format(N-1, j), file=of)\n",
    "        print(file=of)\n",
    "    print(\"always @(posedge clk) begin\", file=of)\n",
    "    print(\"\\tif(reset) begin\", file=of)\n",
    "    print(\"\\t\\tcolumnSetInNo <= 0;\", file=of)\n",
    "    print(\"\\tend\", file=of)\n",
    "    print(\"\\telse if(enable) begin\", file=of)\n",
    "        \n",
    "    print(\"\\t\\tif(\", end='', file=of)\n",
    "    if(RS==1):\n",
    "        print(\"inReady\".format(HRR-1), end='', file=of)\n",
    "    else:\n",
    "        if Enable_Row_Latch<=0 or Enable_Column_Latch<=0:\n",
    "            print(\"(rowSetInNo=={}) & inReady\".format(RS-1), end='', file=of)\n",
    "        else:\n",
    "            print(\"(rowSetInNo=={}) & (inReady | (columnSetInNo!=0))\".format(RS-1), end='', file=of)\n",
    "    print(\") begin\", file=of)    \n",
    "    \n",
    "    print(\"\\t\\t\\tif(columnSetInNo=={}) begin\".format(CS-1), file=of)\n",
    "    print(\"\\t\\t\\t\\tcolumnSetInNo <= 0;\", file=of)\n",
    "    print(\"\\t\\t\\tend\", file=of)\n",
    "    print(\"\\t\\t\\telse begin\", file=of)\n",
    "    if CS==2:\n",
    "        print(\"\\t\\t\\t\\tcolumnSetInNo <= 1;\", file=of)\n",
    "    else:\n",
    "        print(\"\\t\\t\\t\\tcolumnSetInNo <= columnSetInNo+1;\", file=of)\n",
    "    print(\"\\t\\t\\tend\", file=of)\n",
    "    print(\"\\t\\tend\", file=of)\n",
    "    if Enable_Row_Latch>0:\n",
    "        print(\"\\t\\tif(inReady & (columnSetInNo==0)) begin\", file=of)\n",
    "        if RS>1:\n",
    "            print(\"\\t\\t\\tcase(rowSetInNo)\", file=of)\n",
    "        for k in range(RS):\n",
    "            if RS>1:\n",
    "                print(\"\\t\\t\\t{}: begin\".format(k), file=of)\n",
    "            t=k*PR-1\n",
    "            for j in range(PR):\n",
    "                t=t+1\n",
    "                if RS>1:\n",
    "                    print(\"\\t\", end='', file=of)\n",
    "                print(\"\\t\\t\\t\", end='', file=of)\n",
    "                for i in range(N):\n",
    "                    print(\"LAE{}R{} <= AE{}R{}; \".format(i, t, i, j), end='', file=of)\n",
    "                print(file=of)\n",
    "                if t==M-1:\n",
    "                    break\n",
    "            if RS>1:\n",
    "                print(\"\\t\\t\\tend\", file=of)\n",
    "        if RS>1:\n",
    "            print(\"\\t\\t\\tendcase\", file=of)\n",
    "        print(\"\\t\\tend\", file=of)\n",
    "    print(\"\\tend\", file=of)\n",
    "    print(\"end\\n\", file=of)"
   ]
  },
  {
   "cell_type": "code",
   "execution_count": 27,
   "metadata": {},
   "outputs": [],
   "source": [
    "if Enable_Row_Latch>0:\n",
    "    print(\"always @(*) begin\", file=of)\n",
    "    print(\"\\tif(columnSetInNo==0) begin\", file=of)\n",
    "    \n",
    "    for j in range(PR):\n",
    "        print(\"\\t\\t\", end='', file=of)\n",
    "        for i in range(N):\n",
    "            print(\"SAE{}R{} = AE{}R{}; \".format(i, j, i, j), end='', file=of)\n",
    "        print(file=of)\n",
    "\n",
    "    print(\"\\tend\", file=of)\n",
    "    print(\"\\telse begin\", file=of)\n",
    "    \n",
    "    if RS>1:\n",
    "        print(\"\\t\\tcase(rowSetInNo)\", file=of)\n",
    "    for k in range(RS):\n",
    "        if RS>1:\n",
    "            print(\"\\t\\t{}: begin\".format(k), file=of)\n",
    "        for j in range(PR):\n",
    "            t=k*PR+j\n",
    "            if t<M:\n",
    "                if RS>1:\n",
    "                    print(\"\\t\", end='', file=of)\n",
    "                print(\"\\t\\t\", end='', file=of)\n",
    "                for i in range(N):\n",
    "                    print(\"SAE{}R{} = LAE{}R{}; \".format(i, j, i, t), end='', file=of)\n",
    "                print(file=of)\n",
    "            else: #RS>1\n",
    "                print(\"\\t\\t\\t\", end='', file=of)\n",
    "                for i in range(N):\n",
    "                    print(\"SAE{}R{} = 0; \".format(i, j), end='', file=of)\n",
    "                print(file=of)\n",
    "        if RS>1:\n",
    "            print(\"\\t\\tend\", file=of)\n",
    "    if RS>1:\n",
    "        if (RS & (RS-1)) != 0: #check if RS is not power of 2\n",
    "            print(\"\\t\\tdefault: begin\".format(k), file=of)\n",
    "            for j in range(PR):\n",
    "                print(\"\\t\\t\\t\", end='', file=of)\n",
    "                for i in range(N):\n",
    "                    print(\"SAE{}R{} = 0; \".format(i, j), end='', file=of)\n",
    "                print(file=of)\n",
    "            print(\"\\t\\tend\", file=of)\n",
    "        print(\"\\t\\tendcase\", file=of)\n",
    "    print(\"\\tend\", file=of)\n",
    "    print(\"end\\n\", file=of)"
   ]
  },
  {
   "cell_type": "code",
   "execution_count": 28,
   "metadata": {},
   "outputs": [],
   "source": [
    "if(CS>1):\n",
    "    print(\"always @(posedge clk) begin\", file=of)\n",
    "    print(\"\\tif(reset) begin\", file=of)\n",
    "    print(\"\\t\\tcolumnSetOutNo <= {};\".format(CS-1), file=of)\n",
    "    print(\"\\tend\", file=of)\n",
    "    print(\"\\telse if(enable) begin\", file=of)\n",
    "    print(\"\\t\\tif(early\"+stc1+str1+\"EReady & (rowSetOutNo=={})) begin\".format(RS-1), file=of)\n",
    "    print(\"\\t\\t\\tif(columnSetOutNo=={}) begin\".format(CS-1), file=of)\n",
    "    print(\"\\t\\t\\t\\tcolumnSetOutNo <= 0;\", file=of)\n",
    "    print(\"\\t\\t\\tend\", file=of)\n",
    "    print(\"\\t\\t\\telse begin\", file=of)\n",
    "    if CS==2:\n",
    "        print(\"\\t\\t\\t\\tcolumnSetOutNo <= 1;\", file=of)\n",
    "    else:\n",
    "        print(\"\\t\\t\\t\\tcolumnSetOutNo <= columnSetOutNo+1;\", file=of)\n",
    "    print(\"\\t\\t\\tend\", file=of)\n",
    "    print(\"\\t\\tend\", file=of)\n",
    "    print(\"\\tend\", file=of)\n",
    "    print(\"end\\n\", file=of)"
   ]
  },
  {
   "cell_type": "code",
   "execution_count": 29,
   "metadata": {},
   "outputs": [],
   "source": [
    "print(\"endmodule\", file=of)"
   ]
  },
  {
   "cell_type": "code",
   "execution_count": 30,
   "metadata": {},
   "outputs": [],
   "source": [
    "if __Print_To_File>0:\n",
    "    of.close()"
   ]
  }
 ],
 "metadata": {
  "kernelspec": {
   "display_name": "Python 3",
   "language": "python",
   "name": "python3"
  },
  "language_info": {
   "codemirror_mode": {
    "name": "ipython",
    "version": 3
   },
   "file_extension": ".py",
   "mimetype": "text/x-python",
   "name": "python",
   "nbconvert_exporter": "python",
   "pygments_lexer": "ipython3",
   "version": "3.7.6"
  }
 },
 "nbformat": 4,
 "nbformat_minor": 1
}
