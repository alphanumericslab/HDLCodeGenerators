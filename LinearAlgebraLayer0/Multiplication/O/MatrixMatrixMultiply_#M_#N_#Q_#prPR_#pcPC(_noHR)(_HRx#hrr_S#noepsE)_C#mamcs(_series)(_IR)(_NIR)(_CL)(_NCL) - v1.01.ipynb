{
 "cells": [
  {
   "cell_type": "code",
   "execution_count": null,
   "metadata": {
    "collapsed": true
   },
   "outputs": [],
   "source": [
    "#generates _NIR_NCL mode if RS==1\n",
    "#generates _CL mode when _IR is selected"
   ]
  },
  {
   "cell_type": "code",
   "execution_count": null,
   "metadata": {
    "collapsed": true
   },
   "outputs": [],
   "source": [
    "#uses MatrixVectorMultiply_#M_#N_PR#pr(_noHR)(_HRx#hrr_S#noepsE)_C#MAMCS(_series)_NIR(_VL)(_NVL) - v2.4\n",
    "#uses MatrixVectorMultiply_#M_#N_PR#pr(_noHR)(_HRx#hrr_S#noepsE)_C#MAMCS(_series)_IR(_VL)(_NVL) - v2.4"
   ]
  },
  {
   "cell_type": "code",
   "execution_count": null,
   "metadata": {
    "collapsed": true
   },
   "outputs": [],
   "source": [
    "import sys\n",
    "import math"
   ]
  },
  {
   "cell_type": "code",
   "execution_count": null,
   "metadata": {
    "collapsed": false
   },
   "outputs": [],
   "source": [
    "#M>=1\n",
    "M = input('Enter M: ')"
   ]
  },
  {
   "cell_type": "code",
   "execution_count": null,
   "metadata": {
    "collapsed": false
   },
   "outputs": [],
   "source": [
    "#N>=1\n",
    "#N better to be >= HRR, if N<HRR, can decrease HRR (to N)\n",
    "N = input('Enter N: ')"
   ]
  },
  {
   "cell_type": "code",
   "execution_count": null,
   "metadata": {
    "collapsed": false
   },
   "outputs": [],
   "source": [
    "#Q>=1\n",
    "Q = input('Enter Q: ')"
   ]
  },
  {
   "cell_type": "code",
   "execution_count": null,
   "metadata": {
    "collapsed": false
   },
   "outputs": [],
   "source": [
    "#>=1, <=M\n",
    "PR = input('Enter No Of Parallel Row (empty for 1): ')"
   ]
  },
  {
   "cell_type": "code",
   "execution_count": null,
   "metadata": {
    "collapsed": false
   },
   "outputs": [],
   "source": [
    "#>=1, <=Q\n",
    "PC = input('Enter No Of Parallel Column (empty for 1): ')"
   ]
  },
  {
   "cell_type": "code",
   "execution_count": null,
   "metadata": {
    "collapsed": false,
    "scrolled": false
   },
   "outputs": [],
   "source": [
    "#HRR>=1\n",
    "HRR = input('Enter HRR (empty or 1 for noHR): ')"
   ]
  },
  {
   "cell_type": "code",
   "execution_count": null,
   "metadata": {
    "collapsed": false
   },
   "outputs": [],
   "source": [
    "M = int(M)\n",
    "if(M<1):\n",
    "    M=1\n",
    "N = int(N)\n",
    "if(N<1):\n",
    "    N=1\n",
    "Q = int(Q)\n",
    "if(Q<1):\n",
    "    Q=1\n",
    "if not PR:\n",
    "    PR=1\n",
    "else:\n",
    "    PR = int(PR)\n",
    "    if PR>M:\n",
    "        PR = M\n",
    "if not PC:\n",
    "    PC=1\n",
    "else:\n",
    "    PC = int(PC)\n",
    "    if PC>Q:\n",
    "        PC = Q\n",
    "if not HRR:\n",
    "    HRR=1\n",
    "else:\n",
    "    HRR = int(HRR)\n",
    "    if HRR<1:\n",
    "        HRR=1\n",
    "    if HRR>N:\n",
    "        HRR=N\n",
    "if HRR>1:\n",
    "    NOEPSMin = math.ceil(N/HRR)\n",
    "    NOEPSMax = math.ceil(N/(HRR-1))-1\n",
    "    NOEPSMM = (NOEPSMin!=NOEPSMax)"
   ]
  },
  {
   "cell_type": "code",
   "execution_count": null,
   "metadata": {
    "collapsed": false
   },
   "outputs": [],
   "source": [
    "#>=NOEPSMin, <=NOEPSMax\n",
    "if HRR>1 and NOEPSMM:\n",
    "    NOEPS = input('Enter No Of Elements Per Series (>={}, <={}, empty for {}): '.format(NOEPSMin, NOEPSMax, NOEPSMin))"
   ]
  },
  {
   "cell_type": "code",
   "execution_count": null,
   "metadata": {
    "collapsed": false
   },
   "outputs": [],
   "source": [
    "if HRR>1 and NOEPSMM:\n",
    "    if not NOEPS:\n",
    "        NMult = NOEPSMin\n",
    "    else:\n",
    "        NOEPS = int(NOEPS)\n",
    "        if NOEPS<NOEPSMin:\n",
    "            NMult = NOEPSMin\n",
    "        elif NOEPS>NOEPSMax:\n",
    "            NMult = NOEPSMax\n",
    "        else:\n",
    "            NMult = NOEPS\n",
    "else:\n",
    "    NMult = N\n",
    "#NMult : for each column   "
   ]
  },
  {
   "cell_type": "code",
   "execution_count": null,
   "metadata": {
    "collapsed": false
   },
   "outputs": [],
   "source": [
    "#MAMCS>=1\n",
    "MAMCS = input('Enter Multiply-Add Max Component Size (empty for {}): '.format(NMult))"
   ]
  },
  {
   "cell_type": "code",
   "execution_count": null,
   "metadata": {
    "collapsed": false
   },
   "outputs": [],
   "source": [
    "#IN_WIDTH>=1\n",
    "IN_WIDTH = input('Enter IN_WIDTH default value (empty for 10): ')"
   ]
  },
  {
   "cell_type": "code",
   "execution_count": null,
   "metadata": {
    "collapsed": false
   },
   "outputs": [],
   "source": [
    "#INPUT_REG_DEPTH>=0\n",
    "INPUT_REG_DEPTH = input('Enter INPUT_REG_DEPTH default value (empty for 1): ')"
   ]
  },
  {
   "cell_type": "code",
   "execution_count": null,
   "metadata": {
    "collapsed": false
   },
   "outputs": [],
   "source": [
    "#MULT_PIPE_DEPTH>=0\n",
    "MULT_PIPE_DEPTH = input('Enter MULT_PIPE_DEPTH default value (empty for 1): ')"
   ]
  },
  {
   "cell_type": "code",
   "execution_count": null,
   "metadata": {
    "collapsed": true
   },
   "outputs": [],
   "source": [
    "RS=math.ceil(M/PR)"
   ]
  },
  {
   "cell_type": "code",
   "execution_count": null,
   "metadata": {
    "collapsed": false
   },
   "outputs": [],
   "source": [
    "if (RS>1):\n",
    "    _Enable_Input_Registers = input('Enable Input Registers? (empty or 0 to disable, 1 to enable): ')"
   ]
  },
  {
   "cell_type": "code",
   "execution_count": null,
   "metadata": {
    "collapsed": true
   },
   "outputs": [],
   "source": [
    "if not MAMCS:\n",
    "    MAMCS = NMult\n",
    "else:\n",
    "    MAMCS = int(MAMCS)\n",
    "    if MAMCS>NMult:\n",
    "        MAMCS = NMult;\n",
    "    elif(MAMCS<1):\n",
    "        MAMCS=1\n",
    "if not IN_WIDTH:\n",
    "    IN_WIDTH=10\n",
    "else:\n",
    "    IN_WIDTH = int(IN_WIDTH)\n",
    "    if(IN_WIDTH<1):\n",
    "        IN_WIDTH=1\n",
    "if not INPUT_REG_DEPTH:\n",
    "    INPUT_REG_DEPTH=1\n",
    "else:\n",
    "    INPUT_REG_DEPTH = int(INPUT_REG_DEPTH)\n",
    "    if(INPUT_REG_DEPTH<0):\n",
    "        INPUT_REG_DEPTH=0\n",
    "if not MULT_PIPE_DEPTH:\n",
    "    MULT_PIPE_DEPTH=1\n",
    "else:\n",
    "    MULT_PIPE_DEPTH = int(MULT_PIPE_DEPTH)\n",
    "    if(MULT_PIPE_DEPTH<0):\n",
    "        MULT_PIPE_DEPTH=0\n",
    "if RS==1:\n",
    "    _Enable_Input_Registers = 0;\n",
    "else:\n",
    "    if not _Enable_Input_Registers:\n",
    "        _Enable_Input_Registers = 0\n",
    "    else:\n",
    "        _Enable_Input_Registers = int(_Enable_Input_Registers)"
   ]
  },
  {
   "cell_type": "code",
   "execution_count": null,
   "metadata": {
    "collapsed": false
   },
   "outputs": [],
   "source": [
    "if RS>1 and _Enable_Input_Registers==0:\n",
    "    _Enable_Column_Latch = input('Enable Column Latch? (empty or 0 to disable, 1 to enable): ')"
   ]
  },
  {
   "cell_type": "code",
   "execution_count": null,
   "metadata": {
    "collapsed": false
   },
   "outputs": [],
   "source": [
    "if RS==1:\n",
    "    _Enable_Column_Latch = 0;\n",
    "elif _Enable_Input_Registers>0:\n",
    "    _Enable_Column_Latch = 1;\n",
    "else:\n",
    "    if not _Enable_Column_Latch:\n",
    "        _Enable_Column_Latch = 0\n",
    "    else:\n",
    "        _Enable_Column_Latch = int(_Enable_Column_Latch)"
   ]
  },
  {
   "cell_type": "code",
   "execution_count": null,
   "metadata": {
    "collapsed": false
   },
   "outputs": [],
   "source": [
    "__Print_To_File = 0\n",
    "\n",
    "if __Print_To_File<=0:\n",
    "    of=sys.stdout\n",
    "else:\n",
    "    if(HRR==1):\n",
    "        if _Enable_Input_Registers>0 and _Enable_Column_Latch>0:\n",
    "            of=open(\"./MatrixMatrixMultiply_{}_{}_{}_{}PR_{}PC_noHR_C{}_IR_CL.v\".format(M, N, Q, PR, PC, MAMCS), 'w+')\n",
    "        elif _Enable_Input_Registers>0 and _Enable_Column_Latch<=0:\n",
    "            of=open(\"./MatrixMatrixMultiply_{}_{}_{}_{}PR_{}PC_noHR_C{}_IR_NCL.v\".format(M, N, Q, PR, PC, MAMCS), 'w+')\n",
    "        elif _Enable_Input_Registers<=0 and _Enable_Column_Latch>0:\n",
    "            of=open(\"./MatrixMatrixMultiply_{}_{}_{}_{}PR_{}PC_noHR_C{}_NIR_CL.v\".format(M, N, Q, PR, PC, MAMCS), 'w+')\n",
    "        else:\n",
    "            of=open(\"./MatrixMatrixMultiply_{}_{}_{}_{}PR_{}PC_noHR_C{}_NIR_NCL.v\".format(M, N, Q, PR, PC, MAMCS), 'w+')\n",
    "    else:\n",
    "        if _Enable_Input_Registers>0 and _Enable_Column_Latch>0:\n",
    "            of=open(\"./MatrixMatrixMultiply_{}_{}_{}_{}PR_{}PC_HRx{}_S{}E_C{}_series_IR_CL.v\".format(M, N, Q, PR, PC, HRR, NMult, MAMCS), 'w+')\n",
    "        elif _Enable_Input_Registers>0 and _Enable_Column_Latch<=0:\n",
    "            of=open(\"./MatrixMatrixMultiply_{}_{}_{}_{}PR_{}PC_HRx{}_S{}E_C{}_series_IR_NCL.v\".format(M, N, Q, PR, PC, HRR, NMult, MAMCS), 'w+')\n",
    "        elif _Enable_Input_Registers<=0 and _Enable_Column_Latch>0:\n",
    "            of=open(\"./MatrixMatrixMultiply_{}_{}_{}_{}PR_{}PC_HRx{}_S{}E_C{}_series_NIR_CL.v\".format(M, N, Q, PR, PC, HRR, NMult, MAMCS), 'w+')\n",
    "        else:\n",
    "            of=open(\"./MatrixMatrixMultiply_{}_{}_{}_{}PR_{}PC_HRx{}_S{}E_C{}_series_NIR_NCL.v\".format(M, N, Q, PR, PC, HRR, NMult, MAMCS), 'w+')            "
   ]
  },
  {
   "cell_type": "code",
   "execution_count": null,
   "metadata": {
    "collapsed": false,
    "scrolled": true
   },
   "outputs": [],
   "source": [
    "print(\"`timescale 1ns / 1ps\\n\", file=of)\n",
    "if(HRR==1):\n",
    "    if _Enable_Input_Registers>0 and _Enable_Column_Latch>0:\n",
    "        print(\"module MatrixMatrixMultiply_{}_{}_{}_{}PR_{}PC_noHR_C{}_IR_CL\".format(M, N, Q, PR, PC, MAMCS), file=of)\n",
    "    elif _Enable_Input_Registers>0 and _Enable_Column_Latch<=0:\n",
    "        print(\"module MatrixMatrixMultiply_{}_{}_{}_{}PR_{}PC_noHR_C{}_IR_NCL\".format(M, N, Q, PR, PC, MAMCS), file=of)\n",
    "    elif _Enable_Input_Registers<=0 and _Enable_Column_Latch>0:\n",
    "        print(\"module MatrixMatrixMultiply_{}_{}_{}_{}PR_{}PC_noHR_C{}_NIR_CL\".format(M, N, Q, PR, PC, MAMCS), file=of)\n",
    "    else:\n",
    "        print(\"module MatrixMatrixMultiply_{}_{}_{}_{}PR_{}PC_noHR_C{}_NIR_NCL\".format(M, N, Q, PR, PC, MAMCS), file=of)\n",
    "else:\n",
    "    if _Enable_Input_Registers>0 and _Enable_Column_Latch>0:\n",
    "        print(\"module MatrixMatrixMultiply_{}_{}_{}_{}PR_{}PC_HRx{}_S{}E_C{}_series_IR_CL\".format(M, N, Q, PR, PC, HRR, NMult, MAMCS), file=of)\n",
    "    elif _Enable_Input_Registers>0 and _Enable_Column_Latch<=0:\n",
    "        print(\"module MatrixMatrixMultiply_{}_{}_{}_{}PR_{}PC_HRx{}_S{}E_C{}_series_IR_NCL\".format(M, N, Q, PR, PC, HRR, NMult, MAMCS), file=of)\n",
    "    elif _Enable_Input_Registers<=0 and _Enable_Column_Latch>0:\n",
    "        print(\"module MatrixMatrixMultiply_{}_{}_{}_{}PR_{}PC_HRx{}_S{}E_C{}_series_NIR_CL\".format(M, N, Q, PR, PC, HRR, NMult, MAMCS), file=of)\n",
    "    else:\n",
    "        print(\"module MatrixMatrixMultiply_{}_{}_{}_{}PR_{}PC_HRx{}_S{}E_C{}_series_NIR_NCL\".format(M, N, Q, PR, PC, HRR, NMult, MAMCS), file=of)\n",
    "print(\"#(\", file=of)\n",
    "print(\"parameter IN_WIDTH = {},\".format(IN_WIDTH), file=of)\n",
    "print(\"parameter INPUT_REG_DEPTH = {},\".format(INPUT_REG_DEPTH), file=of)\n",
    "print(\"parameter MULT_PIPE_DEPTH = {}\".format(MULT_PIPE_DEPTH), file=of)\n",
    "print(\")(\", file=of)\n",
    "print(\"input clk, reset, enable,\", file=of)\n",
    "if(HRR>1):\n",
    "    print(\"output readyForNewRowSetStart,\", file=of)\n",
    "lghrr=math.ceil(math.log2(HRR))\n",
    "if lghrr==1:\n",
    "    print(\"output vectorInSeries,\", file=of)\n",
    "elif lghrr>1:\n",
    "    print(\"output [{}:0] vectorInSeries,\".format(lghrr-1), file=of)\n",
    "lgRS=math.ceil(math.log2(RS))\n",
    "if lgRS<=1:\n",
    "    print(\"output rowSetInNo,\", file=of)\n",
    "else:\n",
    "    print(\"output [{}:0] rowSetInNo,\".format(lgRS-1), file=of)\n",
    "CS=math.ceil(Q/PC)\n",
    "lgCS=math.ceil(math.log2(CS))\n",
    "if lgCS<=1:\n",
    "    print(\"output reg columnSetInNo = 0,\", file=of)\n",
    "else:\n",
    "    print(\"output reg [{}:0] columnSetInNo = 0,\".format(lgCS-1), file=of)\n",
    "print(\"input inReady,\", file=of)\n",
    "print(\"input signed [IN_WIDTH-1:0] \", end='', file=of)\n",
    "for i in range(PR):\n",
    "    for j in range(NMult):\n",
    "        print(\"AE{}R{}, \".format(j, i), end='', file=of)\n",
    "    print(file=of)\n",
    "print(\"input signed [IN_WIDTH-1:0] \", end='', file=of)\n",
    "for i in range(PC):\n",
    "    for j in range(NMult):\n",
    "        print(\"BE{}C{}, \".format(j, i), end='', file=of)\n",
    "    print(file=of)\n",
    "ac=CS*PC-Q\n",
    "QE = PC-ac-1\n",
    "if QE==0:\n",
    "    stc1=\"C0\"\n",
    "else:\n",
    "    stc1=\"C0toC{}\".format(QE)\n",
    "if QE==(PC-2):\n",
    "    stc2=\"C{}\".format(PC-1)\n",
    "else:\n",
    "    stc2=\"C{}toC{}\".format(QE+1, PC-1)\n",
    "ar=RS*PR-M\n",
    "ME = PR-ar-1\n",
    "if ME==0:\n",
    "    str1=\"R0\"\n",
    "else:\n",
    "    str1=\"R0toR{}\".format(ME)\n",
    "if ME==(PR-2):\n",
    "    str2=\"R{}\".format(PR-1)\n",
    "else:\n",
    "    str2=\"R{}toR{}\".format(ME+1, PR-1)\n",
    "print(\"output \", end='', file=of)\n",
    "print(stc1, end='', file=of)\n",
    "print(str1, end='', file=of)\n",
    "print(\"EReady,\", file=of)\n",
    "if ar!=0:\n",
    "    print(\"output \", end='', file=of)\n",
    "    print(stc1, end='', file=of)\n",
    "    print(str2, end='', file=of)\n",
    "    print(\"EReady,\", file=of)\n",
    "else:\n",
    "    print(\"output reg NUEReady1 = 0, //not used\", file=of)\n",
    "if ac!=0:\n",
    "    print(\"output \", end='', file=of)\n",
    "    print(stc2, end='', file=of)\n",
    "    print(str1, end='', file=of)\n",
    "    print(\"EReady,\", file=of)\n",
    "    if ar!=0:\n",
    "        print(\"output \", end='', file=of)\n",
    "        print(stc2, end='', file=of)\n",
    "        print(str2, end='', file=of)\n",
    "        print(\"EReady,\", file=of)\n",
    "    else:\n",
    "        print(\"output reg NUEReady2 = 0, //not used\", file=of)\n",
    "else:\n",
    "    print(\"output reg NUEReady2 = 0, //not used\", file=of)\n",
    "    print(\"output reg NUEReady3 = 0, //not used\", file=of)\n",
    "if lgRS<=1:\n",
    "    print(\"output rowSetOutNo,\", file=of)\n",
    "else:\n",
    "    print(\"output [{}:0] rowSetOutNo,\".format(lgRS-1), file=of)\n",
    "if lgCS<=1:\n",
    "    print(\"output reg columnSetOutNo = {},\".format(CS-1), file=of)\n",
    "else:\n",
    "    print(\"output reg [{}:0] columnSetOutNo = {},\".format(lgCS-1, CS-1), file=of)\n",
    "lgN=math.ceil(math.log2(N))\n",
    "al=-2+lgN\n",
    "if al==0:\n",
    "    print(\"output signed [(2*IN_WIDTH):0] \", end='',file=of)\n",
    "elif al<0:\n",
    "    print(\"output signed [(2*IN_WIDTH){}:0] \".format(al), end='',file=of)\n",
    "else:\n",
    "    print(\"output signed [(2*IN_WIDTH)+{}:0] \".format(al), end='',file=of)\n",
    "for i in range(PC):\n",
    "    for j in range(PR):\n",
    "        print(\"EC{}R{}, \".format(i, j), end='',file=of)\n",
    "print(file=of)\n",
    "print(\"output early\", end='', file=of)\n",
    "print(stc1, end='', file=of)\n",
    "print(str1, end='', file=of)\n",
    "print(\"EReady,\", file=of)\n",
    "if ar!=0:\n",
    "    print(\"output early\", end='', file=of)\n",
    "    print(stc1, end='', file=of)\n",
    "    print(str2, end='', file=of)\n",
    "    print(\"EReady,\", file=of)\n",
    "else:\n",
    "    print(\"output reg NUeEReady1 = 0, //not used\", file=of)\n",
    "if ac!=0:\n",
    "    print(\"output early\", end='', file=of)\n",
    "    print(stc2, end='', file=of)\n",
    "    print(str1, end='', file=of)\n",
    "    print(\"EReady,\", file=of)\n",
    "    if ar!=0:\n",
    "        print(\"output early\", end='', file=of)\n",
    "        print(stc2, end='', file=of)\n",
    "        print(str2, end='', file=of)\n",
    "        print(\"EReady\", file=of)\n",
    "    else:\n",
    "        print(\"output reg NUeEReady2 = 0 //not used\", file=of)\n",
    "else:\n",
    "    print(\"output reg NUeEReady2 = 0, //not used\", file=of)\n",
    "    print(\"output reg NUeEReady3 = 0 //not used\", file=of)\n",
    "print(\");\\n\", file=of)"
   ]
  },
  {
   "cell_type": "code",
   "execution_count": null,
   "metadata": {
    "collapsed": false
   },
   "outputs": [],
   "source": [
    "if(ac!=0): #CS*PC > Q, CS>=2\n",
    "    print(\"wire inReadyC = (columnSetInNo!={}) & inReady;\".format(CS-1), file=of)\n",
    "    print(file=of)\n",
    "\n",
    "for i in range (PC):\n",
    "    if(HRR==1):\n",
    "        if _Enable_Input_Registers>0 and _Enable_Column_Latch>0:\n",
    "            print(\"MatrixVectorMultiply_{}_{}_{}PR_noHR_C{}_IR_VL#( .IN_WIDTH(IN_WIDTH), .INPUT_REG_DEPTH(INPUT_REG_DEPTH), .MULT_PIPE_DEPTH(MULT_PIPE_DEPTH) )\".format(M, N, PR, MAMCS), file=of)\n",
    "        elif _Enable_Input_Registers>0 and _Enable_Column_Latch<=0:\n",
    "            print(\"MatrixVectorMultiply_{}_{}_{}PR_noHR_C{}_IR_NVL#( .IN_WIDTH(IN_WIDTH), .INPUT_REG_DEPTH(INPUT_REG_DEPTH), .MULT_PIPE_DEPTH(MULT_PIPE_DEPTH) )\".format(M, N, PR, MAMCS), file=of)\n",
    "        elif _Enable_Input_Registers<=0 and _Enable_Column_Latch>0:\n",
    "            print(\"MatrixVectorMultiply_{}_{}_{}PR_noHR_C{}_NIR_VL#( .IN_WIDTH(IN_WIDTH), .INPUT_REG_DEPTH(INPUT_REG_DEPTH), .MULT_PIPE_DEPTH(MULT_PIPE_DEPTH) )\".format(M, N, PR, MAMCS), file=of)\n",
    "        else:\n",
    "            print(\"MatrixVectorMultiply_{}_{}_{}PR_noHR_C{}_NIR_NVL#( .IN_WIDTH(IN_WIDTH), .INPUT_REG_DEPTH(INPUT_REG_DEPTH), .MULT_PIPE_DEPTH(MULT_PIPE_DEPTH) )\".format(M, N, PR, MAMCS), file=of)\n",
    "    else:\n",
    "        if _Enable_Input_Registers>0 and _Enable_Column_Latch>0:\n",
    "            print(\"MatrixVectorMultiply_{}_{}_{}PR_HRx{}_S{}E_C{}_series_IR_VL#( .IN_WIDTH(IN_WIDTH), .INPUT_REG_DEPTH(INPUT_REG_DEPTH), .MULT_PIPE_DEPTH(MULT_PIPE_DEPTH) )\".format(M, N, PR, HRR, NMult, MAMCS), file=of)\n",
    "        elif _Enable_Input_Registers>0 and _Enable_Column_Latch<=0:\n",
    "            print(\"MatrixVectorMultiply_{}_{}_{}PR_HRx{}_S{}E_C{}_series_IR_NVL#( .IN_WIDTH(IN_WIDTH), .INPUT_REG_DEPTH(INPUT_REG_DEPTH), .MULT_PIPE_DEPTH(MULT_PIPE_DEPTH) )\".format(M, N, PR, HRR, NMult, MAMCS), file=of)\n",
    "        elif _Enable_Input_Registers<=0 and _Enable_Column_Latch>0:\n",
    "            print(\"MatrixVectorMultiply_{}_{}_{}PR_HRx{}_S{}E_C{}_series_NIR_VL#( .IN_WIDTH(IN_WIDTH), .INPUT_REG_DEPTH(INPUT_REG_DEPTH), .MULT_PIPE_DEPTH(MULT_PIPE_DEPTH) )\".format(M, N, PR, HRR, NMult, MAMCS), file=of)\n",
    "        else:\n",
    "            print(\"MatrixVectorMultiply_{}_{}_{}PR_HRx{}_S{}E_C{}_series_NIR_NVL#( .IN_WIDTH(IN_WIDTH), .INPUT_REG_DEPTH(INPUT_REG_DEPTH), .MULT_PIPE_DEPTH(MULT_PIPE_DEPTH) )\".format(M, N, PR, HRR, NMult, MAMCS), file=of)\n",
    "    print(\"\\tMVM_{}(clk, reset, enable,\".format(i), file=of)\n",
    "    if(HRR>1):\n",
    "        if i==0:\n",
    "            print(\"\\treadyForNewRowSetStart,\", file=of)\n",
    "            print(\"\\tvectorInSeries,\", file=of)\n",
    "        else:\n",
    "            print(\"\\tLLreadyForNewDataSeries{}, //not used\".format(i), file=of)\n",
    "            print(\"\\tLLvectorInSeries{}, //not used\".format(i), file=of)\n",
    "    if i==0:\n",
    "        print(\"\\trowSetInNo,\", file=of)        \n",
    "    else:\n",
    "        print(\"\\tLLrowSetInNo{}, //not used\".format(i), file=of)\n",
    "    if(PC-i<=ac):\n",
    "        print(\"\\tinReadyC,\", file=of)\n",
    "    else:\n",
    "        print(\"\\tinReady,\", file=of)\n",
    "    for j in range(PR):\n",
    "        print(\"\\t\", end='', file=of)\n",
    "        for k in range(NMult):\n",
    "            print(\"AE{}R{}, \".format(k, j), end='', file=of)\n",
    "        print(file=of)\n",
    "    print(\"\\t\", end='', file=of)\n",
    "    for j in range(NMult):\n",
    "        print(\"BE{}C{}, \".format(j, i), end='', file=of)\n",
    "    print(file=of)\n",
    "    if i==0:\n",
    "        print(\"\\t\"+stc1+str1+\"EReady,\", file=of)\n",
    "        if ar!=0:\n",
    "            print(\"\\t\"+stc1+str2+\"EReady,\", file=of)\n",
    "        else:\n",
    "            print(\"\\tLLMVMoutReadyA{}, //not used\".format(i), file=of)\n",
    "    elif i==PC-ac:\n",
    "        print(\"\\t\"+stc2+str1+\"EReady,\", file=of)\n",
    "        if ar!=0:\n",
    "            print(\"\\t\"+stc2+str2+\"EReady,\", file=of)\n",
    "        else:\n",
    "            print(\"\\tLLMVMoutReadyCA{}, //not used\".format(i), file=of)\n",
    "    else:\n",
    "        print(\"\\tLLMVMoutReady{}, //not used\".format(i), file=of)\n",
    "        print(\"\\tLLMVMoutReadyA{}, //not used\".format(i), file=of)\n",
    "    if i==0:\n",
    "        print(\"\\trowSetOutNo,\", file=of)\n",
    "    else:\n",
    "        print(\"\\tLLrowSetOutNo{}, //not used\".format(i), file=of)\n",
    "    for j in range(PR):\n",
    "        print(\"\\tEC{}R{},\".format(i, j), file=of)\n",
    "    if i==0:\n",
    "        print(\"\\tearly\"+stc1+str1+\"EReady,\", file=of)\n",
    "        if ar!=0:\n",
    "            print(\"\\tearly\"+stc1+str2+\"EReady\\n\\t);\\n\", file=of)\n",
    "        else:\n",
    "            print(\"\\tLLMVMearlyOutReadyA{} //not used\\n\\t);\\n\".format(i), file=of)\n",
    "    elif i==PC-ac:\n",
    "        print(\"\\tearly\"+stc2+str1+\"EReady,\", file=of)\n",
    "        if ar!=0:\n",
    "            print(\"\\tearly\"+stc2+str2+\"EReady\\n\\t);\\n\", file=of)\n",
    "        else:\n",
    "            print(\"\\tLLMVMearlyOutReadyCA{} //not used\\n\\t);\\n\".format(i), file=of)\n",
    "    else:\n",
    "        print(\"\\tLLMVMearlyOutReady{},\".format(i), file=of)\n",
    "        print(\"\\tLLMVMearlyOutReadyA{} //not used\\n\\t);\\n\".format(i), file=of)"
   ]
  },
  {
   "cell_type": "code",
   "execution_count": null,
   "metadata": {
    "collapsed": false
   },
   "outputs": [],
   "source": [
    "if(CS>1):\n",
    "    print(\"always @(posedge clk) begin\", file=of)\n",
    "    print(\"\\tif(reset) begin\", file=of)\n",
    "    print(\"\\t\\tcolumnSetInNo <= 0;\", file=of)\n",
    "    print(\"\\tend\", file=of)\n",
    "    print(\"\\telse if(enable) begin\", file=of)\n",
    "    print(\"\\t\\tif(inReady\", end='', file=of)\n",
    "    if(HRR>1):\n",
    "        print(\" & (vectorInSeries=={})\".format(HRR-1), end='', file=of)\n",
    "    if(RS>1):\n",
    "        print(\" & (rowSetInNo=={})\".format(RS-1), end='', file=of)\n",
    "    print(\") begin\", file=of)\n",
    "    print(\"\\t\\t\\tif(columnSetInNo=={}) begin\".format(CS-1), file=of)\n",
    "    print(\"\\t\\t\\t\\tcolumnSetInNo <= 0;\", file=of)\n",
    "    print(\"\\t\\t\\tend\", file=of)\n",
    "    print(\"\\t\\t\\telse begin\", file=of)\n",
    "    if CS==2:\n",
    "        print(\"\\t\\t\\t\\tcolumnSetInNo <= 1;\", file=of)\n",
    "    else:\n",
    "        print(\"\\t\\t\\t\\tcolumnSetInNo <= columnSetInNo+1;\", file=of)\n",
    "    print(\"\\t\\t\\tend\", file=of)\n",
    "    print(\"\\t\\tend\", file=of)\n",
    "    print(\"\\tend\", file=of)\n",
    "    print(\"end\\n\", file=of)"
   ]
  },
  {
   "cell_type": "code",
   "execution_count": null,
   "metadata": {
    "collapsed": false
   },
   "outputs": [],
   "source": [
    "if(CS>1):\n",
    "    print(\"always @(posedge clk) begin\", file=of)\n",
    "    print(\"\\tif(reset) begin\", file=of)\n",
    "    print(\"\\t\\tcolumnSetOutNo <= {};\".format(CS-1), file=of)\n",
    "    print(\"\\tend\", file=of)\n",
    "    print(\"\\telse if(enable) begin\", file=of)\n",
    "    print(\"\\t\\tif(early\"+stc1+str1+\"EReady) begin\", file=of)\n",
    "    print(\"\\t\\t\\tif(columnSetOutNo=={}) begin\".format(CS-1), file=of)\n",
    "    print(\"\\t\\t\\t\\tcolumnSetOutNo <= 0;\", file=of)\n",
    "    print(\"\\t\\t\\tend\", file=of)\n",
    "    print(\"\\t\\t\\telse begin\", file=of)\n",
    "    if CS==2:\n",
    "        print(\"\\t\\t\\t\\tcolumnSetOutNo <= 1;\", file=of)\n",
    "    else:\n",
    "        print(\"\\t\\t\\t\\tcolumnSetOutNo <= columnSetOutNo+1;\", file=of)\n",
    "    print(\"\\t\\t\\tend\", file=of)\n",
    "    print(\"\\t\\tend\", file=of)\n",
    "    print(\"\\tend\", file=of)\n",
    "    print(\"end\\n\", file=of)"
   ]
  },
  {
   "cell_type": "code",
   "execution_count": null,
   "metadata": {
    "collapsed": false
   },
   "outputs": [],
   "source": [
    "print(\"endmodule\", file=of)"
   ]
  },
  {
   "cell_type": "code",
   "execution_count": null,
   "metadata": {
    "collapsed": true
   },
   "outputs": [],
   "source": [
    "if __Print_To_File>0:\n",
    "    of.close()"
   ]
  }
 ],
 "metadata": {
  "kernelspec": {
   "display_name": "Python 3",
   "language": "python",
   "name": "python3"
  },
  "language_info": {
   "codemirror_mode": {
    "name": "ipython",
    "version": 3
   },
   "file_extension": ".py",
   "mimetype": "text/x-python",
   "name": "python",
   "nbconvert_exporter": "python",
   "pygments_lexer": "ipython3",
   "version": "3.5.1"
  }
 },
 "nbformat": 4,
 "nbformat_minor": 0
}
