{
 "cells": [
  {
   "cell_type": "code",
   "execution_count": 1,
   "metadata": {
    "collapsed": true
   },
   "outputs": [],
   "source": [
    "import sys\n",
    "import math"
   ]
  },
  {
   "cell_type": "code",
   "execution_count": 2,
   "metadata": {
    "collapsed": false
   },
   "outputs": [
    {
     "name": "stdout",
     "output_type": "stream",
     "text": [
      "Enter N: 2\n"
     ]
    }
   ],
   "source": [
    "#N>=2\n",
    "N = input('Enter N: ')"
   ]
  },
  {
   "cell_type": "code",
   "execution_count": 3,
   "metadata": {
    "collapsed": false
   },
   "outputs": [
    {
     "name": "stdout",
     "output_type": "stream",
     "text": [
      "Enter IN_WIDTH default value: 10\n"
     ]
    }
   ],
   "source": [
    "#IN_WIDTH>=1\n",
    "IN_WIDTH = input('Enter IN_WIDTH default value (empty for 10): ')"
   ]
  },
  {
   "cell_type": "code",
   "execution_count": 4,
   "metadata": {
    "collapsed": false
   },
   "outputs": [
    {
     "name": "stdout",
     "output_type": "stream",
     "text": [
      "Enter INPUT_REG_DEPTH default value: 1\n"
     ]
    }
   ],
   "source": [
    "#INPUT_REG_DEPTH>=0\n",
    "INPUT_REG_DEPTH = input('Enter INPUT_REG_DEPTH default value (empty for 1): ')"
   ]
  },
  {
   "cell_type": "code",
   "execution_count": 5,
   "metadata": {
    "collapsed": false
   },
   "outputs": [
    {
     "name": "stdout",
     "output_type": "stream",
     "text": [
      "Enter MULT_PIPE_DEPTH default value: 1\n"
     ]
    }
   ],
   "source": [
    "#MULT_PIPE_DEPTH>=0\n",
    "MULT_PIPE_DEPTH = input('Enter MULT_PIPE_DEPTH default value (empty for 1): ')"
   ]
  },
  {
   "cell_type": "code",
   "execution_count": 6,
   "metadata": {
    "collapsed": true
   },
   "outputs": [],
   "source": [
    "N = int(N)\n",
    "if(N<2):\n",
    "    N=2\n",
    "if not IN_WIDTH:\n",
    "    IN_WIDTH=10\n",
    "else:\n",
    "    IN_WIDTH = int(IN_WIDTH)\n",
    "    if IN_WIDTH<1:\n",
    "        IN_WIDTH=1\n",
    "if not INPUT_REG_DEPTH:\n",
    "    INPUT_REG_DEPTH=1\n",
    "else:\n",
    "    INPUT_REG_DEPTH = int(INPUT_REG_DEPTH)\n",
    "    if(INPUT_REG_DEPTH<0):\n",
    "        INPUT_REG_DEPTH=0\n",
    "if not MULT_PIPE_DEPTH:\n",
    "    MULT_PIPE_DEPTH=1\n",
    "else:\n",
    "    MULT_PIPE_DEPTH = int(MULT_PIPE_DEPTH)\n",
    "    if(MULT_PIPE_DEPTH<0):\n",
    "        MULT_PIPE_DEPTH=0"
   ]
  },
  {
   "cell_type": "code",
   "execution_count": 7,
   "metadata": {
    "collapsed": true
   },
   "outputs": [],
   "source": [
    "__Print_To_File = 0\n",
    "\n",
    "if __Print_To_File<=0:\n",
    "    of=sys.stdout\n",
    "else:\n",
    "    of=open(\"./DotProduct_Systolic_{}_Indirect.v\".format(N), 'w+')"
   ]
  },
  {
   "cell_type": "code",
   "execution_count": 8,
   "metadata": {
    "collapsed": false
   },
   "outputs": [
    {
     "name": "stdout",
     "output_type": "stream",
     "text": [
      "`timescale 1ns / 1ps\n",
      "\n",
      "module DotProduct_Systolic_2\n",
      "#(\n",
      "parameter IN_WIDTH = 10,\n",
      "parameter INPUT_REG_DEPTH = 1,\n",
      "parameter MULT_PIPE_DEPTH = 1\n",
      ")(\n",
      "input clk, reset, enable,\n",
      "input inReady,\n",
      "input signed [IN_WIDTH-1:0] A0, A1, \n",
      "input signed [IN_WIDTH-1:0] B0, B1, \n",
      "output outReady,\n",
      "output signed [(2*IN_WIDTH)-1:0] DP\n",
      ");\n",
      "\n"
     ]
    }
   ],
   "source": [
    "print(\"`timescale 1ns / 1ps\\n\", file=of)\n",
    "print(\"module DotProduct_Systolic_{}\".format(N), file=of)\n",
    "print(\"#(\", file=of)\n",
    "print(\"parameter IN_WIDTH = {},\".format(IN_WIDTH), file=of)\n",
    "print(\"parameter INPUT_REG_DEPTH = {},\".format(INPUT_REG_DEPTH), file=of)\n",
    "print(\"parameter MULT_PIPE_DEPTH = {}\".format(MULT_PIPE_DEPTH), file=of)\n",
    "print(\")(\", file=of)\n",
    "print(\"input clk, reset, enable,\", file=of)\n",
    "print(\"input inReady,\", file=of)\n",
    "print(\"input signed [IN_WIDTH-1:0] \", end='', file=of)\n",
    "for i in range(N):\n",
    "    print(\"A{}, \".format(i), end='', file=of)\n",
    "print(file=of)\n",
    "print(\"input signed [IN_WIDTH-1:0] \", end='', file=of)\n",
    "for i in range(N):\n",
    "    print(\"B{}, \".format(i), end='', file=of)\n",
    "print(file=of)\n",
    "print(\"output outReady,\", file=of)\n",
    "lgn=math.ceil(math.log(N,2))\n",
    "al=-2+lgn\n",
    "if al==0:\n",
    "    print(\"output signed [(2*IN_WIDTH):0] DP\", file=of)\n",
    "elif al<0:\n",
    "    print(\"output signed [(2*IN_WIDTH){}:0] DP\".format(al), file=of)\n",
    "else:\n",
    "    print(\"output signed [(2*IN_WIDTH)+{}:0] DP\".format(al), file=of)\n",
    "print(\");\\n\", file=of)"
   ]
  },
  {
   "cell_type": "code",
   "execution_count": 9,
   "metadata": {
    "collapsed": false
   },
   "outputs": [
    {
     "name": "stdout",
     "output_type": "stream",
     "text": [
      "localparam M_WIDTH = (2*IN_WIDTH)-1;\n",
      "\n"
     ]
    }
   ],
   "source": [
    "print(\"localparam M_WIDTH = (2*IN_WIDTH)-1;\\n\", file=of)"
   ]
  },
  {
   "cell_type": "code",
   "execution_count": 10,
   "metadata": {
    "collapsed": false
   },
   "outputs": [
    {
     "name": "stdout",
     "output_type": "stream",
     "text": [
      "\n"
     ]
    }
   ],
   "source": [
    "for i in range(2,N):\n",
    "    print(\"reg signed [IN_WIDTH-1:0] A{}r [1:{}], B{}r [1:{}];\".format(i,i-1,i,i-1), file=of)\n",
    "print(file=of)"
   ]
  },
  {
   "cell_type": "code",
   "execution_count": 11,
   "metadata": {
    "collapsed": false
   },
   "outputs": [
    {
     "name": "stdout",
     "output_type": "stream",
     "text": [
      "reg [0:INPUT_REG_DEPTH+MULT_PIPE_DEPTH] OR = 0;\n",
      "integer d;\n",
      "always @(posedge clk) begin\n",
      "\tif(reset) begin\n",
      "\t\tOR <= 0;\n",
      "\tend\n",
      "\telse if(enable) begin\n",
      "\t\tOR[0] <= inReady;\n",
      "\t\tfor(d=0;d<(INPUT_REG_DEPTH+MULT_PIPE_DEPTH);d=d+1) begin\n",
      "\t\t\tOR[d+1] <= OR[d];\n",
      "\t\tend\n",
      "\tend\n",
      "end\n",
      "\n",
      "wire signed [M_WIDTH:0] M0i;\n",
      "generate\n"
     ]
    }
   ],
   "source": [
    "if N>4:\n",
    "    print(\"integer \", end='', file=of)\n",
    "for i in range(4,N-1):\n",
    "    print(\"k{}, \".format(i), end='', file=of)\n",
    "if N>4:\n",
    "    print(\"k{};\".format(N-1), file=of)\n",
    "if N>2:\n",
    "    print(\"reg [0:{}+INPUT_REG_DEPTH+MULT_PIPE_DEPTH] OR = 0;\".format(N-2), file=of)\n",
    "else:\n",
    "    print(\"reg [0:INPUT_REG_DEPTH+MULT_PIPE_DEPTH] OR = 0;\", file=of)    \n",
    "print(\"integer d;\", file=of)\n",
    "print(\"always @(posedge clk) begin\", file=of)\n",
    "print(\"\\tif(reset) begin\", file=of)\n",
    "print(\"\\t\\tOR <= 0;\".format(N), file=of)\n",
    "print(\"\\tend\", file=of)\n",
    "print(\"\\telse if(enable) begin\", file=of)\n",
    "if N>2:\n",
    "    print(\"\\t\\tA2r[1] <= A2;\", file=of)\n",
    "    print(\"\\t\\tB2r[1] <= B2;\", file=of)\n",
    "if N>3:\n",
    "    print(\"\\t\\tA3r[1] <= A3;\", file=of)\n",
    "    print(\"\\t\\tB3r[1] <= B3;\", file=of)\n",
    "    print(\"\\t\\tA3r[2] <= A3r[1];\", file=of)\n",
    "    print(\"\\t\\tB3r[2] <= B3r[1];\", file=of)\n",
    "for i in range(4,N):\n",
    "    print(\"\\t\\tA{}r[1] <= A{};\".format(i,i), file=of)\n",
    "    print(\"\\t\\tB{}r[1] <= B{};\".format(i,i), file=of)\n",
    "    print(\"\\t\\tfor(k{}=1;k{}<{};k{}=k{}+1) begin\".format(i,i,i-1,i,i), file=of)\n",
    "    print(\"\\t\\t\\tA{}r[k{}+1] <= A{}r[k{}];\".format(i,i,i,i), file=of)\n",
    "    print(\"\\t\\t\\tB{}r[k{}+1] <= B{}r[k{}];\".format(i,i,i,i), file=of)\n",
    "    print(\"\\t\\tend\", file=of)\n",
    "print(\"\\t\\tOR[0] <= inReady;\", file=of)\n",
    "if N>2:\n",
    "    print(\"\\t\\tfor(d=0;d<({}+INPUT_REG_DEPTH+MULT_PIPE_DEPTH);d=d+1) begin\".format(N-2), file=of)\n",
    "else:\n",
    "    print(\"\\t\\tfor(d=0;d<(INPUT_REG_DEPTH+MULT_PIPE_DEPTH);d=d+1) begin\", file=of)    \n",
    "print(\"\\t\\t\\tOR[d+1] <= OR[d];\", file=of)\n",
    "print(\"\\t\\tend\", file=of)\n",
    "print(\"\\tend\", file=of)\n",
    "print(\"end\\n\", file=of)\n",
    "print(\"wire signed [M_WIDTH:0] M0i;\", file=of)\n",
    "print(\"generate\", file=of)"
   ]
  },
  {
   "cell_type": "code",
   "execution_count": 12,
   "metadata": {
    "collapsed": false
   },
   "outputs": [
    {
     "name": "stdout",
     "output_type": "stream",
     "text": [
      "if(INPUT_REG_DEPTH==0 && MULT_PIPE_DEPTH==0) begin\n",
      "\n",
      "assign M0i = A0 * B0;\n",
      "\n",
      "end\n"
     ]
    }
   ],
   "source": [
    "print(\"if(INPUT_REG_DEPTH==0 && MULT_PIPE_DEPTH==0) begin\\n\", file=of)\n",
    "print(\"assign M0i = A0 * B0;\\n\", file=of)\n",
    "print(\"end\", file=of)"
   ]
  },
  {
   "cell_type": "code",
   "execution_count": 13,
   "metadata": {
    "collapsed": false
   },
   "outputs": [
    {
     "name": "stdout",
     "output_type": "stream",
     "text": [
      "else if(INPUT_REG_DEPTH==0 && MULT_PIPE_DEPTH!=0) begin\n",
      "\n",
      "reg signed [M_WIDTH:0] M0 [0:MULT_PIPE_DEPTH-1];\n",
      "integer i;\n",
      "always @(posedge clk) begin\n",
      "\tif(enable) begin\n",
      "\t\tM0[0] <= A0 * B0;\n",
      "\t\tfor(i=0;i<(MULT_PIPE_DEPTH-1);i=i+1) begin\n",
      "\t\t\tM0[i+1] <= M0[i];\n",
      "\t\tend\n",
      "\tend\n",
      "end\n",
      "assign M0i = M0[MULT_PIPE_DEPTH-1];\n",
      "\n",
      "end\n"
     ]
    }
   ],
   "source": [
    "print(\"else if(INPUT_REG_DEPTH==0 && MULT_PIPE_DEPTH!=0) begin\\n\", file=of)\n",
    "print(\"reg signed [M_WIDTH:0] M0 [0:MULT_PIPE_DEPTH-1];\".format(i), file=of)\n",
    "print(\"integer i;\", file=of)\n",
    "print(\"always @(posedge clk) begin\", file=of)\n",
    "print(\"\\tif(enable) begin\", file=of)\n",
    "print(\"\\t\\tM0[0] <= A0 * B0;\", file=of)\n",
    "print(\"\\t\\tfor(i=0;i<(MULT_PIPE_DEPTH-1);i=i+1) begin\".format(N-2), file=of)\n",
    "print(\"\\t\\t\\tM0[i+1] <= M0[i];\", file=of)\n",
    "print(\"\\t\\tend\", file=of)\n",
    "print(\"\\tend\", file=of)\n",
    "print(\"end\", file=of)\n",
    "print(\"assign M0i = M0[MULT_PIPE_DEPTH-1];\\n\", file=of)\n",
    "print(\"end\", file=of)"
   ]
  },
  {
   "cell_type": "code",
   "execution_count": 14,
   "metadata": {
    "collapsed": false
   },
   "outputs": [
    {
     "name": "stdout",
     "output_type": "stream",
     "text": [
      "else if(INPUT_REG_DEPTH!=0 && MULT_PIPE_DEPTH==0) begin\n",
      "\n",
      "reg signed [IN_WIDTH-1:0] A0r[1:INPUT_REG_DEPTH], B0r[1:INPUT_REG_DEPTH];\n",
      "integer k0;\n",
      "always @(posedge clk) begin\n",
      "\tif(enable) begin\n",
      "\t\tA0r[1] <= A0;\n",
      "\t\tB0r[1] <= B0;\n",
      "\t\tfor(k0=1;k0<INPUT_REG_DEPTH;k0=k0+1) begin\n",
      "\t\t\tA0r[k0+1] <= A0r[k0];\n",
      "\t\t\tB0r[k0+1] <= B0r[k0];\n",
      "\t\tend\n",
      "\tend\n",
      "end\n",
      "assign M0i = A0r[INPUT_REG_DEPTH] * B0r[INPUT_REG_DEPTH];\n",
      "\n",
      "end\n"
     ]
    }
   ],
   "source": [
    "print(\"else if(INPUT_REG_DEPTH!=0 && MULT_PIPE_DEPTH==0) begin\\n\", file=of)\n",
    "print(\"reg signed [IN_WIDTH-1:0] A0r[1:INPUT_REG_DEPTH], B0r[1:INPUT_REG_DEPTH];\", file=of)\n",
    "print(\"integer k0;\", file=of)\n",
    "print(\"always @(posedge clk) begin\", file=of)\n",
    "print(\"\\tif(enable) begin\", file=of)\n",
    "print(\"\\t\\tA0r[1] <= A0;\", file=of)\n",
    "print(\"\\t\\tB0r[1] <= B0;\", file=of)\n",
    "print(\"\\t\\tfor(k0=1;k0<INPUT_REG_DEPTH;k0=k0+1) begin\", file=of)\n",
    "print(\"\\t\\t\\tA0r[k0+1] <= A0r[k0];\", file=of)\n",
    "print(\"\\t\\t\\tB0r[k0+1] <= B0r[k0];\", file=of)\n",
    "print(\"\\t\\tend\", file=of)\n",
    "print(\"\\tend\", file=of)\n",
    "print(\"end\", file=of)\n",
    "print(\"assign M0i = A0r[INPUT_REG_DEPTH] * B0r[INPUT_REG_DEPTH];\\n\", file=of)\n",
    "print(\"end\", file=of)"
   ]
  },
  {
   "cell_type": "code",
   "execution_count": 15,
   "metadata": {
    "collapsed": false
   },
   "outputs": [
    {
     "name": "stdout",
     "output_type": "stream",
     "text": [
      "else begin //if(INPUT_REG_DEPTH!=0 && MULT_PIPE_DEPTH!=0)\n",
      "\n",
      "reg signed [IN_WIDTH-1:0] A0r[1:INPUT_REG_DEPTH], B0r[1:INPUT_REG_DEPTH];\n",
      "reg signed [M_WIDTH:0] M0 [0:MULT_PIPE_DEPTH-1];\n",
      "integer k0, i;\n",
      "always @(posedge clk) begin\n",
      "\tif(enable) begin\n",
      "\t\tA0r[1] <= A0;\n",
      "\t\tB0r[1] <= B0;\n",
      "\t\tfor(k0=1;k0<INPUT_REG_DEPTH;k0=k0+1) begin\n",
      "\t\t\tA0r[k0+1] <= A0r[k0];\n",
      "\t\t\tB0r[k0+1] <= B0r[k0];\n",
      "\t\tend\n",
      "\t\tM0[0] <= A0r[INPUT_REG_DEPTH] * B0r[INPUT_REG_DEPTH];\n",
      "\t\tfor(i=0;i<(MULT_PIPE_DEPTH-1);i=i+1) begin\n",
      "\t\t\tM0[i+1] <= M0[i];\n",
      "\t\tend\n",
      "\tend\n",
      "end\n",
      "assign M0i = M0[MULT_PIPE_DEPTH-1];\n",
      "\n",
      "end\n"
     ]
    }
   ],
   "source": [
    "print(\"else begin //if(INPUT_REG_DEPTH!=0 && MULT_PIPE_DEPTH!=0)\\n\", file=of)\n",
    "print(\"reg signed [IN_WIDTH-1:0] A0r[1:INPUT_REG_DEPTH], B0r[1:INPUT_REG_DEPTH];\", file=of)\n",
    "print(\"reg signed [M_WIDTH:0] M0 [0:MULT_PIPE_DEPTH-1];\".format(i), file=of)\n",
    "print(\"integer k0, i;\", file=of)\n",
    "print(\"always @(posedge clk) begin\", file=of)\n",
    "print(\"\\tif(enable) begin\", file=of)\n",
    "print(\"\\t\\tA0r[1] <= A0;\", file=of)\n",
    "print(\"\\t\\tB0r[1] <= B0;\", file=of)\n",
    "print(\"\\t\\tfor(k0=1;k0<INPUT_REG_DEPTH;k0=k0+1) begin\", file=of)\n",
    "print(\"\\t\\t\\tA0r[k0+1] <= A0r[k0];\", file=of)\n",
    "print(\"\\t\\t\\tB0r[k0+1] <= B0r[k0];\", file=of)\n",
    "print(\"\\t\\tend\", file=of)\n",
    "print(\"\\t\\tM0[0] <= A0r[INPUT_REG_DEPTH] * B0r[INPUT_REG_DEPTH];\", file=of)\n",
    "print(\"\\t\\tfor(i=0;i<(MULT_PIPE_DEPTH-1);i=i+1) begin\".format(N-2), file=of)\n",
    "print(\"\\t\\t\\tM0[i+1] <= M0[i];\", file=of)\n",
    "print(\"\\t\\tend\", file=of)\n",
    "print(\"\\tend\", file=of)\n",
    "print(\"end\", file=of)\n",
    "print(\"assign M0i = M0[MULT_PIPE_DEPTH-1];\\n\", file=of)\n",
    "print(\"end\", file=of)"
   ]
  },
  {
   "cell_type": "code",
   "execution_count": 16,
   "metadata": {
    "collapsed": false
   },
   "outputs": [
    {
     "name": "stdout",
     "output_type": "stream",
     "text": [
      "endgenerate\n",
      "\n",
      "wire signed [M_WIDTH:0] psl1 [0:0];\n",
      "\n"
     ]
    }
   ],
   "source": [
    "print(\"endgenerate\\n\", file=of)\n",
    "i=0; twoPW=1; j=N-1; k=0;\n",
    "while(True):\n",
    "    i+=1\n",
    "    if i == twoPW:\n",
    "        k+=1;\n",
    "        if i==1:\n",
    "            print(\"wire signed [M_WIDTH:0] psl{} [0:{}];\".format(k,twoPW-1), file=of)\n",
    "        else:\n",
    "            print(\"wire signed [M_WIDTH+{}:0] psl{} [0:{}];\".format(k-1,k,twoPW-1), file=of)\n",
    "        twoPW = 2*twoPW\n",
    "        j-=i\n",
    "        if j==0:\n",
    "            break\n",
    "        elif j<twoPW:\n",
    "            k+=1\n",
    "            print(\"wire signed [M_WIDTH+{}:0] psl{} [0:{}];\".format(k-1,k,j-1), file=of)\n",
    "            break\n",
    "print(file=of)"
   ]
  },
  {
   "cell_type": "code",
   "execution_count": 17,
   "metadata": {
    "collapsed": false
   },
   "outputs": [
    {
     "name": "stdout",
     "output_type": "stream",
     "text": [
      "MultiplyAdd #( .IN_M_WIDTH(IN_WIDTH), .IN_A_WIDTH(M_WIDTH), .OUT_WIDTH(M_WIDTH+1), .INPUT_REG_DEPTH(INPUT_REG_DEPTH), .MULT_PIPE_DEPTH(MULT_PIPE_DEPTH) )\n",
      "\tMA1(clk, enable, A1, B1, M0i[M_WIDTH-1:0], psl1[0]);\n"
     ]
    }
   ],
   "source": [
    "i=0; twoPW=1; j=0; k=0; ok=0; l=0; ol=0;\n",
    "while(True):\n",
    "    if j==N-1:\n",
    "        break\n",
    "    i+=1\n",
    "    ol=l;\n",
    "    l+=1;\n",
    "    ok=k;\n",
    "    if i == twoPW:\n",
    "        k+=1;\n",
    "        twoPW = 2*twoPW\n",
    "        l=0;\n",
    "    j+=1;\n",
    "    if j==1:\n",
    "        print(\"\"\"MultiplyAdd #( .IN_M_WIDTH(IN_WIDTH), .IN_A_WIDTH(M_WIDTH), .OUT_WIDTH(M_WIDTH+1), .INPUT_REG_DEPTH(INPUT_REG_DEPTH), .MULT_PIPE_DEPTH(MULT_PIPE_DEPTH) )\n",
    "\\tMA1(clk, enable, A1, B1, M0i[M_WIDTH-1:0], psl1[0]);\"\"\", file=of)\n",
    "    else:\n",
    "        print(\"\"\"MultiplyAdd #( .IN_M_WIDTH(IN_WIDTH), .IN_A_WIDTH(M_WIDTH+{}), .OUT_WIDTH(M_WIDTH+{}), .INPUT_REG_DEPTH(INPUT_REG_DEPTH), .MULT_PIPE_DEPTH(MULT_PIPE_DEPTH) )\n",
    "\\tMA{}(clk, enable, A{}r[{}], B{}r[{}], psl{}[{}], psl{}[{}]);\"\"\".format(ok,k,j,j,j-1,j,j-1,ok,ol,k,l), file=of)"
   ]
  },
  {
   "cell_type": "code",
   "execution_count": 18,
   "metadata": {
    "collapsed": false
   },
   "outputs": [
    {
     "name": "stdout",
     "output_type": "stream",
     "text": [
      "\n",
      "assign DP = psl1[0];\n",
      "assign outReady = OR[INPUT_REG_DEPTH+MULT_PIPE_DEPTH];\n",
      "\n",
      "endmodule\n"
     ]
    }
   ],
   "source": [
    "print(\"\\nassign DP = psl{}[{}];\".format(k,l), file=of)\n",
    "if N>2:\n",
    "    print(\"assign outReady = OR[{}+INPUT_REG_DEPTH+MULT_PIPE_DEPTH];\\n\".format(N-2), file=of)\n",
    "else:\n",
    "    print(\"assign outReady = OR[INPUT_REG_DEPTH+MULT_PIPE_DEPTH];\\n\", file=of)\n",
    "print(\"endmodule\", file=of)"
   ]
  },
  {
   "cell_type": "code",
   "execution_count": 19,
   "metadata": {
    "collapsed": false
   },
   "outputs": [],
   "source": [
    "if __Print_To_File>0:\n",
    "    of.close()"
   ]
  }
 ],
 "metadata": {
  "kernelspec": {
   "display_name": "Python 3",
   "language": "python",
   "name": "python3"
  },
  "language_info": {
   "codemirror_mode": {
    "name": "ipython",
    "version": 3
   },
   "file_extension": ".py",
   "mimetype": "text/x-python",
   "name": "python",
   "nbconvert_exporter": "python",
   "pygments_lexer": "ipython3",
   "version": "3.5.1"
  }
 },
 "nbformat": 4,
 "nbformat_minor": 0
}
