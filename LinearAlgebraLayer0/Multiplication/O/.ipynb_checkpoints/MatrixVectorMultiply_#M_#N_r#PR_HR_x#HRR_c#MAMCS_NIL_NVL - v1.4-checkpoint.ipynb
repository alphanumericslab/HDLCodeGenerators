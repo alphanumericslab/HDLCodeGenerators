{
 "cells": [
  {
   "cell_type": "code",
   "execution_count": 1,
   "metadata": {
    "collapsed": true
   },
   "outputs": [],
   "source": [
    "#changed inputs and outputs count and order\n",
    "#completed and changed output file and module name\n",
    "#changed to 2 group outReady\n",
    "#inReadyC definition simplified\n",
    "#changed initial checks\n",
    "#added earlyNewOutReady\n",
    "#changed HRR min value to 2"
   ]
  },
  {
   "cell_type": "code",
   "execution_count": 2,
   "metadata": {
    "collapsed": true
   },
   "outputs": [],
   "source": [
    "#uses DotProduct_#N_HR_x#HRR_p#NOIPS_c#MAMCS_NIL - v4.3\n",
    "#uses DotProduct_#N_noHR_c#MAMCS - v3.4"
   ]
  },
  {
   "cell_type": "code",
   "execution_count": 3,
   "metadata": {
    "collapsed": true
   },
   "outputs": [],
   "source": [
    "import sys\n",
    "import math"
   ]
  },
  {
   "cell_type": "code",
   "execution_count": 4,
   "metadata": {
    "collapsed": false
   },
   "outputs": [
    {
     "name": "stdout",
     "output_type": "stream",
     "text": [
      "Enter M: 5\n"
     ]
    }
   ],
   "source": [
    "#M>=1\n",
    "M = input('Enter M: ')"
   ]
  },
  {
   "cell_type": "code",
   "execution_count": 5,
   "metadata": {
    "collapsed": false
   },
   "outputs": [
    {
     "name": "stdout",
     "output_type": "stream",
     "text": [
      "Enter N: 30\n"
     ]
    }
   ],
   "source": [
    "#N>=1\n",
    "#N better to be >= HRR, if N<HRR, can decrease HRR (to N)\n",
    "N = input('Enter N: ')"
   ]
  },
  {
   "cell_type": "code",
   "execution_count": 6,
   "metadata": {
    "collapsed": false
   },
   "outputs": [
    {
     "name": "stdout",
     "output_type": "stream",
     "text": [
      "Enter No Of Parallel Row (empty for 1): 3\n"
     ]
    }
   ],
   "source": [
    "#>=1, <=M\n",
    "PR = input('Enter No Of Parallel Row (empty for 1): ')"
   ]
  },
  {
   "cell_type": "code",
   "execution_count": 7,
   "metadata": {
    "collapsed": false,
    "scrolled": false
   },
   "outputs": [
    {
     "name": "stdout",
     "output_type": "stream",
     "text": [
      "Enter HRR (empty for 2): 2\n"
     ]
    }
   ],
   "source": [
    "#HRR>=2\n",
    "HRR = input('Enter HRR (empty for 2): ')"
   ]
  },
  {
   "cell_type": "code",
   "execution_count": 8,
   "metadata": {
    "collapsed": true
   },
   "outputs": [],
   "source": [
    "M = int(M)\n",
    "if(M<1):\n",
    "    M=1\n",
    "N = int(N)\n",
    "if(N<1):\n",
    "    N=1\n",
    "if not PR:\n",
    "    PR=1\n",
    "else:\n",
    "    PR = int(PR)\n",
    "    if PR>M:\n",
    "        PR = M\n",
    "if not HRR:\n",
    "    HRR=2\n",
    "else:\n",
    "    HRR = int(HRR)\n",
    "    if HRR<2:\n",
    "        HRR=2\n",
    "NMult = math.ceil(N/HRR); #Number of Multipliers Needed"
   ]
  },
  {
   "cell_type": "code",
   "execution_count": 9,
   "metadata": {
    "collapsed": false
   },
   "outputs": [
    {
     "name": "stdout",
     "output_type": "stream",
     "text": [
      "Enter Multiply-Add Max Component Size (empty for 15): 10\n"
     ]
    }
   ],
   "source": [
    "#MAMCS>=1\n",
    "MAMCS = input('Enter Multiply-Add Max Component Size (empty for {}): '.format(NMult))"
   ]
  },
  {
   "cell_type": "code",
   "execution_count": 10,
   "metadata": {
    "collapsed": false
   },
   "outputs": [
    {
     "name": "stdout",
     "output_type": "stream",
     "text": [
      "Enter IN_WIDTH default value (empty for 10): \n"
     ]
    }
   ],
   "source": [
    "#IN_WIDTH>=1\n",
    "IN_WIDTH = input('Enter IN_WIDTH default value (empty for 10): ')"
   ]
  },
  {
   "cell_type": "code",
   "execution_count": 11,
   "metadata": {
    "collapsed": false
   },
   "outputs": [
    {
     "name": "stdout",
     "output_type": "stream",
     "text": [
      "Enter INPUT_REG_DEPTH default value (empty for 1): \n"
     ]
    }
   ],
   "source": [
    "#INPUT_REG_DEPTH>=0\n",
    "INPUT_REG_DEPTH = input('Enter INPUT_REG_DEPTH default value (empty for 1): ')"
   ]
  },
  {
   "cell_type": "code",
   "execution_count": 12,
   "metadata": {
    "collapsed": false
   },
   "outputs": [
    {
     "name": "stdout",
     "output_type": "stream",
     "text": [
      "Enter MULT_PIPE_DEPTH default value (empty for 1): \n"
     ]
    }
   ],
   "source": [
    "#MULT_PIPE_DEPTH>=0\n",
    "MULT_PIPE_DEPTH = input('Enter MULT_PIPE_DEPTH default value (empty for 1): ')"
   ]
  },
  {
   "cell_type": "code",
   "execution_count": 13,
   "metadata": {
    "collapsed": false
   },
   "outputs": [],
   "source": [
    "if not MAMCS:\n",
    "    MAMCS = NMult\n",
    "else:\n",
    "    MAMCS = int(MAMCS)\n",
    "    if MAMCS>NMult:\n",
    "        MAMCS = NMult;\n",
    "    elif(MAMCS<1):\n",
    "        MAMCS=1\n",
    "if not IN_WIDTH:\n",
    "    IN_WIDTH=10\n",
    "else:\n",
    "    IN_WIDTH = int(IN_WIDTH)\n",
    "    if(IN_WIDTH<1):\n",
    "        IN_WIDTH=1\n",
    "if not INPUT_REG_DEPTH:\n",
    "    INPUT_REG_DEPTH=1\n",
    "else:\n",
    "    INPUT_REG_DEPTH = int(INPUT_REG_DEPTH)\n",
    "    if(INPUT_REG_DEPTH<0):\n",
    "        INPUT_REG_DEPTH=0\n",
    "if not MULT_PIPE_DEPTH:\n",
    "    MULT_PIPE_DEPTH=1\n",
    "else:\n",
    "    MULT_PIPE_DEPTH = int(MULT_PIPE_DEPTH)\n",
    "    if(MULT_PIPE_DEPTH<0):\n",
    "        MULT_PIPE_DEPTH=0"
   ]
  },
  {
   "cell_type": "code",
   "execution_count": 14,
   "metadata": {
    "collapsed": false
   },
   "outputs": [],
   "source": [
    "__Print_To_File = 0\n",
    "\n",
    "if __Print_To_File<=0:\n",
    "    of=sys.stdout\n",
    "else:\n",
    "    of=open(\"./MatrixVectorMultiply_{}_{}_r{}_HR_x{}_c{}_NIL_NVL.v\".format(M, N, PR, HRR, MAMCS), 'w+')"
   ]
  },
  {
   "cell_type": "code",
   "execution_count": 15,
   "metadata": {
    "collapsed": false,
    "scrolled": true
   },
   "outputs": [
    {
     "name": "stdout",
     "output_type": "stream",
     "text": [
      "`timescale 1ns / 1ps\n",
      "\n",
      "module MatrixVectorMultiply_5_30_r3_HR_x2_c10_NIL_NVL\n",
      "#(\n",
      "parameter IN_WIDTH = 10,\n",
      "parameter INPUT_REG_DEPTH = 1,\n",
      "parameter MULT_PIPE_DEPTH = 1\n",
      ")(\n",
      "input clk, reset, enable,\n",
      "output readyForNewRow,\n",
      "output reg columnInSeries = 0,\n",
      "input inReady,\n",
      "input signed [IN_WIDTH-1:0] A0r0, A1r0, A2r0, A3r0, A4r0, A5r0, A6r0, A7r0, A8r0, A9r0, A10r0, A11r0, A12r0, A13r0, A14r0, A15r0, A16r0, A17r0, A18r0, A19r0, A20r0, A21r0, A22r0, A23r0, A24r0, A25r0, A26r0, A27r0, A28r0, A29r0, \n",
      "input signed [IN_WIDTH-1:0] A0r1, A1r1, A2r1, A3r1, A4r1, A5r1, A6r1, A7r1, A8r1, A9r1, A10r1, A11r1, A12r1, A13r1, A14r1, A15r1, A16r1, A17r1, A18r1, A19r1, A20r1, A21r1, A22r1, A23r1, A24r1, A25r1, A26r1, A27r1, A28r1, A29r1, \n",
      "input signed [IN_WIDTH-1:0] A0r2, A1r2, A2r2, A3r2, A4r2, A5r2, A6r2, A7r2, A8r2, A9r2, A10r2, A11r2, A12r2, A13r2, A14r2, A15r2, A16r2, A17r2, A18r2, A19r2, A20r2, A21r2, A22r2, A23r2, A24r2, A25r2, A26r2, A27r2, A28r2, A29r2, \n",
      "input signed [IN_WIDTH-1:0] Vi0, Vi1, Vi2, Vi3, Vi4, Vi5, Vi6, Vi7, Vi8, Vi9, Vi10, Vi11, Vi12, Vi13, Vi14, Vi15, Vi16, Vi17, Vi18, Vi19, Vi20, Vi21, Vi22, Vi23, Vi24, Vi25, Vi26, Vi27, Vi28, Vi29, \n",
      "output newVo0toVo1Ready,\n",
      "output newVo2Ready,\n",
      "output reg outSeries = 1,\n",
      "output signed [(2*IN_WIDTH)+3:0] Vo0, Vo1, Vo2, \n",
      "output earlyNewVo0toVo1Ready,\n",
      "output earlyNewVo2Ready\n",
      ");\n",
      "\n"
     ]
    }
   ],
   "source": [
    "print(\"`timescale 1ns / 1ps\\n\", file=of)\n",
    "print(\"module MatrixVectorMultiply_{}_{}_r{}_HR_x{}_c{}_NIL_NVL\".format(M, N, PR, HRR, MAMCS), file=of)\n",
    "print(\"#(\", file=of)\n",
    "print(\"parameter IN_WIDTH = {},\".format(IN_WIDTH), file=of)\n",
    "print(\"parameter INPUT_REG_DEPTH = {},\".format(INPUT_REG_DEPTH), file=of)\n",
    "print(\"parameter MULT_PIPE_DEPTH = {}\".format(MULT_PIPE_DEPTH), file=of)\n",
    "print(\")(\", file=of)\n",
    "print(\"input clk, reset, enable,\", file=of)\n",
    "print(\"output readyForNewRow,\", file=of)\n",
    "RS=math.ceil(M/PR)\n",
    "lgRS=math.ceil(math.log2(RS))\n",
    "if lgRS<=1:\n",
    "    print(\"output reg columnInSeries = 0,\", file=of)\n",
    "else:\n",
    "    print(\"output reg [{}:0] columnInSeries = 0,\".format(lgRS-1), file=of)\n",
    "print(\"input inReady,\", file=of)\n",
    "for j in range(PR):\n",
    "    print(\"input signed [IN_WIDTH-1:0] \", end='', file=of)\n",
    "    for i in range(N):\n",
    "        print(\"A{}r{}, \".format(i, j), end='', file=of)\n",
    "    print(file=of)\n",
    "print(\"input signed [IN_WIDTH-1:0] \", end='', file=of)\n",
    "for i in range(N):\n",
    "    print(\"Vi{}, \".format(i), end='', file=of)\n",
    "print(file=of)\n",
    "ar=RS*PR-M\n",
    "ME = PR-ar-1\n",
    "if ME==0:\n",
    "    st1=\"Vo0\"\n",
    "else:\n",
    "    st1=\"Vo0toVo{}\".format(ME)\n",
    "print(\"output new\", end='', file=of)\n",
    "print(st1, end='', file=of)\n",
    "print(\"Ready,\", file=of)\n",
    "if ar==0:\n",
    "    print(\"output reg newVoNReady = 0, //not used\", file=of)\n",
    "else:\n",
    "    if ME==(PR-2):\n",
    "        st2=\"Vo{}\".format(PR-1)\n",
    "    else:\n",
    "        st2=\"Vo{}toVo{}\".format(ME+1, PR-1)\n",
    "    print(\"output new\", end='', file=of)\n",
    "    print(st2, end='', file=of)\n",
    "    print(\"Ready,\", file=of)\n",
    "if lgRS<=1:\n",
    "    print(\"output reg outSeries = {},\".format(RS-1), file=of)\n",
    "else:\n",
    "    print(\"output reg [{}:0] outSeries = {},\".format(lgRS-1, RS-1), file=of)\n",
    "lgn=math.ceil(math.log2(N))\n",
    "al=-2+lgn\n",
    "if al==0:\n",
    "    print(\"output signed [(2*IN_WIDTH):0] \", end='',file=of)\n",
    "elif al<0:\n",
    "    print(\"output signed [(2*IN_WIDTH){}:0] \".format(al), end='',file=of)\n",
    "else:\n",
    "    print(\"output signed [(2*IN_WIDTH)+{}:0] \".format(al), end='',file=of)\n",
    "for i in range(PR):\n",
    "    print(\"Vo{}, \".format(i), end='',file=of)\n",
    "print(file=of)\n",
    "print(\"output earlyNew\", end='', file=of)\n",
    "print(st1, end='', file=of)\n",
    "print(\"Ready,\", file=of)\n",
    "if ar==0:\n",
    "    print(\"output reg earlyNewVoNReady = 0 //not used\", file=of)\n",
    "else:\n",
    "    print(\"output earlyNew\", end='', file=of)\n",
    "    print(st2, end='', file=of)\n",
    "    print(\"Ready\", file=of)\n",
    "print(\");\\n\", file=of)"
   ]
  },
  {
   "cell_type": "code",
   "execution_count": 16,
   "metadata": {
    "collapsed": false
   },
   "outputs": [
    {
     "name": "stdout",
     "output_type": "stream",
     "text": [
      "wire inReadyC = (columnInSeries!=1) & inReady;\n",
      "wire rowInSeries;\n",
      "wire DPnewOutReady;\n",
      "wire DPnewOutReadyC;\n",
      "wire DPearlyNewOutReady;\n",
      "wire DPearlyNewOutReadyC;\n",
      "\n",
      "DotProduct_30_HR_x2_c10_NIL#( .IN_WIDTH(IN_WIDTH), .INPUT_REG_DEPTH(INPUT_REG_DEPTH), .MULT_PIPE_DEPTH(MULT_PIPE_DEPTH) )\n",
      "\tDP_0(clk, reset, enable,\n",
      "\treadyForNewRow,\n",
      "\trowInSeries,\n",
      "\tinReady,\n",
      "\tA0r0, A1r0, A2r0, A3r0, A4r0, A5r0, A6r0, A7r0, A8r0, A9r0, A10r0, A11r0, A12r0, A13r0, A14r0, A15r0, A16r0, A17r0, A18r0, A19r0, A20r0, A21r0, A22r0, A23r0, A24r0, A25r0, A26r0, A27r0, A28r0, A29r0, \n",
      "\tVi0, Vi1, Vi2, Vi3, Vi4, Vi5, Vi6, Vi7, Vi8, Vi9, Vi10, Vi11, Vi12, Vi13, Vi14, Vi15, Vi16, Vi17, Vi18, Vi19, Vi20, Vi21, Vi22, Vi23, Vi24, Vi25, Vi26, Vi27, Vi28, Vi29, \n",
      "\tDPnewOutReady,\n",
      "\tVo0,\n",
      "\tDPearlyNewOutReady\n",
      "\t);\n",
      "\n",
      "DotProduct_30_HR_x2_c10_NIL#( .IN_WIDTH(IN_WIDTH), .INPUT_REG_DEPTH(INPUT_REG_DEPTH), .MULT_PIPE_DEPTH(MULT_PIPE_DEPTH) )\n",
      "\tDP_1(clk, reset, enable,\n",
      "\tLLreadyForNewDataSeries1, //not used\n",
      "\tLLInSeries1, //not used\n",
      "\tinReady,\n",
      "\tA0r1, A1r1, A2r1, A3r1, A4r1, A5r1, A6r1, A7r1, A8r1, A9r1, A10r1, A11r1, A12r1, A13r1, A14r1, A15r1, A16r1, A17r1, A18r1, A19r1, A20r1, A21r1, A22r1, A23r1, A24r1, A25r1, A26r1, A27r1, A28r1, A29r1, \n",
      "\tVi0, Vi1, Vi2, Vi3, Vi4, Vi5, Vi6, Vi7, Vi8, Vi9, Vi10, Vi11, Vi12, Vi13, Vi14, Vi15, Vi16, Vi17, Vi18, Vi19, Vi20, Vi21, Vi22, Vi23, Vi24, Vi25, Vi26, Vi27, Vi28, Vi29, \n",
      "\tDPnewOutReady1, //not used\n",
      "\tVo1,\n",
      "\tDPearlyNewOutReady1 //not used\n",
      "\t);\n",
      "\n",
      "DotProduct_30_HR_x2_c10_NIL#( .IN_WIDTH(IN_WIDTH), .INPUT_REG_DEPTH(INPUT_REG_DEPTH), .MULT_PIPE_DEPTH(MULT_PIPE_DEPTH) )\n",
      "\tDP_2(clk, reset, enable,\n",
      "\tLLreadyForNewDataSeries2, //not used\n",
      "\tLLInSeries2, //not used\n",
      "\tinReadyC,\n",
      "\tA0r2, A1r2, A2r2, A3r2, A4r2, A5r2, A6r2, A7r2, A8r2, A9r2, A10r2, A11r2, A12r2, A13r2, A14r2, A15r2, A16r2, A17r2, A18r2, A19r2, A20r2, A21r2, A22r2, A23r2, A24r2, A25r2, A26r2, A27r2, A28r2, A29r2, \n",
      "\tVi0, Vi1, Vi2, Vi3, Vi4, Vi5, Vi6, Vi7, Vi8, Vi9, Vi10, Vi11, Vi12, Vi13, Vi14, Vi15, Vi16, Vi17, Vi18, Vi19, Vi20, Vi21, Vi22, Vi23, Vi24, Vi25, Vi26, Vi27, Vi28, Vi29, \n",
      "\tDPnewOutReadyC,\n",
      "\tVo2,\n",
      "\tDPearlyNewOutReadyC\n",
      "\t);\n",
      "\n"
     ]
    }
   ],
   "source": [
    "if(ar>0): #RS*PR > M, RS>=2\n",
    "    #LLinReady is ignored by DP when rowInSeries!=0\n",
    "    print(\"wire inReadyC = (columnInSeries!={}) & inReady;\".format(RS-1), file=of)\n",
    "if(RS>1):\n",
    "    lghrr=math.ceil(math.log2(HRR))\n",
    "    if lghrr==1:\n",
    "        print(\"wire rowInSeries;\", file=of)\n",
    "    elif lghrr>1:\n",
    "        print(\"wire [{}:0] rowInSeries;\".format(lghrr-1), file=of)\n",
    "print(\"wire DPnewOutReady;\", file=of)\n",
    "if(ar>0):\n",
    "    print(\"wire DPnewOutReadyC;\", file=of)\n",
    "print(\"wire DPearlyNewOutReady;\", file=of)\n",
    "if(ar>0):\n",
    "    print(\"wire DPearlyNewOutReadyC;\", file=of)\n",
    "print(file=of)        \n",
    "\n",
    "for i in range (PR):\n",
    "    print(\"DotProduct_{}_HR_x{}_c{}_NIL#( .IN_WIDTH(IN_WIDTH), .INPUT_REG_DEPTH(INPUT_REG_DEPTH), .MULT_PIPE_DEPTH(MULT_PIPE_DEPTH) )\".format(N, HRR, MAMCS), file=of)\n",
    "    print(\"\\tDP_{}(clk, reset, enable,\".format(i), file=of)\n",
    "    if i==0:\n",
    "        print(\"\\treadyForNewRow,\", file=of)\n",
    "    else:\n",
    "        print(\"\\tLLreadyForNewDataSeries{}, //not used\".format(i), file=of)\n",
    "    if i==0 and RS>1:\n",
    "        print(\"\\trowInSeries,\", file=of)\n",
    "    else:\n",
    "        print(\"\\tLLInSeries{}, //not used\".format(i), file=of)\n",
    "    if(PR-i<=ar):\n",
    "        print(\"\\tinReadyC,\", file=of)\n",
    "    else:\n",
    "        print(\"\\tinReady,\", file=of)\n",
    "    print(\"\\t\", end='', file=of)\n",
    "    for j in range(N):\n",
    "        print(\"A{}r{}, \".format(j, i), end='', file=of)\n",
    "    print(file=of)\n",
    "    print(\"\\t\", end='', file=of)\n",
    "    for j in range(N):\n",
    "        print(\"Vi{}, \".format(j), end='', file=of)\n",
    "    print(file=of)\n",
    "    if i==0:\n",
    "        print(\"\\tDPnewOutReady,\", file=of)\n",
    "    elif i==PR-ar:\n",
    "        print(\"\\tDPnewOutReadyC,\", file=of)\n",
    "    else:\n",
    "        print(\"\\tDPnewOutReady{}, //not used\".format(i), file=of) \n",
    "    print(\"\\tVo{},\".format(i), file=of)\n",
    "    if i==0:\n",
    "        print(\"\\tDPearlyNewOutReady\\n\\t);\\n\", file=of)\n",
    "    elif i==PR-ar:\n",
    "        print(\"\\tDPearlyNewOutReadyC\\n\\t);\\n\", file=of)\n",
    "    else:\n",
    "        print(\"\\tDPearlyNewOutReady{} //not used\\n\\t);\\n\".format(i), file=of)"
   ]
  },
  {
   "cell_type": "code",
   "execution_count": 17,
   "metadata": {
    "collapsed": false
   },
   "outputs": [
    {
     "name": "stdout",
     "output_type": "stream",
     "text": [
      "always @(posedge clk) begin\n",
      "\tif(reset) begin\n",
      "\t\tcolumnInSeries <= 0;\n",
      "\tend\n",
      "\telse if(enable) begin\n",
      "\t\tif(rowInSeries==1) begin\n",
      "\t\t\tif(columnInSeries==1) begin\n",
      "\t\t\t\tcolumnInSeries <= 0;\n",
      "\t\t\tend\n",
      "\t\t\telse begin\n",
      "\t\t\t\tcolumnInSeries <= 1;\n",
      "\t\t\tend\n",
      "\t\tend\n",
      "\tend\n",
      "end\n",
      "\n"
     ]
    }
   ],
   "source": [
    "if(RS>1):\n",
    "    print(\"always @(posedge clk) begin\", file=of)\n",
    "    print(\"\\tif(reset) begin\", file=of)\n",
    "    print(\"\\t\\tcolumnInSeries <= 0;\", file=of)\n",
    "    print(\"\\tend\", file=of)\n",
    "    print(\"\\telse if(enable) begin\", file=of)\n",
    "    print(\"\\t\\tif(rowInSeries=={}) begin\".format(HRR-1), file=of)\n",
    "    print(\"\\t\\t\\tif(columnInSeries=={}) begin\".format(RS-1), file=of)\n",
    "    print(\"\\t\\t\\t\\tcolumnInSeries <= 0;\", file=of)\n",
    "    print(\"\\t\\t\\tend\", file=of)\n",
    "    print(\"\\t\\t\\telse begin\", file=of)\n",
    "    if RS==2:\n",
    "        print(\"\\t\\t\\t\\tcolumnInSeries <= 1;\", file=of)    \n",
    "    else:\n",
    "        print(\"\\t\\t\\t\\tcolumnInSeries <= columnInSeries+1;\", file=of)\n",
    "    print(\"\\t\\t\\tend\", file=of)    \n",
    "    print(\"\\t\\tend\", file=of)\n",
    "    print(\"\\tend\", file=of)\n",
    "    print(\"end\\n\", file=of)"
   ]
  },
  {
   "cell_type": "code",
   "execution_count": 18,
   "metadata": {
    "collapsed": false
   },
   "outputs": [
    {
     "name": "stdout",
     "output_type": "stream",
     "text": [
      "always @(posedge clk) begin\n",
      "\tif(reset) begin\n",
      "\t\toutSeries <= 1;\n",
      "\tend\n",
      "\telse if(enable) begin\n",
      "\t\tif(DPearlyNewOutReady) begin\n",
      "\t\t\tif(outSeries==1) begin\n",
      "\t\t\t\toutSeries <= 0;\n",
      "\t\t\tend\n",
      "\t\t\telse begin\n",
      "\t\t\t\toutSeries <= 1;\n",
      "\t\t\tend\n",
      "\t\tend\n",
      "\tend\n",
      "end\n",
      "\n"
     ]
    }
   ],
   "source": [
    "if(RS>1):\n",
    "    print(\"always @(posedge clk) begin\", file=of)\n",
    "    print(\"\\tif(reset) begin\", file=of)\n",
    "    print(\"\\t\\toutSeries <= {};\".format(RS-1), file=of)\n",
    "    print(\"\\tend\", file=of)\n",
    "    print(\"\\telse if(enable) begin\", file=of)\n",
    "    print(\"\\t\\tif(DPearlyNewOutReady) begin\", file=of)\n",
    "    print(\"\\t\\t\\tif(outSeries=={}) begin\".format(RS-1), file=of)\n",
    "    print(\"\\t\\t\\t\\toutSeries <= 0;\", file=of)\n",
    "    print(\"\\t\\t\\tend\", file=of)\n",
    "    print(\"\\t\\t\\telse begin\", file=of)\n",
    "    if RS==2:\n",
    "        print(\"\\t\\t\\t\\toutSeries <= 1;\", file=of)\n",
    "    else:\n",
    "        print(\"\\t\\t\\t\\toutSeries <= outSeries+1;\", file=of)\n",
    "    print(\"\\t\\t\\tend\", file=of)\n",
    "    print(\"\\t\\tend\", file=of)\n",
    "    print(\"\\tend\", file=of)\n",
    "    print(\"end\\n\", file=of)"
   ]
  },
  {
   "cell_type": "code",
   "execution_count": 19,
   "metadata": {
    "collapsed": false
   },
   "outputs": [
    {
     "name": "stdout",
     "output_type": "stream",
     "text": [
      "assign newVo0toVo1Ready = DPnewOutReady;\n",
      "assign newVo2Ready = DPnewOutReadyC;\n",
      "\n",
      "assign earlyNewVo0toVo1Ready = DPearlyNewOutReady;\n",
      "assign earlyNewVo2Ready = DPearlyNewOutReadyC;\n",
      "\n"
     ]
    }
   ],
   "source": [
    "print(\"assign new\", end='', file=of)\n",
    "print(st1, end='', file=of)\n",
    "print(\"Ready = DPnewOutReady;\", file=of)\n",
    "if ar>0:\n",
    "    print(\"assign new\", end='', file=of)\n",
    "    print(st2, end='', file=of)\n",
    "    print(\"Ready = DPnewOutReadyC;\", file=of)\n",
    "print(file=of)\n",
    "print(\"assign earlyNew\", end='', file=of)\n",
    "print(st1, end='', file=of)\n",
    "print(\"Ready = DPearlyNewOutReady;\", file=of)\n",
    "if ar>0:\n",
    "    print(\"assign earlyNew\", end='', file=of)\n",
    "    print(st2, end='', file=of)\n",
    "    print(\"Ready = DPearlyNewOutReadyC;\", file=of)\n",
    "print(file=of)"
   ]
  },
  {
   "cell_type": "code",
   "execution_count": 20,
   "metadata": {
    "collapsed": false
   },
   "outputs": [
    {
     "name": "stdout",
     "output_type": "stream",
     "text": [
      "endmodule\n"
     ]
    }
   ],
   "source": [
    "print(\"endmodule\", file=of)"
   ]
  },
  {
   "cell_type": "code",
   "execution_count": 21,
   "metadata": {
    "collapsed": true
   },
   "outputs": [],
   "source": [
    "if __Print_To_File>0:\n",
    "    of.close()"
   ]
  }
 ],
 "metadata": {
  "kernelspec": {
   "display_name": "Python 3",
   "language": "python",
   "name": "python3"
  },
  "language_info": {
   "codemirror_mode": {
    "name": "ipython",
    "version": 3
   },
   "file_extension": ".py",
   "mimetype": "text/x-python",
   "name": "python",
   "nbconvert_exporter": "python",
   "pygments_lexer": "ipython3",
   "version": "3.5.1"
  }
 },
 "nbformat": 4,
 "nbformat_minor": 0
}
