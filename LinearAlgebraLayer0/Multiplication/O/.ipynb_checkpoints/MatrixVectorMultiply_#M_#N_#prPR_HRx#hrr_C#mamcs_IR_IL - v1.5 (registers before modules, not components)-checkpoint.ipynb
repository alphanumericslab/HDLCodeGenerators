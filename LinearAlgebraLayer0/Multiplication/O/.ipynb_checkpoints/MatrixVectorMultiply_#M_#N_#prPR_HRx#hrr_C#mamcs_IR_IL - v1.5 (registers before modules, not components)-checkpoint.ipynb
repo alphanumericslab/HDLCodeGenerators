{
 "cells": [
  {
   "cell_type": "code",
   "execution_count": 1,
   "metadata": {
    "collapsed": true
   },
   "outputs": [],
   "source": [
    "#completed and changed output file and module name\n",
    "#changed inputs and outputs count and order\n",
    "#changed to 2 group outReady\n",
    "#LLinReady and LLinReadyC definitions simplified\n",
    "#changed initial checks\n",
    "#added earlyOutReady\n",
    "#corrected readyForNewRow\n",
    "#changed HRR min value to 2"
   ]
  },
  {
   "cell_type": "code",
   "execution_count": 2,
   "metadata": {
    "collapsed": true
   },
   "outputs": [],
   "source": [
    "#uses DotProduct_#N_HRx#hrr_C#mamcs_NIR_NIL - v4.4"
   ]
  },
  {
   "cell_type": "code",
   "execution_count": 3,
   "metadata": {
    "collapsed": true
   },
   "outputs": [],
   "source": [
    "import sys\n",
    "import math"
   ]
  },
  {
   "cell_type": "code",
   "execution_count": 4,
   "metadata": {
    "collapsed": false
   },
   "outputs": [
    {
     "name": "stdout",
     "output_type": "stream",
     "text": [
      "Enter M: 5\n"
     ]
    }
   ],
   "source": [
    "#M>=1\n",
    "M = input('Enter M: ')"
   ]
  },
  {
   "cell_type": "code",
   "execution_count": 5,
   "metadata": {
    "collapsed": false
   },
   "outputs": [
    {
     "name": "stdout",
     "output_type": "stream",
     "text": [
      "Enter N: 30\n"
     ]
    }
   ],
   "source": [
    "#N>=1\n",
    "#N better to be >= HRR, if N<HRR, can decrease HRR (to N)\n",
    "N = input('Enter N: ')"
   ]
  },
  {
   "cell_type": "code",
   "execution_count": 6,
   "metadata": {
    "collapsed": false
   },
   "outputs": [
    {
     "name": "stdout",
     "output_type": "stream",
     "text": [
      "Enter No Of Parallel Row (empty for 1): 2\n"
     ]
    }
   ],
   "source": [
    "#>=1, <=M\n",
    "PR = input('Enter No Of Parallel Row (empty for 1): ')"
   ]
  },
  {
   "cell_type": "code",
   "execution_count": 7,
   "metadata": {
    "collapsed": false,
    "scrolled": false
   },
   "outputs": [
    {
     "name": "stdout",
     "output_type": "stream",
     "text": [
      "Enter HRR (empty for 2): 4\n"
     ]
    }
   ],
   "source": [
    "#HRR>=2\n",
    "HRR = input('Enter HRR (empty for 2): ')"
   ]
  },
  {
   "cell_type": "code",
   "execution_count": 8,
   "metadata": {
    "collapsed": true
   },
   "outputs": [],
   "source": [
    "M = int(M)\n",
    "if(M<1):\n",
    "    M=1\n",
    "N = int(N)\n",
    "if(N<1):\n",
    "    N=1\n",
    "if not PR:\n",
    "    PR=1\n",
    "else:\n",
    "    PR = int(PR)\n",
    "    if PR>M:\n",
    "        PR = M\n",
    "if not HRR:\n",
    "    HRR=2\n",
    "else:\n",
    "    HRR = int(HRR)\n",
    "    if HRR<2:\n",
    "        HRR=2\n",
    "NMult = math.ceil(N/HRR); #Number of Multipliers Needed"
   ]
  },
  {
   "cell_type": "code",
   "execution_count": 9,
   "metadata": {
    "collapsed": false
   },
   "outputs": [
    {
     "name": "stdout",
     "output_type": "stream",
     "text": [
      "Enter Multiply-Add Max Component Size (empty for 8): 4\n"
     ]
    }
   ],
   "source": [
    "#MAMCS>=1\n",
    "MAMCS = input('Enter Multiply-Add Max Component Size (empty for {}): '.format(NMult))"
   ]
  },
  {
   "cell_type": "code",
   "execution_count": 10,
   "metadata": {
    "collapsed": false
   },
   "outputs": [
    {
     "name": "stdout",
     "output_type": "stream",
     "text": [
      "Enter IN_WIDTH Default Value (empty for 10): \n"
     ]
    }
   ],
   "source": [
    "#IN_WIDTH>=1\n",
    "IN_WIDTH = input('Enter IN_WIDTH Default Value (empty for 10): ')"
   ]
  },
  {
   "cell_type": "code",
   "execution_count": 11,
   "metadata": {
    "collapsed": false
   },
   "outputs": [
    {
     "name": "stdout",
     "output_type": "stream",
     "text": [
      "Enter INPUT_REG_DEPTH Default Value (empty for 1): \n"
     ]
    }
   ],
   "source": [
    "#INPUT_REG_DEPTH>=0\n",
    "INPUT_REG_DEPTH = input('Enter INPUT_REG_DEPTH Default Value (empty for 1): ')"
   ]
  },
  {
   "cell_type": "code",
   "execution_count": 12,
   "metadata": {
    "collapsed": false
   },
   "outputs": [
    {
     "name": "stdout",
     "output_type": "stream",
     "text": [
      "Enter MULT_PIPE_DEPTH Default Value (empty for 1): \n"
     ]
    }
   ],
   "source": [
    "#MULT_PIPE_DEPTH>=0\n",
    "MULT_PIPE_DEPTH = input('Enter MULT_PIPE_DEPTH Default Value (empty for 1): ')"
   ]
  },
  {
   "cell_type": "code",
   "execution_count": 13,
   "metadata": {
    "collapsed": false
   },
   "outputs": [],
   "source": [
    "if not MAMCS:\n",
    "    MAMCS = NMult\n",
    "else:\n",
    "    MAMCS = int(MAMCS)\n",
    "    if MAMCS>NMult:\n",
    "        MAMCS = NMult;\n",
    "    elif(MAMCS<1):\n",
    "        MAMCS=1\n",
    "if not IN_WIDTH:\n",
    "    IN_WIDTH=10\n",
    "else:\n",
    "    IN_WIDTH = int(IN_WIDTH)\n",
    "    if(IN_WIDTH<1):\n",
    "        IN_WIDTH=1\n",
    "if not INPUT_REG_DEPTH:\n",
    "    INPUT_REG_DEPTH=1\n",
    "else:\n",
    "    INPUT_REG_DEPTH = int(INPUT_REG_DEPTH)\n",
    "    if(INPUT_REG_DEPTH<0):\n",
    "        INPUT_REG_DEPTH=0\n",
    "if not MULT_PIPE_DEPTH:\n",
    "    MULT_PIPE_DEPTH=1\n",
    "else:\n",
    "    MULT_PIPE_DEPTH = int(MULT_PIPE_DEPTH)\n",
    "    if(MULT_PIPE_DEPTH<0):\n",
    "        MULT_PIPE_DEPTH=0"
   ]
  },
  {
   "cell_type": "code",
   "execution_count": 22,
   "metadata": {
    "collapsed": false
   },
   "outputs": [],
   "source": [
    "__Print_To_File = 0\n",
    "\n",
    "if __Print_To_File<=0:\n",
    "    of=sys.stdout\n",
    "else:\n",
    "    of=open(\"./MatrixVectorMultiply_{}_{}_{}PR_HRx{}_C{}_IR_IL.v\".format(M, N, PR, HRR, MAMCS), 'w+')"
   ]
  },
  {
   "cell_type": "code",
   "execution_count": 23,
   "metadata": {
    "collapsed": false,
    "scrolled": true
   },
   "outputs": [],
   "source": [
    "print(\"`timescale 1ns / 1ps\\n\", file=of)\n",
    "print(\"module MatrixVectorMultiply_{}_{}_{}PR_HRx{}_C{}_IR_IL\".format(M, N, PR, HRR, MAMCS), file=of)\n",
    "print(\"#(\", file=of)\n",
    "print(\"parameter IN_WIDTH = {},\".format(IN_WIDTH), file=of)\n",
    "print(\"parameter INPUT_REG_DEPTH = {},\".format(INPUT_REG_DEPTH), file=of)\n",
    "print(\"parameter MULT_PIPE_DEPTH = {}\".format(MULT_PIPE_DEPTH), file=of)\n",
    "print(\")(\", file=of)\n",
    "print(\"input clk, reset, enable,\", file=of)\n",
    "print(\"output reg readyForNewRow = 1,\", file=of)\n",
    "lghrr=math.ceil(math.log2(HRR))\n",
    "if lghrr==1:\n",
    "    print(\"output reg rowInSeries = 0,\", file=of)\n",
    "elif lghrr>1:\n",
    "    print(\"output reg [{}:0] rowInSeries = 0,\".format(lghrr-1), file=of)\n",
    "RS=math.ceil(M/PR)\n",
    "lgRS=math.ceil(math.log2(RS))\n",
    "if lgRS<=1:\n",
    "    print(\"output reg rowSetInNo = 0,\", file=of)\n",
    "else:\n",
    "    print(\"output reg [{}:0] rowSetInNo = 0,\".format(lgRS-1), file=of)\n",
    "print(\"input inReady,\", file=of)\n",
    "for j in range(PR):\n",
    "    print(\"input signed [IN_WIDTH-1:0] \", end='', file=of)\n",
    "    for i in range(N):\n",
    "        print(\"AE{}R{}, \".format(i, j), end='', file=of)\n",
    "    print(file=of)\n",
    "print(\"input signed [IN_WIDTH-1:0] \", end='', file=of)\n",
    "for i in range(N):\n",
    "    print(\"VE{}, \".format(i), end='', file=of)\n",
    "print(file=of)\n",
    "ar=RS*PR-M\n",
    "ME = PR-ar-1\n",
    "if ME==0:\n",
    "    st1=\"C0\"\n",
    "else:\n",
    "    st1=\"C0toC{}\".format(ME)\n",
    "print(\"output \", end='', file=of)\n",
    "print(st1, end='', file=of)\n",
    "print(\"Ready,\", file=of)\n",
    "if ar==0:\n",
    "    print(\"output reg NUCReady = 0, //not used\", file=of)\n",
    "else:\n",
    "    if ME==(PR-2):\n",
    "        st2=\"C{}\".format(PR-1)\n",
    "    else:\n",
    "        st2=\"C{}toC{}\".format(ME+1, PR-1)\n",
    "    print(\"output \", end='', file=of)\n",
    "    print(st2, end='', file=of)\n",
    "    print(\"Ready,\", file=of)\n",
    "if lgRS<=1:\n",
    "    print(\"output reg rowSetOutNo = {},\".format(RS-1), file=of)\n",
    "else:\n",
    "    print(\"output reg [{}:0] rowSetOutNo = {},\".format(lgRS-1, RS-1), file=of)\n",
    "lgn=math.ceil(math.log2(N))\n",
    "al=-2+lgn\n",
    "if al==0:\n",
    "    print(\"output signed [(2*IN_WIDTH):0] \", end='',file=of)\n",
    "elif al<0:\n",
    "    print(\"output signed [(2*IN_WIDTH){}:0] \".format(al), end='',file=of)\n",
    "else:\n",
    "    print(\"output signed [(2*IN_WIDTH)+{}:0] \".format(al), end='',file=of)\n",
    "for i in range(PR):\n",
    "    print(\"C{}, \".format(i), end='',file=of)\n",
    "print(file=of)\n",
    "print(\"output early\", end='', file=of)\n",
    "print(st1, end='', file=of)\n",
    "print(\"Ready,\", file=of)\n",
    "if ar==0:\n",
    "    print(\"output reg NUearlyCReady = 0 //not used\", file=of)\n",
    "else:\n",
    "    print(\"output early\", end='', file=of)\n",
    "    print(st2, end='', file=of)\n",
    "    print(\"Ready\", file=of)\n",
    "print(\");\\n\", file=of)"
   ]
  },
  {
   "cell_type": "code",
   "execution_count": 24,
   "metadata": {
    "collapsed": false
   },
   "outputs": [],
   "source": [
    "print(\"reg signed [IN_WIDTH-1:0] \", end='', file=of)\n",
    "for i in range(N-1):\n",
    "    print(\"LVE{}, \".format(i), end='', file=of)\n",
    "print(\"LVE{};\".format(N-1), file=of)\n",
    "print(file=of)"
   ]
  },
  {
   "cell_type": "code",
   "execution_count": 25,
   "metadata": {
    "collapsed": false
   },
   "outputs": [],
   "source": [
    "print(\"reg LLinReady = 0;\", file=of)\n",
    "if(ar>0): #RS*PR > M, RS>=2\n",
    "    print(\"reg LLinReadyC = 0;\", file=of)\n",
    "print(file=of)\n",
    "\n",
    "for i in range (PR):\n",
    "    print(\"reg signed [IN_WIDTH-1:0] \", end='', file=of)\n",
    "    for j in range(N-1):\n",
    "        print(\"LAE{}R{}, \".format(j, i), end='', file=of)\n",
    "    print(\"LAE{}R{};\".format(N-1, i), file=of)\n",
    "    print(\"DotProduct_{}_HRx{}_C{}_NIR_NIL#( .IN_WIDTH(IN_WIDTH), .INPUT_REG_DEPTH(INPUT_REG_DEPTH), .MULT_PIPE_DEPTH(MULT_PIPE_DEPTH) )\".format(N, HRR, MAMCS), file=of)\n",
    "    print(\"\\tDP_{}(clk, reset, enable,\".format(i), file=of)\n",
    "    print(\"\\tLLreadyForNewDataSeries{}, //not used\".format(i), file=of)\n",
    "    print(\"\\tLLInSeries{}, //not used\".format(i), file=of)\n",
    "    if(PR-i<=ar):\n",
    "        print(\"\\tLLinReadyC,\", file=of)\n",
    "    else:\n",
    "        print(\"\\tLLinReady,\", file=of)\n",
    "    print(\"\\t\", end='', file=of)\n",
    "    for j in range(N):\n",
    "        print(\"LAE{}R{}, \".format(j, i), end='', file=of)\n",
    "    print(file=of)\n",
    "    print(\"\\t\", end='', file=of)\n",
    "    for j in range(N):\n",
    "        print(\"LVE{}, \".format(j), end='', file=of)\n",
    "    print(file=of)\n",
    "    if i==0:\n",
    "        print(\"\\t\"+st1+\"Ready,\", file=of)\n",
    "    elif i==PR-ar:\n",
    "        print(\"\\t\"+st2+\"Ready,\", file=of)\n",
    "    else:\n",
    "        print(\"\\tDPOutReady{}, //not used\".format(i), file=of) \n",
    "    print(\"\\tC{},\".format(i), file=of)\n",
    "    if i==0:\n",
    "        print(\"\\tearly\"+st1+\"Ready\\n\\t);\\n\", file=of)\n",
    "    elif i==PR-ar:\n",
    "        print(\"\\tearly\"+st2+\"Ready\\n\\t);\\n\", file=of)\n",
    "    else:\n",
    "        print(\"\\tDPearlyOutReady{} //not used\\n\\t);\\n\".format(i), file=of)"
   ]
  },
  {
   "cell_type": "code",
   "execution_count": 26,
   "metadata": {
    "collapsed": false
   },
   "outputs": [],
   "source": [
    "print(\"always @(posedge clk) begin\", file=of)\n",
    "print(\"\\tif(reset) begin\", file=of)\n",
    "print(\"\\t\\trowInSeries <= 0;\", file=of)\n",
    "if(RS>1):\n",
    "    print(\"\\t\\trowSetInNo <= 0;\", file=of)\n",
    "print(\"\\t\\tLLinReady <= 0;\", file=of)\n",
    "if(ar>0):\n",
    "    print(\"\\t\\tLLinReadyC <= 0;\", file=of)\n",
    "print(\"\\t\\treadyForNewRow <= 1;\", file=of)\n",
    "print(\"\\tend\", file=of)\n",
    "print(\"\\telse if(enable) begin\", file=of)\n",
    "#LLinReady is ignored by DP when rowInSeries!=0\n",
    "print(\"\\t\\tLLinReady <= inReady;\", file=of)\n",
    "if(ar>0):\n",
    "    print(\"\\t\\tLLinReadyC <= \", end='', file=of)\n",
    "    if(RS>1):\n",
    "        print(\"(rowSetInNo!={}) & \".format(RS-1), end='', file=of)\n",
    "    print(\"inReady;\", file=of)\n",
    "print(\"\\t\\tif(rowInSeries==0) begin\", file=of)\n",
    "print(\"\\t\\t\\tif(inReady) begin\", file=of)\n",
    "# print(\"\\t\\t\\t\\tLLinReady <= 1;\", file=of)\n",
    "# if(ar>0):\n",
    "#     print(\"\\t\\t\\t\\tif(rowSetInNo=={}) begin\".format(RS-1), file=of)\n",
    "#     print(\"\\t\\t\\t\\t\\tLLinReadyC <= 0;\", file=of)\n",
    "#     print(\"\\t\\t\\t\\tend\", file=of)\n",
    "#     print(\"\\t\\t\\t\\telse begin\", file=of)\n",
    "#     print(\"\\t\\t\\t\\t\\tLLinReadyC <= 1;\", file=of)\n",
    "#     print(\"\\t\\t\\t\\tend\", file=of)\n",
    "if HRR==2:\n",
    "    print(\"\\t\\t\\t\\trowInSeries <= 1;\", file=of)    \n",
    "else:\n",
    "    print(\"\\t\\t\\t\\trowInSeries <= rowInSeries+1;\", file=of)\n",
    "print(\"\\t\\t\\t\\treadyForNewRow <= 0;\", file=of)\n",
    "print(\"\\t\\t\\tend\", file=of)\n",
    "# print(\"\\t\\t\\telse begin\", file=of)\n",
    "# print(\"\\t\\t\\t\\tLLinReady <= 0;\", file=of)\n",
    "# if(ar>0):\n",
    "#     print(\"\\t\\t\\t\\tLLinReadyC <= 0;\", file=of)\n",
    "# print(\"\\t\\t\\tend\", file=of)\n",
    "print(\"\\t\\tend\", file=of)\n",
    "if(HRR==2):\n",
    "    print(\"\\t\\telse begin\", file=of)\n",
    "    print(\"\\t\\t\\trowInSeries <= 0;\", file=of)\n",
    "else:\n",
    "    print(\"\\t\\telse if(rowInSeries=={}) begin\".format(HRR-1), file=of)\n",
    "    print(\"\\t\\t\\trowInSeries <= 0;\", file=of)\n",
    "print(\"\\t\\t\\treadyForNewRow <= 1;\", file=of)\n",
    "if(RS>1):\n",
    "    print(\"\\t\\t\\tif(rowSetInNo=={}) begin\".format(RS-1), file=of)\n",
    "    print(\"\\t\\t\\t\\trowSetInNo <= 0;\", file=of)\n",
    "    print(\"\\t\\t\\tend\", file=of)\n",
    "    print(\"\\t\\t\\telse begin\", file=of)\n",
    "    if RS==2:\n",
    "        print(\"\\t\\t\\t\\trowSetInNo <= 1;\", file=of)\n",
    "    else:\n",
    "        print(\"\\t\\t\\t\\trowSetInNo <= rowSetInNo+1;\", file=of)\n",
    "    print(\"\\t\\t\\tend\", file=of)\n",
    "print(\"\\t\\tend\", file=of)\n",
    "if(HRR>2):\n",
    "    print(\"\\t\\telse begin\", file=of)\n",
    "    print(\"\\t\\t\\trowInSeries <= rowInSeries+1;\", file=of)\n",
    "    print(\"\\t\\tend\", file=of)\n",
    "print(\"\\t\\tif((rowInSeries==0) & inReady) begin\", file=of)\n",
    "for i in range (PR):\n",
    "    print(\"\\t\\t\\t\", end='', file=of)\n",
    "    for j in range(N):\n",
    "        print(\"LAE{}R{} <= AE{}R{}; \".format(j, i, j, i), end='', file=of)\n",
    "    print(file=of)\n",
    "print(\"\\t\\tend\", file=of)    \n",
    "print(\"\\t\\tif(\", end='', file=of)\n",
    "if(RS>1):\n",
    "    print(\"(rowSetInNo==0) & \", end='', file=of)\n",
    "print(\"(rowInSeries==0) & inReady) begin\", file=of)\n",
    "print(\"\\t\\t\\t\", end='', file=of)\n",
    "for j in range(N):\n",
    "    print(\"LVE{} <= VE{}; \".format(j,j), end='', file=of)\n",
    "print(file=of)\n",
    "print(\"\\t\\tend\", file=of)    \n",
    "print(\"\\tend\", file=of)\n",
    "print(\"end\\n\", file=of)"
   ]
  },
  {
   "cell_type": "code",
   "execution_count": 27,
   "metadata": {
    "collapsed": false
   },
   "outputs": [],
   "source": [
    "if(RS>1):\n",
    "    print(\"always @(posedge clk) begin\", file=of)\n",
    "    print(\"\\tif(reset) begin\", file=of)\n",
    "    print(\"\\t\\trowSetOutNo <= {};\".format(RS-1), file=of)\n",
    "    print(\"\\tend\", file=of)\n",
    "    print(\"\\telse if(enable) begin\", file=of)\n",
    "    print(\"\\t\\tif(early\"+st1+\"Ready) begin\", file=of)\n",
    "    print(\"\\t\\t\\tif(rowSetOutNo=={}) begin\".format(RS-1), file=of)\n",
    "    print(\"\\t\\t\\t\\trowSetOutNo <= 0;\", file=of)\n",
    "    print(\"\\t\\t\\tend\", file=of)\n",
    "    print(\"\\t\\t\\telse begin\", file=of)\n",
    "    if RS==2:\n",
    "        print(\"\\t\\t\\t\\trowSetOutNo <= 1;\", file=of)\n",
    "    else:\n",
    "        print(\"\\t\\t\\t\\trowSetOutNo <= rowSetOutNo+1;\", file=of)\n",
    "    print(\"\\t\\t\\tend\", file=of)\n",
    "    print(\"\\t\\tend\", file=of)\n",
    "    print(\"\\tend\", file=of)\n",
    "    print(\"end\\n\", file=of)"
   ]
  },
  {
   "cell_type": "code",
   "execution_count": 28,
   "metadata": {
    "collapsed": false
   },
   "outputs": [],
   "source": [
    "print(\"endmodule\", file=of)"
   ]
  },
  {
   "cell_type": "code",
   "execution_count": 29,
   "metadata": {
    "collapsed": true
   },
   "outputs": [],
   "source": [
    "if __Print_To_File>0:\n",
    "    of.close()"
   ]
  }
 ],
 "metadata": {
  "kernelspec": {
   "display_name": "Python 3",
   "language": "python",
   "name": "python3"
  },
  "language_info": {
   "codemirror_mode": {
    "name": "ipython",
    "version": 3
   },
   "file_extension": ".py",
   "mimetype": "text/x-python",
   "name": "python",
   "nbconvert_exporter": "python",
   "pygments_lexer": "ipython3",
   "version": "3.5.1"
  }
 },
 "nbformat": 4,
 "nbformat_minor": 0
}
