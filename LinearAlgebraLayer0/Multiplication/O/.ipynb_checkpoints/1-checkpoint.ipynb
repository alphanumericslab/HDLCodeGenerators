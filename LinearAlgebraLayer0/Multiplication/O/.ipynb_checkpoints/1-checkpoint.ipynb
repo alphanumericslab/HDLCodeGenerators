{
 "cells": [
  {
   "cell_type": "code",
   "execution_count": null,
   "metadata": {
    "collapsed": true
   },
   "outputs": [],
   "source": [
    "#changed name\n",
    "#changed initial checks\n",
    "#removed sign extension when not needed"
   ]
  },
  {
   "cell_type": "code",
   "execution_count": null,
   "metadata": {
    "collapsed": true
   },
   "outputs": [],
   "source": [
    "#uses DotProduct_Systolic - v1.0"
   ]
  },
  {
   "cell_type": "code",
   "execution_count": null,
   "metadata": {
    "collapsed": true
   },
   "outputs": [],
   "source": [
    "import sys\n",
    "import math\n",
    "import io"
   ]
  },
  {
   "cell_type": "code",
   "execution_count": null,
   "metadata": {
    "collapsed": false
   },
   "outputs": [],
   "source": [
    "#N>=2\n",
    "N = input('Enter N: ')"
   ]
  },
  {
   "cell_type": "code",
   "execution_count": null,
   "metadata": {
    "collapsed": false
   },
   "outputs": [],
   "source": [
    "#IN_WIDTH>=1\n",
    "IN_WIDTH = input('Enter IN_WIDTH Default Value (empty for 10): ')"
   ]
  },
  {
   "cell_type": "code",
   "execution_count": null,
   "metadata": {
    "collapsed": false
   },
   "outputs": [],
   "source": [
    "#INPUT_REG_DEPTH>=0\n",
    "INPUT_REG_DEPTH = input('Enter INPUT_REG_DEPTH Default Value (empty for 1): ')"
   ]
  },
  {
   "cell_type": "code",
   "execution_count": null,
   "metadata": {
    "collapsed": false
   },
   "outputs": [],
   "source": [
    "#MULT_PIPE_DEPTH>=0\n",
    "MULT_PIPE_DEPTH = input('Enter MULT_PIPE_DEPTH Default Value (empty for 1): ')"
   ]
  },
  {
   "cell_type": "code",
   "execution_count": null,
   "metadata": {
    "collapsed": false
   },
   "outputs": [],
   "source": [
    "#AdderSize>=2\n",
    "AdderSize = input('Enter maximum size allowed for base adders (empty for 2): ')"
   ]
  },
  {
   "cell_type": "code",
   "execution_count": null,
   "metadata": {
    "collapsed": false
   },
   "outputs": [],
   "source": [
    "#N=2\n",
    "N = int(N)\n",
    "if(N<2):\n",
    "    N=2\n",
    "\n",
    "if not IN_WIDTH:\n",
    "    IN_WIDTH=10\n",
    "else:\n",
    "    IN_WIDTH = int(IN_WIDTH)\n",
    "    if(IN_WIDTH<1):\n",
    "        IN_WIDTH=1\n",
    "if not INPUT_REG_DEPTH:\n",
    "    INPUT_REG_DEPTH=1\n",
    "else:\n",
    "    INPUT_REG_DEPTH = int(INPUT_REG_DEPTH)\n",
    "    if(INPUT_REG_DEPTH<0):\n",
    "        INPUT_REG_DEPTH=0\n",
    "if not MULT_PIPE_DEPTH:\n",
    "    MULT_PIPE_DEPTH=1\n",
    "else:\n",
    "    MULT_PIPE_DEPTH = int(MULT_PIPE_DEPTH)\n",
    "    if(MULT_PIPE_DEPTH<0):\n",
    "        MULT_PIPE_DEPTH=0\n",
    "        \n",
    "if not AdderSize:\n",
    "    AdderSize=2\n",
    "else:\n",
    "    AdderSize = int(AdderSize)\n",
    "    if AdderSize<2:\n",
    "        AdderSize=2\n",
    "    if AdderSize>N:\n",
    "        AdderSize=N"
   ]
  },
  {
   "cell_type": "code",
   "execution_count": null,
   "metadata": {
    "collapsed": false
   },
   "outputs": [],
   "source": [
    "__Print_To_File = 0\n",
    "\n",
    "if __Print_To_File<=0:\n",
    "    of=sys.stdout\n",
    "else:\n",
    "    of=open(\"./DotProduct_{}_noHR_C1_A{}.v\".format(N, AdderSize), 'w+')"
   ]
  },
  {
   "cell_type": "code",
   "execution_count": null,
   "metadata": {
    "collapsed": false
   },
   "outputs": [],
   "source": [
    "print(\"`timescale 1ns / 1ps\\n\", file=of)\n",
    "print(\"module DotProduct_{}_noHR_C1_A{}\".format(N, AdderSize), file=of)\n",
    "print(\"#(\", file=of)\n",
    "print(\"parameter IN_WIDTH = {},\".format(IN_WIDTH), file=of)\n",
    "print(\"parameter INPUT_REG_DEPTH = {},\".format(INPUT_REG_DEPTH), file=of)\n",
    "print(\"parameter MULT_PIPE_DEPTH = {}\".format(MULT_PIPE_DEPTH), file=of)\n",
    "print(\")(\", file=of)\n",
    "print(\"input clk, reset, enable,\", file=of)\n",
    "print(\"input inReady,\", file=of)\n",
    "print(\"input signed [IN_WIDTH-1:0] \", end='', file=of)\n",
    "for i in range(N):\n",
    "    print(\"A{}, \".format(i), end='', file=of)\n",
    "print(file=of)\n",
    "print(\"input signed [IN_WIDTH-1:0] \", end='', file=of)\n",
    "for i in range(N):\n",
    "    print(\"B{}, \".format(i), end='', file=of)\n",
    "print(file=of)\n",
    "print(\"output outReady,\", file=of)\n",
    "lgn=math.ceil(math.log2(N))\n",
    "al=-1+lgn\n",
    "if al==0:\n",
    "    print(\"output signed [(2*IN_WIDTH):0] DP,\", file=of)\n",
    "elif al<0:\n",
    "    print(\"output signed [(2*IN_WIDTH){}:0] DP,\".format(al), file=of)\n",
    "else:\n",
    "    print(\"output signed [(2*IN_WIDTH)+{}:0] DP,\".format(al), file=of)\n",
    "print(\"output earlyOutReady\", file=of)\n",
    "print(\");\\n\", file=of)"
   ]
  },
  {
   "cell_type": "code",
   "execution_count": null,
   "metadata": {
    "collapsed": false
   },
   "outputs": [],
   "source": [
    "print(\"wire signed [(2*IN_WIDTH)-1:0] \", end='', file=of)\n",
    "for i in range (N):    \n",
    "    print(\"DPpart{}\".format(i), end='', file=of)\n",
    "    if i==N-1:\n",
    "        print(\";\\n\", file=of)              \n",
    "    else:\n",
    "        print(\", \", end='', file=of)"
   ]
  },
  {
   "cell_type": "code",
   "execution_count": null,
   "metadata": {
    "collapsed": false
   },
   "outputs": [],
   "source": [
    "AIBuf=io.StringIO()\n",
    "\n",
    "level=0\n",
    "\n",
    "nextElememtNo=N #remained\n",
    "sizeList=[]\n",
    "for i in range(N):\n",
    "    sizeList.append(1)\n",
    "\n",
    "RootList=[]\n",
    "for i in range(N):\n",
    "    RootList.append(i)\n",
    "AdditionalRegList=[]\n",
    "for i in range(N):\n",
    "    AdditionalRegList.append(0)\n",
    "    \n",
    "i=0\n",
    "new = N\n",
    "\n",
    "while 1:\n",
    "    #print(\"StartNextElememtNo = {}\".format(nextElememtNo))\n",
    "    if nextElememtNo==1:\n",
    "        break\n",
    "    if nextElememtNo<=AdderSize:\n",
    "        lastLevel=True\n",
    "    else:\n",
    "        lastLevel=False        \n",
    "    currentElememtNo = nextElememtNo\n",
    "    nextElememtNo=0\n",
    "    ORimp=False\n",
    "    RegEnableImp=False\n",
    "    while currentElememtNo>0:\n",
    "        if currentElememtNo >= AdderSize:\n",
    "            CurrentAdderSize = AdderSize\n",
    "            currentElememtNo -= AdderSize\n",
    "        else:\n",
    "            if not lastLevel:\n",
    "                CurrentAdderSize = 1\n",
    "                currentElememtNo -= 1\n",
    "            else:\n",
    "                CurrentAdderSize = currentElememtNo\n",
    "                currentElememtNo = 0\n",
    "        nextElememtNo=nextElememtNo+1\n",
    "        #print(\"nextElememtNo = {}\".format(nextElememtNo))\n",
    "        outSize=0\n",
    "        for k in range (i, i+CurrentAdderSize):\n",
    "            outSize+=sizeList[k]\n",
    "        sizeList.append(outSize)\n",
    "        if CurrentAdderSize==1: #just reg\n",
    "            root=RootList[i]\n",
    "            if root != -1:\n",
    "                RootList.append(i)\n",
    "                #print(root)\n",
    "                while root>=N:\n",
    "                    root=RootList[root]\n",
    "                    #print(root)\n",
    "                AdditionalRegList[root]+=1\n",
    "            else:\n",
    "                RootList.append(-1)\n",
    "            i+=1\n",
    "            RegEnableImp=True\n",
    "        else: #Generate a AdderSize Adder (maybe less size for last stage)\n",
    "            RootList.append(-1)\n",
    "            if not lastLevel:\n",
    "                if outSize==2: #outSize>=2\n",
    "                    AIBuf.write(\"wire signed [2*IN_WIDTH:0] M{};\\n\".format(new))\n",
    "                else:\n",
    "                    AIBuf.write(\"wire signed [2*IN_WIDTH+{}:0] M{};\\n\".format(math.ceil(math.log(outSize,2))-1, new))\n",
    "            inSizeL = math.ceil(math.log(sizeList[i],2))\n",
    "            #print(\"inSize = {}\".format(inSize))\n",
    "            rE = i+CurrentAdderSize\n",
    "            eSizeList=[]\n",
    "            finalRootList=[]\n",
    "            for k in range (i, rE):\n",
    "                curSizeL=math.ceil(math.log(sizeList[k],2))\n",
    "                eSizeL=inSizeL-curSizeL\n",
    "                eSizeList.append(eSizeL)\n",
    "                #print(\"esize = {}\".format(eSizeL))\n",
    "                root=RootList[k]\n",
    "                if root != -1:\n",
    "                    while root>=N:\n",
    "                        root=RootList[root]\n",
    "                else:\n",
    "                    root=k\n",
    "                finalRootList.append(root)\n",
    "                if eSizeL!=0:\n",
    "                    AIBuf.write(\"wire signed [2*IN_WIDTH\")\n",
    "                    if inSizeL!=1:\n",
    "                         AIBuf.write(\"+{}\".format(inSizeL-1, k))\n",
    "                    if(root<N):\n",
    "                        AIBuf.write(\":0] DPpart{}e = \".format(root))\n",
    "                    else:\n",
    "                        AIBuf.write(\":0] M{}e = \".format(root))\n",
    "                    AIBuf.write(\"{{\")\n",
    "                    AIBuf.write(\"{}\".format(eSizeL))\n",
    "                    AIBuf.write(\"{\")\n",
    "                    if(root<N):\n",
    "                        AIBuf.write(\"DPpart{}\".format(root))\n",
    "                    else:\n",
    "                        AIBuf.write(\"M{}\".format(root))\n",
    "                    AIBuf.write(\"[2*IN_WIDTH\".format(k))\n",
    "                    if curSizeL==0:\n",
    "                        AIBuf.write(\"-1\")\n",
    "                    elif curSizeL>1:\n",
    "                        AIBuf.write(\"+{}\".format(curSizeL-1))\n",
    "                    AIBuf.write(\"]}},\")\n",
    "                    if(root<N):\n",
    "                        AIBuf.write(\"DPpart{}\".format(root))\n",
    "                    else:\n",
    "                        AIBuf.write(\"M{}\".format(root))\n",
    "                    AIBuf.write(\"};\\n\")\n",
    "            AIBuf.write(\"Registered{}to1Adder_NIR #(.IN_WIDTH(2*IN_WIDTH\".format(CurrentAdderSize))\n",
    "            curSizeL=math.ceil(math.log(sizeList[i],2))\n",
    "            if inSizeL>0:\n",
    "                AIBuf.write(\"+{}\".format(inSizeL))\n",
    "            AIBuf.write(\"))\\nAdd{}(\\nclk, reset, enable, \\n\".format(new))\n",
    "            if level==0:\n",
    "                AIBuf.write(\"IRS,\\n\")\n",
    "            else:\n",
    "                AIBuf.write(\"ORAdd[{}],\\n\".format(level-1))\n",
    "            for k in range (i, rE):\n",
    "                if(finalRootList[k-i]<N):\n",
    "                    AIBuf.write(\"DPpart{}\".format(finalRootList[k-i]))\n",
    "                else:\n",
    "                    AIBuf.write(\"M{}\".format(finalRootList[k-i]))\n",
    "                if(eSizeList[k-i]!=0):\n",
    "                    AIBuf.write(\"e\");\n",
    "                AIBuf.write(\", \")\n",
    "            AIBuf.write(\"\\n\")\n",
    "            if lastLevel:\n",
    "                AIBuf.write(\"outReady,\\n\")\n",
    "            else:\n",
    "                if ORimp==False:\n",
    "                    AIBuf.write(\"ORAdd[{}],\\n\".format(level))\n",
    "                    ORimp=True\n",
    "                else:\n",
    "                    AIBuf.write(\"ORa{}, //not used\\n\".format(new))\n",
    "            if lastLevel:\n",
    "                AIBuf.write(\"DP,\\n\".format(new))\n",
    "            else:\n",
    "                AIBuf.write(\"M{},\\n\".format(new))\n",
    "            if lastLevel:\n",
    "                AIBuf.write(\"earlyOutReady);\\n\\n\")        \n",
    "            else :\n",
    "                AIBuf.write(\"aeor{}); //not used\\n\\n\".format(new))\n",
    "            i+=CurrentAdderSize\n",
    "        new+=1\n",
    "    level+=1\n",
    "\n",
    "#print(RootList)\n",
    "#print(AdditionalRegList)"
   ]
  },
  {
   "cell_type": "code",
   "execution_count": null,
   "metadata": {
    "collapsed": false
   },
   "outputs": [],
   "source": [
    "IregsBuf=io.StringIO()\n",
    "IRegImp = False\n",
    "for i in range (N):\n",
    "    IARD = AdditionalRegList[i];\n",
    "    if IARD!=0:\n",
    "        IRegImp = True\n",
    "        print(\"reg signed [(IN_WIDTH)-1:0] A{}ra[0:{}], B{}ra[0:{}];\".format(i, IARD-1, i, IARD-1), file=of)\n",
    "        if IARD>2:\n",
    "            print(\"integer ir{};\".format(i), file=of)\n",
    "        IregsBuf.write(\"\\t\\tA{}ra[0] <= A{};\\n\".format(i, i))\n",
    "        IregsBuf.write(\"\\t\\tB{}ra[0] <= B{};\\n\".format(i, i))\n",
    "        if IARD==2:\n",
    "            IregsBuf.write(\"\\t\\tA{}ra[1] <= A{}ra[0];\\n\".format(i, i, i, i))\n",
    "            IregsBuf.write(\"\\t\\tB{}ra[1] <= B{}ra[0];\\n\".format(i, i, i, i))\n",
    "        if IARD>2:\n",
    "            IregsBuf.write(\"\\t\\tfor(ir{}=0;ir{}<{};ir{}=ir{}+1) begin\\n\".format(i, i, IARD-1, i, i))\n",
    "            IregsBuf.write(\"\\t\\t\\tA{}ra[ir{}+1] <= A{}ra[ir{}];\\n\".format(i, i, i, i))\n",
    "            IregsBuf.write(\"\\t\\t\\tB{}ra[ir{}+1] <= B{}ra[ir{}];\\n\".format(i, i, i, i))\n",
    "            IregsBuf.write(\"\\t\\tend\\n\")\n",
    "if(IRegImp):\n",
    "    print(\"always @(posedge clk) begin\", file=of)\n",
    "    print(\"\\tif(reset) begin\", file=of)\n",
    "    print(\"\\t\\t//Do Nothing\", file=of)\n",
    "    print(\"\\tend\", file=of)\n",
    "    print(\"\\telse if(enable) begin\", file=of)\n",
    "    print(IregsBuf.getvalue(), end='',file=of)\n",
    "    print(\"\\tend\", file=of)\n",
    "    print(\"end\", file=of)\n",
    "print(file=of)"
   ]
  },
  {
   "cell_type": "code",
   "execution_count": null,
   "metadata": {
    "collapsed": false
   },
   "outputs": [],
   "source": [
    "print(\"generate\", file=of)\n",
    "print(\"if(INPUT_REG_DEPTH==0 && MULT_PIPE_DEPTH==0) begin\\n\", file=of)\n",
    "for i in range (N):     \n",
    "    IARD = AdditionalRegList[i];\n",
    "    if IARD==0:\n",
    "        print(\"wire DPpart{} = A{}*B{};\".format(i, i, i), file=of)\n",
    "    else:\n",
    "        print(\"wire DPpart{} = A{}ra[{}]*B{}ra[{}];\".format(i, i, IARD-1, i, IARD-1), file=of)\n",
    "print(file=of)\n",
    "print(\"end\", file=of)"
   ]
  },
  {
   "cell_type": "code",
   "execution_count": null,
   "metadata": {
    "collapsed": false
   },
   "outputs": [],
   "source": [
    "print(\"else if(INPUT_REG_DEPTH==0 && MULT_PIPE_DEPTH!=0) begin\\n\", file=of)\n",
    "print(\"reg signed [(2*IN_WIDTH)-1:0] \", end='', file=of)\n",
    "for i in range (N):\n",
    "    print(\"DPpartR{}[0:MULT_PIPE_DEPTH-1]\".format(i), end='', file=of)\n",
    "    if i==N-1:\n",
    "        print(\";\", file=of)              \n",
    "    else:\n",
    "        print(\", \", end='', file=of)\n",
    "print(\"integer i;\", file=of)\n",
    "print(\"always @(posedge clk) begin\", file=of)\n",
    "print(\"\\tif(reset) begin\", file=of)\n",
    "print(\"\\t\\t//Do Nothing\", file=of)\n",
    "print(\"\\tend\", file=of)\n",
    "print(\"\\telse if(enable) begin\", file=of)\n",
    "for i in range (N):   \n",
    "    print(\"\\t\\tDPpartR{}[0]\".format(i), end='', file=of)\n",
    "    IARD = AdditionalRegList[i];\n",
    "    if IARD==0:\n",
    "        print(\" <= A{}*B{};\".format(i, i), file=of)\n",
    "    else:\n",
    "        print(\" <= A{}ra[{}]*B{}ra[{}];\".format(i, IARD-1, i, IARD-1), file=of)\n",
    "print(\"\\t\\tfor(i=0;i<(MULT_PIPE_DEPTH-1);i=i+1) begin\", file=of)\n",
    "for i in range (N):\n",
    "    print(\"\\t\\t\\tDPpartR{}[i+1] <= DPpartR{}[i];\".format(i, i), file=of)\n",
    "print(\"\\t\\tend\", file=of)\n",
    "print(\"\\tend\", file=of)\n",
    "print(\"end\", file=of)\n",
    "for i in range (N):    \n",
    "    print(\"assign DPpart{} = DPpartR{}[MULT_PIPE_DEPTH-1];\".format(i, i),file=of)\n",
    "print(\"\", file=of)\n",
    "print(\"end\", file=of)"
   ]
  },
  {
   "cell_type": "code",
   "execution_count": null,
   "metadata": {
    "collapsed": false
   },
   "outputs": [],
   "source": [
    "print(\"else if(INPUT_REG_DEPTH!=0 && MULT_PIPE_DEPTH==0) begin\\n\", file=of)\n",
    "for i in range (N):   \n",
    "    print(\"reg signed [IN_WIDTH-1:0] A{}r [0:INPUT_REG_DEPTH-1], B{}r [0:INPUT_REG_DEPTH-1];\".format(i, i), file=of)\n",
    "print(\"integer j;\", file=of)\n",
    "print(\"reg outReady;\", file=of)\n",
    "print(\"reg signed [(2*IN_WIDTH)-1:0] DPp;\", file=of)\n",
    "print(\"always @(posedge clk) begin\", file=of)\n",
    "print(\"\\tif(reset) begin\", file=of)\n",
    "print(\"\\t\\t//Do Nothing\", file=of)\n",
    "print(\"\\tend\", file=of)\n",
    "print(\"\\telse if(enable) begin\", file=of)\n",
    "for i in range(N):\n",
    "    IARD = AdditionalRegList[i];\n",
    "    print(\"\\t\\tA{}r[0] <= A\".format(i), end='', file=of)\n",
    "    if IARD==0:\n",
    "        print(\"{};\".format(i), file=of)\n",
    "    else:\n",
    "        print(\"{}ra[{}];\".format(i, IARD-1), file=of)\n",
    "    print(\"\\t\\tB{}r[0] <= B\".format(i), end='', file=of) \n",
    "    if IARD==0:\n",
    "        print(\"{};\".format(i), file=of)\n",
    "    else:\n",
    "        print(\"{}ra[{}];\".format(i, IARD-1), file=of)\n",
    "print(\"\\t\\tfor(j=0;j<INPUT_REG_DEPTH-1;j=j+1) begin\", file=of)\n",
    "for i in range(N):\n",
    "    print(\"\\t\\t\\tA{}r[j+1] <= A{}r[j];\".format(i,i), file=of)\n",
    "    print(\"\\t\\t\\tB{}r[j+1] <= B{}r[j];\".format(i,i), file=of)\n",
    "print(\"\\t\\tend\", file=of)\n",
    "print(\"\\tend\", file=of)\n",
    "print(\"end\", file=of)\n",
    "for i in range (N):    \n",
    "    print(\"assign DPpart{} = A{}r[INPUT_REG_DEPTH-1]*B{}r[INPUT_REG_DEPTH-1];\".format(i, i, i),file=of)\n",
    "print(file=of)\n",
    "print(\"end\", file=of)"
   ]
  },
  {
   "cell_type": "code",
   "execution_count": null,
   "metadata": {
    "collapsed": false
   },
   "outputs": [],
   "source": [
    "print(\"else begin //if(INPUT_REG_DEPTH!=0 && MULT_PIPE_DEPTH!=0)\\n\", file=of)\n",
    "for i in range (N):   \n",
    "    print(\"reg signed [IN_WIDTH-1:0] A{}r [0:INPUT_REG_DEPTH-1], B{}r [0:INPUT_REG_DEPTH-1];\".format(i, i), file=of)\n",
    "print(\"reg signed [(2*IN_WIDTH)-1:0] \", end='', file=of)\n",
    "for i in range (N):    \n",
    "    print(\"DPpartR{}[0:MULT_PIPE_DEPTH-1]\".format(i), end='', file=of)\n",
    "    if i==N-1:\n",
    "        print(\";\", file=of)              \n",
    "    else:\n",
    "        print(\", \", end='', file=of)\n",
    "print(\"integer i, j;\", file=of)\n",
    "print(\"reg [0:INPUT_REG_DEPTH+MULT_PIPE_DEPTH-1] DPOutReadyR = 0;\", file=of)\n",
    "print(\"always @(posedge clk) begin\", file=of)\n",
    "print(\"\\tif(reset) begin\", file=of)\n",
    "print(\"\\t\\t//Do Nothing\", file=of)\n",
    "print(\"\\tend\", file=of)\n",
    "print(\"\\telse if(enable) begin\", file=of)\n",
    "for i in range(N):\n",
    "    IARD = AdditionalRegList[i];\n",
    "    print(\"\\t\\tA{}r[0] <= A\".format(i), end='', file=of)\n",
    "    if IARD==0:\n",
    "        print(\"{};\".format(i), file=of)\n",
    "    else:\n",
    "        print(\"{}ra[{}];\".format(i, IARD-1), file=of)\n",
    "    print(\"\\t\\tB{}r[0] <= B\".format(i), end='', file=of) \n",
    "    if IARD==0:\n",
    "        print(\"{};\".format(i), file=of)\n",
    "    else:\n",
    "        print(\"{}ra[{}];\".format(i, IARD-1), file=of)\n",
    "print(\"\\t\\tfor(j=0;j<INPUT_REG_DEPTH-1;j=j+1) begin\", file=of)\n",
    "for i in range(N):\n",
    "    print(\"\\t\\t\\tA{}r[j+1] <= A{}r[j];\".format(i,i), file=of)\n",
    "    print(\"\\t\\t\\tB{}r[j+1] <= B{}r[j];\".format(i,i), file=of)\n",
    "print(\"\\t\\tend\", file=of)\n",
    "for i in range (N):   \n",
    "    print(\"\\t\\tDPpartR{}[0]\".format(i), end='', file=of)\n",
    "    print(\" <= A{}r[INPUT_REG_DEPTH-1]*B{}r[INPUT_REG_DEPTH-1];\".format(i, i), file=of)\n",
    "print(\"\\t\\tfor(i=0;i<(MULT_PIPE_DEPTH-1);i=i+1) begin\", file=of)\n",
    "for i in range (N):\n",
    "    print(\"\\t\\t\\tDPpartR{}[i+1] <= DPpartR{}[i];\".format(i, i), file=of)\n",
    "print(\"\\t\\tend\", file=of)\n",
    "print(\"\\tend\", file=of)\n",
    "print(\"end\", file=of)\n",
    "for i in range (N):    \n",
    "    print(\"assign DPpart{} = DPpartR{}[MULT_PIPE_DEPTH-1];\".format(i, i),file=of)\n",
    "print(file=of)\n",
    "print(\"end\", file=of)\n",
    "print(\"endgenerate\\n\", file=of)"
   ]
  },
  {
   "cell_type": "code",
   "execution_count": null,
   "metadata": {
    "collapsed": false
   },
   "outputs": [],
   "source": [
    "print(\"wire IRS;\", file=of)\n",
    "print(\"generate\", file=of)\n",
    "print(\"if(INPUT_REG_DEPTH!=0 || MULT_PIPE_DEPTH!=0) begin\\n\", file=of)\n",
    "print(\"reg [0:INPUT_REG_DEPTH+MULT_PIPE_DEPTH-1] ORIM;\", file=of)\n",
    "print(\"integer k;\", file=of)\n",
    "print(\"always @(posedge clk) begin\", file=of)\n",
    "print(\"\\tif(reset) begin\", file=of)\n",
    "print(\"\\t\\tfor(k=0;k<INPUT_REG_DEPTH+MULT_PIPE_DEPTH-1;k=k+1) begin\", file=of)\n",
    "print(\"\\t\\t\\tORIM[k] <= 0;\", file=of)\n",
    "print(\"\\t\\tend\", file=of)\n",
    "print(\"\\tend\", file=of)\n",
    "print(\"\\telse if(enable) begin\", file=of)\n",
    "print(\"\\t\\tORIM[0] <= inReady;\", file=of)\n",
    "print(\"\\t\\tfor(k=0;k<INPUT_REG_DEPTH+MULT_PIPE_DEPTH-1;k=k+1) begin\", file=of)\n",
    "print(\"\\t\\t\\tORIM[k+1] <= ORIM[k];\", file=of)\n",
    "print(\"\\t\\tend\", file=of)\n",
    "print(\"\\tend\", file=of)\n",
    "print(\"end\", file=of)\n",
    "print(\"assign IRS = ORIM[INPUT_REG_DEPTH+MULT_PIPE_DEPTH-1];\\n\", file=of)\n",
    "print(\"end\", file=of)\n",
    "print(\"else begin\\n\", file=of)\n",
    "print(\"assign IRS = inReady;\\n\", file=of)\n",
    "print(\"end\", file=of)\n",
    "print(\"endgenerate\\n\", file=of)\n",
    "\n",
    "if level>1:\n",
    "    print(\"wire [0:{}] ORAdd;\\n\".format(level-2), file=of)\n",
    "print(AIBuf.getvalue(), end='',file=of)"
   ]
  },
  {
   "cell_type": "code",
   "execution_count": null,
   "metadata": {
    "collapsed": false
   },
   "outputs": [],
   "source": [
    "print(\"endmodule\", file=of)"
   ]
  },
  {
   "cell_type": "code",
   "execution_count": null,
   "metadata": {
    "collapsed": true
   },
   "outputs": [],
   "source": [
    "if __Print_To_File>0:\n",
    "    of.close()"
   ]
  }
 ],
 "metadata": {
  "kernelspec": {
   "display_name": "Python 3",
   "language": "python",
   "name": "python3"
  },
  "language_info": {
   "codemirror_mode": {
    "name": "ipython",
    "version": 3
   },
   "file_extension": ".py",
   "mimetype": "text/x-python",
   "name": "python",
   "nbconvert_exporter": "python",
   "pygments_lexer": "ipython3",
   "version": "3.5.1"
  }
 },
 "nbformat": 4,
 "nbformat_minor": 0
}
