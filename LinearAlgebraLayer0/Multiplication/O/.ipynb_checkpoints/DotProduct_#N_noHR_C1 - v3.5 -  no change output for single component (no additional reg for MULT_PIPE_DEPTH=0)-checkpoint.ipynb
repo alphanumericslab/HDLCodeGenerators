{
 "cells": [
  {
   "cell_type": "code",
   "execution_count": 100,
   "metadata": {
    "collapsed": true
   },
   "outputs": [],
   "source": [
    "#changed name\n",
    "#changed initial checks\n",
    "#removed sign extension when not needed"
   ]
  },
  {
   "cell_type": "code",
   "execution_count": 101,
   "metadata": {
    "collapsed": true
   },
   "outputs": [],
   "source": [
    "#uses DotProduct_Systolic - v1.0"
   ]
  },
  {
   "cell_type": "code",
   "execution_count": 102,
   "metadata": {
    "collapsed": true
   },
   "outputs": [],
   "source": [
    "import sys\n",
    "import math\n",
    "import io"
   ]
  },
  {
   "cell_type": "code",
   "execution_count": 103,
   "metadata": {
    "collapsed": false
   },
   "outputs": [
    {
     "name": "stdout",
     "output_type": "stream",
     "text": [
      "Enter N: 1\n"
     ]
    }
   ],
   "source": [
    "#N>=1\n",
    "N = input('Enter N: ')"
   ]
  },
  {
   "cell_type": "code",
   "execution_count": 104,
   "metadata": {
    "collapsed": false
   },
   "outputs": [
    {
     "name": "stdout",
     "output_type": "stream",
     "text": [
      "Enter IN_WIDTH Default Value (empty for 10): \n"
     ]
    }
   ],
   "source": [
    "#IN_WIDTH>=1\n",
    "IN_WIDTH = input('Enter IN_WIDTH Default Value (empty for 10): ')"
   ]
  },
  {
   "cell_type": "code",
   "execution_count": 105,
   "metadata": {
    "collapsed": false
   },
   "outputs": [
    {
     "name": "stdout",
     "output_type": "stream",
     "text": [
      "Enter INPUT_REG_DEPTH Default Value (empty for 1): \n"
     ]
    }
   ],
   "source": [
    "#INPUT_REG_DEPTH>=0\n",
    "INPUT_REG_DEPTH = input('Enter INPUT_REG_DEPTH Default Value (empty for 1): ')"
   ]
  },
  {
   "cell_type": "code",
   "execution_count": 106,
   "metadata": {
    "collapsed": false
   },
   "outputs": [
    {
     "name": "stdout",
     "output_type": "stream",
     "text": [
      "Enter MULT_PIPE_DEPTH Default Value (empty for 1): \n"
     ]
    }
   ],
   "source": [
    "#MULT_PIPE_DEPTH>=0\n",
    "MULT_PIPE_DEPTH = input('Enter MULT_PIPE_DEPTH Default Value (empty for 1): ')"
   ]
  },
  {
   "cell_type": "code",
   "execution_count": 107,
   "metadata": {
    "collapsed": true
   },
   "outputs": [],
   "source": [
    "N = int(N)\n",
    "if(N<1):\n",
    "    N=1\n",
    "NMult = N; #Number of Multipliers Needed"
   ]
  },
  {
   "cell_type": "code",
   "execution_count": 108,
   "metadata": {
    "collapsed": false
   },
   "outputs": [],
   "source": [
    "#AdderSize>=2\n",
    "if N>1:\n",
    "    AdderSize = input('Enter maximum size allowed for adders(empty for 2): ')"
   ]
  },
  {
   "cell_type": "code",
   "execution_count": 110,
   "metadata": {
    "collapsed": false
   },
   "outputs": [],
   "source": [
    "if not IN_WIDTH:\n",
    "    IN_WIDTH=10\n",
    "else:\n",
    "    IN_WIDTH = int(IN_WIDTH)\n",
    "    if(IN_WIDTH<1):\n",
    "        IN_WIDTH=1\n",
    "if not INPUT_REG_DEPTH:\n",
    "    INPUT_REG_DEPTH=1\n",
    "else:\n",
    "    INPUT_REG_DEPTH = int(INPUT_REG_DEPTH)\n",
    "    if(INPUT_REG_DEPTH<0):\n",
    "        INPUT_REG_DEPTH=0\n",
    "if not MULT_PIPE_DEPTH:\n",
    "    MULT_PIPE_DEPTH=1\n",
    "else:\n",
    "    MULT_PIPE_DEPTH = int(MULT_PIPE_DEPTH)\n",
    "    if(MULT_PIPE_DEPTH<0):\n",
    "        MULT_PIPE_DEPTH=0\n",
    "        \n",
    "if not AdderSize:\n",
    "    AdderSize=2\n",
    "else:\n",
    "    AdderSize = int(AdderSize)\n",
    "    if AdderSize<2:\n",
    "        AdderSize=2\n",
    "    if AdderSize>N:\n",
    "        AdderSize=N"
   ]
  },
  {
   "cell_type": "code",
   "execution_count": 111,
   "metadata": {
    "collapsed": false
   },
   "outputs": [],
   "source": [
    "__Print_To_File = 0\n",
    "\n",
    "if __Print_To_File<=0:\n",
    "    of=sys.stdout\n",
    "else:\n",
    "    of=open(\"./DotProduct_{}_noHR_C1.v\".format(N), 'w+')"
   ]
  },
  {
   "cell_type": "code",
   "execution_count": 112,
   "metadata": {
    "collapsed": false
   },
   "outputs": [
    {
     "name": "stdout",
     "output_type": "stream",
     "text": [
      "`timescale 1ns / 1ps\n",
      "\n",
      "module DotProduct_1_noHR_C1\n",
      "#(\n",
      "parameter IN_WIDTH = 10,\n",
      "parameter INPUT_REG_DEPTH = 1,\n",
      "parameter MULT_PIPE_DEPTH = 1\n",
      ")(\n",
      "input clk, reset, enable,\n",
      "input inReady,\n",
      "input signed [IN_WIDTH-1:0] A0, \n",
      "input signed [IN_WIDTH-1:0] B0, \n",
      "output outReady,\n",
      "output signed [(2*IN_WIDTH)-1:0] DP,\n",
      "output earlyOutReady\n",
      ");\n",
      "\n"
     ]
    }
   ],
   "source": [
    "print(\"`timescale 1ns / 1ps\\n\", file=of)\n",
    "print(\"module DotProduct_{}_noHR_C1\".format(N), file=of)\n",
    "print(\"#(\", file=of)\n",
    "print(\"parameter IN_WIDTH = {},\".format(IN_WIDTH), file=of)\n",
    "print(\"parameter INPUT_REG_DEPTH = {},\".format(INPUT_REG_DEPTH), file=of)\n",
    "print(\"parameter MULT_PIPE_DEPTH = {}\".format(MULT_PIPE_DEPTH), file=of)\n",
    "print(\")(\", file=of)\n",
    "print(\"input clk, reset, enable,\", file=of)\n",
    "print(\"input inReady,\", file=of)\n",
    "print(\"input signed [IN_WIDTH-1:0] \", end='', file=of)\n",
    "for i in range(N):\n",
    "    print(\"A{}, \".format(i), end='', file=of)\n",
    "print(file=of)\n",
    "print(\"input signed [IN_WIDTH-1:0] \", end='', file=of)\n",
    "for i in range(N):\n",
    "    print(\"B{}, \".format(i), end='', file=of)\n",
    "print(file=of)\n",
    "print(\"output outReady,\", file=of)\n",
    "lgn=math.ceil(math.log2(N))\n",
    "al=-1+lgn\n",
    "if al==0:\n",
    "    print(\"output signed [(2*IN_WIDTH):0] DP,\", file=of)\n",
    "elif al<0:\n",
    "    print(\"output signed [(2*IN_WIDTH){}:0] DP,\".format(al), file=of)\n",
    "else:\n",
    "    print(\"output signed [(2*IN_WIDTH)+{}:0] DP,\".format(al), file=of)\n",
    "print(\"output earlyOutReady\", file=of)\n",
    "print(\");\\n\", file=of)"
   ]
  },
  {
   "cell_type": "code",
   "execution_count": 114,
   "metadata": {
    "collapsed": false
   },
   "outputs": [],
   "source": [
    "if N>1:\n",
    "    print(\"wire signed [(2*IN_WIDTH)-1:0] \", end='', file=of)\n",
    "    for i in range (N):    \n",
    "        print(\"DPpart{}\".format(i), end='', file=of)\n",
    "        if i==N-1:\n",
    "            print(\";\", file=of)              \n",
    "        else:\n",
    "            print(\", \", end='', file=of)\n",
    "    print(\"wire DPOutReady;\\n\", file=of)"
   ]
  },
  {
   "cell_type": "code",
   "execution_count": 127,
   "metadata": {
    "collapsed": false
   },
   "outputs": [],
   "source": [
    "if N>1:\n",
    "    regsBuf=io.StringIO()\n",
    "    AIBuf=io.StringIO()\n",
    "\n",
    "    maxLevel=math.ceil(math.log(N,AdderSize))\n",
    "    #print(\"maxLevel = {}\".format(maxLevel))\n",
    "    level=0\n",
    "\n",
    "    nextElememtNo=N #remained\n",
    "    sizeList=[]\n",
    "    for i in range(N):\n",
    "        sizeList.append(1)\n",
    "\n",
    "    RootList=[]\n",
    "    for i in range(N):\n",
    "        RootList.append(i)\n",
    "    AdditionalRegList=[]\n",
    "    for i in range(N):\n",
    "        AdditionalRegList.append(0)\n",
    "\n",
    "    i=0\n",
    "    new = N\n",
    "\n",
    "    REGimp=False\n",
    "\n",
    "    while level!=maxLevel:\n",
    "        #print(\"StartNextElememtNo = {}\".format(nextElememtNo))\n",
    "        currentElememtNo = nextElememtNo\n",
    "        nextElememtNo=0\n",
    "        ORimp=False\n",
    "        while currentElememtNo>0:\n",
    "            if currentElememtNo >= AdderSize:\n",
    "                CurrentAdderSize = AdderSize\n",
    "                currentElememtNo -= AdderSize\n",
    "            else:\n",
    "                CurrentAdderSize = currentElememtNo\n",
    "                currentElememtNo = 0\n",
    "            nextElememtNo=nextElememtNo+1\n",
    "            #print(\"nextElememtNo = {}\".format(nextElememtNo))\n",
    "            outSize=0\n",
    "            for k in range (i, i+CurrentAdderSize):\n",
    "                outSize+=sizeList[k]\n",
    "            sizeList.append(outSize)\n",
    "            if CurrentAdderSize==1: #just reg\n",
    "                root=RootList[i]\n",
    "                if root != -1:\n",
    "                    RootList.append(i)\n",
    "                    #print(root)\n",
    "                    while root>=N:\n",
    "                        root=RootList[root]\n",
    "                        #print(root)\n",
    "                    AdditionalRegList[root]+=1\n",
    "                else:\n",
    "                    RootList.append(-1)\n",
    "#                 if outSize==1:\n",
    "#                     AIBuf.write(\"reg signed [2*IN_WIDTH-1:0] M{};\\n\".format(new))\n",
    "#                     #print file=of\n",
    "#                 elif outSize==2:\n",
    "#                     AIBuf.write(\"reg signed [2*IN_WIDTH:0] M{};\\n\".format(new))\n",
    "#                     #print file=of\n",
    "#                 else:\n",
    "#                     AIBuf.write(\"reg signed [2*IN_WIDTH+{}:0] M{};\\n\".format(math.ceil(math.log(outSize,2))-1, new))\n",
    "#                     #print file=of\n",
    "#                 if level==0:\n",
    "#                     regsBuf.write(\"\\t\\tif(DPOutReady) begin\\n\")\n",
    "#                     regsBuf.write(\"\\t\\t\\tM{} <= DPpart{};\\n\".format(new, i))\n",
    "#                 else:\n",
    "#                     regsBuf.write(\"\\t\\tif(OR[{}]) begin\\n\".format(level-1))\n",
    "#                     regsBuf.write(\"\\t\\t\\tM{} <= M{};\\n\".format(new, i))      \n",
    "#                 regsBuf.write(\"\\t\\tend\\n\")\n",
    "                i+=1\n",
    "                REGimp=True\n",
    "            else: #Generate Adder\n",
    "                RootList.append(-1)\n",
    "\n",
    "                if level!=maxLevel-1:\n",
    "                    if outSize==2: #outSize>=2\n",
    "                        AIBuf.write(\"wire signed [2*IN_WIDTH:0] M{};\\n\".format(new))\n",
    "                    else:\n",
    "                        AIBuf.write(\"wire signed [2*IN_WIDTH+{}:0] M{};\\n\".format(math.ceil(math.log(outSize,2))-1, new))\n",
    "                inSizeL = math.ceil(math.log(sizeList[i],2))\n",
    "                #print(\"inSize = {}\".format(inSize))\n",
    "                rE = i+CurrentAdderSize\n",
    "                eSizeList=[]\n",
    "                for k in range (i, rE):\n",
    "                    curSizeL=math.ceil(math.log(sizeList[k],2))\n",
    "                    eSizeL=inSizeL-curSizeL\n",
    "                    eSizeList.append(eSizeL)\n",
    "                    #print(\"esize = {}\".format(eSizeL))\n",
    "                    if eSizeL!=0:\n",
    "                        if inSizeL==1:\n",
    "                             AIBuf.write(\"wire signed [2*IN_WIDTH:0] M{}e=\".format(k))\n",
    "                        else:\n",
    "                             AIBuf.write(\"wire signed [2*IN_WIDTH+{}:0] M{}e=\".format(inSizeL-1, k))\n",
    "                        AIBuf.write(\"{{\")\n",
    "                        AIBuf.write(\"{}\".format(eSizeL))\n",
    "                        AIBuf.write(\"{\")\n",
    "                        \n",
    "                        root=RootList[k]\n",
    "                        if root != -1:\n",
    "                            while root>=N:\n",
    "                                root=RootList[root]\n",
    "                            AIBuf.write(\"DPpart{}\".format(root))\n",
    "                        else:\n",
    "                            AIBuf.write(\"M{}\".format(k))\n",
    "\n",
    "                        \n",
    "                        AIBuf.write(\"[2*IN_WIDTH\".format(k))\n",
    "                        if curSizeL==0:\n",
    "                            AIBuf.write(\"-1\")\n",
    "                        elif curSizeL>1:\n",
    "                            AIBuf.write(\"+{}\".format(curSizeL-1))\n",
    "                        AIBuf.write(\"]}},\")\n",
    "                        \n",
    "                        if root != -1:\n",
    "                            AIBuf.write(\"DPpart{}\".format(root))\n",
    "                        else:\n",
    "                            AIBuf.write(\"M{}\".format(k))\n",
    "\n",
    "                        AIBuf.write(\"};\\n\")\n",
    "                AIBuf.write(\"Registered{}to1Adder_NIR #(.IN_WIDTH(2*IN_WIDTH\".format(CurrentAdderSize))\n",
    "                curSizeL=math.ceil(math.log(sizeList[i],2))\n",
    "                if inSizeL>0:\n",
    "                    AIBuf.write(\"+{}\".format(inSizeL))\n",
    "                AIBuf.write(\"))\\nAdd{}(\\nclk, reset, enable, \\n\".format(new))\n",
    "                if level==0:\n",
    "                    AIBuf.write(\"DPOutReady,\\n\")\n",
    "                    for k in range (i, rE):\n",
    "                        AIBuf.write(\"DPpart\")\n",
    "                        AIBuf.write(\"{}, \".format(k))\n",
    "                else:\n",
    "                    AIBuf.write(\"OR[{}],\\n\".format(level-1))\n",
    "                    for k in range (i, rE):\n",
    "                        \n",
    "                        AIBuf.write(\"M\")\n",
    "                        AIBuf.write(\"{}\".format(k))\n",
    "                        \n",
    "                        if(eSizeList[k-i]!=0):\n",
    "                            AIBuf.write(\"e\");\n",
    "                        AIBuf.write(\", \")\n",
    "                AIBuf.write(\"\\n\")\n",
    "                if level==maxLevel-1:\n",
    "                    AIBuf.write(\"outReady,\\n\")\n",
    "                else:\n",
    "                    if ORimp==False:\n",
    "                        AIBuf.write(\"OR[{}],\\n\".format(level))\n",
    "                        ORimp=True\n",
    "                    else:\n",
    "                        AIBuf.write(\"ORa{}, //not used\\n\".format(new))\n",
    "                if level==maxLevel-1:\n",
    "                    AIBuf.write(\"out,\\n\".format(new))\n",
    "                else:\n",
    "                    AIBuf.write(\"M{},\\n\".format(new))\n",
    "                if level==maxLevel-1:\n",
    "                    AIBuf.write(\"earlyOutReady);\\n\\n\".format(new, new))        \n",
    "                else :\n",
    "                    AIBuf.write(\"aeor{}); //not used\\n\\n\".format(new, new))\n",
    "                i+=CurrentAdderSize\n",
    "            new+=1\n",
    "        level+=1\n",
    "\n",
    "    #print(RootList)\n",
    "    #print(AdditionalRegList)\n",
    "    \n",
    "    print(AIBuf.getvalue(), end='',file=of)\n",
    "else:\n",
    "        aorl = -1"
   ]
  },
  {
   "cell_type": "code",
   "execution_count": 142,
   "metadata": {
    "collapsed": false
   },
   "outputs": [],
   "source": [
    "# if N==1:\n",
    "#     print(\"wire [0:INPUT_REG_DEPTH+MULT_PIPE_DEPTH-1] OR;\\n\", file=of)\n",
    "# else:\n",
    "#     if maxLevel==1:\n",
    "#         print(\"wire [0:INPUT_REG_DEPTH+MULT_PIPE_DEPTH] OR;\\n\", file=of)\n",
    "#     elif maxLevel<1: \n",
    "#         print(\"wire [0:INPUT_REG_DEPTH+MULT_PIPE_DEPTH{}] OR;\\n\".format(maxLevel-1), file=of)\n",
    "#     else:\n",
    "#         print(\"wire [0:INPUT_REG_DEPTH+MULT_PIPE_DEPTH+{}] OR;\\n\".format(maxLevel-1), file=of)"
   ]
  },
  {
   "cell_type": "code",
   "execution_count": 120,
   "metadata": {
    "collapsed": false
   },
   "outputs": [],
   "source": [
    "IregsBuf=io.StringIO()\n",
    "if N>1:\n",
    "    IRegImp = False\n",
    "    for i in range (N):\n",
    "        IARD = AdditionalRegList[i];\n",
    "        if IARD==0:\n",
    "            print(\"assign DPpart{} = A{}*B{};\".format(i, i, i), file=of)\n",
    "        else:\n",
    "            IRegImp = True\n",
    "            print(\"reg signed [(IN_WIDTH)-1:0] A{}r[0:{}], B{}r[0:{}];\".format(i, IARD-1, i, IARD-1), file=of)\n",
    "            print(\"integer ir{};\".format(i), file=of)\n",
    "            print(\"assign DPpart{} = A{}r[{}]*B{}r[{}];\".format(i, i, IARD-1, i, IARD-1), file=of)\n",
    "            IregsBuf.write(\"\\t\\tA{}r[0] <= A{};\\n\".format(i, i))\n",
    "            IregsBuf.write(\"\\t\\tB{}r[0] <= B{};\\n\".format(i, i))\n",
    "            IregsBuf.write(\"\\t\\tfor(ir{}=0;ir{}<{};ir{}=ir{}+1) begin\\n\".format(i, i, IARD-1, i, i))\n",
    "            IregsBuf.write(\"\\t\\t\\tA{}r[ir{}+1] <= A{}r[ir{}];\\n\".format(i, i, i, i))\n",
    "            IregsBuf.write(\"\\t\\t\\tB{}r[ir{}+1] <= B{}r[ir{}];\\n\".format(i, i, i, i))\n",
    "            IregsBuf.write(\"\\t\\tend\\n\")            "
   ]
  },
  {
   "cell_type": "code",
   "execution_count": 141,
   "metadata": {
    "collapsed": false
   },
   "outputs": [
    {
     "name": "stdout",
     "output_type": "stream",
     "text": [
      "generate\n",
      "if(INPUT_REG_DEPTH==0 && MULT_PIPE_DEPTH==0) begin\n",
      "\n",
      "assign DP = A0*B0;\n",
      "assign outReady = inReady;\n",
      "\n",
      "assign earlyOutReady = 1'b0;\n",
      "\n",
      "end\n"
     ]
    }
   ],
   "source": [
    "print(\"generate\", file=of)\n",
    "print(\"if(INPUT_REG_DEPTH==0 && MULT_PIPE_DEPTH==0) begin\\n\", file=of)\n",
    "if N>1:\n",
    "    print(\"wire [0:{}] OR;\\n\".format(aorl), file=of)\n",
    "    if(IRegImp):\n",
    "        print(\"always @(posedge clk) begin\", file=of)\n",
    "        print(\"\\tif(reset) begin\", file=of)\n",
    "        print(\"\\t\\t//Do Nothing\", file=of)\n",
    "        print(\"\\tend\", file=of)\n",
    "        print(\"\\telse if(enable) begin\", file=of)\n",
    "        print(IregsBuf.getvalue(), end='',file=of)\n",
    "        print(\"\\tend\", file=of)\n",
    "        print(\"end\\n\", file=of)\n",
    "else:\n",
    "    print(\"assign DP = A0*B0;\\n\", end='', file=of)\n",
    "    print(\"assign outReady = inReady;\\n\", file=of)\n",
    "    print(\"assign earlyOutReady = 1'b0;\\n\", file=of)\n",
    "print(\"end\", file=of)"
   ]
  },
  {
   "cell_type": "code",
   "execution_count": 145,
   "metadata": {
    "collapsed": false
   },
   "outputs": [
    {
     "name": "stdout",
     "output_type": "stream",
     "text": [
      "else if(INPUT_REG_DEPTH==0 && MULT_PIPE_DEPTH!=0) begin\n",
      "\n",
      "wire [0:MULT_PIPE_DEPTH-1] OR;\n",
      "\n",
      "reg signed [(2*IN_WIDTH)-1:0] DPp [0:MULT_PIPE_DEPTH-1];\n",
      "integer i;\n",
      "reg outReady;\n",
      "always @(posedge clk) begin\n",
      "\tif(reset) begin\n",
      "\t\t//Do Nothing\n",
      "\tend\n",
      "\telse if(enable) begin\n",
      "\t\tif(inReady)\n",
      "\t\t\tDPp[0] <= A0*B0;\n",
      "\t\tfor(i=0;i<(MULT_PIPE_DEPTH-1);i=i+1) begin\n",
      "\t\t\tif(OR[i])\n",
      "\t\t\t\tDPp[i+1] <= DPp[i];\n",
      "\t\tend\n",
      "\tend\n",
      "end\n",
      "assign DP = DPp[MULT_PIPE_DEPTH-1];\n",
      "\n",
      "end\n"
     ]
    }
   ],
   "source": [
    "print(\"else if(INPUT_REG_DEPTH==0 && MULT_PIPE_DEPTH!=0) begin\\n\", file=of)\n",
    "if N==1:\n",
    "    print(\"wire [0:MULT_PIPE_DEPTH-1] OR;\\n\", file=of)\n",
    "else:\n",
    "    if maxLevel==1:\n",
    "        print(\"wire [0:MULT_PIPE_DEPTH] OR;\\n\", file=of)\n",
    "    elif maxLevel<1:\n",
    "        print(\"wire [0:MULT_PIPE_DEPTH{}] OR;\\n\".format(maxLevel-1), file=of)\n",
    "    else:\n",
    "        print(\"wire [0:MULT_PIPE_DEPTH+{}] OR;\\n\".format(maxLevel-1), file=of)\n",
    "if N>1:\n",
    "    print(\"reg signed [(2*IN_WIDTH)-1:0] \", end='', file=of)\n",
    "    for i in range (N):\n",
    "        print(\"DPpartR{}[0:MULT_PIPE_DEPTH-1]\".format(i), end='', file=of)\n",
    "        if i==N-1:\n",
    "            print(\";\", file=of)              \n",
    "        else:\n",
    "            print(\", \", end='', file=of)\n",
    "else:\n",
    "    print(\"reg signed [(2*IN_WIDTH)-1:0] DPp [0:MULT_PIPE_DEPTH-1];\", file=of)\n",
    "print(\"integer i;\", file=of)\n",
    "if N==1:\n",
    "    print(\"reg outReady;\", file=of)\n",
    "print(\"always @(posedge clk) begin\", file=of)\n",
    "print(\"\\tif(reset) begin\", file=of)\n",
    "print(\"\\t\\t//Do Nothing\", file=of)\n",
    "print(\"\\tend\", file=of)\n",
    "print(\"\\telse if(enable) begin\", file=of)\n",
    "if(IRegImp):\n",
    "    print(IregsBuf.getvalue(), end='',file=of)\n",
    "for i in range (N):   \n",
    "    if N==1:\n",
    "        print(\"\\t\\tif(inReady)\", file=of)\n",
    "        print(\"\\t\\t\\tDPp[0] <= A0*B0;\", file=of)                \n",
    "    else:\n",
    "        print(\"\\t\\tDPpartR{}[0]\".format(i), end='', file=of)\n",
    "        IARD = AdditionalRegList[i];\n",
    "        if IARD==0:\n",
    "            print(\" <= A{}*B{};\".format(i, i), file=of)\n",
    "        else:\n",
    "            print(\" <= A{}r[{}]*B{}r[{}];\".format(i, IARD-1, i, IARD-1), file=of)\n",
    "print(\"\\t\\tfor(i=0;i<(MULT_PIPE_DEPTH-1);i=i+1) begin\", file=of)\n",
    "if N==1:\n",
    "    print(\"\\t\\t\\tif(OR[i])\", file=of)\n",
    "    print(\"\\t\\t\\t\\tDPp[i+1] <= DPp[i];\", file=of)\n",
    "else:\n",
    "    for i in range (N):\n",
    "        print(\"\\t\\t\\tDPpartR{}[i+1] <= DPpartR{}[i];\".format(i, i), file=of)\n",
    "print(\"\\t\\tend\", file=of)\n",
    "print(\"\\tend\", file=of)\n",
    "print(\"end\", file=of)\n",
    "if N==1:\n",
    "    print(\"assign DP = DPp[MULT_PIPE_DEPTH-1];\\n\", file=of)\n",
    "else:\n",
    "    for i in range (N):    \n",
    "        print(\"assign DPpart{} = DPpartR{}[MULT_PIPE_DEPTH-1];\".format(i, i),file=of)\n",
    "    print(\"\", file=of)\n",
    "print(\"end\", file=of)"
   ]
  },
  {
   "cell_type": "code",
   "execution_count": 147,
   "metadata": {
    "collapsed": false
   },
   "outputs": [
    {
     "name": "stdout",
     "output_type": "stream",
     "text": [
      "else if(INPUT_REG_DEPTH!=0 && MULT_PIPE_DEPTH==0) begin\n",
      "\n",
      "wire [0:INPUT_REG_DEPTH-1] OR;\n",
      "\n",
      "reg signed [IN_WIDTH-1:0] A0r [0:INPUT_REG_DEPTH-1], B0r [0:INPUT_REG_DEPTH-1];\n",
      "integer j;\n",
      "reg outReady;\n",
      "reg signed [(2*IN_WIDTH)-1:0] DPp;\n",
      "always @(posedge clk) begin\n",
      "\tif(reset) begin\n",
      "\t\t//Do Nothing\n",
      "\tend\n",
      "\telse if(enable) begin\n",
      "\t\tA0r[0] <= A0;\n",
      "\t\tB0r[0] <= B0;\n",
      "\t\tfor(j=0;j<INPUT_REG_DEPTH-1;j=j+1) begin\n",
      "\t\t\tA0r[j+1] <= A0r[j];\n",
      "\t\t\tB0r[j+1] <= B0r[j];\n",
      "\t\tend\n",
      "\tend\n",
      "end\n",
      "assign DP = A0r[INPUT_REG_DEPTH-1]*B0r[INPUT_REG_DEPTH-1];\n",
      "assign outReady = OR[INPUT_REG_DEPTH-1];\n",
      "\n",
      "end\n"
     ]
    }
   ],
   "source": [
    "print(\"else if(INPUT_REG_DEPTH!=0 && MULT_PIPE_DEPTH==0) begin\\n\", file=of)\n",
    "if N==1:\n",
    "    print(\"wire [0:INPUT_REG_DEPTH-1] OR;\\n\", file=of)\n",
    "else:\n",
    "    if maxLevel==1:\n",
    "        print(\"wire [0:INPUT_REG_DEPTH] OR;\\n\", file=of)\n",
    "    elif maxLevel<1:\n",
    "        print(\"wire [0:INPUT_REG_DEPTH{}] OR;\\n\".format(maxLevel-1), file=of)\n",
    "    else:\n",
    "        print(\"wire [0:INPUT_REG_DEPTH+{}] OR;\\n\".format(maxLevel-1), file=of)\n",
    "for i in range (N):   \n",
    "    print(\"reg signed [IN_WIDTH-1:0] A{}r [0:INPUT_REG_DEPTH-1], B{}r [0:INPUT_REG_DEPTH-1];\".format(i, i), file=of)\n",
    "print(\"integer j;\", file=of)\n",
    "if N==1:\n",
    "    print(\"reg outReady;\", file=of)\n",
    "    print(\"reg signed [(2*IN_WIDTH)-1:0] DPp;\", file=of)\n",
    "print(\"always @(posedge clk) begin\", file=of)\n",
    "print(\"\\tif(reset) begin\", file=of)\n",
    "print(\"\\t\\t//Do Nothing\", file=of)\n",
    "print(\"\\tend\", file=of)\n",
    "print(\"\\telse if(enable) begin\", file=of)\n",
    "for i in range(N):\n",
    "    if N==1:\n",
    "        print(\"\\t\\tif(inReady)\\n\\t\", end='', file=of)\n",
    "    print(\"\\t\\tA{}r[0] <= A{};\".format(i,i), file=of)\n",
    "    if N==1:\n",
    "        print(\"\\t\", end='', file=of)\n",
    "    print(\"\\t\\tB{}r[0] <= B{};\".format(i,i), file=of) \n",
    "    if N==1:\n",
    "        print(\"\\t\\tend\", end='', file=of)\n",
    "print(\"\\t\\tfor(j=0;j<INPUT_REG_DEPTH-1;j=j+1) begin\", file=of)\n",
    "for i in range(N):\n",
    "    print(\"\\t\\t\\tA{}r[j+1] <= A{}r[j];\".format(i,i), file=of)\n",
    "    print(\"\\t\\t\\tB{}r[j+1] <= B{}r[j];\".format(i,i), file=of)\n",
    "print(\"\\t\\tend\", file=of)\n",
    "print(\"\\tend\", file=of)\n",
    "print(\"end\", file=of)\n",
    "if N>1:\n",
    "    for i in range (N):    \n",
    "        print(\"assign DPpart{} = A{}r[INPUT_REG_DEPTH-1]*B{}r[INPUT_REG_DEPTH-1];\".format(i, i, i),file=of)\n",
    "    print(\"assign DPOutReady = DPOutReadyR[INPUT_REG_DEPTH-1];\\n\", file=of)\n",
    "else:\n",
    "    print(\"assign DP = A0r[INPUT_REG_DEPTH-1]*B0r[INPUT_REG_DEPTH-1];\", file=of)\n",
    "    #print(\"assign earlyOutReady = DPOutReadyR[INPUT_REG_DEPTH-1];\\n\", file=of)\n",
    "    print(\"assign outReady = OR[INPUT_REG_DEPTH-1];\\n\", file=of)\n",
    "print(\"end\", file=of)"
   ]
  },
  {
   "cell_type": "code",
   "execution_count": null,
   "metadata": {
    "collapsed": false
   },
   "outputs": [],
   "source": [
    "    print(\"else begin //if(INPUT_REG_DEPTH!=0 && MULT_PIPE_DEPTH!=0)\\n\", file=of)\n",
    "    for i in range (N):   \n",
    "        print(\"reg signed [IN_WIDTH-1:0] A{}r [1:INPUT_REG_DEPTH], B{}r [1:INPUT_REG_DEPTH];\".format(i, i), file=of)\n",
    "    if N>1:\n",
    "        print(\"reg signed [(2*IN_WIDTH)-1:0] \", end='', file=of) #-2 is enough, XST\n",
    "        for i in range (N):    \n",
    "            print(\"DPpartR{}[0:MULT_PIPE_DEPTH-1]\".format(i), end='', file=of)\n",
    "            if i==N-1:\n",
    "                print(\";\", file=of)              \n",
    "            else:\n",
    "                print(\", \", end='', file=of)\n",
    "    else:\n",
    "        print(\"reg signed [(2*IN_WIDTH)-1:0] DPp [0:MULT_PIPE_DEPTH];\", file=of) #-2 is enough, XST\n",
    "    print(\"integer i, j, k;\", file=of)\n",
    "    print(\"reg [0:INPUT_REG_DEPTH+MULT_PIPE_DEPTH-1] DPOutReadyR = 0;\", file=of)\n",
    "    if N==1:\n",
    "        print(\"reg outReady;\", file=of)\n",
    "    print(\"always @(posedge clk) begin\", file=of)\n",
    "    print(\"\\tif(reset) begin\", file=of)\n",
    "    print(\"\\t\\tDPOutReadyR <= 0;\", file=of)\n",
    "    print(\"\\tend\", file=of)\n",
    "    print(\"\\telse if(enable) begin\", file=of)\n",
    "    for i in range(N):\n",
    "        print(\"\\t\\tA{}r[1] <= A{};\".format(i,i), file=of)\n",
    "        print(\"\\t\\tB{}r[1] <= B{};\".format(i,i), file=of)    \n",
    "    print(\"\\t\\tfor(j=1;j<INPUT_REG_DEPTH;j=j+1) begin\", file=of)\n",
    "    for i in range(N):\n",
    "        print(\"\\t\\t\\tA{}r[j+1] <= A{}r[j];\".format(i,i), file=of)\n",
    "        print(\"\\t\\t\\tB{}r[j+1] <= B{}r[j];\".format(i,i), file=of)\n",
    "    print(\"\\t\\tend\", file=of)\n",
    "    for i in range (N):   \n",
    "        if N==1:\n",
    "            print(\"\\t\\tDPp[0]\", end='', file=of)                \n",
    "        else:\n",
    "            print(\"\\t\\tDPpartR{}[0]\".format(i), end='', file=of)\n",
    "        print(\" <= A{}r[INPUT_REG_DEPTH]*B{}r[INPUT_REG_DEPTH];\".format(i, i), file=of)\n",
    "    print(\"\\t\\tfor(k=0;k<(MULT_PIPE_DEPTH-1);k=k+1) begin\", file=of)\n",
    "    if N==1:\n",
    "        print(\"\\t\\t\\tDPp[k+1] <= DPp[MULT_PIPE_DEPTH];\", file=of)\n",
    "    else:\n",
    "        for i in range (N):\n",
    "            print(\"\\t\\t\\tDPpartR{}[k+1] <= DPpartR{}[k];\".format(i, i), file=of)\n",
    "    print(\"\\t\\tend\", file=of)\n",
    "    print(\"\\t\\tDPOutReadyR[0] <= inReady;\", file=of)\n",
    "    print(\"\\t\\tfor(i=0;i<(INPUT_REG_DEPTH+MULT_PIPE_DEPTH-1);i=i+1) begin\", file=of)\n",
    "    print(\"\\t\\t\\tDPOutReadyR[i+1] <= DPOutReadyR[i];\", file=of)    \n",
    "    print(\"\\t\\tend\", file=of)\n",
    "    if N==1:\n",
    "        print(\"\\t\\toutReady <= DPOutReadyR[INPUT_REG_DEPTH+MULT_PIPE_DEPTH-1];\", file=of)\n",
    "        print(\"\\t\\tif(DPOutReadyR[INPUT_REG_DEPTH+MULT_PIPE_DEPTH-1]) begin\", file=of)\n",
    "        print(\"\\t\\t\\tDPp[MULT_PIPE_DEPTH] <= DPp[MULT_PIPE_DEPTH-1];\", file=of)\n",
    "        print(\"\\t\\tend\", file=of)\n",
    "    print(\"\\tend\", file=of)\n",
    "    print(\"end\", file=of)\n",
    "    if N==1:\n",
    "        print(\"assign DP = DPp[MULT_PIPE_DEPTH];\", file=of)\n",
    "        print(\"assign earlyOutReady = DPOutReadyR[INPUT_REG_DEPTH+MULT_PIPE_DEPTH-1];\\n\", file=of)\n",
    "    else:\n",
    "        for i in range (N):    \n",
    "            print(\"assign DPpart{} = DPpartR{}[MULT_PIPE_DEPTH-1];\".format(i, i),file=of)\n",
    "        print(\"assign DPOutReady = DPOutReadyR[INPUT_REG_DEPTH+MULT_PIPE_DEPTH-1];\\n\", file=of)\n",
    "    print(\"end\", file=of)\n",
    "    print(\"endgenerate\\n\", file=of)    "
   ]
  },
  {
   "cell_type": "code",
   "execution_count": null,
   "metadata": {
    "collapsed": false
   },
   "outputs": [],
   "source": [
    "if N>1:\n",
    "    lgMAMCS=math.ceil(math.log2(MAMCS))\n",
    "    if lgMAMCS==1:\n",
    "        print(\"AdderTree_{}#( .IN_WIDTH(2*IN_WIDTH) )\".format(NumOfComponents), file=of)\n",
    "    elif lgMAMCS<1:\n",
    "        print(\"AdderTree_{}#( .IN_WIDTH(2*IN_WIDTH{}) )\".format(NumOfComponents, -1+lgMAMCS), file=of)\n",
    "    else:\n",
    "        print(\"AdderTree_{}#( .IN_WIDTH(2*IN_WIDTH+{}) )\".format(NumOfComponents, -1+lgMAMCS), file=of)\n",
    "    print(\"\\tAT(clk, reset, enable, DPOutReady,\", file=of)\n",
    "    print(\"\\t\", end='', file=of)\n",
    "    for i in range(NumOfMaxSizeComponents):\n",
    "        print(\"DPpart{}, \".format(i), end='', file=of)\n",
    "    if NonMaxSizeComponentSize!=0:\n",
    "        print(\"DPpart{}\".format(NumOfMaxSizeComponents), end='', file=of)\n",
    "        if palM-palN>0 or NonMaxSizeComponentSize==1:\n",
    "            print(\"E\", end='', file=of)\n",
    "        print(\",\", end='', file=of)\n",
    "    print(\"\\n\\toutReady, DP, earlyOutReady);\\n\", file=of)"
   ]
  },
  {
   "cell_type": "code",
   "execution_count": null,
   "metadata": {
    "collapsed": false
   },
   "outputs": [],
   "source": [
    "print(\"endmodule\", file=of)"
   ]
  },
  {
   "cell_type": "code",
   "execution_count": null,
   "metadata": {
    "collapsed": true
   },
   "outputs": [],
   "source": [
    "if __Print_To_File>0:\n",
    "    of.close()"
   ]
  }
 ],
 "metadata": {
  "kernelspec": {
   "display_name": "Python 3",
   "language": "python",
   "name": "python3"
  },
  "language_info": {
   "codemirror_mode": {
    "name": "ipython",
    "version": 3
   },
   "file_extension": ".py",
   "mimetype": "text/x-python",
   "name": "python",
   "nbconvert_exporter": "python",
   "pygments_lexer": "ipython3",
   "version": "3.5.1"
  }
 },
 "nbformat": 4,
 "nbformat_minor": 0
}
