{
 "cells": [
  {
   "cell_type": "code",
   "execution_count": 1,
   "metadata": {
    "collapsed": true
   },
   "outputs": [],
   "source": [
    "#uses DotProduct_#N_S#noepsE_HRx#hrf_C#mamcs_A#baseAdderSize - v4.5\n",
    "#uses OTItoSeries_#N_HRx#hrr_S#noepsE(_NOR, _OR)(_NIL, _IL) - v1.0x"
   ]
  },
  {
   "cell_type": "code",
   "execution_count": 2,
   "metadata": {
    "collapsed": true
   },
   "outputs": [],
   "source": [
    "import sys\n",
    "import math"
   ]
  },
  {
   "cell_type": "code",
   "execution_count": 3,
   "metadata": {},
   "outputs": [
    {
     "name": "stdout",
     "output_type": "stream",
     "text": [
      "Enter N: 10\n"
     ]
    }
   ],
   "source": [
    "#N>=2\n",
    "N = input('Enter N: ')"
   ]
  },
  {
   "cell_type": "code",
   "execution_count": 4,
   "metadata": {
    "collapsed": true
   },
   "outputs": [],
   "source": [
    "N = int(N)\n",
    "if(N<2):\n",
    "    N=2"
   ]
  },
  {
   "cell_type": "code",
   "execution_count": 5,
   "metadata": {
    "scrolled": false
   },
   "outputs": [
    {
     "name": "stdout",
     "output_type": "stream",
     "text": [
      "Enter HRR (>=2, <=10, empty for 2): 2\n"
     ]
    }
   ],
   "source": [
    "#HRR>=2\n",
    "HRR = input('Enter HRR (>=2, <={}, empty for 2): '.format(N))"
   ]
  },
  {
   "cell_type": "code",
   "execution_count": 6,
   "metadata": {
    "collapsed": true
   },
   "outputs": [],
   "source": [
    "if not HRR:\n",
    "    HRR=2\n",
    "else:\n",
    "    HRR = int(HRR)\n",
    "    if HRR<2:\n",
    "        HRR=2\n",
    "    if HRR>N:\n",
    "        HRR=N\n",
    "\n",
    "#chooses best value automatically\n",
    "NMult = math.ceil(N/HRR);"
   ]
  },
  {
   "cell_type": "code",
   "execution_count": 7,
   "metadata": {
    "scrolled": true
   },
   "outputs": [
    {
     "name": "stdout",
     "output_type": "stream",
     "text": [
      "Enter Multiply-Add Max Component Size (empty for 5): 10\n"
     ]
    }
   ],
   "source": [
    "#MAMCS>=1\n",
    "MAMCS = input('Enter Multiply-Add Max Component Size (empty for {}): '.format(NMult))"
   ]
  },
  {
   "cell_type": "code",
   "execution_count": 8,
   "metadata": {
    "collapsed": true
   },
   "outputs": [],
   "source": [
    "if not MAMCS:\n",
    "    MAMCS = NMult\n",
    "else:\n",
    "    MAMCS = int(MAMCS)\n",
    "if MAMCS>=NMult:\n",
    "    MAMCS = NMult;\n",
    "else:\n",
    "    if(MAMCS<1):\n",
    "        MAMCS=1"
   ]
  },
  {
   "cell_type": "code",
   "execution_count": 9,
   "metadata": {},
   "outputs": [],
   "source": [
    "#AdderSize>=2\n",
    "if MAMCS<NMult:\n",
    "    AdderSize = input('Enter maximum size allowed for base adders (empty for 2): ')"
   ]
  },
  {
   "cell_type": "code",
   "execution_count": 22,
   "metadata": {},
   "outputs": [
    {
     "name": "stdout",
     "output_type": "stream",
     "text": [
      "Enable Input Latch? (empty or 0 to disable, 1 to enable): 1\n"
     ]
    }
   ],
   "source": [
    "Enable_Input_Latch = input('Enable Input Latch? (empty or 0 to disable, 1 to enable): ')"
   ]
  },
  {
   "cell_type": "code",
   "execution_count": 10,
   "metadata": {},
   "outputs": [
    {
     "name": "stdout",
     "output_type": "stream",
     "text": [
      "Enter IN_WIDTH Default Value (empty for 10): \n"
     ]
    }
   ],
   "source": [
    "#IN_WIDTH>=1\n",
    "IN_WIDTH = input('Enter IN_WIDTH Default Value (empty for 10): ')"
   ]
  },
  {
   "cell_type": "code",
   "execution_count": 11,
   "metadata": {},
   "outputs": [
    {
     "name": "stdout",
     "output_type": "stream",
     "text": [
      "Enter INPUT_REG_DEPTH Default Value (empty for 1): \n"
     ]
    }
   ],
   "source": [
    "#INPUT_REG_DEPTH>=0\n",
    "INPUT_REG_DEPTH = input('Enter INPUT_REG_DEPTH Default Value (empty for 1): ')"
   ]
  },
  {
   "cell_type": "code",
   "execution_count": 12,
   "metadata": {},
   "outputs": [
    {
     "name": "stdout",
     "output_type": "stream",
     "text": [
      "Enter MULT_PIPE_DEPTH Default Value (empty for 1): \n"
     ]
    }
   ],
   "source": [
    "#MULT_PIPE_DEPTH>=0\n",
    "MULT_PIPE_DEPTH = input('Enter MULT_PIPE_DEPTH Default Value (empty for 1): ')"
   ]
  },
  {
   "cell_type": "code",
   "execution_count": 23,
   "metadata": {},
   "outputs": [],
   "source": [
    "NumOfComponents = math.ceil(NMult/MAMCS)\n",
    "if MAMCS==NMult:\n",
    "    AdderSize=0\n",
    "else:\n",
    "    if not AdderSize:\n",
    "        AdderSize=2\n",
    "    else:\n",
    "        AdderSize = int(AdderSize)\n",
    "        if AdderSize<2:\n",
    "            AdderSize=2\n",
    "        if AdderSize>NumOfComponents:\n",
    "            AdderSize=NumOfComponents\n",
    "\n",
    "if not IN_WIDTH:\n",
    "    IN_WIDTH=10\n",
    "else:\n",
    "    IN_WIDTH = int(IN_WIDTH)\n",
    "    if(IN_WIDTH<1):\n",
    "        IN_WIDTH=1\n",
    "\n",
    "if not INPUT_REG_DEPTH:\n",
    "    INPUT_REG_DEPTH=1\n",
    "else:\n",
    "    INPUT_REG_DEPTH = int(INPUT_REG_DEPTH)\n",
    "    if(INPUT_REG_DEPTH<0):\n",
    "        INPUT_REG_DEPTH=0\n",
    "\n",
    "if not MULT_PIPE_DEPTH:\n",
    "    MULT_PIPE_DEPTH=1\n",
    "else:\n",
    "    MULT_PIPE_DEPTH = int(MULT_PIPE_DEPTH)\n",
    "    if(MULT_PIPE_DEPTH<0):\n",
    "        MULT_PIPE_DEPTH=0\n",
    "\n",
    "if not Enable_Input_Latch:\n",
    "    Enable_Input_Latch=0\n",
    "else:\n",
    "    Enable_Input_Latch = int(Enable_Input_Latch)"
   ]
  },
  {
   "cell_type": "code",
   "execution_count": 14,
   "metadata": {},
   "outputs": [],
   "source": [
    "__Print_To_File = 0\n",
    "\n",
    "if __Print_To_File<=0:\n",
    "    of=sys.stdout\n",
    "else:\n",
    "    filename=\"./DotProduct_{}_OTI_HRx{}_S{}E_C{}_A{}_\".format(N, HRR, NMult, MAMCS, AdderSize)\n",
    "    if Enable_Input_Latch<=0:\n",
    "        filename+=\"N\"\n",
    "    filename+=\"IL.v\"\n",
    "    of=open(filename, 'w+')"
   ]
  },
  {
   "cell_type": "code",
   "execution_count": 34,
   "metadata": {
    "scrolled": true
   },
   "outputs": [
    {
     "name": "stdout",
     "output_type": "stream",
     "text": [
      "`timescale 1ns / 1ps\n",
      "\n",
      "module DotProduct_10_OTI_HRx2_C5_A5_IL\n",
      "#(\n",
      "parameter IN_WIDTH = 10,\n",
      "parameter INPUT_REG_DEPTH = 1,\n",
      "parameter MULT_PIPE_DEPTH = 1\n",
      ")(\n",
      "input clk, reset, enable,\n",
      "output readyForNewDataSeries,\n",
      "output inSeries,\n",
      "input inReady,\n",
      "input signed [IN_WIDTH-1:0] A0, A1, A2, A3, A4, A5, A6, A7, A8, A9, \n",
      "input signed [IN_WIDTH-1:0] B0, B1, B2, B3, B4, B5, B6, B7, B8, B9, \n",
      "output outReady,\n",
      "output signed [(2*IN_WIDTH)+3:0] DP,\n",
      "output earlyOutReady\n",
      ");\n",
      "\n"
     ]
    }
   ],
   "source": [
    "print(\"`timescale 1ns / 1ps\\n\", file=of)\n",
    "print(\"module DotProduct_{}_OTI_HRx{}_S{}E_C{}_A{}_\".format(N, HRR, NMult, MAMCS, AdderSize), end='', file=of)\n",
    "if Enable_Input_Latch<=0:\n",
    "    print(\"N\", end='', file=of)\n",
    "print(\"IL\", file=of)\n",
    "print(\"#(\", file=of)\n",
    "print(\"parameter IN_WIDTH = {},\".format(IN_WIDTH), file=of)\n",
    "print(\"parameter INPUT_REG_DEPTH = {},\".format(INPUT_REG_DEPTH), file=of)\n",
    "print(\"parameter MULT_PIPE_DEPTH = {}\".format(MULT_PIPE_DEPTH), file=of)\n",
    "print(\")(\", file=of)\n",
    "print(\"input clk, reset, enable,\", file=of)\n",
    "print(\"output newInSeriesStart,\", file=of)\n",
    "lghrr=math.ceil(math.log2(HRR))\n",
    "if lghrr==1:\n",
    "    print(\"output inSeries,\", file=of)\n",
    "else:\n",
    "    print(\"output [{}:0] inSeries,\".format(lghrr-1), file=of)\n",
    "print(\"input inReady,\", file=of)\n",
    "print(\"input signed [IN_WIDTH-1:0] \", end='', file=of)\n",
    "for i in range(N):\n",
    "    print(\"A{}, \".format(i), end='', file=of)\n",
    "print(file=of)\n",
    "print(\"input signed [IN_WIDTH-1:0] \", end='', file=of)\n",
    "for i in range(N):\n",
    "    print(\"B{}, \".format(i), end='', file=of)\n",
    "print(file=of)\n",
    "print(\"output outReady,\", file=of)\n",
    "lgn=math.ceil(math.log2(N))\n",
    "al=-1+lgn\n",
    "if al==0:\n",
    "    print(\"output signed [(2*IN_WIDTH):0] DP,\", file=of)\n",
    "else:\n",
    "    print(\"output signed [(2*IN_WIDTH)+{}:0] DP,\".format(al), file=of)\n",
    "print(\"output earlyOutReady\", file=of)\n",
    "print(\");\\n\", file=of)"
   ]
  },
  {
   "cell_type": "code",
   "execution_count": 35,
   "metadata": {},
   "outputs": [
    {
     "name": "stdout",
     "output_type": "stream",
     "text": [
      "wire DPInReady;\n",
      "wire signed [IN_WIDTH-1:0] AS0, AS1, AS2, AS3, AS4;\n",
      "OTItoSeries_10_HRx2_S5E_NOR_IL#( .IN_WIDTH(IN_WIDTH) )\n",
      "OTItSA(\n",
      "clk, reset, enable,\n",
      "readyForNewDataSeries,\n",
      "inSeries,\n",
      "inReady,\n",
      "A0, A1, A2, A3, A4, A5, A6, A7, A8, A9, \n",
      "DPInReady,\n",
      "AS2outReady, //not used\n",
      "AoutSeries, //not used\n",
      "AS0, AS1, AS2, AS3, AS4, \n",
      "AS1earlyOutReady, //not used\n",
      "AS2earlyOutReady //not used\n",
      ");\n",
      "\n"
     ]
    }
   ],
   "source": [
    "print(\"wire DPInReady;\", file=of)\n",
    "print(\"wire signed [IN_WIDTH-1:0] \", end='', file=of)\n",
    "for i in range(NMult-1):\n",
    "    print(\"AS{}, \".format(i), end='', file=of)\n",
    "print(\"AS{};\".format(NMult-1), file=of)\n",
    "print(\"OTItoSeries_{}_HRx{}_S{}E_NOR_\".format(N, HRR, NMult), end='', file=of)\n",
    "if Enable_Input_Latch<=0:\n",
    "    print(\"N\", end='', file=of)\n",
    "print(\"IL #( .IN_WIDTH(IN_WIDTH) )\", file=of)\n",
    "print(\"OTItSA(\", file=of)\n",
    "print(\"clk, reset, enable,\", file=of)\n",
    "print(\"newInSeriesStart,\", file=of)\n",
    "print(\"inSeries,\", file=of)\n",
    "print(\"inReady,\", file=of)\n",
    "for i in range(N):\n",
    "    print(\"A{}, \".format(i), end='', file=of)\n",
    "print(file=of)\n",
    "print(\"DPInReady,\", file=of)\n",
    "print(\"AS2outReady, //not used\", file=of)\n",
    "print(\"AoutSeries, //not used\", file=of)\n",
    "for i in range(NMult):\n",
    "    print(\"AS{}, \".format(i), end='', file=of)\n",
    "print(file=of)\n",
    "print(\"AS1earlyOutReady, //not used\", file=of)\n",
    "print(\"AS2earlyOutReady //not used\", file=of)\n",
    "print(\");\\n\", file=of)"
   ]
  },
  {
   "cell_type": "code",
   "execution_count": 36,
   "metadata": {},
   "outputs": [
    {
     "name": "stdout",
     "output_type": "stream",
     "text": [
      "wire signed [IN_WIDTH-1:0] BS0, BS1, BS2, BS3, BS4;\n",
      "OTItoSeries_10_S5E_HRx2_NOR_IL\n",
      "#(\n",
      ".IN_WIDTH(IN_WIDTH)\n",
      ")OTItSB(\n",
      "clk, reset, enable,\n",
      "RFNDSB, //not used\n",
      "ISB, //not used\n",
      "inReady,\n",
      "B0, B1, B2, B3, B4, B5, B6, B7, B8, B9, \n",
      "ORB, //not used\n",
      "BS2outReady, //not used\n",
      "BoutSeries, //not used\n",
      "BS0, BS1, BS2, BS3, BS4, \n",
      "BS1earlyOutReady, //not used\n",
      "BS2earlyOutReady //not used\n",
      ");\n",
      "\n"
     ]
    }
   ],
   "source": [
    "print(\"wire signed [IN_WIDTH-1:0] \", end='', file=of)\n",
    "for i in range(NMult-1):\n",
    "    print(\"BS{}, \".format(i), end='', file=of)\n",
    "print(\"BS{};\".format(NMult-1), file=of)\n",
    "print(\"OTItoSeries_{}_S{}E_HRx{}_NOR_\".format(N, NMult, HRR), end='', file=of)\n",
    "if Enable_Input_Latch<=0:\n",
    "    print(\"N\", end='', file=of)\n",
    "print(\"IL #( .IN_WIDTH(IN_WIDTH) )\", file=of)\n",
    "print(\"OTItSB(\", file=of)\n",
    "print(\"clk, reset, enable,\", file=of)\n",
    "print(\"RFNDSB, //not used\", file=of)\n",
    "print(\"ISB, //not used\", file=of)\n",
    "print(\"inReady,\", file=of)\n",
    "for i in range(N):\n",
    "    print(\"B{}, \".format(i), end='', file=of)\n",
    "print(file=of)\n",
    "print(\"BS1outReady, //not used\", file=of)\n",
    "print(\"BS2outReady, //not used\", file=of)\n",
    "print(\"BoutSeries, //not used\", file=of)\n",
    "for i in range(NMult):\n",
    "    print(\"BS{}, \".format(i), end='', file=of)\n",
    "print(file=of)\n",
    "print(\"BS1earlyOutReady, //not used\", file=of)\n",
    "print(\"BS2earlyOutReady //not used\", file=of)\n",
    "print(\");\\n\", file=of)"
   ]
  },
  {
   "cell_type": "code",
   "execution_count": 37,
   "metadata": {},
   "outputs": [
    {
     "name": "stdout",
     "output_type": "stream",
     "text": [
      "DotProduct_10_S5E_HRx2_C5_A0\n",
      "#( .IN_WIDTH(IN_WIDTH), .INPUT_REG_DEPTH(INPUT_REG_DEPTH), .MULT_PIPE_DEPTH(MULT_PIPE_DEPTH) )\n",
      "DPE (clk, reset, enable,\n",
      "DPInReady,\n",
      "SA0, SA1, SA2, SA3, SA4, \n",
      "SB0, SB1, SB2, SB3, SB4, \n",
      "outReady,\n",
      "DP,\n",
      "earlyOutReady);\n",
      "\n"
     ]
    }
   ],
   "source": [
    "print(\"DotProduct_{}_S{}E_HRx{}_C{}_A{}\".format(N, NMult, HRR, MAMCS, AdderSize), file=of)\n",
    "print(\"#( .IN_WIDTH(IN_WIDTH), .INPUT_REG_DEPTH(INPUT_REG_DEPTH), .MULT_PIPE_DEPTH(MULT_PIPE_DEPTH) )\", file=of)\n",
    "print(\"DPE (clk, reset, enable,\", file=of)\n",
    "print(\"DPInReady,\", file=of)\n",
    "for j in range(NMult):\n",
    "    print(\"SA{}, \".format(j), end='', file=of)\n",
    "print(file=of)\n",
    "for j in range(NMult):\n",
    "    print(\"SB{}, \".format(j), end='', file=of)\n",
    "print(file=of)\n",
    "print(\"outReady,\", file=of)\n",
    "print(\"DP,\", file=of)\n",
    "print(\"earlyOutReady);\", file=of)\n",
    "print(file=of)"
   ]
  },
  {
   "cell_type": "code",
   "execution_count": 38,
   "metadata": {},
   "outputs": [
    {
     "name": "stdout",
     "output_type": "stream",
     "text": [
      "endmodule\n"
     ]
    }
   ],
   "source": [
    "print(\"endmodule\", file=of)"
   ]
  },
  {
   "cell_type": "code",
   "execution_count": 39,
   "metadata": {
    "collapsed": true
   },
   "outputs": [],
   "source": [
    "if __Print_To_File>0:\n",
    "    of.close()"
   ]
  }
 ],
 "metadata": {
  "kernelspec": {
   "display_name": "Python 3",
   "language": "python",
   "name": "python3"
  },
  "language_info": {
   "codemirror_mode": {
    "name": "ipython",
    "version": 3
   },
   "file_extension": ".py",
   "mimetype": "text/x-python",
   "name": "python",
   "nbconvert_exporter": "python",
   "pygments_lexer": "ipython3",
   "version": "3.6.3"
  }
 },
 "nbformat": 4,
 "nbformat_minor": 1
}
