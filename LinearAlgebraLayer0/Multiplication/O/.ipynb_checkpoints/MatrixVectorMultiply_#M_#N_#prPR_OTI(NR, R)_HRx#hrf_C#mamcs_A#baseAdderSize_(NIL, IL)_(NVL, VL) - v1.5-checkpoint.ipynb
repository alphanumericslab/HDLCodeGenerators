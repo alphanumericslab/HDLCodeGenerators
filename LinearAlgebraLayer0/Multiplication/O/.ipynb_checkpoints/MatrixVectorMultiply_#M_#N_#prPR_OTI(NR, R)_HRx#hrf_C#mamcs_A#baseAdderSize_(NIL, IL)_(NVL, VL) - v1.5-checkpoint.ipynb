{
 "cells": [
  {
   "cell_type": "code",
   "execution_count": 1,
   "metadata": {
    "collapsed": true
   },
   "outputs": [],
   "source": [
    "#uses MatrixVectorMultiply_#M_#N_#prPR_S#noepsE_HRx#hrf_C#mamcs_A#baseAdderSize(_NVL, VL) - v2.5\n",
    "#uses OTItoSeries_#N_HRx#hrr_S#noepsE(_NOR, _OR)(_NIL, _IL) - v1.0x"
   ]
  },
  {
   "cell_type": "code",
   "execution_count": 2,
   "metadata": {
    "collapsed": true
   },
   "outputs": [],
   "source": [
    "import sys\n",
    "import math"
   ]
  },
  {
   "cell_type": "code",
   "execution_count": 3,
   "metadata": {
    "collapsed": false
   },
   "outputs": [
    {
     "name": "stdout",
     "output_type": "stream",
     "text": [
      "Enter M: 5\n"
     ]
    }
   ],
   "source": [
    "#M>=1\n",
    "M = input('Enter M: ')"
   ]
  },
  {
   "cell_type": "code",
   "execution_count": 4,
   "metadata": {
    "collapsed": false
   },
   "outputs": [
    {
     "name": "stdout",
     "output_type": "stream",
     "text": [
      "Enter N: 6\n"
     ]
    }
   ],
   "source": [
    "#N>=2\n",
    "N = input('Enter N: ')"
   ]
  },
  {
   "cell_type": "code",
   "execution_count": 5,
   "metadata": {
    "collapsed": false
   },
   "outputs": [
    {
     "name": "stdout",
     "output_type": "stream",
     "text": [
      "Enter No Of Parallel Row (empty for 1): 2\n"
     ]
    }
   ],
   "source": [
    "#>=1, <=M\n",
    "PR = input('Enter No Of Parallel Row (empty for 1): ')"
   ]
  },
  {
   "cell_type": "code",
   "execution_count": 6,
   "metadata": {
    "collapsed": false
   },
   "outputs": [
    {
     "name": "stdout",
     "output_type": "stream",
     "text": [
      "Enter HRR (>=2, <=6, empty for 2): 2\n"
     ]
    }
   ],
   "source": [
    "#HRR>=2\n",
    "HRR = input('Enter HRR (>=2, <={}, empty for 2): '.format(N))"
   ]
  },
  {
   "cell_type": "code",
   "execution_count": 7,
   "metadata": {
    "collapsed": false,
    "scrolled": false
   },
   "outputs": [],
   "source": [
    "M = int(M)\n",
    "if(M<1):\n",
    "    M=1\n",
    "    \n",
    "N = int(N)\n",
    "if(N<2):\n",
    "    N=2\n",
    "\n",
    "if not PR:\n",
    "    PR=1\n",
    "else:\n",
    "    PR = int(PR)\n",
    "    if PR>M:\n",
    "        PR = M\n",
    "\n",
    "if not HRR:\n",
    "    HRR=2\n",
    "else:\n",
    "    HRR = int(HRR)\n",
    "    if HRR<2:\n",
    "        HRR=2\n",
    "    if HRR>N:\n",
    "        HRR=N\n",
    "\n",
    "#chooses best value automatically\n",
    "NMult = math.ceil(N/HRR);"
   ]
  },
  {
   "cell_type": "code",
   "execution_count": 8,
   "metadata": {
    "collapsed": false
   },
   "outputs": [
    {
     "name": "stdout",
     "output_type": "stream",
     "text": [
      "Enter Multiply-Add Max Component Size (empty for 3): 2\n"
     ]
    }
   ],
   "source": [
    "#MAMCS>=1\n",
    "MAMCS = input('Enter Multiply-Add Max Component Size (empty for {}): '.format(NMult))"
   ]
  },
  {
   "cell_type": "code",
   "execution_count": 9,
   "metadata": {
    "collapsed": true
   },
   "outputs": [],
   "source": [
    "if not MAMCS:\n",
    "    MAMCS = NMult\n",
    "else:\n",
    "    MAMCS = int(MAMCS)\n",
    "if MAMCS>=NMult:\n",
    "    MAMCS = NMult;\n",
    "else:\n",
    "    if(MAMCS<1):\n",
    "        MAMCS=1"
   ]
  },
  {
   "cell_type": "code",
   "execution_count": 10,
   "metadata": {
    "collapsed": false
   },
   "outputs": [
    {
     "name": "stdout",
     "output_type": "stream",
     "text": [
      "Enter maximum size allowed for base adders (empty for 2): 100\n"
     ]
    }
   ],
   "source": [
    "#AdderSize>=2\n",
    "if MAMCS<NMult:\n",
    "    AdderSize = input('Enter maximum size allowed for base adders (empty for 2): ')"
   ]
  },
  {
   "cell_type": "code",
   "execution_count": 11,
   "metadata": {
    "collapsed": false
   },
   "outputs": [
    {
     "name": "stdout",
     "output_type": "stream",
     "text": [
      "Enable Input Latch? (empty or 0 to disable, 1 to enable): 1\n"
     ]
    }
   ],
   "source": [
    "Enable_Input_Latch = input('Enable Input Latch? (empty or 0 to disable, 1 to enable): ')"
   ]
  },
  {
   "cell_type": "code",
   "execution_count": 54,
   "metadata": {
    "collapsed": true
   },
   "outputs": [],
   "source": [
    "RS=math.ceil(M/PR)"
   ]
  },
  {
   "cell_type": "code",
   "execution_count": 13,
   "metadata": {
    "collapsed": false
   },
   "outputs": [
    {
     "name": "stdout",
     "output_type": "stream",
     "text": [
      "Enable Vector Latch? (empty or 0 to disable, 1 to enable): 1\n"
     ]
    }
   ],
   "source": [
    "if RS>1:\n",
    "    Enable_Vector_Latch = input('Enable Vector Latch? (empty or 0 to disable, 1 to enable): ')"
   ]
  },
  {
   "cell_type": "code",
   "execution_count": 14,
   "metadata": {
    "collapsed": false
   },
   "outputs": [
    {
     "name": "stdout",
     "output_type": "stream",
     "text": [
      "Enable OTI Output Registers? (empty or 0 to disable, 1 to enable): 1\n"
     ]
    }
   ],
   "source": [
    "Enable_OTI_Output_Registers = input('Enable OTI Output Registers? (empty or 0 to disable, 1 to enable): ')"
   ]
  },
  {
   "cell_type": "code",
   "execution_count": 15,
   "metadata": {
    "collapsed": false
   },
   "outputs": [
    {
     "name": "stdout",
     "output_type": "stream",
     "text": [
      "Enter IN_WIDTH default value (empty for 10): \n"
     ]
    }
   ],
   "source": [
    "#IN_WIDTH>=1\n",
    "IN_WIDTH = input('Enter IN_WIDTH default value (empty for 10): ')"
   ]
  },
  {
   "cell_type": "code",
   "execution_count": 16,
   "metadata": {
    "collapsed": false
   },
   "outputs": [
    {
     "name": "stdout",
     "output_type": "stream",
     "text": [
      "Enter INPUT_REG_DEPTH default value (empty for 1): \n"
     ]
    }
   ],
   "source": [
    "#INPUT_REG_DEPTH>=0\n",
    "INPUT_REG_DEPTH = input('Enter INPUT_REG_DEPTH default value (empty for 1): ')"
   ]
  },
  {
   "cell_type": "code",
   "execution_count": 17,
   "metadata": {
    "collapsed": false
   },
   "outputs": [
    {
     "name": "stdout",
     "output_type": "stream",
     "text": [
      "Enter MULT_PIPE_DEPTH default value (empty for 1): \n"
     ]
    }
   ],
   "source": [
    "#MULT_PIPE_DEPTH>=0\n",
    "MULT_PIPE_DEPTH = input('Enter MULT_PIPE_DEPTH default value (empty for 1): ')"
   ]
  },
  {
   "cell_type": "code",
   "execution_count": 18,
   "metadata": {
    "collapsed": false
   },
   "outputs": [],
   "source": [
    "NumOfComponents = math.ceil(NMult/MAMCS)\n",
    "if MAMCS==NMult:\n",
    "    AdderSize=0\n",
    "else:\n",
    "    if not AdderSize:\n",
    "        AdderSize=2\n",
    "    else:\n",
    "        AdderSize = int(AdderSize)\n",
    "        if AdderSize<2:\n",
    "            AdderSize=2\n",
    "        if AdderSize>NumOfComponents:\n",
    "            AdderSize=NumOfComponents\n",
    "\n",
    "if not Enable_Input_Latch:\n",
    "    Enable_Input_Latch = 0\n",
    "else:\n",
    "    Enable_Input_Latch = int(Enable_Input_Latch)\n",
    "\n",
    "if RS==1:\n",
    "    Enable_Vector_Latch = 0;\n",
    "else:\n",
    "    if not Enable_Vector_Latch:\n",
    "        Enable_Vector_Latch = 0\n",
    "    else:\n",
    "        Enable_Vector_Latch = int(Enable_Vector_Latch)\n",
    "\n",
    "if not Enable_OTI_Output_Registers:\n",
    "    Enable_OTI_Output_Registers = 0\n",
    "else:\n",
    "    Enable_OTI_Output_Registers = int(Enable_OTI_Output_Registers)\n",
    "        \n",
    "if not IN_WIDTH:\n",
    "    IN_WIDTH=10\n",
    "else:\n",
    "    IN_WIDTH = int(IN_WIDTH)\n",
    "    if(IN_WIDTH<1):\n",
    "        IN_WIDTH=1\n",
    "\n",
    "if not INPUT_REG_DEPTH:\n",
    "    INPUT_REG_DEPTH=1\n",
    "else:\n",
    "    INPUT_REG_DEPTH = int(INPUT_REG_DEPTH)\n",
    "    if(INPUT_REG_DEPTH<0):\n",
    "        INPUT_REG_DEPTH=0\n",
    "\n",
    "if not MULT_PIPE_DEPTH:\n",
    "    MULT_PIPE_DEPTH=1\n",
    "else:\n",
    "    MULT_PIPE_DEPTH = int(MULT_PIPE_DEPTH)\n",
    "    if(MULT_PIPE_DEPTH<0):\n",
    "        MULT_PIPE_DEPTH=0"
   ]
  },
  {
   "cell_type": "code",
   "execution_count": 30,
   "metadata": {
    "collapsed": false
   },
   "outputs": [],
   "source": [
    "ModuleName=\"MatrixVectorMultiply_{}_{}_{}PR_OTI\".format(M, N, PR)\n",
    "if Enable_OTI_Output_Registers<=0:\n",
    "    ModuleName+=\"N\"\n",
    "ModuleName+=\"R_HRx{}_S{}E_C{}_A{}_\".format(HRR, NMult, MAMCS, AdderSize)\n",
    "if Enable_Input_Latch<=0:\n",
    "    ModuleName+=\"N\"\n",
    "ModuleName+=\"IL_\"\n",
    "if Enable_Vector_Latch<=0:\n",
    "    ModuleName+=\"N\"\n",
    "ModuleName+=\"VL\""
   ]
  },
  {
   "cell_type": "code",
   "execution_count": 21,
   "metadata": {
    "collapsed": true
   },
   "outputs": [],
   "source": [
    "__Print_To_File = 0\n",
    "\n",
    "if __Print_To_File<=0:\n",
    "    of=sys.stdout\n",
    "else:\n",
    "    of=open(\"./\"+ModuleName+\".v\", 'w+')"
   ]
  },
  {
   "cell_type": "code",
   "execution_count": 31,
   "metadata": {
    "collapsed": false,
    "scrolled": true
   },
   "outputs": [
    {
     "name": "stdout",
     "output_type": "stream",
     "text": [
      "`timescale 1ns / 1ps\n",
      "\n",
      "module MatrixVectorMultiply_5_6_2PR_OTIIL_VL\n",
      "#(\n",
      "parameter IN_WIDTH = 10,\n",
      "parameter INPUT_REG_DEPTH = 1,\n",
      "parameter MULT_PIPE_DEPTH = 1\n",
      ")(\n",
      "input clk, reset, enable,\n",
      "output reg newInSeriesStart = 1,\n",
      "output reg inSeries = 0,\n",
      "output reg [1:0] rowSetInNo = 0,\n",
      "input inReady,\n",
      "input signed [IN_WIDTH-1:0] AE0R0, AE1R0, AE2R0, AE3R0, AE4R0, AE5R0, \n",
      "input signed [IN_WIDTH-1:0] AE0R1, AE1R1, AE2R1, AE3R1, AE4R1, AE5R1, \n",
      "input signed [IN_WIDTH-1:0] VE0, VE1, VE2, VE3, VE4, VE5, \n",
      "output E0Ready,\n",
      "output E1Ready,\n",
      "output [1:0] rowSetOutNo,\n",
      "output signed [(2*IN_WIDTH)+2:0] E0, E1, \n",
      "output earlyE0Ready,\n",
      "output earlyE1Ready\n",
      ");\n",
      "\n"
     ]
    }
   ],
   "source": [
    "print(\"`timescale 1ns / 1ps\\n\", file=of)\n",
    "print(\"module \"+ModuleName, file=of)\n",
    "print(\"#(\", file=of)\n",
    "print(\"parameter IN_WIDTH = {},\".format(IN_WIDTH), file=of)\n",
    "print(\"parameter INPUT_REG_DEPTH = {},\".format(INPUT_REG_DEPTH), file=of)\n",
    "print(\"parameter MULT_PIPE_DEPTH = {}\".format(MULT_PIPE_DEPTH), file=of)\n",
    "print(\")(\", file=of)\n",
    "print(\"input clk, reset, enable,\", file=of)\n",
    "print(\"output newInSeriesStart,\", file=of)\n",
    "lghrr=math.ceil(math.log2(HRR))\n",
    "if lghrr==1:\n",
    "    print(\"output inSeries,\", end='', file=of)\n",
    "elif lghrr>1:\n",
    "    print(\"output [{}:0] inSeries,\".format(lghrr-1), file=of)\n",
    "lgRS=math.ceil(math.log2(RS))\n",
    "print(\"output \", end='', file=of)\n",
    "if Enable_OTI_Output_Registers>0:\n",
    "    print(\"reg \", end='', file=of)\n",
    "if lgRS==1:\n",
    "    print(\"rowSetInNo\", end='', file=of)\n",
    "elif lgRS>1:\n",
    "    print(\"[{}:0] rowSetInNo\".format(lgRS-1), end='', file=of)\n",
    "if Enable_OTI_Output_Registers>0:\n",
    "    print(\" = 0,\", file=of)\n",
    "else:\n",
    "    print(\",\", file=of)\n",
    "print(\"input inReady,\", file=of)\n",
    "for j in range(PR):\n",
    "    print(\"input signed [IN_WIDTH-1:0] \", end='', file=of)\n",
    "    for i in range(N):\n",
    "        print(\"AE{}R{}, \".format(i, j), end='', file=of)\n",
    "    print(file=of)\n",
    "print(\"input signed [IN_WIDTH-1:0] \", end='', file=of)\n",
    "for i in range(N):\n",
    "    print(\"VE{}, \".format(i), end='', file=of)\n",
    "print(file=of)\n",
    "ar=RS*PR-M\n",
    "ME = PR-ar-1\n",
    "if ME==0:\n",
    "    st1=\"E0\"\n",
    "else:\n",
    "    st1=\"E0toE{}\".format(ME)\n",
    "print(\"output \", end='', file=of)\n",
    "print(st1, end='', file=of)\n",
    "print(\"Ready,\", file=of)\n",
    "if ar==0:\n",
    "    print(\"output reg NUCReady = 0, //not used\", file=of)\n",
    "else:\n",
    "    if ME==(PR-2):\n",
    "        st2=\"E{}\".format(PR-1)\n",
    "    else:\n",
    "        st2=\"E{}toE{}\".format(ME+1, PR-1)\n",
    "    print(\"output \", end='', file=of)\n",
    "    print(st2, end='', file=of)\n",
    "    print(\"Ready,\", file=of)\n",
    "if lgRS<=1:\n",
    "    print(\"output rowSetOutNo,\".format(RS-1), file=of)\n",
    "else:\n",
    "    print(\"output [{}:0] rowSetOutNo,\".format(lgRS-1, RS-1), file=of)\n",
    "lgn=math.ceil(math.log2(N))\n",
    "al=-1+lgn\n",
    "if al<0:\n",
    "    print(\"output signed [(2*IN_WIDTH){}:0] \".format(al), end='',file=of)\n",
    "elif al==0:\n",
    "    print(\"output signed [(2*IN_WIDTH):0] \", end='',file=of)\n",
    "else:\n",
    "    print(\"output signed [(2*IN_WIDTH)+{}:0] \".format(al), end='',file=of)\n",
    "for i in range(PR):\n",
    "    print(\"E{}, \".format(i), end='',file=of)\n",
    "print(file=of)\n",
    "print(\"output early\", end='', file=of)\n",
    "print(st1, end='', file=of)\n",
    "print(\"Ready,\", file=of)\n",
    "if ar==0:\n",
    "    print(\"output reg NUearlyCReady = 0 //not used\", file=of)\n",
    "else:\n",
    "    print(\"output early\", end='', file=of)\n",
    "    print(st2, end='', file=of)\n",
    "    print(\"Ready\", file=of)\n",
    "print(\");\\n\", file=of)"
   ]
  },
  {
   "cell_type": "code",
   "execution_count": 32,
   "metadata": {
    "collapsed": false
   },
   "outputs": [
    {
     "name": "stdout",
     "output_type": "stream",
     "text": [
      "wire MVInReady;\n",
      "wire signed [IN_WIDTH-1:0] ASE0R0, ASE1R0, ASE2R0;\n",
      "OTItoSeries_6_HRx2_S3E_NOR_IL #( .IN_WIDTH(IN_WIDTH) )\n",
      "OTItSA0 (\n",
      "clk, reset, enable,\n",
      "newInSeriesStart,\n",
      "inSeries,\n",
      "inReady,\n",
      "AE0R0, AE1R0, AE2R0, AE3R0, AE4R0, AE5R0, \n",
      "MVInReady,\n",
      "A0S2outReady, //not used\n",
      "A0outSeries, //not used\n",
      "ASE0R0, ASE1R0, ASE2R0, \n",
      "A0S1earlyOutReady, //not used\n",
      "A0S2earlyOutReady //not used\n",
      ");\n",
      "\n",
      "wire signed [IN_WIDTH-1:0] ASE0R1, ASE1R1, ASE2R1;\n",
      "OTItoSeries_6_HRx2_S3E_NOR_IL #( .IN_WIDTH(IN_WIDTH) )\n",
      "OTItSA1 (\n",
      "clk, reset, enable,\n",
      "A1NISS, //not used\n",
      "A1IS, //not used\n",
      "inReady,\n",
      "AE0R1, AE1R1, AE2R1, AE3R1, AE4R1, AE5R1, \n",
      "A1S1outReady, //not used\n",
      "A1S2outReady, //not used\n",
      "A1outSeries, //not used\n",
      "ASE0R1, ASE1R1, ASE2R1, \n",
      "A1S1earlyOutReady, //not used\n",
      "A1S2earlyOutReady //not used\n",
      ");\n",
      "\n"
     ]
    }
   ],
   "source": [
    "print(\"wire MVInReady;\", file=of)\n",
    "for j in range(PR):\n",
    "    print(\"wire signed [IN_WIDTH-1:0] \", end='', file=of)\n",
    "    for i in range(NMult-1):\n",
    "        print(\"ASE{}R{}, \".format(i, j), end='', file=of)\n",
    "    print(\"ASE{}R{};\".format(NMult-1, j), file=of)\n",
    "    print(\"OTItoSeries_{}_HRx{}_S{}E_\".format(N, HRR, NMult), end='', file=of)\n",
    "    if Enable_OTI_Output_Registers<=0:\n",
    "        print(\"N\", end='', file=of)\n",
    "    print(\"OR_\", end='', file=of)\n",
    "    if Enable_Input_Latch<=0:\n",
    "        print(\"N\", end='', file=of)\n",
    "    print(\"IL #( .IN_WIDTH(IN_WIDTH) )\", file=of)\n",
    "    print(\"OTItSA{} (\".format(j), file=of)\n",
    "    print(\"clk, reset, enable,\", file=of)\n",
    "    if j==0:\n",
    "        print(\"newInSeriesStart,\", file=of)\n",
    "    else:\n",
    "        print(\"A{}NISS, //not used\".format(j), file=of)\n",
    "    if j==0:\n",
    "        print(\"inSeries,\", file=of)\n",
    "    else:\n",
    "        print(\"A{}IS, //not used\".format(j), file=of)\n",
    "    print(\"inReady,\", file=of)\n",
    "    for i in range(N):\n",
    "        print(\"AE{}R{}, \".format(i, j), end='', file=of)\n",
    "    print(file=of)\n",
    "    if j==0:\n",
    "        print(\"MVInReady,\", file=of)\n",
    "    else:\n",
    "        print(\"A{}S1outReady, //not used\".format(j), file=of)\n",
    "    print(\"A{}S2outReady, //not used\".format(j), file=of)\n",
    "    print(\"A{}outSeries, //not used\".format(j), file=of)\n",
    "    for i in range(NMult):\n",
    "        print(\"ASE{}R{}, \".format(i, j), end='', file=of)\n",
    "    print(file=of)\n",
    "    print(\"A{}S1earlyOutReady, //not used\".format(j), file=of)\n",
    "    print(\"A{}S2earlyOutReady //not used\".format(j), file=of)\n",
    "    print(\");\\n\", file=of)"
   ]
  },
  {
   "cell_type": "code",
   "execution_count": 26,
   "metadata": {
    "collapsed": false
   },
   "outputs": [
    {
     "name": "stdout",
     "output_type": "stream",
     "text": [
      "wire inReadyC = (rowSetInNo==0) & inReady;\n",
      "reg signed [IN_WIDTH-1:0] VSE0, VSE1, VSE2;\n",
      "OTItoSeries_6_HRx2_S3E_NOR_IL #( .IN_WIDTH(IN_WIDTH) )\n",
      "OTvitS(\n",
      "clk, reset, enable,\n",
      "NISSv, //not used\n",
      "ISv, //not used\n",
      "inReadyC,\n",
      "VE0, VE1, VE2, VE3, VE4, VE5, \n",
      "VoutReady, //not used\n",
      "VS2outReady, //not used\n",
      "VoutSeries, //not used\n",
      "VSE0, VSE1, VSE2, \n",
      "VS1earlyOutReady, //not used\n",
      "VS2earlyOutReady //not used\n",
      ");\n",
      "\n"
     ]
    }
   ],
   "source": [
    "if Enable_Vector_Latch>0:\n",
    "    print(\"wire inReadyC = (rowSetInNo==0) & inReady;\", file=of)\n",
    "print(\"reg signed [IN_WIDTH-1:0] \", end='', file=of)\n",
    "for i in range(NMult-1):\n",
    "    print(\"VSE{}, \".format(i), end='', file=of)\n",
    "print(\"VSE{};\".format(NMult-1), file=of)\n",
    "print(\"OTItoSeries_{}_HRx{}_S{}E_\".format(N, HRR, NMult), end='', file=of)\n",
    "if Enable_OTI_Output_Registers<=0:\n",
    "    print(\"N\", end='', file=of)\n",
    "print(\"OR_\", end='', file=of)\n",
    "if Enable_Input_Latch<=0:\n",
    "    print(\"N\", end='', file=of)\n",
    "print(\"IL #( .IN_WIDTH(IN_WIDTH) )\", file=of)\n",
    "print(\"OTvitS(\", file=of)\n",
    "print(\"clk, reset, enable,\", file=of)\n",
    "print(\"vNISS, //not used\", file=of)\n",
    "print(\"vIS, //not used\", file=of)\n",
    "if Enable_Vector_Latch>0:\n",
    "    print(\"inReadyC,\", file=of)\n",
    "else:\n",
    "    print(\"inReady,\", file=of)    \n",
    "for i in range(N):\n",
    "    print(\"VE{}, \".format(i), end='', file=of)\n",
    "print(file=of)\n",
    "print(\"VoutReady, //not used\", file=of)\n",
    "print(\"VS2outReady, //not used\", file=of)\n",
    "print(\"VoutSeries, //not used\", file=of)\n",
    "for i in range(NMult):\n",
    "    print(\"VSE{}, \".format(i), end='', file=of)\n",
    "print(file=of)\n",
    "print(\"VS1earlyOutReady, //not used\", file=of)\n",
    "print(\"VS2earlyOutReady //not used\", file=of)\n",
    "print(\");\\n\", file=of)"
   ]
  },
  {
   "cell_type": "code",
   "execution_count": 64,
   "metadata": {
    "collapsed": false
   },
   "outputs": [
    {
     "name": "stdout",
     "output_type": "stream",
     "text": [
      "always @(posedge clk) begin\n",
      "\tif(reset) begin\n",
      "\t\trowSetInNo <= 0;\n",
      "\tend\n",
      "\telse if(enable & (inSeries==1)) begin\n",
      "\t\tif(rowSetInNo==2) begin\n",
      "\t\t\trowSetInNo <= 0;\n",
      "\t\tend\n",
      "\t\telse begin\n",
      "\t\t\trowSetInNo <= rowSetInNo+1;\n",
      "\t\tend\n",
      "\tend\n",
      "end\n",
      "\n"
     ]
    }
   ],
   "source": [
    "if Enable_OTI_Output_Registers>0 and RS>1:\n",
    "    print(\"always @(posedge clk) begin\", file=of)\n",
    "    print(\"\\tif(reset) begin\", file=of)\n",
    "    print(\"\\t\\trowSetInNo <= 0;\", file=of)\n",
    "    print(\"\\tend\", file=of)\n",
    "    print(\"\\telse if(enable & (inSeries=={})\".format(HRR-1), end='', file=of)\n",
    "    if Enable_Input_Latch<=0:\n",
    "        print(\" & inReady\", end='', file=of)\n",
    "    print(\") begin\", file=of)\n",
    "    print(\"\\t\\tif(rowSetInNo=={}) begin\".format(RS-1), file=of)\n",
    "    print(\"\\t\\t\\trowSetInNo <= 0;\", file=of)\n",
    "    print(\"\\t\\tend\", file=of)\n",
    "    print(\"\\t\\telse begin\", file=of)\n",
    "    if RS==2:\n",
    "        print(\"\\t\\t\\trowSetInNo <= 1;\", file=of)    \n",
    "    else:\n",
    "        print(\"\\t\\t\\trowSetInNo <= rowSetInNo+1;\", file=of)\n",
    "    print(\"\\t\\tend\", file=of)\n",
    "    print(\"\\tend\", file=of)\n",
    "    print(\"end\", file=of)\n",
    "    print(file=of)"
   ]
  },
  {
   "cell_type": "code",
   "execution_count": 68,
   "metadata": {
    "collapsed": false
   },
   "outputs": [
    {
     "name": "stdout",
     "output_type": "stream",
     "text": [
      "MatrixVectorMultiply_5_6_2PR_S3E_HRx2_C2_A2_VL#( .IN_WIDTH(IN_WIDTH), .INPUT_REG_DEPTH(INPUT_REG_DEPTH), .MULT_PIPE_DEPTH(MULT_PIPE_DEPTH) )\n",
      "MVM(clk, reset, enable,\n",
      "MVNewInSeriesStart, //not used\n",
      "MVInSeries, //not used\n",
      "MVRowSetInNo, //not used\n",
      "MVInReady,\n",
      "ASE0R0, ASE1R0, ASE2R0, \n",
      "ASE0R1, ASE1R1, ASE2R1, \n",
      "VSE0, VSE1, VSE2, \n",
      "E0Ready,\n",
      "E1Ready,\n",
      "rowSetOutNo,\n",
      "E0, E1, \n",
      "earlyE0Ready,\n",
      "earlyE1Ready\n",
      ");\n",
      "\n"
     ]
    }
   ],
   "source": [
    "print(\"MatrixVectorMultiply_{}_{}_{}PR_S{}E_HRx{}_C{}_A{}_\".format(M, N, PR, NMult, HRR, MAMCS, AdderSize), end='', file=of)\n",
    "if Enable_Vector_Latch<=0:\n",
    "    print(\"N\", end='', file=of)\n",
    "print(\"VL#( .IN_WIDTH(IN_WIDTH), .INPUT_REG_DEPTH(INPUT_REG_DEPTH), .MULT_PIPE_DEPTH(MULT_PIPE_DEPTH) )\", file=of)\n",
    "print(\"MVM(clk, reset, enable,\", file=of)\n",
    "print(\"MVNewInSeriesStart, //not used\", file=of)\n",
    "print(\"MVInSeries, //not used\", file=of)\n",
    "if Enable_OTI_Output_Registers>0:\n",
    "    print(\"MVRowSetInNo, //not used\", file=of)\n",
    "else:\n",
    "    print(\"rowSetInNo,\", file=of)\n",
    "print(\"MVInReady,\", file=of)\n",
    "for j in range(PR):\n",
    "    for i in range(NMult):\n",
    "        print(\"ASE{}R{}, \".format(i, j), end='', file=of)\n",
    "    print(file=of)\n",
    "for j in range(NMult):\n",
    "    print(\"VSE{}, \".format(j), end='', file=of)        \n",
    "print(file=of)\n",
    "\n",
    "print(st1, end='', file=of)\n",
    "print(\"Ready,\", file=of)\n",
    "if ar==0:\n",
    "    print(\"NUmvCReady, //not used\", file=of)\n",
    "else:\n",
    "    print(st2, end='', file=of)\n",
    "    print(\"Ready,\", file=of)\n",
    "    \n",
    "print(\"rowSetOutNo,\", file=of)\n",
    "for i in range(PR):\n",
    "    print(\"E{}, \".format(i), end='',file=of)\n",
    "print(file=of)\n",
    "\n",
    "print(\"early\", end='', file=of)\n",
    "print(st1, end='', file=of)\n",
    "print(\"Ready,\", file=of)\n",
    "if ar==0:\n",
    "    print(\"NUmvearlyCReady = 0 //not used\", file=of)\n",
    "else:\n",
    "    print(\"early\", end='', file=of)\n",
    "    print(st2, end='', file=of)\n",
    "    print(\"Ready\", file=of)\n",
    "print(\");\", file=of)\n",
    "print(file=of)"
   ]
  },
  {
   "cell_type": "code",
   "execution_count": 66,
   "metadata": {
    "collapsed": false
   },
   "outputs": [
    {
     "name": "stdout",
     "output_type": "stream",
     "text": [
      "endmodule\n"
     ]
    }
   ],
   "source": [
    "print(\"endmodule\", file=of)"
   ]
  },
  {
   "cell_type": "code",
   "execution_count": 67,
   "metadata": {
    "collapsed": true
   },
   "outputs": [],
   "source": [
    "if __Print_To_File>0:\n",
    "    of.close()"
   ]
  }
 ],
 "metadata": {
  "kernelspec": {
   "display_name": "Python 3",
   "language": "python",
   "name": "python3"
  },
  "language_info": {
   "codemirror_mode": {
    "name": "ipython",
    "version": 3
   },
   "file_extension": ".py",
   "mimetype": "text/x-python",
   "name": "python",
   "nbconvert_exporter": "python",
   "pygments_lexer": "ipython3",
   "version": "3.5.1"
  }
 },
 "nbformat": 4,
 "nbformat_minor": 0
}
