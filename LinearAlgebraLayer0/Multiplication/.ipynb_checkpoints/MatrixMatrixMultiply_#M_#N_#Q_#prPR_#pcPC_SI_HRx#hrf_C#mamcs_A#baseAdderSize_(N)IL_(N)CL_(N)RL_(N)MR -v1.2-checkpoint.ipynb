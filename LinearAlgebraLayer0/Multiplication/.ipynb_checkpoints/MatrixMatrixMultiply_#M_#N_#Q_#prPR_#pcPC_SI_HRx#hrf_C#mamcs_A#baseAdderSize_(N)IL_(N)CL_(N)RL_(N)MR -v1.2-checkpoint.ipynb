{
 "cells": [
  {
   "cell_type": "code",
   "execution_count": 1,
   "metadata": {},
   "outputs": [],
   "source": [
    "#uses MatrixMatrixMultiply_#M_#N_#prPR_S#noepsE_HRx#hrf_C#mamcs_A#baseAdderSize_(NCL, CL)_(NRL, RL) - v1.1\n",
    "#uses SItoSoE_#N_HRx#hrf_(NIL, IL)_(NOR, OR) - v1.1x"
   ]
  },
  {
   "cell_type": "code",
   "execution_count": 2,
   "metadata": {},
   "outputs": [],
   "source": [
    "import sys\n",
    "import math"
   ]
  },
  {
   "cell_type": "code",
   "execution_count": 3,
   "metadata": {},
   "outputs": [
    {
     "name": "stdout",
     "output_type": "stream",
     "text": [
      "Enter M: 5\n"
     ]
    }
   ],
   "source": [
    "#M>=1\n",
    "M = input('Enter M: ')"
   ]
  },
  {
   "cell_type": "code",
   "execution_count": 15,
   "metadata": {},
   "outputs": [
    {
     "name": "stdout",
     "output_type": "stream",
     "text": [
      "Enter N: 5\n"
     ]
    }
   ],
   "source": [
    "#N>=2\n",
    "N = input('Enter N: ')"
   ]
  },
  {
   "cell_type": "code",
   "execution_count": 5,
   "metadata": {},
   "outputs": [
    {
     "name": "stdout",
     "output_type": "stream",
     "text": [
      "Enter Q: 5\n"
     ]
    }
   ],
   "source": [
    "#Q>=1\n",
    "Q = input('Enter Q: ')"
   ]
  },
  {
   "cell_type": "code",
   "execution_count": 6,
   "metadata": {},
   "outputs": [
    {
     "name": "stdout",
     "output_type": "stream",
     "text": [
      "Enter No Of Parallel Row (empty for 1): 2\n"
     ]
    }
   ],
   "source": [
    "#>=1, <=M\n",
    "PR = input('Enter No Of Parallel Row (empty for 1): ')"
   ]
  },
  {
   "cell_type": "code",
   "execution_count": 7,
   "metadata": {},
   "outputs": [
    {
     "name": "stdout",
     "output_type": "stream",
     "text": [
      "Enter No Of Parallel Column (empty for 1): 2\n"
     ]
    }
   ],
   "source": [
    "#>=1, <=Q\n",
    "PC = input('Enter No Of Parallel Column (empty for 1): ')"
   ]
  },
  {
   "cell_type": "code",
   "execution_count": null,
   "metadata": {},
   "outputs": [],
   "source": [
    "M = int(M)\n",
    "if M<1:\n",
    "    M = 1\n",
    "\n",
    "N = int(N)\n",
    "if N<2:\n",
    "    N = 2\n",
    "\n",
    "Q = int(Q)\n",
    "if Q<1:\n",
    "    Q = 1\n",
    "\n",
    "if not PR:\n",
    "    PR = 1\n",
    "else:\n",
    "    PR = int(PR)\n",
    "    if PR>M:\n",
    "        PR = M\n",
    "\n",
    "if not PC:\n",
    "    PC = 1\n",
    "else:\n",
    "    PC = int(PC)\n",
    "    if PC>Q:\n",
    "        PC = Q"
   ]
  },
  {
   "cell_type": "code",
   "execution_count": 20,
   "metadata": {},
   "outputs": [
    {
     "name": "stdout",
     "output_type": "stream",
     "text": [
      "Enter HRR Upper Limit (>=2, <=5, empty for 2, not all HRR values are acceptable): 4\n"
     ]
    }
   ],
   "source": [
    "#HRR>=2\n",
    "HRR = input('Enter HRR Upper Limit (>=2, <={}, empty for 2, not all HRR values are acceptable): '.format(N))"
   ]
  },
  {
   "cell_type": "code",
   "execution_count": 21,
   "metadata": {},
   "outputs": [
    {
     "name": "stdout",
     "output_type": "stream",
     "text": [
      "HRR calculated value: 3\n"
     ]
    }
   ],
   "source": [
    "if not HRR:\n",
    "    HRR = 2\n",
    "else:\n",
    "    HRR = int(HRR)\n",
    "    if HRR<2:\n",
    "        HRR = 2\n",
    "    if HRR>N:\n",
    "        HRR = N\n",
    "\n",
    "NMult = math.ceil(N/HRR)\n",
    "#print(\"NMult: {}\".format(NMult))\n",
    "\n",
    "while math.ceil(N/NMult) != HRR:\n",
    "    HRR -= 1\n",
    "print(\"HRR calculated value: {}\".format(HRR))"
   ]
  },
  {
   "cell_type": "code",
   "execution_count": 22,
   "metadata": {},
   "outputs": [
    {
     "name": "stdout",
     "output_type": "stream",
     "text": [
      "Enter Multiply-Add Max Component Size (empty for 2): 2\n"
     ]
    }
   ],
   "source": [
    "#MAMCS>=1\n",
    "MAMCS = input('Enter Multiply-Add Max Component Size (empty for {}): '.format(NMult))"
   ]
  },
  {
   "cell_type": "code",
   "execution_count": 23,
   "metadata": {},
   "outputs": [],
   "source": [
    "if not MAMCS:\n",
    "    MAMCS = NMult\n",
    "else:\n",
    "    MAMCS = int(MAMCS)\n",
    "    if MAMCS>NMult:\n",
    "        MAMCS = NMult\n",
    "    elif MAMCS<1:\n",
    "        MAMCS = 1"
   ]
  },
  {
   "cell_type": "code",
   "execution_count": 24,
   "metadata": {},
   "outputs": [],
   "source": [
    "#AdderSize>=2\n",
    "if MAMCS<NMult:\n",
    "    AdderSize = input('Enter maximum size allowed for base adders (empty for 2): ')"
   ]
  },
  {
   "cell_type": "code",
   "execution_count": 25,
   "metadata": {},
   "outputs": [
    {
     "name": "stdout",
     "output_type": "stream",
     "text": [
      "Enable Input Latch? (empty or 0 to disable, 1 to enable): 1\n"
     ]
    }
   ],
   "source": [
    "Enable_Input_Latch = input('Enable Input Latch? (empty or 0 to disable, 1 to enable): ')"
   ]
  },
  {
   "cell_type": "code",
   "execution_count": 26,
   "metadata": {},
   "outputs": [],
   "source": [
    "RS = math.ceil(M/PR)"
   ]
  },
  {
   "cell_type": "code",
   "execution_count": 27,
   "metadata": {},
   "outputs": [
    {
     "name": "stdout",
     "output_type": "stream",
     "text": [
      "Enable Column Latch? (empty or 0 to disable, 1 to enable): 1\n"
     ]
    }
   ],
   "source": [
    "if RS>1:\n",
    "    Enable_Column_Latch = input('Enable Column Latch? (empty or 0 to disable, 1 to enable): ')"
   ]
  },
  {
   "cell_type": "code",
   "execution_count": 28,
   "metadata": {},
   "outputs": [],
   "source": [
    "CS = math.ceil(Q/PC)"
   ]
  },
  {
   "cell_type": "code",
   "execution_count": 29,
   "metadata": {},
   "outputs": [
    {
     "name": "stdout",
     "output_type": "stream",
     "text": [
      "Enable Row Latch? (empty or 0 to disable, 1 to enable): 1\n"
     ]
    }
   ],
   "source": [
    "if CS>1:\n",
    "    Enable_Row_Latch = input('Enable Row Latch? (empty or 0 to disable, 1 to enable): ')"
   ]
  },
  {
   "cell_type": "code",
   "execution_count": 30,
   "metadata": {},
   "outputs": [
    {
     "name": "stdout",
     "output_type": "stream",
     "text": [
      "Enable SI Mux Output Registers? (empty or 0 to disable, 1 to enable): 1\n"
     ]
    }
   ],
   "source": [
    "Enable_SIM_Output_Registers = input('Enable SI Mux Output Registers? (empty or 0 to disable, 1 to enable): ')"
   ]
  },
  {
   "cell_type": "code",
   "execution_count": 31,
   "metadata": {},
   "outputs": [
    {
     "name": "stdout",
     "output_type": "stream",
     "text": [
      "Enter IN_WIDTH default value (empty for 10): \n"
     ]
    }
   ],
   "source": [
    "#IN_WIDTH>=1\n",
    "IN_WIDTH = input('Enter IN_WIDTH default value (empty for 10): ')"
   ]
  },
  {
   "cell_type": "code",
   "execution_count": 32,
   "metadata": {},
   "outputs": [
    {
     "name": "stdout",
     "output_type": "stream",
     "text": [
      "Enter INPUT_REG_DEPTH default value (empty for 1): \n"
     ]
    }
   ],
   "source": [
    "#INPUT_REG_DEPTH>=0\n",
    "INPUT_REG_DEPTH = input('Enter INPUT_REG_DEPTH default value (empty for 1): ')"
   ]
  },
  {
   "cell_type": "code",
   "execution_count": 33,
   "metadata": {},
   "outputs": [
    {
     "name": "stdout",
     "output_type": "stream",
     "text": [
      "Enter MULT_PIPE_DEPTH default value (empty for 1): \n"
     ]
    }
   ],
   "source": [
    "#MULT_PIPE_DEPTH>=0\n",
    "MULT_PIPE_DEPTH = input('Enter MULT_PIPE_DEPTH default value (empty for 1): ')"
   ]
  },
  {
   "cell_type": "code",
   "execution_count": 34,
   "metadata": {},
   "outputs": [],
   "source": [
    "NumOfComponents = math.ceil(NMult/MAMCS)\n",
    "if MAMCS==NMult:\n",
    "    AdderSize = 0\n",
    "else:\n",
    "    if not AdderSize:\n",
    "        AdderSize = 2\n",
    "    else:\n",
    "        AdderSize = int(AdderSize)\n",
    "        if AdderSize<2:\n",
    "            AdderSize = 2\n",
    "        if AdderSize>NumOfComponents:\n",
    "            AdderSize = NumOfComponents\n",
    "            \n",
    "if not Enable_Input_Latch:\n",
    "    Enable_Input_Latch = 0\n",
    "else:\n",
    "    Enable_Input_Latch = int(Enable_Input_Latch)\n",
    "\n",
    "if RS==1:\n",
    "    Enable_Column_Latch = 0\n",
    "else:\n",
    "    if not Enable_Column_Latch:\n",
    "        Enable_Column_Latch = 0\n",
    "    else:\n",
    "        Enable_Column_Latch = int(Enable_Column_Latch)\n",
    "\n",
    "if CS==1:\n",
    "    Enable_Row_Latch = 0\n",
    "else:\n",
    "    if not Enable_Row_Latch:\n",
    "        Enable_Row_Latch = 0\n",
    "    else:\n",
    "        Enable_Row_Latch = int(Enable_Row_Latch)\n",
    "\n",
    "if not Enable_SIM_Output_Registers:\n",
    "    Enable_SIM_Output_Registers = 0\n",
    "else:\n",
    "    Enable_SIM_Output_Registers = int(Enable_SIM_Output_Registers)\n",
    "\n",
    "if not IN_WIDTH:\n",
    "    IN_WIDTH = 10\n",
    "else:\n",
    "    IN_WIDTH = int(IN_WIDTH)\n",
    "    if IN_WIDTH<1:\n",
    "        IN_WIDTH = 1\n",
    "\n",
    "if not INPUT_REG_DEPTH:\n",
    "    INPUT_REG_DEPTH = 1\n",
    "else:\n",
    "    INPUT_REG_DEPTH = int(INPUT_REG_DEPTH)\n",
    "    if INPUT_REG_DEPTH<0:\n",
    "        INPUT_REG_DEPTH = 0\n",
    "\n",
    "if not MULT_PIPE_DEPTH:\n",
    "    MULT_PIPE_DEPTH=1\n",
    "else:\n",
    "    MULT_PIPE_DEPTH = int(MULT_PIPE_DEPTH)\n",
    "    if MULT_PIPE_DEPTH<0:\n",
    "        MULT_PIPE_DEPTH = 0"
   ]
  },
  {
   "cell_type": "code",
   "execution_count": 36,
   "metadata": {},
   "outputs": [],
   "source": [
    "ModuleName = \"MatrixMatrixMultiply_{}_{}_{}_{}PR_{}PC_SI_HRx{}_C{}_A{}_\".format(M, N, Q, PR, PC, HRR, MAMCS, AdderSize)\n",
    "if Enable_Input_Latch<=0:\n",
    "    ModuleName += \"N\"\n",
    "ModuleName += \"IL_\"\n",
    "if Enable_Column_Latch<=0:\n",
    "    ModuleName += \"N\"\n",
    "ModuleName += \"CL_\"\n",
    "if Enable_Row_Latch<=0:\n",
    "    ModuleName += \"N\"        \n",
    "ModuleName += \"RL_\"\n",
    "if Enable_SIM_Output_Registers<=0:\n",
    "    ModuleName += \"N\"\n",
    "ModuleName += \"MR\""
   ]
  },
  {
   "cell_type": "code",
   "execution_count": 37,
   "metadata": {},
   "outputs": [],
   "source": [
    "__Print_To_File = 0\n",
    "\n",
    "if __Print_To_File<=0:\n",
    "    of = sys.stdout\n",
    "else:\n",
    "    of = open(\"./\"+ModuleName+\".v\", 'w+')"
   ]
  },
  {
   "cell_type": "code",
   "execution_count": 48,
   "metadata": {
    "scrolled": true
   },
   "outputs": [
    {
     "name": "stdout",
     "output_type": "stream",
     "text": [
      "`timescale 1ns / 1ps\n",
      "\n",
      "module MatrixMatrixMultiply_5_5_5_2PR_2PC_SI_HRx3_C2_A0_IL_CL_RL_MR\n",
      "#(parameter\n",
      "IN_WIDTH = 10,\n",
      "INPUT_REG_DEPTH = 1,\n",
      "MULT_PIPE_DEPTH = 1\n",
      ")(\n",
      "input clk, reset, enable,\n",
      "output newInSeriesStart,\n",
      "output reg [1:0] inSeries = 0,\n",
      "output reg [1:0] rowSetInNo = 0,\n",
      "output reg [1:0] columnSetInNo = 0,\n",
      "input inReady,\n",
      "input signed [IN_WIDTH-1:0] AE0R0, AE1R0, AE2R0, AE3R0, AE4R0, \n",
      "AE0R1, AE1R1, AE2R1, AE3R1, AE4R1, \n",
      "input signed [IN_WIDTH-1:0] BE0C0, BE1C0, BE2C0, BE3C0, BE4C0, \n",
      "BE0C1, BE1C1, BE2C1, BE3C1, BE4C1, \n",
      "output C0R0EReady,\n",
      "output C0R1EReady,\n",
      "output C1R0EReady,\n",
      "output C1R1EReady,\n",
      "output [1:0] rowSetOutNo,\n",
      "output [1:0] columnSetOutNo,\n",
      "output signed [(2*IN_WIDTH)+2:0] EC0R0, EC0R1, EC1R0, EC1R1, \n",
      "output earlyC0R0EReady,\n",
      "output earlyC0R1EReady,\n",
      "output earlyC1R0EReady,\n",
      "output earlyC1R1EReady\n",
      ");\n",
      "\n"
     ]
    }
   ],
   "source": [
    "print(\"`timescale 1ns / 1ps\\n\", file=of)\n",
    "print(\"module \"+ModuleName, file=of)\n",
    "print(\"#(parameter\", file=of)\n",
    "print(\"IN_WIDTH = {},\".format(IN_WIDTH), file=of)\n",
    "print(\"INPUT_REG_DEPTH = {},\".format(INPUT_REG_DEPTH), file=of)\n",
    "print(\"MULT_PIPE_DEPTH = {}\".format(MULT_PIPE_DEPTH), file=of)\n",
    "print(\")(\", file=of)\n",
    "print(\"input clk, reset, enable,\", file=of)\n",
    "print(\"output newInSeriesStart,\", file=of)\n",
    "lghrr=math.ceil(math.log2(HRR))\n",
    "print(\"output \", end='', file=of)\n",
    "if Enable_SIM_Output_Registers>0:\n",
    "    print(\"reg \", end='', file=of)\n",
    "if lghrr==1:\n",
    "    print(\"inSeries\", end='', file=of)\n",
    "elif lghrr>1:\n",
    "    print(\"[{}:0] inSeries\".format(lghrr-1), end='', file=of)\n",
    "if Enable_SIM_Output_Registers>0:\n",
    "    print(\" = 0,\", file=of)\n",
    "else:\n",
    "    print(\",\", file=of)\n",
    "lgRS=math.ceil(math.log2(RS))\n",
    "print(\"output \", end='', file=of)\n",
    "if Enable_SIM_Output_Registers>0:\n",
    "    print(\"reg \", end='', file=of)\n",
    "if lgRS<=1:\n",
    "    print(\"rowSetInNo\", end='', file=of)\n",
    "else:\n",
    "    print(\"[{}:0] rowSetInNo\".format(lgRS-1), end='', file=of)\n",
    "if Enable_SIM_Output_Registers>0:\n",
    "    print(\" = 0,\", file=of)\n",
    "else:\n",
    "    print(\",\", file=of)\n",
    "lgCS=math.ceil(math.log2(CS))\n",
    "print(\"output \", end='', file=of)\n",
    "if Enable_SIM_Output_Registers>0:\n",
    "    print(\"reg \", end='', file=of)\n",
    "if lgCS<=1:\n",
    "    print(\"columnSetInNo\", end='', file=of)\n",
    "else:\n",
    "    print(\"[{}:0] columnSetInNo\".format(lgCS-1), end='', file=of)\n",
    "if Enable_SIM_Output_Registers>0:\n",
    "    print(\" = 0,\", file=of)\n",
    "else:\n",
    "    print(\",\", file=of)\n",
    "print(\"input inReady,\", file=of)\n",
    "print(\"input signed [IN_WIDTH-1:0] \", end='', file=of)\n",
    "for i in range(PR):\n",
    "    for j in range(N):\n",
    "        print(\"AE{}R{}, \".format(j, i), end='', file=of)\n",
    "    print(file=of)\n",
    "print(\"input signed [IN_WIDTH-1:0] \", end='', file=of)\n",
    "for i in range(PC):\n",
    "    for j in range(N):\n",
    "        print(\"BE{}C{}, \".format(j, i), end='', file=of)\n",
    "    print(file=of)\n",
    "ac=CS*PC-Q\n",
    "QE = PC-ac-1\n",
    "if QE==0:\n",
    "    stc1=\"C0\"\n",
    "else:\n",
    "    stc1=\"C0toC{}\".format(QE)\n",
    "if QE==(PC-2):\n",
    "    stc2=\"C{}\".format(PC-1)\n",
    "else:\n",
    "    stc2=\"C{}toC{}\".format(QE+1, PC-1)\n",
    "ar=RS*PR-M\n",
    "ME = PR-ar-1\n",
    "if ME==0:\n",
    "    str1=\"R0\"\n",
    "else:\n",
    "    str1=\"R0toR{}\".format(ME)\n",
    "if ME==(PR-2):\n",
    "    str2=\"R{}\".format(PR-1)\n",
    "else:\n",
    "    str2=\"R{}toR{}\".format(ME+1, PR-1)\n",
    "print(\"output \"+stc1+str1+\"EReady,\", file=of)\n",
    "if ar!=0:\n",
    "    print(\"output \"+stc1+str2+\"EReady,\", file=of)\n",
    "else:\n",
    "    print(\"output reg NUEReady1 = 0, //not used\", file=of)\n",
    "if ac!=0:\n",
    "    print(\"output \"+stc2+str1+\"EReady,\", file=of)\n",
    "    if ar!=0:\n",
    "        print(\"output \"+stc2+str2+\"EReady,\", file=of)\n",
    "    else:\n",
    "        print(\"output reg NUEReady2 = 0, //not used\", file=of)\n",
    "else:\n",
    "    print(\"output reg NUEReady2 = 0, //not used\", file=of)\n",
    "    print(\"output reg NUEReady3 = 0, //not used\", file=of)\n",
    "if lgRS<=1:\n",
    "    print(\"output rowSetOutNo,\", file=of)\n",
    "else:\n",
    "    print(\"output [{}:0] rowSetOutNo,\".format(lgRS-1), file=of)\n",
    "if lgCS<=1:\n",
    "    print(\"output columnSetOutNo,\", file=of)\n",
    "else:\n",
    "    print(\"output [{}:0] columnSetOutNo,\".format(lgCS-1), file=of)\n",
    "lgN=math.ceil(math.log2(N))\n",
    "al=-1+lgN\n",
    "if al==0:\n",
    "    print(\"output signed [(2*IN_WIDTH):0] \", end='',file=of)\n",
    "elif al<0:\n",
    "    print(\"output signed [(2*IN_WIDTH){}:0] \".format(al), end='',file=of)\n",
    "else:\n",
    "    print(\"output signed [(2*IN_WIDTH)+{}:0] \".format(al), end='',file=of)\n",
    "for i in range(PC):\n",
    "    for j in range(PR):\n",
    "        print(\"EC{}R{}, \".format(i, j), end='',file=of)\n",
    "print(file=of)\n",
    "print(\"output early\"+stc1+str1+\"EReady,\", file=of)\n",
    "if ar!=0:\n",
    "    print(\"output early\"+stc1+str2+\"EReady,\", file=of)\n",
    "else:\n",
    "    print(\"output reg NUeEReady1 = 0, //not used\", file=of)\n",
    "if ac!=0:\n",
    "    print(\"output early\"+stc2+str1+\"EReady,\", file=of)\n",
    "    if ar!=0:\n",
    "        print(\"output early\"+stc2+str2+\"EReady\", file=of)\n",
    "    else:\n",
    "        print(\"output reg NUeEReady2 = 0 //not used\", file=of)\n",
    "else:\n",
    "    print(\"output reg NUeEReady2 = 0, //not used\", file=of)\n",
    "    print(\"output reg NUeEReady3 = 0 //not used\", file=of)\n",
    "print(\");\\n\", file=of)"
   ]
  },
  {
   "cell_type": "code",
   "execution_count": 49,
   "metadata": {},
   "outputs": [
    {
     "name": "stdout",
     "output_type": "stream",
     "text": [
      "wire MMInReadyR;\n",
      "wire inReadyCR = (columnSetInNo==0) & inReady;\n",
      "wire signed [IN_WIDTH-1:0] ASE0R0, ASE1R0;\n",
      "SItoSoE_5_HRx3_IL_OR #( .IN_WIDTH(IN_WIDTH) )\n",
      "SItSoEA0 (\n",
      "clk, reset, enable,\n",
      "A0NISS, //not used\n",
      "A0IS, //not used\n",
      "inReadyCR,\n",
      "AE0R0, AE1R0, AE2R0, AE3R0, AE4R0, \n",
      "MMInReadyR,\n",
      "A0S2outReady, //not used\n",
      "A0outSeries, //not used\n",
      "ASE0R0, ASE1R0, \n",
      "A0S1earlyOutReady, //not used\n",
      "A0S2earlyOutReady //not used\n",
      ");\n",
      "\n",
      "wire signed [IN_WIDTH-1:0] ASE0R1, ASE1R1;\n",
      "SItoSoE_5_HRx3_IL_OR #( .IN_WIDTH(IN_WIDTH) )\n",
      "SItSoEA1 (\n",
      "clk, reset, enable,\n",
      "A1NISS, //not used\n",
      "A1IS, //not used\n",
      "inReadyCR,\n",
      "AE0R1, AE1R1, AE2R1, AE3R1, AE4R1, \n",
      "A1outReady, //not used\n",
      "A1S2outReady, //not used\n",
      "A1outSeries, //not used\n",
      "ASE0R1, ASE1R1, \n",
      "A1S1earlyOutReady, //not used\n",
      "A1S2earlyOutReady //not used\n",
      ");\n",
      "\n"
     ]
    }
   ],
   "source": [
    "print(\"wire MMInReadyR;\", file=of)\n",
    "if Enable_Row_Latch>0:\n",
    "    print(\"wire inReadyCR = (columnSetInNo==0) & inReady;\", file=of)\n",
    "for j in range(PR):\n",
    "    print(\"wire signed [IN_WIDTH-1:0] \", end='', file=of)\n",
    "    for i in range(NMult-1):\n",
    "        print(\"ASE{}R{}, \".format(i, j), end='', file=of)\n",
    "    print(\"ASE{}R{};\".format(NMult-1, j), file=of)\n",
    "    print(\"SItoSoE_{}_HRx{}_\".format(N, HRR), end='', file=of)\n",
    "    if Enable_Input_Latch<=0:\n",
    "        print(\"N\", end='', file=of)\n",
    "    print(\"IL_\", end='', file=of)\n",
    "    if Enable_SIM_Output_Registers<=0:\n",
    "        print(\"N\", end='', file=of)\n",
    "    print(\"OR #( .IN_WIDTH(IN_WIDTH) )\", file=of)\n",
    "    print(\"SItSoEA{} (\".format(j), file=of)\n",
    "    print(\"clk, reset, enable,\", file=of)\n",
    "    print(\"A{}NISS, //not used\".format(j), file=of)\n",
    "    print(\"A{}IS, //not used\".format(j), file=of)\n",
    "    if Enable_Row_Latch>0:\n",
    "        print(\"inReadyCR,\", file=of)\n",
    "    else:\n",
    "        print(\"inReady,\", file=of)    \n",
    "    for i in range(N):\n",
    "        print(\"AE{}R{}, \".format(i, j), end='', file=of)\n",
    "    print(file=of)\n",
    "    if j==0:\n",
    "        print(\"MMInReadyR,\", file=of)\n",
    "    else:\n",
    "        print(\"A{}outReady, //not used\".format(j), file=of)\n",
    "    print(\"A{}S2outReady, //not used\".format(j), file=of)\n",
    "    print(\"A{}outSeries, //not used\".format(j), file=of)\n",
    "    for i in range(NMult):\n",
    "        print(\"ASE{}R{}, \".format(i, j), end='', file=of)\n",
    "    print(file=of)\n",
    "    print(\"A{}S1earlyOutReady, //not used\".format(j), file=of)\n",
    "    print(\"A{}S2earlyOutReady //not used\".format(j), file=of)\n",
    "    print(\");\\n\", file=of)"
   ]
  },
  {
   "cell_type": "code",
   "execution_count": 50,
   "metadata": {},
   "outputs": [
    {
     "name": "stdout",
     "output_type": "stream",
     "text": [
      "wire MMInReadyC;\n",
      "wire inReadyCC = (rowSetInNo==0) & inReady;\n",
      "wire signed [IN_WIDTH-1:0] BSE0C0, BSE1C0;\n",
      "SItoSoE_5_HRx3_IL_OR #( .IN_WIDTH(IN_WIDTH) )\n",
      "SItSoEB0 (\n",
      "clk, reset, enable,\n",
      "B0NISS, //not used\n",
      "B0IS, //not used\n",
      "inReadyCC,\n",
      "BE0C0, BE1C0, BE2C0, BE3C0, BE4C0, \n",
      "MMInReadyC,\n",
      "B0S2outReady, //not used\n",
      "B0outSeries, //not used\n",
      "BSE0C0, BSE1C0, \n",
      "B0S1earlyOutReady, //not used\n",
      "B0S2earlyOutReady //not used\n",
      ");\n",
      "\n",
      "wire signed [IN_WIDTH-1:0] BSE0C1, BSE1C1;\n",
      "SItoSoE_5_HRx3_IL_OR #( .IN_WIDTH(IN_WIDTH) )\n",
      "SItSoEB1 (\n",
      "clk, reset, enable,\n",
      "B1NISS, //not used\n",
      "B1IS, //not used\n",
      "inReadyCC,\n",
      "BE0C1, BE1C1, BE2C1, BE3C1, BE4C1, \n",
      "B1outReady, //not used\n",
      "B1S2outReady, //not used\n",
      "B1outSeries, //not used\n",
      "BSE0C1, BSE1C1, \n",
      "B1S1earlyOutReady, //not used\n",
      "B1S2earlyOutReady //not used\n",
      ");\n",
      "\n"
     ]
    }
   ],
   "source": [
    "print(\"wire MMInReadyC;\", file=of)\n",
    "if Enable_Column_Latch>0:\n",
    "    print(\"wire inReadyCC = (rowSetInNo==0) & inReady;\", file=of)\n",
    "for j in range(PC):\n",
    "    print(\"wire signed [IN_WIDTH-1:0] \", end='', file=of)\n",
    "    for i in range(NMult-1):\n",
    "        print(\"BSE{}C{}, \".format(i, j), end='', file=of)\n",
    "    print(\"BSE{}C{};\".format(NMult-1, j), file=of)\n",
    "    print(\"SItoSoE_{}_HRx{}_\".format(N, HRR), end='', file=of)\n",
    "    if Enable_Input_Latch<=0:\n",
    "        print(\"N\", end='', file=of)\n",
    "    print(\"IL_\", end='', file=of)\n",
    "    if Enable_SIM_Output_Registers<=0:\n",
    "        print(\"N\", end='', file=of)\n",
    "    print(\"OR #( .IN_WIDTH(IN_WIDTH) )\", file=of)\n",
    "    print(\"SItSoEB{} (\".format(j), file=of)\n",
    "    print(\"clk, reset, enable,\", file=of)\n",
    "    print(\"B{}NISS, //not used\".format(j), file=of)\n",
    "    print(\"B{}IS, //not used\".format(j), file=of)\n",
    "    if Enable_Column_Latch>0:\n",
    "        print(\"inReadyCC,\", file=of)\n",
    "    else:\n",
    "        print(\"inReady,\", file=of)    \n",
    "    for i in range(N):\n",
    "        print(\"BE{}C{}, \".format(i, j), end='', file=of)\n",
    "    print(file=of)\n",
    "    if j==0:\n",
    "        print(\"MMInReadyC,\", file=of)\n",
    "    else:\n",
    "        print(\"B{}outReady, //not used\".format(j), file=of)\n",
    "    print(\"B{}S2outReady, //not used\".format(j), file=of)\n",
    "    print(\"B{}outSeries, //not used\".format(j), file=of)\n",
    "    for i in range(NMult):\n",
    "        print(\"BSE{}C{}, \".format(i, j), end='', file=of)\n",
    "    print(file=of)\n",
    "    print(\"B{}S1earlyOutReady, //not used\".format(j), file=of)\n",
    "    print(\"B{}S2earlyOutReady //not used\".format(j), file=of)\n",
    "    print(\");\\n\", file=of)"
   ]
  },
  {
   "cell_type": "code",
   "execution_count": 51,
   "metadata": {},
   "outputs": [
    {
     "name": "stdout",
     "output_type": "stream",
     "text": [
      "reg newInSeriesStartI = 0;\n",
      "wire inrCC = (columnSetInNo!=0) & (rowSetInNo!=0);\n",
      "wire inReadyC = inReady | inrCC;\n",
      "assign newInSeriesStart = newInSeriesStartI & (~inrCC);\n"
     ]
    }
   ],
   "source": [
    "if Enable_SIM_Output_Registers>0:\n",
    "    print(\"reg newInSeriesStartI = 1;\", file=of)\n",
    "    if Enable_Row_Latch<=0 or Enable_Column_Latch<=0:\n",
    "        inrCC = False\n",
    "        print(\"wire inReadyC = inReady;\", file=of)\n",
    "        print(\"assign newInSeriesStart = newInSeriesStartI;\", file=of)\n",
    "    else: #Enable_Row_Latch>0 and Enable_Column_Latch>0\n",
    "        #inrCC: inReady Check Cancel!\n",
    "        inrCC = True\n",
    "        print(\"wire inrCC = (columnSetInNo!=0) & (rowSetInNo!=0);\", file=of) # ~inrCC : (columnSetInNo==0) | (rowSetInNo==0)\n",
    "        print(\"wire inReadyC = inReady | inrCC;\", file=of)\n",
    "        print(\"assign newInSeriesStart = newInSeriesStartI & (~inrCC);\", file=of)"
   ]
  },
  {
   "cell_type": "code",
   "execution_count": 52,
   "metadata": {},
   "outputs": [
    {
     "name": "stdout",
     "output_type": "stream",
     "text": [
      "always @(posedge clk) begin\n",
      "\tif(reset) begin\n",
      "\t\tinSeries <= 0;\n",
      "\t\tnewInSeriesStartI <= 0;\n",
      "\tend\n",
      "\telse if(enable & (inReadyC | (inSeries!=0))) begin\n",
      "\t\tif(inSeries==2) begin\n",
      "\t\t\tnewInSeriesStartI <= 1;\n",
      "\t\t\tinSeries <= 0;\n",
      "\t\tend\n",
      "\t\telse begin\n",
      "\t\t\tnewInSeriesStartI <= 0;\n",
      "\t\t\tinSeries <= inSeries+1;\n",
      "\t\tend\n",
      "\tend\n",
      "end\n",
      "\n"
     ]
    }
   ],
   "source": [
    "if Enable_SIM_Output_Registers>0:\n",
    "    print(\"always @(posedge clk) begin\", file=of)\n",
    "    print(\"\\tif(reset) begin\", file=of)\n",
    "    print(\"\\t\\tinSeries <= 0;\", file=of)\n",
    "    print(\"\\t\\tnewInSeriesStartI <= 1;\", file=of)\n",
    "    print(\"\\tend\", file=of)\n",
    "    print(\"\\telse if(enable & \", end='', file=of)\n",
    "    if Enable_Input_Latch<=0:\n",
    "        print(\"inReadyC\", end='', file=of)\n",
    "    else:\n",
    "        print(\"(inReadyC | (inSeries!=0))\", end='', file=of)\n",
    "    print(\") begin\", file=of)\n",
    "    print(\"\\t\\tif(inSeries=={}) begin\".format(HRR-1), file=of)\n",
    "    print(\"\\t\\t\\tnewInSeriesStartI <= 1;\", file=of)\n",
    "    print(\"\\t\\t\\tinSeries <= 0;\", file=of)\n",
    "    print(\"\\t\\tend\", file=of)\n",
    "    print(\"\\t\\telse begin\", file=of)\n",
    "    print(\"\\t\\t\\tnewInSeriesStartI <= 0;\", file=of)\n",
    "    if HRR==2:\n",
    "        print(\"\\t\\t\\tinSeries <= 1;\", file=of)    \n",
    "    else:\n",
    "        print(\"\\t\\t\\tinSeries <= inSeries+1;\", file=of)\n",
    "    print(\"\\t\\tend\", file=of)\n",
    "    print(\"\\tend\", file=of)\n",
    "    print(\"end\", file=of)\n",
    "    print(file=of)"
   ]
  },
  {
   "cell_type": "code",
   "execution_count": 53,
   "metadata": {},
   "outputs": [
    {
     "name": "stdout",
     "output_type": "stream",
     "text": [
      "always @(posedge clk) begin\n",
      "\tif(reset) begin\n",
      "\t\trowSetInNo <= 0;\n",
      "\tend\n",
      "\telse if(enable & (inSeries==2)) begin\n",
      "\t\tif(rowSetInNo==2) begin\n",
      "\t\t\trowSetInNo <= 0;\n",
      "\t\tend\n",
      "\t\telse begin\n",
      "\t\t\trowSetInNo <= rowSetInNo+1;\n",
      "\t\tend\n",
      "\tend\n",
      "end\n",
      "\n"
     ]
    }
   ],
   "source": [
    "if Enable_SIM_Output_Registers>0 and RS>1:\n",
    "    print(\"always @(posedge clk) begin\", file=of)\n",
    "    print(\"\\tif(reset) begin\", file=of)\n",
    "    print(\"\\t\\trowSetInNo <= 0;\", file=of)\n",
    "    print(\"\\tend\", file=of)\n",
    "    print(\"\\telse if(enable & (inSeries=={})\".format(HRR-1), end='', file=of)\n",
    "    if Enable_Input_Latch<=0:\n",
    "        print(\" & inReadyC\", end='', file=of)\n",
    "    print(\") begin\", file=of)\n",
    "    print(\"\\t\\tif(rowSetInNo=={}) begin\".format(RS-1), file=of)\n",
    "    print(\"\\t\\t\\trowSetInNo <= 0;\", file=of)\n",
    "    print(\"\\t\\tend\", file=of)\n",
    "    print(\"\\t\\telse begin\", file=of)\n",
    "    if RS==2:\n",
    "        print(\"\\t\\t\\trowSetInNo <= 1;\", file=of)\n",
    "    else:\n",
    "        print(\"\\t\\t\\trowSetInNo <= rowSetInNo+1;\", file=of)\n",
    "    print(\"\\t\\tend\", file=of)\n",
    "    print(\"\\tend\", file=of)\n",
    "    print(\"end\", file=of)\n",
    "    print(file=of)"
   ]
  },
  {
   "cell_type": "code",
   "execution_count": 54,
   "metadata": {},
   "outputs": [
    {
     "name": "stdout",
     "output_type": "stream",
     "text": [
      "always @(posedge clk) begin\n",
      "\tif(reset) begin\n",
      "\t\tcolumnSetInNo <= 0;\n",
      "\tend\n",
      "\telse if(enable & (inSeries==2) & (rowSetInNo==2)) begin\n",
      "\t\tif(columnSetInNo==2) begin\n",
      "\t\t\tcolumnSetInNo <= 0;\n",
      "\t\tend\n",
      "\t\telse begin\n",
      "\t\t\tcolumnSetInNo <= columnSetInNo+1;\n",
      "\t\tend\n",
      "\tend\n",
      "end\n",
      "\n"
     ]
    }
   ],
   "source": [
    "if Enable_SIM_Output_Registers>0 and CS>1:\n",
    "    print(\"always @(posedge clk) begin\", file=of)\n",
    "    print(\"\\tif(reset) begin\", file=of)\n",
    "    print(\"\\t\\tcolumnSetInNo <= 0;\", file=of)\n",
    "    print(\"\\tend\", file=of)\n",
    "    print(\"\\telse if(enable & (inSeries=={}) & (rowSetInNo=={})\".format(HRR-1, RS-1), end='', file=of)\n",
    "    if Enable_Input_Latch<=0:\n",
    "        print(\" & inReadyC\", end='', file=of)\n",
    "    print(\") begin\", file=of)\n",
    "    print(\"\\t\\tif(columnSetInNo=={}) begin\".format(RS-1), file=of)\n",
    "    print(\"\\t\\t\\tcolumnSetInNo <= 0;\", file=of)\n",
    "    print(\"\\t\\tend\", file=of)\n",
    "    print(\"\\t\\telse begin\", file=of)\n",
    "    if CS==2:\n",
    "        print(\"\\t\\t\\tcolumnSetInNo <= 1;\", file=of)\n",
    "    else:\n",
    "        print(\"\\t\\t\\tcolumnSetInNo <= columnSetInNo+1;\", file=of)\n",
    "    print(\"\\t\\tend\", file=of)\n",
    "    print(\"\\tend\", file=of)\n",
    "    print(\"end\", file=of)\n",
    "    print(file=of)"
   ]
  },
  {
   "cell_type": "code",
   "execution_count": 55,
   "metadata": {},
   "outputs": [
    {
     "name": "stdout",
     "output_type": "stream",
     "text": [
      "wire MMInReady = MMInReadyR | MMInReadyC;\n",
      "MatrixMatrixMultiply_5_5_5_2PR_2PC_S2E_HRx3_C2_A0_CL_RL\n",
      "#(IN_WIDTH, INPUT_REG_DEPTH, MULT_PIPE_DEPTH)\n",
      "MMM(clk, reset, enable,\n",
      "MMNewInSeriesStart, //not used\n",
      "MMInSeries, //not used\n",
      "MMRowSetInNo, //not used\n",
      "MMColumnSetInNo, //not used\n",
      "MMInReady,\n",
      "ASE0R0, ASE1R0, \n",
      "ASE0R1, ASE1R1, \n",
      "BSE0C0, BSE1C0, \n",
      "BSE0C1, BSE1C1, \n",
      "C0R0EReady,\n",
      "C0R1EReady,\n",
      "C1R0EReady,\n",
      "C1R1EReady,\n",
      "rowSetOutNo,\n",
      "columnSetOutNo,\n",
      "EC0R0, EC0R1, EC1R0, EC1R1, \n",
      "earlyC0R0EReady,\n",
      "earlyC0R1EReady,\n",
      "earlyC1R0EReady,\n",
      "earlyC1R1EReady\n",
      ");\n",
      "\n"
     ]
    }
   ],
   "source": [
    "IModuleName = \"MatrixMatrixMultiply_{}_{}_{}_{}PR_{}PC_S{}E_HRx{}_C{}_A{}_\".format(M, N, Q, PR, PC, NMult, HRR, MAMCS, AdderSize)\n",
    "if Enable_Column_Latch<=0:\n",
    "    IModuleName += \"N\"\n",
    "IModuleName += \"CL_\"\n",
    "if Enable_Row_Latch<=0:\n",
    "    IModuleName += \"N\"        \n",
    "IModuleName += \"RL\"\n",
    "\n",
    "print(\"wire MMInReady = MMInReadyR | MMInReadyC;\", file=of)\n",
    "print(IModuleName, file=of)\n",
    "print(\"#(IN_WIDTH, INPUT_REG_DEPTH, MULT_PIPE_DEPTH)\", file=of)\n",
    "print(\"MMM(clk, reset, enable,\".format(i), file=of)\n",
    "if Enable_SIM_Output_Registers<=0:\n",
    "    print(\"newInSeriesStart,\", file=of)\n",
    "else:\n",
    "    print(\"MMNewInSeriesStart, //not used\", file=of)    \n",
    "if Enable_SIM_Output_Registers<=0:\n",
    "    print(\"inSeries,\", file=of)\n",
    "else:\n",
    "    print(\"MMInSeries, //not used\", file=of)\n",
    "if Enable_SIM_Output_Registers<=0:\n",
    "    print(\"rowSetInNo,\", file=of)\n",
    "else:\n",
    "    print(\"MMRowSetInNo, //not used\", file=of)        \n",
    "if Enable_SIM_Output_Registers<=0:\n",
    "    print(\"columnSetInNo,\", file=of)\n",
    "else:\n",
    "    print(\"MMColumnSetInNo, //not used\", file=of)        \n",
    "print(\"MMInReady,\", file=of)\n",
    "for j in range(PR):\n",
    "    for k in range(NMult):\n",
    "        print(\"ASE{}R{}, \".format(k, j), end='', file=of)\n",
    "    print(file=of)\n",
    "for j in range(PC):\n",
    "    for k in range(NMult):\n",
    "        print(\"BSE{}C{}, \".format(k, j), end='', file=of)\n",
    "    print(file=of)\n",
    "\n",
    "print(stc1, end='', file=of)\n",
    "print(str1, end='', file=of)\n",
    "print(\"EReady,\", file=of)\n",
    "if ar!=0:\n",
    "    print(stc1, end='', file=of)\n",
    "    print(str2, end='', file=of)\n",
    "    print(\"EReady,\", file=of)\n",
    "else:\n",
    "    print(\"NUmmEReady1, //not used\", file=of)\n",
    "if ac!=0:\n",
    "    print(stc2, end='', file=of)\n",
    "    print(str1, end='', file=of)\n",
    "    print(\"EReady,\", file=of)\n",
    "    if ar!=0:\n",
    "        print(stc2, end='', file=of)\n",
    "        print(str2, end='', file=of)\n",
    "        print(\"EReady,\", file=of)\n",
    "    else:\n",
    "        print(\"NUmmEReady2, //not used\", file=of)\n",
    "else:\n",
    "    print(\"NUmmEReady2, //not used\", file=of)\n",
    "    print(\"NUmmEReady3, //not used\", file=of)\n",
    "\n",
    "print(\"rowSetOutNo,\", file=of)\n",
    "print(\"columnSetOutNo,\", file=of)\n",
    "for i in range(PC):\n",
    "    for j in range(PR):\n",
    "        print(\"EC{}R{}, \".format(i, j), end='',file=of)\n",
    "print(file=of)\n",
    "\n",
    "print(\"early\", end='', file=of)\n",
    "print(stc1, end='', file=of)\n",
    "print(str1, end='', file=of)\n",
    "print(\"EReady,\", file=of)\n",
    "if ar!=0:\n",
    "    print(\"early\", end='', file=of)\n",
    "    print(stc1, end='', file=of)\n",
    "    print(str2, end='', file=of)\n",
    "    print(\"EReady,\", file=of)\n",
    "else:\n",
    "    print(\"NUmmeEReady1, //not used\", file=of)\n",
    "if ac!=0:\n",
    "    print(\"early\", end='', file=of)\n",
    "    print(stc2, end='', file=of)\n",
    "    print(str1, end='', file=of)\n",
    "    print(\"EReady,\", file=of)\n",
    "    if ar!=0:\n",
    "        print(\"early\", end='', file=of)\n",
    "        print(stc2, end='', file=of)\n",
    "        print(str2, end='', file=of)\n",
    "        print(\"EReady\", file=of)\n",
    "    else:\n",
    "        print(\"NUmmeEReady2 //not used\", file=of)\n",
    "else:\n",
    "    print(\"NUmmeEReady2, //not used\", file=of)\n",
    "    print(\"NUmmeEReady3 //not used\", file=of)\n",
    "\n",
    "print(\");\", file=of)\n",
    "print(file=of)"
   ]
  },
  {
   "cell_type": "code",
   "execution_count": 56,
   "metadata": {},
   "outputs": [
    {
     "name": "stdout",
     "output_type": "stream",
     "text": [
      "endmodule\n"
     ]
    }
   ],
   "source": [
    "print(\"endmodule\", file=of)"
   ]
  },
  {
   "cell_type": "code",
   "execution_count": 57,
   "metadata": {},
   "outputs": [],
   "source": [
    "if __Print_To_File>0:\n",
    "    of.close()"
   ]
  }
 ],
 "metadata": {
  "kernelspec": {
   "display_name": "Python 3",
   "language": "python",
   "name": "python3"
  },
  "language_info": {
   "codemirror_mode": {
    "name": "ipython",
    "version": 3
   },
   "file_extension": ".py",
   "mimetype": "text/x-python",
   "name": "python",
   "nbconvert_exporter": "python",
   "pygments_lexer": "ipython3",
   "version": "3.6.3"
  }
 },
 "nbformat": 4,
 "nbformat_minor": 1
}
