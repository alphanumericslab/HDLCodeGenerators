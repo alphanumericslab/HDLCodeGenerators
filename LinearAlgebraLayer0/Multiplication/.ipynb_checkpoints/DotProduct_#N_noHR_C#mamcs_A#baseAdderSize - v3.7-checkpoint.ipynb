{
 "cells": [
  {
   "cell_type": "code",
   "execution_count": 39,
   "metadata": {
    "collapsed": true
   },
   "outputs": [],
   "source": [
    "#uses DotProduct_Systolic - v1.1x\n",
    "#uses RegisteredMultiplier  - v1.0x\n",
    "#uses AdderTree - v1.2x"
   ]
  },
  {
   "cell_type": "code",
   "execution_count": 40,
   "metadata": {
    "collapsed": true
   },
   "outputs": [],
   "source": [
    "import sys\n",
    "import math"
   ]
  },
  {
   "cell_type": "code",
   "execution_count": 41,
   "metadata": {
    "collapsed": false
   },
   "outputs": [
    {
     "name": "stdout",
     "output_type": "stream",
     "text": [
      "Enter N: 30\n"
     ]
    }
   ],
   "source": [
    "#N>=2\n",
    "N = input('Enter N: ')"
   ]
  },
  {
   "cell_type": "code",
   "execution_count": 42,
   "metadata": {
    "collapsed": true
   },
   "outputs": [],
   "source": [
    "N = int(N)\n",
    "if(N<2):\n",
    "    N=2"
   ]
  },
  {
   "cell_type": "code",
   "execution_count": 43,
   "metadata": {
    "collapsed": false,
    "scrolled": true
   },
   "outputs": [
    {
     "name": "stdout",
     "output_type": "stream",
     "text": [
      "Enter Multiply-Add Max Component Size (>=2, <= 29, empty for 2): 12\n"
     ]
    }
   ],
   "source": [
    "#MAMCS>=2\n",
    "MAMCS = input('Enter Multiply-Add Max Component Size (>=2, <= {}, empty for 2): '.format(N-1))"
   ]
  },
  {
   "cell_type": "code",
   "execution_count": 44,
   "metadata": {
    "collapsed": false
   },
   "outputs": [
    {
     "name": "stdout",
     "output_type": "stream",
     "text": [
      "Enter maximum size allowed for base adders (empty for 2): 3\n"
     ]
    }
   ],
   "source": [
    "#AdderSize>=2\n",
    "AdderSize = input('Enter maximum size allowed for base adders (empty for 2): ')"
   ]
  },
  {
   "cell_type": "code",
   "execution_count": 45,
   "metadata": {
    "collapsed": false
   },
   "outputs": [
    {
     "name": "stdout",
     "output_type": "stream",
     "text": [
      "Enter IN_WIDTH Default Value (empty for 10): \n"
     ]
    }
   ],
   "source": [
    "#IN_WIDTH>=1\n",
    "IN_WIDTH = input('Enter IN_WIDTH Default Value (empty for 10): ')"
   ]
  },
  {
   "cell_type": "code",
   "execution_count": 46,
   "metadata": {
    "collapsed": false
   },
   "outputs": [
    {
     "name": "stdout",
     "output_type": "stream",
     "text": [
      "Enter INPUT_REG_DEPTH Default Value (empty for 1): \n"
     ]
    }
   ],
   "source": [
    "#INPUT_REG_DEPTH>=0\n",
    "INPUT_REG_DEPTH = input('Enter INPUT_REG_DEPTH Default Value (empty for 1): ')"
   ]
  },
  {
   "cell_type": "code",
   "execution_count": 47,
   "metadata": {
    "collapsed": false
   },
   "outputs": [
    {
     "name": "stdout",
     "output_type": "stream",
     "text": [
      "Enter MULT_PIPE_DEPTH Default Value (empty for 1): \n"
     ]
    }
   ],
   "source": [
    "#MULT_PIPE_DEPTH>=0\n",
    "MULT_PIPE_DEPTH = input('Enter MULT_PIPE_DEPTH Default Value (empty for 1): ')"
   ]
  },
  {
   "cell_type": "code",
   "execution_count": 48,
   "metadata": {
    "collapsed": false
   },
   "outputs": [],
   "source": [
    "if (not MAMCS):\n",
    "    MAMCS = N-1\n",
    "else:\n",
    "    MAMCS = int(MAMCS)\n",
    "if MAMCS>=(N-1):\n",
    "    MAMCS = N-1\n",
    "    NumOfMaxSizeComponents=1\n",
    "    NonMaxSizeComponentSize=1;\n",
    "else:\n",
    "    if(MAMCS<2):\n",
    "        MAMCS=2\n",
    "    NumOfMaxSizeComponents = math.floor(N/MAMCS)\n",
    "    if (N/MAMCS) == NumOfMaxSizeComponents:\n",
    "        NonMaxSizeComponentSize=0\n",
    "    else:\n",
    "        NonMaxSizeComponentSize = N - MAMCS*NumOfMaxSizeComponents\n",
    "NumOfComponents = NumOfMaxSizeComponents + (NonMaxSizeComponentSize!=0)\n",
    "\n",
    "if not AdderSize:\n",
    "    AdderSize=2\n",
    "else:\n",
    "    AdderSize = int(AdderSize)\n",
    "    if AdderSize<2:\n",
    "        AdderSize=2\n",
    "    if AdderSize>NumOfComponents:\n",
    "        AdderSize=NumOfComponents\n",
    "\n",
    "if not IN_WIDTH:\n",
    "    IN_WIDTH=10\n",
    "else:\n",
    "    IN_WIDTH = int(IN_WIDTH)\n",
    "    if(IN_WIDTH<1):\n",
    "        IN_WIDTH=1\n",
    "\n",
    "if not INPUT_REG_DEPTH:\n",
    "    INPUT_REG_DEPTH=1\n",
    "else:\n",
    "    INPUT_REG_DEPTH = int(INPUT_REG_DEPTH)\n",
    "    if(INPUT_REG_DEPTH<0):\n",
    "        INPUT_REG_DEPTH=0\n",
    "\n",
    "if not MULT_PIPE_DEPTH:\n",
    "    MULT_PIPE_DEPTH=1\n",
    "else:\n",
    "    MULT_PIPE_DEPTH = int(MULT_PIPE_DEPTH)\n",
    "    if(MULT_PIPE_DEPTH<0):\n",
    "        MULT_PIPE_DEPTH=0"
   ]
  },
  {
   "cell_type": "code",
   "execution_count": 49,
   "metadata": {
    "collapsed": true
   },
   "outputs": [],
   "source": [
    "NonMaxSizeComponent_Mult_Register_Before = 1; #1: before 0:after\n",
    "NonMaxSizeComponent_Size2up_Register_Before = 0; #1: before 0:after"
   ]
  },
  {
   "cell_type": "code",
   "execution_count": null,
   "metadata": {
    "collapsed": true
   },
   "outputs": [],
   "source": [
    "ModuleName = \"DotProduct_{}_noHR_C{}_A{}\".format(N, MAMCS, AdderSize)"
   ]
  },
  {
   "cell_type": "code",
   "execution_count": 50,
   "metadata": {
    "collapsed": false
   },
   "outputs": [],
   "source": [
    "__Print_To_File = 0\n",
    "\n",
    "if __Print_To_File<=0:\n",
    "    of=sys.stdout\n",
    "else:\n",
    "    of=open(\"./\"+ModuleName+\".v\".format(N, MAMCS, AdderSize), 'w+')"
   ]
  },
  {
   "cell_type": "code",
   "execution_count": 51,
   "metadata": {
    "collapsed": false
   },
   "outputs": [
    {
     "name": "stdout",
     "output_type": "stream",
     "text": [
      "`timescale 1ns / 1ps\n",
      "\n",
      "module DotProduct_30_noHR_C12_A3\n",
      "#(\n",
      "parameter IN_WIDTH = 10,\n",
      "parameter INPUT_REG_DEPTH = 1,\n",
      "parameter MULT_PIPE_DEPTH = 1\n",
      ")(\n",
      "input clk, reset, enable,\n",
      "input inReady,\n",
      "input signed [IN_WIDTH-1:0] A0, A1, A2, A3, A4, A5, A6, A7, A8, A9, A10, A11, A12, A13, A14, A15, A16, A17, A18, A19, A20, A21, A22, A23, A24, A25, A26, A27, A28, A29, \n",
      "input signed [IN_WIDTH-1:0] B0, B1, B2, B3, B4, B5, B6, B7, B8, B9, B10, B11, B12, B13, B14, B15, B16, B17, B18, B19, B20, B21, B22, B23, B24, B25, B26, B27, B28, B29, \n",
      "output outReady,\n",
      "output signed [(2*IN_WIDTH)+4:0] DP,\n",
      "output earlyOutReady\n",
      ");\n",
      "\n"
     ]
    }
   ],
   "source": [
    "print(\"`timescale 1ns / 1ps\\n\", file=of)\n",
    "print(\"module \"+ModuleName, file=of)\n",
    "print(\"#(\", file=of)\n",
    "print(\"parameter IN_WIDTH = {},\".format(IN_WIDTH), file=of)\n",
    "print(\"parameter INPUT_REG_DEPTH = {},\".format(INPUT_REG_DEPTH), file=of)\n",
    "print(\"parameter MULT_PIPE_DEPTH = {}\".format(MULT_PIPE_DEPTH), file=of)\n",
    "print(\")(\", file=of)\n",
    "print(\"input clk, reset, enable,\", file=of)\n",
    "print(\"input inReady,\", file=of)\n",
    "print(\"input signed [IN_WIDTH-1:0] \", end='', file=of)\n",
    "for i in range(N):\n",
    "    print(\"A{}, \".format(i), end='', file=of)\n",
    "print(file=of)\n",
    "print(\"input signed [IN_WIDTH-1:0] \", end='', file=of)\n",
    "for i in range(N):\n",
    "    print(\"B{}, \".format(i), end='', file=of)\n",
    "print(file=of)\n",
    "print(\"output outReady,\", file=of)\n",
    "lgn=math.ceil(math.log2(N)) #>=1\n",
    "al=-1+lgn #>=0\n",
    "if al==0:\n",
    "    print(\"output signed [2*IN_WIDTH:0] DP,\", file=of)\n",
    "else:\n",
    "    print(\"output signed [(2*IN_WIDTH)+{}:0] DP,\".format(al), file=of)\n",
    "print(\"output earlyOutReady\", file=of)\n",
    "print(\");\\n\", file=of)"
   ]
  },
  {
   "cell_type": "code",
   "execution_count": 52,
   "metadata": {
    "collapsed": false
   },
   "outputs": [
    {
     "name": "stdout",
     "output_type": "stream",
     "text": [
      "wire DPOutReady;\n",
      "wire signed [(2*IN_WIDTH)+3:0] DPpart0;\n",
      "DotProduct_Systolic_12#( .IN_WIDTH(IN_WIDTH), .INPUT_REG_DEPTH(INPUT_REG_DEPTH), .MULT_PIPE_DEPTH(MULT_PIPE_DEPTH) )\n",
      "\tDPS12_0(clk, reset, enable,\n",
      "\tinReady,\n",
      "\tA0, A1, A2, A3, A4, A5, A6, A7, A8, A9, A10, A11, \n",
      "\tB0, B1, B2, B3, B4, B5, B6, B7, B8, B9, B10, B11, \n",
      "\tDPOutReady,\n",
      "\tDPpart0,\n",
      "\tDPEarlyOutReady0); //not used\n",
      "\n",
      "wire signed [(2*IN_WIDTH)+3:0] DPpart1;\n",
      "DotProduct_Systolic_12#( .IN_WIDTH(IN_WIDTH), .INPUT_REG_DEPTH(INPUT_REG_DEPTH), .MULT_PIPE_DEPTH(MULT_PIPE_DEPTH) )\n",
      "\tDPS12_1(clk, reset, enable,\n",
      "\tinReady,\n",
      "\tA12, A13, A14, A15, A16, A17, A18, A19, A20, A21, A22, A23, \n",
      "\tB12, B13, B14, B15, B16, B17, B18, B19, B20, B21, B22, B23, \n",
      "\tDPOutReady1, //not used\n",
      "\tDPpart1,\n",
      "\tDPEarlyOutReady1); //not used\n",
      "\n"
     ]
    }
   ],
   "source": [
    "lgMAMCS=math.ceil(math.log2(MAMCS)) #>=1\n",
    "palM=lgMAMCS-1 #>=0\n",
    "print(\"wire DPOutReady;\", file=of)\n",
    "for i in range (NumOfMaxSizeComponents):\n",
    "    if palM==0:\n",
    "        print(\"wire signed [(2*IN_WIDTH):0] DPpart{};\".format(i), file=of)\n",
    "    else:\n",
    "        print(\"wire signed [(2*IN_WIDTH)+{}:0] DPpart{};\".format(palM, i), file=of)\n",
    "    print(\"DotProduct_Systolic_{}#( .IN_WIDTH(IN_WIDTH), .INPUT_REG_DEPTH(INPUT_REG_DEPTH), .MULT_PIPE_DEPTH(MULT_PIPE_DEPTH) )\".format(MAMCS), file=of)\n",
    "    print(\"\\tDPS{}_{}(clk, reset, enable,\".format(MAMCS, i), file=of)\n",
    "    print(\"\\tinReady,\", file=of)\n",
    "    print(\"\\t\", end='', file=of)\n",
    "    for j in range(MAMCS):\n",
    "        print(\"A{}, \".format(MAMCS*i+j), end='', file=of)\n",
    "    print(file=of)\n",
    "    print(\"\\t\", end='', file=of)\n",
    "    for j in range(MAMCS):\n",
    "        print(\"B{}, \".format(MAMCS*i+j), end='', file=of)\n",
    "    print(file=of)\n",
    "    if i==0:\n",
    "        print(\"\\tDPOutReady,\", file=of)\n",
    "    else:\n",
    "        print(\"\\tDPOutReady{}, //not used\".format(i), file=of)\n",
    "    print(\"\\tDPpart{},\".format(i), file=of)\n",
    "    print(\"\\tDPEarlyOutReady{}); //not used\\n\".format(i), file=of)"
   ]
  },
  {
   "cell_type": "code",
   "execution_count": 53,
   "metadata": {
    "collapsed": false
   },
   "outputs": [],
   "source": [
    "if NonMaxSizeComponentSize==1:\n",
    "    palN = -1;\n",
    "    print(\"wire signed [(2*IN_WIDTH)-1:0] DPpart{};\".format(NumOfMaxSizeComponents), file=of)\n",
    "    print(\"RegisteredMultiplier #(.IN_WIDTH(IN_WIDTH),\", file=of)\n",
    "    print(\".INPUT_REG_DEPTH(INPUT_REG_DEPTH\", end='', file=of)\n",
    "    if NonMaxSizeComponent_Mult_Register_Before>0:\n",
    "        print(\"+{}\".format(MAMCS-1), end='', file=of)\n",
    "    print(\"),\", file=of)\n",
    "    print(\".MULT_PIPE_DEPTH(MULT_PIPE_DEPTH\", end='', file=of)\n",
    "    if NonMaxSizeComponent_Mult_Register_Before<=0:\n",
    "        #has OR, currently not SRL optimized, can use method for NonMaxSizeComponentSize>1\n",
    "        print(\"+{}\".format(MAMCS-1), end='', file=of)\n",
    "    print(\"))\", file=of)\n",
    "    print(\"M{}(clk, reset, enable,\".format(NumOfMaxSizeComponents), file=of)\n",
    "    print(\"inReady,\", file=of)\n",
    "    print(\"A{}, B{},\".format(MAMCS*NumOfMaxSizeComponents, MAMCS*NumOfMaxSizeComponents), file=of)\n",
    "    print(\"MOR{}, //not used\".format(NumOfMaxSizeComponents), file=of)\n",
    "    print(\"DPpart{},\".format(NumOfMaxSizeComponents), file=of)\n",
    "    print(\"eMOR{}); //not used\".format(NumOfMaxSizeComponents), file=of)\n",
    "    print(file=of)"
   ]
  },
  {
   "cell_type": "code",
   "execution_count": 54,
   "metadata": {
    "collapsed": false,
    "scrolled": true
   },
   "outputs": [
    {
     "name": "stdout",
     "output_type": "stream",
     "text": [
      "wire signed [(2*IN_WIDTH)+2:0] DPpart2;\n",
      "DotProduct_Systolic_6#( .IN_WIDTH(IN_WIDTH), .INPUT_REG_DEPTH(INPUT_REG_DEPTH), .MULT_PIPE_DEPTH(MULT_PIPE_DEPTH) )\n",
      "\tDPS6(clk, reset, enable,\n",
      "\tinReady,\n",
      "\tA24, A25, A26, A27, A28, A29, \n",
      "\tB24, B25, B26, B27, B28, B29, \n",
      "\tDPOutReady2, //not used\n",
      "\tDPpart2,\n",
      "\tDPEarlyOutReady2); //not used\n",
      "\n",
      "reg signed [(2*IN_WIDTH)+2:0] DPpart2R [1:6];\n",
      "integer i;\n",
      "always @(posedge clk) begin\n",
      "\tif(reset) begin\n",
      "\t\t//Do Nothing\n",
      "\tend\n",
      "\telse if(enable) begin\n",
      "\t\tDPpart2R[1] <= DPpart2;\n",
      "\t\tfor(i=1;i<6;i=i+1) begin\n",
      "\t\t\tDPpart2R[i+1] <= DPpart2R[i];\n",
      "\t\tend\n",
      "\tend\n",
      "end\n",
      "\n"
     ]
    }
   ],
   "source": [
    "if NonMaxSizeComponentSize>1:\n",
    "    LGNonMaxSizeComponentSize=math.ceil(math.log2(NonMaxSizeComponentSize)) #>=1\n",
    "    palN=LGNonMaxSizeComponentSize-1 #>=0\n",
    "    if palN==0:\n",
    "        print(\"wire signed [2*IN_WIDTH:0] DPpart{};\".format(NumOfMaxSizeComponents), file=of)\n",
    "    else:\n",
    "        print(\"wire signed [(2*IN_WIDTH)+{}:0] DPpart{};\".format(palN, NumOfMaxSizeComponents), file=of)\n",
    "    arn = MAMCS-NonMaxSizeComponentSize #>=1\n",
    "    print(\"DotProduct_Systolic_{}#( .IN_WIDTH(IN_WIDTH), .INPUT_REG_DEPTH(INPUT_REG_DEPTH\".format(NonMaxSizeComponentSize), end='', file=of)\n",
    "    if NonMaxSizeComponent_Size2up_Register_Before>0:\n",
    "        print(\"+{}\".format(arn), end='', file=of)\n",
    "    print(\"), .MULT_PIPE_DEPTH(MULT_PIPE_DEPTH) )\", file=of)\n",
    "    print(\"\\tDPS{}(clk, reset, enable,\".format(NonMaxSizeComponentSize), file=of)\n",
    "    print(\"\\tinReady,\", file=of)\n",
    "    print(\"\\t\", end='', file=of)\n",
    "    for j in range(NonMaxSizeComponentSize):\n",
    "        print(\"A{}, \".format(MAMCS*NumOfMaxSizeComponents+j), end='', file=of)\n",
    "    print(file=of)\n",
    "    print(\"\\t\", end='', file=of)\n",
    "    for j in range(NonMaxSizeComponentSize):\n",
    "        print(\"B{}, \".format(MAMCS*NumOfMaxSizeComponents+j), end='', file=of)\n",
    "    print(file=of)\n",
    "    print(\"\\tDPOutReady{}, //not used\".format(NumOfMaxSizeComponents), file=of)\n",
    "    print(\"\\tDPpart{},\".format(NumOfMaxSizeComponents), file=of)\n",
    "    print(\"\\tDPEarlyOutReady{}); //not used\\n\".format(NumOfMaxSizeComponents), file=of)\n",
    "    \n",
    "    if NonMaxSizeComponent_Size2up_Register_Before<=0:\n",
    "        #no OR, SRL optimized\n",
    "        if palN==0:\n",
    "            print(\"reg signed [2*IN_WIDTH:0] DPpart{}R [1:{}];\".format(NumOfMaxSizeComponents, arn), file=of)\n",
    "        else:\n",
    "            print(\"reg signed [(2*IN_WIDTH)+{}:0] DPpart{}R [1:{}];\".format(palN, NumOfMaxSizeComponents, arn), file=of)\n",
    "        if arn>2:\n",
    "            print(\"integer i;\", file=of)\n",
    "        print(\"always @(posedge clk) begin\", file=of)\n",
    "        print(\"\\tif(reset) begin\", file=of)\n",
    "        print(\"\\t\\t//Do Nothing\", file=of)\n",
    "        print(\"\\tend\", file=of)\n",
    "        print(\"\\telse if(enable) begin\", file=of)\n",
    "        print(\"\\t\\tDPpart{}R[1] <= DPpart{};\".format(NumOfMaxSizeComponents, NumOfMaxSizeComponents), file=of)\n",
    "        if arn==2:\n",
    "            print(\"\\t\\tDPpart{}R[2] <= DPpart{}R[1];\".format(NumOfMaxSizeComponents, NumOfMaxSizeComponents), file=of)\n",
    "        elif arn>2:\n",
    "            print(\"\\t\\tfor(i=1;i<{};i=i+1) begin\".format(arn), file=of)\n",
    "            print(\"\\t\\t\\tDPpart{}R[i+1] <= DPpart{}R[i];\".format(NumOfMaxSizeComponents, NumOfMaxSizeComponents), file=of)\n",
    "            print(\"\\t\\tend\", file=of)\n",
    "        print(\"\\tend\", file=of)\n",
    "        print(\"end\", file=of)\n",
    "\n",
    "    print(file=of)"
   ]
  },
  {
   "cell_type": "code",
   "execution_count": 55,
   "metadata": {
    "collapsed": false
   },
   "outputs": [
    {
     "name": "stdout",
     "output_type": "stream",
     "text": [
      "wire signed [(2*IN_WIDTH)+3:0] DPpart2E = {{1{DPpart2R[6][(2*IN_WIDTH)+2]}},DPpart2R[6]};\n",
      "\n"
     ]
    }
   ],
   "source": [
    "if NonMaxSizeComponentSize>=1:\n",
    "    PalD = palM-palN #>=0\n",
    "else:\n",
    "    PalD = 0\n",
    "\n",
    "if PalD>0: #sign extention needed\n",
    "    if palM==0:\n",
    "        print(\"wire signed [(2*IN_WIDTH):0] DPpart{}E = \".format(NumOfMaxSizeComponents), end='', file=of)    \n",
    "    else:\n",
    "        print(\"wire signed [(2*IN_WIDTH)+{}:0] DPpart{}E = \".format(palM, NumOfMaxSizeComponents), end='', file=of)\n",
    "    print(\"{{{{{}{{DPpart{}\".format(PalD, NumOfMaxSizeComponents), end='', file=of) \n",
    "    if NonMaxSizeComponentSize>1 and NonMaxSizeComponent_Size2up_Register_Before<=0:\n",
    "        print(\"R[{}]\".format(arn), end='', file=of)\n",
    "    if palN==-1:\n",
    "        print(\"[(2*IN_WIDTH)-1]}}\", end='', file=of)                \n",
    "    elif palN==0:\n",
    "        print(\"[(2*IN_WIDTH)]}}\", end='', file=of)    \n",
    "    else:\n",
    "        print(\"[(2*IN_WIDTH)+{}]}}}}\".format(palN), end='', file=of)    \n",
    "    print(\",DPpart{}\".format(NumOfMaxSizeComponents), end='', file=of)\n",
    "    if NonMaxSizeComponentSize>1 and NonMaxSizeComponent_Size2up_Register_Before<=0:\n",
    "        print(\"R[{}]\".format(arn), end='', file=of)\n",
    "    print(\"};\", file=of)\n",
    "    print(file=of)"
   ]
  },
  {
   "cell_type": "code",
   "execution_count": 56,
   "metadata": {
    "collapsed": false
   },
   "outputs": [
    {
     "name": "stdout",
     "output_type": "stream",
     "text": [
      "AdderTree_3_A3#( .IN_WIDTH((2*IN_WIDTH)+4) )\n",
      "\tAT(clk, reset, enable, DPOutReady,\n",
      "\tDPpart0, DPpart1, DPpart2E,\n",
      "\toutReady, DP, earlyOutReady);\n",
      "\n"
     ]
    }
   ],
   "source": [
    "print(\"AdderTree_{}_A{}#( .IN_WIDTH((2*IN_WIDTH)+{}) )\".format(NumOfComponents, AdderSize, lgMAMCS), file=of)\n",
    "print(\"\\tAT(clk, reset, enable, DPOutReady,\", file=of)\n",
    "print(\"\\t\", end='', file=of)\n",
    "for i in range(NumOfMaxSizeComponents):\n",
    "    print(\"DPpart{}, \".format(i), end='', file=of)\n",
    "if NonMaxSizeComponentSize!=0:\n",
    "    print(\"DPpart{}\".format(NumOfMaxSizeComponents), end='', file=of)\n",
    "    if PalD>0:\n",
    "        print(\"E\", end='', file=of)\n",
    "    elif NonMaxSizeComponentSize>1 and NonMaxSizeComponent_Size2up_Register_Before<=0:\n",
    "        print(\"R[{}]\".format(arn), end='', file=of)\n",
    "    print(\",\", end='', file=of)\n",
    "print(\"\\n\\toutReady, DP, earlyOutReady);\\n\", file=of)"
   ]
  },
  {
   "cell_type": "code",
   "execution_count": 57,
   "metadata": {
    "collapsed": false
   },
   "outputs": [
    {
     "name": "stdout",
     "output_type": "stream",
     "text": [
      "endmodule\n"
     ]
    }
   ],
   "source": [
    "print(\"endmodule\", file=of)"
   ]
  },
  {
   "cell_type": "code",
   "execution_count": 58,
   "metadata": {
    "collapsed": true
   },
   "outputs": [],
   "source": [
    "if __Print_To_File>0:\n",
    "    of.close()"
   ]
  }
 ],
 "metadata": {
  "kernelspec": {
   "display_name": "Python 3",
   "language": "python",
   "name": "python3"
  },
  "language_info": {
   "codemirror_mode": {
    "name": "ipython",
    "version": 3
   },
   "file_extension": ".py",
   "mimetype": "text/x-python",
   "name": "python",
   "nbconvert_exporter": "python",
   "pygments_lexer": "ipython3",
   "version": "3.5.1"
  }
 },
 "nbformat": 4,
 "nbformat_minor": 0
}
