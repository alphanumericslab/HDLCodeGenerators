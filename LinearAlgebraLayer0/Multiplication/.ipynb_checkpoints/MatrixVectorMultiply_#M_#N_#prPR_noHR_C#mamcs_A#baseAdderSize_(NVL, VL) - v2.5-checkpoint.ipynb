{
 "cells": [
  {
   "cell_type": "code",
   "execution_count": 7,
   "metadata": {},
   "outputs": [],
   "source": [
    "#uses DotProduct_Systolic_#N - v1.1x\n",
    "#uses DotProduct_#N_noHR_C#mamcs_A#baseAdderSize - v3.7\n",
    "#uses DotProduct_#N_noHR_M_A#baseAdderSize - v3.7\n",
    "#uses RegisteredMultiplier  - v1.0x"
   ]
  },
  {
   "cell_type": "code",
   "execution_count": 8,
   "metadata": {},
   "outputs": [],
   "source": [
    "import sys\n",
    "import math"
   ]
  },
  {
   "cell_type": "code",
   "execution_count": 9,
   "metadata": {},
   "outputs": [
    {
     "name": "stdout",
     "output_type": "stream",
     "text": [
      "Enter M: 10\n"
     ]
    }
   ],
   "source": [
    "#M>=1\n",
    "M = input('Enter M: ')"
   ]
  },
  {
   "cell_type": "code",
   "execution_count": 10,
   "metadata": {},
   "outputs": [
    {
     "name": "stdout",
     "output_type": "stream",
     "text": [
      "Enter N: 12\n"
     ]
    }
   ],
   "source": [
    "#N>=1\n",
    "N = input('Enter N: ')"
   ]
  },
  {
   "cell_type": "code",
   "execution_count": 11,
   "metadata": {},
   "outputs": [
    {
     "name": "stdout",
     "output_type": "stream",
     "text": [
      "Enter No Of Parallel Row (empty for 1): 10\n"
     ]
    }
   ],
   "source": [
    "#>=1, <=M\n",
    "PR = input('Enter No Of Parallel Row (empty for 1): ')"
   ]
  },
  {
   "cell_type": "code",
   "execution_count": 12,
   "metadata": {},
   "outputs": [],
   "source": [
    "M = int(M)\n",
    "if(M<1):\n",
    "    M=1\n",
    "\n",
    "N = int(N)\n",
    "if(N<1):\n",
    "    N=1\n",
    "\n",
    "if not PR:\n",
    "    PR=1\n",
    "else:\n",
    "    PR = int(PR)\n",
    "    if PR>M:\n",
    "        PR = M"
   ]
  },
  {
   "cell_type": "code",
   "execution_count": 13,
   "metadata": {},
   "outputs": [
    {
     "name": "stdout",
     "output_type": "stream",
     "text": [
      "Enter Multiply-Add Max Component Size (empty for 12): \n"
     ]
    }
   ],
   "source": [
    "#MAMCS>=1\n",
    "MAMCS = input('Enter Multiply-Add Max Component Size (empty for {}): '.format(N))"
   ]
  },
  {
   "cell_type": "code",
   "execution_count": 14,
   "metadata": {},
   "outputs": [],
   "source": [
    "if not MAMCS:\n",
    "    MAMCS = N\n",
    "else:\n",
    "    MAMCS = int(MAMCS)\n",
    "    if MAMCS>N:\n",
    "        MAMCS = N;\n",
    "    elif(MAMCS<1):\n",
    "        MAMCS=1"
   ]
  },
  {
   "cell_type": "code",
   "execution_count": 15,
   "metadata": {},
   "outputs": [],
   "source": [
    "#AdderSize>=2\n",
    "if MAMCS<N:\n",
    "    AdderSize = input('Enter maximum size allowed for base adders (empty for 2): ')"
   ]
  },
  {
   "cell_type": "code",
   "execution_count": 16,
   "metadata": {},
   "outputs": [],
   "source": [
    "RS=math.ceil(M/PR)"
   ]
  },
  {
   "cell_type": "code",
   "execution_count": 17,
   "metadata": {},
   "outputs": [],
   "source": [
    "if RS>1:\n",
    "    Enable_Vector_Latch = input('Enable Vector Latch? (empty or 0 to disable, 1 to enable): ')"
   ]
  },
  {
   "cell_type": "code",
   "execution_count": 18,
   "metadata": {},
   "outputs": [
    {
     "name": "stdout",
     "output_type": "stream",
     "text": [
      "Enter IN_WIDTH default value (empty for 10): 16\n"
     ]
    }
   ],
   "source": [
    "#IN_WIDTH>=1\n",
    "IN_WIDTH = input('Enter IN_WIDTH default value (empty for 10): ')"
   ]
  },
  {
   "cell_type": "code",
   "execution_count": 19,
   "metadata": {},
   "outputs": [
    {
     "name": "stdout",
     "output_type": "stream",
     "text": [
      "Enter INPUT_REG_DEPTH default value (empty for 1): \n"
     ]
    }
   ],
   "source": [
    "#INPUT_REG_DEPTH>=0\n",
    "INPUT_REG_DEPTH = input('Enter INPUT_REG_DEPTH default value (empty for 1): ')"
   ]
  },
  {
   "cell_type": "code",
   "execution_count": 20,
   "metadata": {},
   "outputs": [
    {
     "name": "stdout",
     "output_type": "stream",
     "text": [
      "Enter MULT_PIPE_DEPTH default value (empty for 1): \n"
     ]
    }
   ],
   "source": [
    "#MULT_PIPE_DEPTH>=0\n",
    "MULT_PIPE_DEPTH = input('Enter MULT_PIPE_DEPTH default value (empty for 1): ')"
   ]
  },
  {
   "cell_type": "code",
   "execution_count": 21,
   "metadata": {},
   "outputs": [],
   "source": [
    "NumOfComponents = math.ceil(N/MAMCS)\n",
    "if MAMCS==N:\n",
    "    AdderSize=0\n",
    "else:\n",
    "    if not AdderSize:\n",
    "        AdderSize=2\n",
    "    else:\n",
    "        AdderSize = int(AdderSize)\n",
    "        if AdderSize<2:\n",
    "            AdderSize=2\n",
    "        if AdderSize>NumOfComponents:\n",
    "            AdderSize=NumOfComponents\n",
    "\n",
    "if RS==1:\n",
    "    Enable_Vector_Latch = 0;\n",
    "else:\n",
    "    if not Enable_Vector_Latch:\n",
    "        Enable_Vector_Latch = 0\n",
    "    else:\n",
    "        Enable_Vector_Latch = int(Enable_Vector_Latch)\n",
    "\n",
    "if not IN_WIDTH:\n",
    "    IN_WIDTH=10\n",
    "else:\n",
    "    IN_WIDTH = int(IN_WIDTH)\n",
    "    if(IN_WIDTH<1):\n",
    "        IN_WIDTH=1\n",
    "\n",
    "if not INPUT_REG_DEPTH:\n",
    "    INPUT_REG_DEPTH=1\n",
    "else:\n",
    "    INPUT_REG_DEPTH = int(INPUT_REG_DEPTH)\n",
    "    if(INPUT_REG_DEPTH<0):\n",
    "        INPUT_REG_DEPTH=0\n",
    "\n",
    "if not MULT_PIPE_DEPTH:\n",
    "    MULT_PIPE_DEPTH=1\n",
    "else:\n",
    "    MULT_PIPE_DEPTH = int(MULT_PIPE_DEPTH)\n",
    "    if(MULT_PIPE_DEPTH<0):\n",
    "        MULT_PIPE_DEPTH=0"
   ]
  },
  {
   "cell_type": "code",
   "execution_count": 22,
   "metadata": {},
   "outputs": [],
   "source": [
    "__Print_To_File = 1\n",
    "\n",
    "if __Print_To_File<=0:\n",
    "    of=sys.stdout\n",
    "else:\n",
    "    if Enable_Vector_Latch>0:\n",
    "        of=open(\"./MatrixVectorMultiply_{}_{}_{}PR_noHR_C{}_A{}_VL.v\".format(M, N, PR, MAMCS, AdderSize), 'w+')\n",
    "    else:\n",
    "        of=open(\"./MatrixVectorMultiply_{}_{}_{}PR_noHR_C{}_A{}_NVL.v\".format(M, N, PR, MAMCS, AdderSize), 'w+')"
   ]
  },
  {
   "cell_type": "code",
   "execution_count": 23,
   "metadata": {
    "scrolled": true
   },
   "outputs": [
    {
     "name": "stdout",
     "output_type": "stream",
     "text": [
      "`timescale 1ns / 1ps\n",
      "\n",
      "module MatrixVectorMultiply_10_12_10PR_noHR_C12_A0_NVL\n",
      "#(\n",
      "parameter IN_WIDTH = 16,\n",
      "parameter INPUT_REG_DEPTH = 1,\n",
      "parameter MULT_PIPE_DEPTH = 1\n",
      ")(\n",
      "input clk, reset, enable,\n",
      "output reg rowSetInNo = 0,\n",
      "input inReady,\n",
      "input signed [IN_WIDTH-1:0] AE0R0, AE1R0, AE2R0, AE3R0, AE4R0, AE5R0, AE6R0, AE7R0, AE8R0, AE9R0, AE10R0, AE11R0, \n",
      "input signed [IN_WIDTH-1:0] AE0R1, AE1R1, AE2R1, AE3R1, AE4R1, AE5R1, AE6R1, AE7R1, AE8R1, AE9R1, AE10R1, AE11R1, \n",
      "input signed [IN_WIDTH-1:0] AE0R2, AE1R2, AE2R2, AE3R2, AE4R2, AE5R2, AE6R2, AE7R2, AE8R2, AE9R2, AE10R2, AE11R2, \n",
      "input signed [IN_WIDTH-1:0] AE0R3, AE1R3, AE2R3, AE3R3, AE4R3, AE5R3, AE6R3, AE7R3, AE8R3, AE9R3, AE10R3, AE11R3, \n",
      "input signed [IN_WIDTH-1:0] AE0R4, AE1R4, AE2R4, AE3R4, AE4R4, AE5R4, AE6R4, AE7R4, AE8R4, AE9R4, AE10R4, AE11R4, \n",
      "input signed [IN_WIDTH-1:0] AE0R5, AE1R5, AE2R5, AE3R5, AE4R5, AE5R5, AE6R5, AE7R5, AE8R5, AE9R5, AE10R5, AE11R5, \n",
      "input signed [IN_WIDTH-1:0] AE0R6, AE1R6, AE2R6, AE3R6, AE4R6, AE5R6, AE6R6, AE7R6, AE8R6, AE9R6, AE10R6, AE11R6, \n",
      "input signed [IN_WIDTH-1:0] AE0R7, AE1R7, AE2R7, AE3R7, AE4R7, AE5R7, AE6R7, AE7R7, AE8R7, AE9R7, AE10R7, AE11R7, \n",
      "input signed [IN_WIDTH-1:0] AE0R8, AE1R8, AE2R8, AE3R8, AE4R8, AE5R8, AE6R8, AE7R8, AE8R8, AE9R8, AE10R8, AE11R8, \n",
      "input signed [IN_WIDTH-1:0] AE0R9, AE1R9, AE2R9, AE3R9, AE4R9, AE5R9, AE6R9, AE7R9, AE8R9, AE9R9, AE10R9, AE11R9, \n",
      "input signed [IN_WIDTH-1:0] VE0, VE1, VE2, VE3, VE4, VE5, VE6, VE7, VE8, VE9, VE10, VE11, \n",
      "output E0toE9Ready,\n",
      "output reg NUCReady = 0, //not used\n",
      "output reg rowSetOutNo = 0,\n",
      "output signed [(2*IN_WIDTH)+3:0] E0, E1, E2, E3, E4, E5, E6, E7, E8, E9, \n",
      "output earlyE0toE9Ready,\n",
      "output reg NUearlyCReady = 0 //not used\n",
      ");\n",
      "\n"
     ]
    }
   ],
   "source": [
    "print(\"`timescale 1ns / 1ps\\n\", file=of)\n",
    "if Enable_Vector_Latch>0:\n",
    "    print(\"module MatrixVectorMultiply_{}_{}_{}PR_noHR_C{}_A{}_VL\".format(M, N, PR, MAMCS, AdderSize), file=of)\n",
    "else:\n",
    "    print(\"module MatrixVectorMultiply_{}_{}_{}PR_noHR_C{}_A{}_NVL\".format(M, N, PR, MAMCS, AdderSize), file=of)\n",
    "print(\"#(\", file=of)\n",
    "print(\"parameter IN_WIDTH = {},\".format(IN_WIDTH), file=of)\n",
    "print(\"parameter INPUT_REG_DEPTH = {},\".format(INPUT_REG_DEPTH), file=of)\n",
    "print(\"parameter MULT_PIPE_DEPTH = {}\".format(MULT_PIPE_DEPTH), file=of)\n",
    "print(\")(\", file=of)\n",
    "print(\"input clk, reset, enable,\", file=of)\n",
    "lgRS=math.ceil(math.log2(RS))\n",
    "if lgRS<=1:\n",
    "    print(\"output reg rowSetInNo = 0,\", file=of)\n",
    "else:\n",
    "    print(\"output reg [{}:0] rowSetInNo = 0,\".format(lgRS-1), file=of)\n",
    "print(\"input inReady,\", file=of)\n",
    "for j in range(PR):\n",
    "    print(\"input signed [IN_WIDTH-1:0] \", end='', file=of)\n",
    "    for i in range(N):\n",
    "        print(\"AE{}R{}, \".format(i, j), end='', file=of)\n",
    "    print(file=of)\n",
    "print(\"input signed [IN_WIDTH-1:0] \", end='', file=of)\n",
    "for i in range(N):\n",
    "    print(\"VE{}, \".format(i), end='', file=of)\n",
    "print(file=of)\n",
    "ar=RS*PR-M\n",
    "ME = PR-ar-1\n",
    "if ME==0:\n",
    "    st1=\"E0\"\n",
    "else:\n",
    "    st1=\"E0toE{}\".format(ME)\n",
    "print(\"output \", end='', file=of)\n",
    "print(st1, end='', file=of)\n",
    "print(\"Ready,\", file=of)\n",
    "if ar==0:\n",
    "    print(\"output reg NUCReady = 0, //not used\", file=of)\n",
    "else:\n",
    "    if ME==(PR-2):\n",
    "        st2=\"E{}\".format(PR-1)\n",
    "    else:\n",
    "        st2=\"E{}toE{}\".format(ME+1, PR-1)\n",
    "    print(\"output \", end='', file=of)\n",
    "    print(st2, end='', file=of)\n",
    "    print(\"Ready,\", file=of)\n",
    "if lgRS<=1:\n",
    "    print(\"output reg rowSetOutNo = {},\".format(RS-1), file=of)\n",
    "else:\n",
    "    print(\"output reg [{}:0] rowSetOutNo = {},\".format(lgRS-1, RS-1), file=of)\n",
    "lgn=math.ceil(math.log2(N))\n",
    "al=-1+lgn\n",
    "if al<0:\n",
    "    print(\"output signed [(2*IN_WIDTH){}:0] \".format(al), end='',file=of)\n",
    "elif al==0:\n",
    "    print(\"output signed [(2*IN_WIDTH):0] \", end='',file=of)\n",
    "else:\n",
    "    print(\"output signed [(2*IN_WIDTH)+{}:0] \".format(al), end='',file=of)\n",
    "for i in range(PR):\n",
    "    print(\"E{}, \".format(i), end='',file=of)\n",
    "print(file=of)\n",
    "print(\"output early\", end='', file=of)\n",
    "print(st1, end='', file=of)\n",
    "print(\"Ready,\", file=of)\n",
    "if ar==0:\n",
    "    print(\"output reg NUearlyCReady = 0 //not used\", file=of)\n",
    "else:\n",
    "    print(\"output early\", end='', file=of)\n",
    "    print(st2, end='', file=of)\n",
    "    print(\"Ready\", file=of)\n",
    "print(\");\\n\", file=of)"
   ]
  },
  {
   "cell_type": "code",
   "execution_count": 24,
   "metadata": {},
   "outputs": [],
   "source": [
    "if Enable_Vector_Latch>0:\n",
    "    print(\"reg signed [IN_WIDTH-1:0] \", end='', file=of)\n",
    "    for i in range(N-1):\n",
    "        print(\"SVE{}, \".format(i), end='', file=of)\n",
    "    print(\"SVE{};\".format(N-1), file=of)\n",
    "    print(file=of)"
   ]
  },
  {
   "cell_type": "code",
   "execution_count": 25,
   "metadata": {},
   "outputs": [
    {
     "name": "stdout",
     "output_type": "stream",
     "text": [
      "\n",
      "DotProduct_Systolic_12\n",
      "#( .IN_WIDTH(IN_WIDTH), .INPUT_REG_DEPTH(INPUT_REG_DEPTH), .MULT_PIPE_DEPTH(MULT_PIPE_DEPTH) )\n",
      "DP_0 (clk, reset, enable,\n",
      "inReady,\n",
      "AE0R0, AE1R0, AE2R0, AE3R0, AE4R0, AE5R0, AE6R0, AE7R0, AE8R0, AE9R0, AE10R0, AE11R0, \n",
      "VE0, VE1, VE2, VE3, VE4, VE5, VE6, VE7, VE8, VE9, VE10, VE11, \n",
      "E0toE9Ready,\n",
      "E0,\n",
      "earlyE0toE9Ready\n",
      ");\n",
      "\n",
      "DotProduct_Systolic_12\n",
      "#( .IN_WIDTH(IN_WIDTH), .INPUT_REG_DEPTH(INPUT_REG_DEPTH), .MULT_PIPE_DEPTH(MULT_PIPE_DEPTH) )\n",
      "DP_1 (clk, reset, enable,\n",
      "inReady,\n",
      "AE0R1, AE1R1, AE2R1, AE3R1, AE4R1, AE5R1, AE6R1, AE7R1, AE8R1, AE9R1, AE10R1, AE11R1, \n",
      "VE0, VE1, VE2, VE3, VE4, VE5, VE6, VE7, VE8, VE9, VE10, VE11, \n",
      "DPOutReady1, //not used\n",
      "E1,\n",
      "DPearlyOutReady1 //not used\n",
      ");\n",
      "\n",
      "DotProduct_Systolic_12\n",
      "#( .IN_WIDTH(IN_WIDTH), .INPUT_REG_DEPTH(INPUT_REG_DEPTH), .MULT_PIPE_DEPTH(MULT_PIPE_DEPTH) )\n",
      "DP_2 (clk, reset, enable,\n",
      "inReady,\n",
      "AE0R2, AE1R2, AE2R2, AE3R2, AE4R2, AE5R2, AE6R2, AE7R2, AE8R2, AE9R2, AE10R2, AE11R2, \n",
      "VE0, VE1, VE2, VE3, VE4, VE5, VE6, VE7, VE8, VE9, VE10, VE11, \n",
      "DPOutReady2, //not used\n",
      "E2,\n",
      "DPearlyOutReady2 //not used\n",
      ");\n",
      "\n",
      "DotProduct_Systolic_12\n",
      "#( .IN_WIDTH(IN_WIDTH), .INPUT_REG_DEPTH(INPUT_REG_DEPTH), .MULT_PIPE_DEPTH(MULT_PIPE_DEPTH) )\n",
      "DP_3 (clk, reset, enable,\n",
      "inReady,\n",
      "AE0R3, AE1R3, AE2R3, AE3R3, AE4R3, AE5R3, AE6R3, AE7R3, AE8R3, AE9R3, AE10R3, AE11R3, \n",
      "VE0, VE1, VE2, VE3, VE4, VE5, VE6, VE7, VE8, VE9, VE10, VE11, \n",
      "DPOutReady3, //not used\n",
      "E3,\n",
      "DPearlyOutReady3 //not used\n",
      ");\n",
      "\n",
      "DotProduct_Systolic_12\n",
      "#( .IN_WIDTH(IN_WIDTH), .INPUT_REG_DEPTH(INPUT_REG_DEPTH), .MULT_PIPE_DEPTH(MULT_PIPE_DEPTH) )\n",
      "DP_4 (clk, reset, enable,\n",
      "inReady,\n",
      "AE0R4, AE1R4, AE2R4, AE3R4, AE4R4, AE5R4, AE6R4, AE7R4, AE8R4, AE9R4, AE10R4, AE11R4, \n",
      "VE0, VE1, VE2, VE3, VE4, VE5, VE6, VE7, VE8, VE9, VE10, VE11, \n",
      "DPOutReady4, //not used\n",
      "E4,\n",
      "DPearlyOutReady4 //not used\n",
      ");\n",
      "\n",
      "DotProduct_Systolic_12\n",
      "#( .IN_WIDTH(IN_WIDTH), .INPUT_REG_DEPTH(INPUT_REG_DEPTH), .MULT_PIPE_DEPTH(MULT_PIPE_DEPTH) )\n",
      "DP_5 (clk, reset, enable,\n",
      "inReady,\n",
      "AE0R5, AE1R5, AE2R5, AE3R5, AE4R5, AE5R5, AE6R5, AE7R5, AE8R5, AE9R5, AE10R5, AE11R5, \n",
      "VE0, VE1, VE2, VE3, VE4, VE5, VE6, VE7, VE8, VE9, VE10, VE11, \n",
      "DPOutReady5, //not used\n",
      "E5,\n",
      "DPearlyOutReady5 //not used\n",
      ");\n",
      "\n",
      "DotProduct_Systolic_12\n",
      "#( .IN_WIDTH(IN_WIDTH), .INPUT_REG_DEPTH(INPUT_REG_DEPTH), .MULT_PIPE_DEPTH(MULT_PIPE_DEPTH) )\n",
      "DP_6 (clk, reset, enable,\n",
      "inReady,\n",
      "AE0R6, AE1R6, AE2R6, AE3R6, AE4R6, AE5R6, AE6R6, AE7R6, AE8R6, AE9R6, AE10R6, AE11R6, \n",
      "VE0, VE1, VE2, VE3, VE4, VE5, VE6, VE7, VE8, VE9, VE10, VE11, \n",
      "DPOutReady6, //not used\n",
      "E6,\n",
      "DPearlyOutReady6 //not used\n",
      ");\n",
      "\n",
      "DotProduct_Systolic_12\n",
      "#( .IN_WIDTH(IN_WIDTH), .INPUT_REG_DEPTH(INPUT_REG_DEPTH), .MULT_PIPE_DEPTH(MULT_PIPE_DEPTH) )\n",
      "DP_7 (clk, reset, enable,\n",
      "inReady,\n",
      "AE0R7, AE1R7, AE2R7, AE3R7, AE4R7, AE5R7, AE6R7, AE7R7, AE8R7, AE9R7, AE10R7, AE11R7, \n",
      "VE0, VE1, VE2, VE3, VE4, VE5, VE6, VE7, VE8, VE9, VE10, VE11, \n",
      "DPOutReady7, //not used\n",
      "E7,\n",
      "DPearlyOutReady7 //not used\n",
      ");\n",
      "\n",
      "DotProduct_Systolic_12\n",
      "#( .IN_WIDTH(IN_WIDTH), .INPUT_REG_DEPTH(INPUT_REG_DEPTH), .MULT_PIPE_DEPTH(MULT_PIPE_DEPTH) )\n",
      "DP_8 (clk, reset, enable,\n",
      "inReady,\n",
      "AE0R8, AE1R8, AE2R8, AE3R8, AE4R8, AE5R8, AE6R8, AE7R8, AE8R8, AE9R8, AE10R8, AE11R8, \n",
      "VE0, VE1, VE2, VE3, VE4, VE5, VE6, VE7, VE8, VE9, VE10, VE11, \n",
      "DPOutReady8, //not used\n",
      "E8,\n",
      "DPearlyOutReady8 //not used\n",
      ");\n",
      "\n",
      "DotProduct_Systolic_12\n",
      "#( .IN_WIDTH(IN_WIDTH), .INPUT_REG_DEPTH(INPUT_REG_DEPTH), .MULT_PIPE_DEPTH(MULT_PIPE_DEPTH) )\n",
      "DP_9 (clk, reset, enable,\n",
      "inReady,\n",
      "AE0R9, AE1R9, AE2R9, AE3R9, AE4R9, AE5R9, AE6R9, AE7R9, AE8R9, AE9R9, AE10R9, AE11R9, \n",
      "VE0, VE1, VE2, VE3, VE4, VE5, VE6, VE7, VE8, VE9, VE10, VE11, \n",
      "DPOutReady9, //not used\n",
      "E9,\n",
      "DPearlyOutReady9 //not used\n",
      ");\n",
      "\n"
     ]
    }
   ],
   "source": [
    "if(ar>0): #RS*PR > M, RS>=2\n",
    "    print(\"wire inReadyC = (rowSetInNo!={}) & inReady;\".format(RS-1), file=of)\n",
    "print(file=of)\n",
    "for i in range (PR):\n",
    "    if N==1:\n",
    "        print(\"RegisteredMultiplier\", file=of)\n",
    "    elif MAMCS==N:\n",
    "        print(\"DotProduct_Systolic_{}\".format(N), file=of)\n",
    "    elif MAMCS==1:\n",
    "        print(\"DotProduct_{}_noHR_M_A{}\".format(N, AdderSize), file=of)  \n",
    "    else:\n",
    "        print(\"DotProduct_{}_noHR_C{}_A{}\".format(N, MAMCS, AdderSize), file=of)\n",
    "    print(\"#( .IN_WIDTH(IN_WIDTH), .INPUT_REG_DEPTH(INPUT_REG_DEPTH), .MULT_PIPE_DEPTH(MULT_PIPE_DEPTH) )\", file=of)\n",
    "    print(\"DP_{} (clk, reset, enable,\".format(i), file=of)\n",
    "    if(PR-i<=ar):\n",
    "        print(\"inReadyC,\", file=of)\n",
    "    else:\n",
    "        print(\"inReady,\", file=of)\n",
    "    for j in range(N):\n",
    "        print(\"AE{}R{}, \".format(j, i), end='', file=of)\n",
    "    print(file=of)\n",
    "    if Enable_Vector_Latch>0:\n",
    "        for j in range(N):\n",
    "            print(\"SVE{}, \".format(j), end='', file=of)\n",
    "    else:\n",
    "        for j in range(N):\n",
    "            print(\"VE{}, \".format(j), end='', file=of)        \n",
    "    print(file=of)\n",
    "    if i==0:\n",
    "        print(st1+\"Ready,\", file=of)\n",
    "    elif i==PR-ar:\n",
    "        print(st2+\"Ready,\", file=of)\n",
    "    else:\n",
    "        print(\"DPOutReady{}, //not used\".format(i), file=of)\n",
    "    print(\"E{},\".format(i), file=of)\n",
    "    if i==0:\n",
    "        print(\"early\"+st1+\"Ready\", file=of)\n",
    "    elif i==PR-ar:\n",
    "        print(\"early\"+st2+\"Ready\", file=of)\n",
    "    else:\n",
    "        print(\"DPearlyOutReady{} //not used\".format(i), file=of)\n",
    "    print(\");\\n\", file=of)"
   ]
  },
  {
   "cell_type": "code",
   "execution_count": 26,
   "metadata": {},
   "outputs": [],
   "source": [
    "if(RS>1):\n",
    "    if (Enable_Vector_Latch>0):\n",
    "        print(\"reg signed [IN_WIDTH-1:0] \", end='', file=of)\n",
    "        for i in range(N-1):\n",
    "            print(\"LVE{}, \".format(i), end='', file=of)\n",
    "        print(\"LVE{};\".format(N-1), file=of)\n",
    "    print(\"always @(posedge clk) begin\", file=of)\n",
    "    print(\"\\tif(reset) begin\", file=of)\n",
    "    print(\"\\t\\trowSetInNo <= 0;\", file=of)\n",
    "    print(\"\\tend\", file=of)\n",
    "    print(\"\\telse if(enable) begin\", file=of)\n",
    "    print(\"\\t\\tif(inReady) begin\", file=of)\n",
    "    print(\"\\t\\t\\tif(rowSetInNo=={}) begin\".format(RS-1), file=of)\n",
    "    print(\"\\t\\t\\t\\trowSetInNo <= 0;\", file=of)\n",
    "    print(\"\\t\\t\\tend\", file=of)\n",
    "    print(\"\\t\\t\\telse begin\", file=of)\n",
    "    if RS==2:\n",
    "        print(\"\\t\\t\\t\\trowSetInNo <= 1;\", file=of)    \n",
    "    else:\n",
    "        print(\"\\t\\t\\t\\trowSetInNo <= rowSetInNo+1;\", file=of)\n",
    "    print(\"\\t\\t\\tend\", file=of)\n",
    "    if Enable_Vector_Latch>0:\n",
    "        print(\"\\t\\t\\tif(rowSetInNo==0) begin\", file=of)\n",
    "        print(\"\\t\\t\\t\\t\", end='', file=of)\n",
    "        for j in range(N):\n",
    "            print(\"LVE{} <= VE{}; \".format(j, j), end='', file=of)\n",
    "        print(file=of)\n",
    "        print(\"\\t\\t\\tend\", file=of)\n",
    "    print(\"\\t\\tend\", file=of)\n",
    "    print(\"\\tend\", file=of)\n",
    "    print(\"end\\n\", file=of)"
   ]
  },
  {
   "cell_type": "code",
   "execution_count": 27,
   "metadata": {},
   "outputs": [],
   "source": [
    "if Enable_Vector_Latch>0:\n",
    "    print(\"always @(*) begin\", file=of)\n",
    "    print(\"\\tif(rowSetInNo==0) begin\", file=of)\n",
    "    print(\"\\t\\t\", end='', file=of)\n",
    "    for j in range(N):\n",
    "        print(\"SVE{} = VE{}; \".format(j,j), end='', file=of)\n",
    "    print(file=of)\n",
    "    print(\"\\tend\", file=of)\n",
    "    print(\"\\telse begin\", file=of)\n",
    "    print(\"\\t\\t\", end='', file=of)\n",
    "    for j in range(N):\n",
    "        print(\"SVE{} = LVE{}; \".format(j, j), end='', file=of)\n",
    "    print(file=of)\n",
    "    print(\"\\tend\", file=of)\n",
    "    print(\"end\\n\", file=of)"
   ]
  },
  {
   "cell_type": "code",
   "execution_count": 28,
   "metadata": {},
   "outputs": [],
   "source": [
    "if(RS>1):\n",
    "    print(\"always @(posedge clk) begin\", file=of)\n",
    "    print(\"\\tif(reset) begin\", file=of)\n",
    "    print(\"\\t\\trowSetOutNo <= {};\".format(RS-1), file=of)\n",
    "    print(\"\\tend\", file=of)\n",
    "    print(\"\\telse if(enable) begin\", file=of)\n",
    "    print(\"\\t\\tif(early\"+st1+\"Ready) begin\", file=of)\n",
    "    print(\"\\t\\t\\tif(rowSetOutNo=={}) begin\".format(RS-1), file=of)\n",
    "    print(\"\\t\\t\\t\\trowSetOutNo <= 0;\", file=of)\n",
    "    print(\"\\t\\t\\tend\", file=of)\n",
    "    print(\"\\t\\t\\telse begin\", file=of)\n",
    "    if RS==2:\n",
    "        print(\"\\t\\t\\t\\trowSetOutNo <= 1;\", file=of)\n",
    "    else:\n",
    "        print(\"\\t\\t\\t\\trowSetOutNo <= rowSetOutNo+1;\", file=of)\n",
    "    print(\"\\t\\t\\tend\", file=of)\n",
    "    print(\"\\t\\tend\", file=of)\n",
    "    print(\"\\tend\", file=of)\n",
    "    print(\"end\\n\", file=of)"
   ]
  },
  {
   "cell_type": "code",
   "execution_count": 29,
   "metadata": {},
   "outputs": [
    {
     "name": "stdout",
     "output_type": "stream",
     "text": [
      "endmodule\n"
     ]
    }
   ],
   "source": [
    "print(\"endmodule\", file=of)"
   ]
  },
  {
   "cell_type": "code",
   "execution_count": 30,
   "metadata": {},
   "outputs": [],
   "source": [
    "if __Print_To_File>0:\n",
    "    of.close()"
   ]
  }
 ],
 "metadata": {
  "kernelspec": {
   "display_name": "Python 3",
   "language": "python",
   "name": "python3"
  },
  "language_info": {
   "codemirror_mode": {
    "name": "ipython",
    "version": 3
   },
   "file_extension": ".py",
   "mimetype": "text/x-python",
   "name": "python",
   "nbconvert_exporter": "python",
   "pygments_lexer": "ipython3",
   "version": "3.7.6"
  }
 },
 "nbformat": 4,
 "nbformat_minor": 1
}
