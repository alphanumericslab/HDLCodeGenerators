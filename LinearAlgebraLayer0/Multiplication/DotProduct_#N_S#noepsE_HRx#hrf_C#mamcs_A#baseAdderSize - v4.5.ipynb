{
 "cells": [
  {
   "cell_type": "code",
   "execution_count": null,
   "metadata": {},
   "outputs": [],
   "source": [
    "#uses DotProduct_Systolic_#N - v1.1x\n",
    "#uses DotProduct_#N_noHR_C#mamcs_A#baseAdderSize - v3.7\n",
    "#uses DotProduct_#N_noHR_M_A#baseAdderSize - v3.7\n",
    "#uses RegisteredMultiplier  - v1.0x"
   ]
  },
  {
   "cell_type": "code",
   "execution_count": null,
   "metadata": {},
   "outputs": [],
   "source": [
    "import sys\n",
    "import math"
   ]
  },
  {
   "cell_type": "code",
   "execution_count": null,
   "metadata": {},
   "outputs": [],
   "source": [
    "#N>=2\n",
    "N = input('Enter N: ')"
   ]
  },
  {
   "cell_type": "code",
   "execution_count": null,
   "metadata": {},
   "outputs": [],
   "source": [
    "N = int(N)\n",
    "if(N<2):\n",
    "    N=2"
   ]
  },
  {
   "cell_type": "code",
   "execution_count": null,
   "metadata": {
    "scrolled": false
   },
   "outputs": [],
   "source": [
    "NOEPS = input('Enter No Of Elements Per Series (>=1, <={}, empty for {}): '.format(N-1, N-1))"
   ]
  },
  {
   "cell_type": "code",
   "execution_count": null,
   "metadata": {},
   "outputs": [],
   "source": [
    "if not NOEPS:\n",
    "    NMult=N-1\n",
    "else:\n",
    "    NMult = int(NOEPS)\n",
    "    if NMult<1:\n",
    "        NMult=1\n",
    "    elif NMult>(N-1):\n",
    "        NMult=N-1"
   ]
  },
  {
   "cell_type": "code",
   "execution_count": null,
   "metadata": {
    "scrolled": true
   },
   "outputs": [],
   "source": [
    "#MAMCS>=1\n",
    "MAMCS = input('Enter Multiply-Add Max Component Size (empty for {}): '.format(NMult))"
   ]
  },
  {
   "cell_type": "code",
   "execution_count": null,
   "metadata": {},
   "outputs": [],
   "source": [
    "if not MAMCS:\n",
    "    MAMCS = NMult\n",
    "else:\n",
    "    MAMCS = int(MAMCS)\n",
    "    if MAMCS>NMult:\n",
    "        MAMCS = NMult;\n",
    "    elif(MAMCS<1):\n",
    "            MAMCS=1"
   ]
  },
  {
   "cell_type": "code",
   "execution_count": null,
   "metadata": {},
   "outputs": [],
   "source": [
    "#AdderSize>=2\n",
    "if MAMCS<NMult:\n",
    "    AdderSize = input('Enter maximum size allowed for base adders (empty for 2): ')"
   ]
  },
  {
   "cell_type": "code",
   "execution_count": null,
   "metadata": {},
   "outputs": [],
   "source": [
    "#IN_WIDTH>=1\n",
    "IN_WIDTH = input('Enter IN_WIDTH Default Value (empty for 10): ')"
   ]
  },
  {
   "cell_type": "code",
   "execution_count": null,
   "metadata": {},
   "outputs": [],
   "source": [
    "#INPUT_REG_DEPTH>=0\n",
    "INPUT_REG_DEPTH = input('Enter INPUT_REG_DEPTH Default Value (empty for 1): ')"
   ]
  },
  {
   "cell_type": "code",
   "execution_count": null,
   "metadata": {},
   "outputs": [],
   "source": [
    "#MULT_PIPE_DEPTH>=0\n",
    "MULT_PIPE_DEPTH = input('Enter MULT_PIPE_DEPTH Default Value (empty for 1): ')"
   ]
  },
  {
   "cell_type": "code",
   "execution_count": null,
   "metadata": {},
   "outputs": [],
   "source": [
    "HRR = math.ceil(N/NMult);\n",
    "\n",
    "NumOfComponents = math.ceil(NMult/MAMCS)\n",
    "if MAMCS==NMult:\n",
    "    AdderSize=0\n",
    "else:\n",
    "    if not AdderSize:\n",
    "        AdderSize=2\n",
    "    else:\n",
    "        AdderSize = int(AdderSize)\n",
    "        if AdderSize<2:\n",
    "            AdderSize=2\n",
    "        if AdderSize>NumOfComponents:\n",
    "            AdderSize=NumOfComponents\n",
    "\n",
    "if not IN_WIDTH:\n",
    "    IN_WIDTH=10\n",
    "else:\n",
    "    IN_WIDTH = int(IN_WIDTH)\n",
    "    if(IN_WIDTH<1):\n",
    "        IN_WIDTH=1\n",
    "\n",
    "if not INPUT_REG_DEPTH:\n",
    "    INPUT_REG_DEPTH=1\n",
    "else:\n",
    "    INPUT_REG_DEPTH = int(INPUT_REG_DEPTH)\n",
    "    if(INPUT_REG_DEPTH<0):\n",
    "        INPUT_REG_DEPTH=0\n",
    "\n",
    "if not MULT_PIPE_DEPTH:\n",
    "    MULT_PIPE_DEPTH=1\n",
    "else:\n",
    "    MULT_PIPE_DEPTH = int(MULT_PIPE_DEPTH)\n",
    "    if(MULT_PIPE_DEPTH<0):\n",
    "        MULT_PIPE_DEPTH=0"
   ]
  },
  {
   "cell_type": "code",
   "execution_count": null,
   "metadata": {},
   "outputs": [],
   "source": [
    "_Use_Registered_earlyOutReady_If_Available = 1\n",
    "\n",
    "# _Use_Registered_earlyOutReady_If_Available = input('Use Registered earlyOutReady If Available? (empty or 1 to enable, 0 to disable): ')\n",
    "# if not _Use_Registered_earlyOutReady_If_Available:\n",
    "#     _Use_Registered_earlyOutReady_If_Available = 1\n",
    "# else:\n",
    "#     _Use_Registered_earlyOutReady_If_Available = int(_Use_Registered_earlyOutReady_If_Available)"
   ]
  },
  {
   "cell_type": "code",
   "execution_count": null,
   "metadata": {},
   "outputs": [],
   "source": [
    "ModuleName=\"DotProduct_{}_S{}E_HRx{}_C{}_A{}\".format(N, NMult, HRR, MAMCS, AdderSize)"
   ]
  },
  {
   "cell_type": "code",
   "execution_count": null,
   "metadata": {},
   "outputs": [],
   "source": [
    "__Print_To_File = 0\n",
    "\n",
    "if __Print_To_File<=0:\n",
    "    of=sys.stdout\n",
    "else:\n",
    "    of=open(\"./\"+ModuleName+\".v\", 'w+')"
   ]
  },
  {
   "cell_type": "code",
   "execution_count": null,
   "metadata": {
    "scrolled": true
   },
   "outputs": [],
   "source": [
    "print(\"`timescale 1ns / 1ps\\n\", file=of)\n",
    "print(\"module \"+ModuleName, file=of)\n",
    "print(\"#(\", file=of)\n",
    "print(\"parameter IN_WIDTH = {},\".format(IN_WIDTH), file=of)\n",
    "print(\"parameter INPUT_REG_DEPTH = {},\".format(INPUT_REG_DEPTH), file=of)\n",
    "print(\"parameter MULT_PIPE_DEPTH = {}\".format(MULT_PIPE_DEPTH), file=of)\n",
    "print(\")(\", file=of)\n",
    "print(\"input clk, reset, enable,\", file=of)\n",
    "print(\"output reg newInSeriesStart = 1,\", file=of)\n",
    "lghrr=math.ceil(math.log2(HRR))\n",
    "if lghrr==1:\n",
    "    print(\"output reg inSeries = 0,\", file=of)\n",
    "else:\n",
    "    print(\"output reg [{}:0] inSeries = 0,\".format(lghrr-1), file=of)\n",
    "print(\"input inReady,\", file=of)\n",
    "print(\"input signed [IN_WIDTH-1:0] \", end='', file=of)\n",
    "for i in range(NMult):\n",
    "    print(\"A{}, \".format(i), end='', file=of)\n",
    "print(file=of)\n",
    "print(\"input signed [IN_WIDTH-1:0] \", end='', file=of)\n",
    "for i in range(NMult):\n",
    "    print(\"B{}, \".format(i), end='', file=of)\n",
    "print(file=of)\n",
    "print(\"output reg outReady = 0,\", file=of)\n",
    "lgn=math.ceil(math.log2(N))\n",
    "al=-1+lgn\n",
    "if al==0:\n",
    "    print(\"output reg signed [(2*IN_WIDTH):0] DP,\", file=of)\n",
    "else:\n",
    "    print(\"output reg signed [(2*IN_WIDTH)+{}:0] DP,\".format(al), file=of)\n",
    "if _Use_Registered_earlyOutReady_If_Available<=0:\n",
    "    print(\"output earlyOutReady\", file=of)    \n",
    "else:\n",
    "    print(\"output reg earlyOutReady\", file=of)\n",
    "print(\");\\n\", file=of)"
   ]
  },
  {
   "cell_type": "code",
   "execution_count": null,
   "metadata": {},
   "outputs": [],
   "source": [
    "print(\"reg signed [IN_WIDTH-1:0] \", end='', file=of)\n",
    "for i in range(NMult-1):\n",
    "    print(\"SA{}, \".format(i), end='', file=of)\n",
    "print(\"SA{};\".format(NMult-1), file=of)\n",
    "print(\"reg signed [IN_WIDTH-1:0] \", end='', file=of)\n",
    "for i in range(NMult-1):\n",
    "    print(\"SB{}, \".format(i), end='', file=of)\n",
    "print(\"SB{};\".format(NMult-1), file=of)\n",
    "print(file=of)"
   ]
  },
  {
   "cell_type": "code",
   "execution_count": null,
   "metadata": {},
   "outputs": [],
   "source": [
    "palA=-1+math.ceil(math.log2(NMult))\n",
    "if palA==0:\n",
    "    print(\"wire signed [(2*IN_WIDTH):0] DPpart;\", file=of)\n",
    "elif palA<0:\n",
    "    print(\"wire signed [(2*IN_WIDTH){}:0] DPpart;\".format(palA), file=of)\n",
    "else:\n",
    "    print(\"wire signed [(2*IN_WIDTH)+{}:0] DPpart;\".format(palA), file=of)\n",
    "print(\"wire DPOutReady, DPEarlyOutReady;\", file=of)\n",
    "if NMult==1:\n",
    "    print(\"RegisteredMultiplier\", file=of)\n",
    "elif MAMCS==NMult:\n",
    "    print(\"DotProduct_Systolic_{}\".format(NMult), file=of)\n",
    "elif MAMCS==1:\n",
    "    print(\"DotProduct_{}_noHR_M_A{}\".format(NMult, AdderSize), file=of)  \n",
    "else:\n",
    "    print(\"DotProduct_{}_noHR_C{}_A{}\".format(NMult, MAMCS, AdderSize), file=of)\n",
    "print(\"#( .IN_WIDTH(IN_WIDTH), .INPUT_REG_DEPTH(INPUT_REG_DEPTH), .MULT_PIPE_DEPTH(MULT_PIPE_DEPTH) )\", file=of)\n",
    "print(\"DPE (clk, reset, enable,\", file=of)\n",
    "print(\"inReady,\", file=of)\n",
    "for j in range(NMult):\n",
    "    print(\"SA{}, \".format(j), end='', file=of)\n",
    "print(file=of)\n",
    "for j in range(NMult):\n",
    "    print(\"SB{}, \".format(j), end='', file=of)\n",
    "print(file=of)\n",
    "print(\"DPOutReady,\", file=of)\n",
    "print(\"DPpart,\", file=of)\n",
    "print(\"DPEarlyOutReady);\", file=of)\n",
    "print(file=of)"
   ]
  },
  {
   "cell_type": "code",
   "execution_count": null,
   "metadata": {},
   "outputs": [],
   "source": [
    "print(\"always @(posedge clk) begin\", file=of)\n",
    "print(\"\\tif(reset) begin\", file=of)\n",
    "print(\"\\t\\tnewInSeriesStart <= 1;\", file=of)\n",
    "print(\"\\t\\tinSeries <= 0;\", file=of)\n",
    "print(\"\\tend\", file=of)\n",
    "print(\"\\telse if(enable) begin\", file=of)\n",
    "print(\"\\t\\tif(inReady) begin\", file=of)\n",
    "print(\"\\t\\t\\tif(inSeries=={}) begin\".format(HRR-1), file=of)\n",
    "print(\"\\t\\t\\t\\tnewInSeriesStart <= 1;\", file=of)\n",
    "print(\"\\t\\t\\t\\tinSeries <= 0;\", file=of)\n",
    "print(\"\\t\\t\\tend\", file=of)\n",
    "print(\"\\t\\t\\telse begin\", file=of)\n",
    "print(\"\\t\\t\\t\\tnewInSeriesStart <= 0;\", file=of)\n",
    "if HRR==2:\n",
    "    print(\"\\t\\t\\t\\tinSeries <= 1;\", file=of)    \n",
    "else:\n",
    "    print(\"\\t\\t\\t\\tinSeries <= inSeries+1;\", file=of)\n",
    "print(\"\\t\\t\\tend\", file=of)\n",
    "print(\"\\t\\tend\", file=of)\n",
    "print(\"\\tend\", file=of)\n",
    "print(\"end\", file=of)\n",
    "print(file=of)"
   ]
  },
  {
   "cell_type": "code",
   "execution_count": null,
   "metadata": {},
   "outputs": [],
   "source": [
    "#NZ = HRR*NMult - N\n",
    "nzs=int(N/NMult); #number of no zero input to internal DP series\n",
    "print(\"always @(*) begin\", file=of)\n",
    "if HRR!=nzs:\n",
    "    print(\"\\tif(inSeries!={}) begin\\n\\t\".format(HRR-1), end='', file=of)\n",
    "print(\"\\t\", end='', file=of)\n",
    "for j in range(NMult):\n",
    "    print(\"SA{} = A{}; \".format(j,j), end='', file=of)\n",
    "print(file=of)\n",
    "if HRR!=nzs:\n",
    "    print(\"\\t\", end='', file=of)\n",
    "print(\"\\t\", end='', file=of)\n",
    "for j in range(NMult):\n",
    "    print(\"SB{} = B{}; \".format(j,j), end='', file=of)\n",
    "print(file=of)\n",
    "if HRR!=nzs:\n",
    "    print(\"\\tend\", file=of)\n",
    "    print(\"\\telse begin\", file=of)\n",
    "    print(\"\\t\\t\", end='', file=of)\n",
    "    for j in range(NMult):\n",
    "        k=NMult*nzs+j\n",
    "        if k >= N:\n",
    "             print(\"SA{} = 0; \".format(j), end='', file=of)            \n",
    "        else:\n",
    "            print(\"SA{} = A{}; \".format(j,j), end='', file=of)\n",
    "    print(\"\\n\\t\\t\", end='', file=of)\n",
    "    for j in range(NMult):\n",
    "        k=NMult*nzs+j\n",
    "        if k >= N:\n",
    "            print(\"SB{} = 0; \".format(j), end='', file=of)            \n",
    "        else:\n",
    "            print(\"SB{} = B{}; \".format(j,j), end='', file=of)\n",
    "    print(\"\\n\\tend\", file=of)\n",
    "print(\"end\", file=of)\n",
    "print(file=of)"
   ]
  },
  {
   "cell_type": "code",
   "execution_count": null,
   "metadata": {},
   "outputs": [],
   "source": [
    "if lghrr==1:\n",
    "    print(\"reg outSeries = 0;\", file=of)\n",
    "else:\n",
    "    print(\"reg [{}:0] outSeries = 0;\".format(lghrr-1), file=of)\n",
    "if al==0:\n",
    "    print(\"reg signed [(2*IN_WIDTH):0] DPps = 0;\", file=of)\n",
    "else:\n",
    "    print(\"reg signed [(2*IN_WIDTH)+{}:0] DPps = 0;\".format(al), file=of)\n",
    "print(\"always @(posedge clk) begin\", file=of)\n",
    "print(\"\\tif(reset) begin\", file=of)\n",
    "print(\"\\t\\toutSeries <= 0;\", file=of)\n",
    "print(\"\\t\\tDPps <= 0;\", file=of)\n",
    "print(\"\\t\\toutReady <= 0;\", file=of)\n",
    "print(\"\\tend\", file=of)\n",
    "\n",
    "print(\"\\telse if(enable) begin\", file=of)\n",
    "print(\"\\t\\tif(outSeries=={}) begin\".format(HRR-1), file=of)\n",
    "print(\"\\t\\t\\tif(DPOutReady) begin\", file=of)\n",
    "print(\"\\t\\t\\t\\toutReady <= 1;\", file=of)\n",
    "print(\"\\t\\t\\t\\tDP <= DPps+DPpart;\", file=of)\n",
    "print(\"\\t\\t\\t\\toutSeries <= 0;\", file=of)\n",
    "print(\"\\t\\t\\tend\", file=of)\n",
    "print(\"\\t\\tend\", file=of)\n",
    "print(\"\\t\\telse begin\", file=of)\n",
    "print(\"\\t\\t\\toutReady <= 0;\", file=of)\n",
    "print(\"\\t\\t\\tif(DPOutReady) begin\", file=of)\n",
    "if HRR==2:\n",
    "    print(\"\\t\\t\\t\\tDPps <= DPpart;\", file=of)\n",
    "    print(\"\\t\\t\\t\\toutSeries <= 1;\", file=of)\n",
    "else:\n",
    "    print(\"\\t\\t\\t\\tif(outSeries==0) begin\", file=of)\n",
    "    print(\"\\t\\t\\t\\t\\tDPps <= DPpart;\", file=of)\n",
    "    print(\"\\t\\t\\t\\tend\", file=of)\n",
    "    print(\"\\t\\t\\t\\telse begin\", file=of)\n",
    "    print(\"\\t\\t\\t\\t\\tDPps <= DPps+DPpart;\", file=of)\n",
    "    print(\"\\t\\t\\t\\tend\", file=of)\n",
    "    print(\"\\t\\t\\t\\toutSeries <= outSeries+1;\", file=of)\n",
    "print(\"\\t\\t\\tend\", file=of)\n",
    "print(\"\\t\\tend\", file=of)\n",
    "print(\"\\tend\", file=of)\n",
    "print(\"end\\n\", file=of)"
   ]
  },
  {
   "cell_type": "code",
   "execution_count": null,
   "metadata": {},
   "outputs": [],
   "source": [
    "if _Use_Registered_earlyOutReady_If_Available<=0:\n",
    "    print(\"assign earlyOutReady = (outSeries=={}) & DPOutReady;\\n\".format(HRR-1), file=of)\n",
    "else:\n",
    "    if NMult==1:\n",
    "        #combinational earlyOutReady:\n",
    "        print(\"generate\", file=of)\n",
    "        print(\"if(MULT_PIPE_DEPTH==0) begin\\n\", file=of)\n",
    "\n",
    "        print(\"always @(*) earlyOutReady = (outSeries=={}) & DPOutReady;\\n\".format(HRR-1), file=of)\n",
    "        print(\"end\", file=of)\n",
    "        print(\"else begin\\n\", file=of)\n",
    "\n",
    "    #registered earlyOutReady:\n",
    "    print(\"initial earlyOutReady = 0;\", file=of)\n",
    "    print(\"always @(posedge clk) begin\", file=of)\n",
    "    print(\"\\tif(reset) begin\", file=of)\n",
    "    print(\"\\t\\tearlyOutReady <= 0;\", file=of)\n",
    "    print(\"\\tend\", file=of)\n",
    "    print(\"\\telse if(enable) begin\", file=of)\n",
    "    print(\"\\t\\tif(((outSeries=={}) & (~DPOutReady) & DPEarlyOutReady) | ((outSeries=={}) & DPOutReady & DPEarlyOutReady)) begin\".format(HRR-1, HRR-2), file=of)\n",
    "    print(\"\\t\\t\\tearlyOutReady <= 1;\", file=of)\n",
    "    print(\"\\t\\tend\", file=of)\n",
    "    print(\"\\t\\telse begin\", file=of)\n",
    "    print(\"\\t\\t\\tearlyOutReady <= 0;\", file=of)\n",
    "    print(\"\\t\\tend\", file=of)\n",
    "    print(\"\\tend\", file=of)\n",
    "    print(\"end\\n\", file=of)\n",
    "    \n",
    "    if NMult==1:\n",
    "        print(\"end\", file=of)\n",
    "        print(\"endgenerate\\n\", file=of)"
   ]
  },
  {
   "cell_type": "code",
   "execution_count": null,
   "metadata": {},
   "outputs": [],
   "source": [
    "print(\"endmodule\", file=of)"
   ]
  },
  {
   "cell_type": "code",
   "execution_count": null,
   "metadata": {},
   "outputs": [],
   "source": [
    "if __Print_To_File>0:\n",
    "    of.close()"
   ]
  },
  {
   "cell_type": "code",
   "execution_count": null,
   "metadata": {},
   "outputs": [],
   "source": []
  }
 ],
 "metadata": {
  "kernelspec": {
   "display_name": "Python 3",
   "language": "python",
   "name": "python3"
  },
  "language_info": {
   "codemirror_mode": {
    "name": "ipython",
    "version": 3
   },
   "file_extension": ".py",
   "mimetype": "text/x-python",
   "name": "python",
   "nbconvert_exporter": "python",
   "pygments_lexer": "ipython3",
   "version": "3.7.6"
  }
 },
 "nbformat": 4,
 "nbformat_minor": 1
}
