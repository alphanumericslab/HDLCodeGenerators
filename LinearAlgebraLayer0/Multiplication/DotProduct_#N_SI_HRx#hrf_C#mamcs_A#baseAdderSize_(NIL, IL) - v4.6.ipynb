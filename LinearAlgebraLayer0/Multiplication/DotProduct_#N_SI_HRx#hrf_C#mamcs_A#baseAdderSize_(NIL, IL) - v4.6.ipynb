{
 "cells": [
  {
   "cell_type": "code",
   "execution_count": 1,
   "metadata": {},
   "outputs": [],
   "source": [
    "#uses DotProduct_#N_S#noepsE_HRx#hrf_C#mamcs_A#baseAdderSize - v4.5\n",
    "#uses SItoSoE_#N_HRx#hrf_(NIL, IL)_(NOR, OR) - v1.1x"
   ]
  },
  {
   "cell_type": "code",
   "execution_count": 2,
   "metadata": {},
   "outputs": [],
   "source": [
    "import sys\n",
    "import math"
   ]
  },
  {
   "cell_type": "code",
   "execution_count": 3,
   "metadata": {},
   "outputs": [
    {
     "name": "stdout",
     "output_type": "stream",
     "text": [
      "Enter N: 10\n"
     ]
    }
   ],
   "source": [
    "#N>=2\n",
    "N = input('Enter N: ')"
   ]
  },
  {
   "cell_type": "code",
   "execution_count": 4,
   "metadata": {},
   "outputs": [],
   "source": [
    "N = int(N)\n",
    "if N<2:\n",
    "    N = 2"
   ]
  },
  {
   "cell_type": "code",
   "execution_count": 5,
   "metadata": {
    "scrolled": false
   },
   "outputs": [
    {
     "name": "stdout",
     "output_type": "stream",
     "text": [
      "Enter HRR Upper Limit (>=2, <=10, empty for 2, not all HRR values are acceptable): 2\n"
     ]
    }
   ],
   "source": [
    "#HRR>=2\n",
    "HRR = input('Enter HRR Upper Limit (>=2, <={}, empty for 2, not all HRR values are acceptable): '.format(N))"
   ]
  },
  {
   "cell_type": "code",
   "execution_count": 6,
   "metadata": {},
   "outputs": [
    {
     "name": "stdout",
     "output_type": "stream",
     "text": [
      "HRR calculated value: 2\n"
     ]
    }
   ],
   "source": [
    "if not HRR:\n",
    "    HRR = 2\n",
    "else:\n",
    "    HRR = int(HRR)\n",
    "    if HRR<2:\n",
    "        HRR = 2\n",
    "    if HRR>N:\n",
    "        HRR = N\n",
    "\n",
    "NMult = math.ceil(N/HRR)\n",
    "#print(\"NMult: {}\".format(NMult))\n",
    "\n",
    "while math.ceil(N/NMult) != HRR:\n",
    "    HRR -= 1\n",
    "print(\"HRR calculated value: {}\".format(HRR))"
   ]
  },
  {
   "cell_type": "code",
   "execution_count": 7,
   "metadata": {
    "scrolled": true
   },
   "outputs": [
    {
     "name": "stdout",
     "output_type": "stream",
     "text": [
      "Enter Multiply-Add Max Component Size (empty for 5): 2\n"
     ]
    }
   ],
   "source": [
    "#MAMCS>=1\n",
    "MAMCS = input('Enter Multiply-Add Max Component Size (empty for {}): '.format(NMult))"
   ]
  },
  {
   "cell_type": "code",
   "execution_count": 8,
   "metadata": {},
   "outputs": [],
   "source": [
    "if not MAMCS:\n",
    "    MAMCS = NMult\n",
    "else:\n",
    "    MAMCS = int(MAMCS)\n",
    "    if MAMCS>NMult:\n",
    "        MAMCS = NMult\n",
    "    elif MAMCS<1:\n",
    "        MAMCS = 1"
   ]
  },
  {
   "cell_type": "code",
   "execution_count": 9,
   "metadata": {},
   "outputs": [
    {
     "name": "stdout",
     "output_type": "stream",
     "text": [
      "Enter maximum size allowed for base adders (empty for 2): 3\n"
     ]
    }
   ],
   "source": [
    "#AdderSize>=2\n",
    "if MAMCS<NMult:\n",
    "    AdderSize = input('Enter maximum size allowed for base adders (empty for 2): ')"
   ]
  },
  {
   "cell_type": "code",
   "execution_count": 10,
   "metadata": {},
   "outputs": [
    {
     "name": "stdout",
     "output_type": "stream",
     "text": [
      "Enable Input Latch? (empty or 0 to disable, 1 to enable): 1\n"
     ]
    }
   ],
   "source": [
    "Enable_Input_Latch = input('Enable Input Latch? (empty or 0 to disable, 1 to enable): ')"
   ]
  },
  {
   "cell_type": "code",
   "execution_count": 11,
   "metadata": {},
   "outputs": [
    {
     "name": "stdout",
     "output_type": "stream",
     "text": [
      "Enter IN_WIDTH Default Value (empty for 10): \n"
     ]
    }
   ],
   "source": [
    "#IN_WIDTH>=1\n",
    "IN_WIDTH = input('Enter IN_WIDTH Default Value (empty for 10): ')"
   ]
  },
  {
   "cell_type": "code",
   "execution_count": 12,
   "metadata": {},
   "outputs": [
    {
     "name": "stdout",
     "output_type": "stream",
     "text": [
      "Enter INPUT_REG_DEPTH Default Value (empty for 1): \n"
     ]
    }
   ],
   "source": [
    "#INPUT_REG_DEPTH>=0\n",
    "INPUT_REG_DEPTH = input('Enter INPUT_REG_DEPTH Default Value (empty for 1): ')"
   ]
  },
  {
   "cell_type": "code",
   "execution_count": 13,
   "metadata": {},
   "outputs": [
    {
     "name": "stdout",
     "output_type": "stream",
     "text": [
      "Enter MULT_PIPE_DEPTH Default Value (empty for 1): \n"
     ]
    }
   ],
   "source": [
    "#MULT_PIPE_DEPTH>=0\n",
    "MULT_PIPE_DEPTH = input('Enter MULT_PIPE_DEPTH Default Value (empty for 1): ')"
   ]
  },
  {
   "cell_type": "code",
   "execution_count": 14,
   "metadata": {},
   "outputs": [],
   "source": [
    "NumOfComponents = math.ceil(NMult/MAMCS)\n",
    "if MAMCS==NMult:\n",
    "    AdderSize = 0\n",
    "else:\n",
    "    if not AdderSize:\n",
    "        AdderSize = 2\n",
    "    else:\n",
    "        AdderSize = int(AdderSize)\n",
    "        if AdderSize<2:\n",
    "            AdderSize = 2\n",
    "        if AdderSize>NumOfComponents:\n",
    "            AdderSize = NumOfComponents\n",
    "\n",
    "if not IN_WIDTH:\n",
    "    IN_WIDTH=10\n",
    "else:\n",
    "    IN_WIDTH = int(IN_WIDTH)\n",
    "    if(IN_WIDTH<1):\n",
    "        IN_WIDTH=1\n",
    "\n",
    "if not INPUT_REG_DEPTH:\n",
    "    INPUT_REG_DEPTH=1\n",
    "else:\n",
    "    INPUT_REG_DEPTH = int(INPUT_REG_DEPTH)\n",
    "    if(INPUT_REG_DEPTH<0):\n",
    "        INPUT_REG_DEPTH=0\n",
    "\n",
    "if not MULT_PIPE_DEPTH:\n",
    "    MULT_PIPE_DEPTH=1\n",
    "else:\n",
    "    MULT_PIPE_DEPTH = int(MULT_PIPE_DEPTH)\n",
    "    if(MULT_PIPE_DEPTH<0):\n",
    "        MULT_PIPE_DEPTH=0\n",
    "\n",
    "if not Enable_Input_Latch:\n",
    "    Enable_Input_Latch=0\n",
    "else:\n",
    "    Enable_Input_Latch = int(Enable_Input_Latch)"
   ]
  },
  {
   "cell_type": "code",
   "execution_count": 15,
   "metadata": {},
   "outputs": [],
   "source": [
    "ModuleName=\"DotProduct_{}_SI_HRx{}_C{}_A{}_\".format(N, HRR, MAMCS, AdderSize)\n",
    "if Enable_Input_Latch<=0:\n",
    "    ModuleName+=\"N\"\n",
    "ModuleName+=\"IL\""
   ]
  },
  {
   "cell_type": "code",
   "execution_count": 16,
   "metadata": {},
   "outputs": [],
   "source": [
    "__Print_To_File = 0\n",
    "\n",
    "if __Print_To_File<=0:\n",
    "    of = sys.stdout\n",
    "else:\n",
    "    of = open(\"./\"+ModuleName+\".v\", 'w+')"
   ]
  },
  {
   "cell_type": "code",
   "execution_count": 17,
   "metadata": {
    "scrolled": true
   },
   "outputs": [
    {
     "name": "stdout",
     "output_type": "stream",
     "text": [
      "`timescale 1ns / 1ps\n",
      "\n",
      "module DotProduct_10_SI_HRx2_C2_A3_IL\n",
      "#(parameter\n",
      "IN_WIDTH = 10,\n",
      "INPUT_REG_DEPTH = 1,\n",
      "MULT_PIPE_DEPTH = 1\n",
      ")(\n",
      "input clk, reset, enable,\n",
      "output newInSeriesStart,\n",
      "output inSeries,\n",
      "input inReady,\n",
      "input signed [IN_WIDTH-1:0] A0, A1, A2, A3, A4, A5, A6, A7, A8, A9, \n",
      "input signed [IN_WIDTH-1:0] B0, B1, B2, B3, B4, B5, B6, B7, B8, B9, \n",
      "output outReady,\n",
      "output signed [(2*IN_WIDTH)+3:0] DP,\n",
      "output earlyOutReady\n",
      ");\n",
      "\n"
     ]
    }
   ],
   "source": [
    "print(\"`timescale 1ns / 1ps\\n\", file=of)\n",
    "print(\"module \"+ModuleName, file=of)\n",
    "print(\"#(parameter\", file=of)\n",
    "print(\"IN_WIDTH = {},\".format(IN_WIDTH), file=of)\n",
    "print(\"INPUT_REG_DEPTH = {},\".format(INPUT_REG_DEPTH), file=of)\n",
    "print(\"MULT_PIPE_DEPTH = {}\".format(MULT_PIPE_DEPTH), file=of)\n",
    "print(\")(\", file=of)\n",
    "print(\"input clk, reset, enable,\", file=of)\n",
    "print(\"output newInSeriesStart,\", file=of)\n",
    "lghrr=math.ceil(math.log2(HRR))\n",
    "if lghrr==1:\n",
    "    print(\"output inSeries,\", file=of)\n",
    "else:\n",
    "    print(\"output [{}:0] inSeries,\".format(lghrr-1), file=of)\n",
    "print(\"input inReady,\", file=of)\n",
    "print(\"input signed [IN_WIDTH-1:0] \", end='', file=of)\n",
    "for i in range(N):\n",
    "    print(\"A{}, \".format(i), end='', file=of)\n",
    "print(file=of)\n",
    "print(\"input signed [IN_WIDTH-1:0] \", end='', file=of)\n",
    "for i in range(N):\n",
    "    print(\"B{}, \".format(i), end='', file=of)\n",
    "print(file=of)\n",
    "print(\"output outReady,\", file=of)\n",
    "lgn=math.ceil(math.log2(N))\n",
    "al=-1+lgn\n",
    "if al==0:\n",
    "    print(\"output signed [(2*IN_WIDTH):0] DP,\", file=of)\n",
    "else:\n",
    "    print(\"output signed [(2*IN_WIDTH)+{}:0] DP,\".format(al), file=of)\n",
    "print(\"output earlyOutReady\", file=of)\n",
    "print(\");\\n\", file=of)"
   ]
  },
  {
   "cell_type": "code",
   "execution_count": 18,
   "metadata": {},
   "outputs": [
    {
     "name": "stdout",
     "output_type": "stream",
     "text": [
      "wire DPInReady;\n",
      "wire signed [IN_WIDTH-1:0] AS0, AS1, AS2, AS3, AS4;\n",
      "SItoSoE_10_HRx2_IL_NOR #( .IN_WIDTH(IN_WIDTH) )\n",
      "SItSoEA (\n",
      "clk, reset, enable,\n",
      "newInSeriesStart,\n",
      "inSeries,\n",
      "inReady,\n",
      "A0, A1, A2, A3, A4, A5, A6, A7, A8, A9, \n",
      "DPInReady,\n",
      "AS2outReady, //not used\n",
      "AoutSeries, //not used\n",
      "AS0, AS1, AS2, AS3, AS4, \n",
      "AS1earlyOutReady, //not used\n",
      "AS2earlyOutReady //not used\n",
      ");\n",
      "\n"
     ]
    }
   ],
   "source": [
    "print(\"wire DPInReady;\", file=of)\n",
    "print(\"wire signed [IN_WIDTH-1:0] \", end='', file=of)\n",
    "for i in range(NMult-1):\n",
    "    print(\"AS{}, \".format(i), end='', file=of)\n",
    "print(\"AS{};\".format(NMult-1), file=of)\n",
    "print(\"SItoSoE_{}_HRx{}_\".format(N, HRR), end='', file=of)\n",
    "if Enable_Input_Latch<=0:\n",
    "    print(\"N\", end='', file=of)\n",
    "print(\"IL_NOR #( .IN_WIDTH(IN_WIDTH) )\", file=of)\n",
    "print(\"SItSoEA (\", file=of)\n",
    "print(\"clk, reset, enable,\", file=of)\n",
    "print(\"newInSeriesStart,\", file=of)\n",
    "print(\"inSeries,\", file=of)\n",
    "print(\"inReady,\", file=of)\n",
    "for i in range(N):\n",
    "    print(\"A{}, \".format(i), end='', file=of)\n",
    "print(file=of)\n",
    "print(\"DPInReady,\", file=of)\n",
    "print(\"AS2outReady, //not used\", file=of)\n",
    "print(\"AoutSeries, //not used\", file=of)\n",
    "for i in range(NMult):\n",
    "    print(\"AS{}, \".format(i), end='', file=of)\n",
    "print(file=of)\n",
    "print(\"AS1earlyOutReady, //not used\", file=of)\n",
    "print(\"AS2earlyOutReady //not used\", file=of)\n",
    "print(\");\\n\", file=of)"
   ]
  },
  {
   "cell_type": "code",
   "execution_count": 19,
   "metadata": {},
   "outputs": [
    {
     "name": "stdout",
     "output_type": "stream",
     "text": [
      "wire signed [IN_WIDTH-1:0] BS0, BS1, BS2, BS3, BS4;\n",
      "SItoSoE_10_HRx2_IL_NOR #( .IN_WIDTH(IN_WIDTH) )\n",
      "SItSoEB (\n",
      "clk, reset, enable,\n",
      "RFNDSB, //not used\n",
      "ISB, //not used\n",
      "inReady,\n",
      "B0, B1, B2, B3, B4, B5, B6, B7, B8, B9, \n",
      "BS1outReady, //not used\n",
      "BS2outReady, //not used\n",
      "BoutSeries, //not used\n",
      "BS0, BS1, BS2, BS3, BS4, \n",
      "BS1earlyOutReady, //not used\n",
      "BS2earlyOutReady //not used\n",
      ");\n",
      "\n"
     ]
    }
   ],
   "source": [
    "print(\"wire signed [IN_WIDTH-1:0] \", end='', file=of)\n",
    "for i in range(NMult-1):\n",
    "    print(\"BS{}, \".format(i), end='', file=of)\n",
    "print(\"BS{};\".format(NMult-1), file=of)\n",
    "print(\"SItoSoE_{}_HRx{}_\".format(N, HRR), end='', file=of)\n",
    "if Enable_Input_Latch<=0:\n",
    "    print(\"N\", end='', file=of)\n",
    "print(\"IL_NOR #( .IN_WIDTH(IN_WIDTH) )\", file=of)\n",
    "print(\"SItSoEB (\", file=of)\n",
    "print(\"clk, reset, enable,\", file=of)\n",
    "print(\"RFNDSB, //not used\", file=of)\n",
    "print(\"ISB, //not used\", file=of)\n",
    "print(\"inReady,\", file=of)\n",
    "for i in range(N):\n",
    "    print(\"B{}, \".format(i), end='', file=of)\n",
    "print(file=of)\n",
    "print(\"BS1outReady, //not used\", file=of)\n",
    "print(\"BS2outReady, //not used\", file=of)\n",
    "print(\"BoutSeries, //not used\", file=of)\n",
    "for i in range(NMult):\n",
    "    print(\"BS{}, \".format(i), end='', file=of)\n",
    "print(file=of)\n",
    "print(\"BS1earlyOutReady, //not used\", file=of)\n",
    "print(\"BS2earlyOutReady //not used\", file=of)\n",
    "print(\");\\n\", file=of)"
   ]
  },
  {
   "cell_type": "code",
   "execution_count": 20,
   "metadata": {},
   "outputs": [
    {
     "name": "stdout",
     "output_type": "stream",
     "text": [
      "DotProduct_10_S5E_HRx2_C2_A3\n",
      "#( .IN_WIDTH(IN_WIDTH), .INPUT_REG_DEPTH(INPUT_REG_DEPTH), .MULT_PIPE_DEPTH(MULT_PIPE_DEPTH) )\n",
      "DPE (clk, reset, enable,\n",
      "DPInReady,\n",
      "SA0, SA1, SA2, SA3, SA4, \n",
      "SB0, SB1, SB2, SB3, SB4, \n",
      "outReady,\n",
      "DP,\n",
      "earlyOutReady);\n",
      "\n"
     ]
    }
   ],
   "source": [
    "print(\"DotProduct_{}_S{}E_HRx{}_C{}_A{}\".format(N, NMult, HRR, MAMCS, AdderSize), file=of)\n",
    "print(\"#( .IN_WIDTH(IN_WIDTH), .INPUT_REG_DEPTH(INPUT_REG_DEPTH), .MULT_PIPE_DEPTH(MULT_PIPE_DEPTH) )\", file=of)\n",
    "print(\"DPE (clk, reset, enable,\", file=of)\n",
    "print(\"DPInReady,\", file=of)\n",
    "for j in range(NMult):\n",
    "    print(\"SA{}, \".format(j), end='', file=of)\n",
    "print(file=of)\n",
    "for j in range(NMult):\n",
    "    print(\"SB{}, \".format(j), end='', file=of)\n",
    "print(file=of)\n",
    "print(\"outReady,\", file=of)\n",
    "print(\"DP,\", file=of)\n",
    "print(\"earlyOutReady);\", file=of)\n",
    "print(file=of)"
   ]
  },
  {
   "cell_type": "code",
   "execution_count": 21,
   "metadata": {},
   "outputs": [
    {
     "name": "stdout",
     "output_type": "stream",
     "text": [
      "endmodule\n"
     ]
    }
   ],
   "source": [
    "print(\"endmodule\", file=of)"
   ]
  },
  {
   "cell_type": "code",
   "execution_count": 22,
   "metadata": {},
   "outputs": [],
   "source": [
    "if __Print_To_File>0:\n",
    "    of.close()"
   ]
  }
 ],
 "metadata": {
  "kernelspec": {
   "display_name": "Python 3",
   "language": "python",
   "name": "python3"
  },
  "language_info": {
   "codemirror_mode": {
    "name": "ipython",
    "version": 3
   },
   "file_extension": ".py",
   "mimetype": "text/x-python",
   "name": "python",
   "nbconvert_exporter": "python",
   "pygments_lexer": "ipython3",
   "version": "3.6.3"
  }
 },
 "nbformat": 4,
 "nbformat_minor": 1
}
