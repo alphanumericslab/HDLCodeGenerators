{
 "cells": [
  {
   "cell_type": "code",
   "execution_count": 1,
   "metadata": {
    "collapsed": true
   },
   "outputs": [],
   "source": [
    "#uses MatrixMatrixMultiply_#M_#N_#prPR_S#noepsE_HRx#hrf_C#mamcs_A#baseAdderSize_(NCL, CL)_(NRL, RL) - v1.1\n",
    "#uses OTItoSeries_#N_HRx#hrr_S#noepsE_(NOR, OR)_(NIL, IL) - v1.0x"
   ]
  },
  {
   "cell_type": "code",
   "execution_count": 2,
   "metadata": {
    "collapsed": true
   },
   "outputs": [],
   "source": [
    "import sys\n",
    "import math"
   ]
  },
  {
   "cell_type": "code",
   "execution_count": 3,
   "metadata": {
    "collapsed": false
   },
   "outputs": [
    {
     "name": "stdout",
     "output_type": "stream",
     "text": [
      "Enter M: 5\n"
     ]
    }
   ],
   "source": [
    "#M>=1\n",
    "M = input('Enter M: ')"
   ]
  },
  {
   "cell_type": "code",
   "execution_count": 4,
   "metadata": {
    "collapsed": false
   },
   "outputs": [
    {
     "name": "stdout",
     "output_type": "stream",
     "text": [
      "Enter N: 9\n"
     ]
    }
   ],
   "source": [
    "#N>=1\n",
    "N = input('Enter N: ')"
   ]
  },
  {
   "cell_type": "code",
   "execution_count": 5,
   "metadata": {
    "collapsed": false
   },
   "outputs": [
    {
     "name": "stdout",
     "output_type": "stream",
     "text": [
      "Enter Q: 5\n"
     ]
    }
   ],
   "source": [
    "#Q>=1\n",
    "Q = input('Enter Q: ')"
   ]
  },
  {
   "cell_type": "code",
   "execution_count": 6,
   "metadata": {
    "collapsed": false
   },
   "outputs": [
    {
     "name": "stdout",
     "output_type": "stream",
     "text": [
      "Enter No Of Parallel Row (empty for 1): 2\n"
     ]
    }
   ],
   "source": [
    "#>=1, <=M\n",
    "PR = input('Enter No Of Parallel Row (empty for 1): ')"
   ]
  },
  {
   "cell_type": "code",
   "execution_count": 7,
   "metadata": {
    "collapsed": false
   },
   "outputs": [
    {
     "name": "stdout",
     "output_type": "stream",
     "text": [
      "Enter No Of Parallel Column (empty for 1): 2\n"
     ]
    }
   ],
   "source": [
    "#>=1, <=Q\n",
    "PC = input('Enter No Of Parallel Column (empty for 1): ')"
   ]
  },
  {
   "cell_type": "code",
   "execution_count": 8,
   "metadata": {
    "collapsed": false
   },
   "outputs": [
    {
     "name": "stdout",
     "output_type": "stream",
     "text": [
      "Enter HRR (>=2, <=9, empty for 2): 3\n"
     ]
    }
   ],
   "source": [
    "#HRR>=2\n",
    "HRR = input('Enter HRR (>=2, <={}, empty for 2): '.format(N))"
   ]
  },
  {
   "cell_type": "code",
   "execution_count": 11,
   "metadata": {
    "collapsed": false
   },
   "outputs": [],
   "source": [
    "M = int(M)\n",
    "if(M<1):\n",
    "    M=1\n",
    "\n",
    "N = int(N)\n",
    "if(N<1):\n",
    "    N=1\n",
    "\n",
    "Q = int(Q)\n",
    "if(Q<1):\n",
    "    Q=1\n",
    "\n",
    "if not PR:\n",
    "    PR=1\n",
    "else:\n",
    "    PR = int(PR)\n",
    "    if PR>M:\n",
    "        PR = M\n",
    "\n",
    "if not PC:\n",
    "    PC=1\n",
    "else:\n",
    "    PC = int(PC)\n",
    "    if PC>Q:\n",
    "        PC = Q\n",
    "\n",
    "if not HRR:\n",
    "    HRR=2\n",
    "else:\n",
    "    HRR = int(HRR)\n",
    "    if HRR<2:\n",
    "        HRR=2\n",
    "    if HRR>N:\n",
    "        HRR=N\n",
    "\n",
    "#chooses best value automatically\n",
    "NMult = math.ceil(N/HRR);"
   ]
  },
  {
   "cell_type": "code",
   "execution_count": 12,
   "metadata": {
    "collapsed": false
   },
   "outputs": [
    {
     "name": "stdout",
     "output_type": "stream",
     "text": [
      "Enter Multiply-Add Max Component Size (empty for 4): 3\n"
     ]
    }
   ],
   "source": [
    "#MAMCS>=1\n",
    "MAMCS = input('Enter Multiply-Add Max Component Size (empty for {}): '.format(NMult))"
   ]
  },
  {
   "cell_type": "code",
   "execution_count": 13,
   "metadata": {
    "collapsed": true
   },
   "outputs": [],
   "source": [
    "if not MAMCS:\n",
    "    MAMCS = NMult\n",
    "else:\n",
    "    MAMCS = int(MAMCS)\n",
    "    if MAMCS>NMult:\n",
    "        MAMCS = NMult;\n",
    "    elif(MAMCS<1):\n",
    "        MAMCS=1"
   ]
  },
  {
   "cell_type": "code",
   "execution_count": 14,
   "metadata": {
    "collapsed": false
   },
   "outputs": [
    {
     "name": "stdout",
     "output_type": "stream",
     "text": [
      "Enter maximum size allowed for base adders (empty for 2): 2\n"
     ]
    }
   ],
   "source": [
    "#AdderSize>=2\n",
    "if MAMCS<NMult:\n",
    "    AdderSize = input('Enter maximum size allowed for base adders (empty for 2): ')"
   ]
  },
  {
   "cell_type": "code",
   "execution_count": 15,
   "metadata": {
    "collapsed": false
   },
   "outputs": [
    {
     "name": "stdout",
     "output_type": "stream",
     "text": [
      "Enable Input Latch? (empty or 0 to disable, 1 to enable): 1\n"
     ]
    }
   ],
   "source": [
    "Enable_Input_Latch = input('Enable Input Latch? (empty or 0 to disable, 1 to enable): ')"
   ]
  },
  {
   "cell_type": "code",
   "execution_count": 16,
   "metadata": {
    "collapsed": true
   },
   "outputs": [],
   "source": [
    "RS=math.ceil(M/PR)"
   ]
  },
  {
   "cell_type": "code",
   "execution_count": 17,
   "metadata": {
    "collapsed": false
   },
   "outputs": [
    {
     "name": "stdout",
     "output_type": "stream",
     "text": [
      "Enable Column Latch? (empty or 0 to disable, 1 to enable): 1\n"
     ]
    }
   ],
   "source": [
    "if RS>1:\n",
    "    Enable_Column_Latch = input('Enable Column Latch? (empty or 0 to disable, 1 to enable): ')"
   ]
  },
  {
   "cell_type": "code",
   "execution_count": 18,
   "metadata": {
    "collapsed": true
   },
   "outputs": [],
   "source": [
    "CS=math.ceil(Q/PC)"
   ]
  },
  {
   "cell_type": "code",
   "execution_count": 19,
   "metadata": {
    "collapsed": false
   },
   "outputs": [
    {
     "name": "stdout",
     "output_type": "stream",
     "text": [
      "Enable Row Latch? (empty or 0 to disable, 1 to enable): 1\n"
     ]
    }
   ],
   "source": [
    "if CS>1:\n",
    "    Enable_Row_Latch = input('Enable Row Latch? (empty or 0 to disable, 1 to enable): ')"
   ]
  },
  {
   "cell_type": "code",
   "execution_count": 20,
   "metadata": {
    "collapsed": false
   },
   "outputs": [
    {
     "name": "stdout",
     "output_type": "stream",
     "text": [
      "Enter IN_WIDTH default value (empty for 10): \n"
     ]
    }
   ],
   "source": [
    "#IN_WIDTH>=1\n",
    "IN_WIDTH = input('Enter IN_WIDTH default value (empty for 10): ')"
   ]
  },
  {
   "cell_type": "code",
   "execution_count": 21,
   "metadata": {
    "collapsed": false
   },
   "outputs": [
    {
     "name": "stdout",
     "output_type": "stream",
     "text": [
      "Enter INPUT_REG_DEPTH default value (empty for 1): \n"
     ]
    }
   ],
   "source": [
    "#INPUT_REG_DEPTH>=0\n",
    "INPUT_REG_DEPTH = input('Enter INPUT_REG_DEPTH default value (empty for 1): ')"
   ]
  },
  {
   "cell_type": "code",
   "execution_count": 22,
   "metadata": {
    "collapsed": false
   },
   "outputs": [
    {
     "name": "stdout",
     "output_type": "stream",
     "text": [
      "Enter MULT_PIPE_DEPTH default value (empty for 1): \n"
     ]
    }
   ],
   "source": [
    "#MULT_PIPE_DEPTH>=0\n",
    "MULT_PIPE_DEPTH = input('Enter MULT_PIPE_DEPTH default value (empty for 1): ')"
   ]
  },
  {
   "cell_type": "code",
   "execution_count": 23,
   "metadata": {
    "collapsed": true
   },
   "outputs": [],
   "source": [
    "NumOfComponents = math.ceil(NMult/MAMCS)\n",
    "if MAMCS==NMult:\n",
    "    AdderSize=0\n",
    "else:\n",
    "    if not AdderSize:\n",
    "        AdderSize=2\n",
    "    else:\n",
    "        AdderSize = int(AdderSize)\n",
    "        if AdderSize<2:\n",
    "            AdderSize=2\n",
    "        if AdderSize>NumOfComponents:\n",
    "            AdderSize=NumOfComponents\n",
    "            \n",
    "if not Enable_Input_Latch:\n",
    "    Enable_Input_Latch=0\n",
    "else:\n",
    "    Enable_Input_Latch = int(Enable_Input_Latch)\n",
    "\n",
    "if RS==1:\n",
    "    Enable_Column_Latch = 0;\n",
    "else:\n",
    "    if not Enable_Column_Latch:\n",
    "        Enable_Column_Latch = 0\n",
    "    else:\n",
    "        Enable_Column_Latch = int(Enable_Column_Latch)\n",
    "\n",
    "if CS==1:\n",
    "    Enable_Row_Latch = 0;\n",
    "else:\n",
    "    if not Enable_Row_Latch:\n",
    "        Enable_Row_Latch = 0\n",
    "    else:\n",
    "        Enable_Row_Latch = int(Enable_Row_Latch)\n",
    "\n",
    "if not IN_WIDTH:\n",
    "    IN_WIDTH=10\n",
    "else:\n",
    "    IN_WIDTH = int(IN_WIDTH)\n",
    "    if(IN_WIDTH<1):\n",
    "        IN_WIDTH=1\n",
    "\n",
    "if not INPUT_REG_DEPTH:\n",
    "    INPUT_REG_DEPTH=1\n",
    "else:\n",
    "    INPUT_REG_DEPTH = int(INPUT_REG_DEPTH)\n",
    "    if(INPUT_REG_DEPTH<0):\n",
    "        INPUT_REG_DEPTH=0\n",
    "\n",
    "if not MULT_PIPE_DEPTH:\n",
    "    MULT_PIPE_DEPTH=1\n",
    "else:\n",
    "    MULT_PIPE_DEPTH = int(MULT_PIPE_DEPTH)\n",
    "    if(MULT_PIPE_DEPTH<0):\n",
    "        MULT_PIPE_DEPTH=0"
   ]
  },
  {
   "cell_type": "code",
   "execution_count": 24,
   "metadata": {
    "collapsed": false
   },
   "outputs": [],
   "source": [
    "ModuleName=\"MatrixMatrixMultiply_{}_{}_{}_{}PR_{}PC_OTI_HRx{}_S{}E_C{}_A{}_\".format(M, N, Q, PR, PC, HRR, NMult, MAMCS, AdderSize)\n",
    "if Enable_Input_Latch<=0:\n",
    "    ModuleName+=\"N\"\n",
    "ModuleName+=\"IL_\"\n",
    "if Enable_Column_Latch<=0:\n",
    "    ModuleName+=\"N\"\n",
    "ModuleName+=\"CL_\"\n",
    "if Enable_Row_Latch<=0:\n",
    "    ModuleName+=\"N\"        \n",
    "ModuleName+=\"RL\""
   ]
  },
  {
   "cell_type": "code",
   "execution_count": 32,
   "metadata": {
    "collapsed": false
   },
   "outputs": [],
   "source": [
    "__Print_To_File = 0\n",
    "\n",
    "if __Print_To_File<=0:\n",
    "    of=sys.stdout\n",
    "else:\n",
    "    of=open(\"./\"+ModuleName+\".v\", 'w+')"
   ]
  },
  {
   "cell_type": "code",
   "execution_count": 33,
   "metadata": {
    "collapsed": false,
    "scrolled": true
   },
   "outputs": [
    {
     "name": "stdout",
     "output_type": "stream",
     "text": [
      "`timescale 1ns / 1ps\n",
      "\n",
      "module MatrixMatrixMultiply_5_9_5_2PR_2PC_OTI_HRx3_S4E_C3_A2_IL_CL_RL\n",
      "#(\n",
      "parameter IN_WIDTH = 10,\n",
      "parameter INPUT_REG_DEPTH = 1,\n",
      "parameter MULT_PIPE_DEPTH = 1\n",
      ")(\n",
      "input clk, reset, enable,\n",
      "output newInSeriesStart,\n",
      "output [1:0] inSeries,\n",
      "output [1:0] rowSetInNo,\n",
      "output [1:0] columnSetInNo,\n",
      "input inReady,\n",
      "input signed [IN_WIDTH-1:0] AE0R0, AE1R0, AE2R0, AE3R0, AE4R0, AE5R0, AE6R0, AE7R0, AE8R0, \n",
      "AE0R1, AE1R1, AE2R1, AE3R1, AE4R1, AE5R1, AE6R1, AE7R1, AE8R1, \n",
      "input signed [IN_WIDTH-1:0] BE0C0, BE1C0, BE2C0, BE3C0, BE4C0, BE5C0, BE6C0, BE7C0, BE8C0, \n",
      "BE0C1, BE1C1, BE2C1, BE3C1, BE4C1, BE5C1, BE6C1, BE7C1, BE8C1, \n",
      "output C0R0EReady,\n",
      "output C0R1EReady,\n",
      "output C1R0EReady,\n",
      "output C1R1EReady,\n",
      "output [1:0] rowSetOutNo,\n",
      "output [1:0] columnSetOutNo,\n",
      "output signed [(2*IN_WIDTH)+3:0] EC0R0, EC0R1, EC1R0, EC1R1, \n",
      "output earlyC0R0EReady,\n",
      "output earlyC0R1EReady,\n",
      "output earlyC1R0EReady,\n",
      "output earlyC1R1EReady\n",
      ");\n",
      "\n"
     ]
    }
   ],
   "source": [
    "print(\"`timescale 1ns / 1ps\\n\", file=of)\n",
    "print(\"module \"+ModuleName, file=of)\n",
    "print(\"#(\", file=of)\n",
    "print(\"parameter IN_WIDTH = {},\".format(IN_WIDTH), file=of)\n",
    "print(\"parameter INPUT_REG_DEPTH = {},\".format(INPUT_REG_DEPTH), file=of)\n",
    "print(\"parameter MULT_PIPE_DEPTH = {}\".format(MULT_PIPE_DEPTH), file=of)\n",
    "print(\")(\", file=of)\n",
    "print(\"input clk, reset, enable,\", file=of)\n",
    "print(\"output newInSeriesStart,\", file=of)\n",
    "lghrr=math.ceil(math.log2(HRR))\n",
    "if lghrr==1:\n",
    "    print(\"output inSeries,\", file=of)\n",
    "elif lghrr>1:\n",
    "    print(\"output [{}:0] inSeries,\".format(lghrr-1), file=of)\n",
    "lgRS=math.ceil(math.log2(RS))\n",
    "if lgRS<=1:\n",
    "    print(\"output rowSetInNo,\", file=of)\n",
    "else:\n",
    "    print(\"output [{}:0] rowSetInNo,\".format(lgRS-1), file=of)\n",
    "lgCS=math.ceil(math.log2(CS))\n",
    "if lgCS<=1:\n",
    "    print(\"output columnSetInNo,\", file=of)\n",
    "else:\n",
    "    print(\"output [{}:0] columnSetInNo,\".format(lgCS-1), file=of)\n",
    "print(\"input inReady,\", file=of)\n",
    "print(\"input signed [IN_WIDTH-1:0] \", end='', file=of)\n",
    "for i in range(PR):\n",
    "    for j in range(N):\n",
    "        print(\"AE{}R{}, \".format(j, i), end='', file=of)\n",
    "    print(file=of)\n",
    "print(\"input signed [IN_WIDTH-1:0] \", end='', file=of)\n",
    "for i in range(PC):\n",
    "    for j in range(N):\n",
    "        print(\"BE{}C{}, \".format(j, i), end='', file=of)\n",
    "    print(file=of)\n",
    "ac=CS*PC-Q\n",
    "QE = PC-ac-1\n",
    "if QE==0:\n",
    "    stc1=\"C0\"\n",
    "else:\n",
    "    stc1=\"C0toC{}\".format(QE)\n",
    "if QE==(PC-2):\n",
    "    stc2=\"C{}\".format(PC-1)\n",
    "else:\n",
    "    stc2=\"C{}toC{}\".format(QE+1, PC-1)\n",
    "ar=RS*PR-M\n",
    "ME = PR-ar-1\n",
    "if ME==0:\n",
    "    str1=\"R0\"\n",
    "else:\n",
    "    str1=\"R0toR{}\".format(ME)\n",
    "if ME==(PR-2):\n",
    "    str2=\"R{}\".format(PR-1)\n",
    "else:\n",
    "    str2=\"R{}toR{}\".format(ME+1, PR-1)\n",
    "print(\"output \", end='', file=of)\n",
    "print(stc1, end='', file=of)\n",
    "print(str1, end='', file=of)\n",
    "print(\"EReady,\", file=of)\n",
    "if ar!=0:\n",
    "    print(\"output \", end='', file=of)\n",
    "    print(stc1, end='', file=of)\n",
    "    print(str2, end='', file=of)\n",
    "    print(\"EReady,\", file=of)\n",
    "else:\n",
    "    print(\"output reg NUEReady1 = 0, //not used\", file=of)\n",
    "if ac!=0:\n",
    "    print(\"output \", end='', file=of)\n",
    "    print(stc2, end='', file=of)\n",
    "    print(str1, end='', file=of)\n",
    "    print(\"EReady,\", file=of)\n",
    "    if ar!=0:\n",
    "        print(\"output \", end='', file=of)\n",
    "        print(stc2, end='', file=of)\n",
    "        print(str2, end='', file=of)\n",
    "        print(\"EReady,\", file=of)\n",
    "    else:\n",
    "        print(\"output reg NUEReady2 = 0, //not used\", file=of)\n",
    "else:\n",
    "    print(\"output reg NUEReady2 = 0, //not used\", file=of)\n",
    "    print(\"output reg NUEReady3 = 0, //not used\", file=of)\n",
    "if lgRS<=1:\n",
    "    print(\"output rowSetOutNo,\", file=of)\n",
    "else:\n",
    "    print(\"output [{}:0] rowSetOutNo,\".format(lgRS-1), file=of)\n",
    "if lgCS<=1:\n",
    "    print(\"output columnSetOutNo,\", file=of)\n",
    "else:\n",
    "    print(\"output [{}:0] columnSetOutNo,\".format(lgCS-1), file=of)\n",
    "lgN=math.ceil(math.log2(N))\n",
    "al=-1+lgN\n",
    "if al==0:\n",
    "    print(\"output signed [(2*IN_WIDTH):0] \", end='',file=of)\n",
    "elif al<0:\n",
    "    print(\"output signed [(2*IN_WIDTH){}:0] \".format(al), end='',file=of)\n",
    "else:\n",
    "    print(\"output signed [(2*IN_WIDTH)+{}:0] \".format(al), end='',file=of)\n",
    "for i in range(PC):\n",
    "    for j in range(PR):\n",
    "        print(\"EC{}R{}, \".format(i, j), end='',file=of)\n",
    "print(file=of)\n",
    "print(\"output early\", end='', file=of)\n",
    "print(stc1, end='', file=of)\n",
    "print(str1, end='', file=of)\n",
    "print(\"EReady,\", file=of)\n",
    "if ar!=0:\n",
    "    print(\"output early\", end='', file=of)\n",
    "    print(stc1, end='', file=of)\n",
    "    print(str2, end='', file=of)\n",
    "    print(\"EReady,\", file=of)\n",
    "else:\n",
    "    print(\"output reg NUeEReady1 = 0, //not used\", file=of)\n",
    "if ac!=0:\n",
    "    print(\"output early\", end='', file=of)\n",
    "    print(stc2, end='', file=of)\n",
    "    print(str1, end='', file=of)\n",
    "    print(\"EReady,\", file=of)\n",
    "    if ar!=0:\n",
    "        print(\"output early\", end='', file=of)\n",
    "        print(stc2, end='', file=of)\n",
    "        print(str2, end='', file=of)\n",
    "        print(\"EReady\", file=of)\n",
    "    else:\n",
    "        print(\"output reg NUeEReady2 = 0 //not used\", file=of)\n",
    "else:\n",
    "    print(\"output reg NUeEReady2 = 0, //not used\", file=of)\n",
    "    print(\"output reg NUeEReady3 = 0 //not used\", file=of)\n",
    "print(\");\\n\", file=of)"
   ]
  },
  {
   "cell_type": "code",
   "execution_count": 34,
   "metadata": {
    "collapsed": false
   },
   "outputs": [
    {
     "name": "stdout",
     "output_type": "stream",
     "text": [
      "wire MMInReady;\n",
      "wire inReadyCR = (columnSetInNo==0) & inReady;\n",
      "wire signed [IN_WIDTH-1:0] ASE0R0, ASE1R0, ASE2R0, ASE3R0;\n",
      "OTItoSeries_9_HRx3_S4E_NOR_IL #( .IN_WIDTH(IN_WIDTH) )\n",
      "OTItSA0 (\n",
      "clk, reset, enable,\n",
      "NISSA0, //not used\n",
      "ISA0, //not used\n",
      "inReadyCR,\n",
      "AE0R0, AE1R0, AE2R0, AE3R0, AE4R0, AE5R0, AE6R0, AE7R0, AE8R0, \n",
      "MMinReady,\n",
      "AS2outReady, //not used\n",
      "AoutSeries, //not used\n",
      "ASE0R0, ASE1R0, ASE2R0, ASE3R0\n",
      ");\n",
      "\n",
      "wire signed [IN_WIDTH-1:0] ASE0R1, ASE1R1, ASE2R1, ASE3R1;\n",
      "OTItoSeries_9_HRx3_S4E_NOR_IL #( .IN_WIDTH(IN_WIDTH) )\n",
      "OTItSA1 (\n",
      "clk, reset, enable,\n",
      "NISSA1, //not used\n",
      "ISA1, //not used\n",
      "inReadyCR,\n",
      "AE0R1, AE1R1, AE2R1, AE3R1, AE4R1, AE5R1, AE6R1, AE7R1, AE8R1, \n",
      "A1outReady, //not used\n",
      "AS2outReady, //not used\n",
      "AoutSeries, //not used\n",
      "ASE0R1, ASE1R1, ASE2R1, ASE3R1\n",
      ");\n",
      "\n"
     ]
    }
   ],
   "source": [
    "print(\"wire MMInReadyR;\", file=of)\n",
    "if Enable_Row_Latch>0:\n",
    "    print(\"wire inReadyCR = (columnSetInNo==0) & inReady;\", file=of)\n",
    "for j in range(PR):\n",
    "    print(\"wire signed [IN_WIDTH-1:0] \", end='', file=of)\n",
    "    for i in range(NMult-1):\n",
    "        print(\"ASE{}R{}, \".format(i, j), end='', file=of)\n",
    "    print(\"ASE{}R{};\".format(NMult-1, j), file=of)\n",
    "    print(\"OTItoSeries_{}_HRx{}_S{}E_NOR_\".format(N, HRR, NMult), end='', file=of)\n",
    "    if Enable_Input_Latch<=0:\n",
    "        print(\"N\", end='', file=of)\n",
    "    print(\"IL #( .IN_WIDTH(IN_WIDTH) )\", file=of)\n",
    "    print(\"OTItSA{} (\".format(j), file=of)\n",
    "    print(\"clk, reset, enable,\", file=of)\n",
    "    print(\"NISSA{}, //not used\".format(j), file=of)        \n",
    "    print(\"ISA{}, //not used\".format(j), file=of)\n",
    "    if Enable_Row_Latch>0:\n",
    "        print(\"inReadyCR,\", file=of)\n",
    "    else:\n",
    "        print(\"inReady,\", file=of)    \n",
    "    for i in range(N):\n",
    "        print(\"AE{}R{}, \".format(i, j), end='', file=of)\n",
    "    print(file=of)\n",
    "    if j==0:\n",
    "        print(\"MMInReadyR,\", file=of)\n",
    "    else:\n",
    "        print(\"A{}outReady, //not used\".format(j), file=of)\n",
    "    print(\"AS2outReady, //not used\", file=of)\n",
    "    print(\"AoutSeries, //not used\", file=of)\n",
    "    for i in range(NMult-1):\n",
    "        print(\"ASE{}R{}, \".format(i, j), end='', file=of)\n",
    "    print(\"ASE{}R{}\".format(NMult-1, j), file=of)\n",
    "    print(\");\\n\", file=of)"
   ]
  },
  {
   "cell_type": "code",
   "execution_count": 35,
   "metadata": {
    "collapsed": false
   },
   "outputs": [
    {
     "name": "stdout",
     "output_type": "stream",
     "text": [
      "wire inReadyCC = (rowSetInNo==0) & inReady;\n",
      "wire signed [IN_WIDTH-1:0] BSE0C0, BSE1C0, BSE2C0, BSE3C0;\n",
      "OTItoSeries_9_HRx3_S4E_NOR_IL #( .IN_WIDTH(IN_WIDTH) )\n",
      "OTItSB0 (\n",
      "clk, reset, enable,\n",
      "NISSB0, //not used\n",
      "ISB0, //not used\n",
      "inReadyCC,\n",
      "BE0C0, BE1C0, BE2C0, BE3C0, BE4C0, BE5C0, BE6C0, BE7C0, BE8C0, \n",
      "B0outReady, //not used\n",
      "BS2outReady, //not used\n",
      "BoutSeries, //not used\n",
      "BSE0C0, BSE1C0, BSE2C0, BSE3C0\n",
      ");\n",
      "\n",
      "wire signed [IN_WIDTH-1:0] BSE0C1, BSE1C1, BSE2C1, BSE3C1;\n",
      "OTItoSeries_9_HRx3_S4E_NOR_IL #( .IN_WIDTH(IN_WIDTH) )\n",
      "OTItSB1 (\n",
      "clk, reset, enable,\n",
      "NISSB1, //not used\n",
      "ISB1, //not used\n",
      "inReadyCC,\n",
      "BE0C1, BE1C1, BE2C1, BE3C1, BE4C1, BE5C1, BE6C1, BE7C1, BE8C1, \n",
      "B1outReady, //not used\n",
      "BS2outReady, //not used\n",
      "BoutSeries, //not used\n",
      "BSE0C1, BSE1C1, BSE2C1, BSE3C1\n",
      ");\n",
      "\n"
     ]
    }
   ],
   "source": [
    "print(\"wire MMInReadyC;\", file=of)\n",
    "if Enable_Column_Latch>0:\n",
    "    print(\"wire inReadyCC = (rowSetInNo==0) & inReady;\", file=of)\n",
    "for j in range(PC):\n",
    "    print(\"wire signed [IN_WIDTH-1:0] \", end='', file=of)\n",
    "    for i in range(NMult-1):\n",
    "        print(\"BSE{}C{}, \".format(i, j), end='', file=of)\n",
    "    print(\"BSE{}C{};\".format(NMult-1, j), file=of)\n",
    "    print(\"OTItoSeries_{}_HRx{}_S{}E_NOR_\".format(N, HRR, NMult), end='', file=of)\n",
    "    if Enable_Input_Latch<=0:\n",
    "        print(\"N\", end='', file=of)\n",
    "    print(\"IL #( .IN_WIDTH(IN_WIDTH) )\", file=of)\n",
    "    print(\"OTItSB{} (\".format(j), file=of)\n",
    "    print(\"clk, reset, enable,\", file=of)\n",
    "    print(\"NISSB{}, //not used\".format(j), file=of)        \n",
    "    print(\"ISB{}, //not used\".format(j), file=of)\n",
    "    if Enable_Column_Latch>0:\n",
    "        print(\"inReadyCC,\", file=of)\n",
    "    else:\n",
    "        print(\"inReady,\", file=of)    \n",
    "    for i in range(N):\n",
    "        print(\"BE{}C{}, \".format(i, j), end='', file=of)\n",
    "    print(file=of)\n",
    "    if j==0:\n",
    "        print(\"MMInReadyC,\", file=of)\n",
    "    else:\n",
    "        print(\"B{}outReady, //not used\".format(j), file=of)\n",
    "    print(\"BS2outReady, //not used\", file=of)\n",
    "    print(\"BoutSeries, //not used\", file=of)\n",
    "    for i in range(NMult-1):\n",
    "        print(\"BSE{}C{}, \".format(i, j), end='', file=of)\n",
    "    print(\"BSE{}C{}\".format(NMult-1, j), file=of)\n",
    "    print(\");\\n\", file=of)"
   ]
  },
  {
   "cell_type": "code",
   "execution_count": 36,
   "metadata": {
    "collapsed": false
   },
   "outputs": [
    {
     "name": "stdout",
     "output_type": "stream",
     "text": [
      "MatrixMatrixMultiply_5_9_5_2PR_2PC_S4E_HRx3_C3_A2_CL_RL#( .IN_WIDTH(IN_WIDTH), .INPUT_REG_DEPTH(INPUT_REG_DEPTH), .MULT_PIPE_DEPTH(MULT_PIPE_DEPTH) )\n",
      "MMM(clk, reset, enable,\n",
      "newInSeriesStart,\n",
      "inSeries,\n",
      "rowSetInNo,\n",
      "columnSetInNo,\n",
      "MMinReady,\n",
      "ASE0R0, ASE1R0, ASE2R0, ASE3R0, \n",
      "ASE0R1, ASE1R1, ASE2R1, ASE3R1, \n",
      "BSE0C0, BSE1C0, BSE2C0, BSE3C0, \n",
      "BSE0C1, BSE1C1, BSE2C1, BSE3C1, \n",
      "C0R0EReady,\n",
      "C0R1EReady,\n",
      "C1R0EReady,\n",
      "C1R1EReady,\n",
      "rowSetOutNo,\n",
      "columnSetOutNo,\n",
      "EC0R0, EC0R1, EC1R0, EC1R1, \n",
      "earlyC0R0EReady,\n",
      "earlyC0R1EReady,\n",
      "earlyC1R0EReady,\n",
      "earlyC1R1EReady\n",
      ");\n",
      "\n"
     ]
    }
   ],
   "source": [
    "IModuleName=\"MatrixMatrixMultiply_{}_{}_{}_{}PR_{}PC_S{}E_HRx{}_C{}_A{}_\".format(M, N, Q, PR, PC, NMult, HRR, MAMCS, AdderSize)\n",
    "if Enable_Column_Latch<=0:\n",
    "    IModuleName+=\"N\"\n",
    "IModuleName+=\"CL_\"\n",
    "if Enable_Row_Latch<=0:\n",
    "    IModuleName+=\"N\"        \n",
    "IModuleName+=\"RL\"\n",
    "\n",
    "print(\"wire MMInReady = MMInReadyR | MMInReadyC;\", file=of)\n",
    "print(IModuleName+\"#( .IN_WIDTH(IN_WIDTH), .INPUT_REG_DEPTH(INPUT_REG_DEPTH), .MULT_PIPE_DEPTH(MULT_PIPE_DEPTH) )\".format(M, N, PR, NMult, HRR, MAMCS, AdderSize), file=of)\n",
    "print(\"MMM(clk, reset, enable,\".format(i), file=of)\n",
    "print(\"newInSeriesStart,\", file=of)\n",
    "print(\"inSeries,\".format(i), file=of)\n",
    "print(\"rowSetInNo,\", file=of)\n",
    "print(\"columnSetInNo,\", file=of)\n",
    "print(\"MMInReady,\", file=of)\n",
    "for j in range(PR):\n",
    "    for k in range(NMult):\n",
    "        print(\"ASE{}R{}, \".format(k, j), end='', file=of)\n",
    "    print(file=of)\n",
    "for j in range(PC):\n",
    "    for k in range(NMult):\n",
    "        print(\"BSE{}C{}, \".format(k, j), end='', file=of)\n",
    "    print(file=of)\n",
    "\n",
    "print(stc1, end='', file=of)\n",
    "print(str1, end='', file=of)\n",
    "print(\"EReady,\", file=of)\n",
    "if ar!=0:\n",
    "    print(stc1, end='', file=of)\n",
    "    print(str2, end='', file=of)\n",
    "    print(\"EReady,\", file=of)\n",
    "else:\n",
    "    print(\"NUmmEReady1, //not used\", file=of)\n",
    "if ac!=0:\n",
    "    print(stc2, end='', file=of)\n",
    "    print(str1, end='', file=of)\n",
    "    print(\"EReady,\", file=of)\n",
    "    if ar!=0:\n",
    "        print(stc2, end='', file=of)\n",
    "        print(str2, end='', file=of)\n",
    "        print(\"EReady,\", file=of)\n",
    "    else:\n",
    "        print(\"NUmmEReady2, //not used\", file=of)\n",
    "else:\n",
    "    print(\"NUmmEReady2, //not used\", file=of)\n",
    "    print(\"NUmmEReady3, //not used\", file=of)\n",
    "\n",
    "print(\"rowSetOutNo,\", file=of)\n",
    "print(\"columnSetOutNo,\", file=of)\n",
    "for i in range(PC):\n",
    "    for j in range(PR):\n",
    "        print(\"EC{}R{}, \".format(i, j), end='',file=of)\n",
    "print(file=of)\n",
    "\n",
    "print(\"early\", end='', file=of)\n",
    "print(stc1, end='', file=of)\n",
    "print(str1, end='', file=of)\n",
    "print(\"EReady,\", file=of)\n",
    "if ar!=0:\n",
    "    print(\"early\", end='', file=of)\n",
    "    print(stc1, end='', file=of)\n",
    "    print(str2, end='', file=of)\n",
    "    print(\"EReady,\", file=of)\n",
    "else:\n",
    "    print(\"NUmmeEReady1, //not used\", file=of)\n",
    "if ac!=0:\n",
    "    print(\"early\", end='', file=of)\n",
    "    print(stc2, end='', file=of)\n",
    "    print(str1, end='', file=of)\n",
    "    print(\"EReady,\", file=of)\n",
    "    if ar!=0:\n",
    "        print(\"early\", end='', file=of)\n",
    "        print(stc2, end='', file=of)\n",
    "        print(str2, end='', file=of)\n",
    "        print(\"EReady\", file=of)\n",
    "    else:\n",
    "        print(\"NUmmeEReady2 //not used\", file=of)\n",
    "else:\n",
    "    print(\"NUmmeEReady2, //not used\", file=of)\n",
    "    print(\"NUmmeEReady3 //not used\", file=of)\n",
    "\n",
    "print(\");\", file=of)\n",
    "print(file=of)"
   ]
  },
  {
   "cell_type": "code",
   "execution_count": 37,
   "metadata": {
    "collapsed": false
   },
   "outputs": [
    {
     "name": "stdout",
     "output_type": "stream",
     "text": [
      "endmodule\n"
     ]
    }
   ],
   "source": [
    "print(\"endmodule\", file=of)"
   ]
  },
  {
   "cell_type": "code",
   "execution_count": 38,
   "metadata": {
    "collapsed": true
   },
   "outputs": [],
   "source": [
    "if __Print_To_File>0:\n",
    "    of.close()"
   ]
  }
 ],
 "metadata": {
  "kernelspec": {
   "display_name": "Python 3",
   "language": "python",
   "name": "python3"
  },
  "language_info": {
   "codemirror_mode": {
    "name": "ipython",
    "version": 3
   },
   "file_extension": ".py",
   "mimetype": "text/x-python",
   "name": "python",
   "nbconvert_exporter": "python",
   "pygments_lexer": "ipython3",
   "version": "3.5.1"
  }
 },
 "nbformat": 4,
 "nbformat_minor": 0
}
