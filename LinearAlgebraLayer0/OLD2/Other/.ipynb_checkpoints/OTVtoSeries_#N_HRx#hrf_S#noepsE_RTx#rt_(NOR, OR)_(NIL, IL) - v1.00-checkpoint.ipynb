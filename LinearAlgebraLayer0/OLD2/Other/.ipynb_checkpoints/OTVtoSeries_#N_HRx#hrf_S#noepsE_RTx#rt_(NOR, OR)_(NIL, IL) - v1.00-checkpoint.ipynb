{
 "cells": [
  {
   "cell_type": "code",
   "execution_count": 52,
   "metadata": {
    "collapsed": false
   },
   "outputs": [],
   "source": [
    "import sys\n",
    "import math"
   ]
  },
  {
   "cell_type": "code",
   "execution_count": 53,
   "metadata": {
    "collapsed": false
   },
   "outputs": [
    {
     "name": "stdout",
     "output_type": "stream",
     "text": [
      "Enter No Of Elements Per Vectors (N): 7\n"
     ]
    }
   ],
   "source": [
    "#N>=1\n",
    "N = input('Enter No Of Elements Per Vectors (N): ')"
   ]
  },
  {
   "cell_type": "code",
   "execution_count": 54,
   "metadata": {
    "collapsed": false
   },
   "outputs": [
    {
     "name": "stdout",
     "output_type": "stream",
     "text": [
      "Enter HRR (empty for 2): 3\n"
     ]
    }
   ],
   "source": [
    "#HRR>=2\n",
    "HRR = input('Enter HRR (empty for 2): ')"
   ]
  },
  {
   "cell_type": "code",
   "execution_count": 55,
   "metadata": {
    "collapsed": false
   },
   "outputs": [],
   "source": [
    "N = int(N)\n",
    "if N<1:\n",
    "    N=1\n",
    "if not HRR:\n",
    "    HRR=2\n",
    "else:\n",
    "    HRR = int(HRR)\n",
    "    if HRR<2:\n",
    "        HRR=2\n",
    "    if HRR>N:\n",
    "        HRR=N\n",
    "NOEPSMin = math.ceil(N/HRR);\n",
    "NOEPSMax = math.ceil(N/(HRR-1))-1;\n",
    "NOEPSMM = (NOEPSMin!=NOEPSMax)"
   ]
  },
  {
   "cell_type": "code",
   "execution_count": 56,
   "metadata": {
    "collapsed": false
   },
   "outputs": [],
   "source": [
    "#>=NOIPSMin, <=NOIPSMax\n",
    "if NOEPSMM:\n",
    "    NOEPSi = input('Enter No Of Elements Per Series (>={}, <={}, empty for {}): '.format(NOEPSMin, NOEPSMax, NOEPSMin))"
   ]
  },
  {
   "cell_type": "code",
   "execution_count": 57,
   "metadata": {
    "collapsed": false
   },
   "outputs": [
    {
     "name": "stdout",
     "output_type": "stream",
     "text": [
      "Enter No Of Vector Repeat Times (empty for 1): 4\n"
     ]
    }
   ],
   "source": [
    "#RS>=2\n",
    "RS = input('Enter No Of Vector Repeat Times (empty for 1): ')"
   ]
  },
  {
   "cell_type": "code",
   "execution_count": 58,
   "metadata": {
    "collapsed": false
   },
   "outputs": [
    {
     "name": "stdout",
     "output_type": "stream",
     "text": [
      "Enter IN_WIDTH Default Value (empty for 10): \n"
     ]
    }
   ],
   "source": [
    "#IN_WIDTH>=1\n",
    "IN_WIDTH = input('Enter IN_WIDTH Default Value (empty for 10): ')"
   ]
  },
  {
   "cell_type": "code",
   "execution_count": 59,
   "metadata": {
    "collapsed": false
   },
   "outputs": [
    {
     "name": "stdout",
     "output_type": "stream",
     "text": [
      "Enable Output Registers? (empty or 0 to disable, 1 to enable): 1\n"
     ]
    }
   ],
   "source": [
    "Enable_Output_Registers = input('Enable Output Registers? (empty or 0 to disable, 1 to enable): ')"
   ]
  },
  {
   "cell_type": "code",
   "execution_count": 60,
   "metadata": {
    "collapsed": false
   },
   "outputs": [
    {
     "name": "stdout",
     "output_type": "stream",
     "text": [
      "Enable Input Latch? (empty or 0 to disable, 1 to enable): 1\n"
     ]
    }
   ],
   "source": [
    "Enable_Input_Latch = input('Enable Input Latch? (empty or 0 to disable, 1 to enable): ')"
   ]
  },
  {
   "cell_type": "code",
   "execution_count": 61,
   "metadata": {
    "collapsed": true
   },
   "outputs": [],
   "source": [
    "if HRR>1 and NOEPSMM:\n",
    "    if not NOEPSi:\n",
    "        NOEPS=NOEPSMin\n",
    "    else:\n",
    "        NOEPSi = int(NOEPSi)\n",
    "        if NOEPSi<NOEPSMin:\n",
    "            NOEPS=NOEPSMin\n",
    "        elif NOEPSi>NOEPSMax:\n",
    "            NOEPS=NOEPSMax\n",
    "        else:\n",
    "            NOEPS=NOEPSi\n",
    "else:\n",
    "    NOEPS=NOEPSMin\n",
    "\n",
    "if not RS:\n",
    "    RS=2\n",
    "else:\n",
    "    RS = int(RS)\n",
    "    if RS<2:\n",
    "        RS=2\n",
    "\n",
    "if not IN_WIDTH:\n",
    "    IN_WIDTH=10\n",
    "else:\n",
    "    IN_WIDTH = int(IN_WIDTH)\n",
    "    if IN_WIDTH<1:\n",
    "        IN_WIDTH=1\n",
    "\n",
    "if not Enable_Output_Registers:\n",
    "    Enable_Output_Registers=0\n",
    "else:\n",
    "    Enable_Output_Registers = int(Enable_Output_Registers)\n",
    "\n",
    "if not Enable_Input_Latch:\n",
    "    Enable_Input_Latch=0\n",
    "else:\n",
    "    Enable_Input_Latch = int(Enable_Input_Latch)"
   ]
  },
  {
   "cell_type": "code",
   "execution_count": 62,
   "metadata": {
    "collapsed": true
   },
   "outputs": [],
   "source": [
    "__Print_To_File = 0\n",
    "\n",
    "if __Print_To_File<=0:\n",
    "    of=sys.stdout\n",
    "else:\n",
    "    filename=\"./OTItoSeries_{}_HRx{}_S{}E_RTx{}_\".format(N, HRR, NOEPS, RS)\n",
    "    if Enable_Output_Registers<=0:\n",
    "        filename+=\"N\"\n",
    "    filename+=\"OR_\"\n",
    "    if Enable_Input_Latch<=0:\n",
    "        filename+=\"N\"\n",
    "    filename+=\"IL.v\"\n",
    "    of=open(filename, 'w+')        "
   ]
  },
  {
   "cell_type": "code",
   "execution_count": 63,
   "metadata": {
    "collapsed": false
   },
   "outputs": [
    {
     "name": "stdout",
     "output_type": "stream",
     "text": [
      "`timescale 1ns / 1ps\n",
      "\n",
      "module OTItoSeries_7_HRx3_S3E_RTx4_OR_IL\n",
      "#(\n",
      "parameter IN_WIDTH = 10\n",
      ")(\n",
      "input clk, reset, enable,\n",
      "output reg readyForNewDataSeries = 1,\n",
      "output reg [1:0] inSeries = 0,\n",
      "output reg repeatTimeIn = 0,\n",
      "input inReady,\n",
      "input signed [IN_WIDTH-1:0] A0, A1, A2, A3, A4, A5, A6, \n",
      "output reg O0outReady,\n",
      "output reg O1toO2outReady,\n",
      "output reg [{}:0] outSeries = 2,\n",
      "output reg [1:0] repeatTimeOut = 3,\n",
      "output reg signed [IN_WIDTH:0] O0, O1, O3,\n",
      "output O0earlyOutReady,\n",
      "output O1toO2earlyOutReady\n",
      ");\n",
      "\n"
     ]
    }
   ],
   "source": [
    "print(\"`timescale 1ns / 1ps\\n\", file=of)\n",
    "print(\"module OTItoSeries_{}_HRx{}_S{}E_RTx{}_\".format(N, HRR, NOEPS, RS), end='', file=of)\n",
    "if Enable_Output_Registers<=0:\n",
    "    print(\"N\", end='', file=of)\n",
    "print(\"OR_\", end='', file=of)\n",
    "if Enable_Input_Latch<=0:\n",
    "    print(\"N\", end='', file=of)\n",
    "print(\"IL\", file=of)\n",
    "print(\"#(\", file=of)\n",
    "print(\"parameter IN_WIDTH = {}\".format(IN_WIDTH), file=of)\n",
    "print(\")(\", file=of)\n",
    "print(\"input clk, reset, enable,\", file=of)\n",
    "print(\"output reg readyForNewDataSeries = 1,\", file=of)\n",
    "lghrr=math.ceil(math.log2(HRR))\n",
    "if lghrr==1:\n",
    "    print(\"output reg inSeries = 0,\", file=of)\n",
    "elif lghrr>1:\n",
    "    print(\"output reg [{}:0] inSeries = 0,\".format(lghrr-1), file=of)\n",
    "if lgRS<=1:\n",
    "    print(\"output reg repeatTimeIn = 0,\", file=of)\n",
    "else:\n",
    "    print(\"output reg [{}:0] repeatTimeIn = 0,\".format(lgRS-1), end='', file=of)\n",
    "\n",
    "print(\"input inReady,\", file=of)\n",
    "print(\"input signed [IN_WIDTH-1:0] \", end='', file=of)\n",
    "for i in range(N):\n",
    "    print(\"A{}, \".format(i), end='', file=of)\n",
    "print(file=of)\n",
    "NE = N - NOEPS*(HRR-1)\n",
    "while NE<=0:\n",
    "    NE += NOEPS\n",
    "if NE==1:\n",
    "    print(\"output reg O0outReady,\", file=of)\n",
    "else:\n",
    "    print(\"output reg O0toO{}outReady,\".format(NE-1), file=of)\n",
    "if NE==NOEPS:\n",
    "    print(\"output reg ONoutReady=0, //not used\", file=of)\n",
    "elif NE==NOEPS-1:\n",
    "    print(\"output reg O{}outReady,\".format(NE), file=of)\n",
    "else:\n",
    "    print(\"output reg O{}toO{}outReady,\".format(NE, NOEPS-1), file=of)\n",
    "print(\"output \", end='', file=of)\n",
    "if Enable_Output_Registers>0:\n",
    "    print(\"reg \", end='', file=of)\n",
    "if lghrr==1:\n",
    "    print(\"outSeries\", end='', file=of)\n",
    "elif lghrr>1:\n",
    "    print(\"[{}:0] outSeries\".format(lghrr-1)  end='',, file=of)\n",
    "if Enable_Output_Registers>0:\n",
    "    print(\" = {},\".format(HRR-1), file=of)\n",
    "else:\n",
    "    print(\",\", file=of)\n",
    "print(\"output \", end='', file=of)\n",
    "if Enable_Output_Registers>0:\n",
    "    print(\"reg \", end='', file=of)\n",
    "lgRS=math.ceil(math.log2(RS))\n",
    "if lgRS<=1:\n",
    "    print(\"repeatTimeOut\", end='', file=of)\n",
    "else:\n",
    "    print(\"[{}:0] repeatTimeOut\".format(lgRS-1), end='', file=of)\n",
    "if Enable_Output_Registers>0:\n",
    "    print(\" = {},\".format(RS-1), file=of)\n",
    "else:\n",
    "    print(\",\", file=of)\n",
    "print(\"output reg signed [IN_WIDTH-1:0] \", end='', file=of)\n",
    "for i in range(NOEPS-1):\n",
    "    print(\"O{}, \".format(i), end='', file=of)\n",
    "print(\"O{}\".format(NOEPS-1), end='', file=of)\n",
    "if Enable_Output_Registers>0:\n",
    "    print(\",\", file=of)\n",
    "    if NE==1:\n",
    "        print(\"output O0earlyOutReady,\", file=of)\n",
    "    else:\n",
    "        print(\"output O0toO{}earlyOutReady,\".format(NE-1), file=of)\n",
    "    if NE==NOEPS:\n",
    "        print(\"output reg ONearlyOutReady=0 //not used\", file=of)\n",
    "    elif NE==NOEPS-1:\n",
    "        print(\"output O{}earlyOutReady\".format(NE), file=of)\n",
    "    else:\n",
    "        print(\"output O{}toO{}earlyOutReady\".format(NE, NOEPS-1), file=of)\n",
    "else:\n",
    "    print(file=of)\n",
    "print(\");\\n\", file=of)"
   ]
  },
  {
   "cell_type": "code",
   "execution_count": 64,
   "metadata": {
    "collapsed": false
   },
   "outputs": [
    {
     "name": "stdout",
     "output_type": "stream",
     "text": [
      "always @(posedge clk) begin\n",
      "\tif(reset) begin\n",
      "\t\treadyForNewDataSeries <= 1;\n",
      "\t\tinSeries <= 0;\n",
      "\tend\n",
      "\telse if(enable) begin\n",
      "\t\tif(inSeries==0) begin\n",
      "\t\t\tif(inReady) begin\n",
      "\t\t\t\tif(repeatTimeIn==0) begin\n",
      "\t\t\t\t\treadyForNewDataSeries <= 0;\n",
      "\t\t\t\tend\n",
      "\t\t\t\tinSeries <= 1;\n",
      "\t\t\tend\n",
      "\t\tend\n",
      "\t\telse if(inSeries==2) begin\n",
      "\t\t\tif(repeatTimeIn==3) begin\n",
      "\t\t\t\treadyForNewDataSeries <= 1;\n",
      "\t\t\t\trepeatTimeIn <= 0;\n",
      "\t\t\tend\n",
      "\t\t\telse begin\n",
      "\t\t\t\trepeatTimeIn <= repeatTimeIn+1;\n",
      "\t\t\tend\n",
      "\t\t\tinSeries <= 0;\n",
      "\t\tend\n",
      "\t\telse begin\n",
      "\t\t\tinSeries <= 2;\n",
      "\t\tend\n",
      "\tend\n",
      "end\n",
      "\n"
     ]
    }
   ],
   "source": [
    "print(\"always @(posedge clk) begin\", file=of)\n",
    "print(\"\\tif(reset) begin\", file=of)\n",
    "print(\"\\t\\treadyForNewDataSeries <= 1;\", file=of)\n",
    "print(\"\\t\\tinSeries <= 0;\", file=of)\n",
    "print(\"\\tend\", file=of)\n",
    "print(\"\\telse if(enable) begin\", file=of)\n",
    "print(\"\\t\\tif(inSeries==0) begin\", file=of)\n",
    "print(\"\\t\\t\\tif(inReady) begin\", file=of)\n",
    "print(\"\\t\\t\\t\\tif(repeatTimeIn==0) begin\", file=of)\n",
    "print(\"\\t\\t\\t\\t\\treadyForNewDataSeries <= 0;\", file=of)\n",
    "print(\"\\t\\t\\t\\tend\", file=of)\n",
    "print(\"\\t\\t\\t\\tinSeries <= 1;\", file=of)\n",
    "print(\"\\t\\t\\tend\", file=of)\n",
    "print(\"\\t\\tend\", file=of)\n",
    "print(\"\\t\\telse\", end='', file=of)\n",
    "if HRR>2:\n",
    "    print(\" if(inSeries=={})\".format(HRR-1), end='', file=of)\n",
    "print(\" begin\", file=of)\n",
    "print(\"\\t\\t\\tif(repeatTimeIn=={}) begin\".format(RS-1), file=of)\n",
    "print(\"\\t\\t\\t\\treadyForNewDataSeries <= 1;\", file=of)\n",
    "print(\"\\t\\t\\t\\trepeatTimeIn <= 0;\", file=of)\n",
    "print(\"\\t\\t\\tend\", file=of)\n",
    "print(\"\\t\\t\\telse begin\", file=of)\n",
    "if RS==2:\n",
    "    print(\"\\t\\t\\t\\trepeatTimeIn <= 1;\", file=of)\n",
    "else:\n",
    "    print(\"\\t\\t\\t\\trepeatTimeIn <= repeatTimeIn+1;\", file=of)\n",
    "print(\"\\t\\t\\tend\", file=of)\n",
    "print(\"\\t\\t\\tinSeries <= 0;\", file=of)\n",
    "print(\"\\t\\tend\", file=of)\n",
    "if HRR>2:\n",
    "    print(\"\\t\\telse begin\", file=of)\n",
    "    if HRR==3:\n",
    "        print(\"\\t\\t\\tinSeries <= 2;\", file=of)        \n",
    "    else:\n",
    "        print(\"\\t\\t\\tinSeries <= inSeries+1;\", file=of)\n",
    "    print(\"\\t\\tend\", file=of)\n",
    "print(\"\\tend\", file=of)\n",
    "print(\"end\", file=of)\n",
    "print(file=of)"
   ]
  },
  {
   "cell_type": "code",
   "execution_count": 73,
   "metadata": {
    "collapsed": false
   },
   "outputs": [
    {
     "name": "stdout",
     "output_type": "stream",
     "text": [
      "reg signed [IN_WIDTH-1:0] A0l, A1l, A2l, A3l, A4l, A5l, A6l;\n",
      "always @(posedge clk) begin\n",
      "\tif(enable) begin\n",
      "\t\tif(inReady & (repeatTimeIn==0) & (inSeries==0)) begin\n",
      "\t\t\tA0l <= A0; A1l <= A1; A2l <= A2; A3l <= A3; A4l <= A4; A5l <= A5; A6l <= A6; \n",
      "\t\tend\n",
      "\tend\n",
      "end\n",
      "\n"
     ]
    }
   ],
   "source": [
    "if Enable_Input_Latch>0:\n",
    "    print(\"reg signed [IN_WIDTH-1:0] \", end='', file=of)\n",
    "    for i in range(N-1):\n",
    "        print(\"A{}l, \".format(i), end='', file=of)\n",
    "    print(\"A{}l;\".format(N-1), file=of)\n",
    "    print(\"always @(posedge clk) begin\", file=of)\n",
    "    print(\"\\tif(enable) begin\", file=of)\n",
    "    print(\"\\t\\tif(inReady & (repeatTimeIn==0) & (inSeries==0)) begin\", file=of)\n",
    "    print(\"\\t\\t\\t\", end='', file=of)\n",
    "    for i in range(N):\n",
    "        print(\"A{}l <= A{}; \".format(i, i), end='', file=of)\n",
    "    print(\"\\n\\t\\tend\", file=of)\n",
    "    print(\"\\tend\", file=of)\n",
    "    print(\"end\", file=of)\n",
    "    print(file=of)"
   ]
  },
  {
   "cell_type": "code",
   "execution_count": 66,
   "metadata": {
    "collapsed": false
   },
   "outputs": [
    {
     "name": "stdout",
     "output_type": "stream",
     "text": [
      "wire eOR = ((inSeries==0) & inReady) | (inSeries!=0);\n",
      "wire eORC = ((inSeries==0) & inReady) | (inSeries==1);\n"
     ]
    }
   ],
   "source": [
    "#(inSeries==0) ? inReady : 1\n",
    "print(\"wire eOR = ((inSeries==0) & inReady) | (inSeries!=0);\", file=of)\n",
    "if NE!=NOEPS:\n",
    "    if HRR==2:\n",
    "        print(\"wire eORC = (inSeries==0) & inReady;\".format(HRR-1), file=of)\n",
    "    elif HRR==3:\n",
    "        print(\"wire eORC = ((inSeries==0) & inReady) | (inSeries==1);\".format(HRR-1), file=of)\n",
    "    else:\n",
    "        print(\"wire eORC = ((inSeries==0) & inReady) | ((inSeries!=0) & (inSeries!={}));\".format(HRR-1), file=of)"
   ]
  },
  {
   "cell_type": "code",
   "execution_count": 72,
   "metadata": {
    "collapsed": false
   },
   "outputs": [
    {
     "name": "stdout",
     "output_type": "stream",
     "text": [
      "always @(posedge clk) if(enable) begin\n",
      "\tcase(outSeries)\n",
      "\t\t0: if(inReady & (repeatTimeIn==0)) begin\n",
      "\t\t\tO0 <= A0; O1 <= A1; O2 <= A2; \n",
      "\t\telse begin\n",
      "\t\t\tO0 <= A0l; O1 <= A1l; O2 <= A2l; \n",
      "\t\tend\n",
      "\t\t1: begin\n",
      "\t\t\tO0 <= A3l; O1 <= A4l; O2 <= A5l; \n",
      "\t\tend\n",
      "\t\t2: begin\n",
      "\t\t\tO0 <= A6l; O1 <= 0; O2 <= 0; \n",
      "\t\tend\n",
      "\tendcase\n",
      "\tO0outReady <= eOR;\n",
      "\tO1toO2outReady <= eORC;\n",
      "end\n",
      "\n"
     ]
    }
   ],
   "source": [
    "if Enable_Output_Registers>0:\n",
    "    print(\"always @(posedge clk) if(enable) begin\", file=of)\n",
    "else:\n",
    "    print(\"always @(*) begin\", file=of)\n",
    "print(\"\\tcase(outSeries)\", file=of)\n",
    "print(\"\\t\\t0: if(inReady & (repeatTimeIn==0)) begin\\n\\t\\t\\t\", end='', file=of)\n",
    "for j in range(NOEPS):\n",
    "    print(\"O{} \".format(j), end='', file=of)\n",
    "    if Enable_Output_Registers>0:\n",
    "        print(\"<\", end='', file=of)\n",
    "    print(\"= A{}; \".format(j), end='', file=of)\n",
    "print(file=of)\n",
    "for i in range(HRR):\n",
    "    if i==0:\n",
    "        print(\"\\t\\telse begin\", file=of)\n",
    "    else:\n",
    "        print(\"\\t\\t{}: begin\".format(i), file=of)\n",
    "    print(\"\\t\\t\\t\", end='', file=of)\n",
    "    for j in range(NOEPS):\n",
    "        print(\"O{} \".format(j), end='', file=of)\n",
    "        if Enable_Output_Registers>0:\n",
    "            print(\"<\", end='', file=of)\n",
    "        k=NOEPS*i+j\n",
    "        if k >= N:\n",
    "            print(\"= 0; \", end='', file=of)\n",
    "        else:\n",
    "            print(\"= A{}\".format(k), end='', file=of)\n",
    "            if Enable_Input_Latch>0:\n",
    "                print(\"l\", end='', file=of)\n",
    "            print(\"; \", end='', file=of)\n",
    "    print(file=of)\n",
    "    print(\"\\t\\tend\", file=of)\n",
    "print(\"\\tendcase\", file=of)\n",
    "\n",
    "if NE==1:\n",
    "    print(\"\\tO0outReady \", end='', file=of)\n",
    "else:\n",
    "    print(\"\\tO0toO{}outReady \".format(NE-1), end='', file=of)\n",
    "if Enable_Output_Registers>0:\n",
    "    print(\"<\", end='', file=of)\n",
    "print(\"= eOR;\", file=of)\n",
    "\n",
    "if NE!=NOEPS:\n",
    "    if NE==NOEPS-1:\n",
    "        print(\"\\tO{}outReady \".format(NE), end='', file=of)\n",
    "    else:\n",
    "        print(\"\\tO{}toO{}outReady \".format(NE, NOEPS-1), end='', file=of)\n",
    "    if Enable_Output_Registers>0:\n",
    "        print(\"<\", end='', file=of)\n",
    "    print(\"= eORC;\", file=of)\n",
    "print(\"end\\n\", file=of)"
   ]
  },
  {
   "cell_type": "code",
   "execution_count": 68,
   "metadata": {
    "collapsed": false
   },
   "outputs": [
    {
     "name": "stdout",
     "output_type": "stream",
     "text": [
      "assign O0earlyOutReady = eOR;\n",
      "assign O1toO2earlyOutReady = eORC;\n"
     ]
    }
   ],
   "source": [
    "if Enable_Output_Registers>0:\n",
    "    if NE==1:\n",
    "        print(\"assign O0earlyOutReady = eOR;\", file=of)\n",
    "    else:\n",
    "        print(\"assign O0toO{}earlyOutReady = eOR;\".format(NE-1), file=of)\n",
    "    if NE==NOEPS-1:\n",
    "        print(\"assign O{}earlyOutReady = eORC;\".format(NE), file=of)\n",
    "    elif NE!=NOEPS:\n",
    "        print(\"assign O{}toO{}earlyOutReady = eORC;\".format(NE, NOEPS-1), file=of)"
   ]
  },
  {
   "cell_type": "code",
   "execution_count": 69,
   "metadata": {
    "collapsed": false
   },
   "outputs": [
    {
     "name": "stdout",
     "output_type": "stream",
     "text": [
      "always @(posedge clk) begin\n",
      "\tif(reset) begin\n",
      "\t\toutSeries <= 2;\n",
      "\tend\n",
      "\telse if(enable) begin\n",
      "\t\tif((outSeries==0) & inReady) begin\n",
      "\t\t\toutSeries <= 1;\n",
      "\t\tend\n",
      "\t\telse if(outSeries==2) begin\n",
      "\t\t\tif(repeatTimeOut==3) begin\n",
      "\t\t\t\trepeatTimeOut <= 0;\n",
      "\t\t\tend\n",
      "\t\t\telse begin\n",
      "\t\t\t\trepeatTimeOut <= repeatTimeOut+1;\n",
      "\t\t\tend\n",
      "\t\t\toutSeries <= 0;\n",
      "\t\tend\n",
      "\t\telse begin\n",
      "\t\t\toutSeries <= 2;\n",
      "\t\tend\n",
      "\tend\n",
      "end\n",
      "\n"
     ]
    }
   ],
   "source": [
    "if Enable_Output_Registers<=0:\n",
    "    print(\"assign outSeries = inSeries;\", file=of)\n",
    "    print(\"assign repeatTimeOut = repeatTimeIn;\", file=of)\n",
    "else:\n",
    "    print(\"always @(posedge clk) begin\", file=of)\n",
    "    print(\"\\tif(reset) begin\", file=of)\n",
    "    print(\"\\t\\toutSeries <= {};\".format(HRR-1), file=of)\n",
    "    print(\"\\tend\", file=of)\n",
    "    print(\"\\telse if(enable) begin\", file=of)\n",
    "    print(\"\\t\\tif((outSeries==0) & inReady) begin\", file=of)\n",
    "    print(\"\\t\\t\\toutSeries <= 1;\", file=of)\n",
    "    print(\"\\t\\tend\", file=of)\n",
    "    print(\"\\t\\telse\", end='', file=of)\n",
    "    if HRR>2:\n",
    "        print(\" if(outSeries=={})\".format(HRR-1), end='', file=of)\n",
    "    print(\" begin\", file=of)\n",
    "    print(\"\\t\\t\\tif(repeatTimeOut=={}) begin\".format(RS-1), file=of)\n",
    "    print(\"\\t\\t\\t\\trepeatTimeOut <= 0;\", file=of)\n",
    "    print(\"\\t\\t\\tend\", file=of)\n",
    "    print(\"\\t\\t\\telse begin\", file=of)\n",
    "    if RS==2:\n",
    "        print(\"\\t\\t\\t\\trepeatTimeOut <= 1;\", file=of)\n",
    "    else:\n",
    "        print(\"\\t\\t\\t\\trepeatTimeOut <= repeatTimeOut+1;\", file=of)\n",
    "    print(\"\\t\\t\\tend\", file=of)\n",
    "    print(\"\\t\\t\\toutSeries <= 0;\", file=of)\n",
    "    print(\"\\t\\tend\", file=of)\n",
    "    if HRR>2:\n",
    "        print(\"\\t\\telse begin\", file=of)\n",
    "        if HRR==3:\n",
    "            print(\"\\t\\t\\toutSeries <= 2;\", file=of)        \n",
    "        else:\n",
    "            print(\"\\t\\t\\toutSeries <= outSeries+1;\", file=of)\n",
    "        print(\"\\t\\tend\", file=of)\n",
    "    print(\"\\tend\", file=of)\n",
    "    print(\"end\", file=of)\n",
    "    print(file=of)"
   ]
  },
  {
   "cell_type": "code",
   "execution_count": 70,
   "metadata": {
    "collapsed": false
   },
   "outputs": [
    {
     "name": "stdout",
     "output_type": "stream",
     "text": [
      "endmodule\n"
     ]
    }
   ],
   "source": [
    "print(\"endmodule\", file=of)"
   ]
  },
  {
   "cell_type": "code",
   "execution_count": 71,
   "metadata": {
    "collapsed": false
   },
   "outputs": [],
   "source": [
    "if __Print_To_File>0:\n",
    "    of.close()"
   ]
  }
 ],
 "metadata": {
  "kernelspec": {
   "display_name": "Python 3",
   "language": "python",
   "name": "python3"
  },
  "language_info": {
   "codemirror_mode": {
    "name": "ipython",
    "version": 3
   },
   "file_extension": ".py",
   "mimetype": "text/x-python",
   "name": "python",
   "nbconvert_exporter": "python",
   "pygments_lexer": "ipython3",
   "version": "3.5.1"
  }
 },
 "nbformat": 4,
 "nbformat_minor": 0
}
