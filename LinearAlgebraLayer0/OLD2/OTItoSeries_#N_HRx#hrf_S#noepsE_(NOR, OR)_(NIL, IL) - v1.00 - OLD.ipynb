{
 "cells": [
  {
   "cell_type": "code",
   "execution_count": null,
   "metadata": {
    "collapsed": false
   },
   "outputs": [],
   "source": [
    "import sys\n",
    "import math"
   ]
  },
  {
   "cell_type": "code",
   "execution_count": null,
   "metadata": {
    "collapsed": false
   },
   "outputs": [],
   "source": [
    "#N>=1\n",
    "N = input('Enter No Of Elements Per Vectors (N): ')"
   ]
  },
  {
   "cell_type": "code",
   "execution_count": null,
   "metadata": {
    "collapsed": false
   },
   "outputs": [],
   "source": [
    "#HRR>=2\n",
    "HRR = input('Enter HRR (empty for 2): ')"
   ]
  },
  {
   "cell_type": "code",
   "execution_count": null,
   "metadata": {
    "collapsed": false
   },
   "outputs": [],
   "source": [
    "N = int(N)\n",
    "if N<1:\n",
    "    N=1\n",
    "\n",
    "if not HRR:\n",
    "    HRR=2\n",
    "else:\n",
    "    HRR = int(HRR)\n",
    "    if HRR<2:\n",
    "        HRR=2\n",
    "    elif HRR>N:\n",
    "        HRR=N\n",
    "\n",
    "NOEPSMin = math.ceil(N/HRR)\n",
    "NOEPSMax = math.ceil(N/(HRR-1))-1\n",
    "NOEPSMM = (NOEPSMin!=NOEPSMax)"
   ]
  },
  {
   "cell_type": "code",
   "execution_count": null,
   "metadata": {
    "collapsed": false
   },
   "outputs": [],
   "source": [
    "#>=NOIPSMin, <=NOIPSMax\n",
    "if NOEPSMM:\n",
    "    NOEPS = input('Enter No Of Elements Per Series (>={}, <={}, empty for {}): '.format(NOEPSMin, NOEPSMax, NOEPSMin))"
   ]
  },
  {
   "cell_type": "code",
   "execution_count": null,
   "metadata": {
    "collapsed": false
   },
   "outputs": [],
   "source": [
    "Enable_Output_Registers = input('Enable Output Registers? (empty or 0 to disable, 1 to enable): ')"
   ]
  },
  {
   "cell_type": "code",
   "execution_count": null,
   "metadata": {
    "collapsed": false
   },
   "outputs": [],
   "source": [
    "Enable_Input_Latch = input('Enable Input Latch? (empty or 0 to disable, 1 to enable): ')"
   ]
  },
  {
   "cell_type": "code",
   "execution_count": null,
   "metadata": {
    "collapsed": true
   },
   "outputs": [],
   "source": [
    "#IN_WIDTH>=1\n",
    "IN_WIDTH = input('Enter IN_WIDTH Default Value (empty for 10): ')"
   ]
  },
  {
   "cell_type": "code",
   "execution_count": null,
   "metadata": {
    "collapsed": true
   },
   "outputs": [],
   "source": [
    "if NOEPSMM:\n",
    "    if not NOEPS:\n",
    "        NOEPS=NOEPSMin\n",
    "    else:\n",
    "        NOEPS = int(NOEPS)\n",
    "        if NOEPS<NOEPSMin:\n",
    "            NOEPS=NOEPSMin\n",
    "        elif NOEPS>NOEPSMax:\n",
    "            NOEPS=NOEPSMax\n",
    "else:\n",
    "    NOEPS=NOEPSMin\n",
    "\n",
    "if not Enable_Output_Registers:\n",
    "    Enable_Output_Registers=0\n",
    "else:\n",
    "    Enable_Output_Registers = int(Enable_Output_Registers)\n",
    "\n",
    "if not Enable_Input_Latch:\n",
    "    Enable_Input_Latch=0\n",
    "else:\n",
    "    Enable_Input_Latch = int(Enable_Input_Latch)\n",
    "\n",
    "if not IN_WIDTH:\n",
    "    IN_WIDTH=10\n",
    "else:\n",
    "    IN_WIDTH = int(IN_WIDTH)\n",
    "    if IN_WIDTH<1:\n",
    "        IN_WIDTH=1"
   ]
  },
  {
   "cell_type": "code",
   "execution_count": null,
   "metadata": {
    "collapsed": true
   },
   "outputs": [],
   "source": [
    "ModuleName=\"OTItoSeries_{}_HRx{}_S{}E_\".format(N, HRR, NOEPS)\n",
    "if Enable_Output_Registers<=0:\n",
    "    ModuleName+=\"N\"\n",
    "ModuleName+=\"OR_\"\n",
    "if Enable_Input_Latch<=0:\n",
    "    ModuleName+=\"N\"\n",
    "ModuleName+=\"IL\""
   ]
  },
  {
   "cell_type": "code",
   "execution_count": null,
   "metadata": {
    "collapsed": true
   },
   "outputs": [],
   "source": [
    "__Print_To_File = 1\n",
    "\n",
    "if __Print_To_File<=0:\n",
    "    of=sys.stdout\n",
    "else:\n",
    "    of=open(\"./\"+ModuleName+\".v\", 'w+')"
   ]
  },
  {
   "cell_type": "code",
   "execution_count": null,
   "metadata": {
    "collapsed": false
   },
   "outputs": [],
   "source": [
    "print(\"`timescale 1ns / 1ps\\n\", file=of)\n",
    "print(\"module \"+ModuleName, file=of)\n",
    "print(\"#(\", file=of)\n",
    "print(\"parameter IN_WIDTH = {}\".format(IN_WIDTH), file=of)\n",
    "print(\")(\", file=of)\n",
    "print(\"input clk, reset, enable,\", file=of)\n",
    "print(\"output reg readyForNewDataSeries = 1,\", file=of)\n",
    "lghrr=math.ceil(math.log2(HRR))\n",
    "if lghrr==1:\n",
    "    print(\"output reg inSeries = 0,\", file=of)\n",
    "elif lghrr>1:\n",
    "    print(\"output reg [{}:0] inSeries = 0,\".format(lghrr-1), file=of)\n",
    "print(\"input inReady,\", file=of)\n",
    "print(\"input signed [IN_WIDTH-1:0] \", end='', file=of)\n",
    "for i in range(N):\n",
    "    print(\"A{}, \".format(i), end='', file=of)\n",
    "print(file=of)\n",
    "NE = N - NOEPS*(HRR-1)\n",
    "while NE<=0:\n",
    "    NE += NOEPS\n",
    "if NE==1:\n",
    "    print(\"output reg O0outReady,\", file=of)\n",
    "else:\n",
    "    print(\"output reg O0toO{}outReady,\".format(NE-1), file=of)\n",
    "if NE==NOEPS:\n",
    "    print(\"output reg ONoutReady=0, //not used\", file=of)\n",
    "elif NE==NOEPS-1:\n",
    "    print(\"output reg O{}outReady,\".format(NE), file=of)\n",
    "else:\n",
    "    print(\"output reg O{}toO{}outReady,\".format(NE, NOEPS-1), file=of)\n",
    "print(\"output \", end='', file=of)\n",
    "if Enable_Output_Registers>0:\n",
    "    print(\"reg \", end='', file=of)\n",
    "if lghrr==1:\n",
    "    print(\"outSeries\", end='', file=of)\n",
    "elif lghrr>1:\n",
    "    print(\"[{}:0] outSeries\".format(lghrr-1),  end='', file=of)\n",
    "if Enable_Output_Registers>0:\n",
    "    print(\" = {},\".format(HRR-1), file=of)\n",
    "else:\n",
    "    print(\",\", file=of)\n",
    "print(\"output reg signed [IN_WIDTH-1:0] \", end='', file=of)\n",
    "for i in range(NOEPS-1):\n",
    "    print(\"O{}, \".format(i), end='', file=of)\n",
    "print(\"O{}\".format(NOEPS-1), end='', file=of)\n",
    "if Enable_Output_Registers>0:\n",
    "    print(\",\", file=of)\n",
    "    if NE==1:\n",
    "        print(\"output O0earlyOutReady,\", file=of)\n",
    "    else:\n",
    "        print(\"output O0toO{}earlyOutReady,\".format(NE-1), file=of)\n",
    "    if NE==NOEPS:\n",
    "        print(\"output reg ONearlyOutReady=0 //not used\", file=of)\n",
    "    elif NE==NOEPS-1:\n",
    "        print(\"output O{}earlyOutReady\".format(NE), file=of)\n",
    "    else:\n",
    "        print(\"output O{}toO{}earlyOutReady\".format(NE, NOEPS-1), file=of)\n",
    "else:\n",
    "    print(file=of)\n",
    "print(\");\\n\", file=of)"
   ]
  },
  {
   "cell_type": "code",
   "execution_count": null,
   "metadata": {
    "collapsed": false
   },
   "outputs": [],
   "source": [
    "print(\"always @(posedge clk) begin\", file=of)\n",
    "print(\"\\tif(reset) begin\", file=of)\n",
    "print(\"\\t\\treadyForNewDataSeries <= 1;\", file=of)\n",
    "print(\"\\t\\tinSeries <= 0;\", file=of)\n",
    "print(\"\\tend\", file=of)\n",
    "print(\"\\telse if(enable) begin\", file=of)\n",
    "print(\"\\t\\tif(inSeries==0) begin\", file=of)\n",
    "print(\"\\t\\t\\tif(inReady) begin\", file=of)\n",
    "print(\"\\t\\t\\t\\treadyForNewDataSeries <= 0;\", file=of)\n",
    "print(\"\\t\\t\\t\\tinSeries <= 1;\", file=of)\n",
    "print(\"\\t\\t\\tend\", file=of)\n",
    "print(\"\\t\\tend\", file=of)\n",
    "print(\"\\t\\telse\", end='', file=of)\n",
    "if HRR>2:\n",
    "    print(\" if(inSeries=={})\".format(HRR-1), end='', file=of)\n",
    "print(\" begin\", file=of)\n",
    "print(\"\\t\\t\\treadyForNewDataSeries <= 1;\", file=of)\n",
    "print(\"\\t\\t\\tinSeries <= 0;\", file=of)\n",
    "print(\"\\t\\tend\", file=of)\n",
    "if HRR>2:\n",
    "    print(\"\\t\\telse begin\", file=of)\n",
    "    if HRR==3:\n",
    "        print(\"\\t\\t\\tinSeries <= 2;\", file=of)        \n",
    "    else:\n",
    "        print(\"\\t\\t\\tinSeries <= inSeries+1;\", file=of)\n",
    "    print(\"\\t\\tend\", file=of)\n",
    "print(\"\\tend\", file=of)\n",
    "print(\"end\", file=of)\n",
    "print(file=of)"
   ]
  },
  {
   "cell_type": "code",
   "execution_count": null,
   "metadata": {
    "collapsed": false
   },
   "outputs": [],
   "source": [
    "if Enable_Input_Latch>0:\n",
    "    print(\"reg signed [IN_WIDTH-1:0] \", end='', file=of)\n",
    "    for i in range(NOEPS,N-1):\n",
    "        print(\"A{}l, \".format(i), end='', file=of)\n",
    "    print(\"A{}l;\".format(N-1), file=of)\n",
    "    print(\"always @(posedge clk) begin\", file=of)\n",
    "    print(\"\\tif(enable) begin\", file=of)\n",
    "    print(\"\\t\\tif(inReady & (inSeries==0)) begin\", file=of)\n",
    "    print(\"\\t\\t\\t\", end='', file=of)\n",
    "    for i in range(NOEPS,N):\n",
    "        print(\"A{}l <= A{}; \".format(i, i), end='', file=of)\n",
    "    print(\"\\n\\t\\tend\", file=of)\n",
    "    print(\"\\tend\", file=of)\n",
    "    print(\"end\", file=of)\n",
    "    print(file=of)"
   ]
  },
  {
   "cell_type": "code",
   "execution_count": null,
   "metadata": {
    "collapsed": false
   },
   "outputs": [],
   "source": [
    "#(inSeries==0) ? inReady : 1\n",
    "print(\"wire eOR = ((inSeries==0) & inReady) | (inSeries!=0);\", file=of)\n",
    "if NE!=NOEPS:\n",
    "    if HRR==2:\n",
    "        print(\"wire eORC = (inSeries==0) & inReady;\".format(HRR-1), file=of)\n",
    "    elif HRR==3:\n",
    "        print(\"wire eORC = ((inSeries==0) & inReady) | (inSeries==1);\".format(HRR-1), file=of)\n",
    "    else:\n",
    "        print(\"wire eORC = ((inSeries==0) & inReady) | ((inSeries!=0) & (inSeries!={}));\".format(HRR-1), file=of)"
   ]
  },
  {
   "cell_type": "code",
   "execution_count": null,
   "metadata": {
    "collapsed": false
   },
   "outputs": [],
   "source": [
    "if Enable_Output_Registers>0:\n",
    "    print(\"always @(posedge clk) if(enable) begin\", file=of)\n",
    "else:\n",
    "    print(\"always @(*) begin\", file=of)\n",
    "print(\"\\tcase(inSeries)\", file=of)\n",
    "for i in range(HRR):\n",
    "    if i==0:\n",
    "        print(\"\\t\\t0: \", end='', file=of)\n",
    "        if Enable_Output_Registers>0:\n",
    "             print(\"if(inReady) \", end='', file=of)\n",
    "        print(\"begin\", file=of) #currently more power efficient, can use \"begin\" for simpler hardware\n",
    "    else:\n",
    "        print(\"\\t\\t{}: begin\".format(i), file=of)\n",
    "    print(\"\\t\\t\\t\", end='', file=of)\n",
    "    for j in range(NOEPS):\n",
    "        print(\"O{} \".format(j), end='', file=of)\n",
    "        if Enable_Output_Registers>0:\n",
    "            print(\"<\", end='', file=of)\n",
    "        k=NOEPS*i+j\n",
    "        if k >= N:\n",
    "            print(\"= 0; \", end='', file=of)\n",
    "        elif k<NOEPS:\n",
    "            print(\"= A{}; \".format(k), end='', file=of)\n",
    "        else:\n",
    "            print(\"= A{}\".format(k), end='', file=of)\n",
    "            if Enable_Input_Latch>0:\n",
    "                print(\"l\", end='', file=of)\n",
    "            print(\"; \", end='', file=of)\n",
    "    print(file=of)\n",
    "    print(\"\\t\\tend\", file=of)\n",
    "print(\"\\tendcase\", file=of)\n",
    "\n",
    "if NE==1:\n",
    "    print(\"\\tO0outReady \", end='', file=of)\n",
    "else:\n",
    "    print(\"\\tO0toO{}outReady \".format(NE-1), end='', file=of)\n",
    "if Enable_Output_Registers>0:\n",
    "    print(\"<\", end='', file=of)\n",
    "print(\"= eOR;\", file=of)\n",
    "\n",
    "if NE!=NOEPS:\n",
    "    if NE==NOEPS-1:\n",
    "        print(\"\\tO{}outReady \".format(NE), end='', file=of)\n",
    "    else:\n",
    "        print(\"\\tO{}toO{}outReady \".format(NE, NOEPS-1), end='', file=of)\n",
    "    if Enable_Output_Registers>0:\n",
    "        print(\"<\", end='', file=of)\n",
    "    print(\"= eORC;\", file=of)\n",
    "print(\"end\\n\", file=of)"
   ]
  },
  {
   "cell_type": "code",
   "execution_count": null,
   "metadata": {
    "collapsed": false
   },
   "outputs": [],
   "source": [
    "if Enable_Output_Registers>0:\n",
    "    if NE==1:\n",
    "        print(\"assign O0earlyOutReady = eOR;\", file=of)\n",
    "    else:\n",
    "        print(\"assign O0toO{}earlyOutReady = eOR;\".format(NE-1), file=of)\n",
    "    if NE==NOEPS-1:\n",
    "        print(\"assign O{}earlyOutReady = eORC;\".format(NE), file=of)\n",
    "    elif NE!=NOEPS:\n",
    "        print(\"assign O{}toO{}earlyOutReady = eORC;\".format(NE, NOEPS-1), file=of)"
   ]
  },
  {
   "cell_type": "code",
   "execution_count": null,
   "metadata": {
    "collapsed": false
   },
   "outputs": [],
   "source": [
    "if Enable_Output_Registers<=0:\n",
    "    print(\"assign outSeries = inSeries;\", file=of)\n",
    "    print(file=of)\n",
    "else:\n",
    "    print(\"always @(posedge clk) begin\", file=of)\n",
    "    print(\"\\tif(reset) begin\", file=of)\n",
    "    print(\"\\t\\toutSeries <= {};\".format(HRR-1), file=of)\n",
    "    print(\"\\tend\", file=of)\n",
    "    print(\"\\telse if(enable) begin\", file=of)\n",
    "    print(\"\\t\\tif((outSeries==0) & inReady) begin\", file=of)\n",
    "    print(\"\\t\\t\\toutSeries <= 1;\", file=of)\n",
    "    print(\"\\t\\tend\", file=of)\n",
    "    print(\"\\t\\telse\", end='', file=of)\n",
    "    if HRR>2:\n",
    "        print(\" if(outSeries=={})\".format(HRR-1), end='', file=of)\n",
    "    print(\" begin\", file=of)\n",
    "    print(\"\\t\\t\\toutSeries <= 0;\", file=of)\n",
    "    print(\"\\t\\tend\", file=of)\n",
    "    if HRR>2:\n",
    "        print(\"\\t\\telse begin\", file=of)\n",
    "        if HRR==3:\n",
    "            print(\"\\t\\t\\toutSeries <= 2;\", file=of)        \n",
    "        else:\n",
    "            print(\"\\t\\t\\toutSeries <= outSeries+1;\", file=of)\n",
    "        print(\"\\t\\tend\", file=of)\n",
    "    print(\"\\tend\", file=of)\n",
    "    print(\"end\", file=of)\n",
    "    print(file=of)"
   ]
  },
  {
   "cell_type": "code",
   "execution_count": null,
   "metadata": {
    "collapsed": false
   },
   "outputs": [],
   "source": [
    "print(\"endmodule\", file=of)"
   ]
  },
  {
   "cell_type": "code",
   "execution_count": null,
   "metadata": {
    "collapsed": false
   },
   "outputs": [],
   "source": [
    "if __Print_To_File>0:\n",
    "    of.close()"
   ]
  }
 ],
 "metadata": {
  "kernelspec": {
   "display_name": "Python 3",
   "language": "python",
   "name": "python3"
  },
  "language_info": {
   "codemirror_mode": {
    "name": "ipython",
    "version": 3
   },
   "file_extension": ".py",
   "mimetype": "text/x-python",
   "name": "python",
   "nbconvert_exporter": "python",
   "pygments_lexer": "ipython3",
   "version": "3.5.1"
  }
 },
 "nbformat": 4,
 "nbformat_minor": 0
}
