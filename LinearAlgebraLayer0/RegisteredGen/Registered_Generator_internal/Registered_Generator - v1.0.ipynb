{
 "cells": [
  {
   "cell_type": "code",
   "execution_count": 1,
   "metadata": {
    "collapsed": true
   },
   "outputs": [],
   "source": [
    "import sys\n",
    "import math"
   ]
  },
  {
   "cell_type": "code",
   "execution_count": 2,
   "metadata": {
    "collapsed": true
   },
   "outputs": [],
   "source": [
    "#current sample:\n",
    "#MatrixMatrixMultiply_OTI"
   ]
  },
  {
   "cell_type": "code",
   "execution_count": 3,
   "metadata": {
    "collapsed": false
   },
   "outputs": [],
   "source": [
    "#Sample\n",
    "M = 5\n",
    "N = 9\n",
    "Q = 5\n",
    "PR = 2\n",
    "PC = 2\n",
    "HRR = 2\n",
    "MAMCS = 3\n",
    "AdderSize = 2\n",
    "Enable_Input_Latch = 1\n",
    "Enable_Column_Latch = 1\n",
    "Enable_Row_Latch = 1\n",
    "Enable_OTI_Output_Registers = 1\n",
    "IN_WIDTH = 10\n",
    "INPUT_REG_DEPTH = 1\n",
    "MULT_PIPE_DEPTH = 1"
   ]
  },
  {
   "cell_type": "code",
   "execution_count": 4,
   "metadata": {
    "collapsed": true
   },
   "outputs": [],
   "source": [
    "#Sample\n",
    "NMult = math.ceil(N/HRR)\n",
    "RS=math.ceil(M/PR)\n",
    "CS=math.ceil(Q/PC)"
   ]
  },
  {
   "cell_type": "code",
   "execution_count": 14,
   "metadata": {
    "collapsed": false
   },
   "outputs": [],
   "source": [
    "ModuleName=\"MatrixMatrixMultiply_{}_{}_{}_{}PR_{}PC_OTI\".format(M, N, Q, PR, PC)\n",
    "if Enable_OTI_Output_Registers<=0:\n",
    "    ModuleName+=\"N\"\n",
    "ModuleName+=\"R_HRx{}_S{}E_C{}_A{}_\".format(HRR, NMult, MAMCS, AdderSize)\n",
    "if Enable_Input_Latch<=0:\n",
    "    ModuleName+=\"N\"\n",
    "ModuleName+=\"IL_\"\n",
    "if Enable_Column_Latch<=0:\n",
    "    ModuleName+=\"N\"\n",
    "ModuleName+=\"CL_\"\n",
    "if Enable_Row_Latch<=0:\n",
    "    ModuleName+=\"N\"        \n",
    "ModuleName+=\"RL\""
   ]
  },
  {
   "cell_type": "code",
   "execution_count": 6,
   "metadata": {
    "collapsed": false
   },
   "outputs": [],
   "source": [
    "#Sample\n",
    "\n",
    "#function inputs:\n",
    "#ModuleName\n",
    "has_clk = False\n",
    "parameters_list = []\n",
    "parameters_vals = []\n",
    "in_out_list = []\n",
    "in_out_list_counts = [] #positive int: input #negetive int: output\n",
    "in_out_list_widths = []\n",
    "\n",
    "parameters_list.append(\"IN_WIDTH\")\n",
    "parameters_vals.append(IN_WIDTH)\n",
    "parameters_list.append(\"INPUT_REG_DEPTH\")\n",
    "parameters_vals.append(INPUT_REG_DEPTH)\n",
    "parameters_list.append(\"MULT_PIPE_DEPTH\")\n",
    "parameters_vals.append(MULT_PIPE_DEPTH)\n",
    "has_clk = True\n",
    "in_out_list.append(\"reset\")\n",
    "in_out_list.append(\"enable\")\n",
    "in_out_list_counts.append(2)\n",
    "in_out_list_widths.append(1)\n",
    "in_out_list.append(\"newInSeriesStart\")\n",
    "in_out_list_counts.append(-1)\n",
    "in_out_list_widths.append(1)\n",
    "lghrr=math.ceil(math.log2(HRR))\n",
    "in_out_list.append(\"inSeries\")\n",
    "in_out_list_counts.append(-1)\n",
    "in_out_list_widths.append(lghrr)\n",
    "lgRS=math.ceil(math.log2(RS))\n",
    "in_out_list.append(\"rowSetInNo\")\n",
    "in_out_list_counts.append(-1)\n",
    "in_out_list_widths.append(lgRS)\n",
    "lgCS=math.ceil(math.log2(CS))\n",
    "in_out_list.append(\"columnSetInNo\")\n",
    "in_out_list_counts.append(-1)\n",
    "in_out_list_widths.append(lgCS)\n",
    "in_out_list.append(\"inReady\")\n",
    "in_out_list_counts.append(1)\n",
    "in_out_list_widths.append(1)\n",
    "for i in range(PR):\n",
    "    for j in range(N):\n",
    "        in_out_list.append(\"AE{}R{}\".format(j, i))\n",
    "in_out_list_counts.append(PR*N)\n",
    "in_out_list_widths.append(\"[IN_WIDTH-1:0]\")\n",
    "for i in range(PC):\n",
    "    for j in range(N):\n",
    "        in_out_list.append(\"BE{}R{}\".format(j, i))\n",
    "in_out_list_counts.append(PC*N)\n",
    "in_out_list_widths.append(\"[IN_WIDTH-1:0]\")\n",
    "ac=CS*PC-Q\n",
    "QE = PC-ac-1\n",
    "if QE==0:\n",
    "    stc1=\"C0\"\n",
    "else:\n",
    "    stc1=\"C0toC{}\".format(QE)\n",
    "if QE==(PC-2):\n",
    "    stc2=\"C{}\".format(PC-1)\n",
    "else:\n",
    "    stc2=\"C{}toC{}\".format(QE+1, PC-1)\n",
    "ar=RS*PR-M\n",
    "ME = PR-ar-1\n",
    "if ME==0:\n",
    "    str1=\"R0\"\n",
    "else:\n",
    "    str1=\"R0toR{}\".format(ME)\n",
    "if ME==(PR-2):\n",
    "    str2=\"R{}\".format(PR-1)\n",
    "else:\n",
    "    str2=\"R{}toR{}\".format(ME+1, PR-1)\n",
    "in_out_list.append(stc1+str1+\"EReady\")\n",
    "if ar!=0:\n",
    "    in_out_list.append(stc1+str2+\"EReady\")\n",
    "else:\n",
    "    in_out_list.append(\"NUEReady1\")\n",
    "if ac!=0:\n",
    "    in_out_list.append(stc2+str1+\"EReady\")\n",
    "    if ar!=0:\n",
    "        in_out_list.append(stc2+str2+\"EReady\")\n",
    "    else:\n",
    "        in_out_list.append(\"NUEReady2\")\n",
    "else:\n",
    "    in_out_list.append(\"NUEReady2\")\n",
    "    in_out_list.append(\"NUEReady3\")\n",
    "in_out_list_counts.append(-4)\n",
    "in_out_list_widths.append(1)\n",
    "in_out_list.append(\"rowSetOutNo\")\n",
    "in_out_list_counts.append(-1)\n",
    "in_out_list_widths.append(lgRS)\n",
    "in_out_list.append(\"columnSetOutNo\")\n",
    "in_out_list_counts.append(-1)\n",
    "in_out_list_widths.append(lgCS)\n",
    "lgN=math.ceil(math.log2(N))\n",
    "al=-1+lgN\n",
    "if al==0:\n",
    "    in_out_list_widths.append(\"[(2*IN_WIDTH):0]\")\n",
    "elif al<0:\n",
    "    in_out_list_widths.append(\"[(2*IN_WIDTH){}:0]\".format(al))\n",
    "else:\n",
    "    in_out_list_widths.append(\"[(2*IN_WIDTH)+{}:0]\".format(al))\n",
    "for i in range(PC):\n",
    "    for j in range(PR):\n",
    "        in_out_list.append(\"EC{}R{}\".format(i, j))\n",
    "in_out_list_counts.append(-(PC*PR))\n",
    "in_out_list.append(\"early\"+stc1+str1+\"EReady\")\n",
    "if ar!=0:\n",
    "    in_out_list.append(\"early\"+stc1+str2+\"EReady\")\n",
    "else:\n",
    "    in_out_list.append(\"NUeEReady1\")\n",
    "if ac!=0:\n",
    "    in_out_list.append(\"early\"+stc2+str1+\"EReady\")\n",
    "    if ar!=0:\n",
    "        in_out_list.append(\"early\"+stc2+str2+\"EReady\")\n",
    "    else:\n",
    "        in_out_list.append(\"early\"+stc2+str2+\"EReady\")\n",
    "else:\n",
    "    in_out_list.append(\"NUeEReady2\")\n",
    "    in_out_list.append(\"NUeEReady3\")\n",
    "in_out_list_counts.append(-4)\n",
    "in_out_list_widths.append(1)"
   ]
  },
  {
   "cell_type": "code",
   "execution_count": 7,
   "metadata": {
    "collapsed": true
   },
   "outputs": [],
   "source": [
    "__Print_To_File = 0\n",
    "\n",
    "if __Print_To_File<=0:\n",
    "    of=sys.stdout\n",
    "else:\n",
    "    of=open(\"./\"+ModuleName+\"_REGISTERED.v\", 'w+')"
   ]
  },
  {
   "cell_type": "code",
   "execution_count": 15,
   "metadata": {
    "collapsed": false
   },
   "outputs": [
    {
     "name": "stdout",
     "output_type": "stream",
     "text": [
      "`timescale 1ns / 1ps\n",
      "\n",
      "MatrixMatrixMultiply_5_9_5_2PR_2PC_OTIR_HRx2_S5E_C3_A2_IL_CL_RL_REGISTERED\n",
      "#(parameter\n",
      "IN_WIDTH = 10,\n",
      "INPUT_REG_DEPTH = 1,\n",
      "MULT_PIPE_DEPTH = 1\n",
      ")(\n",
      "input clk,\n",
      "input reset, enable,\n",
      "output reg newInSeriesStart,\n",
      "output reg inSeries,\n",
      "output reg [1:0] rowSetInNo,\n",
      "output reg [1:0] columnSetInNo,\n",
      "input inReady,\n",
      "input [IN_WIDTH-1:0] AE0R0, AE1R0, AE2R0, AE3R0, AE4R0, AE5R0, AE6R0, AE7R0, AE8R0, AE0R1, AE1R1, AE2R1, AE3R1, AE4R1, AE5R1, AE6R1, AE7R1, AE8R1,\n",
      "input [IN_WIDTH-1:0] BE0R0, BE1R0, BE2R0, BE3R0, BE4R0, BE5R0, BE6R0, BE7R0, BE8R0, BE0R1, BE1R1, BE2R1, BE3R1, BE4R1, BE5R1, BE6R1, BE7R1, BE8R1,\n",
      "output reg C0R0EReady, C0R1EReady, C1R0EReady, C1R1EReady,\n",
      "output reg [1:0] rowSetOutNo,\n",
      "output reg [1:0] columnSetOutNo,\n",
      "output reg [(2*IN_WIDTH)+3:0] EC0R0, EC0R1, EC1R0, EC1R1,\n",
      "output reg earlyC0R0EReady, earlyC0R1EReady, earlyC1R0EReady, earlyC1R1EReady\n",
      ");\n",
      "\n"
     ]
    }
   ],
   "source": [
    "print(\"`timescale 1ns / 1ps\\n\", file=of)\n",
    "print(\"module \"+ModuleName+\"_REGISTERED\", file=of)\n",
    "print(\"#(parameter\", file=of)\n",
    "p_c = len(parameters_list)\n",
    "for i in range(p_c):\n",
    "    print(parameters_list[i]+\" = {}\".format(parameters_vals[i]), end='', file=of)\n",
    "    if i==(p_c-1):\n",
    "        print(file=of)\n",
    "    else:\n",
    "        print(\",\", file=of)\n",
    "print(\")(\", file=of)\n",
    "print(\"input clk,\", file=of)\n",
    "io_n = len(in_out_list_counts)\n",
    "io_indicator = 0\n",
    "for i in range(io_n):\n",
    "    io_c = in_out_list_counts[i] #positive int: input #negetive int: output\n",
    "    if in_out_list_counts[i]>0:\n",
    "        is_input = True\n",
    "    else:\n",
    "        is_input = False\n",
    "        io_c = -io_c\n",
    "    if is_input:\n",
    "        print(\"input \", end='', file=of)\n",
    "    else:\n",
    "        print(\"output reg \", end='', file=of)\n",
    "    io_length = in_out_list_widths[i]\n",
    "    if type(io_length) == int:\n",
    "        if io_length!=1:\n",
    "            print(\"[{}:0] \".format(io_length-1), end='', file=of)\n",
    "    else:\n",
    "        print(io_length+\" \", end='', file=of)\n",
    "    for j in range(io_c):\n",
    "        print(in_out_list[io_indicator], end='', file=of)\n",
    "        if j==(io_c-1) and i==(io_n-1):\n",
    "            print(file=of)\n",
    "        elif j!=(io_c-1):\n",
    "            print(\", \", end='', file=of)            \n",
    "        else:\n",
    "            print(\",\", file=of)\n",
    "        io_indicator+=1\n",
    "print(\");\", file=of)\n",
    "print(file=of)"
   ]
  },
  {
   "cell_type": "code",
   "execution_count": 9,
   "metadata": {
    "collapsed": false
   },
   "outputs": [
    {
     "name": "stdout",
     "output_type": "stream",
     "text": [
      "reg reset_R,enable_R;\n",
      "wire newInSeriesStart_W;\n",
      "wire inSeries_W;\n",
      "wire [1:0] rowSetInNo_W;\n",
      "wire [1:0] columnSetInNo_W;\n",
      "reg inReady_R;\n",
      "reg [IN_WIDTH-1:0] AE0R0_R,AE1R0_R,AE2R0_R,AE3R0_R,AE4R0_R,AE5R0_R,AE6R0_R,AE7R0_R,AE8R0_R,AE0R1_R,AE1R1_R,AE2R1_R,AE3R1_R,AE4R1_R,AE5R1_R,AE6R1_R,AE7R1_R,AE8R1_R;\n",
      "reg [IN_WIDTH-1:0] BE0R0_R,BE1R0_R,BE2R0_R,BE3R0_R,BE4R0_R,BE5R0_R,BE6R0_R,BE7R0_R,BE8R0_R,BE0R1_R,BE1R1_R,BE2R1_R,BE3R1_R,BE4R1_R,BE5R1_R,BE6R1_R,BE7R1_R,BE8R1_R;\n",
      "wire C0R0EReady_W,C0R1EReady_W,C1R0EReady_W,C1R1EReady_W;\n",
      "wire [1:0] rowSetOutNo_W;\n",
      "wire [1:0] columnSetOutNo_W;\n",
      "wire [(2*IN_WIDTH)+3:0] EC0R0_W,EC0R1_W,EC1R0_W,EC1R1_W;\n",
      "wire earlyC0R0EReady_W,earlyC0R1EReady_W,earlyC1R0EReady_W,earlyC1R1EReady_W;\n"
     ]
    }
   ],
   "source": [
    "io_indicator = 0\n",
    "for i in range(io_n):\n",
    "    io_c = in_out_list_counts[i]    \n",
    "    if in_out_list_counts[i]>0:\n",
    "        is_input = True\n",
    "    else:\n",
    "        is_input = False\n",
    "        io_c = -io_c\n",
    "    if is_input:\n",
    "        print(\"reg \", end='', file=of)\n",
    "    else:\n",
    "        print(\"wire \", end='', file=of)\n",
    "    io_length = in_out_list_widths[i]\n",
    "    if type(io_length) == int:\n",
    "        if io_length!=1:\n",
    "            print(\"[{}:0] \".format(io_length-1), end='', file=of)\n",
    "    else:\n",
    "        print(io_length+\" \", end='', file=of)\n",
    "    for j in range(io_c):\n",
    "        print(in_out_list[io_indicator], end='', file=of)\n",
    "        if is_input:\n",
    "            print(\"_R\", end='', file=of)\n",
    "        else:\n",
    "            print(\"_W\", end='', file=of)\n",
    "        if j==(io_c-1):\n",
    "            print(\";\", file=of)\n",
    "        else:\n",
    "            print(\", \", end='', file=of)\n",
    "        io_indicator+=1\n",
    "print(file=of)"
   ]
  },
  {
   "cell_type": "code",
   "execution_count": 10,
   "metadata": {
    "collapsed": false
   },
   "outputs": [
    {
     "name": "stdout",
     "output_type": "stream",
     "text": [
      "always @(posedge clk) begin\n",
      "\treset_R <= reset; enable_R <= enable;\n",
      "\tnewInSeriesStart <= newInSeriesStart_W;\n",
      "\tinSeries <= inSeries_W;\n",
      "\trowSetInNo <= rowSetInNo_W;\n",
      "\tcolumnSetInNo <= columnSetInNo_W;\n",
      "\tinReady_R <= inReady;\n",
      "\tAE0R0_R <= AE0R0; AE1R0_R <= AE1R0; AE2R0_R <= AE2R0; AE3R0_R <= AE3R0; AE4R0_R <= AE4R0; AE5R0_R <= AE5R0; AE6R0_R <= AE6R0; AE7R0_R <= AE7R0; AE8R0_R <= AE8R0; AE0R1_R <= AE0R1; AE1R1_R <= AE1R1; AE2R1_R <= AE2R1; AE3R1_R <= AE3R1; AE4R1_R <= AE4R1; AE5R1_R <= AE5R1; AE6R1_R <= AE6R1; AE7R1_R <= AE7R1; AE8R1_R <= AE8R1;\n",
      "\tBE0R0_R <= BE0R0; BE1R0_R <= BE1R0; BE2R0_R <= BE2R0; BE3R0_R <= BE3R0; BE4R0_R <= BE4R0; BE5R0_R <= BE5R0; BE6R0_R <= BE6R0; BE7R0_R <= BE7R0; BE8R0_R <= BE8R0; BE0R1_R <= BE0R1; BE1R1_R <= BE1R1; BE2R1_R <= BE2R1; BE3R1_R <= BE3R1; BE4R1_R <= BE4R1; BE5R1_R <= BE5R1; BE6R1_R <= BE6R1; BE7R1_R <= BE7R1; BE8R1_R <= BE8R1;\n",
      "\tC0R0EReady <= C0R0EReady_W; C0R1EReady <= C0R1EReady_W; C1R0EReady <= C1R0EReady_W; C1R1EReady <= C1R1EReady_W;\n",
      "\trowSetOutNo <= rowSetOutNo_W;\n",
      "\tcolumnSetOutNo <= columnSetOutNo_W;\n",
      "\tEC0R0 <= EC0R0_W; EC0R1 <= EC0R1_W; EC1R0 <= EC1R0_W; EC1R1 <= EC1R1_W;\n",
      "\tearlyC0R0EReady <= earlyC0R0EReady_W; earlyC0R1EReady <= earlyC0R1EReady_W; earlyC1R0EReady <= earlyC1R0EReady_W; earlyC1R1EReady <= earlyC1R1EReady_W;\n",
      "end\n",
      "\n"
     ]
    }
   ],
   "source": [
    "print(\"always @(posedge clk) begin\", file=of)\n",
    "io_indicator = 0\n",
    "for i in range(io_n):\n",
    "    io_c = in_out_list_counts[i]    \n",
    "    if in_out_list_counts[i]>0:\n",
    "        is_input = True\n",
    "    else:\n",
    "        is_input = False\n",
    "        io_c = -io_c\n",
    "    print(\"\\t\", end='', file=of)\n",
    "    for j in range(io_c):\n",
    "        if is_input:\n",
    "            print(in_out_list[io_indicator]+\"_R <= \"+in_out_list[io_indicator]+\"\", end='', file=of)\n",
    "        else:\n",
    "            print(in_out_list[io_indicator]+\" <= \"+in_out_list[io_indicator]+\"_W\", end='', file=of)\n",
    "        if j==(io_c-1):\n",
    "            print(\";\", file=of)\n",
    "        else:\n",
    "            print(\"; \", end='', file=of)\n",
    "        io_indicator+=1\n",
    "print(\"end\", file=of)\n",
    "print(file=of)"
   ]
  },
  {
   "cell_type": "code",
   "execution_count": 16,
   "metadata": {
    "collapsed": false
   },
   "outputs": [
    {
     "name": "stdout",
     "output_type": "stream",
     "text": [
      "MatrixMatrixMultiply_5_9_5_2PR_2PC_OTIR_HRx2_S5E_C3_A2_IL_CL_RL\n",
      "#(IN_WIDTH, INPUT_REG_DEPTH, MULT_PIPE_DEPTH)\n",
      "Rinst(\n",
      "clk,\n",
      "reset_R, enable_R,\n",
      "newInSeriesStart_W,\n",
      "inSeries_W,\n",
      "rowSetInNo_W,\n",
      "columnSetInNo_W,\n",
      "inReady_R,\n",
      "AE0R0_R, AE1R0_R, AE2R0_R, AE3R0_R, AE4R0_R, AE5R0_R, AE6R0_R, AE7R0_R, AE8R0_R, AE0R1_R, AE1R1_R, AE2R1_R, AE3R1_R, AE4R1_R, AE5R1_R, AE6R1_R, AE7R1_R, AE8R1_R,\n",
      "BE0R0_R, BE1R0_R, BE2R0_R, BE3R0_R, BE4R0_R, BE5R0_R, BE6R0_R, BE7R0_R, BE8R0_R, BE0R1_R, BE1R1_R, BE2R1_R, BE3R1_R, BE4R1_R, BE5R1_R, BE6R1_R, BE7R1_R, BE8R1_R,\n",
      "C0R0EReady_W, C0R1EReady_W, C1R0EReady_W, C1R1EReady_W,\n",
      "rowSetOutNo_W,\n",
      "columnSetOutNo_W,\n",
      "EC0R0_W, EC0R1_W, EC1R0_W, EC1R1_W,\n",
      "earlyC0R0EReady_W, earlyC0R1EReady_W, earlyC1R0EReady_W, earlyC1R1EReady_W\n",
      ");\n",
      "\n"
     ]
    }
   ],
   "source": [
    "print(ModuleName, file=of)\n",
    "print(\"#(\", end='', file=of)\n",
    "for i in range(p_c):\n",
    "    print(parameters_list[i], end='', file=of)\n",
    "    if i==(p_c-1):\n",
    "        print(\")\", file=of)\n",
    "    else:\n",
    "        print(\", \", end='', file=of)\n",
    "print(\"Rinst(\", file=of)\n",
    "if has_clk:\n",
    "    print(\"clk,\", file=of)    \n",
    "io_indicator = 0\n",
    "for i in range(io_n):\n",
    "    io_c = in_out_list_counts[i]\n",
    "    if in_out_list_counts[i]>0:\n",
    "        is_input = True\n",
    "    else:\n",
    "        is_input = False\n",
    "        io_c = -io_c\n",
    "    for j in range(io_c):\n",
    "        print(in_out_list[io_indicator], end='', file=of)\n",
    "        if is_input:\n",
    "            print(\"_R\", end='', file=of)\n",
    "        else:\n",
    "            print(\"_W\", end='', file=of)\n",
    "        if j==(io_c-1) and i==(io_n-1):\n",
    "            print(file=of)\n",
    "        elif j!=(io_c-1):\n",
    "            print(\", \", end='', file=of)            \n",
    "        else:\n",
    "            print(\",\", file=of)\n",
    "        io_indicator+=1\n",
    "print(\");\", file=of)\n",
    "print(file=of)"
   ]
  },
  {
   "cell_type": "code",
   "execution_count": 12,
   "metadata": {
    "collapsed": false
   },
   "outputs": [
    {
     "name": "stdout",
     "output_type": "stream",
     "text": [
      "endmodule\n"
     ]
    }
   ],
   "source": [
    "print(\"endmodule\", file=of)"
   ]
  },
  {
   "cell_type": "code",
   "execution_count": 13,
   "metadata": {
    "collapsed": true
   },
   "outputs": [],
   "source": [
    "if __Print_To_File>0:\n",
    "    of.close()"
   ]
  }
 ],
 "metadata": {
  "kernelspec": {
   "display_name": "Python 3",
   "language": "python",
   "name": "python3"
  },
  "language_info": {
   "codemirror_mode": {
    "name": "ipython",
    "version": 3
   },
   "file_extension": ".py",
   "mimetype": "text/x-python",
   "name": "python",
   "nbconvert_exporter": "python",
   "pygments_lexer": "ipython3",
   "version": "3.5.1"
  }
 },
 "nbformat": 4,
 "nbformat_minor": 0
}
