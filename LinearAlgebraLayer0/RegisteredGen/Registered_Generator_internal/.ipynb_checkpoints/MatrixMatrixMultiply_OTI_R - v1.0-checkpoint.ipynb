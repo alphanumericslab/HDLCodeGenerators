{
 "cells": [
  {
   "cell_type": "code",
   "execution_count": 1,
   "metadata": {
    "collapsed": true
   },
   "outputs": [],
   "source": [
    "#uses MatrixMatrixMultiply_#M_#N_#Q_#prPR_#pcPC_OTI_HRx#hrf_C#mamcs_A#baseAdderSize_(NIL, IL)_(NCL, CL)_(NRL, RL) - v1.1"
   ]
  },
  {
   "cell_type": "code",
   "execution_count": 2,
   "metadata": {
    "collapsed": true
   },
   "outputs": [],
   "source": [
    "import sys\n",
    "import math"
   ]
  },
  {
   "cell_type": "code",
   "execution_count": 3,
   "metadata": {
    "collapsed": false
   },
   "outputs": [
    {
     "name": "stdout",
     "output_type": "stream",
     "text": [
      "Enter M: 5\n"
     ]
    }
   ],
   "source": [
    "#M>=1\n",
    "M = input('Enter M: ')"
   ]
  },
  {
   "cell_type": "code",
   "execution_count": 4,
   "metadata": {
    "collapsed": false
   },
   "outputs": [
    {
     "name": "stdout",
     "output_type": "stream",
     "text": [
      "Enter N: 9\n"
     ]
    }
   ],
   "source": [
    "#N>=1\n",
    "N = input('Enter N: ')"
   ]
  },
  {
   "cell_type": "code",
   "execution_count": 5,
   "metadata": {
    "collapsed": false
   },
   "outputs": [
    {
     "name": "stdout",
     "output_type": "stream",
     "text": [
      "Enter Q: 5\n"
     ]
    }
   ],
   "source": [
    "#Q>=1\n",
    "Q = input('Enter Q: ')"
   ]
  },
  {
   "cell_type": "code",
   "execution_count": 6,
   "metadata": {
    "collapsed": false
   },
   "outputs": [
    {
     "name": "stdout",
     "output_type": "stream",
     "text": [
      "Enter No Of Parallel Row (empty for 1): 2\n"
     ]
    }
   ],
   "source": [
    "#>=1, <=M\n",
    "PR = input('Enter No Of Parallel Row (empty for 1): ')"
   ]
  },
  {
   "cell_type": "code",
   "execution_count": 7,
   "metadata": {
    "collapsed": false
   },
   "outputs": [
    {
     "name": "stdout",
     "output_type": "stream",
     "text": [
      "Enter No Of Parallel Column (empty for 1): 2\n"
     ]
    }
   ],
   "source": [
    "#>=1, <=Q\n",
    "PC = input('Enter No Of Parallel Column (empty for 1): ')"
   ]
  },
  {
   "cell_type": "code",
   "execution_count": 8,
   "metadata": {
    "collapsed": false
   },
   "outputs": [
    {
     "name": "stdout",
     "output_type": "stream",
     "text": [
      "Enter HRR (>=2, <=9, empty for 2): 2\n"
     ]
    }
   ],
   "source": [
    "#HRR>=2\n",
    "HRR = input('Enter HRR (>=2, <={}, empty for 2): '.format(N))"
   ]
  },
  {
   "cell_type": "code",
   "execution_count": 9,
   "metadata": {
    "collapsed": false
   },
   "outputs": [],
   "source": [
    "M = int(M)\n",
    "if(M<1):\n",
    "    M=1\n",
    "\n",
    "N = int(N)\n",
    "if(N<1):\n",
    "    N=1\n",
    "\n",
    "Q = int(Q)\n",
    "if(Q<1):\n",
    "    Q=1\n",
    "\n",
    "if not PR:\n",
    "    PR=1\n",
    "else:\n",
    "    PR = int(PR)\n",
    "    if PR>M:\n",
    "        PR = M\n",
    "\n",
    "if not PC:\n",
    "    PC=1\n",
    "else:\n",
    "    PC = int(PC)\n",
    "    if PC>Q:\n",
    "        PC = Q\n",
    "\n",
    "if not HRR:\n",
    "    HRR=2\n",
    "else:\n",
    "    HRR = int(HRR)\n",
    "    if HRR<2:\n",
    "        HRR=2\n",
    "    if HRR>N:\n",
    "        HRR=N\n",
    "\n",
    "#chooses best value automatically\n",
    "NMult = math.ceil(N/HRR);"
   ]
  },
  {
   "cell_type": "code",
   "execution_count": 10,
   "metadata": {
    "collapsed": false
   },
   "outputs": [
    {
     "name": "stdout",
     "output_type": "stream",
     "text": [
      "Enter Multiply-Add Max Component Size (empty for 5): 3\n"
     ]
    }
   ],
   "source": [
    "#MAMCS>=1\n",
    "MAMCS = input('Enter Multiply-Add Max Component Size (empty for {}): '.format(NMult))"
   ]
  },
  {
   "cell_type": "code",
   "execution_count": 11,
   "metadata": {
    "collapsed": true
   },
   "outputs": [],
   "source": [
    "if not MAMCS:\n",
    "    MAMCS = NMult\n",
    "else:\n",
    "    MAMCS = int(MAMCS)\n",
    "    if MAMCS>NMult:\n",
    "        MAMCS = NMult;\n",
    "    elif(MAMCS<1):\n",
    "        MAMCS=1"
   ]
  },
  {
   "cell_type": "code",
   "execution_count": 12,
   "metadata": {
    "collapsed": false
   },
   "outputs": [
    {
     "name": "stdout",
     "output_type": "stream",
     "text": [
      "Enter maximum size allowed for base adders (empty for 2): 2\n"
     ]
    }
   ],
   "source": [
    "#AdderSize>=2\n",
    "if MAMCS<NMult:\n",
    "    AdderSize = input('Enter maximum size allowed for base adders (empty for 2): ')"
   ]
  },
  {
   "cell_type": "code",
   "execution_count": 13,
   "metadata": {
    "collapsed": false
   },
   "outputs": [
    {
     "name": "stdout",
     "output_type": "stream",
     "text": [
      "Enable Input Latch? (empty or 0 to disable, 1 to enable): 1\n"
     ]
    }
   ],
   "source": [
    "Enable_Input_Latch = input('Enable Input Latch? (empty or 0 to disable, 1 to enable): ')"
   ]
  },
  {
   "cell_type": "code",
   "execution_count": 14,
   "metadata": {
    "collapsed": true
   },
   "outputs": [],
   "source": [
    "RS=math.ceil(M/PR)"
   ]
  },
  {
   "cell_type": "code",
   "execution_count": 15,
   "metadata": {
    "collapsed": false
   },
   "outputs": [
    {
     "name": "stdout",
     "output_type": "stream",
     "text": [
      "Enable Column Latch? (empty or 0 to disable, 1 to enable): 1\n"
     ]
    }
   ],
   "source": [
    "if RS>1:\n",
    "    Enable_Column_Latch = input('Enable Column Latch? (empty or 0 to disable, 1 to enable): ')"
   ]
  },
  {
   "cell_type": "code",
   "execution_count": 16,
   "metadata": {
    "collapsed": true
   },
   "outputs": [],
   "source": [
    "CS=math.ceil(Q/PC)"
   ]
  },
  {
   "cell_type": "code",
   "execution_count": 17,
   "metadata": {
    "collapsed": false
   },
   "outputs": [
    {
     "name": "stdout",
     "output_type": "stream",
     "text": [
      "Enable Row Latch? (empty or 0 to disable, 1 to enable): 1\n"
     ]
    }
   ],
   "source": [
    "if CS>1:\n",
    "    Enable_Row_Latch = input('Enable Row Latch? (empty or 0 to disable, 1 to enable): ')"
   ]
  },
  {
   "cell_type": "code",
   "execution_count": 18,
   "metadata": {
    "collapsed": false
   },
   "outputs": [
    {
     "name": "stdout",
     "output_type": "stream",
     "text": [
      "Enter IN_WIDTH default value (empty for 10): \n"
     ]
    }
   ],
   "source": [
    "#IN_WIDTH>=1\n",
    "IN_WIDTH = input('Enter IN_WIDTH default value (empty for 10): ')"
   ]
  },
  {
   "cell_type": "code",
   "execution_count": 19,
   "metadata": {
    "collapsed": false
   },
   "outputs": [
    {
     "name": "stdout",
     "output_type": "stream",
     "text": [
      "Enter INPUT_REG_DEPTH default value (empty for 1): \n"
     ]
    }
   ],
   "source": [
    "#INPUT_REG_DEPTH>=0\n",
    "INPUT_REG_DEPTH = input('Enter INPUT_REG_DEPTH default value (empty for 1): ')"
   ]
  },
  {
   "cell_type": "code",
   "execution_count": 20,
   "metadata": {
    "collapsed": false
   },
   "outputs": [
    {
     "name": "stdout",
     "output_type": "stream",
     "text": [
      "Enter MULT_PIPE_DEPTH default value (empty for 1): \n"
     ]
    }
   ],
   "source": [
    "#MULT_PIPE_DEPTH>=0\n",
    "MULT_PIPE_DEPTH = input('Enter MULT_PIPE_DEPTH default value (empty for 1): ')"
   ]
  },
  {
   "cell_type": "code",
   "execution_count": 21,
   "metadata": {
    "collapsed": true
   },
   "outputs": [],
   "source": [
    "NumOfComponents = math.ceil(NMult/MAMCS)\n",
    "if MAMCS==NMult:\n",
    "    AdderSize=0\n",
    "else:\n",
    "    if not AdderSize:\n",
    "        AdderSize=2\n",
    "    else:\n",
    "        AdderSize = int(AdderSize)\n",
    "        if AdderSize<2:\n",
    "            AdderSize=2\n",
    "        if AdderSize>NumOfComponents:\n",
    "            AdderSize=NumOfComponents\n",
    "            \n",
    "if not Enable_Input_Latch:\n",
    "    Enable_Input_Latch=0\n",
    "else:\n",
    "    Enable_Input_Latch = int(Enable_Input_Latch)\n",
    "\n",
    "if RS==1:\n",
    "    Enable_Column_Latch = 0;\n",
    "else:\n",
    "    if not Enable_Column_Latch:\n",
    "        Enable_Column_Latch = 0\n",
    "    else:\n",
    "        Enable_Column_Latch = int(Enable_Column_Latch)\n",
    "\n",
    "if CS==1:\n",
    "    Enable_Row_Latch = 0;\n",
    "else:\n",
    "    if not Enable_Row_Latch:\n",
    "        Enable_Row_Latch = 0\n",
    "    else:\n",
    "        Enable_Row_Latch = int(Enable_Row_Latch)\n",
    "\n",
    "if not IN_WIDTH:\n",
    "    IN_WIDTH=10\n",
    "else:\n",
    "    IN_WIDTH = int(IN_WIDTH)\n",
    "    if(IN_WIDTH<1):\n",
    "        IN_WIDTH=1\n",
    "\n",
    "if not INPUT_REG_DEPTH:\n",
    "    INPUT_REG_DEPTH=1\n",
    "else:\n",
    "    INPUT_REG_DEPTH = int(INPUT_REG_DEPTH)\n",
    "    if(INPUT_REG_DEPTH<0):\n",
    "        INPUT_REG_DEPTH=0\n",
    "\n",
    "if not MULT_PIPE_DEPTH:\n",
    "    MULT_PIPE_DEPTH=1\n",
    "else:\n",
    "    MULT_PIPE_DEPTH = int(MULT_PIPE_DEPTH)\n",
    "    if(MULT_PIPE_DEPTH<0):\n",
    "        MULT_PIPE_DEPTH=0"
   ]
  },
  {
   "cell_type": "code",
   "execution_count": 22,
   "metadata": {
    "collapsed": false
   },
   "outputs": [],
   "source": [
    "ModuleName=\"MatrixMatrixMultiply_{}_{}_{}_{}PR_{}PC_OTI_HRx{}_S{}E_C{}_A{}_\".format(M, N, Q, PR, PC, HRR, NMult, MAMCS, AdderSize)\n",
    "if Enable_Input_Latch<=0:\n",
    "    ModuleName+=\"N\"\n",
    "ModuleName+=\"IL_\"\n",
    "if Enable_Column_Latch<=0:\n",
    "    ModuleName+=\"N\"\n",
    "ModuleName+=\"CL_\"\n",
    "if Enable_Row_Latch<=0:\n",
    "    ModuleName+=\"N\"\n",
    "ModuleName+=\"RL\"\n",
    "ModuleNameR=ModuleName+\"_REGISTERED\""
   ]
  },
  {
   "cell_type": "code",
   "execution_count": 23,
   "metadata": {
    "collapsed": false
   },
   "outputs": [],
   "source": [
    "__Print_To_File = 0\n",
    "\n",
    "if __Print_To_File<=0:\n",
    "    of=sys.stdout\n",
    "else:\n",
    "    of=open(\"./\"+ModuleNameR+\".v\", 'w+')"
   ]
  },
  {
   "cell_type": "code",
   "execution_count": 24,
   "metadata": {
    "collapsed": false,
    "scrolled": true
   },
   "outputs": [
    {
     "name": "stdout",
     "output_type": "stream",
     "text": [
      "`timescale 1ns / 1ps\n",
      "\n",
      "module MatrixMatrixMultiply_5_9_5_2PR_2PC_OTI_HRx2_S5E_C3_A2_IL_CL_RL_REGISTERED\n",
      "#(\n",
      "parameter IN_WIDTH = 10,\n",
      "parameter INPUT_REG_DEPTH = 1,\n",
      "parameter MULT_PIPE_DEPTH = 1\n",
      ")(\n",
      "input clk, reset, enable,\n",
      "output reg newInSeriesStart,\n",
      "output reg inSeries,\n",
      "output reg [1:0] rowSetInNo,\n",
      "output reg [1:0] columnSetInNo,\n",
      "input inReady,\n",
      "input signed [IN_WIDTH-1:0] AE0R0, AE1R0, AE2R0, AE3R0, AE4R0, AE5R0, AE6R0, AE7R0, AE8R0, \n",
      "AE0R1, AE1R1, AE2R1, AE3R1, AE4R1, AE5R1, AE6R1, AE7R1, AE8R1, \n",
      "input signed [IN_WIDTH-1:0] BE0C0, BE1C0, BE2C0, BE3C0, BE4C0, BE5C0, BE6C0, BE7C0, BE8C0, \n",
      "BE0C1, BE1C1, BE2C1, BE3C1, BE4C1, BE5C1, BE6C1, BE7C1, BE8C1, \n",
      "output reg C0R0EReady,\n",
      "output reg C0R1EReady,\n",
      "output reg C1R0EReady,\n",
      "output reg C1R1EReady,\n",
      "output reg [1:0] rowSetOutNo,\n",
      "output reg [1:0] columnSetOutNo,\n",
      "output reg signed [(2*IN_WIDTH)+3:0] EC0R0, EC0R1, EC1R0, EC1R1, \n",
      "output reg earlyC0R0EReady,\n",
      "output reg earlyC0R1EReady,\n",
      "output reg earlyC1R0EReady,\n",
      "output reg earlyC1R1EReady\n",
      ");\n",
      "\n"
     ]
    }
   ],
   "source": [
    "print(\"`timescale 1ns / 1ps\\n\", file=of)\n",
    "print(\"module \"+ModuleNameR, file=of)\n",
    "print(\"#(\", file=of)\n",
    "print(\"parameter IN_WIDTH = {},\".format(IN_WIDTH), file=of)\n",
    "print(\"parameter INPUT_REG_DEPTH = {},\".format(INPUT_REG_DEPTH), file=of)\n",
    "print(\"parameter MULT_PIPE_DEPTH = {}\".format(MULT_PIPE_DEPTH), file=of)\n",
    "print(\")(\", file=of)\n",
    "print(\"input clk, reset, enable,\", file=of)\n",
    "print(\"output reg newInSeriesStart,\", file=of)\n",
    "lghrr=math.ceil(math.log2(HRR))\n",
    "if lghrr==1:\n",
    "    print(\"output reg inSeries,\", file=of)\n",
    "elif lghrr>1:\n",
    "    print(\"output reg [{}:0] inSeries,\".format(lghrr-1), file=of)\n",
    "lgRS=math.ceil(math.log2(RS))\n",
    "if lgRS<=1:\n",
    "    print(\"output reg rowSetInNo,\", file=of)\n",
    "else:\n",
    "    print(\"output reg [{}:0] rowSetInNo,\".format(lgRS-1), file=of)\n",
    "lgCS=math.ceil(math.log2(CS))\n",
    "if lgCS<=1:\n",
    "    print(\"output reg columnSetInNo,\", file=of)\n",
    "else:\n",
    "    print(\"output reg [{}:0] columnSetInNo,\".format(lgCS-1), file=of)\n",
    "print(\"input inReady,\", file=of)\n",
    "print(\"input signed [IN_WIDTH-1:0] \", end='', file=of)\n",
    "for i in range(PR):\n",
    "    for j in range(N):\n",
    "        print(\"AE{}R{}, \".format(j, i), end='', file=of)\n",
    "    print(file=of)\n",
    "print(\"input signed [IN_WIDTH-1:0] \", end='', file=of)\n",
    "for i in range(PC):\n",
    "    for j in range(N):\n",
    "        print(\"BE{}C{}, \".format(j, i), end='', file=of)\n",
    "    print(file=of)\n",
    "ac=CS*PC-Q\n",
    "QE = PC-ac-1\n",
    "if QE==0:\n",
    "    stc1=\"C0\"\n",
    "else:\n",
    "    stc1=\"C0toC{}\".format(QE)\n",
    "if QE==(PC-2):\n",
    "    stc2=\"C{}\".format(PC-1)\n",
    "else:\n",
    "    stc2=\"C{}toC{}\".format(QE+1, PC-1)\n",
    "ar=RS*PR-M\n",
    "ME = PR-ar-1\n",
    "if ME==0:\n",
    "    str1=\"R0\"\n",
    "else:\n",
    "    str1=\"R0toR{}\".format(ME)\n",
    "if ME==(PR-2):\n",
    "    str2=\"R{}\".format(PR-1)\n",
    "else:\n",
    "    str2=\"R{}toR{}\".format(ME+1, PR-1)\n",
    "print(\"output reg \", end='', file=of)\n",
    "print(stc1, end='', file=of)\n",
    "print(str1, end='', file=of)\n",
    "print(\"EReady,\", file=of)\n",
    "if ar!=0:\n",
    "    print(\"output reg \", end='', file=of)\n",
    "    print(stc1, end='', file=of)\n",
    "    print(str2, end='', file=of)\n",
    "    print(\"EReady,\", file=of)\n",
    "else:\n",
    "    print(\"output reg NUEReady1,\", file=of)\n",
    "if ac!=0:\n",
    "    print(\"output reg \", end='', file=of)\n",
    "    print(stc2, end='', file=of)\n",
    "    print(str1, end='', file=of)\n",
    "    print(\"EReady,\", file=of)\n",
    "    if ar!=0:\n",
    "        print(\"output reg \", end='', file=of)\n",
    "        print(stc2, end='', file=of)\n",
    "        print(str2, end='', file=of)\n",
    "        print(\"EReady,\", file=of)\n",
    "    else:\n",
    "        print(\"output reg NUEReady2,\", file=of)\n",
    "else:\n",
    "    print(\"output reg NUEReady2,\", file=of)\n",
    "    print(\"output reg NUEReady3,\", file=of)\n",
    "if lgRS<=1:\n",
    "    print(\"output reg rowSetOutNo,\", file=of)\n",
    "else:\n",
    "    print(\"output reg [{}:0] rowSetOutNo,\".format(lgRS-1), file=of)\n",
    "if lgCS<=1:\n",
    "    print(\"output reg columnSetOutNo,\", file=of)\n",
    "else:\n",
    "    print(\"output reg [{}:0] columnSetOutNo,\".format(lgCS-1), file=of)\n",
    "lgN=math.ceil(math.log2(N))\n",
    "al=-1+lgN\n",
    "if al==0:\n",
    "    print(\"output reg signed [(2*IN_WIDTH):0] \", end='',file=of)\n",
    "elif al<0:\n",
    "    print(\"output reg signed [(2*IN_WIDTH){}:0] \".format(al), end='',file=of)\n",
    "else:\n",
    "    print(\"output reg signed [(2*IN_WIDTH)+{}:0] \".format(al), end='',file=of)\n",
    "for i in range(PC):\n",
    "    for j in range(PR):\n",
    "        print(\"EC{}R{}, \".format(i, j), end='',file=of)\n",
    "print(file=of)\n",
    "print(\"output reg early\", end='', file=of)\n",
    "print(stc1, end='', file=of)\n",
    "print(str1, end='', file=of)\n",
    "print(\"EReady,\", file=of)\n",
    "if ar!=0:\n",
    "    print(\"output reg early\", end='', file=of)\n",
    "    print(stc1, end='', file=of)\n",
    "    print(str2, end='', file=of)\n",
    "    print(\"EReady,\", file=of)\n",
    "else:\n",
    "    print(\"output reg NUeEReady1,\", file=of)\n",
    "if ac!=0:\n",
    "    print(\"output reg early\", end='', file=of)\n",
    "    print(stc2, end='', file=of)\n",
    "    print(str1, end='', file=of)\n",
    "    print(\"EReady,\", file=of)\n",
    "    if ar!=0:\n",
    "        print(\"output reg early\", end='', file=of)\n",
    "        print(stc2, end='', file=of)\n",
    "        print(str2, end='', file=of)\n",
    "        print(\"EReady\", file=of)\n",
    "    else:\n",
    "        print(\"output reg NUeEReady2\", file=of)\n",
    "else:\n",
    "    print(\"output reg NUeEReady2,\", file=of)\n",
    "    print(\"output reg NUeEReady3\", file=of)\n",
    "print(\");\", file=of)\n",
    "print(file=of)"
   ]
  },
  {
   "cell_type": "code",
   "execution_count": 25,
   "metadata": {
    "collapsed": false
   },
   "outputs": [
    {
     "name": "stdout",
     "output_type": "stream",
     "text": [
      "reg reset_R, enable_R;\n",
      "reg inReady_R;\n",
      "reg signed [IN_WIDTH-1:0] AE0R0_R, AE1R0_R, AE2R0_R, AE3R0_R, AE4R0_R, AE5R0_R, AE6R0_R, AE7R0_R, AE8R0_R, \n",
      "AE0R1_R, AE1R1_R, AE2R1_R, AE3R1_R, AE4R1_R, AE5R1_R, AE6R1_R, AE7R1_R, AE8R1_R;\n",
      "reg signed [IN_WIDTH-1:0] BE0C0_R, BE1C0_R, BE2C0_R, BE3C0_R, BE4C0_R, BE5C0_R, BE6C0_R, BE7C0_R, BE8C0_R, \n",
      "BE0C1_R, BE1C1_R, BE2C1_R, BE3C1_R, BE4C1_R, BE5C1_R, BE6C1_R, BE7C1_R, BE8C1_R;\n",
      "\n"
     ]
    }
   ],
   "source": [
    "print(\"reg reset_R, enable_R;\", file=of)\n",
    "print(\"reg inReady_R;\", file=of)\n",
    "print(\"reg signed [IN_WIDTH-1:0] \", end='', file=of)\n",
    "for i in range(PR):\n",
    "    for j in range(N):\n",
    "        print(\"AE{}R{}_R\".format(j, i), end='', file=of)\n",
    "        if i!=(PR-1) or j!=(N-1):\n",
    "            print(\", \", end='', file=of)\n",
    "    if i!=(PR-1):\n",
    "        print(file=of)\n",
    "print(\";\", file=of)\n",
    "print(\"reg signed [IN_WIDTH-1:0] \", end='', file=of)\n",
    "for i in range(PC):\n",
    "    for j in range(N):\n",
    "        print(\"BE{}C{}_R\".format(j, i), end='', file=of)\n",
    "        if i!=(PC-1) or j!=(N-1):\n",
    "            print(\", \", end='', file=of)\n",
    "    if i!=(PR-1):\n",
    "        print(file=of)\n",
    "print(\";\", file=of)\n",
    "print(file=of)"
   ]
  },
  {
   "cell_type": "code",
   "execution_count": 31,
   "metadata": {
    "collapsed": false
   },
   "outputs": [
    {
     "name": "stdout",
     "output_type": "stream",
     "text": [
      "wire newInSeriesStart_W;\n",
      "wire inSeries_W;\n",
      "wire [1:0] rowSetInNo_W;\n",
      "wire [1:0] columnSetInNo_W;\n",
      "wire C0R0EReady_W;\n",
      "wire C0R1EReady_W;\n",
      "wire C1R0EReady_W;\n",
      "wire C1R1EReady_W;\n",
      "wire [1:0] rowSetOutNo_W;\n",
      "wire [1:0] columnSetOutNo_W;\n",
      "wire signed [(2*IN_WIDTH)+3:0] EC0R0_W, EC0R1_W, EC1R0_W, EC1R1_W;\n",
      "wire earlyC0R0EReady_W;\n",
      "wire earlyC0R1EReady_W;\n",
      "wire earlyC1R0EReady_W;\n",
      "wire earlyC1R1EReady_W;\n",
      "\n"
     ]
    }
   ],
   "source": [
    "print(\"wire newInSeriesStart_W;\", file=of)\n",
    "if lghrr==1:\n",
    "    print(\"wire inSeries_W;\", file=of)\n",
    "elif lghrr>1:\n",
    "    print(\"wire [{}:0] inSeries_W;\".format(lghrr-1), file=of)\n",
    "if lgRS<=1:\n",
    "    print(\"wire rowSetInNo_W;\", file=of)\n",
    "else:\n",
    "    print(\"wire [{}:0] rowSetInNo_W;\".format(lgRS-1), file=of)\n",
    "if lgCS<=1:\n",
    "    print(\"wire columnSetInNo_W;\", file=of)\n",
    "else:\n",
    "    print(\"wire [{}:0] columnSetInNo_W;\".format(lgCS-1), file=of)\n",
    "print(\"wire \", end='', file=of)\n",
    "print(stc1, end='', file=of)\n",
    "print(str1, end='', file=of)\n",
    "print(\"EReady_W;\", file=of)\n",
    "if ar!=0:\n",
    "    print(\"wire \", end='', file=of)\n",
    "    print(stc1, end='', file=of)\n",
    "    print(str2, end='', file=of)\n",
    "    print(\"EReady_W;\", file=of)\n",
    "else:\n",
    "    print(\"wire NUEReady1_W;\", file=of)\n",
    "if ac!=0:\n",
    "    print(\"wire \", end='', file=of)\n",
    "    print(stc2, end='', file=of)\n",
    "    print(str1, end='', file=of)\n",
    "    print(\"EReady_W;\", file=of)\n",
    "    if ar!=0:\n",
    "        print(\"wire \", end='', file=of)\n",
    "        print(stc2, end='', file=of)\n",
    "        print(str2, end='', file=of)\n",
    "        print(\"EReady_W;\", file=of)\n",
    "    else:\n",
    "        print(\"wire NUEReady2_W;\", file=of)\n",
    "else:\n",
    "    print(\"wire NUEReady2_W;\", file=of)\n",
    "    print(\"wire NUEReady3_W;\", file=of)\n",
    "if lgRS<=1:\n",
    "    print(\"wire rowSetOutNo_W;\", file=of)\n",
    "else:\n",
    "    print(\"wire [{}:0] rowSetOutNo_W;\".format(lgRS-1), file=of)\n",
    "if lgCS<=1:\n",
    "    print(\"wire columnSetOutNo_W;\", file=of)\n",
    "else:\n",
    "    print(\"wire [{}:0] columnSetOutNo_W;\".format(lgCS-1), file=of)\n",
    "if al==0:\n",
    "    print(\"wire signed [(2*IN_WIDTH):0] \", end='',file=of)\n",
    "elif al<0:\n",
    "    print(\"wire signed [(2*IN_WIDTH){}:0] \".format(al), end='',file=of)\n",
    "else:\n",
    "    print(\"wire signed [(2*IN_WIDTH)+{}:0] \".format(al), end='',file=of)\n",
    "for i in range(PC):\n",
    "    for j in range(PR):\n",
    "        print(\"EC{}R{}_W\".format(i, j), end='',file=of)\n",
    "        if i!=(PC-1) or j!=(PR-1):\n",
    "            print(\", \", end='', file=of)\n",
    "if i!=(PC-1):\n",
    "    print(file=of)\n",
    "print(\";\", file=of)\n",
    "print(\"wire early\", end='', file=of)\n",
    "print(stc1, end='', file=of)\n",
    "print(str1, end='', file=of)\n",
    "print(\"EReady_W;\", file=of)\n",
    "if ar!=0:\n",
    "    print(\"wire early\", end='', file=of)\n",
    "    print(stc1, end='', file=of)\n",
    "    print(str2, end='', file=of)\n",
    "    print(\"EReady_W;\", file=of)\n",
    "else:\n",
    "    print(\"wire NUeEReady1_W;\", file=of)\n",
    "if ac!=0:\n",
    "    print(\"wire early\", end='', file=of)\n",
    "    print(stc2, end='', file=of)\n",
    "    print(str1, end='', file=of)\n",
    "    print(\"EReady_W;\", file=of)\n",
    "    if ar!=0:\n",
    "        print(\"wire early\", end='', file=of)\n",
    "        print(stc2, end='', file=of)\n",
    "        print(str2, end='', file=of)\n",
    "        print(\"EReady_W;\", file=of)\n",
    "    else:\n",
    "        print(\"wire NUeEReady2_W;\", file=of)\n",
    "else:\n",
    "    print(\"wire NUeEReady2_W;\", file=of)\n",
    "    print(\"wire NUeEReady3_W;\", file=of)\n",
    "print(file=of)"
   ]
  },
  {
   "cell_type": "code",
   "execution_count": 33,
   "metadata": {
    "collapsed": false
   },
   "outputs": [
    {
     "name": "stdout",
     "output_type": "stream",
     "text": [
      "always @(posedge clk) begin\n",
      "\treset_R <= reset;\n",
      "\tenable_R <= enable;\n",
      "\tinReady_R <= inReady;\n",
      "\tAE0R0_R <= AE0R0; AE1R0_R <= AE1R0; AE2R0_R <= AE2R0; AE3R0_R <= AE3R0; AE4R0_R <= AE4R0; AE5R0_R <= AE5R0; AE6R0_R <= AE6R0; AE7R0_R <= AE7R0; AE8R0_R <= AE8R0; \n",
      "\tAE0R1_R <= AE0R1; AE1R1_R <= AE1R1; AE2R1_R <= AE2R1; AE3R1_R <= AE3R1; AE4R1_R <= AE4R1; AE5R1_R <= AE5R1; AE6R1_R <= AE6R1; AE7R1_R <= AE7R1; AE8R1_R <= AE8R1; \n",
      "\tBE0C0_R <= BE0C0; BE1C0_R <= BE1C0; BE2C0_R <= BE2C0; BE3C0_R <= BE3C0; BE4C0_R <= BE4C0; BE5C0_R <= BE5C0; BE6C0_R <= BE6C0; BE7C0_R <= BE7C0; BE8C0_R <= BE8C0; \n",
      "\tBE0C1_R <= BE0C1; BE1C1_R <= BE1C1; BE2C1_R <= BE2C1; BE3C1_R <= BE3C1; BE4C1_R <= BE4C1; BE5C1_R <= BE5C1; BE6C1_R <= BE6C1; BE7C1_R <= BE7C1; BE8C1_R <= BE8C1; \n",
      "\tnewInSeriesStart <= newInSeriesStart_W;\n",
      "\tinSeries <= inSeries_W;\n",
      "\trowSetInNo <= rowSetInNo_W;\n",
      "\tcolumnSetInNo <= columnSetInNo_W;\n",
      "\tC0R0EReady <= C0R0EReady_W;\n",
      "\tC0R1EReady <= C0R1EReady_W;\n",
      "\tC1R0EReady <= C1R0EReady_W;\n",
      "\tC1R1EReady <= C1R1EReady_W;\n",
      "\trowSetOutNo <= rowSetOutNo_W;\n",
      "\tcolumnSetOutNo <= columnSetOutNo_W;\n",
      "\tEC0R0 <= EC0R0_W; EC0R1 <= EC0R1_W; EC1R0 <= EC1R0_W; EC1R1 <= EC1R1_W; \n",
      "\tearlyC0R0EReady <= earlyC0R0EReady_W;\n",
      "\tearlyC0R1EReady <= earlyC0R1EReady_W;\n",
      "\tearlyC1R0EReady <= earlyC1R0EReady_W;\n",
      "\tearlyC1R1EReady <= earlyC1R1EReady_W;\n",
      "end\n",
      "\n"
     ]
    }
   ],
   "source": [
    "print(\"always @(posedge clk) begin\", file=of)\n",
    "print(\"\\treset_R <= reset;\", file=of)\n",
    "print(\"\\tenable_R <= enable;\", file=of)\n",
    "print(\"\\tinReady_R <= inReady;\", file=of)\n",
    "for i in range(PR):\n",
    "    print(\"\\t\", end='', file=of)    \n",
    "    for j in range(N):\n",
    "        print(\"AE{}R{}_R <= AE{}R{}; \".format(j, i, j, i), end='', file=of)\n",
    "    print(file=of)\n",
    "for i in range(PC):\n",
    "    print(\"\\t\", end='', file=of)    \n",
    "    for j in range(N):\n",
    "        print(\"BE{}C{}_R <= BE{}C{}; \".format(j, i, j, i), end='', file=of)\n",
    "    print(file=of)\n",
    "\n",
    "print(\"\\tnewInSeriesStart <= newInSeriesStart_W;\", file=of)\n",
    "print(\"\\tinSeries <= inSeries_W;\", file=of)\n",
    "print(\"\\trowSetInNo <= rowSetInNo_W;\", file=of)\n",
    "print(\"\\tcolumnSetInNo <= columnSetInNo_W;\", file=of)\n",
    "print(\"\\t\"+stc1, end='', file=of)\n",
    "print(str1, end='', file=of)\n",
    "print(\"EReady <= \", end='', file=of)\n",
    "print(stc1, end='', file=of)\n",
    "print(str1, end='', file=of)\n",
    "print(\"EReady_W;\", file=of)\n",
    "if ar!=0:\n",
    "    print(\"\\t\"+stc1, end='', file=of)\n",
    "    print(str2, end='', file=of)\n",
    "    print(\"EReady <= \", end='', file=of)\n",
    "    print(stc1, end='', file=of)\n",
    "    print(str2, end='', file=of)\n",
    "    print(\"EReady_W;\", file=of)\n",
    "else:\n",
    "    print(\"\\tNUEReady1 <= NUEReady1_W;\", file=of)\n",
    "if ac!=0:\n",
    "    print(\"\\t\"+stc2, end='', file=of)\n",
    "    print(str1, end='', file=of)\n",
    "    print(\"EReady <= \", end='', file=of)\n",
    "    print(stc2, end='', file=of)\n",
    "    print(str1, end='', file=of)\n",
    "    print(\"EReady_W;\", file=of)\n",
    "    if ar!=0:\n",
    "        print(\"\\t\"+stc2, end='', file=of)\n",
    "        print(str2, end='', file=of)\n",
    "        print(\"EReady <= \", end='', file=of)\n",
    "        print(stc2, end='', file=of)\n",
    "        print(str2, end='', file=of)\n",
    "        print(\"EReady_W;\", file=of)\n",
    "    else:\n",
    "        print(\"\\tNUEReady2 <= NUEReady2_W;\", file=of)\n",
    "else:\n",
    "    print(\"\\tNUEReady2 <= NUEReady2_W;\", file=of)\n",
    "    print(\"\\tNUEReady3 <= NUEReady3_W;\", file=of)\n",
    "#\n",
    "print(\"\\trowSetOutNo <= rowSetOutNo_W;\", file=of)\n",
    "print(\"\\tcolumnSetOutNo <= columnSetOutNo_W;\", file=of)\n",
    "print(\"\\t\", end='', file=of)    \n",
    "for i in range(PC):\n",
    "    for j in range(PR):\n",
    "        print(\"EC{}R{} <= EC{}R{}_W; \".format(i, j, i, j), end='',file=of)\n",
    "print(file=of)\n",
    "print(\"\\tearly\", end='', file=of)\n",
    "print(stc1, end='', file=of)\n",
    "print(str1, end='', file=of)\n",
    "print(\"EReady <= early\", end='', file=of)\n",
    "print(stc1, end='', file=of)\n",
    "print(str1, end='', file=of)\n",
    "print(\"EReady_W;\", file=of)\n",
    "if ar!=0:\n",
    "    print(\"\\tearly\", end='', file=of)\n",
    "    print(stc1, end='', file=of)\n",
    "    print(str2, end='', file=of)\n",
    "    print(\"EReady <= early\", end='', file=of)\n",
    "    print(stc1, end='', file=of)\n",
    "    print(str2, end='', file=of)\n",
    "    print(\"EReady_W;\", file=of)\n",
    "else:\n",
    "    print(\"\\tNUeEReady1 <= NUeEReady1_W;\", file=of)\n",
    "if ac!=0:\n",
    "    print(\"\\tearly\", end='', file=of)\n",
    "    print(stc2, end='', file=of)\n",
    "    print(str1, end='', file=of)\n",
    "    print(\"EReady <= early\", end='', file=of)\n",
    "    print(stc2, end='', file=of)\n",
    "    print(str1, end='', file=of)\n",
    "    print(\"EReady_W;\", file=of)\n",
    "    if ar!=0:\n",
    "        print(\"\\tearly\", end='', file=of)\n",
    "        print(stc2, end='', file=of)\n",
    "        print(str2, end='', file=of)\n",
    "        print(\"EReady <= early\", end='', file=of)\n",
    "        print(stc2, end='', file=of)\n",
    "        print(str2, end='', file=of)\n",
    "        print(\"EReady_W;\", file=of)\n",
    "    else:\n",
    "        print(\"\\tNUeEReady2 <= NUeEReady2_W;\", file=of)\n",
    "else:\n",
    "    print(\"\\tNUeEReady2 <= NUeEReady2_W;\", file=of)\n",
    "    print(\"\\tNUeEReady3 <= NUeEReady3_W;\", file=of)\n",
    "print(\"end\", file=of)\n",
    "print(file=of)"
   ]
  },
  {
   "cell_type": "code",
   "execution_count": 28,
   "metadata": {
    "collapsed": false
   },
   "outputs": [
    {
     "name": "stdout",
     "output_type": "stream",
     "text": [
      "MatrixMatrixMultiply_5_9_5_2PR_2PC_OTI_HRx2_S5E_C3_A2_IL_CL_RL\n",
      "#(\n",
      ".IN_WIDTH(IN_WIDTH),\n",
      ".INPUT_REG_DEPTH(INPUT_REG_DEPTH),\n",
      ".MULT_PIPE_DEPTH(MULT_PIPE_DEPTH)\n",
      ")inst(\n",
      "clk, reset_R, enable_R,\n",
      "newInSeriesStart_W,\n",
      "inSeries_W,\n",
      "rowSetInNo_W,\n",
      "columnSetInNo_W,\n",
      "inReady_R,\n",
      "AE0R0_R, AE1R0_R, AE2R0_R, AE3R0_R, AE4R0_R, AE5R0_R, AE6R0_R, AE7R0_R, AE8R0_R, \n",
      "AE0R1_R, AE1R1_R, AE2R1_R, AE3R1_R, AE4R1_R, AE5R1_R, AE6R1_R, AE7R1_R, AE8R1_R, \n",
      "BE0C0_R, BE1C0_R, BE2C0_R, BE3C0_R, BE4C0_R, BE5C0_R, BE6C0_R, BE7C0_R, BE8C0_R, \n",
      "BE0C1_R, BE1C1_R, BE2C1_R, BE3C1_R, BE4C1_R, BE5C1_R, BE6C1_R, BE7C1_R, BE8C1_R, \n",
      "C0R0EReady_W,\n",
      "C0R1EReady_W,\n",
      "C1R0EReady_W,\n",
      "C1R1EReady_W,\n",
      "rowSetOutNo_W,\n",
      "columnSetOutNo_W,\n",
      "EC0R0_W, EC0R1_W, EC1R0_W, EC1R1_W, \n",
      "earlyC0R0EReady_W,\n",
      "earlyC0R1EReady_W,\n",
      "earlyC1R0EReady_W,\n",
      "earlyC1R1EReady_W\n",
      ");\n",
      "\n"
     ]
    }
   ],
   "source": [
    "print(ModuleName, file=of)\n",
    "print(\"#(\", file=of)\n",
    "print(\".IN_WIDTH(IN_WIDTH),\".format(IN_WIDTH), file=of)\n",
    "print(\".INPUT_REG_DEPTH(INPUT_REG_DEPTH),\".format(INPUT_REG_DEPTH), file=of)\n",
    "print(\".MULT_PIPE_DEPTH(MULT_PIPE_DEPTH)\".format(MULT_PIPE_DEPTH), file=of)\n",
    "print(\")Rinst(\", file=of)\n",
    "print(\"clk, reset_R, enable_R,\", file=of)\n",
    "print(\"newInSeriesStart_W,\", file=of)\n",
    "print(\"inSeries_W,\", file=of)\n",
    "print(\"rowSetInNo_W,\", file=of)\n",
    "print(\"columnSetInNo_W,\", file=of)\n",
    "print(\"inReady_R,\", file=of)\n",
    "for i in range(PR):\n",
    "    for j in range(N):\n",
    "        print(\"AE{}R{}_R, \".format(j, i), end='', file=of)\n",
    "    print(file=of)\n",
    "for i in range(PC):\n",
    "    for j in range(N):\n",
    "        print(\"BE{}C{}_R, \".format(j, i), end='', file=of)\n",
    "    print(file=of)\n",
    "\n",
    "print(stc1, end='', file=of)\n",
    "print(str1, end='', file=of)\n",
    "print(\"EReady_W,\", file=of)\n",
    "if ar!=0:\n",
    "    print(stc1, end='', file=of)\n",
    "    print(str2, end='', file=of)\n",
    "    print(\"EReady_W,\", file=of)\n",
    "else:\n",
    "    print(\"NUEReady1_W,\", file=of)\n",
    "if ac!=0:\n",
    "    print(stc2, end='', file=of)\n",
    "    print(str1, end='', file=of)\n",
    "    print(\"EReady_W,\", file=of)\n",
    "    if ar!=0:\n",
    "        print(stc2, end='', file=of)\n",
    "        print(str2, end='', file=of)\n",
    "        print(\"EReady_W,\", file=of)\n",
    "    else:\n",
    "        print(\"NUEReady2_W,\", file=of)\n",
    "else:\n",
    "    print(\"NUEReady2_W,\", file=of)\n",
    "    print(\"NUEReady3_W,\", file=of)\n",
    "print(\"rowSetOutNo_W,\", file=of)\n",
    "print(\"columnSetOutNo_W,\", file=of)\n",
    "for i in range(PC):\n",
    "    for j in range(PR):\n",
    "        print(\"EC{}R{}_W, \".format(i, j), end='',file=of)\n",
    "print(file=of)\n",
    "print(\"early\", end='', file=of)\n",
    "print(stc1, end='', file=of)\n",
    "print(str1, end='', file=of)\n",
    "print(\"EReady_W,\", file=of)\n",
    "if ar!=0:\n",
    "    print(\"early\", end='', file=of)\n",
    "    print(stc1, end='', file=of)\n",
    "    print(str2, end='', file=of)\n",
    "    print(\"EReady_W,\", file=of)\n",
    "else:\n",
    "    print(\"NUeEReady1_W,\", file=of)\n",
    "if ac!=0:\n",
    "    print(\"early\", end='', file=of)\n",
    "    print(stc2, end='', file=of)\n",
    "    print(str1, end='', file=of)\n",
    "    print(\"EReady_W,\", file=of)\n",
    "    if ar!=0:\n",
    "        print(\"early\", end='', file=of)\n",
    "        print(stc2, end='', file=of)\n",
    "        print(str2, end='', file=of)\n",
    "        print(\"EReady_W\", file=of)\n",
    "    else:\n",
    "        print(\"NUeEReady2_W\", file=of)\n",
    "else:\n",
    "    print(\"NUeEReady2_W,\", file=of)\n",
    "    print(\"NUeEReady3_W\", file=of)\n",
    "print(\");\", file=of)\n",
    "print(file=of)"
   ]
  },
  {
   "cell_type": "code",
   "execution_count": 29,
   "metadata": {
    "collapsed": false
   },
   "outputs": [
    {
     "name": "stdout",
     "output_type": "stream",
     "text": [
      "endmodule\n"
     ]
    }
   ],
   "source": [
    "print(\"endmodule\", file=of)"
   ]
  },
  {
   "cell_type": "code",
   "execution_count": 30,
   "metadata": {
    "collapsed": true
   },
   "outputs": [],
   "source": [
    "if __Print_To_File>0:\n",
    "    of.close()"
   ]
  }
 ],
 "metadata": {
  "kernelspec": {
   "display_name": "Python 3",
   "language": "python",
   "name": "python3"
  },
  "language_info": {
   "codemirror_mode": {
    "name": "ipython",
    "version": 3
   },
   "file_extension": ".py",
   "mimetype": "text/x-python",
   "name": "python",
   "nbconvert_exporter": "python",
   "pygments_lexer": "ipython3",
   "version": "3.5.1"
  }
 },
 "nbformat": 4,
 "nbformat_minor": 0
}
