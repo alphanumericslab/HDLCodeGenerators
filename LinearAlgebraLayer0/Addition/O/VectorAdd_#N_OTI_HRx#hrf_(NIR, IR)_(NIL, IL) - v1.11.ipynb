{
 "cells": [
  {
   "cell_type": "code",
   "execution_count": 1,
   "metadata": {
    "collapsed": true
   },
   "outputs": [],
   "source": [
    "#uses VectorAdd_#N(_noHR)(_S#noepsE_HRx#hrf)(_NIR, _IR) - v1.1x\n",
    "#uses OTItoSeries_#N_HRx#hrr_S#noepsE(_NOR, _OR)(_NIL, _IL) - v1.0x"
   ]
  },
  {
   "cell_type": "code",
   "execution_count": 2,
   "metadata": {
    "collapsed": false
   },
   "outputs": [],
   "source": [
    "import sys\n",
    "import math"
   ]
  },
  {
   "cell_type": "code",
   "execution_count": 3,
   "metadata": {
    "collapsed": false
   },
   "outputs": [
    {
     "name": "stdout",
     "output_type": "stream",
     "text": [
      "Enter No Of Elements Per Vectors (N): 10\n"
     ]
    }
   ],
   "source": [
    "#N>=2\n",
    "N = input('Enter No Of Elements Per Vectors (N): ')"
   ]
  },
  {
   "cell_type": "code",
   "execution_count": 4,
   "metadata": {
    "collapsed": true
   },
   "outputs": [],
   "source": [
    "N = int(N)\n",
    "if N<2:\n",
    "    N=2"
   ]
  },
  {
   "cell_type": "code",
   "execution_count": 5,
   "metadata": {
    "collapsed": false
   },
   "outputs": [
    {
     "name": "stdout",
     "output_type": "stream",
     "text": [
      "Enter HRR (>=2, <=10, empty for 2): 2\n"
     ]
    }
   ],
   "source": [
    "#HRR>=2\n",
    "HRR = input('Enter HRR (>=2, <={}, empty for 2): '.format(N))"
   ]
  },
  {
   "cell_type": "code",
   "execution_count": 6,
   "metadata": {
    "collapsed": false
   },
   "outputs": [],
   "source": [
    "if not HRR:\n",
    "    HRR=2\n",
    "else:\n",
    "    HRR = int(HRR)\n",
    "    if HRR<2:\n",
    "        HRR=2\n",
    "    if HRR>N:\n",
    "        HRR=N\n",
    "\n",
    "#chooses best value automatically\n",
    "NAdd = math.ceil(N/HRR);"
   ]
  },
  {
   "cell_type": "code",
   "execution_count": 8,
   "metadata": {
    "collapsed": false
   },
   "outputs": [
    {
     "name": "stdout",
     "output_type": "stream",
     "text": [
      "Enable Input Registers? (empty or 0 to disable, 1 to enable): \n"
     ]
    }
   ],
   "source": [
    "Enable_Input_Registers = input('Enable Input Registers? (empty or 0 to disable, 1 to enable): ')"
   ]
  },
  {
   "cell_type": "code",
   "execution_count": 9,
   "metadata": {
    "collapsed": false
   },
   "outputs": [
    {
     "name": "stdout",
     "output_type": "stream",
     "text": [
      "Enable Input Latch? (empty or 0 to disable, 1 to enable): \n"
     ]
    }
   ],
   "source": [
    "Enable_Input_Latch = input('Enable Input Latch? (empty or 0 to disable, 1 to enable): ')"
   ]
  },
  {
   "cell_type": "code",
   "execution_count": 18,
   "metadata": {
    "collapsed": false
   },
   "outputs": [
    {
     "name": "stdout",
     "output_type": "stream",
     "text": [
      "Enter IN_WIDTH Default Value (empty for 10): \n"
     ]
    }
   ],
   "source": [
    "#IN_WIDTH>=1\n",
    "IN_WIDTH = input('Enter IN_WIDTH Default Value (empty for 10): ')"
   ]
  },
  {
   "cell_type": "code",
   "execution_count": 10,
   "metadata": {
    "collapsed": false
   },
   "outputs": [],
   "source": [
    "if not IN_WIDTH:\n",
    "    IN_WIDTH=10\n",
    "else:\n",
    "    IN_WIDTH = int(IN_WIDTH)\n",
    "    if IN_WIDTH<1:\n",
    "        IN_WIDTH=1\n",
    "\n",
    "if not Enable_Input_Registers:\n",
    "    Enable_Input_Registers=0\n",
    "else:\n",
    "    Enable_Input_Registers = int(Enable_Input_Registers)\n",
    "\n",
    "if not Enable_Input_Latch:\n",
    "    Enable_Input_Latch=0\n",
    "else:\n",
    "    Enable_Input_Latch = int(Enable_Input_Latch)"
   ]
  },
  {
   "cell_type": "code",
   "execution_count": 11,
   "metadata": {
    "collapsed": true
   },
   "outputs": [],
   "source": [
    "__Print_To_File = 0\n",
    "\n",
    "if __Print_To_File<=0:\n",
    "    of=sys.stdout\n",
    "else:\n",
    "    filename=\"./VectorAdd_{}_OTI_HRx{}_\".format(N, HRR)\n",
    "    if Enable_Input_Registers<=0:\n",
    "        filename+=\"N\"\n",
    "    filename+=\"IR_\"\n",
    "    if Enable_Input_Latch<=0:\n",
    "        filename+=\"N\"\n",
    "    filename+=\"IL.v\"\n",
    "    of=open(filename, 'w+')"
   ]
  },
  {
   "cell_type": "code",
   "execution_count": 12,
   "metadata": {
    "collapsed": false
   },
   "outputs": [
    {
     "name": "stdout",
     "output_type": "stream",
     "text": [
      "`timescale 1ns / 1ps\n",
      "\n",
      "module VectorAdd_10_OTI_HRx2_NIR_NIL\n",
      "#(\n",
      "parameter IN_WIDTH = 10\n",
      ")(\n",
      "input clk, reset, enable,\n",
      "output reg readyForNewDataSeries,\n",
      "output inSeries,\n",
      "input inReady,\n",
      "input signed [IN_WIDTH-1:0] A0, A1, A2, A3, A4, A5, A6, A7, A8, A9, \n",
      "input signed [IN_WIDTH-1:0] B0, B1, B2, B3, B4, B5, B6, B7, B8, B9, \n",
      "output S0toS4outReady,\n",
      "output SNoutReady, //not used\n",
      "output outSeries,\n",
      "output signed [IN_WIDTH:0] S0, S1, S2, S3, S4, \n",
      "output S0toS4earlyOutReady,\n",
      "output SNearlyOutReady //not used\n",
      ");\n",
      "\n"
     ]
    }
   ],
   "source": [
    "print(\"`timescale 1ns / 1ps\\n\", file=of)\n",
    "print(\"module VectorAdd_{}_OTI_HRx{}_\".format(N, HRR), end='', file=of)\n",
    "if Enable_Input_Registers<=0:\n",
    "    print(\"N\", end='', file=of)\n",
    "print(\"IR_\", end='', file=of)\n",
    "if Enable_Input_Latch<=0:\n",
    "    print(\"N\", end='', file=of)\n",
    "print(\"IL\", file=of)\n",
    "print(\"#(\", file=of)\n",
    "print(\"parameter IN_WIDTH = {}\".format(IN_WIDTH), file=of)\n",
    "print(\")(\", file=of)\n",
    "print(\"input clk, reset, enable,\", file=of)\n",
    "print(\"output reg readyForNewDataSeries,\", file=of)\n",
    "lghrr=math.ceil(math.log2(HRR))\n",
    "if lghrr==1:\n",
    "    print(\"output inSeries,\", file=of)\n",
    "elif lghrr>1:\n",
    "    print(\"output [{}:0] inSeries,\".format(lghrr-1), file=of)\n",
    "print(\"input inReady,\", file=of)\n",
    "print(\"input signed [IN_WIDTH-1:0] \", end='', file=of)\n",
    "for i in range(N):\n",
    "    print(\"A{}, \".format(i), end='', file=of)\n",
    "print(file=of)\n",
    "print(\"input signed [IN_WIDTH-1:0] \", end='', file=of)\n",
    "for i in range(N):\n",
    "    print(\"B{}, \".format(i), end='', file=of)\n",
    "print(file=of)\n",
    "NE = N - NAdd*(HRR-1)\n",
    "while NE<=0:\n",
    "    NE += NAdd\n",
    "if NE==1:\n",
    "    print(\"output S0outReady,\", file=of)\n",
    "else:\n",
    "    print(\"output S0toS{}outReady,\".format(NE-1), file=of)\n",
    "if NE==NAdd:\n",
    "    print(\"output SNoutReady, //not used\", file=of)\n",
    "elif NE==NAdd-1:\n",
    "    print(\"output S{}outReady,\".format(NE), file=of)\n",
    "else:\n",
    "    print(\"output S{}toS{}outReady,\".format(NE, NAdd-1), file=of)\n",
    "if lghrr==1:\n",
    "    print(\"output outSeries,\", file=of)\n",
    "elif lghrr>1:\n",
    "    print(\"output [{}:0] outSeries,\".format(lghrr-1, HRR-1), file=of)\n",
    "print(\"output signed [IN_WIDTH:0] \", end='', file=of)\n",
    "for i in range(NAdd):\n",
    "    print(\"S{}, \".format(i), end='', file=of)\n",
    "print(file=of)\n",
    "if NE==1:\n",
    "    print(\"output S0earlyOutReady,\", file=of)\n",
    "else:\n",
    "    print(\"output S0toS{}earlyOutReady,\".format(NE-1), file=of)\n",
    "if NE==NAdd:\n",
    "    print(\"output SNearlyOutReady //not used\", file=of)\n",
    "elif NE==NAdd-1:\n",
    "    print(\"output S{}earlyOutReady\".format(NE), file=of)\n",
    "else:\n",
    "    print(\"output S{}toS{}earlyOutReady\".format(NE, NAdd-1), file=of)\n",
    "print(\");\\n\", file=of)"
   ]
  },
  {
   "cell_type": "code",
   "execution_count": 13,
   "metadata": {
    "collapsed": false
   },
   "outputs": [
    {
     "name": "stdout",
     "output_type": "stream",
     "text": [
      "wire addInReady;\n",
      "wire signed [IN_WIDTH-1:0] AS0, AS1, AS2, AS3, AS4;\n",
      "OTItoSeries_10_HRx2_S5E_NOR_NIL #( .IN_WIDTH(IN_WIDTH) )\n",
      "OTItSA(\n",
      "clk, reset, enable,\n",
      "readyForNewDataSeries,\n",
      "inSeries,\n",
      "inReady,\n",
      "A0, A1, A2, A3, A4, A5, A6, A7, A8, A9, \n",
      "addInReady,\n",
      "AS2outReady, //not used\n",
      "AoutSeries, //not used\n",
      "AS0, AS1, AS2, AS3, AS4, \n",
      "AS1earlyOutReady, //not used\n",
      "AS2earlyOutReady //not used\n",
      ");\n",
      "\n"
     ]
    }
   ],
   "source": [
    "print(\"wire addInReady;\", file=of)\n",
    "print(\"wire signed [IN_WIDTH-1:0] \", end='', file=of)\n",
    "for i in range(NAdd-1):\n",
    "    print(\"AS{}, \".format(i), end='', file=of)\n",
    "print(\"AS{};\".format(NAdd-1), file=of)\n",
    "print(\"OTItoSeries_{}_HRx{}_S{}E_\".format(N, HRR, NAdd), end='', file=of)\n",
    "# if Enable_Input_Registers<=0:\n",
    "#     print(\"N\", end='', file=of)\n",
    "print(\"NOR_\", end='', file=of)\n",
    "if Enable_Input_Latch<=0:\n",
    "    print(\"N\", end='', file=of)\n",
    "print(\"IL #( .IN_WIDTH(IN_WIDTH) )\", file=of)\n",
    "print(\"OTItSA(\", file=of)\n",
    "print(\"clk, reset, enable,\", file=of)\n",
    "print(\"readyForNewDataSeries,\", file=of)\n",
    "print(\"inSeries,\", file=of)\n",
    "print(\"inReady,\", file=of)\n",
    "for i in range(N):\n",
    "    print(\"A{}, \".format(i), end='', file=of)\n",
    "print(file=of)\n",
    "print(\"addInReady,\", file=of)\n",
    "print(\"AS2outReady, //not used\", file=of)\n",
    "print(\"AoutSeries, //not used\", file=of)\n",
    "for i in range(NAdd):\n",
    "    print(\"AS{}, \".format(i), end='', file=of)\n",
    "print(file=of)\n",
    "print(\"AS1earlyOutReady, //not used\", file=of)\n",
    "print(\"AS2earlyOutReady //not used\", file=of)\n",
    "print(\");\\n\", file=of)"
   ]
  },
  {
   "cell_type": "code",
   "execution_count": 14,
   "metadata": {
    "collapsed": false
   },
   "outputs": [
    {
     "name": "stdout",
     "output_type": "stream",
     "text": [
      "wire signed [IN_WIDTH-1:0] BS0, BS1, BS2, BS3, BS4;\n",
      "OTItoSeries_10_S5E_HRx2_NOR_NIL #( .IN_WIDTH(IN_WIDTH) )\n",
      "OTItSB(\n",
      "clk, reset, enable,\n",
      "RFNDSB, //not used\n",
      "ISB, //not used\n",
      "inReady,\n",
      "B0, B1, B2, B3, B4, B5, B6, B7, B8, B9, \n",
      "ORB, //not used\n",
      "BS2outReady, //not used\n",
      "BoutSeries, //not used\n",
      "BS0, BS1, BS2, BS3, BS4, \n",
      "BS1earlyOutReady, //not used\n",
      "BS2earlyOutReady //not used\n",
      ");\n",
      "\n"
     ]
    }
   ],
   "source": [
    "print(\"wire signed [IN_WIDTH-1:0] \", end='', file=of)\n",
    "for i in range(NAdd-1):\n",
    "    print(\"BS{}, \".format(i), end='', file=of)\n",
    "print(\"BS{};\".format(NAdd-1), file=of)\n",
    "print(\"OTItoSeries_{}_S{}E_HRx{}_\".format(N, NAdd, HRR), end='', file=of)\n",
    "# if Enable_Input_Registers<=0:\n",
    "#     print(\"N\", end='', file=of)\n",
    "print(\"NOR_\", end='', file=of)\n",
    "if Enable_Input_Latch<=0:\n",
    "    print(\"N\", end='', file=of)\n",
    "print(\"IL #( .IN_WIDTH(IN_WIDTH) )\", file=of)\n",
    "print(\"OTItSB(\", file=of)\n",
    "print(\"clk, reset, enable,\", file=of)\n",
    "print(\"RFNDSB, //not used\", file=of)\n",
    "print(\"ISB, //not used\", file=of)\n",
    "print(\"inReady,\", file=of)\n",
    "for i in range(N):\n",
    "    print(\"B{}, \".format(i), end='', file=of)\n",
    "print(file=of)\n",
    "print(\"ORB, //not used\", file=of)\n",
    "print(\"BS2outReady, //not used\", file=of)\n",
    "print(\"BoutSeries, //not used\", file=of)\n",
    "for i in range(NAdd):\n",
    "    print(\"BS{}, \".format(i), end='', file=of)\n",
    "print(file=of)\n",
    "print(\"BS1earlyOutReady, //not used\", file=of)\n",
    "print(\"BS2earlyOutReady //not used\", file=of)\n",
    "print(\");\\n\", file=of)"
   ]
  },
  {
   "cell_type": "code",
   "execution_count": 19,
   "metadata": {
    "collapsed": false
   },
   "outputs": [
    {
     "name": "stdout",
     "output_type": "stream",
     "text": [
      "VectorAdd10_S5E_HRx2_NIR#( .IN_WIDTH(IN_WIDTH) )\n",
      "VAE(\n",
      "clk, reset, enable,\n",
      "ARFNDS, //not used\n",
      "AIS, //not used\n",
      "addInReady,\n",
      "AS0, AS1, AS2, AS3, AS4, \n",
      "BS0, BS1, BS2, BS3, BS4, \n",
      "S0toS4outReady,\n",
      "SNoutReady, //not used\n",
      "outSeries,\n",
      "S0, S1, S2, S3, S4, \n",
      "S0toS4earlyOutReady,\n",
      "SNearlyOutReady //not used\n",
      ");\n",
      "\n"
     ]
    }
   ],
   "source": [
    "print(\"VectorAdd{}_S{}E_HRx{}_\".format(N, NAdd, HRR), end='', file=of)\n",
    "if Enable_Input_Registers<=0:\n",
    "    print(\"N\", end='', file=of)\n",
    "print(\"IR#( .IN_WIDTH(IN_WIDTH) )\", file=of)\n",
    "print(\"VAE(\", file=of)\n",
    "print(\"clk, reset, enable,\", file=of)\n",
    "print(\"ARFNDS, //not used\", file=of)\n",
    "print(\"AIS, //not used\", file=of)\n",
    "print(\"addInReady,\", file=of)\n",
    "for i in range(NAdd):\n",
    "    print(\"AS{}, \".format(i), end='', file=of)\n",
    "print(file=of)\n",
    "for i in range(NAdd):\n",
    "    print(\"BS{}, \".format(i), end='', file=of)\n",
    "print(file=of)\n",
    "if NE==1:\n",
    "    print(\"S0outReady,\", file=of)\n",
    "else:\n",
    "    print(\"S0toS{}outReady,\".format(NE-1), file=of)\n",
    "if NE==NAdd:\n",
    "    print(\"SNoutReady, //not used\", file=of)\n",
    "elif NE==NAdd-1:\n",
    "    print(\"S{}outReady,\".format(NE), file=of)\n",
    "else:\n",
    "    print(\"S{}toS{}outReady,\".format(NE, NAdd-1), file=of)\n",
    "print(\"outSeries,\", file=of)\n",
    "for i in range(NAdd):\n",
    "    print(\"S{}, \".format(i), end='', file=of)\n",
    "print(file=of)\n",
    "if NE==1:\n",
    "    print(\"S0earlyOutReady,\", file=of)\n",
    "else:\n",
    "    print(\"S0toS{}earlyOutReady,\".format(NE-1), file=of)\n",
    "if NE==NAdd:\n",
    "    print(\"SNearlyOutReady //not used\", file=of)\n",
    "elif NE==NAdd-1:\n",
    "    print(\"S{}earlyOutReady\".format(NE), file=of)\n",
    "else:\n",
    "    print(\"S{}toS{}earlyOutReady\".format(NE, NAdd-1), file=of)\n",
    "print(\");\\n\", file=of)"
   ]
  },
  {
   "cell_type": "code",
   "execution_count": 16,
   "metadata": {
    "collapsed": false
   },
   "outputs": [
    {
     "name": "stdout",
     "output_type": "stream",
     "text": [
      "endmodule\n"
     ]
    }
   ],
   "source": [
    "print(\"endmodule\", file=of)"
   ]
  },
  {
   "cell_type": "code",
   "execution_count": 17,
   "metadata": {
    "collapsed": false
   },
   "outputs": [],
   "source": [
    "if __Print_To_File>0:\n",
    "    of.close()"
   ]
  }
 ],
 "metadata": {
  "kernelspec": {
   "display_name": "Python 3",
   "language": "python",
   "name": "python3"
  },
  "language_info": {
   "codemirror_mode": {
    "name": "ipython",
    "version": 3
   },
   "file_extension": ".py",
   "mimetype": "text/x-python",
   "name": "python",
   "nbconvert_exporter": "python",
   "pygments_lexer": "ipython3",
   "version": "3.5.1"
  }
 },
 "nbformat": 4,
 "nbformat_minor": 0
}
