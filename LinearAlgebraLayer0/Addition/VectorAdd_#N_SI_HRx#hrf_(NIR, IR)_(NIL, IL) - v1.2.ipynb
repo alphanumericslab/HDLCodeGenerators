{
 "cells": [
  {
   "cell_type": "code",
   "execution_count": 37,
   "metadata": {},
   "outputs": [],
   "source": [
    "#uses VectorAdd_#N(_noHR)(_S#noepsE_HRx#hrf)(_NIR, _IR) - v1.1x\n",
    "#uses SItoSoE_#N_HRx#hrf_(NIL, IL)_(NOR, OR) - v1.1x"
   ]
  },
  {
   "cell_type": "code",
   "execution_count": 38,
   "metadata": {},
   "outputs": [],
   "source": [
    "import sys\n",
    "import math"
   ]
  },
  {
   "cell_type": "code",
   "execution_count": 39,
   "metadata": {},
   "outputs": [
    {
     "name": "stdout",
     "output_type": "stream",
     "text": [
      "Enter No Of Elements Per Vectors (N): 10\n"
     ]
    }
   ],
   "source": [
    "#N>=2\n",
    "N = input('Enter No Of Elements Per Vectors (N): ')"
   ]
  },
  {
   "cell_type": "code",
   "execution_count": 40,
   "metadata": {},
   "outputs": [],
   "source": [
    "N = int(N)\n",
    "if N<2:\n",
    "    N=2"
   ]
  },
  {
   "cell_type": "code",
   "execution_count": 41,
   "metadata": {},
   "outputs": [
    {
     "name": "stdout",
     "output_type": "stream",
     "text": [
      "Enter HRR Upper Limit (>=2, <=10, empty for 2, not all HRR values are acceptable): 4\n"
     ]
    }
   ],
   "source": [
    "#HRR>=2\n",
    "HRR = input('Enter HRR Upper Limit (>=2, <={}, empty for 2, not all HRR values are acceptable): '.format(N))"
   ]
  },
  {
   "cell_type": "code",
   "execution_count": 42,
   "metadata": {},
   "outputs": [
    {
     "name": "stdout",
     "output_type": "stream",
     "text": [
      "HRR calculated value: 4\n"
     ]
    }
   ],
   "source": [
    "if not HRR:\n",
    "    HRR = 2\n",
    "else:\n",
    "    HRR = int(HRR)\n",
    "    if HRR<2:\n",
    "        HRR = 2\n",
    "    if HRR>N:\n",
    "        HRR = N\n",
    "\n",
    "NAdd = math.ceil(N/HRR);\n",
    "#print(\"NAdd: {}\".format(NAdd))\n",
    "\n",
    "while math.ceil(N/NAdd) != HRR:\n",
    "    HRR -= 1\n",
    "print(\"HRR calculated value: {}\".format(HRR))"
   ]
  },
  {
   "cell_type": "code",
   "execution_count": 43,
   "metadata": {},
   "outputs": [
    {
     "name": "stdout",
     "output_type": "stream",
     "text": [
      "Enable Input Registers? (empty or 0 to disable, 1 to enable): 0\n"
     ]
    }
   ],
   "source": [
    "Enable_Input_Registers = input('Enable Input Registers? (empty or 0 to disable, 1 to enable): ')"
   ]
  },
  {
   "cell_type": "code",
   "execution_count": 44,
   "metadata": {},
   "outputs": [
    {
     "name": "stdout",
     "output_type": "stream",
     "text": [
      "Enable Input Latch? (empty or 0 to disable, 1 to enable): 0\n"
     ]
    }
   ],
   "source": [
    "Enable_Input_Latch = input('Enable Input Latch? (empty or 0 to disable, 1 to enable): ')"
   ]
  },
  {
   "cell_type": "code",
   "execution_count": 45,
   "metadata": {},
   "outputs": [
    {
     "name": "stdout",
     "output_type": "stream",
     "text": [
      "Enter IN_WIDTH Default Value (empty for 10): 10\n"
     ]
    }
   ],
   "source": [
    "#IN_WIDTH>=1\n",
    "IN_WIDTH = input('Enter IN_WIDTH Default Value (empty for 10): ')"
   ]
  },
  {
   "cell_type": "code",
   "execution_count": 46,
   "metadata": {},
   "outputs": [],
   "source": [
    "if not IN_WIDTH:\n",
    "    IN_WIDTH=10\n",
    "else:\n",
    "    IN_WIDTH = int(IN_WIDTH)\n",
    "    if IN_WIDTH<1:\n",
    "        IN_WIDTH=1\n",
    "\n",
    "if not Enable_Input_Registers:\n",
    "    Enable_Input_Registers=0\n",
    "else:\n",
    "    Enable_Input_Registers = int(Enable_Input_Registers)\n",
    "\n",
    "if not Enable_Input_Latch:\n",
    "    Enable_Input_Latch=0\n",
    "else:\n",
    "    Enable_Input_Latch = int(Enable_Input_Latch)"
   ]
  },
  {
   "cell_type": "code",
   "execution_count": 47,
   "metadata": {},
   "outputs": [],
   "source": [
    "ModuleName=\"VectorAdd_{}_SI_HRx{}_\".format(N, HRR)\n",
    "if Enable_Input_Registers<=0:\n",
    "    ModuleName+=\"N\"\n",
    "ModuleName+=\"IR_\"\n",
    "if Enable_Input_Latch<=0:\n",
    "    ModuleName+=\"N\"\n",
    "ModuleName+=\"IL\""
   ]
  },
  {
   "cell_type": "code",
   "execution_count": 48,
   "metadata": {},
   "outputs": [],
   "source": [
    "__Print_To_File = 1\n",
    "\n",
    "if __Print_To_File<=0:\n",
    "    of=sys.stdout\n",
    "else:\n",
    "    of = open(\"./\"+ModuleName+\".v\", 'w+')"
   ]
  },
  {
   "cell_type": "code",
   "execution_count": 49,
   "metadata": {},
   "outputs": [],
   "source": [
    "print(\"`timescale 1ns / 1ps\\n\", file=of)\n",
    "print(\"module \"+ModuleName, file=of)\n",
    "print(\"#(\", file=of)\n",
    "print(\"parameter IN_WIDTH = {}\".format(IN_WIDTH), file=of)\n",
    "print(\")(\", file=of)\n",
    "print(\"input clk, reset, enable,\", file=of)\n",
    "print(\"output readyForNewDataSeries,\", file=of)\n",
    "lghrr=math.ceil(math.log2(HRR))\n",
    "if lghrr==1:\n",
    "    print(\"output inSeries,\", file=of)\n",
    "elif lghrr>1:\n",
    "    print(\"output [{}:0] inSeries,\".format(lghrr-1), file=of)\n",
    "print(\"input inReady,\", file=of)\n",
    "print(\"input signed [IN_WIDTH-1:0] \", end='', file=of)\n",
    "for i in range(N):\n",
    "    print(\"A{}, \".format(i), end='', file=of)\n",
    "print(file=of)\n",
    "print(\"input signed [IN_WIDTH-1:0] \", end='', file=of)\n",
    "for i in range(N):\n",
    "    print(\"B{}, \".format(i), end='', file=of)\n",
    "print(file=of)\n",
    "NE = N - NAdd*(HRR-1)\n",
    "while NE<=0:\n",
    "    NE += NAdd\n",
    "if NE==1:\n",
    "    print(\"output S0outReady,\", file=of)\n",
    "else:\n",
    "    print(\"output S0toS{}outReady,\".format(NE-1), file=of)\n",
    "if NE==NAdd:\n",
    "    print(\"output SNoutReady, //not used\", file=of)\n",
    "elif NE==NAdd-1:\n",
    "    print(\"output S{}outReady,\".format(NE), file=of)\n",
    "else:\n",
    "    print(\"output S{}toS{}outReady,\".format(NE, NAdd-1), file=of)\n",
    "if lghrr==1:\n",
    "    print(\"output outSeries,\", file=of)\n",
    "elif lghrr>1:\n",
    "    print(\"output [{}:0] outSeries,\".format(lghrr-1, HRR-1), file=of)\n",
    "print(\"output signed [IN_WIDTH:0] \", end='', file=of)\n",
    "for i in range(NAdd):\n",
    "    print(\"S{}, \".format(i), end='', file=of)\n",
    "print(file=of)\n",
    "if NE==1:\n",
    "    print(\"output S0earlyOutReady,\", file=of)\n",
    "else:\n",
    "    print(\"output S0toS{}earlyOutReady,\".format(NE-1), file=of)\n",
    "if NE==NAdd:\n",
    "    print(\"output SNearlyOutReady //not used\", file=of)\n",
    "elif NE==NAdd-1:\n",
    "    print(\"output S{}earlyOutReady\".format(NE), file=of)\n",
    "else:\n",
    "    print(\"output S{}toS{}earlyOutReady\".format(NE, NAdd-1), file=of)\n",
    "print(\");\\n\", file=of)"
   ]
  },
  {
   "cell_type": "code",
   "execution_count": 50,
   "metadata": {},
   "outputs": [],
   "source": [
    "print(\"wire addInReady;\", file=of)\n",
    "print(\"wire signed [IN_WIDTH-1:0] \", end='', file=of)\n",
    "for i in range(NAdd-1):\n",
    "    print(\"AS{}, \".format(i), end='', file=of)\n",
    "print(\"AS{};\".format(NAdd-1), file=of)\n",
    "print(\"SItoSoE_{}_HRx{}_\".format(N, HRR), end='', file=of)\n",
    "if Enable_Input_Latch<=0:\n",
    "    print(\"N\", end='', file=of)\n",
    "print(\"IL_\", end='', file=of)\n",
    "# if Enable_Input_Registers<=0:\n",
    "#     print(\"N\", end='', file=of)\n",
    "print(\"NOR #( .IN_WIDTH(IN_WIDTH) )\", file=of)\n",
    "print(\"SItSoEA(\", file=of)\n",
    "print(\"clk, reset, enable,\", file=of)\n",
    "print(\"readyForNewDataSeries,\", file=of)\n",
    "print(\"inSeries,\", file=of)\n",
    "print(\"inReady,\", file=of)\n",
    "for i in range(N):\n",
    "    print(\"A{}, \".format(i), end='', file=of)\n",
    "print(file=of)\n",
    "print(\"addInReady,\", file=of)\n",
    "print(\"AS2outReady, //not used\", file=of)\n",
    "print(\"AoutSeries, //not used\", file=of)\n",
    "for i in range(NAdd):\n",
    "    print(\"AS{}, \".format(i), end='', file=of)\n",
    "print(file=of)\n",
    "print(\"AS1earlyOutReady, //not used\", file=of)\n",
    "print(\"AS2earlyOutReady //not used\", file=of)\n",
    "print(\");\\n\", file=of)"
   ]
  },
  {
   "cell_type": "code",
   "execution_count": 51,
   "metadata": {},
   "outputs": [],
   "source": [
    "print(\"wire signed [IN_WIDTH-1:0] \", end='', file=of)\n",
    "for i in range(NAdd-1):\n",
    "    print(\"BS{}, \".format(i), end='', file=of)\n",
    "print(\"BS{};\".format(NAdd-1), file=of)\n",
    "print(\"SItoSoE_{}_HRx{}_\".format(N, HRR), end='', file=of)\n",
    "if Enable_Input_Latch<=0:\n",
    "    print(\"N\", end='', file=of)\n",
    "print(\"IL_\", end='', file=of)\n",
    "# if Enable_Input_Registers<=0:\n",
    "#     print(\"N\", end='', file=of)\n",
    "print(\"NOR #( .IN_WIDTH(IN_WIDTH) )\", file=of)\n",
    "print(\"SItSoEB(\", file=of)\n",
    "print(\"clk, reset, enable,\", file=of)\n",
    "print(\"NISSB, //not used\", file=of)\n",
    "print(\"ISB, //not used\", file=of)\n",
    "print(\"inReady,\", file=of)\n",
    "for i in range(N):\n",
    "    print(\"B{}, \".format(i), end='', file=of)\n",
    "print(file=of)\n",
    "print(\"ORB, //not used\", file=of)\n",
    "print(\"BS2outReady, //not used\", file=of)\n",
    "print(\"BoutSeries, //not used\", file=of)\n",
    "for i in range(NAdd):\n",
    "    print(\"BS{}, \".format(i), end='', file=of)\n",
    "print(file=of)\n",
    "print(\"BS1earlyOutReady, //not used\", file=of)\n",
    "print(\"BS2earlyOutReady //not used\", file=of)\n",
    "print(\");\\n\", file=of)"
   ]
  },
  {
   "cell_type": "code",
   "execution_count": 52,
   "metadata": {},
   "outputs": [],
   "source": [
    "print(\"VectorAdd_{}_S{}E_HRx{}_\".format(N, NAdd, HRR), end='', file=of)\n",
    "if Enable_Input_Registers<=0:\n",
    "    print(\"N\", end='', file=of)\n",
    "print(\"IR#( .IN_WIDTH(IN_WIDTH) )\", file=of)\n",
    "print(\"VAE(\", file=of)\n",
    "print(\"clk, reset, enable,\", file=of)\n",
    "print(\"ARFNDS, //not used\", file=of)\n",
    "print(\"AIS, //not used\", file=of)\n",
    "print(\"addInReady,\", file=of)\n",
    "for i in range(NAdd):\n",
    "    print(\"AS{}, \".format(i), end='', file=of)\n",
    "print(file=of)\n",
    "for i in range(NAdd):\n",
    "    print(\"BS{}, \".format(i), end='', file=of)\n",
    "print(file=of)\n",
    "if NE==1:\n",
    "    print(\"S0outReady,\", file=of)\n",
    "else:\n",
    "    print(\"S0toS{}outReady,\".format(NE-1), file=of)\n",
    "if NE==NAdd:\n",
    "    print(\"SNoutReady, //not used\", file=of)\n",
    "elif NE==NAdd-1:\n",
    "    print(\"S{}outReady,\".format(NE), file=of)\n",
    "else:\n",
    "    print(\"S{}toS{}outReady,\".format(NE, NAdd-1), file=of)\n",
    "print(\"outSeries,\", file=of)\n",
    "for i in range(NAdd):\n",
    "    print(\"S{}, \".format(i), end='', file=of)\n",
    "print(file=of)\n",
    "if NE==1:\n",
    "    print(\"S0earlyOutReady,\", file=of)\n",
    "else:\n",
    "    print(\"S0toS{}earlyOutReady,\".format(NE-1), file=of)\n",
    "if NE==NAdd:\n",
    "    print(\"SNearlyOutReady //not used\", file=of)\n",
    "elif NE==NAdd-1:\n",
    "    print(\"S{}earlyOutReady\".format(NE), file=of)\n",
    "else:\n",
    "    print(\"S{}toS{}earlyOutReady\".format(NE, NAdd-1), file=of)\n",
    "print(\");\\n\", file=of)"
   ]
  },
  {
   "cell_type": "code",
   "execution_count": 53,
   "metadata": {},
   "outputs": [],
   "source": [
    "print(\"endmodule\", file=of)"
   ]
  },
  {
   "cell_type": "code",
   "execution_count": 54,
   "metadata": {},
   "outputs": [],
   "source": [
    "if __Print_To_File>0:\n",
    "    of.close()"
   ]
  }
 ],
 "metadata": {
  "kernelspec": {
   "display_name": "Python 3",
   "language": "python",
   "name": "python3"
  },
  "language_info": {
   "codemirror_mode": {
    "name": "ipython",
    "version": 3
   },
   "file_extension": ".py",
   "mimetype": "text/x-python",
   "name": "python",
   "nbconvert_exporter": "python",
   "pygments_lexer": "ipython3",
   "version": "3.7.6"
  }
 },
 "nbformat": 4,
 "nbformat_minor": 1
}
