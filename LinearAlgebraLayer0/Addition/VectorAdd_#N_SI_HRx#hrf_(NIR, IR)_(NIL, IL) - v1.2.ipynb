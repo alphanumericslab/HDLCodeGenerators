{
 "cells": [
  {
   "cell_type": "code",
   "execution_count": 1,
   "metadata": {},
   "outputs": [],
   "source": [
    "#uses VectorAdd_#N(_noHR)(_S#noepsE_HRx#hrf)(_NIR, _IR) - v1.1x\n",
    "#uses SItoSoE_#N_HRx#hrf_(NIL, IL)_(NOR, OR) - v1.1x"
   ]
  },
  {
   "cell_type": "code",
   "execution_count": 2,
   "metadata": {},
   "outputs": [],
   "source": [
    "import sys\n",
    "import math"
   ]
  },
  {
   "cell_type": "code",
   "execution_count": 3,
   "metadata": {},
   "outputs": [
    {
     "name": "stdout",
     "output_type": "stream",
     "text": [
      "Enter No Of Elements Per Vectors (N): 10\n"
     ]
    }
   ],
   "source": [
    "#N>=2\n",
    "N = input('Enter No Of Elements Per Vectors (N): ')"
   ]
  },
  {
   "cell_type": "code",
   "execution_count": 4,
   "metadata": {},
   "outputs": [],
   "source": [
    "N = int(N)\n",
    "if N<2:\n",
    "    N=2"
   ]
  },
  {
   "cell_type": "code",
   "execution_count": 5,
   "metadata": {},
   "outputs": [
    {
     "name": "stdout",
     "output_type": "stream",
     "text": [
      "Enter HRR Upper Limit (>=2, <=10, empty for 2, not all HRR values are acceptable): 6\n"
     ]
    }
   ],
   "source": [
    "#HRR>=2\n",
    "HRR = input('Enter HRR Upper Limit (>=2, <={}, empty for 2, not all HRR values are acceptable): '.format(N))"
   ]
  },
  {
   "cell_type": "code",
   "execution_count": 6,
   "metadata": {},
   "outputs": [
    {
     "name": "stdout",
     "output_type": "stream",
     "text": [
      "HRR calculated value: 5\n"
     ]
    }
   ],
   "source": [
    "if not HRR:\n",
    "    HRR = 2\n",
    "else:\n",
    "    HRR = int(HRR)\n",
    "    if HRR<2:\n",
    "        HRR = 2\n",
    "    if HRR>N:\n",
    "        HRR = N\n",
    "\n",
    "NAdd = math.ceil(N/HRR);\n",
    "#print(\"NAdd: {}\".format(NAdd))\n",
    "\n",
    "while math.ceil(N/NAdd) != HRR:\n",
    "    HRR -= 1\n",
    "print(\"HRR calculated value: {}\".format(HRR))"
   ]
  },
  {
   "cell_type": "code",
   "execution_count": 7,
   "metadata": {},
   "outputs": [
    {
     "name": "stdout",
     "output_type": "stream",
     "text": [
      "Enable Input Registers? (empty or 0 to disable, 1 to enable): 1\n"
     ]
    }
   ],
   "source": [
    "Enable_Input_Registers = input('Enable Input Registers? (empty or 0 to disable, 1 to enable): ')"
   ]
  },
  {
   "cell_type": "code",
   "execution_count": 8,
   "metadata": {},
   "outputs": [
    {
     "name": "stdout",
     "output_type": "stream",
     "text": [
      "Enable Input Latch? (empty or 0 to disable, 1 to enable): 1\n"
     ]
    }
   ],
   "source": [
    "Enable_Input_Latch = input('Enable Input Latch? (empty or 0 to disable, 1 to enable): ')"
   ]
  },
  {
   "cell_type": "code",
   "execution_count": 9,
   "metadata": {},
   "outputs": [
    {
     "name": "stdout",
     "output_type": "stream",
     "text": [
      "Enter IN_WIDTH Default Value (empty for 10): \n"
     ]
    }
   ],
   "source": [
    "#IN_WIDTH>=1\n",
    "IN_WIDTH = input('Enter IN_WIDTH Default Value (empty for 10): ')"
   ]
  },
  {
   "cell_type": "code",
   "execution_count": 10,
   "metadata": {},
   "outputs": [],
   "source": [
    "if not IN_WIDTH:\n",
    "    IN_WIDTH=10\n",
    "else:\n",
    "    IN_WIDTH = int(IN_WIDTH)\n",
    "    if IN_WIDTH<1:\n",
    "        IN_WIDTH=1\n",
    "\n",
    "if not Enable_Input_Registers:\n",
    "    Enable_Input_Registers=0\n",
    "else:\n",
    "    Enable_Input_Registers = int(Enable_Input_Registers)\n",
    "\n",
    "if not Enable_Input_Latch:\n",
    "    Enable_Input_Latch=0\n",
    "else:\n",
    "    Enable_Input_Latch = int(Enable_Input_Latch)"
   ]
  },
  {
   "cell_type": "code",
   "execution_count": 11,
   "metadata": {},
   "outputs": [],
   "source": [
    "ModuleName=\"VectorAdd_{}_SI_HRx{}_\".format(N, HRR)\n",
    "if Enable_Input_Registers<=0:\n",
    "    ModuleName+=\"N\"\n",
    "ModuleName+=\"IR_\"\n",
    "if Enable_Input_Latch<=0:\n",
    "    ModuleName+=\"N\"\n",
    "ModuleName+=\"IL\""
   ]
  },
  {
   "cell_type": "code",
   "execution_count": 12,
   "metadata": {},
   "outputs": [],
   "source": [
    "__Print_To_File = 0\n",
    "\n",
    "if __Print_To_File<=0:\n",
    "    of=sys.stdout\n",
    "else:\n",
    "    of = open(\"./\"+ModuleName+\".v\", 'w+')"
   ]
  },
  {
   "cell_type": "code",
   "execution_count": 13,
   "metadata": {},
   "outputs": [
    {
     "name": "stdout",
     "output_type": "stream",
     "text": [
      "`timescale 1ns / 1ps\n",
      "\n",
      "module VectorAdd_10_SI_HRx5_IR_IL\n",
      "#(\n",
      "parameter IN_WIDTH = 10\n",
      ")(\n",
      "input clk, reset, enable,\n",
      "output reg readyForNewDataSeries,\n",
      "output [2:0] inSeries,\n",
      "input inReady,\n",
      "input signed [IN_WIDTH-1:0] A0, A1, A2, A3, A4, A5, A6, A7, A8, A9, \n",
      "input signed [IN_WIDTH-1:0] B0, B1, B2, B3, B4, B5, B6, B7, B8, B9, \n",
      "output S0toS1outReady,\n",
      "output SNoutReady, //not used\n",
      "output [2:0] outSeries,\n",
      "output signed [IN_WIDTH:0] S0, S1, \n",
      "output S0toS1earlyOutReady,\n",
      "output SNearlyOutReady //not used\n",
      ");\n",
      "\n"
     ]
    }
   ],
   "source": [
    "print(\"`timescale 1ns / 1ps\\n\", file=of)\n",
    "print(\"module \"+ModuleName, file=of)\n",
    "print(\"#(\", file=of)\n",
    "print(\"parameter IN_WIDTH = {}\".format(IN_WIDTH), file=of)\n",
    "print(\")(\", file=of)\n",
    "print(\"input clk, reset, enable,\", file=of)\n",
    "print(\"output readyForNewDataSeries,\", file=of)\n",
    "lghrr=math.ceil(math.log2(HRR))\n",
    "if lghrr==1:\n",
    "    print(\"output inSeries,\", file=of)\n",
    "elif lghrr>1:\n",
    "    print(\"output [{}:0] inSeries,\".format(lghrr-1), file=of)\n",
    "print(\"input inReady,\", file=of)\n",
    "print(\"input signed [IN_WIDTH-1:0] \", end='', file=of)\n",
    "for i in range(N):\n",
    "    print(\"A{}, \".format(i), end='', file=of)\n",
    "print(file=of)\n",
    "print(\"input signed [IN_WIDTH-1:0] \", end='', file=of)\n",
    "for i in range(N):\n",
    "    print(\"B{}, \".format(i), end='', file=of)\n",
    "print(file=of)\n",
    "NE = N - NAdd*(HRR-1)\n",
    "while NE<=0:\n",
    "    NE += NAdd\n",
    "if NE==1:\n",
    "    print(\"output S0outReady,\", file=of)\n",
    "else:\n",
    "    print(\"output S0toS{}outReady,\".format(NE-1), file=of)\n",
    "if NE==NAdd:\n",
    "    print(\"output SNoutReady, //not used\", file=of)\n",
    "elif NE==NAdd-1:\n",
    "    print(\"output S{}outReady,\".format(NE), file=of)\n",
    "else:\n",
    "    print(\"output S{}toS{}outReady,\".format(NE, NAdd-1), file=of)\n",
    "if lghrr==1:\n",
    "    print(\"output outSeries,\", file=of)\n",
    "elif lghrr>1:\n",
    "    print(\"output [{}:0] outSeries,\".format(lghrr-1, HRR-1), file=of)\n",
    "print(\"output signed [IN_WIDTH:0] \", end='', file=of)\n",
    "for i in range(NAdd):\n",
    "    print(\"S{}, \".format(i), end='', file=of)\n",
    "print(file=of)\n",
    "if NE==1:\n",
    "    print(\"output S0earlyOutReady,\", file=of)\n",
    "else:\n",
    "    print(\"output S0toS{}earlyOutReady,\".format(NE-1), file=of)\n",
    "if NE==NAdd:\n",
    "    print(\"output SNearlyOutReady //not used\", file=of)\n",
    "elif NE==NAdd-1:\n",
    "    print(\"output S{}earlyOutReady\".format(NE), file=of)\n",
    "else:\n",
    "    print(\"output S{}toS{}earlyOutReady\".format(NE, NAdd-1), file=of)\n",
    "print(\");\\n\", file=of)"
   ]
  },
  {
   "cell_type": "code",
   "execution_count": 14,
   "metadata": {},
   "outputs": [
    {
     "name": "stdout",
     "output_type": "stream",
     "text": [
      "wire addInReady;\n",
      "wire signed [IN_WIDTH-1:0] AS0, AS1;\n",
      "SItoSoE_10_HRx5_IL_NOR #( .IN_WIDTH(IN_WIDTH) )\n",
      "SItSoEA(\n",
      "clk, reset, enable,\n",
      "readyForNewDataSeries,\n",
      "inSeries,\n",
      "inReady,\n",
      "A0, A1, A2, A3, A4, A5, A6, A7, A8, A9, \n",
      "addInReady,\n",
      "AS2outReady, //not used\n",
      "AoutSeries, //not used\n",
      "AS0, AS1, \n",
      "AS1earlyOutReady, //not used\n",
      "AS2earlyOutReady //not used\n",
      ");\n",
      "\n"
     ]
    }
   ],
   "source": [
    "print(\"wire addInReady;\", file=of)\n",
    "print(\"wire signed [IN_WIDTH-1:0] \", end='', file=of)\n",
    "for i in range(NAdd-1):\n",
    "    print(\"AS{}, \".format(i), end='', file=of)\n",
    "print(\"AS{};\".format(NAdd-1), file=of)\n",
    "print(\"SItoSoE_{}_HRx{}_\".format(N, HRR), end='', file=of)\n",
    "if Enable_Input_Latch<=0:\n",
    "    print(\"N\", end='', file=of)\n",
    "print(\"IL_\", end='', file=of)\n",
    "# if Enable_Input_Registers<=0:\n",
    "#     print(\"N\", end='', file=of)\n",
    "print(\"NOR #( .IN_WIDTH(IN_WIDTH) )\", file=of)\n",
    "print(\"SItSoEA(\", file=of)\n",
    "print(\"clk, reset, enable,\", file=of)\n",
    "print(\"readyForNewDataSeries,\", file=of)\n",
    "print(\"inSeries,\", file=of)\n",
    "print(\"inReady,\", file=of)\n",
    "for i in range(N):\n",
    "    print(\"A{}, \".format(i), end='', file=of)\n",
    "print(file=of)\n",
    "print(\"addInReady,\", file=of)\n",
    "print(\"AS2outReady, //not used\", file=of)\n",
    "print(\"AoutSeries, //not used\", file=of)\n",
    "for i in range(NAdd):\n",
    "    print(\"AS{}, \".format(i), end='', file=of)\n",
    "print(file=of)\n",
    "print(\"AS1earlyOutReady, //not used\", file=of)\n",
    "print(\"AS2earlyOutReady //not used\", file=of)\n",
    "print(\");\\n\", file=of)"
   ]
  },
  {
   "cell_type": "code",
   "execution_count": 15,
   "metadata": {},
   "outputs": [
    {
     "name": "stdout",
     "output_type": "stream",
     "text": [
      "wire signed [IN_WIDTH-1:0] BS0, BS1;\n",
      "SItoSoE_10_HRx5_IL_NOR #( .IN_WIDTH(IN_WIDTH) )\n",
      "SItSoEB(\n",
      "clk, reset, enable,\n",
      "NISSB, //not used\n",
      "ISB, //not used\n",
      "inReady,\n",
      "B0, B1, B2, B3, B4, B5, B6, B7, B8, B9, \n",
      "ORB, //not used\n",
      "BS2outReady, //not used\n",
      "BoutSeries, //not used\n",
      "BS0, BS1, \n",
      "BS1earlyOutReady, //not used\n",
      "BS2earlyOutReady //not used\n",
      ");\n",
      "\n"
     ]
    }
   ],
   "source": [
    "print(\"wire signed [IN_WIDTH-1:0] \", end='', file=of)\n",
    "for i in range(NAdd-1):\n",
    "    print(\"BS{}, \".format(i), end='', file=of)\n",
    "print(\"BS{};\".format(NAdd-1), file=of)\n",
    "print(\"SItoSoE_{}_HRx{}_\".format(N, HRR), end='', file=of)\n",
    "if Enable_Input_Latch<=0:\n",
    "    print(\"N\", end='', file=of)\n",
    "print(\"IL_\", end='', file=of)\n",
    "# if Enable_Input_Registers<=0:\n",
    "#     print(\"N\", end='', file=of)\n",
    "print(\"NOR #( .IN_WIDTH(IN_WIDTH) )\", file=of)\n",
    "print(\"SItSoEB(\", file=of)\n",
    "print(\"clk, reset, enable,\", file=of)\n",
    "print(\"NISSB, //not used\", file=of)\n",
    "print(\"ISB, //not used\", file=of)\n",
    "print(\"inReady,\", file=of)\n",
    "for i in range(N):\n",
    "    print(\"B{}, \".format(i), end='', file=of)\n",
    "print(file=of)\n",
    "print(\"ORB, //not used\", file=of)\n",
    "print(\"BS2outReady, //not used\", file=of)\n",
    "print(\"BoutSeries, //not used\", file=of)\n",
    "for i in range(NAdd):\n",
    "    print(\"BS{}, \".format(i), end='', file=of)\n",
    "print(file=of)\n",
    "print(\"BS1earlyOutReady, //not used\", file=of)\n",
    "print(\"BS2earlyOutReady //not used\", file=of)\n",
    "print(\");\\n\", file=of)"
   ]
  },
  {
   "cell_type": "code",
   "execution_count": 16,
   "metadata": {},
   "outputs": [
    {
     "name": "stdout",
     "output_type": "stream",
     "text": [
      "VectorAdd10_S2E_HRx5_IR#( .IN_WIDTH(IN_WIDTH) )\n",
      "VAE(\n",
      "clk, reset, enable,\n",
      "ARFNDS, //not used\n",
      "AIS, //not used\n",
      "addInReady,\n",
      "AS0, AS1, \n",
      "BS0, BS1, \n",
      "S0toS1outReady,\n",
      "SNoutReady, //not used\n",
      "outSeries,\n",
      "S0, S1, \n",
      "S0toS1earlyOutReady,\n",
      "SNearlyOutReady //not used\n",
      ");\n",
      "\n"
     ]
    }
   ],
   "source": [
    "print(\"VectorAdd_{}_S{}E_HRx{}_\".format(N, NAdd, HRR), end='', file=of)\n",
    "if Enable_Input_Registers<=0:\n",
    "    print(\"N\", end='', file=of)\n",
    "print(\"IR#( .IN_WIDTH(IN_WIDTH) )\", file=of)\n",
    "print(\"VAE(\", file=of)\n",
    "print(\"clk, reset, enable,\", file=of)\n",
    "print(\"ARFNDS, //not used\", file=of)\n",
    "print(\"AIS, //not used\", file=of)\n",
    "print(\"addInReady,\", file=of)\n",
    "for i in range(NAdd):\n",
    "    print(\"AS{}, \".format(i), end='', file=of)\n",
    "print(file=of)\n",
    "for i in range(NAdd):\n",
    "    print(\"BS{}, \".format(i), end='', file=of)\n",
    "print(file=of)\n",
    "if NE==1:\n",
    "    print(\"S0outReady,\", file=of)\n",
    "else:\n",
    "    print(\"S0toS{}outReady,\".format(NE-1), file=of)\n",
    "if NE==NAdd:\n",
    "    print(\"SNoutReady, //not used\", file=of)\n",
    "elif NE==NAdd-1:\n",
    "    print(\"S{}outReady,\".format(NE), file=of)\n",
    "else:\n",
    "    print(\"S{}toS{}outReady,\".format(NE, NAdd-1), file=of)\n",
    "print(\"outSeries,\", file=of)\n",
    "for i in range(NAdd):\n",
    "    print(\"S{}, \".format(i), end='', file=of)\n",
    "print(file=of)\n",
    "if NE==1:\n",
    "    print(\"S0earlyOutReady,\", file=of)\n",
    "else:\n",
    "    print(\"S0toS{}earlyOutReady,\".format(NE-1), file=of)\n",
    "if NE==NAdd:\n",
    "    print(\"SNearlyOutReady //not used\", file=of)\n",
    "elif NE==NAdd-1:\n",
    "    print(\"S{}earlyOutReady\".format(NE), file=of)\n",
    "else:\n",
    "    print(\"S{}toS{}earlyOutReady\".format(NE, NAdd-1), file=of)\n",
    "print(\");\\n\", file=of)"
   ]
  },
  {
   "cell_type": "code",
   "execution_count": 17,
   "metadata": {},
   "outputs": [
    {
     "name": "stdout",
     "output_type": "stream",
     "text": [
      "endmodule\n"
     ]
    }
   ],
   "source": [
    "print(\"endmodule\", file=of)"
   ]
  },
  {
   "cell_type": "code",
   "execution_count": 18,
   "metadata": {},
   "outputs": [],
   "source": [
    "if __Print_To_File>0:\n",
    "    of.close()"
   ]
  }
 ],
 "metadata": {
  "kernelspec": {
   "display_name": "Python 3",
   "language": "python",
   "name": "python3"
  },
  "language_info": {
   "codemirror_mode": {
    "name": "ipython",
    "version": 3
   },
   "file_extension": ".py",
   "mimetype": "text/x-python",
   "name": "python",
   "nbconvert_exporter": "python",
   "pygments_lexer": "ipython3",
   "version": "3.6.3"
  }
 },
 "nbformat": 4,
 "nbformat_minor": 1
}
