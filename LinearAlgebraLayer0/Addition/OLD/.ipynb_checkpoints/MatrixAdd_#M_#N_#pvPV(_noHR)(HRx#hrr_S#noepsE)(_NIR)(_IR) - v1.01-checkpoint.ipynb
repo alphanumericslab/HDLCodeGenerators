{
 "cells": [
  {
   "cell_type": "code",
   "execution_count": 1,
   "metadata": {
    "collapsed": true
   },
   "outputs": [],
   "source": [
    "#uses VectorAdd_#N(_noHR)(_HRx#hrr_S#noepsE)(_NIR)(_IR) - v1.0x"
   ]
  },
  {
   "cell_type": "code",
   "execution_count": 2,
   "metadata": {
    "collapsed": true
   },
   "outputs": [],
   "source": [
    "#changed namings\n",
    "#inReadyC default to simplified definition"
   ]
  },
  {
   "cell_type": "code",
   "execution_count": 3,
   "metadata": {
    "collapsed": false
   },
   "outputs": [],
   "source": [
    "import sys\n",
    "import math"
   ]
  },
  {
   "cell_type": "code",
   "execution_count": 4,
   "metadata": {
    "collapsed": false
   },
   "outputs": [
    {
     "name": "stdout",
     "output_type": "stream",
     "text": [
      "Enter No Of Vectors (M): 5\n"
     ]
    }
   ],
   "source": [
    "#M>=1\n",
    "M = input('Enter No Of Vectors (M): ')"
   ]
  },
  {
   "cell_type": "code",
   "execution_count": 5,
   "metadata": {
    "collapsed": false
   },
   "outputs": [
    {
     "name": "stdout",
     "output_type": "stream",
     "text": [
      "Enter No Of Elements Per Vectors (N): 30\n"
     ]
    }
   ],
   "source": [
    "#N>=1\n",
    "N = input('Enter No Of Elements Per Vectors (N): ')"
   ]
  },
  {
   "cell_type": "code",
   "execution_count": 6,
   "metadata": {
    "collapsed": false
   },
   "outputs": [
    {
     "name": "stdout",
     "output_type": "stream",
     "text": [
      "Enter No Of Parallel Vectors (empty for 1): 2\n"
     ]
    }
   ],
   "source": [
    "#PR>=1\n",
    "PR = input('Enter No Of Parallel Vectors (empty for 1): ')"
   ]
  },
  {
   "cell_type": "code",
   "execution_count": 7,
   "metadata": {
    "collapsed": false
   },
   "outputs": [
    {
     "name": "stdout",
     "output_type": "stream",
     "text": [
      "Enter HRR (empty or 1 for noHR): 2\n"
     ]
    }
   ],
   "source": [
    "#HRR>=1\n",
    "HRR = input('Enter HRR (empty or 1 for noHR): ')"
   ]
  },
  {
   "cell_type": "code",
   "execution_count": 8,
   "metadata": {
    "collapsed": false
   },
   "outputs": [],
   "source": [
    "M = int(M)\n",
    "if M<1:\n",
    "    M=1\n",
    "N = int(N)\n",
    "if N<1:\n",
    "    N=1\n",
    "if not PR:\n",
    "    PR=1\n",
    "else:\n",
    "    PR = int(PR)\n",
    "    if PR>M:\n",
    "        PR = M\n",
    "if not HRR:\n",
    "    HRR=1\n",
    "else:\n",
    "    HRR = int(HRR)\n",
    "    if HRR<1:\n",
    "        HRR=1\n",
    "    if HRR>N:\n",
    "        HRR=N\n",
    "NOIPSMin = math.ceil(N/HRR);\n",
    "if HRR>1:\n",
    "    NOIPSMax = math.ceil(N/(HRR-1))-1\n",
    "    NOIPSMM = (NOIPSMin!=NOIPSMax)"
   ]
  },
  {
   "cell_type": "code",
   "execution_count": 9,
   "metadata": {
    "collapsed": false
   },
   "outputs": [
    {
     "name": "stdout",
     "output_type": "stream",
     "text": [
      "Enter No Of Elements Per Series (>=15, <=29, empty for 15): 20\n"
     ]
    }
   ],
   "source": [
    "#>=NOIPSMin, <=NOIPSMax\n",
    "if HRR>1 and NOIPSMM:\n",
    "    NOIPS = input('Enter No Of Elements Per Series (>={}, <={}, empty for {}): '.format(NOIPSMin, NOIPSMax, NOIPSMin))"
   ]
  },
  {
   "cell_type": "code",
   "execution_count": 10,
   "metadata": {
    "collapsed": false
   },
   "outputs": [
    {
     "name": "stdout",
     "output_type": "stream",
     "text": [
      "Enter IN_WIDTH Default Value (empty for 10): \n"
     ]
    }
   ],
   "source": [
    "#IN_WIDTH>=1\n",
    "IN_WIDTH = input('Enter IN_WIDTH Default Value (empty for 10): ')"
   ]
  },
  {
   "cell_type": "code",
   "execution_count": 11,
   "metadata": {
    "collapsed": false
   },
   "outputs": [
    {
     "name": "stdout",
     "output_type": "stream",
     "text": [
      "Enable Input Registers? (empty or 0 to disable, 1 to enable): \n"
     ]
    }
   ],
   "source": [
    "_Enable_Input_Registers = input('Enable Input Registers? (empty or 0 to disable, 1 to enable): ')"
   ]
  },
  {
   "cell_type": "code",
   "execution_count": 12,
   "metadata": {
    "collapsed": true
   },
   "outputs": [],
   "source": [
    "if HRR>1 and NOIPSMM:\n",
    "    if not NOIPS:\n",
    "        NAdd=NOIPSMin\n",
    "    else:\n",
    "        NOIPS = int(NOIPS)\n",
    "        if NOIPS<NOIPSMin:\n",
    "            NAdd=NOIPSMin\n",
    "        elif NOIPS>NOIPSMax:\n",
    "            NAdd=NOIPSMax\n",
    "        else:\n",
    "            NAdd=NOIPS\n",
    "else:\n",
    "    NAdd=NOIPSMin\n",
    "if not IN_WIDTH:\n",
    "    IN_WIDTH=10\n",
    "else:\n",
    "    IN_WIDTH = int(IN_WIDTH)\n",
    "    if IN_WIDTH<1:\n",
    "        IN_WIDTH=1\n",
    "if not _Enable_Input_Registers:\n",
    "    _Enable_Input_Registers=0\n",
    "else:\n",
    "    _Enable_Input_Registers = int(_Enable_Input_Registers)"
   ]
  },
  {
   "cell_type": "code",
   "execution_count": 13,
   "metadata": {
    "collapsed": true
   },
   "outputs": [],
   "source": [
    "__Print_To_File = 0\n",
    "\n",
    "if __Print_To_File<=0:\n",
    "    of=sys.stdout\n",
    "else:\n",
    "    if(HRR==1):\n",
    "        if _Enable_Input_Registers>0:\n",
    "            of=open(\"./MatrixAdd_{}_{}_{}PV_noHR_IR.v\".format(M, N, PR), 'w+')\n",
    "        else:\n",
    "            of=open(\"./MatrixAdd_{}_{}_{}PV_noHR_NIR.v\".format(M, N, PR), 'w+')\n",
    "            \n",
    "    else:\n",
    "        if _Enable_Input_Registers>0:\n",
    "            of=open(\"./MatrixAdd_{}_{}_{}PV_HRx{}_S{}E_IR.v\".format(M, N, PR, HRR, NAdd), 'w+')\n",
    "        else:\n",
    "            of=open(\"./MatrixAdd_{}_{}_{}PV_HRx{}_S{}E_NIR.v\".format(M, N, PR, HRR, NAdd), 'w+')            "
   ]
  },
  {
   "cell_type": "code",
   "execution_count": 14,
   "metadata": {
    "collapsed": false
   },
   "outputs": [
    {
     "name": "stdout",
     "output_type": "stream",
     "text": [
      "`timescale 1ns / 1ps\n",
      "\n",
      "module MatrixAdd_5_30_2PV_HRx2_S20E_NIR\n",
      "#(\n",
      "parameter IN_WIDTH = 10\n",
      ")(\n",
      "input clk, reset, enable,\n",
      "output readyForNewVectorStart,\n",
      "output vectorInSeries,\n",
      "output reg [1:0] vectorSetInNo = 0,\n",
      "input inReady,\n",
      "input signed [IN_WIDTH-1:0] A0V0, A1V0, A2V0, A3V0, A4V0, A5V0, A6V0, A7V0, A8V0, A9V0, A10V0, A11V0, A12V0, A13V0, A14V0, A15V0, A16V0, A17V0, A18V0, A19V0, \n",
      "A0V1, A1V1, A2V1, A3V1, A4V1, A5V1, A6V1, A7V1, A8V1, A9V1, A10V1, A11V1, A12V1, A13V1, A14V1, A15V1, A16V1, A17V1, A18V1, A19V1, \n",
      "input signed [IN_WIDTH-1:0] B0V0, B1V0, B2V0, B3V0, B4V0, B5V0, B6V0, B7V0, B8V0, B9V0, B10V0, B11V0, B12V0, B13V0, B14V0, B15V0, B16V0, B17V0, B18V0, B19V0, \n",
      "B0V1, B1V1, B2V1, B3V1, B4V1, B5V1, B6V1, B7V1, B8V1, B9V1, B10V1, B11V1, B12V1, B13V1, B14V1, B15V1, B16V1, B17V1, B18V1, B19V1, \n",
      "output V0S0toS9outReady,\n",
      "output V0S10toS19outReady,\n",
      "output V1S0toS9outReady,\n",
      "output V1S10toS19outReady,\n",
      "output vectorOutSeries,\n",
      "output reg [1:0] vectorSetOutNo = 2,\n",
      "output signed [IN_WIDTH:0] S0V0, S1V0, S2V0, S3V0, S4V0, S5V0, S6V0, S7V0, S8V0, S9V0, S10V0, S11V0, S12V0, S13V0, S14V0, S15V0, S16V0, S17V0, S18V0, S19V0, \n",
      "S0V1, S1V1, S2V1, S3V1, S4V1, S5V1, S6V1, S7V1, S8V1, S9V1, S10V1, S11V1, S12V1, S13V1, S14V1, S15V1, S16V1, S17V1, S18V1, S19V1, \n",
      "output V0S0toS9earlyOutReady,\n",
      "output V0S10toS19earlyOutReady,\n",
      "output V1S0toS9earlyOutReady,\n",
      "output V1S10toS19earlyOutReady\n",
      ");\n",
      "\n"
     ]
    }
   ],
   "source": [
    "print(\"`timescale 1ns / 1ps\\n\", file=of)\n",
    "if HRR==1:\n",
    "    if _Enable_Input_Registers>0:\n",
    "        print(\"module MatrixAdd_{}_{}_{}PV_noHR_IR\".format(M, N, PR), file=of)\n",
    "    else:\n",
    "        print(\"module MatrixAdd_{}_{}_{}PV_noHR_NIR\".format(M, N, PR), file=of)        \n",
    "else:\n",
    "    if _Enable_Input_Registers>0:\n",
    "        print(\"module MatrixAdd_{}_{}_{}PV_HRx{}_S{}E_IR\".format(M, N, PR, HRR, NAdd), file=of)\n",
    "    else:\n",
    "        print(\"module MatrixAdd_{}_{}_{}PV_HRx{}_S{}E_NIR\".format(M, N, PR, HRR, NAdd), file=of)        \n",
    "print(\"#(\", file=of)\n",
    "print(\"parameter IN_WIDTH = {}\".format(IN_WIDTH), file=of)\n",
    "print(\")(\", file=of)\n",
    "print(\"input clk, reset, enable,\", file=of)\n",
    "if HRR>1:\n",
    "    print(\"output readyForNewVectorStart,\", file=of)\n",
    "lghrr=math.ceil(math.log2(HRR))\n",
    "if lghrr==1:\n",
    "    print(\"output vectorInSeries,\", file=of)\n",
    "elif lghrr>1:\n",
    "    print(\"output [{}:0] vectorInSeries,\".format(lghrr-1), file=of)\n",
    "RS=math.ceil(M/PR)\n",
    "lgRS=math.ceil(math.log2(RS))\n",
    "if lgRS<=1:\n",
    "    print(\"output reg vectorSetInNo = 0,\", file=of)\n",
    "else:\n",
    "    print(\"output reg [{}:0] vectorSetInNo = 0,\".format(lgRS-1), file=of)\n",
    "print(\"input inReady,\", file=of)\n",
    "print(\"input signed [IN_WIDTH-1:0] \", end='', file=of)\n",
    "for j in range(PR):\n",
    "    for i in range(NAdd):\n",
    "        print(\"A{}V{}, \".format(i, j), end='', file=of)\n",
    "    print(file=of)\n",
    "print(\"input signed [IN_WIDTH-1:0] \", end='', file=of)\n",
    "for j in range(PR):\n",
    "    for i in range(NAdd):\n",
    "        print(\"B{}V{}, \".format(i, j), end='', file=of)\n",
    "    print(file=of)\n",
    "ar=RS*PR-M\n",
    "ME = PR-ar-1\n",
    "if ME==0:\n",
    "    st1=\"V0\"\n",
    "else:\n",
    "    st1=\"V0toV{}\".format(ME)\n",
    "print(\"output \", end='', file=of)\n",
    "if HRR==1:\n",
    "    print(st1, end='', file=of)\n",
    "    print(\"outReady,\", file=of)\n",
    "    NE=NAdd\n",
    "else:\n",
    "    NE = N - NAdd*(HRR-1)\n",
    "    while NE<=0:\n",
    "        NE += NAdd\n",
    "    if NE==1:\n",
    "        print(st1, end='', file=of)\n",
    "        print(\"S0outReady,\", file=of)\n",
    "    else:\n",
    "        print(st1, end='', file=of)\n",
    "        print(\"S0toS{}outReady,\".format(NE-1), file=of)\n",
    "    print(\"output \", end='', file=of)\n",
    "    if NE==NAdd:\n",
    "        print(\"VSNoutReady1, //not used\", file=of)\n",
    "    elif NE==NAdd-1:\n",
    "        print(st1, end='', file=of)\n",
    "        print(\"S{}outReady,\".format(NE), file=of)\n",
    "    else:\n",
    "        print(st1, end='', file=of)\n",
    "        print(\"S{}toS{}outReady,\".format(NE, NAdd-1), file=of)\n",
    "if ar==0:\n",
    "    print(\"output reg VNoutReady1 = 0, //not used\", file=of)\n",
    "    print(\"output reg VNoutReady2 = 0, //not used\", file=of)\n",
    "else:\n",
    "    if ME==(PR-2):\n",
    "        st2=\"V{}\".format(PR-1)\n",
    "    else:\n",
    "        st2=\"V{}toV{}\".format(ME+1, PR-1)\n",
    "    print(\"output \", end='', file=of)\n",
    "    if HRR==1:\n",
    "        print(st2, end='', file=of)\n",
    "        print(\"outReady,\", file=of)\n",
    "    else:\n",
    "        if NE==1:\n",
    "            print(st2, end='', file=of)\n",
    "            print(\"S0outReady,\", file=of)\n",
    "        else:\n",
    "            print(st2, end='', file=of)\n",
    "            print(\"S0toS{}outReady,\".format(NE-1), file=of)\n",
    "        print(\"output \", end='', file=of)\n",
    "        if NE==NAdd:\n",
    "            print(\"VSNoutReady2, //not used\", file=of)\n",
    "        elif NE==NAdd-1:\n",
    "            print(st2, end='', file=of)\n",
    "            print(\"S{}outReady,\".format(NE), file=of)\n",
    "        else:\n",
    "            print(st2, end='', file=of)\n",
    "            print(\"S{}toS{}outReady,\".format(NE, NAdd-1), file=of)\n",
    "if lghrr==1:\n",
    "    print(\"output vectorOutSeries,\", file=of)\n",
    "elif lghrr>1:\n",
    "    print(\"output [{}:0] vectorOutSeries,\".format(lghrr-1), file=of)\n",
    "if lgRS<=1:\n",
    "    print(\"output reg vectorSetOutNo = 1,\", file=of)\n",
    "else:\n",
    "    print(\"output reg [{}:0] vectorSetOutNo = {},\".format(lgRS-1, RS-1), file=of)\n",
    "print(\"output signed [IN_WIDTH:0] \", end='', file=of)\n",
    "for j in range(PR):\n",
    "    for i in range(NAdd):\n",
    "        print(\"S{}V{}, \".format(i, j), end='', file=of)\n",
    "    print(file=of)\n",
    "print(\"output \", end='', file=of)\n",
    "if HRR==1:\n",
    "    print(st1, end='', file=of)\n",
    "    print(\"earlyOutReady,\", file=of)\n",
    "else:\n",
    "    if NE==1:\n",
    "        print(st1, end='', file=of)\n",
    "        print(\"S0earlyOutReady,\", file=of)\n",
    "    else:\n",
    "        print(st1, end='', file=of)\n",
    "        print(\"S0toS{}earlyOutReady,\".format(NE-1), file=of)\n",
    "    print(\"output \", end='', file=of)\n",
    "    if NE==NAdd:\n",
    "        print(\"CSNearlyOutReady1, //not used\", file=of)\n",
    "    elif NE==NAdd-1:\n",
    "        print(st1, end='', file=of)\n",
    "        print(\"S{}earlyOutReady,\".format(NE), file=of)\n",
    "    else:\n",
    "        print(st1, end='', file=of)\n",
    "        print(\"S{}toS{}earlyOutReady,\".format(NE, NAdd-1), file=of)\n",
    "if ar==0:\n",
    "    print(\"output reg CNearlyOutReady1 = 0, //not used\", file=of)\n",
    "    print(\"output reg CNearlyOutReady2 = 0 //not used\", file=of)\n",
    "else:\n",
    "    print(\"output \", end='', file=of)\n",
    "    if HRR==1:\n",
    "        print(st2, end='', file=of)\n",
    "        print(\"earlyOutReady\", file=of)\n",
    "    else:\n",
    "        if NE==1:\n",
    "            print(st2, end='', file=of)\n",
    "            print(\"S0earlyOutReady,\", file=of)\n",
    "        else:\n",
    "            print(st2, end='', file=of)\n",
    "            print(\"S0toS{}earlyOutReady,\".format(NE-1), file=of)\n",
    "        print(\"output \", end='', file=of)\n",
    "        if NE==NAdd:\n",
    "            print(\"CSNearlyOutReady2 //not used\", file=of)\n",
    "        elif NE==NAdd-1:\n",
    "            print(st2, end='', file=of)\n",
    "            print(\"S{}earlyOutReady\".format(NE), file=of)\n",
    "        else:\n",
    "            print(st2, end='', file=of)\n",
    "            print(\"S{}toS{}earlyOutReady\".format(NE, NAdd-1), file=of)\n",
    "print(\");\\n\", file=of)"
   ]
  },
  {
   "cell_type": "code",
   "execution_count": 15,
   "metadata": {
    "collapsed": false
   },
   "outputs": [
    {
     "name": "stdout",
     "output_type": "stream",
     "text": [
      "always @(posedge clk) begin\n",
      "\tif(reset) begin\n",
      "\t\tvectorSetInNo <= 0;\n",
      "\tend\n",
      "\telse if(enable) begin\n",
      "\t\tif(inReady) begin\n",
      "\t\t\tif(vectorInSeries==1) begin\n",
      "\t\t\t\tif(vectorSetInNo==2) begin\n",
      "\t\t\t\t\tvectorSetInNo <= 0;\n",
      "\t\t\t\tend\n",
      "\t\t\t\telse begin\n",
      "\t\t\t\t\tvectorSetInNo <= vectorSetInNo+1;\n",
      "\t\t\t\tend\n",
      "\t\t\tend\n",
      "\t\tend\n",
      "\tend\n",
      "end\n",
      "\n"
     ]
    }
   ],
   "source": [
    "if RS!=1:\n",
    "    print(\"always @(posedge clk) begin\", file=of)\n",
    "    print(\"\\tif(reset) begin\", file=of)\n",
    "    print(\"\\t\\tvectorSetInNo <= 0;\", file=of)\n",
    "    print(\"\\tend\", file=of)\n",
    "    print(\"\\telse if(enable) begin\", file=of)\n",
    "    print(\"\\t\\tif(inReady) begin\", file=of)\n",
    "    if(HRR>1):\n",
    "        print(\"\\t\\t\\tif(vectorInSeries=={}) begin\".format(HRR-1), file=of)\n",
    "        print(\"\\t\", end='', file=of)\n",
    "    print(\"\\t\\t\\tif(vectorSetInNo=={}) begin\".format(RS-1), file=of)\n",
    "    if(HRR>1):\n",
    "        print(\"\\t\", end='', file=of)\n",
    "    print(\"\\t\\t\\t\\tvectorSetInNo <= 0;\", file=of)\n",
    "    if(HRR>1):\n",
    "        print(\"\\t\", end='', file=of)\n",
    "    print(\"\\t\\t\\tend\", file=of)\n",
    "    if(HRR>1):\n",
    "        print(\"\\t\", end='', file=of)\n",
    "    print(\"\\t\\t\\telse begin\", file=of)\n",
    "    if(HRR>1):\n",
    "        print(\"\\t\", end='', file=of)\n",
    "    if RS==2:\n",
    "        print(\"\\t\\t\\t\\tvectorSetInNo <= 1;\", file=of)    \n",
    "    else:\n",
    "        print(\"\\t\\t\\t\\tvectorSetInNo <= vectorSetInNo+1;\", file=of)\n",
    "    if(HRR>1):\n",
    "        print(\"\\t\\t\\t\\tend\", file=of)\n",
    "    print(\"\\t\\t\\tend\", file=of)\n",
    "    print(\"\\t\\tend\", file=of)\n",
    "    print(\"\\tend\", file=of)\n",
    "    print(\"end\", file=of)\n",
    "    print(file=of)"
   ]
  },
  {
   "cell_type": "code",
   "execution_count": 16,
   "metadata": {
    "collapsed": false
   },
   "outputs": [
    {
     "name": "stdout",
     "output_type": "stream",
     "text": [
      "wire inReadyC = (vectorSetInNo!=2) & inReady;\n",
      "\n"
     ]
    }
   ],
   "source": [
    "if ar>0:\n",
    "    print(\"wire inReadyC = (vectorSetInNo!={}) & inReady;\".format(RS-1), file=of)\n",
    "    print(file=of)"
   ]
  },
  {
   "cell_type": "code",
   "execution_count": 17,
   "metadata": {
    "collapsed": false
   },
   "outputs": [
    {
     "name": "stdout",
     "output_type": "stream",
     "text": [
      "VectorAdd_30_HRx2_S20E_NIR#( .IN_WIDTH(IN_WIDTH) )\n",
      "\tVA_0(clk, reset, enable,\n",
      "\treadyForNewVectorStart,\n",
      "\tvectorInSeries,\n",
      "\tinReady,\n",
      "\tA0V0, A1V0, A2V0, A3V0, A4V0, A5V0, A6V0, A7V0, A8V0, A9V0, A10V0, A11V0, A12V0, A13V0, A14V0, A15V0, A16V0, A17V0, A18V0, A19V0, \n",
      "\tB0V0, B1V0, B2V0, B3V0, B4V0, B5V0, B6V0, B7V0, B8V0, B9V0, B10V0, B11V0, B12V0, B13V0, B14V0, B15V0, B16V0, B17V0, B18V0, B19V0, \n",
      "\tV0S0toS9outReady, V0S10toS19outReady,\n",
      "\tvectorOutSeries,\n",
      "\tS0V0, S1V0, S2V0, S3V0, S4V0, S5V0, S6V0, S7V0, S8V0, S9V0, S10V0, S11V0, S12V0, S13V0, S14V0, S15V0, S16V0, S17V0, S18V0, S19V0, \n",
      "\tV0S0toS9earlyOutReady, V0S10toS19earlyOutReady\n",
      "\t);\n",
      "\n",
      "VectorAdd_30_HRx2_S20E_NIR#( .IN_WIDTH(IN_WIDTH) )\n",
      "\tVA_1(clk, reset, enable,\n",
      "\tLLreadyForNewDataSeries1, //not used\n",
      "\tLLinSeries1, //not used\n",
      "\tinReadyC,\n",
      "\tA0V1, A1V1, A2V1, A3V1, A4V1, A5V1, A6V1, A7V1, A8V1, A9V1, A10V1, A11V1, A12V1, A13V1, A14V1, A15V1, A16V1, A17V1, A18V1, A19V1, \n",
      "\tB0V1, B1V1, B2V1, B3V1, B4V1, B5V1, B6V1, B7V1, B8V1, B9V1, B10V1, B11V1, B12V1, B13V1, B14V1, B15V1, B16V1, B17V1, B18V1, B19V1, \n",
      "\tV1S0toS9outReady, V1S10toS19outReady,\n",
      "\tLLoutSeries1, //not used\n",
      "\tS0V1, S1V1, S2V1, S3V1, S4V1, S5V1, S6V1, S7V1, S8V1, S9V1, S10V1, S11V1, S12V1, S13V1, S14V1, S15V1, S16V1, S17V1, S18V1, S19V1, \n",
      "\tV1S0toS9earlyOutReady, V1S10toS19earlyOutReady\n",
      "\t);\n",
      "\n"
     ]
    }
   ],
   "source": [
    "for i in range (PR):\n",
    "    if(HRR==1):\n",
    "        if _Enable_Input_Registers>0:\n",
    "            print(\"VectorAdd_{}_noHR_IR#( .IN_WIDTH(IN_WIDTH) )\".format(N), file=of)\n",
    "        else:\n",
    "            print(\"VectorAdd_{}_noHR_NIR#( .IN_WIDTH(IN_WIDTH) )\".format(N), file=of)            \n",
    "    else:\n",
    "        if _Enable_Input_Registers>0:\n",
    "            print(\"VectorAdd_{}_HRx{}_S{}E_IR#( .IN_WIDTH(IN_WIDTH) )\".format(N, HRR, NAdd), file=of)\n",
    "        else:\n",
    "            print(\"VectorAdd_{}_HRx{}_S{}E_NIR#( .IN_WIDTH(IN_WIDTH) )\".format(N, HRR, NAdd), file=of)            \n",
    "    print(\"\\tVA_{}(clk, reset, enable,\".format(i), file=of)\n",
    "    if(HRR>1):\n",
    "        if i==0:\n",
    "            print(\"\\treadyForNewVectorStart,\", file=of)\n",
    "            print(\"\\tvectorInSeries,\".format(i), file=of)\n",
    "        else:\n",
    "            print(\"\\tLLreadyForNewDataSeries{}, //not used\".format(i), file=of)\n",
    "            print(\"\\tLLinSeries{}, //not used\".format(i), file=of)\n",
    "    if(PR-i<=ar):\n",
    "        print(\"\\tinReadyC,\", file=of)\n",
    "    else:\n",
    "        print(\"\\tinReady,\", file=of)\n",
    "    print(\"\\t\", end='', file=of)\n",
    "    for j in range(NAdd):\n",
    "        print(\"A{}V{}, \".format(j, i), end='', file=of)\n",
    "    print(file=of)\n",
    "    print(\"\\t\", end='', file=of)\n",
    "    for j in range(NAdd):\n",
    "        print(\"B{}V{}, \".format(j, i), end='', file=of)\n",
    "    print(file=of)    \n",
    "    print(\"\\t\", end='', file=of)    \n",
    "    if i==0:\n",
    "        if HRR==1:\n",
    "            print(st1, end='', file=of)\n",
    "            print(\"outReady,\", file=of)\n",
    "        else:\n",
    "            if NE==1:\n",
    "                print(st1, end='', file=of)\n",
    "                print(\"S0outReady, \", end='', file=of)\n",
    "            else:\n",
    "                print(st1, end='', file=of)\n",
    "                print(\"S0toS{}outReady, \".format(NE-1), end='', file=of)\n",
    "            if NE==NAdd:\n",
    "                print(\"VSNoutReady1, //not used\", file=of)\n",
    "            elif NE==NAdd-1:\n",
    "                print(st1, end='', file=of)\n",
    "                print(\"S{}outReady,\".format(NE), file=of)\n",
    "            else:\n",
    "                print(st1, end='', file=of)\n",
    "                print(\"S{}toS{}outReady,\".format(NE, NAdd-1), file=of)\n",
    "    elif i==PR-ar:\n",
    "        if HRR==1:\n",
    "            print(st2, end='', file=of)\n",
    "            print(\"outReady,\", file=of)\n",
    "        else:\n",
    "            if NE==1:\n",
    "                print(st2, end='', file=of)\n",
    "                print(\"S0outReady, \", end='', file=of)\n",
    "            else:\n",
    "                print(st2, end='', file=of)\n",
    "                print(\"S0toS{}outReady, \".format(NE-1), end='', file=of)\n",
    "            if NE==NAdd:\n",
    "                print(\"CSNoutReady2, //not used\", file=of)\n",
    "            elif NE==NAdd-1:\n",
    "                print(st2, end='', file=of)\n",
    "                print(\"S{}outReady,\".format(NE), file=of)\n",
    "            else:\n",
    "                print(st2, end='', file=of)\n",
    "                print(\"S{}toS{}outReady,\".format(NE, NAdd-1), file=of)\n",
    "    else:\n",
    "        if HRR==1:\n",
    "            print(\"VA{}OR, //not used\".format(i), file=of)\n",
    "        else:\n",
    "            print(\"VA{}OR1, VA{}OR2, //both not used\".format(i, i), file=of)\n",
    "    if(HRR>1):\n",
    "        if i==0:\n",
    "            print(\"\\tvectorOutSeries,\".format(i), file=of)\n",
    "        else:\n",
    "            print(\"\\tLLoutSeries{}, //not used\".format(i), file=of)\n",
    "    print(\"\\t\", end='', file=of)\n",
    "    for j in range(NAdd):\n",
    "        print(\"S{}V{}, \".format(j, i), end='', file=of)\n",
    "    print(file=of)\n",
    "    print(\"\\t\", end='', file=of)    \n",
    "    if i==0:\n",
    "        if HRR==1:\n",
    "            print(st1, end='', file=of)\n",
    "            print(\"earlyOutReady\", file=of)\n",
    "        else:\n",
    "            if NE==1:\n",
    "                print(st1, end='', file=of)\n",
    "                print(\"S0earlyOutReady, \", end='', file=of)\n",
    "            else:\n",
    "                print(st1, end='', file=of)\n",
    "                print(\"S0toS{}earlyOutReady, \".format(NE-1), end='', file=of)\n",
    "            if NE==NAdd:\n",
    "                print(\"VSNearlyOutReady1 //not used\", file=of)\n",
    "            elif NE==NAdd-1:\n",
    "                print(st1, end='', file=of)\n",
    "                print(\"S{}earlyOutReady\".format(NE), file=of)\n",
    "            else:\n",
    "                print(st1, end='', file=of)\n",
    "                print(\"S{}toS{}earlyOutReady\".format(NE, NAdd-1), file=of)\n",
    "    elif i==PR-ar:\n",
    "        if HRR==1:\n",
    "            print(st2, end='', file=of)\n",
    "            print(\"earlyOutReady\", file=of)\n",
    "        else:\n",
    "            if NE==1:\n",
    "                print(st2, end='', file=of)\n",
    "                print(\"S0earlyOutReady, \", end='', file=of)\n",
    "            else:\n",
    "                print(st2, end='', file=of)\n",
    "                print(\"S0toS{}earlyOutReady, \".format(NE-1), end='', file=of)\n",
    "            if NE==NAdd:\n",
    "                print(\"VSNearlyOutReady2 //not used\", file=of)\n",
    "            elif NE==NAdd-1:\n",
    "                print(st2, end='', file=of)\n",
    "                print(\"S{}earlyOutReady\".format(NE), file=of)\n",
    "            else:\n",
    "                print(st2, end='', file=of)\n",
    "                print(\"S{}toS{}earlyOutReady\".format(NE, NAdd-1), file=of)\n",
    "    else:\n",
    "        if HRR==1:\n",
    "            print(\"VA{}EOR //not used\".format(i), file=of)\n",
    "        else:\n",
    "            print(\"VA{}EOR1, VA{}EOR2 //both not used\".format(i, i), file=of)\n",
    "    print(\"\\t);\\n\", file=of)"
   ]
  },
  {
   "cell_type": "code",
   "execution_count": 18,
   "metadata": {
    "collapsed": false
   },
   "outputs": [
    {
     "name": "stdout",
     "output_type": "stream",
     "text": [
      "always @(posedge clk) begin\n",
      "\tif(reset) begin\n",
      "\t\tvectorSetOutNo <= 2;\n",
      "\tend\n",
      "\telse if(enable) begin\n",
      "\t\tif(V0S0toS9earlyOutReady) begin\n",
      "\t\t\tif(vectorOutSeries==1) begin\n",
      "\t\t\t\tif(vectorSetOutNo==2) begin\n",
      "\t\t\t\t\tvectorSetOutNo <= 0;\n",
      "\t\t\t\tend\n",
      "\t\t\t\telse begin\n",
      "\t\t\t\t\tvectorSetOutNo <= vectorSetOutNo+1;\n",
      "\t\t\t\tend\n",
      "\t\t\tend\n",
      "\t\tend\n",
      "\tend\n",
      "end\n",
      "\n"
     ]
    }
   ],
   "source": [
    "if RS!=1:\n",
    "    print(\"always @(posedge clk) begin\", file=of)\n",
    "    print(\"\\tif(reset) begin\", file=of)\n",
    "    print(\"\\t\\tvectorSetOutNo <= {};\".format(RS-1), file=of)\n",
    "    print(\"\\tend\", file=of)\n",
    "    print(\"\\telse if(enable) begin\", file=of)\n",
    "    print(\"\\t\\tif(\", end='', file=of)\n",
    "    if HRR==1:\n",
    "        print(st1, end='', file=of)\n",
    "        print(\"earlyOutReady\", end='', file=of)\n",
    "    else:\n",
    "        if NE==1:\n",
    "            print(st1, end='', file=of)\n",
    "            print(\"S0earlyOutReady\", end='', file=of)\n",
    "        else:\n",
    "            print(st1, end='', file=of)\n",
    "            print(\"S0toS{}earlyOutReady\".format(NE-1), end='', file=of)\n",
    "    print(\") begin\", file=of)\n",
    "    if HRR!=1:\n",
    "        print(\"\\t\\t\\tif(vectorOutSeries=={}) begin\".format(HRR-1), file=of)\n",
    "        print(\"\\t\", end='', file=of)\n",
    "    print(\"\\t\\t\\tif(vectorSetOutNo=={}) begin\".format(RS-1), file=of)\n",
    "    if HRR!=1:\n",
    "        print(\"\\t\", end='', file=of)\n",
    "    print(\"\\t\\t\\t\\tvectorSetOutNo <= 0;\", file=of)\n",
    "    if HRR!=1:\n",
    "        print(\"\\t\", end='', file=of)\n",
    "    print(\"\\t\\t\\tend\", file=of)\n",
    "    if HRR!=1:\n",
    "        print(\"\\t\", end='', file=of)\n",
    "    print(\"\\t\\t\\telse begin\", file=of)\n",
    "    if HRR!=1:\n",
    "        print(\"\\t\", end='', file=of)\n",
    "    if RS==2:\n",
    "        print(\"\\t\\t\\t\\tvectorSetOutNo <= 1;\", file=of)\n",
    "    else:\n",
    "        print(\"\\t\\t\\t\\tvectorSetOutNo <= vectorSetOutNo+1;\", file=of)\n",
    "    if HRR!=1:\n",
    "        print(\"\\t\", end='', file=of)\n",
    "    print(\"\\t\\t\\tend\", file=of)\n",
    "    if HRR!=1:\n",
    "        print(\"\\t\\t\\tend\", file=of)\n",
    "    print(\"\\t\\tend\", file=of)\n",
    "    print(\"\\tend\", file=of)\n",
    "    print(\"end\", file=of)\n",
    "    print(file=of)"
   ]
  },
  {
   "cell_type": "code",
   "execution_count": 19,
   "metadata": {
    "collapsed": false
   },
   "outputs": [
    {
     "name": "stdout",
     "output_type": "stream",
     "text": [
      "endmodule\n"
     ]
    }
   ],
   "source": [
    "print(\"endmodule\", file=of)"
   ]
  },
  {
   "cell_type": "code",
   "execution_count": 20,
   "metadata": {
    "collapsed": true
   },
   "outputs": [],
   "source": [
    "if __Print_To_File>0:\n",
    "    of.close()"
   ]
  }
 ],
 "metadata": {
  "kernelspec": {
   "display_name": "Python 3",
   "language": "python",
   "name": "python3"
  },
  "language_info": {
   "codemirror_mode": {
    "name": "ipython",
    "version": 3
   },
   "file_extension": ".py",
   "mimetype": "text/x-python",
   "name": "python",
   "nbconvert_exporter": "python",
   "pygments_lexer": "ipython3",
   "version": "3.5.1"
  }
 },
 "nbformat": 4,
 "nbformat_minor": 0
}
