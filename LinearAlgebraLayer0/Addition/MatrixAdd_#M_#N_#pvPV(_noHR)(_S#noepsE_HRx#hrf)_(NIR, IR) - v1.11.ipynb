{
 "cells": [
  {
   "cell_type": "code",
   "execution_count": 1,
   "metadata": {},
   "outputs": [],
   "source": [
    "#uses VectorAdd_#N(_noHR)(_S#noepsE_HRx#hrr)(_NIR)(_IR) - v1.1x"
   ]
  },
  {
   "cell_type": "code",
   "execution_count": 2,
   "metadata": {},
   "outputs": [],
   "source": [
    "#changed namings\n",
    "#inReadyC default to simplified definition"
   ]
  },
  {
   "cell_type": "code",
   "execution_count": 3,
   "metadata": {},
   "outputs": [],
   "source": [
    "import sys\n",
    "import math"
   ]
  },
  {
   "cell_type": "code",
   "execution_count": 4,
   "metadata": {},
   "outputs": [
    {
     "name": "stdout",
     "output_type": "stream",
     "text": [
      "Enter No Of Vectors (M): 5\n"
     ]
    }
   ],
   "source": [
    "#M>=1\n",
    "M = input('Enter No Of Vectors (M): ')"
   ]
  },
  {
   "cell_type": "code",
   "execution_count": 5,
   "metadata": {},
   "outputs": [
    {
     "name": "stdout",
     "output_type": "stream",
     "text": [
      "Enter No Of Elements Per Vectors (N): 7\n"
     ]
    }
   ],
   "source": [
    "#N>=1\n",
    "N = input('Enter No Of Elements Per Vectors (N): ')"
   ]
  },
  {
   "cell_type": "code",
   "execution_count": 6,
   "metadata": {},
   "outputs": [
    {
     "name": "stdout",
     "output_type": "stream",
     "text": [
      "Enter No Of Parallel Vectors (empty for 1): 2\n"
     ]
    }
   ],
   "source": [
    "#PR>=1\n",
    "PR = input('Enter No Of Parallel Vectors (empty for 1): ')"
   ]
  },
  {
   "cell_type": "code",
   "execution_count": 7,
   "metadata": {},
   "outputs": [],
   "source": [
    "N = int(N)\n",
    "if N<1:\n",
    "    N=1\n",
    "\n",
    "M = int(M)\n",
    "if M<1:\n",
    "    M=1\n",
    "\n",
    "if not PR:\n",
    "    PR=1\n",
    "else:\n",
    "    PR = int(PR)\n",
    "    if PR>M:\n",
    "        PR = M"
   ]
  },
  {
   "cell_type": "code",
   "execution_count": 8,
   "metadata": {},
   "outputs": [
    {
     "name": "stdout",
     "output_type": "stream",
     "text": [
      "Enter No Of Vector Elements Per Series (>=1, <=7, empty for 7): 3\n"
     ]
    }
   ],
   "source": [
    "if N!=1:\n",
    "    NOEPS = input('Enter No Of Vector Elements Per Series (>=1, <={}, empty for {}): '.format(N, N))"
   ]
  },
  {
   "cell_type": "code",
   "execution_count": 9,
   "metadata": {},
   "outputs": [
    {
     "name": "stdout",
     "output_type": "stream",
     "text": [
      "Enter IN_WIDTH Default Value (empty for 10): \n"
     ]
    }
   ],
   "source": [
    "#IN_WIDTH>=1\n",
    "IN_WIDTH = input('Enter IN_WIDTH Default Value (empty for 10): ')"
   ]
  },
  {
   "cell_type": "code",
   "execution_count": 12,
   "metadata": {},
   "outputs": [
    {
     "name": "stdout",
     "output_type": "stream",
     "text": [
      "Enable Input Registers? (empty or 0 to disable, 1 to enable): 1\n"
     ]
    }
   ],
   "source": [
    "Enable_Input_Registers = input('Enable Input Registers? (empty or 0 to disable, 1 to enable): ')"
   ]
  },
  {
   "cell_type": "code",
   "execution_count": 13,
   "metadata": {},
   "outputs": [],
   "source": [
    "if N==1 or not NOEPS:\n",
    "    NAdd=N\n",
    "else:\n",
    "    NAdd = int(NOEPS)\n",
    "    if NAdd<1:\n",
    "        NAdd=1\n",
    "    elif NAdd>N:\n",
    "        NAdd=N\n",
    "\n",
    "HRR = math.ceil(N/NAdd);\n",
    "\n",
    "if not IN_WIDTH:\n",
    "    IN_WIDTH=10\n",
    "else:\n",
    "    IN_WIDTH = int(IN_WIDTH)\n",
    "    if IN_WIDTH<1:\n",
    "        IN_WIDTH=1\n",
    "\n",
    "if not Enable_Input_Registers:\n",
    "    Enable_Input_Registers=0\n",
    "else:\n",
    "    Enable_Input_Registers = int(Enable_Input_Registers)"
   ]
  },
  {
   "cell_type": "code",
   "execution_count": 14,
   "metadata": {},
   "outputs": [],
   "source": [
    "ModuleName=\"MatrixAdd_{}_{}_{}PV_\".format(M, N, PR)\n",
    "if(HRR==1):\n",
    "    ModuleName+=\"noHR_\"\n",
    "else:\n",
    "    ModuleName+=\"S{}E_HRx{}_\".format(NAdd, HRR)     \n",
    "if Enable_Input_Registers<=0:\n",
    "    ModuleName+=\"N\"\n",
    "ModuleName+=\"IR\""
   ]
  },
  {
   "cell_type": "code",
   "execution_count": 15,
   "metadata": {},
   "outputs": [],
   "source": [
    "__Print_To_File = 0\n",
    "\n",
    "if __Print_To_File<=0:\n",
    "    of=sys.stdout\n",
    "else:\n",
    "    of = open(\"./\"+ModuleName+\".v\", 'w+')"
   ]
  },
  {
   "cell_type": "code",
   "execution_count": 16,
   "metadata": {},
   "outputs": [
    {
     "name": "stdout",
     "output_type": "stream",
     "text": [
      "`timescale 1ns / 1ps\n",
      "\n",
      "module MatrixAdd_5_7_2PV_S3E_HRx3_IR\n",
      "#(\n",
      "parameter IN_WIDTH = 10\n",
      ")(\n",
      "input clk, reset, enable,\n",
      "output readyForNewVectorStart,\n",
      "output [1:0] vectorInSeries,\n",
      "output reg [1:0] vectorSetInNo = 0,\n",
      "input inReady,\n",
      "input signed [IN_WIDTH-1:0] A0V0, A1V0, A2V0, \n",
      "A0V1, A1V1, A2V1, \n",
      "input signed [IN_WIDTH-1:0] B0V0, B1V0, B2V0, \n",
      "B0V1, B1V1, B2V1, \n",
      "output V0S0outReady,\n",
      "output V0S1toS2outReady,\n",
      "output V1S0outReady,\n",
      "output V1S1toS2outReady,\n",
      "output [1:0] vectorOutSeries,\n",
      "output reg [1:0] vectorSetOutNo = 2,\n",
      "output signed [IN_WIDTH:0] S0V0, S1V0, S2V0, \n",
      "S0V1, S1V1, S2V1, \n",
      "output V0S0earlyOutReady,\n",
      "output V0S1toS2earlyOutReady,\n",
      "output V1S0earlyOutReady,\n",
      "output V1S1toS2earlyOutReady\n",
      ");\n",
      "\n"
     ]
    }
   ],
   "source": [
    "print(\"`timescale 1ns / 1ps\\n\", file=of)\n",
    "print(\"module \"+ModuleName, file=of)\n",
    "print(\"#(\", file=of)\n",
    "print(\"parameter IN_WIDTH = {}\".format(IN_WIDTH), file=of)\n",
    "print(\")(\", file=of)\n",
    "print(\"input clk, reset, enable,\", file=of)\n",
    "if HRR>1:\n",
    "    print(\"output readyForNewVectorStart,\", file=of)\n",
    "lghrr=math.ceil(math.log2(HRR))\n",
    "if lghrr==1:\n",
    "    print(\"output vectorInSeries,\", file=of)\n",
    "elif lghrr>1:\n",
    "    print(\"output [{}:0] vectorInSeries,\".format(lghrr-1), file=of)\n",
    "RS=math.ceil(M/PR)\n",
    "lgRS=math.ceil(math.log2(RS))\n",
    "if lgRS<=1:\n",
    "    print(\"output reg vectorSetInNo = 0,\", file=of)\n",
    "else:\n",
    "    print(\"output reg [{}:0] vectorSetInNo = 0,\".format(lgRS-1), file=of)\n",
    "print(\"input inReady,\", file=of)\n",
    "print(\"input signed [IN_WIDTH-1:0] \", end='', file=of)\n",
    "for j in range(PR):\n",
    "    for i in range(NAdd):\n",
    "        print(\"A{}V{}, \".format(i, j), end='', file=of)\n",
    "    print(file=of)\n",
    "print(\"input signed [IN_WIDTH-1:0] \", end='', file=of)\n",
    "for j in range(PR):\n",
    "    for i in range(NAdd):\n",
    "        print(\"B{}V{}, \".format(i, j), end='', file=of)\n",
    "    print(file=of)\n",
    "ar=RS*PR-M\n",
    "ME = PR-ar-1\n",
    "if ME==0:\n",
    "    st1=\"V0\"\n",
    "else:\n",
    "    st1=\"V0toV{}\".format(ME)\n",
    "print(\"output \", end='', file=of)\n",
    "if HRR==1:\n",
    "    print(st1, end='', file=of)\n",
    "    print(\"outReady,\", file=of)\n",
    "    NE=NAdd\n",
    "else:\n",
    "    NE = N - NAdd*(HRR-1)\n",
    "    while NE<=0:\n",
    "        NE += NAdd\n",
    "    if NE==1:\n",
    "        print(st1, end='', file=of)\n",
    "        print(\"S0outReady,\", file=of)\n",
    "    else:\n",
    "        print(st1, end='', file=of)\n",
    "        print(\"S0toS{}outReady,\".format(NE-1), file=of)\n",
    "    print(\"output \", end='', file=of)\n",
    "    if NE==NAdd:\n",
    "        print(\"VSNoutReady1, //not used\", file=of)\n",
    "    elif NE==NAdd-1:\n",
    "        print(st1, end='', file=of)\n",
    "        print(\"S{}outReady,\".format(NE), file=of)\n",
    "    else:\n",
    "        print(st1, end='', file=of)\n",
    "        print(\"S{}toS{}outReady,\".format(NE, NAdd-1), file=of)\n",
    "if ar==0:\n",
    "    print(\"output reg VNoutReady1 = 0, //not used\", file=of)\n",
    "    print(\"output reg VNoutReady2 = 0, //not used\", file=of)\n",
    "else:\n",
    "    if ME==(PR-2):\n",
    "        st2=\"V{}\".format(PR-1)\n",
    "    else:\n",
    "        st2=\"V{}toV{}\".format(ME+1, PR-1)\n",
    "    print(\"output \", end='', file=of)\n",
    "    if HRR==1:\n",
    "        print(st2, end='', file=of)\n",
    "        print(\"outReady,\", file=of)\n",
    "    else:\n",
    "        if NE==1:\n",
    "            print(st2, end='', file=of)\n",
    "            print(\"S0outReady,\", file=of)\n",
    "        else:\n",
    "            print(st2, end='', file=of)\n",
    "            print(\"S0toS{}outReady,\".format(NE-1), file=of)\n",
    "        print(\"output \", end='', file=of)\n",
    "        if NE==NAdd:\n",
    "            print(\"VSNoutReady2, //not used\", file=of)\n",
    "        elif NE==NAdd-1:\n",
    "            print(st2, end='', file=of)\n",
    "            print(\"S{}outReady,\".format(NE), file=of)\n",
    "        else:\n",
    "            print(st2, end='', file=of)\n",
    "            print(\"S{}toS{}outReady,\".format(NE, NAdd-1), file=of)\n",
    "if lghrr==1:\n",
    "    print(\"output vectorOutSeries,\", file=of)\n",
    "elif lghrr>1:\n",
    "    print(\"output [{}:0] vectorOutSeries,\".format(lghrr-1), file=of)\n",
    "if lgRS<=1:\n",
    "    print(\"output reg vectorSetOutNo = 1,\", file=of)\n",
    "else:\n",
    "    print(\"output reg [{}:0] vectorSetOutNo = {},\".format(lgRS-1, RS-1), file=of)\n",
    "print(\"output signed [IN_WIDTH:0] \", end='', file=of)\n",
    "for j in range(PR):\n",
    "    for i in range(NAdd):\n",
    "        print(\"S{}V{}, \".format(i, j), end='', file=of)\n",
    "    print(file=of)\n",
    "print(\"output \", end='', file=of)\n",
    "if HRR==1:\n",
    "    print(st1, end='', file=of)\n",
    "    print(\"earlyOutReady,\", file=of)\n",
    "else:\n",
    "    if NE==1:\n",
    "        print(st1, end='', file=of)\n",
    "        print(\"S0earlyOutReady,\", file=of)\n",
    "    else:\n",
    "        print(st1, end='', file=of)\n",
    "        print(\"S0toS{}earlyOutReady,\".format(NE-1), file=of)\n",
    "    print(\"output \", end='', file=of)\n",
    "    if NE==NAdd:\n",
    "        print(\"CSNearlyOutReady1, //not used\", file=of)\n",
    "    elif NE==NAdd-1:\n",
    "        print(st1, end='', file=of)\n",
    "        print(\"S{}earlyOutReady,\".format(NE), file=of)\n",
    "    else:\n",
    "        print(st1, end='', file=of)\n",
    "        print(\"S{}toS{}earlyOutReady,\".format(NE, NAdd-1), file=of)\n",
    "if ar==0:\n",
    "    print(\"output reg CNearlyOutReady1 = 0, //not used\", file=of)\n",
    "    print(\"output reg CNearlyOutReady2 = 0 //not used\", file=of)\n",
    "else:\n",
    "    print(\"output \", end='', file=of)\n",
    "    if HRR==1:\n",
    "        print(st2, end='', file=of)\n",
    "        print(\"earlyOutReady\", file=of)\n",
    "    else:\n",
    "        if NE==1:\n",
    "            print(st2, end='', file=of)\n",
    "            print(\"S0earlyOutReady,\", file=of)\n",
    "        else:\n",
    "            print(st2, end='', file=of)\n",
    "            print(\"S0toS{}earlyOutReady,\".format(NE-1), file=of)\n",
    "        print(\"output \", end='', file=of)\n",
    "        if NE==NAdd:\n",
    "            print(\"CSNearlyOutReady2 //not used\", file=of)\n",
    "        elif NE==NAdd-1:\n",
    "            print(st2, end='', file=of)\n",
    "            print(\"S{}earlyOutReady\".format(NE), file=of)\n",
    "        else:\n",
    "            print(st2, end='', file=of)\n",
    "            print(\"S{}toS{}earlyOutReady\".format(NE, NAdd-1), file=of)\n",
    "print(\");\\n\", file=of)"
   ]
  },
  {
   "cell_type": "code",
   "execution_count": 17,
   "metadata": {},
   "outputs": [
    {
     "name": "stdout",
     "output_type": "stream",
     "text": [
      "always @(posedge clk) begin\n",
      "\tif(reset) begin\n",
      "\t\tvectorSetInNo <= 0;\n",
      "\tend\n",
      "\telse if(enable) begin\n",
      "\t\tif(inReady) begin\n",
      "\t\t\tif(vectorInSeries==2) begin\n",
      "\t\t\t\tif(vectorSetInNo==2) begin\n",
      "\t\t\t\t\tvectorSetInNo <= 0;\n",
      "\t\t\t\tend\n",
      "\t\t\t\telse begin\n",
      "\t\t\t\t\tvectorSetInNo <= vectorSetInNo+1;\n",
      "\t\t\t\tend\n",
      "\t\t\tend\n",
      "\t\tend\n",
      "\tend\n",
      "end\n",
      "\n"
     ]
    }
   ],
   "source": [
    "if RS!=1:\n",
    "    print(\"always @(posedge clk) begin\", file=of)\n",
    "    print(\"\\tif(reset) begin\", file=of)\n",
    "    print(\"\\t\\tvectorSetInNo <= 0;\", file=of)\n",
    "    print(\"\\tend\", file=of)\n",
    "    print(\"\\telse if(enable) begin\", file=of)\n",
    "    print(\"\\t\\tif(inReady) begin\", file=of)\n",
    "    if(HRR>1):\n",
    "        print(\"\\t\\t\\tif(vectorInSeries=={}) begin\".format(HRR-1), file=of)\n",
    "        print(\"\\t\", end='', file=of)\n",
    "    print(\"\\t\\t\\tif(vectorSetInNo=={}) begin\".format(RS-1), file=of)\n",
    "    if(HRR>1):\n",
    "        print(\"\\t\", end='', file=of)\n",
    "    print(\"\\t\\t\\t\\tvectorSetInNo <= 0;\", file=of)\n",
    "    if(HRR>1):\n",
    "        print(\"\\t\", end='', file=of)\n",
    "    print(\"\\t\\t\\tend\", file=of)\n",
    "    if(HRR>1):\n",
    "        print(\"\\t\", end='', file=of)\n",
    "    print(\"\\t\\t\\telse begin\", file=of)\n",
    "    if(HRR>1):\n",
    "        print(\"\\t\", end='', file=of)\n",
    "    if RS==2:\n",
    "        print(\"\\t\\t\\t\\tvectorSetInNo <= 1;\", file=of)    \n",
    "    else:\n",
    "        print(\"\\t\\t\\t\\tvectorSetInNo <= vectorSetInNo+1;\", file=of)\n",
    "    if(HRR>1):\n",
    "        print(\"\\t\\t\\t\\tend\", file=of)\n",
    "    print(\"\\t\\t\\tend\", file=of)\n",
    "    print(\"\\t\\tend\", file=of)\n",
    "    print(\"\\tend\", file=of)\n",
    "    print(\"end\", file=of)\n",
    "    print(file=of)"
   ]
  },
  {
   "cell_type": "code",
   "execution_count": 18,
   "metadata": {},
   "outputs": [
    {
     "name": "stdout",
     "output_type": "stream",
     "text": [
      "wire inReadyC = (vectorSetInNo!=2) & inReady;\n",
      "\n"
     ]
    }
   ],
   "source": [
    "if ar>0:\n",
    "    print(\"wire inReadyC = (vectorSetInNo!={}) & inReady;\".format(RS-1), file=of)\n",
    "    print(file=of)"
   ]
  },
  {
   "cell_type": "code",
   "execution_count": 19,
   "metadata": {},
   "outputs": [
    {
     "name": "stdout",
     "output_type": "stream",
     "text": [
      "VectorAdd_7_S3E_HRx3_IR#( .IN_WIDTH(IN_WIDTH) )\n",
      "\tVA_0(clk, reset, enable,\n",
      "\treadyForNewVectorStart,\n",
      "\tvectorInSeries,\n",
      "\tinReady,\n",
      "\tA0V0, A1V0, A2V0, \n",
      "\tB0V0, B1V0, B2V0, \n",
      "\tV0S0outReady, V0S1toS2outReady,\n",
      "\tvectorOutSeries,\n",
      "\tS0V0, S1V0, S2V0, \n",
      "\tV0S0earlyOutReady, V0S1toS2earlyOutReady\n",
      "\t);\n",
      "\n",
      "VectorAdd_7_S3E_HRx3_IR#( .IN_WIDTH(IN_WIDTH) )\n",
      "\tVA_1(clk, reset, enable,\n",
      "\tLLreadyForNewDataSeries1, //not used\n",
      "\tLLinSeries1, //not used\n",
      "\tinReadyC,\n",
      "\tA0V1, A1V1, A2V1, \n",
      "\tB0V1, B1V1, B2V1, \n",
      "\tV1S0outReady, V1S1toS2outReady,\n",
      "\tLLoutSeries1, //not used\n",
      "\tS0V1, S1V1, S2V1, \n",
      "\tV1S0earlyOutReady, V1S1toS2earlyOutReady\n",
      "\t);\n",
      "\n"
     ]
    }
   ],
   "source": [
    "for i in range (PR):\n",
    "    if(HRR==1):\n",
    "        if Enable_Input_Registers>0:\n",
    "            print(\"VectorAdd_{}_noHR_IR#( .IN_WIDTH(IN_WIDTH) )\".format(N), file=of)\n",
    "        else:\n",
    "            print(\"VectorAdd_{}_noHR_NIR#( .IN_WIDTH(IN_WIDTH) )\".format(N), file=of)            \n",
    "    else:\n",
    "        if Enable_Input_Registers>0:\n",
    "            print(\"VectorAdd_{}_S{}E_HRx{}_IR#( .IN_WIDTH(IN_WIDTH) )\".format(N, NAdd, HRR), file=of)\n",
    "        else:\n",
    "            print(\"VectorAdd_{}_S{}E_HRx{}_NIR#( .IN_WIDTH(IN_WIDTH) )\".format(N, NAdd, HRR), file=of)            \n",
    "    print(\"\\tVA_{}(clk, reset, enable,\".format(i), file=of)\n",
    "    if(HRR>1):\n",
    "        if i==0:\n",
    "            print(\"\\treadyForNewVectorStart,\", file=of)\n",
    "            print(\"\\tvectorInSeries,\".format(i), file=of)\n",
    "        else:\n",
    "            print(\"\\tLLreadyForNewDataSeries{}, //not used\".format(i), file=of)\n",
    "            print(\"\\tLLinSeries{}, //not used\".format(i), file=of)\n",
    "    if(PR-i<=ar):\n",
    "        print(\"\\tinReadyC,\", file=of)\n",
    "    else:\n",
    "        print(\"\\tinReady,\", file=of)\n",
    "    print(\"\\t\", end='', file=of)\n",
    "    for j in range(NAdd):\n",
    "        print(\"A{}V{}, \".format(j, i), end='', file=of)\n",
    "    print(file=of)\n",
    "    print(\"\\t\", end='', file=of)\n",
    "    for j in range(NAdd):\n",
    "        print(\"B{}V{}, \".format(j, i), end='', file=of)\n",
    "    print(file=of)    \n",
    "    print(\"\\t\", end='', file=of)    \n",
    "    if i==0:\n",
    "        if HRR==1:\n",
    "            print(st1, end='', file=of)\n",
    "            print(\"outReady,\", file=of)\n",
    "        else:\n",
    "            if NE==1:\n",
    "                print(st1, end='', file=of)\n",
    "                print(\"S0outReady, \", end='', file=of)\n",
    "            else:\n",
    "                print(st1, end='', file=of)\n",
    "                print(\"S0toS{}outReady, \".format(NE-1), end='', file=of)\n",
    "            if NE==NAdd:\n",
    "                print(\"VSNoutReady1, //not used\", file=of)\n",
    "            elif NE==NAdd-1:\n",
    "                print(st1, end='', file=of)\n",
    "                print(\"S{}outReady,\".format(NE), file=of)\n",
    "            else:\n",
    "                print(st1, end='', file=of)\n",
    "                print(\"S{}toS{}outReady,\".format(NE, NAdd-1), file=of)\n",
    "    elif i==PR-ar:\n",
    "        if HRR==1:\n",
    "            print(st2, end='', file=of)\n",
    "            print(\"outReady,\", file=of)\n",
    "        else:\n",
    "            if NE==1:\n",
    "                print(st2, end='', file=of)\n",
    "                print(\"S0outReady, \", end='', file=of)\n",
    "            else:\n",
    "                print(st2, end='', file=of)\n",
    "                print(\"S0toS{}outReady, \".format(NE-1), end='', file=of)\n",
    "            if NE==NAdd:\n",
    "                print(\"CSNoutReady2, //not used\", file=of)\n",
    "            elif NE==NAdd-1:\n",
    "                print(st2, end='', file=of)\n",
    "                print(\"S{}outReady,\".format(NE), file=of)\n",
    "            else:\n",
    "                print(st2, end='', file=of)\n",
    "                print(\"S{}toS{}outReady,\".format(NE, NAdd-1), file=of)\n",
    "    else:\n",
    "        if HRR==1:\n",
    "            print(\"VA{}OR, //not used\".format(i), file=of)\n",
    "        else:\n",
    "            print(\"VA{}OR1, VA{}OR2, //both not used\".format(i, i), file=of)\n",
    "    if(HRR>1):\n",
    "        if i==0:\n",
    "            print(\"\\tvectorOutSeries,\".format(i), file=of)\n",
    "        else:\n",
    "            print(\"\\tLLoutSeries{}, //not used\".format(i), file=of)\n",
    "    print(\"\\t\", end='', file=of)\n",
    "    for j in range(NAdd):\n",
    "        print(\"S{}V{}, \".format(j, i), end='', file=of)\n",
    "    print(file=of)\n",
    "    print(\"\\t\", end='', file=of)    \n",
    "    if i==0:\n",
    "        if HRR==1:\n",
    "            print(st1, end='', file=of)\n",
    "            print(\"earlyOutReady\", file=of)\n",
    "        else:\n",
    "            if NE==1:\n",
    "                print(st1, end='', file=of)\n",
    "                print(\"S0earlyOutReady, \", end='', file=of)\n",
    "            else:\n",
    "                print(st1, end='', file=of)\n",
    "                print(\"S0toS{}earlyOutReady, \".format(NE-1), end='', file=of)\n",
    "            if NE==NAdd:\n",
    "                print(\"VSNearlyOutReady1 //not used\", file=of)\n",
    "            elif NE==NAdd-1:\n",
    "                print(st1, end='', file=of)\n",
    "                print(\"S{}earlyOutReady\".format(NE), file=of)\n",
    "            else:\n",
    "                print(st1, end='', file=of)\n",
    "                print(\"S{}toS{}earlyOutReady\".format(NE, NAdd-1), file=of)\n",
    "    elif i==PR-ar:\n",
    "        if HRR==1:\n",
    "            print(st2, end='', file=of)\n",
    "            print(\"earlyOutReady\", file=of)\n",
    "        else:\n",
    "            if NE==1:\n",
    "                print(st2, end='', file=of)\n",
    "                print(\"S0earlyOutReady, \", end='', file=of)\n",
    "            else:\n",
    "                print(st2, end='', file=of)\n",
    "                print(\"S0toS{}earlyOutReady, \".format(NE-1), end='', file=of)\n",
    "            if NE==NAdd:\n",
    "                print(\"VSNearlyOutReady2 //not used\", file=of)\n",
    "            elif NE==NAdd-1:\n",
    "                print(st2, end='', file=of)\n",
    "                print(\"S{}earlyOutReady\".format(NE), file=of)\n",
    "            else:\n",
    "                print(st2, end='', file=of)\n",
    "                print(\"S{}toS{}earlyOutReady\".format(NE, NAdd-1), file=of)\n",
    "    else:\n",
    "        if HRR==1:\n",
    "            print(\"VA{}EOR //not used\".format(i), file=of)\n",
    "        else:\n",
    "            print(\"VA{}EOR1, VA{}EOR2 //both not used\".format(i, i), file=of)\n",
    "    print(\"\\t);\\n\", file=of)"
   ]
  },
  {
   "cell_type": "code",
   "execution_count": 20,
   "metadata": {},
   "outputs": [
    {
     "name": "stdout",
     "output_type": "stream",
     "text": [
      "always @(posedge clk) begin\n",
      "\tif(reset) begin\n",
      "\t\tvectorSetOutNo <= 2;\n",
      "\tend\n",
      "\telse if(enable) begin\n",
      "\t\tif(V0S0earlyOutReady) begin\n",
      "\t\t\tif(vectorOutSeries==2) begin\n",
      "\t\t\t\tif(vectorSetOutNo==2) begin\n",
      "\t\t\t\t\tvectorSetOutNo <= 0;\n",
      "\t\t\t\tend\n",
      "\t\t\t\telse begin\n",
      "\t\t\t\t\tvectorSetOutNo <= vectorSetOutNo+1;\n",
      "\t\t\t\tend\n",
      "\t\t\tend\n",
      "\t\tend\n",
      "\tend\n",
      "end\n",
      "\n"
     ]
    }
   ],
   "source": [
    "if RS!=1:\n",
    "    print(\"always @(posedge clk) begin\", file=of)\n",
    "    print(\"\\tif(reset) begin\", file=of)\n",
    "    print(\"\\t\\tvectorSetOutNo <= {};\".format(RS-1), file=of)\n",
    "    print(\"\\tend\", file=of)\n",
    "    print(\"\\telse if(enable) begin\", file=of)\n",
    "    print(\"\\t\\tif(\", end='', file=of)\n",
    "    if HRR==1:\n",
    "        print(st1, end='', file=of)\n",
    "        print(\"earlyOutReady\", end='', file=of)\n",
    "    else:\n",
    "        if NE==1:\n",
    "            print(st1, end='', file=of)\n",
    "            print(\"S0earlyOutReady\", end='', file=of)\n",
    "        else:\n",
    "            print(st1, end='', file=of)\n",
    "            print(\"S0toS{}earlyOutReady\".format(NE-1), end='', file=of)\n",
    "    print(\") begin\", file=of)\n",
    "    if HRR!=1:\n",
    "        print(\"\\t\\t\\tif(vectorOutSeries=={}) begin\".format(HRR-1), file=of)\n",
    "        print(\"\\t\", end='', file=of)\n",
    "    print(\"\\t\\t\\tif(vectorSetOutNo=={}) begin\".format(RS-1), file=of)\n",
    "    if HRR!=1:\n",
    "        print(\"\\t\", end='', file=of)\n",
    "    print(\"\\t\\t\\t\\tvectorSetOutNo <= 0;\", file=of)\n",
    "    if HRR!=1:\n",
    "        print(\"\\t\", end='', file=of)\n",
    "    print(\"\\t\\t\\tend\", file=of)\n",
    "    if HRR!=1:\n",
    "        print(\"\\t\", end='', file=of)\n",
    "    print(\"\\t\\t\\telse begin\", file=of)\n",
    "    if HRR!=1:\n",
    "        print(\"\\t\", end='', file=of)\n",
    "    if RS==2:\n",
    "        print(\"\\t\\t\\t\\tvectorSetOutNo <= 1;\", file=of)\n",
    "    else:\n",
    "        print(\"\\t\\t\\t\\tvectorSetOutNo <= vectorSetOutNo+1;\", file=of)\n",
    "    if HRR!=1:\n",
    "        print(\"\\t\", end='', file=of)\n",
    "    print(\"\\t\\t\\tend\", file=of)\n",
    "    if HRR!=1:\n",
    "        print(\"\\t\\t\\tend\", file=of)\n",
    "    print(\"\\t\\tend\", file=of)\n",
    "    print(\"\\tend\", file=of)\n",
    "    print(\"end\", file=of)\n",
    "    print(file=of)"
   ]
  },
  {
   "cell_type": "code",
   "execution_count": 21,
   "metadata": {},
   "outputs": [
    {
     "name": "stdout",
     "output_type": "stream",
     "text": [
      "endmodule\n"
     ]
    }
   ],
   "source": [
    "print(\"endmodule\", file=of)"
   ]
  },
  {
   "cell_type": "code",
   "execution_count": 22,
   "metadata": {},
   "outputs": [],
   "source": [
    "if __Print_To_File>0:\n",
    "    of.close()"
   ]
  }
 ],
 "metadata": {
  "kernelspec": {
   "display_name": "Python 3",
   "language": "python",
   "name": "python3"
  },
  "language_info": {
   "codemirror_mode": {
    "name": "ipython",
    "version": 3
   },
   "file_extension": ".py",
   "mimetype": "text/x-python",
   "name": "python",
   "nbconvert_exporter": "python",
   "pygments_lexer": "ipython3",
   "version": "3.6.3"
  }
 },
 "nbformat": 4,
 "nbformat_minor": 1
}
