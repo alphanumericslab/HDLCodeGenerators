{
 "cells": [
  {
   "cell_type": "code",
   "execution_count": 1,
   "metadata": {},
   "outputs": [],
   "source": [
    "#uses Registered2to1Adder_NIR - v1.1 and Registered2to1Adder_IR - v1.1"
   ]
  },
  {
   "cell_type": "code",
   "execution_count": 2,
   "metadata": {},
   "outputs": [],
   "source": [
    "#inReadyC default to simplified definition"
   ]
  },
  {
   "cell_type": "code",
   "execution_count": 3,
   "metadata": {},
   "outputs": [],
   "source": [
    "import sys\n",
    "import math"
   ]
  },
  {
   "cell_type": "code",
   "execution_count": 4,
   "metadata": {},
   "outputs": [
    {
     "name": "stdout",
     "output_type": "stream",
     "text": [
      "Enter No Of Elements Per Vectors (N): 30\n"
     ]
    }
   ],
   "source": [
    "#N>=1\n",
    "N = input('Enter No Of Elements Per Vectors (N): ')\n",
    "N = int(N)"
   ]
  },
  {
   "cell_type": "code",
   "execution_count": 5,
   "metadata": {},
   "outputs": [],
   "source": [
    "if N<1:\n",
    "    N=1"
   ]
  },
  {
   "cell_type": "code",
   "execution_count": 6,
   "metadata": {},
   "outputs": [
    {
     "name": "stdout",
     "output_type": "stream",
     "text": [
      "Enter No Of Elements Per Series (>=1, <=30, empty for 30): 11\n"
     ]
    }
   ],
   "source": [
    "if N!=1:\n",
    "    NOEPS = input('Enter No Of Elements Per Series (>=1, <={}, empty for {}): '.format(N, N))"
   ]
  },
  {
   "cell_type": "code",
   "execution_count": 7,
   "metadata": {},
   "outputs": [
    {
     "name": "stdout",
     "output_type": "stream",
     "text": [
      "Enter IN_WIDTH Default Value (empty for 10): \n"
     ]
    }
   ],
   "source": [
    "#IN_WIDTH>=1\n",
    "IN_WIDTH = input('Enter IN_WIDTH Default Value (empty for 10): ')"
   ]
  },
  {
   "cell_type": "code",
   "execution_count": 11,
   "metadata": {},
   "outputs": [
    {
     "name": "stdout",
     "output_type": "stream",
     "text": [
      "Enable Input Registers? (empty or 0 to disable, 1 to enable): 1\n"
     ]
    }
   ],
   "source": [
    "Enable_Input_Registers = input('Enable Input Registers? (empty or 0 to disable, 1 to enable): ')"
   ]
  },
  {
   "cell_type": "code",
   "execution_count": 12,
   "metadata": {},
   "outputs": [],
   "source": [
    "if N==1 or not NOEPS:\n",
    "    NAdd=N\n",
    "else:\n",
    "    NAdd = int(NOEPS)\n",
    "    if NAdd<1:\n",
    "        NAdd=1\n",
    "    elif NAdd>N:\n",
    "        NAdd=N\n",
    "\n",
    "HRR = math.ceil(N/NAdd);\n",
    "\n",
    "if not IN_WIDTH:\n",
    "    IN_WIDTH=10\n",
    "else:\n",
    "    IN_WIDTH = int(IN_WIDTH)\n",
    "    if IN_WIDTH<1:\n",
    "        IN_WIDTH=1\n",
    "\n",
    "if not Enable_Input_Registers:\n",
    "    Enable_Input_Registers=0\n",
    "else:\n",
    "    Enable_Input_Registers = int(Enable_Input_Registers)"
   ]
  },
  {
   "cell_type": "code",
   "execution_count": 13,
   "metadata": {},
   "outputs": [],
   "source": [
    "ModuleName=\"VectorAdd_{}_\".format(N)\n",
    "if(HRR==1):\n",
    "    ModuleName+=\"noHR_\"\n",
    "else:\n",
    "    ModuleName+=\"S{}E_HRx{}_\".format(NAdd, HRR)     \n",
    "if Enable_Input_Registers<=0:\n",
    "    ModuleName+=\"N\"\n",
    "ModuleName+=\"IR\""
   ]
  },
  {
   "cell_type": "code",
   "execution_count": 14,
   "metadata": {},
   "outputs": [],
   "source": [
    "__Print_To_File = 0\n",
    "\n",
    "if __Print_To_File<=0:\n",
    "    of=sys.stdout\n",
    "else:\n",
    "    of = open(\"./\"+ModuleName+\".v\", 'w+')"
   ]
  },
  {
   "cell_type": "code",
   "execution_count": 15,
   "metadata": {},
   "outputs": [
    {
     "name": "stdout",
     "output_type": "stream",
     "text": [
      "`timescale 1ns / 1ps\n",
      "\n",
      "module VectorAdd_30_S11E_HRx3_IR\n",
      "#(\n",
      "parameter IN_WIDTH = 10\n",
      ")(\n",
      "input clk, reset, enable,\n",
      "output reg readyForNewDataSeries = 1,\n",
      "output reg [1:0] inSeries = 0,\n",
      "input inReady,\n",
      "input signed [IN_WIDTH-1:0] A0, A1, A2, A3, A4, A5, A6, A7, A8, A9, A10, \n",
      "input signed [IN_WIDTH-1:0] B0, B1, B2, B3, B4, B5, B6, B7, B8, B9, B10, \n",
      "output S0toS7outReady,\n",
      "output S8toS10outReady,\n",
      "output reg [1:0] outSeries = 2,\n",
      "output signed [IN_WIDTH:0] S0, S1, S2, S3, S4, S5, S6, S7, S8, S9, S10, \n",
      "output S0toS7earlyOutReady,\n",
      "output S8toS10earlyOutReady\n",
      ");\n",
      "\n"
     ]
    }
   ],
   "source": [
    "print(\"`timescale 1ns / 1ps\\n\", file=of)\n",
    "print(\"module \"+ModuleName, file=of)\n",
    "print(\"#(\", file=of)\n",
    "print(\"parameter IN_WIDTH = {}\".format(IN_WIDTH), file=of)\n",
    "print(\")(\", file=of)\n",
    "print(\"input clk, reset, enable,\", file=of)\n",
    "if HRR>1:\n",
    "    print(\"output reg readyForNewDataSeries = 1,\", file=of)\n",
    "lghrr=math.ceil(math.log2(HRR))\n",
    "if lghrr==1:\n",
    "    print(\"output reg inSeries = 0,\", file=of)\n",
    "elif lghrr>1:\n",
    "    print(\"output reg [{}:0] inSeries = 0,\".format(lghrr-1), file=of)\n",
    "print(\"input inReady,\", file=of)\n",
    "print(\"input signed [IN_WIDTH-1:0] \", end='', file=of)\n",
    "for i in range(NAdd):\n",
    "    print(\"A{}, \".format(i), end='', file=of)\n",
    "print(file=of)\n",
    "print(\"input signed [IN_WIDTH-1:0] \", end='', file=of)\n",
    "for i in range(NAdd):\n",
    "    print(\"B{}, \".format(i), end='', file=of)\n",
    "print(file=of)\n",
    "if HRR==1:\n",
    "    print(\"output outReady,\", file=of)\n",
    "    NE=NAdd\n",
    "else:\n",
    "    NE = N - NAdd*(HRR-1)\n",
    "    while NE<=0:\n",
    "        NE += NAdd\n",
    "    if NE==1:\n",
    "        print(\"output S0outReady,\", file=of)\n",
    "    else:\n",
    "        print(\"output S0toS{}outReady,\".format(NE-1), file=of)\n",
    "    if NE==NAdd:\n",
    "        print(\"output reg SNoutReady=0, //not used\", file=of)\n",
    "    elif NE==NAdd-1:\n",
    "        print(\"output S{}outReady,\".format(NE), file=of)\n",
    "    else:\n",
    "        print(\"output S{}toS{}outReady,\".format(NE, NAdd-1), file=of)\n",
    "if lghrr==1:\n",
    "    print(\"output reg outSeries = 1,\", file=of)\n",
    "elif lghrr>1:\n",
    "    print(\"output reg [{}:0] outSeries = {},\".format(lghrr-1, HRR-1), file=of)\n",
    "print(\"output signed [IN_WIDTH:0] \", end='', file=of)\n",
    "for i in range(NAdd):\n",
    "    print(\"S{}, \".format(i), end='', file=of)\n",
    "print(file=of)\n",
    "if HRR==1:\n",
    "    print(\"output earlyOutReady\", file=of)\n",
    "else:\n",
    "    if NE==1:\n",
    "        print(\"output S0earlyOutReady,\", file=of)\n",
    "    else:\n",
    "        print(\"output S0toS{}earlyOutReady,\".format(NE-1), file=of)\n",
    "    if NE==NAdd:\n",
    "        print(\"output reg SNearlyOutReady=0 //not used\", file=of)\n",
    "    elif NE==NAdd-1:\n",
    "        print(\"output S{}earlyOutReady\".format(NE), file=of)\n",
    "    else:\n",
    "        print(\"output S{}toS{}earlyOutReady\".format(NE, NAdd-1), file=of)\n",
    "print(\");\\n\", file=of)"
   ]
  },
  {
   "cell_type": "code",
   "execution_count": 16,
   "metadata": {},
   "outputs": [
    {
     "name": "stdout",
     "output_type": "stream",
     "text": [
      "always @(posedge clk) begin\n",
      "\tif(reset) begin\n",
      "\t\treadyForNewDataSeries <= 1;\n",
      "\t\tinSeries <= 0;\n",
      "\tend\n",
      "\telse if(enable) begin\n",
      "\t\tif(inReady) begin\n",
      "\t\t\tif(inSeries==2) begin\n",
      "\t\t\t\treadyForNewDataSeries <= 1;\n",
      "\t\t\t\tinSeries <= 0;\n",
      "\t\t\tend\n",
      "\t\t\telse begin\n",
      "\t\t\t\treadyForNewDataSeries <= 0;\n",
      "\t\t\t\tinSeries <= inSeries+1;\n",
      "\t\t\tend\n",
      "\t\tend\n",
      "\tend\n",
      "end\n",
      "\n"
     ]
    }
   ],
   "source": [
    "if HRR!=1:\n",
    "    print(\"always @(posedge clk) begin\", file=of)\n",
    "    print(\"\\tif(reset) begin\", file=of)\n",
    "    print(\"\\t\\treadyForNewDataSeries <= 1;\", file=of)\n",
    "    print(\"\\t\\tinSeries <= 0;\", file=of)\n",
    "    print(\"\\tend\", file=of)\n",
    "    print(\"\\telse if(enable) begin\", file=of)\n",
    "    print(\"\\t\\tif(inReady) begin\", file=of)\n",
    "    print(\"\\t\\t\\tif(inSeries=={}) begin\".format(HRR-1), file=of)\n",
    "    print(\"\\t\\t\\t\\treadyForNewDataSeries <= 1;\", file=of)\n",
    "    print(\"\\t\\t\\t\\tinSeries <= 0;\", file=of)\n",
    "    print(\"\\t\\t\\tend\", file=of)\n",
    "    print(\"\\t\\t\\telse begin\", file=of)\n",
    "    print(\"\\t\\t\\t\\treadyForNewDataSeries <= 0;\", file=of)\n",
    "    if HRR==2:\n",
    "        print(\"\\t\\t\\t\\tinSeries <= 1;\", file=of)    \n",
    "    else:\n",
    "        print(\"\\t\\t\\t\\tinSeries <= inSeries+1;\", file=of)\n",
    "    print(\"\\t\\t\\tend\", file=of)\n",
    "    print(\"\\t\\tend\", file=of)\n",
    "    print(\"\\tend\", file=of)\n",
    "    print(\"end\", file=of)\n",
    "    print(file=of)"
   ]
  },
  {
   "cell_type": "code",
   "execution_count": 17,
   "metadata": {},
   "outputs": [
    {
     "name": "stdout",
     "output_type": "stream",
     "text": [
      "wire inReadyC = (inSeries!=2) & inReady;\n",
      "\n"
     ]
    }
   ],
   "source": [
    "if NE!=NAdd: #HRR!=1 and \n",
    "    print(\"wire inReadyC = (inSeries!={}) & inReady;\".format(HRR-1), file=of)\n",
    "    print(file=of)"
   ]
  },
  {
   "cell_type": "code",
   "execution_count": 18,
   "metadata": {},
   "outputs": [
    {
     "name": "stdout",
     "output_type": "stream",
     "text": [
      "//(* use_dsp48 = \"yes\" *) //yes, no, AutoMax, Auto\n"
     ]
    }
   ],
   "source": [
    "print(\"\"\"//(* use_dsp48 = \"yes\" *) //yes, no, AutoMax, Auto\"\"\", file=of)"
   ]
  },
  {
   "cell_type": "code",
   "execution_count": 19,
   "metadata": {},
   "outputs": [
    {
     "name": "stdout",
     "output_type": "stream",
     "text": [
      "Registered2to1Adder_IR #(.IN_WIDTH(IN_WIDTH))\n",
      "Add0 (clk, reset, enable,\n",
      "inReady,\n",
      "A0, B0,\n",
      "S0toS7outReady,\n",
      "S0,\n",
      "S0toS7earlyOutReady);\n",
      "\n",
      "Registered2to1Adder_IR #(.IN_WIDTH(IN_WIDTH))\n",
      "Add1 (clk, reset, enable,\n",
      "inReady,\n",
      "A1, B1,\n",
      "aor1, //not used\n",
      "S1,\n",
      "aeor1); //not used\n",
      "\n",
      "Registered2to1Adder_IR #(.IN_WIDTH(IN_WIDTH))\n",
      "Add2 (clk, reset, enable,\n",
      "inReady,\n",
      "A2, B2,\n",
      "aor2, //not used\n",
      "S2,\n",
      "aeor2); //not used\n",
      "\n",
      "Registered2to1Adder_IR #(.IN_WIDTH(IN_WIDTH))\n",
      "Add3 (clk, reset, enable,\n",
      "inReady,\n",
      "A3, B3,\n",
      "aor3, //not used\n",
      "S3,\n",
      "aeor3); //not used\n",
      "\n",
      "Registered2to1Adder_IR #(.IN_WIDTH(IN_WIDTH))\n",
      "Add4 (clk, reset, enable,\n",
      "inReady,\n",
      "A4, B4,\n",
      "aor4, //not used\n",
      "S4,\n",
      "aeor4); //not used\n",
      "\n",
      "Registered2to1Adder_IR #(.IN_WIDTH(IN_WIDTH))\n",
      "Add5 (clk, reset, enable,\n",
      "inReady,\n",
      "A5, B5,\n",
      "aor5, //not used\n",
      "S5,\n",
      "aeor5); //not used\n",
      "\n",
      "Registered2to1Adder_IR #(.IN_WIDTH(IN_WIDTH))\n",
      "Add6 (clk, reset, enable,\n",
      "inReady,\n",
      "A6, B6,\n",
      "aor6, //not used\n",
      "S6,\n",
      "aeor6); //not used\n",
      "\n",
      "Registered2to1Adder_IR #(.IN_WIDTH(IN_WIDTH))\n",
      "Add7 (clk, reset, enable,\n",
      "inReady,\n",
      "A7, B7,\n",
      "aor7, //not used\n",
      "S7,\n",
      "aeor7); //not used\n",
      "\n",
      "Registered2to1Adder_IR #(.IN_WIDTH(IN_WIDTH))\n",
      "Add8 (clk, reset, enable,\n",
      "inReadyC,\n",
      "A8, B8,\n",
      "S8toS10outReady,\n",
      "S8,\n",
      "S8toS10earlyOutReady);\n",
      "\n",
      "Registered2to1Adder_IR #(.IN_WIDTH(IN_WIDTH))\n",
      "Add9 (clk, reset, enable,\n",
      "inReadyC,\n",
      "A9, B9,\n",
      "aor9, //not used\n",
      "S9,\n",
      "aeor9); //not used\n",
      "\n",
      "Registered2to1Adder_IR #(.IN_WIDTH(IN_WIDTH))\n",
      "Add10 (clk, reset, enable,\n",
      "inReadyC,\n",
      "A10, B10,\n",
      "aor10, //not used\n",
      "S10,\n",
      "aeor10); //not used\n",
      "\n"
     ]
    }
   ],
   "source": [
    "if Enable_Input_Registers>0:\n",
    "    print(\"Registered2to1Adder_IR #(.IN_WIDTH(IN_WIDTH))\\nAdd0 (clk, reset, enable,\", file=of)    \n",
    "else:\n",
    "    print(\"Registered2to1Adder_NIR #(.IN_WIDTH(IN_WIDTH))\\nAdd0 (clk, reset, enable,\", file=of)    \n",
    "print(\"inReady,\", file=of)\n",
    "print(\"A0, B0,\", file=of)\n",
    "if HRR==1:\n",
    "    print(\"OutReady,\", file=of)\n",
    "else:\n",
    "    if NE==1:\n",
    "        print(\"S0outReady,\", file=of)\n",
    "    else:\n",
    "        print(\"S0toS{}outReady,\".format(NE-1), file=of)\n",
    "print(\"S0,\", file=of)\n",
    "if HRR==1:\n",
    "    print(\"earlyOutReady);\\n\", file=of)\n",
    "else:\n",
    "    if NE==1:\n",
    "        print(\"S0earlyOutReady);\\n\", file=of)\n",
    "    else:\n",
    "        print(\"S0toS{}earlyOutReady);\\n\".format(NE-1), file=of)\n",
    "for i in range(1, NE):\n",
    "    if Enable_Input_Registers>0:\n",
    "        print(\"Registered2to1Adder_IR #(.IN_WIDTH(IN_WIDTH))\\nAdd{} (clk, reset, enable,\".format(i), file=of)\n",
    "    else:\n",
    "        print(\"Registered2to1Adder_NIR #(.IN_WIDTH(IN_WIDTH))\\nAdd{} (clk, reset, enable,\".format(i), file=of)\n",
    "    print(\"inReady,\", file=of)\n",
    "    print(\"A{}, B{},\".format(i, i), file=of)\n",
    "    print(\"aor{}, //not used\\nS{},\\naeor{}); //not used\\n\".format(i, i, i), file=of)\n",
    "if NE!=NAdd:\n",
    "    if Enable_Input_Registers>0:\n",
    "        print(\"Registered2to1Adder_IR #(.IN_WIDTH(IN_WIDTH))\\nAdd{} (clk, reset, enable,\".format(NE), file=of)\n",
    "    else:\n",
    "        print(\"Registered2to1Adder_NIR #(.IN_WIDTH(IN_WIDTH))\\nAdd{} (clk, reset, enable,\".format(NE), file=of)\n",
    "    print(\"inReadyC,\", file=of)\n",
    "    print(\"A{}, B{},\".format(NE, NE), file=of)\n",
    "    if NE==NAdd-1:\n",
    "        print(\"S{}outReady,\".format(NE), file=of)\n",
    "    else:\n",
    "        print(\"S{}toS{}outReady,\".format(NE, NAdd-1), file=of)\n",
    "    print(\"S{},\".format(NE), file=of)\n",
    "    if NE==NAdd-1:\n",
    "        print(\"S{}earlyOutReady);\\n\".format(NE), file=of)\n",
    "    else:\n",
    "        print(\"S{}toS{}earlyOutReady);\\n\".format(NE, NAdd-1), file=of)    \n",
    "for i in range(NE+1, NAdd):\n",
    "    if Enable_Input_Registers>0:\n",
    "        print(\"Registered2to1Adder_IR #(.IN_WIDTH(IN_WIDTH))\\nAdd{} (clk, reset, enable,\".format(i, i, i, i, i, i), file=of)\n",
    "    else:\n",
    "        print(\"Registered2to1Adder_NIR #(.IN_WIDTH(IN_WIDTH))\\nAdd{} (clk, reset, enable,\".format(i, i, i, i, i, i), file=of)\n",
    "    print(\"inReadyC,\", file=of)\n",
    "    print(\"A{}, B{},\".format(i, i), file=of)\n",
    "    print(\"aor{}, //not used\\nS{},\\naeor{}); //not used\\n\".format(i, i, i), file=of)"
   ]
  },
  {
   "cell_type": "code",
   "execution_count": 20,
   "metadata": {},
   "outputs": [
    {
     "name": "stdout",
     "output_type": "stream",
     "text": [
      "always @(posedge clk) begin\n",
      "\tif(reset) begin\n",
      "\t\toutSeries <= 2;\n",
      "\tend\n",
      "\telse if(enable) begin\n",
      "\t\tif(S0toS7earlyOutReady) begin\n",
      "\t\t\tif(outSeries==2) begin\n",
      "\t\t\t\toutSeries <= 0;\n",
      "\t\t\tend\n",
      "\t\t\telse begin\n",
      "\t\t\t\toutSeries <= outSeries+1;\n",
      "\t\t\tend\n",
      "\t\tend\n",
      "\tend\n",
      "end\n",
      "\n"
     ]
    }
   ],
   "source": [
    "if HRR!=1:\n",
    "    print(\"always @(posedge clk) begin\", file=of)\n",
    "    print(\"\\tif(reset) begin\", file=of)\n",
    "    print(\"\\t\\toutSeries <= {};\".format(HRR-1), file=of)\n",
    "    print(\"\\tend\", file=of)\n",
    "    print(\"\\telse if(enable) begin\", file=of)\n",
    "    if NE==1:\n",
    "        print(\"\\t\\tif(S0earlyOutReady) begin\", file=of)\n",
    "    else:\n",
    "        print(\"\\t\\tif(S0toS{}earlyOutReady) begin\".format(NE-1), file=of)\n",
    "    print(\"\\t\\t\\tif(outSeries=={}) begin\".format(HRR-1), file=of)\n",
    "    print(\"\\t\\t\\t\\toutSeries <= 0;\", file=of)\n",
    "    print(\"\\t\\t\\tend\", file=of)\n",
    "    print(\"\\t\\t\\telse begin\", file=of)\n",
    "    if HRR==2:\n",
    "        print(\"\\t\\t\\t\\toutSeries <= 1;\", file=of)\n",
    "    else:\n",
    "        print(\"\\t\\t\\t\\toutSeries <= outSeries+1;\", file=of)\n",
    "    print(\"\\t\\t\\tend\", file=of)\n",
    "    print(\"\\t\\tend\", file=of)\n",
    "    print(\"\\tend\", file=of)\n",
    "    print(\"end\", file=of)\n",
    "    print(file=of)"
   ]
  },
  {
   "cell_type": "code",
   "execution_count": 21,
   "metadata": {},
   "outputs": [
    {
     "name": "stdout",
     "output_type": "stream",
     "text": [
      "endmodule\n"
     ]
    }
   ],
   "source": [
    "print(\"endmodule\", file=of)"
   ]
  },
  {
   "cell_type": "code",
   "execution_count": 22,
   "metadata": {},
   "outputs": [],
   "source": [
    "if __Print_To_File>0:\n",
    "    of.close()"
   ]
  }
 ],
 "metadata": {
  "kernelspec": {
   "display_name": "Python 3",
   "language": "python",
   "name": "python3"
  },
  "language_info": {
   "codemirror_mode": {
    "name": "ipython",
    "version": 3
   },
   "file_extension": ".py",
   "mimetype": "text/x-python",
   "name": "python",
   "nbconvert_exporter": "python",
   "pygments_lexer": "ipython3",
   "version": "3.6.3"
  }
 },
 "nbformat": 4,
 "nbformat_minor": 1
}
