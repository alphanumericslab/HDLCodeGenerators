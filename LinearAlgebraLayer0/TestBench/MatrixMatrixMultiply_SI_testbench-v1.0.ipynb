{
 "cells": [
  {
   "cell_type": "code",
   "execution_count": 1,
   "metadata": {},
   "outputs": [],
   "source": [
    "#can use verilog internal random functions (and thus not fixing IN_WIDTH)"
   ]
  },
  {
   "cell_type": "code",
   "execution_count": 2,
   "metadata": {},
   "outputs": [],
   "source": [
    "#uses MatrixMatrixMultiply_#M_#N_#Q_#prPR_#pcPC_SI_HRx#hrf_C#mamcs_A#baseAdderSize_(N)IL_(N)CL_(N)RL_(N)MR -v1.2"
   ]
  },
  {
   "cell_type": "code",
   "execution_count": 3,
   "metadata": {},
   "outputs": [],
   "source": [
    "import sys\n",
    "import math\n",
    "import random"
   ]
  },
  {
   "cell_type": "code",
   "execution_count": 4,
   "metadata": {},
   "outputs": [
    {
     "name": "stdout",
     "output_type": "stream",
     "text": [
      "Enter M: 10\n"
     ]
    }
   ],
   "source": [
    "#M>=1\n",
    "M = input('Enter M: ')"
   ]
  },
  {
   "cell_type": "code",
   "execution_count": 5,
   "metadata": {},
   "outputs": [
    {
     "name": "stdout",
     "output_type": "stream",
     "text": [
      "Enter N: 5\n"
     ]
    }
   ],
   "source": [
    "#N>=2\n",
    "N = input('Enter N: ')"
   ]
  },
  {
   "cell_type": "code",
   "execution_count": 6,
   "metadata": {},
   "outputs": [
    {
     "name": "stdout",
     "output_type": "stream",
     "text": [
      "Enter Q: 9\n"
     ]
    }
   ],
   "source": [
    "#Q>=1\n",
    "Q = input('Enter Q: ')"
   ]
  },
  {
   "cell_type": "code",
   "execution_count": 7,
   "metadata": {},
   "outputs": [
    {
     "name": "stdout",
     "output_type": "stream",
     "text": [
      "Enter No Of Parallel Row (empty for 1): 9\n"
     ]
    }
   ],
   "source": [
    "#>=1, <=M\n",
    "PR = input('Enter No Of Parallel Row (empty for 1): ')"
   ]
  },
  {
   "cell_type": "code",
   "execution_count": 8,
   "metadata": {},
   "outputs": [
    {
     "name": "stdout",
     "output_type": "stream",
     "text": [
      "Enter No Of Parallel Column (empty for 1): 4\n"
     ]
    }
   ],
   "source": [
    "#>=1, <=Q\n",
    "PC = input('Enter No Of Parallel Column (empty for 1): ')"
   ]
  },
  {
   "cell_type": "code",
   "execution_count": 9,
   "metadata": {},
   "outputs": [],
   "source": [
    "M = int(M)\n",
    "if M<1:\n",
    "    M = 1\n",
    "\n",
    "N = int(N)\n",
    "if N<2:\n",
    "    N = 2\n",
    "\n",
    "Q = int(Q)\n",
    "if Q<1:\n",
    "    Q = 1\n",
    "\n",
    "if not PR:\n",
    "    PR = 1\n",
    "else:\n",
    "    PR = int(PR)\n",
    "    if PR>M:\n",
    "        PR = M\n",
    "\n",
    "if not PC:\n",
    "    PC = 1\n",
    "else:\n",
    "    PC = int(PC)\n",
    "    if PC>Q:\n",
    "        PC = Q"
   ]
  },
  {
   "cell_type": "code",
   "execution_count": 10,
   "metadata": {},
   "outputs": [
    {
     "name": "stdout",
     "output_type": "stream",
     "text": [
      "Enter HRR Upper Limit (>=2, <=5, empty for 2, not all HRR values are acceptable): 2\n"
     ]
    }
   ],
   "source": [
    "#HRR>=2\n",
    "HRR = input('Enter HRR Upper Limit (>=2, <={}, empty for 2, not all HRR values are acceptable): '.format(N))"
   ]
  },
  {
   "cell_type": "code",
   "execution_count": 11,
   "metadata": {},
   "outputs": [
    {
     "name": "stdout",
     "output_type": "stream",
     "text": [
      "HRR calculated value: 2\n"
     ]
    }
   ],
   "source": [
    "if not HRR:\n",
    "    HRR = 2\n",
    "else:\n",
    "    HRR = int(HRR)\n",
    "    if HRR<2:\n",
    "        HRR = 2\n",
    "    if HRR>N:\n",
    "        HRR = N\n",
    "\n",
    "NMult = math.ceil(N/HRR)\n",
    "#print(\"NMult: {}\".format(NMult))\n",
    "\n",
    "while math.ceil(N/NMult) != HRR:\n",
    "    HRR -= 1\n",
    "print(\"HRR calculated value: {}\".format(HRR))"
   ]
  },
  {
   "cell_type": "code",
   "execution_count": 12,
   "metadata": {},
   "outputs": [
    {
     "name": "stdout",
     "output_type": "stream",
     "text": [
      "Enter Multiply-Add Max Component Size (empty for 3): 1\n"
     ]
    }
   ],
   "source": [
    "#MAMCS>=1\n",
    "MAMCS = input('Enter Multiply-Add Max Component Size (empty for {}): '.format(NMult))"
   ]
  },
  {
   "cell_type": "code",
   "execution_count": 13,
   "metadata": {},
   "outputs": [],
   "source": [
    "if not MAMCS:\n",
    "    MAMCS = NMult\n",
    "else:\n",
    "    MAMCS = int(MAMCS)\n",
    "    if MAMCS>NMult:\n",
    "        MAMCS = NMult\n",
    "    elif MAMCS<1:\n",
    "        MAMCS = 1"
   ]
  },
  {
   "cell_type": "code",
   "execution_count": 14,
   "metadata": {},
   "outputs": [
    {
     "name": "stdout",
     "output_type": "stream",
     "text": [
      "Enter maximum size allowed for base adders (empty for 2): 2\n"
     ]
    }
   ],
   "source": [
    "#AdderSize>=2\n",
    "if MAMCS<NMult:\n",
    "    AdderSize = input('Enter maximum size allowed for base adders (empty for 2): ')"
   ]
  },
  {
   "cell_type": "code",
   "execution_count": 15,
   "metadata": {},
   "outputs": [
    {
     "name": "stdout",
     "output_type": "stream",
     "text": [
      "Enable Input Latch? (empty or 0 to disable, 1 to enable): 0\n"
     ]
    }
   ],
   "source": [
    "Enable_Input_Latch = input('Enable Input Latch? (empty or 0 to disable, 1 to enable): ')"
   ]
  },
  {
   "cell_type": "code",
   "execution_count": 16,
   "metadata": {},
   "outputs": [],
   "source": [
    "RS = math.ceil(M/PR)"
   ]
  },
  {
   "cell_type": "code",
   "execution_count": 17,
   "metadata": {},
   "outputs": [
    {
     "name": "stdout",
     "output_type": "stream",
     "text": [
      "Enable Column Latch? (empty or 0 to disable, 1 to enable): 1\n"
     ]
    }
   ],
   "source": [
    "if RS>1:\n",
    "    Enable_Column_Latch = input('Enable Column Latch? (empty or 0 to disable, 1 to enable): ')"
   ]
  },
  {
   "cell_type": "code",
   "execution_count": 18,
   "metadata": {},
   "outputs": [],
   "source": [
    "CS = math.ceil(Q/PC)"
   ]
  },
  {
   "cell_type": "code",
   "execution_count": 19,
   "metadata": {},
   "outputs": [
    {
     "name": "stdout",
     "output_type": "stream",
     "text": [
      "Enable Row Latch? (empty or 0 to disable, 1 to enable): 0\n"
     ]
    }
   ],
   "source": [
    "if CS>1:\n",
    "    Enable_Row_Latch = input('Enable Row Latch? (empty or 0 to disable, 1 to enable): ')"
   ]
  },
  {
   "cell_type": "code",
   "execution_count": 20,
   "metadata": {},
   "outputs": [
    {
     "name": "stdout",
     "output_type": "stream",
     "text": [
      "Enable SI Mux Output Registers? (empty or 0 to disable, 1 to enable): 0\n"
     ]
    }
   ],
   "source": [
    "Enable_SIM_Output_Registers = input('Enable SI Mux Output Registers? (empty or 0 to disable, 1 to enable): ')"
   ]
  },
  {
   "cell_type": "code",
   "execution_count": 21,
   "metadata": {},
   "outputs": [
    {
     "name": "stdout",
     "output_type": "stream",
     "text": [
      "Enable Extra Data Simulation Mode? (empty or 1 to enable, 0 to disable): 1\n"
     ]
    }
   ],
   "source": [
    "#if IL is enabled, can generate extra random data between #hrr times (to show they are ignored correctly)\n",
    "#if CL or RL is enabled, can generate extra data for rows and columns indicated by [] (to show they are ignored correctly)\n",
    "Enable_Extra_Data = input('Enable Extra Data Simulation Mode? (empty or 1 to enable, 0 to disable): ')"
   ]
  },
  {
   "cell_type": "code",
   "execution_count": 22,
   "metadata": {},
   "outputs": [
    {
     "name": "stdout",
     "output_type": "stream",
     "text": [
      "Enter IN_WIDTH (empty for 10): 18\n"
     ]
    }
   ],
   "source": [
    "#IN_WIDTH>=1\n",
    "IN_WIDTH = input('Enter IN_WIDTH (empty for 10): ')"
   ]
  },
  {
   "cell_type": "code",
   "execution_count": 23,
   "metadata": {},
   "outputs": [
    {
     "name": "stdout",
     "output_type": "stream",
     "text": [
      "Enter INPUT_REG_DEPTH default value (empty for 1): 1\n"
     ]
    }
   ],
   "source": [
    "#INPUT_REG_DEPTH>=0\n",
    "INPUT_REG_DEPTH = input('Enter INPUT_REG_DEPTH default value (empty for 1): ')"
   ]
  },
  {
   "cell_type": "code",
   "execution_count": 24,
   "metadata": {},
   "outputs": [
    {
     "name": "stdout",
     "output_type": "stream",
     "text": [
      "Enter MULT_PIPE_DEPTH default value (empty for 1): 1\n"
     ]
    }
   ],
   "source": [
    "#MULT_PIPE_DEPTH>=0\n",
    "MULT_PIPE_DEPTH = input('Enter MULT_PIPE_DEPTH default value (empty for 1): ')"
   ]
  },
  {
   "cell_type": "code",
   "execution_count": 25,
   "metadata": {},
   "outputs": [],
   "source": [
    "NumOfComponents = math.ceil(NMult/MAMCS)\n",
    "if MAMCS==NMult:\n",
    "    AdderSize = 0\n",
    "else:\n",
    "    if not AdderSize:\n",
    "        AdderSize = 2\n",
    "    else:\n",
    "        AdderSize = int(AdderSize)\n",
    "        if AdderSize<2:\n",
    "            AdderSize = 2\n",
    "        if AdderSize>NumOfComponents:\n",
    "            AdderSize = NumOfComponents\n",
    "            \n",
    "if not Enable_Input_Latch:\n",
    "    Enable_Input_Latch = 0\n",
    "else:\n",
    "    Enable_Input_Latch = int(Enable_Input_Latch)\n",
    "\n",
    "if RS==1:\n",
    "    Enable_Column_Latch = 0\n",
    "else:\n",
    "    if not Enable_Column_Latch:\n",
    "        Enable_Column_Latch = 0\n",
    "    else:\n",
    "        Enable_Column_Latch = int(Enable_Column_Latch)\n",
    "\n",
    "if CS==1:\n",
    "    Enable_Row_Latch = 0\n",
    "else:\n",
    "    if not Enable_Row_Latch:\n",
    "        Enable_Row_Latch = 0\n",
    "    else:\n",
    "        Enable_Row_Latch = int(Enable_Row_Latch)\n",
    "\n",
    "if not Enable_SIM_Output_Registers:\n",
    "    Enable_SIM_Output_Registers = 0\n",
    "else:\n",
    "    Enable_SIM_Output_Registers = int(Enable_SIM_Output_Registers)\n",
    "    \n",
    "if not Enable_Extra_Data:\n",
    "    Enable_Extra_Data = 1\n",
    "else:\n",
    "    Enable_Extra_Data = int(Enable_Extra_Data)\n",
    "\n",
    "if not IN_WIDTH:\n",
    "    IN_WIDTH = 10\n",
    "else:\n",
    "    IN_WIDTH = int(IN_WIDTH)\n",
    "    if IN_WIDTH<1:\n",
    "        IN_WIDTH = 1\n",
    "\n",
    "if not INPUT_REG_DEPTH:\n",
    "    INPUT_REG_DEPTH = 1\n",
    "else:\n",
    "    INPUT_REG_DEPTH = int(INPUT_REG_DEPTH)\n",
    "    if INPUT_REG_DEPTH<0:\n",
    "        INPUT_REG_DEPTH = 0\n",
    "\n",
    "if not MULT_PIPE_DEPTH:\n",
    "    MULT_PIPE_DEPTH=1\n",
    "else:\n",
    "    MULT_PIPE_DEPTH = int(MULT_PIPE_DEPTH)\n",
    "    if MULT_PIPE_DEPTH<0:\n",
    "        MULT_PIPE_DEPTH = 0"
   ]
  },
  {
   "cell_type": "code",
   "execution_count": 43,
   "metadata": {},
   "outputs": [],
   "source": [
    "ModuleName = \"MatrixMatrixMultiply_{}_{}_{}_{}PR_{}PC_SI_HRx{}_C{}_A{}_\".format(M, N, Q, PR, PC, HRR, MAMCS, AdderSize)\n",
    "if Enable_Input_Latch<=0:\n",
    "    ModuleName += \"N\"\n",
    "ModuleName += \"IL_\"\n",
    "if Enable_Column_Latch<=0:\n",
    "    ModuleName += \"N\"\n",
    "ModuleName += \"CL_\"\n",
    "if Enable_Row_Latch<=0:\n",
    "    ModuleName += \"N\"        \n",
    "ModuleName += \"RL_\"\n",
    "if Enable_SIM_Output_Registers<=0:\n",
    "    ModuleName += \"N\"\n",
    "ModuleName += \"MR\"\n",
    "UUTModuleName = ModuleName\n",
    "ModuleName += \"_test_IW{}\".format(IN_WIDTH)"
   ]
  },
  {
   "cell_type": "code",
   "execution_count": 44,
   "metadata": {},
   "outputs": [],
   "source": [
    "__Print_To_File = 0\n",
    "\n",
    "if __Print_To_File<=0:\n",
    "    of = sys.stdout\n",
    "else:\n",
    "    of = open(\"./\"+ModuleName+\".v\", 'w+')"
   ]
  },
  {
   "cell_type": "code",
   "execution_count": 45,
   "metadata": {
    "scrolled": true
   },
   "outputs": [
    {
     "name": "stdout",
     "output_type": "stream",
     "text": [
      "`timescale 1ns / 500ps\n",
      "\n",
      "module MatrixMatrixMultiply_10_5_9_9PR_4PC_SI_HRx2_C1_A2_NIL_CL_NRL_NMR_test_IW18\n",
      "#(parameter\n",
      "INPUT_REG_DEPTH = 1,\n",
      "MULT_PIPE_DEPTH = 1\n",
      ");\n",
      "//IN_WIDTH fixed to 18\n",
      "\n"
     ]
    }
   ],
   "source": [
    "print(\"`timescale 1ns / 500ps\\n\", file=of)\n",
    "print(\"module \"+ModuleName, file=of)\n",
    "print(\"#(parameter\", file=of)\n",
    "print(\"INPUT_REG_DEPTH = {},\".format(INPUT_REG_DEPTH), file=of)\n",
    "print(\"MULT_PIPE_DEPTH = {}\".format(MULT_PIPE_DEPTH), file=of)\n",
    "print(\");\", file=of)\n",
    "print(\"//IN_WIDTH fixed to {}\".format(IN_WIDTH), file=of)\n",
    "print(file=of)"
   ]
  },
  {
   "cell_type": "code",
   "execution_count": 46,
   "metadata": {},
   "outputs": [
    {
     "name": "stdout",
     "output_type": "stream",
     "text": [
      "reg clk, reset, enable;\n",
      "wire newInSeriesStart;\n",
      "wire inSeries;\n",
      "wire rowSetInNo;\n",
      "wire [1:0] columnSetInNo;\n",
      "reg inReady;\n",
      "reg signed [17:0] AE0R0, AE1R0, AE2R0, AE3R0, AE4R0,\n",
      "AE0R1, AE1R1, AE2R1, AE3R1, AE4R1,\n",
      "AE0R2, AE1R2, AE2R2, AE3R2, AE4R2,\n",
      "AE0R3, AE1R3, AE2R3, AE3R3, AE4R3,\n",
      "AE0R4, AE1R4, AE2R4, AE3R4, AE4R4,\n",
      "AE0R5, AE1R5, AE2R5, AE3R5, AE4R5,\n",
      "AE0R6, AE1R6, AE2R6, AE3R6, AE4R6,\n",
      "AE0R7, AE1R7, AE2R7, AE3R7, AE4R7,\n",
      "AE0R8, AE1R8, AE2R8, AE3R8, AE4R8;\n",
      "reg signed [17:0] BE0C0, BE1C0, BE2C0, BE3C0, BE4C0,\n",
      "BE0C1, BE1C1, BE2C1, BE3C1, BE4C1,\n",
      "BE0C2, BE1C2, BE2C2, BE3C2, BE4C2,\n",
      "BE0C3, BE1C3, BE2C3, BE3C3, BE4C3;\n",
      "wire C0R0EReady;\n",
      "wire C0R1toR8EReady;\n",
      "wire C1toC3R0EReady;\n",
      "wire C1toC3R1toR8EReady;\n",
      "wire rowSetOutNo;\n",
      "wire [1:0] columnSetOutNo;\n",
      "wire signed [38:0] EC0R0, EC0R1, EC0R2, EC0R3, EC0R4, EC0R5, EC0R6, EC0R7, EC0R8,\n",
      "EC1R0, EC1R1, EC1R2, EC1R3, EC1R4, EC1R5, EC1R6, EC1R7, EC1R8,\n",
      "EC2R0, EC2R1, EC2R2, EC2R3, EC2R4, EC2R5, EC2R6, EC2R7, EC2R8,\n",
      "EC3R0, EC3R1, EC3R2, EC3R3, EC3R4, EC3R5, EC3R6, EC3R7, EC3R8;\n",
      "wire earlyC0R0EReady;\n",
      "wire earlyC0R1toR8EReady;\n",
      "wire earlyC1toC3R0EReady;\n",
      "wire earlyC1toC3R1toR8EReady;\n",
      "\n"
     ]
    }
   ],
   "source": [
    "print(\"reg clk, reset, enable;\", file=of)\n",
    "print(\"wire newInSeriesStart;\", file=of)\n",
    "lghrr=math.ceil(math.log2(HRR))\n",
    "print(\"wire \", end='', file=of)\n",
    "if lghrr==1:\n",
    "    print(\"inSeries;\", file=of)\n",
    "elif lghrr>1:\n",
    "    print(\"[{}:0] inSeries;\".format(lghrr-1), file=of)\n",
    "lgRS=math.ceil(math.log2(RS))\n",
    "print(\"wire \", end='', file=of)\n",
    "if lgRS<=1:\n",
    "    print(\"rowSetInNo;\", file=of)\n",
    "else:\n",
    "    print(\"[{}:0] rowSetInNo;\".format(lgRS-1), file=of)\n",
    "lgCS=math.ceil(math.log2(CS))\n",
    "print(\"wire \", end='', file=of)\n",
    "if lgCS<=1:\n",
    "    print(\"columnSetInNo;\", file=of)\n",
    "else:\n",
    "    print(\"[{}:0] columnSetInNo;\".format(lgCS-1), file=of)\n",
    "print(\"reg inReady;\", file=of)\n",
    "print(\"reg signed [{}:0] \".format(IN_WIDTH-1), end='', file=of)\n",
    "for i in range(PR):\n",
    "    for j in range(N):\n",
    "        print(\"AE{}R{}\".format(j, i), end='', file=of)\n",
    "        if i==(PR-1) and j==(N-1):\n",
    "            print(\";\", file=of)\n",
    "        elif j!=(N-1):\n",
    "            print(\", \", end='', file=of)            \n",
    "        else:\n",
    "            print(\",\", file=of)\n",
    "#         print(\"AE{}R{}\".format(j, i), end='', file=of)\n",
    "#         if i!=(PR-1) or j!=(N-1):\n",
    "#             print(\", \", end='', file=of)\n",
    "# print(\";\", file=of)\n",
    "print(\"reg signed [{}:0] \".format(IN_WIDTH-1), end='', file=of)\n",
    "for i in range(PC):\n",
    "    for j in range(N):\n",
    "        print(\"BE{}C{}\".format(j, i), end='', file=of)\n",
    "        if i==(PC-1) and j==(N-1):\n",
    "            print(\";\", file=of)\n",
    "        elif j!=(N-1):\n",
    "            print(\", \", end='', file=of)            \n",
    "        else:\n",
    "            print(\",\", file=of)\n",
    "ac=CS*PC-Q\n",
    "QE = PC-ac-1\n",
    "if QE==0:\n",
    "    stc1=\"C0\"\n",
    "else:\n",
    "    stc1=\"C0toC{}\".format(QE)\n",
    "if QE==(PC-2):\n",
    "    stc2=\"C{}\".format(PC-1)\n",
    "else:\n",
    "    stc2=\"C{}toC{}\".format(QE+1, PC-1)\n",
    "ar=RS*PR-M\n",
    "ME = PR-ar-1\n",
    "if ME==0:\n",
    "    str1=\"R0\"\n",
    "else:\n",
    "    str1=\"R0toR{}\".format(ME)\n",
    "if ME==(PR-2):\n",
    "    str2=\"R{}\".format(PR-1)\n",
    "else:\n",
    "    str2=\"R{}toR{}\".format(ME+1, PR-1)\n",
    "print(\"wire \"+stc1+str1+\"EReady;\", file=of)\n",
    "if ar!=0:\n",
    "    print(\"wire \"+stc1+str2+\"EReady;\", file=of)\n",
    "else:\n",
    "    print(\"wire NUEReady1; //not used\", file=of)\n",
    "if ac!=0:\n",
    "    print(\"wire \"+stc2+str1+\"EReady;\", file=of)\n",
    "    if ar!=0:\n",
    "        print(\"wire \"+stc2+str2+\"EReady;\", file=of)\n",
    "    else:\n",
    "        print(\"wire NUEReady2; //not used\", file=of)\n",
    "else:\n",
    "    print(\"wire NUEReady2; //not used\", file=of)\n",
    "    print(\"wire NUEReady3; //not used\", file=of)\n",
    "if lgRS<=1:\n",
    "    print(\"wire rowSetOutNo;\", file=of)\n",
    "else:\n",
    "    print(\"wire [{}:0] rowSetOutNo;\".format(lgRS-1), file=of)\n",
    "if lgCS<=1:\n",
    "    print(\"wire columnSetOutNo;\", file=of)\n",
    "else:\n",
    "    print(\"wire [{}:0] columnSetOutNo;\".format(lgCS-1), file=of)\n",
    "lgN=math.ceil(math.log2(N))\n",
    "OUT_WIDTH=2*IN_WIDTH+lgN\n",
    "#al=-1+lgN\n",
    "print(\"wire signed [{}:0] \".format(OUT_WIDTH-1), end='',file=of)\n",
    "for i in range(PC):\n",
    "    for j in range(PR):\n",
    "        print(\"EC{}R{}\".format(i, j), end='',file=of)\n",
    "        if i==(PC-1) and j==(PR-1):\n",
    "            print(\";\", file=of)\n",
    "        elif j!=(PR-1):\n",
    "            print(\", \", end='', file=of)            \n",
    "        else:\n",
    "            print(\",\", file=of)\n",
    "print(\"wire early\"+stc1+str1+\"EReady;\", file=of)\n",
    "if ar!=0:\n",
    "    print(\"wire early\"+stc1+str2+\"EReady;\", file=of)\n",
    "else:\n",
    "    print(\"wire NUeEReady1; //not used\", file=of)\n",
    "if ac!=0:\n",
    "    print(\"wire early\"+stc2+str1+\"EReady;\", file=of)\n",
    "    if ar!=0:\n",
    "        print(\"wire early\"+stc2+str2+\"EReady;\", file=of)\n",
    "    else:\n",
    "        print(\"wire NUeEReady2; //not used\", file=of)\n",
    "else:\n",
    "    print(\"wire NUeEReady2; //not used\", file=of)\n",
    "    print(\"wire NUeEReady3; //not used\", file=of)\n",
    "print(file=of)"
   ]
  },
  {
   "cell_type": "code",
   "execution_count": 47,
   "metadata": {},
   "outputs": [
    {
     "name": "stdout",
     "output_type": "stream",
     "text": [
      "MatrixMatrixMultiply_10_5_9_9PR_4PC_SI_HRx2_C1_A2_NIL_CL_NRL_NMR\n",
      "#(18, INPUT_REG_DEPTH, MULT_PIPE_DEPTH)\n",
      "UUT(\n",
      "clk, reset, enable,\n",
      "newInSeriesStart,\n",
      "inSeries,\n",
      "rowSetInNo,\n",
      "columnSetInNo,\n",
      "inReady,\n",
      "AE0R0, AE1R0, AE2R0, AE3R0, AE4R0, \n",
      "AE0R1, AE1R1, AE2R1, AE3R1, AE4R1, \n",
      "AE0R2, AE1R2, AE2R2, AE3R2, AE4R2, \n",
      "AE0R3, AE1R3, AE2R3, AE3R3, AE4R3, \n",
      "AE0R4, AE1R4, AE2R4, AE3R4, AE4R4, \n",
      "AE0R5, AE1R5, AE2R5, AE3R5, AE4R5, \n",
      "AE0R6, AE1R6, AE2R6, AE3R6, AE4R6, \n",
      "AE0R7, AE1R7, AE2R7, AE3R7, AE4R7, \n",
      "AE0R8, AE1R8, AE2R8, AE3R8, AE4R8, \n",
      "BE0C0, BE1C0, BE2C0, BE3C0, BE4C0, \n",
      "BE0C1, BE1C1, BE2C1, BE3C1, BE4C1, \n",
      "BE0C2, BE1C2, BE2C2, BE3C2, BE4C2, \n",
      "BE0C3, BE1C3, BE2C3, BE3C3, BE4C3, \n",
      "C0R0EReady,\n",
      "C0R1toR8EReady,\n",
      "C1toC3R0EReady,\n",
      "C1toC3R1toR8EReady,\n",
      "rowSetOutNo,\n",
      "columnSetOutNo,\n",
      "EC0R0, EC0R1, EC0R2, EC0R3, EC0R4, EC0R5, EC0R6, EC0R7, EC0R8, \n",
      "EC1R0, EC1R1, EC1R2, EC1R3, EC1R4, EC1R5, EC1R6, EC1R7, EC1R8, \n",
      "EC2R0, EC2R1, EC2R2, EC2R3, EC2R4, EC2R5, EC2R6, EC2R7, EC2R8, \n",
      "EC3R0, EC3R1, EC3R2, EC3R3, EC3R4, EC3R5, EC3R6, EC3R7, EC3R8, \n",
      "earlyC0R0EReady,\n",
      "earlyC0R1toR8EReady,\n",
      "earlyC1toC3R0EReady,\n",
      "earlyC1toC3R1toR8EReady\n",
      ");\n",
      "\n"
     ]
    }
   ],
   "source": [
    "print(UUTModuleName, file=of)\n",
    "print(\"#({}, INPUT_REG_DEPTH, MULT_PIPE_DEPTH)\".format(IN_WIDTH), file=of)\n",
    "print(\"UUT(\", file=of)\n",
    "\n",
    "print(\"clk, reset, enable,\", file=of)\n",
    "print(\"newInSeriesStart,\", file=of)\n",
    "print(\"inSeries,\", file=of)\n",
    "print(\"rowSetInNo,\", file=of)\n",
    "print(\"columnSetInNo,\", file=of)\n",
    "print(\"inReady,\", file=of)\n",
    "for i in range(PR):\n",
    "    for j in range(N):\n",
    "        print(\"AE{}R{}, \".format(j, i), end='', file=of)\n",
    "    print(file=of)\n",
    "for i in range(PC):\n",
    "    for j in range(N):\n",
    "        print(\"BE{}C{}, \".format(j, i), end='', file=of)\n",
    "    print(file=of)\n",
    "print(stc1+str1+\"EReady,\", file=of)\n",
    "if ar!=0:\n",
    "    print(stc1+str2+\"EReady,\", file=of)\n",
    "else:\n",
    "    print(\"NUEReady1, //not used\", file=of)\n",
    "if ac!=0:\n",
    "    print(stc2+str1+\"EReady,\", file=of)\n",
    "    if ar!=0:\n",
    "        print(stc2+str2+\"EReady,\", file=of)\n",
    "    else:\n",
    "        print(\"NUEReady2, //not used\", file=of)\n",
    "else:\n",
    "    print(\"NUEReady2, //not used\", file=of)\n",
    "    print(\"NUEReady3, //not used\", file=of)\n",
    "print(\"rowSetOutNo,\", file=of)\n",
    "print(\"columnSetOutNo,\", file=of)\n",
    "for i in range(PC):\n",
    "    for j in range(PR):\n",
    "        print(\"EC{}R{}, \".format(i, j), end='',file=of)\n",
    "    print(file=of)\n",
    "print(\"early\"+stc1+str1+\"EReady,\", file=of)\n",
    "if ar!=0:\n",
    "    print(\"early\"+stc1+str2+\"EReady,\", file=of)\n",
    "else:\n",
    "    print(\"NUeEReady1, //not used\", file=of)\n",
    "if ac!=0:\n",
    "    print(\"early\"+stc2+str1+\"EReady,\", file=of)\n",
    "    if ar!=0:\n",
    "        print(\"early\"+stc2+str2+\"EReady\", file=of)\n",
    "    else:\n",
    "        print(\"NUeEReady2 //not used\", file=of)\n",
    "else:\n",
    "    print(\"NUeEReady2, //not used\", file=of)\n",
    "    print(\"NUeEReady3 //not used\", file=of)\n",
    "print(\");\\n\", file=of)"
   ]
  },
  {
   "cell_type": "code",
   "execution_count": 48,
   "metadata": {},
   "outputs": [],
   "source": [
    "InputRangeStart = -2**(IN_WIDTH-1)\n",
    "InputRangeEnd = 2**(IN_WIDTH-1)\n",
    "matrix_MN = [[random.randrange(InputRangeStart, InputRangeEnd) for nn in range(N)] for jj in range(M)]\n",
    "matrix_NQ = [[random.randrange(InputRangeStart, InputRangeEnd) for ii in range(Q)] for nn in range(N)]"
   ]
  },
  {
   "cell_type": "code",
   "execution_count": 49,
   "metadata": {},
   "outputs": [],
   "source": [
    "# print(matrix_MN)\n",
    "# print(matrix_NQ)"
   ]
  },
  {
   "cell_type": "code",
   "execution_count": 50,
   "metadata": {},
   "outputs": [],
   "source": [
    "matrix_MQ = [[0 for ii in range(Q)] for jj in range(M)]\n",
    "for jj in range(M):\n",
    "    for ii in range(Q):\n",
    "        res=0\n",
    "        for nn in range(N):\n",
    "            res += matrix_MN[jj][nn]*matrix_NQ[nn][ii]\n",
    "        matrix_MQ[jj][ii]=res\n",
    "# print(matrix_MQ)"
   ]
  },
  {
   "cell_type": "code",
   "execution_count": 51,
   "metadata": {
    "scrolled": false
   },
   "outputs": [
    {
     "name": "stdout",
     "output_type": "stream",
     "text": [
      "initial begin\n",
      "\tclk = 1;\n",
      "\treset <= 0;\n",
      "\tenable <= 1;\n",
      "\tinReady <= 1;\n",
      "\t//R 0 1 2 3 4 5 6 7 8, C 0 1 2 3\n",
      "\tAE0R0 <= -18'd40509;\n",
      "\tAE1R0 <= 18'd86961;\n",
      "\tAE2R0 <= 18'd8328;\n",
      "\tAE3R0 <= -18'd124290;\n",
      "\tAE4R0 <= 18'd3715;\n",
      "\tAE0R1 <= 18'd125900;\n",
      "\tAE1R1 <= 18'd85613;\n",
      "\tAE2R1 <= 18'd79001;\n",
      "\tAE3R1 <= -18'd95278;\n",
      "\tAE4R1 <= -18'd45857;\n",
      "\tAE0R2 <= -18'd21603;\n",
      "\tAE1R2 <= 18'd51153;\n",
      "\tAE2R2 <= -18'd115211;\n",
      "\tAE3R2 <= -18'd70894;\n",
      "\tAE4R2 <= -18'd98427;\n",
      "\tAE0R3 <= 18'd66949;\n",
      "\tAE1R3 <= -18'd28055;\n",
      "\tAE2R3 <= 18'd31592;\n",
      "\tAE3R3 <= -18'd45723;\n",
      "\tAE4R3 <= 18'd128466;\n",
      "\tAE0R4 <= 18'd119812;\n",
      "\tAE1R4 <= -18'd70415;\n",
      "\tAE2R4 <= -18'd32314;\n",
      "\tAE3R4 <= 18'd83339;\n",
      "\tAE4R4 <= -18'd78565;\n",
      "\tAE0R5 <= 18'd45635;\n",
      "\tAE1R5 <= 18'd35319;\n",
      "\tAE2R5 <= -18'd9020;\n",
      "\tAE3R5 <= 18'd63645;\n",
      "\tAE4R5 <= 18'd110238;\n",
      "\tAE0R6 <= -18'd5138;\n",
      "\tAE1R6 <= 18'd114599;\n",
      "\tAE2R6 <= -18'd102638;\n",
      "\tAE3R6 <= -18'd13496;\n",
      "\tAE4R6 <= 18'd34874;\n",
      "\tAE0R7 <= -18'd72622;\n",
      "\tAE1R7 <= 18'd56666;\n",
      "\tAE2R7 <= 18'd44221;\n",
      "\tAE3R7 <= -18'd43046;\n",
      "\tAE4R7 <= -18'd6232;\n",
      "\tAE0R8 <= 18'd12351;\n",
      "\tAE1R8 <= -18'd7335;\n",
      "\tAE2R8 <= 18'd117013;\n",
      "\tAE3R8 <= -18'd37474;\n",
      "\tAE4R8 <= 18'd77508;\n",
      "\tBE0C0 <= -18'd116191;\n",
      "\tBE1C0 <= 18'd66794;\n",
      "\tBE2C0 <= 18'd21395;\n",
      "\tBE3C0 <= -18'd86037;\n",
      "\tBE4C0 <= -18'd90205;\n",
      "\tBE0C1 <= -18'd101156;\n",
      "\tBE1C1 <= -18'd81354;\n",
      "\tBE2C1 <= -18'd107490;\n",
      "\tBE3C1 <= -18'd67639;\n",
      "\tBE4C1 <= -18'd128158;\n",
      "\tBE0C2 <= -18'd865;\n",
      "\tBE1C2 <= -18'd88891;\n",
      "\tBE2C2 <= -18'd1523;\n",
      "\tBE3C2 <= 18'd43030;\n",
      "\tBE4C2 <= 18'd26660;\n",
      "\tBE0C3 <= 18'd37430;\n",
      "\tBE1C3 <= 18'd85747;\n",
      "\tBE2C3 <= -18'd62295;\n",
      "\tBE3C3 <= -18'd73545;\n",
      "\tBE4C3 <= -18'd110918;\n",
      "\t#2;\n",
      "\t//R 9, [C 0 1 2 3]\n",
      "\tAE0R0 <= -18'd11396;\n",
      "\tAE1R0 <= -18'd3505;\n",
      "\tAE2R0 <= -18'd92824;\n",
      "\tAE3R0 <= -18'd41042;\n",
      "\tAE4R0 <= -18'd14475;\n",
      "\t//Extra Data:\n",
      "\tBE0C0 <= -18'd7225;\n",
      "\tBE1C0 <= 18'd79112;\n",
      "\tBE2C0 <= 18'd24047;\n",
      "\tBE3C0 <= 18'd73198;\n",
      "\tBE4C0 <= 18'd62389;\n",
      "\tBE0C1 <= -18'd84765;\n",
      "\tBE1C1 <= -18'd1032;\n",
      "\tBE2C1 <= 18'd19565;\n",
      "\tBE3C1 <= 18'd26365;\n",
      "\tBE4C1 <= 18'd8231;\n",
      "\tBE0C2 <= -18'd40671;\n",
      "\tBE1C2 <= -18'd26091;\n",
      "\tBE2C2 <= -18'd1083;\n",
      "\tBE3C2 <= 18'd33793;\n",
      "\tBE4C2 <= -18'd98202;\n",
      "\tBE0C3 <= -18'd86783;\n",
      "\tBE1C3 <= 18'd8700;\n",
      "\tBE2C3 <= -18'd56410;\n",
      "\tBE3C3 <= -18'd129598;\n",
      "\tBE4C3 <= 18'd94299;\n",
      "\t#2;\n",
      "\t//R 0 1 2 3 4 5 6 7 8, C 4 5 6 7\n",
      "\tAE0R0 <= -18'd40509;\n",
      "\tAE1R0 <= 18'd86961;\n",
      "\tAE2R0 <= 18'd8328;\n",
      "\tAE3R0 <= -18'd124290;\n",
      "\tAE4R0 <= 18'd3715;\n",
      "\tAE0R1 <= 18'd125900;\n",
      "\tAE1R1 <= 18'd85613;\n",
      "\tAE2R1 <= 18'd79001;\n",
      "\tAE3R1 <= -18'd95278;\n",
      "\tAE4R1 <= -18'd45857;\n",
      "\tAE0R2 <= -18'd21603;\n",
      "\tAE1R2 <= 18'd51153;\n",
      "\tAE2R2 <= -18'd115211;\n",
      "\tAE3R2 <= -18'd70894;\n",
      "\tAE4R2 <= -18'd98427;\n",
      "\tAE0R3 <= 18'd66949;\n",
      "\tAE1R3 <= -18'd28055;\n",
      "\tAE2R3 <= 18'd31592;\n",
      "\tAE3R3 <= -18'd45723;\n",
      "\tAE4R3 <= 18'd128466;\n",
      "\tAE0R4 <= 18'd119812;\n",
      "\tAE1R4 <= -18'd70415;\n",
      "\tAE2R4 <= -18'd32314;\n",
      "\tAE3R4 <= 18'd83339;\n",
      "\tAE4R4 <= -18'd78565;\n",
      "\tAE0R5 <= 18'd45635;\n",
      "\tAE1R5 <= 18'd35319;\n",
      "\tAE2R5 <= -18'd9020;\n",
      "\tAE3R5 <= 18'd63645;\n",
      "\tAE4R5 <= 18'd110238;\n",
      "\tAE0R6 <= -18'd5138;\n",
      "\tAE1R6 <= 18'd114599;\n",
      "\tAE2R6 <= -18'd102638;\n",
      "\tAE3R6 <= -18'd13496;\n",
      "\tAE4R6 <= 18'd34874;\n",
      "\tAE0R7 <= -18'd72622;\n",
      "\tAE1R7 <= 18'd56666;\n",
      "\tAE2R7 <= 18'd44221;\n",
      "\tAE3R7 <= -18'd43046;\n",
      "\tAE4R7 <= -18'd6232;\n",
      "\tAE0R8 <= 18'd12351;\n",
      "\tAE1R8 <= -18'd7335;\n",
      "\tAE2R8 <= 18'd117013;\n",
      "\tAE3R8 <= -18'd37474;\n",
      "\tAE4R8 <= 18'd77508;\n",
      "\tBE0C0 <= -18'd24250;\n",
      "\tBE1C0 <= -18'd44046;\n",
      "\tBE2C0 <= -18'd21082;\n",
      "\tBE3C0 <= 18'd5161;\n",
      "\tBE4C0 <= -18'd123167;\n",
      "\tBE0C1 <= 18'd121268;\n",
      "\tBE1C1 <= -18'd48297;\n",
      "\tBE2C1 <= -18'd77539;\n",
      "\tBE3C1 <= -18'd33251;\n",
      "\tBE4C1 <= -18'd120483;\n",
      "\tBE0C2 <= -18'd129124;\n",
      "\tBE1C2 <= -18'd36811;\n",
      "\tBE2C2 <= 18'd124446;\n",
      "\tBE3C2 <= -18'd86882;\n",
      "\tBE4C2 <= 18'd48517;\n",
      "\tBE0C3 <= 18'd19240;\n",
      "\tBE1C3 <= -18'd63081;\n",
      "\tBE2C3 <= -18'd69463;\n",
      "\tBE3C3 <= 18'd61951;\n",
      "\tBE4C3 <= -18'd92414;\n",
      "\t#2;\n",
      "\t//R 9, [C 4 5 6 7]\n",
      "\tAE0R0 <= -18'd11396;\n",
      "\tAE1R0 <= -18'd3505;\n",
      "\tAE2R0 <= -18'd92824;\n",
      "\tAE3R0 <= -18'd41042;\n",
      "\tAE4R0 <= -18'd14475;\n",
      "\t//Extra Data:\n",
      "\tBE0C0 <= 18'd43106;\n",
      "\tBE1C0 <= 18'd89615;\n",
      "\tBE2C0 <= -18'd118603;\n",
      "\tBE3C0 <= -18'd47060;\n",
      "\tBE4C0 <= 18'd125170;\n",
      "\tBE0C1 <= -18'd31759;\n",
      "\tBE1C1 <= -18'd120240;\n",
      "\tBE2C1 <= 18'd53658;\n",
      "\tBE3C1 <= 18'd51377;\n",
      "\tBE4C1 <= 18'd70364;\n",
      "\tBE0C2 <= -18'd30287;\n",
      "\tBE1C2 <= 18'd13570;\n",
      "\tBE2C2 <= -18'd117139;\n",
      "\tBE3C2 <= 18'd44934;\n",
      "\tBE4C2 <= -18'd114516;\n",
      "\tBE0C3 <= -18'd24161;\n",
      "\tBE1C3 <= -18'd45038;\n",
      "\tBE2C3 <= -18'd57598;\n",
      "\tBE3C3 <= -18'd64861;\n",
      "\tBE4C3 <= -18'd119891;\n",
      "\t#2;\n",
      "\t//R 0 1 2 3 4 5 6 7 8, C 8\n",
      "\tAE0R0 <= -18'd40509;\n",
      "\tAE1R0 <= 18'd86961;\n",
      "\tAE2R0 <= 18'd8328;\n",
      "\tAE3R0 <= -18'd124290;\n",
      "\tAE4R0 <= 18'd3715;\n",
      "\tAE0R1 <= 18'd125900;\n",
      "\tAE1R1 <= 18'd85613;\n",
      "\tAE2R1 <= 18'd79001;\n",
      "\tAE3R1 <= -18'd95278;\n",
      "\tAE4R1 <= -18'd45857;\n",
      "\tAE0R2 <= -18'd21603;\n",
      "\tAE1R2 <= 18'd51153;\n",
      "\tAE2R2 <= -18'd115211;\n",
      "\tAE3R2 <= -18'd70894;\n",
      "\tAE4R2 <= -18'd98427;\n",
      "\tAE0R3 <= 18'd66949;\n",
      "\tAE1R3 <= -18'd28055;\n",
      "\tAE2R3 <= 18'd31592;\n",
      "\tAE3R3 <= -18'd45723;\n",
      "\tAE4R3 <= 18'd128466;\n",
      "\tAE0R4 <= 18'd119812;\n",
      "\tAE1R4 <= -18'd70415;\n",
      "\tAE2R4 <= -18'd32314;\n",
      "\tAE3R4 <= 18'd83339;\n",
      "\tAE4R4 <= -18'd78565;\n",
      "\tAE0R5 <= 18'd45635;\n",
      "\tAE1R5 <= 18'd35319;\n",
      "\tAE2R5 <= -18'd9020;\n",
      "\tAE3R5 <= 18'd63645;\n",
      "\tAE4R5 <= 18'd110238;\n",
      "\tAE0R6 <= -18'd5138;\n",
      "\tAE1R6 <= 18'd114599;\n",
      "\tAE2R6 <= -18'd102638;\n",
      "\tAE3R6 <= -18'd13496;\n",
      "\tAE4R6 <= 18'd34874;\n",
      "\tAE0R7 <= -18'd72622;\n",
      "\tAE1R7 <= 18'd56666;\n",
      "\tAE2R7 <= 18'd44221;\n",
      "\tAE3R7 <= -18'd43046;\n",
      "\tAE4R7 <= -18'd6232;\n",
      "\tAE0R8 <= 18'd12351;\n",
      "\tAE1R8 <= -18'd7335;\n",
      "\tAE2R8 <= 18'd117013;\n",
      "\tAE3R8 <= -18'd37474;\n",
      "\tAE4R8 <= 18'd77508;\n",
      "\tBE0C0 <= 18'd73549;\n",
      "\tBE1C0 <= -18'd111004;\n",
      "\tBE2C0 <= 18'd80898;\n",
      "\tBE3C0 <= 18'd90269;\n",
      "\tBE4C0 <= -18'd27869;\n",
      "\t#2;\n",
      "\t//R 9, [C 8]\n",
      "\tAE0R0 <= -18'd11396;\n",
      "\tAE1R0 <= -18'd3505;\n",
      "\tAE2R0 <= -18'd92824;\n",
      "\tAE3R0 <= -18'd41042;\n",
      "\tAE4R0 <= -18'd14475;\n",
      "\t//Extra Data:\n",
      "\tBE0C0 <= -18'd50528;\n",
      "\tBE1C0 <= 18'd124524;\n",
      "\tBE2C0 <= 18'd108468;\n",
      "\tBE3C0 <= -18'd42259;\n",
      "\tBE4C0 <= -18'd71415;\n",
      "end\n",
      "\n"
     ]
    }
   ],
   "source": [
    "listOfAnswer = [[]for k in range(CS*RS)]\n",
    "\n",
    "print(\"initial begin\", file=of)\n",
    "print(\"\\tclk = 1;\", file=of)\n",
    "print(\"\\treset <= 0;\", file=of)\n",
    "print(\"\\tenable <= 1;\", file=of)\n",
    "print(\"\\tinReady <= 1;\", file=of)\n",
    "\n",
    "FirstInput = True\n",
    "k=0;\n",
    "for i in range(CS):\n",
    "    for j in range(RS):\n",
    "        if FirstInput:\n",
    "            FirstInput = False\n",
    "        elif Enable_Extra_Data and Enable_Input_Latch:\n",
    "            print(\"\\t#1;\", file=of)\n",
    "        else:\n",
    "            print(\"\\t#{};\".format(HRR), file=of)            \n",
    "        #print(file=of)\n",
    "        print(\"\\t//\", end='', file=of)\n",
    "        if Enable_Row_Latch and i>0:\n",
    "            print(\"[\", end='', file=of)\n",
    "        print(\"R\", end='', file=of)\n",
    "        for jj in range(j*PR, (j+1)*PR):\n",
    "            if jj<M:\n",
    "                print(\" {}\".format(jj), end='', file=of)\n",
    "        if Enable_Row_Latch and i>0:\n",
    "            print(\"]\", end='', file=of)\n",
    "        print(\", \", end='', file=of)\n",
    "        if Enable_Column_Latch and j>0:\n",
    "            print(\"[\", end='', file=of)\n",
    "        print(\"C\", end='', file=of)    \n",
    "        for ii in range(i*PC, (i+1)*PC):\n",
    "            if ii<Q:\n",
    "                print(\" {}\".format(ii), end='', file=of)\n",
    "        if Enable_Column_Latch and j>0:\n",
    "            print(\"]\", end='', file=of)\n",
    "        print(file=of)\n",
    "        \n",
    "        for ii in range(i*PC, (i+1)*PC):\n",
    "            if ii<Q:\n",
    "                for jj in range(j*PR, (j+1)*PR):\n",
    "                    if jj<M:\n",
    "                        listOfAnswer[k].append((ii,jj))\n",
    "        k += 1;\n",
    "        \n",
    "        jc=0\n",
    "        if i==0 or not Enable_Row_Latch:\n",
    "            for jj in range(j*PR, (j+1)*PR):\n",
    "                #print(\"\\tjj:{}\".format(jj), file=of)\n",
    "                if jj<M:\n",
    "                    for nn in range(N):\n",
    "                        cMN = matrix_MN[jj][nn]\n",
    "                        if cMN >= 0:\n",
    "                            print(\"\\tAE{}R{} <= {}'d{};\".format(nn, jc, IN_WIDTH, cMN), file=of)\n",
    "                        else:\n",
    "                            print(\"\\tAE{}R{} <= -{}'d{};\".format(nn, jc, IN_WIDTH, abs(cMN)), file=of)                        \n",
    "                    jc += 1\n",
    "                else:\n",
    "                    break\n",
    "        elif Enable_Extra_Data:\n",
    "            print(\"\\t//Extra Data:\", file=of)\n",
    "            for jj in range(j*PR, (j+1)*PR):\n",
    "                if jj<M:\n",
    "                    for nn in range(N):\n",
    "                        cR = random.randrange(InputRangeStart, InputRangeEnd)\n",
    "                        if cR >= 0:\n",
    "                            print(\"\\tAE{}R{} <= {}'d{};\".format(nn, jc, IN_WIDTH, cR), file=of)\n",
    "                        else:\n",
    "                            print(\"\\tAE{}R{} <= -{}'d{};\".format(nn, jc, IN_WIDTH, abs(cR)), file=of)                        \n",
    "                    jc += 1\n",
    "                else:\n",
    "                    break\n",
    "                \n",
    "        ic=0\n",
    "        if j==0 or not Enable_Column_Latch:\n",
    "            for ii in range(i*PC, (i+1)*PC):\n",
    "                #print(\"\\tii:{}\".format(jj), file=of)\n",
    "                if ii<Q:\n",
    "                    for nn in range(N):\n",
    "                        cNQ = matrix_NQ[nn][ii]\n",
    "                        if cNQ >= 0:\n",
    "                            print(\"\\tBE{}C{} <= {}'d{};\".format(nn, ic, IN_WIDTH, cNQ), file=of)\n",
    "                        else:\n",
    "                            print(\"\\tBE{}C{} <= -{}'d{};\".format(nn, ic, IN_WIDTH, abs(cNQ)), file=of)                        \n",
    "                    ic += 1\n",
    "                else:\n",
    "                    break\n",
    "        elif Enable_Extra_Data:\n",
    "            print(\"\\t//Extra Data:\", file=of)\n",
    "            for ii in range(i*PC, (i+1)*PC):\n",
    "                if ii<Q:\n",
    "                    for nn in range(N):\n",
    "                        cR = random.randrange(InputRangeStart, InputRangeEnd)\n",
    "                        if cR >= 0:\n",
    "                            print(\"\\tBE{}C{} <= {}'d{};\".format(nn, ic, IN_WIDTH, cR), file=of)\n",
    "                        else:\n",
    "                            print(\"\\tBE{}C{} <= -{}'d{};\".format(nn, ic, IN_WIDTH, abs(cR)), file=of)                        \n",
    "                    ic += 1\n",
    "                else:\n",
    "                    break\n",
    "        \n",
    "        if Enable_Input_Latch and Enable_Extra_Data:\n",
    "            for h in range(HRR-1):\n",
    "                print(\"\\t#1;\", file=of)\n",
    "                print(\"\\t//Extra Data:\", file=of)\n",
    "                jc=0\n",
    "                ic=0\n",
    "                for jj in range(j*PR, (j+1)*PR):\n",
    "                    if jj<M:\n",
    "                        for nn in range(N):\n",
    "                            cR = random.randrange(InputRangeStart, InputRangeEnd)\n",
    "                            if cR >= 0:\n",
    "                                print(\"\\tAE{}R{} <= {}'d{};\".format(nn, jc, IN_WIDTH, cR), file=of)\n",
    "                            else:\n",
    "                                print(\"\\tAE{}R{} <= -{}'d{};\".format(nn, jc, IN_WIDTH, abs(cR)), file=of)\n",
    "                        jc += 1\n",
    "                    else:\n",
    "                        break\n",
    "                for ii in range(i*PC, (i+1)*PC):\n",
    "                    if ii<Q:\n",
    "                        for nn in range(N):\n",
    "                            cR = random.randrange(InputRangeStart, InputRangeEnd)\n",
    "                            if cR >= 0:\n",
    "                                print(\"\\tBE{}C{} <= {}'d{};\".format(nn, ic, IN_WIDTH, cR), file=of)\n",
    "                            else:\n",
    "                                print(\"\\tBE{}C{} <= -{}'d{};\".format(nn, ic, IN_WIDTH, abs(cR)), file=of)                      \n",
    "                        ic += 1\n",
    "                    else:\n",
    "                        break\n",
    "\n",
    "print(\"end\", file=of)\n",
    "print(file=of)"
   ]
  },
  {
   "cell_type": "code",
   "execution_count": 52,
   "metadata": {},
   "outputs": [
    {
     "name": "stdout",
     "output_type": "stream",
     "text": [
      "always #0.5 clk = ~ clk;\n",
      "\n",
      "//initial delay:\n",
      "//NMR: 0\n",
      "//INPUT_REG_DEPTH + MULT_PIPE_DEPTH\n",
      "//C1: 0\n",
      "//S3E, C1, NC3, A2, Adder Tree Delay: 2\n",
      "//HRx2: 2\n",
      "parameter initial_delay = INPUT_REG_DEPTH + MULT_PIPE_DEPTH + 4;\n",
      "\n",
      "integer outfile;\n",
      "\n",
      "task Print_Parameters_Close;\n",
      "\tbegin\n",
      "\t$fdisplay(outfile, \"\\nParameters' values:\");\n",
      "\t$fdisplay(outfile, \"IN_WIDTH : fixed to 18\");\n",
      "\t$fdisplay(outfile, \"INPUT_REG_DEPTH = %0d\", INPUT_REG_DEPTH);\n",
      "\t$fdisplay(outfile, \"MULT_PIPE_DEPTH = %0d\", MULT_PIPE_DEPTH);\n",
      "\t$fclose(outfile);\n",
      "\tend\n",
      "endtask\n",
      "\n",
      "task Simulation_Fail;\n",
      "\tbegin\n",
      "\t$fdisplay(outfile, \"Failed\");\n",
      "\t$fdisplay(outfile, \"Error at %t\", $realtime);\n",
      "\tPrint_Parameters_Close();\n",
      "\t$display(\"Failed\");\n",
      "\tend\n",
      "endtask\n",
      "\n"
     ]
    }
   ],
   "source": [
    "print(\"always #0.5 clk = ~ clk;\", file=of)\n",
    "print(file=of)\n",
    "\n",
    "initial_delay_p = 0\n",
    "print(\"//initial delay:\", file=of)\n",
    "if Enable_SIM_Output_Registers<=0:\n",
    "    print(\"//NMR: \", end='', file=of)\n",
    "    print(\"0\", file=of)\n",
    "else:\n",
    "    print(\"//MR: \", end='', file=of)\n",
    "    print(\"1\", file=of)\n",
    "    initial_delay_p += 1\n",
    "print(\"//INPUT_REG_DEPTH + MULT_PIPE_DEPTH\", file=of)\n",
    "print(\"//C{}: {}\".format(MAMCS, MAMCS-1), file=of)\n",
    "initial_delay_p += (MAMCS-1)\n",
    "if AdderSize==0:\n",
    "    print(\"//A0, Adder Tree Delay: 0\", file=of)    \n",
    "else:\n",
    "    AdderTreeDelay = math.ceil(math.log(NumOfComponents, AdderSize))\n",
    "    print(\"//S{}E, C{}, NC{}, A{}, Adder Tree Delay: {}\".format(NMult, MAMCS, NumOfComponents, AdderSize, AdderTreeDelay), file=of)\n",
    "    initial_delay_p += AdderTreeDelay\n",
    "print(\"//HRx{}: {}\".format(HRR, HRR), file=of)\n",
    "initial_delay_p += HRR\n",
    "print(\"parameter initial_delay = INPUT_REG_DEPTH + MULT_PIPE_DEPTH + {};\".format(initial_delay_p), file=of)\n",
    "print(file=of)\n",
    "\n",
    "print(\"integer outfile;\", file=of)\n",
    "print(file=of)\n",
    "\n",
    "print(\"task Print_Parameters_Close;\", file=of)\n",
    "print(\"\\tbegin\", file=of)\n",
    "print(\"\\t$fdisplay(outfile, \\\"\\\\nParameters' values:\\\");\", file=of)\n",
    "print(\"\\t$fdisplay(outfile, \\\"IN_WIDTH : fixed to {}\\\");\".format(IN_WIDTH), file=of)\n",
    "print(\"\\t$fdisplay(outfile, \\\"INPUT_REG_DEPTH = %0d\\\", INPUT_REG_DEPTH);\", file=of)\n",
    "print(\"\\t$fdisplay(outfile, \\\"MULT_PIPE_DEPTH = %0d\\\", MULT_PIPE_DEPTH);\", file=of)\n",
    "print(\"\\t$fclose(outfile);\", file=of)\n",
    "print(\"\\tend\", file=of)\n",
    "print(\"endtask\", file=of)\n",
    "print(file=of)\n",
    "\n",
    "print(\"task Simulation_Fail;\", file=of)\n",
    "print(\"\\tbegin\", file=of)\n",
    "print(\"\\t$fdisplay(outfile, \\\"Failed\\\");\", file=of)\n",
    "print(\"\\t$fdisplay(outfile, \\\"Error at %t\\\", $realtime);\", file=of)\n",
    "print(\"\\tPrint_Parameters_Close();\", file=of)\n",
    "print(\"\\t$display(\\\"Failed\\\");\", file=of)\n",
    "print(\"\\tend\", file=of)\n",
    "print(\"endtask\", file=of)\n",
    "print(file=of)"
   ]
  },
  {
   "cell_type": "code",
   "execution_count": 53,
   "metadata": {},
   "outputs": [
    {
     "name": "stdout",
     "output_type": "stream",
     "text": [
      "reg [29*8-1:0] outFileName; //INPUT_REG_DEPTH and MULT_PIPE_DEPTH: 1 character\n",
      "initial begin\n",
      "$timeformat (-9, 1, \" ns\", 0);\n",
      "$sformat(outFileName,\"_18_%0d_%0d_Simulation_Result.txt\",INPUT_REG_DEPTH,MULT_PIPE_DEPTH);\n",
      "outfile = $fopen(outFileName, \"w\");\n",
      "#initial_delay;\n",
      "#0.5;\n"
     ]
    }
   ],
   "source": [
    "outFileNameLen = 27+len(\"{}\".format(IN_WIDTH))\n",
    "print(\"reg [{}*8-1:0] outFileName; //INPUT_REG_DEPTH and MULT_PIPE_DEPTH: 1 character\".format(outFileNameLen), file=of)\n",
    "print(\"initial begin\", file=of)\n",
    "print(\"$timeformat (-9, 1, \\\" ns\\\", 0);\", file=of)\n",
    "print(\"$sformat(outFileName,\\\"_{}_%0d_%0d_Simulation_Result.txt\\\",INPUT_REG_DEPTH,MULT_PIPE_DEPTH);\".format(IN_WIDTH), file=of)\n",
    "print(\"outfile = $fopen(outFileName, \\\"w\\\");\", file=of)\n",
    "print(\"#initial_delay;\", file=of)\n",
    "print(\"#0.5;\", file=of)"
   ]
  },
  {
   "cell_type": "code",
   "execution_count": 54,
   "metadata": {},
   "outputs": [
    {
     "name": "stdout",
     "output_type": "stream",
     "text": [
      "if(EC0R0!=39'd21051858968 || EC0R1!=39'd5114178188 || EC0R2!=39'd18439962923 || EC0R3!=-39'd16631271868 || EC0R4!=-39'd19399015350 || EC0R5!=-39'd18556105554 || EC0R6!=39'd4070921136 || EC0R7!=39'd17434786163 || EC0R8!=-39'd3188974498 || EC1R0!=39'd4058670830 || EC1R1!=-39'd15870867844 || EC1R2!=39'd27817209028 || EC1R3!=-39'd21257018285 || EC1R4!=39'd1514037747 || EC1R5!=-39'd24952801945 || EC1R6!=-39'd1327315046 || EC1R7!=39'd1693099028 || EC1R8!=-39'd20628939914 || EC2R0!=-39'd12956850310 || EC2R1!=-39'd13161807166 || EC2R2!=-39'd10027521015 || EC2R3!=39'd3845254374 || EC2R4!=39'd7696370877 || EC2R5!=39'd2512311386 || EC2R6!=-39'd9677049705 || EC2R7!=-39'd7060042459 || EC2R8!=39'd916978131 || EC3R0!=39'd14150447917 || EC3R1!=39'd19225714852 || EC3R2!=39'd26885910462 || EC3R3!=-39'd12754248408 || EC3R4!=39'd3044794700 || EC3R5!=-39'd11609632766 || EC3R6!=39'd13152448311 || EC3R7!=39'd3243009893 || EC3R8!=-39'd13296988164) begin\n",
      "\tSimulation_Fail();\n",
      "\t$finish;\n",
      "end\n",
      "#2;\n",
      "if(EC0R0!=39'd3940878115 || EC1R0!=39'd16046698194 || EC2R0!=-39'd1689149313 || EC3R0!=39'd9679347505) begin\n",
      "\tSimulation_Fail();\n",
      "\t$finish;\n",
      "end\n",
      "#2;\n",
      "if(EC0R0!=-39'd4122537947 || EC0R1!=-39'd3333144919 || EC0R2!=39'd12456740389 || EC0R3!=-39'd17112573489 || EC0R4!=39'd10984029772 || EC0R5!=-39'd15721361685 || EC0R6!=-39'd7124195552 || EC0R7!=-39'd1121677920 || EC0R8!=-39'd12183133556 || EC1R0!=-39'd6072973176 || EC1R1!=39'd13700209309 || EC1R2!=39'd18059133319 || EC1R3!=-39'd6933502026 || EC1R4!=39'd27130431923 || EC1R5!=-39'd10870399632 || EC1R6!=-39'd1952383651 || EC1R7!=-39'd12790202015 || EC1R8!=-39'd15313379834 || EC2R0!=39'd14044753468 || EC2R1!=-39'd3523754170 || EC2R2!=-39'd12047045668 || EC2R3!=39'd6524798569 || EC2R4!=-39'd27952303270 || EC2R5!=-39'd8496392213 || EC2R6!=-39'd13463411895 || EC2R7!=39'd16232002196 || EC2R8!=39'd20253269663 || EC3R0!=-39'd14886675665 || EC3R1!=-39'd10130622696 || EC3R2!=39'd9064556164 || EC3R3!=-39'd13841281378 || EC3R4!=39'd21415099176 || EC3R5!=-39'd6968047316 || EC3R6!=-39'd4257267777 || EC3R7!=-39'd10134337247 || EC3R8!=-39'd16912117730) begin\n",
      "\tSimulation_Fail();\n",
      "\t$finish;\n",
      "end\n",
      "#2;\n",
      "if(EC0R0!=39'd3958674361 || EC1R0!=39'd9093469960 || EC2R0!=-39'd7087528376 || EC3R0!=39'd5244773085) begin\n",
      "\tSimulation_Fail();\n",
      "\t$finish;\n",
      "end\n",
      "#2;\n",
      "if(EC0R0!=-39'd23281764086 || EC0R1!=-39'd1175204503 || EC0R2!=-39'd20243874560 || EC0R3!=39'd2886390396 || EC0R4!=39'd23726717652 || EC0R5!=39'd1379106062 || EC0R6!=-39'd23592225012 || EC0R7!=-39'd11766077450 || EC0R8!=39'd5645924755) begin\n",
      "\tSimulation_Fail();\n",
      "\t$finish;\n",
      "end\n",
      "#2;\n",
      "if(EC0R0!=-39'd11259787859) begin\n",
      "\tSimulation_Fail();\n",
      "\t$finish;\n",
      "end\n"
     ]
    }
   ],
   "source": [
    "#print(listOfAnswer)\n",
    "FirstOutputSeries = True\n",
    "for k in range(RS*CS):\n",
    "    FirstOutput = True\n",
    "    if FirstOutputSeries:\n",
    "        FirstOutputSeries = False\n",
    "    else:\n",
    "        print(\"#{};\".format(HRR), file=of)\n",
    "    print(\"if(\", end='', file=of)\n",
    "    for ans in listOfAnswer[k]:\n",
    "        if FirstOutput:\n",
    "            FirstOutput = False\n",
    "        else:\n",
    "            print(\" || \", end='', file=of)\n",
    "        cMQ = matrix_MQ[ans[1]][ans[0]]\n",
    "        if cMQ >= 0:\n",
    "            print(\"EC{}R{}!={}'d{}\".format(ans[0]%PC, ans[1]%PR, OUT_WIDTH, cMQ), end='', file=of)\n",
    "        else:\n",
    "            print(\"EC{}R{}!=-{}'d{}\".format(ans[0]%PC, ans[1]%PR, OUT_WIDTH, abs(cMQ)), end='', file=of)            \n",
    "    print(\") begin\", file=of)\n",
    "    print(\"\\tSimulation_Fail();\", file=of)\n",
    "    print(\"\\t$finish;\", file=of)\n",
    "    print(\"end\", file=of)"
   ]
  },
  {
   "cell_type": "code",
   "execution_count": 55,
   "metadata": {},
   "outputs": [
    {
     "name": "stdout",
     "output_type": "stream",
     "text": [
      "#0.5;\n",
      "$fdisplay(outfile, \"Succeeded\");\n",
      "$fdisplay(outfile, \"Simulation completed without error at %t\", $realtime);\n",
      "Print_Parameters_Close();\n",
      "$display(\"Succeeded\");\n",
      "$finish;\n",
      "end\n",
      "\n",
      "endmodule\n"
     ]
    }
   ],
   "source": [
    "print(\"#0.5;\", file=of)\n",
    "print(\"$fdisplay(outfile, \\\"Succeeded\\\");\", file=of)\n",
    "print(\"$fdisplay(outfile, \\\"Simulation completed without error at %t\\\", $realtime);\", file=of)\n",
    "print(\"Print_Parameters_Close();\", file=of)\n",
    "print(\"$display(\\\"Succeeded\\\");\", file=of)\n",
    "print(\"$finish;\", file=of)\n",
    "print(\"end\", file=of)\n",
    "print(file=of)\n",
    "print(\"endmodule\", file=of)"
   ]
  },
  {
   "cell_type": "code",
   "execution_count": 56,
   "metadata": {},
   "outputs": [],
   "source": [
    "if __Print_To_File>0:\n",
    "    of.close()"
   ]
  }
 ],
 "metadata": {
  "kernelspec": {
   "display_name": "Python 3",
   "language": "python",
   "name": "python3"
  },
  "language_info": {
   "codemirror_mode": {
    "name": "ipython",
    "version": 3
   },
   "file_extension": ".py",
   "mimetype": "text/x-python",
   "name": "python",
   "nbconvert_exporter": "python",
   "pygments_lexer": "ipython3",
   "version": "3.6.3"
  }
 },
 "nbformat": 4,
 "nbformat_minor": 1
}
