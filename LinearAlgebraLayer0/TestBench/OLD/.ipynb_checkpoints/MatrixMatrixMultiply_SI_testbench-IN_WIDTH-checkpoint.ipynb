{
 "cells": [
  {
   "cell_type": "code",
   "execution_count": null,
   "metadata": {},
   "outputs": [],
   "source": [
    "#can use verilog internal random functions (and thus not fixing IN_WIDTH)"
   ]
  },
  {
   "cell_type": "code",
   "execution_count": 1,
   "metadata": {},
   "outputs": [],
   "source": [
    "#uses"
   ]
  },
  {
   "cell_type": "code",
   "execution_count": 1,
   "metadata": {},
   "outputs": [],
   "source": [
    "import sys\n",
    "import math"
   ]
  },
  {
   "cell_type": "code",
   "execution_count": 3,
   "metadata": {},
   "outputs": [
    {
     "name": "stdout",
     "output_type": "stream",
     "text": [
      "Enter M: 5\n"
     ]
    }
   ],
   "source": [
    "#M>=1\n",
    "M = input('Enter M: ')"
   ]
  },
  {
   "cell_type": "code",
   "execution_count": 4,
   "metadata": {},
   "outputs": [
    {
     "name": "stdout",
     "output_type": "stream",
     "text": [
      "Enter N: 9\n"
     ]
    }
   ],
   "source": [
    "#N>=2\n",
    "N = input('Enter N: ')"
   ]
  },
  {
   "cell_type": "code",
   "execution_count": 5,
   "metadata": {},
   "outputs": [
    {
     "name": "stdout",
     "output_type": "stream",
     "text": [
      "Enter Q: 5\n"
     ]
    }
   ],
   "source": [
    "#Q>=1\n",
    "Q = input('Enter Q: ')"
   ]
  },
  {
   "cell_type": "code",
   "execution_count": 6,
   "metadata": {},
   "outputs": [
    {
     "name": "stdout",
     "output_type": "stream",
     "text": [
      "Enter No Of Parallel Row (empty for 1): 2\n"
     ]
    }
   ],
   "source": [
    "#>=1, <=M\n",
    "PR = input('Enter No Of Parallel Row (empty for 1): ')"
   ]
  },
  {
   "cell_type": "code",
   "execution_count": 7,
   "metadata": {},
   "outputs": [
    {
     "name": "stdout",
     "output_type": "stream",
     "text": [
      "Enter No Of Parallel Column (empty for 1): 2\n"
     ]
    }
   ],
   "source": [
    "#>=1, <=Q\n",
    "PC = input('Enter No Of Parallel Column (empty for 1): ')"
   ]
  },
  {
   "cell_type": "code",
   "execution_count": 8,
   "metadata": {},
   "outputs": [
    {
     "name": "stdout",
     "output_type": "stream",
     "text": [
      "Enter HRR Upper Limit (>=2, <=9, empty for 2, not all HRR values are acceptable): 5\n"
     ]
    }
   ],
   "source": [
    "#HRR>=2\n",
    "HRR = input('Enter HRR Upper Limit (>=2, <={}, empty for 2, not all HRR values are acceptable): '.format(N))"
   ]
  },
  {
   "cell_type": "code",
   "execution_count": 9,
   "metadata": {},
   "outputs": [
    {
     "name": "stdout",
     "output_type": "stream",
     "text": [
      "HRR calculated value: 5\n"
     ]
    }
   ],
   "source": [
    "M = int(M)\n",
    "if M<1:\n",
    "    M = 1\n",
    "\n",
    "N = int(N)\n",
    "if N<2:\n",
    "    N = 2\n",
    "\n",
    "Q = int(Q)\n",
    "if Q<1:\n",
    "    Q = 1\n",
    "\n",
    "if not PR:\n",
    "    PR = 1\n",
    "else:\n",
    "    PR = int(PR)\n",
    "    if PR>M:\n",
    "        PR = M\n",
    "\n",
    "if not PC:\n",
    "    PC = 1\n",
    "else:\n",
    "    PC = int(PC)\n",
    "    if PC>Q:\n",
    "        PC = Q\n",
    "\n",
    "if not HRR:\n",
    "    HRR = 2\n",
    "else:\n",
    "    HRR = int(HRR)\n",
    "    if HRR<2:\n",
    "        HRR = 2\n",
    "    if HRR>N:\n",
    "        HRR = N\n",
    "\n",
    "NMult = math.ceil(N/HRR)\n",
    "#print(\"NMult: {}\".format(NMult))\n",
    "\n",
    "while math.ceil(N/NMult) != HRR:\n",
    "    HRR -= 1\n",
    "print(\"HRR calculated value: {}\".format(HRR))"
   ]
  },
  {
   "cell_type": "code",
   "execution_count": 10,
   "metadata": {},
   "outputs": [
    {
     "name": "stdout",
     "output_type": "stream",
     "text": [
      "Enter Multiply-Add Max Component Size (empty for 2): 2\n"
     ]
    }
   ],
   "source": [
    "#MAMCS>=1\n",
    "MAMCS = input('Enter Multiply-Add Max Component Size (empty for {}): '.format(NMult))"
   ]
  },
  {
   "cell_type": "code",
   "execution_count": 11,
   "metadata": {},
   "outputs": [],
   "source": [
    "if not MAMCS:\n",
    "    MAMCS = NMult\n",
    "else:\n",
    "    MAMCS = int(MAMCS)\n",
    "    if MAMCS>NMult:\n",
    "        MAMCS = NMult\n",
    "    elif MAMCS<1:\n",
    "        MAMCS = 1"
   ]
  },
  {
   "cell_type": "code",
   "execution_count": 12,
   "metadata": {},
   "outputs": [],
   "source": [
    "#AdderSize>=2\n",
    "if MAMCS<NMult:\n",
    "    AdderSize = input('Enter maximum size allowed for base adders (empty for 2): ')"
   ]
  },
  {
   "cell_type": "code",
   "execution_count": 13,
   "metadata": {},
   "outputs": [
    {
     "name": "stdout",
     "output_type": "stream",
     "text": [
      "Enable Input Latch? (empty or 0 to disable, 1 to enable): 1\n"
     ]
    }
   ],
   "source": [
    "Enable_Input_Latch = input('Enable Input Latch? (empty or 0 to disable, 1 to enable): ')"
   ]
  },
  {
   "cell_type": "code",
   "execution_count": 14,
   "metadata": {},
   "outputs": [],
   "source": [
    "RS = math.ceil(M/PR)"
   ]
  },
  {
   "cell_type": "code",
   "execution_count": 15,
   "metadata": {},
   "outputs": [
    {
     "name": "stdout",
     "output_type": "stream",
     "text": [
      "Enable Column Latch? (empty or 0 to disable, 1 to enable): 1\n"
     ]
    }
   ],
   "source": [
    "if RS>1:\n",
    "    Enable_Column_Latch = input('Enable Column Latch? (empty or 0 to disable, 1 to enable): ')"
   ]
  },
  {
   "cell_type": "code",
   "execution_count": 16,
   "metadata": {},
   "outputs": [],
   "source": [
    "CS = math.ceil(Q/PC)"
   ]
  },
  {
   "cell_type": "code",
   "execution_count": 17,
   "metadata": {},
   "outputs": [
    {
     "name": "stdout",
     "output_type": "stream",
     "text": [
      "Enable Row Latch? (empty or 0 to disable, 1 to enable): 1\n"
     ]
    }
   ],
   "source": [
    "if CS>1:\n",
    "    Enable_Row_Latch = input('Enable Row Latch? (empty or 0 to disable, 1 to enable): ')"
   ]
  },
  {
   "cell_type": "code",
   "execution_count": 18,
   "metadata": {},
   "outputs": [
    {
     "name": "stdout",
     "output_type": "stream",
     "text": [
      "Enable SI Mux Output Registers? (empty or 0 to disable, 1 to enable): 1\n"
     ]
    }
   ],
   "source": [
    "Enable_SIM_Output_Registers = input('Enable SI Mux Output Registers? (empty or 0 to disable, 1 to enable): ')"
   ]
  },
  {
   "cell_type": "code",
   "execution_count": 19,
   "metadata": {},
   "outputs": [
    {
     "name": "stdout",
     "output_type": "stream",
     "text": [
      "Enter IN_WIDTH default value (empty for 10): \n"
     ]
    }
   ],
   "source": [
    "#IN_WIDTH>=1\n",
    "IN_WIDTH = input('Enter IN_WIDTH (empty for 10): ')"
   ]
  },
  {
   "cell_type": "code",
   "execution_count": 20,
   "metadata": {},
   "outputs": [
    {
     "name": "stdout",
     "output_type": "stream",
     "text": [
      "Enter INPUT_REG_DEPTH default value (empty for 1): \n"
     ]
    }
   ],
   "source": [
    "#INPUT_REG_DEPTH>=0\n",
    "INPUT_REG_DEPTH = input('Enter INPUT_REG_DEPTH default value (empty for 1): ')"
   ]
  },
  {
   "cell_type": "code",
   "execution_count": 21,
   "metadata": {},
   "outputs": [
    {
     "name": "stdout",
     "output_type": "stream",
     "text": [
      "Enter MULT_PIPE_DEPTH default value (empty for 1): \n"
     ]
    }
   ],
   "source": [
    "#MULT_PIPE_DEPTH>=0\n",
    "MULT_PIPE_DEPTH = input('Enter MULT_PIPE_DEPTH default value (empty for 1): ')"
   ]
  },
  {
   "cell_type": "code",
   "execution_count": 22,
   "metadata": {},
   "outputs": [],
   "source": [
    "NumOfComponents = math.ceil(NMult/MAMCS)\n",
    "if MAMCS==NMult:\n",
    "    AdderSize = 0\n",
    "else:\n",
    "    if not AdderSize:\n",
    "        AdderSize = 2\n",
    "    else:\n",
    "        AdderSize = int(AdderSize)\n",
    "        if AdderSize<2:\n",
    "            AdderSize = 2\n",
    "        if AdderSize>NumOfComponents:\n",
    "            AdderSize = NumOfComponents\n",
    "            \n",
    "if not Enable_Input_Latch:\n",
    "    Enable_Input_Latch = 0\n",
    "else:\n",
    "    Enable_Input_Latch = int(Enable_Input_Latch)\n",
    "\n",
    "if RS==1:\n",
    "    Enable_Column_Latch = 0\n",
    "else:\n",
    "    if not Enable_Column_Latch:\n",
    "        Enable_Column_Latch = 0\n",
    "    else:\n",
    "        Enable_Column_Latch = int(Enable_Column_Latch)\n",
    "\n",
    "if CS==1:\n",
    "    Enable_Row_Latch = 0\n",
    "else:\n",
    "    if not Enable_Row_Latch:\n",
    "        Enable_Row_Latch = 0\n",
    "    else:\n",
    "        Enable_Row_Latch = int(Enable_Row_Latch)\n",
    "\n",
    "if not Enable_SIM_Output_Registers:\n",
    "    Enable_SIM_Output_Registers = 0\n",
    "else:\n",
    "    Enable_SIM_Output_Registers = int(Enable_SIM_Output_Registers)\n",
    "\n",
    "if not IN_WIDTH:\n",
    "    IN_WIDTH = 10\n",
    "else:\n",
    "    IN_WIDTH = int(IN_WIDTH)\n",
    "    if IN_WIDTH<1:\n",
    "        IN_WIDTH = 1\n",
    "\n",
    "if not INPUT_REG_DEPTH:\n",
    "    INPUT_REG_DEPTH = 1\n",
    "else:\n",
    "    INPUT_REG_DEPTH = int(INPUT_REG_DEPTH)\n",
    "    if INPUT_REG_DEPTH<0:\n",
    "        INPUT_REG_DEPTH = 0\n",
    "\n",
    "if not MULT_PIPE_DEPTH:\n",
    "    MULT_PIPE_DEPTH=1\n",
    "else:\n",
    "    MULT_PIPE_DEPTH = int(MULT_PIPE_DEPTH)\n",
    "    if MULT_PIPE_DEPTH<0:\n",
    "        MULT_PIPE_DEPTH = 0"
   ]
  },
  {
   "cell_type": "code",
   "execution_count": 23,
   "metadata": {},
   "outputs": [],
   "source": [
    "ModuleName = \"MatrixMatrixMultiply_{}_{}_{}_{}PR_{}PC_SI_HRx{}_C{}_A{}_\".format(M, N, Q, PR, PC, HRR, MAMCS, AdderSize)\n",
    "if Enable_Input_Latch<=0:\n",
    "    ModuleName += \"N\"\n",
    "ModuleName += \"IL_\"\n",
    "if Enable_Column_Latch<=0:\n",
    "    ModuleName += \"N\"\n",
    "ModuleName += \"CL_\"\n",
    "if Enable_Row_Latch<=0:\n",
    "    ModuleName += \"N\"        \n",
    "ModuleName += \"RL_\"\n",
    "if Enable_SIM_Output_Registers<=0:\n",
    "    ModuleName += \"N\"\n",
    "ModuleName += \"MR\"\n",
    "UUTModuleName = ModuleName\n",
    "ModuleName += \"_test_IW{}\".format(IN_WIDTH)"
   ]
  },
  {
   "cell_type": "code",
   "execution_count": 24,
   "metadata": {},
   "outputs": [],
   "source": [
    "__Print_To_File = 0\n",
    "\n",
    "if __Print_To_File<=0:\n",
    "    of = sys.stdout\n",
    "else:\n",
    "    of = open(\"./\"+ModuleName+\".v\", 'w+')"
   ]
  },
  {
   "cell_type": "code",
   "execution_count": 25,
   "metadata": {
    "scrolled": true
   },
   "outputs": [
    {
     "name": "stdout",
     "output_type": "stream",
     "text": [
      "`timescale 1ns / 500ps\n",
      "\n",
      "module MatrixMatrixMultiply_5_9_5_2PR_2PC_SI_HRx5_C2_A0_IL_CL_RL_MR_test_test\n",
      "#(parameter\n",
      "IN_WIDTH = 10,\n",
      "INPUT_REG_DEPTH = 1,\n",
      "MULT_PIPE_DEPTH = 1\n",
      ");\n",
      "\n"
     ]
    }
   ],
   "source": [
    "print(\"`timescale 1ns / 500ps\\n\", file=of)\n",
    "print(\"module \"+ModuleName+\"_test\", file=of)\n",
    "print(\"#(parameter\", file=of)\n",
    "print(\"INPUT_REG_DEPTH = {},\".format(INPUT_REG_DEPTH), file=of)\n",
    "print(\"MULT_PIPE_DEPTH = {}\".format(MULT_PIPE_DEPTH), file=of)\n",
    "print(\");\\n\", file=of)\n",
    "print(\"//IN_WIDTH = {};\\n\".format(IN_WIDTH), file=of)"
   ]
  },
  {
   "cell_type": "code",
   "execution_count": 26,
   "metadata": {},
   "outputs": [],
   "source": [
    "# print(\"input clk, reset, enable,\", file=of)\n",
    "# print(\"output newInSeriesStart,\", file=of)\n",
    "# lghrr=math.ceil(math.log2(HRR))\n",
    "# print(\"output \", end='', file=of)\n",
    "# if Enable_SIM_Output_Registers>0:\n",
    "#     print(\"reg \", end='', file=of)\n",
    "# if lghrr==1:\n",
    "#     print(\"inSeries\", end='', file=of)\n",
    "# elif lghrr>1:\n",
    "#     print(\"[{}:0] inSeries\".format(lghrr-1), end='', file=of)\n",
    "# if Enable_SIM_Output_Registers>0:\n",
    "#     print(\" = 0,\", file=of)\n",
    "# else:\n",
    "#     print(\",\", file=of)\n",
    "# lgRS=math.ceil(math.log2(RS))\n",
    "# print(\"output \", end='', file=of)\n",
    "# if Enable_SIM_Output_Registers>0:\n",
    "#     print(\"reg \", end='', file=of)\n",
    "# if lgRS<=1:\n",
    "#     print(\"rowSetInNo\", end='', file=of)\n",
    "# else:\n",
    "#     print(\"[{}:0] rowSetInNo\".format(lgRS-1), end='', file=of)\n",
    "# if Enable_SIM_Output_Registers>0:\n",
    "#     print(\" = 0,\", file=of)\n",
    "# else:\n",
    "#     print(\",\", file=of)\n",
    "# lgCS=math.ceil(math.log2(CS))\n",
    "# print(\"output \", end='', file=of)\n",
    "# if Enable_SIM_Output_Registers>0:\n",
    "#     print(\"reg \", end='', file=of)\n",
    "# if lgCS<=1:\n",
    "#     print(\"columnSetInNo\", end='', file=of)\n",
    "# else:\n",
    "#     print(\"[{}:0] columnSetInNo\".format(lgCS-1), end='', file=of)\n",
    "# if Enable_SIM_Output_Registers>0:\n",
    "#     print(\" = 0,\", file=of)\n",
    "# else:\n",
    "#     print(\",\", file=of)\n",
    "# print(\"input inReady,\", file=of)\n",
    "# print(\"input signed [IN_WIDTH-1:0] \", end='', file=of)\n",
    "# for i in range(PR):\n",
    "#     for j in range(N):\n",
    "#         print(\"AE{}R{}, \".format(j, i), end='', file=of)\n",
    "#     print(file=of)\n",
    "# print(\"input signed [IN_WIDTH-1:0] \", end='', file=of)\n",
    "# for i in range(PC):\n",
    "#     for j in range(N):\n",
    "#         print(\"BE{}C{}, \".format(j, i), end='', file=of)\n",
    "#     print(file=of)\n",
    "# ac=CS*PC-Q\n",
    "# QE = PC-ac-1\n",
    "# if QE==0:\n",
    "#     stc1=\"C0\"\n",
    "# else:\n",
    "#     stc1=\"C0toC{}\".format(QE)\n",
    "# if QE==(PC-2):\n",
    "#     stc2=\"C{}\".format(PC-1)\n",
    "# else:\n",
    "#     stc2=\"C{}toC{}\".format(QE+1, PC-1)\n",
    "# ar=RS*PR-M\n",
    "# ME = PR-ar-1\n",
    "# if ME==0:\n",
    "#     str1=\"R0\"\n",
    "# else:\n",
    "#     str1=\"R0toR{}\".format(ME)\n",
    "# if ME==(PR-2):\n",
    "#     str2=\"R{}\".format(PR-1)\n",
    "# else:\n",
    "#     str2=\"R{}toR{}\".format(ME+1, PR-1)\n",
    "# print(\"output \"+stc1+str1+\"EReady,\", file=of)\n",
    "# if ar!=0:\n",
    "#     print(\"output \"+stc1+str2+\"EReady,\", file=of)\n",
    "# else:\n",
    "#     print(\"output reg NUEReady1 = 0, //not used\", file=of)\n",
    "# if ac!=0:\n",
    "#     print(\"output \"+stc2+str1+\"EReady,\", file=of)\n",
    "#     if ar!=0:\n",
    "#         print(\"output \"+stc2+str2+\"EReady,\", file=of)\n",
    "#     else:\n",
    "#         print(\"output reg NUEReady2 = 0, //not used\", file=of)\n",
    "# else:\n",
    "#     print(\"output reg NUEReady2 = 0, //not used\", file=of)\n",
    "#     print(\"output reg NUEReady3 = 0, //not used\", file=of)\n",
    "# if lgRS<=1:\n",
    "#     print(\"output rowSetOutNo,\", file=of)\n",
    "# else:\n",
    "#     print(\"output [{}:0] rowSetOutNo,\".format(lgRS-1), file=of)\n",
    "# if lgCS<=1:\n",
    "#     print(\"output columnSetOutNo,\", file=of)\n",
    "# else:\n",
    "#     print(\"output [{}:0] columnSetOutNo,\".format(lgCS-1), file=of)\n",
    "# lgN=math.ceil(math.log2(N))\n",
    "# al=-1+lgN\n",
    "# if al==0:\n",
    "#     print(\"output signed [(2*IN_WIDTH):0] \", end='',file=of)\n",
    "# elif al<0:\n",
    "#     print(\"output signed [(2*IN_WIDTH){}:0] \".format(al), end='',file=of)\n",
    "# else:\n",
    "#     print(\"output signed [(2*IN_WIDTH)+{}:0] \".format(al), end='',file=of)\n",
    "# for i in range(PC):\n",
    "#     for j in range(PR):\n",
    "#         print(\"EC{}R{}, \".format(i, j), end='',file=of)\n",
    "# print(file=of)\n",
    "# print(\"output early\"+stc1+str1+\"EReady,\", file=of)\n",
    "# if ar!=0:\n",
    "#     print(\"output early\"+stc1+str2+\"EReady,\", file=of)\n",
    "# else:\n",
    "#     print(\"output reg NUeEReady1 = 0, //not used\", file=of)\n",
    "# if ac!=0:\n",
    "#     print(\"output early\"+stc2+str1+\"EReady,\", file=of)\n",
    "#     if ar!=0:\n",
    "#         print(\"output early\"+stc2+str2+\"EReady\", file=of)\n",
    "#     else:\n",
    "#         print(\"output reg NUeEReady2 = 0 //not used\", file=of)\n",
    "# else:\n",
    "#     print(\"output reg NUeEReady2 = 0, //not used\", file=of)\n",
    "#     print(\"output reg NUeEReady3 = 0 //not used\", file=of)\n",
    "# print(\");\\n\", file=of)"
   ]
  },
  {
   "cell_type": "code",
   "execution_count": 27,
   "metadata": {},
   "outputs": [
    {
     "name": "stdout",
     "output_type": "stream",
     "text": [
      "reg clk, reset, enable;\n",
      "wire newInSeriesStart;\n",
      "wire [2:0] inSeries;\n",
      "wire [1:0] rowSetInNo;\n",
      "wire [1:0] columnSetInNo;\n",
      "reg inReady;\n",
      "reg signed [IN_WIDTH-1:0] AE0R0, AE1R0, AE2R0, AE3R0, AE4R0, AE5R0, AE6R0, AE7R0, AE8R0,\n",
      "AE0R1, AE1R1, AE2R1, AE3R1, AE4R1, AE5R1, AE6R1, AE7R1, AE8R1;\n",
      "reg signed [IN_WIDTH-1:0] BE0C0, BE1C0, BE2C0, BE3C0, BE4C0, BE5C0, BE6C0, BE7C0, BE8C0,\n",
      "BE0C1, BE1C1, BE2C1, BE3C1, BE4C1, BE5C1, BE6C1, BE7C1, BE8C1;\n",
      "wire C0R0EReady;\n",
      "wire C0R1EReady;\n",
      "wire C1R0EReady;\n",
      "wire C1R1EReady;\n",
      "wire [1:0] rowSetOutNo;\n",
      "wire [1:0] columnSetOutNo;\n",
      "wire signed [(2*IN_WIDTH)+3:0] EC0R0, EC0R1,\n",
      "EC1R0, EC1R1;\n",
      "wire earlyC0R0EReady;\n",
      "wire earlyC0R1EReady;\n",
      "wire earlyC1R0EReady;\n",
      "wire earlyC1R1EReady;\n",
      "\n"
     ]
    }
   ],
   "source": [
    "print(\"reg clk, reset, enable;\", file=of)\n",
    "print(\"wire newInSeriesStart;\", file=of)\n",
    "lghrr=math.ceil(math.log2(HRR))\n",
    "print(\"wire \", end='', file=of)\n",
    "if lghrr==1:\n",
    "    print(\"inSeries;\", file=of)\n",
    "elif lghrr>1:\n",
    "    print(\"[{}:0] inSeries;\".format(lghrr-1), file=of)\n",
    "lgRS=math.ceil(math.log2(RS))\n",
    "print(\"wire \", end='', file=of)\n",
    "if lgRS<=1:\n",
    "    print(\"rowSetInNo;\", file=of)\n",
    "else:\n",
    "    print(\"[{}:0] rowSetInNo;\".format(lgRS-1), file=of)\n",
    "lgCS=math.ceil(math.log2(CS))\n",
    "print(\"wire \", end='', file=of)\n",
    "if lgCS<=1:\n",
    "    print(\"columnSetInNo;\", file=of)\n",
    "else:\n",
    "    print(\"[{}:0] columnSetInNo;\".format(lgCS-1), file=of)\n",
    "print(\"reg inReady;\", file=of)\n",
    "print(\"reg signed [IN_WIDTH-1:0] \", end='', file=of)\n",
    "for i in range(PR):\n",
    "    for j in range(N):\n",
    "        print(\"AE{}R{}\".format(j, i), end='', file=of)\n",
    "        if i==(PR-1) and j==(N-1):\n",
    "            print(\";\", file=of)\n",
    "        elif j!=(N-1):\n",
    "            print(\", \", end='', file=of)            \n",
    "        else:\n",
    "            print(\",\", file=of)\n",
    "#         print(\"AE{}R{}\".format(j, i), end='', file=of)\n",
    "#         if i!=(PR-1) or j!=(N-1):\n",
    "#             print(\", \", end='', file=of)\n",
    "# print(\";\", file=of)\n",
    "print(\"reg signed [IN_WIDTH-1:0] \", end='', file=of)\n",
    "for i in range(PC):\n",
    "    for j in range(N):\n",
    "        print(\"BE{}C{}\".format(j, i), end='', file=of)\n",
    "        if i==(PC-1) and j==(N-1):\n",
    "            print(\";\", file=of)\n",
    "        elif j!=(N-1):\n",
    "            print(\", \", end='', file=of)            \n",
    "        else:\n",
    "            print(\",\", file=of)\n",
    "ac=CS*PC-Q\n",
    "QE = PC-ac-1\n",
    "if QE==0:\n",
    "    stc1=\"C0\"\n",
    "else:\n",
    "    stc1=\"C0toC{}\".format(QE)\n",
    "if QE==(PC-2):\n",
    "    stc2=\"C{}\".format(PC-1)\n",
    "else:\n",
    "    stc2=\"C{}toC{}\".format(QE+1, PC-1)\n",
    "ar=RS*PR-M\n",
    "ME = PR-ar-1\n",
    "if ME==0:\n",
    "    str1=\"R0\"\n",
    "else:\n",
    "    str1=\"R0toR{}\".format(ME)\n",
    "if ME==(PR-2):\n",
    "    str2=\"R{}\".format(PR-1)\n",
    "else:\n",
    "    str2=\"R{}toR{}\".format(ME+1, PR-1)\n",
    "print(\"wire \"+stc1+str1+\"EReady;\", file=of)\n",
    "if ar!=0:\n",
    "    print(\"wire \"+stc1+str2+\"EReady;\", file=of)\n",
    "else:\n",
    "    print(\"wire NUEReady1; //not used\", file=of)\n",
    "if ac!=0:\n",
    "    print(\"wire \"+stc2+str1+\"EReady;\", file=of)\n",
    "    if ar!=0:\n",
    "        print(\"wire \"+stc2+str2+\"EReady;\", file=of)\n",
    "    else:\n",
    "        print(\"wire NUEReady2; //not used\", file=of)\n",
    "else:\n",
    "    print(\"wire NUEReady2; //not used\", file=of)\n",
    "    print(\"wire NUEReady3; //not used\", file=of)\n",
    "if lgRS<=1:\n",
    "    print(\"wire rowSetOutNo;\", file=of)\n",
    "else:\n",
    "    print(\"wire [{}:0] rowSetOutNo;\".format(lgRS-1), file=of)\n",
    "if lgCS<=1:\n",
    "    print(\"wire columnSetOutNo;\", file=of)\n",
    "else:\n",
    "    print(\"wire [{}:0] columnSetOutNo;\".format(lgCS-1), file=of)\n",
    "lgN=math.ceil(math.log2(N))\n",
    "al=-1+lgN\n",
    "if al==0:\n",
    "    print(\"wire signed [(2*IN_WIDTH):0] \", end='',file=of)\n",
    "elif al<0:\n",
    "    print(\"wire signed [(2*IN_WIDTH){}:0] \".format(al), end='',file=of)\n",
    "else:\n",
    "    print(\"wire signed [(2*IN_WIDTH)+{}:0] \".format(al), end='',file=of)\n",
    "for i in range(PC):\n",
    "    for j in range(PR):\n",
    "        print(\"EC{}R{}\".format(i, j), end='',file=of)\n",
    "        if i==(PR-1) and j==(PC-1):\n",
    "            print(\";\", file=of)\n",
    "        elif j!=(PC-1):\n",
    "            print(\", \", end='', file=of)            \n",
    "        else:\n",
    "            print(\",\", file=of)\n",
    "print(\"wire early\"+stc1+str1+\"EReady;\", file=of)\n",
    "if ar!=0:\n",
    "    print(\"wire early\"+stc1+str2+\"EReady;\", file=of)\n",
    "else:\n",
    "    print(\"wire NUeEReady1; //not used\", file=of)\n",
    "if ac!=0:\n",
    "    print(\"wire early\"+stc2+str1+\"EReady;\", file=of)\n",
    "    if ar!=0:\n",
    "        print(\"wire early\"+stc2+str2+\"EReady;\", file=of)\n",
    "    else:\n",
    "        print(\"wire NUeEReady2; //not used\", file=of)\n",
    "else:\n",
    "    print(\"wire NUeEReady2; //not used\", file=of)\n",
    "    print(\"wire NUeEReady3; //not used\", file=of)\n",
    "print(file=of)"
   ]
  },
  {
   "cell_type": "code",
   "execution_count": 28,
   "metadata": {},
   "outputs": [
    {
     "name": "stdout",
     "output_type": "stream",
     "text": [
      "MatrixMatrixMultiply_5_9_5_2PR_2PC_SI_HRx5_C2_A0_IL_CL_RL_MR\n",
      "#(IN_WIDTH, INPUT_REG_DEPTH, MULT_PIPE_DEPTH)\n",
      "UUT(\n",
      "clk, reset, enable,\n",
      "newInSeriesStart,\n",
      "inSeries,\n",
      "rowSetInNo,\n",
      "columnSetInNo,\n",
      "inReady,\n",
      "AE0R0, AE1R0, AE2R0, AE3R0, AE4R0, AE5R0, AE6R0, AE7R0, AE8R0, \n",
      "AE0R1, AE1R1, AE2R1, AE3R1, AE4R1, AE5R1, AE6R1, AE7R1, AE8R1, \n",
      "BE0C0, BE1C0, BE2C0, BE3C0, BE4C0, BE5C0, BE6C0, BE7C0, BE8C0, \n",
      "BE0C1, BE1C1, BE2C1, BE3C1, BE4C1, BE5C1, BE6C1, BE7C1, BE8C1, \n",
      "C0R0EReady,\n",
      "C0R1EReady,\n",
      "C1R0EReady,\n",
      "C1R1EReady,\n",
      "rowSetOutNo,\n",
      "columnSetOutNo,\n",
      "EC0R0, EC0R1, \n",
      "EC1R0, EC1R1, \n",
      "earlyC0R0EReady,\n",
      "earlyC0R1EReady,\n",
      "earlyC1R0EReady,\n",
      "earlyC1R1EReady\n",
      ");\n",
      "\n"
     ]
    }
   ],
   "source": [
    "print(UUTModuleName, file=of)\n",
    "print(\"#({}, INPUT_REG_DEPTH, MULT_PIPE_DEPTH)\".format(IN_WIDTH), file=of)\n",
    "print(\"UUT(\", file=of)\n",
    "\n",
    "print(\"clk, reset, enable,\", file=of)\n",
    "print(\"newInSeriesStart,\", file=of)\n",
    "print(\"inSeries,\", file=of)\n",
    "print(\"rowSetInNo,\", file=of)\n",
    "print(\"columnSetInNo,\", file=of)\n",
    "print(\"inReady,\", file=of)\n",
    "for i in range(PR):\n",
    "    for j in range(N):\n",
    "        print(\"AE{}R{}, \".format(j, i), end='', file=of)\n",
    "    print(file=of)\n",
    "for i in range(PC):\n",
    "    for j in range(N):\n",
    "        print(\"BE{}C{}, \".format(j, i), end='', file=of)\n",
    "    print(file=of)\n",
    "print(stc1+str1+\"EReady,\", file=of)\n",
    "if ar!=0:\n",
    "    print(stc1+str2+\"EReady,\", file=of)\n",
    "else:\n",
    "    print(\"NUEReady1, //not used\", file=of)\n",
    "if ac!=0:\n",
    "    print(stc2+str1+\"EReady,\", file=of)\n",
    "    if ar!=0:\n",
    "        print(stc2+str2+\"EReady,\", file=of)\n",
    "    else:\n",
    "        print(\"NUEReady2, //not used\", file=of)\n",
    "else:\n",
    "    print(\"NUEReady2, //not used\", file=of)\n",
    "    print(\"NUEReady3, //not used\", file=of)\n",
    "print(\"rowSetOutNo,\", file=of)\n",
    "print(\"columnSetOutNo,\", file=of)\n",
    "for i in range(PC):\n",
    "    for j in range(PR):\n",
    "        print(\"EC{}R{}, \".format(i, j), end='',file=of)\n",
    "    print(file=of)\n",
    "print(\"early\"+stc1+str1+\"EReady,\", file=of)\n",
    "if ar!=0:\n",
    "    print(\"early\"+stc1+str2+\"EReady,\", file=of)\n",
    "else:\n",
    "    print(\"NUeEReady1, //not used\", file=of)\n",
    "if ac!=0:\n",
    "    print(\"early\"+stc2+str1+\"EReady,\", file=of)\n",
    "    if ar!=0:\n",
    "        print(\"early\"+stc2+str2+\"EReady\", file=of)\n",
    "    else:\n",
    "        print(\"NUeEReady2 //not used\", file=of)\n",
    "else:\n",
    "    print(\"NUeEReady2, //not used\", file=of)\n",
    "    print(\"NUeEReady3 //not used\", file=of)\n",
    "print(\");\\n\", file=of)"
   ]
  },
  {
   "cell_type": "code",
   "execution_count": 8,
   "metadata": {},
   "outputs": [
    {
     "data": {
      "text/plain": [
       "4"
      ]
     },
     "execution_count": 8,
     "metadata": {},
     "output_type": "execute_result"
    }
   ],
   "source": [
    "import random\n",
    "random.randrange(0, 10)"
   ]
  },
  {
   "cell_type": "code",
   "execution_count": 36,
   "metadata": {
    "scrolled": false
   },
   "outputs": [
    {
     "name": "stdout",
     "output_type": "stream",
     "text": [
      "initial begin\n",
      "\tclk = 1;\n",
      "\treset <= 0;\n",
      "\tenable <= 1;\n",
      "\tinReady <= 1;\n",
      "\t//R 0 1, C 0 1\n",
      "\tjj:0\n",
      "\tAE0R0 <= \n",
      "\tAE1R0 <= \n",
      "\tAE2R0 <= \n",
      "\tAE3R0 <= \n",
      "\tAE4R0 <= \n",
      "\tAE5R0 <= \n",
      "\tAE6R0 <= \n",
      "\tAE7R0 <= \n",
      "\tAE8R0 <= \n",
      "\tjj:1\n",
      "\tAE0R1 <= \n",
      "\tAE1R1 <= \n",
      "\tAE2R1 <= \n",
      "\tAE3R1 <= \n",
      "\tAE4R1 <= \n",
      "\tAE5R1 <= \n",
      "\tAE6R1 <= \n",
      "\tAE7R1 <= \n",
      "\tAE8R1 <= \n",
      "\tii:1\n",
      "\tBE0C0 <= \n",
      "\tBE1C0 <= \n",
      "\tBE2C0 <= \n",
      "\tBE3C0 <= \n",
      "\tBE4C0 <= \n",
      "\tBE5C0 <= \n",
      "\tBE6C0 <= \n",
      "\tBE7C0 <= \n",
      "\tBE8C0 <= \n",
      "\tii:1\n",
      "\tBE0C1 <= \n",
      "\tBE1C1 <= \n",
      "\tBE2C1 <= \n",
      "\tBE3C1 <= \n",
      "\tBE4C1 <= \n",
      "\tBE5C1 <= \n",
      "\tBE6C1 <= \n",
      "\tBE7C1 <= \n",
      "\tBE8C1 <= \n",
      "\t//R 2 3, [C 0 1]\n",
      "\tjj:2\n",
      "\tAE0R0 <= \n",
      "\tAE1R0 <= \n",
      "\tAE2R0 <= \n",
      "\tAE3R0 <= \n",
      "\tAE4R0 <= \n",
      "\tAE5R0 <= \n",
      "\tAE6R0 <= \n",
      "\tAE7R0 <= \n",
      "\tAE8R0 <= \n",
      "\tjj:3\n",
      "\tAE0R1 <= \n",
      "\tAE1R1 <= \n",
      "\tAE2R1 <= \n",
      "\tAE3R1 <= \n",
      "\tAE4R1 <= \n",
      "\tAE5R1 <= \n",
      "\tAE6R1 <= \n",
      "\tAE7R1 <= \n",
      "\tAE8R1 <= \n",
      "\tii:3\n",
      "\tii:3\n",
      "\t#5;\n",
      "\t//R 4, [C 0 1]\n",
      "\tjj:4\n",
      "\tAE0R0 <= \n",
      "\tAE1R0 <= \n",
      "\tAE2R0 <= \n",
      "\tAE3R0 <= \n",
      "\tAE4R0 <= \n",
      "\tAE5R0 <= \n",
      "\tAE6R0 <= \n",
      "\tAE7R0 <= \n",
      "\tAE8R0 <= \n",
      "\tjj:5\n",
      "\tii:5\n",
      "\tii:5\n",
      "\t#5;\n",
      "\t//[R 0 1], C 2 3\n",
      "\tjj:0\n",
      "\tjj:1\n",
      "\tii:1\n",
      "\tBE0C0 <= \n",
      "\tBE1C0 <= \n",
      "\tBE2C0 <= \n",
      "\tBE3C0 <= \n",
      "\tBE4C0 <= \n",
      "\tBE5C0 <= \n",
      "\tBE6C0 <= \n",
      "\tBE7C0 <= \n",
      "\tBE8C0 <= \n",
      "\tii:1\n",
      "\tBE0C1 <= \n",
      "\tBE1C1 <= \n",
      "\tBE2C1 <= \n",
      "\tBE3C1 <= \n",
      "\tBE4C1 <= \n",
      "\tBE5C1 <= \n",
      "\tBE6C1 <= \n",
      "\tBE7C1 <= \n",
      "\tBE8C1 <= \n",
      "\t#5;\n",
      "\t//[R 2 3], [C 2 3]\n",
      "\tjj:2\n",
      "\tjj:3\n",
      "\tii:3\n",
      "\tii:3\n",
      "\t#5;\n",
      "\t//[R 4], [C 2 3]\n",
      "\tjj:4\n",
      "\tjj:5\n",
      "\tii:5\n",
      "\tii:5\n",
      "\t#5;\n",
      "\t//[R 0 1], C 4\n",
      "\tjj:0\n",
      "\tjj:1\n",
      "\tii:1\n",
      "\tBE0C0 <= \n",
      "\tBE1C0 <= \n",
      "\tBE2C0 <= \n",
      "\tBE3C0 <= \n",
      "\tBE4C0 <= \n",
      "\tBE5C0 <= \n",
      "\tBE6C0 <= \n",
      "\tBE7C0 <= \n",
      "\tBE8C0 <= \n",
      "\tii:1\n",
      "\t#5;\n",
      "\t//[R 2 3], [C 4]\n",
      "\tjj:2\n",
      "\tjj:3\n",
      "\tii:3\n",
      "\tii:3\n",
      "\t#5;\n",
      "\t//[R 4], [C 4]\n",
      "\tjj:4\n",
      "\tjj:5\n",
      "\tii:5\n",
      "\tii:5\n",
      "\t#5;\n",
      "end\n",
      "\n",
      "always #0.5 clk = ~ clk;\n",
      "\n"
     ]
    }
   ],
   "source": [
    "print(\"initial begin\", file=of)\n",
    "print(\"\\tclk = 1;\", file=of)\n",
    "print(\"\\treset <= 0;\", file=of)\n",
    "print(\"\\tenable <= 1;\", file=of)\n",
    "print(\"\\tinReady <= 1;\", file=of)\n",
    "\n",
    "FirstInput = True\n",
    "for i in range(CS):\n",
    "    for j in range(RS):\n",
    "        print(\"\\t//\", end='', file=of)\n",
    "        if Enable_Row_Latch and i>0:\n",
    "            print(\"[\", end='', file=of)\n",
    "        print(\"R\", end='', file=of)\n",
    "        for jj in range(j*PR, (j+1)*PR):\n",
    "            if jj<M:\n",
    "                print(\" {}\".format(jj), end='', file=of)\n",
    "        if Enable_Row_Latch and i>0:\n",
    "            print(\"]\", end='', file=of)\n",
    "        print(\", \", end='', file=of)\n",
    "        if Enable_Column_Latch and j>0:\n",
    "            print(\"[\", end='', file=of)\n",
    "        print(\"C\", end='', file=of)    \n",
    "        for ii in range(i*PC, (i+1)*PC):\n",
    "            if ii<Q:\n",
    "                print(\" {}\".format(ii), end='', file=of)\n",
    "        if Enable_Column_Latch and j>0:\n",
    "            print(\"]\", end='', file=of)\n",
    "        print(file=of)\n",
    "        \n",
    "        jc=0\n",
    "        for jj in range(j*PR, (j+1)*PR):\n",
    "            #print(\"\\tjj:{}\".format(jj), file=of)\n",
    "            if jj<M and (not Enable_Row_Latch or i==0): #if jj<M:\n",
    "                for nn in range(N):\n",
    "                    print(\"\\tAE{}R{} <= \".format(nn, jc), file=of)\n",
    "            jc += 1\n",
    "        \n",
    "        ic=0\n",
    "        for ii in range(i*PC, (i+1)*PC):\n",
    "            #print(\"\\tii:{}\".format(jj), file=of)\n",
    "            if ii<Q and (not Enable_Column_Latch or j==0): #if ii<Q:\n",
    "                for nn in range(N):\n",
    "                    print(\"\\tBE{}C{} <= \".format(nn, ic), file=of)\n",
    "            ic += 1\n",
    "        \n",
    "        if FirstInput:\n",
    "            FirstInput = False\n",
    "        else:\n",
    "            print(\"\\t#{};\".format(HRR), file=of)\n",
    "        #print(file=of)\n",
    "\n",
    "print(\"end\", file=of)\n",
    "print(file=of)\n",
    "print(\"always #0.5 clk = ~ clk;\", file=of)\n",
    "print(file=of)"
   ]
  },
  {
   "cell_type": "code",
   "execution_count": 30,
   "metadata": {},
   "outputs": [
    {
     "name": "stdout",
     "output_type": "stream",
     "text": [
      "//initial Delays:\n",
      "//MR: 1\n",
      "//INPUT_REG_DEPTH + MULT_PIPE_DEPTH\n",
      "//C2: 1\n",
      "//A0, Adder Tree Delay: 0\n",
      "//HRx5: 5\n",
      "parameter initial_delay = INPUT_REG_DEPTH + MULT_PIPE_DEPTH + 7;\n",
      "\n",
      "task Print_Parameters_Close;\n",
      "\tbegin\n",
      "\t$fdisplay(outfile, \"\\nParameters' values:\");\n",
      "\t$fdisplay(outfile, \"IN_WIDTH = %0d\", IN_WIDTH);\n",
      "\t$fdisplay(outfile, \"INPUT_REG_DEPTH = %0d\", INPUT_REG_DEPTH);\n",
      "\t$fdisplay(outfile, \"MULT_PIPE_DEPTH = %0d\", MULT_PIPE_DEPTH);\n",
      "\t$fclose(outfile);\n",
      "\tend\n",
      "endtask\n",
      "\n",
      "task Simulation_Fail;\n",
      "\tbegin\n",
      "\t$fdisplay(outfile, \"Failed\");\n",
      "\t$fdisplay(outfile, \"Error at %t\", $realtime);\n",
      "\tPrint_Parameters_Close();\n",
      "\tend\n",
      "endtask\n",
      "\n",
      "integer outfile;\n",
      "initial begin\n",
      "$timeformat (-9, 1, \" ns\", 0);\n",
      "outfile = $fopen(\"Simulation_Result.txt\", \"w\") ;\n",
      "#initial_delay;\n",
      "#0.5;\n"
     ]
    }
   ],
   "source": [
    "initial_delay_p = 0\n",
    "print(\"//initial Delays:\", file=of)\n",
    "if Enable_SIM_Output_Registers<=0:\n",
    "    print(\"//NMR: \", end='', file=of)\n",
    "    print(\"0\", file=of)\n",
    "else:\n",
    "    print(\"//MR: \", end='', file=of)\n",
    "    print(\"1\", file=of)\n",
    "    initial_delay_p += 1\n",
    "print(\"//INPUT_REG_DEPTH + MULT_PIPE_DEPTH\", file=of)\n",
    "print(\"//C{}: {}\".format(MAMCS, MAMCS-1), file=of)\n",
    "initial_delay_p += (MAMCS-1)\n",
    "if AdderSize==0:\n",
    "    print(\"//A0, Adder Tree Delay: 0\", file=of)    \n",
    "else:\n",
    "    AdderTreeDelay = math.ceil(math.log(NumOfComponents, AdderSize))\n",
    "    print(\"//S{}E, C{}, NC{}, A{}, Adder Tree Delay: {}\".format(NMult, MAMCS, NumOfComponents, AdderSize, AdderTreeDelay), file=of)\n",
    "    initial_delay_p += AdderTreeDelay\n",
    "print(\"//HRx{}: {}\".format(HRR, HRR), file=of)\n",
    "initial_delay_p += HRR\n",
    "print(\"parameter initial_delay = INPUT_REG_DEPTH + MULT_PIPE_DEPTH + {};\".format(initial_delay_p), file=of)\n",
    "print(file=of)\n",
    "\n",
    "print(\"task Print_Parameters_Close;\", file=of)\n",
    "print(\"\\tbegin\", file=of)\n",
    "print(\"\\t$fdisplay(outfile, \\\"\\\\nParameters' values:\\\");\", file=of)\n",
    "print(\"\\t$fdisplay(outfile, \\\"IN_WIDTH = %0d\\\", IN_WIDTH);\", file=of)\n",
    "print(\"\\t$fdisplay(outfile, \\\"INPUT_REG_DEPTH = %0d\\\", INPUT_REG_DEPTH);\", file=of)\n",
    "print(\"\\t$fdisplay(outfile, \\\"MULT_PIPE_DEPTH = %0d\\\", MULT_PIPE_DEPTH);\", file=of)\n",
    "print(\"\\t$fclose(outfile);\", file=of)\n",
    "print(\"\\tend\", file=of)\n",
    "print(\"endtask\", file=of)\n",
    "print(file=of)\n",
    "\n",
    "print(\"task Simulation_Fail;\", file=of)\n",
    "print(\"\\tbegin\", file=of)\n",
    "print(\"\\t$fdisplay(outfile, \\\"Failed\\\");\", file=of)\n",
    "print(\"\\t$fdisplay(outfile, \\\"Error at %t\\\", $realtime);\", file=of)\n",
    "print(\"\\tPrint_Parameters_Close();\", file=of)\n",
    "print(\"\\tend\", file=of)\n",
    "print(\"endtask\", file=of)\n",
    "print(file=of)\n",
    "\n",
    "print(\"integer outfile;\", file=of)\n",
    "print(\"initial begin\", file=of)\n",
    "print(\"$timeformat (-9, 1, \\\" ns\\\", 0);\", file=of)\n",
    "print(\"outfile = $fopen(\\\"Simulation_Result.txt\\\", \\\"w\\\") ;\", file=of)\n",
    "print(\"#initial_delay;\", file=of)\n",
    "print(\"#0.5;\", file=of)"
   ]
  },
  {
   "cell_type": "code",
   "execution_count": 31,
   "metadata": {},
   "outputs": [
    {
     "name": "stdout",
     "output_type": "stream",
     "text": [
      "#0.5;\n",
      "$fdisplay(outfile, \"Succeeded\");\n",
      "$fdisplay(outfile, \"Simulation completed without error at %t\", $realtime);\n",
      "Print_Parameters_Close();\n",
      "$finish;\n",
      "end\n",
      "\n"
     ]
    }
   ],
   "source": [
    "\n",
    "print(\"#0.5;\", file=of)\n",
    "print(\"$fdisplay(outfile, \\\"Succeeded\\\");\", file=of)\n",
    "print(\"$fdisplay(outfile, \\\"Simulation completed without error at %t\\\", $realtime);\", file=of)\n",
    "print(\"Print_Parameters_Close();\", file=of)\n",
    "print(\"$finish;\", file=of)\n",
    "print(\"end\", file=of)\n",
    "print(file=of)"
   ]
  },
  {
   "cell_type": "code",
   "execution_count": 32,
   "metadata": {},
   "outputs": [
    {
     "name": "stdout",
     "output_type": "stream",
     "text": [
      "endmodule\n"
     ]
    }
   ],
   "source": [
    "print(\"endmodule\", file=of)"
   ]
  },
  {
   "cell_type": "code",
   "execution_count": 33,
   "metadata": {},
   "outputs": [],
   "source": [
    "if __Print_To_File>0:\n",
    "    of.close()"
   ]
  }
 ],
 "metadata": {
  "kernelspec": {
   "display_name": "Python 3",
   "language": "python",
   "name": "python3"
  },
  "language_info": {
   "codemirror_mode": {
    "name": "ipython",
    "version": 3
   },
   "file_extension": ".py",
   "mimetype": "text/x-python",
   "name": "python",
   "nbconvert_exporter": "python",
   "pygments_lexer": "ipython3",
   "version": "3.6.3"
  }
 },
 "nbformat": 4,
 "nbformat_minor": 1
}
