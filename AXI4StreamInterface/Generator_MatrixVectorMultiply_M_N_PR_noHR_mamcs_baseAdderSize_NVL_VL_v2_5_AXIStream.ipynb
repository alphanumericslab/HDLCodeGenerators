{
 "cells": [
  {
   "cell_type": "code",
   "execution_count": 1,
   "metadata": {},
   "outputs": [],
   "source": [
    "import sys\n",
    "import math\n",
    "import os\n",
    "import shutil"
   ]
  },
  {
   "cell_type": "code",
   "execution_count": 2,
   "metadata": {
    "scrolled": true
   },
   "outputs": [
    {
     "name": "stdout",
     "output_type": "stream",
     "text": [
      "importing Jupyter notebook from Generator_MatrixVectorMultiply_M_N_PR_noHR_mamcs_baseAdderSize_NVL_VL_v2_5.ipynb\n",
      "importing Jupyter notebook from DotProduct_noHR_C_V3_7.ipynb\n",
      "importing Jupyter notebook from DotProduct_Systolic_V1_11.ipynb\n",
      "importing Jupyter notebook from AdderTree_ASm_V1_20.ipynb\n",
      "importing Jupyter notebook from RegisteredNto1Adder_V1_1.ipynb\n",
      "importing Jupyter notebook from DotProduct_noHR_M_V3_7.ipynb\n"
     ]
    }
   ],
   "source": [
    "import import_ipynb\n",
    "from Generator_MatrixVectorMultiply_M_N_PR_noHR_mamcs_baseAdderSize_NVL_VL_v2_5 import MatrixVectorMultiply_noHR_MAMCS"
   ]
  },
  {
   "cell_type": "code",
   "execution_count": 3,
   "metadata": {},
   "outputs": [
    {
     "name": "stdout",
     "output_type": "stream",
     "text": [
      "Enter M: 10\n",
      "Enter N: 13\n",
      "Enter No Of Parallel Row (empty for 1): 10\n",
      "Enter Multiply-Add Max Component Size (empty for 13): 13\n",
      "Enter maximum size allowed for base adders (empty for 2): \n",
      "Enable Vector Latch? (empty or 0 to disable, 1 to enable): \n",
      "Enter IN_WIDTH default value (empty for 10): \n",
      "Enter INPUT_REG_DEPTH default value (empty for 1): \n",
      "Enter MULT_PIPE_DEPTH default value (empty for 1): \n"
     ]
    }
   ],
   "source": [
    "M = input('Enter M: ')\n",
    "N = input('Enter N: ')\n",
    "PR = input('Enter No Of Parallel Row (empty for 1): ')\n",
    "MAMCS = input('Enter Multiply-Add Max Component Size (empty for {}): '.format(N))\n",
    "AdderSize = input('Enter maximum size allowed for base adders (empty for 2): ')\n",
    "Enable_Vector_Latch = input('Enable Vector Latch? (empty or 0 to disable, 1 to enable): ')\n",
    "IN_WIDTH = input('Enter IN_WIDTH default value (empty for 10): ')\n",
    "INPUT_REG_DEPTH = input('Enter INPUT_REG_DEPTH default value (empty for 1): ')\n",
    "MULT_PIPE_DEPTH = input('Enter MULT_PIPE_DEPTH default value (empty for 1): ')\n",
    "M=int(M)\n",
    "N=int(N)\n",
    "PR=int(PR)\n",
    "#MAMCS=int(MAMCS)\n",
    "#AdderSize=int(AdderSize)\n",
    "#Enable_Vector_Latch=int(Enable_Vector_Latch)\n",
    "if not IN_WIDTH:\n",
    "    IN_WIDTH=10\n",
    "else:\n",
    "    IN_WIDTH = int(IN_WIDTH)\n",
    "if not PR:\n",
    "    PR=1\n",
    "else:\n",
    "    PR = int(PR)\n",
    "#INPUT_REG_DEPTH=int(INPUT_REG_DEPTH)\n",
    "#MULT_PIPE_DEPTH=int(MULT_PIPE_DEPTH)\n",
    "lgN=math.ceil(math.log(N,2))\n",
    "OUT_WIDTH=2*IN_WIDTH+lgN\n",
    "parameters={\n",
    "    \"N\":N,\n",
    "    \"M\":M,\n",
    "    \"PR\":PR,\n",
    "    \"MAMCS\":MAMCS,\n",
    "    \"AdderSize\":AdderSize,\n",
    "    \"Enable_Vector_Latch\":Enable_Vector_Latch,\n",
    "    \"INPUT_REG_DEPTH\":INPUT_REG_DEPTH,\n",
    "    \"MULT_PIPE_DEPTH\":MULT_PIPE_DEPTH,\n",
    "    #\"ENABLE_INPUT_REGISTERS\":EnableInputRegisters,\n",
    "    \"IN_WIDTH\":IN_WIDTH\n",
    "}\n",
    "IN_DATA_LENGHT=(PR+1)*N*IN_WIDTH  #PR shows how many rows is taken simultaneously\n",
    "OUT_DATA_LENGHT=PR*(OUT_WIDTH)\n",
    "Print_To_File=1\n",
    "Files_Location='MatrixVectorMultiplyGeneratedVerilogCode/'\n",
    "Is_Top=1\n",
    "modules={}\n",
    "GeneratedFileName=MatrixVectorMultiply_noHR_MAMCS(parameters,Print_To_File,Files_Location,Is_Top,modules)\n",
    "Files_Location+=GeneratedFileName+\"/\"\n",
    "wrapperModuleName=GeneratedFileName+\"_AXIStream\"\n",
    "of=open(Files_Location+wrapperModuleName+\".v\", 'w+')"
   ]
  },
  {
   "cell_type": "code",
   "execution_count": 4,
   "metadata": {},
   "outputs": [],
   "source": [
    "# in this cell we will use the generated file and instanciate it in our new AXI wrapper module.\n",
    "print(\"`timescale 1ns / 1ps\\n\",file=of)\n",
    "print(\"module \"+wrapperModuleName,file=of)\n",
    "print(\"#(\",file=of)\n",
    "print(\"parameter IN_DATA_LENGHT= {}, \".format(IN_DATA_LENGHT),file=of)\n",
    "print(\"parameter OUT_DATA_LENGHT= {} \".format(OUT_DATA_LENGHT),file=of)\n",
    "print(\")( \\n\",file=of)\n",
    "print(\"input aclk,\".format(),file=of)\n",
    "print(\"input aresetn,\".format(),file=of)\n",
    "print(\"input enable,\".format(),file=of)\n",
    "print(\"input [IN_DATA_LENGHT-1:0]s_axi_data,\".format(),file=of)\n",
    "print(\"input s_axi_valid,\".format(),file=of)\n",
    "print(\"input m_axi_ready,\".format(),file=of)\n",
    "print(\"output reg[OUT_DATA_LENGHT-1:0]m_axi_data,\".format(),file=of)\n",
    "print(\"output reg m_axi_valid,\".format(),file=of)\n",
    "print(\"output reg s_axi_ready\".format(),file=of)\n",
    "print(\");\\n\".format(),file=of)\n",
    "print(\"reg inready;\".format(),file=of)\n",
    "print(\"reg [IN_DATA_LENGHT-1:0]indata;\".format(),file=of)\n",
    "print(\"wire outready;\".format(),file=of)\n",
    "print(\"wire earlyoutready;\".format(),file=of)\n",
    "print(\"wire [OUT_DATA_LENGHT-1:0]outdata;\".format(),file=of)"
   ]
  },
  {
   "cell_type": "code",
   "execution_count": 5,
   "metadata": {},
   "outputs": [],
   "source": [
    "print(\"////////////////instancing wrapping module///////////////////\".format(),file=of)\n",
    "print(\"{} {}(\".format(GeneratedFileName,GeneratedFileName+\"_inst\"),file=of)\n",
    "print(\".clk(aclk),\".format(),file=of)\n",
    "print(\".reset(!aresetn),\".format(),file=of)\n",
    "print(\".enable(enable),\".format(),file=of)\n",
    "print(\".inReady(inready),\".format(),file=of)\n",
    "for j in range (PR):\n",
    "    for i in range(N):\n",
    "        print(\".AE{}R{}(indata[{}:{}]),\".format( i, j, IN_DATA_LENGHT-((i+j*N)*(IN_WIDTH))-1 , IN_DATA_LENGHT-((i+j*N+1)*(IN_WIDTH)) ), file=of )\n",
    "for i in range(N):\n",
    "    print(\".VE{}(indata[{}:{}]),\".format( i,  (IN_DATA_LENGHT-(PR*N+i)*(IN_WIDTH))-1 , (IN_DATA_LENGHT-(PR*N+i+1)*(IN_WIDTH)) ), file=of )\n",
    "print(\".E{}toE{}Ready(outready),\".format(0,PR-1),file=of)\n",
    "for j in range (PR):\n",
    "        print(\".E{}(outdata[{}:{}]),\".format( j, OUT_DATA_LENGHT-(j*OUT_WIDTH+1) ,  OUT_DATA_LENGHT-((j+1)*OUT_WIDTH) ), file=of)\n",
    "print(\".earlyE{}toE{}Ready(earlyoutready)\".format(0,PR-1),file=of)\n",
    "print(\");\".format(),file=of)"
   ]
  },
  {
   "cell_type": "code",
   "execution_count": 6,
   "metadata": {},
   "outputs": [],
   "source": [
    "#in this cell we will add Axi stream compatability codes to wrapp the generated module in the previeous cell\n",
    "print(\"/////////////////Main body/////////////\".format(),file=of)\n",
    "print(\"always @(posedge aclk)begin\".format(),file=of)\n",
    "print(\" if(aresetn==0)begin\".format(),file=of)\n",
    "print(\"  m_axi_data<=0;\".format(),file=of)\n",
    "print(\"  m_axi_valid<=0;\".format(),file=of)\n",
    "print(\" end\".format(),file=of)\n",
    "print(\" else begin\".format(),file=of)\n",
    "print(\"  if(m_axi_ready==1 && m_axi_valid==1)begin\".format(),file=of)\n",
    "print(\"   m_axi_valid<=0;\".format(),file=of)\n",
    "print(\"  end\".format(),file=of)\n",
    "print(\"  else if(outready==1)begin\".format(),file=of)\n",
    "print(\"   m_axi_valid<=1;\".format(),file=of)\n",
    "print(\"   m_axi_data<=outdata;\".format(),file=of)\n",
    "print(\"  end\".format(),file=of)\n",
    "print(\" end\".format(),file=of)\n",
    "print(\"end\".format(),file=of)\n",
    "print(\"always @(posedge aclk)begin\".format(),file=of)\n",
    "print(\" if(aresetn==0)begin\".format(),file=of)\n",
    "print(\"  s_axi_ready<=1;\".format(),file=of)\n",
    "print(\"  inready<=0;\".format(),file=of)\n",
    "print(\"  indata<=0;\".format(),file=of)\n",
    "print(\" end\".format(),file=of)\n",
    "print(\" else begin\".format(),file=of)\n",
    "print(\"  inready<=0;\".format(),file=of)\n",
    "print(\"  if(s_axi_valid==1 && s_axi_ready==1)begin\".format(),file=of)\n",
    "print(\"   s_axi_ready<=0;\".format(),file=of)\n",
    "print(\"   inready<=1;\".format(),file=of)\n",
    "print(\"   indata<= s_axi_data;\".format(),file=of)\n",
    "print(\"  end\".format(),file=of)\n",
    "print(\"  else if(m_axi_valid==1 && m_axi_ready==1)begin\".format(),file=of)\n",
    "print(\"   s_axi_ready<=1;\".format(),file=of)\n",
    "print(\"  end\".format(),file=of)\n",
    "print(\" end\".format(),file=of)\n",
    "print(\"end\".format(),file=of)\n",
    "print(\"\\nendmodule\",file=of)\n",
    "of.close()"
   ]
  }
 ],
 "metadata": {
  "kernelspec": {
   "display_name": "Python 3",
   "language": "python",
   "name": "python3"
  },
  "language_info": {
   "codemirror_mode": {
    "name": "ipython",
    "version": 3
   },
   "file_extension": ".py",
   "mimetype": "text/x-python",
   "name": "python",
   "nbconvert_exporter": "python",
   "pygments_lexer": "ipython3",
   "version": "3.7.6"
  }
 },
 "nbformat": 4,
 "nbformat_minor": 4
}
