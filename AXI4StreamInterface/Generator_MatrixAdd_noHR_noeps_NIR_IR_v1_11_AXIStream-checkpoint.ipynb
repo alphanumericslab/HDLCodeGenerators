{
 "cells": [
  {
   "cell_type": "code",
   "execution_count": 44,
   "metadata": {},
   "outputs": [],
   "source": [
    "#this file use Generator_MatrixAdd_noHR_noeps_NIR_IR_v1_11_(delavar edited) file and make an AXIStream version of it."
   ]
  },
  {
   "cell_type": "code",
   "execution_count": 45,
   "metadata": {},
   "outputs": [],
   "source": [
    "import sys\n",
    "import math\n",
    "import os\n",
    "import shutil"
   ]
  },
  {
   "cell_type": "code",
   "execution_count": 46,
   "metadata": {},
   "outputs": [],
   "source": [
    "import import_ipynb\n",
    "from Generator_MatrixAdd_noHR_noeps_NIR_IR_v1_11 import MatrixAdd_noHR_SOE"
   ]
  },
  {
   "cell_type": "code",
   "execution_count": 47,
   "metadata": {},
   "outputs": [
    {
     "name": "stdout",
     "output_type": "stream",
     "text": [
      "Enter N: 12\n",
      "Enter M: 10\n",
      "Enter PR: 10\n",
      "Enter NOEPS(number of element per series): 12\n",
      "Enter register enable: 0\n",
      "Enter width of input elements: 16\n"
     ]
    }
   ],
   "source": [
    "n=input('Enter N: ')\n",
    "m=input('Enter M: ')\n",
    "PR=input('Enter PR: ')\n",
    "noeps=input('Enter NOEPS(number of element per series): ')\n",
    "enableInputRegisters=input('Enter register enable: ')\n",
    "inWidth=input ('Enter width of input elements: ')"
   ]
  },
  {
   "cell_type": "code",
   "execution_count": 48,
   "metadata": {},
   "outputs": [],
   "source": [
    "#making parameters ready for code generator.\n",
    "n=int(n)\n",
    "m=int(m)\n",
    "noeps=int(noeps)\n",
    "enableInputRegisters=int(enableInputRegisters)\n",
    "inWidth=int(inWidth)\n",
    "outWidth=inWidth+1\n",
    "parameters={\n",
    "    \"N\":n,\n",
    "    \"M\":m,\n",
    "    \"PR\":PR,\n",
    "    \"NOEPS\":noeps,\n",
    "    \"ENABLE_INPUT_REGISTERS\":enableInputRegisters,\n",
    "    \"IN_WIDTH\":inWidth\n",
    "}\n",
    "#in and out DataLenght will differ for noeps<n (HRR>1)\n",
    "#noeps=n:\n",
    "IN_DATA_LENGHT=2*n*m*inWidth\n",
    "OUT_DATA_LENGHT=n*m*(inWidth+1)\n",
    "\n",
    "Print_To_File=1\n",
    "Files_Location='MatrixAddGeneratedVerilogCode/'\n",
    "Is_Top=1\n",
    "modules={}\n",
    "GeneratedFileName=MatrixAdd_noHR_SOE(parameters,Print_To_File,Files_Location,Is_Top,modules)\n",
    "Files_Location+=GeneratedFileName+\"/\"\n",
    "wrapperModuleName=GeneratedFileName+\"_AXIStream\"\n",
    "of=open(Files_Location+wrapperModuleName+\".v\", 'w+')"
   ]
  },
  {
   "cell_type": "code",
   "execution_count": 49,
   "metadata": {},
   "outputs": [],
   "source": [
    "# in this cell we will use the generated file and instanciate it in our new AXI wrapper module.\n",
    "print(\"`timescale 1ns / 1ps\\n\",file=of)\n",
    "print(\"module \"+wrapperModuleName,file=of)\n",
    "print(\"#(\",file=of)\n",
    "print(\"parameter IN_DATA_LENGHT= {}, \".format(IN_DATA_LENGHT),file=of)\n",
    "print(\"parameter OUT_DATA_LENGHT= {} \".format(OUT_DATA_LENGHT),file=of)\n",
    "print(\")( \\n\",file=of)\n",
    "print(\"input aclk,\".format(),file=of)\n",
    "print(\"input aresetn,\".format(),file=of)\n",
    "print(\"input enable,\".format(),file=of)\n",
    "print(\"input [IN_DATA_LENGHT-1:0]s_axi_data,\".format(),file=of)\n",
    "print(\"input s_axi_valid,\".format(),file=of)\n",
    "print(\"input m_axi_ready,\".format(),file=of)\n",
    "print(\"output reg[OUT_DATA_LENGHT-1:0]m_axi_data,\".format(),file=of)\n",
    "print(\"output reg m_axi_valid,\".format(),file=of)\n",
    "print(\"output reg s_axi_ready\".format(),file=of)\n",
    "print(\");\\n\".format(),file=of)\n",
    "print(\"reg inready;\".format(),file=of)\n",
    "print(\"reg [IN_DATA_LENGHT-1:0]indata;\".format(),file=of)\n",
    "print(\"wire outready;\".format(),file=of)\n",
    "print(\"wire earlyoutready;\".format(),file=of)\n",
    "print(\"wire [OUT_DATA_LENGHT-1:0]outdata;\".format(),file=of)\n",
    "print(\"////////////////instancing wrapping module///////////////////\".format(),file=of)\n",
    "print(\"{} {}(\".format(GeneratedFileName,GeneratedFileName+\"_inst\"),file=of)\n",
    "print(\".clk(aclk),\".format(),file=of)\n",
    "print(\".reset(!aresetn),\".format(),file=of)\n",
    "print(\".enable(enable),\".format(),file=of)\n",
    "print(\".inReady(inready),\".format(),file=of)\n",
    "for j in range (m):\n",
    "    for i in range(n):\n",
    "        print(\".A{}V{}(indata[{}:{}]),\".format( i, j, IN_DATA_LENGHT-((i+j*n)*(inWidth))-1 , IN_DATA_LENGHT-((i+j*n+1)*(inWidth)) ), file=of )\n",
    "for j in range (m):  \n",
    "    for i in range(n):\n",
    "        print(\".B{}V{}(indata[{}:{}]),\".format( i, j, int(IN_DATA_LENGHT/2)-((i+j*n)*(inWidth))-1 , int(IN_DATA_LENGHT/2)-((i+j*n+1)*(inWidth)) ), file=of )\n",
    "print(\".V{}toV{}outReady(outready),\".format(0,n-1),file=of)\n",
    "for j in range (m):\n",
    "    for i in range(n):\n",
    "        print(\".S{}V{}(outdata[{}:{}]),\".format( i, j, OUT_DATA_LENGHT-((i+j*n)*(inWidth))-1   , OUT_DATA_LENGHT-((i+j*n+1)*(inWidth)) ), file=of)\n",
    "print(\".V{}toV{}earlyOutReady(earlyoutready)\".format(0,n),file=of)\n",
    "print(\");\".format(),file=of)"
   ]
  },
  {
   "cell_type": "code",
   "execution_count": 50,
   "metadata": {},
   "outputs": [],
   "source": [
    "#in this cell we will add Axi stream compatability codes to wrapp the generated module in the previeous cell\n",
    "print(\"/////////////////Main body/////////////\".format(),file=of)\n",
    "print(\"always @(posedge aclk)begin\".format(),file=of)\n",
    "print(\" if(aresetn==0)begin\".format(),file=of)\n",
    "print(\"  m_axi_data<=0;\".format(),file=of)\n",
    "print(\"  m_axi_valid<=0;\".format(),file=of)\n",
    "print(\" end\".format(),file=of)\n",
    "print(\" else begin\".format(),file=of)\n",
    "print(\"  if(m_axi_ready==1 && m_axi_valid==1)begin\".format(),file=of)\n",
    "print(\"   m_axi_valid<=0;\".format(),file=of)\n",
    "print(\"  end\".format(),file=of)\n",
    "print(\"  else if(outready==1)begin\".format(),file=of)\n",
    "print(\"   m_axi_valid<=1;\".format(),file=of)\n",
    "print(\"   m_axi_data<=outdata;\".format(),file=of)\n",
    "print(\"  end\".format(),file=of)\n",
    "print(\" end\".format(),file=of)\n",
    "print(\"end\".format(),file=of)\n",
    "print(\"always @(posedge aclk)begin\".format(),file=of)\n",
    "print(\" if(aresetn==0)begin\".format(),file=of)\n",
    "print(\"  s_axi_ready<=1;\".format(),file=of)\n",
    "print(\"  inready<=0;\".format(),file=of)\n",
    "print(\"  indata<=0;\".format(),file=of)\n",
    "print(\" end\".format(),file=of)\n",
    "print(\" else begin\".format(),file=of)\n",
    "print(\"  inready<=0;\".format(),file=of)\n",
    "print(\"  if(s_axi_valid==1 && s_axi_ready==1)begin\".format(),file=of)\n",
    "print(\"   s_axi_ready<=0;\".format(),file=of)\n",
    "print(\"   inready<=1;\".format(),file=of)\n",
    "print(\"   indata<= s_axi_data;\".format(),file=of)\n",
    "print(\"  end\".format(),file=of)\n",
    "print(\"  else if(m_axi_valid==1 && m_axi_ready==1)begin\".format(),file=of)\n",
    "print(\"   s_axi_ready<=1;\".format(),file=of)\n",
    "print(\"  end\".format(),file=of)\n",
    "print(\" end\".format(),file=of)\n",
    "print(\"end\".format(),file=of)\n",
    "print(\"\\nendmodule\",file=of)\n",
    "of.close()"
   ]
  }
 ],
 "metadata": {
  "kernelspec": {
   "display_name": "Python 3",
   "language": "python",
   "name": "python3"
  },
  "language_info": {
   "codemirror_mode": {
    "name": "ipython",
    "version": 3
   },
   "file_extension": ".py",
   "mimetype": "text/x-python",
   "name": "python",
   "nbconvert_exporter": "python",
   "pygments_lexer": "ipython3",
   "version": "3.7.6"
  }
 },
 "nbformat": 4,
 "nbformat_minor": 4
}
