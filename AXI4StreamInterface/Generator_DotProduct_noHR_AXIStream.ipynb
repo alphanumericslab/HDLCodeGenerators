{
 "cells": [
  {
   "cell_type": "code",
   "execution_count": 1,
   "metadata": {},
   "outputs": [],
   "source": [
    "## in this file we use the  DotProduct_noHR_C_V3_7 file to generate verilog code,\n",
    "# which by adding some modifications turn into an AXI_Stream compatabile module."
   ]
  },
  {
   "cell_type": "code",
   "execution_count": 2,
   "metadata": {},
   "outputs": [
    {
     "name": "stdout",
     "output_type": "stream",
     "text": [
      "importing Jupyter notebook from DotProduct_noHR_C_V3_7.ipynb\n",
      "importing Jupyter notebook from DotProduct_Systolic_V1_11.ipynb\n",
      "importing Jupyter notebook from AdderTree_ASm_V1_20.ipynb\n",
      "importing Jupyter notebook from RegisteredNto1Adder_V1_1.ipynb\n"
     ]
    }
   ],
   "source": [
    "import import_ipynb\n",
    "from DotProduct_noHR_C_V3_7 import DotProduct_noHR_C"
   ]
  },
  {
   "cell_type": "code",
   "execution_count": 3,
   "metadata": {},
   "outputs": [
    {
     "data": {
      "text/plain": [
       "'DotProduct_16_noHR_C16_A2'"
      ]
     },
     "execution_count": 3,
     "metadata": {},
     "output_type": "execute_result"
    }
   ],
   "source": [
    "parameters={\n",
    "    \"N\":16,\n",
    "    \"MAMCS\":16,\n",
    "    \"ENABLE_INPUT_REGISTERS\":1,\n",
    "    \"IN_WIDTH\":14,\n",
    "    \"ADDER_SIZE\":2\n",
    "}\n",
    "Print_To_File=1\n",
    "Files_Location=''\n",
    "Is_Top=1\n",
    "modules={}\n",
    "DotProduct_noHR_C(parameters,Print_To_File,Files_Location,Is_Top,modules)"
   ]
  },
  {
   "cell_type": "code",
   "execution_count": null,
   "metadata": {},
   "outputs": [],
   "source": []
  },
  {
   "cell_type": "code",
   "execution_count": null,
   "metadata": {},
   "outputs": [],
   "source": []
  }
 ],
 "metadata": {
  "kernelspec": {
   "display_name": "Python 3",
   "language": "python",
   "name": "python3"
  },
  "language_info": {
   "codemirror_mode": {
    "name": "ipython",
    "version": 3
   },
   "file_extension": ".py",
   "mimetype": "text/x-python",
   "name": "python",
   "nbconvert_exporter": "python",
   "pygments_lexer": "ipython3",
   "version": "3.7.6"
  }
 },
 "nbformat": 4,
 "nbformat_minor": 4
}
