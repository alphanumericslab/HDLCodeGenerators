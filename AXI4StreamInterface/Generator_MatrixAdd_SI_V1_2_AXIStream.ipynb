{
 "cells": [
  {
   "cell_type": "code",
   "execution_count": 52,
   "metadata": {},
   "outputs": [],
   "source": [
    "#uses VectorAdd_#N(_noHR)(_S#noepsE_HRx#hrf)(_NIR, _IR) - v1.1x\n",
    "#uses SItoSoE_#N_HRx#hrf_(NIL, IL)_(NOR, OR) - v1.1x"
   ]
  },
  {
   "cell_type": "code",
   "execution_count": 53,
   "metadata": {},
   "outputs": [],
   "source": [
    "import sys\n",
    "import math\n",
    "import os "
   ]
  },
  {
   "cell_type": "code",
   "execution_count": 54,
   "metadata": {},
   "outputs": [],
   "source": [
    "import import_ipynb\n",
    "from MatrixAdd_SI_V1_2 import MatrixAdd_SI"
   ]
  },
  {
   "cell_type": "code",
   "execution_count": 55,
   "metadata": {},
   "outputs": [
    {
     "name": "stdout",
     "output_type": "stream",
     "text": [
      "ENTER N The number of elements: 10\n",
      "ENTER M: 10\n",
      "ENTER PR: 5\n",
      "ENTER HRR(hardware reuse rate >=2 N<= ): 5\n",
      "ENABLE_INPUT_REGISTERS(empty or 0 to cancel, 1 to enable)?: \n",
      "ENABLE_INPUT_LATCH(empty or 0 to cancel, 1 to enable)?: \n",
      "Enter elements width(bits): \n"
     ]
    }
   ],
   "source": [
    "N = input(\"ENTER N The number of elements: \")\n",
    "M = input(\"ENTER M: \")\n",
    "PR = input(\"ENTER PR: \")\n",
    "HRR = input(\"ENTER HRR(hardware reuse rate >=2 N<= ): \")\n",
    "ENABLE_INPUT_REGISTERS = input(\"ENABLE_INPUT_REGISTERS(empty or 0 to cancel, 1 to enable)?: \")\n",
    "ENABLE_INPUT_LATCH = input(\"ENABLE_INPUT_LATCH(empty or 0 to cancel, 1 to enable)?: \")\n",
    "#IN_WIDTH>=1\n",
    "IN_WIDTH = input(\"Enter elements width(bits): \")"
   ]
  },
  {
   "cell_type": "code",
   "execution_count": 56,
   "metadata": {},
   "outputs": [
    {
     "name": "stdout",
     "output_type": "stream",
     "text": [
      "HRR calculated value: 5\n"
     ]
    }
   ],
   "source": [
    "N=int(N)\n",
    "M=int(M)\n",
    "\n",
    "if not PR:\n",
    "    PR=1\n",
    "else :\n",
    "    PR=int(PR)\n",
    "    \n",
    "if not IN_WIDTH:\n",
    "    IN_WIDTH=10\n",
    "else :\n",
    "    IN_WIDTH=int(IN_WIDTH)\n",
    "\n",
    "OUT_WIDTH=IN_WIDTH+1\n",
    "\n",
    "if not HRR:\n",
    "    HRR = 2\n",
    "else:\n",
    "    HRR = int(HRR)\n",
    "    if HRR<2:\n",
    "        HRR = 2\n",
    "    if HRR>N:\n",
    "        HRR = N\n",
    "        \n",
    "if not ENABLE_INPUT_REGISTERS:\n",
    "    ENABLE_INPUT_REGISTERS = 0\n",
    "else:\n",
    "    ENABLE_INPUT_REGISTERS = int(ENABLE_INPUT_REGISTERS)\n",
    "    \n",
    "if not ENABLE_INPUT_LATCH:\n",
    "    ENABLE_INPUT_LATCH = 0\n",
    "else:\n",
    "    ENABLE_INPUT_LATCH = int(ENABLE_INPUT_LATCH)\n",
    "NAdd = math.ceil(N/HRR);\n",
    "while math.ceil(N/NAdd) != HRR:\n",
    "    HRR -= 1\n",
    "print(\"HRR calculated value: {}\".format(HRR))\n",
    "NE = N - NAdd*(HRR-1)\n",
    "while NE<=0:\n",
    "    NE += NAdd\n",
    "RS=math.ceil(M/PR)   \n",
    "ar=RS*PR-M\n",
    "ME = PR-ar-1\n",
    "lgRS=math.ceil(math.log2(RS))\n",
    "lghrr=math.ceil(math.log2(HRR))\n",
    "parameters={\n",
    "    \"N\":N,\n",
    "    \"M\":M,\n",
    "    \"HRR\":HRR,\n",
    "    \"PR\":PR,\n",
    "    \"ENABLE_INPUT_REGISTERS\":ENABLE_INPUT_REGISTERS,\n",
    "    \"ENABLE_INPUT_LATCH\":ENABLE_INPUT_LATCH,\n",
    "    \"IN_WIDTH\":IN_WIDTH\n",
    "}\n",
    "IN_DATA_LENGHT=PR*2*N*IN_WIDTH\n",
    "OUT_DATA_LENGHT=PR*N*OUT_WIDTH\n",
    "OUT_DATA_LENGHT_HR=PR*NAdd*OUT_WIDTH\n",
    "OUT_DATA_LENGHT_NE= PR*NE*OUT_WIDTH\n",
    "Print_To_File=1\n",
    "Files_Location=\"MatrixAdd_GeneratedVerilogCodes/\"\n",
    "Is_Top=1\n",
    "modules={}\n",
    "GeneratedFileName=MatrixAdd_SI(parameters,Print_To_File,Files_Location,Is_Top,modules)\n",
    "Files_Location+=GeneratedFileName+\"/\"\n",
    "wrapperModuleName=GeneratedFileName+\"_AXIStream\"\n",
    "of=open(Files_Location+wrapperModuleName+\".v\", 'w+')"
   ]
  },
  {
   "cell_type": "code",
   "execution_count": null,
   "metadata": {},
   "outputs": [],
   "source": []
  },
  {
   "cell_type": "code",
   "execution_count": 57,
   "metadata": {},
   "outputs": [],
   "source": [
    "# in this cell we will use the generated file and instanciate it in our new AXI wrapper module.\n",
    "print(\"`timescale 1ns / 1ps\\n\",file=of)\n",
    "print(\"module \"+wrapperModuleName,file=of)\n",
    "print(\"#(\",file=of)\n",
    "print(\"parameter IN_DATA_LENGHT= {}, \".format(IN_DATA_LENGHT),file=of)\n",
    "print(\"parameter OUT_DATA_LENGHT= {}, \".format(OUT_DATA_LENGHT),file=of)\n",
    "print(\"parameter OUT_DATA_LENGHT_HR= {}\".format(OUT_DATA_LENGHT_HR),file=of)\n",
    "print(\")( \\n\",file=of)\n",
    "print(\"input aclk,\".format(),file=of)\n",
    "print(\"input aresetn,\".format(),file=of)\n",
    "print(\"input enable,\".format(),file=of)\n",
    "print(\"input [IN_DATA_LENGHT-1:0]s_axi_data,\".format(),file=of)\n",
    "print(\"input s_axi_valid,\".format(),file=of)\n",
    "print(\"input m_axi_ready,\".format(),file=of)\n",
    "print(\"output reg[OUT_DATA_LENGHT-1:0]m_axi_data,\".format(),file=of)\n",
    "print(\"output reg m_axi_valid,\".format(),file=of)\n",
    "print(\"output reg s_axi_ready\".format(),file=of)\n",
    "print(\");\\n\".format(),file=of) \n",
    "print(\"reg inready;\".format(),file=of)\n",
    "print(\"reg [IN_DATA_LENGHT-1:0]indata;\".format(),file=of)\n",
    "print(\"reg [{}:{}] HR_Counter\".format(lghrr-1,0),file=of)# to be filled\n",
    "print(\"reg outready;\".format(),file=of)#changed to register for always block.\n",
    "print(\"wire HR_outready;\".format(),file=of)\n",
    "print(\"wire earlyoutready;\".format(),file=of)\n",
    "print(\"wire [OUT_DATA_LENGHT-1:0]outdata;\".format(),file=of)\n",
    "print(\"wire [OUT_DATA_LENGHT_HR-1:0]HR_outdata;\".format(),file=of)"
   ]
  },
  {
   "cell_type": "code",
   "execution_count": 58,
   "metadata": {},
   "outputs": [],
   "source": [
    "print(\"////////////////instancing wrapping module///////////////////\".format(),file=of)\n",
    "print(\"{} {}(\".format(GeneratedFileName,GeneratedFileName+\"_inst\"),file=of)\n",
    "print(\".clk(aclk),\".format(),file=of)\n",
    "print(\".reset(!aresetn),\".format(),file=of)\n",
    "print(\".enable(enable),\".format(),file=of)\n",
    "print(\".inReady(inready),\".format(),file=of)\n",
    "for j in range (PR):\n",
    "    for i in range (N):\n",
    "        print(\".A{}V{}(indata[{}:{}]),\".format( i, j, IN_DATA_LENGHT-((i+j*N)*(IN_WIDTH))-1 , IN_DATA_LENGHT-((i+j*N+1)*(IN_WIDTH)) ), file=of )\n",
    "for j in range (PR):        \n",
    "    for i in range (N):    \n",
    "        print(\".B{}V{}(indata[{}:{}]),\".format( i, j, int(IN_DATA_LENGHT/2)-((i+j*N)*(IN_WIDTH))-1 , int(IN_DATA_LENGHT/2)-((i+j*N+1)*(IN_WIDTH)) ), file=of )\n",
    "if ME==0:\n",
    "    st1=\".V0\"\n",
    "else:\n",
    "    st1=\".V0toV{}\".format(ME)\n",
    "if NE==1:\n",
    "    print(st1+\"S0outReady(HR_outready),\", file=of)\n",
    "else:\n",
    "    print(st1+\"S0toS{}outReady(HR_outready),\".format(NE-1), file=of)\n",
    "for j in range(PR):\n",
    "    for i in range (NAdd):\n",
    "        print(\".S{}V{}(HR_outdata[{}:{}]),\".format( i, j, OUT_DATA_LENGHT_HR-((i+j*NAdd)*OUT_WIDTH+1)  , OUT_DATA_LENGHT_HR-(i+j*NAdd+1)*OUT_WIDTH), file=of)\n",
    "#print(\".earlyOutReady(earlyoutready)\".format(),file=of)\n",
    "print(\");\".format(),file=of)"
   ]
  },
  {
   "cell_type": "code",
   "execution_count": 59,
   "metadata": {},
   "outputs": [],
   "source": [
    "#in this cell we will add Axi stream compatability codes to wrapp the generated module in the previeous cell\n",
    "print(\"/////////////////Main body/////////////\".format(),file=of)\n",
    "print(\"always @(posedge aclk)begin\".format(),file=of)\n",
    "print(\" if(aresetn==0)begin\".format(),file=of)\n",
    "print(\"  m_axi_data<=0;\".format(),file=of)\n",
    "print(\"  m_axi_valid<=0;\".format(),file=of)\n",
    "print(\" end\".format(),file=of)\n",
    "print(\" else begin\".format(),file=of)\n",
    "print(\"  if(m_axi_ready==1 && m_axi_valid==1)begin\".format(),file=of)\n",
    "print(\"   m_axi_valid<=0;\".format(),file=of)\n",
    "print(\"  end\".format(),file=of)\n",
    "print(\"  else if(outready==1)begin\".format(),file=of)\n",
    "print(\"   m_axi_valid<=1;\".format(),file=of)\n",
    "print(\"   m_axi_data<=outdata;\".format(),file=of)\n",
    "print(\"  end\".format(),file=of)\n",
    "print(\" end\".format(),file=of)\n",
    "print(\"end\".format(),file=of)\n",
    "print(\"always @(posedge aclk)begin\".format(),file=of)\n",
    "print(\" if(aresetn==0)begin\".format(),file=of)\n",
    "print(\"  s_axi_ready<=1;\".format(),file=of)\n",
    "print(\"  inready<=0;\".format(),file=of)\n",
    "print(\"  indata<=0;\".format(),file=of)\n",
    "print(\" end\".format(),file=of)\n",
    "print(\" else begin\".format(),file=of)\n",
    "print(\"  inready<=0;\".format(),file=of)\n",
    "print(\"  if(s_axi_valid==1 && s_axi_ready==1)begin\".format(),file=of)\n",
    "print(\"   s_axi_ready<=0;\".format(),file=of)\n",
    "print(\"   inready<=1;\".format(),file=of)\n",
    "print(\"   indata<= s_axi_data;\".format(),file=of)\n",
    "print(\"  end\".format(),file=of)\n",
    "print(\"  else if(m_axi_valid==1 && m_axi_ready==1)begin\".format(),file=of)\n",
    "print(\"   s_axi_ready<=1;\".format(),file=of)\n",
    "print(\"  end\".format(),file=of)\n",
    "print(\" end\".format(),file=of)\n",
    "print(\"end\".format(),file=of)"
   ]
  },
  {
   "cell_type": "code",
   "execution_count": 60,
   "metadata": {},
   "outputs": [],
   "source": [
    "#in this part we add extra blocks to handle Hardware resuasability in SI mode\n",
    "\n",
    "print(\"always @(posedge aclk)begin\".format(),file=of)\n",
    "print(\" if(aresetn==0)begin\".format(),file=of)\n",
    "print(\"  HR_Counter<=0;\".format(),file=of)\n",
    "print(\" end\".format(),file=of)\n",
    "print(\" else begin\".format(),file=of)\n",
    "print(\"  if(HR_outready==1 && HR_Counter=={})begin\".format(HRR-1),file=of)\n",
    "print(\"   HR_Counter<=0;\".format(),file=of)\n",
    "print(\"   outdata[{}-HR_Counter*{}-1-:{}]<=HR_outdata[{}-:{}]\".format(OUT_DATA_LENGHT, OUT_DATA_LENGHT_HR, OUT_DATA_LENGHT_NE, OUT_DATA_LENGHT_HR-1,OUT_DATA_LENGHT_NE),file=of)\n",
    "print(\"  end\".format(),file=of)\n",
    "print(\"  else if(HR_outready)begin\".format(),file=of)\n",
    "print(\"   HR_Counter<=HR_Counter+1\".format(),file=of)\n",
    "print(\"   outdata[{}-HR_Counter*{}-1-:{}]<=HR_outdata\".format(OUT_DATA_LENGHT,OUT_DATA_LENGHT_HR,OUT_DATA_LENGHT_HR),file=of)\n",
    "print(\"  end\".format(),file=of)\n",
    "print(\" end\".format(),file=of)\n",
    "print(\"end\".format(),file=of)\n",
    "\n",
    "print(\"always @(*)begin\".format(),file=of)\n",
    "print(\" if(HR_outready==1 && HR_Counter=={})begin\".format(HRR-1),file=of)\n",
    "print(\"  outready<=1\".format(),file=of)    \n",
    "print(\" end\".format(),file=of)    \n",
    "print(\" else begin\".format(),file=of)    \n",
    "print(\"  outready<=0\".format(),file=of)\n",
    "print(\" end\".format(),file=of)    \n",
    "print(\"end\".format(),file=of)\n",
    "print(\"\\nendmodule\",file=of)\n",
    "of.close()"
   ]
  },
  {
   "cell_type": "code",
   "execution_count": null,
   "metadata": {},
   "outputs": [],
   "source": []
  }
 ],
 "metadata": {
  "kernelspec": {
   "display_name": "Python 3",
   "language": "python",
   "name": "python3"
  },
  "language_info": {
   "codemirror_mode": {
    "name": "ipython",
    "version": 3
   },
   "file_extension": ".py",
   "mimetype": "text/x-python",
   "name": "python",
   "nbconvert_exporter": "python",
   "pygments_lexer": "ipython3",
   "version": "3.7.6"
  }
 },
 "nbformat": 4,
 "nbformat_minor": 1
}
