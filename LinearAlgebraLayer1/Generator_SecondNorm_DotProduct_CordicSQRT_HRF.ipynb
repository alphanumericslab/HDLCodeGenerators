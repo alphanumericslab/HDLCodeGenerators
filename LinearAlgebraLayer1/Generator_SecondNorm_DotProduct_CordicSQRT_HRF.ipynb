{
 "cells": [
  {
   "cell_type": "code",
   "execution_count": null,
   "metadata": {},
   "outputs": [],
   "source": [
    "#this generator uses Generator_fixedValueMultiplier & Genrator_Dotproduct_SI_HR_AXIStream & CordicCoreVerilogmodule"
   ]
  },
  {
   "cell_type": "code",
   "execution_count": 24,
   "metadata": {
    "slideshow": {
     "slide_type": "notes"
    }
   },
   "outputs": [],
   "source": [
    "import math\n",
    "import os\n",
    "import import_ipynb"
   ]
  },
  {
   "cell_type": "code",
   "execution_count": 28,
   "metadata": {},
   "outputs": [
    {
     "name": "stdout",
     "output_type": "stream",
     "text": [
      "input width:(empty for 10):20\n",
      "\n",
      "\n",
      "compensation scale after 20 iteration: 1.2051361668951923\n"
     ]
    }
   ],
   "source": [
    "N=input('enter N, number of elements(empty for 2): ')\n",
    "if not N:\n",
    "    N=2\n",
    "else:\n",
    "    N= int(N)\n",
    "IN_WIDTH=input('input width(empty for 10): ')\n",
    "if not IN_WIDTH:\n",
    "    IN_WIDTH = 10\n",
    "else:\n",
    "    IN_WIDTH = int(IN_WIDTH)\n",
    "HRF=input('enter hardware reuse factor as a percent(HRF, emptyfor no hardware reuse):')\n",
    "\n",
    "\n",
    "numIteration = IN_WIDTH                #for n bit resolution in output we need to do n iterations of cordic on input\n",
    "cordicGain=1\n",
    "for i in range (n):\n",
    "    cordicGain*=math.sqrt(1-pow(2,-2*(i+1)))\n",
    " #   print('cordic gain after {} iteration: {}'.format(i+1,cordicGain))\n",
    "print('\\n')\n",
    "compensationScale=1/cordicGain\n",
    "print('compensation scale after {} iteration: {}'.format(numIteration,compensationScale))"
   ]
  },
  {
   "cell_type": "code",
   "execution_count": 26,
   "metadata": {},
   "outputs": [],
   "source": [
    "Files_Location=\"secondNorm_GeneratedCodes/\"\n",
    "Print_To_File=1\n",
    "ModuleName='secondNorm'\n",
    "ModuleName+=''\n",
    "Is_Top=1\n",
    "if Is_Top:\n",
    "    Files_Location += ModuleName+\"/\"\n",
    "    if not os.path.exists(Files_Location):\n",
    "        os.makedirs(Files_Location)\n",
    "\n",
    "if Print_To_File<=0:\n",
    "    of = sys.stdout\n",
    "else:\n",
    "    of = open(Files_Location+ModuleName+\".v\", 'w+')\n",
    "print(\"`timescale {}ns / {}ps\".format(1,1),file=of)\n",
    "print(\"the compensation scale for this module is: {}\".format(compensationScale),file=of)\n",
    "print(\"latency(clocks) of this module is: {}\".format(numIteration),file=of)\n",
    "print(\"hardware reuse factor: {100%} \",file=of)\n"
   ]
  },
  {
   "cell_type": "code",
   "execution_count": 27,
   "metadata": {},
   "outputs": [],
   "source": [
    "of.close()"
   ]
  }
 ],
 "metadata": {
  "kernelspec": {
   "display_name": "Python 3",
   "language": "python",
   "name": "python3"
  },
  "language_info": {
   "codemirror_mode": {
    "name": "ipython",
    "version": 3
   },
   "file_extension": ".py",
   "mimetype": "text/x-python",
   "name": "python",
   "nbconvert_exporter": "python",
   "pygments_lexer": "ipython3",
   "version": "3.7.6"
  }
 },
 "nbformat": 4,
 "nbformat_minor": 4
}
