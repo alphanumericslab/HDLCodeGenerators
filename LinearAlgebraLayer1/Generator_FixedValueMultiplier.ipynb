{
 "cells": [
  {
   "cell_type": "code",
   "execution_count": null,
   "metadata": {},
   "outputs": [],
   "source": [
    "#this generator produce a fixed scalar multiplication module with desired value and width reperesented in fixed point.\n",
    "#it might use addertree for the addition part "
   ]
  },
  {
   "cell_type": "code",
   "execution_count": 21,
   "metadata": {},
   "outputs": [],
   "source": [
    "import math\n",
    "import os\n",
    "from FixedPoint import FXfamily, FXnum\n",
    "#from FixedPoint import FixedPoint"
   ]
  },
  {
   "cell_type": "code",
   "execution_count": 112,
   "metadata": {},
   "outputs": [
    {
     "name": "stdout",
     "output_type": "stream",
     "text": [
      "min value in selected range is: -4096 \n",
      "max value in selected range is: 4095\n",
      "scale value in Q3.10 is: 2.014 (original vlaue: 2.015451)\n",
      "binary form of fixedpoint scale value: 010.0000001111\n",
      "LSA by: 1\n",
      "RSA by: 7\n",
      "RSA by: 8\n",
      "RSA by: 9\n",
      "RSA by: 10\n",
      "number of shifted results is: 5\n",
      "number of adder needed is: 3\n"
     ]
    }
   ],
   "source": [
    "scale=2.015451\n",
    "fractionPartLen=10\n",
    "integerPartLen=3\n",
    "\n",
    "wordLen=fractionPartLen+integerPartLen\n",
    "maxrangenum=pow(2,wordLen-1)-1\n",
    "minrangenum=-pow(2,wordLen-1)\n",
    "print('min value in selected range is: {} \\nmax value in selected range is: {}'.format(minrangenum,maxrangenum))\n",
    "#print('min value in selected range is: {} \\n max value in selected range is: {}'.format(FXnum(minrangenum,Q_M_N)),FXnum(maxrangenum,Q_M_N))\n",
    "Q_M_N = FXfamily(fractionPartLen,integerPartLen)\n",
    "fPValue=FXnum(scale,Q_M_N)\n",
    "fixedPointScale=fPValue.toBinaryString()\n",
    "numOfShiftResult=0\n",
    "print('scale value in Q{}.{} is: {} (original vlaue: {})\\nbinary form of fixedpoint scale value: {}'.format(integerPartLen,fractionPartLen,fPValue,scale,fixedPointScale))\n",
    "for i in range (len(fixedPointScale)):\n",
    "    if(i <= integerPartLen-1 and fixedPointScale[i]=='1'):\n",
    "        print('LSA by: {}'.format(integerPartLen-i-1))#this line will be changed by proper code to genearte shifter in verilog code\n",
    "        numOfShiftResult+=1\n",
    "    elif(i > integerPartLen and fixedPointScale[i]=='1'):\n",
    "        print('RSA by: {}'.format(i-integerPartLen))#this line will be changed by proper code to genearte shifter in verilog code\n",
    "        numOfShiftResult+=1\n",
    "#numOfAddition=log2 numofshiftresult\n",
    "print('number of shifted results is: {}'.format(numOfShiftResult))\n",
    "numOfAddition=math.ceil(math.log(numOfShiftResult,2))\n",
    "print('number of adder needed is: {}'.format(numOfAddition))"
   ]
  },
  {
   "cell_type": "code",
   "execution_count": null,
   "metadata": {},
   "outputs": [],
   "source": [
    "modulename"
   ]
  },
  {
   "cell_type": "code",
   "execution_count": null,
   "metadata": {},
   "outputs": [],
   "source": []
  },
  {
   "cell_type": "code",
   "execution_count": null,
   "metadata": {},
   "outputs": [],
   "source": []
  },
  {
   "cell_type": "code",
   "execution_count": null,
   "metadata": {},
   "outputs": [],
   "source": []
  },
  {
   "cell_type": "code",
   "execution_count": null,
   "metadata": {},
   "outputs": [],
   "source": []
  }
 ],
 "metadata": {
  "kernelspec": {
   "display_name": "Python 3",
   "language": "python",
   "name": "python3"
  },
  "language_info": {
   "codemirror_mode": {
    "name": "ipython",
    "version": 3
   },
   "file_extension": ".py",
   "mimetype": "text/x-python",
   "name": "python",
   "nbconvert_exporter": "python",
   "pygments_lexer": "ipython3",
   "version": "3.7.6"
  }
 },
 "nbformat": 4,
 "nbformat_minor": 4
}
